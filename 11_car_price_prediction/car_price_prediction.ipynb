{
 "cells": [
  {
   "cell_type": "markdown",
   "metadata": {},
   "source": [
    "# Определение стоимости автомобилей"
   ]
  },
  {
   "cell_type": "markdown",
   "metadata": {},
   "source": [
    "Сервис по продаже автомобилей с пробегом «Не бит, не крашен» разрабатывает приложение для привлечения новых клиентов. В нём можно быстро узнать рыночную стоимость своего автомобиля. В вашем распоряжении исторические данные: технические характеристики, комплектации и цены автомобилей. Вам нужно построить модель для определения стоимости. \n",
    "\n",
    "Заказчику важны:\n",
    "\n",
    "- качество предсказания;\n",
    "- скорость предсказания;\n",
    "- время обучения."
   ]
  },
  {
   "cell_type": "markdown",
   "metadata": {},
   "source": [
    "**Признаки**\n",
    "- DateCrawled — дата скачивания анкеты из базы\n",
    "- VehicleType — тип автомобильного кузова\n",
    "- RegistrationYear — год регистрации автомобиля\n",
    "- Gearbox — тип коробки передач\n",
    "- Power — мощность (л. с.)\n",
    "- Model — модель автомобиля\n",
    "- Kilometer — пробег (км)\n",
    "- RegistrationMonth — месяц регистрации автомобиля\n",
    "- FuelType — тип топлива\n",
    "- Brand — марка автомобиля\n",
    "- Repaired — была машина в ремонте или нет\n",
    "- DateCreated — дата создания анкеты\n",
    "- NumberOfPictures — количество фотографий автомобиля\n",
    "- PostalCode — почтовый индекс владельца анкеты (пользователя)\n",
    "- LastSeen — дата последней активности пользователя\n",
    "\n",
    "**Целевой признак**\n",
    "\n",
    "- Price — цена (евро)"
   ]
  },
  {
   "cell_type": "markdown",
   "metadata": {},
   "source": [
    "## Подготовка данных"
   ]
  },
  {
   "cell_type": "code",
   "execution_count": 1,
   "metadata": {},
   "outputs": [],
   "source": [
    "import pandas as pd\n",
    "import numpy as np\n",
    "import seaborn as sns\n",
    "import matplotlib.pyplot as plt\n",
    "import time\n",
    "from sklearn.metrics import make_scorer\n",
    "from sklearn.preprocessing import OrdinalEncoder \n",
    "from sklearn.model_selection import train_test_split\n",
    "from sklearn.preprocessing import LabelEncoder \n",
    "from sklearn.linear_model import LinearRegression\n",
    "from catboost import CatBoostRegressor\n",
    "from lightgbm import LGBMRegressor\n",
    "from sklearn.metrics import mean_squared_error as mse\n",
    "from sklearn.preprocessing import StandardScaler\n",
    "from sklearn.model_selection import GridSearchCV\n",
    "import warnings\n",
    "warnings.filterwarnings(\"ignore\")"
   ]
  },
  {
   "cell_type": "code",
   "execution_count": 2,
   "metadata": {},
   "outputs": [],
   "source": [
    "#Напишем функцию для получения информации о датасете\n",
    "\n",
    "def status(data):\n",
    "\n",
    "    print(data.head())\n",
    "    print()\n",
    "    print('Информация о датасете: ')\n",
    "    print(data.info())\n",
    "    print('------------------------')\n",
    "    print('Количество пропусков в данных')\n",
    "    print(data.isna().sum())\n",
    "    print('------------------------')\n",
    "    print('Количество дупликатов в данных:', data.duplicated().sum())\n",
    "    print('------------------------')\n",
    "    print(data.describe())"
   ]
  },
  {
   "cell_type": "code",
   "execution_count": 3,
   "metadata": {},
   "outputs": [],
   "source": [
    "df = pd.read_csv('/datasets/autos.csv')"
   ]
  },
  {
   "cell_type": "code",
   "execution_count": 4,
   "metadata": {},
   "outputs": [
    {
     "name": "stdout",
     "output_type": "stream",
     "text": [
      "           DateCrawled  Price VehicleType  RegistrationYear Gearbox  Power  \\\n",
      "0  2016-03-24 11:52:17    480         NaN              1993  manual      0   \n",
      "1  2016-03-24 10:58:45  18300       coupe              2011  manual    190   \n",
      "2  2016-03-14 12:52:21   9800         suv              2004    auto    163   \n",
      "3  2016-03-17 16:54:04   1500       small              2001  manual     75   \n",
      "4  2016-03-31 17:25:20   3600       small              2008  manual     69   \n",
      "\n",
      "   Model  Kilometer  RegistrationMonth  FuelType       Brand Repaired  \\\n",
      "0   golf     150000                  0    petrol  volkswagen      NaN   \n",
      "1    NaN     125000                  5  gasoline        audi      yes   \n",
      "2  grand     125000                  8  gasoline        jeep      NaN   \n",
      "3   golf     150000                  6    petrol  volkswagen       no   \n",
      "4  fabia      90000                  7  gasoline       skoda       no   \n",
      "\n",
      "           DateCreated  NumberOfPictures  PostalCode             LastSeen  \n",
      "0  2016-03-24 00:00:00                 0       70435  2016-04-07 03:16:57  \n",
      "1  2016-03-24 00:00:00                 0       66954  2016-04-07 01:46:50  \n",
      "2  2016-03-14 00:00:00                 0       90480  2016-04-05 12:47:46  \n",
      "3  2016-03-17 00:00:00                 0       91074  2016-03-17 17:40:17  \n",
      "4  2016-03-31 00:00:00                 0       60437  2016-04-06 10:17:21  \n",
      "\n",
      "Информация о датасете: \n",
      "<class 'pandas.core.frame.DataFrame'>\n",
      "RangeIndex: 354369 entries, 0 to 354368\n",
      "Data columns (total 16 columns):\n",
      " #   Column             Non-Null Count   Dtype \n",
      "---  ------             --------------   ----- \n",
      " 0   DateCrawled        354369 non-null  object\n",
      " 1   Price              354369 non-null  int64 \n",
      " 2   VehicleType        316879 non-null  object\n",
      " 3   RegistrationYear   354369 non-null  int64 \n",
      " 4   Gearbox            334536 non-null  object\n",
      " 5   Power              354369 non-null  int64 \n",
      " 6   Model              334664 non-null  object\n",
      " 7   Kilometer          354369 non-null  int64 \n",
      " 8   RegistrationMonth  354369 non-null  int64 \n",
      " 9   FuelType           321474 non-null  object\n",
      " 10  Brand              354369 non-null  object\n",
      " 11  Repaired           283215 non-null  object\n",
      " 12  DateCreated        354369 non-null  object\n",
      " 13  NumberOfPictures   354369 non-null  int64 \n",
      " 14  PostalCode         354369 non-null  int64 \n",
      " 15  LastSeen           354369 non-null  object\n",
      "dtypes: int64(7), object(9)\n",
      "memory usage: 43.3+ MB\n",
      "None\n",
      "------------------------\n",
      "Количество пропусков в данных\n",
      "DateCrawled              0\n",
      "Price                    0\n",
      "VehicleType          37490\n",
      "RegistrationYear         0\n",
      "Gearbox              19833\n",
      "Power                    0\n",
      "Model                19705\n",
      "Kilometer                0\n",
      "RegistrationMonth        0\n",
      "FuelType             32895\n",
      "Brand                    0\n",
      "Repaired             71154\n",
      "DateCreated              0\n",
      "NumberOfPictures         0\n",
      "PostalCode               0\n",
      "LastSeen                 0\n",
      "dtype: int64\n",
      "------------------------\n",
      "Количество дупликатов в данных: 4\n",
      "------------------------\n",
      "               Price  RegistrationYear          Power      Kilometer  \\\n",
      "count  354369.000000     354369.000000  354369.000000  354369.000000   \n",
      "mean     4416.656776       2004.234448     110.094337  128211.172535   \n",
      "std      4514.158514         90.227958     189.850405   37905.341530   \n",
      "min         0.000000       1000.000000       0.000000    5000.000000   \n",
      "25%      1050.000000       1999.000000      69.000000  125000.000000   \n",
      "50%      2700.000000       2003.000000     105.000000  150000.000000   \n",
      "75%      6400.000000       2008.000000     143.000000  150000.000000   \n",
      "max     20000.000000       9999.000000   20000.000000  150000.000000   \n",
      "\n",
      "       RegistrationMonth  NumberOfPictures     PostalCode  \n",
      "count      354369.000000          354369.0  354369.000000  \n",
      "mean            5.714645               0.0   50508.689087  \n",
      "std             3.726421               0.0   25783.096248  \n",
      "min             0.000000               0.0    1067.000000  \n",
      "25%             3.000000               0.0   30165.000000  \n",
      "50%             6.000000               0.0   49413.000000  \n",
      "75%             9.000000               0.0   71083.000000  \n",
      "max            12.000000               0.0   99998.000000  \n"
     ]
    }
   ],
   "source": [
    "status(df)"
   ]
  },
  {
   "cell_type": "markdown",
   "metadata": {},
   "source": [
    "Необходимо:\n",
    " - привести название столбцов к нижнему регистру\n",
    " - удалить удалить столбцы которые будут не нужны для обучения модели.\n",
    " - удалить дубликаты\n",
    " - заполнить пропуски в столбце 'Repaired' на значение 'no' т.к скорее всего пропуск означает что автомобиль не ремонтировался"
   ]
  },
  {
   "cell_type": "code",
   "execution_count": 5,
   "metadata": {},
   "outputs": [
    {
     "data": {
      "text/plain": [
       "2014-03-10 00:00:00        1\n",
       "2015-03-20 00:00:00        1\n",
       "2015-06-18 00:00:00        1\n",
       "2015-08-07 00:00:00        1\n",
       "2015-08-10 00:00:00        1\n",
       "                       ...  \n",
       "2016-04-03 00:00:00    13719\n",
       "2016-04-04 00:00:00    13317\n",
       "2016-04-05 00:00:00     4104\n",
       "2016-04-06 00:00:00     1105\n",
       "2016-04-07 00:00:00      549\n",
       "Name: DateCreated, Length: 109, dtype: int64"
      ]
     },
     "execution_count": 5,
     "metadata": {},
     "output_type": "execute_result"
    }
   ],
   "source": [
    "df['DateCreated'].value_counts().sort_index()"
   ]
  },
  {
   "cell_type": "code",
   "execution_count": 6,
   "metadata": {},
   "outputs": [],
   "source": [
    "# приведем название столбцов к нижнему регистру\n",
    "df.columns = df.columns.str.lower()"
   ]
  },
  {
   "cell_type": "code",
   "execution_count": 7,
   "metadata": {},
   "outputs": [],
   "source": [
    "df_before = df.copy()"
   ]
  },
  {
   "cell_type": "code",
   "execution_count": 8,
   "metadata": {},
   "outputs": [],
   "source": [
    "# удалим лишние столбцы не нужные для обучения модели\n",
    "df = df.drop(['lastseen', 'datecrawled', 'datecreated', 'numberofpictures', 'postalcode'], axis=1)"
   ]
  },
  {
   "cell_type": "code",
   "execution_count": 9,
   "metadata": {},
   "outputs": [
    {
     "data": {
      "text/plain": [
       "0"
      ]
     },
     "execution_count": 9,
     "metadata": {},
     "output_type": "execute_result"
    }
   ],
   "source": [
    "# удалим дубликаты\n",
    "df = df.drop_duplicates()\n",
    "df.duplicated().sum()"
   ]
  },
  {
   "cell_type": "code",
   "execution_count": 10,
   "metadata": {},
   "outputs": [
    {
     "data": {
      "text/plain": [
       "price                    0\n",
       "vehicletype          35249\n",
       "registrationyear         0\n",
       "gearbox              17578\n",
       "power                    0\n",
       "model                18532\n",
       "kilometer                0\n",
       "registrationmonth        0\n",
       "fueltype             31122\n",
       "brand                    0\n",
       "repaired                 0\n",
       "dtype: int64"
      ]
     },
     "execution_count": 10,
     "metadata": {},
     "output_type": "execute_result"
    }
   ],
   "source": [
    "# заполним пропуски в столбце 'repaired'\n",
    "df['repaired'] = df['repaired'].fillna('no')\n",
    "df.isna().sum()"
   ]
  },
  {
   "cell_type": "markdown",
   "metadata": {},
   "source": [
    "Проверим признаки отдельно признако отдельно"
   ]
  },
  {
   "cell_type": "code",
   "execution_count": 11,
   "metadata": {},
   "outputs": [
    {
     "data": {
      "text/plain": [
       "<AxesSubplot:>"
      ]
     },
     "execution_count": 11,
     "metadata": {},
     "output_type": "execute_result"
    },
    {
     "data": {
      "image/png": "[encoded data removed]",
      "text/plain": [
       "<Figure size 864x504 with 1 Axes>"
      ]
     },
     "metadata": {
      "needs_background": "light"
     },
     "output_type": "display_data"
    }
   ],
   "source": [
    "df['price'].hist(bins=100,range=(0,23000),figsize = (12,7))"
   ]
  },
  {
   "cell_type": "code",
   "execution_count": 12,
   "metadata": {},
   "outputs": [
    {
     "data": {
      "text/plain": [
       "<AxesSubplot:>"
      ]
     },
     "execution_count": 12,
     "metadata": {},
     "output_type": "execute_result"
    },
    {
     "data": {
      "image/png": "[encoded data removed]",
      "text/plain": [
       "<Figure size 864x504 with 1 Axes>"
      ]
     },
     "metadata": {
      "needs_background": "light"
     },
     "output_type": "display_data"
    }
   ],
   "source": [
    "df[df['price']<100]['price'].hist(bins = 30, figsize = (12,7))"
   ]
  },
  {
   "cell_type": "markdown",
   "metadata": {},
   "source": [
    "Цена 1 евро невозможна и эти данные будут меняшь обучению. Удалим их."
   ]
  },
  {
   "cell_type": "code",
   "execution_count": 13,
   "metadata": {},
   "outputs": [],
   "source": [
    "df = df[df['price']>1]"
   ]
  },
  {
   "cell_type": "code",
   "execution_count": 14,
   "metadata": {},
   "outputs": [
    {
     "data": {
      "image/png": "[encoded data removed]",
      "text/plain": [
       "<Figure size 720x720 with 1 Axes>"
      ]
     },
     "metadata": {
      "needs_background": "light"
     },
     "output_type": "display_data"
    }
   ],
   "source": [
    "plot_by_registrationyear = df.boxplot('registrationyear',figsize=(10,10))"
   ]
  },
  {
   "cell_type": "code",
   "execution_count": 15,
   "metadata": {},
   "outputs": [
    {
     "data": {
      "text/plain": [
       "2014-03-10 00:00:00        1\n",
       "2015-03-20 00:00:00        1\n",
       "2015-06-18 00:00:00        1\n",
       "2015-08-07 00:00:00        1\n",
       "2015-08-10 00:00:00        1\n",
       "                       ...  \n",
       "2016-04-03 00:00:00    13719\n",
       "2016-04-04 00:00:00    13317\n",
       "2016-04-05 00:00:00     4104\n",
       "2016-04-06 00:00:00     1105\n",
       "2016-04-07 00:00:00      549\n",
       "Name: datecreated, Length: 109, dtype: int64"
      ]
     },
     "execution_count": 15,
     "metadata": {},
     "output_type": "execute_result"
    }
   ],
   "source": [
    "#Проверим какие значения могут быть допустимы для нашего датасета. Год регистрации автомобиля не может быть больше публикации объявления\n",
    "df_before['datecreated'].value_counts().sort_index()"
   ]
  },
  {
   "cell_type": "code",
   "execution_count": 16,
   "metadata": {},
   "outputs": [
    {
     "data": {
      "image/png": "[encoded data removed]",
      "text/plain": [
       "<Figure size 720x720 with 1 Axes>"
      ]
     },
     "metadata": {
      "needs_background": "light"
     },
     "output_type": "display_data"
    }
   ],
   "source": [
    "#Обрежем данные по году без выбросов.\n",
    "df = df[(df['registrationyear']>1960) & (df['registrationyear']<2016)]\n",
    "plot_by_registrationyear = df.boxplot('registrationyear',figsize=(10,10))"
   ]
  },
  {
   "cell_type": "code",
   "execution_count": 17,
   "metadata": {},
   "outputs": [
    {
     "data": {
      "text/plain": [
       "<AxesSubplot:>"
      ]
     },
     "execution_count": 17,
     "metadata": {},
     "output_type": "execute_result"
    },
    {
     "data": {
      "image/png": "[encoded data removed]",
      "text/plain": [
       "<Figure size 864x504 with 1 Axes>"
      ]
     },
     "metadata": {
      "needs_background": "light"
     },
     "output_type": "display_data"
    }
   ],
   "source": [
    "df[df['power']<100]['power'].hist(bins = 30, figsize = (12,7))"
   ]
  },
  {
   "cell_type": "code",
   "execution_count": 18,
   "metadata": {},
   "outputs": [
    {
     "data": {
      "text/plain": [
       "0        27471\n",
       "1           21\n",
       "2            8\n",
       "3            8\n",
       "4           26\n",
       "         ...  \n",
       "17932        1\n",
       "19208        1\n",
       "19211        1\n",
       "19312        1\n",
       "20000        1\n",
       "Name: power, Length: 669, dtype: int64"
      ]
     },
     "execution_count": 18,
     "metadata": {},
     "output_type": "execute_result"
    }
   ],
   "source": [
    "df['power'].value_counts().sort_index()"
   ]
  },
  {
   "cell_type": "code",
   "execution_count": 19,
   "metadata": {},
   "outputs": [
    {
     "data": {
      "image/png": "[encoded data removed]",
      "text/plain": [
       "<Figure size 720x720 with 1 Axes>"
      ]
     },
     "metadata": {
      "needs_background": "light"
     },
     "output_type": "display_data"
    }
   ],
   "source": [
    "plot_by_power = df.boxplot('power',figsize=(10,10))"
   ]
  },
  {
   "cell_type": "code",
   "execution_count": 20,
   "metadata": {},
   "outputs": [
    {
     "data": {
      "image/png": "[encoded data removed]",
      "text/plain": [
       "<Figure size 720x720 with 1 Axes>"
      ]
     },
     "metadata": {
      "needs_background": "light"
     },
     "output_type": "display_data"
    }
   ],
   "source": [
    "#удалим выбросы и оставим значения исходя из логики что серийных автомобилей более 1300 л.с не бывает.Так же удалим выбросы на нижней границе, автомобилей \n",
    "df = df[(df['power']>10) & (df['power']<1300)]\n",
    "plot_by_power = df.boxplot('power',figsize=(10,10))"
   ]
  },
  {
   "cell_type": "markdown",
   "metadata": {},
   "source": [
    "Все так же есть много автомобилей более 600 л.с, но эти данные могут быть реальными"
   ]
  },
  {
   "cell_type": "code",
   "execution_count": 21,
   "metadata": {},
   "outputs": [
    {
     "data": {
      "text/plain": [
       "price                    0\n",
       "vehicletype           4571\n",
       "registrationyear         0\n",
       "gearbox               4672\n",
       "power                    0\n",
       "model                 9730\n",
       "kilometer                0\n",
       "registrationmonth        0\n",
       "fueltype             12543\n",
       "brand                    0\n",
       "repaired                 0\n",
       "dtype: int64"
      ]
     },
     "execution_count": 21,
     "metadata": {},
     "output_type": "execute_result"
    }
   ],
   "source": [
    "df.isna().sum()"
   ]
  },
  {
   "cell_type": "markdown",
   "metadata": {},
   "source": [
    "Количество пропусков стало меньше, но остальные данные восстановить нет возможности, поэтому заполним их заглушкой 'unknown'"
   ]
  },
  {
   "cell_type": "code",
   "execution_count": 22,
   "metadata": {},
   "outputs": [],
   "source": [
    "def patch(col):\n",
    "    for i in col:\n",
    "        df[i] = df[i].fillna('unknown')\n",
    "patch(['vehicletype', 'fueltype', 'gearbox', 'model'])"
   ]
  },
  {
   "cell_type": "code",
   "execution_count": 23,
   "metadata": {},
   "outputs": [
    {
     "data": {
      "text/plain": [
       "price                0\n",
       "vehicletype          0\n",
       "registrationyear     0\n",
       "gearbox              0\n",
       "power                0\n",
       "model                0\n",
       "kilometer            0\n",
       "registrationmonth    0\n",
       "fueltype             0\n",
       "brand                0\n",
       "repaired             0\n",
       "dtype: int64"
      ]
     },
     "execution_count": 23,
     "metadata": {},
     "output_type": "execute_result"
    }
   ],
   "source": [
    "df.isna().sum()"
   ]
  },
  {
   "cell_type": "markdown",
   "metadata": {},
   "source": [
    "Мы будем обучать модель на LinearRegression, CatBoostRegressor, LGBMRegressor.  Только модель линейной регресии не поддерживает работу с категориальными признаками, поэтому для нее мы признакми переведем в номильнальные. У моделей CatBoostRegressor, LGBMRegressor есть поддержка работы с категориальными, поэтому для них мы скопируем датасет без изменений."
   ]
  },
  {
   "cell_type": "code",
   "execution_count": 24,
   "metadata": {},
   "outputs": [],
   "source": [
    "df_no_changes = df.copy()"
   ]
  },
  {
   "cell_type": "code",
   "execution_count": 25,
   "metadata": {},
   "outputs": [
    {
     "data": {
      "image/png": "[encoded data removed]",
      "text/plain": [
       "<Figure size 960x800 with 2 Axes>"
      ]
     },
     "metadata": {
      "needs_background": "light"
     },
     "output_type": "display_data"
    }
   ],
   "source": [
    "#проверим корреляцию признаков \n",
    "plt.figure(figsize=(12, 10), dpi=80)\n",
    "sns.heatmap(df_no_changes.corr(), xticklabels=df_no_changes.corr().columns, yticklabels=df_no_changes.corr().columns, cmap='RdYlGn', center=0,annot=True)\n",
    "plt.title('Корреляции признаков', fontsize=22)\n",
    "plt.xticks(fontsize=10)\n",
    "plt.yticks(fontsize=10)\n",
    "plt.show()"
   ]
  },
  {
   "cell_type": "markdown",
   "metadata": {},
   "source": [
    "**Вывод по разделу подготовки и переработке:**\n",
    "\n",
    " - Удалены дубликаты и пустые значения.\n",
    " - Было произведено encoding категориальных значений\n",
    " - Удалены аномальные значения и выбросы\n",
    " - Провели кодирование признаков с помощью LabelEncoder"
   ]
  },
  {
   "cell_type": "markdown",
   "metadata": {},
   "source": [
    "## Подготовка к обучение моделей"
   ]
  },
  {
   "cell_type": "markdown",
   "metadata": {},
   "source": [
    "Разделим данные на обучающие и тестовые выборки для моделей которые работаю с категориальными данными и без них"
   ]
  },
  {
   "cell_type": "code",
   "execution_count": 26,
   "metadata": {},
   "outputs": [],
   "source": [
    "features_categorical = df_no_changes.drop(['price'], axis=1)\n",
    "target_categorical = df_no_changes['price']\n",
    "\n",
    "#features_train_cat, features_test_cat, target_train_cat, target_test_cat = train_test_split(\n",
    "#    features_categorical, target_categorical, test_size=0.3, random_state=1234)"
   ]
  },
  {
   "cell_type": "code",
   "execution_count": 27,
   "metadata": {},
   "outputs": [],
   "source": [
    "#Отделение тестовой части\n",
    "x_, features_test_, y_, target_test_ = train_test_split(features_categorical, target_categorical, test_size=0.2, train_size=0.8,random_state=12345)\n",
    "\n",
    "#Отделения валидационной и обучающей выборки\n",
    "features_train_, features_valid_, target_train_, target_valid_ = train_test_split(x_, y_, test_size = 0.25, train_size =0.75,random_state=12345)"
   ]
  },
  {
   "cell_type": "code",
   "execution_count": 28,
   "metadata": {},
   "outputs": [
    {
     "name": "stdout",
     "output_type": "stream",
     "text": [
      "Процент выборки: 0.5999954951065595\n",
      "Процент выборки: 0.20000225244672026\n",
      "Процент выборки: 0.5999954951065595\n",
      "Процент выборки: 0.20000225244672026\n",
      "Процент выборки: 0.20000225244672026\n",
      "Процент выборки: 0.20000225244672026\n"
     ]
    }
   ],
   "source": [
    "#Проверка разделения\n",
    "def check_size(data):\n",
    "    row = len(data)/len(df)\n",
    "    print('Процент выборки:', row)\n",
    "    \n",
    "data_list_ = [features_train_, features_valid_, target_train_, target_valid_, features_test_, target_test_]\n",
    "for i in data_list_:\n",
    "    check_size(i)"
   ]
  },
  {
   "cell_type": "code",
   "execution_count": 29,
   "metadata": {},
   "outputs": [],
   "source": [
    "categories = ['brand', 'model', 'vehicletype', 'gearbox', 'fueltype', 'power','repaired']"
   ]
  },
  {
   "cell_type": "code",
   "execution_count": 30,
   "metadata": {},
   "outputs": [],
   "source": [
    "features_train_[categories] = features_train_[categories].astype('category')\n",
    "features_valid_[categories] = features_valid_[categories].astype('category')\n",
    "features_test_[categories] = features_test_[categories].astype('category')\n"
   ]
  },
  {
   "cell_type": "code",
   "execution_count": 31,
   "metadata": {},
   "outputs": [],
   "source": [
    "features = df.drop(['price'], axis=1)\n",
    "target = df['price']\n"
   ]
  },
  {
   "cell_type": "code",
   "execution_count": 32,
   "metadata": {},
   "outputs": [],
   "source": [
    "#Отделение тестовой части\n",
    "x, features_test, y, target_test = train_test_split(features, target, test_size=0.2, train_size=0.8,random_state=12345)\n",
    "\n",
    "#Отделения валидационной и обучающей выборки\n",
    "features_train, features_valid, target_train, target_valid = train_test_split(x, y, test_size = 0.25, train_size =0.75,random_state=12345)"
   ]
  },
  {
   "cell_type": "code",
   "execution_count": 33,
   "metadata": {},
   "outputs": [],
   "source": [
    "data_list = [features_train, features_valid, target_train, target_valid, features_test, target_test]"
   ]
  },
  {
   "cell_type": "code",
   "execution_count": 34,
   "metadata": {},
   "outputs": [
    {
     "name": "stdout",
     "output_type": "stream",
     "text": [
      "Процент выборки: 0.5999954951065595\n",
      "Процент выборки: 0.20000225244672026\n",
      "Процент выборки: 0.5999954951065595\n",
      "Процент выборки: 0.20000225244672026\n",
      "Процент выборки: 0.20000225244672026\n",
      "Процент выборки: 0.20000225244672026\n"
     ]
    }
   ],
   "source": [
    "for i in data_list:\n",
    "    check_size(i)"
   ]
  },
  {
   "cell_type": "code",
   "execution_count": 35,
   "metadata": {},
   "outputs": [],
   "source": [
    "#в столбце model слишком много значений - преобразуем его методом ordinal\n",
    "\n",
    "ord_encoder = OrdinalEncoder(handle_unknown= 'use_encoded_value', unknown_value = np.nan)\n",
    "ord_encoder.fit(features_train[['model']])\n",
    "features_train['model'] = ord_encoder.transform(features_train[['model']])\n",
    "features_valid['model'] = ord_encoder.transform(features_valid[['model']])\n",
    "features_test['model'] = ord_encoder.transform(features_test[['model']])\n",
    "\n",
    "\n",
    "#приведем категориальные признаки в номинальные с помощью метода get_dummies (OHE)\n",
    "\n",
    "ohe_list = ['vehicletype','gearbox', 'fueltype', 'brand', 'repaired']\n",
    "\n",
    "ohe_hot_train = pd.get_dummies(features_train[ohe_list], drop_first=True)\n",
    "features_train = features_train.drop(ohe_list,axis = 1)\n",
    "features_train = features_train.join(ohe_hot_train, how='left')\n",
    "\n",
    "ohe_hot_valid = pd.get_dummies(features_valid[ohe_list], drop_first=True)\n",
    "features_valid = features_valid.drop(ohe_list,axis = 1)\n",
    "features_valid = features_valid.join(ohe_hot_valid, how='left')\n",
    "\n",
    "ohe_hot_test = pd.get_dummies(features_test[ohe_list], drop_first=True)\n",
    "features_test = features_test.drop(ohe_list,axis = 1)\n",
    "features_test = features_test.join(ohe_hot_test, how='left')\n"
   ]
  },
  {
   "cell_type": "code",
   "execution_count": 36,
   "metadata": {},
   "outputs": [
    {
     "data": {
      "text/plain": [
       "['registrationyear',\n",
       " 'power',\n",
       " 'model',\n",
       " 'kilometer',\n",
       " 'registrationmonth',\n",
       " 'vehicletype_convertible',\n",
       " 'vehicletype_coupe',\n",
       " 'vehicletype_other',\n",
       " 'vehicletype_sedan',\n",
       " 'vehicletype_small',\n",
       " 'vehicletype_suv',\n",
       " 'vehicletype_unknown',\n",
       " 'vehicletype_wagon',\n",
       " 'gearbox_manual',\n",
       " 'gearbox_unknown',\n",
       " 'fueltype_electric',\n",
       " 'fueltype_gasoline',\n",
       " 'fueltype_hybrid',\n",
       " 'fueltype_lpg',\n",
       " 'fueltype_other',\n",
       " 'fueltype_petrol',\n",
       " 'fueltype_unknown',\n",
       " 'brand_audi',\n",
       " 'brand_bmw',\n",
       " 'brand_chevrolet',\n",
       " 'brand_chrysler',\n",
       " 'brand_citroen',\n",
       " 'brand_dacia',\n",
       " 'brand_daewoo',\n",
       " 'brand_daihatsu',\n",
       " 'brand_fiat',\n",
       " 'brand_ford',\n",
       " 'brand_honda',\n",
       " 'brand_hyundai',\n",
       " 'brand_jaguar',\n",
       " 'brand_jeep',\n",
       " 'brand_kia',\n",
       " 'brand_lada',\n",
       " 'brand_lancia',\n",
       " 'brand_land_rover',\n",
       " 'brand_mazda',\n",
       " 'brand_mercedes_benz',\n",
       " 'brand_mini',\n",
       " 'brand_mitsubishi',\n",
       " 'brand_nissan',\n",
       " 'brand_opel',\n",
       " 'brand_peugeot',\n",
       " 'brand_porsche',\n",
       " 'brand_renault',\n",
       " 'brand_rover',\n",
       " 'brand_saab',\n",
       " 'brand_seat',\n",
       " 'brand_skoda',\n",
       " 'brand_smart',\n",
       " 'brand_sonstige_autos',\n",
       " 'brand_subaru',\n",
       " 'brand_suzuki',\n",
       " 'brand_toyota',\n",
       " 'brand_trabant',\n",
       " 'brand_volkswagen',\n",
       " 'brand_volvo',\n",
       " 'repaired_yes']"
      ]
     },
     "execution_count": 36,
     "metadata": {},
     "output_type": "execute_result"
    }
   ],
   "source": [
    "#проверим какие признаки входят во всех выборки\n",
    "[i for i in list(features_train.columns) if (i in list(features_valid.columns) and (i in list(features_test.columns)))]"
   ]
  },
  {
   "cell_type": "code",
   "execution_count": 37,
   "metadata": {},
   "outputs": [
    {
     "data": {
      "text/plain": [
       "set()"
      ]
     },
     "metadata": {},
     "output_type": "display_data"
    },
    {
     "data": {
      "text/plain": [
       "set()"
      ]
     },
     "metadata": {},
     "output_type": "display_data"
    },
    {
     "data": {
      "text/plain": [
       "set()"
      ]
     },
     "metadata": {},
     "output_type": "display_data"
    }
   ],
   "source": [
    "#проверим одинаковые ли признаки во всех выборках\n",
    "missed_test_columns = set(list(features_train.columns.values))-set(list(features_valid.columns.values))\n",
    "display(missed_test_columns)\n",
    "missed_test_columns = set(list(features_valid.columns.values))-set(list(features_test.columns.values))\n",
    "display(missed_test_columns)\n",
    "missed_test_columns = set(list(features_test.columns.values))-set(list(features_train.columns.values))\n",
    "display(missed_test_columns)\n"
   ]
  },
  {
   "cell_type": "markdown",
   "metadata": {},
   "source": [
    "Лишних признаков в выборках нет. Все признаки, во всех выборках одинаковые."
   ]
  },
  {
   "cell_type": "code",
   "execution_count": 38,
   "metadata": {},
   "outputs": [],
   "source": [
    "#Применим StandardScaler для модели линейной регрессии\n",
    "\n",
    "scaler = StandardScaler()\n",
    "scaler.fit(features_train)\n",
    "features_train = scaler.transform(features_train)\n",
    "features_test = scaler.transform(features_test)\n",
    "features_valid = scaler.transform(features_valid)"
   ]
  },
  {
   "cell_type": "code",
   "execution_count": 39,
   "metadata": {},
   "outputs": [
    {
     "data": {
      "text/plain": [
       "62"
      ]
     },
     "execution_count": 39,
     "metadata": {},
     "output_type": "execute_result"
    }
   ],
   "source": [
    "len(features_train[0])"
   ]
  },
  {
   "cell_type": "markdown",
   "metadata": {},
   "source": [
    "Напишем функции для обучения, и проверки метрик моделей"
   ]
  },
  {
   "cell_type": "code",
   "execution_count": 40,
   "metadata": {},
   "outputs": [],
   "source": [
    "def model_fit(model, features, target):\n",
    "    start = time.time()\n",
    "    \n",
    "    try:\n",
    "        model.fit(features, target, verbose=False)\n",
    "    except:\n",
    "        model.fit(features, target)\n",
    "        \n",
    "    end = time.time()\n",
    "    \n",
    "    return {'model':model, 'fit_time':(end-start)}"
   ]
  },
  {
   "cell_type": "code",
   "execution_count": 41,
   "metadata": {},
   "outputs": [],
   "source": [
    "def model_predict(model, features):\n",
    "    start = time.time()\n",
    "    \n",
    "    predictions = model.predict(features)\n",
    "    end = time.time()\n",
    "    \n",
    "    return {'predictions':predictions, 'prediction_time':(end-start)}"
   ]
  },
  {
   "cell_type": "code",
   "execution_count": 42,
   "metadata": {},
   "outputs": [],
   "source": [
    "def model_metrics(fit, prediction, rmse):\n",
    "    print('Затраты время на обучения модели:', fit)\n",
    "    print('Затраты время на предсказания:', prediction)\n",
    "    print('RMSE =', rmse)"
   ]
  },
  {
   "cell_type": "code",
   "execution_count": 43,
   "metadata": {},
   "outputs": [],
   "source": [
    "def rmse(predict, actual):\n",
    "    predict = np.array(predict)\n",
    "    actual = np.array(actual)\n",
    "\n",
    "    distance = predict - actual\n",
    "\n",
    "    square_distance = distance ** 2\n",
    "\n",
    "    mean_square_distance = square_distance.mean()\n",
    "\n",
    "    score = np.sqrt(mean_square_distance)\n",
    "\n",
    "    return score\n",
    "\n",
    "rmse_score = make_scorer(rmse, greater_is_better = False)"
   ]
  },
  {
   "cell_type": "markdown",
   "metadata": {},
   "source": [
    "## Обучение моделей"
   ]
  },
  {
   "cell_type": "markdown",
   "metadata": {},
   "source": [
    "**Обучим модел CatBoostRegressor**"
   ]
  },
  {
   "cell_type": "code",
   "execution_count": 44,
   "metadata": {},
   "outputs": [],
   "source": [
    "model_сat = CatBoostRegressor(cat_features=categories)"
   ]
  },
  {
   "cell_type": "code",
   "execution_count": 45,
   "metadata": {},
   "outputs": [],
   "source": [
    "fit_model_cat = model_fit(model_сat, features_train_, target_train_)"
   ]
  },
  {
   "cell_type": "code",
   "execution_count": 46,
   "metadata": {},
   "outputs": [],
   "source": [
    "predict_model_cat = model_predict(model_сat, features_valid_)\n",
    "rmse = mse(target_valid_, predict_model_cat.get('predictions'), squared=False)"
   ]
  },
  {
   "cell_type": "code",
   "execution_count": 47,
   "metadata": {},
   "outputs": [
    {
     "name": "stdout",
     "output_type": "stream",
     "text": [
      "{'model': <catboost.core.CatBoostRegressor object at 0x7fc46367ca90>, 'fit_time': 163.09060168266296}\n"
     ]
    }
   ],
   "source": [
    "print(fit_model_cat)"
   ]
  },
  {
   "cell_type": "code",
   "execution_count": 48,
   "metadata": {},
   "outputs": [
    {
     "name": "stdout",
     "output_type": "stream",
     "text": [
      "Затраты время на обучения модели: 163.09060168266296\n",
      "Затраты время на предсказания: 0.428699254989624\n",
      "RMSE = 1623.3109917275522\n"
     ]
    }
   ],
   "source": [
    "model_metrics(fit_model_cat.get('fit_time'), predict_model_cat.get('prediction_time'), rmse)"
   ]
  },
  {
   "cell_type": "markdown",
   "metadata": {},
   "source": [
    "**Обучим модел LightGBM**"
   ]
  },
  {
   "cell_type": "code",
   "execution_count": 49,
   "metadata": {},
   "outputs": [],
   "source": [
    "model_lgb = LGBMRegressor(cat_feature=categories)"
   ]
  },
  {
   "cell_type": "code",
   "execution_count": 50,
   "metadata": {},
   "outputs": [],
   "source": [
    "fit_model_lgb = model_fit(model_lgb, features_train_, target_train_)"
   ]
  },
  {
   "cell_type": "code",
   "execution_count": 51,
   "metadata": {},
   "outputs": [],
   "source": [
    "predict_model_lgb = model_predict(model_lgb, features_valid_)\n",
    "rmse = mse(target_valid_, predict_model_lgb.get('predictions'), squared=False)"
   ]
  },
  {
   "cell_type": "code",
   "execution_count": 52,
   "metadata": {},
   "outputs": [
    {
     "name": "stdout",
     "output_type": "stream",
     "text": [
      "{'model': LGBMRegressor(cat_feature=['brand', 'model', 'vehicletype', 'gearbox',\n",
      "                           'fueltype', 'power', 'repaired']), 'fit_time': 930.2489442825317}\n"
     ]
    }
   ],
   "source": [
    "print(fit_model_lgb)"
   ]
  },
  {
   "cell_type": "code",
   "execution_count": 53,
   "metadata": {},
   "outputs": [
    {
     "name": "stdout",
     "output_type": "stream",
     "text": [
      "Затраты время на обучения модели: 930.2489442825317\n",
      "Затраты время на предсказания: 0.6180722713470459\n",
      "RMSE = 1611.902990219231\n"
     ]
    }
   ],
   "source": [
    "model_metrics(fit_model_lgb.get('fit_time'), predict_model_lgb.get('prediction_time'), rmse)"
   ]
  },
  {
   "cell_type": "markdown",
   "metadata": {},
   "source": [
    "**Обучим модел LinearRegression**"
   ]
  },
  {
   "cell_type": "markdown",
   "metadata": {},
   "source": [
    "Так как для эта модель не умеет работать с категориальными прзнаками, будем использовать ранее подготовленные для этой модели данные с предварительны кодированием признаков"
   ]
  },
  {
   "cell_type": "code",
   "execution_count": 54,
   "metadata": {},
   "outputs": [],
   "source": [
    "model_lr = LinearRegression()"
   ]
  },
  {
   "cell_type": "code",
   "execution_count": 55,
   "metadata": {},
   "outputs": [],
   "source": [
    "fit_model_lr = model_fit(model_lr, features_train, target_train)"
   ]
  },
  {
   "cell_type": "code",
   "execution_count": 56,
   "metadata": {},
   "outputs": [],
   "source": [
    "predict_model_lr = model_predict(model_lr, features_valid)\n",
    "rmse = mse(target_valid, predict_model_lr.get('predictions'), squared=False)"
   ]
  },
  {
   "cell_type": "code",
   "execution_count": 57,
   "metadata": {},
   "outputs": [
    {
     "name": "stdout",
     "output_type": "stream",
     "text": [
      "{'model': LinearRegression(), 'fit_time': 1.7346956729888916}\n"
     ]
    }
   ],
   "source": [
    "print(fit_model_lr)"
   ]
  },
  {
   "cell_type": "code",
   "execution_count": 58,
   "metadata": {},
   "outputs": [
    {
     "name": "stdout",
     "output_type": "stream",
     "text": [
      "Затраты время на обучения модели: 1.7346956729888916\n",
      "Затраты время на предсказания: 0.00403594970703125\n",
      "RMSE = 2786.0183079307\n"
     ]
    }
   ],
   "source": [
    "model_metrics(fit_model_lr.get('fit_time'), predict_model_lr.get('prediction_time'), rmse)"
   ]
  },
  {
   "cell_type": "markdown",
   "metadata": {},
   "source": [
    "**Сводные результаты по обучению моделей:** \n",
    "\n",
    "В ходе обучения модели CatBoostRegressor получены след данные:\n",
    "\n",
    "- Затраты время на обучения модели: **163 сек**\n",
    "- Затраты время на предсказания: **0.428 сек**\n",
    "- RMSE = **1623.3109917275522**\n",
    "\n",
    "В ходе обучения модели LightGBM получены след данные:\n",
    "\n",
    "- Затраты время на обучения модели: **930 сек**\n",
    "- Затраты время на предсказания: **0.618**\n",
    "- RMSE = **1611.902990219231**\n",
    "\n",
    "В ходе обучения модели LinearRegression получены след данные:\n",
    "\n",
    "- Затраты время на обучения модели: **1.734 сек**\n",
    "- Затраты время на предсказания: **0.004 сек**\n",
    "- RMSE = **2786.0183079307**"
   ]
  },
  {
   "cell_type": "markdown",
   "metadata": {},
   "source": [
    "**Вывод результаты по обучению моделей:** \n",
    "\n",
    "Модель LinearRegression быстро обучается и дает предсказания, но ключевая метрика RMSE очень высокая. Убираем эту модель из дальнейшего исследования.\n",
    "\n",
    "Модели CatBoostRegressor и LightGBM имею близкие значения метрики RMSE, но разную скорость обучения. Изучим подробнее эти модели с подбором параметров."
   ]
  },
  {
   "cell_type": "markdown",
   "metadata": {},
   "source": [
    "## Анализ моделей"
   ]
  },
  {
   "cell_type": "code",
   "execution_count": 59,
   "metadata": {},
   "outputs": [],
   "source": [
    "tuned_model_cat = CatBoostRegressor(loss_function='RMSE', \n",
    "                              iterations=500, \n",
    "                              learning_rate=0.2, \n",
    "                              thread_count=-1, \n",
    "                              max_depth=10, \n",
    "                              l2_leaf_reg=3.5,\n",
    "                              cat_features=categories\n",
    "                              )"
   ]
  },
  {
   "cell_type": "code",
   "execution_count": 60,
   "metadata": {},
   "outputs": [],
   "source": [
    "tuned_fit_model_cat = model_fit(tuned_model_cat, features_train_, target_train_)"
   ]
  },
  {
   "cell_type": "code",
   "execution_count": 61,
   "metadata": {},
   "outputs": [],
   "source": [
    "tuned_predict_model_cat = model_predict(tuned_model_cat, features_test_)"
   ]
  },
  {
   "cell_type": "code",
   "execution_count": 62,
   "metadata": {},
   "outputs": [],
   "source": [
    "rmse = mse(target_test_, tuned_predict_model_cat.get('predictions'), squared=False)"
   ]
  },
  {
   "cell_type": "code",
   "execution_count": 63,
   "metadata": {},
   "outputs": [
    {
     "name": "stdout",
     "output_type": "stream",
     "text": [
      "Затраты время на обучения модели: 190.26983451843262\n",
      "Затраты время на предсказания: 0.535872220993042\n",
      "RMSE = 1584.2996379384308\n"
     ]
    }
   ],
   "source": [
    "model_metrics(tuned_fit_model_cat.get('fit_time'), tuned_predict_model_cat.get('prediction_time'), rmse)"
   ]
  },
  {
   "cell_type": "code",
   "execution_count": 64,
   "metadata": {},
   "outputs": [],
   "source": [
    "tuned_model_lgb = LGBMRegressor(task='train', \n",
    "                        boosting_type='gbdt', \n",
    "                        objective='regression', \n",
    "                        metric='rmse', \n",
    "                        learning_rate=0.5, \n",
    "                        verbose=200, \n",
    "                        categorical_feature=categories)"
   ]
  },
  {
   "cell_type": "code",
   "execution_count": 65,
   "metadata": {},
   "outputs": [
    {
     "name": "stdout",
     "output_type": "stream",
     "text": [
      "[LightGBM] [Warning] categorical_feature is set=brand,model,vehicletype,gearbox,fueltype,power,repaired, categorical_column=0,2,3,4,7,8,9 will be ignored. Current value: categorical_feature=brand,model,vehicletype,gearbox,fueltype,power,repaired\n",
      "[LightGBM] [Debug] Dataset::GetMultiBinFromSparseFeatures: sparse rate 0.841539\n",
      "[LightGBM] [Debug] Dataset::GetMultiBinFromAllFeatures: sparse rate 0.184243\n",
      "[LightGBM] [Debug] init for col-wise cost 0.191190 seconds, init for row-wise cost 0.003613 seconds\n",
      "[LightGBM] [Warning] Auto-choosing row-wise multi-threading, the overhead of testing was 0.192876 seconds.\n",
      "You can set `force_row_wise=true` to remove the overhead.\n",
      "And if memory is not enough, you can set `force_col_wise=true`.\n",
      "[LightGBM] [Debug] Using Dense Multi-Val Bin\n",
      "[LightGBM] [Info] Total Bins 648\n",
      "[LightGBM] [Info] Number of data points in the train set: 159825, number of used features: 10\n",
      "[LightGBM] [Info] Start training from score 4891.478511\n",
      "[LightGBM] [Debug] Trained a tree with leaves = 31 and depth = 8\n",
      "[LightGBM] [Debug] Trained a tree with leaves = 31 and depth = 7\n",
      "[LightGBM] [Debug] Trained a tree with leaves = 31 and depth = 8\n",
      "[LightGBM] [Debug] Trained a tree with leaves = 31 and depth = 9\n",
      "[LightGBM] [Debug] Trained a tree with leaves = 31 and depth = 9\n",
      "[LightGBM] [Debug] Trained a tree with leaves = 31 and depth = 9\n",
      "[LightGBM] [Debug] Trained a tree with leaves = 31 and depth = 9\n",
      "[LightGBM] [Debug] Trained a tree with leaves = 31 and depth = 11\n",
      "[LightGBM] [Debug] Trained a tree with leaves = 31 and depth = 10\n",
      "[LightGBM] [Debug] Trained a tree with leaves = 31 and depth = 9\n",
      "[LightGBM] [Debug] Trained a tree with leaves = 31 and depth = 12\n",
      "[LightGBM] [Debug] Trained a tree with leaves = 31 and depth = 10\n",
      "[LightGBM] [Debug] Trained a tree with leaves = 31 and depth = 12\n",
      "[LightGBM] [Debug] Trained a tree with leaves = 31 and depth = 9\n",
      "[LightGBM] [Debug] Trained a tree with leaves = 31 and depth = 11\n",
      "[LightGBM] [Debug] Trained a tree with leaves = 31 and depth = 8\n",
      "[LightGBM] [Debug] Trained a tree with leaves = 31 and depth = 8\n",
      "[LightGBM] [Debug] Trained a tree with leaves = 31 and depth = 9\n",
      "[LightGBM] [Debug] Trained a tree with leaves = 31 and depth = 9\n",
      "[LightGBM] [Debug] Trained a tree with leaves = 31 and depth = 9\n",
      "[LightGBM] [Debug] Trained a tree with leaves = 31 and depth = 9\n",
      "[LightGBM] [Debug] Trained a tree with leaves = 31 and depth = 9\n",
      "[LightGBM] [Debug] Trained a tree with leaves = 31 and depth = 14\n",
      "[LightGBM] [Debug] Trained a tree with leaves = 31 and depth = 9\n",
      "[LightGBM] [Debug] Trained a tree with leaves = 31 and depth = 9\n",
      "[LightGBM] [Debug] Trained a tree with leaves = 31 and depth = 9\n",
      "[LightGBM] [Debug] Trained a tree with leaves = 31 and depth = 9\n",
      "[LightGBM] [Debug] Trained a tree with leaves = 31 and depth = 9\n",
      "[LightGBM] [Debug] Trained a tree with leaves = 31 and depth = 10\n",
      "[LightGBM] [Debug] Trained a tree with leaves = 31 and depth = 9\n",
      "[LightGBM] [Debug] Trained a tree with leaves = 31 and depth = 12\n",
      "[LightGBM] [Debug] Trained a tree with leaves = 31 and depth = 9\n",
      "[LightGBM] [Debug] Trained a tree with leaves = 31 and depth = 9\n",
      "[LightGBM] [Debug] Trained a tree with leaves = 31 and depth = 13\n",
      "[LightGBM] [Debug] Trained a tree with leaves = 31 and depth = 11\n",
      "[LightGBM] [Debug] Trained a tree with leaves = 31 and depth = 9\n",
      "[LightGBM] [Debug] Trained a tree with leaves = 31 and depth = 10\n",
      "[LightGBM] [Debug] Trained a tree with leaves = 31 and depth = 8\n",
      "[LightGBM] [Debug] Trained a tree with leaves = 31 and depth = 11\n",
      "[LightGBM] [Debug] Trained a tree with leaves = 31 and depth = 9\n",
      "[LightGBM] [Debug] Trained a tree with leaves = 31 and depth = 9\n",
      "[LightGBM] [Debug] Trained a tree with leaves = 31 and depth = 7\n",
      "[LightGBM] [Debug] Trained a tree with leaves = 31 and depth = 8\n",
      "[LightGBM] [Debug] Trained a tree with leaves = 31 and depth = 9\n",
      "[LightGBM] [Debug] Trained a tree with leaves = 31 and depth = 14\n",
      "[LightGBM] [Debug] Trained a tree with leaves = 31 and depth = 8\n",
      "[LightGBM] [Debug] Trained a tree with leaves = 31 and depth = 8\n",
      "[LightGBM] [Debug] Trained a tree with leaves = 31 and depth = 11\n",
      "[LightGBM] [Debug] Trained a tree with leaves = 31 and depth = 8\n",
      "[LightGBM] [Debug] Trained a tree with leaves = 31 and depth = 11\n",
      "[LightGBM] [Debug] Trained a tree with leaves = 31 and depth = 8\n",
      "[LightGBM] [Debug] Trained a tree with leaves = 31 and depth = 9\n",
      "[LightGBM] [Debug] Trained a tree with leaves = 31 and depth = 9\n",
      "[LightGBM] [Debug] Trained a tree with leaves = 31 and depth = 8\n",
      "[LightGBM] [Debug] Trained a tree with leaves = 31 and depth = 8\n",
      "[LightGBM] [Debug] Trained a tree with leaves = 31 and depth = 9\n",
      "[LightGBM] [Debug] Trained a tree with leaves = 31 and depth = 8\n",
      "[LightGBM] [Debug] Trained a tree with leaves = 31 and depth = 10\n",
      "[LightGBM] [Debug] Trained a tree with leaves = 31 and depth = 10\n",
      "[LightGBM] [Debug] Trained a tree with leaves = 31 and depth = 8\n",
      "[LightGBM] [Debug] Trained a tree with leaves = 31 and depth = 10\n",
      "[LightGBM] [Debug] Trained a tree with leaves = 31 and depth = 8\n",
      "[LightGBM] [Debug] Trained a tree with leaves = 31 and depth = 12\n",
      "[LightGBM] [Debug] Trained a tree with leaves = 31 and depth = 8\n",
      "[LightGBM] [Debug] Trained a tree with leaves = 31 and depth = 9\n",
      "[LightGBM] [Debug] Trained a tree with leaves = 31 and depth = 12\n",
      "[LightGBM] [Debug] Trained a tree with leaves = 31 and depth = 14\n",
      "[LightGBM] [Debug] Trained a tree with leaves = 31 and depth = 12\n",
      "[LightGBM] [Debug] Trained a tree with leaves = 31 and depth = 9\n",
      "[LightGBM] [Debug] Trained a tree with leaves = 31 and depth = 11\n",
      "[LightGBM] [Debug] Trained a tree with leaves = 31 and depth = 8\n",
      "[LightGBM] [Debug] Trained a tree with leaves = 31 and depth = 8\n",
      "[LightGBM] [Debug] Trained a tree with leaves = 31 and depth = 8\n",
      "[LightGBM] [Debug] Trained a tree with leaves = 31 and depth = 10\n",
      "[LightGBM] [Debug] Trained a tree with leaves = 31 and depth = 13\n",
      "[LightGBM] [Debug] Trained a tree with leaves = 31 and depth = 10\n",
      "[LightGBM] [Debug] Trained a tree with leaves = 31 and depth = 11\n",
      "[LightGBM] [Debug] Trained a tree with leaves = 31 and depth = 9\n",
      "[LightGBM] [Debug] Trained a tree with leaves = 31 and depth = 8\n",
      "[LightGBM] [Debug] Trained a tree with leaves = 31 and depth = 12\n",
      "[LightGBM] [Debug] Trained a tree with leaves = 31 and depth = 8\n",
      "[LightGBM] [Debug] Trained a tree with leaves = 31 and depth = 7\n",
      "[LightGBM] [Debug] Trained a tree with leaves = 31 and depth = 10\n",
      "[LightGBM] [Debug] Trained a tree with leaves = 31 and depth = 11\n",
      "[LightGBM] [Debug] Trained a tree with leaves = 31 and depth = 8\n",
      "[LightGBM] [Debug] Trained a tree with leaves = 31 and depth = 12\n",
      "[LightGBM] [Debug] Trained a tree with leaves = 31 and depth = 13\n",
      "[LightGBM] [Debug] Trained a tree with leaves = 31 and depth = 10\n",
      "[LightGBM] [Debug] Trained a tree with leaves = 31 and depth = 10\n",
      "[LightGBM] [Debug] Trained a tree with leaves = 31 and depth = 8\n",
      "[LightGBM] [Debug] Trained a tree with leaves = 31 and depth = 13\n",
      "[LightGBM] [Debug] Trained a tree with leaves = 31 and depth = 12\n",
      "[LightGBM] [Debug] Trained a tree with leaves = 31 and depth = 9\n",
      "[LightGBM] [Debug] Trained a tree with leaves = 31 and depth = 11\n",
      "[LightGBM] [Debug] Trained a tree with leaves = 31 and depth = 12\n",
      "[LightGBM] [Debug] Trained a tree with leaves = 31 and depth = 10\n",
      "[LightGBM] [Debug] Trained a tree with leaves = 31 and depth = 9\n",
      "[LightGBM] [Debug] Trained a tree with leaves = 31 and depth = 10\n",
      "[LightGBM] [Debug] Trained a tree with leaves = 31 and depth = 9\n",
      "[LightGBM] [Debug] Trained a tree with leaves = 31 and depth = 13\n"
     ]
    }
   ],
   "source": [
    "tuned_fit_model_lgb = model_fit(tuned_model_lgb, features_train_, target_train_)"
   ]
  },
  {
   "cell_type": "code",
   "execution_count": 66,
   "metadata": {},
   "outputs": [],
   "source": [
    "tuned_predict_model_lgb = model_predict(tuned_model_lgb, features_test_)"
   ]
  },
  {
   "cell_type": "code",
   "execution_count": 67,
   "metadata": {},
   "outputs": [],
   "source": [
    "rmse = mse(target_test_, tuned_predict_model_lgb.get('predictions'), squared=False)"
   ]
  },
  {
   "cell_type": "code",
   "execution_count": 68,
   "metadata": {},
   "outputs": [
    {
     "name": "stdout",
     "output_type": "stream",
     "text": [
      "Затраты время на обучения модели: 4.8896708488464355\n",
      "Затраты время на предсказания: 0.40259647369384766\n",
      "RMSE = 1612.5725362470166\n"
     ]
    }
   ],
   "source": [
    "model_metrics(tuned_fit_model_lgb.get('fit_time'), tuned_predict_model_lgb.get('prediction_time'), rmse)"
   ]
  },
  {
   "cell_type": "markdown",
   "metadata": {},
   "source": [
    "Можем ли мы упростить обучение, не потеряв сильно в ключевой метрике RMSE?"
   ]
  },
  {
   "cell_type": "markdown",
   "metadata": {},
   "source": [
    "**Исходя из полученных данных:**\n",
    "\n",
    " - для модели CatBoostRegressor получилось добиться лучшей метрики RMSE **1584**, но время обчуение выросло до 190 сек.\n",
    " - для модели LightGBM не получилось добиться улучшения метрик. Лучшее время обучение для модели составило - **4.889**сек. при метрике RMSE **1612**"
   ]
  },
  {
   "cell_type": "markdown",
   "metadata": {},
   "source": [
    "## Вывод"
   ]
  },
  {
   "cell_type": "markdown",
   "metadata": {},
   "source": [
    " - Модели градиентного бустинга(Сatboost, LightBGM) показывают результаты значительно лучше линейной регрессии. Время обучение для этих моделей варьируется от 4.8 до 208 секунд в зависимости от параметров.\n",
    " - После улучшения модели Сatboost метрика RMSE выросла до лучших значений **1584** при скорости обучения 208 сек.\n",
    " - Модель LightGBM так же показывает относительно хорошую метрику **RMSE 1612** при скросости обучения 4.8 сек.\n",
    " - В зависимости от целей для бизнеса: скорость обучения  или важности высоких значений метрики RMSE,  можно выбрать модель которая будет максимально соответсовать задачам"
   ]
  }
 ],
 "metadata": {
  "ExecuteTimeLog": [
   {
    "duration": 54,
    "start_time": "2023-03-26T06:26:06.686Z"
   },
   {
    "duration": 1808,
    "start_time": "2023-03-26T06:28:08.229Z"
   },
   {
    "duration": 10,
    "start_time": "2023-03-26T06:28:10.045Z"
   },
   {
    "duration": 1266,
    "start_time": "2023-03-26T06:28:10.057Z"
   },
   {
    "duration": 909,
    "start_time": "2023-03-26T06:28:11.325Z"
   },
   {
    "duration": 7,
    "start_time": "2023-03-26T06:28:12.236Z"
   },
   {
    "duration": 69,
    "start_time": "2023-03-26T06:28:12.245Z"
   },
   {
    "duration": 382,
    "start_time": "2023-03-26T06:28:12.316Z"
   },
   {
    "duration": 99,
    "start_time": "2023-03-26T06:28:12.700Z"
   },
   {
    "duration": 293,
    "start_time": "2023-03-26T06:28:12.801Z"
   },
   {
    "duration": 201,
    "start_time": "2023-03-26T06:28:13.097Z"
   },
   {
    "duration": 24,
    "start_time": "2023-03-26T06:28:13.300Z"
   },
   {
    "duration": 419,
    "start_time": "2023-03-26T06:28:13.326Z"
   },
   {
    "duration": 534,
    "start_time": "2023-03-26T06:28:13.749Z"
   },
   {
    "duration": 368,
    "start_time": "2023-03-26T06:28:14.285Z"
   },
   {
    "duration": 360,
    "start_time": "2023-03-26T06:28:14.657Z"
   },
   {
    "duration": 73,
    "start_time": "2023-03-26T06:28:15.019Z"
   },
   {
    "duration": 102,
    "start_time": "2023-03-26T06:28:15.094Z"
   },
   {
    "duration": 11,
    "start_time": "2023-03-26T06:28:15.198Z"
   },
   {
    "duration": 399,
    "start_time": "2023-03-26T06:28:15.211Z"
   },
   {
    "duration": 1658,
    "start_time": "2023-03-26T06:28:15.613Z"
   },
   {
    "duration": 133,
    "start_time": "2023-03-26T06:33:45.459Z"
   },
   {
    "duration": 268,
    "start_time": "2023-03-26T06:35:25.622Z"
   },
   {
    "duration": 1557,
    "start_time": "2023-03-26T06:35:49.946Z"
   },
   {
    "duration": 1844,
    "start_time": "2023-03-26T06:36:15.817Z"
   },
   {
    "duration": 7,
    "start_time": "2023-03-26T06:36:17.664Z"
   },
   {
    "duration": 1025,
    "start_time": "2023-03-26T06:36:17.673Z"
   },
   {
    "duration": 946,
    "start_time": "2023-03-26T06:36:18.701Z"
   },
   {
    "duration": 6,
    "start_time": "2023-03-26T06:36:19.654Z"
   },
   {
    "duration": 58,
    "start_time": "2023-03-26T06:36:19.662Z"
   },
   {
    "duration": 411,
    "start_time": "2023-03-26T06:36:19.721Z"
   },
   {
    "duration": 109,
    "start_time": "2023-03-26T06:36:20.134Z"
   },
   {
    "duration": 333,
    "start_time": "2023-03-26T06:36:20.245Z"
   },
   {
    "duration": 211,
    "start_time": "2023-03-26T06:36:20.581Z"
   },
   {
    "duration": 28,
    "start_time": "2023-03-26T06:36:20.794Z"
   },
   {
    "duration": 512,
    "start_time": "2023-03-26T06:36:20.824Z"
   },
   {
    "duration": 636,
    "start_time": "2023-03-26T06:36:21.341Z"
   },
   {
    "duration": 431,
    "start_time": "2023-03-26T06:36:21.979Z"
   },
   {
    "duration": 397,
    "start_time": "2023-03-26T06:36:22.412Z"
   },
   {
    "duration": 122,
    "start_time": "2023-03-26T06:36:22.811Z"
   },
   {
    "duration": 168,
    "start_time": "2023-03-26T06:36:22.941Z"
   },
   {
    "duration": 0,
    "start_time": "2023-03-26T06:36:23.111Z"
   },
   {
    "duration": 0,
    "start_time": "2023-03-26T06:36:23.113Z"
   },
   {
    "duration": 0,
    "start_time": "2023-03-26T06:36:23.114Z"
   },
   {
    "duration": 69,
    "start_time": "2023-03-26T06:36:42.204Z"
   },
   {
    "duration": 64,
    "start_time": "2023-03-26T06:36:53.375Z"
   },
   {
    "duration": 1684,
    "start_time": "2023-03-26T07:12:21.178Z"
   },
   {
    "duration": 4,
    "start_time": "2023-03-26T07:12:22.865Z"
   },
   {
    "duration": 977,
    "start_time": "2023-03-26T07:12:22.870Z"
   },
   {
    "duration": 949,
    "start_time": "2023-03-26T07:12:23.850Z"
   },
   {
    "duration": 4,
    "start_time": "2023-03-26T07:12:24.800Z"
   },
   {
    "duration": 76,
    "start_time": "2023-03-26T07:12:24.806Z"
   },
   {
    "duration": 450,
    "start_time": "2023-03-26T07:12:24.883Z"
   },
   {
    "duration": 127,
    "start_time": "2023-03-26T07:12:25.336Z"
   },
   {
    "duration": 406,
    "start_time": "2023-03-26T07:12:25.466Z"
   },
   {
    "duration": 251,
    "start_time": "2023-03-26T07:12:25.875Z"
   },
   {
    "duration": 37,
    "start_time": "2023-03-26T07:12:26.129Z"
   },
   {
    "duration": 443,
    "start_time": "2023-03-26T07:12:26.169Z"
   },
   {
    "duration": 652,
    "start_time": "2023-03-26T07:12:26.614Z"
   },
   {
    "duration": 372,
    "start_time": "2023-03-26T07:12:27.268Z"
   },
   {
    "duration": 385,
    "start_time": "2023-03-26T07:12:27.642Z"
   },
   {
    "duration": 96,
    "start_time": "2023-03-26T07:12:28.030Z"
   },
   {
    "duration": 84,
    "start_time": "2023-03-26T07:12:28.129Z"
   },
   {
    "duration": 102,
    "start_time": "2023-03-26T07:12:28.215Z"
   },
   {
    "duration": 30,
    "start_time": "2023-03-26T07:12:28.320Z"
   },
   {
    "duration": 525,
    "start_time": "2023-03-26T07:12:28.352Z"
   },
   {
    "duration": 1639,
    "start_time": "2023-03-26T07:12:28.880Z"
   },
   {
    "duration": 133,
    "start_time": "2023-03-26T07:12:30.521Z"
   },
   {
    "duration": 3,
    "start_time": "2023-03-26T07:12:30.657Z"
   },
   {
    "duration": 174,
    "start_time": "2023-03-26T07:12:30.662Z"
   },
   {
    "duration": 7,
    "start_time": "2023-03-26T07:12:43.534Z"
   },
   {
    "duration": 180,
    "start_time": "2023-03-26T07:12:43.869Z"
   },
   {
    "duration": 85,
    "start_time": "2023-03-26T07:13:57.865Z"
   },
   {
    "duration": 73,
    "start_time": "2023-03-26T07:22:40.930Z"
   },
   {
    "duration": 66,
    "start_time": "2023-03-26T07:22:41.384Z"
   },
   {
    "duration": 3,
    "start_time": "2023-03-26T07:33:25.720Z"
   },
   {
    "duration": 12,
    "start_time": "2023-03-26T07:33:26.504Z"
   },
   {
    "duration": 4,
    "start_time": "2023-03-26T07:33:33.710Z"
   },
   {
    "duration": 8,
    "start_time": "2023-03-26T07:33:34.141Z"
   },
   {
    "duration": 4,
    "start_time": "2023-03-26T07:33:34.828Z"
   },
   {
    "duration": 6,
    "start_time": "2023-03-26T07:33:35.855Z"
   },
   {
    "duration": 7226,
    "start_time": "2023-03-26T07:33:36.379Z"
   },
   {
    "duration": 0,
    "start_time": "2023-03-26T07:33:43.607Z"
   },
   {
    "duration": 1773,
    "start_time": "2023-03-26T07:35:38.540Z"
   },
   {
    "duration": 5,
    "start_time": "2023-03-26T07:35:40.315Z"
   },
   {
    "duration": 894,
    "start_time": "2023-03-26T07:35:40.323Z"
   },
   {
    "duration": 922,
    "start_time": "2023-03-26T07:35:41.220Z"
   },
   {
    "duration": 4,
    "start_time": "2023-03-26T07:35:42.144Z"
   },
   {
    "duration": 56,
    "start_time": "2023-03-26T07:35:42.150Z"
   },
   {
    "duration": 379,
    "start_time": "2023-03-26T07:35:42.207Z"
   },
   {
    "duration": 92,
    "start_time": "2023-03-26T07:35:42.589Z"
   },
   {
    "duration": 335,
    "start_time": "2023-03-26T07:35:42.684Z"
   },
   {
    "duration": 212,
    "start_time": "2023-03-26T07:35:43.023Z"
   },
   {
    "duration": 27,
    "start_time": "2023-03-26T07:35:43.237Z"
   },
   {
    "duration": 419,
    "start_time": "2023-03-26T07:35:43.266Z"
   },
   {
    "duration": 537,
    "start_time": "2023-03-26T07:35:43.687Z"
   },
   {
    "duration": 323,
    "start_time": "2023-03-26T07:35:44.226Z"
   },
   {
    "duration": 339,
    "start_time": "2023-03-26T07:35:44.550Z"
   },
   {
    "duration": 62,
    "start_time": "2023-03-26T07:35:44.891Z"
   },
   {
    "duration": 57,
    "start_time": "2023-03-26T07:35:44.955Z"
   },
   {
    "duration": 80,
    "start_time": "2023-03-26T07:35:45.014Z"
   },
   {
    "duration": 12,
    "start_time": "2023-03-26T07:35:45.096Z"
   },
   {
    "duration": 444,
    "start_time": "2023-03-26T07:35:45.110Z"
   },
   {
    "duration": 1503,
    "start_time": "2023-03-26T07:35:45.556Z"
   },
   {
    "duration": 126,
    "start_time": "2023-03-26T07:35:47.062Z"
   },
   {
    "duration": 4,
    "start_time": "2023-03-26T07:35:47.190Z"
   },
   {
    "duration": 193,
    "start_time": "2023-03-26T07:35:47.196Z"
   },
   {
    "duration": 91,
    "start_time": "2023-03-26T07:35:47.391Z"
   },
   {
    "duration": 80,
    "start_time": "2023-03-26T07:35:47.484Z"
   },
   {
    "duration": 4,
    "start_time": "2023-03-26T07:35:47.566Z"
   },
   {
    "duration": 12,
    "start_time": "2023-03-26T07:35:47.574Z"
   },
   {
    "duration": 24,
    "start_time": "2023-03-26T07:35:47.588Z"
   },
   {
    "duration": 25,
    "start_time": "2023-03-26T07:35:47.614Z"
   },
   {
    "duration": 5721,
    "start_time": "2023-03-26T07:35:47.641Z"
   },
   {
    "duration": 0,
    "start_time": "2023-03-26T07:35:53.364Z"
   },
   {
    "duration": 2,
    "start_time": "2023-03-26T07:37:12.468Z"
   },
   {
    "duration": 11,
    "start_time": "2023-03-26T07:37:16.015Z"
   },
   {
    "duration": 6053,
    "start_time": "2023-03-26T07:39:18.898Z"
   },
   {
    "duration": 4,
    "start_time": "2023-03-26T07:39:45.336Z"
   },
   {
    "duration": 4,
    "start_time": "2023-03-26T07:39:45.737Z"
   },
   {
    "duration": 4,
    "start_time": "2023-03-26T07:39:46.168Z"
   },
   {
    "duration": 3,
    "start_time": "2023-03-26T07:39:49.177Z"
   },
   {
    "duration": 3,
    "start_time": "2023-03-26T07:39:51.910Z"
   },
   {
    "duration": 5366,
    "start_time": "2023-03-26T07:39:54.383Z"
   },
   {
    "duration": 11,
    "start_time": "2023-03-26T07:40:14.700Z"
   },
   {
    "duration": 4,
    "start_time": "2023-03-26T07:40:19.802Z"
   },
   {
    "duration": 3,
    "start_time": "2023-03-26T07:42:04.546Z"
   },
   {
    "duration": 2915,
    "start_time": "2023-03-26T07:42:06.348Z"
   },
   {
    "duration": 3,
    "start_time": "2023-03-26T07:43:20.936Z"
   },
   {
    "duration": 32,
    "start_time": "2023-03-26T07:43:23.656Z"
   },
   {
    "duration": 64,
    "start_time": "2023-03-26T07:43:24.652Z"
   },
   {
    "duration": 69,
    "start_time": "2023-03-26T07:43:25.715Z"
   },
   {
    "duration": 4,
    "start_time": "2023-03-26T07:43:28.349Z"
   },
   {
    "duration": 3,
    "start_time": "2023-03-26T07:43:32.342Z"
   },
   {
    "duration": 1993,
    "start_time": "2023-03-26T07:46:17.864Z"
   },
   {
    "duration": 5,
    "start_time": "2023-03-26T07:46:19.859Z"
   },
   {
    "duration": 970,
    "start_time": "2023-03-26T07:46:19.865Z"
   },
   {
    "duration": 895,
    "start_time": "2023-03-26T07:46:20.837Z"
   },
   {
    "duration": 8,
    "start_time": "2023-03-26T07:46:21.734Z"
   },
   {
    "duration": 64,
    "start_time": "2023-03-26T07:46:21.744Z"
   },
   {
    "duration": 380,
    "start_time": "2023-03-26T07:46:21.810Z"
   },
   {
    "duration": 94,
    "start_time": "2023-03-26T07:46:22.192Z"
   },
   {
    "duration": 322,
    "start_time": "2023-03-26T07:46:22.288Z"
   },
   {
    "duration": 203,
    "start_time": "2023-03-26T07:46:22.614Z"
   },
   {
    "duration": 33,
    "start_time": "2023-03-26T07:46:22.819Z"
   },
   {
    "duration": 425,
    "start_time": "2023-03-26T07:46:22.854Z"
   },
   {
    "duration": 572,
    "start_time": "2023-03-26T07:46:23.282Z"
   },
   {
    "duration": 328,
    "start_time": "2023-03-26T07:46:23.856Z"
   },
   {
    "duration": 346,
    "start_time": "2023-03-26T07:46:24.186Z"
   },
   {
    "duration": 67,
    "start_time": "2023-03-26T07:46:24.534Z"
   },
   {
    "duration": 85,
    "start_time": "2023-03-26T07:46:24.603Z"
   },
   {
    "duration": 78,
    "start_time": "2023-03-26T07:46:24.691Z"
   },
   {
    "duration": 15,
    "start_time": "2023-03-26T07:46:24.771Z"
   },
   {
    "duration": 451,
    "start_time": "2023-03-26T07:46:24.788Z"
   },
   {
    "duration": 1475,
    "start_time": "2023-03-26T07:46:25.240Z"
   },
   {
    "duration": 124,
    "start_time": "2023-03-26T07:46:26.717Z"
   },
   {
    "duration": 3,
    "start_time": "2023-03-26T07:46:26.843Z"
   },
   {
    "duration": 195,
    "start_time": "2023-03-26T07:46:26.847Z"
   },
   {
    "duration": 83,
    "start_time": "2023-03-26T07:46:27.044Z"
   },
   {
    "duration": 80,
    "start_time": "2023-03-26T07:46:27.129Z"
   },
   {
    "duration": 4,
    "start_time": "2023-03-26T07:46:27.211Z"
   },
   {
    "duration": 23,
    "start_time": "2023-03-26T07:46:27.218Z"
   },
   {
    "duration": 4,
    "start_time": "2023-03-26T07:46:27.243Z"
   },
   {
    "duration": 16,
    "start_time": "2023-03-26T07:46:27.249Z"
   },
   {
    "duration": 11,
    "start_time": "2023-03-26T07:46:27.267Z"
   },
   {
    "duration": 17,
    "start_time": "2023-03-26T07:46:27.279Z"
   },
   {
    "duration": 242199,
    "start_time": "2023-03-26T07:46:27.298Z"
   },
   {
    "duration": 0,
    "start_time": "2023-03-26T07:50:29.498Z"
   },
   {
    "duration": 241636,
    "start_time": "2023-03-26T07:51:40.266Z"
   },
   {
    "duration": 17,
    "start_time": "2023-03-26T07:55:49.152Z"
   },
   {
    "duration": 3,
    "start_time": "2023-03-26T07:56:18.336Z"
   },
   {
    "duration": 16,
    "start_time": "2023-03-26T07:56:22.065Z"
   },
   {
    "duration": 11,
    "start_time": "2023-03-26T07:57:32.332Z"
   },
   {
    "duration": 24,
    "start_time": "2023-03-26T08:13:55.632Z"
   },
   {
    "duration": 5,
    "start_time": "2023-03-26T08:14:09.915Z"
   },
   {
    "duration": 16,
    "start_time": "2023-03-26T08:14:17.782Z"
   },
   {
    "duration": 4,
    "start_time": "2023-03-26T08:19:55.357Z"
   },
   {
    "duration": 4,
    "start_time": "2023-03-26T08:20:07.259Z"
   },
   {
    "duration": 4,
    "start_time": "2023-03-26T08:21:01.316Z"
   },
   {
    "duration": 1791,
    "start_time": "2023-03-26T08:21:39.640Z"
   },
   {
    "duration": 5,
    "start_time": "2023-03-26T08:21:41.433Z"
   },
   {
    "duration": 1059,
    "start_time": "2023-03-26T08:21:41.440Z"
   },
   {
    "duration": 1046,
    "start_time": "2023-03-26T08:21:42.503Z"
   },
   {
    "duration": 8,
    "start_time": "2023-03-26T08:21:43.554Z"
   },
   {
    "duration": 70,
    "start_time": "2023-03-26T08:21:43.563Z"
   },
   {
    "duration": 487,
    "start_time": "2023-03-26T08:21:43.635Z"
   },
   {
    "duration": 96,
    "start_time": "2023-03-26T08:21:44.124Z"
   },
   {
    "duration": 344,
    "start_time": "2023-03-26T08:21:44.222Z"
   },
   {
    "duration": 249,
    "start_time": "2023-03-26T08:21:44.570Z"
   },
   {
    "duration": 41,
    "start_time": "2023-03-26T08:21:44.821Z"
   },
   {
    "duration": 498,
    "start_time": "2023-03-26T08:21:44.864Z"
   },
   {
    "duration": 669,
    "start_time": "2023-03-26T08:21:45.364Z"
   },
   {
    "duration": 387,
    "start_time": "2023-03-26T08:21:46.036Z"
   },
   {
    "duration": 428,
    "start_time": "2023-03-26T08:21:46.425Z"
   },
   {
    "duration": 74,
    "start_time": "2023-03-26T08:21:46.857Z"
   },
   {
    "duration": 73,
    "start_time": "2023-03-26T08:21:46.942Z"
   },
   {
    "duration": 81,
    "start_time": "2023-03-26T08:21:47.017Z"
   },
   {
    "duration": 16,
    "start_time": "2023-03-26T08:21:47.099Z"
   },
   {
    "duration": 508,
    "start_time": "2023-03-26T08:21:47.116Z"
   },
   {
    "duration": 1593,
    "start_time": "2023-03-26T08:21:47.626Z"
   },
   {
    "duration": 140,
    "start_time": "2023-03-26T08:21:49.222Z"
   },
   {
    "duration": 4,
    "start_time": "2023-03-26T08:21:49.364Z"
   },
   {
    "duration": 209,
    "start_time": "2023-03-26T08:21:49.369Z"
   },
   {
    "duration": 107,
    "start_time": "2023-03-26T08:21:49.580Z"
   },
   {
    "duration": 81,
    "start_time": "2023-03-26T08:21:49.690Z"
   },
   {
    "duration": 4,
    "start_time": "2023-03-26T08:21:49.773Z"
   },
   {
    "duration": 8,
    "start_time": "2023-03-26T08:21:49.780Z"
   },
   {
    "duration": 8,
    "start_time": "2023-03-26T08:21:49.790Z"
   },
   {
    "duration": 10,
    "start_time": "2023-03-26T08:21:49.800Z"
   },
   {
    "duration": 268462,
    "start_time": "2023-03-26T08:21:49.812Z"
   },
   {
    "duration": 4,
    "start_time": "2023-03-26T08:26:18.276Z"
   },
   {
    "duration": 140,
    "start_time": "2023-03-26T08:26:18.283Z"
   },
   {
    "duration": 12,
    "start_time": "2023-03-26T08:29:43.302Z"
   },
   {
    "duration": 13,
    "start_time": "2023-03-26T08:30:04.410Z"
   },
   {
    "duration": 17,
    "start_time": "2023-03-26T08:32:06.834Z"
   },
   {
    "duration": 15,
    "start_time": "2023-03-26T08:35:37.158Z"
   },
   {
    "duration": 12,
    "start_time": "2023-03-26T08:35:54.939Z"
   },
   {
    "duration": 21,
    "start_time": "2023-03-26T08:36:05.930Z"
   },
   {
    "duration": 21,
    "start_time": "2023-03-26T08:36:49.572Z"
   },
   {
    "duration": 3,
    "start_time": "2023-03-26T08:37:01.089Z"
   },
   {
    "duration": 17,
    "start_time": "2023-03-26T08:37:03.835Z"
   },
   {
    "duration": 3,
    "start_time": "2023-03-26T08:37:31.149Z"
   },
   {
    "duration": 16,
    "start_time": "2023-03-26T08:37:34.727Z"
   },
   {
    "duration": 23,
    "start_time": "2023-03-26T08:37:45.937Z"
   },
   {
    "duration": 4,
    "start_time": "2023-03-26T08:37:57.733Z"
   },
   {
    "duration": 4,
    "start_time": "2023-03-26T08:37:59.635Z"
   },
   {
    "duration": 12,
    "start_time": "2023-03-26T08:40:41.338Z"
   },
   {
    "duration": 3,
    "start_time": "2023-03-26T08:40:56.518Z"
   },
   {
    "duration": 8856,
    "start_time": "2023-03-26T08:40:57.697Z"
   },
   {
    "duration": 4,
    "start_time": "2023-03-26T08:41:34.657Z"
   },
   {
    "duration": 4,
    "start_time": "2023-03-26T08:41:54.360Z"
   },
   {
    "duration": 7914,
    "start_time": "2023-03-26T08:42:46.527Z"
   },
   {
    "duration": 4,
    "start_time": "2023-03-26T08:42:56.209Z"
   },
   {
    "duration": 4,
    "start_time": "2023-03-26T08:42:57.734Z"
   },
   {
    "duration": 3,
    "start_time": "2023-03-26T08:45:12.773Z"
   },
   {
    "duration": 3,
    "start_time": "2023-03-26T08:46:51.488Z"
   },
   {
    "duration": 65,
    "start_time": "2023-03-26T08:47:23.788Z"
   },
   {
    "duration": 5,
    "start_time": "2023-03-26T08:47:25.966Z"
   },
   {
    "duration": 4,
    "start_time": "2023-03-26T08:47:27.728Z"
   },
   {
    "duration": 5,
    "start_time": "2023-03-26T09:01:06.674Z"
   },
   {
    "duration": 4,
    "start_time": "2023-03-26T09:01:41.938Z"
   },
   {
    "duration": 253792,
    "start_time": "2023-03-26T09:01:47.796Z"
   },
   {
    "duration": 5,
    "start_time": "2023-03-26T09:06:38.151Z"
   },
   {
    "duration": 14,
    "start_time": "2023-03-26T09:08:59.986Z"
   },
   {
    "duration": 4,
    "start_time": "2023-03-26T09:09:10.814Z"
   },
   {
    "duration": 376052,
    "start_time": "2023-03-26T09:09:11.796Z"
   },
   {
    "duration": 5,
    "start_time": "2023-03-26T09:15:56.519Z"
   },
   {
    "duration": 100,
    "start_time": "2023-03-26T09:21:15.304Z"
   },
   {
    "duration": 80,
    "start_time": "2023-03-26T09:21:33.518Z"
   },
   {
    "duration": 89,
    "start_time": "2023-03-26T09:21:56.905Z"
   },
   {
    "duration": 15,
    "start_time": "2023-03-26T09:22:10.856Z"
   },
   {
    "duration": 3,
    "start_time": "2023-03-26T09:22:23.086Z"
   },
   {
    "duration": 4,
    "start_time": "2023-03-26T09:22:50.298Z"
   },
   {
    "duration": 4,
    "start_time": "2023-03-26T09:23:08.226Z"
   },
   {
    "duration": 254346,
    "start_time": "2023-03-26T09:23:26.708Z"
   },
   {
    "duration": 5,
    "start_time": "2023-03-26T09:34:55.898Z"
   },
   {
    "duration": 3,
    "start_time": "2023-03-26T09:36:23.894Z"
   },
   {
    "duration": 3,
    "start_time": "2023-03-26T09:37:34.846Z"
   },
   {
    "duration": 22616,
    "start_time": "2023-03-26T09:37:35.967Z"
   },
   {
    "duration": 6,
    "start_time": "2023-03-26T09:38:09.604Z"
   },
   {
    "duration": 3,
    "start_time": "2023-03-26T09:44:33.182Z"
   },
   {
    "duration": 192800,
    "start_time": "2023-03-26T09:44:34.041Z"
   },
   {
    "duration": 5,
    "start_time": "2023-03-26T09:47:57.643Z"
   },
   {
    "duration": 1207,
    "start_time": "2023-03-26T09:53:28.297Z"
   },
   {
    "duration": 12,
    "start_time": "2023-03-26T09:53:30.483Z"
   },
   {
    "duration": 13,
    "start_time": "2023-03-26T09:54:26.296Z"
   },
   {
    "duration": 14,
    "start_time": "2023-03-26T09:55:11.167Z"
   },
   {
    "duration": 14,
    "start_time": "2023-03-26T09:58:02.621Z"
   },
   {
    "duration": 4,
    "start_time": "2023-03-26T09:58:09.203Z"
   },
   {
    "duration": 142605,
    "start_time": "2023-03-26T09:58:10.553Z"
   },
   {
    "duration": 4,
    "start_time": "2023-03-26T10:00:39.641Z"
   },
   {
    "duration": 13,
    "start_time": "2023-03-26T10:02:51.500Z"
   },
   {
    "duration": 4,
    "start_time": "2023-03-26T10:02:57.718Z"
   },
   {
    "duration": 297001,
    "start_time": "2023-03-26T10:02:59.368Z"
   },
   {
    "duration": 5,
    "start_time": "2023-03-26T10:08:22.446Z"
   },
   {
    "duration": 92,
    "start_time": "2023-03-26T10:13:54.415Z"
   },
   {
    "duration": 4,
    "start_time": "2023-03-26T10:14:02.597Z"
   },
   {
    "duration": 3,
    "start_time": "2023-03-26T10:14:08.396Z"
   },
   {
    "duration": 3,
    "start_time": "2023-03-26T10:14:26.455Z"
   },
   {
    "duration": 22886,
    "start_time": "2023-03-26T10:14:27.851Z"
   },
   {
    "duration": 5,
    "start_time": "2023-03-26T10:14:57.919Z"
   },
   {
    "duration": 13,
    "start_time": "2023-03-26T10:15:50.322Z"
   },
   {
    "duration": 3,
    "start_time": "2023-03-26T10:15:58.528Z"
   },
   {
    "duration": 3,
    "start_time": "2023-03-26T10:16:25.497Z"
   },
   {
    "duration": 188156,
    "start_time": "2023-03-26T10:16:26.392Z"
   },
   {
    "duration": 5,
    "start_time": "2023-03-26T10:19:34.551Z"
   },
   {
    "duration": 1868,
    "start_time": "2023-03-26T10:37:20.481Z"
   },
   {
    "duration": 6,
    "start_time": "2023-03-26T10:37:22.352Z"
   },
   {
    "duration": 1231,
    "start_time": "2023-03-26T10:37:22.360Z"
   },
   {
    "duration": 958,
    "start_time": "2023-03-26T10:37:23.594Z"
   },
   {
    "duration": 3,
    "start_time": "2023-03-26T10:37:24.554Z"
   },
   {
    "duration": 69,
    "start_time": "2023-03-26T10:37:24.559Z"
   },
   {
    "duration": 488,
    "start_time": "2023-03-26T10:37:24.631Z"
   },
   {
    "duration": 126,
    "start_time": "2023-03-26T10:37:25.120Z"
   },
   {
    "duration": 344,
    "start_time": "2023-03-26T10:37:25.248Z"
   },
   {
    "duration": 224,
    "start_time": "2023-03-26T10:37:25.595Z"
   },
   {
    "duration": 43,
    "start_time": "2023-03-26T10:37:25.822Z"
   },
   {
    "duration": 535,
    "start_time": "2023-03-26T10:37:25.867Z"
   },
   {
    "duration": 733,
    "start_time": "2023-03-26T10:37:26.404Z"
   },
   {
    "duration": 464,
    "start_time": "2023-03-26T10:37:27.140Z"
   },
   {
    "duration": 506,
    "start_time": "2023-03-26T10:37:27.606Z"
   },
   {
    "duration": 79,
    "start_time": "2023-03-26T10:37:28.114Z"
   },
   {
    "duration": 94,
    "start_time": "2023-03-26T10:37:28.195Z"
   },
   {
    "duration": 70,
    "start_time": "2023-03-26T10:37:28.291Z"
   },
   {
    "duration": 25,
    "start_time": "2023-03-26T10:37:28.364Z"
   },
   {
    "duration": 512,
    "start_time": "2023-03-26T10:37:28.391Z"
   },
   {
    "duration": 1738,
    "start_time": "2023-03-26T10:37:28.905Z"
   },
   {
    "duration": 129,
    "start_time": "2023-03-26T10:37:30.646Z"
   },
   {
    "duration": 3,
    "start_time": "2023-03-26T10:37:30.777Z"
   },
   {
    "duration": 303,
    "start_time": "2023-03-26T10:37:30.783Z"
   },
   {
    "duration": 98,
    "start_time": "2023-03-26T10:37:31.088Z"
   },
   {
    "duration": 83,
    "start_time": "2023-03-26T10:37:31.188Z"
   },
   {
    "duration": 4,
    "start_time": "2023-03-26T10:37:31.274Z"
   },
   {
    "duration": 34,
    "start_time": "2023-03-26T10:37:31.282Z"
   },
   {
    "duration": 21,
    "start_time": "2023-03-26T10:37:31.318Z"
   },
   {
    "duration": 34,
    "start_time": "2023-03-26T10:37:31.340Z"
   },
   {
    "duration": 259912,
    "start_time": "2023-03-26T10:37:31.376Z"
   },
   {
    "duration": 4,
    "start_time": "2023-03-26T10:41:51.291Z"
   },
   {
    "duration": 15,
    "start_time": "2023-03-26T10:41:51.297Z"
   },
   {
    "duration": 12,
    "start_time": "2023-03-26T10:41:51.314Z"
   },
   {
    "duration": 300013,
    "start_time": "2023-03-26T10:41:51.329Z"
   },
   {
    "duration": 0,
    "start_time": "2023-03-26T10:46:51.345Z"
   },
   {
    "duration": 0,
    "start_time": "2023-03-26T10:46:51.346Z"
   },
   {
    "duration": 0,
    "start_time": "2023-03-26T10:46:51.348Z"
   },
   {
    "duration": 0,
    "start_time": "2023-03-26T10:46:51.350Z"
   },
   {
    "duration": 0,
    "start_time": "2023-03-26T10:46:51.351Z"
   },
   {
    "duration": 0,
    "start_time": "2023-03-26T10:46:51.353Z"
   },
   {
    "duration": 0,
    "start_time": "2023-03-26T10:46:51.354Z"
   },
   {
    "duration": 0,
    "start_time": "2023-03-26T10:46:51.356Z"
   },
   {
    "duration": 0,
    "start_time": "2023-03-26T10:46:51.357Z"
   },
   {
    "duration": 0,
    "start_time": "2023-03-26T10:46:51.359Z"
   },
   {
    "duration": 0,
    "start_time": "2023-03-26T10:46:51.361Z"
   },
   {
    "duration": 0,
    "start_time": "2023-03-26T10:46:51.362Z"
   },
   {
    "duration": 0,
    "start_time": "2023-03-26T10:46:51.364Z"
   },
   {
    "duration": 0,
    "start_time": "2023-03-26T10:46:51.365Z"
   },
   {
    "duration": 0,
    "start_time": "2023-03-26T10:46:51.366Z"
   },
   {
    "duration": 0,
    "start_time": "2023-03-26T10:46:51.368Z"
   },
   {
    "duration": 0,
    "start_time": "2023-03-26T10:46:51.369Z"
   },
   {
    "duration": 0,
    "start_time": "2023-03-26T10:46:51.371Z"
   },
   {
    "duration": 1895,
    "start_time": "2023-03-26T10:49:35.015Z"
   },
   {
    "duration": 5,
    "start_time": "2023-03-26T10:49:36.913Z"
   },
   {
    "duration": 1053,
    "start_time": "2023-03-26T10:49:36.920Z"
   },
   {
    "duration": 999,
    "start_time": "2023-03-26T10:49:37.976Z"
   },
   {
    "duration": 4,
    "start_time": "2023-03-26T10:49:38.977Z"
   },
   {
    "duration": 169,
    "start_time": "2023-03-26T10:49:38.983Z"
   },
   {
    "duration": 456,
    "start_time": "2023-03-26T10:49:39.154Z"
   },
   {
    "duration": 94,
    "start_time": "2023-03-26T10:49:39.612Z"
   },
   {
    "duration": 339,
    "start_time": "2023-03-26T10:49:39.709Z"
   },
   {
    "duration": 241,
    "start_time": "2023-03-26T10:49:40.052Z"
   },
   {
    "duration": 27,
    "start_time": "2023-03-26T10:49:40.295Z"
   },
   {
    "duration": 451,
    "start_time": "2023-03-26T10:49:40.324Z"
   },
   {
    "duration": 650,
    "start_time": "2023-03-26T10:49:40.777Z"
   },
   {
    "duration": 354,
    "start_time": "2023-03-26T10:49:41.429Z"
   },
   {
    "duration": 380,
    "start_time": "2023-03-26T10:49:41.786Z"
   },
   {
    "duration": 74,
    "start_time": "2023-03-26T10:49:42.168Z"
   },
   {
    "duration": 67,
    "start_time": "2023-03-26T10:49:42.244Z"
   },
   {
    "duration": 86,
    "start_time": "2023-03-26T10:49:42.312Z"
   },
   {
    "duration": 15,
    "start_time": "2023-03-26T10:49:42.400Z"
   },
   {
    "duration": 477,
    "start_time": "2023-03-26T10:49:42.418Z"
   },
   {
    "duration": 1542,
    "start_time": "2023-03-26T10:49:42.897Z"
   },
   {
    "duration": 138,
    "start_time": "2023-03-26T10:49:44.441Z"
   },
   {
    "duration": 3,
    "start_time": "2023-03-26T10:49:44.582Z"
   },
   {
    "duration": 234,
    "start_time": "2023-03-26T10:49:44.586Z"
   },
   {
    "duration": 97,
    "start_time": "2023-03-26T10:49:44.822Z"
   },
   {
    "duration": 79,
    "start_time": "2023-03-26T10:49:44.921Z"
   },
   {
    "duration": 3,
    "start_time": "2023-03-26T10:49:45.003Z"
   },
   {
    "duration": 21,
    "start_time": "2023-03-26T10:49:45.010Z"
   },
   {
    "duration": 13,
    "start_time": "2023-03-26T10:49:45.033Z"
   },
   {
    "duration": 52,
    "start_time": "2023-03-26T10:49:45.048Z"
   },
   {
    "duration": 282933,
    "start_time": "2023-03-26T10:49:45.101Z"
   },
   {
    "duration": 7,
    "start_time": "2023-03-26T10:54:28.036Z"
   },
   {
    "duration": 15,
    "start_time": "2023-03-26T10:54:28.045Z"
   },
   {
    "duration": 7,
    "start_time": "2023-03-26T10:54:28.062Z"
   },
   {
    "duration": 361770,
    "start_time": "2023-03-26T10:54:28.072Z"
   },
   {
    "duration": 7,
    "start_time": "2023-03-26T11:00:29.844Z"
   },
   {
    "duration": 15,
    "start_time": "2023-03-26T11:00:29.854Z"
   },
   {
    "duration": 20,
    "start_time": "2023-03-26T11:00:29.872Z"
   },
   {
    "duration": 162,
    "start_time": "2023-03-26T11:00:29.895Z"
   },
   {
    "duration": 85,
    "start_time": "2023-03-26T11:00:30.061Z"
   },
   {
    "duration": 96,
    "start_time": "2023-03-26T11:00:30.148Z"
   },
   {
    "duration": 78,
    "start_time": "2023-03-26T11:00:30.247Z"
   },
   {
    "duration": 319187,
    "start_time": "2023-03-26T11:00:30.327Z"
   },
   {
    "duration": 6,
    "start_time": "2023-03-26T11:05:49.516Z"
   },
   {
    "duration": 19,
    "start_time": "2023-03-26T11:05:49.524Z"
   },
   {
    "duration": 2199,
    "start_time": "2023-03-27T22:16:05.377Z"
   },
   {
    "duration": 6,
    "start_time": "2023-03-27T22:16:07.579Z"
   },
   {
    "duration": 3204,
    "start_time": "2023-03-27T22:16:07.587Z"
   },
   {
    "duration": 1023,
    "start_time": "2023-03-27T22:16:10.793Z"
   },
   {
    "duration": 3,
    "start_time": "2023-03-27T22:16:11.818Z"
   },
   {
    "duration": 85,
    "start_time": "2023-03-27T22:16:11.823Z"
   },
   {
    "duration": 415,
    "start_time": "2023-03-27T22:16:11.910Z"
   },
   {
    "duration": 126,
    "start_time": "2023-03-27T22:16:12.327Z"
   },
   {
    "duration": 337,
    "start_time": "2023-03-27T22:16:12.456Z"
   },
   {
    "duration": 224,
    "start_time": "2023-03-27T22:16:12.796Z"
   },
   {
    "duration": 37,
    "start_time": "2023-03-27T22:16:13.022Z"
   },
   {
    "duration": 515,
    "start_time": "2023-03-27T22:16:13.061Z"
   },
   {
    "duration": 636,
    "start_time": "2023-03-27T22:16:13.578Z"
   },
   {
    "duration": 401,
    "start_time": "2023-03-27T22:16:14.216Z"
   },
   {
    "duration": 412,
    "start_time": "2023-03-27T22:16:14.619Z"
   },
   {
    "duration": 94,
    "start_time": "2023-03-27T22:16:15.033Z"
   },
   {
    "duration": 91,
    "start_time": "2023-03-27T22:16:15.129Z"
   },
   {
    "duration": 84,
    "start_time": "2023-03-27T22:16:15.222Z"
   },
   {
    "duration": 25,
    "start_time": "2023-03-27T22:16:15.308Z"
   },
   {
    "duration": 593,
    "start_time": "2023-03-27T22:16:15.336Z"
   },
   {
    "duration": 1687,
    "start_time": "2023-03-27T22:16:15.931Z"
   },
   {
    "duration": 108,
    "start_time": "2023-03-27T22:16:17.619Z"
   },
   {
    "duration": 3,
    "start_time": "2023-03-27T22:16:17.728Z"
   },
   {
    "duration": 201,
    "start_time": "2023-03-27T22:16:17.741Z"
   },
   {
    "duration": 95,
    "start_time": "2023-03-27T22:16:17.944Z"
   },
   {
    "duration": 70,
    "start_time": "2023-03-27T22:16:18.048Z"
   },
   {
    "duration": 4,
    "start_time": "2023-03-27T22:16:18.120Z"
   },
   {
    "duration": 14,
    "start_time": "2023-03-27T22:16:18.138Z"
   },
   {
    "duration": 8,
    "start_time": "2023-03-27T22:16:18.154Z"
   },
   {
    "duration": 7,
    "start_time": "2023-03-27T22:16:18.164Z"
   },
   {
    "duration": 261517,
    "start_time": "2023-03-27T22:16:18.173Z"
   },
   {
    "duration": 8,
    "start_time": "2023-03-27T22:20:39.692Z"
   },
   {
    "duration": 30,
    "start_time": "2023-03-27T22:20:39.702Z"
   },
   {
    "duration": 27,
    "start_time": "2023-03-27T22:20:39.734Z"
   },
   {
    "duration": 402989,
    "start_time": "2023-03-27T22:20:39.762Z"
   },
   {
    "duration": 6,
    "start_time": "2023-03-27T22:27:22.753Z"
   },
   {
    "duration": 18,
    "start_time": "2023-03-27T22:27:22.761Z"
   },
   {
    "duration": 17,
    "start_time": "2023-03-27T22:27:22.781Z"
   },
   {
    "duration": 234,
    "start_time": "2023-03-27T22:27:22.800Z"
   },
   {
    "duration": 4,
    "start_time": "2023-03-27T22:27:23.036Z"
   },
   {
    "duration": 113,
    "start_time": "2023-03-27T22:27:23.042Z"
   },
   {
    "duration": 8,
    "start_time": "2023-03-27T22:27:23.157Z"
   },
   {
    "duration": 323816,
    "start_time": "2023-03-27T22:27:23.167Z"
   },
   {
    "duration": 4,
    "start_time": "2023-03-27T22:32:46.985Z"
   },
   {
    "duration": 8,
    "start_time": "2023-03-27T22:32:46.991Z"
   },
   {
    "duration": 201458,
    "start_time": "2023-03-27T22:32:47.000Z"
   },
   {
    "duration": 80,
    "start_time": "2023-03-27T22:36:08.460Z"
   },
   {
    "duration": 14,
    "start_time": "2023-03-27T22:36:08.550Z"
   },
   {
    "duration": 22721,
    "start_time": "2023-03-27T22:36:08.566Z"
   },
   {
    "duration": 5,
    "start_time": "2023-03-27T22:36:31.289Z"
   },
   {
    "duration": 20,
    "start_time": "2023-03-27T22:36:31.296Z"
   },
   {
    "duration": 18538,
    "start_time": "2023-03-27T22:36:31.318Z"
   },
   {
    "duration": 4,
    "start_time": "2023-03-27T22:36:49.858Z"
   },
   {
    "duration": 101,
    "start_time": "2023-03-27T22:36:49.866Z"
   },
   {
    "duration": 1489,
    "start_time": "2023-03-29T03:46:19.090Z"
   },
   {
    "duration": 3,
    "start_time": "2023-03-29T03:46:20.780Z"
   },
   {
    "duration": 2796,
    "start_time": "2023-03-29T03:46:21.329Z"
   },
   {
    "duration": 782,
    "start_time": "2023-03-29T03:46:24.127Z"
   },
   {
    "duration": 110,
    "start_time": "2023-03-29T03:47:39.250Z"
   },
   {
    "duration": 14,
    "start_time": "2023-03-29T03:47:45.180Z"
   },
   {
    "duration": 350,
    "start_time": "2023-03-29T03:48:28.390Z"
   },
   {
    "duration": 33,
    "start_time": "2023-03-29T03:50:26.315Z"
   },
   {
    "duration": 36,
    "start_time": "2023-03-29T03:52:07.410Z"
   },
   {
    "duration": 1299,
    "start_time": "2023-03-29T03:52:30.650Z"
   },
   {
    "duration": 45,
    "start_time": "2023-03-29T03:52:57.990Z"
   },
   {
    "duration": 51,
    "start_time": "2023-03-29T03:54:57.980Z"
   },
   {
    "duration": 13,
    "start_time": "2023-03-29T03:54:59.219Z"
   },
   {
    "duration": 3,
    "start_time": "2023-03-29T03:55:03.170Z"
   },
   {
    "duration": 61,
    "start_time": "2023-03-29T03:55:04.371Z"
   },
   {
    "duration": 21,
    "start_time": "2023-03-29T03:55:04.930Z"
   },
   {
    "duration": 345,
    "start_time": "2023-03-29T03:55:08.490Z"
   },
   {
    "duration": 87,
    "start_time": "2023-03-29T03:55:10.370Z"
   },
   {
    "duration": 253,
    "start_time": "2023-03-29T03:55:14.940Z"
   },
   {
    "duration": 156,
    "start_time": "2023-03-29T03:55:15.730Z"
   },
   {
    "duration": 23,
    "start_time": "2023-03-29T03:55:23.430Z"
   },
   {
    "duration": 350,
    "start_time": "2023-03-29T03:55:24.170Z"
   },
   {
    "duration": 1228,
    "start_time": "2023-03-29T03:55:35.263Z"
   },
   {
    "duration": 33,
    "start_time": "2023-03-29T03:55:52.500Z"
   },
   {
    "duration": 525,
    "start_time": "2023-03-29T03:55:54.390Z"
   },
   {
    "duration": 158,
    "start_time": "2023-03-29T04:00:34.010Z"
   },
   {
    "duration": 12,
    "start_time": "2023-03-29T04:28:34.620Z"
   },
   {
    "duration": 340,
    "start_time": "2023-03-29T04:30:06.940Z"
   },
   {
    "duration": 108,
    "start_time": "2023-03-29T04:30:53.330Z"
   },
   {
    "duration": 51,
    "start_time": "2023-03-29T04:31:02.010Z"
   },
   {
    "duration": 59,
    "start_time": "2023-03-29T04:31:06.550Z"
   },
   {
    "duration": 604,
    "start_time": "2023-03-29T04:38:06.840Z"
   },
   {
    "duration": 10,
    "start_time": "2023-03-29T04:38:11.809Z"
   },
   {
    "duration": 550,
    "start_time": "2023-03-29T04:38:12.450Z"
   },
   {
    "duration": 620,
    "start_time": "2023-03-29T04:38:25.920Z"
   },
   {
    "duration": 9,
    "start_time": "2023-03-29T04:41:21.270Z"
   },
   {
    "duration": 4,
    "start_time": "2023-03-29T04:41:53.325Z"
   },
   {
    "duration": 11,
    "start_time": "2023-03-29T04:42:07.720Z"
   },
   {
    "duration": 13,
    "start_time": "2023-03-29T04:42:14.130Z"
   },
   {
    "duration": 4,
    "start_time": "2023-03-29T04:43:13.570Z"
   },
   {
    "duration": 4,
    "start_time": "2023-03-29T04:43:14.935Z"
   },
   {
    "duration": 756,
    "start_time": "2023-03-29T04:43:15.350Z"
   },
   {
    "duration": 700,
    "start_time": "2023-03-29T04:43:16.340Z"
   },
   {
    "duration": 32,
    "start_time": "2023-03-29T04:43:17.480Z"
   },
   {
    "duration": 5,
    "start_time": "2023-03-29T04:43:18.339Z"
   },
   {
    "duration": 41,
    "start_time": "2023-03-29T04:43:20.181Z"
   },
   {
    "duration": 28,
    "start_time": "2023-03-29T04:43:21.180Z"
   },
   {
    "duration": 325,
    "start_time": "2023-03-29T04:43:23.220Z"
   },
   {
    "duration": 124,
    "start_time": "2023-03-29T04:43:24.405Z"
   },
   {
    "duration": 263,
    "start_time": "2023-03-29T04:43:26.809Z"
   },
   {
    "duration": 174,
    "start_time": "2023-03-29T04:43:27.919Z"
   },
   {
    "duration": 21,
    "start_time": "2023-03-29T04:43:29.541Z"
   },
   {
    "duration": 432,
    "start_time": "2023-03-29T04:43:30.800Z"
   },
   {
    "duration": 54,
    "start_time": "2023-03-29T04:43:31.690Z"
   },
   {
    "duration": 419,
    "start_time": "2023-03-29T04:43:32.600Z"
   },
   {
    "duration": 261,
    "start_time": "2023-03-29T04:43:38.160Z"
   },
   {
    "duration": 12,
    "start_time": "2023-03-29T04:43:39.210Z"
   },
   {
    "duration": 319,
    "start_time": "2023-03-29T04:43:40.020Z"
   },
   {
    "duration": 313,
    "start_time": "2023-03-29T04:43:41.250Z"
   },
   {
    "duration": 85,
    "start_time": "2023-03-29T04:43:44.520Z"
   },
   {
    "duration": 51,
    "start_time": "2023-03-29T04:43:50.515Z"
   },
   {
    "duration": 68,
    "start_time": "2023-03-29T04:43:50.568Z"
   },
   {
    "duration": 12,
    "start_time": "2023-03-29T04:43:57.100Z"
   },
   {
    "duration": 343,
    "start_time": "2023-03-29T04:43:58.050Z"
   },
   {
    "duration": 78,
    "start_time": "2023-03-29T04:44:12.060Z"
   },
   {
    "duration": 12,
    "start_time": "2023-03-29T04:44:32.010Z"
   },
   {
    "duration": 67,
    "start_time": "2023-03-29T04:44:32.680Z"
   },
   {
    "duration": 1584,
    "start_time": "2023-03-29T04:45:00.199Z"
   },
   {
    "duration": 4,
    "start_time": "2023-03-29T04:45:01.786Z"
   },
   {
    "duration": 917,
    "start_time": "2023-03-29T04:45:01.792Z"
   },
   {
    "duration": 853,
    "start_time": "2023-03-29T04:45:02.712Z"
   },
   {
    "duration": 39,
    "start_time": "2023-03-29T04:45:03.567Z"
   },
   {
    "duration": 9,
    "start_time": "2023-03-29T04:45:03.610Z"
   },
   {
    "duration": 76,
    "start_time": "2023-03-29T04:45:03.620Z"
   },
   {
    "duration": 41,
    "start_time": "2023-03-29T04:45:03.697Z"
   },
   {
    "duration": 395,
    "start_time": "2023-03-29T04:45:03.740Z"
   },
   {
    "duration": 103,
    "start_time": "2023-03-29T04:45:04.137Z"
   },
   {
    "duration": 293,
    "start_time": "2023-03-29T04:45:04.242Z"
   },
   {
    "duration": 250,
    "start_time": "2023-03-29T04:45:04.537Z"
   },
   {
    "duration": 23,
    "start_time": "2023-03-29T04:45:04.788Z"
   },
   {
    "duration": 409,
    "start_time": "2023-03-29T04:45:04.813Z"
   },
   {
    "duration": 43,
    "start_time": "2023-03-29T04:45:05.223Z"
   },
   {
    "duration": 471,
    "start_time": "2023-03-29T04:45:05.268Z"
   },
   {
    "duration": 207,
    "start_time": "2023-03-29T04:45:05.741Z"
   },
   {
    "duration": 7,
    "start_time": "2023-03-29T04:45:05.950Z"
   },
   {
    "duration": 315,
    "start_time": "2023-03-29T04:45:05.959Z"
   },
   {
    "duration": 313,
    "start_time": "2023-03-29T04:45:06.276Z"
   },
   {
    "duration": 97,
    "start_time": "2023-03-29T04:45:06.591Z"
   },
   {
    "duration": 61,
    "start_time": "2023-03-29T04:45:06.690Z"
   },
   {
    "duration": 57,
    "start_time": "2023-03-29T04:45:06.753Z"
   },
   {
    "duration": 23,
    "start_time": "2023-03-29T04:45:06.812Z"
   },
   {
    "duration": 308,
    "start_time": "2023-03-29T04:45:06.836Z"
   },
   {
    "duration": 29495,
    "start_time": "2023-03-29T04:45:07.146Z"
   },
   {
    "duration": 122,
    "start_time": "2023-03-29T04:45:36.646Z"
   },
   {
    "duration": 3,
    "start_time": "2023-03-29T04:45:36.774Z"
   },
   {
    "duration": 240,
    "start_time": "2023-03-29T04:45:36.779Z"
   },
   {
    "duration": 129,
    "start_time": "2023-03-29T04:45:37.022Z"
   },
   {
    "duration": 404,
    "start_time": "2023-03-29T04:45:37.153Z"
   },
   {
    "duration": 5,
    "start_time": "2023-03-29T04:45:37.559Z"
   },
   {
    "duration": 8,
    "start_time": "2023-03-29T04:45:37.566Z"
   },
   {
    "duration": 9,
    "start_time": "2023-03-29T04:45:37.576Z"
   },
   {
    "duration": 24,
    "start_time": "2023-03-29T04:45:37.587Z"
   },
   {
    "duration": 0,
    "start_time": "2023-03-29T04:50:12.646Z"
   },
   {
    "duration": 5,
    "start_time": "2023-03-29T04:50:28.048Z"
   },
   {
    "duration": 5,
    "start_time": "2023-03-29T04:50:29.204Z"
   },
   {
    "duration": 764,
    "start_time": "2023-03-29T04:50:29.599Z"
   },
   {
    "duration": 790,
    "start_time": "2023-03-29T04:50:30.558Z"
   },
   {
    "duration": 35,
    "start_time": "2023-03-29T04:50:31.350Z"
   },
   {
    "duration": 4,
    "start_time": "2023-03-29T04:50:32.219Z"
   },
   {
    "duration": 39,
    "start_time": "2023-03-29T04:50:33.480Z"
   },
   {
    "duration": 32,
    "start_time": "2023-03-29T04:50:34.238Z"
   },
   {
    "duration": 350,
    "start_time": "2023-03-29T04:50:36.279Z"
   },
   {
    "duration": 88,
    "start_time": "2023-03-29T04:50:37.519Z"
   },
   {
    "duration": 256,
    "start_time": "2023-03-29T04:50:40.010Z"
   },
   {
    "duration": 240,
    "start_time": "2023-03-29T04:50:41.408Z"
   },
   {
    "duration": 20,
    "start_time": "2023-03-29T04:50:42.759Z"
   },
   {
    "duration": 363,
    "start_time": "2023-03-29T04:50:43.959Z"
   },
   {
    "duration": 34,
    "start_time": "2023-03-29T04:50:45.598Z"
   },
   {
    "duration": 361,
    "start_time": "2023-03-29T04:50:46.359Z"
   },
   {
    "duration": 197,
    "start_time": "2023-03-29T04:50:49.319Z"
   },
   {
    "duration": 12,
    "start_time": "2023-03-29T04:50:50.559Z"
   },
   {
    "duration": 347,
    "start_time": "2023-03-29T04:50:51.640Z"
   },
   {
    "duration": 332,
    "start_time": "2023-03-29T04:50:52.799Z"
   },
   {
    "duration": 71,
    "start_time": "2023-03-29T04:50:56.159Z"
   },
   {
    "duration": 49,
    "start_time": "2023-03-29T04:50:58.439Z"
   },
   {
    "duration": 97,
    "start_time": "2023-03-29T04:51:05.079Z"
   },
   {
    "duration": 13,
    "start_time": "2023-03-29T04:51:07.150Z"
   },
   {
    "duration": 310,
    "start_time": "2023-03-29T04:51:08.289Z"
   },
   {
    "duration": 346,
    "start_time": "2023-03-29T04:51:12.779Z"
   },
   {
    "duration": 62,
    "start_time": "2023-03-29T05:20:38.989Z"
   },
   {
    "duration": 3,
    "start_time": "2023-03-29T05:20:40.484Z"
   },
   {
    "duration": 3,
    "start_time": "2023-03-29T05:20:41.389Z"
   },
   {
    "duration": 134,
    "start_time": "2023-03-29T05:20:42.509Z"
   },
   {
    "duration": 93,
    "start_time": "2023-03-29T05:20:45.109Z"
   },
   {
    "duration": 347,
    "start_time": "2023-03-29T05:20:46.987Z"
   },
   {
    "duration": 61,
    "start_time": "2023-03-29T05:22:29.809Z"
   },
   {
    "duration": 101,
    "start_time": "2023-03-29T05:26:13.359Z"
   },
   {
    "duration": 15,
    "start_time": "2023-03-29T05:26:13.610Z"
   },
   {
    "duration": 15,
    "start_time": "2023-03-29T05:26:28.528Z"
   },
   {
    "duration": 5,
    "start_time": "2023-03-29T05:26:43.978Z"
   },
   {
    "duration": 63,
    "start_time": "2023-03-29T05:28:02.329Z"
   },
   {
    "duration": 6,
    "start_time": "2023-03-29T05:28:02.709Z"
   },
   {
    "duration": 64,
    "start_time": "2023-03-29T05:28:13.538Z"
   },
   {
    "duration": 9,
    "start_time": "2023-03-29T05:28:14.090Z"
   },
   {
    "duration": 62,
    "start_time": "2023-03-29T05:28:23.929Z"
   },
   {
    "duration": 8,
    "start_time": "2023-03-29T05:28:24.610Z"
   },
   {
    "duration": 19,
    "start_time": "2023-03-29T05:36:11.929Z"
   },
   {
    "duration": 106,
    "start_time": "2023-03-29T05:36:12.353Z"
   },
   {
    "duration": 69,
    "start_time": "2023-03-29T05:36:21.892Z"
   },
   {
    "duration": 10,
    "start_time": "2023-03-29T05:37:30.819Z"
   },
   {
    "duration": 6,
    "start_time": "2023-03-29T05:37:50.392Z"
   },
   {
    "duration": 5,
    "start_time": "2023-03-29T05:38:16.529Z"
   },
   {
    "duration": 5,
    "start_time": "2023-03-29T05:39:04.392Z"
   },
   {
    "duration": 3,
    "start_time": "2023-03-29T05:39:05.386Z"
   },
   {
    "duration": 116,
    "start_time": "2023-03-29T05:39:06.248Z"
   },
   {
    "duration": 79,
    "start_time": "2023-03-29T05:39:07.499Z"
   },
   {
    "duration": 338,
    "start_time": "2023-03-29T05:39:08.409Z"
   },
   {
    "duration": 15,
    "start_time": "2023-03-29T05:41:32.428Z"
   },
   {
    "duration": 90,
    "start_time": "2023-03-29T05:41:32.939Z"
   },
   {
    "duration": 8,
    "start_time": "2023-03-29T05:41:33.993Z"
   },
   {
    "duration": 93,
    "start_time": "2023-03-29T05:41:38.649Z"
   },
   {
    "duration": 7,
    "start_time": "2023-03-29T05:41:40.009Z"
   },
   {
    "duration": 95,
    "start_time": "2023-03-29T05:41:56.454Z"
   },
   {
    "duration": 8,
    "start_time": "2023-03-29T05:42:03.392Z"
   },
   {
    "duration": 5,
    "start_time": "2023-03-29T05:43:32.292Z"
   },
   {
    "duration": 6,
    "start_time": "2023-03-29T05:43:38.353Z"
   },
   {
    "duration": 14,
    "start_time": "2023-03-29T05:43:39.392Z"
   },
   {
    "duration": 123,
    "start_time": "2023-03-29T05:45:30.491Z"
   },
   {
    "duration": 4,
    "start_time": "2023-03-29T05:45:58.283Z"
   },
   {
    "duration": 4,
    "start_time": "2023-03-29T05:46:44.299Z"
   },
   {
    "duration": 2,
    "start_time": "2023-03-29T05:46:46.529Z"
   },
   {
    "duration": 10,
    "start_time": "2023-03-29T05:46:47.191Z"
   },
   {
    "duration": 27,
    "start_time": "2023-03-29T05:46:47.534Z"
   },
   {
    "duration": 110,
    "start_time": "2023-03-29T05:46:49.588Z"
   },
   {
    "duration": 8,
    "start_time": "2023-03-29T05:46:50.554Z"
   },
   {
    "duration": 4,
    "start_time": "2023-03-29T05:46:51.574Z"
   },
   {
    "duration": 325,
    "start_time": "2023-03-29T05:47:08.363Z"
   },
   {
    "duration": 274,
    "start_time": "2023-03-29T05:47:57.169Z"
   },
   {
    "duration": 11,
    "start_time": "2023-03-29T15:03:32.509Z"
   },
   {
    "duration": 48,
    "start_time": "2023-03-29T15:03:34.575Z"
   },
   {
    "duration": 1630,
    "start_time": "2023-03-29T15:03:42.425Z"
   },
   {
    "duration": 5,
    "start_time": "2023-03-29T15:03:45.139Z"
   },
   {
    "duration": 2723,
    "start_time": "2023-03-29T15:03:45.472Z"
   },
   {
    "duration": 848,
    "start_time": "2023-03-29T15:03:48.197Z"
   },
   {
    "duration": 40,
    "start_time": "2023-03-29T15:03:49.048Z"
   },
   {
    "duration": 8,
    "start_time": "2023-03-29T15:03:49.090Z"
   },
   {
    "duration": 73,
    "start_time": "2023-03-29T15:03:49.100Z"
   },
   {
    "duration": 45,
    "start_time": "2023-03-29T15:03:49.176Z"
   },
   {
    "duration": 409,
    "start_time": "2023-03-29T15:03:49.222Z"
   },
   {
    "duration": 98,
    "start_time": "2023-03-29T15:03:51.489Z"
   },
   {
    "duration": 341,
    "start_time": "2023-03-29T15:03:52.774Z"
   },
   {
    "duration": 196,
    "start_time": "2023-03-29T15:03:53.390Z"
   },
   {
    "duration": 21,
    "start_time": "2023-03-29T15:03:54.289Z"
   },
   {
    "duration": 428,
    "start_time": "2023-03-29T15:03:55.289Z"
   },
   {
    "duration": 39,
    "start_time": "2023-03-29T15:03:56.770Z"
   },
   {
    "duration": 538,
    "start_time": "2023-03-29T15:03:57.217Z"
   },
   {
    "duration": 211,
    "start_time": "2023-03-29T15:03:59.067Z"
   },
   {
    "duration": 14,
    "start_time": "2023-03-29T15:03:59.570Z"
   },
   {
    "duration": 328,
    "start_time": "2023-03-29T15:04:00.935Z"
   },
   {
    "duration": 332,
    "start_time": "2023-03-29T15:04:01.473Z"
   },
   {
    "duration": 60,
    "start_time": "2023-03-29T15:04:04.174Z"
   },
   {
    "duration": 58,
    "start_time": "2023-03-29T15:04:05.172Z"
   },
   {
    "duration": 84,
    "start_time": "2023-03-29T15:04:11.873Z"
   },
   {
    "duration": 11,
    "start_time": "2023-03-29T15:04:13.933Z"
   },
   {
    "duration": 301,
    "start_time": "2023-03-29T15:04:15.560Z"
   },
   {
    "duration": 381,
    "start_time": "2023-03-29T15:04:18.191Z"
   },
   {
    "duration": 13,
    "start_time": "2023-03-29T15:04:22.272Z"
   },
   {
    "duration": 123,
    "start_time": "2023-03-29T15:04:22.914Z"
   },
   {
    "duration": 5,
    "start_time": "2023-03-29T15:04:25.865Z"
   },
   {
    "duration": 3,
    "start_time": "2023-03-29T15:04:26.984Z"
   },
   {
    "duration": 80,
    "start_time": "2023-03-29T15:04:28.347Z"
   },
   {
    "duration": 156,
    "start_time": "2023-03-29T15:06:52.341Z"
   },
   {
    "duration": 36,
    "start_time": "2023-03-29T15:06:54.746Z"
   },
   {
    "duration": 119,
    "start_time": "2023-03-29T15:06:55.493Z"
   },
   {
    "duration": 3,
    "start_time": "2023-03-29T15:06:56.367Z"
   },
   {
    "duration": 5,
    "start_time": "2023-03-29T15:06:57.390Z"
   },
   {
    "duration": 335,
    "start_time": "2023-03-29T15:07:17.704Z"
   },
   {
    "duration": 4,
    "start_time": "2023-03-29T15:07:21.063Z"
   },
   {
    "duration": 4,
    "start_time": "2023-03-29T15:07:21.659Z"
   },
   {
    "duration": 3,
    "start_time": "2023-03-29T15:07:22.820Z"
   },
   {
    "duration": 3,
    "start_time": "2023-03-29T15:07:36.632Z"
   },
   {
    "duration": 163027,
    "start_time": "2023-03-29T15:13:12.106Z"
   },
   {
    "duration": 555,
    "start_time": "2023-03-29T15:17:02.770Z"
   },
   {
    "duration": 3,
    "start_time": "2023-03-29T15:17:07.134Z"
   },
   {
    "duration": 4,
    "start_time": "2023-03-29T15:17:18.288Z"
   },
   {
    "duration": 3,
    "start_time": "2023-03-29T15:19:25.613Z"
   },
   {
    "duration": 51911,
    "start_time": "2023-03-29T15:19:32.408Z"
   },
   {
    "duration": 691,
    "start_time": "2023-03-29T15:28:22.131Z"
   },
   {
    "duration": 5,
    "start_time": "2023-03-29T15:28:24.350Z"
   },
   {
    "duration": 4,
    "start_time": "2023-03-29T15:28:45.309Z"
   },
   {
    "duration": 4,
    "start_time": "2023-03-29T15:30:12.851Z"
   },
   {
    "duration": 2233,
    "start_time": "2023-03-29T15:30:13.700Z"
   },
   {
    "duration": 19,
    "start_time": "2023-03-29T15:30:17.855Z"
   },
   {
    "duration": 4,
    "start_time": "2023-03-29T15:30:19.090Z"
   },
   {
    "duration": 5,
    "start_time": "2023-03-29T15:30:20.461Z"
   },
   {
    "duration": 5,
    "start_time": "2023-03-29T15:36:50.621Z"
   },
   {
    "duration": 26,
    "start_time": "2023-03-29T15:36:51.623Z"
   },
   {
    "duration": 4,
    "start_time": "2023-03-29T15:37:43.386Z"
   },
   {
    "duration": 213766,
    "start_time": "2023-03-29T15:37:54.784Z"
   },
   {
    "duration": 1944,
    "start_time": "2023-03-29T15:42:59.706Z"
   },
   {
    "duration": 3,
    "start_time": "2023-03-29T15:43:59.261Z"
   },
   {
    "duration": 207067,
    "start_time": "2023-03-29T15:44:03.240Z"
   },
   {
    "duration": 1778,
    "start_time": "2023-03-29T15:47:37.084Z"
   },
   {
    "duration": 9,
    "start_time": "2023-03-29T15:48:31.542Z"
   },
   {
    "duration": 2197,
    "start_time": "2023-03-29T15:48:37.893Z"
   },
   {
    "duration": 108,
    "start_time": "2023-03-29T15:57:42.822Z"
   },
   {
    "duration": 81,
    "start_time": "2023-03-29T15:59:41.232Z"
   },
   {
    "duration": 97,
    "start_time": "2023-03-29T16:03:27.875Z"
   },
   {
    "duration": 7602,
    "start_time": "2023-03-29T16:03:42.552Z"
   },
   {
    "duration": 1413186,
    "start_time": "2023-03-29T16:04:37.377Z"
   },
   {
    "duration": 3,
    "start_time": "2023-03-29T16:28:10.567Z"
   },
   {
    "duration": 1702,
    "start_time": "2023-03-29T16:28:41.536Z"
   },
   {
    "duration": 4,
    "start_time": "2023-03-29T16:28:43.243Z"
   },
   {
    "duration": 908,
    "start_time": "2023-03-29T16:28:43.250Z"
   },
   {
    "duration": 900,
    "start_time": "2023-03-29T16:28:44.160Z"
   },
   {
    "duration": 39,
    "start_time": "2023-03-29T16:28:45.062Z"
   },
   {
    "duration": 39,
    "start_time": "2023-03-29T16:28:45.103Z"
   },
   {
    "duration": 57,
    "start_time": "2023-03-29T16:28:46.745Z"
   },
   {
    "duration": 39,
    "start_time": "2023-03-29T16:28:47.152Z"
   },
   {
    "duration": 372,
    "start_time": "2023-03-29T16:28:48.692Z"
   },
   {
    "duration": 141,
    "start_time": "2023-03-29T16:28:49.154Z"
   },
   {
    "duration": 346,
    "start_time": "2023-03-29T16:28:50.427Z"
   },
   {
    "duration": 201,
    "start_time": "2023-03-29T16:28:50.775Z"
   },
   {
    "duration": 22,
    "start_time": "2023-03-29T16:28:50.978Z"
   },
   {
    "duration": 510,
    "start_time": "2023-03-29T16:28:51.260Z"
   },
   {
    "duration": 45,
    "start_time": "2023-03-29T16:28:51.772Z"
   },
   {
    "duration": 600,
    "start_time": "2023-03-29T16:28:51.819Z"
   },
   {
    "duration": 201,
    "start_time": "2023-03-29T16:28:52.932Z"
   },
   {
    "duration": 13,
    "start_time": "2023-03-29T16:28:53.413Z"
   },
   {
    "duration": 383,
    "start_time": "2023-03-29T16:28:53.645Z"
   },
   {
    "duration": 363,
    "start_time": "2023-03-29T16:28:54.032Z"
   },
   {
    "duration": 64,
    "start_time": "2023-03-29T16:28:54.546Z"
   },
   {
    "duration": 74,
    "start_time": "2023-03-29T16:28:54.905Z"
   },
   {
    "duration": 94,
    "start_time": "2023-03-29T16:28:55.463Z"
   },
   {
    "duration": 12,
    "start_time": "2023-03-29T16:28:55.955Z"
   },
   {
    "duration": 316,
    "start_time": "2023-03-29T16:28:57.473Z"
   },
   {
    "duration": 398,
    "start_time": "2023-03-29T16:28:59.356Z"
   },
   {
    "duration": 14,
    "start_time": "2023-03-29T16:29:03.268Z"
   },
   {
    "duration": 113,
    "start_time": "2023-03-29T16:29:04.188Z"
   },
   {
    "duration": 4,
    "start_time": "2023-03-29T16:29:05.734Z"
   },
   {
    "duration": 3,
    "start_time": "2023-03-29T16:29:06.737Z"
   },
   {
    "duration": 167,
    "start_time": "2023-03-29T16:29:07.392Z"
   },
   {
    "duration": 40,
    "start_time": "2023-03-29T16:29:08.674Z"
   },
   {
    "duration": 121,
    "start_time": "2023-03-29T16:29:09.496Z"
   },
   {
    "duration": 3,
    "start_time": "2023-03-29T16:29:10.443Z"
   },
   {
    "duration": 4,
    "start_time": "2023-03-29T16:29:11.360Z"
   },
   {
    "duration": 411,
    "start_time": "2023-03-29T16:29:12.372Z"
   },
   {
    "duration": 4,
    "start_time": "2023-03-29T16:29:16.774Z"
   },
   {
    "duration": 4,
    "start_time": "2023-03-29T16:29:16.985Z"
   },
   {
    "duration": 3,
    "start_time": "2023-03-29T16:29:18.452Z"
   },
   {
    "duration": 4,
    "start_time": "2023-03-29T16:29:19.545Z"
   },
   {
    "duration": 3,
    "start_time": "2023-03-29T16:29:28.344Z"
   },
   {
    "duration": 177845,
    "start_time": "2023-03-29T16:29:29.312Z"
   },
   {
    "duration": 553,
    "start_time": "2023-03-29T16:32:43.954Z"
   },
   {
    "duration": 3,
    "start_time": "2023-03-29T16:32:45.742Z"
   },
   {
    "duration": 4,
    "start_time": "2023-03-29T16:32:47.549Z"
   },
   {
    "duration": 196,
    "start_time": "2023-03-29T16:33:15.900Z"
   },
   {
    "duration": 4,
    "start_time": "2023-03-29T16:33:48.864Z"
   },
   {
    "duration": 1519,
    "start_time": "2023-03-29T17:47:45.165Z"
   },
   {
    "duration": 5,
    "start_time": "2023-03-29T17:47:46.686Z"
   },
   {
    "duration": 907,
    "start_time": "2023-03-29T17:47:46.692Z"
   },
   {
    "duration": 889,
    "start_time": "2023-03-29T17:47:47.602Z"
   },
   {
    "duration": 47,
    "start_time": "2023-03-29T17:47:48.493Z"
   },
   {
    "duration": 18,
    "start_time": "2023-03-29T17:47:48.541Z"
   },
   {
    "duration": 80,
    "start_time": "2023-03-29T17:47:48.561Z"
   },
   {
    "duration": 37,
    "start_time": "2023-03-29T17:47:48.643Z"
   },
   {
    "duration": 410,
    "start_time": "2023-03-29T17:47:48.681Z"
   },
   {
    "duration": 118,
    "start_time": "2023-03-29T17:47:49.094Z"
   },
   {
    "duration": 328,
    "start_time": "2023-03-29T17:47:49.217Z"
   },
   {
    "duration": 208,
    "start_time": "2023-03-29T17:47:49.547Z"
   },
   {
    "duration": 22,
    "start_time": "2023-03-29T17:47:49.756Z"
   },
   {
    "duration": 490,
    "start_time": "2023-03-29T17:47:49.780Z"
   },
   {
    "duration": 46,
    "start_time": "2023-03-29T17:47:50.273Z"
   },
   {
    "duration": 535,
    "start_time": "2023-03-29T17:47:50.320Z"
   },
   {
    "duration": 213,
    "start_time": "2023-03-29T17:47:50.857Z"
   },
   {
    "duration": 10,
    "start_time": "2023-03-29T17:47:51.073Z"
   },
   {
    "duration": 400,
    "start_time": "2023-03-29T17:47:51.085Z"
   },
   {
    "duration": 367,
    "start_time": "2023-03-29T17:47:51.487Z"
   },
   {
    "duration": 100,
    "start_time": "2023-03-29T17:47:51.855Z"
   },
   {
    "duration": 109,
    "start_time": "2023-03-29T17:47:51.957Z"
   },
   {
    "duration": 78,
    "start_time": "2023-03-29T17:47:52.068Z"
   },
   {
    "duration": 37,
    "start_time": "2023-03-29T17:47:52.148Z"
   },
   {
    "duration": 384,
    "start_time": "2023-03-29T17:47:52.187Z"
   },
   {
    "duration": 437,
    "start_time": "2023-03-29T17:47:52.573Z"
   },
   {
    "duration": 21,
    "start_time": "2023-03-29T17:47:53.011Z"
   },
   {
    "duration": 127,
    "start_time": "2023-03-29T17:47:53.037Z"
   },
   {
    "duration": 7,
    "start_time": "2023-03-29T17:47:53.166Z"
   },
   {
    "duration": 37,
    "start_time": "2023-03-29T17:47:53.175Z"
   },
   {
    "duration": 201,
    "start_time": "2023-03-29T17:47:53.214Z"
   },
   {
    "duration": 44,
    "start_time": "2023-03-29T17:47:53.417Z"
   },
   {
    "duration": 128,
    "start_time": "2023-03-29T17:47:53.463Z"
   },
   {
    "duration": 3,
    "start_time": "2023-03-29T17:47:53.593Z"
   },
   {
    "duration": 39,
    "start_time": "2023-03-29T17:47:53.597Z"
   },
   {
    "duration": 370,
    "start_time": "2023-03-29T17:47:53.638Z"
   },
   {
    "duration": 6,
    "start_time": "2023-03-29T17:47:54.011Z"
   },
   {
    "duration": 32,
    "start_time": "2023-03-29T17:47:54.019Z"
   },
   {
    "duration": 24,
    "start_time": "2023-03-29T17:47:54.052Z"
   },
   {
    "duration": 29,
    "start_time": "2023-03-29T17:47:54.078Z"
   },
   {
    "duration": 44,
    "start_time": "2023-03-29T17:47:54.109Z"
   },
   {
    "duration": 177790,
    "start_time": "2023-03-29T17:47:54.154Z"
   },
   {
    "duration": 646,
    "start_time": "2023-03-29T17:50:51.946Z"
   },
   {
    "duration": 4,
    "start_time": "2023-03-29T17:50:52.594Z"
   },
   {
    "duration": 46,
    "start_time": "2023-03-29T17:50:52.600Z"
   },
   {
    "duration": 227,
    "start_time": "2023-03-29T17:50:52.648Z"
   },
   {
    "duration": 3,
    "start_time": "2023-03-29T17:50:52.876Z"
   },
   {
    "duration": 42739,
    "start_time": "2023-03-29T17:50:52.881Z"
   },
   {
    "duration": 709,
    "start_time": "2023-03-29T17:51:35.624Z"
   },
   {
    "duration": 4,
    "start_time": "2023-03-29T17:51:36.336Z"
   },
   {
    "duration": 6,
    "start_time": "2023-03-29T17:51:36.342Z"
   },
   {
    "duration": 4,
    "start_time": "2023-03-29T17:51:36.349Z"
   },
   {
    "duration": 1979,
    "start_time": "2023-03-29T17:51:36.355Z"
   },
   {
    "duration": 120,
    "start_time": "2023-03-29T17:51:38.418Z"
   },
   {
    "duration": 104,
    "start_time": "2023-03-29T17:51:38.540Z"
   },
   {
    "duration": 9,
    "start_time": "2023-03-29T17:51:38.646Z"
   },
   {
    "duration": 15,
    "start_time": "2023-03-29T17:51:38.656Z"
   },
   {
    "duration": 220549,
    "start_time": "2023-03-29T17:51:38.672Z"
   },
   {
    "duration": 1710,
    "start_time": "2023-03-29T17:55:19.224Z"
   },
   {
    "duration": 0,
    "start_time": "2023-03-29T17:55:20.936Z"
   },
   {
    "duration": 0,
    "start_time": "2023-03-29T17:55:20.937Z"
   },
   {
    "duration": 0,
    "start_time": "2023-03-29T17:55:20.939Z"
   },
   {
    "duration": 0,
    "start_time": "2023-03-29T17:55:20.940Z"
   },
   {
    "duration": 0,
    "start_time": "2023-03-29T17:55:20.942Z"
   },
   {
    "duration": 0,
    "start_time": "2023-03-29T17:55:20.943Z"
   },
   {
    "duration": 0,
    "start_time": "2023-03-29T17:55:20.944Z"
   },
   {
    "duration": 0,
    "start_time": "2023-03-29T17:55:20.945Z"
   },
   {
    "duration": 0,
    "start_time": "2023-03-29T17:55:20.946Z"
   },
   {
    "duration": 0,
    "start_time": "2023-03-29T17:55:20.948Z"
   },
   {
    "duration": 0,
    "start_time": "2023-03-29T17:55:20.949Z"
   },
   {
    "duration": 0,
    "start_time": "2023-03-29T17:55:20.950Z"
   },
   {
    "duration": 152,
    "start_time": "2023-03-29T17:57:01.058Z"
   },
   {
    "duration": 91,
    "start_time": "2023-03-29T17:57:12.972Z"
   },
   {
    "duration": 3,
    "start_time": "2023-03-29T17:57:23.468Z"
   },
   {
    "duration": 6,
    "start_time": "2023-03-29T17:57:24.291Z"
   },
   {
    "duration": 3,
    "start_time": "2023-03-29T17:57:29.550Z"
   },
   {
    "duration": 179345,
    "start_time": "2023-03-29T17:57:30.273Z"
   },
   {
    "duration": 1605,
    "start_time": "2023-03-29T18:10:59.547Z"
   },
   {
    "duration": 3,
    "start_time": "2023-03-29T18:11:01.154Z"
   },
   {
    "duration": 1036,
    "start_time": "2023-03-29T18:11:01.159Z"
   },
   {
    "duration": 1060,
    "start_time": "2023-03-29T18:11:02.197Z"
   },
   {
    "duration": 39,
    "start_time": "2023-03-29T18:11:03.258Z"
   },
   {
    "duration": 17,
    "start_time": "2023-03-29T18:11:03.300Z"
   },
   {
    "duration": 85,
    "start_time": "2023-03-29T18:11:03.320Z"
   },
   {
    "duration": 45,
    "start_time": "2023-03-29T18:11:03.407Z"
   },
   {
    "duration": 437,
    "start_time": "2023-03-29T18:11:03.454Z"
   },
   {
    "duration": 108,
    "start_time": "2023-03-29T18:11:03.893Z"
   },
   {
    "duration": 365,
    "start_time": "2023-03-29T18:11:04.003Z"
   },
   {
    "duration": 221,
    "start_time": "2023-03-29T18:11:04.370Z"
   },
   {
    "duration": 33,
    "start_time": "2023-03-29T18:11:04.593Z"
   },
   {
    "duration": 449,
    "start_time": "2023-03-29T18:11:04.628Z"
   },
   {
    "duration": 52,
    "start_time": "2023-03-29T18:11:05.080Z"
   },
   {
    "duration": 553,
    "start_time": "2023-03-29T18:11:05.134Z"
   },
   {
    "duration": 221,
    "start_time": "2023-03-29T18:11:05.689Z"
   },
   {
    "duration": 12,
    "start_time": "2023-03-29T18:11:05.912Z"
   },
   {
    "duration": 385,
    "start_time": "2023-03-29T18:11:05.926Z"
   },
   {
    "duration": 351,
    "start_time": "2023-03-29T18:11:06.317Z"
   },
   {
    "duration": 78,
    "start_time": "2023-03-29T18:11:06.670Z"
   },
   {
    "duration": 73,
    "start_time": "2023-03-29T18:11:06.749Z"
   },
   {
    "duration": 78,
    "start_time": "2023-03-29T18:11:06.824Z"
   },
   {
    "duration": 39,
    "start_time": "2023-03-29T18:11:06.904Z"
   },
   {
    "duration": 323,
    "start_time": "2023-03-29T18:11:06.945Z"
   },
   {
    "duration": 436,
    "start_time": "2023-03-29T18:11:07.270Z"
   },
   {
    "duration": 23,
    "start_time": "2023-03-29T18:11:07.708Z"
   },
   {
    "duration": 124,
    "start_time": "2023-03-29T18:11:07.738Z"
   },
   {
    "duration": 7,
    "start_time": "2023-03-29T18:11:07.864Z"
   },
   {
    "duration": 10,
    "start_time": "2023-03-29T18:11:07.872Z"
   },
   {
    "duration": 175,
    "start_time": "2023-03-29T18:11:07.884Z"
   },
   {
    "duration": 40,
    "start_time": "2023-03-29T18:11:08.061Z"
   },
   {
    "duration": 145,
    "start_time": "2023-03-29T18:11:08.103Z"
   },
   {
    "duration": 4,
    "start_time": "2023-03-29T18:11:08.250Z"
   },
   {
    "duration": 11,
    "start_time": "2023-03-29T18:11:08.255Z"
   },
   {
    "duration": 375,
    "start_time": "2023-03-29T18:11:08.267Z"
   },
   {
    "duration": 4,
    "start_time": "2023-03-29T18:11:08.644Z"
   },
   {
    "duration": 11,
    "start_time": "2023-03-29T18:11:08.649Z"
   },
   {
    "duration": 14,
    "start_time": "2023-03-29T18:11:08.661Z"
   },
   {
    "duration": 10,
    "start_time": "2023-03-29T18:11:08.676Z"
   },
   {
    "duration": 16,
    "start_time": "2023-03-29T18:11:08.687Z"
   },
   {
    "duration": 193177,
    "start_time": "2023-03-29T18:11:08.705Z"
   },
   {
    "duration": 678,
    "start_time": "2023-03-29T18:14:21.884Z"
   },
   {
    "duration": 3,
    "start_time": "2023-03-29T18:14:22.565Z"
   },
   {
    "duration": 16,
    "start_time": "2023-03-29T18:14:22.570Z"
   },
   {
    "duration": 8,
    "start_time": "2023-03-29T18:14:22.588Z"
   },
   {
    "duration": 467221,
    "start_time": "2023-03-29T18:14:22.599Z"
   },
   {
    "duration": 632,
    "start_time": "2023-03-29T18:22:09.823Z"
   },
   {
    "duration": 66,
    "start_time": "2023-03-29T18:22:10.457Z"
   },
   {
    "duration": 45,
    "start_time": "2023-03-29T18:22:10.525Z"
   },
   {
    "duration": 15,
    "start_time": "2023-03-29T18:22:10.572Z"
   },
   {
    "duration": 2146,
    "start_time": "2023-03-29T18:22:10.588Z"
   },
   {
    "duration": 184,
    "start_time": "2023-03-29T18:22:12.736Z"
   },
   {
    "duration": 18,
    "start_time": "2023-03-29T18:22:12.923Z"
   },
   {
    "duration": 75,
    "start_time": "2023-03-29T18:22:12.944Z"
   },
   {
    "duration": 27,
    "start_time": "2023-03-29T18:22:13.021Z"
   },
   {
    "duration": 227395,
    "start_time": "2023-03-29T18:22:13.050Z"
   },
   {
    "duration": 2109,
    "start_time": "2023-03-29T18:26:00.447Z"
   },
   {
    "duration": 0,
    "start_time": "2023-03-29T18:26:02.557Z"
   },
   {
    "duration": 0,
    "start_time": "2023-03-29T18:26:02.559Z"
   },
   {
    "duration": 0,
    "start_time": "2023-03-29T18:26:02.560Z"
   },
   {
    "duration": 0,
    "start_time": "2023-03-29T18:26:02.562Z"
   },
   {
    "duration": 0,
    "start_time": "2023-03-29T18:26:02.564Z"
   },
   {
    "duration": 0,
    "start_time": "2023-03-29T18:26:02.565Z"
   },
   {
    "duration": 0,
    "start_time": "2023-03-29T18:26:02.566Z"
   },
   {
    "duration": 0,
    "start_time": "2023-03-29T18:26:02.568Z"
   },
   {
    "duration": 0,
    "start_time": "2023-03-29T18:26:02.569Z"
   },
   {
    "duration": 0,
    "start_time": "2023-03-29T18:26:02.570Z"
   },
   {
    "duration": 0,
    "start_time": "2023-03-29T18:26:02.571Z"
   },
   {
    "duration": 15,
    "start_time": "2023-03-29T18:29:18.885Z"
   },
   {
    "duration": 2163,
    "start_time": "2023-03-29T18:29:26.686Z"
   },
   {
    "duration": 4,
    "start_time": "2023-03-29T18:30:13.224Z"
   },
   {
    "duration": 17,
    "start_time": "2023-03-29T18:30:17.255Z"
   },
   {
    "duration": 2261,
    "start_time": "2023-03-29T18:30:52.028Z"
   },
   {
    "duration": 1602,
    "start_time": "2023-03-29T18:32:43.954Z"
   },
   {
    "duration": 4,
    "start_time": "2023-03-29T18:32:45.558Z"
   },
   {
    "duration": 888,
    "start_time": "2023-03-29T18:32:45.563Z"
   },
   {
    "duration": 933,
    "start_time": "2023-03-29T18:32:46.453Z"
   },
   {
    "duration": 49,
    "start_time": "2023-03-29T18:32:47.388Z"
   },
   {
    "duration": 7,
    "start_time": "2023-03-29T18:32:47.439Z"
   },
   {
    "duration": 86,
    "start_time": "2023-03-29T18:32:47.448Z"
   },
   {
    "duration": 44,
    "start_time": "2023-03-29T18:32:47.537Z"
   },
   {
    "duration": 417,
    "start_time": "2023-03-29T18:32:47.583Z"
   },
   {
    "duration": 105,
    "start_time": "2023-03-29T18:32:48.003Z"
   },
   {
    "duration": 323,
    "start_time": "2023-03-29T18:32:48.117Z"
   },
   {
    "duration": 229,
    "start_time": "2023-03-29T18:32:48.443Z"
   },
   {
    "duration": 23,
    "start_time": "2023-03-29T18:32:48.674Z"
   },
   {
    "duration": 472,
    "start_time": "2023-03-29T18:32:48.699Z"
   },
   {
    "duration": 49,
    "start_time": "2023-03-29T18:32:49.173Z"
   },
   {
    "duration": 536,
    "start_time": "2023-03-29T18:32:49.224Z"
   },
   {
    "duration": 250,
    "start_time": "2023-03-29T18:32:49.762Z"
   },
   {
    "duration": 13,
    "start_time": "2023-03-29T18:32:50.015Z"
   },
   {
    "duration": 459,
    "start_time": "2023-03-29T18:32:50.030Z"
   },
   {
    "duration": 349,
    "start_time": "2023-03-29T18:32:50.490Z"
   },
   {
    "duration": 80,
    "start_time": "2023-03-29T18:32:50.841Z"
   },
   {
    "duration": 56,
    "start_time": "2023-03-29T18:32:50.923Z"
   },
   {
    "duration": 84,
    "start_time": "2023-03-29T18:32:50.980Z"
   },
   {
    "duration": 16,
    "start_time": "2023-03-29T18:32:51.066Z"
   },
   {
    "duration": 328,
    "start_time": "2023-03-29T18:32:51.084Z"
   },
   {
    "duration": 396,
    "start_time": "2023-03-29T18:32:51.414Z"
   },
   {
    "duration": 17,
    "start_time": "2023-03-29T18:32:51.812Z"
   },
   {
    "duration": 164,
    "start_time": "2023-03-29T18:32:51.834Z"
   },
   {
    "duration": 17,
    "start_time": "2023-03-29T18:32:52.000Z"
   },
   {
    "duration": 26,
    "start_time": "2023-03-29T18:32:52.020Z"
   },
   {
    "duration": 198,
    "start_time": "2023-03-29T18:32:52.049Z"
   },
   {
    "duration": 38,
    "start_time": "2023-03-29T18:32:52.249Z"
   },
   {
    "duration": 152,
    "start_time": "2023-03-29T18:32:52.288Z"
   },
   {
    "duration": 4,
    "start_time": "2023-03-29T18:32:52.442Z"
   },
   {
    "duration": 28,
    "start_time": "2023-03-29T18:32:52.449Z"
   },
   {
    "duration": 439,
    "start_time": "2023-03-29T18:32:52.480Z"
   },
   {
    "duration": 4,
    "start_time": "2023-03-29T18:32:52.920Z"
   },
   {
    "duration": 15,
    "start_time": "2023-03-29T18:32:52.926Z"
   },
   {
    "duration": 10,
    "start_time": "2023-03-29T18:32:52.943Z"
   },
   {
    "duration": 19,
    "start_time": "2023-03-29T18:32:52.955Z"
   },
   {
    "duration": 27,
    "start_time": "2023-03-29T18:32:52.976Z"
   },
   {
    "duration": 170854,
    "start_time": "2023-03-29T18:32:53.005Z"
   },
   {
    "duration": 527,
    "start_time": "2023-03-29T18:35:43.861Z"
   },
   {
    "duration": 4,
    "start_time": "2023-03-29T18:35:44.391Z"
   },
   {
    "duration": 17,
    "start_time": "2023-03-29T18:35:44.397Z"
   },
   {
    "duration": 10,
    "start_time": "2023-03-29T18:35:44.418Z"
   },
   {
    "duration": 254897,
    "start_time": "2023-03-29T18:35:44.430Z"
   },
   {
    "duration": 701,
    "start_time": "2023-03-29T18:39:59.330Z"
   },
   {
    "duration": 4,
    "start_time": "2023-03-29T18:40:00.033Z"
   },
   {
    "duration": 15,
    "start_time": "2023-03-29T18:40:00.039Z"
   },
   {
    "duration": 39,
    "start_time": "2023-03-29T18:40:00.055Z"
   },
   {
    "duration": 2635,
    "start_time": "2023-03-29T18:40:00.097Z"
   },
   {
    "duration": 200,
    "start_time": "2023-03-29T18:40:02.819Z"
   },
   {
    "duration": 8,
    "start_time": "2023-03-29T18:40:03.022Z"
   },
   {
    "duration": 92,
    "start_time": "2023-03-29T18:40:03.032Z"
   },
   {
    "duration": 54,
    "start_time": "2023-03-29T18:40:03.126Z"
   },
   {
    "duration": 208896,
    "start_time": "2023-03-29T18:40:03.183Z"
   },
   {
    "duration": 630,
    "start_time": "2023-03-29T18:43:32.081Z"
   },
   {
    "duration": 6,
    "start_time": "2023-03-29T18:43:32.713Z"
   },
   {
    "duration": 25,
    "start_time": "2023-03-29T18:43:32.721Z"
   },
   {
    "duration": 18,
    "start_time": "2023-03-29T18:43:32.748Z"
   },
   {
    "duration": 122,
    "start_time": "2023-03-29T18:43:32.767Z"
   },
   {
    "duration": 0,
    "start_time": "2023-03-29T18:43:32.890Z"
   },
   {
    "duration": 0,
    "start_time": "2023-03-29T18:43:32.892Z"
   },
   {
    "duration": 0,
    "start_time": "2023-03-29T18:43:32.893Z"
   },
   {
    "duration": 0,
    "start_time": "2023-03-29T18:43:32.894Z"
   },
   {
    "duration": 0,
    "start_time": "2023-03-29T18:43:32.895Z"
   },
   {
    "duration": 0,
    "start_time": "2023-03-29T18:43:32.896Z"
   },
   {
    "duration": 0,
    "start_time": "2023-03-29T18:43:32.897Z"
   },
   {
    "duration": 3,
    "start_time": "2023-03-29T18:46:43.849Z"
   },
   {
    "duration": 4804,
    "start_time": "2023-03-29T18:46:45.622Z"
   },
   {
    "duration": 338,
    "start_time": "2023-03-29T18:46:55.784Z"
   },
   {
    "duration": 3,
    "start_time": "2023-03-29T18:47:03.634Z"
   },
   {
    "duration": 5,
    "start_time": "2023-03-29T18:47:07.088Z"
   },
   {
    "duration": 1488,
    "start_time": "2023-03-30T10:42:02.928Z"
   },
   {
    "duration": 7,
    "start_time": "2023-03-30T10:42:04.419Z"
   },
   {
    "duration": 1134,
    "start_time": "2023-03-30T10:42:04.429Z"
   },
   {
    "duration": 993,
    "start_time": "2023-03-30T10:42:05.566Z"
   },
   {
    "duration": 71,
    "start_time": "2023-03-30T10:42:06.562Z"
   },
   {
    "duration": 5,
    "start_time": "2023-03-30T10:42:06.635Z"
   },
   {
    "duration": 85,
    "start_time": "2023-03-30T10:42:06.642Z"
   },
   {
    "duration": 41,
    "start_time": "2023-03-30T10:42:06.729Z"
   },
   {
    "duration": 474,
    "start_time": "2023-03-30T10:42:06.772Z"
   },
   {
    "duration": 115,
    "start_time": "2023-03-30T10:42:07.249Z"
   },
   {
    "duration": 350,
    "start_time": "2023-03-30T10:42:07.366Z"
   },
   {
    "duration": 221,
    "start_time": "2023-03-30T10:42:07.718Z"
   },
   {
    "duration": 23,
    "start_time": "2023-03-30T10:42:07.941Z"
   },
   {
    "duration": 507,
    "start_time": "2023-03-30T10:42:07.966Z"
   },
   {
    "duration": 51,
    "start_time": "2023-03-30T10:42:08.475Z"
   },
   {
    "duration": 505,
    "start_time": "2023-03-30T10:42:08.528Z"
   },
   {
    "duration": 226,
    "start_time": "2023-03-30T10:42:09.034Z"
   },
   {
    "duration": 8,
    "start_time": "2023-03-30T10:42:09.262Z"
   },
   {
    "duration": 479,
    "start_time": "2023-03-30T10:42:09.286Z"
   },
   {
    "duration": 374,
    "start_time": "2023-03-30T10:42:09.766Z"
   },
   {
    "duration": 80,
    "start_time": "2023-03-30T10:42:10.142Z"
   },
   {
    "duration": 92,
    "start_time": "2023-03-30T10:42:10.224Z"
   },
   {
    "duration": 95,
    "start_time": "2023-03-30T10:42:10.318Z"
   },
   {
    "duration": 39,
    "start_time": "2023-03-30T10:42:10.415Z"
   },
   {
    "duration": 384,
    "start_time": "2023-03-30T10:42:10.457Z"
   },
   {
    "duration": 443,
    "start_time": "2023-03-30T10:42:10.843Z"
   },
   {
    "duration": 23,
    "start_time": "2023-03-30T10:42:11.292Z"
   },
   {
    "duration": 142,
    "start_time": "2023-03-30T10:42:11.320Z"
   },
   {
    "duration": 7,
    "start_time": "2023-03-30T10:42:11.463Z"
   },
   {
    "duration": 4,
    "start_time": "2023-03-30T10:42:11.489Z"
   },
   {
    "duration": 211,
    "start_time": "2023-03-30T10:42:11.495Z"
   },
   {
    "duration": 39,
    "start_time": "2023-03-30T10:42:11.708Z"
   },
   {
    "duration": 146,
    "start_time": "2023-03-30T10:42:11.749Z"
   },
   {
    "duration": 3,
    "start_time": "2023-03-30T10:42:11.897Z"
   },
   {
    "duration": 112,
    "start_time": "2023-03-30T10:42:11.902Z"
   },
   {
    "duration": 302,
    "start_time": "2023-03-30T10:42:12.016Z"
   },
   {
    "duration": 4,
    "start_time": "2023-03-30T10:42:12.319Z"
   },
   {
    "duration": 10,
    "start_time": "2023-03-30T10:42:12.326Z"
   },
   {
    "duration": 7,
    "start_time": "2023-03-30T10:42:12.337Z"
   },
   {
    "duration": 15,
    "start_time": "2023-03-30T10:42:12.346Z"
   },
   {
    "duration": 7,
    "start_time": "2023-03-30T10:42:12.362Z"
   },
   {
    "duration": 181678,
    "start_time": "2023-03-30T10:42:12.371Z"
   },
   {
    "duration": 535,
    "start_time": "2023-03-30T10:45:14.050Z"
   },
   {
    "duration": 5,
    "start_time": "2023-03-30T10:45:14.586Z"
   },
   {
    "duration": 20,
    "start_time": "2023-03-30T10:45:14.594Z"
   },
   {
    "duration": 4,
    "start_time": "2023-03-30T10:45:14.616Z"
   },
   {
    "duration": 352279,
    "start_time": "2023-03-30T10:45:14.622Z"
   },
   {
    "duration": 716,
    "start_time": "2023-03-30T10:51:06.904Z"
   },
   {
    "duration": 4,
    "start_time": "2023-03-30T10:51:07.622Z"
   },
   {
    "duration": 5,
    "start_time": "2023-03-30T10:51:07.628Z"
   },
   {
    "duration": 9,
    "start_time": "2023-03-30T10:51:07.634Z"
   },
   {
    "duration": 3769,
    "start_time": "2023-03-30T10:51:07.644Z"
   },
   {
    "duration": 105,
    "start_time": "2023-03-30T10:51:11.489Z"
   },
   {
    "duration": 9,
    "start_time": "2023-03-30T10:51:11.596Z"
   },
   {
    "duration": 107,
    "start_time": "2023-03-30T10:51:11.608Z"
   },
   {
    "duration": 74,
    "start_time": "2023-03-30T10:51:11.717Z"
   },
   {
    "duration": 231548,
    "start_time": "2023-03-30T10:51:11.795Z"
   },
   {
    "duration": 724,
    "start_time": "2023-03-30T10:55:03.345Z"
   },
   {
    "duration": 4,
    "start_time": "2023-03-30T10:55:04.071Z"
   },
   {
    "duration": 42,
    "start_time": "2023-03-30T10:55:04.076Z"
   },
   {
    "duration": 23,
    "start_time": "2023-03-30T10:55:04.120Z"
   },
   {
    "duration": 353343,
    "start_time": "2023-03-30T10:55:04.145Z"
   },
   {
    "duration": 413,
    "start_time": "2023-03-30T11:00:57.490Z"
   },
   {
    "duration": 6,
    "start_time": "2023-03-30T11:00:57.904Z"
   },
   {
    "duration": 25,
    "start_time": "2023-03-30T11:00:57.911Z"
   },
   {
    "duration": 1529,
    "start_time": "2023-03-30T14:55:06.861Z"
   },
   {
    "duration": 4,
    "start_time": "2023-03-30T14:55:10.113Z"
   },
   {
    "duration": 948,
    "start_time": "2023-03-30T14:55:11.012Z"
   },
   {
    "duration": 698,
    "start_time": "2023-03-30T14:55:14.423Z"
   },
   {
    "duration": 31,
    "start_time": "2023-03-30T14:55:18.831Z"
   },
   {
    "duration": 3,
    "start_time": "2023-03-30T14:55:19.633Z"
   },
   {
    "duration": 46,
    "start_time": "2023-03-30T14:55:21.233Z"
   },
   {
    "duration": 34,
    "start_time": "2023-03-30T14:55:21.631Z"
   },
   {
    "duration": 348,
    "start_time": "2023-03-30T14:55:23.263Z"
   },
   {
    "duration": 80,
    "start_time": "2023-03-30T14:55:23.958Z"
   },
   {
    "duration": 256,
    "start_time": "2023-03-30T14:55:25.482Z"
   },
   {
    "duration": 189,
    "start_time": "2023-03-30T14:55:26.273Z"
   },
   {
    "duration": 21,
    "start_time": "2023-03-30T14:55:27.644Z"
   },
   {
    "duration": 334,
    "start_time": "2023-03-30T14:55:28.584Z"
   },
   {
    "duration": 32,
    "start_time": "2023-03-30T14:55:29.069Z"
   },
   {
    "duration": 393,
    "start_time": "2023-03-30T14:55:29.637Z"
   },
   {
    "duration": 154,
    "start_time": "2023-03-30T14:55:32.925Z"
   },
   {
    "duration": 9,
    "start_time": "2023-03-30T14:55:33.559Z"
   },
   {
    "duration": 297,
    "start_time": "2023-03-30T14:55:34.198Z"
   },
   {
    "duration": 317,
    "start_time": "2023-03-30T14:55:34.826Z"
   },
   {
    "duration": 71,
    "start_time": "2023-03-30T14:55:38.814Z"
   },
   {
    "duration": 46,
    "start_time": "2023-03-30T14:55:40.442Z"
   },
   {
    "duration": 50,
    "start_time": "2023-03-30T14:55:43.881Z"
   },
   {
    "duration": 8,
    "start_time": "2023-03-30T14:55:46.031Z"
   },
   {
    "duration": 3,
    "start_time": "2023-03-30T14:55:48.335Z"
   },
   {
    "duration": 354,
    "start_time": "2023-03-30T14:55:52.499Z"
   },
   {
    "duration": 14,
    "start_time": "2023-03-30T14:55:58.179Z"
   },
   {
    "duration": 81,
    "start_time": "2023-03-30T14:56:02.266Z"
   },
   {
    "duration": 5,
    "start_time": "2023-03-30T14:56:03.178Z"
   },
   {
    "duration": 3,
    "start_time": "2023-03-30T14:56:04.198Z"
   },
   {
    "duration": 149,
    "start_time": "2023-03-30T14:56:05.466Z"
   },
   {
    "duration": 14,
    "start_time": "2023-03-30T14:56:07.660Z"
   },
   {
    "duration": 92,
    "start_time": "2023-03-30T14:56:08.440Z"
   },
   {
    "duration": 2,
    "start_time": "2023-03-30T14:56:09.003Z"
   },
   {
    "duration": 4,
    "start_time": "2023-03-30T14:56:09.811Z"
   },
   {
    "duration": 117,
    "start_time": "2023-03-30T14:56:11.463Z"
   },
   {
    "duration": 12,
    "start_time": "2023-03-30T14:57:24.752Z"
   },
   {
    "duration": 13,
    "start_time": "2023-03-30T14:57:42.609Z"
   },
   {
    "duration": 14,
    "start_time": "2023-03-30T14:58:03.077Z"
   },
   {
    "duration": 15,
    "start_time": "2023-03-30T14:58:51.715Z"
   },
   {
    "duration": 276,
    "start_time": "2023-03-30T14:59:00.831Z"
   },
   {
    "duration": 280,
    "start_time": "2023-03-30T14:59:09.861Z"
   },
   {
    "duration": 11,
    "start_time": "2023-03-30T14:59:38.679Z"
   },
   {
    "duration": 11,
    "start_time": "2023-03-30T15:02:17.885Z"
   },
   {
    "duration": 11,
    "start_time": "2023-03-30T15:02:30.671Z"
   },
   {
    "duration": 11,
    "start_time": "2023-03-30T15:04:18.745Z"
   },
   {
    "duration": 11,
    "start_time": "2023-03-30T15:04:23.005Z"
   },
   {
    "duration": 11,
    "start_time": "2023-03-30T15:04:40.427Z"
   },
   {
    "duration": 12,
    "start_time": "2023-03-30T15:05:41.745Z"
   },
   {
    "duration": 11,
    "start_time": "2023-03-30T15:05:59.721Z"
   },
   {
    "duration": 11,
    "start_time": "2023-03-30T15:06:20.931Z"
   },
   {
    "duration": 13,
    "start_time": "2023-03-30T15:06:26.868Z"
   },
   {
    "duration": 15,
    "start_time": "2023-03-30T15:06:33.469Z"
   },
   {
    "duration": 1346,
    "start_time": "2023-03-30T15:06:41.661Z"
   },
   {
    "duration": 3,
    "start_time": "2023-03-30T15:06:43.009Z"
   },
   {
    "duration": 712,
    "start_time": "2023-03-30T15:06:43.013Z"
   },
   {
    "duration": 687,
    "start_time": "2023-03-30T15:06:43.727Z"
   },
   {
    "duration": 34,
    "start_time": "2023-03-30T15:06:44.415Z"
   },
   {
    "duration": 11,
    "start_time": "2023-03-30T15:06:44.451Z"
   },
   {
    "duration": 47,
    "start_time": "2023-03-30T15:06:44.464Z"
   },
   {
    "duration": 43,
    "start_time": "2023-03-30T15:06:44.512Z"
   },
   {
    "duration": 316,
    "start_time": "2023-03-30T15:06:44.557Z"
   },
   {
    "duration": 85,
    "start_time": "2023-03-30T15:06:44.876Z"
   },
   {
    "duration": 248,
    "start_time": "2023-03-30T15:06:44.963Z"
   },
   {
    "duration": 159,
    "start_time": "2023-03-30T15:06:45.212Z"
   },
   {
    "duration": 22,
    "start_time": "2023-03-30T15:06:45.373Z"
   },
   {
    "duration": 344,
    "start_time": "2023-03-30T15:06:45.396Z"
   },
   {
    "duration": 37,
    "start_time": "2023-03-30T15:06:45.741Z"
   },
   {
    "duration": 390,
    "start_time": "2023-03-30T15:06:45.780Z"
   },
   {
    "duration": 182,
    "start_time": "2023-03-30T15:06:46.171Z"
   },
   {
    "duration": 8,
    "start_time": "2023-03-30T15:06:46.354Z"
   },
   {
    "duration": 357,
    "start_time": "2023-03-30T15:06:46.363Z"
   },
   {
    "duration": 318,
    "start_time": "2023-03-30T15:06:46.722Z"
   },
   {
    "duration": 54,
    "start_time": "2023-03-30T15:06:47.041Z"
   },
   {
    "duration": 62,
    "start_time": "2023-03-30T15:06:47.096Z"
   },
   {
    "duration": 52,
    "start_time": "2023-03-30T15:06:47.160Z"
   },
   {
    "duration": 7,
    "start_time": "2023-03-30T15:06:47.214Z"
   },
   {
    "duration": 18,
    "start_time": "2023-03-30T15:06:47.222Z"
   },
   {
    "duration": 345,
    "start_time": "2023-03-30T15:06:47.241Z"
   },
   {
    "duration": 13,
    "start_time": "2023-03-30T15:06:47.587Z"
   },
   {
    "duration": 88,
    "start_time": "2023-03-30T15:06:47.603Z"
   },
   {
    "duration": 5,
    "start_time": "2023-03-30T15:06:47.693Z"
   },
   {
    "duration": 8,
    "start_time": "2023-03-30T15:06:47.699Z"
   },
   {
    "duration": 167,
    "start_time": "2023-03-30T15:06:47.708Z"
   },
   {
    "duration": 13,
    "start_time": "2023-03-30T15:06:47.877Z"
   },
   {
    "duration": 92,
    "start_time": "2023-03-30T15:06:47.891Z"
   },
   {
    "duration": 4,
    "start_time": "2023-03-30T15:06:47.984Z"
   },
   {
    "duration": 5,
    "start_time": "2023-03-30T15:06:47.989Z"
   },
   {
    "duration": 145,
    "start_time": "2023-03-30T15:06:47.996Z"
   },
   {
    "duration": 0,
    "start_time": "2023-03-30T15:06:48.142Z"
   },
   {
    "duration": 0,
    "start_time": "2023-03-30T15:06:48.144Z"
   },
   {
    "duration": 0,
    "start_time": "2023-03-30T15:06:48.145Z"
   },
   {
    "duration": 0,
    "start_time": "2023-03-30T15:06:48.146Z"
   },
   {
    "duration": 0,
    "start_time": "2023-03-30T15:06:48.148Z"
   },
   {
    "duration": 0,
    "start_time": "2023-03-30T15:06:48.149Z"
   },
   {
    "duration": 0,
    "start_time": "2023-03-30T15:06:48.150Z"
   },
   {
    "duration": 0,
    "start_time": "2023-03-30T15:06:48.150Z"
   },
   {
    "duration": 0,
    "start_time": "2023-03-30T15:06:48.151Z"
   },
   {
    "duration": 0,
    "start_time": "2023-03-30T15:06:48.152Z"
   },
   {
    "duration": 0,
    "start_time": "2023-03-30T15:06:48.153Z"
   },
   {
    "duration": 0,
    "start_time": "2023-03-30T15:06:48.154Z"
   },
   {
    "duration": 0,
    "start_time": "2023-03-30T15:06:48.155Z"
   },
   {
    "duration": 0,
    "start_time": "2023-03-30T15:06:48.156Z"
   },
   {
    "duration": 0,
    "start_time": "2023-03-30T15:06:48.157Z"
   },
   {
    "duration": 0,
    "start_time": "2023-03-30T15:06:48.157Z"
   },
   {
    "duration": 0,
    "start_time": "2023-03-30T15:06:48.158Z"
   },
   {
    "duration": 0,
    "start_time": "2023-03-30T15:06:48.159Z"
   },
   {
    "duration": 0,
    "start_time": "2023-03-30T15:06:48.160Z"
   },
   {
    "duration": 0,
    "start_time": "2023-03-30T15:06:48.161Z"
   },
   {
    "duration": 0,
    "start_time": "2023-03-30T15:06:48.162Z"
   },
   {
    "duration": 0,
    "start_time": "2023-03-30T15:06:48.163Z"
   },
   {
    "duration": 0,
    "start_time": "2023-03-30T15:06:48.164Z"
   },
   {
    "duration": 0,
    "start_time": "2023-03-30T15:06:48.164Z"
   },
   {
    "duration": 0,
    "start_time": "2023-03-30T15:06:48.166Z"
   },
   {
    "duration": 0,
    "start_time": "2023-03-30T15:06:48.166Z"
   },
   {
    "duration": 0,
    "start_time": "2023-03-30T15:06:48.167Z"
   },
   {
    "duration": 0,
    "start_time": "2023-03-30T15:06:48.168Z"
   },
   {
    "duration": 0,
    "start_time": "2023-03-30T15:06:48.169Z"
   },
   {
    "duration": 0,
    "start_time": "2023-03-30T15:06:48.170Z"
   },
   {
    "duration": 1400,
    "start_time": "2023-03-30T15:07:47.747Z"
   },
   {
    "duration": 4,
    "start_time": "2023-03-30T15:07:49.149Z"
   },
   {
    "duration": 707,
    "start_time": "2023-03-30T15:07:49.154Z"
   },
   {
    "duration": 686,
    "start_time": "2023-03-30T15:07:49.863Z"
   },
   {
    "duration": 30,
    "start_time": "2023-03-30T15:07:50.551Z"
   },
   {
    "duration": 3,
    "start_time": "2023-03-30T15:07:50.582Z"
   },
   {
    "duration": 63,
    "start_time": "2023-03-30T15:07:50.586Z"
   },
   {
    "duration": 34,
    "start_time": "2023-03-30T15:07:50.651Z"
   },
   {
    "duration": 321,
    "start_time": "2023-03-30T15:07:50.686Z"
   },
   {
    "duration": 85,
    "start_time": "2023-03-30T15:07:51.010Z"
   },
   {
    "duration": 255,
    "start_time": "2023-03-30T15:07:51.096Z"
   },
   {
    "duration": 193,
    "start_time": "2023-03-30T15:07:51.353Z"
   },
   {
    "duration": 21,
    "start_time": "2023-03-30T15:07:51.548Z"
   },
   {
    "duration": 350,
    "start_time": "2023-03-30T15:07:51.571Z"
   },
   {
    "duration": 32,
    "start_time": "2023-03-30T15:07:51.922Z"
   },
   {
    "duration": 394,
    "start_time": "2023-03-30T15:07:51.955Z"
   },
   {
    "duration": 170,
    "start_time": "2023-03-30T15:07:52.350Z"
   },
   {
    "duration": 24,
    "start_time": "2023-03-30T15:07:52.521Z"
   },
   {
    "duration": 315,
    "start_time": "2023-03-30T15:07:52.547Z"
   },
   {
    "duration": 310,
    "start_time": "2023-03-30T15:07:52.865Z"
   },
   {
    "duration": 85,
    "start_time": "2023-03-30T15:07:53.178Z"
   },
   {
    "duration": 47,
    "start_time": "2023-03-30T15:07:53.264Z"
   },
   {
    "duration": 66,
    "start_time": "2023-03-30T15:07:53.313Z"
   },
   {
    "duration": 8,
    "start_time": "2023-03-30T15:07:53.380Z"
   },
   {
    "duration": 2,
    "start_time": "2023-03-30T15:07:53.390Z"
   },
   {
    "duration": 373,
    "start_time": "2023-03-30T15:07:53.394Z"
   },
   {
    "duration": 12,
    "start_time": "2023-03-30T15:07:53.768Z"
   },
   {
    "duration": 87,
    "start_time": "2023-03-30T15:07:53.784Z"
   },
   {
    "duration": 6,
    "start_time": "2023-03-30T15:07:53.873Z"
   },
   {
    "duration": 5,
    "start_time": "2023-03-30T15:07:53.881Z"
   },
   {
    "duration": 169,
    "start_time": "2023-03-30T15:07:53.887Z"
   },
   {
    "duration": 12,
    "start_time": "2023-03-30T15:07:54.058Z"
   },
   {
    "duration": 89,
    "start_time": "2023-03-30T15:07:54.072Z"
   },
   {
    "duration": 3,
    "start_time": "2023-03-30T15:07:54.162Z"
   },
   {
    "duration": 11,
    "start_time": "2023-03-30T15:07:54.167Z"
   },
   {
    "duration": 277,
    "start_time": "2023-03-30T15:07:54.179Z"
   },
   {
    "duration": 287,
    "start_time": "2023-03-30T15:07:54.458Z"
   },
   {
    "duration": 5,
    "start_time": "2023-03-30T15:07:54.746Z"
   },
   {
    "duration": 4,
    "start_time": "2023-03-30T15:07:54.753Z"
   },
   {
    "duration": 12,
    "start_time": "2023-03-30T15:07:54.758Z"
   },
   {
    "duration": 5,
    "start_time": "2023-03-30T15:07:54.771Z"
   },
   {
    "duration": 3,
    "start_time": "2023-03-30T15:07:54.777Z"
   },
   {
    "duration": 158799,
    "start_time": "2023-03-30T15:07:54.782Z"
   },
   {
    "duration": 434,
    "start_time": "2023-03-30T15:10:33.582Z"
   },
   {
    "duration": 3,
    "start_time": "2023-03-30T15:10:34.018Z"
   },
   {
    "duration": 4,
    "start_time": "2023-03-30T15:10:34.023Z"
   },
   {
    "duration": 3,
    "start_time": "2023-03-30T15:10:34.040Z"
   },
   {
    "duration": 1472,
    "start_time": "2023-03-30T15:22:36.596Z"
   },
   {
    "duration": 3,
    "start_time": "2023-03-30T15:22:38.070Z"
   },
   {
    "duration": 766,
    "start_time": "2023-03-30T15:22:38.074Z"
   },
   {
    "duration": 717,
    "start_time": "2023-03-30T15:22:38.842Z"
   },
   {
    "duration": 30,
    "start_time": "2023-03-30T15:22:39.561Z"
   },
   {
    "duration": 8,
    "start_time": "2023-03-30T15:22:39.593Z"
   },
   {
    "duration": 60,
    "start_time": "2023-03-30T15:22:39.602Z"
   },
   {
    "duration": 34,
    "start_time": "2023-03-30T15:22:39.663Z"
   },
   {
    "duration": 360,
    "start_time": "2023-03-30T15:22:39.699Z"
   },
   {
    "duration": 90,
    "start_time": "2023-03-30T15:22:40.061Z"
   },
   {
    "duration": 241,
    "start_time": "2023-03-30T15:22:40.152Z"
   },
   {
    "duration": 159,
    "start_time": "2023-03-30T15:22:40.394Z"
   },
   {
    "duration": 22,
    "start_time": "2023-03-30T15:22:40.555Z"
   },
   {
    "duration": 369,
    "start_time": "2023-03-30T15:22:40.579Z"
   },
   {
    "duration": 29,
    "start_time": "2023-03-30T15:22:40.950Z"
   },
   {
    "duration": 407,
    "start_time": "2023-03-30T15:22:40.980Z"
   },
   {
    "duration": 167,
    "start_time": "2023-03-30T15:22:41.389Z"
   },
   {
    "duration": 11,
    "start_time": "2023-03-30T15:22:41.558Z"
   },
   {
    "duration": 318,
    "start_time": "2023-03-30T15:22:41.570Z"
   },
   {
    "duration": 315,
    "start_time": "2023-03-30T15:22:41.890Z"
   },
   {
    "duration": 54,
    "start_time": "2023-03-30T15:22:42.206Z"
   },
   {
    "duration": 47,
    "start_time": "2023-03-30T15:22:42.262Z"
   },
   {
    "duration": 69,
    "start_time": "2023-03-30T15:22:42.311Z"
   },
   {
    "duration": 18,
    "start_time": "2023-03-30T15:22:42.381Z"
   },
   {
    "duration": 16,
    "start_time": "2023-03-30T15:22:42.400Z"
   },
   {
    "duration": 365,
    "start_time": "2023-03-30T15:22:42.417Z"
   },
   {
    "duration": 13,
    "start_time": "2023-03-30T15:22:42.783Z"
   },
   {
    "duration": 105,
    "start_time": "2023-03-30T15:22:42.800Z"
   },
   {
    "duration": 5,
    "start_time": "2023-03-30T15:22:42.906Z"
   },
   {
    "duration": 17,
    "start_time": "2023-03-30T15:22:42.913Z"
   },
   {
    "duration": 154,
    "start_time": "2023-03-30T15:22:42.931Z"
   },
   {
    "duration": 13,
    "start_time": "2023-03-30T15:22:43.086Z"
   },
   {
    "duration": 94,
    "start_time": "2023-03-30T15:22:43.100Z"
   },
   {
    "duration": 3,
    "start_time": "2023-03-30T15:22:43.196Z"
   },
   {
    "duration": 14,
    "start_time": "2023-03-30T15:22:43.200Z"
   },
   {
    "duration": 278,
    "start_time": "2023-03-30T15:22:43.215Z"
   },
   {
    "duration": 292,
    "start_time": "2023-03-30T15:22:43.494Z"
   },
   {
    "duration": 3,
    "start_time": "2023-03-30T15:22:43.788Z"
   },
   {
    "duration": 9,
    "start_time": "2023-03-30T15:22:43.792Z"
   },
   {
    "duration": 11,
    "start_time": "2023-03-30T15:22:43.802Z"
   },
   {
    "duration": 4,
    "start_time": "2023-03-30T15:22:43.814Z"
   },
   {
    "duration": 3,
    "start_time": "2023-03-30T15:22:43.819Z"
   },
   {
    "duration": 160428,
    "start_time": "2023-03-30T15:22:43.824Z"
   },
   {
    "duration": 414,
    "start_time": "2023-03-30T15:25:24.254Z"
   },
   {
    "duration": 2,
    "start_time": "2023-03-30T15:25:24.670Z"
   },
   {
    "duration": 6,
    "start_time": "2023-03-30T15:25:24.674Z"
   },
   {
    "duration": 3,
    "start_time": "2023-03-30T15:25:24.681Z"
   },
   {
    "duration": 1071468,
    "start_time": "2023-03-30T15:25:24.686Z"
   },
   {
    "duration": 784,
    "start_time": "2023-03-30T15:43:16.156Z"
   },
   {
    "duration": 5,
    "start_time": "2023-03-30T15:43:16.942Z"
   },
   {
    "duration": 4,
    "start_time": "2023-03-30T15:43:16.949Z"
   },
   {
    "duration": 4,
    "start_time": "2023-03-30T15:43:16.954Z"
   },
   {
    "duration": 1786,
    "start_time": "2023-03-30T15:43:16.960Z"
   },
   {
    "duration": 194,
    "start_time": "2023-03-30T15:43:18.748Z"
   },
   {
    "duration": 3,
    "start_time": "2023-03-30T15:43:18.944Z"
   },
   {
    "duration": 5,
    "start_time": "2023-03-30T15:43:18.949Z"
   },
   {
    "duration": 88,
    "start_time": "2023-03-30T15:43:18.956Z"
   },
   {
    "duration": 193073,
    "start_time": "2023-03-30T15:43:19.046Z"
   },
   {
    "duration": 531,
    "start_time": "2023-03-30T15:46:32.121Z"
   },
   {
    "duration": 4,
    "start_time": "2023-03-30T15:46:32.654Z"
   },
   {
    "duration": 4,
    "start_time": "2023-03-30T15:46:32.659Z"
   },
   {
    "duration": 3,
    "start_time": "2023-03-30T15:46:32.664Z"
   },
   {
    "duration": 945672,
    "start_time": "2023-03-30T15:46:32.668Z"
   },
   {
    "duration": 497,
    "start_time": "2023-03-30T16:02:18.342Z"
   },
   {
    "duration": 3,
    "start_time": "2023-03-30T16:02:18.842Z"
   },
   {
    "duration": 11,
    "start_time": "2023-03-30T16:02:18.846Z"
   },
   {
    "duration": 1686,
    "start_time": "2023-03-31T11:36:12.103Z"
   },
   {
    "duration": 4,
    "start_time": "2023-03-31T11:36:13.791Z"
   },
   {
    "duration": 839,
    "start_time": "2023-03-31T11:36:13.797Z"
   },
   {
    "duration": 807,
    "start_time": "2023-03-31T11:36:14.639Z"
   },
   {
    "duration": 32,
    "start_time": "2023-03-31T11:36:15.448Z"
   },
   {
    "duration": 29,
    "start_time": "2023-03-31T11:36:15.482Z"
   },
   {
    "duration": 68,
    "start_time": "2023-03-31T11:36:15.513Z"
   },
   {
    "duration": 35,
    "start_time": "2023-03-31T11:36:15.583Z"
   },
   {
    "duration": 356,
    "start_time": "2023-03-31T11:36:15.620Z"
   },
   {
    "duration": 91,
    "start_time": "2023-03-31T11:36:15.978Z"
   },
   {
    "duration": 305,
    "start_time": "2023-03-31T11:36:16.071Z"
   },
   {
    "duration": 186,
    "start_time": "2023-03-31T11:36:16.379Z"
   },
   {
    "duration": 23,
    "start_time": "2023-03-31T11:36:16.567Z"
   },
   {
    "duration": 411,
    "start_time": "2023-03-31T11:36:16.592Z"
   },
   {
    "duration": 36,
    "start_time": "2023-03-31T11:36:17.005Z"
   },
   {
    "duration": 469,
    "start_time": "2023-03-31T11:36:17.042Z"
   },
   {
    "duration": 195,
    "start_time": "2023-03-31T11:36:17.512Z"
   },
   {
    "duration": 18,
    "start_time": "2023-03-31T11:36:17.709Z"
   },
   {
    "duration": 326,
    "start_time": "2023-03-31T11:36:17.729Z"
   },
   {
    "duration": 301,
    "start_time": "2023-03-31T11:36:18.056Z"
   },
   {
    "duration": 65,
    "start_time": "2023-03-31T11:36:18.358Z"
   },
   {
    "duration": 48,
    "start_time": "2023-03-31T11:36:18.425Z"
   },
   {
    "duration": 62,
    "start_time": "2023-03-31T11:36:18.475Z"
   },
   {
    "duration": 9,
    "start_time": "2023-03-31T11:36:18.539Z"
   },
   {
    "duration": 7,
    "start_time": "2023-03-31T11:36:18.550Z"
   },
   {
    "duration": 397,
    "start_time": "2023-03-31T11:36:18.559Z"
   },
   {
    "duration": 13,
    "start_time": "2023-03-31T11:36:18.958Z"
   },
   {
    "duration": 126,
    "start_time": "2023-03-31T11:36:18.975Z"
   },
   {
    "duration": 5,
    "start_time": "2023-03-31T11:36:19.103Z"
   },
   {
    "duration": 29,
    "start_time": "2023-03-31T11:36:19.110Z"
   },
   {
    "duration": 178,
    "start_time": "2023-03-31T11:36:19.141Z"
   },
   {
    "duration": 15,
    "start_time": "2023-03-31T11:36:19.321Z"
   },
   {
    "duration": 117,
    "start_time": "2023-03-31T11:36:19.338Z"
   },
   {
    "duration": 3,
    "start_time": "2023-03-31T11:36:19.457Z"
   },
   {
    "duration": 18,
    "start_time": "2023-03-31T11:36:19.461Z"
   },
   {
    "duration": 299,
    "start_time": "2023-03-31T11:36:19.480Z"
   },
   {
    "duration": 359,
    "start_time": "2023-03-31T11:36:19.781Z"
   },
   {
    "duration": 3,
    "start_time": "2023-03-31T11:36:20.142Z"
   },
   {
    "duration": 6,
    "start_time": "2023-03-31T11:36:20.147Z"
   },
   {
    "duration": 22,
    "start_time": "2023-03-31T11:36:20.154Z"
   },
   {
    "duration": 4,
    "start_time": "2023-03-31T11:36:20.178Z"
   },
   {
    "duration": 5,
    "start_time": "2023-03-31T11:36:20.183Z"
   },
   {
    "duration": 161104,
    "start_time": "2023-03-31T11:36:20.190Z"
   },
   {
    "duration": 516,
    "start_time": "2023-03-31T11:39:01.296Z"
   },
   {
    "duration": 9,
    "start_time": "2023-03-31T11:39:01.815Z"
   },
   {
    "duration": 30,
    "start_time": "2023-03-31T11:39:01.826Z"
   },
   {
    "duration": 27,
    "start_time": "2023-03-31T11:39:01.858Z"
   },
   {
    "duration": 4441,
    "start_time": "2023-03-31T11:39:01.887Z"
   },
   {
    "duration": 695,
    "start_time": "2023-03-31T11:39:06.329Z"
   },
   {
    "duration": 5,
    "start_time": "2023-03-31T11:39:07.026Z"
   },
   {
    "duration": 19,
    "start_time": "2023-03-31T11:39:07.032Z"
   },
   {
    "duration": 12,
    "start_time": "2023-03-31T11:39:07.053Z"
   },
   {
    "duration": 2360,
    "start_time": "2023-03-31T11:39:07.067Z"
   },
   {
    "duration": 98,
    "start_time": "2023-03-31T11:39:09.429Z"
   },
   {
    "duration": 4,
    "start_time": "2023-03-31T11:39:09.529Z"
   },
   {
    "duration": 5,
    "start_time": "2023-03-31T11:39:09.623Z"
   },
   {
    "duration": 92,
    "start_time": "2023-03-31T11:39:09.632Z"
   },
   {
    "duration": 102979,
    "start_time": "2023-03-31T11:39:09.726Z"
   },
   {
    "duration": 0,
    "start_time": "2023-03-31T11:40:52.707Z"
   },
   {
    "duration": 0,
    "start_time": "2023-03-31T11:40:52.708Z"
   },
   {
    "duration": 0,
    "start_time": "2023-03-31T11:40:52.709Z"
   },
   {
    "duration": 0,
    "start_time": "2023-03-31T11:40:52.710Z"
   },
   {
    "duration": 0,
    "start_time": "2023-03-31T11:40:52.711Z"
   },
   {
    "duration": 0,
    "start_time": "2023-03-31T11:40:52.712Z"
   },
   {
    "duration": 0,
    "start_time": "2023-03-31T11:40:52.713Z"
   },
   {
    "duration": 0,
    "start_time": "2023-03-31T11:40:52.715Z"
   },
   {
    "duration": 0,
    "start_time": "2023-03-31T11:40:52.716Z"
   },
   {
    "duration": 4,
    "start_time": "2023-03-31T11:40:55.553Z"
   },
   {
    "duration": 5,
    "start_time": "2023-03-31T11:41:06.925Z"
   },
   {
    "duration": 4,
    "start_time": "2023-03-31T11:41:14.214Z"
   },
   {
    "duration": 42,
    "start_time": "2023-03-31T12:04:15.975Z"
   },
   {
    "duration": 11,
    "start_time": "2023-03-31T12:04:20.581Z"
   },
   {
    "duration": 1425,
    "start_time": "2023-03-31T12:04:30.853Z"
   },
   {
    "duration": 4,
    "start_time": "2023-03-31T12:04:32.743Z"
   },
   {
    "duration": 993,
    "start_time": "2023-03-31T12:04:33.558Z"
   },
   {
    "duration": 724,
    "start_time": "2023-03-31T12:04:34.553Z"
   },
   {
    "duration": 38,
    "start_time": "2023-03-31T12:04:35.279Z"
   },
   {
    "duration": 3,
    "start_time": "2023-03-31T12:04:35.318Z"
   },
   {
    "duration": 56,
    "start_time": "2023-03-31T12:04:35.331Z"
   },
   {
    "duration": 33,
    "start_time": "2023-03-31T12:04:35.537Z"
   },
   {
    "duration": 332,
    "start_time": "2023-03-31T12:04:36.050Z"
   },
   {
    "duration": 77,
    "start_time": "2023-03-31T12:04:37.792Z"
   },
   {
    "duration": 260,
    "start_time": "2023-03-31T12:04:38.954Z"
   },
   {
    "duration": 159,
    "start_time": "2023-03-31T12:04:39.216Z"
   },
   {
    "duration": 20,
    "start_time": "2023-03-31T12:04:39.465Z"
   },
   {
    "duration": 371,
    "start_time": "2023-03-31T12:04:39.792Z"
   },
   {
    "duration": 26,
    "start_time": "2023-03-31T12:04:40.168Z"
   },
   {
    "duration": 368,
    "start_time": "2023-03-31T12:04:40.195Z"
   },
   {
    "duration": 181,
    "start_time": "2023-03-31T12:04:41.462Z"
   },
   {
    "duration": 9,
    "start_time": "2023-03-31T12:04:41.656Z"
   },
   {
    "duration": 365,
    "start_time": "2023-03-31T12:04:42.328Z"
   },
   {
    "duration": 278,
    "start_time": "2023-03-31T12:04:42.818Z"
   },
   {
    "duration": 51,
    "start_time": "2023-03-31T12:04:44.530Z"
   },
   {
    "duration": 45,
    "start_time": "2023-03-31T12:04:45.488Z"
   },
   {
    "duration": 48,
    "start_time": "2023-03-31T12:04:46.931Z"
   },
   {
    "duration": 10,
    "start_time": "2023-03-31T12:04:48.587Z"
   },
   {
    "duration": 310,
    "start_time": "2023-03-31T12:05:01.178Z"
   },
   {
    "duration": 12,
    "start_time": "2023-03-31T12:05:06.138Z"
   },
   {
    "duration": 106,
    "start_time": "2023-03-31T12:05:06.994Z"
   },
   {
    "duration": 4,
    "start_time": "2023-03-31T12:05:08.098Z"
   },
   {
    "duration": 3,
    "start_time": "2023-03-31T12:05:08.992Z"
   },
   {
    "duration": 155,
    "start_time": "2023-03-31T12:05:09.786Z"
   },
   {
    "duration": 14,
    "start_time": "2023-03-31T12:05:10.932Z"
   },
   {
    "duration": 104,
    "start_time": "2023-03-31T12:05:11.865Z"
   },
   {
    "duration": 2,
    "start_time": "2023-03-31T12:05:12.260Z"
   },
   {
    "duration": 5,
    "start_time": "2023-03-31T12:05:12.967Z"
   },
   {
    "duration": 265,
    "start_time": "2023-03-31T12:05:14.835Z"
   },
   {
    "duration": 67,
    "start_time": "2023-03-31T12:05:17.651Z"
   },
   {
    "duration": 9,
    "start_time": "2023-03-31T12:05:28.580Z"
   },
   {
    "duration": 4,
    "start_time": "2023-03-31T12:10:57.729Z"
   },
   {
    "duration": 5,
    "start_time": "2023-03-31T12:11:26.547Z"
   },
   {
    "duration": 5,
    "start_time": "2023-03-31T12:14:11.846Z"
   },
   {
    "duration": 4,
    "start_time": "2023-03-31T12:14:37.592Z"
   },
   {
    "duration": 10,
    "start_time": "2023-03-31T12:17:32.294Z"
   },
   {
    "duration": 8,
    "start_time": "2023-03-31T12:18:09.767Z"
   },
   {
    "duration": 5,
    "start_time": "2023-03-31T12:18:40.422Z"
   },
   {
    "duration": 55,
    "start_time": "2023-03-31T12:19:45.930Z"
   },
   {
    "duration": 2834,
    "start_time": "2023-03-31T12:20:48.896Z"
   },
   {
    "duration": 4,
    "start_time": "2023-03-31T12:20:51.733Z"
   },
   {
    "duration": 963,
    "start_time": "2023-03-31T12:20:51.739Z"
   },
   {
    "duration": 904,
    "start_time": "2023-03-31T12:20:52.706Z"
   },
   {
    "duration": 36,
    "start_time": "2023-03-31T12:20:53.612Z"
   },
   {
    "duration": 26,
    "start_time": "2023-03-31T12:20:53.649Z"
   },
   {
    "duration": 73,
    "start_time": "2023-03-31T12:20:53.677Z"
   },
   {
    "duration": 57,
    "start_time": "2023-03-31T12:20:53.752Z"
   },
   {
    "duration": 451,
    "start_time": "2023-03-31T12:20:53.813Z"
   },
   {
    "duration": 90,
    "start_time": "2023-03-31T12:20:54.271Z"
   },
   {
    "duration": 316,
    "start_time": "2023-03-31T12:20:54.363Z"
   },
   {
    "duration": 226,
    "start_time": "2023-03-31T12:20:54.681Z"
   },
   {
    "duration": 21,
    "start_time": "2023-03-31T12:20:54.908Z"
   },
   {
    "duration": 406,
    "start_time": "2023-03-31T12:20:54.931Z"
   },
   {
    "duration": 34,
    "start_time": "2023-03-31T12:20:55.339Z"
   },
   {
    "duration": 484,
    "start_time": "2023-03-31T12:20:55.378Z"
   },
   {
    "duration": 218,
    "start_time": "2023-03-31T12:20:55.864Z"
   },
   {
    "duration": 13,
    "start_time": "2023-03-31T12:20:56.084Z"
   },
   {
    "duration": 315,
    "start_time": "2023-03-31T12:20:56.110Z"
   },
   {
    "duration": 316,
    "start_time": "2023-03-31T12:20:56.427Z"
   },
   {
    "duration": 86,
    "start_time": "2023-03-31T12:20:56.745Z"
   },
   {
    "duration": 84,
    "start_time": "2023-03-31T12:20:56.833Z"
   },
   {
    "duration": 87,
    "start_time": "2023-03-31T12:20:56.919Z"
   },
   {
    "duration": 29,
    "start_time": "2023-03-31T12:20:57.008Z"
   },
   {
    "duration": 367,
    "start_time": "2023-03-31T12:20:57.039Z"
   },
   {
    "duration": 12,
    "start_time": "2023-03-31T12:20:57.408Z"
   },
   {
    "duration": 122,
    "start_time": "2023-03-31T12:20:57.422Z"
   },
   {
    "duration": 5,
    "start_time": "2023-03-31T12:20:57.548Z"
   },
   {
    "duration": 19,
    "start_time": "2023-03-31T12:20:57.554Z"
   },
   {
    "duration": 170,
    "start_time": "2023-03-31T12:20:57.574Z"
   },
   {
    "duration": 12,
    "start_time": "2023-03-31T12:20:57.745Z"
   },
   {
    "duration": 139,
    "start_time": "2023-03-31T12:20:57.759Z"
   },
   {
    "duration": 8,
    "start_time": "2023-03-31T12:20:57.906Z"
   },
   {
    "duration": 10,
    "start_time": "2023-03-31T12:20:57.921Z"
   },
   {
    "duration": 334,
    "start_time": "2023-03-31T12:20:57.933Z"
   },
   {
    "duration": 7,
    "start_time": "2023-03-31T12:20:58.270Z"
   },
   {
    "duration": 16,
    "start_time": "2023-03-31T12:20:58.279Z"
   },
   {
    "duration": 409,
    "start_time": "2023-03-31T12:20:58.297Z"
   },
   {
    "duration": 4,
    "start_time": "2023-03-31T12:20:58.710Z"
   },
   {
    "duration": 4,
    "start_time": "2023-03-31T12:20:58.715Z"
   },
   {
    "duration": 5,
    "start_time": "2023-03-31T12:20:58.720Z"
   },
   {
    "duration": 4,
    "start_time": "2023-03-31T12:20:58.727Z"
   },
   {
    "duration": 4,
    "start_time": "2023-03-31T12:20:58.732Z"
   },
   {
    "duration": 3,
    "start_time": "2023-03-31T12:20:58.737Z"
   },
   {
    "duration": 166589,
    "start_time": "2023-03-31T12:20:58.743Z"
   },
   {
    "duration": 586,
    "start_time": "2023-03-31T12:23:45.334Z"
   },
   {
    "duration": 3,
    "start_time": "2023-03-31T12:23:45.921Z"
   },
   {
    "duration": 6,
    "start_time": "2023-03-31T12:23:45.926Z"
   },
   {
    "duration": 8,
    "start_time": "2023-03-31T12:23:45.933Z"
   },
   {
    "duration": 1348,
    "start_time": "2023-03-31T12:46:57.468Z"
   },
   {
    "duration": 4,
    "start_time": "2023-03-31T12:46:58.818Z"
   },
   {
    "duration": 832,
    "start_time": "2023-03-31T12:46:58.823Z"
   },
   {
    "duration": 768,
    "start_time": "2023-03-31T12:46:59.657Z"
   },
   {
    "duration": 29,
    "start_time": "2023-03-31T12:47:00.427Z"
   },
   {
    "duration": 24,
    "start_time": "2023-03-31T12:47:00.458Z"
   },
   {
    "duration": 73,
    "start_time": "2023-03-31T12:47:00.484Z"
   },
   {
    "duration": 38,
    "start_time": "2023-03-31T12:47:00.559Z"
   },
   {
    "duration": 347,
    "start_time": "2023-03-31T12:47:00.599Z"
   },
   {
    "duration": 83,
    "start_time": "2023-03-31T12:47:00.949Z"
   },
   {
    "duration": 262,
    "start_time": "2023-03-31T12:47:01.033Z"
   },
   {
    "duration": 157,
    "start_time": "2023-03-31T12:47:01.297Z"
   },
   {
    "duration": 28,
    "start_time": "2023-03-31T12:47:01.455Z"
   },
   {
    "duration": 436,
    "start_time": "2023-03-31T12:47:01.485Z"
   },
   {
    "duration": 26,
    "start_time": "2023-03-31T12:47:01.923Z"
   },
   {
    "duration": 430,
    "start_time": "2023-03-31T12:47:01.951Z"
   },
   {
    "duration": 195,
    "start_time": "2023-03-31T12:47:02.382Z"
   },
   {
    "duration": 10,
    "start_time": "2023-03-31T12:47:02.581Z"
   },
   {
    "duration": 318,
    "start_time": "2023-03-31T12:47:02.593Z"
   },
   {
    "duration": 298,
    "start_time": "2023-03-31T12:47:02.913Z"
   },
   {
    "duration": 70,
    "start_time": "2023-03-31T12:47:03.212Z"
   },
   {
    "duration": 51,
    "start_time": "2023-03-31T12:47:03.283Z"
   },
   {
    "duration": 56,
    "start_time": "2023-03-31T12:47:03.336Z"
   },
   {
    "duration": 18,
    "start_time": "2023-03-31T12:47:03.394Z"
   },
   {
    "duration": 323,
    "start_time": "2023-03-31T12:47:03.413Z"
   },
   {
    "duration": 15,
    "start_time": "2023-03-31T12:47:03.738Z"
   },
   {
    "duration": 116,
    "start_time": "2023-03-31T12:47:03.755Z"
   },
   {
    "duration": 7,
    "start_time": "2023-03-31T12:47:03.875Z"
   },
   {
    "duration": 3,
    "start_time": "2023-03-31T12:47:03.886Z"
   },
   {
    "duration": 141,
    "start_time": "2023-03-31T12:47:03.890Z"
   },
   {
    "duration": 11,
    "start_time": "2023-03-31T12:47:04.032Z"
   },
   {
    "duration": 121,
    "start_time": "2023-03-31T12:47:04.044Z"
   },
   {
    "duration": 7,
    "start_time": "2023-03-31T12:47:04.166Z"
   },
   {
    "duration": 10,
    "start_time": "2023-03-31T12:47:04.174Z"
   },
   {
    "duration": 262,
    "start_time": "2023-03-31T12:47:04.185Z"
   },
   {
    "duration": 5,
    "start_time": "2023-03-31T12:47:04.449Z"
   },
   {
    "duration": 18,
    "start_time": "2023-03-31T12:47:04.455Z"
   },
   {
    "duration": 337,
    "start_time": "2023-03-31T12:47:04.474Z"
   },
   {
    "duration": 4,
    "start_time": "2023-03-31T12:47:04.812Z"
   },
   {
    "duration": 6,
    "start_time": "2023-03-31T12:47:04.817Z"
   },
   {
    "duration": 8,
    "start_time": "2023-03-31T12:47:04.824Z"
   },
   {
    "duration": 8,
    "start_time": "2023-03-31T12:47:04.833Z"
   },
   {
    "duration": 4,
    "start_time": "2023-03-31T12:47:04.843Z"
   },
   {
    "duration": 5,
    "start_time": "2023-03-31T12:47:04.848Z"
   },
   {
    "duration": 149262,
    "start_time": "2023-03-31T12:47:04.854Z"
   },
   {
    "duration": 454,
    "start_time": "2023-03-31T12:49:34.118Z"
   },
   {
    "duration": 8,
    "start_time": "2023-03-31T12:49:34.577Z"
   },
   {
    "duration": 4,
    "start_time": "2023-03-31T12:49:34.587Z"
   },
   {
    "duration": 3,
    "start_time": "2023-03-31T12:49:34.592Z"
   },
   {
    "duration": 454376,
    "start_time": "2023-03-31T12:49:34.596Z"
   },
   {
    "duration": 604,
    "start_time": "2023-03-31T12:57:08.974Z"
   },
   {
    "duration": 11,
    "start_time": "2023-03-31T12:57:09.580Z"
   },
   {
    "duration": 4,
    "start_time": "2023-03-31T12:57:09.593Z"
   },
   {
    "duration": 3,
    "start_time": "2023-03-31T12:57:09.599Z"
   },
   {
    "duration": 2282,
    "start_time": "2023-03-31T12:57:09.604Z"
   },
   {
    "duration": 88,
    "start_time": "2023-03-31T12:57:11.888Z"
   },
   {
    "duration": 7,
    "start_time": "2023-03-31T12:57:11.982Z"
   },
   {
    "duration": 10,
    "start_time": "2023-03-31T12:57:12.068Z"
   },
   {
    "duration": 13,
    "start_time": "2023-03-31T12:57:12.082Z"
   },
   {
    "duration": 194314,
    "start_time": "2023-03-31T12:57:12.097Z"
   },
   {
    "duration": 595,
    "start_time": "2023-03-31T13:00:26.412Z"
   },
   {
    "duration": 4,
    "start_time": "2023-03-31T13:00:27.008Z"
   },
   {
    "duration": 12,
    "start_time": "2023-03-31T13:00:27.014Z"
   },
   {
    "duration": 4,
    "start_time": "2023-03-31T13:00:27.027Z"
   },
   {
    "duration": 370052,
    "start_time": "2023-03-31T13:00:27.032Z"
   },
   {
    "duration": 331,
    "start_time": "2023-03-31T13:06:37.090Z"
   },
   {
    "duration": 7,
    "start_time": "2023-03-31T13:06:37.479Z"
   },
   {
    "duration": 10,
    "start_time": "2023-03-31T13:06:37.491Z"
   },
   {
    "duration": 1615,
    "start_time": "2023-04-01T19:13:48.210Z"
   },
   {
    "duration": 4,
    "start_time": "2023-04-01T19:13:49.830Z"
   },
   {
    "duration": 2960,
    "start_time": "2023-04-01T19:13:49.836Z"
   },
   {
    "duration": 664,
    "start_time": "2023-04-01T19:13:52.798Z"
   },
   {
    "duration": 29,
    "start_time": "2023-04-01T19:13:53.464Z"
   },
   {
    "duration": 23,
    "start_time": "2023-04-01T19:13:53.495Z"
   },
   {
    "duration": 66,
    "start_time": "2023-04-01T19:13:53.520Z"
   },
   {
    "duration": 36,
    "start_time": "2023-04-01T19:13:53.588Z"
   },
   {
    "duration": 389,
    "start_time": "2023-04-01T19:13:53.626Z"
   },
   {
    "duration": 79,
    "start_time": "2023-04-01T19:13:54.018Z"
   },
   {
    "duration": 279,
    "start_time": "2023-04-01T19:13:54.098Z"
   },
   {
    "duration": 157,
    "start_time": "2023-04-01T19:13:54.379Z"
   },
   {
    "duration": 34,
    "start_time": "2023-04-01T19:13:54.538Z"
   },
   {
    "duration": 436,
    "start_time": "2023-04-01T19:13:54.573Z"
   },
   {
    "duration": 50,
    "start_time": "2023-04-01T19:13:55.011Z"
   },
   {
    "duration": 411,
    "start_time": "2023-04-01T19:13:55.063Z"
   },
   {
    "duration": 165,
    "start_time": "2023-04-01T19:13:55.476Z"
   },
   {
    "duration": 10,
    "start_time": "2023-04-01T19:13:55.642Z"
   },
   {
    "duration": 347,
    "start_time": "2023-04-01T19:13:55.654Z"
   },
   {
    "duration": 307,
    "start_time": "2023-04-01T19:13:56.002Z"
   },
   {
    "duration": 100,
    "start_time": "2023-04-01T19:13:56.311Z"
   },
   {
    "duration": 94,
    "start_time": "2023-04-01T19:13:56.413Z"
   },
   {
    "duration": 94,
    "start_time": "2023-04-01T19:13:56.508Z"
   },
   {
    "duration": 9,
    "start_time": "2023-04-01T19:13:56.604Z"
   },
   {
    "duration": 336,
    "start_time": "2023-04-01T19:13:56.615Z"
   },
   {
    "duration": 13,
    "start_time": "2023-04-01T19:13:56.952Z"
   },
   {
    "duration": 93,
    "start_time": "2023-04-01T19:13:56.967Z"
   },
   {
    "duration": 6,
    "start_time": "2023-04-01T19:13:57.064Z"
   },
   {
    "duration": 20,
    "start_time": "2023-04-01T19:13:57.072Z"
   },
   {
    "duration": 220,
    "start_time": "2023-04-01T19:13:57.094Z"
   },
   {
    "duration": 16,
    "start_time": "2023-04-01T19:13:57.316Z"
   },
   {
    "duration": 92,
    "start_time": "2023-04-01T19:13:57.333Z"
   },
   {
    "duration": 3,
    "start_time": "2023-04-01T19:13:57.428Z"
   },
   {
    "duration": 17,
    "start_time": "2023-04-01T19:13:57.433Z"
   },
   {
    "duration": 287,
    "start_time": "2023-04-01T19:13:57.452Z"
   },
   {
    "duration": 9,
    "start_time": "2023-04-01T19:13:57.740Z"
   },
   {
    "duration": 10,
    "start_time": "2023-04-01T19:13:57.751Z"
   },
   {
    "duration": 245,
    "start_time": "2023-04-01T19:13:57.763Z"
   },
   {
    "duration": 4,
    "start_time": "2023-04-01T19:13:58.010Z"
   },
   {
    "duration": 14,
    "start_time": "2023-04-01T19:13:58.014Z"
   },
   {
    "duration": 20,
    "start_time": "2023-04-01T19:13:58.029Z"
   },
   {
    "duration": 12,
    "start_time": "2023-04-01T19:13:58.050Z"
   },
   {
    "duration": 15,
    "start_time": "2023-04-01T19:13:58.064Z"
   },
   {
    "duration": 6,
    "start_time": "2023-04-01T19:13:58.081Z"
   },
   {
    "duration": 59,
    "start_time": "2023-04-02T13:17:37.710Z"
   },
   {
    "duration": 7,
    "start_time": "2023-04-02T13:17:37.899Z"
   },
   {
    "duration": 7,
    "start_time": "2023-04-02T13:17:56.618Z"
   },
   {
    "duration": 1823,
    "start_time": "2023-07-19T09:24:08.568Z"
   },
   {
    "duration": 4,
    "start_time": "2023-07-19T09:24:10.393Z"
   },
   {
    "duration": 1008,
    "start_time": "2023-07-19T09:24:10.398Z"
   },
   {
    "duration": 735,
    "start_time": "2023-07-19T09:24:11.408Z"
   },
   {
    "duration": 36,
    "start_time": "2023-07-19T09:24:12.145Z"
   },
   {
    "duration": 27,
    "start_time": "2023-07-19T09:24:12.182Z"
   },
   {
    "duration": 63,
    "start_time": "2023-07-19T09:24:12.210Z"
   },
   {
    "duration": 42,
    "start_time": "2023-07-19T09:24:12.274Z"
   },
   {
    "duration": 342,
    "start_time": "2023-07-19T09:24:12.317Z"
   },
   {
    "duration": 91,
    "start_time": "2023-07-19T09:24:12.660Z"
   },
   {
    "duration": 255,
    "start_time": "2023-07-19T09:24:12.752Z"
   },
   {
    "duration": 229,
    "start_time": "2023-07-19T09:24:13.008Z"
   },
   {
    "duration": 22,
    "start_time": "2023-07-19T09:24:13.238Z"
   },
   {
    "duration": 384,
    "start_time": "2023-07-19T09:24:13.263Z"
   },
   {
    "duration": 30,
    "start_time": "2023-07-19T09:24:13.649Z"
   },
   {
    "duration": 385,
    "start_time": "2023-07-19T09:24:13.681Z"
   },
   {
    "duration": 167,
    "start_time": "2023-07-19T09:24:14.067Z"
   },
   {
    "duration": 8,
    "start_time": "2023-07-19T09:24:14.235Z"
   },
   {
    "duration": 354,
    "start_time": "2023-07-19T09:24:14.244Z"
   },
   {
    "duration": 314,
    "start_time": "2023-07-19T09:24:14.600Z"
   },
   {
    "duration": 57,
    "start_time": "2023-07-19T09:24:14.915Z"
   },
   {
    "duration": 62,
    "start_time": "2023-07-19T09:24:14.974Z"
   },
   {
    "duration": 50,
    "start_time": "2023-07-19T09:24:15.038Z"
   },
   {
    "duration": 17,
    "start_time": "2023-07-19T09:24:15.090Z"
   },
   {
    "duration": 365,
    "start_time": "2023-07-19T09:24:15.108Z"
   },
   {
    "duration": 14,
    "start_time": "2023-07-19T09:24:15.475Z"
   },
   {
    "duration": 132,
    "start_time": "2023-07-19T09:24:15.491Z"
   },
   {
    "duration": 6,
    "start_time": "2023-07-19T09:24:15.626Z"
   },
   {
    "duration": 18,
    "start_time": "2023-07-19T09:24:15.634Z"
   },
   {
    "duration": 175,
    "start_time": "2023-07-19T09:24:15.655Z"
   },
   {
    "duration": 14,
    "start_time": "2023-07-19T09:24:15.832Z"
   },
   {
    "duration": 134,
    "start_time": "2023-07-19T09:24:15.847Z"
   },
   {
    "duration": 2,
    "start_time": "2023-07-19T09:24:15.983Z"
   },
   {
    "duration": 21,
    "start_time": "2023-07-19T09:24:15.987Z"
   },
   {
    "duration": 283,
    "start_time": "2023-07-19T09:24:16.010Z"
   },
   {
    "duration": 6,
    "start_time": "2023-07-19T09:24:16.295Z"
   },
   {
    "duration": 28,
    "start_time": "2023-07-19T09:24:16.302Z"
   },
   {
    "duration": 310,
    "start_time": "2023-07-19T09:24:16.331Z"
   },
   {
    "duration": 5,
    "start_time": "2023-07-19T09:24:16.643Z"
   },
   {
    "duration": 15,
    "start_time": "2023-07-19T09:24:16.649Z"
   },
   {
    "duration": 26,
    "start_time": "2023-07-19T09:24:16.668Z"
   },
   {
    "duration": 18,
    "start_time": "2023-07-19T09:24:16.695Z"
   },
   {
    "duration": 19,
    "start_time": "2023-07-19T09:24:16.714Z"
   },
   {
    "duration": 10,
    "start_time": "2023-07-19T09:24:16.734Z"
   },
   {
    "duration": 155719,
    "start_time": "2023-07-19T09:24:16.746Z"
   },
   {
    "duration": 441,
    "start_time": "2023-07-19T09:26:52.467Z"
   },
   {
    "duration": 3,
    "start_time": "2023-07-19T09:26:52.910Z"
   },
   {
    "duration": 28,
    "start_time": "2023-07-19T09:26:52.920Z"
   },
   {
    "duration": 22,
    "start_time": "2023-07-19T09:26:52.949Z"
   },
   {
    "duration": 1757,
    "start_time": "2023-07-19T09:45:52.191Z"
   },
   {
    "duration": 4,
    "start_time": "2023-07-19T09:45:53.952Z"
   },
   {
    "duration": 785,
    "start_time": "2023-07-19T09:45:53.959Z"
   },
   {
    "duration": 823,
    "start_time": "2023-07-19T09:45:54.746Z"
   },
   {
    "duration": 54,
    "start_time": "2023-07-19T09:45:55.571Z"
   },
   {
    "duration": 27,
    "start_time": "2023-07-19T09:45:55.627Z"
   },
   {
    "duration": 69,
    "start_time": "2023-07-19T09:45:55.657Z"
   },
   {
    "duration": 36,
    "start_time": "2023-07-19T09:45:55.728Z"
   },
   {
    "duration": 489,
    "start_time": "2023-07-19T09:45:55.767Z"
   },
   {
    "duration": 90,
    "start_time": "2023-07-19T09:45:56.258Z"
   },
   {
    "duration": 317,
    "start_time": "2023-07-19T09:45:56.350Z"
   },
   {
    "duration": 166,
    "start_time": "2023-07-19T09:45:56.670Z"
   },
   {
    "duration": 22,
    "start_time": "2023-07-19T09:45:56.839Z"
   },
   {
    "duration": 370,
    "start_time": "2023-07-19T09:45:56.862Z"
   },
   {
    "duration": 30,
    "start_time": "2023-07-19T09:45:57.234Z"
   },
   {
    "duration": 439,
    "start_time": "2023-07-19T09:45:57.265Z"
   },
   {
    "duration": 173,
    "start_time": "2023-07-19T09:45:57.706Z"
   },
   {
    "duration": 8,
    "start_time": "2023-07-19T09:45:57.881Z"
   },
   {
    "duration": 343,
    "start_time": "2023-07-19T09:45:57.891Z"
   },
   {
    "duration": 298,
    "start_time": "2023-07-19T09:45:58.235Z"
   },
   {
    "duration": 50,
    "start_time": "2023-07-19T09:45:58.535Z"
   },
   {
    "duration": 68,
    "start_time": "2023-07-19T09:45:58.587Z"
   },
   {
    "duration": 64,
    "start_time": "2023-07-19T09:45:58.657Z"
   },
   {
    "duration": 8,
    "start_time": "2023-07-19T09:45:58.722Z"
   },
   {
    "duration": 380,
    "start_time": "2023-07-19T09:45:58.732Z"
   },
   {
    "duration": 16,
    "start_time": "2023-07-19T09:45:59.113Z"
   },
   {
    "duration": 96,
    "start_time": "2023-07-19T09:45:59.130Z"
   },
   {
    "duration": 6,
    "start_time": "2023-07-19T09:45:59.230Z"
   },
   {
    "duration": 10,
    "start_time": "2023-07-19T09:45:59.238Z"
   },
   {
    "duration": 175,
    "start_time": "2023-07-19T09:45:59.249Z"
   },
   {
    "duration": 16,
    "start_time": "2023-07-19T09:45:59.426Z"
   },
   {
    "duration": 140,
    "start_time": "2023-07-19T09:45:59.444Z"
   },
   {
    "duration": 3,
    "start_time": "2023-07-19T09:45:59.586Z"
   },
   {
    "duration": 7,
    "start_time": "2023-07-19T09:45:59.590Z"
   },
   {
    "duration": 284,
    "start_time": "2023-07-19T09:45:59.598Z"
   },
   {
    "duration": 6,
    "start_time": "2023-07-19T09:45:59.883Z"
   },
   {
    "duration": 14,
    "start_time": "2023-07-19T09:45:59.891Z"
   },
   {
    "duration": 336,
    "start_time": "2023-07-19T09:45:59.907Z"
   },
   {
    "duration": 4,
    "start_time": "2023-07-19T09:46:00.244Z"
   },
   {
    "duration": 148,
    "start_time": "2023-07-19T09:46:00.250Z"
   },
   {
    "duration": 216,
    "start_time": "2023-07-19T09:46:00.400Z"
   },
   {
    "duration": 287,
    "start_time": "2023-07-19T09:46:00.618Z"
   },
   {
    "duration": 137,
    "start_time": "2023-07-19T09:46:00.907Z"
   },
   {
    "duration": 86,
    "start_time": "2023-07-19T09:46:01.046Z"
   },
   {
    "duration": 163170,
    "start_time": "2023-07-19T09:46:01.133Z"
   },
   {
    "duration": 432,
    "start_time": "2023-07-19T09:48:44.305Z"
   },
   {
    "duration": 3,
    "start_time": "2023-07-19T09:48:44.738Z"
   },
   {
    "duration": 11,
    "start_time": "2023-07-19T09:48:44.743Z"
   },
   {
    "duration": 12,
    "start_time": "2023-07-19T09:48:44.756Z"
   },
   {
    "duration": 930350,
    "start_time": "2023-07-19T09:48:44.770Z"
   },
   {
    "duration": 622,
    "start_time": "2023-07-19T10:04:15.123Z"
   },
   {
    "duration": 5,
    "start_time": "2023-07-19T10:04:15.821Z"
   },
   {
    "duration": 23,
    "start_time": "2023-07-19T10:04:15.827Z"
   },
   {
    "duration": 24,
    "start_time": "2023-07-19T10:04:15.852Z"
   },
   {
    "duration": 1745,
    "start_time": "2023-07-19T10:04:15.877Z"
   },
   {
    "duration": 95,
    "start_time": "2023-07-19T10:04:17.624Z"
   },
   {
    "duration": 101,
    "start_time": "2023-07-19T10:04:17.721Z"
   },
   {
    "duration": 15,
    "start_time": "2023-07-19T10:04:17.824Z"
   },
   {
    "duration": 7,
    "start_time": "2023-07-19T10:04:17.841Z"
   },
   {
    "duration": 190274,
    "start_time": "2023-07-19T10:04:17.850Z"
   },
   {
    "duration": 539,
    "start_time": "2023-07-19T10:07:28.125Z"
   },
   {
    "duration": 4,
    "start_time": "2023-07-19T10:07:28.665Z"
   },
   {
    "duration": 30,
    "start_time": "2023-07-19T10:07:28.671Z"
   },
   {
    "duration": 9,
    "start_time": "2023-07-19T10:07:28.703Z"
   },
   {
    "duration": 4910,
    "start_time": "2023-07-19T10:07:28.714Z"
   },
   {
    "duration": 405,
    "start_time": "2023-07-19T10:07:33.627Z"
   },
   {
    "duration": 88,
    "start_time": "2023-07-19T10:07:34.033Z"
   },
   {
    "duration": 28,
    "start_time": "2023-07-19T10:07:34.122Z"
   }
  ],
  "kernelspec": {
   "display_name": "Python 3 (ipykernel)",
   "language": "python",
   "name": "python3"
  },
  "language_info": {
   "codemirror_mode": {
    "name": "ipython",
    "version": 3
   },
   "file_extension": ".py",
   "mimetype": "text/x-python",
   "name": "python",
   "nbconvert_exporter": "python",
   "pygments_lexer": "ipython3",
   "version": "3.9.5"
  },
  "toc": {
   "base_numbering": 1,
   "nav_menu": {},
   "number_sections": true,
   "sideBar": true,
   "skip_h1_title": true,
   "title_cell": "Table of Contents",
   "title_sidebar": "Contents",
   "toc_cell": false,
   "toc_position": {},
   "toc_section_display": true,
   "toc_window_display": false
  }
 },
 "nbformat": 4,
 "nbformat_minor": 2
}
