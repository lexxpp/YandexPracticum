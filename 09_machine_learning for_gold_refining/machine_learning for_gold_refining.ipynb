{
 "cells": [
  {
   "cell_type": "markdown",
   "id": "c8e67c2f",
   "metadata": {
    "toc": true
   },
   "source": [
    "<h1>Table of Contents<span class=\"tocSkip\"></span></h1>\n",
    "<div class=\"toc\"><ul class=\"toc-item\"><li><span><a href=\"#Подготовка-данных\" data-toc-modified-id=\"Подготовка-данных-1\"><span class=\"toc-item-num\">1&nbsp;&nbsp;</span>Подготовка данных</a></span><ul class=\"toc-item\"><li><span><a href=\"#Изучение-данных\" data-toc-modified-id=\"Изучение-данных-1.1\"><span class=\"toc-item-num\">1.1&nbsp;&nbsp;</span>Изучение данных</a></span></li><li><span><a href=\"#Проверка-эффективности-обогащения-на-правильность-расчета\" data-toc-modified-id=\"Проверка-эффективности-обогащения-на-правильность-расчета-1.2\"><span class=\"toc-item-num\">1.2&nbsp;&nbsp;</span>Проверка эффективности обогащения на правильность расчета</a></span></li><li><span><a href=\"#Анализ-признаков,-недоступных-в-тестовой-выборке\" data-toc-modified-id=\"Анализ-признаков,-недоступных-в-тестовой-выборке-1.3\"><span class=\"toc-item-num\">1.3&nbsp;&nbsp;</span>Анализ признаков, недоступных в тестовой выборке</a></span></li><li><span><a href=\"#Предобработка-данных\" data-toc-modified-id=\"Предобработка-данных-1.4\"><span class=\"toc-item-num\">1.4&nbsp;&nbsp;</span>Предобработка данных</a></span></li></ul></li><li><span><a href=\"#Анализ-данных\" data-toc-modified-id=\"Анализ-данных-2\"><span class=\"toc-item-num\">2&nbsp;&nbsp;</span>Анализ данных</a></span><ul class=\"toc-item\"><li><span><a href=\"#Как-меняется-концентрация-металлов-(Au,-Ag,-Pb)-на-различных-этапах-очистки\" data-toc-modified-id=\"Как-меняется-концентрация-металлов-(Au,-Ag,-Pb)-на-различных-этапах-очистки-2.1\"><span class=\"toc-item-num\">2.1&nbsp;&nbsp;</span>Как меняется концентрация металлов (Au, Ag, Pb) на различных этапах очистки</a></span></li><li><span><a href=\"#Сравние-распределения-размеров-гранул-сырья-на-обучающей-и-тестовой-выборках\" data-toc-modified-id=\"Сравние-распределения-размеров-гранул-сырья-на-обучающей-и-тестовой-выборках-2.2\"><span class=\"toc-item-num\">2.2&nbsp;&nbsp;</span>Сравние распределения размеров гранул сырья на обучающей и тестовой выборках</a></span></li><li><span><a href=\"#Исследование-суммарной-концентрации-всех-веществ-на-разных-стадиях:-в-сырье,-в-черновом-и-финальном-концентратах.\" data-toc-modified-id=\"Исследование-суммарной-концентрации-всех-веществ-на-разных-стадиях:-в-сырье,-в-черновом-и-финальном-концентратах.-2.3\"><span class=\"toc-item-num\">2.3&nbsp;&nbsp;</span>Исследование суммарной концентрации всех веществ на разных стадиях: в сырье, в черновом и финальном концентратах.</a></span></li></ul></li><li><span><a href=\"#Построение-модель\" data-toc-modified-id=\"Построение-модель-3\"><span class=\"toc-item-num\">3&nbsp;&nbsp;</span>Построение модель</a></span><ul class=\"toc-item\"><li><span><a href=\"#Функция-для-вычисления-итоговой-sMAPE\" data-toc-modified-id=\"Функция-для-вычисления-итоговой-sMAPE-3.1\"><span class=\"toc-item-num\">3.1&nbsp;&nbsp;</span>Функция для вычисления итоговой sMAPE</a></span></li><li><span><a href=\"#Подготовка-модели\" data-toc-modified-id=\"Подготовка-модели-3.2\"><span class=\"toc-item-num\">3.2&nbsp;&nbsp;</span>Подготовка модели</a></span></li></ul></li><li><span><a href=\"#Общий-вывод-исследования\" data-toc-modified-id=\"Общий-вывод-исследования-4\"><span class=\"toc-item-num\">4&nbsp;&nbsp;</span>Общий вывод исследования</a></span></li></ul></div>"
   ]
  },
  {
   "cell_type": "markdown",
   "id": "9bd73616",
   "metadata": {},
   "source": [
    "# Восстановление золота из руды"
   ]
  },
  {
   "cell_type": "markdown",
   "id": "8b3b1661",
   "metadata": {},
   "source": [
    "Необходим прототип модели машинного обучения для компании которая разрабатывает решения эффективной работы промышленных предприятий.\n",
    "\n",
    "Модель должна предсказать коэффициент восстановления золота из золотосодержащей руды. В использовании для исследования будут данные с параметрами добычи и очистки.\n",
    "\n",
    "Модель поможет оптимизировать производство, чтобы не запускать предприятие с убыточными характеристиками.\n",
    "\n",
    "**Описание данных** \n",
    "\n",
    "- Rougher feed — исходное сырье\n",
    "- Rougher additions (или reagent additions) — флотационные реагенты: Xanthate, Sulphate, Depressant\n",
    "- Xanthate **— ксантогенат (промотер, или активатор флотации);\n",
    "- Sulphate — сульфат (на данном производстве сульфид натрия);\n",
    "- Depressant — депрессант (силикат натрия).\n",
    "- Rougher process (англ. «грубый процесс») — флотация\n",
    "- Rougher tails — отвальные хвосты\n",
    "- Float banks — флотационная установка\n",
    "- Cleaner process — очистка\n",
    "- Rougher Au — черновой концентрат золота\n",
    "- Final Au — финальный концентрат золота\n",
    "\n",
    "\n",
    "- air amount — объём воздуха\n",
    "- fluid levels — уровень жидкости\n",
    "- feed size — размер гранул сырья\n",
    "- feed rate — скорость подачи"
   ]
  },
  {
   "cell_type": "code",
   "execution_count": 1,
   "id": "94fe8134",
   "metadata": {},
   "outputs": [],
   "source": [
    "import pandas as pd\n",
    "import numpy as np\n",
    "import matplotlib.pyplot as plt\n",
    "import seaborn as sns\n",
    "sns.set(rc={'figure.figsize':(13,10)})\n",
    "import re\n",
    "\n",
    "from scipy import stats as st\n",
    "\n",
    "from sklearn.metrics import mean_absolute_error\n",
    "from sklearn.metrics import make_scorer\n",
    "\n",
    "from sklearn.preprocessing import StandardScaler\n",
    "from sklearn.tree import DecisionTreeRegressor\n",
    "from sklearn.ensemble import RandomForestRegressor\n",
    "from sklearn.model_selection import cross_val_score,GridSearchCV\n",
    "\n",
    "from sklearn.dummy import DummyRegressor\n",
    "\n",
    "import warnings\n",
    "warnings.filterwarnings('ignore')"
   ]
  },
  {
   "cell_type": "markdown",
   "id": "87314b3d",
   "metadata": {},
   "source": [
    "## Подготовка данных"
   ]
  },
  {
   "cell_type": "markdown",
   "id": "d16503cf",
   "metadata": {},
   "source": [
    "### Изучение данных"
   ]
  },
  {
   "cell_type": "code",
   "execution_count": 2,
   "id": "8fe5af6a",
   "metadata": {},
   "outputs": [],
   "source": [
    "df_train = pd.read_csv('/datasets/gold_recovery_train_new.csv',index_col='date',parse_dates=True)\n",
    "df_test = pd.read_csv('/datasets/gold_recovery_test_new.csv',index_col='date',parse_dates=True)\n",
    "df_full = pd.read_csv('/datasets/gold_recovery_full_new.csv',index_col='date',parse_dates=True)"
   ]
  },
  {
   "cell_type": "code",
   "execution_count": 3,
   "id": "7c2a2b5c",
   "metadata": {},
   "outputs": [
    {
     "name": "stdout",
     "output_type": "stream",
     "text": [
      "<class 'pandas.core.frame.DataFrame'>\n",
      "DatetimeIndex: 14149 entries, 2016-01-15 00:00:00 to 2018-08-18 10:59:59\n",
      "Data columns (total 86 columns):\n",
      " #   Column                                              Non-Null Count  Dtype  \n",
      "---  ------                                              --------------  -----  \n",
      " 0   final.output.concentrate_ag                         14148 non-null  float64\n",
      " 1   final.output.concentrate_pb                         14148 non-null  float64\n",
      " 2   final.output.concentrate_sol                        13938 non-null  float64\n",
      " 3   final.output.concentrate_au                         14149 non-null  float64\n",
      " 4   final.output.recovery                               14149 non-null  float64\n",
      " 5   final.output.tail_ag                                14149 non-null  float64\n",
      " 6   final.output.tail_pb                                14049 non-null  float64\n",
      " 7   final.output.tail_sol                               14144 non-null  float64\n",
      " 8   final.output.tail_au                                14149 non-null  float64\n",
      " 9   primary_cleaner.input.sulfate                       14129 non-null  float64\n",
      " 10  primary_cleaner.input.depressant                    14117 non-null  float64\n",
      " 11  primary_cleaner.input.feed_size                     14149 non-null  float64\n",
      " 12  primary_cleaner.input.xanthate                      14049 non-null  float64\n",
      " 13  primary_cleaner.output.concentrate_ag               14149 non-null  float64\n",
      " 14  primary_cleaner.output.concentrate_pb               14063 non-null  float64\n",
      " 15  primary_cleaner.output.concentrate_sol              13863 non-null  float64\n",
      " 16  primary_cleaner.output.concentrate_au               14149 non-null  float64\n",
      " 17  primary_cleaner.output.tail_ag                      14148 non-null  float64\n",
      " 18  primary_cleaner.output.tail_pb                      14134 non-null  float64\n",
      " 19  primary_cleaner.output.tail_sol                     14103 non-null  float64\n",
      " 20  primary_cleaner.output.tail_au                      14149 non-null  float64\n",
      " 21  primary_cleaner.state.floatbank8_a_air              14145 non-null  float64\n",
      " 22  primary_cleaner.state.floatbank8_a_level            14148 non-null  float64\n",
      " 23  primary_cleaner.state.floatbank8_b_air              14145 non-null  float64\n",
      " 24  primary_cleaner.state.floatbank8_b_level            14148 non-null  float64\n",
      " 25  primary_cleaner.state.floatbank8_c_air              14147 non-null  float64\n",
      " 26  primary_cleaner.state.floatbank8_c_level            14148 non-null  float64\n",
      " 27  primary_cleaner.state.floatbank8_d_air              14146 non-null  float64\n",
      " 28  primary_cleaner.state.floatbank8_d_level            14148 non-null  float64\n",
      " 29  rougher.calculation.sulfate_to_au_concentrate       14148 non-null  float64\n",
      " 30  rougher.calculation.floatbank10_sulfate_to_au_feed  14148 non-null  float64\n",
      " 31  rougher.calculation.floatbank11_sulfate_to_au_feed  14148 non-null  float64\n",
      " 32  rougher.calculation.au_pb_ratio                     14149 non-null  float64\n",
      " 33  rougher.input.feed_ag                               14149 non-null  float64\n",
      " 34  rougher.input.feed_pb                               14049 non-null  float64\n",
      " 35  rougher.input.feed_rate                             14141 non-null  float64\n",
      " 36  rougher.input.feed_size                             14005 non-null  float64\n",
      " 37  rougher.input.feed_sol                              14071 non-null  float64\n",
      " 38  rougher.input.feed_au                               14149 non-null  float64\n",
      " 39  rougher.input.floatbank10_sulfate                   14120 non-null  float64\n",
      " 40  rougher.input.floatbank10_xanthate                  14141 non-null  float64\n",
      " 41  rougher.input.floatbank11_sulfate                   14113 non-null  float64\n",
      " 42  rougher.input.floatbank11_xanthate                  13721 non-null  float64\n",
      " 43  rougher.output.concentrate_ag                       14149 non-null  float64\n",
      " 44  rougher.output.concentrate_pb                       14149 non-null  float64\n",
      " 45  rougher.output.concentrate_sol                      14127 non-null  float64\n",
      " 46  rougher.output.concentrate_au                       14149 non-null  float64\n",
      " 47  rougher.output.recovery                             14149 non-null  float64\n",
      " 48  rougher.output.tail_ag                              14148 non-null  float64\n",
      " 49  rougher.output.tail_pb                              14149 non-null  float64\n",
      " 50  rougher.output.tail_sol                             14149 non-null  float64\n",
      " 51  rougher.output.tail_au                              14149 non-null  float64\n",
      " 52  rougher.state.floatbank10_a_air                     14148 non-null  float64\n",
      " 53  rougher.state.floatbank10_a_level                   14148 non-null  float64\n",
      " 54  rougher.state.floatbank10_b_air                     14148 non-null  float64\n",
      " 55  rougher.state.floatbank10_b_level                   14148 non-null  float64\n",
      " 56  rougher.state.floatbank10_c_air                     14148 non-null  float64\n",
      " 57  rougher.state.floatbank10_c_level                   14148 non-null  float64\n",
      " 58  rougher.state.floatbank10_d_air                     14149 non-null  float64\n",
      " 59  rougher.state.floatbank10_d_level                   14149 non-null  float64\n",
      " 60  rougher.state.floatbank10_e_air                     13713 non-null  float64\n",
      " 61  rougher.state.floatbank10_e_level                   14149 non-null  float64\n",
      " 62  rougher.state.floatbank10_f_air                     14149 non-null  float64\n",
      " 63  rougher.state.floatbank10_f_level                   14149 non-null  float64\n",
      " 64  secondary_cleaner.output.tail_ag                    14147 non-null  float64\n",
      " 65  secondary_cleaner.output.tail_pb                    14139 non-null  float64\n",
      " 66  secondary_cleaner.output.tail_sol                   12544 non-null  float64\n",
      " 67  secondary_cleaner.output.tail_au                    14149 non-null  float64\n",
      " 68  secondary_cleaner.state.floatbank2_a_air            13932 non-null  float64\n",
      " 69  secondary_cleaner.state.floatbank2_a_level          14148 non-null  float64\n",
      " 70  secondary_cleaner.state.floatbank2_b_air            14128 non-null  float64\n",
      " 71  secondary_cleaner.state.floatbank2_b_level          14148 non-null  float64\n",
      " 72  secondary_cleaner.state.floatbank3_a_air            14145 non-null  float64\n",
      " 73  secondary_cleaner.state.floatbank3_a_level          14148 non-null  float64\n",
      " 74  secondary_cleaner.state.floatbank3_b_air            14148 non-null  float64\n",
      " 75  secondary_cleaner.state.floatbank3_b_level          14148 non-null  float64\n",
      " 76  secondary_cleaner.state.floatbank4_a_air            14143 non-null  float64\n",
      " 77  secondary_cleaner.state.floatbank4_a_level          14148 non-null  float64\n",
      " 78  secondary_cleaner.state.floatbank4_b_air            14148 non-null  float64\n",
      " 79  secondary_cleaner.state.floatbank4_b_level          14148 non-null  float64\n",
      " 80  secondary_cleaner.state.floatbank5_a_air            14148 non-null  float64\n",
      " 81  secondary_cleaner.state.floatbank5_a_level          14148 non-null  float64\n",
      " 82  secondary_cleaner.state.floatbank5_b_air            14148 non-null  float64\n",
      " 83  secondary_cleaner.state.floatbank5_b_level          14148 non-null  float64\n",
      " 84  secondary_cleaner.state.floatbank6_a_air            14147 non-null  float64\n",
      " 85  secondary_cleaner.state.floatbank6_a_level          14148 non-null  float64\n",
      "dtypes: float64(86)\n",
      "memory usage: 9.4 MB\n"
     ]
    },
    {
     "data": {
      "text/plain": [
       "None"
      ]
     },
     "metadata": {},
     "output_type": "display_data"
    },
    {
     "name": "stdout",
     "output_type": "stream",
     "text": [
      "<class 'pandas.core.frame.DataFrame'>\n",
      "DatetimeIndex: 5290 entries, 2016-09-01 00:59:59 to 2017-12-31 23:59:59\n",
      "Data columns (total 52 columns):\n",
      " #   Column                                      Non-Null Count  Dtype  \n",
      "---  ------                                      --------------  -----  \n",
      " 0   primary_cleaner.input.sulfate               5286 non-null   float64\n",
      " 1   primary_cleaner.input.depressant            5285 non-null   float64\n",
      " 2   primary_cleaner.input.feed_size             5290 non-null   float64\n",
      " 3   primary_cleaner.input.xanthate              5286 non-null   float64\n",
      " 4   primary_cleaner.state.floatbank8_a_air      5290 non-null   float64\n",
      " 5   primary_cleaner.state.floatbank8_a_level    5290 non-null   float64\n",
      " 6   primary_cleaner.state.floatbank8_b_air      5290 non-null   float64\n",
      " 7   primary_cleaner.state.floatbank8_b_level    5290 non-null   float64\n",
      " 8   primary_cleaner.state.floatbank8_c_air      5290 non-null   float64\n",
      " 9   primary_cleaner.state.floatbank8_c_level    5290 non-null   float64\n",
      " 10  primary_cleaner.state.floatbank8_d_air      5290 non-null   float64\n",
      " 11  primary_cleaner.state.floatbank8_d_level    5290 non-null   float64\n",
      " 12  rougher.input.feed_ag                       5290 non-null   float64\n",
      " 13  rougher.input.feed_pb                       5290 non-null   float64\n",
      " 14  rougher.input.feed_rate                     5287 non-null   float64\n",
      " 15  rougher.input.feed_size                     5289 non-null   float64\n",
      " 16  rougher.input.feed_sol                      5269 non-null   float64\n",
      " 17  rougher.input.feed_au                       5290 non-null   float64\n",
      " 18  rougher.input.floatbank10_sulfate           5285 non-null   float64\n",
      " 19  rougher.input.floatbank10_xanthate          5290 non-null   float64\n",
      " 20  rougher.input.floatbank11_sulfate           5282 non-null   float64\n",
      " 21  rougher.input.floatbank11_xanthate          5265 non-null   float64\n",
      " 22  rougher.state.floatbank10_a_air             5290 non-null   float64\n",
      " 23  rougher.state.floatbank10_a_level           5290 non-null   float64\n",
      " 24  rougher.state.floatbank10_b_air             5290 non-null   float64\n",
      " 25  rougher.state.floatbank10_b_level           5290 non-null   float64\n",
      " 26  rougher.state.floatbank10_c_air             5290 non-null   float64\n",
      " 27  rougher.state.floatbank10_c_level           5290 non-null   float64\n",
      " 28  rougher.state.floatbank10_d_air             5290 non-null   float64\n",
      " 29  rougher.state.floatbank10_d_level           5290 non-null   float64\n",
      " 30  rougher.state.floatbank10_e_air             5290 non-null   float64\n",
      " 31  rougher.state.floatbank10_e_level           5290 non-null   float64\n",
      " 32  rougher.state.floatbank10_f_air             5290 non-null   float64\n",
      " 33  rougher.state.floatbank10_f_level           5290 non-null   float64\n",
      " 34  secondary_cleaner.state.floatbank2_a_air    5287 non-null   float64\n",
      " 35  secondary_cleaner.state.floatbank2_a_level  5290 non-null   float64\n",
      " 36  secondary_cleaner.state.floatbank2_b_air    5288 non-null   float64\n",
      " 37  secondary_cleaner.state.floatbank2_b_level  5290 non-null   float64\n",
      " 38  secondary_cleaner.state.floatbank3_a_air    5281 non-null   float64\n",
      " 39  secondary_cleaner.state.floatbank3_a_level  5290 non-null   float64\n",
      " 40  secondary_cleaner.state.floatbank3_b_air    5290 non-null   float64\n",
      " 41  secondary_cleaner.state.floatbank3_b_level  5290 non-null   float64\n",
      " 42  secondary_cleaner.state.floatbank4_a_air    5290 non-null   float64\n",
      " 43  secondary_cleaner.state.floatbank4_a_level  5290 non-null   float64\n",
      " 44  secondary_cleaner.state.floatbank4_b_air    5290 non-null   float64\n",
      " 45  secondary_cleaner.state.floatbank4_b_level  5290 non-null   float64\n",
      " 46  secondary_cleaner.state.floatbank5_a_air    5290 non-null   float64\n",
      " 47  secondary_cleaner.state.floatbank5_a_level  5290 non-null   float64\n",
      " 48  secondary_cleaner.state.floatbank5_b_air    5290 non-null   float64\n",
      " 49  secondary_cleaner.state.floatbank5_b_level  5290 non-null   float64\n",
      " 50  secondary_cleaner.state.floatbank6_a_air    5290 non-null   float64\n",
      " 51  secondary_cleaner.state.floatbank6_a_level  5290 non-null   float64\n",
      "dtypes: float64(52)\n",
      "memory usage: 2.1 MB\n"
     ]
    },
    {
     "data": {
      "text/plain": [
       "None"
      ]
     },
     "metadata": {},
     "output_type": "display_data"
    },
    {
     "name": "stdout",
     "output_type": "stream",
     "text": [
      "<class 'pandas.core.frame.DataFrame'>\n",
      "DatetimeIndex: 19439 entries, 2016-01-15 00:00:00 to 2018-08-18 10:59:59\n",
      "Data columns (total 86 columns):\n",
      " #   Column                                              Non-Null Count  Dtype  \n",
      "---  ------                                              --------------  -----  \n",
      " 0   final.output.concentrate_ag                         19438 non-null  float64\n",
      " 1   final.output.concentrate_pb                         19438 non-null  float64\n",
      " 2   final.output.concentrate_sol                        19228 non-null  float64\n",
      " 3   final.output.concentrate_au                         19439 non-null  float64\n",
      " 4   final.output.recovery                               19439 non-null  float64\n",
      " 5   final.output.tail_ag                                19438 non-null  float64\n",
      " 6   final.output.tail_pb                                19338 non-null  float64\n",
      " 7   final.output.tail_sol                               19433 non-null  float64\n",
      " 8   final.output.tail_au                                19439 non-null  float64\n",
      " 9   primary_cleaner.input.sulfate                       19415 non-null  float64\n",
      " 10  primary_cleaner.input.depressant                    19402 non-null  float64\n",
      " 11  primary_cleaner.input.feed_size                     19439 non-null  float64\n",
      " 12  primary_cleaner.input.xanthate                      19335 non-null  float64\n",
      " 13  primary_cleaner.output.concentrate_ag               19439 non-null  float64\n",
      " 14  primary_cleaner.output.concentrate_pb               19323 non-null  float64\n",
      " 15  primary_cleaner.output.concentrate_sol              19069 non-null  float64\n",
      " 16  primary_cleaner.output.concentrate_au               19439 non-null  float64\n",
      " 17  primary_cleaner.output.tail_ag                      19435 non-null  float64\n",
      " 18  primary_cleaner.output.tail_pb                      19418 non-null  float64\n",
      " 19  primary_cleaner.output.tail_sol                     19377 non-null  float64\n",
      " 20  primary_cleaner.output.tail_au                      19439 non-null  float64\n",
      " 21  primary_cleaner.state.floatbank8_a_air              19435 non-null  float64\n",
      " 22  primary_cleaner.state.floatbank8_a_level            19438 non-null  float64\n",
      " 23  primary_cleaner.state.floatbank8_b_air              19435 non-null  float64\n",
      " 24  primary_cleaner.state.floatbank8_b_level            19438 non-null  float64\n",
      " 25  primary_cleaner.state.floatbank8_c_air              19437 non-null  float64\n",
      " 26  primary_cleaner.state.floatbank8_c_level            19438 non-null  float64\n",
      " 27  primary_cleaner.state.floatbank8_d_air              19436 non-null  float64\n",
      " 28  primary_cleaner.state.floatbank8_d_level            19438 non-null  float64\n",
      " 29  rougher.calculation.sulfate_to_au_concentrate       19437 non-null  float64\n",
      " 30  rougher.calculation.floatbank10_sulfate_to_au_feed  19437 non-null  float64\n",
      " 31  rougher.calculation.floatbank11_sulfate_to_au_feed  19437 non-null  float64\n",
      " 32  rougher.calculation.au_pb_ratio                     19439 non-null  float64\n",
      " 33  rougher.input.feed_ag                               19439 non-null  float64\n",
      " 34  rougher.input.feed_pb                               19339 non-null  float64\n",
      " 35  rougher.input.feed_rate                             19428 non-null  float64\n",
      " 36  rougher.input.feed_size                             19294 non-null  float64\n",
      " 37  rougher.input.feed_sol                              19340 non-null  float64\n",
      " 38  rougher.input.feed_au                               19439 non-null  float64\n",
      " 39  rougher.input.floatbank10_sulfate                   19405 non-null  float64\n",
      " 40  rougher.input.floatbank10_xanthate                  19431 non-null  float64\n",
      " 41  rougher.input.floatbank11_sulfate                   19395 non-null  float64\n",
      " 42  rougher.input.floatbank11_xanthate                  18986 non-null  float64\n",
      " 43  rougher.output.concentrate_ag                       19439 non-null  float64\n",
      " 44  rougher.output.concentrate_pb                       19439 non-null  float64\n",
      " 45  rougher.output.concentrate_sol                      19416 non-null  float64\n",
      " 46  rougher.output.concentrate_au                       19439 non-null  float64\n",
      " 47  rougher.output.recovery                             19439 non-null  float64\n",
      " 48  rougher.output.tail_ag                              19438 non-null  float64\n",
      " 49  rougher.output.tail_pb                              19439 non-null  float64\n",
      " 50  rougher.output.tail_sol                             19439 non-null  float64\n",
      " 51  rougher.output.tail_au                              19439 non-null  float64\n",
      " 52  rougher.state.floatbank10_a_air                     19438 non-null  float64\n",
      " 53  rougher.state.floatbank10_a_level                   19438 non-null  float64\n",
      " 54  rougher.state.floatbank10_b_air                     19438 non-null  float64\n",
      " 55  rougher.state.floatbank10_b_level                   19438 non-null  float64\n",
      " 56  rougher.state.floatbank10_c_air                     19438 non-null  float64\n",
      " 57  rougher.state.floatbank10_c_level                   19438 non-null  float64\n",
      " 58  rougher.state.floatbank10_d_air                     19439 non-null  float64\n",
      " 59  rougher.state.floatbank10_d_level                   19439 non-null  float64\n",
      " 60  rougher.state.floatbank10_e_air                     19003 non-null  float64\n",
      " 61  rougher.state.floatbank10_e_level                   19439 non-null  float64\n",
      " 62  rougher.state.floatbank10_f_air                     19439 non-null  float64\n",
      " 63  rougher.state.floatbank10_f_level                   19439 non-null  float64\n",
      " 64  secondary_cleaner.output.tail_ag                    19437 non-null  float64\n",
      " 65  secondary_cleaner.output.tail_pb                    19427 non-null  float64\n",
      " 66  secondary_cleaner.output.tail_sol                   17691 non-null  float64\n",
      " 67  secondary_cleaner.output.tail_au                    19439 non-null  float64\n",
      " 68  secondary_cleaner.state.floatbank2_a_air            19219 non-null  float64\n",
      " 69  secondary_cleaner.state.floatbank2_a_level          19438 non-null  float64\n",
      " 70  secondary_cleaner.state.floatbank2_b_air            19416 non-null  float64\n",
      " 71  secondary_cleaner.state.floatbank2_b_level          19438 non-null  float64\n",
      " 72  secondary_cleaner.state.floatbank3_a_air            19426 non-null  float64\n",
      " 73  secondary_cleaner.state.floatbank3_a_level          19438 non-null  float64\n",
      " 74  secondary_cleaner.state.floatbank3_b_air            19438 non-null  float64\n",
      " 75  secondary_cleaner.state.floatbank3_b_level          19438 non-null  float64\n",
      " 76  secondary_cleaner.state.floatbank4_a_air            19433 non-null  float64\n",
      " 77  secondary_cleaner.state.floatbank4_a_level          19438 non-null  float64\n",
      " 78  secondary_cleaner.state.floatbank4_b_air            19438 non-null  float64\n",
      " 79  secondary_cleaner.state.floatbank4_b_level          19438 non-null  float64\n",
      " 80  secondary_cleaner.state.floatbank5_a_air            19438 non-null  float64\n",
      " 81  secondary_cleaner.state.floatbank5_a_level          19438 non-null  float64\n",
      " 82  secondary_cleaner.state.floatbank5_b_air            19438 non-null  float64\n",
      " 83  secondary_cleaner.state.floatbank5_b_level          19438 non-null  float64\n",
      " 84  secondary_cleaner.state.floatbank6_a_air            19437 non-null  float64\n",
      " 85  secondary_cleaner.state.floatbank6_a_level          19438 non-null  float64\n",
      "dtypes: float64(86)\n",
      "memory usage: 12.9 MB\n"
     ]
    },
    {
     "data": {
      "text/plain": [
       "None"
      ]
     },
     "metadata": {},
     "output_type": "display_data"
    }
   ],
   "source": [
    "display(df_train.info())\n",
    "display(df_test.info())\n",
    "display(df_full.info())"
   ]
  },
  {
   "cell_type": "code",
   "execution_count": 4,
   "id": "e687c3da",
   "metadata": {},
   "outputs": [
    {
     "data": {
      "text/html": [
       "<div>\n",
       "<style scoped>\n",
       "    .dataframe tbody tr th:only-of-type {\n",
       "        vertical-align: middle;\n",
       "    }\n",
       "\n",
       "    .dataframe tbody tr th {\n",
       "        vertical-align: top;\n",
       "    }\n",
       "\n",
       "    .dataframe thead th {\n",
       "        text-align: right;\n",
       "    }\n",
       "</style>\n",
       "<table border=\"1\" class=\"dataframe\">\n",
       "  <thead>\n",
       "    <tr style=\"text-align: right;\">\n",
       "      <th></th>\n",
       "      <th>final.output.concentrate_ag</th>\n",
       "      <th>final.output.concentrate_pb</th>\n",
       "      <th>final.output.concentrate_sol</th>\n",
       "      <th>final.output.concentrate_au</th>\n",
       "      <th>final.output.recovery</th>\n",
       "      <th>final.output.tail_ag</th>\n",
       "      <th>final.output.tail_pb</th>\n",
       "      <th>final.output.tail_sol</th>\n",
       "      <th>final.output.tail_au</th>\n",
       "      <th>primary_cleaner.input.sulfate</th>\n",
       "      <th>...</th>\n",
       "      <th>secondary_cleaner.state.floatbank4_a_air</th>\n",
       "      <th>secondary_cleaner.state.floatbank4_a_level</th>\n",
       "      <th>secondary_cleaner.state.floatbank4_b_air</th>\n",
       "      <th>secondary_cleaner.state.floatbank4_b_level</th>\n",
       "      <th>secondary_cleaner.state.floatbank5_a_air</th>\n",
       "      <th>secondary_cleaner.state.floatbank5_a_level</th>\n",
       "      <th>secondary_cleaner.state.floatbank5_b_air</th>\n",
       "      <th>secondary_cleaner.state.floatbank5_b_level</th>\n",
       "      <th>secondary_cleaner.state.floatbank6_a_air</th>\n",
       "      <th>secondary_cleaner.state.floatbank6_a_level</th>\n",
       "    </tr>\n",
       "    <tr>\n",
       "      <th>date</th>\n",
       "      <th></th>\n",
       "      <th></th>\n",
       "      <th></th>\n",
       "      <th></th>\n",
       "      <th></th>\n",
       "      <th></th>\n",
       "      <th></th>\n",
       "      <th></th>\n",
       "      <th></th>\n",
       "      <th></th>\n",
       "      <th></th>\n",
       "      <th></th>\n",
       "      <th></th>\n",
       "      <th></th>\n",
       "      <th></th>\n",
       "      <th></th>\n",
       "      <th></th>\n",
       "      <th></th>\n",
       "      <th></th>\n",
       "      <th></th>\n",
       "      <th></th>\n",
       "    </tr>\n",
       "  </thead>\n",
       "  <tbody>\n",
       "    <tr>\n",
       "      <th>2016-01-15 00:00:00</th>\n",
       "      <td>6.055403</td>\n",
       "      <td>9.889648</td>\n",
       "      <td>5.507324</td>\n",
       "      <td>42.192020</td>\n",
       "      <td>70.541216</td>\n",
       "      <td>10.411962</td>\n",
       "      <td>0.895447</td>\n",
       "      <td>16.904297</td>\n",
       "      <td>2.143149</td>\n",
       "      <td>127.092003</td>\n",
       "      <td>...</td>\n",
       "      <td>14.016835</td>\n",
       "      <td>-502.488007</td>\n",
       "      <td>12.099931</td>\n",
       "      <td>-504.715942</td>\n",
       "      <td>9.925633</td>\n",
       "      <td>-498.310211</td>\n",
       "      <td>8.079666</td>\n",
       "      <td>-500.470978</td>\n",
       "      <td>14.151341</td>\n",
       "      <td>-605.841980</td>\n",
       "    </tr>\n",
       "    <tr>\n",
       "      <th>2016-01-15 01:00:00</th>\n",
       "      <td>6.029369</td>\n",
       "      <td>9.968944</td>\n",
       "      <td>5.257781</td>\n",
       "      <td>42.701629</td>\n",
       "      <td>69.266198</td>\n",
       "      <td>10.462676</td>\n",
       "      <td>0.927452</td>\n",
       "      <td>16.634514</td>\n",
       "      <td>2.224930</td>\n",
       "      <td>125.629232</td>\n",
       "      <td>...</td>\n",
       "      <td>13.992281</td>\n",
       "      <td>-505.503262</td>\n",
       "      <td>11.950531</td>\n",
       "      <td>-501.331529</td>\n",
       "      <td>10.039245</td>\n",
       "      <td>-500.169983</td>\n",
       "      <td>7.984757</td>\n",
       "      <td>-500.582168</td>\n",
       "      <td>13.998353</td>\n",
       "      <td>-599.787184</td>\n",
       "    </tr>\n",
       "    <tr>\n",
       "      <th>2016-01-15 02:00:00</th>\n",
       "      <td>6.055926</td>\n",
       "      <td>10.213995</td>\n",
       "      <td>5.383759</td>\n",
       "      <td>42.657501</td>\n",
       "      <td>68.116445</td>\n",
       "      <td>10.507046</td>\n",
       "      <td>0.953716</td>\n",
       "      <td>16.208849</td>\n",
       "      <td>2.257889</td>\n",
       "      <td>123.819808</td>\n",
       "      <td>...</td>\n",
       "      <td>14.015015</td>\n",
       "      <td>-502.520901</td>\n",
       "      <td>11.912783</td>\n",
       "      <td>-501.133383</td>\n",
       "      <td>10.070913</td>\n",
       "      <td>-500.129135</td>\n",
       "      <td>8.013877</td>\n",
       "      <td>-500.517572</td>\n",
       "      <td>14.028663</td>\n",
       "      <td>-601.427363</td>\n",
       "    </tr>\n",
       "    <tr>\n",
       "      <th>2016-01-15 03:00:00</th>\n",
       "      <td>6.047977</td>\n",
       "      <td>9.977019</td>\n",
       "      <td>4.858634</td>\n",
       "      <td>42.689819</td>\n",
       "      <td>68.347543</td>\n",
       "      <td>10.422762</td>\n",
       "      <td>0.883763</td>\n",
       "      <td>16.532835</td>\n",
       "      <td>2.146849</td>\n",
       "      <td>122.270188</td>\n",
       "      <td>...</td>\n",
       "      <td>14.036510</td>\n",
       "      <td>-500.857308</td>\n",
       "      <td>11.999550</td>\n",
       "      <td>-501.193686</td>\n",
       "      <td>9.970366</td>\n",
       "      <td>-499.201640</td>\n",
       "      <td>7.977324</td>\n",
       "      <td>-500.255908</td>\n",
       "      <td>14.005551</td>\n",
       "      <td>-599.996129</td>\n",
       "    </tr>\n",
       "    <tr>\n",
       "      <th>2016-01-15 04:00:00</th>\n",
       "      <td>6.148599</td>\n",
       "      <td>10.142511</td>\n",
       "      <td>4.939416</td>\n",
       "      <td>42.774141</td>\n",
       "      <td>66.927016</td>\n",
       "      <td>10.360302</td>\n",
       "      <td>0.792826</td>\n",
       "      <td>16.525686</td>\n",
       "      <td>2.055292</td>\n",
       "      <td>117.988169</td>\n",
       "      <td>...</td>\n",
       "      <td>14.027298</td>\n",
       "      <td>-499.838632</td>\n",
       "      <td>11.953070</td>\n",
       "      <td>-501.053894</td>\n",
       "      <td>9.925709</td>\n",
       "      <td>-501.686727</td>\n",
       "      <td>7.894242</td>\n",
       "      <td>-500.356035</td>\n",
       "      <td>13.996647</td>\n",
       "      <td>-601.496691</td>\n",
       "    </tr>\n",
       "  </tbody>\n",
       "</table>\n",
       "<p>5 rows × 86 columns</p>\n",
       "</div>"
      ],
      "text/plain": [
       "                     final.output.concentrate_ag  final.output.concentrate_pb  \\\n",
       "date                                                                            \n",
       "2016-01-15 00:00:00                     6.055403                     9.889648   \n",
       "2016-01-15 01:00:00                     6.029369                     9.968944   \n",
       "2016-01-15 02:00:00                     6.055926                    10.213995   \n",
       "2016-01-15 03:00:00                     6.047977                     9.977019   \n",
       "2016-01-15 04:00:00                     6.148599                    10.142511   \n",
       "\n",
       "                     final.output.concentrate_sol  \\\n",
       "date                                                \n",
       "2016-01-15 00:00:00                      5.507324   \n",
       "2016-01-15 01:00:00                      5.257781   \n",
       "2016-01-15 02:00:00                      5.383759   \n",
       "2016-01-15 03:00:00                      4.858634   \n",
       "2016-01-15 04:00:00                      4.939416   \n",
       "\n",
       "                     final.output.concentrate_au  final.output.recovery  \\\n",
       "date                                                                      \n",
       "2016-01-15 00:00:00                    42.192020              70.541216   \n",
       "2016-01-15 01:00:00                    42.701629              69.266198   \n",
       "2016-01-15 02:00:00                    42.657501              68.116445   \n",
       "2016-01-15 03:00:00                    42.689819              68.347543   \n",
       "2016-01-15 04:00:00                    42.774141              66.927016   \n",
       "\n",
       "                     final.output.tail_ag  final.output.tail_pb  \\\n",
       "date                                                              \n",
       "2016-01-15 00:00:00             10.411962              0.895447   \n",
       "2016-01-15 01:00:00             10.462676              0.927452   \n",
       "2016-01-15 02:00:00             10.507046              0.953716   \n",
       "2016-01-15 03:00:00             10.422762              0.883763   \n",
       "2016-01-15 04:00:00             10.360302              0.792826   \n",
       "\n",
       "                     final.output.tail_sol  final.output.tail_au  \\\n",
       "date                                                               \n",
       "2016-01-15 00:00:00              16.904297              2.143149   \n",
       "2016-01-15 01:00:00              16.634514              2.224930   \n",
       "2016-01-15 02:00:00              16.208849              2.257889   \n",
       "2016-01-15 03:00:00              16.532835              2.146849   \n",
       "2016-01-15 04:00:00              16.525686              2.055292   \n",
       "\n",
       "                     primary_cleaner.input.sulfate  ...  \\\n",
       "date                                                ...   \n",
       "2016-01-15 00:00:00                     127.092003  ...   \n",
       "2016-01-15 01:00:00                     125.629232  ...   \n",
       "2016-01-15 02:00:00                     123.819808  ...   \n",
       "2016-01-15 03:00:00                     122.270188  ...   \n",
       "2016-01-15 04:00:00                     117.988169  ...   \n",
       "\n",
       "                     secondary_cleaner.state.floatbank4_a_air  \\\n",
       "date                                                            \n",
       "2016-01-15 00:00:00                                 14.016835   \n",
       "2016-01-15 01:00:00                                 13.992281   \n",
       "2016-01-15 02:00:00                                 14.015015   \n",
       "2016-01-15 03:00:00                                 14.036510   \n",
       "2016-01-15 04:00:00                                 14.027298   \n",
       "\n",
       "                     secondary_cleaner.state.floatbank4_a_level  \\\n",
       "date                                                              \n",
       "2016-01-15 00:00:00                                 -502.488007   \n",
       "2016-01-15 01:00:00                                 -505.503262   \n",
       "2016-01-15 02:00:00                                 -502.520901   \n",
       "2016-01-15 03:00:00                                 -500.857308   \n",
       "2016-01-15 04:00:00                                 -499.838632   \n",
       "\n",
       "                     secondary_cleaner.state.floatbank4_b_air  \\\n",
       "date                                                            \n",
       "2016-01-15 00:00:00                                 12.099931   \n",
       "2016-01-15 01:00:00                                 11.950531   \n",
       "2016-01-15 02:00:00                                 11.912783   \n",
       "2016-01-15 03:00:00                                 11.999550   \n",
       "2016-01-15 04:00:00                                 11.953070   \n",
       "\n",
       "                     secondary_cleaner.state.floatbank4_b_level  \\\n",
       "date                                                              \n",
       "2016-01-15 00:00:00                                 -504.715942   \n",
       "2016-01-15 01:00:00                                 -501.331529   \n",
       "2016-01-15 02:00:00                                 -501.133383   \n",
       "2016-01-15 03:00:00                                 -501.193686   \n",
       "2016-01-15 04:00:00                                 -501.053894   \n",
       "\n",
       "                     secondary_cleaner.state.floatbank5_a_air  \\\n",
       "date                                                            \n",
       "2016-01-15 00:00:00                                  9.925633   \n",
       "2016-01-15 01:00:00                                 10.039245   \n",
       "2016-01-15 02:00:00                                 10.070913   \n",
       "2016-01-15 03:00:00                                  9.970366   \n",
       "2016-01-15 04:00:00                                  9.925709   \n",
       "\n",
       "                     secondary_cleaner.state.floatbank5_a_level  \\\n",
       "date                                                              \n",
       "2016-01-15 00:00:00                                 -498.310211   \n",
       "2016-01-15 01:00:00                                 -500.169983   \n",
       "2016-01-15 02:00:00                                 -500.129135   \n",
       "2016-01-15 03:00:00                                 -499.201640   \n",
       "2016-01-15 04:00:00                                 -501.686727   \n",
       "\n",
       "                     secondary_cleaner.state.floatbank5_b_air  \\\n",
       "date                                                            \n",
       "2016-01-15 00:00:00                                  8.079666   \n",
       "2016-01-15 01:00:00                                  7.984757   \n",
       "2016-01-15 02:00:00                                  8.013877   \n",
       "2016-01-15 03:00:00                                  7.977324   \n",
       "2016-01-15 04:00:00                                  7.894242   \n",
       "\n",
       "                     secondary_cleaner.state.floatbank5_b_level  \\\n",
       "date                                                              \n",
       "2016-01-15 00:00:00                                 -500.470978   \n",
       "2016-01-15 01:00:00                                 -500.582168   \n",
       "2016-01-15 02:00:00                                 -500.517572   \n",
       "2016-01-15 03:00:00                                 -500.255908   \n",
       "2016-01-15 04:00:00                                 -500.356035   \n",
       "\n",
       "                     secondary_cleaner.state.floatbank6_a_air  \\\n",
       "date                                                            \n",
       "2016-01-15 00:00:00                                 14.151341   \n",
       "2016-01-15 01:00:00                                 13.998353   \n",
       "2016-01-15 02:00:00                                 14.028663   \n",
       "2016-01-15 03:00:00                                 14.005551   \n",
       "2016-01-15 04:00:00                                 13.996647   \n",
       "\n",
       "                     secondary_cleaner.state.floatbank6_a_level  \n",
       "date                                                             \n",
       "2016-01-15 00:00:00                                 -605.841980  \n",
       "2016-01-15 01:00:00                                 -599.787184  \n",
       "2016-01-15 02:00:00                                 -601.427363  \n",
       "2016-01-15 03:00:00                                 -599.996129  \n",
       "2016-01-15 04:00:00                                 -601.496691  \n",
       "\n",
       "[5 rows x 86 columns]"
      ]
     },
     "metadata": {},
     "output_type": "display_data"
    },
    {
     "data": {
      "text/html": [
       "<div>\n",
       "<style scoped>\n",
       "    .dataframe tbody tr th:only-of-type {\n",
       "        vertical-align: middle;\n",
       "    }\n",
       "\n",
       "    .dataframe tbody tr th {\n",
       "        vertical-align: top;\n",
       "    }\n",
       "\n",
       "    .dataframe thead th {\n",
       "        text-align: right;\n",
       "    }\n",
       "</style>\n",
       "<table border=\"1\" class=\"dataframe\">\n",
       "  <thead>\n",
       "    <tr style=\"text-align: right;\">\n",
       "      <th></th>\n",
       "      <th>primary_cleaner.input.sulfate</th>\n",
       "      <th>primary_cleaner.input.depressant</th>\n",
       "      <th>primary_cleaner.input.feed_size</th>\n",
       "      <th>primary_cleaner.input.xanthate</th>\n",
       "      <th>primary_cleaner.state.floatbank8_a_air</th>\n",
       "      <th>primary_cleaner.state.floatbank8_a_level</th>\n",
       "      <th>primary_cleaner.state.floatbank8_b_air</th>\n",
       "      <th>primary_cleaner.state.floatbank8_b_level</th>\n",
       "      <th>primary_cleaner.state.floatbank8_c_air</th>\n",
       "      <th>primary_cleaner.state.floatbank8_c_level</th>\n",
       "      <th>...</th>\n",
       "      <th>secondary_cleaner.state.floatbank4_a_air</th>\n",
       "      <th>secondary_cleaner.state.floatbank4_a_level</th>\n",
       "      <th>secondary_cleaner.state.floatbank4_b_air</th>\n",
       "      <th>secondary_cleaner.state.floatbank4_b_level</th>\n",
       "      <th>secondary_cleaner.state.floatbank5_a_air</th>\n",
       "      <th>secondary_cleaner.state.floatbank5_a_level</th>\n",
       "      <th>secondary_cleaner.state.floatbank5_b_air</th>\n",
       "      <th>secondary_cleaner.state.floatbank5_b_level</th>\n",
       "      <th>secondary_cleaner.state.floatbank6_a_air</th>\n",
       "      <th>secondary_cleaner.state.floatbank6_a_level</th>\n",
       "    </tr>\n",
       "    <tr>\n",
       "      <th>date</th>\n",
       "      <th></th>\n",
       "      <th></th>\n",
       "      <th></th>\n",
       "      <th></th>\n",
       "      <th></th>\n",
       "      <th></th>\n",
       "      <th></th>\n",
       "      <th></th>\n",
       "      <th></th>\n",
       "      <th></th>\n",
       "      <th></th>\n",
       "      <th></th>\n",
       "      <th></th>\n",
       "      <th></th>\n",
       "      <th></th>\n",
       "      <th></th>\n",
       "      <th></th>\n",
       "      <th></th>\n",
       "      <th></th>\n",
       "      <th></th>\n",
       "      <th></th>\n",
       "    </tr>\n",
       "  </thead>\n",
       "  <tbody>\n",
       "    <tr>\n",
       "      <th>2016-09-01 00:59:59</th>\n",
       "      <td>210.800909</td>\n",
       "      <td>14.993118</td>\n",
       "      <td>8.080000</td>\n",
       "      <td>1.005021</td>\n",
       "      <td>1398.981301</td>\n",
       "      <td>-500.225577</td>\n",
       "      <td>1399.144926</td>\n",
       "      <td>-499.919735</td>\n",
       "      <td>1400.102998</td>\n",
       "      <td>-500.704369</td>\n",
       "      <td>...</td>\n",
       "      <td>12.023554</td>\n",
       "      <td>-497.795834</td>\n",
       "      <td>8.016656</td>\n",
       "      <td>-501.289139</td>\n",
       "      <td>7.946562</td>\n",
       "      <td>-432.317850</td>\n",
       "      <td>4.872511</td>\n",
       "      <td>-500.037437</td>\n",
       "      <td>26.705889</td>\n",
       "      <td>-499.709414</td>\n",
       "    </tr>\n",
       "    <tr>\n",
       "      <th>2016-09-01 01:59:59</th>\n",
       "      <td>215.392455</td>\n",
       "      <td>14.987471</td>\n",
       "      <td>8.080000</td>\n",
       "      <td>0.990469</td>\n",
       "      <td>1398.777912</td>\n",
       "      <td>-500.057435</td>\n",
       "      <td>1398.055362</td>\n",
       "      <td>-499.778182</td>\n",
       "      <td>1396.151033</td>\n",
       "      <td>-499.240168</td>\n",
       "      <td>...</td>\n",
       "      <td>12.058140</td>\n",
       "      <td>-498.695773</td>\n",
       "      <td>8.130979</td>\n",
       "      <td>-499.634209</td>\n",
       "      <td>7.958270</td>\n",
       "      <td>-525.839648</td>\n",
       "      <td>4.878850</td>\n",
       "      <td>-500.162375</td>\n",
       "      <td>25.019940</td>\n",
       "      <td>-499.819438</td>\n",
       "    </tr>\n",
       "    <tr>\n",
       "      <th>2016-09-01 02:59:59</th>\n",
       "      <td>215.259946</td>\n",
       "      <td>12.884934</td>\n",
       "      <td>7.786667</td>\n",
       "      <td>0.996043</td>\n",
       "      <td>1398.493666</td>\n",
       "      <td>-500.868360</td>\n",
       "      <td>1398.860436</td>\n",
       "      <td>-499.764529</td>\n",
       "      <td>1398.075709</td>\n",
       "      <td>-502.151509</td>\n",
       "      <td>...</td>\n",
       "      <td>11.962366</td>\n",
       "      <td>-498.767484</td>\n",
       "      <td>8.096893</td>\n",
       "      <td>-500.827423</td>\n",
       "      <td>8.071056</td>\n",
       "      <td>-500.801673</td>\n",
       "      <td>4.905125</td>\n",
       "      <td>-499.828510</td>\n",
       "      <td>24.994862</td>\n",
       "      <td>-500.622559</td>\n",
       "    </tr>\n",
       "    <tr>\n",
       "      <th>2016-09-01 03:59:59</th>\n",
       "      <td>215.336236</td>\n",
       "      <td>12.006805</td>\n",
       "      <td>7.640000</td>\n",
       "      <td>0.863514</td>\n",
       "      <td>1399.618111</td>\n",
       "      <td>-498.863574</td>\n",
       "      <td>1397.440120</td>\n",
       "      <td>-499.211024</td>\n",
       "      <td>1400.129303</td>\n",
       "      <td>-498.355873</td>\n",
       "      <td>...</td>\n",
       "      <td>12.033091</td>\n",
       "      <td>-498.350935</td>\n",
       "      <td>8.074946</td>\n",
       "      <td>-499.474407</td>\n",
       "      <td>7.897085</td>\n",
       "      <td>-500.868509</td>\n",
       "      <td>4.931400</td>\n",
       "      <td>-499.963623</td>\n",
       "      <td>24.948919</td>\n",
       "      <td>-498.709987</td>\n",
       "    </tr>\n",
       "    <tr>\n",
       "      <th>2016-09-01 04:59:59</th>\n",
       "      <td>199.099327</td>\n",
       "      <td>10.682530</td>\n",
       "      <td>7.530000</td>\n",
       "      <td>0.805575</td>\n",
       "      <td>1401.268123</td>\n",
       "      <td>-500.808305</td>\n",
       "      <td>1398.128818</td>\n",
       "      <td>-499.504543</td>\n",
       "      <td>1402.172226</td>\n",
       "      <td>-500.810606</td>\n",
       "      <td>...</td>\n",
       "      <td>12.025367</td>\n",
       "      <td>-500.786497</td>\n",
       "      <td>8.054678</td>\n",
       "      <td>-500.397500</td>\n",
       "      <td>8.107890</td>\n",
       "      <td>-509.526725</td>\n",
       "      <td>4.957674</td>\n",
       "      <td>-500.360026</td>\n",
       "      <td>25.003331</td>\n",
       "      <td>-500.856333</td>\n",
       "    </tr>\n",
       "  </tbody>\n",
       "</table>\n",
       "<p>5 rows × 52 columns</p>\n",
       "</div>"
      ],
      "text/plain": [
       "                     primary_cleaner.input.sulfate  \\\n",
       "date                                                 \n",
       "2016-09-01 00:59:59                     210.800909   \n",
       "2016-09-01 01:59:59                     215.392455   \n",
       "2016-09-01 02:59:59                     215.259946   \n",
       "2016-09-01 03:59:59                     215.336236   \n",
       "2016-09-01 04:59:59                     199.099327   \n",
       "\n",
       "                     primary_cleaner.input.depressant  \\\n",
       "date                                                    \n",
       "2016-09-01 00:59:59                         14.993118   \n",
       "2016-09-01 01:59:59                         14.987471   \n",
       "2016-09-01 02:59:59                         12.884934   \n",
       "2016-09-01 03:59:59                         12.006805   \n",
       "2016-09-01 04:59:59                         10.682530   \n",
       "\n",
       "                     primary_cleaner.input.feed_size  \\\n",
       "date                                                   \n",
       "2016-09-01 00:59:59                         8.080000   \n",
       "2016-09-01 01:59:59                         8.080000   \n",
       "2016-09-01 02:59:59                         7.786667   \n",
       "2016-09-01 03:59:59                         7.640000   \n",
       "2016-09-01 04:59:59                         7.530000   \n",
       "\n",
       "                     primary_cleaner.input.xanthate  \\\n",
       "date                                                  \n",
       "2016-09-01 00:59:59                        1.005021   \n",
       "2016-09-01 01:59:59                        0.990469   \n",
       "2016-09-01 02:59:59                        0.996043   \n",
       "2016-09-01 03:59:59                        0.863514   \n",
       "2016-09-01 04:59:59                        0.805575   \n",
       "\n",
       "                     primary_cleaner.state.floatbank8_a_air  \\\n",
       "date                                                          \n",
       "2016-09-01 00:59:59                             1398.981301   \n",
       "2016-09-01 01:59:59                             1398.777912   \n",
       "2016-09-01 02:59:59                             1398.493666   \n",
       "2016-09-01 03:59:59                             1399.618111   \n",
       "2016-09-01 04:59:59                             1401.268123   \n",
       "\n",
       "                     primary_cleaner.state.floatbank8_a_level  \\\n",
       "date                                                            \n",
       "2016-09-01 00:59:59                               -500.225577   \n",
       "2016-09-01 01:59:59                               -500.057435   \n",
       "2016-09-01 02:59:59                               -500.868360   \n",
       "2016-09-01 03:59:59                               -498.863574   \n",
       "2016-09-01 04:59:59                               -500.808305   \n",
       "\n",
       "                     primary_cleaner.state.floatbank8_b_air  \\\n",
       "date                                                          \n",
       "2016-09-01 00:59:59                             1399.144926   \n",
       "2016-09-01 01:59:59                             1398.055362   \n",
       "2016-09-01 02:59:59                             1398.860436   \n",
       "2016-09-01 03:59:59                             1397.440120   \n",
       "2016-09-01 04:59:59                             1398.128818   \n",
       "\n",
       "                     primary_cleaner.state.floatbank8_b_level  \\\n",
       "date                                                            \n",
       "2016-09-01 00:59:59                               -499.919735   \n",
       "2016-09-01 01:59:59                               -499.778182   \n",
       "2016-09-01 02:59:59                               -499.764529   \n",
       "2016-09-01 03:59:59                               -499.211024   \n",
       "2016-09-01 04:59:59                               -499.504543   \n",
       "\n",
       "                     primary_cleaner.state.floatbank8_c_air  \\\n",
       "date                                                          \n",
       "2016-09-01 00:59:59                             1400.102998   \n",
       "2016-09-01 01:59:59                             1396.151033   \n",
       "2016-09-01 02:59:59                             1398.075709   \n",
       "2016-09-01 03:59:59                             1400.129303   \n",
       "2016-09-01 04:59:59                             1402.172226   \n",
       "\n",
       "                     primary_cleaner.state.floatbank8_c_level  ...  \\\n",
       "date                                                           ...   \n",
       "2016-09-01 00:59:59                               -500.704369  ...   \n",
       "2016-09-01 01:59:59                               -499.240168  ...   \n",
       "2016-09-01 02:59:59                               -502.151509  ...   \n",
       "2016-09-01 03:59:59                               -498.355873  ...   \n",
       "2016-09-01 04:59:59                               -500.810606  ...   \n",
       "\n",
       "                     secondary_cleaner.state.floatbank4_a_air  \\\n",
       "date                                                            \n",
       "2016-09-01 00:59:59                                 12.023554   \n",
       "2016-09-01 01:59:59                                 12.058140   \n",
       "2016-09-01 02:59:59                                 11.962366   \n",
       "2016-09-01 03:59:59                                 12.033091   \n",
       "2016-09-01 04:59:59                                 12.025367   \n",
       "\n",
       "                     secondary_cleaner.state.floatbank4_a_level  \\\n",
       "date                                                              \n",
       "2016-09-01 00:59:59                                 -497.795834   \n",
       "2016-09-01 01:59:59                                 -498.695773   \n",
       "2016-09-01 02:59:59                                 -498.767484   \n",
       "2016-09-01 03:59:59                                 -498.350935   \n",
       "2016-09-01 04:59:59                                 -500.786497   \n",
       "\n",
       "                     secondary_cleaner.state.floatbank4_b_air  \\\n",
       "date                                                            \n",
       "2016-09-01 00:59:59                                  8.016656   \n",
       "2016-09-01 01:59:59                                  8.130979   \n",
       "2016-09-01 02:59:59                                  8.096893   \n",
       "2016-09-01 03:59:59                                  8.074946   \n",
       "2016-09-01 04:59:59                                  8.054678   \n",
       "\n",
       "                     secondary_cleaner.state.floatbank4_b_level  \\\n",
       "date                                                              \n",
       "2016-09-01 00:59:59                                 -501.289139   \n",
       "2016-09-01 01:59:59                                 -499.634209   \n",
       "2016-09-01 02:59:59                                 -500.827423   \n",
       "2016-09-01 03:59:59                                 -499.474407   \n",
       "2016-09-01 04:59:59                                 -500.397500   \n",
       "\n",
       "                     secondary_cleaner.state.floatbank5_a_air  \\\n",
       "date                                                            \n",
       "2016-09-01 00:59:59                                  7.946562   \n",
       "2016-09-01 01:59:59                                  7.958270   \n",
       "2016-09-01 02:59:59                                  8.071056   \n",
       "2016-09-01 03:59:59                                  7.897085   \n",
       "2016-09-01 04:59:59                                  8.107890   \n",
       "\n",
       "                     secondary_cleaner.state.floatbank5_a_level  \\\n",
       "date                                                              \n",
       "2016-09-01 00:59:59                                 -432.317850   \n",
       "2016-09-01 01:59:59                                 -525.839648   \n",
       "2016-09-01 02:59:59                                 -500.801673   \n",
       "2016-09-01 03:59:59                                 -500.868509   \n",
       "2016-09-01 04:59:59                                 -509.526725   \n",
       "\n",
       "                     secondary_cleaner.state.floatbank5_b_air  \\\n",
       "date                                                            \n",
       "2016-09-01 00:59:59                                  4.872511   \n",
       "2016-09-01 01:59:59                                  4.878850   \n",
       "2016-09-01 02:59:59                                  4.905125   \n",
       "2016-09-01 03:59:59                                  4.931400   \n",
       "2016-09-01 04:59:59                                  4.957674   \n",
       "\n",
       "                     secondary_cleaner.state.floatbank5_b_level  \\\n",
       "date                                                              \n",
       "2016-09-01 00:59:59                                 -500.037437   \n",
       "2016-09-01 01:59:59                                 -500.162375   \n",
       "2016-09-01 02:59:59                                 -499.828510   \n",
       "2016-09-01 03:59:59                                 -499.963623   \n",
       "2016-09-01 04:59:59                                 -500.360026   \n",
       "\n",
       "                     secondary_cleaner.state.floatbank6_a_air  \\\n",
       "date                                                            \n",
       "2016-09-01 00:59:59                                 26.705889   \n",
       "2016-09-01 01:59:59                                 25.019940   \n",
       "2016-09-01 02:59:59                                 24.994862   \n",
       "2016-09-01 03:59:59                                 24.948919   \n",
       "2016-09-01 04:59:59                                 25.003331   \n",
       "\n",
       "                     secondary_cleaner.state.floatbank6_a_level  \n",
       "date                                                             \n",
       "2016-09-01 00:59:59                                 -499.709414  \n",
       "2016-09-01 01:59:59                                 -499.819438  \n",
       "2016-09-01 02:59:59                                 -500.622559  \n",
       "2016-09-01 03:59:59                                 -498.709987  \n",
       "2016-09-01 04:59:59                                 -500.856333  \n",
       "\n",
       "[5 rows x 52 columns]"
      ]
     },
     "metadata": {},
     "output_type": "display_data"
    },
    {
     "data": {
      "text/html": [
       "<div>\n",
       "<style scoped>\n",
       "    .dataframe tbody tr th:only-of-type {\n",
       "        vertical-align: middle;\n",
       "    }\n",
       "\n",
       "    .dataframe tbody tr th {\n",
       "        vertical-align: top;\n",
       "    }\n",
       "\n",
       "    .dataframe thead th {\n",
       "        text-align: right;\n",
       "    }\n",
       "</style>\n",
       "<table border=\"1\" class=\"dataframe\">\n",
       "  <thead>\n",
       "    <tr style=\"text-align: right;\">\n",
       "      <th></th>\n",
       "      <th>final.output.concentrate_ag</th>\n",
       "      <th>final.output.concentrate_pb</th>\n",
       "      <th>final.output.concentrate_sol</th>\n",
       "      <th>final.output.concentrate_au</th>\n",
       "      <th>final.output.recovery</th>\n",
       "      <th>final.output.tail_ag</th>\n",
       "      <th>final.output.tail_pb</th>\n",
       "      <th>final.output.tail_sol</th>\n",
       "      <th>final.output.tail_au</th>\n",
       "      <th>primary_cleaner.input.sulfate</th>\n",
       "      <th>...</th>\n",
       "      <th>secondary_cleaner.state.floatbank4_a_air</th>\n",
       "      <th>secondary_cleaner.state.floatbank4_a_level</th>\n",
       "      <th>secondary_cleaner.state.floatbank4_b_air</th>\n",
       "      <th>secondary_cleaner.state.floatbank4_b_level</th>\n",
       "      <th>secondary_cleaner.state.floatbank5_a_air</th>\n",
       "      <th>secondary_cleaner.state.floatbank5_a_level</th>\n",
       "      <th>secondary_cleaner.state.floatbank5_b_air</th>\n",
       "      <th>secondary_cleaner.state.floatbank5_b_level</th>\n",
       "      <th>secondary_cleaner.state.floatbank6_a_air</th>\n",
       "      <th>secondary_cleaner.state.floatbank6_a_level</th>\n",
       "    </tr>\n",
       "    <tr>\n",
       "      <th>date</th>\n",
       "      <th></th>\n",
       "      <th></th>\n",
       "      <th></th>\n",
       "      <th></th>\n",
       "      <th></th>\n",
       "      <th></th>\n",
       "      <th></th>\n",
       "      <th></th>\n",
       "      <th></th>\n",
       "      <th></th>\n",
       "      <th></th>\n",
       "      <th></th>\n",
       "      <th></th>\n",
       "      <th></th>\n",
       "      <th></th>\n",
       "      <th></th>\n",
       "      <th></th>\n",
       "      <th></th>\n",
       "      <th></th>\n",
       "      <th></th>\n",
       "      <th></th>\n",
       "    </tr>\n",
       "  </thead>\n",
       "  <tbody>\n",
       "    <tr>\n",
       "      <th>2016-01-15 00:00:00</th>\n",
       "      <td>6.055403</td>\n",
       "      <td>9.889648</td>\n",
       "      <td>5.507324</td>\n",
       "      <td>42.192020</td>\n",
       "      <td>70.541216</td>\n",
       "      <td>10.411962</td>\n",
       "      <td>0.895447</td>\n",
       "      <td>16.904297</td>\n",
       "      <td>2.143149</td>\n",
       "      <td>127.092003</td>\n",
       "      <td>...</td>\n",
       "      <td>14.016835</td>\n",
       "      <td>-502.488007</td>\n",
       "      <td>12.099931</td>\n",
       "      <td>-504.715942</td>\n",
       "      <td>9.925633</td>\n",
       "      <td>-498.310211</td>\n",
       "      <td>8.079666</td>\n",
       "      <td>-500.470978</td>\n",
       "      <td>14.151341</td>\n",
       "      <td>-605.841980</td>\n",
       "    </tr>\n",
       "    <tr>\n",
       "      <th>2016-01-15 01:00:00</th>\n",
       "      <td>6.029369</td>\n",
       "      <td>9.968944</td>\n",
       "      <td>5.257781</td>\n",
       "      <td>42.701629</td>\n",
       "      <td>69.266198</td>\n",
       "      <td>10.462676</td>\n",
       "      <td>0.927452</td>\n",
       "      <td>16.634514</td>\n",
       "      <td>2.224930</td>\n",
       "      <td>125.629232</td>\n",
       "      <td>...</td>\n",
       "      <td>13.992281</td>\n",
       "      <td>-505.503262</td>\n",
       "      <td>11.950531</td>\n",
       "      <td>-501.331529</td>\n",
       "      <td>10.039245</td>\n",
       "      <td>-500.169983</td>\n",
       "      <td>7.984757</td>\n",
       "      <td>-500.582168</td>\n",
       "      <td>13.998353</td>\n",
       "      <td>-599.787184</td>\n",
       "    </tr>\n",
       "    <tr>\n",
       "      <th>2016-01-15 02:00:00</th>\n",
       "      <td>6.055926</td>\n",
       "      <td>10.213995</td>\n",
       "      <td>5.383759</td>\n",
       "      <td>42.657501</td>\n",
       "      <td>68.116445</td>\n",
       "      <td>10.507046</td>\n",
       "      <td>0.953716</td>\n",
       "      <td>16.208849</td>\n",
       "      <td>2.257889</td>\n",
       "      <td>123.819808</td>\n",
       "      <td>...</td>\n",
       "      <td>14.015015</td>\n",
       "      <td>-502.520901</td>\n",
       "      <td>11.912783</td>\n",
       "      <td>-501.133383</td>\n",
       "      <td>10.070913</td>\n",
       "      <td>-500.129135</td>\n",
       "      <td>8.013877</td>\n",
       "      <td>-500.517572</td>\n",
       "      <td>14.028663</td>\n",
       "      <td>-601.427363</td>\n",
       "    </tr>\n",
       "    <tr>\n",
       "      <th>2016-01-15 03:00:00</th>\n",
       "      <td>6.047977</td>\n",
       "      <td>9.977019</td>\n",
       "      <td>4.858634</td>\n",
       "      <td>42.689819</td>\n",
       "      <td>68.347543</td>\n",
       "      <td>10.422762</td>\n",
       "      <td>0.883763</td>\n",
       "      <td>16.532835</td>\n",
       "      <td>2.146849</td>\n",
       "      <td>122.270188</td>\n",
       "      <td>...</td>\n",
       "      <td>14.036510</td>\n",
       "      <td>-500.857308</td>\n",
       "      <td>11.999550</td>\n",
       "      <td>-501.193686</td>\n",
       "      <td>9.970366</td>\n",
       "      <td>-499.201640</td>\n",
       "      <td>7.977324</td>\n",
       "      <td>-500.255908</td>\n",
       "      <td>14.005551</td>\n",
       "      <td>-599.996129</td>\n",
       "    </tr>\n",
       "    <tr>\n",
       "      <th>2016-01-15 04:00:00</th>\n",
       "      <td>6.148599</td>\n",
       "      <td>10.142511</td>\n",
       "      <td>4.939416</td>\n",
       "      <td>42.774141</td>\n",
       "      <td>66.927016</td>\n",
       "      <td>10.360302</td>\n",
       "      <td>0.792826</td>\n",
       "      <td>16.525686</td>\n",
       "      <td>2.055292</td>\n",
       "      <td>117.988169</td>\n",
       "      <td>...</td>\n",
       "      <td>14.027298</td>\n",
       "      <td>-499.838632</td>\n",
       "      <td>11.953070</td>\n",
       "      <td>-501.053894</td>\n",
       "      <td>9.925709</td>\n",
       "      <td>-501.686727</td>\n",
       "      <td>7.894242</td>\n",
       "      <td>-500.356035</td>\n",
       "      <td>13.996647</td>\n",
       "      <td>-601.496691</td>\n",
       "    </tr>\n",
       "  </tbody>\n",
       "</table>\n",
       "<p>5 rows × 86 columns</p>\n",
       "</div>"
      ],
      "text/plain": [
       "                     final.output.concentrate_ag  final.output.concentrate_pb  \\\n",
       "date                                                                            \n",
       "2016-01-15 00:00:00                     6.055403                     9.889648   \n",
       "2016-01-15 01:00:00                     6.029369                     9.968944   \n",
       "2016-01-15 02:00:00                     6.055926                    10.213995   \n",
       "2016-01-15 03:00:00                     6.047977                     9.977019   \n",
       "2016-01-15 04:00:00                     6.148599                    10.142511   \n",
       "\n",
       "                     final.output.concentrate_sol  \\\n",
       "date                                                \n",
       "2016-01-15 00:00:00                      5.507324   \n",
       "2016-01-15 01:00:00                      5.257781   \n",
       "2016-01-15 02:00:00                      5.383759   \n",
       "2016-01-15 03:00:00                      4.858634   \n",
       "2016-01-15 04:00:00                      4.939416   \n",
       "\n",
       "                     final.output.concentrate_au  final.output.recovery  \\\n",
       "date                                                                      \n",
       "2016-01-15 00:00:00                    42.192020              70.541216   \n",
       "2016-01-15 01:00:00                    42.701629              69.266198   \n",
       "2016-01-15 02:00:00                    42.657501              68.116445   \n",
       "2016-01-15 03:00:00                    42.689819              68.347543   \n",
       "2016-01-15 04:00:00                    42.774141              66.927016   \n",
       "\n",
       "                     final.output.tail_ag  final.output.tail_pb  \\\n",
       "date                                                              \n",
       "2016-01-15 00:00:00             10.411962              0.895447   \n",
       "2016-01-15 01:00:00             10.462676              0.927452   \n",
       "2016-01-15 02:00:00             10.507046              0.953716   \n",
       "2016-01-15 03:00:00             10.422762              0.883763   \n",
       "2016-01-15 04:00:00             10.360302              0.792826   \n",
       "\n",
       "                     final.output.tail_sol  final.output.tail_au  \\\n",
       "date                                                               \n",
       "2016-01-15 00:00:00              16.904297              2.143149   \n",
       "2016-01-15 01:00:00              16.634514              2.224930   \n",
       "2016-01-15 02:00:00              16.208849              2.257889   \n",
       "2016-01-15 03:00:00              16.532835              2.146849   \n",
       "2016-01-15 04:00:00              16.525686              2.055292   \n",
       "\n",
       "                     primary_cleaner.input.sulfate  ...  \\\n",
       "date                                                ...   \n",
       "2016-01-15 00:00:00                     127.092003  ...   \n",
       "2016-01-15 01:00:00                     125.629232  ...   \n",
       "2016-01-15 02:00:00                     123.819808  ...   \n",
       "2016-01-15 03:00:00                     122.270188  ...   \n",
       "2016-01-15 04:00:00                     117.988169  ...   \n",
       "\n",
       "                     secondary_cleaner.state.floatbank4_a_air  \\\n",
       "date                                                            \n",
       "2016-01-15 00:00:00                                 14.016835   \n",
       "2016-01-15 01:00:00                                 13.992281   \n",
       "2016-01-15 02:00:00                                 14.015015   \n",
       "2016-01-15 03:00:00                                 14.036510   \n",
       "2016-01-15 04:00:00                                 14.027298   \n",
       "\n",
       "                     secondary_cleaner.state.floatbank4_a_level  \\\n",
       "date                                                              \n",
       "2016-01-15 00:00:00                                 -502.488007   \n",
       "2016-01-15 01:00:00                                 -505.503262   \n",
       "2016-01-15 02:00:00                                 -502.520901   \n",
       "2016-01-15 03:00:00                                 -500.857308   \n",
       "2016-01-15 04:00:00                                 -499.838632   \n",
       "\n",
       "                     secondary_cleaner.state.floatbank4_b_air  \\\n",
       "date                                                            \n",
       "2016-01-15 00:00:00                                 12.099931   \n",
       "2016-01-15 01:00:00                                 11.950531   \n",
       "2016-01-15 02:00:00                                 11.912783   \n",
       "2016-01-15 03:00:00                                 11.999550   \n",
       "2016-01-15 04:00:00                                 11.953070   \n",
       "\n",
       "                     secondary_cleaner.state.floatbank4_b_level  \\\n",
       "date                                                              \n",
       "2016-01-15 00:00:00                                 -504.715942   \n",
       "2016-01-15 01:00:00                                 -501.331529   \n",
       "2016-01-15 02:00:00                                 -501.133383   \n",
       "2016-01-15 03:00:00                                 -501.193686   \n",
       "2016-01-15 04:00:00                                 -501.053894   \n",
       "\n",
       "                     secondary_cleaner.state.floatbank5_a_air  \\\n",
       "date                                                            \n",
       "2016-01-15 00:00:00                                  9.925633   \n",
       "2016-01-15 01:00:00                                 10.039245   \n",
       "2016-01-15 02:00:00                                 10.070913   \n",
       "2016-01-15 03:00:00                                  9.970366   \n",
       "2016-01-15 04:00:00                                  9.925709   \n",
       "\n",
       "                     secondary_cleaner.state.floatbank5_a_level  \\\n",
       "date                                                              \n",
       "2016-01-15 00:00:00                                 -498.310211   \n",
       "2016-01-15 01:00:00                                 -500.169983   \n",
       "2016-01-15 02:00:00                                 -500.129135   \n",
       "2016-01-15 03:00:00                                 -499.201640   \n",
       "2016-01-15 04:00:00                                 -501.686727   \n",
       "\n",
       "                     secondary_cleaner.state.floatbank5_b_air  \\\n",
       "date                                                            \n",
       "2016-01-15 00:00:00                                  8.079666   \n",
       "2016-01-15 01:00:00                                  7.984757   \n",
       "2016-01-15 02:00:00                                  8.013877   \n",
       "2016-01-15 03:00:00                                  7.977324   \n",
       "2016-01-15 04:00:00                                  7.894242   \n",
       "\n",
       "                     secondary_cleaner.state.floatbank5_b_level  \\\n",
       "date                                                              \n",
       "2016-01-15 00:00:00                                 -500.470978   \n",
       "2016-01-15 01:00:00                                 -500.582168   \n",
       "2016-01-15 02:00:00                                 -500.517572   \n",
       "2016-01-15 03:00:00                                 -500.255908   \n",
       "2016-01-15 04:00:00                                 -500.356035   \n",
       "\n",
       "                     secondary_cleaner.state.floatbank6_a_air  \\\n",
       "date                                                            \n",
       "2016-01-15 00:00:00                                 14.151341   \n",
       "2016-01-15 01:00:00                                 13.998353   \n",
       "2016-01-15 02:00:00                                 14.028663   \n",
       "2016-01-15 03:00:00                                 14.005551   \n",
       "2016-01-15 04:00:00                                 13.996647   \n",
       "\n",
       "                     secondary_cleaner.state.floatbank6_a_level  \n",
       "date                                                             \n",
       "2016-01-15 00:00:00                                 -605.841980  \n",
       "2016-01-15 01:00:00                                 -599.787184  \n",
       "2016-01-15 02:00:00                                 -601.427363  \n",
       "2016-01-15 03:00:00                                 -599.996129  \n",
       "2016-01-15 04:00:00                                 -601.496691  \n",
       "\n",
       "[5 rows x 86 columns]"
      ]
     },
     "metadata": {},
     "output_type": "display_data"
    }
   ],
   "source": [
    "display(df_train.head(5))\n",
    "display(df_test.head(5))\n",
    "display(df_full.head(5))"
   ]
  },
  {
   "cell_type": "code",
   "execution_count": 5,
   "id": "be8c6ef9",
   "metadata": {},
   "outputs": [
    {
     "data": {
      "text/html": [
       "<div>\n",
       "<style scoped>\n",
       "    .dataframe tbody tr th:only-of-type {\n",
       "        vertical-align: middle;\n",
       "    }\n",
       "\n",
       "    .dataframe tbody tr th {\n",
       "        vertical-align: top;\n",
       "    }\n",
       "\n",
       "    .dataframe thead th {\n",
       "        text-align: right;\n",
       "    }\n",
       "</style>\n",
       "<table border=\"1\" class=\"dataframe\">\n",
       "  <thead>\n",
       "    <tr style=\"text-align: right;\">\n",
       "      <th></th>\n",
       "      <th>final.output.concentrate_ag</th>\n",
       "      <th>final.output.concentrate_pb</th>\n",
       "      <th>final.output.concentrate_sol</th>\n",
       "      <th>final.output.concentrate_au</th>\n",
       "      <th>final.output.recovery</th>\n",
       "      <th>final.output.tail_ag</th>\n",
       "      <th>final.output.tail_pb</th>\n",
       "      <th>final.output.tail_sol</th>\n",
       "      <th>final.output.tail_au</th>\n",
       "      <th>primary_cleaner.input.sulfate</th>\n",
       "      <th>...</th>\n",
       "      <th>secondary_cleaner.state.floatbank4_a_air</th>\n",
       "      <th>secondary_cleaner.state.floatbank4_a_level</th>\n",
       "      <th>secondary_cleaner.state.floatbank4_b_air</th>\n",
       "      <th>secondary_cleaner.state.floatbank4_b_level</th>\n",
       "      <th>secondary_cleaner.state.floatbank5_a_air</th>\n",
       "      <th>secondary_cleaner.state.floatbank5_a_level</th>\n",
       "      <th>secondary_cleaner.state.floatbank5_b_air</th>\n",
       "      <th>secondary_cleaner.state.floatbank5_b_level</th>\n",
       "      <th>secondary_cleaner.state.floatbank6_a_air</th>\n",
       "      <th>secondary_cleaner.state.floatbank6_a_level</th>\n",
       "    </tr>\n",
       "  </thead>\n",
       "  <tbody>\n",
       "    <tr>\n",
       "      <th>count</th>\n",
       "      <td>14148.000000</td>\n",
       "      <td>14148.000000</td>\n",
       "      <td>13938.000000</td>\n",
       "      <td>14149.000000</td>\n",
       "      <td>14149.000000</td>\n",
       "      <td>14149.000000</td>\n",
       "      <td>14049.000000</td>\n",
       "      <td>14144.000000</td>\n",
       "      <td>14149.000000</td>\n",
       "      <td>14129.000000</td>\n",
       "      <td>...</td>\n",
       "      <td>14143.000000</td>\n",
       "      <td>14148.000000</td>\n",
       "      <td>14148.000000</td>\n",
       "      <td>14148.000000</td>\n",
       "      <td>14148.000000</td>\n",
       "      <td>14148.000000</td>\n",
       "      <td>14148.000000</td>\n",
       "      <td>14148.000000</td>\n",
       "      <td>14147.000000</td>\n",
       "      <td>14148.000000</td>\n",
       "    </tr>\n",
       "    <tr>\n",
       "      <th>mean</th>\n",
       "      <td>5.142034</td>\n",
       "      <td>10.132960</td>\n",
       "      <td>9.202849</td>\n",
       "      <td>44.003792</td>\n",
       "      <td>66.518832</td>\n",
       "      <td>9.607035</td>\n",
       "      <td>2.597298</td>\n",
       "      <td>10.512122</td>\n",
       "      <td>2.918421</td>\n",
       "      <td>133.320659</td>\n",
       "      <td>...</td>\n",
       "      <td>19.985454</td>\n",
       "      <td>-478.696836</td>\n",
       "      <td>15.487065</td>\n",
       "      <td>-460.229416</td>\n",
       "      <td>16.775136</td>\n",
       "      <td>-483.956022</td>\n",
       "      <td>13.064590</td>\n",
       "      <td>-483.966564</td>\n",
       "      <td>19.577539</td>\n",
       "      <td>-506.798480</td>\n",
       "    </tr>\n",
       "    <tr>\n",
       "      <th>std</th>\n",
       "      <td>1.369586</td>\n",
       "      <td>1.654930</td>\n",
       "      <td>2.790516</td>\n",
       "      <td>4.905261</td>\n",
       "      <td>10.295402</td>\n",
       "      <td>2.319069</td>\n",
       "      <td>0.971843</td>\n",
       "      <td>3.003617</td>\n",
       "      <td>0.903712</td>\n",
       "      <td>39.431659</td>\n",
       "      <td>...</td>\n",
       "      <td>5.657723</td>\n",
       "      <td>50.736021</td>\n",
       "      <td>5.255655</td>\n",
       "      <td>58.843586</td>\n",
       "      <td>5.831906</td>\n",
       "      <td>37.892788</td>\n",
       "      <td>5.765617</td>\n",
       "      <td>39.207913</td>\n",
       "      <td>5.764417</td>\n",
       "      <td>37.079249</td>\n",
       "    </tr>\n",
       "    <tr>\n",
       "      <th>min</th>\n",
       "      <td>0.000000</td>\n",
       "      <td>0.000000</td>\n",
       "      <td>0.000000</td>\n",
       "      <td>0.000000</td>\n",
       "      <td>0.000000</td>\n",
       "      <td>0.000000</td>\n",
       "      <td>0.000000</td>\n",
       "      <td>0.000000</td>\n",
       "      <td>0.000000</td>\n",
       "      <td>0.003112</td>\n",
       "      <td>...</td>\n",
       "      <td>0.000000</td>\n",
       "      <td>-799.709069</td>\n",
       "      <td>0.000000</td>\n",
       "      <td>-799.889113</td>\n",
       "      <td>-0.372054</td>\n",
       "      <td>-797.142475</td>\n",
       "      <td>0.646208</td>\n",
       "      <td>-800.006180</td>\n",
       "      <td>0.195324</td>\n",
       "      <td>-809.398668</td>\n",
       "    </tr>\n",
       "    <tr>\n",
       "      <th>25%</th>\n",
       "      <td>4.211620</td>\n",
       "      <td>9.297355</td>\n",
       "      <td>7.484645</td>\n",
       "      <td>43.276111</td>\n",
       "      <td>62.545817</td>\n",
       "      <td>7.997429</td>\n",
       "      <td>1.905973</td>\n",
       "      <td>8.811324</td>\n",
       "      <td>2.368607</td>\n",
       "      <td>107.006651</td>\n",
       "      <td>...</td>\n",
       "      <td>14.990775</td>\n",
       "      <td>-500.628656</td>\n",
       "      <td>11.894558</td>\n",
       "      <td>-500.149000</td>\n",
       "      <td>11.083980</td>\n",
       "      <td>-500.363177</td>\n",
       "      <td>8.994405</td>\n",
       "      <td>-500.105994</td>\n",
       "      <td>14.989304</td>\n",
       "      <td>-500.745104</td>\n",
       "    </tr>\n",
       "    <tr>\n",
       "      <th>50%</th>\n",
       "      <td>4.994652</td>\n",
       "      <td>10.297144</td>\n",
       "      <td>8.845462</td>\n",
       "      <td>44.872436</td>\n",
       "      <td>67.432775</td>\n",
       "      <td>9.480270</td>\n",
       "      <td>2.592022</td>\n",
       "      <td>10.514621</td>\n",
       "      <td>2.851025</td>\n",
       "      <td>133.018328</td>\n",
       "      <td>...</td>\n",
       "      <td>20.001789</td>\n",
       "      <td>-499.681450</td>\n",
       "      <td>14.975536</td>\n",
       "      <td>-499.388738</td>\n",
       "      <td>17.932223</td>\n",
       "      <td>-499.702452</td>\n",
       "      <td>11.997547</td>\n",
       "      <td>-499.914556</td>\n",
       "      <td>19.984175</td>\n",
       "      <td>-500.061431</td>\n",
       "    </tr>\n",
       "    <tr>\n",
       "      <th>75%</th>\n",
       "      <td>5.859540</td>\n",
       "      <td>11.170603</td>\n",
       "      <td>10.487508</td>\n",
       "      <td>46.166425</td>\n",
       "      <td>72.346428</td>\n",
       "      <td>11.003707</td>\n",
       "      <td>3.241723</td>\n",
       "      <td>11.933009</td>\n",
       "      <td>3.434764</td>\n",
       "      <td>159.825396</td>\n",
       "      <td>...</td>\n",
       "      <td>24.990826</td>\n",
       "      <td>-477.472413</td>\n",
       "      <td>20.059375</td>\n",
       "      <td>-400.039008</td>\n",
       "      <td>21.346550</td>\n",
       "      <td>-487.712108</td>\n",
       "      <td>17.982903</td>\n",
       "      <td>-453.186936</td>\n",
       "      <td>24.991623</td>\n",
       "      <td>-499.536466</td>\n",
       "    </tr>\n",
       "    <tr>\n",
       "      <th>max</th>\n",
       "      <td>16.001945</td>\n",
       "      <td>17.031899</td>\n",
       "      <td>18.124851</td>\n",
       "      <td>52.756638</td>\n",
       "      <td>100.000000</td>\n",
       "      <td>19.552149</td>\n",
       "      <td>5.639565</td>\n",
       "      <td>22.317730</td>\n",
       "      <td>8.197408</td>\n",
       "      <td>250.127834</td>\n",
       "      <td>...</td>\n",
       "      <td>30.115735</td>\n",
       "      <td>-245.239184</td>\n",
       "      <td>24.007913</td>\n",
       "      <td>-145.071088</td>\n",
       "      <td>43.709931</td>\n",
       "      <td>-275.073125</td>\n",
       "      <td>27.926001</td>\n",
       "      <td>-157.396071</td>\n",
       "      <td>32.188906</td>\n",
       "      <td>-104.427459</td>\n",
       "    </tr>\n",
       "  </tbody>\n",
       "</table>\n",
       "<p>8 rows × 86 columns</p>\n",
       "</div>"
      ],
      "text/plain": [
       "       final.output.concentrate_ag  final.output.concentrate_pb  \\\n",
       "count                 14148.000000                 14148.000000   \n",
       "mean                      5.142034                    10.132960   \n",
       "std                       1.369586                     1.654930   \n",
       "min                       0.000000                     0.000000   \n",
       "25%                       4.211620                     9.297355   \n",
       "50%                       4.994652                    10.297144   \n",
       "75%                       5.859540                    11.170603   \n",
       "max                      16.001945                    17.031899   \n",
       "\n",
       "       final.output.concentrate_sol  final.output.concentrate_au  \\\n",
       "count                  13938.000000                 14149.000000   \n",
       "mean                       9.202849                    44.003792   \n",
       "std                        2.790516                     4.905261   \n",
       "min                        0.000000                     0.000000   \n",
       "25%                        7.484645                    43.276111   \n",
       "50%                        8.845462                    44.872436   \n",
       "75%                       10.487508                    46.166425   \n",
       "max                       18.124851                    52.756638   \n",
       "\n",
       "       final.output.recovery  final.output.tail_ag  final.output.tail_pb  \\\n",
       "count           14149.000000          14149.000000          14049.000000   \n",
       "mean               66.518832              9.607035              2.597298   \n",
       "std                10.295402              2.319069              0.971843   \n",
       "min                 0.000000              0.000000              0.000000   \n",
       "25%                62.545817              7.997429              1.905973   \n",
       "50%                67.432775              9.480270              2.592022   \n",
       "75%                72.346428             11.003707              3.241723   \n",
       "max               100.000000             19.552149              5.639565   \n",
       "\n",
       "       final.output.tail_sol  final.output.tail_au  \\\n",
       "count           14144.000000          14149.000000   \n",
       "mean               10.512122              2.918421   \n",
       "std                 3.003617              0.903712   \n",
       "min                 0.000000              0.000000   \n",
       "25%                 8.811324              2.368607   \n",
       "50%                10.514621              2.851025   \n",
       "75%                11.933009              3.434764   \n",
       "max                22.317730              8.197408   \n",
       "\n",
       "       primary_cleaner.input.sulfate  ...  \\\n",
       "count                   14129.000000  ...   \n",
       "mean                      133.320659  ...   \n",
       "std                        39.431659  ...   \n",
       "min                         0.003112  ...   \n",
       "25%                       107.006651  ...   \n",
       "50%                       133.018328  ...   \n",
       "75%                       159.825396  ...   \n",
       "max                       250.127834  ...   \n",
       "\n",
       "       secondary_cleaner.state.floatbank4_a_air  \\\n",
       "count                              14143.000000   \n",
       "mean                                  19.985454   \n",
       "std                                    5.657723   \n",
       "min                                    0.000000   \n",
       "25%                                   14.990775   \n",
       "50%                                   20.001789   \n",
       "75%                                   24.990826   \n",
       "max                                   30.115735   \n",
       "\n",
       "       secondary_cleaner.state.floatbank4_a_level  \\\n",
       "count                                14148.000000   \n",
       "mean                                  -478.696836   \n",
       "std                                     50.736021   \n",
       "min                                   -799.709069   \n",
       "25%                                   -500.628656   \n",
       "50%                                   -499.681450   \n",
       "75%                                   -477.472413   \n",
       "max                                   -245.239184   \n",
       "\n",
       "       secondary_cleaner.state.floatbank4_b_air  \\\n",
       "count                              14148.000000   \n",
       "mean                                  15.487065   \n",
       "std                                    5.255655   \n",
       "min                                    0.000000   \n",
       "25%                                   11.894558   \n",
       "50%                                   14.975536   \n",
       "75%                                   20.059375   \n",
       "max                                   24.007913   \n",
       "\n",
       "       secondary_cleaner.state.floatbank4_b_level  \\\n",
       "count                                14148.000000   \n",
       "mean                                  -460.229416   \n",
       "std                                     58.843586   \n",
       "min                                   -799.889113   \n",
       "25%                                   -500.149000   \n",
       "50%                                   -499.388738   \n",
       "75%                                   -400.039008   \n",
       "max                                   -145.071088   \n",
       "\n",
       "       secondary_cleaner.state.floatbank5_a_air  \\\n",
       "count                              14148.000000   \n",
       "mean                                  16.775136   \n",
       "std                                    5.831906   \n",
       "min                                   -0.372054   \n",
       "25%                                   11.083980   \n",
       "50%                                   17.932223   \n",
       "75%                                   21.346550   \n",
       "max                                   43.709931   \n",
       "\n",
       "       secondary_cleaner.state.floatbank5_a_level  \\\n",
       "count                                14148.000000   \n",
       "mean                                  -483.956022   \n",
       "std                                     37.892788   \n",
       "min                                   -797.142475   \n",
       "25%                                   -500.363177   \n",
       "50%                                   -499.702452   \n",
       "75%                                   -487.712108   \n",
       "max                                   -275.073125   \n",
       "\n",
       "       secondary_cleaner.state.floatbank5_b_air  \\\n",
       "count                              14148.000000   \n",
       "mean                                  13.064590   \n",
       "std                                    5.765617   \n",
       "min                                    0.646208   \n",
       "25%                                    8.994405   \n",
       "50%                                   11.997547   \n",
       "75%                                   17.982903   \n",
       "max                                   27.926001   \n",
       "\n",
       "       secondary_cleaner.state.floatbank5_b_level  \\\n",
       "count                                14148.000000   \n",
       "mean                                  -483.966564   \n",
       "std                                     39.207913   \n",
       "min                                   -800.006180   \n",
       "25%                                   -500.105994   \n",
       "50%                                   -499.914556   \n",
       "75%                                   -453.186936   \n",
       "max                                   -157.396071   \n",
       "\n",
       "       secondary_cleaner.state.floatbank6_a_air  \\\n",
       "count                              14147.000000   \n",
       "mean                                  19.577539   \n",
       "std                                    5.764417   \n",
       "min                                    0.195324   \n",
       "25%                                   14.989304   \n",
       "50%                                   19.984175   \n",
       "75%                                   24.991623   \n",
       "max                                   32.188906   \n",
       "\n",
       "       secondary_cleaner.state.floatbank6_a_level  \n",
       "count                                14148.000000  \n",
       "mean                                  -506.798480  \n",
       "std                                     37.079249  \n",
       "min                                   -809.398668  \n",
       "25%                                   -500.745104  \n",
       "50%                                   -500.061431  \n",
       "75%                                   -499.536466  \n",
       "max                                   -104.427459  \n",
       "\n",
       "[8 rows x 86 columns]"
      ]
     },
     "metadata": {},
     "output_type": "display_data"
    },
    {
     "data": {
      "text/html": [
       "<div>\n",
       "<style scoped>\n",
       "    .dataframe tbody tr th:only-of-type {\n",
       "        vertical-align: middle;\n",
       "    }\n",
       "\n",
       "    .dataframe tbody tr th {\n",
       "        vertical-align: top;\n",
       "    }\n",
       "\n",
       "    .dataframe thead th {\n",
       "        text-align: right;\n",
       "    }\n",
       "</style>\n",
       "<table border=\"1\" class=\"dataframe\">\n",
       "  <thead>\n",
       "    <tr style=\"text-align: right;\">\n",
       "      <th></th>\n",
       "      <th>primary_cleaner.input.sulfate</th>\n",
       "      <th>primary_cleaner.input.depressant</th>\n",
       "      <th>primary_cleaner.input.feed_size</th>\n",
       "      <th>primary_cleaner.input.xanthate</th>\n",
       "      <th>primary_cleaner.state.floatbank8_a_air</th>\n",
       "      <th>primary_cleaner.state.floatbank8_a_level</th>\n",
       "      <th>primary_cleaner.state.floatbank8_b_air</th>\n",
       "      <th>primary_cleaner.state.floatbank8_b_level</th>\n",
       "      <th>primary_cleaner.state.floatbank8_c_air</th>\n",
       "      <th>primary_cleaner.state.floatbank8_c_level</th>\n",
       "      <th>...</th>\n",
       "      <th>secondary_cleaner.state.floatbank4_a_air</th>\n",
       "      <th>secondary_cleaner.state.floatbank4_a_level</th>\n",
       "      <th>secondary_cleaner.state.floatbank4_b_air</th>\n",
       "      <th>secondary_cleaner.state.floatbank4_b_level</th>\n",
       "      <th>secondary_cleaner.state.floatbank5_a_air</th>\n",
       "      <th>secondary_cleaner.state.floatbank5_a_level</th>\n",
       "      <th>secondary_cleaner.state.floatbank5_b_air</th>\n",
       "      <th>secondary_cleaner.state.floatbank5_b_level</th>\n",
       "      <th>secondary_cleaner.state.floatbank6_a_air</th>\n",
       "      <th>secondary_cleaner.state.floatbank6_a_level</th>\n",
       "    </tr>\n",
       "  </thead>\n",
       "  <tbody>\n",
       "    <tr>\n",
       "      <th>count</th>\n",
       "      <td>5286.000000</td>\n",
       "      <td>5285.000000</td>\n",
       "      <td>5290.000000</td>\n",
       "      <td>5286.000000</td>\n",
       "      <td>5.290000e+03</td>\n",
       "      <td>5290.000000</td>\n",
       "      <td>5.290000e+03</td>\n",
       "      <td>5290.000000</td>\n",
       "      <td>5.290000e+03</td>\n",
       "      <td>5290.000000</td>\n",
       "      <td>...</td>\n",
       "      <td>5.290000e+03</td>\n",
       "      <td>5290.000000</td>\n",
       "      <td>5.290000e+03</td>\n",
       "      <td>5290.000000</td>\n",
       "      <td>5290.000000</td>\n",
       "      <td>5290.000000</td>\n",
       "      <td>5290.000000</td>\n",
       "      <td>5290.000000</td>\n",
       "      <td>5290.000000</td>\n",
       "      <td>5290.000000</td>\n",
       "    </tr>\n",
       "    <tr>\n",
       "      <th>mean</th>\n",
       "      <td>174.839652</td>\n",
       "      <td>8.683596</td>\n",
       "      <td>7.266339</td>\n",
       "      <td>1.383803</td>\n",
       "      <td>1.539494e+03</td>\n",
       "      <td>-497.665883</td>\n",
       "      <td>1.545174e+03</td>\n",
       "      <td>-500.273098</td>\n",
       "      <td>1.527272e+03</td>\n",
       "      <td>-498.330680</td>\n",
       "      <td>...</td>\n",
       "      <td>1.632007e+01</td>\n",
       "      <td>-505.144570</td>\n",
       "      <td>1.373544e+01</td>\n",
       "      <td>-463.349858</td>\n",
       "      <td>12.804186</td>\n",
       "      <td>-501.329122</td>\n",
       "      <td>9.881145</td>\n",
       "      <td>-495.663398</td>\n",
       "      <td>17.304935</td>\n",
       "      <td>-501.793193</td>\n",
       "    </tr>\n",
       "    <tr>\n",
       "      <th>std</th>\n",
       "      <td>43.027080</td>\n",
       "      <td>3.072050</td>\n",
       "      <td>0.610219</td>\n",
       "      <td>0.643474</td>\n",
       "      <td>1.167979e+02</td>\n",
       "      <td>19.952431</td>\n",
       "      <td>1.222246e+02</td>\n",
       "      <td>32.968307</td>\n",
       "      <td>1.225380e+02</td>\n",
       "      <td>21.964876</td>\n",
       "      <td>...</td>\n",
       "      <td>3.493583e+00</td>\n",
       "      <td>31.427337</td>\n",
       "      <td>3.430484e+00</td>\n",
       "      <td>86.189107</td>\n",
       "      <td>3.026591</td>\n",
       "      <td>17.951495</td>\n",
       "      <td>2.868205</td>\n",
       "      <td>34.535007</td>\n",
       "      <td>4.536544</td>\n",
       "      <td>39.044215</td>\n",
       "    </tr>\n",
       "    <tr>\n",
       "      <th>min</th>\n",
       "      <td>2.566156</td>\n",
       "      <td>0.003839</td>\n",
       "      <td>5.650000</td>\n",
       "      <td>0.004984</td>\n",
       "      <td>5.445860e-32</td>\n",
       "      <td>-795.316337</td>\n",
       "      <td>6.647490e-32</td>\n",
       "      <td>-799.997015</td>\n",
       "      <td>4.033736e-32</td>\n",
       "      <td>-799.960571</td>\n",
       "      <td>...</td>\n",
       "      <td>1.079872e-16</td>\n",
       "      <td>-799.798523</td>\n",
       "      <td>2.489718e-17</td>\n",
       "      <td>-800.836914</td>\n",
       "      <td>0.069227</td>\n",
       "      <td>-797.323986</td>\n",
       "      <td>0.528083</td>\n",
       "      <td>-800.220337</td>\n",
       "      <td>-0.079426</td>\n",
       "      <td>-809.741464</td>\n",
       "    </tr>\n",
       "    <tr>\n",
       "      <th>25%</th>\n",
       "      <td>147.121401</td>\n",
       "      <td>6.489555</td>\n",
       "      <td>6.890000</td>\n",
       "      <td>0.907623</td>\n",
       "      <td>1.498936e+03</td>\n",
       "      <td>-500.357298</td>\n",
       "      <td>1.498971e+03</td>\n",
       "      <td>-500.703002</td>\n",
       "      <td>1.473230e+03</td>\n",
       "      <td>-501.018117</td>\n",
       "      <td>...</td>\n",
       "      <td>1.403618e+01</td>\n",
       "      <td>-500.868258</td>\n",
       "      <td>1.202862e+01</td>\n",
       "      <td>-500.323028</td>\n",
       "      <td>10.914838</td>\n",
       "      <td>-500.726841</td>\n",
       "      <td>8.036719</td>\n",
       "      <td>-500.194668</td>\n",
       "      <td>13.997317</td>\n",
       "      <td>-500.690984</td>\n",
       "    </tr>\n",
       "    <tr>\n",
       "      <th>50%</th>\n",
       "      <td>177.828489</td>\n",
       "      <td>8.052207</td>\n",
       "      <td>7.250000</td>\n",
       "      <td>1.197610</td>\n",
       "      <td>1.585129e+03</td>\n",
       "      <td>-499.969164</td>\n",
       "      <td>1.595622e+03</td>\n",
       "      <td>-500.028514</td>\n",
       "      <td>1.549595e+03</td>\n",
       "      <td>-500.017711</td>\n",
       "      <td>...</td>\n",
       "      <td>1.700847e+01</td>\n",
       "      <td>-500.115727</td>\n",
       "      <td>1.496486e+01</td>\n",
       "      <td>-499.576513</td>\n",
       "      <td>12.954182</td>\n",
       "      <td>-499.990332</td>\n",
       "      <td>10.004301</td>\n",
       "      <td>-499.990535</td>\n",
       "      <td>16.014935</td>\n",
       "      <td>-500.007126</td>\n",
       "    </tr>\n",
       "    <tr>\n",
       "      <th>75%</th>\n",
       "      <td>208.125438</td>\n",
       "      <td>10.027764</td>\n",
       "      <td>7.600000</td>\n",
       "      <td>1.797819</td>\n",
       "      <td>1.602077e+03</td>\n",
       "      <td>-499.568951</td>\n",
       "      <td>1.602324e+03</td>\n",
       "      <td>-499.293257</td>\n",
       "      <td>1.601144e+03</td>\n",
       "      <td>-498.994130</td>\n",
       "      <td>...</td>\n",
       "      <td>1.803862e+01</td>\n",
       "      <td>-499.404224</td>\n",
       "      <td>1.596213e+01</td>\n",
       "      <td>-400.933805</td>\n",
       "      <td>15.097528</td>\n",
       "      <td>-499.283191</td>\n",
       "      <td>11.997467</td>\n",
       "      <td>-499.719913</td>\n",
       "      <td>21.020013</td>\n",
       "      <td>-499.373018</td>\n",
       "    </tr>\n",
       "    <tr>\n",
       "      <th>max</th>\n",
       "      <td>265.983123</td>\n",
       "      <td>40.000000</td>\n",
       "      <td>15.500000</td>\n",
       "      <td>4.102454</td>\n",
       "      <td>2.103104e+03</td>\n",
       "      <td>-57.195404</td>\n",
       "      <td>1.813084e+03</td>\n",
       "      <td>-142.527229</td>\n",
       "      <td>1.715054e+03</td>\n",
       "      <td>-150.937035</td>\n",
       "      <td>...</td>\n",
       "      <td>3.005180e+01</td>\n",
       "      <td>-401.565212</td>\n",
       "      <td>3.126971e+01</td>\n",
       "      <td>-6.506986</td>\n",
       "      <td>25.258848</td>\n",
       "      <td>-244.483566</td>\n",
       "      <td>14.086866</td>\n",
       "      <td>-137.740004</td>\n",
       "      <td>26.705889</td>\n",
       "      <td>-123.307487</td>\n",
       "    </tr>\n",
       "  </tbody>\n",
       "</table>\n",
       "<p>8 rows × 52 columns</p>\n",
       "</div>"
      ],
      "text/plain": [
       "       primary_cleaner.input.sulfate  primary_cleaner.input.depressant  \\\n",
       "count                    5286.000000                       5285.000000   \n",
       "mean                      174.839652                          8.683596   \n",
       "std                        43.027080                          3.072050   \n",
       "min                         2.566156                          0.003839   \n",
       "25%                       147.121401                          6.489555   \n",
       "50%                       177.828489                          8.052207   \n",
       "75%                       208.125438                         10.027764   \n",
       "max                       265.983123                         40.000000   \n",
       "\n",
       "       primary_cleaner.input.feed_size  primary_cleaner.input.xanthate  \\\n",
       "count                      5290.000000                     5286.000000   \n",
       "mean                          7.266339                        1.383803   \n",
       "std                           0.610219                        0.643474   \n",
       "min                           5.650000                        0.004984   \n",
       "25%                           6.890000                        0.907623   \n",
       "50%                           7.250000                        1.197610   \n",
       "75%                           7.600000                        1.797819   \n",
       "max                          15.500000                        4.102454   \n",
       "\n",
       "       primary_cleaner.state.floatbank8_a_air  \\\n",
       "count                            5.290000e+03   \n",
       "mean                             1.539494e+03   \n",
       "std                              1.167979e+02   \n",
       "min                              5.445860e-32   \n",
       "25%                              1.498936e+03   \n",
       "50%                              1.585129e+03   \n",
       "75%                              1.602077e+03   \n",
       "max                              2.103104e+03   \n",
       "\n",
       "       primary_cleaner.state.floatbank8_a_level  \\\n",
       "count                               5290.000000   \n",
       "mean                                -497.665883   \n",
       "std                                   19.952431   \n",
       "min                                 -795.316337   \n",
       "25%                                 -500.357298   \n",
       "50%                                 -499.969164   \n",
       "75%                                 -499.568951   \n",
       "max                                  -57.195404   \n",
       "\n",
       "       primary_cleaner.state.floatbank8_b_air  \\\n",
       "count                            5.290000e+03   \n",
       "mean                             1.545174e+03   \n",
       "std                              1.222246e+02   \n",
       "min                              6.647490e-32   \n",
       "25%                              1.498971e+03   \n",
       "50%                              1.595622e+03   \n",
       "75%                              1.602324e+03   \n",
       "max                              1.813084e+03   \n",
       "\n",
       "       primary_cleaner.state.floatbank8_b_level  \\\n",
       "count                               5290.000000   \n",
       "mean                                -500.273098   \n",
       "std                                   32.968307   \n",
       "min                                 -799.997015   \n",
       "25%                                 -500.703002   \n",
       "50%                                 -500.028514   \n",
       "75%                                 -499.293257   \n",
       "max                                 -142.527229   \n",
       "\n",
       "       primary_cleaner.state.floatbank8_c_air  \\\n",
       "count                            5.290000e+03   \n",
       "mean                             1.527272e+03   \n",
       "std                              1.225380e+02   \n",
       "min                              4.033736e-32   \n",
       "25%                              1.473230e+03   \n",
       "50%                              1.549595e+03   \n",
       "75%                              1.601144e+03   \n",
       "max                              1.715054e+03   \n",
       "\n",
       "       primary_cleaner.state.floatbank8_c_level  ...  \\\n",
       "count                               5290.000000  ...   \n",
       "mean                                -498.330680  ...   \n",
       "std                                   21.964876  ...   \n",
       "min                                 -799.960571  ...   \n",
       "25%                                 -501.018117  ...   \n",
       "50%                                 -500.017711  ...   \n",
       "75%                                 -498.994130  ...   \n",
       "max                                 -150.937035  ...   \n",
       "\n",
       "       secondary_cleaner.state.floatbank4_a_air  \\\n",
       "count                              5.290000e+03   \n",
       "mean                               1.632007e+01   \n",
       "std                                3.493583e+00   \n",
       "min                                1.079872e-16   \n",
       "25%                                1.403618e+01   \n",
       "50%                                1.700847e+01   \n",
       "75%                                1.803862e+01   \n",
       "max                                3.005180e+01   \n",
       "\n",
       "       secondary_cleaner.state.floatbank4_a_level  \\\n",
       "count                                 5290.000000   \n",
       "mean                                  -505.144570   \n",
       "std                                     31.427337   \n",
       "min                                   -799.798523   \n",
       "25%                                   -500.868258   \n",
       "50%                                   -500.115727   \n",
       "75%                                   -499.404224   \n",
       "max                                   -401.565212   \n",
       "\n",
       "       secondary_cleaner.state.floatbank4_b_air  \\\n",
       "count                              5.290000e+03   \n",
       "mean                               1.373544e+01   \n",
       "std                                3.430484e+00   \n",
       "min                                2.489718e-17   \n",
       "25%                                1.202862e+01   \n",
       "50%                                1.496486e+01   \n",
       "75%                                1.596213e+01   \n",
       "max                                3.126971e+01   \n",
       "\n",
       "       secondary_cleaner.state.floatbank4_b_level  \\\n",
       "count                                 5290.000000   \n",
       "mean                                  -463.349858   \n",
       "std                                     86.189107   \n",
       "min                                   -800.836914   \n",
       "25%                                   -500.323028   \n",
       "50%                                   -499.576513   \n",
       "75%                                   -400.933805   \n",
       "max                                     -6.506986   \n",
       "\n",
       "       secondary_cleaner.state.floatbank5_a_air  \\\n",
       "count                               5290.000000   \n",
       "mean                                  12.804186   \n",
       "std                                    3.026591   \n",
       "min                                    0.069227   \n",
       "25%                                   10.914838   \n",
       "50%                                   12.954182   \n",
       "75%                                   15.097528   \n",
       "max                                   25.258848   \n",
       "\n",
       "       secondary_cleaner.state.floatbank5_a_level  \\\n",
       "count                                 5290.000000   \n",
       "mean                                  -501.329122   \n",
       "std                                     17.951495   \n",
       "min                                   -797.323986   \n",
       "25%                                   -500.726841   \n",
       "50%                                   -499.990332   \n",
       "75%                                   -499.283191   \n",
       "max                                   -244.483566   \n",
       "\n",
       "       secondary_cleaner.state.floatbank5_b_air  \\\n",
       "count                               5290.000000   \n",
       "mean                                   9.881145   \n",
       "std                                    2.868205   \n",
       "min                                    0.528083   \n",
       "25%                                    8.036719   \n",
       "50%                                   10.004301   \n",
       "75%                                   11.997467   \n",
       "max                                   14.086866   \n",
       "\n",
       "       secondary_cleaner.state.floatbank5_b_level  \\\n",
       "count                                 5290.000000   \n",
       "mean                                  -495.663398   \n",
       "std                                     34.535007   \n",
       "min                                   -800.220337   \n",
       "25%                                   -500.194668   \n",
       "50%                                   -499.990535   \n",
       "75%                                   -499.719913   \n",
       "max                                   -137.740004   \n",
       "\n",
       "       secondary_cleaner.state.floatbank6_a_air  \\\n",
       "count                               5290.000000   \n",
       "mean                                  17.304935   \n",
       "std                                    4.536544   \n",
       "min                                   -0.079426   \n",
       "25%                                   13.997317   \n",
       "50%                                   16.014935   \n",
       "75%                                   21.020013   \n",
       "max                                   26.705889   \n",
       "\n",
       "       secondary_cleaner.state.floatbank6_a_level  \n",
       "count                                 5290.000000  \n",
       "mean                                  -501.793193  \n",
       "std                                     39.044215  \n",
       "min                                   -809.741464  \n",
       "25%                                   -500.690984  \n",
       "50%                                   -500.007126  \n",
       "75%                                   -499.373018  \n",
       "max                                   -123.307487  \n",
       "\n",
       "[8 rows x 52 columns]"
      ]
     },
     "metadata": {},
     "output_type": "display_data"
    },
    {
     "data": {
      "text/html": [
       "<div>\n",
       "<style scoped>\n",
       "    .dataframe tbody tr th:only-of-type {\n",
       "        vertical-align: middle;\n",
       "    }\n",
       "\n",
       "    .dataframe tbody tr th {\n",
       "        vertical-align: top;\n",
       "    }\n",
       "\n",
       "    .dataframe thead th {\n",
       "        text-align: right;\n",
       "    }\n",
       "</style>\n",
       "<table border=\"1\" class=\"dataframe\">\n",
       "  <thead>\n",
       "    <tr style=\"text-align: right;\">\n",
       "      <th></th>\n",
       "      <th>final.output.concentrate_ag</th>\n",
       "      <th>final.output.concentrate_pb</th>\n",
       "      <th>final.output.concentrate_sol</th>\n",
       "      <th>final.output.concentrate_au</th>\n",
       "      <th>final.output.recovery</th>\n",
       "      <th>final.output.tail_ag</th>\n",
       "      <th>final.output.tail_pb</th>\n",
       "      <th>final.output.tail_sol</th>\n",
       "      <th>final.output.tail_au</th>\n",
       "      <th>primary_cleaner.input.sulfate</th>\n",
       "      <th>...</th>\n",
       "      <th>secondary_cleaner.state.floatbank4_a_air</th>\n",
       "      <th>secondary_cleaner.state.floatbank4_a_level</th>\n",
       "      <th>secondary_cleaner.state.floatbank4_b_air</th>\n",
       "      <th>secondary_cleaner.state.floatbank4_b_level</th>\n",
       "      <th>secondary_cleaner.state.floatbank5_a_air</th>\n",
       "      <th>secondary_cleaner.state.floatbank5_a_level</th>\n",
       "      <th>secondary_cleaner.state.floatbank5_b_air</th>\n",
       "      <th>secondary_cleaner.state.floatbank5_b_level</th>\n",
       "      <th>secondary_cleaner.state.floatbank6_a_air</th>\n",
       "      <th>secondary_cleaner.state.floatbank6_a_level</th>\n",
       "    </tr>\n",
       "  </thead>\n",
       "  <tbody>\n",
       "    <tr>\n",
       "      <th>count</th>\n",
       "      <td>19438.000000</td>\n",
       "      <td>19438.000000</td>\n",
       "      <td>19228.000000</td>\n",
       "      <td>19439.000000</td>\n",
       "      <td>19439.000000</td>\n",
       "      <td>19438.000000</td>\n",
       "      <td>19338.000000</td>\n",
       "      <td>19433.000000</td>\n",
       "      <td>19439.000000</td>\n",
       "      <td>19415.000000</td>\n",
       "      <td>...</td>\n",
       "      <td>19433.000000</td>\n",
       "      <td>19438.000000</td>\n",
       "      <td>19438.000000</td>\n",
       "      <td>19438.000000</td>\n",
       "      <td>19438.000000</td>\n",
       "      <td>19438.000000</td>\n",
       "      <td>19438.000000</td>\n",
       "      <td>19438.000000</td>\n",
       "      <td>19437.000000</td>\n",
       "      <td>19438.000000</td>\n",
       "    </tr>\n",
       "    <tr>\n",
       "      <th>mean</th>\n",
       "      <td>5.168470</td>\n",
       "      <td>9.978895</td>\n",
       "      <td>9.501224</td>\n",
       "      <td>44.076513</td>\n",
       "      <td>67.050208</td>\n",
       "      <td>9.688589</td>\n",
       "      <td>2.705795</td>\n",
       "      <td>10.583728</td>\n",
       "      <td>3.042467</td>\n",
       "      <td>144.624774</td>\n",
       "      <td>...</td>\n",
       "      <td>18.987674</td>\n",
       "      <td>-485.894516</td>\n",
       "      <td>15.010366</td>\n",
       "      <td>-461.078636</td>\n",
       "      <td>15.694452</td>\n",
       "      <td>-488.684065</td>\n",
       "      <td>12.198224</td>\n",
       "      <td>-487.149827</td>\n",
       "      <td>18.959024</td>\n",
       "      <td>-505.436305</td>\n",
       "    </tr>\n",
       "    <tr>\n",
       "      <th>std</th>\n",
       "      <td>1.372348</td>\n",
       "      <td>1.669240</td>\n",
       "      <td>2.787537</td>\n",
       "      <td>5.129784</td>\n",
       "      <td>10.125840</td>\n",
       "      <td>2.328642</td>\n",
       "      <td>0.949077</td>\n",
       "      <td>2.868782</td>\n",
       "      <td>0.922808</td>\n",
       "      <td>44.464071</td>\n",
       "      <td>...</td>\n",
       "      <td>5.411058</td>\n",
       "      <td>47.758570</td>\n",
       "      <td>4.890228</td>\n",
       "      <td>67.405524</td>\n",
       "      <td>5.510974</td>\n",
       "      <td>34.533396</td>\n",
       "      <td>5.333024</td>\n",
       "      <td>38.347312</td>\n",
       "      <td>5.550498</td>\n",
       "      <td>37.689057</td>\n",
       "    </tr>\n",
       "    <tr>\n",
       "      <th>min</th>\n",
       "      <td>0.000000</td>\n",
       "      <td>0.000000</td>\n",
       "      <td>0.000000</td>\n",
       "      <td>0.000000</td>\n",
       "      <td>0.000000</td>\n",
       "      <td>0.000000</td>\n",
       "      <td>0.000000</td>\n",
       "      <td>0.000000</td>\n",
       "      <td>0.000000</td>\n",
       "      <td>0.003112</td>\n",
       "      <td>...</td>\n",
       "      <td>0.000000</td>\n",
       "      <td>-799.798523</td>\n",
       "      <td>0.000000</td>\n",
       "      <td>-800.836914</td>\n",
       "      <td>-0.372054</td>\n",
       "      <td>-797.323986</td>\n",
       "      <td>0.528083</td>\n",
       "      <td>-800.220337</td>\n",
       "      <td>-0.079426</td>\n",
       "      <td>-809.741464</td>\n",
       "    </tr>\n",
       "    <tr>\n",
       "      <th>25%</th>\n",
       "      <td>4.251240</td>\n",
       "      <td>9.137262</td>\n",
       "      <td>7.722820</td>\n",
       "      <td>43.402215</td>\n",
       "      <td>63.299712</td>\n",
       "      <td>8.062878</td>\n",
       "      <td>2.040119</td>\n",
       "      <td>8.938947</td>\n",
       "      <td>2.461138</td>\n",
       "      <td>114.107029</td>\n",
       "      <td>...</td>\n",
       "      <td>14.975734</td>\n",
       "      <td>-500.704892</td>\n",
       "      <td>11.940294</td>\n",
       "      <td>-500.187742</td>\n",
       "      <td>10.988606</td>\n",
       "      <td>-500.458467</td>\n",
       "      <td>8.971105</td>\n",
       "      <td>-500.129462</td>\n",
       "      <td>14.983037</td>\n",
       "      <td>-500.728067</td>\n",
       "    </tr>\n",
       "    <tr>\n",
       "      <th>50%</th>\n",
       "      <td>5.066094</td>\n",
       "      <td>10.102433</td>\n",
       "      <td>9.218961</td>\n",
       "      <td>45.011244</td>\n",
       "      <td>68.172738</td>\n",
       "      <td>9.743623</td>\n",
       "      <td>2.748730</td>\n",
       "      <td>10.622456</td>\n",
       "      <td>2.984909</td>\n",
       "      <td>143.232103</td>\n",
       "      <td>...</td>\n",
       "      <td>18.017481</td>\n",
       "      <td>-499.837793</td>\n",
       "      <td>14.971014</td>\n",
       "      <td>-499.459786</td>\n",
       "      <td>15.000036</td>\n",
       "      <td>-499.802605</td>\n",
       "      <td>11.019433</td>\n",
       "      <td>-499.935317</td>\n",
       "      <td>19.960541</td>\n",
       "      <td>-500.048400</td>\n",
       "    </tr>\n",
       "    <tr>\n",
       "      <th>75%</th>\n",
       "      <td>5.895527</td>\n",
       "      <td>11.035769</td>\n",
       "      <td>10.947813</td>\n",
       "      <td>46.275313</td>\n",
       "      <td>72.686642</td>\n",
       "      <td>11.134294</td>\n",
       "      <td>3.333216</td>\n",
       "      <td>12.104271</td>\n",
       "      <td>3.571351</td>\n",
       "      <td>175.075656</td>\n",
       "      <td>...</td>\n",
       "      <td>23.012470</td>\n",
       "      <td>-498.249730</td>\n",
       "      <td>19.034162</td>\n",
       "      <td>-400.118106</td>\n",
       "      <td>18.026190</td>\n",
       "      <td>-498.384187</td>\n",
       "      <td>14.019088</td>\n",
       "      <td>-499.436708</td>\n",
       "      <td>24.003170</td>\n",
       "      <td>-499.495378</td>\n",
       "    </tr>\n",
       "    <tr>\n",
       "      <th>max</th>\n",
       "      <td>16.001945</td>\n",
       "      <td>17.031899</td>\n",
       "      <td>19.615720</td>\n",
       "      <td>52.756638</td>\n",
       "      <td>100.000000</td>\n",
       "      <td>19.552149</td>\n",
       "      <td>5.804178</td>\n",
       "      <td>22.317730</td>\n",
       "      <td>8.245022</td>\n",
       "      <td>265.983123</td>\n",
       "      <td>...</td>\n",
       "      <td>30.115735</td>\n",
       "      <td>-245.239184</td>\n",
       "      <td>31.269706</td>\n",
       "      <td>-6.506986</td>\n",
       "      <td>43.709931</td>\n",
       "      <td>-244.483566</td>\n",
       "      <td>27.926001</td>\n",
       "      <td>-137.740004</td>\n",
       "      <td>32.188906</td>\n",
       "      <td>-104.427459</td>\n",
       "    </tr>\n",
       "  </tbody>\n",
       "</table>\n",
       "<p>8 rows × 86 columns</p>\n",
       "</div>"
      ],
      "text/plain": [
       "       final.output.concentrate_ag  final.output.concentrate_pb  \\\n",
       "count                 19438.000000                 19438.000000   \n",
       "mean                      5.168470                     9.978895   \n",
       "std                       1.372348                     1.669240   \n",
       "min                       0.000000                     0.000000   \n",
       "25%                       4.251240                     9.137262   \n",
       "50%                       5.066094                    10.102433   \n",
       "75%                       5.895527                    11.035769   \n",
       "max                      16.001945                    17.031899   \n",
       "\n",
       "       final.output.concentrate_sol  final.output.concentrate_au  \\\n",
       "count                  19228.000000                 19439.000000   \n",
       "mean                       9.501224                    44.076513   \n",
       "std                        2.787537                     5.129784   \n",
       "min                        0.000000                     0.000000   \n",
       "25%                        7.722820                    43.402215   \n",
       "50%                        9.218961                    45.011244   \n",
       "75%                       10.947813                    46.275313   \n",
       "max                       19.615720                    52.756638   \n",
       "\n",
       "       final.output.recovery  final.output.tail_ag  final.output.tail_pb  \\\n",
       "count           19439.000000          19438.000000          19338.000000   \n",
       "mean               67.050208              9.688589              2.705795   \n",
       "std                10.125840              2.328642              0.949077   \n",
       "min                 0.000000              0.000000              0.000000   \n",
       "25%                63.299712              8.062878              2.040119   \n",
       "50%                68.172738              9.743623              2.748730   \n",
       "75%                72.686642             11.134294              3.333216   \n",
       "max               100.000000             19.552149              5.804178   \n",
       "\n",
       "       final.output.tail_sol  final.output.tail_au  \\\n",
       "count           19433.000000          19439.000000   \n",
       "mean               10.583728              3.042467   \n",
       "std                 2.868782              0.922808   \n",
       "min                 0.000000              0.000000   \n",
       "25%                 8.938947              2.461138   \n",
       "50%                10.622456              2.984909   \n",
       "75%                12.104271              3.571351   \n",
       "max                22.317730              8.245022   \n",
       "\n",
       "       primary_cleaner.input.sulfate  ...  \\\n",
       "count                   19415.000000  ...   \n",
       "mean                      144.624774  ...   \n",
       "std                        44.464071  ...   \n",
       "min                         0.003112  ...   \n",
       "25%                       114.107029  ...   \n",
       "50%                       143.232103  ...   \n",
       "75%                       175.075656  ...   \n",
       "max                       265.983123  ...   \n",
       "\n",
       "       secondary_cleaner.state.floatbank4_a_air  \\\n",
       "count                              19433.000000   \n",
       "mean                                  18.987674   \n",
       "std                                    5.411058   \n",
       "min                                    0.000000   \n",
       "25%                                   14.975734   \n",
       "50%                                   18.017481   \n",
       "75%                                   23.012470   \n",
       "max                                   30.115735   \n",
       "\n",
       "       secondary_cleaner.state.floatbank4_a_level  \\\n",
       "count                                19438.000000   \n",
       "mean                                  -485.894516   \n",
       "std                                     47.758570   \n",
       "min                                   -799.798523   \n",
       "25%                                   -500.704892   \n",
       "50%                                   -499.837793   \n",
       "75%                                   -498.249730   \n",
       "max                                   -245.239184   \n",
       "\n",
       "       secondary_cleaner.state.floatbank4_b_air  \\\n",
       "count                              19438.000000   \n",
       "mean                                  15.010366   \n",
       "std                                    4.890228   \n",
       "min                                    0.000000   \n",
       "25%                                   11.940294   \n",
       "50%                                   14.971014   \n",
       "75%                                   19.034162   \n",
       "max                                   31.269706   \n",
       "\n",
       "       secondary_cleaner.state.floatbank4_b_level  \\\n",
       "count                                19438.000000   \n",
       "mean                                  -461.078636   \n",
       "std                                     67.405524   \n",
       "min                                   -800.836914   \n",
       "25%                                   -500.187742   \n",
       "50%                                   -499.459786   \n",
       "75%                                   -400.118106   \n",
       "max                                     -6.506986   \n",
       "\n",
       "       secondary_cleaner.state.floatbank5_a_air  \\\n",
       "count                              19438.000000   \n",
       "mean                                  15.694452   \n",
       "std                                    5.510974   \n",
       "min                                   -0.372054   \n",
       "25%                                   10.988606   \n",
       "50%                                   15.000036   \n",
       "75%                                   18.026190   \n",
       "max                                   43.709931   \n",
       "\n",
       "       secondary_cleaner.state.floatbank5_a_level  \\\n",
       "count                                19438.000000   \n",
       "mean                                  -488.684065   \n",
       "std                                     34.533396   \n",
       "min                                   -797.323986   \n",
       "25%                                   -500.458467   \n",
       "50%                                   -499.802605   \n",
       "75%                                   -498.384187   \n",
       "max                                   -244.483566   \n",
       "\n",
       "       secondary_cleaner.state.floatbank5_b_air  \\\n",
       "count                              19438.000000   \n",
       "mean                                  12.198224   \n",
       "std                                    5.333024   \n",
       "min                                    0.528083   \n",
       "25%                                    8.971105   \n",
       "50%                                   11.019433   \n",
       "75%                                   14.019088   \n",
       "max                                   27.926001   \n",
       "\n",
       "       secondary_cleaner.state.floatbank5_b_level  \\\n",
       "count                                19438.000000   \n",
       "mean                                  -487.149827   \n",
       "std                                     38.347312   \n",
       "min                                   -800.220337   \n",
       "25%                                   -500.129462   \n",
       "50%                                   -499.935317   \n",
       "75%                                   -499.436708   \n",
       "max                                   -137.740004   \n",
       "\n",
       "       secondary_cleaner.state.floatbank6_a_air  \\\n",
       "count                              19437.000000   \n",
       "mean                                  18.959024   \n",
       "std                                    5.550498   \n",
       "min                                   -0.079426   \n",
       "25%                                   14.983037   \n",
       "50%                                   19.960541   \n",
       "75%                                   24.003170   \n",
       "max                                   32.188906   \n",
       "\n",
       "       secondary_cleaner.state.floatbank6_a_level  \n",
       "count                                19438.000000  \n",
       "mean                                  -505.436305  \n",
       "std                                     37.689057  \n",
       "min                                   -809.741464  \n",
       "25%                                   -500.728067  \n",
       "50%                                   -500.048400  \n",
       "75%                                   -499.495378  \n",
       "max                                   -104.427459  \n",
       "\n",
       "[8 rows x 86 columns]"
      ]
     },
     "metadata": {},
     "output_type": "display_data"
    }
   ],
   "source": [
    "display(df_train.describe())\n",
    "display(df_test.describe())\n",
    "display(df_full.describe())"
   ]
  },
  {
   "cell_type": "code",
   "execution_count": 6,
   "id": "21e07bc9",
   "metadata": {},
   "outputs": [
    {
     "data": {
      "text/plain": [
       "final.output.concentrate_ag                     1\n",
       "final.output.concentrate_pb                     1\n",
       "final.output.concentrate_sol                  211\n",
       "final.output.concentrate_au                     0\n",
       "final.output.recovery                           0\n",
       "                                             ... \n",
       "secondary_cleaner.state.floatbank5_a_level      1\n",
       "secondary_cleaner.state.floatbank5_b_air        1\n",
       "secondary_cleaner.state.floatbank5_b_level      1\n",
       "secondary_cleaner.state.floatbank6_a_air        2\n",
       "secondary_cleaner.state.floatbank6_a_level      1\n",
       "Length: 86, dtype: int64"
      ]
     },
     "metadata": {},
     "output_type": "display_data"
    },
    {
     "data": {
      "text/plain": [
       "primary_cleaner.input.sulfate                  4\n",
       "primary_cleaner.input.depressant               5\n",
       "primary_cleaner.input.feed_size                0\n",
       "primary_cleaner.input.xanthate                 4\n",
       "primary_cleaner.state.floatbank8_a_air         0\n",
       "primary_cleaner.state.floatbank8_a_level       0\n",
       "primary_cleaner.state.floatbank8_b_air         0\n",
       "primary_cleaner.state.floatbank8_b_level       0\n",
       "primary_cleaner.state.floatbank8_c_air         0\n",
       "primary_cleaner.state.floatbank8_c_level       0\n",
       "primary_cleaner.state.floatbank8_d_air         0\n",
       "primary_cleaner.state.floatbank8_d_level       0\n",
       "rougher.input.feed_ag                          0\n",
       "rougher.input.feed_pb                          0\n",
       "rougher.input.feed_rate                        3\n",
       "rougher.input.feed_size                        1\n",
       "rougher.input.feed_sol                        21\n",
       "rougher.input.feed_au                          0\n",
       "rougher.input.floatbank10_sulfate              5\n",
       "rougher.input.floatbank10_xanthate             0\n",
       "rougher.input.floatbank11_sulfate              8\n",
       "rougher.input.floatbank11_xanthate            25\n",
       "rougher.state.floatbank10_a_air                0\n",
       "rougher.state.floatbank10_a_level              0\n",
       "rougher.state.floatbank10_b_air                0\n",
       "rougher.state.floatbank10_b_level              0\n",
       "rougher.state.floatbank10_c_air                0\n",
       "rougher.state.floatbank10_c_level              0\n",
       "rougher.state.floatbank10_d_air                0\n",
       "rougher.state.floatbank10_d_level              0\n",
       "rougher.state.floatbank10_e_air                0\n",
       "rougher.state.floatbank10_e_level              0\n",
       "rougher.state.floatbank10_f_air                0\n",
       "rougher.state.floatbank10_f_level              0\n",
       "secondary_cleaner.state.floatbank2_a_air       3\n",
       "secondary_cleaner.state.floatbank2_a_level     0\n",
       "secondary_cleaner.state.floatbank2_b_air       2\n",
       "secondary_cleaner.state.floatbank2_b_level     0\n",
       "secondary_cleaner.state.floatbank3_a_air       9\n",
       "secondary_cleaner.state.floatbank3_a_level     0\n",
       "secondary_cleaner.state.floatbank3_b_air       0\n",
       "secondary_cleaner.state.floatbank3_b_level     0\n",
       "secondary_cleaner.state.floatbank4_a_air       0\n",
       "secondary_cleaner.state.floatbank4_a_level     0\n",
       "secondary_cleaner.state.floatbank4_b_air       0\n",
       "secondary_cleaner.state.floatbank4_b_level     0\n",
       "secondary_cleaner.state.floatbank5_a_air       0\n",
       "secondary_cleaner.state.floatbank5_a_level     0\n",
       "secondary_cleaner.state.floatbank5_b_air       0\n",
       "secondary_cleaner.state.floatbank5_b_level     0\n",
       "secondary_cleaner.state.floatbank6_a_air       0\n",
       "secondary_cleaner.state.floatbank6_a_level     0\n",
       "dtype: int64"
      ]
     },
     "metadata": {},
     "output_type": "display_data"
    },
    {
     "data": {
      "text/plain": [
       "final.output.concentrate_ag                     1\n",
       "final.output.concentrate_pb                     1\n",
       "final.output.concentrate_sol                  211\n",
       "final.output.concentrate_au                     0\n",
       "final.output.recovery                           0\n",
       "                                             ... \n",
       "secondary_cleaner.state.floatbank5_a_level      1\n",
       "secondary_cleaner.state.floatbank5_b_air        1\n",
       "secondary_cleaner.state.floatbank5_b_level      1\n",
       "secondary_cleaner.state.floatbank6_a_air        2\n",
       "secondary_cleaner.state.floatbank6_a_level      1\n",
       "Length: 86, dtype: int64"
      ]
     },
     "metadata": {},
     "output_type": "display_data"
    }
   ],
   "source": [
    "display(df_train.isnull().sum())\n",
    "display(df_test.isnull().sum())\n",
    "display(df_full.isnull().sum())"
   ]
  },
  {
   "cell_type": "code",
   "execution_count": 7,
   "id": "2af711d6",
   "metadata": {},
   "outputs": [
    {
     "data": {
      "text/plain": [
       "secondary_cleaner.output.tail_sol           11.343558\n",
       "rougher.state.floatbank10_e_air              3.081490\n",
       "rougher.input.floatbank11_xanthate           3.024949\n",
       "primary_cleaner.output.concentrate_sol       2.021344\n",
       "secondary_cleaner.state.floatbank2_a_air     1.533677\n",
       "                                              ...    \n",
       "rougher.state.floatbank10_d_air              0.000000\n",
       "rougher.output.concentrate_au                0.000000\n",
       "rougher.output.recovery                      0.000000\n",
       "rougher.output.tail_pb                       0.000000\n",
       "rougher.output.concentrate_ag                0.000000\n",
       "Length: 86, dtype: float64"
      ]
     },
     "execution_count": 7,
     "metadata": {},
     "output_type": "execute_result"
    }
   ],
   "source": [
    "df_train.isnull().sum().sort_values(ascending = False) / df_train.shape[0] * 100"
   ]
  },
  {
   "cell_type": "code",
   "execution_count": 8,
   "id": "8c17bff4",
   "metadata": {},
   "outputs": [
    {
     "data": {
      "text/plain": [
       "rougher.input.floatbank11_xanthate            0.472590\n",
       "rougher.input.feed_sol                        0.396975\n",
       "secondary_cleaner.state.floatbank3_a_air      0.170132\n",
       "rougher.input.floatbank11_sulfate             0.151229\n",
       "primary_cleaner.input.depressant              0.094518\n",
       "rougher.input.floatbank10_sulfate             0.094518\n",
       "primary_cleaner.input.sulfate                 0.075614\n",
       "primary_cleaner.input.xanthate                0.075614\n",
       "rougher.input.feed_rate                       0.056711\n",
       "secondary_cleaner.state.floatbank2_a_air      0.056711\n",
       "secondary_cleaner.state.floatbank2_b_air      0.037807\n",
       "rougher.input.feed_size                       0.018904\n",
       "secondary_cleaner.state.floatbank3_b_level    0.000000\n",
       "secondary_cleaner.state.floatbank3_b_air      0.000000\n",
       "rougher.state.floatbank10_f_air               0.000000\n",
       "rougher.state.floatbank10_f_level             0.000000\n",
       "secondary_cleaner.state.floatbank6_a_air      0.000000\n",
       "secondary_cleaner.state.floatbank5_b_level    0.000000\n",
       "secondary_cleaner.state.floatbank2_a_level    0.000000\n",
       "secondary_cleaner.state.floatbank5_b_air      0.000000\n",
       "secondary_cleaner.state.floatbank2_b_level    0.000000\n",
       "secondary_cleaner.state.floatbank5_a_level    0.000000\n",
       "secondary_cleaner.state.floatbank5_a_air      0.000000\n",
       "secondary_cleaner.state.floatbank4_b_level    0.000000\n",
       "secondary_cleaner.state.floatbank4_b_air      0.000000\n",
       "secondary_cleaner.state.floatbank3_a_level    0.000000\n",
       "secondary_cleaner.state.floatbank4_a_level    0.000000\n",
       "rougher.state.floatbank10_e_air               0.000000\n",
       "secondary_cleaner.state.floatbank4_a_air      0.000000\n",
       "rougher.state.floatbank10_e_level             0.000000\n",
       "rougher.state.floatbank10_c_air               0.000000\n",
       "rougher.state.floatbank10_d_level             0.000000\n",
       "primary_cleaner.state.floatbank8_d_level      0.000000\n",
       "primary_cleaner.input.feed_size               0.000000\n",
       "primary_cleaner.state.floatbank8_a_air        0.000000\n",
       "primary_cleaner.state.floatbank8_a_level      0.000000\n",
       "primary_cleaner.state.floatbank8_b_air        0.000000\n",
       "primary_cleaner.state.floatbank8_b_level      0.000000\n",
       "primary_cleaner.state.floatbank8_c_air        0.000000\n",
       "primary_cleaner.state.floatbank8_c_level      0.000000\n",
       "primary_cleaner.state.floatbank8_d_air        0.000000\n",
       "rougher.input.feed_ag                         0.000000\n",
       "rougher.state.floatbank10_d_air               0.000000\n",
       "rougher.input.feed_pb                         0.000000\n",
       "rougher.input.feed_au                         0.000000\n",
       "rougher.input.floatbank10_xanthate            0.000000\n",
       "rougher.state.floatbank10_a_air               0.000000\n",
       "rougher.state.floatbank10_a_level             0.000000\n",
       "rougher.state.floatbank10_b_air               0.000000\n",
       "rougher.state.floatbank10_b_level             0.000000\n",
       "rougher.state.floatbank10_c_level             0.000000\n",
       "secondary_cleaner.state.floatbank6_a_level    0.000000\n",
       "dtype: float64"
      ]
     },
     "execution_count": 8,
     "metadata": {},
     "output_type": "execute_result"
    }
   ],
   "source": [
    "df_test.isnull().sum().sort_values(ascending = False) / df_test.shape[0] * 100"
   ]
  },
  {
   "cell_type": "code",
   "execution_count": 9,
   "id": "85d836c8",
   "metadata": {},
   "outputs": [
    {
     "data": {
      "text/plain": [
       "secondary_cleaner.output.tail_sol           8.992232\n",
       "rougher.input.floatbank11_xanthate          2.330367\n",
       "rougher.state.floatbank10_e_air             2.242914\n",
       "primary_cleaner.output.concentrate_sol      1.903390\n",
       "secondary_cleaner.state.floatbank2_a_air    1.131745\n",
       "                                              ...   \n",
       "rougher.state.floatbank10_d_level           0.000000\n",
       "rougher.state.floatbank10_d_air             0.000000\n",
       "rougher.output.tail_sol                     0.000000\n",
       "rougher.output.tail_au                      0.000000\n",
       "rougher.output.concentrate_ag               0.000000\n",
       "Length: 86, dtype: float64"
      ]
     },
     "execution_count": 9,
     "metadata": {},
     "output_type": "execute_result"
    }
   ],
   "source": [
    "df_full.isnull().sum().sort_values(ascending = False) / df_full.shape[0] * 100"
   ]
  },
  {
   "cell_type": "code",
   "execution_count": 10,
   "id": "2e210dc0",
   "metadata": {},
   "outputs": [
    {
     "data": {
      "text/plain": [
       "0"
      ]
     },
     "metadata": {},
     "output_type": "display_data"
    },
    {
     "data": {
      "text/plain": [
       "0"
      ]
     },
     "metadata": {},
     "output_type": "display_data"
    },
    {
     "data": {
      "text/plain": [
       "0"
      ]
     },
     "metadata": {},
     "output_type": "display_data"
    }
   ],
   "source": [
    "display(df_train.duplicated().sum())\n",
    "display(df_test.duplicated().sum())\n",
    "display(df_full.duplicated().sum())"
   ]
  },
  {
   "cell_type": "markdown",
   "id": "d605d991",
   "metadata": {},
   "source": [
    "**В данных имеются пропуски:**\n",
    "\n",
    " - df_train: 22%\n",
    " - df_test:  ~1%\n",
    " - df_full:  17%\n",
    "\n",
    "Дубликатов в данных не найдено"
   ]
  },
  {
   "cell_type": "markdown",
   "id": "8cf116a2",
   "metadata": {},
   "source": [
    "### Проверка эффективности обогащения на правильность расчета"
   ]
  },
  {
   "cell_type": "markdown",
   "id": "401215a9",
   "metadata": {},
   "source": [
    "Эффективность обогащения рассчитывается по формуле:\n",
    "\n",
    "R = 100 * (C*(F-T)) / (F*(C-T)\n",
    "\n",
    "где, \n",
    "\n",
    "- C — доля золота в концентрате после флотации/очистки\n",
    "- F — доля золота в сырье/концентрате до флотации/очистки\n",
    "- T — доля золота в отвальных хвостах после флотации/очистки"
   ]
  },
  {
   "cell_type": "code",
   "execution_count": 11,
   "id": "17770ee1",
   "metadata": {},
   "outputs": [],
   "source": [
    "#Напишем функциб с помощью которой расчитаем эффективность\n",
    "F = df_train['rougher.input.feed_au']\n",
    "C = df_train['rougher.output.concentrate_au']\n",
    "T = df_train['rougher.output.tail_au']"
   ]
  },
  {
   "cell_type": "code",
   "execution_count": 12,
   "id": "575318d4",
   "metadata": {},
   "outputs": [
    {
     "name": "stdout",
     "output_type": "stream",
     "text": [
      "date\n",
      "2016-01-15 00:00:00    87.107763\n",
      "2016-01-15 01:00:00    86.843261\n",
      "2016-01-15 02:00:00    86.842308\n",
      "2016-01-15 03:00:00    87.226430\n",
      "2016-01-15 04:00:00    86.688794\n",
      "                         ...    \n",
      "2018-08-18 06:59:59    89.574376\n",
      "2018-08-18 07:59:59    87.724007\n",
      "2018-08-18 08:59:59    88.890579\n",
      "2018-08-18 09:59:59    89.858126\n",
      "2018-08-18 10:59:59    89.514960\n",
      "Length: 14149, dtype: float64\n"
     ]
    }
   ],
   "source": [
    "recovery = C*(F-T)/(F*(C-T))*100\n",
    "print(recovery)"
   ]
  },
  {
   "cell_type": "code",
   "execution_count": 13,
   "id": "ca4fa674",
   "metadata": {},
   "outputs": [
    {
     "name": "stdout",
     "output_type": "stream",
     "text": [
      "MAE: 9.73512347450521e-15\n"
     ]
    }
   ],
   "source": [
    "error = mean_absolute_error(df_train['rougher.output.recovery'], recovery)\n",
    "print('MAE:', error)"
   ]
  },
  {
   "cell_type": "markdown",
   "id": "253ee45f",
   "metadata": {},
   "source": [
    "Ошибка очень низкая, значит эффективность обогощения была расчитана верно"
   ]
  },
  {
   "cell_type": "markdown",
   "id": "48eb051f",
   "metadata": {},
   "source": [
    "### Анализ признаков, недоступных в тестовой выборке"
   ]
  },
  {
   "cell_type": "markdown",
   "id": "6087405a",
   "metadata": {},
   "source": [
    "Рассмотрим какие столбцы (призаки) отличаются в тестовой и обучающей выборке"
   ]
  },
  {
   "cell_type": "code",
   "execution_count": 14,
   "id": "2e3fb53f",
   "metadata": {
    "scrolled": true
   },
   "outputs": [
    {
     "data": {
      "text/plain": [
       "{'final.output.concentrate_ag',\n",
       " 'final.output.concentrate_au',\n",
       " 'final.output.concentrate_pb',\n",
       " 'final.output.concentrate_sol',\n",
       " 'final.output.recovery',\n",
       " 'final.output.tail_ag',\n",
       " 'final.output.tail_au',\n",
       " 'final.output.tail_pb',\n",
       " 'final.output.tail_sol',\n",
       " 'primary_cleaner.output.concentrate_ag',\n",
       " 'primary_cleaner.output.concentrate_au',\n",
       " 'primary_cleaner.output.concentrate_pb',\n",
       " 'primary_cleaner.output.concentrate_sol',\n",
       " 'primary_cleaner.output.tail_ag',\n",
       " 'primary_cleaner.output.tail_au',\n",
       " 'primary_cleaner.output.tail_pb',\n",
       " 'primary_cleaner.output.tail_sol',\n",
       " 'rougher.calculation.au_pb_ratio',\n",
       " 'rougher.calculation.floatbank10_sulfate_to_au_feed',\n",
       " 'rougher.calculation.floatbank11_sulfate_to_au_feed',\n",
       " 'rougher.calculation.sulfate_to_au_concentrate',\n",
       " 'rougher.output.concentrate_ag',\n",
       " 'rougher.output.concentrate_au',\n",
       " 'rougher.output.concentrate_pb',\n",
       " 'rougher.output.concentrate_sol',\n",
       " 'rougher.output.recovery',\n",
       " 'rougher.output.tail_ag',\n",
       " 'rougher.output.tail_au',\n",
       " 'rougher.output.tail_pb',\n",
       " 'rougher.output.tail_sol',\n",
       " 'secondary_cleaner.output.tail_ag',\n",
       " 'secondary_cleaner.output.tail_au',\n",
       " 'secondary_cleaner.output.tail_pb',\n",
       " 'secondary_cleaner.output.tail_sol'}"
      ]
     },
     "execution_count": 14,
     "metadata": {},
     "output_type": "execute_result"
    }
   ],
   "source": [
    "#сравним два сета данных между собой. Метод вернет нам столбцы, которых нет в тестовой выборке.\n",
    "missed_test_columns = set(list(df_train.columns.values))-set(list(df_test.columns.values))\n",
    "missed_test_columns"
   ]
  },
  {
   "cell_type": "code",
   "execution_count": 15,
   "id": "458e1f60",
   "metadata": {},
   "outputs": [
    {
     "data": {
      "text/plain": [
       "['primary_cleaner.input.sulfate',\n",
       " 'primary_cleaner.input.depressant',\n",
       " 'primary_cleaner.input.feed_size',\n",
       " 'primary_cleaner.input.xanthate',\n",
       " 'primary_cleaner.state.floatbank8_a_air',\n",
       " 'primary_cleaner.state.floatbank8_a_level',\n",
       " 'primary_cleaner.state.floatbank8_b_air',\n",
       " 'primary_cleaner.state.floatbank8_b_level',\n",
       " 'primary_cleaner.state.floatbank8_c_air',\n",
       " 'primary_cleaner.state.floatbank8_c_level',\n",
       " 'primary_cleaner.state.floatbank8_d_air',\n",
       " 'primary_cleaner.state.floatbank8_d_level',\n",
       " 'rougher.input.feed_ag',\n",
       " 'rougher.input.feed_pb',\n",
       " 'rougher.input.feed_rate',\n",
       " 'rougher.input.feed_size',\n",
       " 'rougher.input.feed_sol',\n",
       " 'rougher.input.feed_au',\n",
       " 'rougher.input.floatbank10_sulfate',\n",
       " 'rougher.input.floatbank10_xanthate',\n",
       " 'rougher.input.floatbank11_sulfate',\n",
       " 'rougher.input.floatbank11_xanthate',\n",
       " 'rougher.state.floatbank10_a_air',\n",
       " 'rougher.state.floatbank10_a_level',\n",
       " 'rougher.state.floatbank10_b_air',\n",
       " 'rougher.state.floatbank10_b_level',\n",
       " 'rougher.state.floatbank10_c_air',\n",
       " 'rougher.state.floatbank10_c_level',\n",
       " 'rougher.state.floatbank10_d_air',\n",
       " 'rougher.state.floatbank10_d_level',\n",
       " 'rougher.state.floatbank10_e_air',\n",
       " 'rougher.state.floatbank10_e_level',\n",
       " 'rougher.state.floatbank10_f_air',\n",
       " 'rougher.state.floatbank10_f_level',\n",
       " 'secondary_cleaner.state.floatbank2_a_air',\n",
       " 'secondary_cleaner.state.floatbank2_a_level',\n",
       " 'secondary_cleaner.state.floatbank2_b_air',\n",
       " 'secondary_cleaner.state.floatbank2_b_level',\n",
       " 'secondary_cleaner.state.floatbank3_a_air',\n",
       " 'secondary_cleaner.state.floatbank3_a_level',\n",
       " 'secondary_cleaner.state.floatbank3_b_air',\n",
       " 'secondary_cleaner.state.floatbank3_b_level',\n",
       " 'secondary_cleaner.state.floatbank4_a_air',\n",
       " 'secondary_cleaner.state.floatbank4_a_level',\n",
       " 'secondary_cleaner.state.floatbank4_b_air',\n",
       " 'secondary_cleaner.state.floatbank4_b_level',\n",
       " 'secondary_cleaner.state.floatbank5_a_air',\n",
       " 'secondary_cleaner.state.floatbank5_a_level',\n",
       " 'secondary_cleaner.state.floatbank5_b_air',\n",
       " 'secondary_cleaner.state.floatbank5_b_level',\n",
       " 'secondary_cleaner.state.floatbank6_a_air',\n",
       " 'secondary_cleaner.state.floatbank6_a_level']"
      ]
     },
     "execution_count": 15,
     "metadata": {},
     "output_type": "execute_result"
    }
   ],
   "source": [
    "#Определлим какие признаки в двух сетах одинаковые\n",
    "[i for i in list(df_train.columns) if (i in list(df_test.columns))]"
   ]
  },
  {
   "cell_type": "markdown",
   "id": "0db73c61",
   "metadata": {},
   "source": [
    "**Опишем сходства и различия в сетах данных df_train и df_test:**\n",
    "\n",
    "Общие признаки:\n",
    " - date\n",
    " - primary_cleaner.input  - первичная очистка c параметрами сырья\n",
    " - primary_cleaner.state - первичная очистка c параметрами, характеризующими текущее состояние этапа\n",
    " - rougher.input - флотация с параметрами сырья\n",
    " - rougher.state - флотация c параметрами, характеризующими текущее состояние этапа\n",
    " - secondary_cleaner.state - вторичная очистка c параметрами, характеризующими текущее состояние этапа\n",
    " \n",
    "Признаки которых нет в тестовой выборке:\n",
    "\n",
    " - final.output - финальные характеристики с параметрами продукта\n",
    " - primary_cleaner.output - первичная очистка с параметрами продукта\n",
    " - rougher.calculated -  флотация с расчетными характеристиками\n",
    " - rougher.output - флотация с параметрами продукта\n",
    " - secondary_cleaner.output - вторичная очистка с параметрами продукта\n",
    " \n",
    " \n",
    " так же в тестовой выборке отсутствуют целевые признаки дла каждого этапа 'rougher.output.recovery', 'rougher.calculated.recovery', 'rougher.output.recovery' \n",
    " \n",
    "  **Эти данные недоступны в начале протекания технологического процесса и становятся известны на более поздней стадии**"
   ]
  },
  {
   "cell_type": "markdown",
   "id": "41eef48a",
   "metadata": {},
   "source": [
    "### Предобработка данных"
   ]
  },
  {
   "cell_type": "markdown",
   "id": "2f4f19a1",
   "metadata": {},
   "source": [
    "Ранее мы определили, колличество пропусков в данных:\n",
    "\n",
    " - df_train: 22%\n",
    " - df_test:  ~1%\n",
    " - df_full:  17%\n",
    " \n",
    "т.к восстановить эти пропуски у нас нет возможности и заменить их медианными или среднеми значениями тоже, то мы их просто восстановим основываясь на значениях ближайших строк. т.к данные в таблице расположены по времени, и значения соседних объектов мало отличаются друг от друга"
   ]
  },
  {
   "cell_type": "code",
   "execution_count": 16,
   "id": "fa6bf277",
   "metadata": {},
   "outputs": [],
   "source": [
    "df_train = df_train.fillna(method='ffill')\n",
    "df_test = df_test.fillna(method='ffill')\n",
    "df_full = df_full.fillna(method='ffill')"
   ]
  },
  {
   "cell_type": "code",
   "execution_count": 17,
   "id": "40c70d45",
   "metadata": {},
   "outputs": [
    {
     "data": {
      "text/plain": [
       "14149"
      ]
     },
     "metadata": {},
     "output_type": "display_data"
    },
    {
     "data": {
      "text/plain": [
       "5290"
      ]
     },
     "metadata": {},
     "output_type": "display_data"
    },
    {
     "data": {
      "text/plain": [
       "19439"
      ]
     },
     "metadata": {},
     "output_type": "display_data"
    }
   ],
   "source": [
    "#Проверим размер данных\n",
    "display(df_train.shape[0])\n",
    "display(df_test.shape[0])\n",
    "display(df_full.shape[0])"
   ]
  },
  {
   "cell_type": "code",
   "execution_count": 18,
   "id": "32c6776c",
   "metadata": {},
   "outputs": [],
   "source": [
    "#Добавляем в test целевые признаки\n",
    "df_test = df_test.merge(df_full[['rougher.output.recovery', 'final.output.recovery']], on = 'date', how = 'left')"
   ]
  },
  {
   "cell_type": "code",
   "execution_count": 19,
   "id": "17331ee1",
   "metadata": {},
   "outputs": [
    {
     "data": {
      "text/plain": [
       "(5290, 54)"
      ]
     },
     "metadata": {},
     "output_type": "display_data"
    },
    {
     "data": {
      "text/plain": [
       "(14149, 86)"
      ]
     },
     "metadata": {},
     "output_type": "display_data"
    }
   ],
   "source": [
    "features_rough_concentrate = [\n",
    "    'rougher.output.concentrate_au',\n",
    "    'rougher.output.concentrate_ag',\n",
    "    'rougher.output.concentrate_pb',\n",
    "    'rougher.output.concentrate_sol']\n",
    "\n",
    "features_input_concentrate = [\n",
    "    'rougher.input.feed_au',\n",
    "    'rougher.input.feed_ag',\n",
    "    'rougher.input.feed_pb',\n",
    "    'rougher.input.feed_sol']\n",
    "\n",
    "features_final_concentrate = [\n",
    "    'final.output.concentrate_au',\n",
    "    'final.output.concentrate_ag',\n",
    "    'final.output.concentrate_pb',\n",
    "    'final.output.concentrate_sol']\n",
    "\n",
    "display(df_test.shape)\n",
    "display(df_train.shape)"
   ]
  },
  {
   "cell_type": "markdown",
   "id": "79fe3a42",
   "metadata": {},
   "source": [
    "Дубликатов в данных нет, поэтому можно переходить к анализу"
   ]
  },
  {
   "cell_type": "markdown",
   "id": "4c948c82",
   "metadata": {},
   "source": [
    "**Промежуточный вывод:**"
   ]
  },
  {
   "cell_type": "markdown",
   "id": "7819fde0",
   "metadata": {},
   "source": [
    "- Данные успешно загружены и проанализированы. Данные соответствуют описанию, дубликатов нет.\n",
    "- Показатель эффективности обогащения рассчитан корректно.\n",
    "- Для актуальных признаков были заполнены пропуски на основе имеющихся исторических данных.\n",
    "- В тестовую выборку добавлены целевые признаки"
   ]
  },
  {
   "cell_type": "code",
   "execution_count": 20,
   "id": "7e51508a",
   "metadata": {},
   "outputs": [
    {
     "name": "stdout",
     "output_type": "stream",
     "text": [
      "В обучающей выборке : 14149 строк и 86 признаков\n",
      "В тестовой выборке: 5290 строк и 54 признаков\n"
     ]
    }
   ],
   "source": [
    "print('В обучающей выборке : {} строк и {} признаков'.format(df_train.shape[0],df_train.shape[1]))\n",
    "print('В тестовой выборке: {} строк и {} признаков'.format(df_test.shape[0], df_test.shape[1]))"
   ]
  },
  {
   "cell_type": "markdown",
   "id": "aba83244",
   "metadata": {},
   "source": [
    "    "
   ]
  },
  {
   "cell_type": "markdown",
   "id": "a954371d",
   "metadata": {},
   "source": [
    "## Анализ данных"
   ]
  },
  {
   "cell_type": "markdown",
   "id": "2a352e73",
   "metadata": {},
   "source": [
    "### Как меняется концентрация металлов (Au, Ag, Pb) на различных этапах очистки"
   ]
  },
  {
   "cell_type": "markdown",
   "id": "51a219a3",
   "metadata": {},
   "source": [
    "Определим какие стадии есть:\n",
    "\n",
    "- 'rougher.input.feed'\n",
    "- 'rougher.output.concentrate'\n",
    "- 'primary_cleaner.output.concentrate'\n",
    "- 'final.output.concentrate'"
   ]
  },
  {
   "cell_type": "code",
   "execution_count": 21,
   "id": "7f9e03bd",
   "metadata": {},
   "outputs": [],
   "source": [
    "stage_list = ['rougher.input.feed', 'rougher.output.concentrate', 'primary_cleaner.output.concentrate', 'final.output.concentrate']\n",
    "\n",
    "metal_list = ['au', 'pb', 'ag']"
   ]
  },
  {
   "cell_type": "code",
   "execution_count": 22,
   "id": "8a6ef660",
   "metadata": {},
   "outputs": [],
   "source": [
    "def display_hist(data, metal):\n",
    "    data.plot.hist(bins=100, alpha=0.65, figsize= (12,7))\n",
    "    plt.title(f'Концентрация {metal} на всех стадиях')\n",
    "    plt.legend(['Сырье', 'Черновой концентрат', 'Первичная очистка', 'Финальный концентрат'])\n",
    "    plt.xlabel(f'Распределение концентрации {metal}')\n",
    "    plt.ylabel('Объем')\n",
    "    plt.show()"
   ]
  },
  {
   "cell_type": "code",
   "execution_count": 23,
   "id": "d5697fb9",
   "metadata": {},
   "outputs": [
    {
     "data": {
      "image/png": "[encoded data removed]",
      "text/plain": [
       "<Figure size 864x504 with 1 Axes>"
      ]
     },
     "metadata": {},
     "output_type": "display_data"
    },
    {
     "data": {
      "image/png": "[encoded data removed]",
      "text/plain": [
       "<Figure size 864x504 with 1 Axes>"
      ]
     },
     "metadata": {},
     "output_type": "display_data"
    },
    {
     "data": {
      "image/png": "[encoded data removed]",
      "text/plain": [
       "<Figure size 864x504 with 1 Axes>"
      ]
     },
     "metadata": {},
     "output_type": "display_data"
    }
   ],
   "source": [
    "for metal in metal_list:\n",
    "    columns = []\n",
    "    for stage in stage_list:\n",
    "        columns.append(stage+'_'+metal)\n",
    "        \n",
    "    display_hist(df_full[columns], metal.upper())"
   ]
  },
  {
   "cell_type": "markdown",
   "id": "0ee0eea1",
   "metadata": {},
   "source": [
    "**ВЫВОД:**\n",
    "\n",
    "- концентрация для золота с каждым этапом очистки увеличивается, концентрация серебра уменьшается.\n",
    "- На графиках прослеживается увеличение концентрации золота в смеси с каждым новым этапом очистки. Также увеличивается концентрация золота относительно других металлов."
   ]
  },
  {
   "cell_type": "markdown",
   "id": "1d55ea64",
   "metadata": {},
   "source": [
    "### Сравние распределения размеров гранул сырья на обучающей и тестовой выборках\n"
   ]
  },
  {
   "cell_type": "markdown",
   "id": "f67c8589",
   "metadata": {},
   "source": [
    "Размер гранул находится в столбце rougher.input.feed_size для этапа флотации и primary_cleaner.input.feed_size для этапа первичнной очистки"
   ]
  },
  {
   "cell_type": "code",
   "execution_count": 24,
   "id": "ea736ba5",
   "metadata": {},
   "outputs": [],
   "source": [
    "#Сформируем отдельный датасет с этими значениями и сравним их\n",
    "feed_size_rougher = pd.concat([df_train['rougher.input.feed_size'].dropna(), df_test['rougher.input.feed_size'].dropna()], axis = 1)\n",
    "feed_size_rougher.columns = ['train', 'test']"
   ]
  },
  {
   "cell_type": "markdown",
   "id": "2ff45eec",
   "metadata": {},
   "source": [
    "Попробуем оценить с помощью оценки плотности ядра. Оценка плотности ядра работает путем построения графика данных и начала создания кривой распределения. Кривая рассчитывается путем взвешивания расстояния между всеми точками в каждом конкретном месте распределения."
   ]
  },
  {
   "cell_type": "code",
   "execution_count": 25,
   "id": "8f3ce9c1",
   "metadata": {},
   "outputs": [
    {
     "data": {
      "image/png": "[encoded data removed]",
      "text/plain": [
       "<Figure size 864x504 with 1 Axes>"
      ]
     },
     "metadata": {},
     "output_type": "display_data"
    }
   ],
   "source": [
    "feed_size_rougher.plot.kde(figsize= (12,7))\n",
    "plt.title('Распределение размеров гранул сырья')\n",
    "plt.legend(['Обучающая выборка', 'Тестовая выборка'])\n",
    "plt.xlabel('Размер гранул')\n",
    "plt.ylabel('Плотность')\n",
    "plt.show() "
   ]
  },
  {
   "cell_type": "code",
   "execution_count": 26,
   "id": "55fced07",
   "metadata": {},
   "outputs": [],
   "source": [
    "#Так же проверим размер гранул на этапе primary_cleaner.input.feed_size\n",
    "feed_size_primary = pd.concat([df_train['primary_cleaner.input.feed_size'].dropna(), df_test['primary_cleaner.input.feed_size'].dropna()], axis = 1)\n",
    "feed_size_primary.columns = ['train', 'test']"
   ]
  },
  {
   "cell_type": "code",
   "execution_count": 27,
   "id": "a345f1d2",
   "metadata": {},
   "outputs": [
    {
     "data": {
      "image/png": "[encoded data removed]",
      "text/plain": [
       "<Figure size 864x504 with 1 Axes>"
      ]
     },
     "metadata": {},
     "output_type": "display_data"
    }
   ],
   "source": [
    "feed_size_primary.plot.kde(figsize= (12,7))\n",
    "plt.title('Распределение размеров гранул сырья')\n",
    "plt.legend(['Обучающая выборка', 'Тестовая выборка'])\n",
    "plt.xlabel('Размер гранул')\n",
    "plt.ylabel('Плотность')\n",
    "plt.show() "
   ]
  },
  {
   "cell_type": "markdown",
   "id": "74b680a6",
   "metadata": {},
   "source": [
    "В графике постоенном с помощью оценки плотности ядра, мы видим что распределения близки друг к другу. Значит, размеры гранул на обучающей и тестовой выборках отличаются несущественно для построения модели и адекватной оценки"
   ]
  },
  {
   "cell_type": "markdown",
   "id": "f99f0f44",
   "metadata": {},
   "source": [
    "### Исследование суммарной концентрации всех веществ на разных стадиях: в сырье, в черновом и финальном концентратах. "
   ]
  },
  {
   "cell_type": "markdown",
   "id": "6ba1ed93",
   "metadata": {},
   "source": [
    "Стадии на которых нужна концентрация веществ:\n",
    "- 'rougher.input.feed', 'rougher.output.concentrate', 'final.output.concentrate'\n",
    "\n",
    "Все вещества:\n",
    "- 'au', 'pb', 'sol', 'ag'\n",
    "\n",
    "Сформируем отдельный датасет с суммами этих веществ для каждой стадии"
   ]
  },
  {
   "cell_type": "code",
   "execution_count": 28,
   "id": "d13b19d7",
   "metadata": {},
   "outputs": [],
   "source": [
    "stages_con = ['rougher.input.feed', 'rougher.output.concentrate', 'final.output.concentrate']\n",
    "\n",
    "material_con = ['au', 'pb', 'sol', 'ag']"
   ]
  },
  {
   "cell_type": "code",
   "execution_count": 29,
   "id": "5d6a4112",
   "metadata": {},
   "outputs": [
    {
     "data": {
      "text/html": [
       "<div>\n",
       "<style scoped>\n",
       "    .dataframe tbody tr th:only-of-type {\n",
       "        vertical-align: middle;\n",
       "    }\n",
       "\n",
       "    .dataframe tbody tr th {\n",
       "        vertical-align: top;\n",
       "    }\n",
       "\n",
       "    .dataframe thead th {\n",
       "        text-align: right;\n",
       "    }\n",
       "</style>\n",
       "<table border=\"1\" class=\"dataframe\">\n",
       "  <thead>\n",
       "    <tr style=\"text-align: right;\">\n",
       "      <th></th>\n",
       "      <th>rougher.input.feed</th>\n",
       "      <th>rougher.output.concentrate</th>\n",
       "      <th>final.output.concentrate</th>\n",
       "    </tr>\n",
       "    <tr>\n",
       "      <th>date</th>\n",
       "      <th></th>\n",
       "      <th></th>\n",
       "      <th></th>\n",
       "    </tr>\n",
       "  </thead>\n",
       "  <tbody>\n",
       "    <tr>\n",
       "      <th>2016-01-15 00:00:00</th>\n",
       "      <td>51.680034</td>\n",
       "      <td>66.424950</td>\n",
       "      <td>63.644396</td>\n",
       "    </tr>\n",
       "    <tr>\n",
       "      <th>2016-01-15 01:00:00</th>\n",
       "      <td>50.659114</td>\n",
       "      <td>67.012710</td>\n",
       "      <td>63.957723</td>\n",
       "    </tr>\n",
       "    <tr>\n",
       "      <th>2016-01-15 02:00:00</th>\n",
       "      <td>50.609929</td>\n",
       "      <td>66.103793</td>\n",
       "      <td>64.311180</td>\n",
       "    </tr>\n",
       "    <tr>\n",
       "      <th>2016-01-15 03:00:00</th>\n",
       "      <td>51.061546</td>\n",
       "      <td>65.752751</td>\n",
       "      <td>63.573449</td>\n",
       "    </tr>\n",
       "    <tr>\n",
       "      <th>2016-01-15 04:00:00</th>\n",
       "      <td>47.859163</td>\n",
       "      <td>65.908382</td>\n",
       "      <td>64.004667</td>\n",
       "    </tr>\n",
       "  </tbody>\n",
       "</table>\n",
       "</div>"
      ],
      "text/plain": [
       "                     rougher.input.feed  rougher.output.concentrate  \\\n",
       "date                                                                  \n",
       "2016-01-15 00:00:00           51.680034                   66.424950   \n",
       "2016-01-15 01:00:00           50.659114                   67.012710   \n",
       "2016-01-15 02:00:00           50.609929                   66.103793   \n",
       "2016-01-15 03:00:00           51.061546                   65.752751   \n",
       "2016-01-15 04:00:00           47.859163                   65.908382   \n",
       "\n",
       "                     final.output.concentrate  \n",
       "date                                           \n",
       "2016-01-15 00:00:00                 63.644396  \n",
       "2016-01-15 01:00:00                 63.957723  \n",
       "2016-01-15 02:00:00                 64.311180  \n",
       "2016-01-15 03:00:00                 63.573449  \n",
       "2016-01-15 04:00:00                 64.004667  "
      ]
     },
     "execution_count": 29,
     "metadata": {},
     "output_type": "execute_result"
    }
   ],
   "source": [
    "def set_list(stage, agent):\n",
    "    return list(map(lambda item: stage + '_' + item, agent))\n",
    "\n",
    "def material_sum(df_train):\n",
    "    materials_sum = pd.DataFrame()\n",
    "\n",
    "    for stage in stages_con:\n",
    "        materials_sum[stage] = df_train[set_list(stage, material_con)].sum(axis=1)\n",
    "    return materials_sum\n",
    "\n",
    "materials_sum = material_sum(df_train)\n",
    "materials_sum.head()"
   ]
  },
  {
   "cell_type": "code",
   "execution_count": 30,
   "id": "fafb08b6",
   "metadata": {},
   "outputs": [
    {
     "data": {
      "image/png": "[encoded data removed]",
      "text/plain": [
       "<Figure size 864x504 with 1 Axes>"
      ]
     },
     "metadata": {},
     "output_type": "display_data"
    }
   ],
   "source": [
    "materials_sum.plot.hist(bins=100, alpha=0.6, figsize = (12,7))\n",
    "plt.title('Концентрация веществ на разных стадиях')\n",
    "plt.legend(['Сырье', 'После флотации', 'Финальный этап'])\n",
    "plt.xlabel(f'Распределение концентрации')\n",
    "plt.ylabel('Объем')\n",
    "plt.show() "
   ]
  },
  {
   "cell_type": "code",
   "execution_count": 31,
   "id": "0ae4169c",
   "metadata": {},
   "outputs": [
    {
     "data": {
      "image/png": "[encoded data removed]",
      "text/plain": [
       "<Figure size 936x720 with 1 Axes>"
      ]
     },
     "metadata": {},
     "output_type": "display_data"
    }
   ],
   "source": [
    "sns.boxplot(data=materials_sum)\n",
    "plt.title('Концентрация всех веществ на разных стадиях')\n",
    "plt.xlabel('Вещества')\n",
    "plt.ylabel('Распределения значений')\n",
    "plt.show() "
   ]
  },
  {
   "cell_type": "markdown",
   "id": "49a0c3e9",
   "metadata": {},
   "source": [
    " -  Можно сделать вывод, что суммарная концентрация увеличивается на каждом этапе обработки"
   ]
  },
  {
   "cell_type": "markdown",
   "id": "1c49e7c9",
   "metadata": {},
   "source": [
    "Наблюдаются выбросы на каждом этапе, но просто удалить эти данные мы не можем т.к. нет основании полагать, что они ошибочны. Более подозрительно выгледят выборсы с нулевыми значениями ( на гистограмме это очень хорошо заметно) \n",
    "\n",
    "Нулевые значения мы просто удалим"
   ]
  },
  {
   "cell_type": "code",
   "execution_count": 32,
   "id": "4370caad",
   "metadata": {},
   "outputs": [
    {
     "data": {
      "text/plain": [
       "(5290, 54)"
      ]
     },
     "metadata": {},
     "output_type": "display_data"
    },
    {
     "data": {
      "text/plain": [
       "(14149, 86)"
      ]
     },
     "metadata": {},
     "output_type": "display_data"
    }
   ],
   "source": [
    "display(df_test.shape)\n",
    "display(df_train.shape)"
   ]
  },
  {
   "cell_type": "code",
   "execution_count": 33,
   "id": "36a246a3",
   "metadata": {},
   "outputs": [],
   "source": [
    "#Создадим копию выборки для сравнения сколько строк мы потеряем после удаления\n",
    "df_train_original = df_train.copy()\n",
    "\n",
    "#Удалим нулевые значения\n",
    "df_train = df_train[df_train[features_input_concentrate].sum(1) > 0]\n",
    "df_train = df_train[df_train[features_rough_concentrate].sum(1) > 0]\n",
    "df_train = df_train[df_train[features_final_concentrate].sum(1) > 0]"
   ]
  },
  {
   "cell_type": "code",
   "execution_count": 34,
   "id": "06f07651",
   "metadata": {},
   "outputs": [
    {
     "data": {
      "text/plain": [
       "(5154, 54)"
      ]
     },
     "metadata": {},
     "output_type": "display_data"
    },
    {
     "data": {
      "text/plain": [
       "(13795, 86)"
      ]
     },
     "metadata": {},
     "output_type": "display_data"
    }
   ],
   "source": [
    "df_full = df_full.loc[df_test.index]\n",
    "df_test = df_test[df_full[features_input_concentrate].sum(1) > 0]\n",
    "df_test = df_test[df_full[features_rough_concentrate].sum(1) > 0]\n",
    "df_test = df_test[df_full[features_final_concentrate].sum(1) > 0]\n",
    "display(df_test.shape)\n",
    "display(df_train.shape)"
   ]
  },
  {
   "cell_type": "code",
   "execution_count": 35,
   "id": "0e0305e2",
   "metadata": {},
   "outputs": [
    {
     "data": {
      "text/plain": [
       "13795"
      ]
     },
     "metadata": {},
     "output_type": "display_data"
    },
    {
     "data": {
      "text/plain": [
       "14149"
      ]
     },
     "metadata": {},
     "output_type": "display_data"
    },
    {
     "data": {
      "text/plain": [
       "97.49805639974556"
      ]
     },
     "execution_count": 35,
     "metadata": {},
     "output_type": "execute_result"
    }
   ],
   "source": [
    "display(df_train.shape[0])\n",
    "display(df_train_original.shape[0])\n",
    "100 * df_train.shape[0] / df_train_original.shape[0]"
   ]
  },
  {
   "cell_type": "markdown",
   "id": "d2c1c466",
   "metadata": {},
   "source": [
    "Потеряли всго чуть больше ~2% данных, зато убрали выборосы которые повлияют на обучение модели.\n",
    "\n",
    "Проверим как сейчас выглядят данные"
   ]
  },
  {
   "cell_type": "code",
   "execution_count": 36,
   "id": "7555194f",
   "metadata": {},
   "outputs": [
    {
     "data": {
      "image/png": "[encoded data removed]",
      "text/plain": [
       "<Figure size 864x504 with 1 Axes>"
      ]
     },
     "metadata": {},
     "output_type": "display_data"
    }
   ],
   "source": [
    "materials_sum = material_sum(df_train)\n",
    "materials_sum.plot.hist(bins=100, alpha=0.6, figsize = (12,7))\n",
    "plt.title('Концентрация веществ на разных стадиях')\n",
    "plt.legend(['Сырье', 'После флотации', 'Финальный этап'])\n",
    "plt.xlabel(f'Распределение концентрации')\n",
    "plt.ylabel('Объем')\n",
    "plt.show() "
   ]
  },
  {
   "cell_type": "markdown",
   "id": "4009e138",
   "metadata": {},
   "source": [
    "Выборосов нет, можно переходить к обучению модели"
   ]
  },
  {
   "cell_type": "markdown",
   "id": "4c58e8e3",
   "metadata": {},
   "source": [
    "**Промежуточный вывод**\n",
    "- Распределения размеров гранул на тестовой и обучающей выборках для этапа флотации и первичной обработки практически одинаковы, поэтому эти данные не помешают обучени модели\n",
    "- Концентрация золота увеличивается после всех этапов обработки. \n",
    "- Концентрация серебра сначала увеличивается после флотации, затем уменьшается послей первой очистки.\n",
    "- Концентрация свинца растет на каждом этапе обработки.\n",
    "- Суммарная концентрация увеличивается на каждом этапе обработки\n",
    "- В результате исследования данных были найдены выбросы на нулевых значениях и удалены из данных"
   ]
  },
  {
   "cell_type": "markdown",
   "id": "16074671",
   "metadata": {},
   "source": [
    "## Построение модель"
   ]
  },
  {
   "cell_type": "markdown",
   "id": "97e74866",
   "metadata": {},
   "source": [
    "### Функция для вычисления итоговой sMAPE"
   ]
  },
  {
   "cell_type": "code",
   "execution_count": 37,
   "id": "1bcfc645",
   "metadata": {},
   "outputs": [],
   "source": [
    "def sMAPE(target, prediction):\n",
    "    return 1 / len(target) * sum( abs(target - prediction) / ( (abs(target) + abs(prediction)) * 0.5) ) * 100"
   ]
  },
  {
   "cell_type": "code",
   "execution_count": 38,
   "id": "c5a75df4",
   "metadata": {},
   "outputs": [],
   "source": [
    "def sMAPE_final(rough, final):\n",
    "    return 0.25 * rough + 0.75 * final"
   ]
  },
  {
   "cell_type": "code",
   "execution_count": 39,
   "id": "c3bebf95",
   "metadata": {},
   "outputs": [],
   "source": [
    "custom_smpe = make_scorer(sMAPE, greater_is_better=False)"
   ]
  },
  {
   "cell_type": "markdown",
   "id": "e5c4f834",
   "metadata": {},
   "source": [
    "### Подготовка модели"
   ]
  },
  {
   "cell_type": "code",
   "execution_count": 40,
   "id": "854f266c",
   "metadata": {},
   "outputs": [],
   "source": [
    "df_train_full = df_train.copy()\n",
    "\n",
    "df_train = df_train.drop(list(df_train.columns.difference(df_test.columns)), axis=1)"
   ]
  },
  {
   "cell_type": "markdown",
   "id": "144627a3",
   "metadata": {},
   "source": [
    "Перед обучением необходимо сформировать необходимые признаки для обучения и тестирования в каждой из выборок"
   ]
  },
  {
   "cell_type": "code",
   "execution_count": 41,
   "id": "f11899eb",
   "metadata": {},
   "outputs": [],
   "source": [
    "rougher_columns = []\n",
    "pattern = re.compile('rougher')\n",
    "\n",
    "for column in list(df_test.columns):\n",
    "    if re.match(pattern, column):\n",
    "        rougher_columns.append(column)\n",
    "\n",
    "final_columns = list(set(df_test.columns) - set(rougher_columns))"
   ]
  },
  {
   "cell_type": "code",
   "execution_count": 42,
   "id": "9ee2d758",
   "metadata": {},
   "outputs": [],
   "source": [
    "test_index = list(df_test.index)\n",
    "\n",
    "test_target_columns = pd.DataFrame()\n",
    "test_target_columns = df_full.loc[test_index][['rougher.output.recovery', 'final.output.recovery']]"
   ]
  },
  {
   "cell_type": "code",
   "execution_count": 43,
   "id": "c06fcd9e",
   "metadata": {},
   "outputs": [],
   "source": [
    "test_features = df_test.drop(['rougher.output.recovery', 'final.output.recovery'], axis = 1)\n",
    "test_target = df_test[['rougher.output.recovery', 'final.output.recovery']]"
   ]
  },
  {
   "cell_type": "code",
   "execution_count": 44,
   "id": "56a44190",
   "metadata": {},
   "outputs": [],
   "source": [
    "rougher_train_features = df_train[rougher_columns]\n",
    "rougher_train_target = df_train_full['rougher.output.recovery']\n",
    "\n",
    "final_train_features = df_train[final_columns]\n",
    "final_train_target = df_train_full['final.output.recovery']\n",
    "\n",
    "rougher_test_features = df_test[rougher_columns]\n",
    "rougher_test_target = test_target_columns['rougher.output.recovery']\n",
    "\n",
    "final_test_features = df_test[final_columns]\n",
    "final_test_target = test_target_columns['final.output.recovery']\n",
    "\n",
    "#print(final_train_features.columns)"
   ]
  },
  {
   "cell_type": "code",
   "execution_count": 45,
   "id": "09250039",
   "metadata": {},
   "outputs": [],
   "source": [
    "rougher_train_features = rougher_train_features.drop(['rougher.output.recovery'],axis = 1)\n",
    "rougher_test_features = rougher_test_features.drop(['rougher.output.recovery'],axis = 1)\n",
    "final_train_features = final_train_features.drop(['final.output.recovery'],axis = 1)\n",
    "final_test_features = final_test_features.drop(['final.output.recovery'],axis = 1)"
   ]
  },
  {
   "cell_type": "code",
   "execution_count": 50,
   "id": "57dc895d",
   "metadata": {},
   "outputs": [],
   "source": [
    "def fit_scaler(df):\n",
    "    scaler = StandardScaler()\n",
    "    scaler.fit(df)\n",
    "    return scaler"
   ]
  },
  {
   "cell_type": "code",
   "execution_count": 51,
   "id": "18715fa5",
   "metadata": {},
   "outputs": [],
   "source": [
    "def apply_scaler(df, scaler):\n",
    "    return pd.DataFrame(scaler.transform(df))"
   ]
  },
  {
   "cell_type": "code",
   "execution_count": 52,
   "id": "e0b70c78",
   "metadata": {},
   "outputs": [],
   "source": [
    "rougher_scaler = fit_scaler(rougher_train_features)\n",
    "final_scaler = fit_scaler(final_train_features)"
   ]
  },
  {
   "cell_type": "code",
   "execution_count": 53,
   "id": "2bc8b67d",
   "metadata": {},
   "outputs": [],
   "source": [
    "rougher_train_features = apply_scaler(rougher_train_features, rougher_scaler)\n",
    "rougher_test_features = apply_scaler(rougher_test_features, rougher_scaler)"
   ]
  },
  {
   "cell_type": "code",
   "execution_count": 54,
   "id": "e02e5b1b",
   "metadata": {},
   "outputs": [],
   "source": [
    "final_train_features = apply_scaler(final_train_features, final_scaler)\n",
    "final_test_features = apply_scaler(final_test_features, final_scaler)"
   ]
  },
  {
   "cell_type": "markdown",
   "id": "11701835",
   "metadata": {},
   "source": [
    "Инициируем модели"
   ]
  },
  {
   "cell_type": "code",
   "execution_count": 55,
   "id": "5668abb8",
   "metadata": {},
   "outputs": [],
   "source": [
    "model_rf = RandomForestRegressor(random_state=12345)\n",
    "model_dt = DecisionTreeRegressor(random_state=12345)"
   ]
  },
  {
   "cell_type": "code",
   "execution_count": 56,
   "id": "fa269613",
   "metadata": {},
   "outputs": [],
   "source": [
    "parameters_rf = {\"n_estimators\":[5,10,30], \"max_depth\":[1,5,7]}\n",
    "parameters_dt = {\"max_depth\":[1,5,7,10]}"
   ]
  },
  {
   "cell_type": "markdown",
   "id": "2986304f",
   "metadata": {},
   "source": [
    "обучение на модели RandomForestRegressor с перебором параметров для rougher стадии"
   ]
  },
  {
   "cell_type": "code",
   "execution_count": 57,
   "id": "eef61b81",
   "metadata": {},
   "outputs": [
    {
     "name": "stdout",
     "output_type": "stream",
     "text": [
      "Fitting 5 folds for each of 9 candidates, totalling 45 fits\n",
      "[CV 1/5; 1/9] START max_depth=1, n_estimators=5.................................\n",
      "[CV 1/5; 1/9] END ...............max_depth=1, n_estimators=5; total time=   0.1s\n",
      "[CV 2/5; 1/9] START max_depth=1, n_estimators=5.................................\n",
      "[CV 2/5; 1/9] END ...............max_depth=1, n_estimators=5; total time=   0.1s\n",
      "[CV 3/5; 1/9] START max_depth=1, n_estimators=5.................................\n",
      "[CV 3/5; 1/9] END ...............max_depth=1, n_estimators=5; total time=   0.1s\n",
      "[CV 4/5; 1/9] START max_depth=1, n_estimators=5.................................\n",
      "[CV 4/5; 1/9] END ...............max_depth=1, n_estimators=5; total time=   0.1s\n",
      "[CV 5/5; 1/9] START max_depth=1, n_estimators=5.................................\n",
      "[CV 5/5; 1/9] END ...............max_depth=1, n_estimators=5; total time=   0.1s\n",
      "[CV 1/5; 2/9] START max_depth=1, n_estimators=10................................\n",
      "[CV 1/5; 2/9] END ..............max_depth=1, n_estimators=10; total time=   0.2s\n",
      "[CV 2/5; 2/9] START max_depth=1, n_estimators=10................................\n",
      "[CV 2/5; 2/9] END ..............max_depth=1, n_estimators=10; total time=   0.2s\n",
      "[CV 3/5; 2/9] START max_depth=1, n_estimators=10................................\n",
      "[CV 3/5; 2/9] END ..............max_depth=1, n_estimators=10; total time=   0.2s\n",
      "[CV 4/5; 2/9] START max_depth=1, n_estimators=10................................\n",
      "[CV 4/5; 2/9] END ..............max_depth=1, n_estimators=10; total time=   0.2s\n",
      "[CV 5/5; 2/9] START max_depth=1, n_estimators=10................................\n",
      "[CV 5/5; 2/9] END ..............max_depth=1, n_estimators=10; total time=   0.2s\n",
      "[CV 1/5; 3/9] START max_depth=1, n_estimators=30................................\n",
      "[CV 1/5; 3/9] END ..............max_depth=1, n_estimators=30; total time=   0.5s\n",
      "[CV 2/5; 3/9] START max_depth=1, n_estimators=30................................\n",
      "[CV 2/5; 3/9] END ..............max_depth=1, n_estimators=30; total time=   0.5s\n",
      "[CV 3/5; 3/9] START max_depth=1, n_estimators=30................................\n",
      "[CV 3/5; 3/9] END ..............max_depth=1, n_estimators=30; total time=   0.5s\n",
      "[CV 4/5; 3/9] START max_depth=1, n_estimators=30................................\n",
      "[CV 4/5; 3/9] END ..............max_depth=1, n_estimators=30; total time=   0.5s\n",
      "[CV 5/5; 3/9] START max_depth=1, n_estimators=30................................\n",
      "[CV 5/5; 3/9] END ..............max_depth=1, n_estimators=30; total time=   0.5s\n",
      "[CV 1/5; 4/9] START max_depth=5, n_estimators=5.................................\n",
      "[CV 1/5; 4/9] END ...............max_depth=5, n_estimators=5; total time=   0.4s\n",
      "[CV 2/5; 4/9] START max_depth=5, n_estimators=5.................................\n",
      "[CV 2/5; 4/9] END ...............max_depth=5, n_estimators=5; total time=   0.4s\n",
      "[CV 3/5; 4/9] START max_depth=5, n_estimators=5.................................\n",
      "[CV 3/5; 4/9] END ...............max_depth=5, n_estimators=5; total time=   0.4s\n",
      "[CV 4/5; 4/9] START max_depth=5, n_estimators=5.................................\n",
      "[CV 4/5; 4/9] END ...............max_depth=5, n_estimators=5; total time=   0.4s\n",
      "[CV 5/5; 4/9] START max_depth=5, n_estimators=5.................................\n",
      "[CV 5/5; 4/9] END ...............max_depth=5, n_estimators=5; total time=   0.4s\n",
      "[CV 1/5; 5/9] START max_depth=5, n_estimators=10................................\n",
      "[CV 1/5; 5/9] END ..............max_depth=5, n_estimators=10; total time=   0.7s\n",
      "[CV 2/5; 5/9] START max_depth=5, n_estimators=10................................\n",
      "[CV 2/5; 5/9] END ..............max_depth=5, n_estimators=10; total time=   0.7s\n",
      "[CV 3/5; 5/9] START max_depth=5, n_estimators=10................................\n",
      "[CV 3/5; 5/9] END ..............max_depth=5, n_estimators=10; total time=   0.7s\n",
      "[CV 4/5; 5/9] START max_depth=5, n_estimators=10................................\n",
      "[CV 4/5; 5/9] END ..............max_depth=5, n_estimators=10; total time=   0.8s\n",
      "[CV 5/5; 5/9] START max_depth=5, n_estimators=10................................\n",
      "[CV 5/5; 5/9] END ..............max_depth=5, n_estimators=10; total time=   0.7s\n",
      "[CV 1/5; 6/9] START max_depth=5, n_estimators=30................................\n",
      "[CV 1/5; 6/9] END ..............max_depth=5, n_estimators=30; total time=   2.0s\n",
      "[CV 2/5; 6/9] START max_depth=5, n_estimators=30................................\n",
      "[CV 2/5; 6/9] END ..............max_depth=5, n_estimators=30; total time=   1.9s\n",
      "[CV 3/5; 6/9] START max_depth=5, n_estimators=30................................\n",
      "[CV 3/5; 6/9] END ..............max_depth=5, n_estimators=30; total time=   2.0s\n",
      "[CV 4/5; 6/9] START max_depth=5, n_estimators=30................................\n",
      "[CV 4/5; 6/9] END ..............max_depth=5, n_estimators=30; total time=   2.0s\n",
      "[CV 5/5; 6/9] START max_depth=5, n_estimators=30................................\n",
      "[CV 5/5; 6/9] END ..............max_depth=5, n_estimators=30; total time=   1.9s\n",
      "[CV 1/5; 7/9] START max_depth=7, n_estimators=5.................................\n",
      "[CV 1/5; 7/9] END ...............max_depth=7, n_estimators=5; total time=   0.5s\n",
      "[CV 2/5; 7/9] START max_depth=7, n_estimators=5.................................\n",
      "[CV 2/5; 7/9] END ...............max_depth=7, n_estimators=5; total time=   0.5s\n",
      "[CV 3/5; 7/9] START max_depth=7, n_estimators=5.................................\n",
      "[CV 3/5; 7/9] END ...............max_depth=7, n_estimators=5; total time=   0.4s\n",
      "[CV 4/5; 7/9] START max_depth=7, n_estimators=5.................................\n",
      "[CV 4/5; 7/9] END ...............max_depth=7, n_estimators=5; total time=   0.5s\n",
      "[CV 5/5; 7/9] START max_depth=7, n_estimators=5.................................\n",
      "[CV 5/5; 7/9] END ...............max_depth=7, n_estimators=5; total time=   0.4s\n",
      "[CV 1/5; 8/9] START max_depth=7, n_estimators=10................................\n",
      "[CV 1/5; 8/9] END ..............max_depth=7, n_estimators=10; total time=   0.9s\n",
      "[CV 2/5; 8/9] START max_depth=7, n_estimators=10................................\n",
      "[CV 2/5; 8/9] END ..............max_depth=7, n_estimators=10; total time=   0.9s\n",
      "[CV 3/5; 8/9] START max_depth=7, n_estimators=10................................\n",
      "[CV 3/5; 8/9] END ..............max_depth=7, n_estimators=10; total time=   0.9s\n",
      "[CV 4/5; 8/9] START max_depth=7, n_estimators=10................................\n",
      "[CV 4/5; 8/9] END ..............max_depth=7, n_estimators=10; total time=   0.9s\n",
      "[CV 5/5; 8/9] START max_depth=7, n_estimators=10................................\n",
      "[CV 5/5; 8/9] END ..............max_depth=7, n_estimators=10; total time=   0.9s\n",
      "[CV 1/5; 9/9] START max_depth=7, n_estimators=30................................\n",
      "[CV 1/5; 9/9] END ..............max_depth=7, n_estimators=30; total time=   2.8s\n",
      "[CV 2/5; 9/9] START max_depth=7, n_estimators=30................................\n",
      "[CV 2/5; 9/9] END ..............max_depth=7, n_estimators=30; total time=   3.0s\n",
      "[CV 3/5; 9/9] START max_depth=7, n_estimators=30................................\n",
      "[CV 3/5; 9/9] END ..............max_depth=7, n_estimators=30; total time=   2.7s\n",
      "[CV 4/5; 9/9] START max_depth=7, n_estimators=30................................\n",
      "[CV 4/5; 9/9] END ..............max_depth=7, n_estimators=30; total time=   2.6s\n",
      "[CV 5/5; 9/9] START max_depth=7, n_estimators=30................................\n",
      "[CV 5/5; 9/9] END ..............max_depth=7, n_estimators=30; total time=   2.6s\n"
     ]
    },
    {
     "data": {
      "text/plain": [
       "GridSearchCV(cv=5, estimator=RandomForestRegressor(random_state=12345),\n",
       "             n_jobs=-1,\n",
       "             param_grid={'max_depth': [1, 5, 7], 'n_estimators': [5, 10, 30]},\n",
       "             scoring=make_scorer(sMAPE, greater_is_better=False), verbose=10)"
      ]
     },
     "execution_count": 57,
     "metadata": {},
     "output_type": "execute_result"
    }
   ],
   "source": [
    "cv_rf_r = GridSearchCV(estimator = model_rf, param_grid = parameters_rf,\n",
    "                       cv = 5,n_jobs=-1, scoring = custom_smpe,\n",
    "                      verbose=10)\n",
    "cv_rf_r.fit(rougher_train_features, rougher_train_target)"
   ]
  },
  {
   "cell_type": "code",
   "execution_count": 58,
   "id": "fa8043eb",
   "metadata": {},
   "outputs": [
    {
     "name": "stdout",
     "output_type": "stream",
     "text": [
      "Best score: 6.710117368526073\n",
      "Best estimator: RandomForestRegressor(max_depth=5, n_estimators=10, random_state=12345)\n"
     ]
    }
   ],
   "source": [
    "print('Best score:',-cv_rf_r.best_score_)\n",
    "print('Best estimator:',cv_rf_r.best_estimator_)"
   ]
  },
  {
   "cell_type": "markdown",
   "id": "36242e46",
   "metadata": {},
   "source": [
    "обучение на модели RandomForestRegressor с перебором параметров для final стадии"
   ]
  },
  {
   "cell_type": "code",
   "execution_count": 59,
   "id": "08930663",
   "metadata": {},
   "outputs": [
    {
     "name": "stdout",
     "output_type": "stream",
     "text": [
      "Fitting 5 folds for each of 9 candidates, totalling 45 fits\n",
      "[CV 1/5; 1/9] START max_depth=1, n_estimators=5.................................\n",
      "[CV 1/5; 1/9] END ...............max_depth=1, n_estimators=5; total time=   0.1s\n",
      "[CV 2/5; 1/9] START max_depth=1, n_estimators=5.................................\n",
      "[CV 2/5; 1/9] END ...............max_depth=1, n_estimators=5; total time=   0.1s\n",
      "[CV 3/5; 1/9] START max_depth=1, n_estimators=5.................................\n",
      "[CV 3/5; 1/9] END ...............max_depth=1, n_estimators=5; total time=   0.1s\n",
      "[CV 4/5; 1/9] START max_depth=1, n_estimators=5.................................\n",
      "[CV 4/5; 1/9] END ...............max_depth=1, n_estimators=5; total time=   0.1s\n",
      "[CV 5/5; 1/9] START max_depth=1, n_estimators=5.................................\n",
      "[CV 5/5; 1/9] END ...............max_depth=1, n_estimators=5; total time=   0.1s\n",
      "[CV 1/5; 2/9] START max_depth=1, n_estimators=10................................\n",
      "[CV 1/5; 2/9] END ..............max_depth=1, n_estimators=10; total time=   0.2s\n",
      "[CV 2/5; 2/9] START max_depth=1, n_estimators=10................................\n",
      "[CV 2/5; 2/9] END ..............max_depth=1, n_estimators=10; total time=   0.2s\n",
      "[CV 3/5; 2/9] START max_depth=1, n_estimators=10................................\n",
      "[CV 3/5; 2/9] END ..............max_depth=1, n_estimators=10; total time=   0.2s\n",
      "[CV 4/5; 2/9] START max_depth=1, n_estimators=10................................\n",
      "[CV 4/5; 2/9] END ..............max_depth=1, n_estimators=10; total time=   0.2s\n",
      "[CV 5/5; 2/9] START max_depth=1, n_estimators=10................................\n",
      "[CV 5/5; 2/9] END ..............max_depth=1, n_estimators=10; total time=   0.2s\n",
      "[CV 1/5; 3/9] START max_depth=1, n_estimators=30................................\n",
      "[CV 1/5; 3/9] END ..............max_depth=1, n_estimators=30; total time=   0.6s\n",
      "[CV 2/5; 3/9] START max_depth=1, n_estimators=30................................\n",
      "[CV 2/5; 3/9] END ..............max_depth=1, n_estimators=30; total time=   0.7s\n",
      "[CV 3/5; 3/9] START max_depth=1, n_estimators=30................................\n",
      "[CV 3/5; 3/9] END ..............max_depth=1, n_estimators=30; total time=   0.6s\n",
      "[CV 4/5; 3/9] START max_depth=1, n_estimators=30................................\n",
      "[CV 4/5; 3/9] END ..............max_depth=1, n_estimators=30; total time=   0.6s\n",
      "[CV 5/5; 3/9] START max_depth=1, n_estimators=30................................\n",
      "[CV 5/5; 3/9] END ..............max_depth=1, n_estimators=30; total time=   0.6s\n",
      "[CV 1/5; 4/9] START max_depth=5, n_estimators=5.................................\n",
      "[CV 1/5; 4/9] END ...............max_depth=5, n_estimators=5; total time=   0.5s\n",
      "[CV 2/5; 4/9] START max_depth=5, n_estimators=5.................................\n",
      "[CV 2/5; 4/9] END ...............max_depth=5, n_estimators=5; total time=   0.5s\n",
      "[CV 3/5; 4/9] START max_depth=5, n_estimators=5.................................\n",
      "[CV 3/5; 4/9] END ...............max_depth=5, n_estimators=5; total time=   0.4s\n",
      "[CV 4/5; 4/9] START max_depth=5, n_estimators=5.................................\n",
      "[CV 4/5; 4/9] END ...............max_depth=5, n_estimators=5; total time=   0.4s\n",
      "[CV 5/5; 4/9] START max_depth=5, n_estimators=5.................................\n",
      "[CV 5/5; 4/9] END ...............max_depth=5, n_estimators=5; total time=   0.4s\n",
      "[CV 1/5; 5/9] START max_depth=5, n_estimators=10................................\n",
      "[CV 1/5; 5/9] END ..............max_depth=5, n_estimators=10; total time=   0.9s\n",
      "[CV 2/5; 5/9] START max_depth=5, n_estimators=10................................\n",
      "[CV 2/5; 5/9] END ..............max_depth=5, n_estimators=10; total time=   0.9s\n",
      "[CV 3/5; 5/9] START max_depth=5, n_estimators=10................................\n",
      "[CV 3/5; 5/9] END ..............max_depth=5, n_estimators=10; total time=   1.0s\n",
      "[CV 4/5; 5/9] START max_depth=5, n_estimators=10................................\n",
      "[CV 4/5; 5/9] END ..............max_depth=5, n_estimators=10; total time=   1.0s\n",
      "[CV 5/5; 5/9] START max_depth=5, n_estimators=10................................\n",
      "[CV 5/5; 5/9] END ..............max_depth=5, n_estimators=10; total time=   0.9s\n",
      "[CV 1/5; 6/9] START max_depth=5, n_estimators=30................................\n",
      "[CV 1/5; 6/9] END ..............max_depth=5, n_estimators=30; total time=   2.7s\n",
      "[CV 2/5; 6/9] START max_depth=5, n_estimators=30................................\n",
      "[CV 2/5; 6/9] END ..............max_depth=5, n_estimators=30; total time=   2.7s\n",
      "[CV 3/5; 6/9] START max_depth=5, n_estimators=30................................\n",
      "[CV 3/5; 6/9] END ..............max_depth=5, n_estimators=30; total time=   2.7s\n",
      "[CV 4/5; 6/9] START max_depth=5, n_estimators=30................................\n",
      "[CV 4/5; 6/9] END ..............max_depth=5, n_estimators=30; total time=   2.9s\n",
      "[CV 5/5; 6/9] START max_depth=5, n_estimators=30................................\n",
      "[CV 5/5; 6/9] END ..............max_depth=5, n_estimators=30; total time=   3.0s\n",
      "[CV 1/5; 7/9] START max_depth=7, n_estimators=5.................................\n",
      "[CV 1/5; 7/9] END ...............max_depth=7, n_estimators=5; total time=   0.7s\n",
      "[CV 2/5; 7/9] START max_depth=7, n_estimators=5.................................\n",
      "[CV 2/5; 7/9] END ...............max_depth=7, n_estimators=5; total time=   0.7s\n",
      "[CV 3/5; 7/9] START max_depth=7, n_estimators=5.................................\n",
      "[CV 3/5; 7/9] END ...............max_depth=7, n_estimators=5; total time=   0.7s\n",
      "[CV 4/5; 7/9] START max_depth=7, n_estimators=5.................................\n",
      "[CV 4/5; 7/9] END ...............max_depth=7, n_estimators=5; total time=   0.6s\n",
      "[CV 5/5; 7/9] START max_depth=7, n_estimators=5.................................\n",
      "[CV 5/5; 7/9] END ...............max_depth=7, n_estimators=5; total time=   0.6s\n",
      "[CV 1/5; 8/9] START max_depth=7, n_estimators=10................................\n",
      "[CV 1/5; 8/9] END ..............max_depth=7, n_estimators=10; total time=   1.3s\n",
      "[CV 2/5; 8/9] START max_depth=7, n_estimators=10................................\n",
      "[CV 2/5; 8/9] END ..............max_depth=7, n_estimators=10; total time=   1.2s\n",
      "[CV 3/5; 8/9] START max_depth=7, n_estimators=10................................\n",
      "[CV 3/5; 8/9] END ..............max_depth=7, n_estimators=10; total time=   1.2s\n",
      "[CV 4/5; 8/9] START max_depth=7, n_estimators=10................................\n",
      "[CV 4/5; 8/9] END ..............max_depth=7, n_estimators=10; total time=   1.1s\n",
      "[CV 5/5; 8/9] START max_depth=7, n_estimators=10................................\n",
      "[CV 5/5; 8/9] END ..............max_depth=7, n_estimators=10; total time=   1.2s\n",
      "[CV 1/5; 9/9] START max_depth=7, n_estimators=30................................\n",
      "[CV 1/5; 9/9] END ..............max_depth=7, n_estimators=30; total time=   3.6s\n",
      "[CV 2/5; 9/9] START max_depth=7, n_estimators=30................................\n",
      "[CV 2/5; 9/9] END ..............max_depth=7, n_estimators=30; total time=   3.8s\n",
      "[CV 3/5; 9/9] START max_depth=7, n_estimators=30................................\n",
      "[CV 3/5; 9/9] END ..............max_depth=7, n_estimators=30; total time=   3.9s\n",
      "[CV 4/5; 9/9] START max_depth=7, n_estimators=30................................\n",
      "[CV 4/5; 9/9] END ..............max_depth=7, n_estimators=30; total time=   3.8s\n",
      "[CV 5/5; 9/9] START max_depth=7, n_estimators=30................................\n",
      "[CV 5/5; 9/9] END ..............max_depth=7, n_estimators=30; total time=   3.7s\n"
     ]
    },
    {
     "data": {
      "text/plain": [
       "GridSearchCV(cv=5, estimator=RandomForestRegressor(random_state=12345),\n",
       "             n_jobs=-1,\n",
       "             param_grid={'max_depth': [1, 5, 7], 'n_estimators': [5, 10, 30]},\n",
       "             scoring=make_scorer(sMAPE, greater_is_better=False), verbose=10)"
      ]
     },
     "execution_count": 59,
     "metadata": {},
     "output_type": "execute_result"
    }
   ],
   "source": [
    "cv_rf_f = GridSearchCV(estimator = model_rf, param_grid = parameters_rf,\n",
    "                       cv = 5,n_jobs=-1, scoring = custom_smpe,\n",
    "                      verbose=10)\n",
    "cv_rf_f.fit(final_train_features, final_train_target)"
   ]
  },
  {
   "cell_type": "code",
   "execution_count": 93,
   "id": "94d5fdce",
   "metadata": {},
   "outputs": [
    {
     "name": "stdout",
     "output_type": "stream",
     "text": [
      "Best score: 10.02847540856119\n",
      "Best estimator: RandomForestRegressor(max_depth=1, n_estimators=30, random_state=12345)\n"
     ]
    }
   ],
   "source": [
    "print('Best score:',-cv_rf_f.best_score_)\n",
    "print('Best estimator:',cv_rf_f.best_estimator_)"
   ]
  },
  {
   "cell_type": "code",
   "execution_count": 94,
   "id": "90f794d2",
   "metadata": {},
   "outputs": [
    {
     "name": "stdout",
     "output_type": "stream",
     "text": [
      "RandomForestRegressor\n",
      "Итоговая sMAPE:  9.20 %\n"
     ]
    }
   ],
   "source": [
    "print('RandomForestRegressor')\n",
    "print('Итоговая sMAPE:  {:.2f} %'.format(sMAPE_final(-cv_rf_r.best_score_, -cv_rf_f.best_score_)))"
   ]
  },
  {
   "cell_type": "markdown",
   "id": "87cd388f",
   "metadata": {},
   "source": [
    "обучение на модели DecisionTreeRegressor с перебором параметров для rougher стадии"
   ]
  },
  {
   "cell_type": "code",
   "execution_count": 62,
   "id": "3fecfcce",
   "metadata": {},
   "outputs": [
    {
     "name": "stdout",
     "output_type": "stream",
     "text": [
      "Fitting 5 folds for each of 4 candidates, totalling 20 fits\n",
      "[CV 1/5; 1/4] START max_depth=1.................................................\n",
      "[CV 1/5; 1/4] END ...............................max_depth=1; total time=   0.0s\n",
      "[CV 2/5; 1/4] START max_depth=1.................................................\n",
      "[CV 2/5; 1/4] END ...............................max_depth=1; total time=   0.0s\n",
      "[CV 3/5; 1/4] START max_depth=1.................................................\n",
      "[CV 3/5; 1/4] END ...............................max_depth=1; total time=   0.0s\n",
      "[CV 4/5; 1/4] START max_depth=1.................................................\n",
      "[CV 4/5; 1/4] END ...............................max_depth=1; total time=   0.0s\n",
      "[CV 5/5; 1/4] START max_depth=1.................................................\n",
      "[CV 5/5; 1/4] END ...............................max_depth=1; total time=   0.0s\n",
      "[CV 1/5; 2/4] START max_depth=5.................................................\n",
      "[CV 1/5; 2/4] END ...............................max_depth=5; total time=   0.2s\n",
      "[CV 2/5; 2/4] START max_depth=5.................................................\n",
      "[CV 2/5; 2/4] END ...............................max_depth=5; total time=   0.1s\n",
      "[CV 3/5; 2/4] START max_depth=5.................................................\n",
      "[CV 3/5; 2/4] END ...............................max_depth=5; total time=   0.1s\n",
      "[CV 4/5; 2/4] START max_depth=5.................................................\n",
      "[CV 4/5; 2/4] END ...............................max_depth=5; total time=   0.1s\n",
      "[CV 5/5; 2/4] START max_depth=5.................................................\n",
      "[CV 5/5; 2/4] END ...............................max_depth=5; total time=   0.1s\n",
      "[CV 1/5; 3/4] START max_depth=7.................................................\n",
      "[CV 1/5; 3/4] END ...............................max_depth=7; total time=   0.2s\n",
      "[CV 2/5; 3/4] START max_depth=7.................................................\n",
      "[CV 2/5; 3/4] END ...............................max_depth=7; total time=   0.2s\n",
      "[CV 3/5; 3/4] START max_depth=7.................................................\n",
      "[CV 3/5; 3/4] END ...............................max_depth=7; total time=   0.1s\n",
      "[CV 4/5; 3/4] START max_depth=7.................................................\n",
      "[CV 4/5; 3/4] END ...............................max_depth=7; total time=   0.1s\n",
      "[CV 5/5; 3/4] START max_depth=7.................................................\n",
      "[CV 5/5; 3/4] END ...............................max_depth=7; total time=   0.1s\n",
      "[CV 1/5; 4/4] START max_depth=10................................................\n",
      "[CV 1/5; 4/4] END ..............................max_depth=10; total time=   0.2s\n",
      "[CV 2/5; 4/4] START max_depth=10................................................\n",
      "[CV 2/5; 4/4] END ..............................max_depth=10; total time=   0.2s\n",
      "[CV 3/5; 4/4] START max_depth=10................................................\n",
      "[CV 3/5; 4/4] END ..............................max_depth=10; total time=   0.2s\n",
      "[CV 4/5; 4/4] START max_depth=10................................................\n",
      "[CV 4/5; 4/4] END ..............................max_depth=10; total time=   0.2s\n",
      "[CV 5/5; 4/4] START max_depth=10................................................\n",
      "[CV 5/5; 4/4] END ..............................max_depth=10; total time=   0.2s\n"
     ]
    },
    {
     "data": {
      "text/plain": [
       "GridSearchCV(cv=5, estimator=DecisionTreeRegressor(random_state=12345),\n",
       "             n_jobs=-1, param_grid={'max_depth': [1, 5, 7, 10]},\n",
       "             scoring=make_scorer(sMAPE, greater_is_better=False), verbose=10)"
      ]
     },
     "execution_count": 62,
     "metadata": {},
     "output_type": "execute_result"
    }
   ],
   "source": [
    "cv_dt_r = GridSearchCV(estimator = model_dt, param_grid = parameters_dt,\n",
    "                       cv = 5,n_jobs=-1, scoring = custom_smpe,\n",
    "                      verbose=10)\n",
    "cv_dt_r.fit(rougher_train_features, rougher_train_target)"
   ]
  },
  {
   "cell_type": "code",
   "execution_count": 63,
   "id": "32e31bcb",
   "metadata": {},
   "outputs": [
    {
     "name": "stdout",
     "output_type": "stream",
     "text": [
      "Best score: 7.085292085973497\n",
      "Best estimator: DecisionTreeRegressor(max_depth=5, random_state=12345)\n"
     ]
    }
   ],
   "source": [
    "print('Best score:',-cv_dt_r.best_score_)\n",
    "print('Best estimator:',cv_dt_r.best_estimator_)"
   ]
  },
  {
   "cell_type": "markdown",
   "id": "3c96aab0",
   "metadata": {},
   "source": [
    "обучение на модели DecisionTreeRegressor с перебором параметров для final стадии"
   ]
  },
  {
   "cell_type": "code",
   "execution_count": 64,
   "id": "81eb3f85",
   "metadata": {},
   "outputs": [
    {
     "name": "stdout",
     "output_type": "stream",
     "text": [
      "Fitting 5 folds for each of 4 candidates, totalling 20 fits\n",
      "[CV 1/5; 1/4] START max_depth=1.................................................\n",
      "[CV 1/5; 1/4] END ...............................max_depth=1; total time=   0.0s\n",
      "[CV 2/5; 1/4] START max_depth=1.................................................\n",
      "[CV 2/5; 1/4] END ...............................max_depth=1; total time=   0.0s\n",
      "[CV 3/5; 1/4] START max_depth=1.................................................\n",
      "[CV 3/5; 1/4] END ...............................max_depth=1; total time=   0.0s\n",
      "[CV 4/5; 1/4] START max_depth=1.................................................\n",
      "[CV 4/5; 1/4] END ...............................max_depth=1; total time=   0.0s\n",
      "[CV 5/5; 1/4] START max_depth=1.................................................\n",
      "[CV 5/5; 1/4] END ...............................max_depth=1; total time=   0.1s\n",
      "[CV 1/5; 2/4] START max_depth=5.................................................\n",
      "[CV 1/5; 2/4] END ...............................max_depth=5; total time=   0.2s\n",
      "[CV 2/5; 2/4] START max_depth=5.................................................\n",
      "[CV 2/5; 2/4] END ...............................max_depth=5; total time=   0.1s\n",
      "[CV 3/5; 2/4] START max_depth=5.................................................\n",
      "[CV 3/5; 2/4] END ...............................max_depth=5; total time=   0.1s\n",
      "[CV 4/5; 2/4] START max_depth=5.................................................\n",
      "[CV 4/5; 2/4] END ...............................max_depth=5; total time=   0.2s\n",
      "[CV 5/5; 2/4] START max_depth=5.................................................\n",
      "[CV 5/5; 2/4] END ...............................max_depth=5; total time=   0.1s\n",
      "[CV 1/5; 3/4] START max_depth=7.................................................\n",
      "[CV 1/5; 3/4] END ...............................max_depth=7; total time=   0.2s\n",
      "[CV 2/5; 3/4] START max_depth=7.................................................\n",
      "[CV 2/5; 3/4] END ...............................max_depth=7; total time=   0.2s\n",
      "[CV 3/5; 3/4] START max_depth=7.................................................\n",
      "[CV 3/5; 3/4] END ...............................max_depth=7; total time=   0.2s\n",
      "[CV 4/5; 3/4] START max_depth=7.................................................\n",
      "[CV 4/5; 3/4] END ...............................max_depth=7; total time=   0.2s\n",
      "[CV 5/5; 3/4] START max_depth=7.................................................\n",
      "[CV 5/5; 3/4] END ...............................max_depth=7; total time=   0.2s\n",
      "[CV 1/5; 4/4] START max_depth=10................................................\n",
      "[CV 1/5; 4/4] END ..............................max_depth=10; total time=   0.3s\n",
      "[CV 2/5; 4/4] START max_depth=10................................................\n",
      "[CV 2/5; 4/4] END ..............................max_depth=10; total time=   0.3s\n",
      "[CV 3/5; 4/4] START max_depth=10................................................\n",
      "[CV 3/5; 4/4] END ..............................max_depth=10; total time=   0.3s\n",
      "[CV 4/5; 4/4] START max_depth=10................................................\n",
      "[CV 4/5; 4/4] END ..............................max_depth=10; total time=   0.2s\n",
      "[CV 5/5; 4/4] START max_depth=10................................................\n",
      "[CV 5/5; 4/4] END ..............................max_depth=10; total time=   0.3s\n"
     ]
    },
    {
     "data": {
      "text/plain": [
       "GridSearchCV(cv=5, estimator=DecisionTreeRegressor(random_state=12345),\n",
       "             n_jobs=-1, param_grid={'max_depth': [1, 5, 7, 10]},\n",
       "             scoring=make_scorer(sMAPE, greater_is_better=False), verbose=10)"
      ]
     },
     "execution_count": 64,
     "metadata": {},
     "output_type": "execute_result"
    }
   ],
   "source": [
    "cv_dt_f = GridSearchCV(estimator = model_dt, param_grid = parameters_dt,\n",
    "                       cv = 5,n_jobs=-1, scoring = custom_smpe,\n",
    "                      verbose=10)\n",
    "cv_dt_f.fit(final_train_features, final_train_target)"
   ]
  },
  {
   "cell_type": "code",
   "execution_count": 65,
   "id": "318a090c",
   "metadata": {},
   "outputs": [
    {
     "name": "stdout",
     "output_type": "stream",
     "text": [
      "Best score: 10.141528856897722\n",
      "Best estimator: DecisionTreeRegressor(max_depth=1, random_state=12345)\n"
     ]
    }
   ],
   "source": [
    "print('Best score:',-cv_dt_f.best_score_)\n",
    "print('Best estimator:',cv_dt_f.best_estimator_)"
   ]
  },
  {
   "cell_type": "code",
   "execution_count": 91,
   "id": "1fe8e737",
   "metadata": {},
   "outputs": [
    {
     "name": "stdout",
     "output_type": "stream",
     "text": [
      "DecisionTreeRegressor\n",
      "Итоговая sMAPE:  9.38 %\n"
     ]
    }
   ],
   "source": [
    "print('DecisionTreeRegressor')\n",
    "print('Итоговая sMAPE:  {:.2f} %'.format(sMAPE_final(-cv_dt_r.best_score_, -cv_dt_f.best_score_)))"
   ]
  },
  {
   "cell_type": "markdown",
   "id": "b667a78d",
   "metadata": {},
   "source": [
    "обучение на модели DecisionTreeRegressor с перебором параметров для rougher стадии"
   ]
  },
  {
   "cell_type": "markdown",
   "id": "3e26e4ca",
   "metadata": {},
   "source": [
    "Метрика итогового значения sMAPE у модели RandomForestRegressor оказалась ниже, с глубиной max_depth=1 и колличеством деревьев n_estimators=30  . Ее мы будешь использовать на тестировании нашей модели "
   ]
  },
  {
   "cell_type": "markdown",
   "id": "0dd976f2",
   "metadata": {},
   "source": [
    "**Проверяем на тестовой выборке**"
   ]
  },
  {
   "cell_type": "code",
   "execution_count": 67,
   "id": "add9f365",
   "metadata": {},
   "outputs": [],
   "source": [
    "rougher_test_predictions = cv_rf_r.predict(rougher_test_features)"
   ]
  },
  {
   "cell_type": "code",
   "execution_count": 85,
   "id": "803c14a5",
   "metadata": {},
   "outputs": [],
   "source": [
    "final_test_predictions = cv_rf_f.predict(final_test_features)"
   ]
  },
  {
   "cell_type": "code",
   "execution_count": 86,
   "id": "11597ab4",
   "metadata": {},
   "outputs": [
    {
     "name": "stdout",
     "output_type": "stream",
     "text": [
      "Итоговая sMAPE на тестовой выборке:  6.87 %\n"
     ]
    }
   ],
   "source": [
    "print('Итоговая sMAPE на тестовой выборке:  {:.2f} %'.format(sMAPE_final(sMAPE(rougher_test_target, rougher_test_predictions),\n",
    "            sMAPE(final_test_target, final_test_predictions))))"
   ]
  },
  {
   "cell_type": "markdown",
   "id": "05569206",
   "metadata": {},
   "source": [
    "**Проверяем на константной модели**"
   ]
  },
  {
   "cell_type": "code",
   "execution_count": 71,
   "id": "01eff4b3",
   "metadata": {},
   "outputs": [],
   "source": [
    "train_r = df_train.loc[~df_train['rougher.output.recovery'].isna()]\n",
    "train_f = df_train.loc[~df_train['final.output.recovery'].isna()]"
   ]
  },
  {
   "cell_type": "code",
   "execution_count": 72,
   "id": "072ca05a",
   "metadata": {},
   "outputs": [
    {
     "name": "stdout",
     "output_type": "stream",
     "text": [
      "Количество объектов обучающей выборки: 13795\n",
      "Количество объектов обучающей выборки: 13795\n"
     ]
    }
   ],
   "source": [
    "print('Количество объектов обучающей выборки: {}'.format(len(train_r)))\n",
    "print('Количество объектов обучающей выборки: {}'.format(len(train_f)))"
   ]
  },
  {
   "cell_type": "code",
   "execution_count": 76,
   "id": "5b494054",
   "metadata": {},
   "outputs": [],
   "source": [
    "y_true_r = df_full.loc[df_test.index, 'rougher.output.recovery'].dropna()\n",
    "y_true_f = df_full.loc[df_test.index, 'final.output.recovery'].dropna()"
   ]
  },
  {
   "cell_type": "code",
   "execution_count": 77,
   "id": "2ae1e2a2",
   "metadata": {},
   "outputs": [],
   "source": [
    "dummy_pred_r = np.array([train_r['rougher.output.recovery'].mean() for _ in range(len(y_true_r))])\n",
    "dummy_pred_f = np.array([train_f['final.output.recovery'].mean() for _ in range(len(y_true_f))])"
   ]
  },
  {
   "cell_type": "code",
   "execution_count": 78,
   "id": "38f2a91c",
   "metadata": {},
   "outputs": [
    {
     "name": "stdout",
     "output_type": "stream",
     "text": [
      "Константная модель\n",
      "sMAPE флотации на тестовой выборке: 5.38 %\n",
      "sMAPE очистки на тестовой выборке:  8.56 %\n",
      "Итоговая sMAPE на тестовой выборке: 7.77 %\n"
     ]
    }
   ],
   "source": [
    "print('Константная модель')\n",
    "print('sMAPE флотации на тестовой выборке: {:.2f} %'.format(sMAPE(y_true_r, dummy_pred_r)))\n",
    "print('sMAPE очистки на тестовой выборке:  {:.2f} %'.format(sMAPE(y_true_f, dummy_pred_f)))\n",
    "smape_dummy = sMAPE_final(sMAPE(y_true_r, dummy_pred_r), sMAPE(y_true_f, dummy_pred_f))\n",
    "print('Итоговая sMAPE на тестовой выборке: {:.2f} %'.format(smape_dummy))"
   ]
  },
  {
   "cell_type": "markdown",
   "id": "8d12cd3e",
   "metadata": {},
   "source": [
    "- Итоговое sMAPE для RandomForestRegressor - 9.20 %\n",
    "- Итоговое sMAPE для DecisionTreeRegressor -  9.377\n",
    "\n",
    "- Итоговое sMAPE для RandomForestRegressor на тестовой выборке - 6.871\n",
    "\n",
    " - Лучше всех показал себя DecisionTreeRegressor с sMape 0.03240105950214275"
   ]
  },
  {
   "cell_type": "markdown",
   "id": "e523b133",
   "metadata": {},
   "source": [
    "## Общий вывод исследования"
   ]
  },
  {
   "cell_type": "markdown",
   "id": "a85908ae",
   "metadata": {},
   "source": [
    "\n",
    "- В данных для df_test отсутствовали целевые признаки, для более быстрых исследования лучше вносить их заранее\n",
    "- Были исследованы распределения концентрации металлов во время различных этапов\n",
    "- Концентрация золота увеличивается после всех этапов обработки\n",
    "- В данных присутствовали аномалии, которые во время исследования были обнаружены и удалены. ( 3~% данных) \n",
    "- Выделение и добавление целевых признаков\n",
    "- Было выявлено что, распределения размеров гранул сырья на обучающей и тестовой выборках почти одинаковы\n",
    "- Суммарная концентрация увеличивается на каждом этапе обработки\n",
    "\n",
    "- Проведено исследование разных моделей машинного обучения с различными гиперпараметрами\n",
    "- Была выявлена лучшая модель, которая показала результаты финального sMAPE 0.03240105950214275\n",
    "  \n",
    "  **Для данной задачи лучше всего подходит DecisionTreeRegressor**"
   ]
  }
 ],
 "metadata": {
  "ExecuteTimeLog": [
   {
    "duration": 9,
    "start_time": "2023-02-25T10:30:00.022Z"
   },
   {
    "duration": 253,
    "start_time": "2023-02-25T10:30:07.568Z"
   },
   {
    "duration": 1819,
    "start_time": "2023-02-25T10:32:40.994Z"
   },
   {
    "duration": 719,
    "start_time": "2023-02-25T10:32:42.815Z"
   },
   {
    "duration": 57,
    "start_time": "2023-02-25T10:32:43.536Z"
   },
   {
    "duration": 62,
    "start_time": "2023-02-25T10:32:43.595Z"
   },
   {
    "duration": 641,
    "start_time": "2023-02-25T10:32:43.658Z"
   },
   {
    "duration": 19,
    "start_time": "2023-02-25T10:32:44.301Z"
   },
   {
    "duration": 10,
    "start_time": "2023-02-25T10:32:44.322Z"
   },
   {
    "duration": 48,
    "start_time": "2023-02-25T10:32:44.334Z"
   },
   {
    "duration": 15,
    "start_time": "2023-02-25T10:32:44.385Z"
   },
   {
    "duration": 236,
    "start_time": "2023-02-25T10:32:44.403Z"
   },
   {
    "duration": 3,
    "start_time": "2023-02-25T10:32:44.641Z"
   },
   {
    "duration": 26,
    "start_time": "2023-02-25T10:32:44.645Z"
   },
   {
    "duration": 12,
    "start_time": "2023-02-25T10:32:44.672Z"
   },
   {
    "duration": 31,
    "start_time": "2023-02-25T10:32:44.686Z"
   },
   {
    "duration": 35,
    "start_time": "2023-02-25T10:32:44.718Z"
   },
   {
    "duration": 46,
    "start_time": "2023-02-25T10:32:44.754Z"
   },
   {
    "duration": 17,
    "start_time": "2023-02-25T10:32:44.802Z"
   },
   {
    "duration": 30,
    "start_time": "2023-02-25T10:32:44.820Z"
   },
   {
    "duration": 6,
    "start_time": "2023-02-25T10:32:44.852Z"
   },
   {
    "duration": 13,
    "start_time": "2023-02-25T10:32:44.859Z"
   },
   {
    "duration": 21,
    "start_time": "2023-02-25T10:32:44.874Z"
   },
   {
    "duration": 2939,
    "start_time": "2023-02-25T10:32:44.897Z"
   },
   {
    "duration": 14,
    "start_time": "2023-02-25T10:32:47.838Z"
   },
   {
    "duration": 221,
    "start_time": "2023-02-25T10:32:47.853Z"
   },
   {
    "duration": 213,
    "start_time": "2023-02-25T10:32:48.075Z"
   },
   {
    "duration": 662,
    "start_time": "2023-02-25T10:32:48.290Z"
   },
   {
    "duration": 2,
    "start_time": "2023-02-25T10:32:48.954Z"
   },
   {
    "duration": 94,
    "start_time": "2023-02-25T10:32:48.961Z"
   },
   {
    "duration": 747,
    "start_time": "2023-02-25T10:32:49.057Z"
   },
   {
    "duration": 192,
    "start_time": "2023-02-25T10:32:49.806Z"
   },
   {
    "duration": 5,
    "start_time": "2023-02-25T10:32:50.000Z"
   },
   {
    "duration": 43,
    "start_time": "2023-02-25T10:32:50.007Z"
   },
   {
    "duration": 17,
    "start_time": "2023-02-25T10:32:50.052Z"
   },
   {
    "duration": 22,
    "start_time": "2023-02-25T10:32:50.071Z"
   },
   {
    "duration": 692,
    "start_time": "2023-02-25T10:32:50.094Z"
   },
   {
    "duration": 3,
    "start_time": "2023-02-25T10:32:50.791Z"
   },
   {
    "duration": 8,
    "start_time": "2023-02-25T10:32:50.796Z"
   },
   {
    "duration": 5,
    "start_time": "2023-02-25T10:32:50.806Z"
   },
   {
    "duration": 11,
    "start_time": "2023-02-25T10:32:50.813Z"
   },
   {
    "duration": 8,
    "start_time": "2023-02-25T10:32:50.825Z"
   },
   {
    "duration": 146,
    "start_time": "2023-02-25T10:32:50.835Z"
   },
   {
    "duration": 0,
    "start_time": "2023-02-25T10:32:50.983Z"
   },
   {
    "duration": 0,
    "start_time": "2023-02-25T10:32:50.984Z"
   },
   {
    "duration": 0,
    "start_time": "2023-02-25T10:32:50.986Z"
   },
   {
    "duration": 0,
    "start_time": "2023-02-25T10:32:50.987Z"
   },
   {
    "duration": 0,
    "start_time": "2023-02-25T10:32:50.992Z"
   },
   {
    "duration": 0,
    "start_time": "2023-02-25T10:32:50.993Z"
   },
   {
    "duration": 0,
    "start_time": "2023-02-25T10:32:50.994Z"
   },
   {
    "duration": 0,
    "start_time": "2023-02-25T10:32:50.995Z"
   },
   {
    "duration": 0,
    "start_time": "2023-02-25T10:32:50.997Z"
   },
   {
    "duration": 0,
    "start_time": "2023-02-25T10:32:50.998Z"
   },
   {
    "duration": 0,
    "start_time": "2023-02-25T10:32:50.999Z"
   },
   {
    "duration": 0,
    "start_time": "2023-02-25T10:32:50.999Z"
   },
   {
    "duration": 0,
    "start_time": "2023-02-25T10:32:51.001Z"
   },
   {
    "duration": 0,
    "start_time": "2023-02-25T10:32:51.001Z"
   },
   {
    "duration": 0,
    "start_time": "2023-02-25T10:32:51.002Z"
   },
   {
    "duration": 0,
    "start_time": "2023-02-25T10:32:51.003Z"
   },
   {
    "duration": 0,
    "start_time": "2023-02-25T10:32:51.005Z"
   },
   {
    "duration": 0,
    "start_time": "2023-02-25T10:32:51.006Z"
   },
   {
    "duration": 0,
    "start_time": "2023-02-25T10:32:51.007Z"
   },
   {
    "duration": 0,
    "start_time": "2023-02-25T10:32:51.008Z"
   },
   {
    "duration": 0,
    "start_time": "2023-02-25T10:32:51.009Z"
   },
   {
    "duration": 0,
    "start_time": "2023-02-25T10:32:51.010Z"
   },
   {
    "duration": 0,
    "start_time": "2023-02-25T10:32:51.011Z"
   },
   {
    "duration": 4,
    "start_time": "2023-02-25T10:32:54.626Z"
   },
   {
    "duration": 5,
    "start_time": "2023-02-25T10:33:10.077Z"
   },
   {
    "duration": 32,
    "start_time": "2023-02-25T10:33:33.141Z"
   },
   {
    "duration": 6,
    "start_time": "2023-02-25T10:33:33.436Z"
   },
   {
    "duration": 10,
    "start_time": "2023-02-25T10:33:33.935Z"
   },
   {
    "duration": 37,
    "start_time": "2023-02-25T10:33:40.462Z"
   },
   {
    "duration": 7,
    "start_time": "2023-02-25T10:33:52.811Z"
   },
   {
    "duration": 28,
    "start_time": "2023-02-25T10:34:02.982Z"
   },
   {
    "duration": 4,
    "start_time": "2023-02-25T10:34:17.975Z"
   },
   {
    "duration": 4,
    "start_time": "2023-02-25T10:34:25.319Z"
   },
   {
    "duration": 6,
    "start_time": "2023-02-25T10:35:59.687Z"
   },
   {
    "duration": 6,
    "start_time": "2023-02-25T10:36:16.296Z"
   },
   {
    "duration": 5,
    "start_time": "2023-02-25T10:36:20.958Z"
   },
   {
    "duration": 4,
    "start_time": "2023-02-25T10:36:23.290Z"
   },
   {
    "duration": 5,
    "start_time": "2023-02-25T10:36:26.764Z"
   },
   {
    "duration": 28,
    "start_time": "2023-02-25T10:36:33.242Z"
   },
   {
    "duration": 4,
    "start_time": "2023-02-25T10:36:36.505Z"
   },
   {
    "duration": 5,
    "start_time": "2023-02-25T10:36:43.396Z"
   },
   {
    "duration": 4,
    "start_time": "2023-02-25T10:36:48.460Z"
   },
   {
    "duration": 1918,
    "start_time": "2023-02-25T10:37:09.945Z"
   },
   {
    "duration": 750,
    "start_time": "2023-02-25T10:37:11.864Z"
   },
   {
    "duration": 47,
    "start_time": "2023-02-25T10:37:12.616Z"
   },
   {
    "duration": 88,
    "start_time": "2023-02-25T10:37:12.666Z"
   },
   {
    "duration": 671,
    "start_time": "2023-02-25T10:37:12.756Z"
   },
   {
    "duration": 18,
    "start_time": "2023-02-25T10:37:13.428Z"
   },
   {
    "duration": 11,
    "start_time": "2023-02-25T10:37:13.448Z"
   },
   {
    "duration": 37,
    "start_time": "2023-02-25T10:37:13.461Z"
   },
   {
    "duration": 11,
    "start_time": "2023-02-25T10:37:13.501Z"
   },
   {
    "duration": 240,
    "start_time": "2023-02-25T10:37:13.515Z"
   },
   {
    "duration": 3,
    "start_time": "2023-02-25T10:37:13.756Z"
   },
   {
    "duration": 10,
    "start_time": "2023-02-25T10:37:13.761Z"
   },
   {
    "duration": 21,
    "start_time": "2023-02-25T10:37:13.773Z"
   },
   {
    "duration": 7,
    "start_time": "2023-02-25T10:37:13.796Z"
   },
   {
    "duration": 7,
    "start_time": "2023-02-25T10:37:13.805Z"
   },
   {
    "duration": 22,
    "start_time": "2023-02-25T10:37:13.814Z"
   },
   {
    "duration": 7,
    "start_time": "2023-02-25T10:37:13.838Z"
   },
   {
    "duration": 11,
    "start_time": "2023-02-25T10:37:13.847Z"
   },
   {
    "duration": 6,
    "start_time": "2023-02-25T10:37:13.892Z"
   },
   {
    "duration": 6,
    "start_time": "2023-02-25T10:37:13.900Z"
   },
   {
    "duration": 6,
    "start_time": "2023-02-25T10:37:13.908Z"
   },
   {
    "duration": 2909,
    "start_time": "2023-02-25T10:37:13.916Z"
   },
   {
    "duration": 16,
    "start_time": "2023-02-25T10:37:16.827Z"
   },
   {
    "duration": 226,
    "start_time": "2023-02-25T10:37:16.845Z"
   },
   {
    "duration": 247,
    "start_time": "2023-02-25T10:37:17.073Z"
   },
   {
    "duration": 567,
    "start_time": "2023-02-25T10:37:17.322Z"
   },
   {
    "duration": 4,
    "start_time": "2023-02-25T10:37:17.892Z"
   },
   {
    "duration": 51,
    "start_time": "2023-02-25T10:37:17.901Z"
   },
   {
    "duration": 748,
    "start_time": "2023-02-25T10:37:17.954Z"
   },
   {
    "duration": 188,
    "start_time": "2023-02-25T10:37:18.704Z"
   },
   {
    "duration": 5,
    "start_time": "2023-02-25T10:37:18.894Z"
   },
   {
    "duration": 42,
    "start_time": "2023-02-25T10:37:18.901Z"
   },
   {
    "duration": 21,
    "start_time": "2023-02-25T10:37:18.945Z"
   },
   {
    "duration": 23,
    "start_time": "2023-02-25T10:37:18.968Z"
   },
   {
    "duration": 689,
    "start_time": "2023-02-25T10:37:18.992Z"
   },
   {
    "duration": 9,
    "start_time": "2023-02-25T10:37:19.683Z"
   },
   {
    "duration": 9,
    "start_time": "2023-02-25T10:37:19.694Z"
   },
   {
    "duration": 12,
    "start_time": "2023-02-25T10:37:19.705Z"
   },
   {
    "duration": 18,
    "start_time": "2023-02-25T10:37:19.719Z"
   },
   {
    "duration": 6,
    "start_time": "2023-02-25T10:37:19.739Z"
   },
   {
    "duration": 34,
    "start_time": "2023-02-25T10:37:19.747Z"
   },
   {
    "duration": 22,
    "start_time": "2023-02-25T10:37:19.783Z"
   },
   {
    "duration": 32,
    "start_time": "2023-02-25T10:37:19.807Z"
   },
   {
    "duration": 26,
    "start_time": "2023-02-25T10:37:19.841Z"
   },
   {
    "duration": 8,
    "start_time": "2023-02-25T10:37:19.869Z"
   },
   {
    "duration": 47,
    "start_time": "2023-02-25T10:37:19.878Z"
   },
   {
    "duration": 19,
    "start_time": "2023-02-25T10:37:19.927Z"
   },
   {
    "duration": 21,
    "start_time": "2023-02-25T10:37:19.947Z"
   },
   {
    "duration": 21,
    "start_time": "2023-02-25T10:37:19.970Z"
   },
   {
    "duration": 29,
    "start_time": "2023-02-25T10:37:19.993Z"
   },
   {
    "duration": 9,
    "start_time": "2023-02-25T10:37:20.024Z"
   },
   {
    "duration": 19,
    "start_time": "2023-02-25T10:37:20.035Z"
   },
   {
    "duration": 32,
    "start_time": "2023-02-25T10:37:20.056Z"
   },
   {
    "duration": 13,
    "start_time": "2023-02-25T10:37:20.090Z"
   },
   {
    "duration": 41572,
    "start_time": "2023-02-25T10:37:20.105Z"
   },
   {
    "duration": 4,
    "start_time": "2023-02-25T10:38:01.679Z"
   },
   {
    "duration": 59825,
    "start_time": "2023-02-25T10:38:01.693Z"
   },
   {
    "duration": 5,
    "start_time": "2023-02-25T10:39:01.519Z"
   },
   {
    "duration": 63,
    "start_time": "2023-02-25T10:39:01.525Z"
   },
   {
    "duration": 2760,
    "start_time": "2023-02-25T10:39:01.590Z"
   },
   {
    "duration": 4,
    "start_time": "2023-02-25T10:39:04.352Z"
   },
   {
    "duration": 3728,
    "start_time": "2023-02-25T10:39:04.358Z"
   },
   {
    "duration": 5,
    "start_time": "2023-02-25T10:39:08.092Z"
   },
   {
    "duration": 13,
    "start_time": "2023-02-25T10:39:08.099Z"
   },
   {
    "duration": 8,
    "start_time": "2023-02-25T10:39:08.114Z"
   },
   {
    "duration": 7,
    "start_time": "2023-02-25T10:39:08.124Z"
   },
   {
    "duration": 10,
    "start_time": "2023-02-25T10:39:08.133Z"
   },
   {
    "duration": 52,
    "start_time": "2023-02-25T11:08:01.773Z"
   },
   {
    "duration": 1674,
    "start_time": "2023-02-25T11:09:52.809Z"
   },
   {
    "duration": 2058,
    "start_time": "2023-02-25T11:09:54.485Z"
   },
   {
    "duration": 48,
    "start_time": "2023-02-25T11:09:56.545Z"
   },
   {
    "duration": 65,
    "start_time": "2023-02-25T11:09:56.596Z"
   },
   {
    "duration": 696,
    "start_time": "2023-02-25T11:09:56.663Z"
   },
   {
    "duration": 18,
    "start_time": "2023-02-25T11:09:57.361Z"
   },
   {
    "duration": 31,
    "start_time": "2023-02-25T11:09:57.380Z"
   },
   {
    "duration": 10,
    "start_time": "2023-02-25T11:09:57.413Z"
   },
   {
    "duration": 15,
    "start_time": "2023-02-25T11:09:57.424Z"
   },
   {
    "duration": 271,
    "start_time": "2023-02-25T11:09:57.442Z"
   },
   {
    "duration": 3,
    "start_time": "2023-02-25T11:09:57.715Z"
   },
   {
    "duration": 10,
    "start_time": "2023-02-25T11:09:57.719Z"
   },
   {
    "duration": 5,
    "start_time": "2023-02-25T11:09:57.731Z"
   },
   {
    "duration": 6,
    "start_time": "2023-02-25T11:09:57.738Z"
   },
   {
    "duration": 10,
    "start_time": "2023-02-25T11:09:57.745Z"
   },
   {
    "duration": 42,
    "start_time": "2023-02-25T11:09:57.757Z"
   },
   {
    "duration": 9,
    "start_time": "2023-02-25T11:09:57.801Z"
   },
   {
    "duration": 17,
    "start_time": "2023-02-25T11:09:57.812Z"
   },
   {
    "duration": 6,
    "start_time": "2023-02-25T11:09:57.831Z"
   },
   {
    "duration": 6,
    "start_time": "2023-02-25T11:09:57.839Z"
   },
   {
    "duration": 4,
    "start_time": "2023-02-25T11:09:57.847Z"
   },
   {
    "duration": 6,
    "start_time": "2023-02-25T11:09:57.853Z"
   },
   {
    "duration": 3133,
    "start_time": "2023-02-25T11:09:57.861Z"
   },
   {
    "duration": 20,
    "start_time": "2023-02-25T11:10:01.000Z"
   },
   {
    "duration": 284,
    "start_time": "2023-02-25T11:10:01.022Z"
   },
   {
    "duration": 244,
    "start_time": "2023-02-25T11:10:01.308Z"
   },
   {
    "duration": 728,
    "start_time": "2023-02-25T11:10:01.554Z"
   },
   {
    "duration": 4,
    "start_time": "2023-02-25T11:10:02.286Z"
   },
   {
    "duration": 94,
    "start_time": "2023-02-25T11:10:02.292Z"
   },
   {
    "duration": 784,
    "start_time": "2023-02-25T11:10:02.388Z"
   },
   {
    "duration": 199,
    "start_time": "2023-02-25T11:10:03.174Z"
   },
   {
    "duration": 5,
    "start_time": "2023-02-25T11:10:03.375Z"
   },
   {
    "duration": 40,
    "start_time": "2023-02-25T11:10:03.381Z"
   },
   {
    "duration": 16,
    "start_time": "2023-02-25T11:10:03.422Z"
   },
   {
    "duration": 7,
    "start_time": "2023-02-25T11:10:03.441Z"
   },
   {
    "duration": 776,
    "start_time": "2023-02-25T11:10:03.450Z"
   },
   {
    "duration": 4,
    "start_time": "2023-02-25T11:10:04.228Z"
   },
   {
    "duration": 23,
    "start_time": "2023-02-25T11:10:04.233Z"
   },
   {
    "duration": 9,
    "start_time": "2023-02-25T11:10:04.257Z"
   },
   {
    "duration": 13,
    "start_time": "2023-02-25T11:10:04.268Z"
   },
   {
    "duration": 116,
    "start_time": "2023-02-25T11:10:04.283Z"
   },
   {
    "duration": 0,
    "start_time": "2023-02-25T11:10:04.400Z"
   },
   {
    "duration": 0,
    "start_time": "2023-02-25T11:10:04.402Z"
   },
   {
    "duration": 0,
    "start_time": "2023-02-25T11:10:04.403Z"
   },
   {
    "duration": 0,
    "start_time": "2023-02-25T11:10:04.404Z"
   },
   {
    "duration": 0,
    "start_time": "2023-02-25T11:10:04.405Z"
   },
   {
    "duration": 0,
    "start_time": "2023-02-25T11:10:04.406Z"
   },
   {
    "duration": 0,
    "start_time": "2023-02-25T11:10:04.407Z"
   },
   {
    "duration": 0,
    "start_time": "2023-02-25T11:10:04.408Z"
   },
   {
    "duration": 0,
    "start_time": "2023-02-25T11:10:04.409Z"
   },
   {
    "duration": 0,
    "start_time": "2023-02-25T11:10:04.410Z"
   },
   {
    "duration": 0,
    "start_time": "2023-02-25T11:10:04.411Z"
   },
   {
    "duration": 0,
    "start_time": "2023-02-25T11:10:04.412Z"
   },
   {
    "duration": 0,
    "start_time": "2023-02-25T11:10:04.412Z"
   },
   {
    "duration": 1,
    "start_time": "2023-02-25T11:10:04.413Z"
   },
   {
    "duration": 0,
    "start_time": "2023-02-25T11:10:04.414Z"
   },
   {
    "duration": 0,
    "start_time": "2023-02-25T11:10:04.416Z"
   },
   {
    "duration": 0,
    "start_time": "2023-02-25T11:10:04.417Z"
   },
   {
    "duration": 0,
    "start_time": "2023-02-25T11:10:04.418Z"
   },
   {
    "duration": 0,
    "start_time": "2023-02-25T11:10:04.419Z"
   },
   {
    "duration": 0,
    "start_time": "2023-02-25T11:10:04.421Z"
   },
   {
    "duration": 0,
    "start_time": "2023-02-25T11:10:04.422Z"
   },
   {
    "duration": 0,
    "start_time": "2023-02-25T11:10:04.424Z"
   },
   {
    "duration": 0,
    "start_time": "2023-02-25T11:10:04.425Z"
   },
   {
    "duration": 0,
    "start_time": "2023-02-25T11:10:04.426Z"
   },
   {
    "duration": 0,
    "start_time": "2023-02-25T11:10:04.427Z"
   },
   {
    "duration": 0,
    "start_time": "2023-02-25T11:10:04.428Z"
   },
   {
    "duration": 0,
    "start_time": "2023-02-25T11:10:04.429Z"
   },
   {
    "duration": 4,
    "start_time": "2023-02-25T11:20:18.814Z"
   },
   {
    "duration": 4,
    "start_time": "2023-02-25T11:20:38.498Z"
   },
   {
    "duration": 3,
    "start_time": "2023-02-25T11:21:09.173Z"
   },
   {
    "duration": 4,
    "start_time": "2023-02-25T11:21:16.378Z"
   },
   {
    "duration": 4,
    "start_time": "2023-02-25T11:21:29.021Z"
   },
   {
    "duration": 4,
    "start_time": "2023-02-25T11:26:12.764Z"
   },
   {
    "duration": 1022,
    "start_time": "2023-02-25T11:26:13.400Z"
   },
   {
    "duration": 848,
    "start_time": "2023-02-25T11:26:36.624Z"
   },
   {
    "duration": 4,
    "start_time": "2023-02-25T11:26:48.615Z"
   },
   {
    "duration": 2572,
    "start_time": "2023-02-25T11:26:50.748Z"
   },
   {
    "duration": 4,
    "start_time": "2023-02-25T11:27:21.401Z"
   },
   {
    "duration": 974,
    "start_time": "2023-02-25T11:27:24.265Z"
   },
   {
    "duration": 4,
    "start_time": "2023-02-25T11:33:15.022Z"
   },
   {
    "duration": 2502,
    "start_time": "2023-02-25T11:33:16.091Z"
   },
   {
    "duration": 3,
    "start_time": "2023-02-25T11:33:45.645Z"
   },
   {
    "duration": 2874,
    "start_time": "2023-02-25T11:33:47.650Z"
   },
   {
    "duration": 4,
    "start_time": "2023-02-25T11:34:07.870Z"
   },
   {
    "duration": 2563,
    "start_time": "2023-02-25T11:34:08.363Z"
   },
   {
    "duration": 12,
    "start_time": "2023-02-25T11:37:16.761Z"
   },
   {
    "duration": 14,
    "start_time": "2023-02-25T11:38:36.890Z"
   },
   {
    "duration": 13,
    "start_time": "2023-02-25T11:38:36.951Z"
   },
   {
    "duration": 14,
    "start_time": "2023-02-25T11:39:33.867Z"
   },
   {
    "duration": 16,
    "start_time": "2023-02-25T11:39:51.455Z"
   },
   {
    "duration": 707,
    "start_time": "2023-02-25T11:39:53.324Z"
   },
   {
    "duration": 1515,
    "start_time": "2023-02-25T11:40:17.315Z"
   },
   {
    "duration": 653,
    "start_time": "2023-02-25T11:40:18.832Z"
   },
   {
    "duration": 47,
    "start_time": "2023-02-25T11:40:19.487Z"
   },
   {
    "duration": 83,
    "start_time": "2023-02-25T11:40:19.535Z"
   },
   {
    "duration": 630,
    "start_time": "2023-02-25T11:40:19.620Z"
   },
   {
    "duration": 18,
    "start_time": "2023-02-25T11:40:20.252Z"
   },
   {
    "duration": 27,
    "start_time": "2023-02-25T11:40:20.272Z"
   },
   {
    "duration": 8,
    "start_time": "2023-02-25T11:40:20.301Z"
   },
   {
    "duration": 16,
    "start_time": "2023-02-25T11:40:20.310Z"
   },
   {
    "duration": 235,
    "start_time": "2023-02-25T11:40:20.328Z"
   },
   {
    "duration": 3,
    "start_time": "2023-02-25T11:40:20.565Z"
   },
   {
    "duration": 15,
    "start_time": "2023-02-25T11:40:20.569Z"
   },
   {
    "duration": 5,
    "start_time": "2023-02-25T11:40:20.585Z"
   },
   {
    "duration": 5,
    "start_time": "2023-02-25T11:40:20.601Z"
   },
   {
    "duration": 18,
    "start_time": "2023-02-25T11:40:20.607Z"
   },
   {
    "duration": 22,
    "start_time": "2023-02-25T11:40:20.627Z"
   },
   {
    "duration": 6,
    "start_time": "2023-02-25T11:40:20.651Z"
   },
   {
    "duration": 14,
    "start_time": "2023-02-25T11:40:20.659Z"
   },
   {
    "duration": 26,
    "start_time": "2023-02-25T11:40:20.675Z"
   },
   {
    "duration": 4,
    "start_time": "2023-02-25T11:40:20.703Z"
   },
   {
    "duration": 10,
    "start_time": "2023-02-25T11:40:20.709Z"
   },
   {
    "duration": 9,
    "start_time": "2023-02-25T11:40:20.720Z"
   },
   {
    "duration": 2743,
    "start_time": "2023-02-25T11:40:20.731Z"
   },
   {
    "duration": 24,
    "start_time": "2023-02-25T11:40:23.475Z"
   },
   {
    "duration": 679,
    "start_time": "2023-02-25T11:40:23.501Z"
   },
   {
    "duration": 26,
    "start_time": "2023-02-25T11:40:24.182Z"
   },
   {
    "duration": 129,
    "start_time": "2023-02-25T11:40:24.210Z"
   },
   {
    "duration": 0,
    "start_time": "2023-02-25T11:40:24.342Z"
   },
   {
    "duration": 0,
    "start_time": "2023-02-25T11:40:24.344Z"
   },
   {
    "duration": 0,
    "start_time": "2023-02-25T11:40:24.345Z"
   },
   {
    "duration": 0,
    "start_time": "2023-02-25T11:40:24.346Z"
   },
   {
    "duration": 0,
    "start_time": "2023-02-25T11:40:24.348Z"
   },
   {
    "duration": 0,
    "start_time": "2023-02-25T11:40:24.349Z"
   },
   {
    "duration": 0,
    "start_time": "2023-02-25T11:40:24.350Z"
   },
   {
    "duration": 0,
    "start_time": "2023-02-25T11:40:24.351Z"
   },
   {
    "duration": 0,
    "start_time": "2023-02-25T11:40:24.353Z"
   },
   {
    "duration": 0,
    "start_time": "2023-02-25T11:40:24.354Z"
   },
   {
    "duration": 0,
    "start_time": "2023-02-25T11:40:24.355Z"
   },
   {
    "duration": 0,
    "start_time": "2023-02-25T11:40:24.357Z"
   },
   {
    "duration": 0,
    "start_time": "2023-02-25T11:40:24.358Z"
   },
   {
    "duration": 0,
    "start_time": "2023-02-25T11:40:24.398Z"
   },
   {
    "duration": 0,
    "start_time": "2023-02-25T11:40:24.399Z"
   },
   {
    "duration": 0,
    "start_time": "2023-02-25T11:40:24.400Z"
   },
   {
    "duration": 0,
    "start_time": "2023-02-25T11:40:24.402Z"
   },
   {
    "duration": 0,
    "start_time": "2023-02-25T11:40:24.403Z"
   },
   {
    "duration": 0,
    "start_time": "2023-02-25T11:40:24.404Z"
   },
   {
    "duration": 0,
    "start_time": "2023-02-25T11:40:24.405Z"
   },
   {
    "duration": 0,
    "start_time": "2023-02-25T11:40:24.407Z"
   },
   {
    "duration": 0,
    "start_time": "2023-02-25T11:40:24.408Z"
   },
   {
    "duration": 0,
    "start_time": "2023-02-25T11:40:24.409Z"
   },
   {
    "duration": 0,
    "start_time": "2023-02-25T11:40:24.411Z"
   },
   {
    "duration": 0,
    "start_time": "2023-02-25T11:40:24.412Z"
   },
   {
    "duration": 0,
    "start_time": "2023-02-25T11:40:24.413Z"
   },
   {
    "duration": 0,
    "start_time": "2023-02-25T11:40:24.415Z"
   },
   {
    "duration": 0,
    "start_time": "2023-02-25T11:40:24.416Z"
   },
   {
    "duration": 0,
    "start_time": "2023-02-25T11:40:24.417Z"
   },
   {
    "duration": 0,
    "start_time": "2023-02-25T11:40:24.418Z"
   },
   {
    "duration": 0,
    "start_time": "2023-02-25T11:40:24.419Z"
   },
   {
    "duration": 0,
    "start_time": "2023-02-25T11:40:24.420Z"
   },
   {
    "duration": 0,
    "start_time": "2023-02-25T11:40:24.421Z"
   },
   {
    "duration": 0,
    "start_time": "2023-02-25T11:40:24.423Z"
   },
   {
    "duration": 0,
    "start_time": "2023-02-25T11:40:24.424Z"
   },
   {
    "duration": 0,
    "start_time": "2023-02-25T11:40:24.426Z"
   },
   {
    "duration": 0,
    "start_time": "2023-02-25T11:40:24.427Z"
   },
   {
    "duration": 0,
    "start_time": "2023-02-25T11:40:24.428Z"
   },
   {
    "duration": 0,
    "start_time": "2023-02-25T11:40:24.429Z"
   },
   {
    "duration": 0,
    "start_time": "2023-02-25T11:40:24.431Z"
   },
   {
    "duration": 0,
    "start_time": "2023-02-25T11:40:24.432Z"
   },
   {
    "duration": 7,
    "start_time": "2023-02-25T11:41:41.855Z"
   },
   {
    "duration": 6,
    "start_time": "2023-02-25T11:41:50.022Z"
   },
   {
    "duration": 6,
    "start_time": "2023-02-25T11:43:25.385Z"
   },
   {
    "duration": 16,
    "start_time": "2023-02-25T11:43:27.324Z"
   },
   {
    "duration": 14,
    "start_time": "2023-02-25T11:43:41.261Z"
   },
   {
    "duration": 1387,
    "start_time": "2023-02-25T11:44:19.167Z"
   },
   {
    "duration": 661,
    "start_time": "2023-02-25T11:44:20.556Z"
   },
   {
    "duration": 45,
    "start_time": "2023-02-25T11:44:21.219Z"
   },
   {
    "duration": 78,
    "start_time": "2023-02-25T11:44:21.266Z"
   },
   {
    "duration": 596,
    "start_time": "2023-02-25T11:44:21.346Z"
   },
   {
    "duration": 17,
    "start_time": "2023-02-25T11:44:21.943Z"
   },
   {
    "duration": 65,
    "start_time": "2023-02-25T11:44:21.962Z"
   },
   {
    "duration": 7,
    "start_time": "2023-02-25T11:44:22.029Z"
   },
   {
    "duration": 21,
    "start_time": "2023-02-25T11:44:22.038Z"
   },
   {
    "duration": 247,
    "start_time": "2023-02-25T11:44:22.061Z"
   },
   {
    "duration": 4,
    "start_time": "2023-02-25T11:44:22.309Z"
   },
   {
    "duration": 11,
    "start_time": "2023-02-25T11:44:22.315Z"
   },
   {
    "duration": 4,
    "start_time": "2023-02-25T11:44:22.328Z"
   },
   {
    "duration": 5,
    "start_time": "2023-02-25T11:44:22.336Z"
   },
   {
    "duration": 8,
    "start_time": "2023-02-25T11:44:22.342Z"
   },
   {
    "duration": 50,
    "start_time": "2023-02-25T11:44:22.352Z"
   },
   {
    "duration": 6,
    "start_time": "2023-02-25T11:44:22.404Z"
   },
   {
    "duration": 15,
    "start_time": "2023-02-25T11:44:22.412Z"
   },
   {
    "duration": 22,
    "start_time": "2023-02-25T11:44:22.429Z"
   },
   {
    "duration": 12,
    "start_time": "2023-02-25T11:44:22.453Z"
   },
   {
    "duration": 11,
    "start_time": "2023-02-25T11:44:22.467Z"
   },
   {
    "duration": 6,
    "start_time": "2023-02-25T11:44:22.480Z"
   },
   {
    "duration": 3654,
    "start_time": "2023-02-25T11:44:22.487Z"
   },
   {
    "duration": 60,
    "start_time": "2023-02-25T11:44:26.143Z"
   },
   {
    "duration": 24,
    "start_time": "2023-02-25T11:44:26.205Z"
   },
   {
    "duration": 895,
    "start_time": "2023-02-25T11:44:26.231Z"
   },
   {
    "duration": 15,
    "start_time": "2023-02-25T11:44:27.127Z"
   },
   {
    "duration": 158,
    "start_time": "2023-02-25T11:44:27.144Z"
   },
   {
    "duration": 0,
    "start_time": "2023-02-25T11:44:27.304Z"
   },
   {
    "duration": 0,
    "start_time": "2023-02-25T11:44:27.306Z"
   },
   {
    "duration": 0,
    "start_time": "2023-02-25T11:44:27.307Z"
   },
   {
    "duration": 0,
    "start_time": "2023-02-25T11:44:27.308Z"
   },
   {
    "duration": 0,
    "start_time": "2023-02-25T11:44:27.309Z"
   },
   {
    "duration": 0,
    "start_time": "2023-02-25T11:44:27.310Z"
   },
   {
    "duration": 0,
    "start_time": "2023-02-25T11:44:27.311Z"
   },
   {
    "duration": 0,
    "start_time": "2023-02-25T11:44:27.312Z"
   },
   {
    "duration": 0,
    "start_time": "2023-02-25T11:44:27.313Z"
   },
   {
    "duration": 0,
    "start_time": "2023-02-25T11:44:27.314Z"
   },
   {
    "duration": 0,
    "start_time": "2023-02-25T11:44:27.315Z"
   },
   {
    "duration": 0,
    "start_time": "2023-02-25T11:44:27.316Z"
   },
   {
    "duration": 0,
    "start_time": "2023-02-25T11:44:27.318Z"
   },
   {
    "duration": 0,
    "start_time": "2023-02-25T11:44:27.319Z"
   },
   {
    "duration": 0,
    "start_time": "2023-02-25T11:44:27.320Z"
   },
   {
    "duration": 0,
    "start_time": "2023-02-25T11:44:27.321Z"
   },
   {
    "duration": 0,
    "start_time": "2023-02-25T11:44:27.322Z"
   },
   {
    "duration": 0,
    "start_time": "2023-02-25T11:44:27.323Z"
   },
   {
    "duration": 0,
    "start_time": "2023-02-25T11:44:27.324Z"
   },
   {
    "duration": 0,
    "start_time": "2023-02-25T11:44:27.325Z"
   },
   {
    "duration": 0,
    "start_time": "2023-02-25T11:44:27.326Z"
   },
   {
    "duration": 0,
    "start_time": "2023-02-25T11:44:27.326Z"
   },
   {
    "duration": 0,
    "start_time": "2023-02-25T11:44:27.327Z"
   },
   {
    "duration": 0,
    "start_time": "2023-02-25T11:44:27.328Z"
   },
   {
    "duration": 0,
    "start_time": "2023-02-25T11:44:27.329Z"
   },
   {
    "duration": 0,
    "start_time": "2023-02-25T11:44:27.330Z"
   },
   {
    "duration": 0,
    "start_time": "2023-02-25T11:44:27.331Z"
   },
   {
    "duration": 0,
    "start_time": "2023-02-25T11:44:27.333Z"
   },
   {
    "duration": 0,
    "start_time": "2023-02-25T11:44:27.333Z"
   },
   {
    "duration": 0,
    "start_time": "2023-02-25T11:44:27.335Z"
   },
   {
    "duration": 0,
    "start_time": "2023-02-25T11:44:27.336Z"
   },
   {
    "duration": 0,
    "start_time": "2023-02-25T11:44:27.337Z"
   },
   {
    "duration": 0,
    "start_time": "2023-02-25T11:44:27.399Z"
   },
   {
    "duration": 0,
    "start_time": "2023-02-25T11:44:27.401Z"
   },
   {
    "duration": 1,
    "start_time": "2023-02-25T11:44:27.401Z"
   },
   {
    "duration": 0,
    "start_time": "2023-02-25T11:44:27.403Z"
   },
   {
    "duration": 0,
    "start_time": "2023-02-25T11:44:27.403Z"
   },
   {
    "duration": 0,
    "start_time": "2023-02-25T11:44:27.404Z"
   },
   {
    "duration": 0,
    "start_time": "2023-02-25T11:44:27.406Z"
   },
   {
    "duration": 0,
    "start_time": "2023-02-25T11:44:27.407Z"
   },
   {
    "duration": 0,
    "start_time": "2023-02-25T11:44:27.408Z"
   },
   {
    "duration": 16,
    "start_time": "2023-02-25T11:45:01.268Z"
   },
   {
    "duration": 16,
    "start_time": "2023-02-25T11:45:26.975Z"
   },
   {
    "duration": 9,
    "start_time": "2023-02-25T11:45:35.874Z"
   },
   {
    "duration": 10,
    "start_time": "2023-02-25T11:45:44.197Z"
   },
   {
    "duration": 13,
    "start_time": "2023-02-25T11:45:57.936Z"
   },
   {
    "duration": 12,
    "start_time": "2023-02-25T11:46:08.510Z"
   },
   {
    "duration": 12,
    "start_time": "2023-02-25T11:46:22.187Z"
   },
   {
    "duration": 9,
    "start_time": "2023-02-25T11:46:51.585Z"
   },
   {
    "duration": 685,
    "start_time": "2023-02-25T11:47:00.578Z"
   },
   {
    "duration": 10,
    "start_time": "2023-02-25T11:48:49.352Z"
   },
   {
    "duration": 623,
    "start_time": "2023-02-25T11:48:50.892Z"
   },
   {
    "duration": 17,
    "start_time": "2023-02-25T11:49:00.865Z"
   },
   {
    "duration": 10,
    "start_time": "2023-02-25T11:49:04.855Z"
   },
   {
    "duration": 13,
    "start_time": "2023-02-25T11:49:06.494Z"
   },
   {
    "duration": 550,
    "start_time": "2023-02-25T11:49:36.328Z"
   },
   {
    "duration": 657,
    "start_time": "2023-02-25T11:52:14.346Z"
   },
   {
    "duration": 719,
    "start_time": "2023-02-25T11:52:26.096Z"
   },
   {
    "duration": 14,
    "start_time": "2023-02-25T11:53:17.160Z"
   },
   {
    "duration": 3,
    "start_time": "2023-02-25T11:53:23.558Z"
   },
   {
    "duration": 73,
    "start_time": "2023-02-25T11:53:24.413Z"
   },
   {
    "duration": 640,
    "start_time": "2023-02-25T11:53:25.957Z"
   },
   {
    "duration": 238,
    "start_time": "2023-02-25T11:54:02.098Z"
   },
   {
    "duration": 709,
    "start_time": "2023-02-25T11:54:37.497Z"
   },
   {
    "duration": 657,
    "start_time": "2023-02-25T11:55:14.669Z"
   },
   {
    "duration": 847,
    "start_time": "2023-02-25T11:55:24.378Z"
   },
   {
    "duration": 44,
    "start_time": "2023-02-25T11:57:52.287Z"
   },
   {
    "duration": 184,
    "start_time": "2023-02-25T11:57:59.218Z"
   },
   {
    "duration": 4,
    "start_time": "2023-02-25T11:59:11.962Z"
   },
   {
    "duration": 14,
    "start_time": "2023-02-25T11:59:12.898Z"
   },
   {
    "duration": 57,
    "start_time": "2023-02-25T11:59:48.990Z"
   },
   {
    "duration": 3,
    "start_time": "2023-02-25T11:59:56.269Z"
   },
   {
    "duration": 126,
    "start_time": "2023-02-25T11:59:56.752Z"
   },
   {
    "duration": 4,
    "start_time": "2023-02-25T12:00:32.908Z"
   },
   {
    "duration": 124,
    "start_time": "2023-02-25T12:00:34.508Z"
   },
   {
    "duration": 4,
    "start_time": "2023-02-25T12:00:50.494Z"
   },
   {
    "duration": 3,
    "start_time": "2023-02-25T12:01:04.422Z"
   },
   {
    "duration": 172,
    "start_time": "2023-02-25T12:01:05.150Z"
   },
   {
    "duration": 3,
    "start_time": "2023-02-25T12:06:32.201Z"
   },
   {
    "duration": 13,
    "start_time": "2023-02-25T12:06:33.183Z"
   },
   {
    "duration": 3,
    "start_time": "2023-02-25T12:07:03.299Z"
   },
   {
    "duration": 198,
    "start_time": "2023-02-25T12:07:03.873Z"
   },
   {
    "duration": 4,
    "start_time": "2023-02-25T12:07:18.072Z"
   },
   {
    "duration": 6,
    "start_time": "2023-02-25T12:07:42.892Z"
   },
   {
    "duration": 3,
    "start_time": "2023-02-25T12:07:48.272Z"
   },
   {
    "duration": 171,
    "start_time": "2023-02-25T12:07:48.729Z"
   },
   {
    "duration": 6,
    "start_time": "2023-02-25T12:08:03.977Z"
   },
   {
    "duration": 3,
    "start_time": "2023-02-25T12:08:11.218Z"
   },
   {
    "duration": 187,
    "start_time": "2023-02-25T12:08:11.804Z"
   },
   {
    "duration": 6,
    "start_time": "2023-02-25T12:08:29.560Z"
   },
   {
    "duration": 4,
    "start_time": "2023-02-25T12:08:36.885Z"
   },
   {
    "duration": 174,
    "start_time": "2023-02-25T12:08:37.559Z"
   },
   {
    "duration": 3,
    "start_time": "2023-02-25T12:08:53.125Z"
   },
   {
    "duration": 22,
    "start_time": "2023-02-25T12:10:14.132Z"
   },
   {
    "duration": 181,
    "start_time": "2023-02-25T12:10:32.866Z"
   },
   {
    "duration": 26,
    "start_time": "2023-02-25T12:11:00.570Z"
   },
   {
    "duration": 190,
    "start_time": "2023-02-25T12:11:46.095Z"
   },
   {
    "duration": 351,
    "start_time": "2023-02-25T12:12:00.657Z"
   },
   {
    "duration": 195,
    "start_time": "2023-02-25T12:13:32.061Z"
   },
   {
    "duration": 202,
    "start_time": "2023-02-25T12:13:52.660Z"
   },
   {
    "duration": 213,
    "start_time": "2023-02-25T12:14:01.650Z"
   },
   {
    "duration": 186,
    "start_time": "2023-02-25T12:14:13.534Z"
   },
   {
    "duration": 717,
    "start_time": "2023-02-25T12:14:58.649Z"
   },
   {
    "duration": 854,
    "start_time": "2023-02-25T12:16:22.174Z"
   },
   {
    "duration": 14,
    "start_time": "2023-02-25T12:16:29.454Z"
   },
   {
    "duration": 737,
    "start_time": "2023-02-25T12:17:11.688Z"
   },
   {
    "duration": 5,
    "start_time": "2023-02-25T12:17:21.399Z"
   },
   {
    "duration": 23,
    "start_time": "2023-02-25T12:17:22.433Z"
   },
   {
    "duration": 18,
    "start_time": "2023-02-25T12:17:25.711Z"
   },
   {
    "duration": 6,
    "start_time": "2023-02-25T12:17:27.813Z"
   },
   {
    "duration": 832,
    "start_time": "2023-02-25T12:17:31.543Z"
   },
   {
    "duration": 11,
    "start_time": "2023-02-25T12:32:22.359Z"
   },
   {
    "duration": 13,
    "start_time": "2023-02-25T12:32:28.264Z"
   },
   {
    "duration": 1524,
    "start_time": "2023-02-25T12:32:36.108Z"
   },
   {
    "duration": 876,
    "start_time": "2023-02-25T12:32:37.634Z"
   },
   {
    "duration": 59,
    "start_time": "2023-02-25T12:32:38.512Z"
   },
   {
    "duration": 128,
    "start_time": "2023-02-25T12:32:38.573Z"
   },
   {
    "duration": 825,
    "start_time": "2023-02-25T12:32:38.704Z"
   },
   {
    "duration": 19,
    "start_time": "2023-02-25T12:32:39.531Z"
   },
   {
    "duration": 12,
    "start_time": "2023-02-25T12:32:39.552Z"
   },
   {
    "duration": 36,
    "start_time": "2023-02-25T12:32:39.566Z"
   },
   {
    "duration": 13,
    "start_time": "2023-02-25T12:32:39.604Z"
   },
   {
    "duration": 274,
    "start_time": "2023-02-25T12:32:39.618Z"
   },
   {
    "duration": 6,
    "start_time": "2023-02-25T12:32:39.893Z"
   },
   {
    "duration": 10,
    "start_time": "2023-02-25T12:32:39.901Z"
   },
   {
    "duration": 11,
    "start_time": "2023-02-25T12:32:39.913Z"
   },
   {
    "duration": 6,
    "start_time": "2023-02-25T12:32:39.928Z"
   },
   {
    "duration": 11,
    "start_time": "2023-02-25T12:32:39.936Z"
   },
   {
    "duration": 21,
    "start_time": "2023-02-25T12:32:39.949Z"
   },
   {
    "duration": 31,
    "start_time": "2023-02-25T12:32:39.972Z"
   },
   {
    "duration": 14,
    "start_time": "2023-02-25T12:32:40.005Z"
   },
   {
    "duration": 16,
    "start_time": "2023-02-25T12:32:40.021Z"
   },
   {
    "duration": 11,
    "start_time": "2023-02-25T12:32:40.039Z"
   },
   {
    "duration": 27,
    "start_time": "2023-02-25T12:32:40.052Z"
   },
   {
    "duration": 15,
    "start_time": "2023-02-25T12:32:40.081Z"
   },
   {
    "duration": 3016,
    "start_time": "2023-02-25T12:32:40.099Z"
   },
   {
    "duration": 11,
    "start_time": "2023-02-25T12:32:43.117Z"
   },
   {
    "duration": 643,
    "start_time": "2023-02-25T12:32:43.130Z"
   },
   {
    "duration": 11,
    "start_time": "2023-02-25T12:32:43.775Z"
   },
   {
    "duration": 738,
    "start_time": "2023-02-25T12:32:43.787Z"
   },
   {
    "duration": 3,
    "start_time": "2023-02-25T12:32:44.529Z"
   },
   {
    "duration": 77,
    "start_time": "2023-02-25T12:32:44.534Z"
   },
   {
    "duration": 836,
    "start_time": "2023-02-25T12:32:44.613Z"
   },
   {
    "duration": 206,
    "start_time": "2023-02-25T12:32:45.451Z"
   },
   {
    "duration": 7,
    "start_time": "2023-02-25T12:32:45.659Z"
   },
   {
    "duration": 46,
    "start_time": "2023-02-25T12:32:45.668Z"
   },
   {
    "duration": 20,
    "start_time": "2023-02-25T12:32:45.717Z"
   },
   {
    "duration": 8,
    "start_time": "2023-02-25T12:32:45.739Z"
   },
   {
    "duration": 861,
    "start_time": "2023-02-25T12:32:45.749Z"
   },
   {
    "duration": 4,
    "start_time": "2023-02-25T12:32:46.613Z"
   },
   {
    "duration": 8,
    "start_time": "2023-02-25T12:32:46.619Z"
   },
   {
    "duration": 13,
    "start_time": "2023-02-25T12:32:46.629Z"
   },
   {
    "duration": 16,
    "start_time": "2023-02-25T12:32:46.645Z"
   },
   {
    "duration": 180,
    "start_time": "2023-02-25T12:32:46.666Z"
   },
   {
    "duration": 0,
    "start_time": "2023-02-25T12:32:46.849Z"
   },
   {
    "duration": 0,
    "start_time": "2023-02-25T12:32:46.851Z"
   },
   {
    "duration": 0,
    "start_time": "2023-02-25T12:32:46.853Z"
   },
   {
    "duration": 0,
    "start_time": "2023-02-25T12:32:46.854Z"
   },
   {
    "duration": 0,
    "start_time": "2023-02-25T12:32:46.855Z"
   },
   {
    "duration": 0,
    "start_time": "2023-02-25T12:32:46.856Z"
   },
   {
    "duration": 0,
    "start_time": "2023-02-25T12:32:46.858Z"
   },
   {
    "duration": 0,
    "start_time": "2023-02-25T12:32:46.859Z"
   },
   {
    "duration": 0,
    "start_time": "2023-02-25T12:32:46.861Z"
   },
   {
    "duration": 0,
    "start_time": "2023-02-25T12:32:46.862Z"
   },
   {
    "duration": 0,
    "start_time": "2023-02-25T12:32:46.863Z"
   },
   {
    "duration": 0,
    "start_time": "2023-02-25T12:32:46.865Z"
   },
   {
    "duration": 0,
    "start_time": "2023-02-25T12:32:46.866Z"
   },
   {
    "duration": 0,
    "start_time": "2023-02-25T12:32:46.870Z"
   },
   {
    "duration": 0,
    "start_time": "2023-02-25T12:32:46.900Z"
   },
   {
    "duration": 0,
    "start_time": "2023-02-25T12:32:46.901Z"
   },
   {
    "duration": 0,
    "start_time": "2023-02-25T12:32:46.903Z"
   },
   {
    "duration": 0,
    "start_time": "2023-02-25T12:32:46.905Z"
   },
   {
    "duration": 0,
    "start_time": "2023-02-25T12:32:46.907Z"
   },
   {
    "duration": 0,
    "start_time": "2023-02-25T12:32:46.908Z"
   },
   {
    "duration": 0,
    "start_time": "2023-02-25T12:32:46.909Z"
   },
   {
    "duration": 0,
    "start_time": "2023-02-25T12:32:46.914Z"
   },
   {
    "duration": 0,
    "start_time": "2023-02-25T12:32:46.915Z"
   },
   {
    "duration": 0,
    "start_time": "2023-02-25T12:32:46.917Z"
   },
   {
    "duration": 0,
    "start_time": "2023-02-25T12:32:46.918Z"
   },
   {
    "duration": 0,
    "start_time": "2023-02-25T12:32:46.920Z"
   },
   {
    "duration": 0,
    "start_time": "2023-02-25T12:32:46.923Z"
   },
   {
    "duration": 6,
    "start_time": "2023-02-25T12:33:25.151Z"
   },
   {
    "duration": 4,
    "start_time": "2023-02-25T12:33:36.659Z"
   },
   {
    "duration": 40,
    "start_time": "2023-02-25T12:33:38.049Z"
   },
   {
    "duration": 6,
    "start_time": "2023-02-25T12:33:39.151Z"
   },
   {
    "duration": 14,
    "start_time": "2023-02-25T12:33:39.869Z"
   },
   {
    "duration": 4,
    "start_time": "2023-02-25T12:33:42.822Z"
   },
   {
    "duration": 5,
    "start_time": "2023-02-25T12:33:43.989Z"
   },
   {
    "duration": 5,
    "start_time": "2023-02-25T12:33:44.697Z"
   },
   {
    "duration": 4,
    "start_time": "2023-02-25T12:33:45.462Z"
   },
   {
    "duration": 3,
    "start_time": "2023-02-25T12:36:03.404Z"
   },
   {
    "duration": 3,
    "start_time": "2023-02-25T12:38:47.911Z"
   },
   {
    "duration": 3,
    "start_time": "2023-02-25T12:38:50.101Z"
   },
   {
    "duration": 44554,
    "start_time": "2023-02-25T12:38:51.977Z"
   },
   {
    "duration": 4,
    "start_time": "2023-02-25T12:39:36.532Z"
   },
   {
    "duration": 4,
    "start_time": "2023-02-25T12:40:28.785Z"
   },
   {
    "duration": 5,
    "start_time": "2023-02-25T12:40:50.446Z"
   },
   {
    "duration": 43922,
    "start_time": "2023-02-25T12:41:11.234Z"
   },
   {
    "duration": 4,
    "start_time": "2023-02-25T12:41:55.158Z"
   },
   {
    "duration": 1457,
    "start_time": "2023-02-25T12:53:37.213Z"
   },
   {
    "duration": 659,
    "start_time": "2023-02-25T12:53:38.672Z"
   },
   {
    "duration": 45,
    "start_time": "2023-02-25T12:53:39.333Z"
   },
   {
    "duration": 66,
    "start_time": "2023-02-25T12:53:39.398Z"
   },
   {
    "duration": 620,
    "start_time": "2023-02-25T12:53:39.466Z"
   },
   {
    "duration": 23,
    "start_time": "2023-02-25T12:53:40.087Z"
   },
   {
    "duration": 11,
    "start_time": "2023-02-25T12:53:40.112Z"
   },
   {
    "duration": 7,
    "start_time": "2023-02-25T12:53:40.125Z"
   },
   {
    "duration": 14,
    "start_time": "2023-02-25T12:53:40.134Z"
   },
   {
    "duration": 259,
    "start_time": "2023-02-25T12:53:40.149Z"
   },
   {
    "duration": 3,
    "start_time": "2023-02-25T12:53:40.410Z"
   },
   {
    "duration": 18,
    "start_time": "2023-02-25T12:53:40.414Z"
   },
   {
    "duration": 5,
    "start_time": "2023-02-25T12:53:40.433Z"
   },
   {
    "duration": 8,
    "start_time": "2023-02-25T12:53:40.440Z"
   },
   {
    "duration": 11,
    "start_time": "2023-02-25T12:53:40.450Z"
   },
   {
    "duration": 38,
    "start_time": "2023-02-25T12:53:40.463Z"
   },
   {
    "duration": 7,
    "start_time": "2023-02-25T12:53:40.503Z"
   },
   {
    "duration": 23,
    "start_time": "2023-02-25T12:53:40.511Z"
   },
   {
    "duration": 30,
    "start_time": "2023-02-25T12:53:40.536Z"
   },
   {
    "duration": 18,
    "start_time": "2023-02-25T12:53:40.567Z"
   },
   {
    "duration": 15,
    "start_time": "2023-02-25T12:53:40.587Z"
   },
   {
    "duration": 7,
    "start_time": "2023-02-25T12:53:40.604Z"
   },
   {
    "duration": 2948,
    "start_time": "2023-02-25T12:53:40.613Z"
   },
   {
    "duration": 9,
    "start_time": "2023-02-25T12:53:43.563Z"
   },
   {
    "duration": 724,
    "start_time": "2023-02-25T12:53:43.574Z"
   },
   {
    "duration": 9,
    "start_time": "2023-02-25T12:53:44.301Z"
   },
   {
    "duration": 677,
    "start_time": "2023-02-25T12:53:44.312Z"
   },
   {
    "duration": 2,
    "start_time": "2023-02-25T12:53:44.991Z"
   },
   {
    "duration": 84,
    "start_time": "2023-02-25T12:53:44.999Z"
   },
   {
    "duration": 802,
    "start_time": "2023-02-25T12:53:45.084Z"
   },
   {
    "duration": 197,
    "start_time": "2023-02-25T12:53:45.888Z"
   },
   {
    "duration": 15,
    "start_time": "2023-02-25T12:53:46.086Z"
   },
   {
    "duration": 23,
    "start_time": "2023-02-25T12:53:46.103Z"
   },
   {
    "duration": 16,
    "start_time": "2023-02-25T12:53:46.128Z"
   },
   {
    "duration": 7,
    "start_time": "2023-02-25T12:53:46.145Z"
   },
   {
    "duration": 759,
    "start_time": "2023-02-25T12:53:46.153Z"
   },
   {
    "duration": 3,
    "start_time": "2023-02-25T12:53:46.914Z"
   },
   {
    "duration": 9,
    "start_time": "2023-02-25T12:53:46.918Z"
   },
   {
    "duration": 8,
    "start_time": "2023-02-25T12:53:46.929Z"
   },
   {
    "duration": 11,
    "start_time": "2023-02-25T12:53:46.939Z"
   },
   {
    "duration": 7,
    "start_time": "2023-02-25T12:53:46.954Z"
   },
   {
    "duration": 43,
    "start_time": "2023-02-25T12:53:46.963Z"
   },
   {
    "duration": 5,
    "start_time": "2023-02-25T12:53:47.009Z"
   },
   {
    "duration": 19,
    "start_time": "2023-02-25T12:53:47.015Z"
   },
   {
    "duration": 11,
    "start_time": "2023-02-25T12:53:47.036Z"
   },
   {
    "duration": 11,
    "start_time": "2023-02-25T12:53:47.049Z"
   },
   {
    "duration": 23,
    "start_time": "2023-02-25T12:53:47.062Z"
   },
   {
    "duration": 11,
    "start_time": "2023-02-25T12:53:47.087Z"
   },
   {
    "duration": 13,
    "start_time": "2023-02-25T12:53:47.100Z"
   },
   {
    "duration": 7,
    "start_time": "2023-02-25T12:53:47.115Z"
   },
   {
    "duration": 27,
    "start_time": "2023-02-25T12:53:47.124Z"
   },
   {
    "duration": 16,
    "start_time": "2023-02-25T12:53:47.153Z"
   },
   {
    "duration": 16,
    "start_time": "2023-02-25T12:53:47.171Z"
   },
   {
    "duration": 6,
    "start_time": "2023-02-25T12:53:47.189Z"
   },
   {
    "duration": 26,
    "start_time": "2023-02-25T12:53:47.196Z"
   },
   {
    "duration": 43957,
    "start_time": "2023-02-25T12:53:47.224Z"
   },
   {
    "duration": 4,
    "start_time": "2023-02-25T12:54:31.183Z"
   },
   {
    "duration": 57578,
    "start_time": "2023-02-25T12:54:31.198Z"
   },
   {
    "duration": 4,
    "start_time": "2023-02-25T12:55:28.778Z"
   },
   {
    "duration": 16,
    "start_time": "2023-02-25T12:55:28.784Z"
   },
   {
    "duration": 2623,
    "start_time": "2023-02-25T12:55:28.801Z"
   },
   {
    "duration": 4,
    "start_time": "2023-02-25T12:55:31.426Z"
   },
   {
    "duration": 3674,
    "start_time": "2023-02-25T12:55:31.432Z"
   },
   {
    "duration": 3,
    "start_time": "2023-02-25T12:55:35.108Z"
   },
   {
    "duration": 8,
    "start_time": "2023-02-25T12:55:35.113Z"
   },
   {
    "duration": 7,
    "start_time": "2023-02-25T12:55:35.122Z"
   },
   {
    "duration": 6,
    "start_time": "2023-02-25T12:55:35.131Z"
   },
   {
    "duration": 9,
    "start_time": "2023-02-25T12:55:35.139Z"
   },
   {
    "duration": 4,
    "start_time": "2023-02-25T12:56:30.216Z"
   },
   {
    "duration": 4,
    "start_time": "2023-02-25T12:56:35.160Z"
   },
   {
    "duration": 4,
    "start_time": "2023-02-25T12:56:40.668Z"
   },
   {
    "duration": 6,
    "start_time": "2023-02-25T12:56:44.089Z"
   },
   {
    "duration": 5,
    "start_time": "2023-02-25T12:56:47.605Z"
   },
   {
    "duration": 5,
    "start_time": "2023-02-25T12:56:53.732Z"
   },
   {
    "duration": 10,
    "start_time": "2023-02-25T13:03:20.261Z"
   },
   {
    "duration": 231,
    "start_time": "2023-02-25T13:03:21.061Z"
   },
   {
    "duration": 58,
    "start_time": "2023-02-25T13:04:20.774Z"
   },
   {
    "duration": 4,
    "start_time": "2023-02-25T13:05:55.059Z"
   },
   {
    "duration": 3,
    "start_time": "2023-02-25T13:06:50.537Z"
   },
   {
    "duration": 10,
    "start_time": "2023-02-25T13:07:12.135Z"
   },
   {
    "duration": 5,
    "start_time": "2023-02-25T13:07:20.013Z"
   },
   {
    "duration": 4,
    "start_time": "2023-02-25T13:09:56.425Z"
   },
   {
    "duration": 4,
    "start_time": "2023-02-25T13:11:00.759Z"
   },
   {
    "duration": 4,
    "start_time": "2023-02-25T13:11:11.179Z"
   },
   {
    "duration": 4,
    "start_time": "2023-02-25T13:11:25.773Z"
   },
   {
    "duration": 38,
    "start_time": "2023-02-25T13:13:55.863Z"
   },
   {
    "duration": 5,
    "start_time": "2023-02-25T13:13:56.692Z"
   },
   {
    "duration": 9,
    "start_time": "2023-02-25T13:13:57.460Z"
   },
   {
    "duration": 4,
    "start_time": "2023-02-25T13:13:58.491Z"
   },
   {
    "duration": 12,
    "start_time": "2023-02-25T13:18:08.324Z"
   },
   {
    "duration": 20,
    "start_time": "2023-02-25T13:21:18.973Z"
   },
   {
    "duration": 4,
    "start_time": "2023-02-25T13:21:43.054Z"
   },
   {
    "duration": 7,
    "start_time": "2023-02-25T13:21:43.984Z"
   },
   {
    "duration": 9,
    "start_time": "2023-02-25T13:21:44.775Z"
   },
   {
    "duration": 5,
    "start_time": "2023-02-25T13:21:58.655Z"
   },
   {
    "duration": 5,
    "start_time": "2023-02-25T13:22:02.836Z"
   },
   {
    "duration": 6,
    "start_time": "2023-02-25T13:22:04.056Z"
   },
   {
    "duration": 12,
    "start_time": "2023-02-25T13:22:05.090Z"
   },
   {
    "duration": 1604,
    "start_time": "2023-02-25T13:22:12.499Z"
   },
   {
    "duration": 1003,
    "start_time": "2023-02-25T13:22:14.106Z"
   },
   {
    "duration": 61,
    "start_time": "2023-02-25T13:22:15.112Z"
   },
   {
    "duration": 118,
    "start_time": "2023-02-25T13:22:15.199Z"
   },
   {
    "duration": 789,
    "start_time": "2023-02-25T13:22:15.320Z"
   },
   {
    "duration": 21,
    "start_time": "2023-02-25T13:22:16.112Z"
   },
   {
    "duration": 13,
    "start_time": "2023-02-25T13:22:16.134Z"
   },
   {
    "duration": 10,
    "start_time": "2023-02-25T13:22:16.149Z"
   },
   {
    "duration": 50,
    "start_time": "2023-02-25T13:22:16.161Z"
   },
   {
    "duration": 262,
    "start_time": "2023-02-25T13:22:16.213Z"
   },
   {
    "duration": 3,
    "start_time": "2023-02-25T13:22:16.477Z"
   },
   {
    "duration": 19,
    "start_time": "2023-02-25T13:22:16.482Z"
   },
   {
    "duration": 7,
    "start_time": "2023-02-25T13:22:16.502Z"
   },
   {
    "duration": 6,
    "start_time": "2023-02-25T13:22:16.512Z"
   },
   {
    "duration": 12,
    "start_time": "2023-02-25T13:22:16.520Z"
   },
   {
    "duration": 27,
    "start_time": "2023-02-25T13:22:16.535Z"
   },
   {
    "duration": 7,
    "start_time": "2023-02-25T13:22:16.565Z"
   },
   {
    "duration": 38,
    "start_time": "2023-02-25T13:22:16.573Z"
   },
   {
    "duration": 7,
    "start_time": "2023-02-25T13:22:16.613Z"
   },
   {
    "duration": 6,
    "start_time": "2023-02-25T13:22:16.622Z"
   },
   {
    "duration": 6,
    "start_time": "2023-02-25T13:22:16.630Z"
   },
   {
    "duration": 5,
    "start_time": "2023-02-25T13:22:16.638Z"
   },
   {
    "duration": 3509,
    "start_time": "2023-02-25T13:22:16.645Z"
   },
   {
    "duration": 10,
    "start_time": "2023-02-25T13:22:20.157Z"
   },
   {
    "duration": 875,
    "start_time": "2023-02-25T13:22:20.170Z"
   },
   {
    "duration": 10,
    "start_time": "2023-02-25T13:22:21.047Z"
   },
   {
    "duration": 689,
    "start_time": "2023-02-25T13:22:21.060Z"
   },
   {
    "duration": 3,
    "start_time": "2023-02-25T13:22:21.751Z"
   },
   {
    "duration": 62,
    "start_time": "2023-02-25T13:22:21.755Z"
   },
   {
    "duration": 868,
    "start_time": "2023-02-25T13:22:21.819Z"
   },
   {
    "duration": 209,
    "start_time": "2023-02-25T13:22:22.689Z"
   },
   {
    "duration": 6,
    "start_time": "2023-02-25T13:22:22.900Z"
   },
   {
    "duration": 56,
    "start_time": "2023-02-25T13:22:22.908Z"
   },
   {
    "duration": 35,
    "start_time": "2023-02-25T13:22:22.966Z"
   },
   {
    "duration": 7,
    "start_time": "2023-02-25T13:22:23.003Z"
   },
   {
    "duration": 839,
    "start_time": "2023-02-25T13:22:23.012Z"
   },
   {
    "duration": 4,
    "start_time": "2023-02-25T13:22:23.853Z"
   },
   {
    "duration": 16,
    "start_time": "2023-02-25T13:22:23.859Z"
   },
   {
    "duration": 52,
    "start_time": "2023-02-25T13:22:23.877Z"
   },
   {
    "duration": 24,
    "start_time": "2023-02-25T13:22:23.932Z"
   },
   {
    "duration": 5,
    "start_time": "2023-02-25T13:22:23.961Z"
   },
   {
    "duration": 50,
    "start_time": "2023-02-25T13:22:23.968Z"
   },
   {
    "duration": 13,
    "start_time": "2023-02-25T13:22:24.020Z"
   },
   {
    "duration": 22,
    "start_time": "2023-02-25T13:22:24.035Z"
   },
   {
    "duration": 19,
    "start_time": "2023-02-25T13:22:24.060Z"
   },
   {
    "duration": 33,
    "start_time": "2023-02-25T13:22:24.081Z"
   },
   {
    "duration": 10,
    "start_time": "2023-02-25T13:22:24.117Z"
   },
   {
    "duration": 16,
    "start_time": "2023-02-25T13:22:24.130Z"
   },
   {
    "duration": 8,
    "start_time": "2023-02-25T13:22:24.148Z"
   },
   {
    "duration": 10,
    "start_time": "2023-02-25T13:22:24.158Z"
   },
   {
    "duration": 23,
    "start_time": "2023-02-25T13:22:24.170Z"
   },
   {
    "duration": 22,
    "start_time": "2023-02-25T13:22:24.195Z"
   },
   {
    "duration": 8,
    "start_time": "2023-02-25T13:22:24.219Z"
   },
   {
    "duration": 16,
    "start_time": "2023-02-25T13:22:24.229Z"
   },
   {
    "duration": 4,
    "start_time": "2023-02-25T13:22:24.247Z"
   },
   {
    "duration": 8,
    "start_time": "2023-02-25T13:22:24.253Z"
   },
   {
    "duration": 44657,
    "start_time": "2023-02-25T13:22:24.263Z"
   },
   {
    "duration": 4,
    "start_time": "2023-02-25T13:23:08.922Z"
   },
   {
    "duration": 60849,
    "start_time": "2023-02-25T13:23:08.928Z"
   },
   {
    "duration": 5,
    "start_time": "2023-02-25T13:24:09.779Z"
   },
   {
    "duration": 16,
    "start_time": "2023-02-25T13:24:09.786Z"
   },
   {
    "duration": 2870,
    "start_time": "2023-02-25T13:24:09.803Z"
   },
   {
    "duration": 4,
    "start_time": "2023-02-25T13:24:12.675Z"
   },
   {
    "duration": 3910,
    "start_time": "2023-02-25T13:24:12.681Z"
   },
   {
    "duration": 7,
    "start_time": "2023-02-25T13:24:16.593Z"
   },
   {
    "duration": 10,
    "start_time": "2023-02-25T13:24:16.602Z"
   },
   {
    "duration": 7,
    "start_time": "2023-02-25T13:24:16.614Z"
   },
   {
    "duration": 7,
    "start_time": "2023-02-25T13:24:16.622Z"
   },
   {
    "duration": 8,
    "start_time": "2023-02-25T13:24:16.631Z"
   },
   {
    "duration": 149,
    "start_time": "2023-02-25T13:24:16.641Z"
   },
   {
    "duration": 183,
    "start_time": "2023-02-25T13:25:00.992Z"
   },
   {
    "duration": 17,
    "start_time": "2023-02-25T13:25:18.497Z"
   },
   {
    "duration": 15,
    "start_time": "2023-02-25T13:25:45.480Z"
   },
   {
    "duration": 14,
    "start_time": "2023-02-25T13:26:08.433Z"
   },
   {
    "duration": 15,
    "start_time": "2023-02-25T13:27:11.348Z"
   },
   {
    "duration": 20,
    "start_time": "2023-02-25T13:27:51.698Z"
   },
   {
    "duration": 11,
    "start_time": "2023-02-25T13:29:43.402Z"
   },
   {
    "duration": 3,
    "start_time": "2023-02-25T13:31:40.139Z"
   },
   {
    "duration": 160,
    "start_time": "2023-02-25T13:31:40.978Z"
   },
   {
    "duration": 6,
    "start_time": "2023-02-25T13:31:41.891Z"
   },
   {
    "duration": 12,
    "start_time": "2023-02-25T13:31:43.073Z"
   },
   {
    "duration": 12,
    "start_time": "2023-02-25T13:31:45.493Z"
   },
   {
    "duration": 18,
    "start_time": "2023-02-25T13:31:59.746Z"
   },
   {
    "duration": 13,
    "start_time": "2023-02-25T13:32:31.659Z"
   },
   {
    "duration": 12,
    "start_time": "2023-02-25T13:32:43.215Z"
   },
   {
    "duration": 14,
    "start_time": "2023-02-25T13:33:09.565Z"
   },
   {
    "duration": 11,
    "start_time": "2023-02-25T13:33:21.558Z"
   },
   {
    "duration": 1413,
    "start_time": "2023-02-25T13:33:30.270Z"
   },
   {
    "duration": 693,
    "start_time": "2023-02-25T13:33:31.685Z"
   },
   {
    "duration": 49,
    "start_time": "2023-02-25T13:33:32.380Z"
   },
   {
    "duration": 82,
    "start_time": "2023-02-25T13:33:32.430Z"
   },
   {
    "duration": 635,
    "start_time": "2023-02-25T13:33:32.515Z"
   },
   {
    "duration": 23,
    "start_time": "2023-02-25T13:33:33.153Z"
   },
   {
    "duration": 32,
    "start_time": "2023-02-25T13:33:33.178Z"
   },
   {
    "duration": 8,
    "start_time": "2023-02-25T13:33:33.212Z"
   },
   {
    "duration": 12,
    "start_time": "2023-02-25T13:33:33.222Z"
   },
   {
    "duration": 280,
    "start_time": "2023-02-25T13:33:33.236Z"
   },
   {
    "duration": 3,
    "start_time": "2023-02-25T13:33:33.518Z"
   },
   {
    "duration": 25,
    "start_time": "2023-02-25T13:33:33.523Z"
   },
   {
    "duration": 28,
    "start_time": "2023-02-25T13:33:33.550Z"
   },
   {
    "duration": 7,
    "start_time": "2023-02-25T13:33:33.581Z"
   },
   {
    "duration": 9,
    "start_time": "2023-02-25T13:33:33.590Z"
   },
   {
    "duration": 23,
    "start_time": "2023-02-25T13:33:33.601Z"
   },
   {
    "duration": 7,
    "start_time": "2023-02-25T13:33:33.625Z"
   },
   {
    "duration": 11,
    "start_time": "2023-02-25T13:33:33.633Z"
   },
   {
    "duration": 10,
    "start_time": "2023-02-25T13:33:33.646Z"
   },
   {
    "duration": 15,
    "start_time": "2023-02-25T13:33:33.658Z"
   },
   {
    "duration": 11,
    "start_time": "2023-02-25T13:33:33.676Z"
   },
   {
    "duration": 4,
    "start_time": "2023-02-25T13:33:33.698Z"
   },
   {
    "duration": 2852,
    "start_time": "2023-02-25T13:33:33.704Z"
   },
   {
    "duration": 8,
    "start_time": "2023-02-25T13:33:36.558Z"
   },
   {
    "duration": 688,
    "start_time": "2023-02-25T13:33:36.568Z"
   },
   {
    "duration": 10,
    "start_time": "2023-02-25T13:33:37.258Z"
   },
   {
    "duration": 655,
    "start_time": "2023-02-25T13:33:37.269Z"
   },
   {
    "duration": 2,
    "start_time": "2023-02-25T13:33:37.926Z"
   },
   {
    "duration": 49,
    "start_time": "2023-02-25T13:33:37.930Z"
   },
   {
    "duration": 804,
    "start_time": "2023-02-25T13:33:37.981Z"
   },
   {
    "duration": 203,
    "start_time": "2023-02-25T13:33:38.787Z"
   },
   {
    "duration": 10,
    "start_time": "2023-02-25T13:33:38.992Z"
   },
   {
    "duration": 120,
    "start_time": "2023-02-25T13:33:39.004Z"
   },
   {
    "duration": 18,
    "start_time": "2023-02-25T13:33:39.126Z"
   },
   {
    "duration": 8,
    "start_time": "2023-02-25T13:33:39.146Z"
   },
   {
    "duration": 929,
    "start_time": "2023-02-25T13:33:39.157Z"
   },
   {
    "duration": 3,
    "start_time": "2023-02-25T13:33:40.088Z"
   },
   {
    "duration": 9,
    "start_time": "2023-02-25T13:33:40.099Z"
   },
   {
    "duration": 13,
    "start_time": "2023-02-25T13:33:40.110Z"
   },
   {
    "duration": 15,
    "start_time": "2023-02-25T13:33:40.125Z"
   },
   {
    "duration": 5,
    "start_time": "2023-02-25T13:33:40.144Z"
   },
   {
    "duration": 39,
    "start_time": "2023-02-25T13:33:40.151Z"
   },
   {
    "duration": 13,
    "start_time": "2023-02-25T13:33:40.192Z"
   },
   {
    "duration": 15,
    "start_time": "2023-02-25T13:33:40.207Z"
   },
   {
    "duration": 21,
    "start_time": "2023-02-25T13:33:40.224Z"
   },
   {
    "duration": 11,
    "start_time": "2023-02-25T13:33:40.246Z"
   },
   {
    "duration": 10,
    "start_time": "2023-02-25T13:33:40.259Z"
   },
   {
    "duration": 7,
    "start_time": "2023-02-25T13:33:40.271Z"
   },
   {
    "duration": 10,
    "start_time": "2023-02-25T13:33:40.279Z"
   },
   {
    "duration": 16,
    "start_time": "2023-02-25T13:33:40.291Z"
   },
   {
    "duration": 11,
    "start_time": "2023-02-25T13:33:40.309Z"
   },
   {
    "duration": 24,
    "start_time": "2023-02-25T13:33:40.322Z"
   },
   {
    "duration": 10,
    "start_time": "2023-02-25T13:33:40.348Z"
   },
   {
    "duration": 17,
    "start_time": "2023-02-25T13:33:40.360Z"
   },
   {
    "duration": 11,
    "start_time": "2023-02-25T13:33:40.379Z"
   },
   {
    "duration": 17,
    "start_time": "2023-02-25T13:33:40.392Z"
   },
   {
    "duration": 43709,
    "start_time": "2023-02-25T13:33:40.411Z"
   },
   {
    "duration": 5,
    "start_time": "2023-02-25T13:34:24.122Z"
   },
   {
    "duration": 1476,
    "start_time": "2023-02-25T13:34:41.801Z"
   },
   {
    "duration": 720,
    "start_time": "2023-02-25T13:34:43.279Z"
   },
   {
    "duration": 58,
    "start_time": "2023-02-25T13:34:44.002Z"
   },
   {
    "duration": 99,
    "start_time": "2023-02-25T13:34:44.063Z"
   },
   {
    "duration": 723,
    "start_time": "2023-02-25T13:34:44.164Z"
   },
   {
    "duration": 26,
    "start_time": "2023-02-25T13:34:44.889Z"
   },
   {
    "duration": 12,
    "start_time": "2023-02-25T13:34:44.917Z"
   },
   {
    "duration": 18,
    "start_time": "2023-02-25T13:34:44.931Z"
   },
   {
    "duration": 12,
    "start_time": "2023-02-25T13:34:44.951Z"
   },
   {
    "duration": 283,
    "start_time": "2023-02-25T13:34:44.967Z"
   },
   {
    "duration": 3,
    "start_time": "2023-02-25T13:34:45.253Z"
   },
   {
    "duration": 12,
    "start_time": "2023-02-25T13:34:45.259Z"
   },
   {
    "duration": 6,
    "start_time": "2023-02-25T13:34:45.273Z"
   },
   {
    "duration": 12,
    "start_time": "2023-02-25T13:34:45.299Z"
   },
   {
    "duration": 9,
    "start_time": "2023-02-25T13:34:45.313Z"
   },
   {
    "duration": 25,
    "start_time": "2023-02-25T13:34:45.324Z"
   },
   {
    "duration": 6,
    "start_time": "2023-02-25T13:34:45.351Z"
   },
   {
    "duration": 13,
    "start_time": "2023-02-25T13:34:45.359Z"
   },
   {
    "duration": 27,
    "start_time": "2023-02-25T13:34:45.374Z"
   },
   {
    "duration": 5,
    "start_time": "2023-02-25T13:34:45.403Z"
   },
   {
    "duration": 5,
    "start_time": "2023-02-25T13:34:45.409Z"
   },
   {
    "duration": 12,
    "start_time": "2023-02-25T13:34:45.416Z"
   },
   {
    "duration": 2955,
    "start_time": "2023-02-25T13:34:45.431Z"
   },
   {
    "duration": 15,
    "start_time": "2023-02-25T13:34:48.388Z"
   },
   {
    "duration": 632,
    "start_time": "2023-02-25T13:34:48.405Z"
   },
   {
    "duration": 9,
    "start_time": "2023-02-25T13:34:49.039Z"
   },
   {
    "duration": 659,
    "start_time": "2023-02-25T13:34:49.050Z"
   },
   {
    "duration": 3,
    "start_time": "2023-02-25T13:34:49.713Z"
   },
   {
    "duration": 56,
    "start_time": "2023-02-25T13:34:49.718Z"
   },
   {
    "duration": 824,
    "start_time": "2023-02-25T13:34:49.775Z"
   },
   {
    "duration": 199,
    "start_time": "2023-02-25T13:34:50.600Z"
   },
   {
    "duration": 5,
    "start_time": "2023-02-25T13:34:50.801Z"
   },
   {
    "duration": 34,
    "start_time": "2023-02-25T13:34:50.807Z"
   },
   {
    "duration": 16,
    "start_time": "2023-02-25T13:34:50.843Z"
   },
   {
    "duration": 7,
    "start_time": "2023-02-25T13:34:50.860Z"
   },
   {
    "duration": 723,
    "start_time": "2023-02-25T13:34:50.868Z"
   },
   {
    "duration": 4,
    "start_time": "2023-02-25T13:34:51.592Z"
   },
   {
    "duration": 16,
    "start_time": "2023-02-25T13:34:51.600Z"
   },
   {
    "duration": 9,
    "start_time": "2023-02-25T13:34:51.618Z"
   },
   {
    "duration": 11,
    "start_time": "2023-02-25T13:34:51.629Z"
   },
   {
    "duration": 5,
    "start_time": "2023-02-25T13:34:51.642Z"
   },
   {
    "duration": 42,
    "start_time": "2023-02-25T13:34:51.649Z"
   },
   {
    "duration": 5,
    "start_time": "2023-02-25T13:34:51.693Z"
   },
   {
    "duration": 14,
    "start_time": "2023-02-25T13:34:51.700Z"
   },
   {
    "duration": 31,
    "start_time": "2023-02-25T13:34:51.716Z"
   },
   {
    "duration": 14,
    "start_time": "2023-02-25T13:34:51.749Z"
   },
   {
    "duration": 10,
    "start_time": "2023-02-25T13:34:51.764Z"
   },
   {
    "duration": 6,
    "start_time": "2023-02-25T13:34:51.776Z"
   },
   {
    "duration": 7,
    "start_time": "2023-02-25T13:34:51.784Z"
   },
   {
    "duration": 23,
    "start_time": "2023-02-25T13:34:51.793Z"
   },
   {
    "duration": 7,
    "start_time": "2023-02-25T13:34:51.818Z"
   },
   {
    "duration": 19,
    "start_time": "2023-02-25T13:34:51.827Z"
   },
   {
    "duration": 7,
    "start_time": "2023-02-25T13:34:51.848Z"
   },
   {
    "duration": 14,
    "start_time": "2023-02-25T13:34:51.857Z"
   },
   {
    "duration": 3,
    "start_time": "2023-02-25T13:34:51.872Z"
   },
   {
    "duration": 21,
    "start_time": "2023-02-25T13:34:51.876Z"
   },
   {
    "duration": 39811,
    "start_time": "2023-02-25T13:34:51.899Z"
   },
   {
    "duration": 5,
    "start_time": "2023-02-25T13:35:31.711Z"
   },
   {
    "duration": 57843,
    "start_time": "2023-02-25T13:35:31.718Z"
   },
   {
    "duration": 4,
    "start_time": "2023-02-25T13:36:29.563Z"
   },
   {
    "duration": 15,
    "start_time": "2023-02-25T13:36:29.569Z"
   },
   {
    "duration": 2587,
    "start_time": "2023-02-25T13:36:29.586Z"
   },
   {
    "duration": 4,
    "start_time": "2023-02-25T13:36:32.174Z"
   },
   {
    "duration": 3608,
    "start_time": "2023-02-25T13:36:32.180Z"
   },
   {
    "duration": 4,
    "start_time": "2023-02-25T13:36:35.789Z"
   },
   {
    "duration": 4,
    "start_time": "2023-02-25T13:36:35.799Z"
   },
   {
    "duration": 7,
    "start_time": "2023-02-25T13:36:35.805Z"
   },
   {
    "duration": 14,
    "start_time": "2023-02-25T13:36:35.814Z"
   },
   {
    "duration": 10,
    "start_time": "2023-02-25T13:36:35.830Z"
   },
   {
    "duration": 143,
    "start_time": "2023-02-25T13:36:35.842Z"
   },
   {
    "duration": 5,
    "start_time": "2023-02-25T13:37:52.751Z"
   },
   {
    "duration": 4,
    "start_time": "2023-02-25T13:37:56.613Z"
   },
   {
    "duration": 1603,
    "start_time": "2023-02-25T13:38:29.702Z"
   },
   {
    "duration": 750,
    "start_time": "2023-02-25T13:38:31.307Z"
   },
   {
    "duration": 72,
    "start_time": "2023-02-25T13:38:32.059Z"
   },
   {
    "duration": 88,
    "start_time": "2023-02-25T13:38:32.133Z"
   },
   {
    "duration": 642,
    "start_time": "2023-02-25T13:38:32.224Z"
   },
   {
    "duration": 18,
    "start_time": "2023-02-25T13:38:32.868Z"
   },
   {
    "duration": 15,
    "start_time": "2023-02-25T13:38:32.898Z"
   },
   {
    "duration": 11,
    "start_time": "2023-02-25T13:38:32.915Z"
   },
   {
    "duration": 10,
    "start_time": "2023-02-25T13:38:32.928Z"
   },
   {
    "duration": 239,
    "start_time": "2023-02-25T13:38:32.940Z"
   },
   {
    "duration": 3,
    "start_time": "2023-02-25T13:38:33.181Z"
   },
   {
    "duration": 18,
    "start_time": "2023-02-25T13:38:33.185Z"
   },
   {
    "duration": 5,
    "start_time": "2023-02-25T13:38:33.204Z"
   },
   {
    "duration": 15,
    "start_time": "2023-02-25T13:38:33.212Z"
   },
   {
    "duration": 21,
    "start_time": "2023-02-25T13:38:33.229Z"
   },
   {
    "duration": 28,
    "start_time": "2023-02-25T13:38:33.252Z"
   },
   {
    "duration": 6,
    "start_time": "2023-02-25T13:38:33.282Z"
   },
   {
    "duration": 26,
    "start_time": "2023-02-25T13:38:33.291Z"
   },
   {
    "duration": 7,
    "start_time": "2023-02-25T13:38:33.320Z"
   },
   {
    "duration": 4,
    "start_time": "2023-02-25T13:38:33.329Z"
   },
   {
    "duration": 13,
    "start_time": "2023-02-25T13:38:33.334Z"
   },
   {
    "duration": 5,
    "start_time": "2023-02-25T13:38:33.349Z"
   },
   {
    "duration": 3204,
    "start_time": "2023-02-25T13:38:33.356Z"
   },
   {
    "duration": 9,
    "start_time": "2023-02-25T13:38:36.562Z"
   },
   {
    "duration": 681,
    "start_time": "2023-02-25T13:38:36.572Z"
   },
   {
    "duration": 9,
    "start_time": "2023-02-25T13:38:37.255Z"
   },
   {
    "duration": 656,
    "start_time": "2023-02-25T13:38:37.265Z"
   },
   {
    "duration": 2,
    "start_time": "2023-02-25T13:38:37.923Z"
   },
   {
    "duration": 57,
    "start_time": "2023-02-25T13:38:37.927Z"
   },
   {
    "duration": 731,
    "start_time": "2023-02-25T13:38:37.986Z"
   },
   {
    "duration": 187,
    "start_time": "2023-02-25T13:38:38.719Z"
   },
   {
    "duration": 6,
    "start_time": "2023-02-25T13:38:38.908Z"
   },
   {
    "duration": 27,
    "start_time": "2023-02-25T13:38:38.916Z"
   },
   {
    "duration": 18,
    "start_time": "2023-02-25T13:38:38.944Z"
   },
   {
    "duration": 37,
    "start_time": "2023-02-25T13:38:38.963Z"
   },
   {
    "duration": 703,
    "start_time": "2023-02-25T13:38:39.002Z"
   },
   {
    "duration": 3,
    "start_time": "2023-02-25T13:38:39.706Z"
   },
   {
    "duration": 6,
    "start_time": "2023-02-25T13:38:39.711Z"
   },
   {
    "duration": 5,
    "start_time": "2023-02-25T13:38:39.718Z"
   },
   {
    "duration": 11,
    "start_time": "2023-02-25T13:38:39.725Z"
   },
   {
    "duration": 4,
    "start_time": "2023-02-25T13:38:39.739Z"
   },
   {
    "duration": 33,
    "start_time": "2023-02-25T13:38:39.744Z"
   },
   {
    "duration": 20,
    "start_time": "2023-02-25T13:38:39.779Z"
   },
   {
    "duration": 9,
    "start_time": "2023-02-25T13:38:39.801Z"
   },
   {
    "duration": 12,
    "start_time": "2023-02-25T13:38:39.812Z"
   },
   {
    "duration": 11,
    "start_time": "2023-02-25T13:38:39.826Z"
   },
   {
    "duration": 11,
    "start_time": "2023-02-25T13:38:39.838Z"
   },
   {
    "duration": 27,
    "start_time": "2023-02-25T13:38:39.851Z"
   },
   {
    "duration": 17,
    "start_time": "2023-02-25T13:38:39.879Z"
   },
   {
    "duration": 8,
    "start_time": "2023-02-25T13:38:39.898Z"
   },
   {
    "duration": 6,
    "start_time": "2023-02-25T13:38:39.908Z"
   },
   {
    "duration": 20,
    "start_time": "2023-02-25T13:38:39.915Z"
   },
   {
    "duration": 8,
    "start_time": "2023-02-25T13:38:39.937Z"
   },
   {
    "duration": 8,
    "start_time": "2023-02-25T13:38:39.947Z"
   },
   {
    "duration": 5,
    "start_time": "2023-02-25T13:38:39.956Z"
   },
   {
    "duration": 7,
    "start_time": "2023-02-25T13:38:39.963Z"
   },
   {
    "duration": 40036,
    "start_time": "2023-02-25T13:38:39.972Z"
   },
   {
    "duration": 4,
    "start_time": "2023-02-25T13:39:20.010Z"
   },
   {
    "duration": 57510,
    "start_time": "2023-02-25T13:39:20.016Z"
   },
   {
    "duration": 5,
    "start_time": "2023-02-25T13:40:17.528Z"
   },
   {
    "duration": 17,
    "start_time": "2023-02-25T13:40:17.535Z"
   },
   {
    "duration": 2764,
    "start_time": "2023-02-25T13:40:17.554Z"
   },
   {
    "duration": 4,
    "start_time": "2023-02-25T13:40:20.320Z"
   },
   {
    "duration": 3918,
    "start_time": "2023-02-25T13:40:20.326Z"
   },
   {
    "duration": 5,
    "start_time": "2023-02-25T13:40:24.246Z"
   },
   {
    "duration": 8,
    "start_time": "2023-02-25T13:40:24.253Z"
   },
   {
    "duration": 9,
    "start_time": "2023-02-25T13:40:24.263Z"
   },
   {
    "duration": 24,
    "start_time": "2023-02-25T13:40:24.275Z"
   },
   {
    "duration": 9,
    "start_time": "2023-02-25T13:40:24.301Z"
   },
   {
    "duration": 154,
    "start_time": "2023-02-25T13:40:24.312Z"
   },
   {
    "duration": 8,
    "start_time": "2023-02-25T13:42:15.301Z"
   },
   {
    "duration": 22,
    "start_time": "2023-02-25T13:42:15.933Z"
   },
   {
    "duration": 8,
    "start_time": "2023-02-25T13:42:18.405Z"
   },
   {
    "duration": 7,
    "start_time": "2023-02-25T13:44:15.073Z"
   },
   {
    "duration": 4,
    "start_time": "2023-02-25T13:44:22.813Z"
   },
   {
    "duration": 4,
    "start_time": "2023-02-25T13:44:27.053Z"
   },
   {
    "duration": 4,
    "start_time": "2023-02-25T13:44:30.813Z"
   },
   {
    "duration": 4,
    "start_time": "2023-02-25T13:44:32.691Z"
   },
   {
    "duration": 13,
    "start_time": "2023-02-25T13:48:03.365Z"
   },
   {
    "duration": 1524,
    "start_time": "2023-02-25T13:49:19.932Z"
   },
   {
    "duration": 797,
    "start_time": "2023-02-25T13:49:21.458Z"
   },
   {
    "duration": 58,
    "start_time": "2023-02-25T13:49:22.257Z"
   },
   {
    "duration": 90,
    "start_time": "2023-02-25T13:49:22.317Z"
   },
   {
    "duration": 816,
    "start_time": "2023-02-25T13:49:22.409Z"
   },
   {
    "duration": 30,
    "start_time": "2023-02-25T13:49:23.227Z"
   },
   {
    "duration": 13,
    "start_time": "2023-02-25T13:49:23.259Z"
   },
   {
    "duration": 33,
    "start_time": "2023-02-25T13:49:23.274Z"
   },
   {
    "duration": 19,
    "start_time": "2023-02-25T13:49:23.309Z"
   },
   {
    "duration": 288,
    "start_time": "2023-02-25T13:49:23.331Z"
   },
   {
    "duration": 3,
    "start_time": "2023-02-25T13:49:23.622Z"
   },
   {
    "duration": 16,
    "start_time": "2023-02-25T13:49:23.627Z"
   },
   {
    "duration": 7,
    "start_time": "2023-02-25T13:49:23.645Z"
   },
   {
    "duration": 8,
    "start_time": "2023-02-25T13:49:23.654Z"
   },
   {
    "duration": 34,
    "start_time": "2023-02-25T13:49:23.664Z"
   },
   {
    "duration": 22,
    "start_time": "2023-02-25T13:49:23.701Z"
   },
   {
    "duration": 7,
    "start_time": "2023-02-25T13:49:23.725Z"
   },
   {
    "duration": 22,
    "start_time": "2023-02-25T13:49:23.734Z"
   },
   {
    "duration": 8,
    "start_time": "2023-02-25T13:49:23.758Z"
   },
   {
    "duration": 34,
    "start_time": "2023-02-25T13:49:23.768Z"
   },
   {
    "duration": 13,
    "start_time": "2023-02-25T13:49:23.804Z"
   },
   {
    "duration": 21,
    "start_time": "2023-02-25T13:49:23.819Z"
   },
   {
    "duration": 3440,
    "start_time": "2023-02-25T13:49:23.842Z"
   },
   {
    "duration": 17,
    "start_time": "2023-02-25T13:49:27.285Z"
   },
   {
    "duration": 643,
    "start_time": "2023-02-25T13:49:27.304Z"
   },
   {
    "duration": 10,
    "start_time": "2023-02-25T13:49:27.950Z"
   },
   {
    "duration": 705,
    "start_time": "2023-02-25T13:49:27.962Z"
   },
   {
    "duration": 3,
    "start_time": "2023-02-25T13:49:28.672Z"
   },
   {
    "duration": 67,
    "start_time": "2023-02-25T13:49:28.678Z"
   },
   {
    "duration": 860,
    "start_time": "2023-02-25T13:49:28.747Z"
   },
   {
    "duration": 207,
    "start_time": "2023-02-25T13:49:29.609Z"
   },
   {
    "duration": 6,
    "start_time": "2023-02-25T13:49:29.819Z"
   },
   {
    "duration": 50,
    "start_time": "2023-02-25T13:49:29.828Z"
   },
   {
    "duration": 29,
    "start_time": "2023-02-25T13:49:29.880Z"
   },
   {
    "duration": 9,
    "start_time": "2023-02-25T13:49:29.911Z"
   },
   {
    "duration": 771,
    "start_time": "2023-02-25T13:49:29.922Z"
   },
   {
    "duration": 7,
    "start_time": "2023-02-25T13:49:30.694Z"
   },
   {
    "duration": 30,
    "start_time": "2023-02-25T13:49:30.704Z"
   },
   {
    "duration": 23,
    "start_time": "2023-02-25T13:49:30.737Z"
   },
   {
    "duration": 42,
    "start_time": "2023-02-25T13:49:30.762Z"
   },
   {
    "duration": 31,
    "start_time": "2023-02-25T13:49:30.806Z"
   },
   {
    "duration": 57,
    "start_time": "2023-02-25T13:49:30.839Z"
   },
   {
    "duration": 32,
    "start_time": "2023-02-25T13:49:30.898Z"
   },
   {
    "duration": 32,
    "start_time": "2023-02-25T13:49:30.932Z"
   },
   {
    "duration": 46,
    "start_time": "2023-02-25T13:49:30.966Z"
   },
   {
    "duration": 39,
    "start_time": "2023-02-25T13:49:31.013Z"
   },
   {
    "duration": 50,
    "start_time": "2023-02-25T13:49:31.053Z"
   },
   {
    "duration": 39,
    "start_time": "2023-02-25T13:49:31.105Z"
   },
   {
    "duration": 38,
    "start_time": "2023-02-25T13:49:31.146Z"
   },
   {
    "duration": 50,
    "start_time": "2023-02-25T13:49:31.186Z"
   },
   {
    "duration": 31,
    "start_time": "2023-02-25T13:49:31.238Z"
   },
   {
    "duration": 58,
    "start_time": "2023-02-25T13:49:31.271Z"
   },
   {
    "duration": 39,
    "start_time": "2023-02-25T13:49:31.331Z"
   },
   {
    "duration": 25,
    "start_time": "2023-02-25T13:49:31.372Z"
   },
   {
    "duration": 15,
    "start_time": "2023-02-25T13:49:31.399Z"
   },
   {
    "duration": 21,
    "start_time": "2023-02-25T13:49:31.416Z"
   },
   {
    "duration": 42228,
    "start_time": "2023-02-25T13:49:31.439Z"
   },
   {
    "duration": 4,
    "start_time": "2023-02-25T13:50:13.669Z"
   },
   {
    "duration": 55767,
    "start_time": "2023-02-25T13:50:13.674Z"
   },
   {
    "duration": 4,
    "start_time": "2023-02-25T13:51:09.443Z"
   },
   {
    "duration": 9,
    "start_time": "2023-02-25T13:51:09.449Z"
   },
   {
    "duration": 2671,
    "start_time": "2023-02-25T13:51:09.459Z"
   },
   {
    "duration": 4,
    "start_time": "2023-02-25T13:51:12.132Z"
   },
   {
    "duration": 3670,
    "start_time": "2023-02-25T13:51:12.137Z"
   },
   {
    "duration": 10,
    "start_time": "2023-02-25T13:51:15.809Z"
   },
   {
    "duration": 18,
    "start_time": "2023-02-25T13:51:15.822Z"
   },
   {
    "duration": 23,
    "start_time": "2023-02-25T13:51:15.843Z"
   },
   {
    "duration": 10,
    "start_time": "2023-02-25T13:51:15.868Z"
   },
   {
    "duration": 32,
    "start_time": "2023-02-25T13:51:15.880Z"
   },
   {
    "duration": 133,
    "start_time": "2023-02-25T13:51:15.916Z"
   },
   {
    "duration": 30,
    "start_time": "2023-02-25T13:55:00.138Z"
   },
   {
    "duration": 20,
    "start_time": "2023-02-25T13:55:22.093Z"
   },
   {
    "duration": 11,
    "start_time": "2023-02-25T14:02:57.329Z"
   },
   {
    "duration": 13,
    "start_time": "2023-02-25T14:04:20.619Z"
   },
   {
    "duration": 10,
    "start_time": "2023-02-25T14:04:28.988Z"
   },
   {
    "duration": 10,
    "start_time": "2023-02-25T14:04:42.071Z"
   },
   {
    "duration": 10,
    "start_time": "2023-02-25T14:04:47.967Z"
   },
   {
    "duration": 1605,
    "start_time": "2023-02-25T14:05:43.413Z"
   },
   {
    "duration": 721,
    "start_time": "2023-02-25T14:05:45.020Z"
   },
   {
    "duration": 64,
    "start_time": "2023-02-25T14:05:45.742Z"
   },
   {
    "duration": 69,
    "start_time": "2023-02-25T14:05:45.809Z"
   },
   {
    "duration": 677,
    "start_time": "2023-02-25T14:05:45.879Z"
   },
   {
    "duration": 23,
    "start_time": "2023-02-25T14:05:46.558Z"
   },
   {
    "duration": 28,
    "start_time": "2023-02-25T14:05:46.582Z"
   },
   {
    "duration": 9,
    "start_time": "2023-02-25T14:05:46.611Z"
   },
   {
    "duration": 17,
    "start_time": "2023-02-25T14:05:46.621Z"
   },
   {
    "duration": 250,
    "start_time": "2023-02-25T14:05:46.641Z"
   },
   {
    "duration": 6,
    "start_time": "2023-02-25T14:05:46.893Z"
   },
   {
    "duration": 22,
    "start_time": "2023-02-25T14:05:46.901Z"
   },
   {
    "duration": 5,
    "start_time": "2023-02-25T14:05:46.925Z"
   },
   {
    "duration": 11,
    "start_time": "2023-02-25T14:05:46.932Z"
   },
   {
    "duration": 17,
    "start_time": "2023-02-25T14:05:46.945Z"
   },
   {
    "duration": 28,
    "start_time": "2023-02-25T14:05:46.964Z"
   },
   {
    "duration": 11,
    "start_time": "2023-02-25T14:05:46.993Z"
   },
   {
    "duration": 17,
    "start_time": "2023-02-25T14:05:47.005Z"
   },
   {
    "duration": 7,
    "start_time": "2023-02-25T14:05:47.024Z"
   },
   {
    "duration": 7,
    "start_time": "2023-02-25T14:05:47.033Z"
   },
   {
    "duration": 6,
    "start_time": "2023-02-25T14:05:47.042Z"
   },
   {
    "duration": 8,
    "start_time": "2023-02-25T14:05:47.050Z"
   },
   {
    "duration": 3117,
    "start_time": "2023-02-25T14:05:47.061Z"
   },
   {
    "duration": 19,
    "start_time": "2023-02-25T14:05:50.180Z"
   },
   {
    "duration": 649,
    "start_time": "2023-02-25T14:05:50.201Z"
   },
   {
    "duration": 9,
    "start_time": "2023-02-25T14:05:50.852Z"
   },
   {
    "duration": 715,
    "start_time": "2023-02-25T14:05:50.863Z"
   },
   {
    "duration": 3,
    "start_time": "2023-02-25T14:05:51.584Z"
   },
   {
    "duration": 63,
    "start_time": "2023-02-25T14:05:51.599Z"
   },
   {
    "duration": 835,
    "start_time": "2023-02-25T14:05:51.664Z"
   },
   {
    "duration": 234,
    "start_time": "2023-02-25T14:05:52.501Z"
   },
   {
    "duration": 7,
    "start_time": "2023-02-25T14:05:52.737Z"
   },
   {
    "duration": 31,
    "start_time": "2023-02-25T14:05:52.745Z"
   },
   {
    "duration": 36,
    "start_time": "2023-02-25T14:05:52.778Z"
   },
   {
    "duration": 7,
    "start_time": "2023-02-25T14:05:52.816Z"
   },
   {
    "duration": 727,
    "start_time": "2023-02-25T14:05:52.826Z"
   },
   {
    "duration": 3,
    "start_time": "2023-02-25T14:05:53.556Z"
   },
   {
    "duration": 8,
    "start_time": "2023-02-25T14:05:53.561Z"
   },
   {
    "duration": 7,
    "start_time": "2023-02-25T14:05:53.571Z"
   },
   {
    "duration": 22,
    "start_time": "2023-02-25T14:05:53.579Z"
   },
   {
    "duration": 13,
    "start_time": "2023-02-25T14:05:53.603Z"
   },
   {
    "duration": 38,
    "start_time": "2023-02-25T14:05:53.617Z"
   },
   {
    "duration": 8,
    "start_time": "2023-02-25T14:05:53.657Z"
   },
   {
    "duration": 20,
    "start_time": "2023-02-25T14:05:53.667Z"
   },
   {
    "duration": 19,
    "start_time": "2023-02-25T14:05:53.689Z"
   },
   {
    "duration": 39,
    "start_time": "2023-02-25T14:05:53.710Z"
   },
   {
    "duration": 10,
    "start_time": "2023-02-25T14:05:53.751Z"
   },
   {
    "duration": 8,
    "start_time": "2023-02-25T14:05:53.764Z"
   },
   {
    "duration": 8,
    "start_time": "2023-02-25T14:05:53.773Z"
   },
   {
    "duration": 5,
    "start_time": "2023-02-25T14:05:53.783Z"
   },
   {
    "duration": 10,
    "start_time": "2023-02-25T14:05:53.790Z"
   },
   {
    "duration": 20,
    "start_time": "2023-02-25T14:05:53.802Z"
   },
   {
    "duration": 10,
    "start_time": "2023-02-25T14:05:53.824Z"
   },
   {
    "duration": 10,
    "start_time": "2023-02-25T14:05:53.837Z"
   },
   {
    "duration": 5,
    "start_time": "2023-02-25T14:05:53.849Z"
   },
   {
    "duration": 21,
    "start_time": "2023-02-25T14:05:53.857Z"
   },
   {
    "duration": 40830,
    "start_time": "2023-02-25T14:05:53.880Z"
   },
   {
    "duration": 5,
    "start_time": "2023-02-25T14:06:34.713Z"
   },
   {
    "duration": 54703,
    "start_time": "2023-02-25T14:06:34.720Z"
   },
   {
    "duration": 4,
    "start_time": "2023-02-25T14:07:29.425Z"
   },
   {
    "duration": 15,
    "start_time": "2023-02-25T14:07:29.431Z"
   },
   {
    "duration": 2706,
    "start_time": "2023-02-25T14:07:29.448Z"
   },
   {
    "duration": 5,
    "start_time": "2023-02-25T14:07:32.156Z"
   },
   {
    "duration": 3408,
    "start_time": "2023-02-25T14:07:32.164Z"
   },
   {
    "duration": 4,
    "start_time": "2023-02-25T14:07:35.573Z"
   },
   {
    "duration": 10,
    "start_time": "2023-02-25T14:07:35.578Z"
   },
   {
    "duration": 16,
    "start_time": "2023-02-25T14:07:35.590Z"
   },
   {
    "duration": 12,
    "start_time": "2023-02-25T14:07:35.607Z"
   },
   {
    "duration": 25,
    "start_time": "2023-02-25T14:07:35.621Z"
   },
   {
    "duration": 115,
    "start_time": "2023-02-25T14:07:35.648Z"
   },
   {
    "duration": 0,
    "start_time": "2023-02-25T14:07:35.765Z"
   },
   {
    "duration": 0,
    "start_time": "2023-02-25T14:07:35.766Z"
   },
   {
    "duration": 0,
    "start_time": "2023-02-25T14:07:35.768Z"
   },
   {
    "duration": 32,
    "start_time": "2023-02-25T14:08:55.450Z"
   },
   {
    "duration": 5,
    "start_time": "2023-02-25T14:08:58.354Z"
   },
   {
    "duration": 12,
    "start_time": "2023-02-25T14:09:24.580Z"
   },
   {
    "duration": 11,
    "start_time": "2023-02-25T14:11:12.086Z"
   },
   {
    "duration": 11,
    "start_time": "2023-02-25T14:11:23.827Z"
   },
   {
    "duration": 7,
    "start_time": "2023-02-25T14:11:33.854Z"
   },
   {
    "duration": 902,
    "start_time": "2023-02-25T14:11:37.461Z"
   },
   {
    "duration": 12,
    "start_time": "2023-02-25T14:11:41.794Z"
   },
   {
    "duration": 52,
    "start_time": "2023-02-25T14:18:33.856Z"
   },
   {
    "duration": 67,
    "start_time": "2023-02-25T14:18:37.100Z"
   },
   {
    "duration": 48,
    "start_time": "2023-02-25T14:18:39.561Z"
   },
   {
    "duration": 10,
    "start_time": "2023-02-25T14:18:42.456Z"
   },
   {
    "duration": 6,
    "start_time": "2023-02-25T14:19:17.486Z"
   },
   {
    "duration": 7,
    "start_time": "2023-02-25T14:19:26.183Z"
   },
   {
    "duration": 19,
    "start_time": "2023-02-25T14:19:58.213Z"
   },
   {
    "duration": 8,
    "start_time": "2023-02-25T14:19:59.364Z"
   },
   {
    "duration": 41,
    "start_time": "2023-02-25T14:20:19.126Z"
   },
   {
    "duration": 41,
    "start_time": "2023-02-25T14:20:22.017Z"
   },
   {
    "duration": 4,
    "start_time": "2023-02-25T14:20:24.757Z"
   },
   {
    "duration": 4,
    "start_time": "2023-02-25T14:21:51.161Z"
   },
   {
    "duration": 4,
    "start_time": "2023-02-25T14:22:08.345Z"
   },
   {
    "duration": 4,
    "start_time": "2023-02-25T14:23:17.644Z"
   },
   {
    "duration": 5,
    "start_time": "2023-02-25T14:24:02.579Z"
   },
   {
    "duration": 4,
    "start_time": "2023-02-25T14:24:03.480Z"
   }
  ],
  "kernelspec": {
   "display_name": "Python 3 (ipykernel)",
   "language": "python",
   "name": "python3"
  },
  "language_info": {
   "codemirror_mode": {
    "name": "ipython",
    "version": 3
   },
   "file_extension": ".py",
   "mimetype": "text/x-python",
   "name": "python",
   "nbconvert_exporter": "python",
   "pygments_lexer": "ipython3",
   "version": "3.9.5"
  },
  "toc": {
   "base_numbering": 1,
   "nav_menu": {},
   "number_sections": true,
   "sideBar": true,
   "skip_h1_title": true,
   "title_cell": "Table of Contents",
   "title_sidebar": "Contents",
   "toc_cell": true,
   "toc_position": {
    "height": "calc(100% - 180px)",
    "left": "10px",
    "top": "150px",
    "width": "357px"
   },
   "toc_section_display": true,
   "toc_window_display": true
  }
 },
 "nbformat": 4,
 "nbformat_minor": 5
}
