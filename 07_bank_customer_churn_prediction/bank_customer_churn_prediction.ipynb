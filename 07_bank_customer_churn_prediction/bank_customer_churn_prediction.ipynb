{
 "cells": [
  {
   "cell_type": "markdown",
   "id": "551c83e9",
   "metadata": {
    "toc": true
   },
   "source": [
    "<h1>Table of Contents<span class=\"tocSkip\"></span></h1>\n",
    "<div class=\"toc\"><ul class=\"toc-item\"><li><span><a href=\"#Откроем-и-изучим-файл.\" data-toc-modified-id=\"Откроем-и-изучим-файл.-1\"><span class=\"toc-item-num\">1&nbsp;&nbsp;</span>Откроем и изучим файл.</a></span></li><li><span><a href=\"#Подготовка-данных\" data-toc-modified-id=\"Подготовка-данных-2\"><span class=\"toc-item-num\">2&nbsp;&nbsp;</span>Подготовка данных</a></span></li><li><span><a href=\"#Исследование-задачи.\" data-toc-modified-id=\"Исследование-задачи.-3\"><span class=\"toc-item-num\">3&nbsp;&nbsp;</span>Исследование задачи.</a></span><ul class=\"toc-item\"><li><span><a href=\"#Разделение-данных-на-выборки\" data-toc-modified-id=\"Разделение-данных-на-выборки-3.1\"><span class=\"toc-item-num\">3.1&nbsp;&nbsp;</span>Разделение данных на выборки</a></span></li><li><span><a href=\"#Обучение-модели-без-учёта-дисбаланса\" data-toc-modified-id=\"Обучение-модели-без-учёта-дисбаланса-3.2\"><span class=\"toc-item-num\">3.2&nbsp;&nbsp;</span>Обучение модели без учёта дисбаланса</a></span></li></ul></li><li><span><a href=\"#Борьба-с-дисбалансом\" data-toc-modified-id=\"Борьба-с-дисбалансом-4\"><span class=\"toc-item-num\">4&nbsp;&nbsp;</span>Борьба с дисбалансом</a></span><ul class=\"toc-item\"><li><span><a href=\"#Увеличение-выборки\" data-toc-modified-id=\"Увеличение-выборки-4.1\"><span class=\"toc-item-num\">4.1&nbsp;&nbsp;</span>Увеличение выборки</a></span></li><li><span><a href=\"#Уменьшение-выборки\" data-toc-modified-id=\"Уменьшение-выборки-4.2\"><span class=\"toc-item-num\">4.2&nbsp;&nbsp;</span>Уменьшение выборки</a></span></li><li><span><a href=\"#Изменение-порога\" data-toc-modified-id=\"Изменение-порога-4.3\"><span class=\"toc-item-num\">4.3&nbsp;&nbsp;</span>Изменение порога</a></span></li><li><span><a href=\"#Взвешивание-классов\" data-toc-modified-id=\"Взвешивание-классов-4.4\"><span class=\"toc-item-num\">4.4&nbsp;&nbsp;</span>Взвешивание классов</a></span></li><li><span><a href=\"#Подбор-гиперпараметров\" data-toc-modified-id=\"Подбор-гиперпараметров-4.5\"><span class=\"toc-item-num\">4.5&nbsp;&nbsp;</span>Подбор гиперпараметров</a></span></li></ul></li><li><span><a href=\"#Тестирование-модели\" data-toc-modified-id=\"Тестирование-модели-5\"><span class=\"toc-item-num\">5&nbsp;&nbsp;</span>Тестирование модели</a></span></li><li><span><a href=\"#Вывод\" data-toc-modified-id=\"Вывод-6\"><span class=\"toc-item-num\">6&nbsp;&nbsp;</span>Вывод</a></span></li></ul></div>"
   ]
  },
  {
   "cell_type": "markdown",
   "id": "5269ccbe",
   "metadata": {},
   "source": [
    "# Отток клиентов"
   ]
  },
  {
   "cell_type": "markdown",
   "id": "6f2b6bd8",
   "metadata": {},
   "source": [
    "**Описание проекта**\n",
    "\n",
    "Маркетологи банка «Бета-Банк» выявили что сохранить клиента дешевле, чем привлекать новых. \n",
    "\n",
    "Необходимо построить модель предсказаний которая сможет спрогнозировать уйдет ли клиент из банка в ближайшее время. Для этого предоставлены исторические данные о поведении клиентов и расторжении договоров с банком.\n",
    "\n",
    "Успешным результатом исследования будет тсчитаться, если удалось достичь метрики F1-меры не менее 0.59."
   ]
  },
  {
   "cell_type": "markdown",
   "id": "fbb200be",
   "metadata": {},
   "source": [
    "**Признаки**\n",
    "- RowNumber — индекс строки в данных\n",
    "- CustomerId — уникальный идентификатор клиента\n",
    "- Surname — фамилия\n",
    "- CreditScore — кредитный рейтинг\n",
    "- Geography — страна проживания\n",
    "- Gender — пол\n",
    "- Age — возраст\n",
    "- Tenure — сколько лет человек является клиентом банка\n",
    "- Balance — баланс на счёте\n",
    "- NumOfProducts — количество продуктов банка, используемых клиентом\n",
    "- HasCrCard — наличие кредитной карты\n",
    "- IsActiveMember — активность клиента\n",
    "- EstimatedSalary — предполагаемая зарплата\n",
    "\n",
    "**Целевой признак**\n",
    "- Exited — факт ухода клиента"
   ]
  },
  {
   "cell_type": "markdown",
   "id": "d1c5899f",
   "metadata": {},
   "source": [
    "## Откроем и изучим файл."
   ]
  },
  {
   "cell_type": "code",
   "execution_count": 1,
   "id": "c2f63b3a",
   "metadata": {},
   "outputs": [],
   "source": [
    "import pandas as pd\n",
    "import numpy as np\n",
    "import matplotlib.pyplot as plt \n",
    "\n",
    "from sklearn.metrics import confusion_matrix, f1_score, roc_auc_score, precision_score, recall_score, mean_squared_error, accuracy_score, roc_curve \n",
    "from sklearn.utils import shuffle\n",
    "from sklearn.model_selection import train_test_split\n",
    "from sklearn.preprocessing import StandardScaler \n",
    "\n",
    "from sklearn.linear_model import LogisticRegression\n",
    "from sklearn.tree import DecisionTreeClassifier\n",
    "from sklearn.ensemble import RandomForestClassifier\n",
    "\n",
    "from sklearn.dummy import DummyClassifier"
   ]
  },
  {
   "cell_type": "code",
   "execution_count": 2,
   "id": "d0355088",
   "metadata": {},
   "outputs": [
    {
     "name": "stdout",
     "output_type": "stream",
     "text": [
      "<class 'pandas.core.frame.DataFrame'>\n",
      "RangeIndex: 10000 entries, 0 to 9999\n",
      "Data columns (total 14 columns):\n",
      " #   Column           Non-Null Count  Dtype  \n",
      "---  ------           --------------  -----  \n",
      " 0   RowNumber        10000 non-null  int64  \n",
      " 1   CustomerId       10000 non-null  int64  \n",
      " 2   Surname          10000 non-null  object \n",
      " 3   CreditScore      10000 non-null  int64  \n",
      " 4   Geography        10000 non-null  object \n",
      " 5   Gender           10000 non-null  object \n",
      " 6   Age              10000 non-null  int64  \n",
      " 7   Tenure           9091 non-null   float64\n",
      " 8   Balance          10000 non-null  float64\n",
      " 9   NumOfProducts    10000 non-null  int64  \n",
      " 10  HasCrCard        10000 non-null  int64  \n",
      " 11  IsActiveMember   10000 non-null  int64  \n",
      " 12  EstimatedSalary  10000 non-null  float64\n",
      " 13  Exited           10000 non-null  int64  \n",
      "dtypes: float64(3), int64(8), object(3)\n",
      "memory usage: 1.1+ MB\n"
     ]
    }
   ],
   "source": [
    "df = pd.read_csv('/datasets/Churn.csv')\n",
    "df.info()"
   ]
  },
  {
   "cell_type": "code",
   "execution_count": 3,
   "id": "719a11b6",
   "metadata": {},
   "outputs": [
    {
     "data": {
      "text/html": [
       "<div>\n",
       "<style scoped>\n",
       "    .dataframe tbody tr th:only-of-type {\n",
       "        vertical-align: middle;\n",
       "    }\n",
       "\n",
       "    .dataframe tbody tr th {\n",
       "        vertical-align: top;\n",
       "    }\n",
       "\n",
       "    .dataframe thead th {\n",
       "        text-align: right;\n",
       "    }\n",
       "</style>\n",
       "<table border=\"1\" class=\"dataframe\">\n",
       "  <thead>\n",
       "    <tr style=\"text-align: right;\">\n",
       "      <th></th>\n",
       "      <th>RowNumber</th>\n",
       "      <th>CustomerId</th>\n",
       "      <th>CreditScore</th>\n",
       "      <th>Age</th>\n",
       "      <th>Tenure</th>\n",
       "      <th>Balance</th>\n",
       "      <th>NumOfProducts</th>\n",
       "      <th>HasCrCard</th>\n",
       "      <th>IsActiveMember</th>\n",
       "      <th>EstimatedSalary</th>\n",
       "      <th>Exited</th>\n",
       "    </tr>\n",
       "  </thead>\n",
       "  <tbody>\n",
       "    <tr>\n",
       "      <th>count</th>\n",
       "      <td>10000.00000</td>\n",
       "      <td>1.000000e+04</td>\n",
       "      <td>10000.000000</td>\n",
       "      <td>10000.000000</td>\n",
       "      <td>9091.000000</td>\n",
       "      <td>10000.000000</td>\n",
       "      <td>10000.000000</td>\n",
       "      <td>10000.00000</td>\n",
       "      <td>10000.000000</td>\n",
       "      <td>10000.000000</td>\n",
       "      <td>10000.000000</td>\n",
       "    </tr>\n",
       "    <tr>\n",
       "      <th>mean</th>\n",
       "      <td>5000.50000</td>\n",
       "      <td>1.569094e+07</td>\n",
       "      <td>650.528800</td>\n",
       "      <td>38.921800</td>\n",
       "      <td>4.997690</td>\n",
       "      <td>76485.889288</td>\n",
       "      <td>1.530200</td>\n",
       "      <td>0.70550</td>\n",
       "      <td>0.515100</td>\n",
       "      <td>100090.239881</td>\n",
       "      <td>0.203700</td>\n",
       "    </tr>\n",
       "    <tr>\n",
       "      <th>std</th>\n",
       "      <td>2886.89568</td>\n",
       "      <td>7.193619e+04</td>\n",
       "      <td>96.653299</td>\n",
       "      <td>10.487806</td>\n",
       "      <td>2.894723</td>\n",
       "      <td>62397.405202</td>\n",
       "      <td>0.581654</td>\n",
       "      <td>0.45584</td>\n",
       "      <td>0.499797</td>\n",
       "      <td>57510.492818</td>\n",
       "      <td>0.402769</td>\n",
       "    </tr>\n",
       "    <tr>\n",
       "      <th>min</th>\n",
       "      <td>1.00000</td>\n",
       "      <td>1.556570e+07</td>\n",
       "      <td>350.000000</td>\n",
       "      <td>18.000000</td>\n",
       "      <td>0.000000</td>\n",
       "      <td>0.000000</td>\n",
       "      <td>1.000000</td>\n",
       "      <td>0.00000</td>\n",
       "      <td>0.000000</td>\n",
       "      <td>11.580000</td>\n",
       "      <td>0.000000</td>\n",
       "    </tr>\n",
       "    <tr>\n",
       "      <th>25%</th>\n",
       "      <td>2500.75000</td>\n",
       "      <td>1.562853e+07</td>\n",
       "      <td>584.000000</td>\n",
       "      <td>32.000000</td>\n",
       "      <td>2.000000</td>\n",
       "      <td>0.000000</td>\n",
       "      <td>1.000000</td>\n",
       "      <td>0.00000</td>\n",
       "      <td>0.000000</td>\n",
       "      <td>51002.110000</td>\n",
       "      <td>0.000000</td>\n",
       "    </tr>\n",
       "    <tr>\n",
       "      <th>50%</th>\n",
       "      <td>5000.50000</td>\n",
       "      <td>1.569074e+07</td>\n",
       "      <td>652.000000</td>\n",
       "      <td>37.000000</td>\n",
       "      <td>5.000000</td>\n",
       "      <td>97198.540000</td>\n",
       "      <td>1.000000</td>\n",
       "      <td>1.00000</td>\n",
       "      <td>1.000000</td>\n",
       "      <td>100193.915000</td>\n",
       "      <td>0.000000</td>\n",
       "    </tr>\n",
       "    <tr>\n",
       "      <th>75%</th>\n",
       "      <td>7500.25000</td>\n",
       "      <td>1.575323e+07</td>\n",
       "      <td>718.000000</td>\n",
       "      <td>44.000000</td>\n",
       "      <td>7.000000</td>\n",
       "      <td>127644.240000</td>\n",
       "      <td>2.000000</td>\n",
       "      <td>1.00000</td>\n",
       "      <td>1.000000</td>\n",
       "      <td>149388.247500</td>\n",
       "      <td>0.000000</td>\n",
       "    </tr>\n",
       "    <tr>\n",
       "      <th>max</th>\n",
       "      <td>10000.00000</td>\n",
       "      <td>1.581569e+07</td>\n",
       "      <td>850.000000</td>\n",
       "      <td>92.000000</td>\n",
       "      <td>10.000000</td>\n",
       "      <td>250898.090000</td>\n",
       "      <td>4.000000</td>\n",
       "      <td>1.00000</td>\n",
       "      <td>1.000000</td>\n",
       "      <td>199992.480000</td>\n",
       "      <td>1.000000</td>\n",
       "    </tr>\n",
       "  </tbody>\n",
       "</table>\n",
       "</div>"
      ],
      "text/plain": [
       "         RowNumber    CustomerId   CreditScore           Age       Tenure  \\\n",
       "count  10000.00000  1.000000e+04  10000.000000  10000.000000  9091.000000   \n",
       "mean    5000.50000  1.569094e+07    650.528800     38.921800     4.997690   \n",
       "std     2886.89568  7.193619e+04     96.653299     10.487806     2.894723   \n",
       "min        1.00000  1.556570e+07    350.000000     18.000000     0.000000   \n",
       "25%     2500.75000  1.562853e+07    584.000000     32.000000     2.000000   \n",
       "50%     5000.50000  1.569074e+07    652.000000     37.000000     5.000000   \n",
       "75%     7500.25000  1.575323e+07    718.000000     44.000000     7.000000   \n",
       "max    10000.00000  1.581569e+07    850.000000     92.000000    10.000000   \n",
       "\n",
       "             Balance  NumOfProducts    HasCrCard  IsActiveMember  \\\n",
       "count   10000.000000   10000.000000  10000.00000    10000.000000   \n",
       "mean    76485.889288       1.530200      0.70550        0.515100   \n",
       "std     62397.405202       0.581654      0.45584        0.499797   \n",
       "min         0.000000       1.000000      0.00000        0.000000   \n",
       "25%         0.000000       1.000000      0.00000        0.000000   \n",
       "50%     97198.540000       1.000000      1.00000        1.000000   \n",
       "75%    127644.240000       2.000000      1.00000        1.000000   \n",
       "max    250898.090000       4.000000      1.00000        1.000000   \n",
       "\n",
       "       EstimatedSalary        Exited  \n",
       "count     10000.000000  10000.000000  \n",
       "mean     100090.239881      0.203700  \n",
       "std       57510.492818      0.402769  \n",
       "min          11.580000      0.000000  \n",
       "25%       51002.110000      0.000000  \n",
       "50%      100193.915000      0.000000  \n",
       "75%      149388.247500      0.000000  \n",
       "max      199992.480000      1.000000  "
      ]
     },
     "execution_count": 3,
     "metadata": {},
     "output_type": "execute_result"
    }
   ],
   "source": [
    "df.describe()"
   ]
  },
  {
   "cell_type": "code",
   "execution_count": 4,
   "id": "bf71afa8",
   "metadata": {},
   "outputs": [
    {
     "data": {
      "text/html": [
       "<div>\n",
       "<style scoped>\n",
       "    .dataframe tbody tr th:only-of-type {\n",
       "        vertical-align: middle;\n",
       "    }\n",
       "\n",
       "    .dataframe tbody tr th {\n",
       "        vertical-align: top;\n",
       "    }\n",
       "\n",
       "    .dataframe thead th {\n",
       "        text-align: right;\n",
       "    }\n",
       "</style>\n",
       "<table border=\"1\" class=\"dataframe\">\n",
       "  <thead>\n",
       "    <tr style=\"text-align: right;\">\n",
       "      <th></th>\n",
       "      <th>RowNumber</th>\n",
       "      <th>CustomerId</th>\n",
       "      <th>Surname</th>\n",
       "      <th>CreditScore</th>\n",
       "      <th>Geography</th>\n",
       "      <th>Gender</th>\n",
       "      <th>Age</th>\n",
       "      <th>Tenure</th>\n",
       "      <th>Balance</th>\n",
       "      <th>NumOfProducts</th>\n",
       "      <th>HasCrCard</th>\n",
       "      <th>IsActiveMember</th>\n",
       "      <th>EstimatedSalary</th>\n",
       "      <th>Exited</th>\n",
       "    </tr>\n",
       "  </thead>\n",
       "  <tbody>\n",
       "    <tr>\n",
       "      <th>0</th>\n",
       "      <td>1</td>\n",
       "      <td>15634602</td>\n",
       "      <td>Hargrave</td>\n",
       "      <td>619</td>\n",
       "      <td>France</td>\n",
       "      <td>Female</td>\n",
       "      <td>42</td>\n",
       "      <td>2.0</td>\n",
       "      <td>0.00</td>\n",
       "      <td>1</td>\n",
       "      <td>1</td>\n",
       "      <td>1</td>\n",
       "      <td>101348.88</td>\n",
       "      <td>1</td>\n",
       "    </tr>\n",
       "    <tr>\n",
       "      <th>1</th>\n",
       "      <td>2</td>\n",
       "      <td>15647311</td>\n",
       "      <td>Hill</td>\n",
       "      <td>608</td>\n",
       "      <td>Spain</td>\n",
       "      <td>Female</td>\n",
       "      <td>41</td>\n",
       "      <td>1.0</td>\n",
       "      <td>83807.86</td>\n",
       "      <td>1</td>\n",
       "      <td>0</td>\n",
       "      <td>1</td>\n",
       "      <td>112542.58</td>\n",
       "      <td>0</td>\n",
       "    </tr>\n",
       "    <tr>\n",
       "      <th>2</th>\n",
       "      <td>3</td>\n",
       "      <td>15619304</td>\n",
       "      <td>Onio</td>\n",
       "      <td>502</td>\n",
       "      <td>France</td>\n",
       "      <td>Female</td>\n",
       "      <td>42</td>\n",
       "      <td>8.0</td>\n",
       "      <td>159660.80</td>\n",
       "      <td>3</td>\n",
       "      <td>1</td>\n",
       "      <td>0</td>\n",
       "      <td>113931.57</td>\n",
       "      <td>1</td>\n",
       "    </tr>\n",
       "    <tr>\n",
       "      <th>3</th>\n",
       "      <td>4</td>\n",
       "      <td>15701354</td>\n",
       "      <td>Boni</td>\n",
       "      <td>699</td>\n",
       "      <td>France</td>\n",
       "      <td>Female</td>\n",
       "      <td>39</td>\n",
       "      <td>1.0</td>\n",
       "      <td>0.00</td>\n",
       "      <td>2</td>\n",
       "      <td>0</td>\n",
       "      <td>0</td>\n",
       "      <td>93826.63</td>\n",
       "      <td>0</td>\n",
       "    </tr>\n",
       "    <tr>\n",
       "      <th>4</th>\n",
       "      <td>5</td>\n",
       "      <td>15737888</td>\n",
       "      <td>Mitchell</td>\n",
       "      <td>850</td>\n",
       "      <td>Spain</td>\n",
       "      <td>Female</td>\n",
       "      <td>43</td>\n",
       "      <td>2.0</td>\n",
       "      <td>125510.82</td>\n",
       "      <td>1</td>\n",
       "      <td>1</td>\n",
       "      <td>1</td>\n",
       "      <td>79084.10</td>\n",
       "      <td>0</td>\n",
       "    </tr>\n",
       "  </tbody>\n",
       "</table>\n",
       "</div>"
      ],
      "text/plain": [
       "   RowNumber  CustomerId   Surname  CreditScore Geography  Gender  Age  \\\n",
       "0          1    15634602  Hargrave          619    France  Female   42   \n",
       "1          2    15647311      Hill          608     Spain  Female   41   \n",
       "2          3    15619304      Onio          502    France  Female   42   \n",
       "3          4    15701354      Boni          699    France  Female   39   \n",
       "4          5    15737888  Mitchell          850     Spain  Female   43   \n",
       "\n",
       "   Tenure    Balance  NumOfProducts  HasCrCard  IsActiveMember  \\\n",
       "0     2.0       0.00              1          1               1   \n",
       "1     1.0   83807.86              1          0               1   \n",
       "2     8.0  159660.80              3          1               0   \n",
       "3     1.0       0.00              2          0               0   \n",
       "4     2.0  125510.82              1          1               1   \n",
       "\n",
       "   EstimatedSalary  Exited  \n",
       "0        101348.88       1  \n",
       "1        112542.58       0  \n",
       "2        113931.57       1  \n",
       "3         93826.63       0  \n",
       "4         79084.10       0  "
      ]
     },
     "execution_count": 4,
     "metadata": {},
     "output_type": "execute_result"
    }
   ],
   "source": [
    "df.head(5)"
   ]
  },
  {
   "cell_type": "markdown",
   "id": "c5d699b3",
   "metadata": {},
   "source": [
    "## Подготовка данных"
   ]
  },
  {
   "cell_type": "markdown",
   "id": "b419c7a0",
   "metadata": {},
   "source": [
    "Переименуем столбцы и приведем названия к нижнем регистру для удобства и соответствия PEP8"
   ]
  },
  {
   "cell_type": "code",
   "execution_count": 5,
   "id": "a560fa50",
   "metadata": {},
   "outputs": [
    {
     "data": {
      "text/plain": [
       "['rownumber',\n",
       " 'customerid',\n",
       " 'surname',\n",
       " 'creditscore',\n",
       " 'geography',\n",
       " 'gender',\n",
       " 'age',\n",
       " 'tenure',\n",
       " 'balance',\n",
       " 'numofproducts',\n",
       " 'hascrcard',\n",
       " 'isactivemember',\n",
       " 'estimatedsalary',\n",
       " 'exited']"
      ]
     },
     "execution_count": 5,
     "metadata": {},
     "output_type": "execute_result"
    }
   ],
   "source": [
    "df.columns = df.columns.str.lower()\n",
    "#Проверим результат\n",
    "df.columns.tolist()"
   ]
  },
  {
   "cell_type": "code",
   "execution_count": 6,
   "id": "a86fd991",
   "metadata": {},
   "outputs": [
    {
     "data": {
      "text/plain": [
       "0"
      ]
     },
     "execution_count": 6,
     "metadata": {},
     "output_type": "execute_result"
    }
   ],
   "source": [
    "#Проверим данные на дубликаты\n",
    "df.duplicated().sum()"
   ]
  },
  {
   "cell_type": "markdown",
   "id": "dbf32a27",
   "metadata": {},
   "source": [
    "Отлично. Дубликатов нет."
   ]
  },
  {
   "cell_type": "code",
   "execution_count": 7,
   "id": "c14402d1",
   "metadata": {},
   "outputs": [
    {
     "data": {
      "text/plain": [
       "rownumber            0\n",
       "customerid           0\n",
       "surname              0\n",
       "creditscore          0\n",
       "geography            0\n",
       "gender               0\n",
       "age                  0\n",
       "tenure             909\n",
       "balance              0\n",
       "numofproducts        0\n",
       "hascrcard            0\n",
       "isactivemember       0\n",
       "estimatedsalary      0\n",
       "exited               0\n",
       "dtype: int64"
      ]
     },
     "execution_count": 7,
     "metadata": {},
     "output_type": "execute_result"
    }
   ],
   "source": [
    "#Проверим пропуски в данных\n",
    "df.isna().sum()"
   ]
  },
  {
   "cell_type": "code",
   "execution_count": 8,
   "id": "9bf27f87",
   "metadata": {},
   "outputs": [
    {
     "data": {
      "text/plain": [
       "tenure             9.09\n",
       "rownumber          0.00\n",
       "customerid         0.00\n",
       "surname            0.00\n",
       "creditscore        0.00\n",
       "geography          0.00\n",
       "gender             0.00\n",
       "age                0.00\n",
       "balance            0.00\n",
       "numofproducts      0.00\n",
       "hascrcard          0.00\n",
       "isactivemember     0.00\n",
       "estimatedsalary    0.00\n",
       "exited             0.00\n",
       "dtype: float64"
      ]
     },
     "execution_count": 8,
     "metadata": {},
     "output_type": "execute_result"
    }
   ],
   "source": [
    "#Посчитаем процент пропусков по столбцам\n",
    "df.isnull().sum().sort_values(ascending = False) / df.shape[0] * 100"
   ]
  },
  {
   "cell_type": "code",
   "execution_count": 9,
   "id": "da0cc2fd",
   "metadata": {},
   "outputs": [
    {
     "data": {
      "text/plain": [
       "array([ 2.,  1.,  8.,  7.,  4.,  6.,  3., 10.,  5.,  9.,  0., nan])"
      ]
     },
     "execution_count": 9,
     "metadata": {},
     "output_type": "execute_result"
    }
   ],
   "source": [
    "#Проверим уникальные значения столбца tenure\n",
    "df['tenure'].unique()"
   ]
  },
  {
   "cell_type": "markdown",
   "id": "8b87a1d1",
   "metadata": {},
   "source": [
    "Столбец содержит пропуски и содержит только целые числа. Заменим пропуски медианными значениями и изменим формат на Int64"
   ]
  },
  {
   "cell_type": "code",
   "execution_count": 10,
   "id": "aa2dac6b",
   "metadata": {},
   "outputs": [],
   "source": [
    "df.loc[df['tenure'].isna(), 'tenure'] = df.loc[df['tenure'].isna() == False, 'tenure'].median()\n",
    "df['tenure'] = df['tenure'].astype('int64')"
   ]
  },
  {
   "cell_type": "markdown",
   "id": "15f8161e",
   "metadata": {},
   "source": [
    "В столбце 'row_number' содержется индекс строки, которые дублируется. Столбец 'surname' содержит фамилию клиента - информация в этом столбце не важна для прогноза.Столбец 'customerid' также содержит не важную для прогноза информацию. Удалим эти столбцы"
   ]
  },
  {
   "cell_type": "code",
   "execution_count": 11,
   "id": "452874c0",
   "metadata": {},
   "outputs": [
    {
     "data": {
      "text/html": [
       "<div>\n",
       "<style scoped>\n",
       "    .dataframe tbody tr th:only-of-type {\n",
       "        vertical-align: middle;\n",
       "    }\n",
       "\n",
       "    .dataframe tbody tr th {\n",
       "        vertical-align: top;\n",
       "    }\n",
       "\n",
       "    .dataframe thead th {\n",
       "        text-align: right;\n",
       "    }\n",
       "</style>\n",
       "<table border=\"1\" class=\"dataframe\">\n",
       "  <thead>\n",
       "    <tr style=\"text-align: right;\">\n",
       "      <th></th>\n",
       "      <th>creditscore</th>\n",
       "      <th>geography</th>\n",
       "      <th>gender</th>\n",
       "      <th>age</th>\n",
       "      <th>tenure</th>\n",
       "      <th>balance</th>\n",
       "      <th>numofproducts</th>\n",
       "      <th>hascrcard</th>\n",
       "      <th>isactivemember</th>\n",
       "      <th>estimatedsalary</th>\n",
       "      <th>exited</th>\n",
       "    </tr>\n",
       "  </thead>\n",
       "  <tbody>\n",
       "    <tr>\n",
       "      <th>0</th>\n",
       "      <td>619</td>\n",
       "      <td>France</td>\n",
       "      <td>Female</td>\n",
       "      <td>42</td>\n",
       "      <td>2</td>\n",
       "      <td>0.00</td>\n",
       "      <td>1</td>\n",
       "      <td>1</td>\n",
       "      <td>1</td>\n",
       "      <td>101348.88</td>\n",
       "      <td>1</td>\n",
       "    </tr>\n",
       "    <tr>\n",
       "      <th>1</th>\n",
       "      <td>608</td>\n",
       "      <td>Spain</td>\n",
       "      <td>Female</td>\n",
       "      <td>41</td>\n",
       "      <td>1</td>\n",
       "      <td>83807.86</td>\n",
       "      <td>1</td>\n",
       "      <td>0</td>\n",
       "      <td>1</td>\n",
       "      <td>112542.58</td>\n",
       "      <td>0</td>\n",
       "    </tr>\n",
       "    <tr>\n",
       "      <th>2</th>\n",
       "      <td>502</td>\n",
       "      <td>France</td>\n",
       "      <td>Female</td>\n",
       "      <td>42</td>\n",
       "      <td>8</td>\n",
       "      <td>159660.80</td>\n",
       "      <td>3</td>\n",
       "      <td>1</td>\n",
       "      <td>0</td>\n",
       "      <td>113931.57</td>\n",
       "      <td>1</td>\n",
       "    </tr>\n",
       "    <tr>\n",
       "      <th>3</th>\n",
       "      <td>699</td>\n",
       "      <td>France</td>\n",
       "      <td>Female</td>\n",
       "      <td>39</td>\n",
       "      <td>1</td>\n",
       "      <td>0.00</td>\n",
       "      <td>2</td>\n",
       "      <td>0</td>\n",
       "      <td>0</td>\n",
       "      <td>93826.63</td>\n",
       "      <td>0</td>\n",
       "    </tr>\n",
       "    <tr>\n",
       "      <th>4</th>\n",
       "      <td>850</td>\n",
       "      <td>Spain</td>\n",
       "      <td>Female</td>\n",
       "      <td>43</td>\n",
       "      <td>2</td>\n",
       "      <td>125510.82</td>\n",
       "      <td>1</td>\n",
       "      <td>1</td>\n",
       "      <td>1</td>\n",
       "      <td>79084.10</td>\n",
       "      <td>0</td>\n",
       "    </tr>\n",
       "  </tbody>\n",
       "</table>\n",
       "</div>"
      ],
      "text/plain": [
       "   creditscore geography  gender  age  tenure    balance  numofproducts  \\\n",
       "0          619    France  Female   42       2       0.00              1   \n",
       "1          608     Spain  Female   41       1   83807.86              1   \n",
       "2          502    France  Female   42       8  159660.80              3   \n",
       "3          699    France  Female   39       1       0.00              2   \n",
       "4          850     Spain  Female   43       2  125510.82              1   \n",
       "\n",
       "   hascrcard  isactivemember  estimatedsalary  exited  \n",
       "0          1               1        101348.88       1  \n",
       "1          0               1        112542.58       0  \n",
       "2          1               0        113931.57       1  \n",
       "3          0               0         93826.63       0  \n",
       "4          1               1         79084.10       0  "
      ]
     },
     "execution_count": 11,
     "metadata": {},
     "output_type": "execute_result"
    }
   ],
   "source": [
    "df = df.drop(columns=['rownumber','surname','customerid'],axis=1)\n",
    "df.head(5)"
   ]
  },
  {
   "cell_type": "markdown",
   "id": "d58f0ee7",
   "metadata": {},
   "source": [
    "## Исследование задачи."
   ]
  },
  {
   "cell_type": "markdown",
   "id": "7deb7aed",
   "metadata": {},
   "source": [
    "### Разделение данных на выборки"
   ]
  },
  {
   "cell_type": "code",
   "execution_count": 12,
   "id": "9fc98cbd",
   "metadata": {},
   "outputs": [],
   "source": [
    "#Разделим данные на три выборки\n",
    "\n",
    "features = df.drop(columns=['exited'], axis=1)\n",
    "target = df['exited']\n",
    "\n",
    "features_train, features_valid, target_train, target_valid = train_test_split(features, target, test_size=0.2, random_state=12345)\n",
    "features_valid, features_test, target_valid, target_test = train_test_split(features_valid, target_valid, test_size=0.25, random_state=12345)\n",
    "\n",
    "features_train = pd.get_dummies(features_train, drop_first=True)\n",
    "features_valid = pd.get_dummies(features_valid, drop_first=True)\n",
    "features_test = pd.get_dummies(features_test, drop_first=True)"
   ]
  },
  {
   "cell_type": "markdown",
   "id": "be09454b",
   "metadata": {},
   "source": [
    "В данных есть признаки с разными масштабами. Воспользуемся стандартизацией данных чтобы избежать этой ловушки, и приводем их к одному масштабу методом - StandardScaler()"
   ]
  },
  {
   "cell_type": "code",
   "execution_count": 13,
   "id": "e0e8df0f",
   "metadata": {},
   "outputs": [],
   "source": [
    "columns_for_scaler = ['creditscore', 'age', 'tenure', 'balance','estimatedsalary']\n",
    "\n",
    "scaler = StandardScaler()\n",
    "\n",
    "scaler.fit(features_train[columns_for_scaler])\n",
    "\n",
    "features_train[columns_for_scaler] = scaler.transform(features_train[columns_for_scaler])\n",
    "features_valid[columns_for_scaler] = scaler.transform(features_valid[columns_for_scaler])\n",
    "features_test[columns_for_scaler] = scaler.transform(features_test[columns_for_scaler])\n",
    "\n",
    "pd.options.mode.chained_assignment = None"
   ]
  },
  {
   "cell_type": "code",
   "execution_count": 14,
   "id": "dea7df7a",
   "metadata": {},
   "outputs": [
    {
     "data": {
      "text/html": [
       "<div>\n",
       "<style scoped>\n",
       "    .dataframe tbody tr th:only-of-type {\n",
       "        vertical-align: middle;\n",
       "    }\n",
       "\n",
       "    .dataframe tbody tr th {\n",
       "        vertical-align: top;\n",
       "    }\n",
       "\n",
       "    .dataframe thead th {\n",
       "        text-align: right;\n",
       "    }\n",
       "</style>\n",
       "<table border=\"1\" class=\"dataframe\">\n",
       "  <thead>\n",
       "    <tr style=\"text-align: right;\">\n",
       "      <th></th>\n",
       "      <th>creditscore</th>\n",
       "      <th>age</th>\n",
       "      <th>tenure</th>\n",
       "      <th>balance</th>\n",
       "      <th>numofproducts</th>\n",
       "      <th>hascrcard</th>\n",
       "      <th>isactivemember</th>\n",
       "      <th>estimatedsalary</th>\n",
       "      <th>geography_Germany</th>\n",
       "      <th>geography_Spain</th>\n",
       "      <th>gender_Male</th>\n",
       "    </tr>\n",
       "  </thead>\n",
       "  <tbody>\n",
       "    <tr>\n",
       "      <th>454</th>\n",
       "      <td>1.107585</td>\n",
       "      <td>0.011482</td>\n",
       "      <td>0.358552</td>\n",
       "      <td>0.819420</td>\n",
       "      <td>1</td>\n",
       "      <td>0</td>\n",
       "      <td>1</td>\n",
       "      <td>-0.757878</td>\n",
       "      <td>0</td>\n",
       "      <td>0</td>\n",
       "      <td>0</td>\n",
       "    </tr>\n",
       "    <tr>\n",
       "      <th>8307</th>\n",
       "      <td>-0.338704</td>\n",
       "      <td>-0.844298</td>\n",
       "      <td>-0.730444</td>\n",
       "      <td>0.923294</td>\n",
       "      <td>1</td>\n",
       "      <td>1</td>\n",
       "      <td>1</td>\n",
       "      <td>-1.194506</td>\n",
       "      <td>0</td>\n",
       "      <td>0</td>\n",
       "      <td>1</td>\n",
       "    </tr>\n",
       "    <tr>\n",
       "      <th>4811</th>\n",
       "      <td>-0.782922</td>\n",
       "      <td>-1.224645</td>\n",
       "      <td>0.721550</td>\n",
       "      <td>-1.220083</td>\n",
       "      <td>2</td>\n",
       "      <td>1</td>\n",
       "      <td>0</td>\n",
       "      <td>0.212357</td>\n",
       "      <td>0</td>\n",
       "      <td>1</td>\n",
       "      <td>0</td>\n",
       "    </tr>\n",
       "    <tr>\n",
       "      <th>1132</th>\n",
       "      <td>-0.235398</td>\n",
       "      <td>-0.178692</td>\n",
       "      <td>-0.004447</td>\n",
       "      <td>-1.220083</td>\n",
       "      <td>2</td>\n",
       "      <td>1</td>\n",
       "      <td>1</td>\n",
       "      <td>1.239310</td>\n",
       "      <td>0</td>\n",
       "      <td>0</td>\n",
       "      <td>1</td>\n",
       "    </tr>\n",
       "    <tr>\n",
       "      <th>9640</th>\n",
       "      <td>1.024940</td>\n",
       "      <td>-0.368865</td>\n",
       "      <td>-0.730444</td>\n",
       "      <td>-1.220083</td>\n",
       "      <td>1</td>\n",
       "      <td>1</td>\n",
       "      <td>0</td>\n",
       "      <td>1.583001</td>\n",
       "      <td>0</td>\n",
       "      <td>0</td>\n",
       "      <td>0</td>\n",
       "    </tr>\n",
       "  </tbody>\n",
       "</table>\n",
       "</div>"
      ],
      "text/plain": [
       "      creditscore       age    tenure   balance  numofproducts  hascrcard  \\\n",
       "454      1.107585  0.011482  0.358552  0.819420              1          0   \n",
       "8307    -0.338704 -0.844298 -0.730444  0.923294              1          1   \n",
       "4811    -0.782922 -1.224645  0.721550 -1.220083              2          1   \n",
       "1132    -0.235398 -0.178692 -0.004447 -1.220083              2          1   \n",
       "9640     1.024940 -0.368865 -0.730444 -1.220083              1          1   \n",
       "\n",
       "      isactivemember  estimatedsalary  geography_Germany  geography_Spain  \\\n",
       "454                1        -0.757878                  0                0   \n",
       "8307               1        -1.194506                  0                0   \n",
       "4811               0         0.212357                  0                1   \n",
       "1132               1         1.239310                  0                0   \n",
       "9640               0         1.583001                  0                0   \n",
       "\n",
       "      gender_Male  \n",
       "454             0  \n",
       "8307            1  \n",
       "4811            0  \n",
       "1132            1  \n",
       "9640            0  "
      ]
     },
     "execution_count": 14,
     "metadata": {},
     "output_type": "execute_result"
    }
   ],
   "source": [
    "features_train.head()"
   ]
  },
  {
   "cell_type": "markdown",
   "id": "643a8dd6",
   "metadata": {},
   "source": [
    "### Обучение модели без учёта дисбаланса"
   ]
  },
  {
   "cell_type": "markdown",
   "id": "53fc84e4",
   "metadata": {},
   "source": [
    "- Обучим модель «Решающее дерево» и проверим интересующие нас матрики баласа классов"
   ]
  },
  {
   "cell_type": "code",
   "execution_count": 15,
   "id": "3e6abc93",
   "metadata": {},
   "outputs": [
    {
     "name": "stdout",
     "output_type": "stream",
     "text": [
      "DecisionTreeClassifier Recall = 0.49, Precision = 0.62\n",
      "DecisionTreeClassifier F1-score = 0.55, AUC-ROC = 0.73\n",
      "[[1074   98]\n",
      " [ 167  161]]\n"
     ]
    }
   ],
   "source": [
    "model_tree = DecisionTreeClassifier(max_depth= 12, random_state=12345)\n",
    "model_tree.fit(features_train, target_train)\n",
    "\n",
    "predicted_tree = model_tree.predict(features_valid)\n",
    "\n",
    "prob_tree = model_tree.predict_proba(features_valid)\n",
    "prob_valid_tree = prob_tree[:, 1]\n",
    "\n",
    "recall_tree = recall_score(target_valid,predicted_tree)\n",
    "precision_tree = precision_score(target_valid,predicted_tree)\n",
    "\n",
    "roc_auc_tree = roc_auc_score(target_valid, prob_valid_tree)\n",
    "f1_tree = f1_score(target_valid, predicted_tree)\n",
    "\n",
    "print(f'DecisionTreeClassifier Recall = {recall_tree:0.2f}, Precision = {precision_tree:0.2f}')\n",
    "print(f'DecisionTreeClassifier F1-score = {f1_tree:0.2f}, AUC-ROC = {roc_auc_tree:0.2f}')\n",
    "\n",
    "print(confusion_matrix(target_valid, predicted_tree))"
   ]
  },
  {
   "cell_type": "code",
   "execution_count": 16,
   "id": "ef416252",
   "metadata": {},
   "outputs": [
    {
     "data": {
      "image/png": "[encoded data removed]",
      "text/plain": [
       "<Figure size 432x288 with 1 Axes>"
      ]
     },
     "metadata": {
      "needs_background": "light"
     },
     "output_type": "display_data"
    }
   ],
   "source": [
    "fpr, tpr, thresholds = roc_curve(target_valid, prob_valid_tree)\n",
    "\n",
    "plt.figure()\n",
    "plt.plot(fpr, tpr)\n",
    "plt.xlim([0.0, 1.0])\n",
    "plt.ylim([0.0, 1.0])\n",
    "plt.xlabel('False Positive Rate')\n",
    "plt.ylabel('True Positive Rate')\n",
    "plt.title('ROC-кривая')\n",
    "plt.show() "
   ]
  },
  {
   "cell_type": "markdown",
   "id": "863b1edb",
   "metadata": {},
   "source": [
    "- Обучим модель «Cлучайный лес» и проверим интересующие нас матрики баласа классов"
   ]
  },
  {
   "cell_type": "code",
   "execution_count": 17,
   "id": "2150401e",
   "metadata": {},
   "outputs": [
    {
     "name": "stdout",
     "output_type": "stream",
     "text": [
      "RandomForestClassifier Recall = 0.45, Precision = 0.77\n",
      "RandomForestClassifier F1-score = 0.57, AUC-ROC = 0.85\n",
      "[[1127   45]\n",
      " [ 181  147]]\n"
     ]
    }
   ],
   "source": [
    "model_forest = RandomForestClassifier(n_estimators=80, random_state=12345)\n",
    "model_forest.fit(features_train, target_train)\n",
    "\n",
    "predicted_forest = model_forest.predict(features_valid)\n",
    "prob_forest = model_forest.predict_proba(features_valid)\n",
    "prob_valid_forest = prob_forest[:, 1]\n",
    "\n",
    "recall_forest = recall_score(target_valid,predicted_forest)\n",
    "precision_forest = precision_score(target_valid,predicted_forest)\n",
    "\n",
    "roc_auc_forest = roc_auc_score(target_valid, prob_valid_forest)\n",
    "f1_forest = f1_score(target_valid, predicted_forest)\n",
    "\n",
    "print(f'RandomForestClassifier Recall = {recall_forest:0.2f}, Precision = {precision_forest:0.2f}')\n",
    "print(f'RandomForestClassifier F1-score = {f1_forest:0.2f}, AUC-ROC = {roc_auc_forest:0.2f}')\n",
    "\n",
    "print(confusion_matrix(target_valid, predicted_forest))"
   ]
  },
  {
   "cell_type": "code",
   "execution_count": 18,
   "id": "8003b841",
   "metadata": {},
   "outputs": [
    {
     "data": {
      "image/png": "[encoded data removed]",
      "text/plain": [
       "<Figure size 432x288 with 1 Axes>"
      ]
     },
     "metadata": {
      "needs_background": "light"
     },
     "output_type": "display_data"
    }
   ],
   "source": [
    "fpr, tpr, thresholds = roc_curve(target_valid, prob_valid_forest)\n",
    "\n",
    "plt.figure()\n",
    "plt.plot(fpr, tpr)\n",
    "plt.xlim([0.0, 1.0])\n",
    "plt.ylim([0.0, 1.0])\n",
    "plt.xlabel('False Positive Rate')\n",
    "plt.ylabel('True Positive Rate')\n",
    "plt.title('ROC-кривая')\n",
    "plt.show() "
   ]
  },
  {
   "cell_type": "markdown",
   "id": "636a430d",
   "metadata": {},
   "source": [
    "- Обучим модель «Логистическая регрессия» и проверим интересующие нас матрики баласа классов"
   ]
  },
  {
   "cell_type": "code",
   "execution_count": 19,
   "id": "ead544c1",
   "metadata": {},
   "outputs": [
    {
     "name": "stdout",
     "output_type": "stream",
     "text": [
      "LogisticRegression Recall = 0.19, Precision = 0.57\n",
      "LogisticRegression F1-score = 0.28, AUC-ROC = 0.76\n",
      "[[1125   47]\n",
      " [ 266   62]]\n"
     ]
    }
   ],
   "source": [
    "model_lr = LogisticRegression(random_state=12345, solver='lbfgs')\n",
    "model_lr.fit(features_train, target_train)\n",
    "\n",
    "predicted_lr = model_lr.predict(features_valid)\n",
    "prob_lr = model_lr.predict_proba(features_valid)\n",
    "prob_valid_lr = prob_lr[:, 1]\n",
    "\n",
    "recall_lr = recall_score(target_valid,predicted_lr)\n",
    "precision_lr = precision_score(target_valid,predicted_lr)\n",
    "\n",
    "roc_auc_lr = roc_auc_score(target_valid, prob_valid_lr)\n",
    "f1_lr = f1_score(target_valid, predicted_lr)\n",
    "\n",
    "print(f'LogisticRegression Recall = {recall_lr:0.2f}, Precision = {precision_lr:0.2f}')\n",
    "print(f'LogisticRegression F1-score = {f1_lr:0.2f}, AUC-ROC = {roc_auc_lr:0.2f}')\n",
    "\n",
    "print(confusion_matrix(target_valid, predicted_lr))"
   ]
  },
  {
   "cell_type": "code",
   "execution_count": 20,
   "id": "32fe69a8",
   "metadata": {},
   "outputs": [
    {
     "data": {
      "image/png": "[encoded data removed]",
      "text/plain": [
       "<Figure size 432x288 with 1 Axes>"
      ]
     },
     "metadata": {
      "needs_background": "light"
     },
     "output_type": "display_data"
    }
   ],
   "source": [
    "fpr, tpr, thresholds = roc_curve(target_valid, prob_valid_lr)\n",
    "\n",
    "plt.figure()\n",
    "plt.plot(fpr, tpr)\n",
    "plt.xlim([0.0, 1.0])\n",
    "plt.ylim([0.0, 1.0])\n",
    "plt.xlabel('False Positive Rate')\n",
    "plt.ylabel('True Positive Rate')\n",
    "plt.title('ROC-кривая')\n",
    "plt.show() "
   ]
  },
  {
   "cell_type": "markdown",
   "id": "75c3a879",
   "metadata": {},
   "source": [
    "Уточним "
   ]
  },
  {
   "cell_type": "code",
   "execution_count": 21,
   "id": "72d88cfa",
   "metadata": {},
   "outputs": [
    {
     "name": "stdout",
     "output_type": "stream",
     "text": [
      "0    0.7963\n",
      "1    0.2037\n",
      "Name: exited, dtype: float64\n"
     ]
    },
    {
     "data": {
      "image/png": "[encoded data removed]",
      "text/plain": [
       "<Figure size 432x288 with 1 Axes>"
      ]
     },
     "metadata": {
      "needs_background": "light"
     },
     "output_type": "display_data"
    }
   ],
   "source": [
    "class_balance = df['exited'].value_counts(normalize=True)\n",
    "print(class_balance)\n",
    "class_balance.plot(kind='bar', legend=['exited'])\n",
    "\n",
    "plt.xticks(ticks=class_balance.index, labels=['Клиент остался', 'Клиент ушел'], rotation=0)\n",
    "plt.show()"
   ]
  },
  {
   "cell_type": "markdown",
   "id": "e067a08a",
   "metadata": {},
   "source": [
    "**Вывод после исследования моделей без учёта дисбаланса:**\n",
    "\n",
    "Рассмотрели несколько моделей предсказаний и выявили следующее: При анализе F1 и AUC-ROC метрик мы не получаем требуемых значений F1 - меры ( значение слишком низкое). AUC-ROC метрика и кривая показывает самые лучшие значения для модели «Случайный лес». Самые худшие результаты у модели «Логистическая регрессия» по всем метрикам.\n",
    "\n",
    "Вероятная причина низкого значения f1 меры при относительно высоких значениях AUC-ROC метрики для модели «Случайный лес» в том, что  классы сильно разбалансированны и малое число истинно-отрицательных значений может влиять на показатели ложно-положительных и ложно-отрицательных значений.\n",
    "\n",
    "Необходимо учесть дисбаланс классов и провести повторное исследование для моделей."
   ]
  },
  {
   "cell_type": "markdown",
   "id": "c029e8e1",
   "metadata": {},
   "source": [
    "## Борьба с дисбалансом"
   ]
  },
  {
   "cell_type": "markdown",
   "id": "d89e23de",
   "metadata": {},
   "source": [
    "### Увеличение выборки"
   ]
  },
  {
   "cell_type": "code",
   "execution_count": 22,
   "id": "7e086c9f",
   "metadata": {},
   "outputs": [],
   "source": [
    "#Напишем функцию которая увеличит выборку и перемешает данные для лучшего обучения\n",
    "\n",
    "def upsample(features, target, repeat):\n",
    "    features_zeros = features[target == 0]\n",
    "    features_ones = features[target == 1]\n",
    "    target_zeros = target[target == 0]\n",
    "    target_ones = target[target == 1]\n",
    "\n",
    "    features_upsampled = pd.concat([features_zeros] + [features_ones] * repeat)\n",
    "    target_upsampled = pd.concat([target_zeros] + [target_ones] * repeat)\n",
    "    \n",
    "    features_upsampled, target_upsampled = shuffle(\n",
    "        features_upsampled, target_upsampled, random_state=12345)\n",
    "    \n",
    "    return features_upsampled, target_upsampled"
   ]
  },
  {
   "cell_type": "code",
   "execution_count": 23,
   "id": "0aefa6b8",
   "metadata": {},
   "outputs": [
    {
     "name": "stdout",
     "output_type": "stream",
     "text": [
      "Данные до увеличения выборки\n",
      "Значения: 0 (6390,)\n",
      "Значения: 1 (1610,)\n",
      "Данные после увеличения выборки\n",
      "Значения: 0 6390\n",
      "Значения: 1 6440\n"
     ]
    }
   ],
   "source": [
    "features_upsampled, target_upsampled = upsample(features_train, target_train, 4)\n",
    "print('Данные до увеличения выборки')\n",
    "print('Значения: 0',target_train[target_train == 0].shape)\n",
    "print('Значения: 1',target_train[target_train == 1].shape)\n",
    "print('Данные после увеличения выборки')\n",
    "print('Значения: 0',len(features_upsampled[target_upsampled == 0]))\n",
    "print('Значения: 1',len(features_upsampled[target_upsampled == 1]))"
   ]
  },
  {
   "cell_type": "markdown",
   "id": "c7581b30",
   "metadata": {},
   "source": [
    "- Обучим модель «Решающее дерево» на увеличенной выборке"
   ]
  },
  {
   "cell_type": "code",
   "execution_count": 24,
   "id": "c7091e8c",
   "metadata": {},
   "outputs": [
    {
     "name": "stdout",
     "output_type": "stream",
     "text": [
      "DecisionTreeClassifier Recall = 0.60, Precision = 0.49\n",
      "DecisionTreeClassifier F1-score = 0.54, AUC-ROC = 0.74\n"
     ]
    }
   ],
   "source": [
    "model_tree = DecisionTreeClassifier(max_depth= 12, random_state=12345)\n",
    "model_tree.fit(features_upsampled, target_upsampled)\n",
    "\n",
    "predicted_tree = model_tree.predict(features_valid)\n",
    "\n",
    "prob_tree = model_tree.predict_proba(features_valid)\n",
    "prob_valid_tree = prob_tree[:, 1]\n",
    "\n",
    "recall_tree = recall_score(target_valid,predicted_tree)\n",
    "precision_tree = precision_score(target_valid,predicted_tree)\n",
    "\n",
    "roc_auc_tree = roc_auc_score(target_valid, prob_valid_tree)\n",
    "f1_tree = f1_score(target_valid, predicted_tree)\n",
    "\n",
    "print(f'DecisionTreeClassifier Recall = {recall_tree:0.2f}, Precision = {precision_tree:0.2f}')\n",
    "print(f'DecisionTreeClassifier F1-score = {f1_tree:0.2f}, AUC-ROC = {roc_auc_tree:0.2f}')"
   ]
  },
  {
   "cell_type": "code",
   "execution_count": 25,
   "id": "2af56481",
   "metadata": {},
   "outputs": [
    {
     "data": {
      "image/png": "[encoded data removed]",
      "text/plain": [
       "<Figure size 432x288 with 1 Axes>"
      ]
     },
     "metadata": {
      "needs_background": "light"
     },
     "output_type": "display_data"
    }
   ],
   "source": [
    "fpr, tpr, thresholds = roc_curve(target_valid, prob_valid_tree)\n",
    "\n",
    "plt.figure()\n",
    "plt.plot(fpr, tpr)\n",
    "plt.xlim([0.0, 1.0])\n",
    "plt.ylim([0.0, 1.0])\n",
    "plt.xlabel('False Positive Rate')\n",
    "plt.ylabel('True Positive Rate')\n",
    "plt.title('ROC-кривая')\n",
    "plt.show() "
   ]
  },
  {
   "cell_type": "markdown",
   "id": "50e84594",
   "metadata": {},
   "source": [
    "- Обучим модель «Случайный лес» на увеличенной выборке"
   ]
  },
  {
   "cell_type": "code",
   "execution_count": 26,
   "id": "a15e1173",
   "metadata": {},
   "outputs": [
    {
     "name": "stdout",
     "output_type": "stream",
     "text": [
      "RandomForestClassifier Recall = 0.56, Precision = 0.69\n",
      "RandomForestClassifier F1-score = 0.62, AUC-ROC = 0.85\n"
     ]
    }
   ],
   "source": [
    "model_forest = RandomForestClassifier(n_estimators=80, random_state=12345)\n",
    "model_forest.fit(features_upsampled, target_upsampled)\n",
    "\n",
    "predicted_forest = model_forest.predict(features_valid)\n",
    "prob_forest = model_forest.predict_proba(features_valid)\n",
    "prob_valid_forest = prob_forest[:, 1]\n",
    "\n",
    "recall_forest = recall_score(target_valid,predicted_forest)\n",
    "precision_forest = precision_score(target_valid,predicted_forest)\n",
    "\n",
    "roc_auc_forest = roc_auc_score(target_valid, prob_valid_forest)\n",
    "f1_forest = f1_score(target_valid, predicted_forest)\n",
    "\n",
    "print(f'RandomForestClassifier Recall = {recall_forest:0.2f}, Precision = {precision_forest:0.2f}')\n",
    "print(f'RandomForestClassifier F1-score = {f1_forest:0.2f}, AUC-ROC = {roc_auc_forest:0.2f}')"
   ]
  },
  {
   "cell_type": "code",
   "execution_count": 27,
   "id": "2420a0be",
   "metadata": {},
   "outputs": [
    {
     "data": {
      "image/png": "[encoded data removed]",
      "text/plain": [
       "<Figure size 432x288 with 1 Axes>"
      ]
     },
     "metadata": {
      "needs_background": "light"
     },
     "output_type": "display_data"
    }
   ],
   "source": [
    "fpr, tpr, thresholds = roc_curve(target_valid, prob_valid_forest)\n",
    "\n",
    "plt.figure()\n",
    "plt.plot(fpr, tpr)\n",
    "plt.xlim([0.0, 1.0])\n",
    "plt.ylim([0.0, 1.0])\n",
    "plt.xlabel('False Positive Rate')\n",
    "plt.ylabel('True Positive Rate')\n",
    "plt.title('ROC-кривая')\n",
    "plt.show() "
   ]
  },
  {
   "cell_type": "markdown",
   "id": "28907b1f",
   "metadata": {},
   "source": [
    "- Обучим модель «Логистическая регрессия» на увеличенной выборке"
   ]
  },
  {
   "cell_type": "code",
   "execution_count": 28,
   "id": "e2781233",
   "metadata": {},
   "outputs": [
    {
     "name": "stdout",
     "output_type": "stream",
     "text": [
      "LogisticRegression Recall = 0.70, Precision = 0.39\n",
      "LogisticRegression F1-score = 0.50, AUC-ROC = 0.76\n"
     ]
    }
   ],
   "source": [
    "model_lr = LogisticRegression(random_state=12345, solver='lbfgs')\n",
    "model_lr.fit(features_upsampled, target_upsampled)\n",
    "\n",
    "predicted_lr = model_lr.predict(features_valid)\n",
    "prob_lr = model_lr.predict_proba(features_valid)\n",
    "prob_valid_lr = prob_lr[:, 1]\n",
    "\n",
    "recall_lr = recall_score(target_valid,predicted_lr)\n",
    "precision_lr = precision_score(target_valid,predicted_lr)\n",
    "\n",
    "roc_auc_lr = roc_auc_score(target_valid, prob_valid_lr)\n",
    "f1_lr = f1_score(target_valid, predicted_lr)\n",
    "\n",
    "print(f'LogisticRegression Recall = {recall_lr:0.2f}, Precision = {precision_lr:0.2f}')\n",
    "print(f'LogisticRegression F1-score = {f1_lr:0.2f}, AUC-ROC = {roc_auc_lr:0.2f}')"
   ]
  },
  {
   "cell_type": "code",
   "execution_count": 29,
   "id": "722aaebd",
   "metadata": {},
   "outputs": [
    {
     "data": {
      "image/png": "[encoded data removed]",
      "text/plain": [
       "<Figure size 432x288 with 1 Axes>"
      ]
     },
     "metadata": {
      "needs_background": "light"
     },
     "output_type": "display_data"
    }
   ],
   "source": [
    "fpr, tpr, thresholds = roc_curve(target_valid, prob_valid_lr)\n",
    "\n",
    "plt.figure()\n",
    "plt.plot(fpr, tpr)\n",
    "plt.xlim([0.0, 1.0])\n",
    "plt.ylim([0.0, 1.0])\n",
    "plt.xlabel('False Positive Rate')\n",
    "plt.ylabel('True Positive Rate')\n",
    "plt.title('ROC-кривая')\n",
    "plt.show() "
   ]
  },
  {
   "cell_type": "markdown",
   "id": "e1f6ca7c",
   "metadata": {},
   "source": [
    "Увеличение выборки дает хороший рост для метрики f1-меры модели «Случайный лес» и «Логистическая регрессия», попробуем уменьшить выборку и проверить как это отразиться на метрике"
   ]
  },
  {
   "cell_type": "markdown",
   "id": "e745b3a0",
   "metadata": {},
   "source": [
    "### Уменьшение выборки"
   ]
  },
  {
   "cell_type": "code",
   "execution_count": 30,
   "id": "5e113d8f",
   "metadata": {},
   "outputs": [],
   "source": [
    "#Напишем функцию которая уменьшит выборку и перемешает данные для лучшего обучения\n",
    "\n",
    "def downsample(features, target, fraction):\n",
    "    features_zeros = features[target == 0]\n",
    "    features_ones = features[target == 1]\n",
    "    target_zeros = target[target == 0]\n",
    "    target_ones = target[target == 1]\n",
    "\n",
    "    features_downsampled = pd.concat(\n",
    "        [features_zeros.sample(frac=fraction, random_state=12345)] + [features_ones])\n",
    "    target_downsampled = pd.concat(\n",
    "        [target_zeros.sample(frac=fraction, random_state=12345)] + [target_ones])\n",
    "    features_downsampled,target_downsampled = shuffle(features_downsampled,target_downsampled,random_state=12345)\n",
    "    return features_downsampled, target_downsampled"
   ]
  },
  {
   "cell_type": "code",
   "execution_count": 31,
   "id": "6b28c6c8",
   "metadata": {},
   "outputs": [],
   "source": [
    "features_downsampled, target_downsampled = downsample(features_train, target_train, 0.4)"
   ]
  },
  {
   "cell_type": "markdown",
   "id": "092dd442",
   "metadata": {},
   "source": [
    "- Обучим модель «Решающее дерево» на уменьшенной выборке"
   ]
  },
  {
   "cell_type": "code",
   "execution_count": 32,
   "id": "03e6f265",
   "metadata": {},
   "outputs": [
    {
     "name": "stdout",
     "output_type": "stream",
     "text": [
      "DecisionTreeClassifier Recall = 0.62, Precision = 0.46\n",
      "DecisionTreeClassifier F1-score = 0.53, AUC-ROC = 0.72\n"
     ]
    }
   ],
   "source": [
    "model_tree = DecisionTreeClassifier(max_depth= 12, random_state=12345)\n",
    "model_tree.fit(features_downsampled, target_downsampled)\n",
    "\n",
    "predicted_tree = model_tree.predict(features_valid)\n",
    "\n",
    "prob_tree = model_tree.predict_proba(features_valid)\n",
    "prob_valid_tree = prob_tree[:, 1]\n",
    "\n",
    "recall_tree = recall_score(target_valid,predicted_tree)\n",
    "precision_tree = precision_score(target_valid,predicted_tree)\n",
    "\n",
    "roc_auc_tree = roc_auc_score(target_valid, prob_valid_tree)\n",
    "f1_tree = f1_score(target_valid, predicted_tree)\n",
    "\n",
    "print(f'DecisionTreeClassifier Recall = {recall_tree:0.2f}, Precision = {precision_tree:0.2f}')\n",
    "print(f'DecisionTreeClassifier F1-score = {f1_tree:0.2f}, AUC-ROC = {roc_auc_tree:0.2f}')"
   ]
  },
  {
   "cell_type": "code",
   "execution_count": 33,
   "id": "e4568da3",
   "metadata": {},
   "outputs": [
    {
     "data": {
      "image/png": "[encoded data removed]",
      "text/plain": [
       "<Figure size 432x288 with 1 Axes>"
      ]
     },
     "metadata": {
      "needs_background": "light"
     },
     "output_type": "display_data"
    }
   ],
   "source": [
    "fpr, tpr, thresholds = roc_curve(target_valid, prob_valid_tree)\n",
    "\n",
    "plt.figure()\n",
    "plt.plot(fpr, tpr)\n",
    "plt.xlim([0.0, 1.0])\n",
    "plt.ylim([0.0, 1.0])\n",
    "plt.xlabel('False Positive Rate')\n",
    "plt.ylabel('True Positive Rate')\n",
    "plt.title('ROC-кривая')\n",
    "plt.show() "
   ]
  },
  {
   "cell_type": "markdown",
   "id": "060eb823",
   "metadata": {},
   "source": [
    "- Обучим модель «Случайный лес» на уменьшенной выборке"
   ]
  },
  {
   "cell_type": "code",
   "execution_count": 34,
   "id": "d4442520",
   "metadata": {},
   "outputs": [
    {
     "name": "stdout",
     "output_type": "stream",
     "text": [
      "RandomForestClassifier Recall = 0.68, Precision = 0.59\n",
      "RandomForestClassifier F1-score = 0.63, AUC-ROC = 0.86\n"
     ]
    }
   ],
   "source": [
    "model_forest = RandomForestClassifier(n_estimators=80, random_state=12345)\n",
    "model_forest.fit(features_downsampled, target_downsampled)\n",
    "\n",
    "predicted_forest = model_forest.predict(features_valid)\n",
    "prob_forest = model_forest.predict_proba(features_valid)\n",
    "prob_valid_forest = prob_forest[:, 1]\n",
    "\n",
    "recall_forest = recall_score(target_valid,predicted_forest)\n",
    "precision_forest = precision_score(target_valid,predicted_forest)\n",
    "\n",
    "roc_auc_forest = roc_auc_score(target_valid, prob_valid_forest)\n",
    "f1_forest = f1_score(target_valid, predicted_forest)\n",
    "\n",
    "print(f'RandomForestClassifier Recall = {recall_forest:0.2f}, Precision = {precision_forest:0.2f}')\n",
    "print(f'RandomForestClassifier F1-score = {f1_forest:0.2f}, AUC-ROC = {roc_auc_forest:0.2f}')"
   ]
  },
  {
   "cell_type": "code",
   "execution_count": 35,
   "id": "260d40e7",
   "metadata": {},
   "outputs": [
    {
     "data": {
      "image/png": "[encoded data removed]",
      "text/plain": [
       "<Figure size 432x288 with 1 Axes>"
      ]
     },
     "metadata": {
      "needs_background": "light"
     },
     "output_type": "display_data"
    }
   ],
   "source": [
    "fpr, tpr, thresholds = roc_curve(target_valid, prob_valid_forest)\n",
    "\n",
    "plt.figure()\n",
    "plt.plot(fpr, tpr)\n",
    "plt.xlim([0.0, 1.0])\n",
    "plt.ylim([0.0, 1.0])\n",
    "plt.xlabel('False Positive Rate')\n",
    "plt.ylabel('True Positive Rate')\n",
    "plt.title('ROC-кривая')\n",
    "plt.show() "
   ]
  },
  {
   "cell_type": "markdown",
   "id": "18964dec",
   "metadata": {},
   "source": [
    "- Обучим модель «Логистическая регрессия» на уменьшенной выборке"
   ]
  },
  {
   "cell_type": "code",
   "execution_count": 36,
   "id": "93b98517",
   "metadata": {},
   "outputs": [
    {
     "name": "stdout",
     "output_type": "stream",
     "text": [
      "LogisticRegression Recall = 0.55, Precision = 0.46\n",
      "LogisticRegression F1-score = 0.50, AUC-ROC = 0.76\n"
     ]
    }
   ],
   "source": [
    "model_lr = LogisticRegression(random_state=12345, solver='lbfgs')\n",
    "model_lr.fit(features_downsampled, target_downsampled)\n",
    "\n",
    "predicted_lr = model_lr.predict(features_valid)\n",
    "prob_lr = model_lr.predict_proba(features_valid)\n",
    "prob_valid_lr = prob_lr[:, 1]\n",
    "\n",
    "recall_lr = recall_score(target_valid,predicted_lr)\n",
    "precision_lr = precision_score(target_valid,predicted_lr)\n",
    "\n",
    "roc_auc_lr = roc_auc_score(target_valid, prob_valid_lr)\n",
    "f1_lr = f1_score(target_valid, predicted_lr)\n",
    "\n",
    "print(f'LogisticRegression Recall = {recall_lr:0.2f}, Precision = {precision_lr:0.2f}')\n",
    "print(f'LogisticRegression F1-score = {f1_lr:0.2f}, AUC-ROC = {roc_auc_lr:0.2f}')"
   ]
  },
  {
   "cell_type": "code",
   "execution_count": 37,
   "id": "470e5d4b",
   "metadata": {},
   "outputs": [
    {
     "data": {
      "image/png": "[encoded data removed]",
      "text/plain": [
       "<Figure size 432x288 with 1 Axes>"
      ]
     },
     "metadata": {
      "needs_background": "light"
     },
     "output_type": "display_data"
    }
   ],
   "source": [
    "fpr, tpr, thresholds = roc_curve(target_valid, prob_valid_lr)\n",
    "\n",
    "plt.figure()\n",
    "plt.plot(fpr, tpr)\n",
    "plt.xlim([0.0, 1.0])\n",
    "plt.ylim([0.0, 1.0])\n",
    "plt.xlabel('False Positive Rate')\n",
    "plt.ylabel('True Positive Rate')\n",
    "plt.title('ROC-кривая')\n",
    "plt.show() "
   ]
  },
  {
   "cell_type": "markdown",
   "id": "2005e565",
   "metadata": {},
   "source": [
    "Уменьшение выборки еще чуть лучше повлияло на качество метрики f1-меры для модели «Случайный лес». Так же для модели «Логистическая регрессия» показатели метрики улучшились"
   ]
  },
  {
   "cell_type": "markdown",
   "id": "507f6105",
   "metadata": {},
   "source": [
    "### Изменение порога"
   ]
  },
  {
   "cell_type": "markdown",
   "id": "fed7eac6",
   "metadata": {},
   "source": [
    "- Обучим модель «Решающее дерево» c измененями порогов"
   ]
  },
  {
   "cell_type": "code",
   "execution_count": 38,
   "id": "b7720b60",
   "metadata": {},
   "outputs": [
    {
     "name": "stdout",
     "output_type": "stream",
     "text": [
      "Порог = 0.00 | Точность = 0.279, Полнота = 0.762, F1 Мера = 0.408, AUC-ROC = 0.606\n",
      "Порог = 0.01 | Точность = 0.293, Полнота = 0.747, F1 Мера = 0.421, AUC-ROC = 0.621\n",
      "Порог = 0.03 | Точность = 0.318, Полнота = 0.741, F1 Мера = 0.445, AUC-ROC = 0.648\n",
      "Порог = 0.04 | Точность = 0.328, Полнота = 0.713, F1 Мера = 0.449, AUC-ROC = 0.652\n",
      "Порог = 0.06 | Точность = 0.338, Полнота = 0.695, F1 Мера = 0.455, AUC-ROC = 0.657\n",
      "Порог = 0.07 | Точность = 0.356, Полнота = 0.674, F1 Мера = 0.466, AUC-ROC = 0.666\n",
      "Порог = 0.09 | Точность = 0.367, Полнота = 0.674, F1 Мера = 0.475, AUC-ROC = 0.674\n",
      "Порог = 0.10 | Точность = 0.399, Полнота = 0.665, F1 Мера = 0.499, AUC-ROC = 0.692\n",
      "Порог = 0.12 | Точность = 0.420, Полнота = 0.649, F1 Мера = 0.510, AUC-ROC = 0.699\n",
      "Порог = 0.14 | Точность = 0.427, Полнота = 0.646, F1 Мера = 0.514, AUC-ROC = 0.702\n",
      "Порог = 0.15 | Точность = 0.430, Полнота = 0.628, F1 Мера = 0.511, AUC-ROC = 0.698\n",
      "Порог = 0.16 | Точность = 0.445, Полнота = 0.619, F1 Мера = 0.518, AUC-ROC = 0.702\n",
      "Порог = 0.18 | Точность = 0.445, Полнота = 0.610, F1 Мера = 0.515, AUC-ROC = 0.699\n",
      "Порог = 0.20 | Точность = 0.445, Полнота = 0.610, F1 Мера = 0.515, AUC-ROC = 0.699\n",
      "Порог = 0.21 | Точность = 0.479, Полнота = 0.570, F1 Мера = 0.521, AUC-ROC = 0.698\n",
      "Порог = 0.22 | Точность = 0.487, Полнота = 0.564, F1 Мера = 0.523, AUC-ROC = 0.699\n",
      "Порог = 0.24 | Точность = 0.505, Полнота = 0.564, F1 Мера = 0.533, AUC-ROC = 0.705\n",
      "Порог = 0.26 | Точность = 0.524, Полнота = 0.564, F1 Мера = 0.543, AUC-ROC = 0.710\n",
      "Порог = 0.27 | Точность = 0.523, Полнота = 0.552, F1 Мера = 0.537, AUC-ROC = 0.706\n",
      "Порог = 0.28 | Точность = 0.528, Полнота = 0.552, F1 Мера = 0.539, AUC-ROC = 0.707\n"
     ]
    }
   ],
   "source": [
    "model_tree = DecisionTreeClassifier(max_depth= 12, random_state=12345)\n",
    "model_tree.fit(features_train, target_train)\n",
    "\n",
    "\n",
    "prob_tree = model_tree.predict_proba(features_valid)\n",
    "prob_valid_tree = prob_tree[:, 1]\n",
    "\n",
    "\n",
    "for threshold in np.arange(0, 0.3, 0.015):\n",
    "    \n",
    "    predicted_tree_threshold = prob_valid_tree > threshold \n",
    "    precision = precision_score(target_valid,predicted_tree_threshold)\n",
    "    recall = recall_score(target_valid,predicted_tree_threshold)\n",
    "    f1 = f1_score(target_valid, predicted_tree_threshold)\n",
    "    roc_auc = roc_auc_score(target_valid, predicted_tree_threshold)\n",
    "\n",
    "    print(\"Порог = {:.2f} | Точность = {:.3f}, Полнота = {:.3f}, F1 Мера = {:.3f}, AUC-ROC = {:.3f}\".format(\n",
    "        threshold, precision, recall,f1,roc_auc))"
   ]
  },
  {
   "cell_type": "markdown",
   "id": "af21161b",
   "metadata": {},
   "source": [
    "- Обучим модель «Cлучайный лес» c измененями порогов"
   ]
  },
  {
   "cell_type": "code",
   "execution_count": 39,
   "id": "13766ffa",
   "metadata": {},
   "outputs": [
    {
     "name": "stdout",
     "output_type": "stream",
     "text": [
      "Порог = 0.00 | Точность = 0.221, Полнота = 1.000, F1 Мера = 0.362, AUC-ROC = 0.508\n",
      "Порог = 0.01 | Точность = 0.225, Полнота = 0.997, F1 Мера = 0.367, AUC-ROC = 0.518\n",
      "Порог = 0.03 | Точность = 0.233, Полнота = 0.997, F1 Мера = 0.377, AUC-ROC = 0.538\n",
      "Порог = 0.04 | Точность = 0.238, Полнота = 0.994, F1 Мера = 0.384, AUC-ROC = 0.551\n",
      "Порог = 0.06 | Точность = 0.246, Полнота = 0.985, F1 Мера = 0.393, AUC-ROC = 0.569\n",
      "Порог = 0.07 | Точность = 0.261, Полнота = 0.976, F1 Мера = 0.412, AUC-ROC = 0.601\n",
      "Порог = 0.09 | Точность = 0.267, Полнота = 0.960, F1 Мера = 0.418, AUC-ROC = 0.611\n",
      "Порог = 0.10 | Точность = 0.275, Полнота = 0.954, F1 Мера = 0.427, AUC-ROC = 0.626\n",
      "Порог = 0.12 | Точность = 0.286, Полнота = 0.954, F1 Мера = 0.440, AUC-ROC = 0.644\n",
      "Порог = 0.14 | Точность = 0.292, Полнота = 0.945, F1 Мера = 0.446, AUC-ROC = 0.652\n",
      "Порог = 0.15 | Точность = 0.306, Полнота = 0.939, F1 Мера = 0.461, AUC-ROC = 0.671\n",
      "Порог = 0.16 | Точность = 0.315, Полнота = 0.936, F1 Мера = 0.471, AUC-ROC = 0.683\n",
      "Порог = 0.18 | Точность = 0.324, Полнота = 0.924, F1 Мера = 0.480, AUC-ROC = 0.692\n",
      "Порог = 0.20 | Точность = 0.330, Полнота = 0.918, F1 Мера = 0.485, AUC-ROC = 0.698\n",
      "Порог = 0.21 | Точность = 0.339, Полнота = 0.912, F1 Мера = 0.494, AUC-ROC = 0.707\n",
      "Порог = 0.22 | Точность = 0.341, Полнота = 0.902, F1 Мера = 0.495, AUC-ROC = 0.708\n",
      "Порог = 0.24 | Точность = 0.364, Полнота = 0.899, F1 Мера = 0.518, AUC-ROC = 0.730\n",
      "Порог = 0.26 | Точность = 0.373, Полнота = 0.899, F1 Мера = 0.528, AUC-ROC = 0.739\n",
      "Порог = 0.27 | Точность = 0.389, Полнота = 0.893, F1 Мера = 0.542, AUC-ROC = 0.750\n",
      "Порог = 0.28 | Точность = 0.399, Полнота = 0.884, F1 Мера = 0.550, AUC-ROC = 0.756\n"
     ]
    }
   ],
   "source": [
    "model_forest = RandomForestClassifier(n_estimators=80, random_state=12345)\n",
    "model_forest.fit(features_train, target_train)\n",
    "\n",
    "prob_forest = model_forest.predict_proba(features_valid)\n",
    "predicted_valid_forest = prob_forest[:, 1]\n",
    "\n",
    "for threshold in np.arange(0, 0.3, 0.015):\n",
    "    \n",
    "    predicted_forest_threshold = prob_valid_forest > threshold \n",
    "    precision = precision_score(target_valid,predicted_forest_threshold)\n",
    "    recall = recall_score(target_valid,predicted_forest_threshold)\n",
    "    f1 = f1_score(target_valid, predicted_forest_threshold)\n",
    "    roc_auc = roc_auc_score(target_valid, predicted_forest_threshold)\n",
    "\n",
    "    print(\"Порог = {:.2f} | Точность = {:.3f}, Полнота = {:.3f}, F1 Мера = {:.3f}, AUC-ROC = {:.3f}\".format(\n",
    "        threshold, precision, recall,f1,roc_auc))"
   ]
  },
  {
   "cell_type": "markdown",
   "id": "8826f366",
   "metadata": {},
   "source": [
    "- Обучим модель «Логистическая регрессия» c измененями порогов"
   ]
  },
  {
   "cell_type": "code",
   "execution_count": 40,
   "id": "127f6cd0",
   "metadata": {},
   "outputs": [
    {
     "name": "stdout",
     "output_type": "stream",
     "text": [
      "Порог = 0.00 | Точность = 0.219, Полнота = 1.000, F1 Мера = 0.359, AUC-ROC = 0.500\n",
      "Порог = 0.01 | Точность = 0.219, Полнота = 1.000, F1 Мера = 0.359, AUC-ROC = 0.501\n",
      "Порог = 0.03 | Точность = 0.224, Полнота = 1.000, F1 Мера = 0.366, AUC-ROC = 0.515\n",
      "Порог = 0.04 | Точность = 0.235, Полнота = 0.982, F1 Мера = 0.379, AUC-ROC = 0.543\n",
      "Порог = 0.06 | Точность = 0.247, Полнота = 0.963, F1 Мера = 0.394, AUC-ROC = 0.572\n",
      "Порог = 0.07 | Точность = 0.264, Полнота = 0.951, F1 Мера = 0.413, AUC-ROC = 0.604\n",
      "Порог = 0.09 | Точность = 0.281, Полнота = 0.930, F1 Мера = 0.432, AUC-ROC = 0.633\n",
      "Порог = 0.10 | Точность = 0.292, Полнота = 0.887, F1 Мера = 0.439, AUC-ROC = 0.642\n",
      "Порог = 0.12 | Точность = 0.306, Полнота = 0.860, F1 Мера = 0.451, AUC-ROC = 0.657\n",
      "Порог = 0.14 | Точность = 0.323, Полнота = 0.826, F1 Мера = 0.465, AUC-ROC = 0.671\n",
      "Порог = 0.15 | Точность = 0.337, Полнота = 0.802, F1 Мера = 0.474, AUC-ROC = 0.680\n",
      "Порог = 0.16 | Точность = 0.351, Полнота = 0.787, F1 Мера = 0.485, AUC-ROC = 0.690\n",
      "Порог = 0.18 | Точность = 0.364, Полнота = 0.753, F1 Мера = 0.491, AUC-ROC = 0.692\n",
      "Порог = 0.20 | Точность = 0.378, Полнота = 0.716, F1 Мера = 0.495, AUC-ROC = 0.693\n",
      "Порог = 0.21 | Точность = 0.390, Полнота = 0.683, F1 Мера = 0.497, AUC-ROC = 0.692\n",
      "Порог = 0.22 | Точность = 0.406, Полнота = 0.649, F1 Мера = 0.500, AUC-ROC = 0.692\n",
      "Порог = 0.24 | Точность = 0.415, Полнота = 0.628, F1 Мера = 0.500, AUC-ROC = 0.690\n",
      "Порог = 0.26 | Точность = 0.437, Полнота = 0.607, F1 Мера = 0.508, AUC-ROC = 0.694\n",
      "Порог = 0.27 | Точность = 0.447, Полнота = 0.567, F1 Мера = 0.500, AUC-ROC = 0.685\n",
      "Порог = 0.28 | Точность = 0.454, Полнота = 0.537, F1 Мера = 0.492, AUC-ROC = 0.678\n"
     ]
    }
   ],
   "source": [
    "model_lr = LogisticRegression(random_state=12345, solver='lbfgs')\n",
    "model_lr.fit(features_train, target_train)\n",
    "\n",
    "prob_lr = model_lr.predict_proba(features_valid)\n",
    "predicted_valid_lr = prob_lr[:, 1]\n",
    "\n",
    "for threshold in np.arange(0, 0.3, 0.015):\n",
    "    \n",
    "    predicted_lr_threshold = predicted_valid_lr > threshold \n",
    "    precision = precision_score(target_valid,predicted_lr_threshold)\n",
    "    recall = recall_score(target_valid,predicted_lr_threshold)\n",
    "    f1 = f1_score(target_valid, predicted_lr_threshold)\n",
    "    roc_auc = roc_auc_score(target_valid, predicted_lr_threshold)\n",
    "\n",
    "    print(\"Порог = {:.2f} | Точность = {:.3f}, Полнота = {:.3f}, F1 Мера = {:.3f}, AUC-ROC = {:.3f}\".format(\n",
    "        threshold, precision, recall,f1,roc_auc))"
   ]
  },
  {
   "cell_type": "markdown",
   "id": "b784e51d",
   "metadata": {},
   "source": [
    "Измнения пороговых значений для моделей классификаторов не дало для нас значительных результатов. Этот параметр не будем использовать для тестовой выборки."
   ]
  },
  {
   "cell_type": "markdown",
   "id": "4eb96f4b",
   "metadata": {},
   "source": [
    "### Взвешивание классов"
   ]
  },
  {
   "cell_type": "markdown",
   "id": "1729213f",
   "metadata": {},
   "source": [
    "- Обучим модель «Решающее дерево» c балансом классов"
   ]
  },
  {
   "cell_type": "code",
   "execution_count": 41,
   "id": "7ff92c4a",
   "metadata": {},
   "outputs": [
    {
     "name": "stdout",
     "output_type": "stream",
     "text": [
      "DecisionTreeClassifier Recall = 0.62, Precision = 0.49\n",
      "DecisionTreeClassifier F1-score = 0.55, AUC-ROC = 0.74\n"
     ]
    }
   ],
   "source": [
    "model_tree = DecisionTreeClassifier(max_depth= 12, random_state=12345, class_weight='balanced')\n",
    "model_tree.fit(features_train, target_train)\n",
    "\n",
    "predicted_tree = model_tree.predict(features_valid)\n",
    "\n",
    "prob_tree = model_tree.predict_proba(features_valid)\n",
    "prob_valid_tree = prob_tree[:, 1]\n",
    "\n",
    "recall_tree = recall_score(target_valid,predicted_tree)\n",
    "precision_tree = precision_score(target_valid,predicted_tree)\n",
    "\n",
    "roc_auc_tree = roc_auc_score(target_valid, prob_valid_tree)\n",
    "f1_tree = f1_score(target_valid, predicted_tree)\n",
    "\n",
    "print(f'DecisionTreeClassifier Recall = {recall_tree:0.2f}, Precision = {precision_tree:0.2f}')\n",
    "print(f'DecisionTreeClassifier F1-score = {f1_tree:0.2f}, AUC-ROC = {roc_auc_tree:0.2f}')"
   ]
  },
  {
   "cell_type": "markdown",
   "id": "23700bd1",
   "metadata": {},
   "source": [
    "- Обучим модель «Cлучайный лес» c балансом классов\n"
   ]
  },
  {
   "cell_type": "code",
   "execution_count": 42,
   "id": "52f563bd",
   "metadata": {},
   "outputs": [
    {
     "name": "stdout",
     "output_type": "stream",
     "text": [
      "RandomForestClassifier Recall = 0.43, Precision = 0.79\n",
      "RandomForestClassifier F1-score = 0.56, AUC-ROC = 0.86\n"
     ]
    }
   ],
   "source": [
    "model_forest = RandomForestClassifier(n_estimators=80, random_state=12345, class_weight='balanced')\n",
    "model_forest.fit(features_train, target_train)\n",
    "\n",
    "predicted_forest = model_forest.predict(features_valid)\n",
    "prob_forest = model_forest.predict_proba(features_valid)\n",
    "prob_valid_forest = prob_forest[:, 1]\n",
    "\n",
    "recall_forest = recall_score(target_valid,predicted_forest)\n",
    "precision_forest = precision_score(target_valid,predicted_forest)\n",
    "\n",
    "roc_auc_forest = roc_auc_score(target_valid, prob_valid_forest)\n",
    "f1_forest = f1_score(target_valid, predicted_forest)\n",
    "\n",
    "print(f'RandomForestClassifier Recall = {recall_forest:0.2f}, Precision = {precision_forest:0.2f}')\n",
    "print(f'RandomForestClassifier F1-score = {f1_forest:0.2f}, AUC-ROC = {roc_auc_forest:0.2f}')"
   ]
  },
  {
   "cell_type": "markdown",
   "id": "6b1cd076",
   "metadata": {},
   "source": [
    "- Обучим модель «Логистическая регрессия» c балансом классов"
   ]
  },
  {
   "cell_type": "code",
   "execution_count": 43,
   "id": "7edf9bb5",
   "metadata": {},
   "outputs": [
    {
     "name": "stdout",
     "output_type": "stream",
     "text": [
      "LogisticRegression Recall = 0.70, Precision = 0.39\n",
      "LogisticRegression F1-score = 0.50, AUC-ROC = 0.76\n"
     ]
    }
   ],
   "source": [
    "model_lr = LogisticRegression(random_state=12345, solver='lbfgs', class_weight='balanced')\n",
    "model_lr.fit(features_train, target_train)\n",
    "\n",
    "predicted_lr = model_lr.predict(features_valid)\n",
    "prob_lr = model_lr.predict_proba(features_valid)\n",
    "prob_valid_lr = prob_lr[:, 1]\n",
    "\n",
    "recall_lr = recall_score(target_valid,predicted_lr)\n",
    "precision_lr = precision_score(target_valid,predicted_lr)\n",
    "\n",
    "roc_auc_lr = roc_auc_score(target_valid, prob_valid_lr)\n",
    "f1_lr = f1_score(target_valid, predicted_lr)\n",
    "\n",
    "print(f'LogisticRegression Recall = {recall_lr:0.2f}, Precision = {precision_lr:0.2f}')\n",
    "print(f'LogisticRegression F1-score = {f1_lr:0.2f}, AUC-ROC = {roc_auc_lr:0.2f}')"
   ]
  },
  {
   "cell_type": "markdown",
   "id": "a321b8ee",
   "metadata": {},
   "source": [
    "Взвешивание классов улучшает  только качество метрик для модели «Логистическая регрессия». Но этих значений метрик для выбора модели как победителя недостаточно."
   ]
  },
  {
   "cell_type": "markdown",
   "id": "78cf3b26",
   "metadata": {},
   "source": [
    "### Подбор гиперпараметров"
   ]
  },
  {
   "cell_type": "markdown",
   "id": "557a0a86",
   "metadata": {},
   "source": [
    "Для лучшей модели на основе прошлых исследований («Случайный лес») попробуем использовать подбор гиперпараметров"
   ]
  },
  {
   "cell_type": "code",
   "execution_count": 44,
   "id": "5f2e54c7",
   "metadata": {},
   "outputs": [
    {
     "name": "stdout",
     "output_type": "stream",
     "text": [
      "F1-score наилучшей модели на валидационной выборке:0.60 AUC-ROC наилучшей модели на валидационной выборке:0.86 Количество деревьев:130 Максимальная глубина:20\n",
      "CPU times: total: 1min 46s\n",
      "Wall time: 1min 46s\n"
     ]
    }
   ],
   "source": [
    "%%time\n",
    "best_model_forest = None\n",
    "best_result_forest = 0\n",
    "best_est = 0\n",
    "best_depth = 0\n",
    "for est in range(10,150, 10):\n",
    "    for depth in range (1, 21):\n",
    "        model_rndforest = RandomForestClassifier(random_state=12345, n_estimators=est,max_depth=depth)\n",
    "        model_rndforest.fit(features_train,target_train)\n",
    "        _predictions_rndforest = model_rndforest.predict(features_valid)\n",
    "        prob_forest = model_rndforest.predict_proba(features_valid)\n",
    "        prob_valid_forest = prob_forest[:, 1]\n",
    "        roc_auc_forest = roc_auc_score(target_valid, prob_valid_forest)\n",
    "        result_forest = f1_score(target_valid, _predictions_rndforest)\n",
    "        if result_forest > best_result_forest:\n",
    "            best_model_forest = model_rndforest\n",
    "            best_result_forest = result_forest\n",
    "            best_est = est\n",
    "            best_depth = depth\n",
    "            best_roc_auc = roc_auc_forest\n",
    "print(f'F1-score наилучшей модели на валидационной выборке:{best_result_forest:0.2f} '\n",
    "      f'AUC-ROC наилучшей модели на валидационной выборке:{best_roc_auc:0.2f} '\n",
    "      f'Количество деревьев:{best_est} Максимальная глубина:{depth}')"
   ]
  },
  {
   "cell_type": "markdown",
   "id": "abb68c34",
   "metadata": {},
   "source": [
    "Подбор гиперпараметров так же не дал значительного улучшения модели."
   ]
  },
  {
   "cell_type": "markdown",
   "id": "9be010e1",
   "metadata": {},
   "source": [
    "**Общий вывод после исследования способов борьбы с дисбалансом:**"
   ]
  },
  {
   "cell_type": "markdown",
   "id": "f53f26a0",
   "metadata": {},
   "source": [
    "Изменения порога и балансировка классов не дает значимых результатов для нашего исследования. Лучшие изменения метрик в позитивную сторону дают методы Увелечения и Уменьшения выборок.\n",
    "\n",
    "Лучшие показатели метрик дала модель «Случайного леса» в сочетании со способом Уменьшением выборки (**downsampling**):\n",
    "\n",
    " - F1-score = 0.63, AUC-ROC = 0.86\n",
    " \n",
    "Это выше заданых значений для исследования. Для тестирвоания модели будем использовать данную модель в сочетании со способом Уменьшения выборки."
   ]
  },
  {
   "cell_type": "markdown",
   "id": "ef805aef",
   "metadata": {},
   "source": [
    "## Тестирование модели"
   ]
  },
  {
   "cell_type": "code",
   "execution_count": 45,
   "id": "7643fa2e",
   "metadata": {},
   "outputs": [
    {
     "name": "stdout",
     "output_type": "stream",
     "text": [
      "RandomForestClassifier Recall = 0.68, Precision = 0.58\n",
      "RandomForestClassifier F1-score = 0.63, AUC-ROC = 0.87\n"
     ]
    }
   ],
   "source": [
    "model_forest = RandomForestClassifier(n_estimators=100, random_state=12345,class_weight='balanced')\n",
    "model_forest.fit(features_downsampled, target_downsampled)\n",
    "\n",
    "predicted_forest = model_forest.predict(features_test)\n",
    "prob_forest = model_forest.predict_proba(features_test)\n",
    "prob_test_forest = prob_forest[:, 1]\n",
    "\n",
    "recall_forest = recall_score(target_test,predicted_forest)\n",
    "precision_forest = precision_score(target_test,predicted_forest)\n",
    "\n",
    "roc_auc_forest = roc_auc_score(target_test, prob_test_forest)\n",
    "f1_forest = f1_score(target_test, predicted_forest)\n",
    "\n",
    "print(f'RandomForestClassifier Recall = {recall_forest:0.2f}, Precision = {precision_forest:0.2f}')\n",
    "print(f'RandomForestClassifier F1-score = {f1_forest:0.2f}, AUC-ROC = {roc_auc_forest:0.2f}')"
   ]
  },
  {
   "cell_type": "code",
   "execution_count": 46,
   "id": "7635911a",
   "metadata": {},
   "outputs": [
    {
     "data": {
      "image/png": "[encoded data removed]",
      "text/plain": [
       "<Figure size 432x288 with 1 Axes>"
      ]
     },
     "metadata": {
      "needs_background": "light"
     },
     "output_type": "display_data"
    }
   ],
   "source": [
    "fpr, tpr, thresholds = roc_curve(target_test, prob_test_forest)\n",
    "\n",
    "plt.figure()\n",
    "plt.plot(fpr, tpr)\n",
    "plt.xlim([0.0, 1.0])\n",
    "plt.ylim([0.0, 1.0])\n",
    "plt.xlabel('False Positive Rate')\n",
    "plt.ylabel('True Positive Rate')\n",
    "plt.title('ROC-кривая')\n",
    "plt.show() "
   ]
  },
  {
   "cell_type": "code",
   "execution_count": 47,
   "id": "655e6f65",
   "metadata": {},
   "outputs": [
    {
     "name": "stdout",
     "output_type": "stream",
     "text": [
      "Результат случайной модели на тестовой выборке: F1-мера = 0.28, AUC-ROC = 0.50\n"
     ]
    }
   ],
   "source": [
    "dummy_model = DummyClassifier(strategy='uniform', random_state=123456)\n",
    "dummy_model.fit(features_train, target_train)\n",
    "\n",
    "dummy_pred_test = dummy_model.predict(features_test)\n",
    "dummy_prob_test = dummy_model.predict_proba(features_test)\n",
    "dummy_prob_one_test = dummy_prob_test[:, 1]\n",
    "\n",
    "dummy_f1 = f1_score(target_test, dummy_pred_test)\n",
    "dummy_roc_auc = roc_auc_score(target_test, dummy_prob_one_test)\n",
    "\n",
    "print(f'Результат случайной модели на тестовой выборке: F1-мера = {dummy_f1:0.2f}, AUC-ROC = {dummy_roc_auc:.2f}')"
   ]
  },
  {
   "cell_type": "code",
   "execution_count": 48,
   "id": "0903e767",
   "metadata": {},
   "outputs": [
    {
     "data": {
      "image/png": "[encoded data removed]",
      "text/plain": [
       "<Figure size 432x288 with 1 Axes>"
      ]
     },
     "metadata": {
      "needs_background": "light"
     },
     "output_type": "display_data"
    }
   ],
   "source": [
    "fpr, tpr, thresholds = roc_curve(target_test, dummy_prob_one_test)\n",
    "\n",
    "plt.figure()\n",
    "plt.plot(fpr, tpr)\n",
    "plt.xlim([0.0, 1.0])\n",
    "plt.ylim([0.0, 1.0])\n",
    "plt.xlabel('False Positive Rate')\n",
    "plt.ylabel('True Positive Rate')\n",
    "plt.title('ROC-кривая')\n",
    "plt.show() "
   ]
  },
  {
   "cell_type": "markdown",
   "id": "3706702f",
   "metadata": {},
   "source": [
    "Получилось достичь значений выше требуемой метрики для нашего исследования модели предсказаний:\n",
    "\n",
    " - F1-мера = 0.63, AUC-ROC = 0.87\n",
    " \n",
    "Проверка адекватности модели на случайной модели дает значения:\n",
    " - F1-мера = 0.28, AUC-ROC = 0.50\n",
    "\n",
    "F1-мера дает значение ниже полученого при тестировании \"модели- победитлея\" ниже более чем в 2 раза. ROC - кривая случайной модели также соотвествует случайной модели"
   ]
  },
  {
   "cell_type": "markdown",
   "id": "b2f3367a",
   "metadata": {},
   "source": [
    "## Вывод"
   ]
  },
  {
   "cell_type": "markdown",
   "id": "2923195b",
   "metadata": {},
   "source": [
    "При обучении моделей предсказаний выявили проблему связанную с сильно несбалансированными наборами данных.\n",
    "Для решения проблемы и повышении метрик F1-меры и AUC-ROC использовали способы:\n",
    "- Увеличение выборки\n",
    "- Уменьшение выборки\n",
    "- Изменение порога\n",
    "- Взвешивание классов\n",
    "- Перебор гиперпараметров\n",
    "\n",
    "Лучшие результаты дали сочетания модель «Случайного леса»со способом Уменьшения выборки (downsampling). При проверке на тестовой выборке так же использовали метод Взвешивания классов, что тоже повысил качество ключевых метрик при оценки качества модели.\n",
    "\n",
    "В результаты были получены следующие значения:\n",
    "\n",
    " - F1-мера = 0.63, AUC-ROC = 0.87\n"
   ]
  }
 ],
 "metadata": {
  "kernelspec": {
   "display_name": "Python 3 (ipykernel)",
   "language": "python",
   "name": "python3"
  },
  "language_info": {
   "codemirror_mode": {
    "name": "ipython",
    "version": 3
   },
   "file_extension": ".py",
   "mimetype": "text/x-python",
   "name": "python",
   "nbconvert_exporter": "python",
   "pygments_lexer": "ipython3",
   "version": "3.9.5"
  },
  "toc": {
   "base_numbering": 1,
   "nav_menu": {},
   "number_sections": true,
   "sideBar": true,
   "skip_h1_title": true,
   "title_cell": "Table of Contents",
   "title_sidebar": "Contents",
   "toc_cell": true,
   "toc_position": {},
   "toc_section_display": true,
   "toc_window_display": false
  }
 },
 "nbformat": 4,
 "nbformat_minor": 5
}
