{
 "cells": [
  {
   "cell_type": "markdown",
   "metadata": {
    "deletable": false,
    "editable": false,
    "id": "E0vqbgi9ay0H"
   },
   "source": [
    "# Яндекс Музыка"
   ]
  },
  {
   "cell_type": "markdown",
   "metadata": {
    "deletable": false,
    "editable": false,
    "id": "VUC88oWjTJw2"
   },
   "source": [
    "Сравнение Москвы и Петербурга окружено мифами. Например:\n",
    " * Москва — мегаполис, подчинённый жёсткому ритму рабочей недели;\n",
    " * Петербург — культурная столица, со своими вкусами.\n",
    "\n",
    "На данных Яндекс Музыки вы сравните поведение пользователей двух столиц.\n",
    "\n",
    "**Цель исследования** — проверьте три гипотезы:\n",
    "1. Активность пользователей зависит от дня недели. Причём в Москве и Петербурге это проявляется по-разному.\n",
    "2. В понедельник утром в Москве преобладают одни жанры, а в Петербурге — другие. Так же и вечером пятницы преобладают разные жанры — в зависимости от города. \n",
    "3. Москва и Петербург предпочитают разные жанры музыки. В Москве чаще слушают поп-музыку, в Петербурге — русский рэп.\n",
    "\n",
    "**Ход исследования**\n",
    "\n",
    "Данные о поведении пользователей вы получите из файла `yandex_music_project.csv`. О качестве данных ничего не известно. Поэтому перед проверкой гипотез понадобится обзор данных. \n",
    "\n",
    "Вы проверите данные на ошибки и оцените их влияние на исследование. Затем, на этапе предобработки вы поищете возможность исправить самые критичные ошибки данных.\n",
    " \n",
    "Таким образом, исследование пройдёт в три этапа:\n",
    " 1. Обзор данных.\n",
    " 2. Предобработка данных.\n",
    " 3. Проверка гипотез.\n",
    "\n"
   ]
  },
  {
   "cell_type": "markdown",
   "metadata": {
    "deletable": false,
    "editable": false,
    "id": "Ml1hmfXC_Zcs"
   },
   "source": [
    "## Обзор данных\n",
    "\n",
    "Составьте первое представление о данных Яндекс Музыки.\n",
    "\n",
    "\n"
   ]
  },
  {
   "cell_type": "markdown",
   "metadata": {
    "deletable": false,
    "editable": false,
    "id": "57eAOGIz_Zcs",
    "tags": [
     "start_task"
    ]
   },
   "source": [
    "**Задание 1**\n",
    "\n",
    "Основной инструмент аналитика — `pandas`. Импортируйте эту библиотеку."
   ]
  },
  {
   "cell_type": "code",
   "execution_count": 1,
   "metadata": {
    "deletable": false,
    "id": "AXN7PHPN_Zcs"
   },
   "outputs": [],
   "source": [
    "import pandas as pd# импорт библиотеки pandas"
   ]
  },
  {
   "cell_type": "markdown",
   "metadata": {
    "deletable": false,
    "editable": false,
    "id": "SG23P8tt_Zcs",
    "tags": [
     "start_task"
    ]
   },
   "source": [
    "**Задание 2**\n",
    "\n",
    "Прочитайте файл `yandex_music_project.csv` из папки `/datasets` и сохраните его в переменной `df`:"
   ]
  },
  {
   "cell_type": "code",
   "execution_count": 2,
   "metadata": {
    "deletable": false,
    "id": "fFVu7vqh_Zct"
   },
   "outputs": [],
   "source": [
    "df = pd.read_csv('/datasets/yandex_music_project.csv')# чтение файла с данными и сохранение в df"
   ]
  },
  {
   "cell_type": "markdown",
   "metadata": {
    "deletable": false,
    "editable": false,
    "id": "rDoOMd3uTqnZ",
    "tags": [
     "start_task"
    ]
   },
   "source": [
    "**Задание 3**\n",
    "\n",
    "\n",
    "Выведите на экран первые десять строк таблицы:"
   ]
  },
  {
   "cell_type": "code",
   "execution_count": 3,
   "metadata": {
    "deletable": false,
    "id": "oWTVX3gW_Zct"
   },
   "outputs": [
    {
     "name": "stdout",
     "output_type": "stream",
     "text": [
      "     userID                        Track            artist   genre  \\\n",
      "0  FFB692EC            Kamigata To Boots  The Mass Missile    rock   \n",
      "1  55204538  Delayed Because of Accident  Andreas Rönnberg    rock   \n",
      "2    20EC38            Funiculì funiculà       Mario Lanza     pop   \n",
      "3  A3DD03C9        Dragons in the Sunset        Fire + Ice    folk   \n",
      "4  E2DC1FAE                  Soul People        Space Echo   dance   \n",
      "5  842029A1                    Преданная         IMPERVTOR  rusrap   \n",
      "6  4CB90AA5                         True      Roman Messer   dance   \n",
      "7  F03E1C1F             Feeling This Way   Polina Griffith   dance   \n",
      "8  8FA1D3BE     И вновь продолжается бой               NaN  ruspop   \n",
      "9  E772D5C0                    Pessimist               NaN   dance   \n",
      "\n",
      "             City        time        Day  \n",
      "0  Saint-Petersburg  20:28:33  Wednesday  \n",
      "1            Moscow  14:07:09     Friday  \n",
      "2  Saint-Petersburg  20:58:07  Wednesday  \n",
      "3  Saint-Petersburg  08:37:09     Monday  \n",
      "4            Moscow  08:34:34     Monday  \n",
      "5  Saint-Petersburg  13:09:41     Friday  \n",
      "6            Moscow  13:00:07  Wednesday  \n",
      "7            Moscow  20:47:49  Wednesday  \n",
      "8            Moscow  09:17:40     Friday  \n",
      "9  Saint-Petersburg  21:20:49  Wednesday  \n"
     ]
    }
   ],
   "source": [
    "print(df.head(10))# получение первых 10 строк таблицы df"
   ]
  },
  {
   "cell_type": "markdown",
   "metadata": {
    "deletable": false,
    "editable": false,
    "id": "EO73Kwic_Zct",
    "tags": [
     "start_task"
    ]
   },
   "source": [
    "**Задание 4**\n",
    "\n",
    "\n",
    "Одной командой получить общую информацию о таблице c помощью метода `info()`:"
   ]
  },
  {
   "cell_type": "code",
   "execution_count": 4,
   "metadata": {
    "deletable": false,
    "id": "DSf2kIb-_Zct"
   },
   "outputs": [
    {
     "name": "stdout",
     "output_type": "stream",
     "text": [
      "<class 'pandas.core.frame.DataFrame'>\n",
      "RangeIndex: 65079 entries, 0 to 65078\n",
      "Data columns (total 7 columns):\n",
      " #   Column    Non-Null Count  Dtype \n",
      "---  ------    --------------  ----- \n",
      " 0     userID  65079 non-null  object\n",
      " 1   Track     63848 non-null  object\n",
      " 2   artist    57876 non-null  object\n",
      " 3   genre     63881 non-null  object\n",
      " 4     City    65079 non-null  object\n",
      " 5   time      65079 non-null  object\n",
      " 6   Day       65079 non-null  object\n",
      "dtypes: object(7)\n",
      "memory usage: 3.5+ MB\n"
     ]
    }
   ],
   "source": [
    "df.info()# получение общей информации о данных в таблице df"
   ]
  },
  {
   "cell_type": "markdown",
   "metadata": {
    "deletable": false,
    "editable": false,
    "id": "TaQ2Iwbr_Zct"
   },
   "source": [
    "Итак, в таблице семь столбцов. Тип данных во всех столбцах — `object`.\n",
    "\n",
    "Согласно документации к данным:\n",
    "* `userID` — идентификатор пользователя;\n",
    "* `Track` — название трека;  \n",
    "* `artist` — имя исполнителя;\n",
    "* `genre` — название жанра;\n",
    "* `City` — город пользователя;\n",
    "* `time` — время начала прослушивания;\n",
    "* `Day` — день недели.\n",
    "\n",
    "Количество значений в столбцах различается. Значит, в данных есть пропущенные значения."
   ]
  },
  {
   "cell_type": "markdown",
   "metadata": {
    "deletable": false,
    "editable": false,
    "id": "rAfziTBDmf2h",
    "tags": [
     "start_task"
    ]
   },
   "source": [
    "**Задание 5**\n",
    "\n",
    "**Вопрос со свободной формой ответа**\n",
    "\n",
    "В названиях колонок видны нарушения стиля:\n",
    "* Строчные буквы сочетаются с прописными.\n",
    "* Встречаются пробелы.\n",
    "\n",
    "Какое третье нарушение?"
   ]
  },
  {
   "cell_type": "code",
   "execution_count": 5,
   "metadata": {
    "id": "jD8EXEIvmf2h"
   },
   "outputs": [],
   "source": [
    "#Некорректное именование колонок # Напишите ваш ответ здесь комментарием. Не удаляйте символ #. Не меняйте тип этой ячейки на Markdown."
   ]
  },
  {
   "cell_type": "markdown",
   "metadata": {
    "deletable": false,
    "editable": false,
    "id": "MCB6-dXG_Zct"
   },
   "source": [
    "**Выводы**\n",
    "\n",
    "В каждой строке таблицы — данные о прослушанном треке. Часть колонок описывает саму композицию: название, исполнителя и жанр. Остальные данные рассказывают о пользователе: из какого он города, когда он слушал музыку. \n",
    "\n",
    "Предварительно можно утверждать, что данных достаточно для проверки гипотез. Но встречаются пропуски в данных, а в названиях колонок — расхождения с хорошим стилем.\n",
    "\n",
    "Чтобы двигаться дальше, нужно устранить проблемы в данных."
   ]
  },
  {
   "cell_type": "markdown",
   "metadata": {
    "deletable": false,
    "editable": false,
    "id": "SjYF6Ub9_Zct"
   },
   "source": [
    "## Предобработка данных\n",
    "Исправьте стиль в заголовках столбцов, исключите пропуски. Затем проверьте данные на дубликаты."
   ]
  },
  {
   "cell_type": "markdown",
   "metadata": {
    "deletable": false,
    "editable": false,
    "id": "dIaKXr29_Zct",
    "tags": [
     "start_task"
    ]
   },
   "source": [
    "### Стиль заголовков\n",
    "\n",
    "**Задание 6**\n",
    "\n",
    "Выведите на экран названия столбцов:"
   ]
  },
  {
   "cell_type": "code",
   "execution_count": 6,
   "metadata": {
    "deletable": false,
    "id": "oKOTdF_Q_Zct"
   },
   "outputs": [
    {
     "name": "stdout",
     "output_type": "stream",
     "text": [
      "Index(['  userID', 'Track', 'artist', 'genre', '  City  ', 'time', 'Day'], dtype='object')\n"
     ]
    }
   ],
   "source": [
    "print(df.columns)# перечень названий столбцов таблицы df"
   ]
  },
  {
   "cell_type": "markdown",
   "metadata": {
    "deletable": false,
    "editable": false,
    "id": "zj5534cv_Zct",
    "tags": [
     "start_task"
    ]
   },
   "source": [
    "**Задание 7**\n",
    "\n",
    "\n",
    "Приведите названия в соответствие с хорошим стилем:\n",
    "* несколько слов в названии запишите в «змеином_регистре»,\n",
    "* все символы сделайте строчными,\n",
    "* устраните пробелы.\n",
    "\n",
    "Для этого переименуйте колонки так:\n",
    "* `'  userID'` → `'user_id'`;\n",
    "* `'Track'` → `'track'`;\n",
    "* `'  City  '` → `'city'`;\n",
    "* `'Day'` → `'day'`."
   ]
  },
  {
   "cell_type": "code",
   "execution_count": 7,
   "metadata": {
    "deletable": false,
    "id": "ISlFqs5y_Zct"
   },
   "outputs": [],
   "source": [
    "df = df.rename(columns={'  userID':'user_id','Track':'track','  City  ':'city','Day':'day'})# переименование столбцов"
   ]
  },
  {
   "cell_type": "markdown",
   "metadata": {
    "deletable": false,
    "editable": false,
    "id": "1dqbh00J_Zct",
    "tags": [
     "start_task"
    ]
   },
   "source": [
    "**Задание 8**\n",
    "\n",
    "\n",
    "Проверьте результат. Для этого ещё раз выведите на экран названия столбцов:"
   ]
  },
  {
   "cell_type": "code",
   "execution_count": 8,
   "metadata": {
    "deletable": false,
    "id": "d4NOAmTW_Zct"
   },
   "outputs": [
    {
     "name": "stdout",
     "output_type": "stream",
     "text": [
      "Index(['user_id', 'track', 'artist', 'genre', 'city', 'time', 'day'], dtype='object')\n"
     ]
    }
   ],
   "source": [
    "print(df.columns)# проверка результатов - перечень названий столбцов"
   ]
  },
  {
   "cell_type": "markdown",
   "metadata": {
    "deletable": false,
    "editable": false,
    "id": "5ISfbcfY_Zct",
    "tags": [
     "start_task"
    ]
   },
   "source": [
    "### Пропуски значений\n",
    "\n",
    "**Задание 9**\n",
    "\n",
    "Сначала посчитайте, сколько в таблице пропущенных значений. Для этого достаточно двух методов `pandas`:"
   ]
  },
  {
   "cell_type": "code",
   "execution_count": 9,
   "metadata": {
    "deletable": false,
    "id": "RskX29qr_Zct"
   },
   "outputs": [
    {
     "data": {
      "text/plain": [
       "user_id       0\n",
       "track      1231\n",
       "artist     7203\n",
       "genre      1198\n",
       "city          0\n",
       "time          0\n",
       "day           0\n",
       "dtype: int64"
      ]
     },
     "execution_count": 9,
     "metadata": {},
     "output_type": "execute_result"
    }
   ],
   "source": [
    "df.isna().sum()# подсчёт пропусков"
   ]
  },
  {
   "cell_type": "markdown",
   "metadata": {
    "deletable": false,
    "editable": false,
    "id": "qubhgnlO_Zct"
   },
   "source": [
    "Не все пропущенные значения влияют на исследование. Так в `track` и `artist` пропуски не важны для вашей работы. Достаточно заменить их явными обозначениями.\n",
    "\n",
    "Но пропуски в `genre` могут помешать сравнению музыкальных вкусов в Москве и Санкт-Петербурге. На практике было бы правильно установить причину пропусков и восстановить данные. Такой возможности нет в учебном проекте. Придётся:\n",
    "* заполнить и эти пропуски явными обозначениями;\n",
    "* оценить, насколько они повредят расчётам. "
   ]
  },
  {
   "cell_type": "markdown",
   "metadata": {
    "deletable": false,
    "editable": false,
    "id": "fSv2laPA_Zct",
    "tags": [
     "start_task"
    ]
   },
   "source": [
    "**Задание 10**\n",
    "\n",
    "Замените пропущенные значения в столбцах `track`, `artist` и `genre` на строку `'unknown'`. Для этого создайте список `columns_to_replace`, переберите его элементы циклом `for` и для каждого столбца выполните замену пропущенных значений:"
   ]
  },
  {
   "cell_type": "code",
   "execution_count": 10,
   "metadata": {
    "deletable": false,
    "id": "KplB5qWs_Zct"
   },
   "outputs": [],
   "source": [
    "columns_to_replace =['track','artist','genre'] # перебор названий столбцов в цикле и замена пропущенных значений на 'unknown'\n",
    "for change in columns_to_replace:\n",
    "    df[change] = df[change].fillna('unknown')"
   ]
  },
  {
   "cell_type": "markdown",
   "metadata": {
    "deletable": false,
    "editable": false,
    "id": "Ilsm-MZo_Zct",
    "tags": [
     "start_task"
    ]
   },
   "source": [
    "**Задание 11**\n",
    "\n",
    "Убедитесь, что в таблице не осталось пропусков. Для этого ещё раз посчитайте пропущенные значения."
   ]
  },
  {
   "cell_type": "code",
   "execution_count": 11,
   "metadata": {
    "deletable": false,
    "id": "Tq4nYRX4_Zct"
   },
   "outputs": [
    {
     "data": {
      "text/plain": [
       "user_id    0\n",
       "track      0\n",
       "artist     0\n",
       "genre      0\n",
       "city       0\n",
       "time       0\n",
       "day        0\n",
       "dtype: int64"
      ]
     },
     "execution_count": 11,
     "metadata": {},
     "output_type": "execute_result"
    }
   ],
   "source": [
    "df.isna().sum()# подсчёт пропусков"
   ]
  },
  {
   "cell_type": "markdown",
   "metadata": {
    "deletable": false,
    "editable": false,
    "id": "BWKRtBJ3_Zct",
    "tags": [
     "start_task"
    ]
   },
   "source": [
    "### Дубликаты\n",
    "\n",
    "**Задание 12**\n",
    "\n",
    "Посчитайте явные дубликаты в таблице одной командой:"
   ]
  },
  {
   "cell_type": "code",
   "execution_count": 12,
   "metadata": {
    "deletable": false,
    "id": "36eES_S0_Zct"
   },
   "outputs": [
    {
     "data": {
      "text/plain": [
       "3826"
      ]
     },
     "execution_count": 12,
     "metadata": {},
     "output_type": "execute_result"
    }
   ],
   "source": [
    "df.duplicated().sum()# подсчёт явных дубликатов"
   ]
  },
  {
   "cell_type": "markdown",
   "metadata": {
    "deletable": false,
    "editable": false,
    "id": "Ot25h6XR_Zct",
    "tags": [
     "start_task"
    ]
   },
   "source": [
    "**Задание 13**\n",
    "\n",
    "Вызовите специальный метод `pandas`, чтобы удалить явные дубликаты:"
   ]
  },
  {
   "cell_type": "code",
   "execution_count": 13,
   "metadata": {
    "deletable": false,
    "id": "exFHq6tt_Zct"
   },
   "outputs": [],
   "source": [
    "df = df.drop_duplicates()# удаление явных дубликатов"
   ]
  },
  {
   "cell_type": "markdown",
   "metadata": {
    "deletable": false,
    "editable": false,
    "id": "Im2YwBEG_Zct",
    "tags": [
     "start_task"
    ]
   },
   "source": [
    "**Задание 14**\n",
    "\n",
    "Ещё раз посчитайте явные дубликаты в таблице — убедитесь, что полностью от них избавились:"
   ]
  },
  {
   "cell_type": "code",
   "execution_count": 14,
   "metadata": {
    "deletable": false,
    "id": "-8PuNWQ0_Zct"
   },
   "outputs": [
    {
     "data": {
      "text/plain": [
       "0"
      ]
     },
     "execution_count": 14,
     "metadata": {},
     "output_type": "execute_result"
    }
   ],
   "source": [
    "df.duplicated().sum()# проверка на отсутствие дубликатов"
   ]
  },
  {
   "cell_type": "markdown",
   "metadata": {
    "deletable": false,
    "editable": false,
    "id": "QlFBsxAr_Zct"
   },
   "source": [
    "Теперь избавьтесь от неявных дубликатов в колонке `genre`. Например, название одного и того же жанра может быть записано немного по-разному. Такие ошибки тоже повлияют на результат исследования."
   ]
  },
  {
   "cell_type": "markdown",
   "metadata": {
    "deletable": false,
    "editable": false,
    "id": "eSjWwsOh_Zct",
    "tags": [
     "start_task"
    ]
   },
   "source": [
    "**Задание 15**\n",
    "\n",
    "Выведите на экран список уникальных названий жанров, отсортированный в алфавитном порядке. Для этого:\n",
    "1. извлеките нужный столбец датафрейма; \n",
    "2. примените к нему метод сортировки;\n",
    "3. для отсортированного столбца вызовите метод, который вернёт уникальные значения из столбца."
   ]
  },
  {
   "cell_type": "code",
   "execution_count": 15,
   "metadata": {
    "deletable": false,
    "id": "JIUcqzZN_Zct"
   },
   "outputs": [
    {
     "name": "stdout",
     "output_type": "stream",
     "text": [
      "['acid' 'acoustic' 'action' 'adult' 'africa' 'afrikaans' 'alternative'\n",
      " 'alternativepunk' 'ambient' 'americana' 'animated' 'anime' 'arabesk'\n",
      " 'arabic' 'arena' 'argentinetango' 'art' 'audiobook' 'author' 'avantgarde'\n",
      " 'axé' 'baile' 'balkan' 'beats' 'bigroom' 'black' 'bluegrass' 'blues'\n",
      " 'bollywood' 'bossa' 'brazilian' 'breakbeat' 'breaks' 'broadway'\n",
      " 'cantautori' 'cantopop' 'canzone' 'caribbean' 'caucasian' 'celtic'\n",
      " 'chamber' 'chanson' 'children' 'chill' 'chinese' 'choral' 'christian'\n",
      " 'christmas' 'classical' 'classicmetal' 'club' 'colombian' 'comedy'\n",
      " 'conjazz' 'contemporary' 'country' 'cuban' 'dance' 'dancehall' 'dancepop'\n",
      " 'dark' 'death' 'deep' 'deutschrock' 'deutschspr' 'dirty' 'disco' 'dnb'\n",
      " 'documentary' 'downbeat' 'downtempo' 'drum' 'dub' 'dubstep' 'eastern'\n",
      " 'easy' 'electronic' 'electropop' 'emo' 'entehno' 'epicmetal' 'estrada'\n",
      " 'ethnic' 'eurofolk' 'european' 'experimental' 'extrememetal' 'fado'\n",
      " 'fairytail' 'film' 'fitness' 'flamenco' 'folk' 'folklore' 'folkmetal'\n",
      " 'folkrock' 'folktronica' 'forró' 'frankreich' 'französisch' 'french'\n",
      " 'funk' 'future' 'gangsta' 'garage' 'german' 'ghazal' 'gitarre' 'glitch'\n",
      " 'gospel' 'gothic' 'grime' 'grunge' 'gypsy' 'handsup' \"hard'n'heavy\"\n",
      " 'hardcore' 'hardstyle' 'hardtechno' 'hip' 'hip-hop' 'hiphop' 'historisch'\n",
      " 'holiday' 'hop' 'horror' 'house' 'hymn' 'idm' 'independent' 'indian'\n",
      " 'indie' 'indipop' 'industrial' 'inspirational' 'instrumental'\n",
      " 'international' 'irish' 'jam' 'japanese' 'jazz' 'jewish' 'jpop' 'jungle'\n",
      " 'k-pop' 'karadeniz' 'karaoke' 'kayokyoku' 'korean' 'laiko' 'latin'\n",
      " 'latino' 'leftfield' 'local' 'lounge' 'loungeelectronic' 'lovers'\n",
      " 'malaysian' 'mandopop' 'marschmusik' 'meditative' 'mediterranean'\n",
      " 'melodic' 'metal' 'metalcore' 'mexican' 'middle' 'minimal'\n",
      " 'miscellaneous' 'modern' 'mood' 'mpb' 'muslim' 'native' 'neoklassik'\n",
      " 'neue' 'new' 'newage' 'newwave' 'nu' 'nujazz' 'numetal' 'oceania' 'old'\n",
      " 'opera' 'orchestral' 'other' 'piano' 'podcasts' 'pop' 'popdance'\n",
      " 'popelectronic' 'popeurodance' 'poprussian' 'post' 'posthardcore'\n",
      " 'postrock' 'power' 'progmetal' 'progressive' 'psychedelic' 'punjabi'\n",
      " 'punk' 'quebecois' 'ragga' 'ram' 'rancheras' 'rap' 'rave' 'reggae'\n",
      " 'reggaeton' 'regional' 'relax' 'religious' 'retro' 'rhythm' 'rnb' 'rnr'\n",
      " 'rock' 'rockabilly' 'rockalternative' 'rockindie' 'rockother' 'romance'\n",
      " 'roots' 'ruspop' 'rusrap' 'rusrock' 'russian' 'salsa' 'samba' 'scenic'\n",
      " 'schlager' 'self' 'sertanejo' 'shanson' 'shoegazing' 'showtunes' 'singer'\n",
      " 'ska' 'skarock' 'slow' 'smooth' 'soft' 'soul' 'soulful' 'sound'\n",
      " 'soundtrack' 'southern' 'specialty' 'speech' 'spiritual' 'sport'\n",
      " 'stonerrock' 'surf' 'swing' 'synthpop' 'synthrock' 'sängerportrait'\n",
      " 'tango' 'tanzorchester' 'taraftar' 'tatar' 'tech' 'techno' 'teen'\n",
      " 'thrash' 'top' 'traditional' 'tradjazz' 'trance' 'tribal' 'trip'\n",
      " 'triphop' 'tropical' 'türk' 'türkçe' 'ukrrock' 'unknown' 'urban' 'uzbek'\n",
      " 'variété' 'vi' 'videogame' 'vocal' 'western' 'world' 'worldbeat' 'ïîï'\n",
      " 'электроника']\n"
     ]
    }
   ],
   "source": [
    "genre_sorted = df['genre'].sort_values().unique()# Просмотр уникальных названий жанров\n",
    "print(genre_sorted)"
   ]
  },
  {
   "cell_type": "markdown",
   "metadata": {
    "deletable": false,
    "editable": false,
    "id": "qej-Qmuo_Zct",
    "tags": [
     "start_task"
    ]
   },
   "source": [
    "**Задание 16**\n",
    "\n",
    "Просмотрите список и найдите неявные дубликаты названия `hiphop`. Это могут быть названия с ошибками или альтернативные названия того же жанра.\n",
    "\n",
    "Вы увидите следующие неявные дубликаты:\n",
    "* *hip*,\n",
    "* *hop*,\n",
    "* *hip-hop*.\n",
    "\n",
    "Чтобы очистить от них таблицу используйте метод `replace()` с двумя аргументами: списком строк-дубликатов (включащий *hip*, *hop* и *hip-hop*) и строкой с правильным значением. Вам нужно исправить колонку `genre` в таблице `df`: заменить каждое значение из списка дубликатов на верное. Вместо `hip`, `hop` и `hip-hop` в таблице должно быть значение `hiphop`:"
   ]
  },
  {
   "cell_type": "code",
   "execution_count": 16,
   "metadata": {
    "deletable": false,
    "id": "ErNDkmns_Zct"
   },
   "outputs": [],
   "source": [
    "duplicates = ['hip', 'hop', 'hip-hop']# Устранение неявных дубликатов\n",
    "true_hiphop = 'hiphop'\n",
    "df['genre'] = df['genre'].replace(duplicates, true_hiphop)"
   ]
  },
  {
   "cell_type": "markdown",
   "metadata": {
    "deletable": false,
    "editable": false,
    "id": "zQKF16_RG15m",
    "tags": [
     "start_task"
    ]
   },
   "source": [
    "**Задание 17**\n",
    "\n",
    "Проверьте, что заменили неправильные названия:\n",
    "\n",
    "*   hip,\n",
    "*   hop,\n",
    "*   hip-hop.\n",
    "\n",
    "Выведите отсортированный список уникальных значений столбца `genre`:"
   ]
  },
  {
   "cell_type": "code",
   "execution_count": 17,
   "metadata": {
    "deletable": false,
    "id": "wvixALnFG15m"
   },
   "outputs": [
    {
     "name": "stdout",
     "output_type": "stream",
     "text": [
      "['acid' 'acoustic' 'action' 'adult' 'africa' 'afrikaans' 'alternative'\n",
      " 'alternativepunk' 'ambient' 'americana' 'animated' 'anime' 'arabesk'\n",
      " 'arabic' 'arena' 'argentinetango' 'art' 'audiobook' 'author' 'avantgarde'\n",
      " 'axé' 'baile' 'balkan' 'beats' 'bigroom' 'black' 'bluegrass' 'blues'\n",
      " 'bollywood' 'bossa' 'brazilian' 'breakbeat' 'breaks' 'broadway'\n",
      " 'cantautori' 'cantopop' 'canzone' 'caribbean' 'caucasian' 'celtic'\n",
      " 'chamber' 'chanson' 'children' 'chill' 'chinese' 'choral' 'christian'\n",
      " 'christmas' 'classical' 'classicmetal' 'club' 'colombian' 'comedy'\n",
      " 'conjazz' 'contemporary' 'country' 'cuban' 'dance' 'dancehall' 'dancepop'\n",
      " 'dark' 'death' 'deep' 'deutschrock' 'deutschspr' 'dirty' 'disco' 'dnb'\n",
      " 'documentary' 'downbeat' 'downtempo' 'drum' 'dub' 'dubstep' 'eastern'\n",
      " 'easy' 'electronic' 'electropop' 'emo' 'entehno' 'epicmetal' 'estrada'\n",
      " 'ethnic' 'eurofolk' 'european' 'experimental' 'extrememetal' 'fado'\n",
      " 'fairytail' 'film' 'fitness' 'flamenco' 'folk' 'folklore' 'folkmetal'\n",
      " 'folkrock' 'folktronica' 'forró' 'frankreich' 'französisch' 'french'\n",
      " 'funk' 'future' 'gangsta' 'garage' 'german' 'ghazal' 'gitarre' 'glitch'\n",
      " 'gospel' 'gothic' 'grime' 'grunge' 'gypsy' 'handsup' \"hard'n'heavy\"\n",
      " 'hardcore' 'hardstyle' 'hardtechno' 'hiphop' 'historisch' 'holiday'\n",
      " 'horror' 'house' 'hymn' 'idm' 'independent' 'indian' 'indie' 'indipop'\n",
      " 'industrial' 'inspirational' 'instrumental' 'international' 'irish' 'jam'\n",
      " 'japanese' 'jazz' 'jewish' 'jpop' 'jungle' 'k-pop' 'karadeniz' 'karaoke'\n",
      " 'kayokyoku' 'korean' 'laiko' 'latin' 'latino' 'leftfield' 'local'\n",
      " 'lounge' 'loungeelectronic' 'lovers' 'malaysian' 'mandopop' 'marschmusik'\n",
      " 'meditative' 'mediterranean' 'melodic' 'metal' 'metalcore' 'mexican'\n",
      " 'middle' 'minimal' 'miscellaneous' 'modern' 'mood' 'mpb' 'muslim'\n",
      " 'native' 'neoklassik' 'neue' 'new' 'newage' 'newwave' 'nu' 'nujazz'\n",
      " 'numetal' 'oceania' 'old' 'opera' 'orchestral' 'other' 'piano' 'podcasts'\n",
      " 'pop' 'popdance' 'popelectronic' 'popeurodance' 'poprussian' 'post'\n",
      " 'posthardcore' 'postrock' 'power' 'progmetal' 'progressive' 'psychedelic'\n",
      " 'punjabi' 'punk' 'quebecois' 'ragga' 'ram' 'rancheras' 'rap' 'rave'\n",
      " 'reggae' 'reggaeton' 'regional' 'relax' 'religious' 'retro' 'rhythm'\n",
      " 'rnb' 'rnr' 'rock' 'rockabilly' 'rockalternative' 'rockindie' 'rockother'\n",
      " 'romance' 'roots' 'ruspop' 'rusrap' 'rusrock' 'russian' 'salsa' 'samba'\n",
      " 'scenic' 'schlager' 'self' 'sertanejo' 'shanson' 'shoegazing' 'showtunes'\n",
      " 'singer' 'ska' 'skarock' 'slow' 'smooth' 'soft' 'soul' 'soulful' 'sound'\n",
      " 'soundtrack' 'southern' 'specialty' 'speech' 'spiritual' 'sport'\n",
      " 'stonerrock' 'surf' 'swing' 'synthpop' 'synthrock' 'sängerportrait'\n",
      " 'tango' 'tanzorchester' 'taraftar' 'tatar' 'tech' 'techno' 'teen'\n",
      " 'thrash' 'top' 'traditional' 'tradjazz' 'trance' 'tribal' 'trip'\n",
      " 'triphop' 'tropical' 'türk' 'türkçe' 'ukrrock' 'unknown' 'urban' 'uzbek'\n",
      " 'variété' 'vi' 'videogame' 'vocal' 'western' 'world' 'worldbeat' 'ïîï'\n",
      " 'электроника']\n"
     ]
    }
   ],
   "source": [
    "genre_sorted = df['genre'].sort_values().unique()# Просмотр уникальных названий жанров\n",
    "print(genre_sorted)\n"
   ]
  },
  {
   "cell_type": "markdown",
   "metadata": {
    "deletable": false,
    "editable": false,
    "id": "jz6a9-7HQUDd"
   },
   "source": [
    "**Выводы**\n",
    "\n",
    "Предобработка обнаружила три проблемы в данных:\n",
    "\n",
    "- нарушения в стиле заголовков,\n",
    "- пропущенные значения,\n",
    "- дубликаты — явные и неявные.\n",
    "\n",
    "Вы исправили заголовки, чтобы упростить работу с таблицей. Без дубликатов исследование станет более точным.\n",
    "\n",
    "Пропущенные значения вы заменили на `'unknown'`. Ещё предстоит увидеть, не повредят ли исследованию пропуски в колонке `genre`.\n",
    "\n",
    "Теперь можно перейти к проверке гипотез. "
   ]
  },
  {
   "cell_type": "markdown",
   "metadata": {
    "deletable": false,
    "editable": false,
    "id": "WttZHXH0SqKk"
   },
   "source": [
    "## Проверка гипотез"
   ]
  },
  {
   "cell_type": "markdown",
   "metadata": {
    "deletable": false,
    "editable": false,
    "id": "Im936VVi_Zcu"
   },
   "source": [
    "### Сравнение поведения пользователей двух столиц"
   ]
  },
  {
   "cell_type": "markdown",
   "metadata": {
    "deletable": false,
    "editable": false,
    "id": "nwt_MuaL_Zcu"
   },
   "source": [
    "Первая гипотеза утверждает, что пользователи по-разному слушают музыку в Москве и Санкт-Петербурге. Проверьте это предположение по данным о трёх днях недели — понедельнике, среде и пятнице. Для этого:\n",
    "\n",
    "* Разделите пользователей Москвы и Санкт-Петербурга.\n",
    "* Сравните, сколько треков послушала каждая группа пользователей в понедельник, среду и пятницу.\n"
   ]
  },
  {
   "cell_type": "markdown",
   "metadata": {
    "deletable": false,
    "editable": false,
    "id": "8Dw_YMmT_Zcu",
    "tags": [
     "start_task"
    ]
   },
   "source": [
    "**Задание 18**\n",
    "\n",
    "Для тренировки сначала выполните каждый из расчётов по отдельности. \n",
    "\n",
    "Оцените активность пользователей в каждом городе. Сгруппируйте данные по городу и посчитайте прослушивания в каждой группе.\n",
    "\n"
   ]
  },
  {
   "cell_type": "code",
   "execution_count": 18,
   "metadata": {
    "deletable": false,
    "id": "0_Qs96oh_Zcu"
   },
   "outputs": [
    {
     "name": "stdout",
     "output_type": "stream",
     "text": [
      "city\n",
      "Moscow              42741\n",
      "Saint-Petersburg    18512\n",
      "Name: track, dtype: int64\n"
     ]
    }
   ],
   "source": [
    "groups_of_city = df.groupby('city')['track'].count()\n",
    "print(groups_of_city)\n",
    "# Подсчёт прослушиваний в каждом городе"
   ]
  },
  {
   "cell_type": "markdown",
   "metadata": {
    "deletable": false,
    "editable": false,
    "id": "dzli3w8o_Zcu",
    "tags": [
     "start_task"
    ]
   },
   "source": [
    "В Москве прослушиваний больше, чем в Петербурге. Из этого не следует, что московские пользователи чаще слушают музыку. Просто самих пользователей в Москве больше.\n",
    "\n",
    "**Задание 19**\n",
    "\n",
    "Теперь сгруппируйте данные по дню недели и посчитайте прослушивания в понедельник, среду и пятницу. Учтите, что в данных есть информация о прослушиваниях только за эти дни.\n"
   ]
  },
  {
   "cell_type": "code",
   "execution_count": 19,
   "metadata": {
    "deletable": false,
    "id": "uZMKjiJz_Zcu"
   },
   "outputs": [
    {
     "name": "stdout",
     "output_type": "stream",
     "text": [
      "day\n",
      "Friday       21840\n",
      "Monday       21354\n",
      "Wednesday    18059\n",
      "Name: city, dtype: int64\n"
     ]
    }
   ],
   "source": [
    "groups_by_day = df.groupby('day')['city'].count()\n",
    "print(groups_by_day)# Подсчёт прослушиваний в каждый из трёх дней"
   ]
  },
  {
   "cell_type": "markdown",
   "metadata": {
    "deletable": false,
    "editable": false,
    "id": "cC2tNrlL_Zcu"
   },
   "source": [
    "В среднем пользователи из двух городов менее активны по средам. Но картина может измениться, если рассмотреть каждый город в отдельности."
   ]
  },
  {
   "cell_type": "markdown",
   "metadata": {
    "deletable": false,
    "editable": false,
    "id": "POzs8bGa_Zcu",
    "tags": [
     "start_task"
    ]
   },
   "source": [
    "**Задание 20**\n",
    "\n",
    "\n",
    "Вы видели, как работает группировка по городу и по дням недели. Теперь напишите функцию, которая объединит два эти расчёта.\n",
    "\n",
    "Создайте функцию `number_tracks()`, которая посчитает прослушивания для заданного дня и города. Ей понадобятся два параметра:\n",
    "* день недели,\n",
    "* название города.\n",
    "\n",
    "В функции сохраните в переменную строки исходной таблицы, у которых значение:\n",
    "  * в колонке `day` равно параметру `day`,\n",
    "  * в колонке `city` равно параметру `city`.\n",
    "\n",
    "Для этого примените последовательную фильтрацию с логической индексацией (или сложные логические выражения в одну строку, если вы уже знакомы с ними).\n",
    "\n",
    "Затем посчитайте значения в столбце `user_id` получившейся таблицы. Результат сохраните в новую переменную. Верните эту переменную из функции."
   ]
  },
  {
   "cell_type": "code",
   "execution_count": 20,
   "metadata": {
    "deletable": false,
    "id": "Nz3GdQB1_Zcu"
   },
   "outputs": [],
   "source": [
    "# <создание функции number_tracks()>\n",
    "def number_tracks(day,city):\n",
    "    track_list = df[df['day'] == day]\n",
    "    track_list = track_list[track_list['city'] == city]\n",
    "    track_list_count = track_list['user_id'].count()\n",
    "    return track_list_count\n",
    "# Объявляется функция с двумя параметрами: day, city.\n",
    "# В переменной track_list сохраняются те строки таблицы df, для которых \n",
    "# значение в столбце 'day' равно параметру day и одновременно значение\n",
    "# в столбце 'city' равно параметру city (используйте последовательную фильтрацию\n",
    "# с помощью логической индексации или сложные логические выражения в одну строку, если вы уже знакомы с ними).\n",
    "# В переменной track_list_count сохраняется число значений столбца 'user_id',\n",
    "# рассчитанное методом count() для таблицы track_list.\n",
    "# Функция возвращает число - значение track_list_count.\n",
    "\n",
    "# Функция для подсчёта прослушиваний для конкретного города и дня.\n",
    "# С помощью последовательной фильтрации с логической индексацией она \n",
    "# сначала получит из исходной таблицы строки с нужным днём,\n",
    "# затем из результата отфильтрует строки с нужным городом,\n",
    "# методом count() посчитает количество значений в колонке user_id. \n",
    "# Это количество функция вернёт в качестве результата"
   ]
  },
  {
   "cell_type": "markdown",
   "metadata": {
    "deletable": false,
    "editable": false,
    "id": "ytf7xFrFJQ2r",
    "tags": [
     "start_task"
    ]
   },
   "source": [
    "**Задание 21**\n",
    "\n",
    "Вызовите `number_tracks()` шесть раз, меняя значение параметров — так, чтобы получить данные для каждого города в каждый из трёх дней."
   ]
  },
  {
   "cell_type": "code",
   "execution_count": 21,
   "metadata": {
    "deletable": false,
    "id": "rJcRATNQ_Zcu"
   },
   "outputs": [
    {
     "data": {
      "text/plain": [
       "15740"
      ]
     },
     "execution_count": 21,
     "metadata": {},
     "output_type": "execute_result"
    }
   ],
   "source": [
    "number_tracks('Monday','Moscow')# количество прослушиваний в Москве по понедельникам"
   ]
  },
  {
   "cell_type": "code",
   "execution_count": 22,
   "metadata": {
    "deletable": false,
    "id": "hq_ncZ5T_Zcu"
   },
   "outputs": [
    {
     "data": {
      "text/plain": [
       "5614"
      ]
     },
     "execution_count": 22,
     "metadata": {},
     "output_type": "execute_result"
    }
   ],
   "source": [
    "number_tracks('Monday','Saint-Petersburg')# количество прослушиваний в Санкт-Петербурге по понедельникам"
   ]
  },
  {
   "cell_type": "code",
   "execution_count": 23,
   "metadata": {
    "deletable": false,
    "id": "_NTy2VPU_Zcu"
   },
   "outputs": [
    {
     "data": {
      "text/plain": [
       "11056"
      ]
     },
     "execution_count": 23,
     "metadata": {},
     "output_type": "execute_result"
    }
   ],
   "source": [
    "number_tracks('Wednesday','Moscow')# количество прослушиваний в Москве по средам"
   ]
  },
  {
   "cell_type": "code",
   "execution_count": 24,
   "metadata": {
    "deletable": false,
    "id": "j2y3TAwo_Zcu"
   },
   "outputs": [
    {
     "data": {
      "text/plain": [
       "7003"
      ]
     },
     "execution_count": 24,
     "metadata": {},
     "output_type": "execute_result"
    }
   ],
   "source": [
    "number_tracks('Wednesday','Saint-Petersburg')# количество прослушиваний в Санкт-Петербурге по средам"
   ]
  },
  {
   "cell_type": "code",
   "execution_count": 25,
   "metadata": {
    "deletable": false,
    "id": "vYDw5u_K_Zcu"
   },
   "outputs": [
    {
     "data": {
      "text/plain": [
       "15945"
      ]
     },
     "execution_count": 25,
     "metadata": {},
     "output_type": "execute_result"
    }
   ],
   "source": [
    "number_tracks('Friday','Moscow')# количество прослушиваний в Москве по пятницам"
   ]
  },
  {
   "cell_type": "code",
   "execution_count": 26,
   "metadata": {
    "deletable": false,
    "id": "8_yzFtW3_Zcu"
   },
   "outputs": [
    {
     "data": {
      "text/plain": [
       "5895"
      ]
     },
     "execution_count": 26,
     "metadata": {},
     "output_type": "execute_result"
    }
   ],
   "source": [
    "number_tracks('Friday','Saint-Petersburg')# количество прослушиваний в Санкт-Петербурге по пятницам"
   ]
  },
  {
   "cell_type": "markdown",
   "metadata": {
    "deletable": false,
    "editable": false,
    "id": "7QXffbO-_Zcu",
    "tags": [
     "start_task"
    ]
   },
   "source": [
    "**Задание 22**\n",
    "\n",
    "Создайте c помощью конструктора `pd.DataFrame` таблицу, где\n",
    "* названия колонок — `['city', 'monday', 'wednesday', 'friday']`;\n",
    "* данные — результаты, которые вы получили с помощью `number_tracks`."
   ]
  },
  {
   "cell_type": "code",
   "execution_count": 27,
   "metadata": {
    "deletable": false,
    "id": "APAcLpOr_Zcu"
   },
   "outputs": [
    {
     "data": {
      "text/html": [
       "<div>\n",
       "<style scoped>\n",
       "    .dataframe tbody tr th:only-of-type {\n",
       "        vertical-align: middle;\n",
       "    }\n",
       "\n",
       "    .dataframe tbody tr th {\n",
       "        vertical-align: top;\n",
       "    }\n",
       "\n",
       "    .dataframe thead th {\n",
       "        text-align: right;\n",
       "    }\n",
       "</style>\n",
       "<table border=\"1\" class=\"dataframe\">\n",
       "  <thead>\n",
       "    <tr style=\"text-align: right;\">\n",
       "      <th></th>\n",
       "      <th>city</th>\n",
       "      <th>monday</th>\n",
       "      <th>wednesday</th>\n",
       "      <th>friday</th>\n",
       "    </tr>\n",
       "  </thead>\n",
       "  <tbody>\n",
       "    <tr>\n",
       "      <th>0</th>\n",
       "      <td>Москва</td>\n",
       "      <td>15740</td>\n",
       "      <td>11056</td>\n",
       "      <td>15945</td>\n",
       "    </tr>\n",
       "    <tr>\n",
       "      <th>1</th>\n",
       "      <td>Санкт-Петербург</td>\n",
       "      <td>5614</td>\n",
       "      <td>7003</td>\n",
       "      <td>5895</td>\n",
       "    </tr>\n",
       "  </tbody>\n",
       "</table>\n",
       "</div>"
      ],
      "text/plain": [
       "              city  monday  wednesday  friday\n",
       "0           Москва   15740      11056   15945\n",
       "1  Санкт-Петербург    5614       7003    5895"
      ]
     },
     "execution_count": 27,
     "metadata": {},
     "output_type": "execute_result"
    }
   ],
   "source": [
    "columns = ['city', 'monday', 'wednesday', 'friday']\n",
    "info = pd.DataFrame(data=[['Москва', 15740, 11056, 15945], ['Санкт-Петербург', 5614, 7003, 5895]],columns=columns)\n",
    "info\n",
    "# Таблица с результатами"
   ]
  },
  {
   "cell_type": "markdown",
   "metadata": {
    "deletable": false,
    "editable": false,
    "id": "-EgPIHYu_Zcu"
   },
   "source": [
    "**Выводы**\n",
    "\n",
    "Данные показывают разницу поведения пользователей:\n",
    "\n",
    "- В Москве пик прослушиваний приходится на понедельник и пятницу, а в среду заметен спад.\n",
    "- В Петербурге, наоборот, больше слушают музыку по средам. Активность в понедельник и пятницу здесь почти в равной мере уступает среде.\n",
    "\n",
    "Значит, данные говорят в пользу первой гипотезы."
   ]
  },
  {
   "cell_type": "markdown",
   "metadata": {
    "deletable": false,
    "editable": false,
    "id": "atZAxtq4_Zcu"
   },
   "source": [
    "### Музыка в начале и в конце недели"
   ]
  },
  {
   "cell_type": "markdown",
   "metadata": {
    "deletable": false,
    "editable": false,
    "id": "eXrQqXFH_Zcu"
   },
   "source": [
    "Согласно второй гипотезе, утром в понедельник в Москве преобладают одни жанры, а в Петербурге — другие. Так же и вечером пятницы преобладают разные жанры — в зависимости от города."
   ]
  },
  {
   "cell_type": "markdown",
   "metadata": {
    "deletable": false,
    "editable": false,
    "id": "S8UcW6Hw_Zcu",
    "tags": [
     "start_task"
    ]
   },
   "source": [
    "**Задание 23**\n",
    "\n",
    "Сохраните таблицы с данными в две переменные:\n",
    "* по Москве — в `moscow_general`;\n",
    "* по Санкт-Петербургу — в `spb_general`."
   ]
  },
  {
   "cell_type": "code",
   "execution_count": 28,
   "metadata": {
    "deletable": false,
    "id": "qeaFfM_P_Zcu"
   },
   "outputs": [],
   "source": [
    "moscow_general = df[df['city'] == 'Moscow']# получение таблицы moscow_general из тех строк таблицы df, \n",
    "spb_general= df[df['city'] == 'Saint-Petersburg']# для которых значение в столбце 'city' равно 'Moscow'\n"
   ]
  },
  {
   "cell_type": "code",
   "execution_count": 29,
   "metadata": {
    "deletable": false,
    "id": "ORaVRKto_Zcu"
   },
   "outputs": [],
   "source": [
    "# получение таблицы spb_general из тех строк таблицы df,\n",
    "# для которых значение в столбце 'city' равно 'Saint-Petersburg'\n"
   ]
  },
  {
   "cell_type": "markdown",
   "metadata": {
    "deletable": false,
    "editable": false,
    "id": "MEJV-CX2_Zcu",
    "tags": [
     "start_task"
    ]
   },
   "source": [
    "**Задание 24**\n",
    "\n",
    "Создайте функцию `genre_weekday()` с четырьмя параметрами:\n",
    "* таблица (датафрейм) с данными,\n",
    "* день недели,\n",
    "* начальная временная метка в формате 'hh:mm', \n",
    "* последняя временная метка в формате 'hh:mm'.\n",
    "\n",
    "Функция должна вернуть информацию о топ-10 жанров тех треков, которые прослушивали в указанный день, в промежутке между двумя отметками времени."
   ]
  },
  {
   "cell_type": "code",
   "execution_count": 30,
   "metadata": {
    "deletable": false,
    "id": "laJT9BYl_Zcu"
   },
   "outputs": [],
   "source": [
    "# Объявление функции genre_weekday() с параметрами table, day, time1, time2,\n",
    "# которая возвращает информацию о самых популярных жанрах в указанный день в\n",
    "# заданное время:\n",
    "# 1) в переменную genre_df сохраняются те строки переданного датафрейма table, для\n",
    "#    которых одновременно:\n",
    "#    - значение в столбце day равно значению аргумента day\n",
    "#    - значение в столбце time больше значения аргумента time1\n",
    "#    - значение в столбце time меньше значения аргумента time2\n",
    "#    Используйте последовательную фильтрацию с помощью логической индексации.\n",
    "# 2) сгруппировать датафрейм genre_df по столбцу genre, взять один из его\n",
    "#    столбцов и посчитать методом count() количество записей для каждого из\n",
    "#    присутствующих жанров, получившийся Series записать в переменную\n",
    "#    genre_df_count\n",
    "# 3) отсортировать genre_df_count по убыванию встречаемости и сохранить\n",
    "#    в переменную genre_df_sorted\n",
    "# 4) вернуть Series из 10 первых значений genre_df_sorted, это будут топ-10\n",
    "#    популярных жанров (в указанный день, в заданное время)\n",
    "\n",
    "def genre_weekday(df, day, time1, time2):\n",
    "    genre_df = df[df['day']== day] \n",
    "    genre_df = genre_df[genre_df['time'] < time2]\n",
    "    genre_df = genre_df[genre_df['time'] > time1]\n",
    "    genre_df_grouped = genre_df.groupby('genre')['genre'].count()\n",
    "    genre_df_sorted = genre_df_grouped.sort_values(ascending=False)\n",
    "    return genre_df_sorted[:10]"
   ]
  },
  {
   "cell_type": "markdown",
   "metadata": {
    "deletable": false,
    "editable": false,
    "id": "la2s2_PF_Zcu",
    "tags": [
     "start_task"
    ]
   },
   "source": [
    "**Задание 25**\n",
    "\n",
    "\n",
    "Cравните результаты функции `genre_weekday()` для Москвы и Санкт-Петербурга в понедельник утром (с 7:00 до 11:00) и в пятницу вечером (с 17:00 до 23:00):"
   ]
  },
  {
   "cell_type": "code",
   "execution_count": 31,
   "metadata": {
    "deletable": false,
    "id": "yz7itPUQ_Zcu"
   },
   "outputs": [
    {
     "data": {
      "text/plain": [
       "genre\n",
       "pop            781\n",
       "dance          549\n",
       "electronic     480\n",
       "rock           474\n",
       "hiphop         286\n",
       "ruspop         186\n",
       "world          181\n",
       "rusrap         175\n",
       "alternative    164\n",
       "unknown        161\n",
       "Name: genre, dtype: int64"
      ]
     },
     "execution_count": 31,
     "metadata": {},
     "output_type": "execute_result"
    }
   ],
   "source": [
    "genre_weekday(moscow_general,'Monday','07:00', '11:00') \n",
    "# объекты, хранящие время, являются строками и сравниваются как строки\n",
    "# пример вызова: genre_weekday(moscow_general, 'Monday', '07:00', '11:00')"
   ]
  },
  {
   "cell_type": "code",
   "execution_count": 32,
   "metadata": {
    "deletable": false,
    "id": "kwUcHPdy_Zcu"
   },
   "outputs": [
    {
     "data": {
      "text/plain": [
       "genre\n",
       "pop            218\n",
       "dance          182\n",
       "rock           162\n",
       "electronic     147\n",
       "hiphop          80\n",
       "ruspop          64\n",
       "alternative     58\n",
       "rusrap          55\n",
       "jazz            44\n",
       "classical       40\n",
       "Name: genre, dtype: int64"
      ]
     },
     "execution_count": 32,
     "metadata": {},
     "output_type": "execute_result"
    }
   ],
   "source": [
    "genre_weekday(spb_general,'Monday','07:00', '11:00') "
   ]
  },
  {
   "cell_type": "code",
   "execution_count": 33,
   "metadata": {
    "deletable": false,
    "id": "EzXVRE1o_Zcu"
   },
   "outputs": [
    {
     "data": {
      "text/plain": [
       "genre\n",
       "pop            713\n",
       "rock           517\n",
       "dance          495\n",
       "electronic     482\n",
       "hiphop         273\n",
       "world          208\n",
       "ruspop         170\n",
       "alternative    163\n",
       "classical      163\n",
       "rusrap         142\n",
       "Name: genre, dtype: int64"
      ]
     },
     "execution_count": 33,
     "metadata": {},
     "output_type": "execute_result"
    }
   ],
   "source": [
    "genre_weekday(moscow_general,'Friday','17:00', '23:00') # вызов функции для вечера пятницы в Москве"
   ]
  },
  {
   "cell_type": "code",
   "execution_count": 34,
   "metadata": {
    "deletable": false,
    "id": "JZaEKu5v_Zcu"
   },
   "outputs": [
    {
     "data": {
      "text/plain": [
       "genre\n",
       "pop            256\n",
       "electronic     216\n",
       "rock           216\n",
       "dance          210\n",
       "hiphop          97\n",
       "alternative     63\n",
       "jazz            61\n",
       "classical       60\n",
       "rusrap          59\n",
       "world           54\n",
       "Name: genre, dtype: int64"
      ]
     },
     "execution_count": 34,
     "metadata": {},
     "output_type": "execute_result"
    }
   ],
   "source": [
    "genre_weekday(spb_general,'Friday', '17:00', '23:00') # вызов функции для вечера пятницы в Петербурге"
   ]
  },
  {
   "cell_type": "markdown",
   "metadata": {
    "deletable": false,
    "editable": false,
    "id": "wrCe4MNX_Zcu"
   },
   "source": [
    "**Выводы**\n",
    "\n",
    "Если сравнить топ-10 жанров в понедельник утром, можно сделать такие выводы:\n",
    "\n",
    "1. В Москве и Петербурге слушают похожую музыку. Единственное отличие — в московский рейтинг вошёл жанр “world”, а в петербургский — джаз и классика.\n",
    "\n",
    "2. В Москве пропущенных значений оказалось так много, что значение `'unknown'` заняло десятое место среди самых популярных жанров. Значит, пропущенные значения занимают существенную долю в данных и угрожают достоверности исследования.\n",
    "\n",
    "Вечер пятницы не меняет эту картину. Некоторые жанры поднимаются немного выше, другие спускаются, но в целом топ-10 остаётся тем же самым.\n",
    "\n",
    "Таким образом, вторая гипотеза подтвердилась лишь частично:\n",
    "* Пользователи слушают похожую музыку в начале недели и в конце.\n",
    "* Разница между Москвой и Петербургом не слишком выражена. В Москве чаще слушают русскую популярную музыку, в Петербурге — джаз.\n",
    "\n",
    "Однако пропуски в данных ставят под сомнение этот результат. В Москве их так много, что рейтинг топ-10 мог бы выглядеть иначе, если бы не утерянные  данные о жанрах."
   ]
  },
  {
   "cell_type": "markdown",
   "metadata": {
    "deletable": false,
    "editable": false,
    "id": "JolODAqr_Zcu"
   },
   "source": [
    "### Жанровые предпочтения в Москве и Петербурге\n",
    "\n",
    "Гипотеза: Петербург — столица рэпа, музыку этого жанра там слушают чаще, чем в Москве.  А Москва — город контрастов, в котором, тем не менее, преобладает поп-музыка."
   ]
  },
  {
   "cell_type": "markdown",
   "metadata": {
    "deletable": false,
    "editable": false,
    "id": "DlegSvaT_Zcu",
    "tags": [
     "start_task"
    ]
   },
   "source": [
    "**Задание 26**\n",
    "\n",
    "Сгруппируйте таблицу `moscow_general` по жанру и посчитайте прослушивания треков каждого жанра методом `count()`. Затем отсортируйте результат в порядке убывания и сохраните его в таблице `moscow_genres`."
   ]
  },
  {
   "cell_type": "code",
   "execution_count": 35,
   "metadata": {
    "deletable": false,
    "id": "r19lIPke_Zcu"
   },
   "outputs": [],
   "source": [
    "moscow_genres = moscow_general.groupby('genre')['genre'].count().sort_values(ascending=False) # одной строкой: группировка таблицы moscow_general по столбцу 'genre', \n",
    "# подсчёт числа значений 'genre' в этой группировке методом count(), \n",
    "# сортировка получившегося Series в порядке убывания и сохранение в moscow_genres"
   ]
  },
  {
   "cell_type": "markdown",
   "metadata": {
    "deletable": false,
    "editable": false,
    "id": "6kMuomxTiIr8",
    "tags": [
     "start_task"
    ]
   },
   "source": [
    "**Задание 27**\n",
    "\n",
    "Выведите на экран первые десять строк `moscow_genres`:"
   ]
  },
  {
   "cell_type": "code",
   "execution_count": 36,
   "metadata": {
    "deletable": false,
    "id": "WhCSooF8_Zcv"
   },
   "outputs": [
    {
     "name": "stdout",
     "output_type": "stream",
     "text": [
      "genre\n",
      "pop            5892\n",
      "dance          4435\n",
      "rock           3965\n",
      "electronic     3786\n",
      "hiphop         2096\n",
      "classical      1616\n",
      "world          1432\n",
      "alternative    1379\n",
      "ruspop         1372\n",
      "rusrap         1161\n",
      "Name: genre, dtype: int64\n"
     ]
    }
   ],
   "source": [
    "print(moscow_genres.head(10))# просмотр первых 10 строк moscow_genres"
   ]
  },
  {
   "cell_type": "markdown",
   "metadata": {
    "deletable": false,
    "editable": false,
    "id": "cnPG2vnN_Zcv",
    "tags": [
     "start_task"
    ]
   },
   "source": [
    "**Задание 28**\n",
    "\n",
    "\n",
    "Теперь повторите то же и для Петербурга.\n",
    "\n",
    "Сгруппируйте таблицу `spb_general` по жанру. Посчитайте прослушивания треков каждого жанра. Результат отсортируйте в порядке убывания и сохраните в таблице `spb_genres`:\n"
   ]
  },
  {
   "cell_type": "code",
   "execution_count": 37,
   "metadata": {
    "deletable": false,
    "id": "gluLIpE7_Zcv"
   },
   "outputs": [],
   "source": [
    "spb_genres = spb_general.groupby('genre')['genre'].count().sort_values(ascending=False)# одной строкой: группировка таблицы spb_general по столбцу 'genre', \n",
    "# подсчёт числа значений 'genre' в этой группировке методом count(), \n",
    "# сортировка получившегося Series в порядке убывания и сохранение в spb_genres"
   ]
  },
  {
   "cell_type": "markdown",
   "metadata": {
    "deletable": false,
    "editable": false,
    "id": "5Doha_ODgyQ8",
    "tags": [
     "start_task"
    ]
   },
   "source": [
    "**Задание 29**\n",
    "\n",
    "Выведите на экран первые десять строк `spb_genres`:"
   ]
  },
  {
   "cell_type": "code",
   "execution_count": 38,
   "metadata": {
    "deletable": false,
    "id": "uaGJHjVU_Zcv"
   },
   "outputs": [
    {
     "name": "stdout",
     "output_type": "stream",
     "text": [
      "genre\n",
      "pop            2431\n",
      "dance          1932\n",
      "rock           1879\n",
      "electronic     1736\n",
      "hiphop          960\n",
      "alternative     649\n",
      "classical       646\n",
      "rusrap          564\n",
      "ruspop          538\n",
      "world           515\n",
      "Name: genre, dtype: int64\n"
     ]
    }
   ],
   "source": [
    "print(spb_genres.head(10))# просмотр первых 10 строк spb_genres"
   ]
  },
  {
   "cell_type": "markdown",
   "metadata": {
    "deletable": false,
    "editable": false,
    "id": "RY51YJYu_Zcv"
   },
   "source": [
    "**Выводы**"
   ]
  },
  {
   "cell_type": "markdown",
   "metadata": {
    "deletable": false,
    "editable": false,
    "id": "nVhnJEm__Zcv"
   },
   "source": [
    "Гипотеза частично подтвердилась:\n",
    "* Поп-музыка — самый популярный жанр в Москве, как и предполагала гипотеза. Более того, в топ-10 жанров встречается близкий жанр — русская популярная музыка.\n",
    "* Вопреки ожиданиям, рэп одинаково популярен в Москве и Петербурге. \n"
   ]
  },
  {
   "cell_type": "markdown",
   "metadata": {
    "deletable": false,
    "editable": false,
    "id": "ykKQ0N65_Zcv"
   },
   "source": [
    "## Итоги исследования"
   ]
  },
  {
   "cell_type": "markdown",
   "metadata": {
    "deletable": false,
    "editable": false,
    "id": "tjUwbHb3_Zcv"
   },
   "source": [
    "Вы проверили три гипотезы и установили:\n",
    "\n",
    "1. День недели по-разному влияет на активность пользователей в Москве и Петербурге. \n",
    "\n",
    "Первая гипотеза полностью подтвердилась.\n",
    "\n",
    "2. Музыкальные предпочтения не сильно меняются в течение недели — будь то Москва или Петербург. Небольшие различия заметны в начале недели, по понедельникам:\n",
    "* в Москве слушают музыку жанра “world”,\n",
    "* в Петербурге — джаз и классику.\n",
    "\n",
    "Таким образом, вторая гипотеза подтвердилась лишь отчасти. Этот результат мог оказаться иным, если бы не пропуски в данных.\n",
    "\n",
    "3. Во вкусах пользователей Москвы и Петербурга больше общего чем различий. Вопреки ожиданиям, предпочтения жанров в Петербурге напоминают московские.\n",
    "\n",
    "Третья гипотеза не подтвердилась. Если различия в предпочтениях и существуют, на основной массе пользователей они незаметны.\n",
    "\n",
    "**На практике исследования содержат проверки статистических гипотез.**\n",
    "Из данных одного сервиса не всегда можно сделать вывод о всех жителях города.\n",
    "Проверки статистических гипотез покажут, насколько они достоверны, исходя из имеющихся данных. \n",
    "С методами проверок гипотез вы ещё познакомитесь в следующих темах."
   ]
  },
  {
   "cell_type": "code",
   "execution_count": null,
   "metadata": {},
   "outputs": [],
   "source": []
  }
 ],
 "metadata": {
  "ExecuteTimeLog": [
   {
    "duration": 50,
    "start_time": "2022-10-25T22:47:05.681Z"
   },
   {
    "duration": 6,
    "start_time": "2022-10-25T22:47:21.235Z"
   },
   {
    "duration": 6,
    "start_time": "2022-10-25T22:47:42.665Z"
   },
   {
    "duration": 6,
    "start_time": "2022-10-25T22:47:47.375Z"
   },
   {
    "duration": 6,
    "start_time": "2022-10-25T22:47:58.830Z"
   },
   {
    "duration": 7,
    "start_time": "2022-10-25T22:49:36.401Z"
   },
   {
    "duration": 7,
    "start_time": "2022-10-25T22:50:09.678Z"
   },
   {
    "duration": 381,
    "start_time": "2022-10-26T12:41:45.940Z"
   },
   {
    "duration": 249,
    "start_time": "2022-10-26T12:41:46.323Z"
   },
   {
    "duration": 8,
    "start_time": "2022-10-26T12:41:46.573Z"
   },
   {
    "duration": 30,
    "start_time": "2022-10-26T12:41:46.583Z"
   },
   {
    "duration": 2,
    "start_time": "2022-10-26T12:41:46.614Z"
   },
   {
    "duration": 4,
    "start_time": "2022-10-26T12:41:46.618Z"
   },
   {
    "duration": 16,
    "start_time": "2022-10-26T12:41:46.623Z"
   },
   {
    "duration": 10,
    "start_time": "2022-10-26T12:41:46.641Z"
   },
   {
    "duration": 25,
    "start_time": "2022-10-26T12:41:46.652Z"
   },
   {
    "duration": 14,
    "start_time": "2022-10-26T12:41:46.680Z"
   },
   {
    "duration": 29,
    "start_time": "2022-10-26T12:41:46.696Z"
   },
   {
    "duration": 62,
    "start_time": "2022-10-26T12:41:46.727Z"
   },
   {
    "duration": 80,
    "start_time": "2022-10-26T12:41:46.791Z"
   },
   {
    "duration": 71,
    "start_time": "2022-10-26T12:41:46.872Z"
   },
   {
    "duration": 38,
    "start_time": "2022-10-26T12:41:46.945Z"
   },
   {
    "duration": 28,
    "start_time": "2022-10-26T12:41:46.985Z"
   },
   {
    "duration": 34,
    "start_time": "2022-10-26T12:41:47.014Z"
   },
   {
    "duration": 2,
    "start_time": "2022-10-26T12:41:47.050Z"
   },
   {
    "duration": 5,
    "start_time": "2022-10-26T12:41:47.054Z"
   },
   {
    "duration": 5,
    "start_time": "2022-10-26T12:41:47.060Z"
   },
   {
    "duration": 4,
    "start_time": "2022-10-26T12:41:47.067Z"
   },
   {
    "duration": 5,
    "start_time": "2022-10-26T12:41:47.074Z"
   },
   {
    "duration": 5,
    "start_time": "2022-10-26T12:41:47.080Z"
   },
   {
    "duration": 3,
    "start_time": "2022-10-26T12:41:47.108Z"
   },
   {
    "duration": 3,
    "start_time": "2022-10-26T12:41:47.113Z"
   },
   {
    "duration": 5,
    "start_time": "2022-10-26T12:41:47.118Z"
   },
   {
    "duration": 4,
    "start_time": "2022-10-26T12:41:47.125Z"
   },
   {
    "duration": 2,
    "start_time": "2022-10-26T12:41:47.133Z"
   },
   {
    "duration": 5,
    "start_time": "2022-10-26T12:41:47.137Z"
   },
   {
    "duration": 45,
    "start_time": "2022-10-26T12:41:47.144Z"
   },
   {
    "duration": 1,
    "start_time": "2022-10-26T12:41:47.190Z"
   },
   {
    "duration": 0,
    "start_time": "2022-10-26T12:41:47.192Z"
   },
   {
    "duration": 0,
    "start_time": "2022-10-26T12:41:47.193Z"
   },
   {
    "duration": 0,
    "start_time": "2022-10-26T12:41:47.194Z"
   },
   {
    "duration": 0,
    "start_time": "2022-10-26T12:41:47.195Z"
   },
   {
    "duration": 0,
    "start_time": "2022-10-26T12:41:47.196Z"
   },
   {
    "duration": 0,
    "start_time": "2022-10-26T12:41:47.198Z"
   },
   {
    "duration": 1,
    "start_time": "2022-10-26T12:41:47.199Z"
   },
   {
    "duration": 35,
    "start_time": "2022-10-26T12:41:59.248Z"
   },
   {
    "duration": 4,
    "start_time": "2022-10-26T12:43:29.713Z"
   },
   {
    "duration": 9,
    "start_time": "2022-10-26T12:43:39.328Z"
   },
   {
    "duration": 41,
    "start_time": "2022-10-26T12:44:49.760Z"
   },
   {
    "duration": 46,
    "start_time": "2022-10-26T17:44:23.765Z"
   },
   {
    "duration": 6,
    "start_time": "2022-10-26T17:44:46.928Z"
   },
   {
    "duration": 6,
    "start_time": "2022-10-26T17:45:17.679Z"
   },
   {
    "duration": 394,
    "start_time": "2022-10-26T17:45:29.005Z"
   },
   {
    "duration": 449,
    "start_time": "2022-10-26T17:45:29.400Z"
   },
   {
    "duration": 9,
    "start_time": "2022-10-26T17:45:29.850Z"
   },
   {
    "duration": 30,
    "start_time": "2022-10-26T17:45:29.861Z"
   },
   {
    "duration": 2,
    "start_time": "2022-10-26T17:45:29.892Z"
   },
   {
    "duration": 4,
    "start_time": "2022-10-26T17:45:29.896Z"
   },
   {
    "duration": 14,
    "start_time": "2022-10-26T17:45:29.902Z"
   },
   {
    "duration": 5,
    "start_time": "2022-10-26T17:45:29.917Z"
   },
   {
    "duration": 28,
    "start_time": "2022-10-26T17:45:29.923Z"
   },
   {
    "duration": 44,
    "start_time": "2022-10-26T17:45:29.954Z"
   },
   {
    "duration": 24,
    "start_time": "2022-10-26T17:45:30.000Z"
   },
   {
    "duration": 86,
    "start_time": "2022-10-26T17:45:30.026Z"
   },
   {
    "duration": 79,
    "start_time": "2022-10-26T17:45:30.114Z"
   },
   {
    "duration": 64,
    "start_time": "2022-10-26T17:45:30.195Z"
   },
   {
    "duration": 53,
    "start_time": "2022-10-26T17:45:30.261Z"
   },
   {
    "duration": 11,
    "start_time": "2022-10-26T17:45:30.316Z"
   },
   {
    "duration": 46,
    "start_time": "2022-10-26T17:45:30.329Z"
   },
   {
    "duration": 83,
    "start_time": "2022-10-26T17:45:30.377Z"
   },
   {
    "duration": 0,
    "start_time": "2022-10-26T17:45:30.462Z"
   },
   {
    "duration": 0,
    "start_time": "2022-10-26T17:45:30.464Z"
   },
   {
    "duration": 0,
    "start_time": "2022-10-26T17:45:30.465Z"
   },
   {
    "duration": 0,
    "start_time": "2022-10-26T17:45:30.467Z"
   },
   {
    "duration": 0,
    "start_time": "2022-10-26T17:45:30.468Z"
   },
   {
    "duration": 0,
    "start_time": "2022-10-26T17:45:30.491Z"
   },
   {
    "duration": 0,
    "start_time": "2022-10-26T17:45:30.492Z"
   },
   {
    "duration": 0,
    "start_time": "2022-10-26T17:45:30.494Z"
   },
   {
    "duration": 0,
    "start_time": "2022-10-26T17:45:30.496Z"
   },
   {
    "duration": 0,
    "start_time": "2022-10-26T17:45:30.497Z"
   },
   {
    "duration": 0,
    "start_time": "2022-10-26T17:45:30.498Z"
   },
   {
    "duration": 0,
    "start_time": "2022-10-26T17:45:30.500Z"
   },
   {
    "duration": 0,
    "start_time": "2022-10-26T17:45:30.501Z"
   },
   {
    "duration": 0,
    "start_time": "2022-10-26T17:45:30.503Z"
   },
   {
    "duration": 0,
    "start_time": "2022-10-26T17:45:30.504Z"
   },
   {
    "duration": 0,
    "start_time": "2022-10-26T17:45:30.505Z"
   },
   {
    "duration": 0,
    "start_time": "2022-10-26T17:45:30.507Z"
   },
   {
    "duration": 1,
    "start_time": "2022-10-26T17:45:30.508Z"
   },
   {
    "duration": 0,
    "start_time": "2022-10-26T17:45:30.510Z"
   },
   {
    "duration": 0,
    "start_time": "2022-10-26T17:45:30.511Z"
   },
   {
    "duration": 9,
    "start_time": "2022-10-26T17:45:36.055Z"
   },
   {
    "duration": 9,
    "start_time": "2022-10-26T17:45:53.558Z"
   },
   {
    "duration": 29,
    "start_time": "2022-10-26T17:53:18.303Z"
   },
   {
    "duration": 37,
    "start_time": "2022-10-26T17:53:36.663Z"
   },
   {
    "duration": 29,
    "start_time": "2022-10-26T17:54:11.322Z"
   },
   {
    "duration": 30,
    "start_time": "2022-10-26T17:54:19.482Z"
   },
   {
    "duration": 11,
    "start_time": "2022-10-26T17:55:18.830Z"
   },
   {
    "duration": 391,
    "start_time": "2022-10-26T17:55:33.549Z"
   },
   {
    "duration": 177,
    "start_time": "2022-10-26T17:55:33.942Z"
   },
   {
    "duration": 9,
    "start_time": "2022-10-26T17:55:34.121Z"
   },
   {
    "duration": 30,
    "start_time": "2022-10-26T17:55:34.131Z"
   },
   {
    "duration": 4,
    "start_time": "2022-10-26T17:55:34.164Z"
   },
   {
    "duration": 4,
    "start_time": "2022-10-26T17:55:34.190Z"
   },
   {
    "duration": 14,
    "start_time": "2022-10-26T17:55:34.196Z"
   },
   {
    "duration": 4,
    "start_time": "2022-10-26T17:55:34.213Z"
   },
   {
    "duration": 45,
    "start_time": "2022-10-26T17:55:34.218Z"
   },
   {
    "duration": 25,
    "start_time": "2022-10-26T17:55:34.290Z"
   },
   {
    "duration": 32,
    "start_time": "2022-10-26T17:55:34.317Z"
   },
   {
    "duration": 106,
    "start_time": "2022-10-26T17:55:34.351Z"
   },
   {
    "duration": 118,
    "start_time": "2022-10-26T17:55:34.459Z"
   },
   {
    "duration": 81,
    "start_time": "2022-10-26T17:55:34.581Z"
   },
   {
    "duration": 46,
    "start_time": "2022-10-26T17:55:34.664Z"
   },
   {
    "duration": 15,
    "start_time": "2022-10-26T17:55:34.712Z"
   },
   {
    "duration": 62,
    "start_time": "2022-10-26T17:55:34.729Z"
   },
   {
    "duration": 14,
    "start_time": "2022-10-26T17:55:34.793Z"
   },
   {
    "duration": 3,
    "start_time": "2022-10-26T17:55:34.810Z"
   },
   {
    "duration": 5,
    "start_time": "2022-10-26T17:55:34.815Z"
   },
   {
    "duration": 7,
    "start_time": "2022-10-26T17:55:34.821Z"
   },
   {
    "duration": 4,
    "start_time": "2022-10-26T17:55:34.830Z"
   },
   {
    "duration": 7,
    "start_time": "2022-10-26T17:55:34.835Z"
   },
   {
    "duration": 5,
    "start_time": "2022-10-26T17:55:34.844Z"
   },
   {
    "duration": 6,
    "start_time": "2022-10-26T17:55:34.851Z"
   },
   {
    "duration": 3,
    "start_time": "2022-10-26T17:55:34.890Z"
   },
   {
    "duration": 6,
    "start_time": "2022-10-26T17:55:34.895Z"
   },
   {
    "duration": 5,
    "start_time": "2022-10-26T17:55:34.903Z"
   },
   {
    "duration": 9,
    "start_time": "2022-10-26T17:55:34.910Z"
   },
   {
    "duration": 82,
    "start_time": "2022-10-26T17:55:34.921Z"
   },
   {
    "duration": 0,
    "start_time": "2022-10-26T17:55:35.005Z"
   },
   {
    "duration": 0,
    "start_time": "2022-10-26T17:55:35.006Z"
   },
   {
    "duration": 0,
    "start_time": "2022-10-26T17:55:35.008Z"
   },
   {
    "duration": 0,
    "start_time": "2022-10-26T17:55:35.010Z"
   },
   {
    "duration": 0,
    "start_time": "2022-10-26T17:55:35.012Z"
   },
   {
    "duration": 0,
    "start_time": "2022-10-26T17:55:35.013Z"
   },
   {
    "duration": 0,
    "start_time": "2022-10-26T17:55:35.014Z"
   },
   {
    "duration": 0,
    "start_time": "2022-10-26T17:55:35.016Z"
   },
   {
    "duration": 19,
    "start_time": "2022-10-26T17:55:41.070Z"
   },
   {
    "duration": 12,
    "start_time": "2022-10-26T18:02:33.033Z"
   },
   {
    "duration": 11,
    "start_time": "2022-10-26T18:04:14.802Z"
   },
   {
    "duration": 11,
    "start_time": "2022-10-26T18:04:25.805Z"
   },
   {
    "duration": 11,
    "start_time": "2022-10-26T18:05:14.634Z"
   },
   {
    "duration": 13,
    "start_time": "2022-10-26T18:05:36.566Z"
   },
   {
    "duration": 14,
    "start_time": "2022-10-26T18:06:06.307Z"
   },
   {
    "duration": 350,
    "start_time": "2022-10-26T18:06:31.931Z"
   },
   {
    "duration": 164,
    "start_time": "2022-10-26T18:06:32.283Z"
   },
   {
    "duration": 8,
    "start_time": "2022-10-26T18:06:32.448Z"
   },
   {
    "duration": 39,
    "start_time": "2022-10-26T18:06:32.458Z"
   },
   {
    "duration": 3,
    "start_time": "2022-10-26T18:06:32.499Z"
   },
   {
    "duration": 6,
    "start_time": "2022-10-26T18:06:32.503Z"
   },
   {
    "duration": 16,
    "start_time": "2022-10-26T18:06:32.510Z"
   },
   {
    "duration": 5,
    "start_time": "2022-10-26T18:06:32.528Z"
   },
   {
    "duration": 29,
    "start_time": "2022-10-26T18:06:32.535Z"
   },
   {
    "duration": 37,
    "start_time": "2022-10-26T18:06:32.567Z"
   },
   {
    "duration": 22,
    "start_time": "2022-10-26T18:06:32.606Z"
   },
   {
    "duration": 83,
    "start_time": "2022-10-26T18:06:32.630Z"
   },
   {
    "duration": 77,
    "start_time": "2022-10-26T18:06:32.714Z"
   },
   {
    "duration": 62,
    "start_time": "2022-10-26T18:06:32.793Z"
   },
   {
    "duration": 51,
    "start_time": "2022-10-26T18:06:32.857Z"
   },
   {
    "duration": 9,
    "start_time": "2022-10-26T18:06:32.910Z"
   },
   {
    "duration": 35,
    "start_time": "2022-10-26T18:06:32.920Z"
   },
   {
    "duration": 34,
    "start_time": "2022-10-26T18:06:32.957Z"
   },
   {
    "duration": 9,
    "start_time": "2022-10-26T18:06:32.993Z"
   },
   {
    "duration": 4,
    "start_time": "2022-10-26T18:06:33.004Z"
   },
   {
    "duration": 12,
    "start_time": "2022-10-26T18:06:33.009Z"
   },
   {
    "duration": 4,
    "start_time": "2022-10-26T18:06:33.023Z"
   },
   {
    "duration": 4,
    "start_time": "2022-10-26T18:06:33.028Z"
   },
   {
    "duration": 10,
    "start_time": "2022-10-26T18:06:33.033Z"
   },
   {
    "duration": 14,
    "start_time": "2022-10-26T18:06:33.044Z"
   },
   {
    "duration": 6,
    "start_time": "2022-10-26T18:06:33.060Z"
   },
   {
    "duration": 7,
    "start_time": "2022-10-26T18:06:33.067Z"
   },
   {
    "duration": 4,
    "start_time": "2022-10-26T18:06:33.077Z"
   },
   {
    "duration": 8,
    "start_time": "2022-10-26T18:06:33.083Z"
   },
   {
    "duration": 94,
    "start_time": "2022-10-26T18:06:33.092Z"
   },
   {
    "duration": 1,
    "start_time": "2022-10-26T18:06:33.187Z"
   },
   {
    "duration": 0,
    "start_time": "2022-10-26T18:06:33.189Z"
   },
   {
    "duration": 0,
    "start_time": "2022-10-26T18:06:33.190Z"
   },
   {
    "duration": 0,
    "start_time": "2022-10-26T18:06:33.191Z"
   },
   {
    "duration": 0,
    "start_time": "2022-10-26T18:06:33.192Z"
   },
   {
    "duration": 0,
    "start_time": "2022-10-26T18:06:33.193Z"
   },
   {
    "duration": 0,
    "start_time": "2022-10-26T18:06:33.194Z"
   },
   {
    "duration": 0,
    "start_time": "2022-10-26T18:06:33.195Z"
   },
   {
    "duration": 9,
    "start_time": "2022-10-26T18:06:40.865Z"
   },
   {
    "duration": 71,
    "start_time": "2022-10-26T18:27:41.823Z"
   },
   {
    "duration": 427,
    "start_time": "2022-10-26T18:28:05.461Z"
   },
   {
    "duration": 175,
    "start_time": "2022-10-26T18:28:05.890Z"
   },
   {
    "duration": 9,
    "start_time": "2022-10-26T18:28:06.067Z"
   },
   {
    "duration": 36,
    "start_time": "2022-10-26T18:28:06.078Z"
   },
   {
    "duration": 2,
    "start_time": "2022-10-26T18:28:06.116Z"
   },
   {
    "duration": 9,
    "start_time": "2022-10-26T18:28:06.119Z"
   },
   {
    "duration": 14,
    "start_time": "2022-10-26T18:28:06.129Z"
   },
   {
    "duration": 5,
    "start_time": "2022-10-26T18:28:06.144Z"
   },
   {
    "duration": 44,
    "start_time": "2022-10-26T18:28:06.151Z"
   },
   {
    "duration": 20,
    "start_time": "2022-10-26T18:28:06.198Z"
   },
   {
    "duration": 21,
    "start_time": "2022-10-26T18:28:06.220Z"
   },
   {
    "duration": 89,
    "start_time": "2022-10-26T18:28:06.242Z"
   },
   {
    "duration": 68,
    "start_time": "2022-10-26T18:28:06.332Z"
   },
   {
    "duration": 61,
    "start_time": "2022-10-26T18:28:06.402Z"
   },
   {
    "duration": 52,
    "start_time": "2022-10-26T18:28:06.465Z"
   },
   {
    "duration": 10,
    "start_time": "2022-10-26T18:28:06.519Z"
   },
   {
    "duration": 44,
    "start_time": "2022-10-26T18:28:06.530Z"
   },
   {
    "duration": 26,
    "start_time": "2022-10-26T18:28:06.576Z"
   },
   {
    "duration": 12,
    "start_time": "2022-10-26T18:28:06.604Z"
   },
   {
    "duration": 75,
    "start_time": "2022-10-26T18:28:06.618Z"
   },
   {
    "duration": 0,
    "start_time": "2022-10-26T18:28:06.695Z"
   },
   {
    "duration": 0,
    "start_time": "2022-10-26T18:28:06.698Z"
   },
   {
    "duration": 0,
    "start_time": "2022-10-26T18:28:06.700Z"
   },
   {
    "duration": 0,
    "start_time": "2022-10-26T18:28:06.701Z"
   },
   {
    "duration": 0,
    "start_time": "2022-10-26T18:28:06.702Z"
   },
   {
    "duration": 0,
    "start_time": "2022-10-26T18:28:06.704Z"
   },
   {
    "duration": 0,
    "start_time": "2022-10-26T18:28:06.705Z"
   },
   {
    "duration": 0,
    "start_time": "2022-10-26T18:28:06.706Z"
   },
   {
    "duration": 0,
    "start_time": "2022-10-26T18:28:06.707Z"
   },
   {
    "duration": 0,
    "start_time": "2022-10-26T18:28:06.709Z"
   },
   {
    "duration": 0,
    "start_time": "2022-10-26T18:28:06.710Z"
   },
   {
    "duration": 0,
    "start_time": "2022-10-26T18:28:06.711Z"
   },
   {
    "duration": 0,
    "start_time": "2022-10-26T18:28:06.713Z"
   },
   {
    "duration": 0,
    "start_time": "2022-10-26T18:28:06.714Z"
   },
   {
    "duration": 0,
    "start_time": "2022-10-26T18:28:06.715Z"
   },
   {
    "duration": 0,
    "start_time": "2022-10-26T18:28:06.717Z"
   },
   {
    "duration": 0,
    "start_time": "2022-10-26T18:28:06.718Z"
   },
   {
    "duration": 0,
    "start_time": "2022-10-26T18:28:06.719Z"
   },
   {
    "duration": 69,
    "start_time": "2022-10-26T18:28:14.697Z"
   },
   {
    "duration": 70,
    "start_time": "2022-10-26T18:28:45.311Z"
   },
   {
    "duration": 70,
    "start_time": "2022-10-26T18:29:36.884Z"
   },
   {
    "duration": 358,
    "start_time": "2022-10-26T18:33:56.943Z"
   },
   {
    "duration": 172,
    "start_time": "2022-10-26T18:33:57.303Z"
   },
   {
    "duration": 16,
    "start_time": "2022-10-26T18:33:57.476Z"
   },
   {
    "duration": 27,
    "start_time": "2022-10-26T18:33:57.494Z"
   },
   {
    "duration": 2,
    "start_time": "2022-10-26T18:33:57.523Z"
   },
   {
    "duration": 6,
    "start_time": "2022-10-26T18:33:57.526Z"
   },
   {
    "duration": 19,
    "start_time": "2022-10-26T18:33:57.534Z"
   },
   {
    "duration": 5,
    "start_time": "2022-10-26T18:33:57.555Z"
   },
   {
    "duration": 51,
    "start_time": "2022-10-26T18:33:57.562Z"
   },
   {
    "duration": 17,
    "start_time": "2022-10-26T18:33:57.617Z"
   },
   {
    "duration": 22,
    "start_time": "2022-10-26T18:33:57.635Z"
   },
   {
    "duration": 91,
    "start_time": "2022-10-26T18:33:57.659Z"
   },
   {
    "duration": 79,
    "start_time": "2022-10-26T18:33:57.752Z"
   },
   {
    "duration": 62,
    "start_time": "2022-10-26T18:33:57.833Z"
   },
   {
    "duration": 32,
    "start_time": "2022-10-26T18:33:57.897Z"
   },
   {
    "duration": 10,
    "start_time": "2022-10-26T18:33:57.931Z"
   },
   {
    "duration": 56,
    "start_time": "2022-10-26T18:33:57.943Z"
   },
   {
    "duration": 12,
    "start_time": "2022-10-26T18:33:58.000Z"
   },
   {
    "duration": 15,
    "start_time": "2022-10-26T18:33:58.014Z"
   },
   {
    "duration": 71,
    "start_time": "2022-10-26T18:33:58.031Z"
   },
   {
    "duration": 0,
    "start_time": "2022-10-26T18:33:58.104Z"
   },
   {
    "duration": 0,
    "start_time": "2022-10-26T18:33:58.105Z"
   },
   {
    "duration": 0,
    "start_time": "2022-10-26T18:33:58.108Z"
   },
   {
    "duration": 0,
    "start_time": "2022-10-26T18:33:58.109Z"
   },
   {
    "duration": 0,
    "start_time": "2022-10-26T18:33:58.110Z"
   },
   {
    "duration": 0,
    "start_time": "2022-10-26T18:33:58.112Z"
   },
   {
    "duration": 0,
    "start_time": "2022-10-26T18:33:58.113Z"
   },
   {
    "duration": 0,
    "start_time": "2022-10-26T18:33:58.114Z"
   },
   {
    "duration": 0,
    "start_time": "2022-10-26T18:33:58.115Z"
   },
   {
    "duration": 0,
    "start_time": "2022-10-26T18:33:58.117Z"
   },
   {
    "duration": 0,
    "start_time": "2022-10-26T18:33:58.118Z"
   },
   {
    "duration": 0,
    "start_time": "2022-10-26T18:33:58.120Z"
   },
   {
    "duration": 0,
    "start_time": "2022-10-26T18:33:58.121Z"
   },
   {
    "duration": 0,
    "start_time": "2022-10-26T18:33:58.122Z"
   },
   {
    "duration": 0,
    "start_time": "2022-10-26T18:33:58.123Z"
   },
   {
    "duration": 0,
    "start_time": "2022-10-26T18:33:58.125Z"
   },
   {
    "duration": 0,
    "start_time": "2022-10-26T18:33:58.125Z"
   },
   {
    "duration": 0,
    "start_time": "2022-10-26T18:33:58.126Z"
   },
   {
    "duration": 68,
    "start_time": "2022-10-26T18:34:12.926Z"
   },
   {
    "duration": 4,
    "start_time": "2022-10-26T18:35:31.977Z"
   },
   {
    "duration": 4,
    "start_time": "2022-10-26T18:40:41.328Z"
   },
   {
    "duration": 424,
    "start_time": "2022-10-26T18:41:17.781Z"
   },
   {
    "duration": 165,
    "start_time": "2022-10-26T18:41:18.207Z"
   },
   {
    "duration": 18,
    "start_time": "2022-10-26T18:41:18.374Z"
   },
   {
    "duration": 31,
    "start_time": "2022-10-26T18:41:18.394Z"
   },
   {
    "duration": 3,
    "start_time": "2022-10-26T18:41:18.427Z"
   },
   {
    "duration": 4,
    "start_time": "2022-10-26T18:41:18.432Z"
   },
   {
    "duration": 16,
    "start_time": "2022-10-26T18:41:18.438Z"
   },
   {
    "duration": 5,
    "start_time": "2022-10-26T18:41:18.456Z"
   },
   {
    "duration": 29,
    "start_time": "2022-10-26T18:41:18.491Z"
   },
   {
    "duration": 20,
    "start_time": "2022-10-26T18:41:18.523Z"
   },
   {
    "duration": 23,
    "start_time": "2022-10-26T18:41:18.544Z"
   },
   {
    "duration": 75,
    "start_time": "2022-10-26T18:41:18.590Z"
   },
   {
    "duration": 77,
    "start_time": "2022-10-26T18:41:18.667Z"
   },
   {
    "duration": 68,
    "start_time": "2022-10-26T18:41:18.746Z"
   },
   {
    "duration": 43,
    "start_time": "2022-10-26T18:41:18.817Z"
   },
   {
    "duration": 10,
    "start_time": "2022-10-26T18:41:18.861Z"
   },
   {
    "duration": 34,
    "start_time": "2022-10-26T18:41:18.890Z"
   },
   {
    "duration": 10,
    "start_time": "2022-10-26T18:41:18.926Z"
   },
   {
    "duration": 10,
    "start_time": "2022-10-26T18:41:18.938Z"
   },
   {
    "duration": 5,
    "start_time": "2022-10-26T18:41:18.950Z"
   },
   {
    "duration": 47,
    "start_time": "2022-10-26T18:41:18.957Z"
   },
   {
    "duration": 16,
    "start_time": "2022-10-26T18:41:19.006Z"
   },
   {
    "duration": 15,
    "start_time": "2022-10-26T18:41:19.024Z"
   },
   {
    "duration": 19,
    "start_time": "2022-10-26T18:41:19.041Z"
   },
   {
    "duration": 44,
    "start_time": "2022-10-26T18:41:19.063Z"
   },
   {
    "duration": 24,
    "start_time": "2022-10-26T18:41:19.109Z"
   },
   {
    "duration": 21,
    "start_time": "2022-10-26T18:41:19.135Z"
   },
   {
    "duration": 26,
    "start_time": "2022-10-26T18:41:19.160Z"
   },
   {
    "duration": 14,
    "start_time": "2022-10-26T18:41:19.188Z"
   },
   {
    "duration": 95,
    "start_time": "2022-10-26T18:41:19.204Z"
   },
   {
    "duration": 0,
    "start_time": "2022-10-26T18:41:19.301Z"
   },
   {
    "duration": 0,
    "start_time": "2022-10-26T18:41:19.302Z"
   },
   {
    "duration": 0,
    "start_time": "2022-10-26T18:41:19.303Z"
   },
   {
    "duration": 0,
    "start_time": "2022-10-26T18:41:19.305Z"
   },
   {
    "duration": 0,
    "start_time": "2022-10-26T18:41:19.306Z"
   },
   {
    "duration": 0,
    "start_time": "2022-10-26T18:41:19.307Z"
   },
   {
    "duration": 0,
    "start_time": "2022-10-26T18:41:19.309Z"
   },
   {
    "duration": 0,
    "start_time": "2022-10-26T18:41:19.310Z"
   },
   {
    "duration": 4,
    "start_time": "2022-10-26T18:41:29.719Z"
   },
   {
    "duration": 3,
    "start_time": "2022-10-26T18:41:59.061Z"
   },
   {
    "duration": 10,
    "start_time": "2022-10-26T18:48:18.675Z"
   },
   {
    "duration": 374,
    "start_time": "2022-10-26T18:48:47.806Z"
   },
   {
    "duration": 168,
    "start_time": "2022-10-26T18:48:48.182Z"
   },
   {
    "duration": 8,
    "start_time": "2022-10-26T18:48:48.352Z"
   },
   {
    "duration": 38,
    "start_time": "2022-10-26T18:48:48.362Z"
   },
   {
    "duration": 2,
    "start_time": "2022-10-26T18:48:48.402Z"
   },
   {
    "duration": 5,
    "start_time": "2022-10-26T18:48:48.405Z"
   },
   {
    "duration": 15,
    "start_time": "2022-10-26T18:48:48.412Z"
   },
   {
    "duration": 4,
    "start_time": "2022-10-26T18:48:48.429Z"
   },
   {
    "duration": 29,
    "start_time": "2022-10-26T18:48:48.435Z"
   },
   {
    "duration": 18,
    "start_time": "2022-10-26T18:48:48.490Z"
   },
   {
    "duration": 21,
    "start_time": "2022-10-26T18:48:48.509Z"
   },
   {
    "duration": 78,
    "start_time": "2022-10-26T18:48:48.531Z"
   },
   {
    "duration": 80,
    "start_time": "2022-10-26T18:48:48.611Z"
   },
   {
    "duration": 60,
    "start_time": "2022-10-26T18:48:48.693Z"
   },
   {
    "duration": 50,
    "start_time": "2022-10-26T18:48:48.755Z"
   },
   {
    "duration": 9,
    "start_time": "2022-10-26T18:48:48.807Z"
   },
   {
    "duration": 38,
    "start_time": "2022-10-26T18:48:48.818Z"
   },
   {
    "duration": 11,
    "start_time": "2022-10-26T18:48:48.857Z"
   },
   {
    "duration": 25,
    "start_time": "2022-10-26T18:48:48.869Z"
   },
   {
    "duration": 4,
    "start_time": "2022-10-26T18:48:48.895Z"
   },
   {
    "duration": 19,
    "start_time": "2022-10-26T18:48:48.901Z"
   },
   {
    "duration": 13,
    "start_time": "2022-10-26T18:48:48.922Z"
   },
   {
    "duration": 14,
    "start_time": "2022-10-26T18:48:48.936Z"
   },
   {
    "duration": 40,
    "start_time": "2022-10-26T18:48:48.951Z"
   },
   {
    "duration": 16,
    "start_time": "2022-10-26T18:48:48.993Z"
   },
   {
    "duration": 14,
    "start_time": "2022-10-26T18:48:49.011Z"
   },
   {
    "duration": 11,
    "start_time": "2022-10-26T18:48:49.027Z"
   },
   {
    "duration": 2,
    "start_time": "2022-10-26T18:48:49.041Z"
   },
   {
    "duration": 3,
    "start_time": "2022-10-26T18:48:49.045Z"
   },
   {
    "duration": 69,
    "start_time": "2022-10-26T18:48:49.050Z"
   },
   {
    "duration": 0,
    "start_time": "2022-10-26T18:48:49.121Z"
   },
   {
    "duration": 0,
    "start_time": "2022-10-26T18:48:49.123Z"
   },
   {
    "duration": 0,
    "start_time": "2022-10-26T18:48:49.124Z"
   },
   {
    "duration": 0,
    "start_time": "2022-10-26T18:48:49.126Z"
   },
   {
    "duration": 0,
    "start_time": "2022-10-26T18:48:49.128Z"
   },
   {
    "duration": 0,
    "start_time": "2022-10-26T18:48:49.129Z"
   },
   {
    "duration": 0,
    "start_time": "2022-10-26T18:48:49.130Z"
   },
   {
    "duration": 0,
    "start_time": "2022-10-26T18:48:49.132Z"
   },
   {
    "duration": 9,
    "start_time": "2022-10-26T18:48:55.897Z"
   },
   {
    "duration": 8,
    "start_time": "2022-10-26T18:52:17.464Z"
   },
   {
    "duration": 15,
    "start_time": "2022-10-26T18:52:28.604Z"
   },
   {
    "duration": 68,
    "start_time": "2022-10-26T19:15:22.837Z"
   },
   {
    "duration": 79,
    "start_time": "2022-10-26T19:26:48.592Z"
   },
   {
    "duration": 421,
    "start_time": "2022-10-26T19:27:31.871Z"
   },
   {
    "duration": 165,
    "start_time": "2022-10-26T19:27:32.294Z"
   },
   {
    "duration": 7,
    "start_time": "2022-10-26T19:27:32.461Z"
   },
   {
    "duration": 34,
    "start_time": "2022-10-26T19:27:32.470Z"
   },
   {
    "duration": 2,
    "start_time": "2022-10-26T19:27:32.505Z"
   },
   {
    "duration": 5,
    "start_time": "2022-10-26T19:27:32.509Z"
   },
   {
    "duration": 15,
    "start_time": "2022-10-26T19:27:32.515Z"
   },
   {
    "duration": 4,
    "start_time": "2022-10-26T19:27:32.532Z"
   },
   {
    "duration": 28,
    "start_time": "2022-10-26T19:27:32.538Z"
   },
   {
    "duration": 39,
    "start_time": "2022-10-26T19:27:32.568Z"
   },
   {
    "duration": 22,
    "start_time": "2022-10-26T19:27:32.609Z"
   },
   {
    "duration": 83,
    "start_time": "2022-10-26T19:27:32.632Z"
   },
   {
    "duration": 75,
    "start_time": "2022-10-26T19:27:32.716Z"
   },
   {
    "duration": 59,
    "start_time": "2022-10-26T19:27:32.792Z"
   },
   {
    "duration": 45,
    "start_time": "2022-10-26T19:27:32.853Z"
   },
   {
    "duration": 9,
    "start_time": "2022-10-26T19:27:32.900Z"
   },
   {
    "duration": 33,
    "start_time": "2022-10-26T19:27:32.911Z"
   },
   {
    "duration": 11,
    "start_time": "2022-10-26T19:27:32.945Z"
   },
   {
    "duration": 34,
    "start_time": "2022-10-26T19:27:32.957Z"
   },
   {
    "duration": 4,
    "start_time": "2022-10-26T19:27:32.993Z"
   },
   {
    "duration": 18,
    "start_time": "2022-10-26T19:27:32.999Z"
   },
   {
    "duration": 12,
    "start_time": "2022-10-26T19:27:33.019Z"
   },
   {
    "duration": 12,
    "start_time": "2022-10-26T19:27:33.033Z"
   },
   {
    "duration": 13,
    "start_time": "2022-10-26T19:27:33.047Z"
   },
   {
    "duration": 17,
    "start_time": "2022-10-26T19:27:33.091Z"
   },
   {
    "duration": 14,
    "start_time": "2022-10-26T19:27:33.110Z"
   },
   {
    "duration": 10,
    "start_time": "2022-10-26T19:27:33.126Z"
   },
   {
    "duration": 18,
    "start_time": "2022-10-26T19:27:33.139Z"
   },
   {
    "duration": 3,
    "start_time": "2022-10-26T19:27:33.158Z"
   },
   {
    "duration": 70,
    "start_time": "2022-10-26T19:27:33.192Z"
   },
   {
    "duration": 0,
    "start_time": "2022-10-26T19:27:33.263Z"
   },
   {
    "duration": 0,
    "start_time": "2022-10-26T19:27:33.264Z"
   },
   {
    "duration": 0,
    "start_time": "2022-10-26T19:27:33.265Z"
   },
   {
    "duration": 0,
    "start_time": "2022-10-26T19:27:33.266Z"
   },
   {
    "duration": 0,
    "start_time": "2022-10-26T19:27:33.267Z"
   },
   {
    "duration": 0,
    "start_time": "2022-10-26T19:27:33.268Z"
   },
   {
    "duration": 0,
    "start_time": "2022-10-26T19:27:33.268Z"
   },
   {
    "duration": 0,
    "start_time": "2022-10-26T19:27:33.269Z"
   },
   {
    "duration": 74,
    "start_time": "2022-10-26T19:27:40.052Z"
   },
   {
    "duration": 112,
    "start_time": "2022-10-26T19:35:11.933Z"
   },
   {
    "duration": 75,
    "start_time": "2022-10-26T19:35:28.142Z"
   },
   {
    "duration": 68,
    "start_time": "2022-10-26T19:35:32.493Z"
   },
   {
    "duration": 74,
    "start_time": "2022-10-26T19:37:09.876Z"
   },
   {
    "duration": 74,
    "start_time": "2022-10-26T19:37:15.616Z"
   },
   {
    "duration": 74,
    "start_time": "2022-10-26T19:38:17.591Z"
   },
   {
    "duration": 4,
    "start_time": "2022-10-26T19:40:02.803Z"
   },
   {
    "duration": 18,
    "start_time": "2022-10-26T19:45:13.846Z"
   },
   {
    "duration": 11,
    "start_time": "2022-10-26T19:45:15.892Z"
   },
   {
    "duration": 19,
    "start_time": "2022-10-26T19:45:17.988Z"
   },
   {
    "duration": 13,
    "start_time": "2022-10-26T19:45:23.398Z"
   },
   {
    "duration": 80,
    "start_time": "2022-10-26T19:50:35.111Z"
   },
   {
    "duration": 8,
    "start_time": "2022-10-26T19:52:58.843Z"
   },
   {
    "duration": 467,
    "start_time": "2023-07-17T05:44:00.036Z"
   },
   {
    "duration": 479,
    "start_time": "2023-07-17T05:44:00.506Z"
   },
   {
    "duration": 10,
    "start_time": "2023-07-17T05:44:00.987Z"
   },
   {
    "duration": 47,
    "start_time": "2023-07-17T05:44:00.999Z"
   },
   {
    "duration": 30,
    "start_time": "2023-07-17T05:44:01.048Z"
   },
   {
    "duration": 24,
    "start_time": "2023-07-17T05:44:01.080Z"
   },
   {
    "duration": 51,
    "start_time": "2023-07-17T05:44:01.106Z"
   },
   {
    "duration": 45,
    "start_time": "2023-07-17T05:44:01.159Z"
   },
   {
    "duration": 59,
    "start_time": "2023-07-17T05:44:01.205Z"
   },
   {
    "duration": 42,
    "start_time": "2023-07-17T05:44:01.265Z"
   },
   {
    "duration": 75,
    "start_time": "2023-07-17T05:44:01.309Z"
   },
   {
    "duration": 111,
    "start_time": "2023-07-17T05:44:01.386Z"
   },
   {
    "duration": 83,
    "start_time": "2023-07-17T05:44:01.498Z"
   },
   {
    "duration": 71,
    "start_time": "2023-07-17T05:44:01.584Z"
   },
   {
    "duration": 38,
    "start_time": "2023-07-17T05:44:01.667Z"
   },
   {
    "duration": 15,
    "start_time": "2023-07-17T05:44:01.707Z"
   },
   {
    "duration": 98,
    "start_time": "2023-07-17T05:44:01.724Z"
   },
   {
    "duration": 100,
    "start_time": "2023-07-17T05:44:01.825Z"
   },
   {
    "duration": 78,
    "start_time": "2023-07-17T05:44:01.928Z"
   },
   {
    "duration": 27,
    "start_time": "2023-07-17T05:44:02.008Z"
   },
   {
    "duration": 127,
    "start_time": "2023-07-17T05:44:02.038Z"
   },
   {
    "duration": 81,
    "start_time": "2023-07-17T05:44:02.168Z"
   },
   {
    "duration": 60,
    "start_time": "2023-07-17T05:44:02.251Z"
   },
   {
    "duration": 80,
    "start_time": "2023-07-17T05:44:02.313Z"
   },
   {
    "duration": 50,
    "start_time": "2023-07-17T05:44:02.395Z"
   },
   {
    "duration": 37,
    "start_time": "2023-07-17T05:44:02.447Z"
   },
   {
    "duration": 38,
    "start_time": "2023-07-17T05:44:02.486Z"
   },
   {
    "duration": 117,
    "start_time": "2023-07-17T05:44:02.526Z"
   },
   {
    "duration": 48,
    "start_time": "2023-07-17T05:44:02.648Z"
   },
   {
    "duration": 65,
    "start_time": "2023-07-17T05:44:02.698Z"
   },
   {
    "duration": 124,
    "start_time": "2023-07-17T05:44:02.765Z"
   },
   {
    "duration": 59,
    "start_time": "2023-07-17T05:44:02.891Z"
   },
   {
    "duration": 48,
    "start_time": "2023-07-17T05:44:02.952Z"
   },
   {
    "duration": 33,
    "start_time": "2023-07-17T05:44:03.001Z"
   },
   {
    "duration": 15,
    "start_time": "2023-07-17T05:44:03.036Z"
   },
   {
    "duration": 19,
    "start_time": "2023-07-17T05:44:03.053Z"
   },
   {
    "duration": 13,
    "start_time": "2023-07-17T05:44:03.074Z"
   },
   {
    "duration": 34,
    "start_time": "2023-07-17T05:44:03.088Z"
   }
  ],
  "colab": {
   "collapsed_sections": [
    "E0vqbgi9ay0H",
    "VUC88oWjTJw2"
   ],
   "name": "automatization_template_upd4.ipynb",
   "provenance": []
  },
  "kernelspec": {
   "display_name": "Python 3 (ipykernel)",
   "language": "python",
   "name": "python3"
  },
  "language_info": {
   "codemirror_mode": {
    "name": "ipython",
    "version": 3
   },
   "file_extension": ".py",
   "mimetype": "text/x-python",
   "name": "python",
   "nbconvert_exporter": "python",
   "pygments_lexer": "ipython3",
   "version": "3.9.5"
  },
  "toc": {
   "base_numbering": 1,
   "nav_menu": {
    "height": "215px",
    "width": "403px"
   },
   "number_sections": true,
   "sideBar": true,
   "skip_h1_title": true,
   "title_cell": "Table of Contents",
   "title_sidebar": "Contents",
   "toc_cell": false,
   "toc_position": {
    "height": "calc(100% - 180px)",
    "left": "10px",
    "top": "150px",
    "width": "285.825px"
   },
   "toc_section_display": true,
   "toc_window_display": false
  }
 },
 "nbformat": 4,
 "nbformat_minor": 1
}
