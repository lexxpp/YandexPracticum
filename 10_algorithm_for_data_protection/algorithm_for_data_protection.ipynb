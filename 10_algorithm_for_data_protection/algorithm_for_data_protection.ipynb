{
 "cells": [
  {
   "cell_type": "markdown",
   "metadata": {
    "toc": true
   },
   "source": [
    "<h1>Содержание<span class=\"tocSkip\"></span></h1>\n",
    "<div class=\"toc\"><ul class=\"toc-item\"><li><span><a href=\"#Загрузка-данных\" data-toc-modified-id=\"Загрузка-данных-1\"><span class=\"toc-item-num\">1&nbsp;&nbsp;</span>Загрузка данных</a></span></li><li><span><a href=\"#Умножение-матриц\" data-toc-modified-id=\"Умножение-матриц-2\"><span class=\"toc-item-num\">2&nbsp;&nbsp;</span>Умножение матриц</a></span></li><li><span><a href=\"#Алгоритм-преобразования\" data-toc-modified-id=\"Алгоритм-преобразования-3\"><span class=\"toc-item-num\">3&nbsp;&nbsp;</span>Алгоритм преобразования</a></span></li><li><span><a href=\"#Проверка-алгоритма\" data-toc-modified-id=\"Проверка-алгоритма-4\"><span class=\"toc-item-num\">4&nbsp;&nbsp;</span>Проверка алгоритма</a></span></li><li><span><a href=\"#Общий-вывод\" data-toc-modified-id=\"Общий-вывод-5\"><span class=\"toc-item-num\">5&nbsp;&nbsp;</span>Общий вывод</a></span></li><li><span><a href=\"#Чек-лист-проверки\" data-toc-modified-id=\"Чек-лист-проверки-6\"><span class=\"toc-item-num\">6&nbsp;&nbsp;</span>Чек-лист проверки</a></span></li></ul></div>"
   ]
  },
  {
   "cell_type": "markdown",
   "metadata": {},
   "source": [
    "# Защита персональных данных клиентов"
   ]
  },
  {
   "cell_type": "markdown",
   "metadata": {},
   "source": [
    "Необходимо защитить данные клиентов страховой компании «Хоть потоп». Нужно разработать такой метод преобразования данных, чтобы по ним было сложно восстановить персональную информацию и обосновать корректность его работы.\n",
    "\n",
    "Нужно защитить данные, чтобы при преобразовании качество моделей машинного обучения не ухудшилось. Подбирать наилучшую модель не требуется."
   ]
  },
  {
   "cell_type": "markdown",
   "metadata": {},
   "source": [
    "## Загрузка данных"
   ]
  },
  {
   "cell_type": "code",
   "execution_count": 1,
   "metadata": {},
   "outputs": [],
   "source": [
    "import pandas as pd\n",
    "import seaborn as sns\n",
    "import matplotlib.pyplot as plt\n",
    "import numpy as np\n",
    "from sklearn.preprocessing import StandardScaler\n",
    "from sklearn.metrics import r2_score, mean_squared_error\n",
    "from sklearn.linear_model import LinearRegression\n",
    "\n",
    "import warnings\n",
    "warnings.filterwarnings(\"ignore\")"
   ]
  },
  {
   "cell_type": "code",
   "execution_count": 2,
   "metadata": {},
   "outputs": [],
   "source": [
    "df = pd.read_csv('/datasets/insurance.csv')"
   ]
  },
  {
   "cell_type": "code",
   "execution_count": 3,
   "metadata": {},
   "outputs": [],
   "source": [
    "def status(data):\n",
    "\n",
    "    print(data.head())\n",
    "    print()\n",
    "    print('Информация о датасете: ')\n",
    "    print(data.info())\n",
    "    print('------------------------')\n",
    "    print('Количество пропусков в данных')\n",
    "    print(data.isna().sum())\n",
    "    print('------------------------')\n",
    "    print('Количество дупликатов в данных:', data.duplicated().sum())\n",
    "    print('------------------------')\n",
    "    print(data.describe())"
   ]
  },
  {
   "cell_type": "code",
   "execution_count": 4,
   "metadata": {},
   "outputs": [
    {
     "name": "stdout",
     "output_type": "stream",
     "text": [
      "   Пол  Возраст  Зарплата  Члены семьи  Страховые выплаты\n",
      "0    1     41.0   49600.0            1                  0\n",
      "1    0     46.0   38000.0            1                  1\n",
      "2    0     29.0   21000.0            0                  0\n",
      "3    0     21.0   41700.0            2                  0\n",
      "4    1     28.0   26100.0            0                  0\n",
      "\n",
      "Информация о датасете: \n",
      "<class 'pandas.core.frame.DataFrame'>\n",
      "RangeIndex: 5000 entries, 0 to 4999\n",
      "Data columns (total 5 columns):\n",
      " #   Column             Non-Null Count  Dtype  \n",
      "---  ------             --------------  -----  \n",
      " 0   Пол                5000 non-null   int64  \n",
      " 1   Возраст            5000 non-null   float64\n",
      " 2   Зарплата           5000 non-null   float64\n",
      " 3   Члены семьи        5000 non-null   int64  \n",
      " 4   Страховые выплаты  5000 non-null   int64  \n",
      "dtypes: float64(2), int64(3)\n",
      "memory usage: 195.4 KB\n",
      "None\n",
      "------------------------\n",
      "Количество пропусков в данных\n",
      "Пол                  0\n",
      "Возраст              0\n",
      "Зарплата             0\n",
      "Члены семьи          0\n",
      "Страховые выплаты    0\n",
      "dtype: int64\n",
      "------------------------\n",
      "Количество дупликатов в данных: 153\n",
      "------------------------\n",
      "               Пол      Возраст      Зарплата  Члены семьи  Страховые выплаты\n",
      "count  5000.000000  5000.000000   5000.000000  5000.000000        5000.000000\n",
      "mean      0.499000    30.952800  39916.360000     1.194200           0.148000\n",
      "std       0.500049     8.440807   9900.083569     1.091387           0.463183\n",
      "min       0.000000    18.000000   5300.000000     0.000000           0.000000\n",
      "25%       0.000000    24.000000  33300.000000     0.000000           0.000000\n",
      "50%       0.000000    30.000000  40200.000000     1.000000           0.000000\n",
      "75%       1.000000    37.000000  46600.000000     2.000000           0.000000\n",
      "max       1.000000    65.000000  79000.000000     6.000000           5.000000\n"
     ]
    }
   ],
   "source": [
    "status(df)"
   ]
  },
  {
   "cell_type": "markdown",
   "metadata": {},
   "source": [
    "В столбцах 'Возраст' и 'Зарплата' неверный тип данных - необходимо заменить тип данных на 'Int64'.Необходимо избавитсья от дубликатов. Так же столбцы в датасете не соответсвуют правилам записи"
   ]
  },
  {
   "cell_type": "code",
   "execution_count": 5,
   "metadata": {},
   "outputs": [],
   "source": [
    "# Удалим дупликаты\n",
    "df = df.drop_duplicates()"
   ]
  },
  {
   "cell_type": "code",
   "execution_count": 6,
   "metadata": {},
   "outputs": [],
   "source": [
    "# Изменим тип данных в столбцах Возраст и Зарплата на целочисленный\n",
    "df['Возраст'] = df['Возраст'].astype('int64')\n",
    "df['Зарплата'] = df['Зарплата'].astype('int64')"
   ]
  },
  {
   "cell_type": "code",
   "execution_count": 7,
   "metadata": {},
   "outputs": [
    {
     "name": "stdout",
     "output_type": "stream",
     "text": [
      "<class 'pandas.core.frame.DataFrame'>\n",
      "Int64Index: 4847 entries, 0 to 4999\n",
      "Data columns (total 5 columns):\n",
      " #   Column          Non-Null Count  Dtype\n",
      "---  ------          --------------  -----\n",
      " 0   gender          4847 non-null   int64\n",
      " 1   age             4847 non-null   int64\n",
      " 2   salary          4847 non-null   int64\n",
      " 3   family_members  4847 non-null   int64\n",
      " 4   payments        4847 non-null   int64\n",
      "dtypes: int64(5)\n",
      "memory usage: 227.2 KB\n"
     ]
    }
   ],
   "source": [
    "df.rename(columns = {'Пол':'gender', 'Возраст':'age', 'Зарплата':'salary', 'Члены семьи':'family_members', 'Страховые выплаты':'payments'},inplace=True)\n",
    "df.info()"
   ]
  },
  {
   "cell_type": "code",
   "execution_count": 8,
   "metadata": {},
   "outputs": [
    {
     "data": {
      "image/png": "[encoded data removed]",
      "text/plain": [
       "<Figure size 936x936 with 25 Axes>"
      ]
     },
     "metadata": {
      "needs_background": "light"
     },
     "output_type": "display_data"
    }
   ],
   "source": [
    "#Изучим корреляцию данных в матрице диаграмм рассеяния\n",
    "pd.plotting.scatter_matrix(df,figsize=(13, 13));"
   ]
  },
  {
   "cell_type": "code",
   "execution_count": 9,
   "metadata": {},
   "outputs": [
    {
     "data": {
      "image/png": "[encoded data removed]",
      "text/plain": [
       "<Figure size 432x288 with 2 Axes>"
      ]
     },
     "metadata": {
      "needs_background": "light"
     },
     "output_type": "display_data"
    }
   ],
   "source": [
    "#Выразим матрицу в более легком для восприятия виде\n",
    "sns.heatmap(df.corr(), annot = True, fmt='.2g', cmap= 'coolwarm');"
   ]
  },
  {
   "cell_type": "markdown",
   "metadata": {},
   "source": [
    "- **Данные загружены и изучены, проведена переработка, удалены дубликаты в данных.**\n",
    "- **Значительная корреляция есть между целевым признаком и возрастом клиента.**"
   ]
  },
  {
   "cell_type": "markdown",
   "metadata": {},
   "source": [
    "## Умножение матриц"
   ]
  },
  {
   "cell_type": "markdown",
   "metadata": {},
   "source": [
    "В этом задании вы можете записывать формулы в *Jupyter Notebook.*\n",
    "\n",
    "Чтобы записать формулу внутри текста, окружите её символами доллара \\\\$; если снаружи —  двойными символами \\\\$\\\\$. Эти формулы записываются на языке вёрстки *LaTeX.* \n",
    "\n",
    "Для примера мы записали формулы линейной регрессии. Можете их скопировать и отредактировать, чтобы решить задачу.\n",
    "\n",
    "Работать в *LaTeX* необязательно."
   ]
  },
  {
   "cell_type": "markdown",
   "metadata": {},
   "source": [
    "Обозначения:\n",
    "\n",
    "- $X$ — матрица признаков (нулевой столбец состоит из единиц)\n",
    "\n",
    "- $y$ — вектор целевого признака\n",
    "\n",
    "- $P$ — матрица, на которую умножаются признаки\n",
    "\n",
    "- $w$ — вектор весов линейной регрессии (нулевой элемент равен сдвигу)"
   ]
  },
  {
   "cell_type": "markdown",
   "metadata": {},
   "source": [
    "Предсказания:\n",
    "\n",
    "$$\n",
    "a = Xw\n",
    "$$\n",
    "\n",
    "Задача обучения:\n",
    " \n",
    "$$\n",
    "w = \\arg\\min_w MSE(Xw, y)\n",
    "$$\n",
    "\n",
    "Формула обучения:\n",
    "\n",
    "$$\n",
    "w = (X^T X)^{-1} X^T y\n",
    "$$"
   ]
  },
  {
   "cell_type": "markdown",
   "metadata": {},
   "source": [
    "Нужно получить ответ на вопрос и обосновать решение. \n",
    " Признаки умножают на обратимую матрицу. Изменится ли качество линейной регрессии? (Её можно обучить заново.)\n",
    " - a. Изменится. Приведите примеры матриц.\n",
    " - b. Не изменится. Укажите, как связаны параметры линейной регрессии в исходной задаче и в преобразованной."
   ]
  },
  {
   "cell_type": "markdown",
   "metadata": {},
   "source": [
    "**Ответ:** B - Не изменится\n",
    "\n",
    "**Обоснование:**"
   ]
  },
  {
   "cell_type": "markdown",
   "metadata": {},
   "source": [
    "Воспользуемся формулой обучения"
   ]
  },
  {
   "cell_type": "markdown",
   "metadata": {},
   "source": [
    "$$w = (X^T X)^{-1} X^T y$$"
   ]
  },
  {
   "cell_type": "markdown",
   "metadata": {},
   "source": [
    "Представим новую матрицу признаков $X1$ как произведение старой $X$ на матрицу $P$ (обратимую):"
   ]
  },
  {
   "cell_type": "markdown",
   "metadata": {},
   "source": [
    "$$X1 = X * P$$"
   ]
  },
  {
   "cell_type": "markdown",
   "metadata": {},
   "source": [
    "Подставим новое значение X1 в формулу $w1$:"
   ]
  },
  {
   "cell_type": "markdown",
   "metadata": {},
   "source": [
    "$$w1 = ((X P)^T X P)^{-1} (X P)^T y$$"
   ]
  },
  {
   "cell_type": "markdown",
   "metadata": {},
   "source": [
    "Раскроем первое произведение $ (XP)^T $:"
   ]
  },
  {
   "cell_type": "markdown",
   "metadata": {},
   "source": [
    "$$w1 = (P^T X^T X P)^{-1} P^T X^T y$$"
   ]
  },
  {
   "cell_type": "markdown",
   "metadata": {},
   "source": [
    "Перегруппируем множители в скобках, чтобы это выглядело как произведение трех множителей:"
   ]
  },
  {
   "cell_type": "markdown",
   "metadata": {},
   "source": [
    "$$w1 = (P^T (X^T X) P)^{-1} P^T X^T y$$"
   ]
  },
  {
   "cell_type": "markdown",
   "metadata": {},
   "source": [
    "Раскроем скобки $ (P^T (X^T X) P)^{-1} $:"
   ]
  },
  {
   "cell_type": "markdown",
   "metadata": {},
   "source": [
    "$$w1 = P^{-1} (X^T X)^{-1} (P^T)^{-1} P^T X^T y$$"
   ]
  },
  {
   "cell_type": "markdown",
   "metadata": {},
   "source": [
    "Так как $P$ по условию обратимая, то произведение $(P^T)^{-1} P^T$ равно $E$ (единичная матрица):"
   ]
  },
  {
   "cell_type": "markdown",
   "metadata": {},
   "source": [
    "$$w1 = P^{-1} (X^T X)^{-1} E X^T y = P^{-1} (X^T X)^{-1} X^T y$$"
   ]
  },
  {
   "cell_type": "markdown",
   "metadata": {},
   "source": [
    "Можно заметить, что справа получилась формула для $w$:"
   ]
  },
  {
   "cell_type": "markdown",
   "metadata": {},
   "source": [
    "$$w1 = P^{-1} (X^T X)^{-1} X^T y = P^{-1} w$$"
   ]
  },
  {
   "cell_type": "markdown",
   "metadata": {},
   "source": [
    "Подставим новое значение весов  𝑤1  в формулу для предсказаний линейной регрессии.\\n\",\n",
    "    \"Предсказания модели расчитываются по формуле:"
   ]
  },
  {
   "cell_type": "markdown",
   "metadata": {},
   "source": [
    "$$a = Xw$$"
   ]
  },
  {
   "cell_type": "markdown",
   "metadata": {},
   "source": [
    "Подставим в эту формулу значения $X1$ и $w1$ для того, чтобы на их основе вычислить предсказания модели $a1$:"
   ]
  },
  {
   "cell_type": "markdown",
   "metadata": {},
   "source": [
    "$$a1 = X1w1 = XPP^{-1} w$$"
   ]
  },
  {
   "cell_type": "markdown",
   "metadata": {},
   "source": [
    "Так как $P$ по условию обратимая, то произведение $PP^{-1}$ снова равно $E$:"
   ]
  },
  {
   "cell_type": "markdown",
   "metadata": {},
   "source": [
    "$$a1 = XPP^{-1} w = X E w = X w = a$$"
   ]
  },
  {
   "cell_type": "markdown",
   "metadata": {},
   "source": [
    "В данном случае, параметры линейной регрессии в исходной задаче $w$ и в преобразованной $w1$ связаны следующим образом:"
   ]
  },
  {
   "cell_type": "markdown",
   "metadata": {},
   "source": [
    "$$w1 = P^{-1} w$$"
   ]
  },
  {
   "cell_type": "markdown",
   "metadata": {},
   "source": [
    "**Выходит что $a = a1$**"
   ]
  },
  {
   "cell_type": "markdown",
   "metadata": {},
   "source": [
    "Вывод: Мы доказали, что предсказания \n",
    " для матрицы признаков, умноженных на обратимую матрицу \n",
    " равны предсказаниям \n",
    ".\n",
    "Следовательно, отвечая на вопрос изменится ли качество линейной регрессии при умножении признаков на обратимую матрицу - нет, не изменится. При умножении признаков на обратимую матрицу качество линейной регрессии не изменится. Зависимость между параметрами линейная."
   ]
  },
  {
   "cell_type": "markdown",
   "metadata": {},
   "source": [
    "## Алгоритм преобразования"
   ]
  },
  {
   "cell_type": "markdown",
   "metadata": {},
   "source": [
    "**Алгоритм**"
   ]
  },
  {
   "cell_type": "markdown",
   "metadata": {},
   "source": [
    "Чтобы защитить данные и потерять качество модели машинного обучения, нужно умножить признаки на обратимую матрицу \n",
    ". Для этого алгоритм преобразования данных должен содержать процесс создания подобной матрицы \n",
    " и ее умножения на матрицу признаков.\n",
    " \n",
    " При умножении исходной матрицы на обратимую должна получаться матрица такого же размера, как исходная, следовательно, ключом должна быть обратимая квадратная матрица с размером, равным количеству признаков\n",
    " \n",
    " Проверим обратимость такой матрицы:"
   ]
  },
  {
   "cell_type": "code",
   "execution_count": 10,
   "metadata": {},
   "outputs": [
    {
     "data": {
      "text/plain": [
       "array([[ 9, 10, 39, 91],\n",
       "       [33, 86, 75,  6],\n",
       "       [46, 20, 83, 64],\n",
       "       [33, 47,  5, 19]])"
      ]
     },
     "metadata": {},
     "output_type": "display_data"
    }
   ],
   "source": [
    "rdm_matrix = np.random.randint(100,size = (4, 4))\n",
    "display(rdm_matrix)"
   ]
  },
  {
   "cell_type": "code",
   "execution_count": 11,
   "metadata": {},
   "outputs": [
    {
     "data": {
      "text/plain": [
       "array([[-0.01764765, -0.0144251 ,  0.02002406,  0.0216288 ],\n",
       "       [ 0.00745393,  0.010544  , -0.01339753,  0.00609846],\n",
       "       [-0.00179704,  0.00783719,  0.00682663, -0.01686299],\n",
       "       [ 0.01268543, -0.00309082, -0.00343384,  0.00441772]])"
      ]
     },
     "metadata": {},
     "output_type": "display_data"
    }
   ],
   "source": [
    "matrix_inv = np.linalg.inv(rdm_matrix)\n",
    "display(matrix_inv)"
   ]
  },
  {
   "cell_type": "markdown",
   "metadata": {},
   "source": [
    "Т.к код сработал без ошибок - значит матрица обратима\n",
    "\n"
   ]
  },
  {
   "cell_type": "code",
   "execution_count": 12,
   "metadata": {},
   "outputs": [],
   "source": [
    "#Создадим выборки\n",
    "features = df.drop('payments', axis = 1)\n",
    "target = df['payments']"
   ]
  },
  {
   "cell_type": "code",
   "execution_count": 13,
   "metadata": {},
   "outputs": [],
   "source": [
    "#Выполним масштабирование с признаков\n",
    "scaler = StandardScaler()\n",
    "scaler.fit(features)\n",
    "\n",
    "features_scaled = scaler.transform(features)"
   ]
  },
  {
   "cell_type": "markdown",
   "metadata": {},
   "source": [
    "Веса для исходных признаков расчитаем по формуле по формуле $w = (X^T X)^{-1} X^T y$, а вектор предсказаний для исходных признаков по формуле $a = X w$"
   ]
  },
  {
   "cell_type": "code",
   "execution_count": 14,
   "metadata": {},
   "outputs": [],
   "source": [
    "#Рассчет веса для исходных признаков\n",
    "w = np.linalg.inv(features_scaled.T.dot(features_scaled)).dot(features_scaled.T).dot(target)"
   ]
  },
  {
   "cell_type": "markdown",
   "metadata": {},
   "source": [
    "Расчет вектора предсказаний для исходных признаков по формуле $$\n",
    "𝑎=𝑋𝑤\n",
    "$$"
   ]
  },
  {
   "cell_type": "code",
   "execution_count": 15,
   "metadata": {},
   "outputs": [],
   "source": [
    "a = features_scaled @ w"
   ]
  },
  {
   "cell_type": "markdown",
   "metadata": {},
   "source": [
    "Преобразование признаков"
   ]
  },
  {
   "cell_type": "code",
   "execution_count": 16,
   "metadata": {},
   "outputs": [],
   "source": [
    "new_features = features_scaled @ rdm_matrix"
   ]
  },
  {
   "cell_type": "markdown",
   "metadata": {},
   "source": [
    "Рассчитаем веса для преобразованных признаков по формуле $$\n",
    "w = (X^T X)^{-1} X^T y\n",
    "$$"
   ]
  },
  {
   "cell_type": "code",
   "execution_count": 17,
   "metadata": {},
   "outputs": [],
   "source": [
    "w1 = np.linalg.inv(new_features.T.dot(new_features)).dot(new_features.T).dot(target)"
   ]
  },
  {
   "cell_type": "markdown",
   "metadata": {},
   "source": [
    "Вектор предсказаний для преобразованным признакам по формуле: $$\n",
    "𝑎=𝑋𝑤\n",
    "$$"
   ]
  },
  {
   "cell_type": "code",
   "execution_count": 18,
   "metadata": {},
   "outputs": [],
   "source": [
    "a1 = features_scaled @ w1"
   ]
  },
  {
   "cell_type": "code",
   "execution_count": 19,
   "metadata": {},
   "outputs": [
    {
     "data": {
      "text/plain": [
       "1.7763568394002505e-14"
      ]
     },
     "metadata": {},
     "output_type": "display_data"
    }
   ],
   "source": [
    "#Получим вектор разниц между предсказаниями по исходным признакам  𝑎  и преобразованным  𝑎1 :\n",
    "diff_error = a - a1\n",
    "display(diff_error.sum())"
   ]
  },
  {
   "cell_type": "markdown",
   "metadata": {},
   "source": [
    "Полученное значение доказывает слишком низкое чтобы повлять на качество линейной регрессии"
   ]
  },
  {
   "cell_type": "markdown",
   "metadata": {},
   "source": [
    "**Обоснование**\n",
    "\n",
    "Т.к мы уже доказали в прошлом разделе, что предсказания \n",
    " для матрицы признаков, умноженных на обратимую матрицу \n",
    " равны предсказаниям, , значит мы можем записать данные в виде результата произведения признаков и обратимой матрицы."
   ]
  },
  {
   "cell_type": "markdown",
   "metadata": {},
   "source": [
    "**Вывод:**\n",
    "\n",
    "Создан алгоритм который позволит зашифровать информацию на основе исходных данных и не повлияет на качество машинного обучения для метода линейной регрессии."
   ]
  },
  {
   "cell_type": "markdown",
   "metadata": {},
   "source": [
    "## Проверка алгоритма"
   ]
  },
  {
   "cell_type": "code",
   "execution_count": 20,
   "metadata": {},
   "outputs": [],
   "source": [
    "def check_model(pred,target):\n",
    "    model = LinearRegression()\n",
    "    model.fit(pred, target)\n",
    "    answer = model.predict(pred)\n",
    "    return answer"
   ]
  },
  {
   "cell_type": "code",
   "execution_count": 21,
   "metadata": {},
   "outputs": [
    {
     "name": "stdout",
     "output_type": "stream",
     "text": [
      "R2-Score для модели до преобразований: 0.4302010046633359\n",
      "R2-Score для модели после преобразований: 0.4302010046633359\n"
     ]
    }
   ],
   "source": [
    "print('R2-Score для модели до преобразований:', r2_score(target, check_model(features, target)))\n",
    "print('R2-Score для модели после преобразований:', r2_score(target, check_model(new_features, target)))"
   ]
  },
  {
   "cell_type": "code",
   "execution_count": 22,
   "metadata": {},
   "outputs": [
    {
     "name": "stdout",
     "output_type": "stream",
     "text": [
      "MSE для модели до преобразований: 0.1252726382276536\n",
      "MSE для модели после преобразований: 0.1252726382276536\n"
     ]
    }
   ],
   "source": [
    "print('MSE для модели до преобразований:', mean_squared_error(target, check_model(features, target)))\n",
    "print('MSE для модели после преобразований:', mean_squared_error(target, check_model(new_features, target)))"
   ]
  },
  {
   "cell_type": "markdown",
   "metadata": {},
   "source": [
    "## Общий вывод"
   ]
  },
  {
   "cell_type": "markdown",
   "metadata": {},
   "source": [
    "Итоговая проверка алгоритма доказывает ранее сформированный вывод, что предсказания для матрицы признаков, умноженных на обратимую матрицу равны предсказаниям, , значит мы можем записать данные в виде результата произведения признаков и обратимой матрицы.\n",
    "\n",
    "Итоговые значения проверки алгоритма:\n",
    "\n",
    " - R2-Score для модели до преобразований: 0.4302010046633359\n",
    " - R2-Score для модели после преобразований: 0.4302010046633359\n",
    " ----------------------------------------------------------\n",
    " - MSE для модели до преобразований: 0.1252726382276536\n",
    " - MSE для модели после преобразований: 0.1252726382276536\n"
   ]
  },
  {
   "cell_type": "markdown",
   "metadata": {},
   "source": [
    "Отсутвия различий итоговой проверки алгоритма в метриках R2-score и MSE говорят о том, что преобразованные данные не повлияет на качество модели линейной регрессии"
   ]
  }
 ],
 "metadata": {
  "ExecuteTimeLog": [
   {
    "duration": 1622,
    "start_time": "2023-03-10T12:47:08.156Z"
   },
   {
    "duration": 3,
    "start_time": "2023-03-10T12:47:21.662Z"
   },
   {
    "duration": 82,
    "start_time": "2023-03-10T12:47:22.111Z"
   },
   {
    "duration": 28,
    "start_time": "2023-03-10T12:47:31.563Z"
   },
   {
    "duration": 7,
    "start_time": "2023-03-10T12:49:46.545Z"
   },
   {
    "duration": 67,
    "start_time": "2023-03-10T12:50:02.430Z"
   },
   {
    "duration": 81,
    "start_time": "2023-03-10T12:50:44.279Z"
   },
   {
    "duration": 24,
    "start_time": "2023-03-10T12:50:44.796Z"
   },
   {
    "duration": 4,
    "start_time": "2023-03-10T12:51:00.364Z"
   },
   {
    "duration": 20,
    "start_time": "2023-03-10T12:51:00.672Z"
   },
   {
    "duration": 5,
    "start_time": "2023-03-10T12:51:46.824Z"
   },
   {
    "duration": 4,
    "start_time": "2023-03-10T12:51:59.644Z"
   },
   {
    "duration": 19,
    "start_time": "2023-03-10T12:52:00.622Z"
   },
   {
    "duration": 3,
    "start_time": "2023-03-10T12:52:16.093Z"
   },
   {
    "duration": 26,
    "start_time": "2023-03-10T12:52:16.583Z"
   },
   {
    "duration": 4,
    "start_time": "2023-03-10T12:52:47.315Z"
   },
   {
    "duration": 16,
    "start_time": "2023-03-10T12:52:47.632Z"
   },
   {
    "duration": 87,
    "start_time": "2023-03-10T12:53:25.807Z"
   },
   {
    "duration": 16,
    "start_time": "2023-03-10T12:53:26.278Z"
   },
   {
    "duration": 3,
    "start_time": "2023-03-10T12:53:34.588Z"
   },
   {
    "duration": 16,
    "start_time": "2023-03-10T12:53:35.484Z"
   },
   {
    "duration": 13,
    "start_time": "2023-03-10T12:53:56.944Z"
   },
   {
    "duration": 1389,
    "start_time": "2023-03-10T12:54:10.996Z"
   },
   {
    "duration": 27,
    "start_time": "2023-03-10T12:54:12.387Z"
   },
   {
    "duration": 4,
    "start_time": "2023-03-10T12:54:12.416Z"
   },
   {
    "duration": 30,
    "start_time": "2023-03-10T12:54:12.422Z"
   },
   {
    "duration": 10,
    "start_time": "2023-03-10T12:54:12.454Z"
   },
   {
    "duration": 5,
    "start_time": "2023-03-10T12:54:59.644Z"
   },
   {
    "duration": 19,
    "start_time": "2023-03-10T12:55:00.416Z"
   },
   {
    "duration": 10,
    "start_time": "2023-03-10T12:55:24.938Z"
   },
   {
    "duration": 17,
    "start_time": "2023-03-10T12:55:25.212Z"
   },
   {
    "duration": 3,
    "start_time": "2023-03-10T12:55:41.983Z"
   },
   {
    "duration": 16,
    "start_time": "2023-03-10T12:55:42.360Z"
   },
   {
    "duration": 113,
    "start_time": "2023-03-10T12:56:08.689Z"
   },
   {
    "duration": 5,
    "start_time": "2023-03-10T12:56:13.707Z"
   },
   {
    "duration": 4,
    "start_time": "2023-03-10T12:56:51.300Z"
   },
   {
    "duration": 22,
    "start_time": "2023-03-10T12:56:51.815Z"
   },
   {
    "duration": 5,
    "start_time": "2023-03-10T12:57:28.630Z"
   },
   {
    "duration": 34,
    "start_time": "2023-03-10T12:57:28.986Z"
   },
   {
    "duration": 4,
    "start_time": "2023-03-10T12:57:43.776Z"
   },
   {
    "duration": 46,
    "start_time": "2023-03-10T12:57:44.310Z"
   },
   {
    "duration": 5,
    "start_time": "2023-03-10T12:58:09.175Z"
   },
   {
    "duration": 40,
    "start_time": "2023-03-10T12:58:09.502Z"
   },
   {
    "duration": 75,
    "start_time": "2023-03-11T06:30:01.895Z"
   },
   {
    "duration": 7,
    "start_time": "2023-03-11T06:30:09.287Z"
   },
   {
    "duration": 1855,
    "start_time": "2023-03-11T06:30:14.736Z"
   },
   {
    "duration": 108,
    "start_time": "2023-03-11T06:30:16.594Z"
   },
   {
    "duration": 5,
    "start_time": "2023-03-11T06:30:17.543Z"
   },
   {
    "duration": 87,
    "start_time": "2023-03-11T06:30:17.551Z"
   },
   {
    "duration": 6,
    "start_time": "2023-03-11T06:30:17.641Z"
   },
   {
    "duration": 19,
    "start_time": "2023-03-11T06:30:49.323Z"
   },
   {
    "duration": 11,
    "start_time": "2023-03-11T06:37:50.850Z"
   },
   {
    "duration": 24,
    "start_time": "2023-03-11T06:37:56.930Z"
   },
   {
    "duration": 13,
    "start_time": "2023-03-11T06:38:46.186Z"
   },
   {
    "duration": 8,
    "start_time": "2023-03-11T06:38:55.014Z"
   },
   {
    "duration": 29,
    "start_time": "2023-03-11T06:38:55.475Z"
   },
   {
    "duration": 5,
    "start_time": "2023-03-11T06:38:55.910Z"
   },
   {
    "duration": 58,
    "start_time": "2023-03-11T06:38:56.509Z"
   },
   {
    "duration": 9,
    "start_time": "2023-03-11T06:39:01.766Z"
   },
   {
    "duration": 17,
    "start_time": "2023-03-11T06:39:05.794Z"
   },
   {
    "duration": 18,
    "start_time": "2023-03-11T06:39:12.177Z"
   },
   {
    "duration": 13,
    "start_time": "2023-03-11T06:39:27.408Z"
   },
   {
    "duration": 1813,
    "start_time": "2023-03-11T06:39:37.375Z"
   },
   {
    "duration": 0,
    "start_time": "2023-03-11T06:39:39.191Z"
   },
   {
    "duration": 1783,
    "start_time": "2023-03-11T06:39:45.104Z"
   },
   {
    "duration": 1843,
    "start_time": "2023-03-11T06:39:52.177Z"
   },
   {
    "duration": 76,
    "start_time": "2023-03-11T06:39:54.022Z"
   },
   {
    "duration": 13,
    "start_time": "2023-03-11T06:39:54.101Z"
   },
   {
    "duration": 184,
    "start_time": "2023-03-11T06:39:54.116Z"
   },
   {
    "duration": 10,
    "start_time": "2023-03-11T06:39:54.304Z"
   },
   {
    "duration": 45,
    "start_time": "2023-03-11T06:39:54.316Z"
   },
   {
    "duration": 43,
    "start_time": "2023-03-11T06:39:54.371Z"
   },
   {
    "duration": 28,
    "start_time": "2023-03-11T06:40:00.054Z"
   },
   {
    "duration": 19,
    "start_time": "2023-03-11T06:40:08.270Z"
   },
   {
    "duration": 1691,
    "start_time": "2023-03-11T06:44:17.523Z"
   },
   {
    "duration": 1702,
    "start_time": "2023-03-11T06:44:26.018Z"
   },
   {
    "duration": 1934,
    "start_time": "2023-03-11T06:44:58.665Z"
   },
   {
    "duration": 2020,
    "start_time": "2023-03-11T06:45:07.277Z"
   },
   {
    "duration": 2040,
    "start_time": "2023-03-11T06:45:22.666Z"
   },
   {
    "duration": 89,
    "start_time": "2023-03-11T06:46:49.692Z"
   },
   {
    "duration": 444,
    "start_time": "2023-03-11T06:46:55.115Z"
   },
   {
    "duration": 255,
    "start_time": "2023-03-11T06:47:09.060Z"
   },
   {
    "duration": 1992,
    "start_time": "2023-03-11T06:47:19.531Z"
   },
   {
    "duration": 144,
    "start_time": "2023-03-11T06:47:28.935Z"
   },
   {
    "duration": 400,
    "start_time": "2023-03-11T06:47:33.972Z"
   },
   {
    "duration": 408,
    "start_time": "2023-03-11T06:48:49.622Z"
   },
   {
    "duration": 475,
    "start_time": "2023-03-11T06:48:54.705Z"
   },
   {
    "duration": 450,
    "start_time": "2023-03-11T06:49:10.911Z"
   },
   {
    "duration": 528,
    "start_time": "2023-03-11T06:49:14.670Z"
   },
   {
    "duration": 587,
    "start_time": "2023-03-11T06:49:18.778Z"
   },
   {
    "duration": 437,
    "start_time": "2023-03-11T06:49:27.741Z"
   },
   {
    "duration": 396,
    "start_time": "2023-03-11T06:49:31.572Z"
   },
   {
    "duration": 435,
    "start_time": "2023-03-11T06:49:37.994Z"
   },
   {
    "duration": 385,
    "start_time": "2023-03-11T06:49:45.759Z"
   },
   {
    "duration": 410,
    "start_time": "2023-03-11T06:49:49.794Z"
   },
   {
    "duration": 415,
    "start_time": "2023-03-11T06:49:59.172Z"
   },
   {
    "duration": 405,
    "start_time": "2023-03-11T06:50:03.968Z"
   },
   {
    "duration": 424,
    "start_time": "2023-03-11T06:50:07.686Z"
   },
   {
    "duration": 4,
    "start_time": "2023-03-12T04:46:41.003Z"
   },
   {
    "duration": 65,
    "start_time": "2023-03-12T06:14:20.667Z"
   },
   {
    "duration": 7,
    "start_time": "2023-03-12T06:14:34.170Z"
   },
   {
    "duration": 6,
    "start_time": "2023-03-12T06:19:41.233Z"
   },
   {
    "duration": 7,
    "start_time": "2023-03-12T06:20:38.082Z"
   },
   {
    "duration": 6,
    "start_time": "2023-03-12T06:24:44.396Z"
   },
   {
    "duration": 6,
    "start_time": "2023-03-12T06:24:52.797Z"
   },
   {
    "duration": 30,
    "start_time": "2023-03-12T06:32:26.767Z"
   },
   {
    "duration": 16,
    "start_time": "2023-03-12T06:33:04.894Z"
   },
   {
    "duration": 1589,
    "start_time": "2023-03-12T06:33:14.169Z"
   },
   {
    "duration": 39,
    "start_time": "2023-03-12T06:33:15.761Z"
   },
   {
    "duration": 7,
    "start_time": "2023-03-12T06:33:15.802Z"
   },
   {
    "duration": 44,
    "start_time": "2023-03-12T06:33:15.810Z"
   },
   {
    "duration": 4,
    "start_time": "2023-03-12T06:33:15.857Z"
   },
   {
    "duration": 8,
    "start_time": "2023-03-12T06:33:15.863Z"
   },
   {
    "duration": 38,
    "start_time": "2023-03-12T06:33:15.873Z"
   },
   {
    "duration": 1914,
    "start_time": "2023-03-12T06:33:15.913Z"
   },
   {
    "duration": 408,
    "start_time": "2023-03-12T06:33:17.829Z"
   },
   {
    "duration": 5,
    "start_time": "2023-03-12T06:33:18.239Z"
   },
   {
    "duration": 37,
    "start_time": "2023-03-12T06:33:18.245Z"
   },
   {
    "duration": 239,
    "start_time": "2023-03-12T06:33:18.286Z"
   },
   {
    "duration": 0,
    "start_time": "2023-03-12T06:33:18.527Z"
   },
   {
    "duration": 5,
    "start_time": "2023-03-12T06:33:48.438Z"
   },
   {
    "duration": 11,
    "start_time": "2023-03-12T06:34:38.092Z"
   },
   {
    "duration": 4,
    "start_time": "2023-03-12T06:35:16.133Z"
   },
   {
    "duration": 12,
    "start_time": "2023-03-12T06:35:20.611Z"
   },
   {
    "duration": 4,
    "start_time": "2023-03-12T06:35:50.991Z"
   },
   {
    "duration": 8,
    "start_time": "2023-03-12T06:35:51.262Z"
   },
   {
    "duration": 7,
    "start_time": "2023-03-12T06:36:24.445Z"
   },
   {
    "duration": 5,
    "start_time": "2023-03-12T06:36:26.773Z"
   },
   {
    "duration": 8,
    "start_time": "2023-03-12T06:36:27.068Z"
   },
   {
    "duration": 13,
    "start_time": "2023-03-12T06:41:12.491Z"
   },
   {
    "duration": 15,
    "start_time": "2023-03-12T06:42:18.911Z"
   },
   {
    "duration": 8,
    "start_time": "2023-03-12T06:42:26.103Z"
   },
   {
    "duration": 10,
    "start_time": "2023-03-12T06:42:29.335Z"
   },
   {
    "duration": 7,
    "start_time": "2023-03-12T06:42:54.068Z"
   },
   {
    "duration": 12,
    "start_time": "2023-03-12T06:42:54.968Z"
   },
   {
    "duration": 9,
    "start_time": "2023-03-12T06:44:22.017Z"
   },
   {
    "duration": 12,
    "start_time": "2023-03-12T06:45:02.615Z"
   },
   {
    "duration": 12,
    "start_time": "2023-03-12T06:45:32.645Z"
   },
   {
    "duration": 3,
    "start_time": "2023-03-12T06:45:37.106Z"
   },
   {
    "duration": 4,
    "start_time": "2023-03-12T06:48:29.028Z"
   },
   {
    "duration": 7,
    "start_time": "2023-03-12T06:50:32.845Z"
   },
   {
    "duration": 9,
    "start_time": "2023-03-12T06:51:09.761Z"
   },
   {
    "duration": 9,
    "start_time": "2023-03-12T06:53:41.131Z"
   },
   {
    "duration": 4,
    "start_time": "2023-03-12T06:53:49.984Z"
   },
   {
    "duration": 10,
    "start_time": "2023-03-12T06:56:53.393Z"
   },
   {
    "duration": 4,
    "start_time": "2023-03-12T06:56:57.114Z"
   },
   {
    "duration": 3,
    "start_time": "2023-03-12T06:56:57.492Z"
   },
   {
    "duration": 13,
    "start_time": "2023-03-12T06:57:17.072Z"
   },
   {
    "duration": 12,
    "start_time": "2023-03-12T06:57:46.851Z"
   },
   {
    "duration": 8,
    "start_time": "2023-03-12T06:57:52.829Z"
   },
   {
    "duration": 5,
    "start_time": "2023-03-12T06:59:09.714Z"
   },
   {
    "duration": 10,
    "start_time": "2023-03-12T06:59:10.731Z"
   },
   {
    "duration": 17,
    "start_time": "2023-03-12T06:59:12.498Z"
   },
   {
    "duration": 4,
    "start_time": "2023-03-12T07:00:39.492Z"
   },
   {
    "duration": 4,
    "start_time": "2023-03-12T07:00:40.345Z"
   },
   {
    "duration": 1455,
    "start_time": "2023-03-12T07:01:14.757Z"
   },
   {
    "duration": 30,
    "start_time": "2023-03-12T07:01:16.214Z"
   },
   {
    "duration": 4,
    "start_time": "2023-03-12T07:01:16.246Z"
   },
   {
    "duration": 42,
    "start_time": "2023-03-12T07:01:16.252Z"
   },
   {
    "duration": 7,
    "start_time": "2023-03-12T07:01:16.296Z"
   },
   {
    "duration": 13,
    "start_time": "2023-03-12T07:01:16.304Z"
   },
   {
    "duration": 20,
    "start_time": "2023-03-12T07:01:16.318Z"
   },
   {
    "duration": 1867,
    "start_time": "2023-03-12T07:01:16.340Z"
   },
   {
    "duration": 369,
    "start_time": "2023-03-12T07:01:18.209Z"
   },
   {
    "duration": 12,
    "start_time": "2023-03-12T07:01:18.581Z"
   },
   {
    "duration": 13,
    "start_time": "2023-03-12T07:01:18.596Z"
   },
   {
    "duration": 71,
    "start_time": "2023-03-12T07:01:18.612Z"
   },
   {
    "duration": 103,
    "start_time": "2023-03-12T07:01:18.685Z"
   },
   {
    "duration": 5,
    "start_time": "2023-03-12T07:01:18.795Z"
   },
   {
    "duration": 91,
    "start_time": "2023-03-12T07:01:18.803Z"
   },
   {
    "duration": 186,
    "start_time": "2023-03-12T07:01:18.910Z"
   },
   {
    "duration": 16,
    "start_time": "2023-03-12T07:01:19.099Z"
   },
   {
    "duration": 63,
    "start_time": "2023-03-12T07:01:19.117Z"
   },
   {
    "duration": 120,
    "start_time": "2023-03-12T07:01:19.185Z"
   },
   {
    "duration": 9,
    "start_time": "2023-03-12T07:01:19.308Z"
   },
   {
    "duration": 3,
    "start_time": "2023-03-12T07:11:00.867Z"
   },
   {
    "duration": 3,
    "start_time": "2023-03-12T07:11:05.459Z"
   },
   {
    "duration": 3,
    "start_time": "2023-03-12T07:11:55.828Z"
   },
   {
    "duration": 119,
    "start_time": "2023-03-12T07:11:56.551Z"
   },
   {
    "duration": 3,
    "start_time": "2023-03-12T07:12:16.172Z"
   },
   {
    "duration": 11,
    "start_time": "2023-03-12T07:12:16.563Z"
   },
   {
    "duration": 38,
    "start_time": "2023-03-12T07:13:25.158Z"
   },
   {
    "duration": 14,
    "start_time": "2023-03-12T07:14:33.649Z"
   },
   {
    "duration": 9,
    "start_time": "2023-03-12T07:15:47.392Z"
   },
   {
    "duration": 8,
    "start_time": "2023-03-12T07:16:05.299Z"
   },
   {
    "duration": 32,
    "start_time": "2023-03-12T07:16:11.365Z"
   },
   {
    "duration": 12,
    "start_time": "2023-03-12T07:16:20.400Z"
   },
   {
    "duration": 13,
    "start_time": "2023-03-12T07:16:54.601Z"
   },
   {
    "duration": 14,
    "start_time": "2023-03-12T07:16:56.403Z"
   },
   {
    "duration": 56,
    "start_time": "2023-03-12T07:22:27.722Z"
   },
   {
    "duration": 18,
    "start_time": "2023-03-12T07:22:28.601Z"
   },
   {
    "duration": 13,
    "start_time": "2023-03-12T07:23:36.645Z"
   },
   {
    "duration": 2412,
    "start_time": "2023-03-12T19:55:17.113Z"
   },
   {
    "duration": 71,
    "start_time": "2023-03-12T19:55:19.527Z"
   },
   {
    "duration": 4,
    "start_time": "2023-03-12T19:55:19.599Z"
   },
   {
    "duration": 36,
    "start_time": "2023-03-12T19:55:19.605Z"
   },
   {
    "duration": 5,
    "start_time": "2023-03-12T19:55:19.643Z"
   },
   {
    "duration": 4,
    "start_time": "2023-03-12T19:55:19.650Z"
   },
   {
    "duration": 18,
    "start_time": "2023-03-12T19:55:19.656Z"
   },
   {
    "duration": 1475,
    "start_time": "2023-03-12T19:55:19.675Z"
   },
   {
    "duration": 393,
    "start_time": "2023-03-12T19:55:21.151Z"
   },
   {
    "duration": 4,
    "start_time": "2023-03-12T19:55:21.547Z"
   },
   {
    "duration": 28,
    "start_time": "2023-03-12T19:55:21.552Z"
   },
   {
    "duration": 4,
    "start_time": "2023-03-12T19:55:21.583Z"
   },
   {
    "duration": 94,
    "start_time": "2023-03-12T19:55:21.589Z"
   },
   {
    "duration": 3,
    "start_time": "2023-03-12T19:55:21.685Z"
   },
   {
    "duration": 7,
    "start_time": "2023-03-12T19:55:21.689Z"
   },
   {
    "duration": 6,
    "start_time": "2023-03-12T19:55:21.779Z"
   },
   {
    "duration": 99,
    "start_time": "2023-03-12T19:55:21.786Z"
   },
   {
    "duration": 18,
    "start_time": "2023-03-12T19:55:21.886Z"
   },
   {
    "duration": 4,
    "start_time": "2023-03-12T19:55:21.980Z"
   },
   {
    "duration": 99,
    "start_time": "2023-03-12T19:55:21.985Z"
   },
   {
    "duration": 193,
    "start_time": "2023-03-12T19:55:22.086Z"
   },
   {
    "duration": 106,
    "start_time": "2023-03-12T19:55:22.281Z"
   },
   {
    "duration": 2111,
    "start_time": "2023-03-12T20:02:35.595Z"
   },
   {
    "duration": 29,
    "start_time": "2023-03-12T20:02:37.707Z"
   },
   {
    "duration": 4,
    "start_time": "2023-03-12T20:02:37.737Z"
   },
   {
    "duration": 30,
    "start_time": "2023-03-12T20:02:37.742Z"
   },
   {
    "duration": 4,
    "start_time": "2023-03-12T20:02:37.773Z"
   },
   {
    "duration": 4,
    "start_time": "2023-03-12T20:02:37.779Z"
   },
   {
    "duration": 12,
    "start_time": "2023-03-12T20:02:37.785Z"
   },
   {
    "duration": 1443,
    "start_time": "2023-03-12T20:02:37.799Z"
   },
   {
    "duration": 317,
    "start_time": "2023-03-12T20:02:39.244Z"
   },
   {
    "duration": 4,
    "start_time": "2023-03-12T20:02:39.563Z"
   },
   {
    "duration": 14,
    "start_time": "2023-03-12T20:02:39.568Z"
   },
   {
    "duration": 6,
    "start_time": "2023-03-12T20:02:39.583Z"
   },
   {
    "duration": 9,
    "start_time": "2023-03-12T20:02:39.590Z"
   },
   {
    "duration": 3,
    "start_time": "2023-03-12T20:02:39.679Z"
   },
   {
    "duration": 97,
    "start_time": "2023-03-12T20:02:39.683Z"
   },
   {
    "duration": 3,
    "start_time": "2023-03-12T20:02:39.781Z"
   },
   {
    "duration": 95,
    "start_time": "2023-03-12T20:02:39.786Z"
   },
   {
    "duration": 11,
    "start_time": "2023-03-12T20:02:39.883Z"
   },
   {
    "duration": 189,
    "start_time": "2023-03-12T20:02:39.896Z"
   },
   {
    "duration": 4,
    "start_time": "2023-03-12T20:02:40.086Z"
   },
   {
    "duration": 11,
    "start_time": "2023-03-12T20:02:40.091Z"
   },
   {
    "duration": 186,
    "start_time": "2023-03-12T20:02:40.103Z"
   }
  ],
  "kernelspec": {
   "display_name": "Python 3 (ipykernel)",
   "language": "python",
   "name": "python3"
  },
  "language_info": {
   "codemirror_mode": {
    "name": "ipython",
    "version": 3
   },
   "file_extension": ".py",
   "mimetype": "text/x-python",
   "name": "python",
   "nbconvert_exporter": "python",
   "pygments_lexer": "ipython3",
   "version": "3.9.5"
  },
  "toc": {
   "base_numbering": 1,
   "nav_menu": {},
   "number_sections": true,
   "sideBar": true,
   "skip_h1_title": true,
   "title_cell": "Содержание",
   "title_sidebar": "Contents",
   "toc_cell": true,
   "toc_position": {
    "height": "calc(100% - 180px)",
    "left": "10px",
    "top": "150px",
    "width": "392.1px"
   },
   "toc_section_display": true,
   "toc_window_display": false
  }
 },
 "nbformat": 4,
 "nbformat_minor": 2
}
