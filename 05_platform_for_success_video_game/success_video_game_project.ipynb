{
 "cells": [
  {
   "cell_type": "markdown",
   "id": "2b125e41",
   "metadata": {},
   "source": [
    "# Описание проекта"
   ]
  },
  {
   "cell_type": "markdown",
   "id": "9befb8c8",
   "metadata": {},
   "source": [
    "Мы получили датасет от магазина «Стримчик», который продаёт по всему миру компьютерные игры. Из открытых источников доступны исторические данные о продажах игр, оценки пользователей и экспертов, жанры и платформы. Необходимо выявить определяющие успешность игры закономерности. Это позволит сделать ставку на потенциально популярный продукт и спланировать рекламные кампании.\n",
    "У нас есть данные от 1985 до 2016 года. Магазин планирует рекламную компанию на 2017-й. \n",
    "\n",
    "**Задача:**\n",
    "\n",
    "Нужно опеределить какие платформы будут перспективными в следующем году и сделать ставку на самые привлекательные с учетом объемов продаж.\n",
    "Необходимо опеределить зависимости продаж от рейтинга, жанра, региона и платформы для игр.\n",
    "\n",
    "**Описание данных:**\n",
    "\n",
    "- Name — название игры\n",
    "- Platform — платформа\n",
    "- Year_of_Release — год выпуска\n",
    "- Genre — жанр игры\n",
    "- NA_sales — продажи в Северной Америке (миллионы проданных копий)\n",
    "- EU_sales — продажи в Европе (миллионы проданных копий)\n",
    "- JP_sales — продажи в Японии (миллионы проданных копий)\n",
    "- Other_sales — продажи в других странах (миллионы проданных копий)\n",
    "- Critic_Score — оценка критиков (максимум 100)\n",
    "- User_Score — оценка пользователей (максимум 10)\n",
    "- Rating — рейтинг от организации ESRB (англ. Entertainment Software Rating Board). Эта ассоциация определяет рейтинг компьютерных игр и присваивает им подходящую возрастную категорию."
   ]
  },
  {
   "cell_type": "markdown",
   "id": "83a64b42",
   "metadata": {
    "toc": true
   },
   "source": [
    "<h1>Table of Contents<span class=\"tocSkip\"></span></h1>\n",
    "<div class=\"toc\"><ul class=\"toc-item\"><li><span><a href=\"#Откроем-файл-с-данными-и-изучим-информацию\" data-toc-modified-id=\"Откроем-файл-с-данными-и-изучим-информацию-1\"><span class=\"toc-item-num\">1&nbsp;&nbsp;</span>Откроем файл с данными и изучим информацию</a></span></li><li><span><a href=\"#Переработка-данных\" data-toc-modified-id=\"Переработка-данных-2\"><span class=\"toc-item-num\">2&nbsp;&nbsp;</span>Переработка данных</a></span></li><li><span><a href=\"#Исследовательский-анализ-данных\" data-toc-modified-id=\"Исследовательский-анализ-данных-3\"><span class=\"toc-item-num\">3&nbsp;&nbsp;</span>Исследовательский анализ данных</a></span></li><li><span><a href=\"#Составим-портрет-пользователя-для-каждого-региона\" data-toc-modified-id=\"Составим-портрет-пользователя-для-каждого-региона-4\"><span class=\"toc-item-num\">4&nbsp;&nbsp;</span>Составим портрет пользователя для каждого региона</a></span></li><li><span><a href=\"#Проверка-гипотез\" data-toc-modified-id=\"Проверка-гипотез-5\"><span class=\"toc-item-num\">5&nbsp;&nbsp;</span>Проверка гипотез</a></span></li><li><span><a href=\"#Общий-вывод\" data-toc-modified-id=\"Общий-вывод-6\"><span class=\"toc-item-num\">6&nbsp;&nbsp;</span>Общий вывод</a></span></li></ul></div>"
   ]
  },
  {
   "cell_type": "markdown",
   "id": "1a85f269",
   "metadata": {},
   "source": [
    "# Сборный проект №1"
   ]
  },
  {
   "cell_type": "markdown",
   "id": "e223c769",
   "metadata": {},
   "source": [
    "### Откроем файл с данными и изучим информацию"
   ]
  },
  {
   "cell_type": "code",
   "execution_count": 1,
   "id": "3e69be23",
   "metadata": {},
   "outputs": [],
   "source": [
    "import pandas as pd\n",
    "import numpy as np\n",
    "import matplotlib.pyplot as plt\n",
    "import seaborn as sns\n",
    "from scipy import stats as st\n",
    "import warnings\n",
    "warnings.simplefilter(action='ignore', category=FutureWarning)"
   ]
  },
  {
   "cell_type": "code",
   "execution_count": 2,
   "id": "0ad995be",
   "metadata": {},
   "outputs": [
    {
     "name": "stdout",
     "output_type": "stream",
     "text": [
      "<class 'pandas.core.frame.DataFrame'>\n",
      "RangeIndex: 16715 entries, 0 to 16714\n",
      "Data columns (total 11 columns):\n",
      " #   Column           Non-Null Count  Dtype  \n",
      "---  ------           --------------  -----  \n",
      " 0   Name             16713 non-null  object \n",
      " 1   Platform         16715 non-null  object \n",
      " 2   Year_of_Release  16446 non-null  float64\n",
      " 3   Genre            16713 non-null  object \n",
      " 4   NA_sales         16715 non-null  float64\n",
      " 5   EU_sales         16715 non-null  float64\n",
      " 6   JP_sales         16715 non-null  float64\n",
      " 7   Other_sales      16715 non-null  float64\n",
      " 8   Critic_Score     8137 non-null   float64\n",
      " 9   User_Score       10014 non-null  object \n",
      " 10  Rating           9949 non-null   object \n",
      "dtypes: float64(6), object(5)\n",
      "memory usage: 1.4+ MB\n",
      "                       Name Platform  Year_of_Release         Genre  NA_sales  \\\n",
      "0                Wii Sports      Wii           2006.0        Sports     41.36   \n",
      "1         Super Mario Bros.      NES           1985.0      Platform     29.08   \n",
      "2            Mario Kart Wii      Wii           2008.0        Racing     15.68   \n",
      "3         Wii Sports Resort      Wii           2009.0        Sports     15.61   \n",
      "4  Pokemon Red/Pokemon Blue       GB           1996.0  Role-Playing     11.27   \n",
      "\n",
      "   EU_sales  JP_sales  Other_sales  Critic_Score User_Score Rating  \n",
      "0     28.96      3.77         8.45          76.0          8      E  \n",
      "1      3.58      6.81         0.77           NaN        NaN    NaN  \n",
      "2     12.76      3.79         3.29          82.0        8.3      E  \n",
      "3     10.93      3.28         2.95          80.0          8      E  \n",
      "4      8.89     10.22         1.00           NaN        NaN    NaN  \n"
     ]
    }
   ],
   "source": [
    "df = pd.read_csv('/datasets/games.csv')\n",
    "df.info()"
   ]
  },
  {
   "cell_type": "code",
   "execution_count": 3,
   "id": "7e8876fc",
   "metadata": {},
   "outputs": [
    {
     "data": {
      "text/html": [
       "<div>\n",
       "<style scoped>\n",
       "    .dataframe tbody tr th:only-of-type {\n",
       "        vertical-align: middle;\n",
       "    }\n",
       "\n",
       "    .dataframe tbody tr th {\n",
       "        vertical-align: top;\n",
       "    }\n",
       "\n",
       "    .dataframe thead th {\n",
       "        text-align: right;\n",
       "    }\n",
       "</style>\n",
       "<table border=\"1\" class=\"dataframe\">\n",
       "  <thead>\n",
       "    <tr style=\"text-align: right;\">\n",
       "      <th></th>\n",
       "      <th>Name</th>\n",
       "      <th>Platform</th>\n",
       "      <th>Year_of_Release</th>\n",
       "      <th>Genre</th>\n",
       "      <th>NA_sales</th>\n",
       "      <th>EU_sales</th>\n",
       "      <th>JP_sales</th>\n",
       "      <th>Other_sales</th>\n",
       "      <th>Critic_Score</th>\n",
       "      <th>User_Score</th>\n",
       "      <th>Rating</th>\n",
       "    </tr>\n",
       "  </thead>\n",
       "  <tbody>\n",
       "    <tr>\n",
       "      <th>0</th>\n",
       "      <td>Wii Sports</td>\n",
       "      <td>Wii</td>\n",
       "      <td>2006.0</td>\n",
       "      <td>Sports</td>\n",
       "      <td>41.36</td>\n",
       "      <td>28.96</td>\n",
       "      <td>3.77</td>\n",
       "      <td>8.45</td>\n",
       "      <td>76.0</td>\n",
       "      <td>8</td>\n",
       "      <td>E</td>\n",
       "    </tr>\n",
       "    <tr>\n",
       "      <th>1</th>\n",
       "      <td>Super Mario Bros.</td>\n",
       "      <td>NES</td>\n",
       "      <td>1985.0</td>\n",
       "      <td>Platform</td>\n",
       "      <td>29.08</td>\n",
       "      <td>3.58</td>\n",
       "      <td>6.81</td>\n",
       "      <td>0.77</td>\n",
       "      <td>NaN</td>\n",
       "      <td>NaN</td>\n",
       "      <td>NaN</td>\n",
       "    </tr>\n",
       "    <tr>\n",
       "      <th>2</th>\n",
       "      <td>Mario Kart Wii</td>\n",
       "      <td>Wii</td>\n",
       "      <td>2008.0</td>\n",
       "      <td>Racing</td>\n",
       "      <td>15.68</td>\n",
       "      <td>12.76</td>\n",
       "      <td>3.79</td>\n",
       "      <td>3.29</td>\n",
       "      <td>82.0</td>\n",
       "      <td>8.3</td>\n",
       "      <td>E</td>\n",
       "    </tr>\n",
       "    <tr>\n",
       "      <th>3</th>\n",
       "      <td>Wii Sports Resort</td>\n",
       "      <td>Wii</td>\n",
       "      <td>2009.0</td>\n",
       "      <td>Sports</td>\n",
       "      <td>15.61</td>\n",
       "      <td>10.93</td>\n",
       "      <td>3.28</td>\n",
       "      <td>2.95</td>\n",
       "      <td>80.0</td>\n",
       "      <td>8</td>\n",
       "      <td>E</td>\n",
       "    </tr>\n",
       "    <tr>\n",
       "      <th>4</th>\n",
       "      <td>Pokemon Red/Pokemon Blue</td>\n",
       "      <td>GB</td>\n",
       "      <td>1996.0</td>\n",
       "      <td>Role-Playing</td>\n",
       "      <td>11.27</td>\n",
       "      <td>8.89</td>\n",
       "      <td>10.22</td>\n",
       "      <td>1.00</td>\n",
       "      <td>NaN</td>\n",
       "      <td>NaN</td>\n",
       "      <td>NaN</td>\n",
       "    </tr>\n",
       "  </tbody>\n",
       "</table>\n",
       "</div>"
      ],
      "text/plain": [
       "                       Name Platform  Year_of_Release         Genre  NA_sales  \\\n",
       "0                Wii Sports      Wii           2006.0        Sports     41.36   \n",
       "1         Super Mario Bros.      NES           1985.0      Platform     29.08   \n",
       "2            Mario Kart Wii      Wii           2008.0        Racing     15.68   \n",
       "3         Wii Sports Resort      Wii           2009.0        Sports     15.61   \n",
       "4  Pokemon Red/Pokemon Blue       GB           1996.0  Role-Playing     11.27   \n",
       "\n",
       "   EU_sales  JP_sales  Other_sales  Critic_Score User_Score Rating  \n",
       "0     28.96      3.77         8.45          76.0          8      E  \n",
       "1      3.58      6.81         0.77           NaN        NaN    NaN  \n",
       "2     12.76      3.79         3.29          82.0        8.3      E  \n",
       "3     10.93      3.28         2.95          80.0          8      E  \n",
       "4      8.89     10.22         1.00           NaN        NaN    NaN  "
      ]
     },
     "execution_count": 3,
     "metadata": {},
     "output_type": "execute_result"
    }
   ],
   "source": [
    "df.head(5)"
   ]
  },
  {
   "cell_type": "markdown",
   "id": "c43ad81a",
   "metadata": {},
   "source": [
    "Некоторые столбцы содержат неверный формат - необходимо будет изменить его. Названия столбцов необходимо привести к нижнему регистру.\n",
    "Также присутствуют пропуски в значениях - необходимо найти логическую замену этим пропускам или оставить их пустыми, если такой замены найти нвозможно. Также нуобходимо посчитать суммарные продажи во всех регионах и записать их в отдельный столбец"
   ]
  },
  {
   "cell_type": "markdown",
   "id": "a8ec531f",
   "metadata": {},
   "source": [
    "### Переработка данных"
   ]
  },
  {
   "cell_type": "markdown",
   "id": "c0e8d5d5",
   "metadata": {},
   "source": [
    "Переименуем столбцы и приведем названия к нижнем регистру"
   ]
  },
  {
   "cell_type": "code",
   "execution_count": 4,
   "id": "911713aa",
   "metadata": {},
   "outputs": [
    {
     "data": {
      "text/plain": [
       "['name',\n",
       " 'platform',\n",
       " 'year_of_release',\n",
       " 'genre',\n",
       " 'na_sales',\n",
       " 'eu_sales',\n",
       " 'jp_sales',\n",
       " 'other_sales',\n",
       " 'critic_score',\n",
       " 'user_score',\n",
       " 'rating']"
      ]
     },
     "execution_count": 4,
     "metadata": {},
     "output_type": "execute_result"
    }
   ],
   "source": [
    "df = df.rename(columns={'Name': 'name','Platform':'platform','Year_of_Release':'year_of_release',\\\n",
    "                       'Genre':'genre','NA_sales':'na_sales','EU_sales':'eu_sales','JP_sales':'jp_sales',\\\n",
    "                       'Other_sales':'other_sales','Critic_Score':'critic_score',\\\n",
    "                       'User_Score':'user_score','Rating':'rating'})\n",
    "\n",
    "#Проверим результат\n",
    "df.columns.tolist()"
   ]
  },
  {
   "cell_type": "markdown",
   "id": "b2e5acfb",
   "metadata": {},
   "source": [
    "**Преобразуем данные в нужные типы**"
   ]
  },
  {
   "cell_type": "code",
   "execution_count": 5,
   "id": "ec0f0a9c",
   "metadata": {},
   "outputs": [
    {
     "data": {
      "text/plain": [
       "array([76., nan, 82., 80., 89., 58., 87., 91., 61., 97., 95., 77., 88.,\n",
       "       83., 94., 93., 85., 86., 98., 96., 90., 84., 73., 74., 78., 92.,\n",
       "       71., 72., 68., 62., 49., 67., 81., 66., 56., 79., 70., 59., 64.,\n",
       "       75., 60., 63., 69., 50., 25., 42., 44., 55., 48., 57., 29., 47.,\n",
       "       65., 54., 20., 53., 37., 38., 33., 52., 30., 32., 43., 45., 51.,\n",
       "       40., 46., 39., 34., 35., 41., 36., 28., 31., 27., 26., 19., 23.,\n",
       "       24., 21., 17., 22., 13.])"
      ]
     },
     "execution_count": 5,
     "metadata": {},
     "output_type": "execute_result"
    }
   ],
   "source": [
    "#Проверим уникальные значения столбца Critical Score\n",
    "df['critic_score'].unique()"
   ]
  },
  {
   "cell_type": "markdown",
   "id": "09ba9c85",
   "metadata": {},
   "source": [
    "Значения оценок критиков в столбце имеют целые значения, но тип данных неверный. Необходимо заменить тип данных. Так же заменим тип данных у столбца year_of_Release"
   ]
  },
  {
   "cell_type": "code",
   "execution_count": 6,
   "id": "aa578ab9",
   "metadata": {},
   "outputs": [
    {
     "data": {
      "text/plain": [
       "<IntegerArray>\n",
       "[  76, <NA>,   82,   80,   89,   58,   87,   91,   61,   97,   95,   77,   88,\n",
       "   83,   94,   93,   85,   86,   98,   96,   90,   84,   73,   74,   78,   92,\n",
       "   71,   72,   68,   62,   49,   67,   81,   66,   56,   79,   70,   59,   64,\n",
       "   75,   60,   63,   69,   50,   25,   42,   44,   55,   48,   57,   29,   47,\n",
       "   65,   54,   20,   53,   37,   38,   33,   52,   30,   32,   43,   45,   51,\n",
       "   40,   46,   39,   34,   35,   41,   36,   28,   31,   27,   26,   19,   23,\n",
       "   24,   21,   17,   22,   13]\n",
       "Length: 83, dtype: Int64"
      ]
     },
     "execution_count": 6,
     "metadata": {},
     "output_type": "execute_result"
    }
   ],
   "source": [
    "df['year_of_release']= df['year_of_release'].astype('Int64')\n",
    "df['critic_score']= df['critic_score'].astype('Int64')\n",
    "df['critic_score'].unique()"
   ]
  },
  {
   "cell_type": "markdown",
   "id": "c6b04fe8",
   "metadata": {},
   "source": [
    "**Опеределим количество пропущеных значений в датасете:**"
   ]
  },
  {
   "cell_type": "code",
   "execution_count": 7,
   "id": "f76d0965",
   "metadata": {},
   "outputs": [
    {
     "data": {
      "text/plain": [
       "name                  2\n",
       "platform              0\n",
       "year_of_release     269\n",
       "genre                 2\n",
       "na_sales              0\n",
       "eu_sales              0\n",
       "jp_sales              0\n",
       "other_sales           0\n",
       "critic_score       8578\n",
       "user_score         6701\n",
       "rating             6766\n",
       "dtype: int64"
      ]
     },
     "execution_count": 7,
     "metadata": {},
     "output_type": "execute_result"
    }
   ],
   "source": [
    "df.isna().sum()"
   ]
  },
  {
   "cell_type": "markdown",
   "id": "6e55ad57",
   "metadata": {},
   "source": [
    "Данные с пропусками в столбцах название и жанр можно просто удалить, их очень малое количество. Пропуски в данных оценок критиков и пользователей придется оставить как есть, т.к просто заменить их по медианным значениям или средней мы не можем, как не можем и заменить их нулями. Пропуски в оценках рейтинга можно заменить обозначением \"Рейтинг не определен\", т.к рейтинг оценок ESRB используется только для стран США и Канады, поэтому скорее всего это значит что игры были выпущены не только для этих стран. Так же в столбце \"year_of_release\" имеется 269 пропусков - проверим остальную информацию для этих строк и примем решение."
   ]
  },
  {
   "cell_type": "code",
   "execution_count": 8,
   "id": "81e70824",
   "metadata": {},
   "outputs": [],
   "source": [
    "#Заменим пропуски в толбце rating\n",
    "df['rating']= df['rating'].fillna('not determined')"
   ]
  },
  {
   "cell_type": "code",
   "execution_count": 9,
   "id": "3009942b",
   "metadata": {},
   "outputs": [
    {
     "data": {
      "text/html": [
       "<div>\n",
       "<style scoped>\n",
       "    .dataframe tbody tr th:only-of-type {\n",
       "        vertical-align: middle;\n",
       "    }\n",
       "\n",
       "    .dataframe tbody tr th {\n",
       "        vertical-align: top;\n",
       "    }\n",
       "\n",
       "    .dataframe thead th {\n",
       "        text-align: right;\n",
       "    }\n",
       "</style>\n",
       "<table border=\"1\" class=\"dataframe\">\n",
       "  <thead>\n",
       "    <tr style=\"text-align: right;\">\n",
       "      <th></th>\n",
       "      <th>name</th>\n",
       "      <th>platform</th>\n",
       "      <th>year_of_release</th>\n",
       "      <th>genre</th>\n",
       "      <th>na_sales</th>\n",
       "      <th>eu_sales</th>\n",
       "      <th>jp_sales</th>\n",
       "      <th>other_sales</th>\n",
       "      <th>critic_score</th>\n",
       "      <th>user_score</th>\n",
       "      <th>rating</th>\n",
       "    </tr>\n",
       "  </thead>\n",
       "  <tbody>\n",
       "    <tr>\n",
       "      <th>183</th>\n",
       "      <td>Madden NFL 2004</td>\n",
       "      <td>PS2</td>\n",
       "      <td>&lt;NA&gt;</td>\n",
       "      <td>Sports</td>\n",
       "      <td>4.26</td>\n",
       "      <td>0.26</td>\n",
       "      <td>0.01</td>\n",
       "      <td>0.71</td>\n",
       "      <td>94</td>\n",
       "      <td>8.5</td>\n",
       "      <td>E</td>\n",
       "    </tr>\n",
       "    <tr>\n",
       "      <th>377</th>\n",
       "      <td>FIFA Soccer 2004</td>\n",
       "      <td>PS2</td>\n",
       "      <td>&lt;NA&gt;</td>\n",
       "      <td>Sports</td>\n",
       "      <td>0.59</td>\n",
       "      <td>2.36</td>\n",
       "      <td>0.04</td>\n",
       "      <td>0.51</td>\n",
       "      <td>84</td>\n",
       "      <td>6.4</td>\n",
       "      <td>E</td>\n",
       "    </tr>\n",
       "    <tr>\n",
       "      <th>456</th>\n",
       "      <td>LEGO Batman: The Videogame</td>\n",
       "      <td>Wii</td>\n",
       "      <td>&lt;NA&gt;</td>\n",
       "      <td>Action</td>\n",
       "      <td>1.80</td>\n",
       "      <td>0.97</td>\n",
       "      <td>0.00</td>\n",
       "      <td>0.29</td>\n",
       "      <td>74</td>\n",
       "      <td>7.9</td>\n",
       "      <td>E10+</td>\n",
       "    </tr>\n",
       "    <tr>\n",
       "      <th>475</th>\n",
       "      <td>wwe Smackdown vs. Raw 2006</td>\n",
       "      <td>PS2</td>\n",
       "      <td>&lt;NA&gt;</td>\n",
       "      <td>Fighting</td>\n",
       "      <td>1.57</td>\n",
       "      <td>1.02</td>\n",
       "      <td>0.00</td>\n",
       "      <td>0.41</td>\n",
       "      <td>&lt;NA&gt;</td>\n",
       "      <td>NaN</td>\n",
       "      <td>not determined</td>\n",
       "    </tr>\n",
       "    <tr>\n",
       "      <th>609</th>\n",
       "      <td>Space Invaders</td>\n",
       "      <td>2600</td>\n",
       "      <td>&lt;NA&gt;</td>\n",
       "      <td>Shooter</td>\n",
       "      <td>2.36</td>\n",
       "      <td>0.14</td>\n",
       "      <td>0.00</td>\n",
       "      <td>0.03</td>\n",
       "      <td>&lt;NA&gt;</td>\n",
       "      <td>NaN</td>\n",
       "      <td>not determined</td>\n",
       "    </tr>\n",
       "    <tr>\n",
       "      <th>...</th>\n",
       "      <td>...</td>\n",
       "      <td>...</td>\n",
       "      <td>...</td>\n",
       "      <td>...</td>\n",
       "      <td>...</td>\n",
       "      <td>...</td>\n",
       "      <td>...</td>\n",
       "      <td>...</td>\n",
       "      <td>...</td>\n",
       "      <td>...</td>\n",
       "      <td>...</td>\n",
       "    </tr>\n",
       "    <tr>\n",
       "      <th>16373</th>\n",
       "      <td>PDC World Championship Darts 2008</td>\n",
       "      <td>PSP</td>\n",
       "      <td>&lt;NA&gt;</td>\n",
       "      <td>Sports</td>\n",
       "      <td>0.01</td>\n",
       "      <td>0.00</td>\n",
       "      <td>0.00</td>\n",
       "      <td>0.00</td>\n",
       "      <td>43</td>\n",
       "      <td>tbd</td>\n",
       "      <td>E10+</td>\n",
       "    </tr>\n",
       "    <tr>\n",
       "      <th>16405</th>\n",
       "      <td>Freaky Flyers</td>\n",
       "      <td>GC</td>\n",
       "      <td>&lt;NA&gt;</td>\n",
       "      <td>Racing</td>\n",
       "      <td>0.01</td>\n",
       "      <td>0.00</td>\n",
       "      <td>0.00</td>\n",
       "      <td>0.00</td>\n",
       "      <td>69</td>\n",
       "      <td>6.5</td>\n",
       "      <td>T</td>\n",
       "    </tr>\n",
       "    <tr>\n",
       "      <th>16448</th>\n",
       "      <td>Inversion</td>\n",
       "      <td>PC</td>\n",
       "      <td>&lt;NA&gt;</td>\n",
       "      <td>Shooter</td>\n",
       "      <td>0.01</td>\n",
       "      <td>0.00</td>\n",
       "      <td>0.00</td>\n",
       "      <td>0.00</td>\n",
       "      <td>59</td>\n",
       "      <td>6.7</td>\n",
       "      <td>M</td>\n",
       "    </tr>\n",
       "    <tr>\n",
       "      <th>16458</th>\n",
       "      <td>Hakuouki: Shinsengumi Kitan</td>\n",
       "      <td>PS3</td>\n",
       "      <td>&lt;NA&gt;</td>\n",
       "      <td>Adventure</td>\n",
       "      <td>0.01</td>\n",
       "      <td>0.00</td>\n",
       "      <td>0.00</td>\n",
       "      <td>0.00</td>\n",
       "      <td>&lt;NA&gt;</td>\n",
       "      <td>NaN</td>\n",
       "      <td>not determined</td>\n",
       "    </tr>\n",
       "    <tr>\n",
       "      <th>16522</th>\n",
       "      <td>Virtua Quest</td>\n",
       "      <td>GC</td>\n",
       "      <td>&lt;NA&gt;</td>\n",
       "      <td>Role-Playing</td>\n",
       "      <td>0.01</td>\n",
       "      <td>0.00</td>\n",
       "      <td>0.00</td>\n",
       "      <td>0.00</td>\n",
       "      <td>55</td>\n",
       "      <td>5.5</td>\n",
       "      <td>T</td>\n",
       "    </tr>\n",
       "  </tbody>\n",
       "</table>\n",
       "<p>269 rows × 11 columns</p>\n",
       "</div>"
      ],
      "text/plain": [
       "                                    name platform  year_of_release  \\\n",
       "183                      Madden NFL 2004      PS2             <NA>   \n",
       "377                     FIFA Soccer 2004      PS2             <NA>   \n",
       "456           LEGO Batman: The Videogame      Wii             <NA>   \n",
       "475           wwe Smackdown vs. Raw 2006      PS2             <NA>   \n",
       "609                       Space Invaders     2600             <NA>   \n",
       "...                                  ...      ...              ...   \n",
       "16373  PDC World Championship Darts 2008      PSP             <NA>   \n",
       "16405                      Freaky Flyers       GC             <NA>   \n",
       "16448                          Inversion       PC             <NA>   \n",
       "16458        Hakuouki: Shinsengumi Kitan      PS3             <NA>   \n",
       "16522                       Virtua Quest       GC             <NA>   \n",
       "\n",
       "              genre  na_sales  eu_sales  jp_sales  other_sales  critic_score  \\\n",
       "183          Sports      4.26      0.26      0.01         0.71            94   \n",
       "377          Sports      0.59      2.36      0.04         0.51            84   \n",
       "456          Action      1.80      0.97      0.00         0.29            74   \n",
       "475        Fighting      1.57      1.02      0.00         0.41          <NA>   \n",
       "609         Shooter      2.36      0.14      0.00         0.03          <NA>   \n",
       "...             ...       ...       ...       ...          ...           ...   \n",
       "16373        Sports      0.01      0.00      0.00         0.00            43   \n",
       "16405        Racing      0.01      0.00      0.00         0.00            69   \n",
       "16448       Shooter      0.01      0.00      0.00         0.00            59   \n",
       "16458     Adventure      0.01      0.00      0.00         0.00          <NA>   \n",
       "16522  Role-Playing      0.01      0.00      0.00         0.00            55   \n",
       "\n",
       "      user_score          rating  \n",
       "183          8.5               E  \n",
       "377          6.4               E  \n",
       "456          7.9            E10+  \n",
       "475          NaN  not determined  \n",
       "609          NaN  not determined  \n",
       "...          ...             ...  \n",
       "16373        tbd            E10+  \n",
       "16405        6.5               T  \n",
       "16448        6.7               M  \n",
       "16458        NaN  not determined  \n",
       "16522        5.5               T  \n",
       "\n",
       "[269 rows x 11 columns]"
      ]
     },
     "metadata": {},
     "output_type": "display_data"
    }
   ],
   "source": [
    "#Проверим остальную информацию для строк в которых были допущены пропуски в столбце \"year_of_release\"\n",
    "display(df[df['year_of_release'].isna()])"
   ]
  },
  {
   "cell_type": "code",
   "execution_count": 10,
   "id": "215e9ce9",
   "metadata": {},
   "outputs": [
    {
     "data": {
      "text/plain": [
       "critic_score       51.319174\n",
       "user_score         40.089740\n",
       "year_of_release     1.609333\n",
       "name                0.011965\n",
       "genre               0.011965\n",
       "platform            0.000000\n",
       "na_sales            0.000000\n",
       "eu_sales            0.000000\n",
       "jp_sales            0.000000\n",
       "other_sales         0.000000\n",
       "rating              0.000000\n",
       "dtype: float64"
      ]
     },
     "execution_count": 10,
     "metadata": {},
     "output_type": "execute_result"
    }
   ],
   "source": [
    "#Посчитаем процент пропусков по столбцам\n",
    "df.isnull().sum().sort_values(ascending = False) / df.shape[0] * 100"
   ]
  },
  {
   "cell_type": "markdown",
   "id": "f17322ec",
   "metadata": {},
   "source": [
    "В этих строках так же встречаются пропуски с оценками критиков и покупателей. Удалим эти строки"
   ]
  },
  {
   "cell_type": "code",
   "execution_count": 11,
   "id": "eec59da6",
   "metadata": {},
   "outputs": [],
   "source": [
    "#удали строки с пропусками\n",
    "df= df.dropna(subset=['name', 'year_of_release' ])"
   ]
  },
  {
   "cell_type": "code",
   "execution_count": 12,
   "id": "bad29d0f",
   "metadata": {},
   "outputs": [
    {
     "data": {
      "text/plain": [
       "name                  0\n",
       "platform              0\n",
       "year_of_release       0\n",
       "genre                 0\n",
       "na_sales              0\n",
       "eu_sales              0\n",
       "jp_sales              0\n",
       "other_sales           0\n",
       "critic_score       8461\n",
       "user_score         6605\n",
       "rating                0\n",
       "dtype: int64"
      ]
     },
     "execution_count": 12,
     "metadata": {},
     "output_type": "execute_result"
    }
   ],
   "source": [
    "#Еще раз проверим количество пропусков в столбцах\n",
    "df.isna().sum()"
   ]
  },
  {
   "cell_type": "markdown",
   "id": "e08982b1",
   "metadata": {},
   "source": [
    "В столбце с оценкой пользователей присутсвует аббревиатура - 'tbd'. Это означает что оценка требует уточнений. Определим количество таких значений в столбце."
   ]
  },
  {
   "cell_type": "code",
   "execution_count": 13,
   "id": "6f75c492",
   "metadata": {},
   "outputs": [
    {
     "data": {
      "text/plain": [
       "tbd    2376\n",
       "7.8     322\n",
       "8       285\n",
       "8.2     276\n",
       "8.3     252\n",
       "       ... \n",
       "0.6       2\n",
       "1.3       2\n",
       "1         2\n",
       "9.7       1\n",
       "0         1\n",
       "Name: user_score, Length: 96, dtype: int64"
      ]
     },
     "execution_count": 13,
     "metadata": {},
     "output_type": "execute_result"
    }
   ],
   "source": [
    "df['user_score'].value_counts()"
   ]
  },
  {
   "cell_type": "markdown",
   "id": "329036e1",
   "metadata": {},
   "source": [
    "Т.к эти значения нельзя заменить на медианные\\средние - мы заменим их пропусками, чтобы была возможность выполнять с ними вычесления."
   ]
  },
  {
   "cell_type": "code",
   "execution_count": 14,
   "id": "5a323e06",
   "metadata": {},
   "outputs": [],
   "source": [
    "df['user_score'] = df['user_score'].replace('tbd', 'NaN', regex=True)\n",
    "df['user_score'] = df['user_score'].astype('float')"
   ]
  },
  {
   "cell_type": "code",
   "execution_count": 15,
   "id": "5718fb75",
   "metadata": {},
   "outputs": [
    {
     "data": {
      "text/plain": [
       "7.8    322\n",
       "8.0    285\n",
       "8.2    276\n",
       "8.3    252\n",
       "7.5    249\n",
       "      ... \n",
       "2.3      2\n",
       "0.7      2\n",
       "1.1      2\n",
       "9.7      1\n",
       "0.0      1\n",
       "Name: user_score, Length: 95, dtype: int64"
      ]
     },
     "execution_count": 15,
     "metadata": {},
     "output_type": "execute_result"
    }
   ],
   "source": [
    "df['user_score'].value_counts()"
   ]
  },
  {
   "cell_type": "code",
   "execution_count": 16,
   "id": "24f244e3",
   "metadata": {},
   "outputs": [
    {
     "data": {
      "text/html": [
       "<div>\n",
       "<style scoped>\n",
       "    .dataframe tbody tr th:only-of-type {\n",
       "        vertical-align: middle;\n",
       "    }\n",
       "\n",
       "    .dataframe tbody tr th {\n",
       "        vertical-align: top;\n",
       "    }\n",
       "\n",
       "    .dataframe thead th {\n",
       "        text-align: right;\n",
       "    }\n",
       "</style>\n",
       "<table border=\"1\" class=\"dataframe\">\n",
       "  <thead>\n",
       "    <tr style=\"text-align: right;\">\n",
       "      <th></th>\n",
       "      <th>name</th>\n",
       "      <th>platform</th>\n",
       "      <th>year_of_release</th>\n",
       "      <th>genre</th>\n",
       "      <th>na_sales</th>\n",
       "      <th>eu_sales</th>\n",
       "      <th>jp_sales</th>\n",
       "      <th>other_sales</th>\n",
       "      <th>critic_score</th>\n",
       "      <th>user_score</th>\n",
       "      <th>rating</th>\n",
       "      <th>all_sales</th>\n",
       "    </tr>\n",
       "  </thead>\n",
       "  <tbody>\n",
       "    <tr>\n",
       "      <th>0</th>\n",
       "      <td>Wii Sports</td>\n",
       "      <td>Wii</td>\n",
       "      <td>2006</td>\n",
       "      <td>Sports</td>\n",
       "      <td>41.36</td>\n",
       "      <td>28.96</td>\n",
       "      <td>3.77</td>\n",
       "      <td>8.45</td>\n",
       "      <td>76</td>\n",
       "      <td>8.0</td>\n",
       "      <td>E</td>\n",
       "      <td>82.54</td>\n",
       "    </tr>\n",
       "    <tr>\n",
       "      <th>1</th>\n",
       "      <td>Super Mario Bros.</td>\n",
       "      <td>NES</td>\n",
       "      <td>1985</td>\n",
       "      <td>Platform</td>\n",
       "      <td>29.08</td>\n",
       "      <td>3.58</td>\n",
       "      <td>6.81</td>\n",
       "      <td>0.77</td>\n",
       "      <td>&lt;NA&gt;</td>\n",
       "      <td>NaN</td>\n",
       "      <td>not determined</td>\n",
       "      <td>40.24</td>\n",
       "    </tr>\n",
       "    <tr>\n",
       "      <th>2</th>\n",
       "      <td>Mario Kart Wii</td>\n",
       "      <td>Wii</td>\n",
       "      <td>2008</td>\n",
       "      <td>Racing</td>\n",
       "      <td>15.68</td>\n",
       "      <td>12.76</td>\n",
       "      <td>3.79</td>\n",
       "      <td>3.29</td>\n",
       "      <td>82</td>\n",
       "      <td>8.3</td>\n",
       "      <td>E</td>\n",
       "      <td>35.52</td>\n",
       "    </tr>\n",
       "    <tr>\n",
       "      <th>3</th>\n",
       "      <td>Wii Sports Resort</td>\n",
       "      <td>Wii</td>\n",
       "      <td>2009</td>\n",
       "      <td>Sports</td>\n",
       "      <td>15.61</td>\n",
       "      <td>10.93</td>\n",
       "      <td>3.28</td>\n",
       "      <td>2.95</td>\n",
       "      <td>80</td>\n",
       "      <td>8.0</td>\n",
       "      <td>E</td>\n",
       "      <td>32.77</td>\n",
       "    </tr>\n",
       "    <tr>\n",
       "      <th>4</th>\n",
       "      <td>Pokemon Red/Pokemon Blue</td>\n",
       "      <td>GB</td>\n",
       "      <td>1996</td>\n",
       "      <td>Role-Playing</td>\n",
       "      <td>11.27</td>\n",
       "      <td>8.89</td>\n",
       "      <td>10.22</td>\n",
       "      <td>1.00</td>\n",
       "      <td>&lt;NA&gt;</td>\n",
       "      <td>NaN</td>\n",
       "      <td>not determined</td>\n",
       "      <td>31.38</td>\n",
       "    </tr>\n",
       "  </tbody>\n",
       "</table>\n",
       "</div>"
      ],
      "text/plain": [
       "                       name platform  year_of_release         genre  na_sales  \\\n",
       "0                Wii Sports      Wii             2006        Sports     41.36   \n",
       "1         Super Mario Bros.      NES             1985      Platform     29.08   \n",
       "2            Mario Kart Wii      Wii             2008        Racing     15.68   \n",
       "3         Wii Sports Resort      Wii             2009        Sports     15.61   \n",
       "4  Pokemon Red/Pokemon Blue       GB             1996  Role-Playing     11.27   \n",
       "\n",
       "   eu_sales  jp_sales  other_sales  critic_score  user_score          rating  \\\n",
       "0     28.96      3.77         8.45            76         8.0               E   \n",
       "1      3.58      6.81         0.77          <NA>         NaN  not determined   \n",
       "2     12.76      3.79         3.29            82         8.3               E   \n",
       "3     10.93      3.28         2.95            80         8.0               E   \n",
       "4      8.89     10.22         1.00          <NA>         NaN  not determined   \n",
       "\n",
       "   all_sales  \n",
       "0      82.54  \n",
       "1      40.24  \n",
       "2      35.52  \n",
       "3      32.77  \n",
       "4      31.38  "
      ]
     },
     "execution_count": 16,
     "metadata": {},
     "output_type": "execute_result"
    }
   ],
   "source": [
    "#Посчитаем продажи во всех регионах и добавим в отдельный столбец\n",
    "df['all_sales'] = df['na_sales']+df['eu_sales']+df['jp_sales']+df['other_sales']\n",
    "df.head()"
   ]
  },
  {
   "cell_type": "code",
   "execution_count": 17,
   "id": "af71e264",
   "metadata": {},
   "outputs": [
    {
     "data": {
      "text/plain": [
       "0"
      ]
     },
     "execution_count": 17,
     "metadata": {},
     "output_type": "execute_result"
    }
   ],
   "source": [
    "#Проверим наличие дубликатов\n",
    "df.duplicated().sum()"
   ]
  },
  {
   "cell_type": "markdown",
   "id": "db137ceb",
   "metadata": {},
   "source": [
    "Отлично. Дубликатов нет."
   ]
  },
  {
   "cell_type": "code",
   "execution_count": 18,
   "id": "7252b6d9",
   "metadata": {},
   "outputs": [
    {
     "name": "stdout",
     "output_type": "stream",
     "text": [
      "<class 'pandas.core.frame.DataFrame'>\n",
      "Int64Index: 16444 entries, 0 to 16714\n",
      "Data columns (total 12 columns):\n",
      " #   Column           Non-Null Count  Dtype  \n",
      "---  ------           --------------  -----  \n",
      " 0   name             16444 non-null  object \n",
      " 1   platform         16444 non-null  object \n",
      " 2   year_of_release  16444 non-null  Int64  \n",
      " 3   genre            16444 non-null  object \n",
      " 4   na_sales         16444 non-null  float64\n",
      " 5   eu_sales         16444 non-null  float64\n",
      " 6   jp_sales         16444 non-null  float64\n",
      " 7   other_sales      16444 non-null  float64\n",
      " 8   critic_score     7983 non-null   Int64  \n",
      " 9   user_score       7463 non-null   float64\n",
      " 10  rating           16444 non-null  object \n",
      " 11  all_sales        16444 non-null  float64\n",
      "dtypes: Int64(2), float64(6), object(4)\n",
      "memory usage: 1.7+ MB\n",
      "None\n",
      "-------------------------\n",
      "name [' Beyblade Burst' ' Fire Emblem Fates' \" Frozen: Olaf's Quest\" ...\n",
      " 'uDraw Studio' 'uDraw Studio: Instant Artist'\n",
      " '¡Shin Chan Flipa en colores!']\n",
      "name : кол-во NaN 0 , процент NaN 0.0 %\n",
      "-------------------------\n",
      "platform ['2600' '3DO' '3DS' 'DC' 'DS' 'GB' 'GBA' 'GC' 'GEN' 'GG' 'N64' 'NES' 'NG'\n",
      " 'PC' 'PCFX' 'PS' 'PS2' 'PS3' 'PS4' 'PSP' 'PSV' 'SAT' 'SCD' 'SNES' 'TG16'\n",
      " 'WS' 'Wii' 'WiiU' 'X360' 'XB' 'XOne']\n",
      "platform : кол-во NaN 0 , процент NaN 0.0 %\n",
      "-------------------------\n",
      "year_of_release <IntegerArray>\n",
      "[1980, 1981, 1982, 1983, 1984, 1985, 1986, 1987, 1988, 1989, 1990, 1991, 1992,\n",
      " 1993, 1994, 1995, 1996, 1997, 1998, 1999, 2000, 2001, 2002, 2003, 2004, 2005,\n",
      " 2006, 2007, 2008, 2009, 2010, 2011, 2012, 2013, 2014, 2015, 2016]\n",
      "Length: 37, dtype: Int64\n",
      "year_of_release : кол-во NaN 0 , процент NaN 0.0 %\n",
      "-------------------------\n",
      "genre ['Action' 'Adventure' 'Fighting' 'Misc' 'Platform' 'Puzzle' 'Racing'\n",
      " 'Role-Playing' 'Shooter' 'Simulation' 'Sports' 'Strategy']\n",
      "genre : кол-во NaN 0 , процент NaN 0.0 %\n",
      "-------------------------\n",
      "critic_score <IntegerArray>\n",
      "[  13,   17,   19,   20,   21,   23,   24,   25,   26,   27,   28,   29,   30,\n",
      "   31,   32,   33,   34,   35,   36,   37,   38,   39,   40,   41,   42,   43,\n",
      "   44,   45,   46,   47,   48,   49,   50,   51,   52,   53,   54,   55,   56,\n",
      "   57,   58,   59,   60,   61,   62,   63,   64,   65,   66,   67,   68,   69,\n",
      "   70,   71,   72,   73,   74,   75,   76,   77,   78,   79,   80,   81,   82,\n",
      "   83,   84,   85,   86,   87,   88,   89,   90,   91,   92,   93,   94,   95,\n",
      "   96,   97,   98, <NA>]\n",
      "Length: 82, dtype: Int64\n",
      "critic_score : кол-во NaN 8461 , процент NaN 51.45 %\n",
      "-------------------------\n",
      "user_score [0.  0.2 0.3 0.5 0.6 0.7 0.9 1.  1.1 1.2 1.3 1.4 1.5 1.6 1.7 1.8 1.9 2.\n",
      " 2.1 2.2 2.3 2.4 2.5 2.6 2.7 2.8 2.9 3.  3.1 3.2 3.3 3.4 3.5 3.6 3.7 3.8\n",
      " 3.9 4.  4.1 4.2 4.3 4.4 4.5 4.6 4.7 4.8 4.9 5.  5.1 5.2 5.3 5.4 5.5 5.6\n",
      " 5.7 5.8 5.9 6.  6.1 6.2 6.3 6.4 6.5 6.6 6.7 6.8 6.9 7.  7.1 7.2 7.3 7.4\n",
      " 7.5 7.6 7.7 7.8 7.9 8.  8.1 8.2 8.3 8.4 8.5 8.6 8.7 8.8 8.9 9.  9.1 9.2\n",
      " 9.3 9.4 9.5 9.6 9.7 nan]\n",
      "user_score : кол-во NaN 8981 , процент NaN 54.62 %\n",
      "-------------------------\n",
      "rating ['AO' 'E' 'E10+' 'EC' 'K-A' 'M' 'RP' 'T' 'not determined']\n",
      "rating : кол-во NaN 0 , процент NaN 0.0 %\n"
     ]
    }
   ],
   "source": [
    "# Комментарий ревьюера\n",
    "# Посмотрим, что у нас осталось\n",
    "temp = df.copy() \n",
    "list_c = ['name', 'platform', 'year_of_release', 'genre', 'critic_score', 'user_score', 'rating']\n",
    "print(temp.info())\n",
    "for col_l in list_c:\n",
    "  print('-'* 25)\n",
    "  print(col_l, temp[col_l].sort_values().unique())\n",
    "  print(col_l,': кол-во NaN',temp[col_l].isna().sum(),\n",
    "        ', процент NaN', round(temp[col_l].isna().sum()/len(temp)*100, 2),'%')"
   ]
  },
  {
   "cell_type": "markdown",
   "id": "2dc24eef",
   "metadata": {},
   "source": [
    "### Исследовательский анализ данных"
   ]
  },
  {
   "cell_type": "markdown",
   "id": "8fbdd8a0",
   "metadata": {},
   "source": [
    "**Посмотрим, сколько игр выпускалось в разные годы. Важны ли данные за все периоды?**"
   ]
  },
  {
   "cell_type": "code",
   "execution_count": 19,
   "id": "9e9049c2",
   "metadata": {},
   "outputs": [
    {
     "data": {
      "text/plain": [
       "2008    1427\n",
       "2009    1426\n",
       "2010    1255\n",
       "2007    1197\n",
       "2011    1136\n",
       "2006    1006\n",
       "2005     939\n",
       "2002     829\n",
       "2003     775\n",
       "2004     762\n",
       "2012     653\n",
       "2015     606\n",
       "2014     581\n",
       "2013     544\n",
       "2016     502\n",
       "2001     482\n",
       "1998     379\n",
       "2000     350\n",
       "1999     338\n",
       "1997     289\n",
       "1996     263\n",
       "1995     219\n",
       "1994     121\n",
       "1993      60\n",
       "1981      46\n",
       "1992      43\n",
       "1991      41\n",
       "1982      36\n",
       "1986      21\n",
       "1983      17\n",
       "1989      17\n",
       "1990      16\n",
       "1987      16\n",
       "1988      15\n",
       "1985      14\n",
       "1984      14\n",
       "1980       9\n",
       "Name: year_of_release, dtype: Int64"
      ]
     },
     "execution_count": 19,
     "metadata": {},
     "output_type": "execute_result"
    }
   ],
   "source": [
    "#Посмотрим, сколько игр выпускалось в разные годы.\n",
    "df['year_of_release'].value_counts()"
   ]
  },
  {
   "cell_type": "code",
   "execution_count": 20,
   "id": "60c0f822",
   "metadata": {},
   "outputs": [
    {
     "data": {
      "image/png": "[encoded data removed]",
      "text/plain": [
       "<Figure size 720x432 with 1 Axes>"
      ]
     },
     "metadata": {
      "needs_background": "light"
     },
     "output_type": "display_data"
    }
   ],
   "source": [
    "#Построим гистограму для удобной визуализации данных\n",
    "#df['year_of_release'].hist(bins=37,figsize=(10, 6));\n",
    "games_hist= df['year_of_release'].plot(kind='hist', bins=37,figsize=(10, 6)).legend()\n",
    "plt.title('Распределение по годам релиза');"
   ]
  },
  {
   "cell_type": "markdown",
   "id": "89d41cc4",
   "metadata": {},
   "source": [
    "У нас есть данные с 1980 года. До 1995 данные на графике \"плато\". После 1995 начался рост, скорее всего связанный с быстрым развитие технологий: компьютеры стали мощнее, а игры стали превлекательней. После 2010 года количество выпускаемых игр резко снизилось - это может быть связано с высокой ценой производства игр и развитием мобильных плтаформ.  На графике нет выбросов и слишком длинных хвостов: все данные могут быть использованы для исследования, но нас интересует только плследние 4-5 лет для корректного исследования, да и в целом технологии с 1980 года очень сильно изменились."
   ]
  },
  {
   "cell_type": "markdown",
   "id": "391be780",
   "metadata": {},
   "source": [
    "**Проверим, как менялись продажи по платформам. Выберем платформы с наибольшими суммарными продажами и построим распределение по годам. За какой характерный срок появляются новые и исчезают старые платформы?**"
   ]
  },
  {
   "cell_type": "code",
   "execution_count": 21,
   "id": "b635bf84",
   "metadata": {},
   "outputs": [
    {
     "data": {
      "text/html": [
       "<div>\n",
       "<style scoped>\n",
       "    .dataframe tbody tr th:only-of-type {\n",
       "        vertical-align: middle;\n",
       "    }\n",
       "\n",
       "    .dataframe tbody tr th {\n",
       "        vertical-align: top;\n",
       "    }\n",
       "\n",
       "    .dataframe thead th {\n",
       "        text-align: right;\n",
       "    }\n",
       "</style>\n",
       "<table border=\"1\" class=\"dataframe\">\n",
       "  <thead>\n",
       "    <tr style=\"text-align: right;\">\n",
       "      <th></th>\n",
       "      <th>all_sales</th>\n",
       "    </tr>\n",
       "    <tr>\n",
       "      <th>platform</th>\n",
       "      <th></th>\n",
       "    </tr>\n",
       "  </thead>\n",
       "  <tbody>\n",
       "    <tr>\n",
       "      <th>PS2</th>\n",
       "      <td>1233.56</td>\n",
       "    </tr>\n",
       "    <tr>\n",
       "      <th>X360</th>\n",
       "      <td>961.24</td>\n",
       "    </tr>\n",
       "    <tr>\n",
       "      <th>PS3</th>\n",
       "      <td>931.34</td>\n",
       "    </tr>\n",
       "    <tr>\n",
       "      <th>Wii</th>\n",
       "      <td>891.18</td>\n",
       "    </tr>\n",
       "    <tr>\n",
       "      <th>DS</th>\n",
       "      <td>802.78</td>\n",
       "    </tr>\n",
       "    <tr>\n",
       "      <th>PS</th>\n",
       "      <td>727.58</td>\n",
       "    </tr>\n",
       "    <tr>\n",
       "      <th>PS4</th>\n",
       "      <td>314.14</td>\n",
       "    </tr>\n",
       "    <tr>\n",
       "      <th>GBA</th>\n",
       "      <td>312.88</td>\n",
       "    </tr>\n",
       "    <tr>\n",
       "      <th>PSP</th>\n",
       "      <td>289.53</td>\n",
       "    </tr>\n",
       "    <tr>\n",
       "      <th>3DS</th>\n",
       "      <td>257.81</td>\n",
       "    </tr>\n",
       "    <tr>\n",
       "      <th>PC</th>\n",
       "      <td>255.76</td>\n",
       "    </tr>\n",
       "    <tr>\n",
       "      <th>GB</th>\n",
       "      <td>254.43</td>\n",
       "    </tr>\n",
       "    <tr>\n",
       "      <th>XB</th>\n",
       "      <td>251.57</td>\n",
       "    </tr>\n",
       "    <tr>\n",
       "      <th>NES</th>\n",
       "      <td>251.05</td>\n",
       "    </tr>\n",
       "    <tr>\n",
       "      <th>N64</th>\n",
       "      <td>218.01</td>\n",
       "    </tr>\n",
       "    <tr>\n",
       "      <th>SNES</th>\n",
       "      <td>200.04</td>\n",
       "    </tr>\n",
       "    <tr>\n",
       "      <th>GC</th>\n",
       "      <td>196.73</td>\n",
       "    </tr>\n",
       "    <tr>\n",
       "      <th>XOne</th>\n",
       "      <td>159.32</td>\n",
       "    </tr>\n",
       "    <tr>\n",
       "      <th>2600</th>\n",
       "      <td>86.48</td>\n",
       "    </tr>\n",
       "    <tr>\n",
       "      <th>WiiU</th>\n",
       "      <td>82.19</td>\n",
       "    </tr>\n",
       "    <tr>\n",
       "      <th>PSV</th>\n",
       "      <td>53.81</td>\n",
       "    </tr>\n",
       "    <tr>\n",
       "      <th>SAT</th>\n",
       "      <td>33.59</td>\n",
       "    </tr>\n",
       "    <tr>\n",
       "      <th>GEN</th>\n",
       "      <td>28.35</td>\n",
       "    </tr>\n",
       "    <tr>\n",
       "      <th>DC</th>\n",
       "      <td>15.95</td>\n",
       "    </tr>\n",
       "    <tr>\n",
       "      <th>SCD</th>\n",
       "      <td>1.86</td>\n",
       "    </tr>\n",
       "    <tr>\n",
       "      <th>NG</th>\n",
       "      <td>1.44</td>\n",
       "    </tr>\n",
       "    <tr>\n",
       "      <th>WS</th>\n",
       "      <td>1.42</td>\n",
       "    </tr>\n",
       "    <tr>\n",
       "      <th>TG16</th>\n",
       "      <td>0.16</td>\n",
       "    </tr>\n",
       "    <tr>\n",
       "      <th>3DO</th>\n",
       "      <td>0.10</td>\n",
       "    </tr>\n",
       "    <tr>\n",
       "      <th>GG</th>\n",
       "      <td>0.04</td>\n",
       "    </tr>\n",
       "    <tr>\n",
       "      <th>PCFX</th>\n",
       "      <td>0.03</td>\n",
       "    </tr>\n",
       "  </tbody>\n",
       "</table>\n",
       "</div>"
      ],
      "text/plain": [
       "          all_sales\n",
       "platform           \n",
       "PS2         1233.56\n",
       "X360         961.24\n",
       "PS3          931.34\n",
       "Wii          891.18\n",
       "DS           802.78\n",
       "PS           727.58\n",
       "PS4          314.14\n",
       "GBA          312.88\n",
       "PSP          289.53\n",
       "3DS          257.81\n",
       "PC           255.76\n",
       "GB           254.43\n",
       "XB           251.57\n",
       "NES          251.05\n",
       "N64          218.01\n",
       "SNES         200.04\n",
       "GC           196.73\n",
       "XOne         159.32\n",
       "2600          86.48\n",
       "WiiU          82.19\n",
       "PSV           53.81\n",
       "SAT           33.59\n",
       "GEN           28.35\n",
       "DC            15.95\n",
       "SCD            1.86\n",
       "NG             1.44\n",
       "WS             1.42\n",
       "TG16           0.16\n",
       "3DO            0.10\n",
       "GG             0.04\n",
       "PCFX           0.03"
      ]
     },
     "execution_count": 21,
     "metadata": {},
     "output_type": "execute_result"
    }
   ],
   "source": [
    "#Посчитаем количество игр для платформ с наибольшими продажами за все время\n",
    "pivot_sales_platform = df.groupby('platform').agg({'all_sales':'sum'})\n",
    "pivot_sales_platform.sort_values(by='all_sales', ascending=False)"
   ]
  },
  {
   "cell_type": "code",
   "execution_count": 22,
   "id": "20238e34",
   "metadata": {},
   "outputs": [
    {
     "data": {
      "image/png": "[encoded data removed]",
      "text/plain": [
       "<Figure size 432x288 with 1 Axes>"
      ]
     },
     "metadata": {
      "needs_background": "light"
     },
     "output_type": "display_data"
    }
   ],
   "source": [
    "#Также посмотрим на график продаж на всех платформах\n",
    "pivot_sales_platform.plot.bar();"
   ]
  },
  {
   "cell_type": "code",
   "execution_count": 23,
   "id": "08d7294d",
   "metadata": {},
   "outputs": [],
   "source": [
    "#Соберем самые успешные платформы по продажам в отдельные списки\n",
    "ps2 = df[df['platform']=='PS2']\n",
    "ds = df[df['platform']=='DS']\n",
    "ps3 = df[df['platform']=='PS3']\n",
    "wii = df[df['platform']=='Wii']\n",
    "ps4 = df[df['platform']=='PS4']\n",
    "psp = df[df['platform']=='PSP']\n",
    "pc = df[df['platform']=='PC']\n",
    "x360 = df[df['platform']=='X360']\n",
    "ps = df[df['platform']=='PS']\n",
    "x_one = df[df['platform']=='XOne']\n",
    "psv = df[df['platform']=='PSV']\n",
    "wiiu = df[df['platform']=='WiiU']\n",
    "ds3 = df[df['platform']=='3DS']"
   ]
  },
  {
   "cell_type": "markdown",
   "id": "05aca784",
   "metadata": {},
   "source": [
    "Построим графики продаж по годам для каждой платформы"
   ]
  },
  {
   "cell_type": "code",
   "execution_count": 24,
   "id": "8e2d9340",
   "metadata": {},
   "outputs": [
    {
     "data": {
      "image/png": "[encoded data removed]",
      "text/plain": [
       "<Figure size 432x288 with 1 Axes>"
      ]
     },
     "metadata": {
      "needs_background": "light"
     },
     "output_type": "display_data"
    }
   ],
   "source": [
    "ps2.plot(kind='hist',x='all_sales',y='year_of_release',bins=30);\n",
    "plt.title('Продажи по годам для PS2');"
   ]
  },
  {
   "cell_type": "code",
   "execution_count": 25,
   "id": "965baf85",
   "metadata": {},
   "outputs": [
    {
     "data": {
      "image/png": "[encoded data removed]",
      "text/plain": [
       "<Figure size 432x288 with 1 Axes>"
      ]
     },
     "metadata": {
      "needs_background": "light"
     },
     "output_type": "display_data"
    }
   ],
   "source": [
    "ds.plot(kind='hist',x='all_sales',y='year_of_release',bins=30);\n",
    "plt.title('Продажи по годам для DS');"
   ]
  },
  {
   "cell_type": "markdown",
   "id": "5ead3b98",
   "metadata": {},
   "source": [
    "На этой гистограме мы видим что в 1985 году у платформы были продажи, но сама платформа вышла только в 2004 году. Поэтому, уберем эти данные из датасета."
   ]
  },
  {
   "cell_type": "code",
   "execution_count": 26,
   "id": "65072d0e",
   "metadata": {},
   "outputs": [
    {
     "data": {
      "image/png": "[encoded data removed]",
      "text/plain": [
       "<Figure size 432x288 with 1 Axes>"
      ]
     },
     "metadata": {
      "needs_background": "light"
     },
     "output_type": "display_data"
    }
   ],
   "source": [
    "#Уберем эту ошибку и отобразим новую визуализацию\n",
    "df =df[~((df['platform'] == 'DS') & (df['year_of_release'] == 1985))]\n",
    "ds = df[df['platform']=='DS']\n",
    "ds.plot(kind='hist',x='all_sales',y='year_of_release',bins=15);\n",
    "plt.title('Продажи по годам для DS');"
   ]
  },
  {
   "cell_type": "code",
   "execution_count": 27,
   "id": "274003af",
   "metadata": {},
   "outputs": [
    {
     "data": {
      "image/png": "[encoded data removed]",
      "text/plain": [
       "<Figure size 432x288 with 1 Axes>"
      ]
     },
     "metadata": {
      "needs_background": "light"
     },
     "output_type": "display_data"
    }
   ],
   "source": [
    "ps3.plot(kind='hist',x='all_sales',y='year_of_release',bins=30);\n",
    "plt.title('Продажи по годам для PS3');"
   ]
  },
  {
   "cell_type": "code",
   "execution_count": 28,
   "id": "80bfc6f6",
   "metadata": {},
   "outputs": [
    {
     "data": {
      "text/plain": [
       "Text(0.5, 1.0, 'Продажи по годам для Wii')"
      ]
     },
     "execution_count": 28,
     "metadata": {},
     "output_type": "execute_result"
    },
    {
     "data": {
      "image/png": "[encoded data removed]",
      "text/plain": [
       "<Figure size 432x288 with 1 Axes>"
      ]
     },
     "metadata": {
      "needs_background": "light"
     },
     "output_type": "display_data"
    }
   ],
   "source": [
    "wii.plot(kind='hist',x='all_sales',y='year_of_release',bins=30);\n",
    "plt.title('Продажи по годам для Wii')"
   ]
  },
  {
   "cell_type": "code",
   "execution_count": 29,
   "id": "b0ffd847",
   "metadata": {},
   "outputs": [
    {
     "data": {
      "text/plain": [
       "Text(0.5, 1.0, 'Продажи по годам для X360')"
      ]
     },
     "execution_count": 29,
     "metadata": {},
     "output_type": "execute_result"
    },
    {
     "data": {
      "image/png": "[encoded data removed]",
      "text/plain": [
       "<Figure size 432x288 with 1 Axes>"
      ]
     },
     "metadata": {
      "needs_background": "light"
     },
     "output_type": "display_data"
    }
   ],
   "source": [
    "x360.plot(kind='hist',x='all_sales',y='year_of_release',bins=30);\n",
    "plt.title('Продажи по годам для X360')"
   ]
  },
  {
   "cell_type": "code",
   "execution_count": 30,
   "id": "36aa1173",
   "metadata": {},
   "outputs": [
    {
     "data": {
      "text/plain": [
       "Text(0.5, 1.0, 'Продажи по годам для PS4')"
      ]
     },
     "execution_count": 30,
     "metadata": {},
     "output_type": "execute_result"
    },
    {
     "data": {
      "image/png": "[encoded data removed]",
      "text/plain": [
       "<Figure size 432x288 with 1 Axes>"
      ]
     },
     "metadata": {
      "needs_background": "light"
     },
     "output_type": "display_data"
    }
   ],
   "source": [
    "ps4.plot(kind='hist',x='all_sales',y='year_of_release',bins=30);\n",
    "plt.title('Продажи по годам для PS4')"
   ]
  },
  {
   "cell_type": "code",
   "execution_count": 31,
   "id": "49887757",
   "metadata": {},
   "outputs": [
    {
     "data": {
      "text/plain": [
       "Text(0.5, 1.0, 'Продажи по годам для PC')"
      ]
     },
     "execution_count": 31,
     "metadata": {},
     "output_type": "execute_result"
    },
    {
     "data": {
      "image/png": "[encoded data removed]",
      "text/plain": [
       "<Figure size 432x288 with 1 Axes>"
      ]
     },
     "metadata": {
      "needs_background": "light"
     },
     "output_type": "display_data"
    }
   ],
   "source": [
    "pc.plot(kind='hist',x='all_sales',y='year_of_release',bins=30);\n",
    "plt.title('Продажи по годам для PC')"
   ]
  },
  {
   "cell_type": "code",
   "execution_count": 32,
   "id": "6f5b1886",
   "metadata": {},
   "outputs": [
    {
     "data": {
      "text/plain": [
       "Text(0.5, 1.0, 'Продажи по годам для PSP')"
      ]
     },
     "execution_count": 32,
     "metadata": {},
     "output_type": "execute_result"
    },
    {
     "data": {
      "image/png": "[encoded data removed]",
      "text/plain": [
       "<Figure size 432x288 with 1 Axes>"
      ]
     },
     "metadata": {
      "needs_background": "light"
     },
     "output_type": "display_data"
    }
   ],
   "source": [
    "psp.plot(kind='hist',x='all_sales',y='year_of_release',bins=30);\n",
    "plt.title('Продажи по годам для PSP')"
   ]
  },
  {
   "cell_type": "code",
   "execution_count": 33,
   "id": "e402e4d2",
   "metadata": {},
   "outputs": [
    {
     "data": {
      "text/plain": [
       "Text(0.5, 1.0, 'Продажи по годам для PS')"
      ]
     },
     "execution_count": 33,
     "metadata": {},
     "output_type": "execute_result"
    },
    {
     "data": {
      "image/png": "[encoded data removed]",
      "text/plain": [
       "<Figure size 432x288 with 1 Axes>"
      ]
     },
     "metadata": {
      "needs_background": "light"
     },
     "output_type": "display_data"
    }
   ],
   "source": [
    "ps.plot(kind='hist',x='all_sales',y='year_of_release',bins=30);\n",
    "plt.title('Продажи по годам для PS')"
   ]
  },
  {
   "cell_type": "code",
   "execution_count": 34,
   "id": "b8c40fa5",
   "metadata": {},
   "outputs": [
    {
     "data": {
      "text/plain": [
       "Text(0.5, 1.0, 'Продажи по годам для XOne')"
      ]
     },
     "execution_count": 34,
     "metadata": {},
     "output_type": "execute_result"
    },
    {
     "data": {
      "image/png": "[encoded data removed]",
      "text/plain": [
       "<Figure size 432x288 with 1 Axes>"
      ]
     },
     "metadata": {
      "needs_background": "light"
     },
     "output_type": "display_data"
    }
   ],
   "source": [
    "x_one.plot(kind='hist',x='all_sales',y='year_of_release',bins=30);\n",
    "plt.title('Продажи по годам для XOne')"
   ]
  },
  {
   "cell_type": "code",
   "execution_count": 35,
   "id": "6b385727",
   "metadata": {},
   "outputs": [
    {
     "data": {
      "text/plain": [
       "Text(0.5, 1.0, 'Продажи по годам для PSV')"
      ]
     },
     "execution_count": 35,
     "metadata": {},
     "output_type": "execute_result"
    },
    {
     "data": {
      "image/png": "[encoded data removed]",
      "text/plain": [
       "<Figure size 432x288 with 1 Axes>"
      ]
     },
     "metadata": {
      "needs_background": "light"
     },
     "output_type": "display_data"
    }
   ],
   "source": [
    "psv.plot(kind='hist',x='all_sales',y='year_of_release',bins=30);\n",
    "plt.title('Продажи по годам для PSV')"
   ]
  },
  {
   "cell_type": "code",
   "execution_count": 36,
   "id": "75aa9bc6",
   "metadata": {},
   "outputs": [
    {
     "data": {
      "image/png": "[encoded data removed]",
      "text/plain": [
       "<Figure size 432x288 with 1 Axes>"
      ]
     },
     "metadata": {
      "needs_background": "light"
     },
     "output_type": "display_data"
    }
   ],
   "source": [
    "wiiu.plot(kind='hist',x='all_sales',y='year_of_release',bins=30);\n",
    "plt.title('Продажи по годам для WiiU');"
   ]
  },
  {
   "cell_type": "code",
   "execution_count": 37,
   "id": "62c5612e",
   "metadata": {},
   "outputs": [
    {
     "data": {
      "image/png": "[encoded data removed]",
      "text/plain": [
       "<Figure size 432x288 with 1 Axes>"
      ]
     },
     "metadata": {
      "needs_background": "light"
     },
     "output_type": "display_data"
    }
   ],
   "source": [
    "ds3.plot(kind='hist',x='all_sales',y='year_of_release',bins=30);\n",
    "plt.title('Продажи по годам для 3DS');"
   ]
  },
  {
   "cell_type": "markdown",
   "id": "659e37da",
   "metadata": {},
   "source": [
    "Лучше всего ранее на рынке держались XBOX360,PS,PS2,PS3. Среднее время выхода на \"пик\" продаж 3-5 лет. Для всех платформ из выборки характерно увеличение продаж с каждым годом до момента достижения максимальных продаж. Платформа DS сильно отличается от остальных: у этой платформы быстрый прирост продаж с каждым годом, быстрый выход на максимальную прибыль и так же быстрое падание продаж и уход с рынка. Лидеры XBOX360,PS2,PS3 исчезают с рынка в среднем за 4-5 лет, постепенно с каждым годом теряя в продажах.Основываясь на этих данных мы можем сделать предполложение что для нас интересны платформы: PS4, XOne, PC. PS4 и XOne продолжают расти с момента появления на рынке и в следующем году скорее всего окажутся на пике продаж. PC возможно может повторить второй пик как на графике платформы PSP. Актуальный период для анализа будем считать последние 5 лет."
   ]
  },
  {
   "cell_type": "markdown",
   "id": "e707664f",
   "metadata": {},
   "source": [
    "**Сделаем срез для актуального периода**"
   ]
  },
  {
   "cell_type": "code",
   "execution_count": 38,
   "id": "a9d0add8",
   "metadata": {},
   "outputs": [
    {
     "data": {
      "text/html": [
       "<div>\n",
       "<style scoped>\n",
       "    .dataframe tbody tr th:only-of-type {\n",
       "        vertical-align: middle;\n",
       "    }\n",
       "\n",
       "    .dataframe tbody tr th {\n",
       "        vertical-align: top;\n",
       "    }\n",
       "\n",
       "    .dataframe thead th {\n",
       "        text-align: right;\n",
       "    }\n",
       "</style>\n",
       "<table border=\"1\" class=\"dataframe\">\n",
       "  <thead>\n",
       "    <tr style=\"text-align: right;\">\n",
       "      <th></th>\n",
       "      <th>name</th>\n",
       "      <th>platform</th>\n",
       "      <th>year_of_release</th>\n",
       "      <th>genre</th>\n",
       "      <th>na_sales</th>\n",
       "      <th>eu_sales</th>\n",
       "      <th>jp_sales</th>\n",
       "      <th>other_sales</th>\n",
       "      <th>critic_score</th>\n",
       "      <th>user_score</th>\n",
       "      <th>rating</th>\n",
       "      <th>all_sales</th>\n",
       "    </tr>\n",
       "  </thead>\n",
       "  <tbody>\n",
       "    <tr>\n",
       "      <th>16</th>\n",
       "      <td>Grand Theft Auto V</td>\n",
       "      <td>PS3</td>\n",
       "      <td>2013</td>\n",
       "      <td>Action</td>\n",
       "      <td>7.02</td>\n",
       "      <td>9.09</td>\n",
       "      <td>0.98</td>\n",
       "      <td>3.96</td>\n",
       "      <td>97</td>\n",
       "      <td>8.2</td>\n",
       "      <td>M</td>\n",
       "      <td>21.05</td>\n",
       "    </tr>\n",
       "    <tr>\n",
       "      <th>23</th>\n",
       "      <td>Grand Theft Auto V</td>\n",
       "      <td>X360</td>\n",
       "      <td>2013</td>\n",
       "      <td>Action</td>\n",
       "      <td>9.66</td>\n",
       "      <td>5.14</td>\n",
       "      <td>0.06</td>\n",
       "      <td>1.41</td>\n",
       "      <td>97</td>\n",
       "      <td>8.1</td>\n",
       "      <td>M</td>\n",
       "      <td>16.27</td>\n",
       "    </tr>\n",
       "    <tr>\n",
       "      <th>31</th>\n",
       "      <td>Call of Duty: Black Ops 3</td>\n",
       "      <td>PS4</td>\n",
       "      <td>2015</td>\n",
       "      <td>Shooter</td>\n",
       "      <td>6.03</td>\n",
       "      <td>5.86</td>\n",
       "      <td>0.36</td>\n",
       "      <td>2.38</td>\n",
       "      <td>&lt;NA&gt;</td>\n",
       "      <td>NaN</td>\n",
       "      <td>not determined</td>\n",
       "      <td>14.63</td>\n",
       "    </tr>\n",
       "    <tr>\n",
       "      <th>33</th>\n",
       "      <td>Pokemon X/Pokemon Y</td>\n",
       "      <td>3DS</td>\n",
       "      <td>2013</td>\n",
       "      <td>Role-Playing</td>\n",
       "      <td>5.28</td>\n",
       "      <td>4.19</td>\n",
       "      <td>4.35</td>\n",
       "      <td>0.78</td>\n",
       "      <td>&lt;NA&gt;</td>\n",
       "      <td>NaN</td>\n",
       "      <td>not determined</td>\n",
       "      <td>14.60</td>\n",
       "    </tr>\n",
       "    <tr>\n",
       "      <th>34</th>\n",
       "      <td>Call of Duty: Black Ops II</td>\n",
       "      <td>PS3</td>\n",
       "      <td>2012</td>\n",
       "      <td>Shooter</td>\n",
       "      <td>4.99</td>\n",
       "      <td>5.73</td>\n",
       "      <td>0.65</td>\n",
       "      <td>2.42</td>\n",
       "      <td>83</td>\n",
       "      <td>5.3</td>\n",
       "      <td>M</td>\n",
       "      <td>13.79</td>\n",
       "    </tr>\n",
       "    <tr>\n",
       "      <th>...</th>\n",
       "      <td>...</td>\n",
       "      <td>...</td>\n",
       "      <td>...</td>\n",
       "      <td>...</td>\n",
       "      <td>...</td>\n",
       "      <td>...</td>\n",
       "      <td>...</td>\n",
       "      <td>...</td>\n",
       "      <td>...</td>\n",
       "      <td>...</td>\n",
       "      <td>...</td>\n",
       "      <td>...</td>\n",
       "    </tr>\n",
       "    <tr>\n",
       "      <th>16703</th>\n",
       "      <td>Strawberry Nauts</td>\n",
       "      <td>PSV</td>\n",
       "      <td>2016</td>\n",
       "      <td>Adventure</td>\n",
       "      <td>0.00</td>\n",
       "      <td>0.00</td>\n",
       "      <td>0.01</td>\n",
       "      <td>0.00</td>\n",
       "      <td>&lt;NA&gt;</td>\n",
       "      <td>NaN</td>\n",
       "      <td>not determined</td>\n",
       "      <td>0.01</td>\n",
       "    </tr>\n",
       "    <tr>\n",
       "      <th>16707</th>\n",
       "      <td>Aiyoku no Eustia</td>\n",
       "      <td>PSV</td>\n",
       "      <td>2014</td>\n",
       "      <td>Misc</td>\n",
       "      <td>0.00</td>\n",
       "      <td>0.00</td>\n",
       "      <td>0.01</td>\n",
       "      <td>0.00</td>\n",
       "      <td>&lt;NA&gt;</td>\n",
       "      <td>NaN</td>\n",
       "      <td>not determined</td>\n",
       "      <td>0.01</td>\n",
       "    </tr>\n",
       "    <tr>\n",
       "      <th>16710</th>\n",
       "      <td>Samurai Warriors: Sanada Maru</td>\n",
       "      <td>PS3</td>\n",
       "      <td>2016</td>\n",
       "      <td>Action</td>\n",
       "      <td>0.00</td>\n",
       "      <td>0.00</td>\n",
       "      <td>0.01</td>\n",
       "      <td>0.00</td>\n",
       "      <td>&lt;NA&gt;</td>\n",
       "      <td>NaN</td>\n",
       "      <td>not determined</td>\n",
       "      <td>0.01</td>\n",
       "    </tr>\n",
       "    <tr>\n",
       "      <th>16712</th>\n",
       "      <td>Haitaka no Psychedelica</td>\n",
       "      <td>PSV</td>\n",
       "      <td>2016</td>\n",
       "      <td>Adventure</td>\n",
       "      <td>0.00</td>\n",
       "      <td>0.00</td>\n",
       "      <td>0.01</td>\n",
       "      <td>0.00</td>\n",
       "      <td>&lt;NA&gt;</td>\n",
       "      <td>NaN</td>\n",
       "      <td>not determined</td>\n",
       "      <td>0.01</td>\n",
       "    </tr>\n",
       "    <tr>\n",
       "      <th>16714</th>\n",
       "      <td>Winning Post 8 2016</td>\n",
       "      <td>PSV</td>\n",
       "      <td>2016</td>\n",
       "      <td>Simulation</td>\n",
       "      <td>0.00</td>\n",
       "      <td>0.00</td>\n",
       "      <td>0.01</td>\n",
       "      <td>0.00</td>\n",
       "      <td>&lt;NA&gt;</td>\n",
       "      <td>NaN</td>\n",
       "      <td>not determined</td>\n",
       "      <td>0.01</td>\n",
       "    </tr>\n",
       "  </tbody>\n",
       "</table>\n",
       "<p>2886 rows × 12 columns</p>\n",
       "</div>"
      ],
      "text/plain": [
       "                                name platform  year_of_release         genre  \\\n",
       "16                Grand Theft Auto V      PS3             2013        Action   \n",
       "23                Grand Theft Auto V     X360             2013        Action   \n",
       "31         Call of Duty: Black Ops 3      PS4             2015       Shooter   \n",
       "33               Pokemon X/Pokemon Y      3DS             2013  Role-Playing   \n",
       "34        Call of Duty: Black Ops II      PS3             2012       Shooter   \n",
       "...                              ...      ...              ...           ...   \n",
       "16703               Strawberry Nauts      PSV             2016     Adventure   \n",
       "16707               Aiyoku no Eustia      PSV             2014          Misc   \n",
       "16710  Samurai Warriors: Sanada Maru      PS3             2016        Action   \n",
       "16712        Haitaka no Psychedelica      PSV             2016     Adventure   \n",
       "16714            Winning Post 8 2016      PSV             2016    Simulation   \n",
       "\n",
       "       na_sales  eu_sales  jp_sales  other_sales  critic_score  user_score  \\\n",
       "16         7.02      9.09      0.98         3.96            97         8.2   \n",
       "23         9.66      5.14      0.06         1.41            97         8.1   \n",
       "31         6.03      5.86      0.36         2.38          <NA>         NaN   \n",
       "33         5.28      4.19      4.35         0.78          <NA>         NaN   \n",
       "34         4.99      5.73      0.65         2.42            83         5.3   \n",
       "...         ...       ...       ...          ...           ...         ...   \n",
       "16703      0.00      0.00      0.01         0.00          <NA>         NaN   \n",
       "16707      0.00      0.00      0.01         0.00          <NA>         NaN   \n",
       "16710      0.00      0.00      0.01         0.00          <NA>         NaN   \n",
       "16712      0.00      0.00      0.01         0.00          <NA>         NaN   \n",
       "16714      0.00      0.00      0.01         0.00          <NA>         NaN   \n",
       "\n",
       "               rating  all_sales  \n",
       "16                  M      21.05  \n",
       "23                  M      16.27  \n",
       "31     not determined      14.63  \n",
       "33     not determined      14.60  \n",
       "34                  M      13.79  \n",
       "...               ...        ...  \n",
       "16703  not determined       0.01  \n",
       "16707  not determined       0.01  \n",
       "16710  not determined       0.01  \n",
       "16712  not determined       0.01  \n",
       "16714  not determined       0.01  \n",
       "\n",
       "[2886 rows x 12 columns]"
      ]
     },
     "execution_count": 38,
     "metadata": {},
     "output_type": "execute_result"
    }
   ],
   "source": [
    "actual_period = df.query('year_of_release >= 2012')\n",
    "actual_period"
   ]
  },
  {
   "cell_type": "markdown",
   "id": "14afda22",
   "metadata": {},
   "source": [
    "Построим диаграммы размах для всех платформ за актуальный период в двух видах: со всеми выбросами и с крупными боксплотами"
   ]
  },
  {
   "cell_type": "code",
   "execution_count": 39,
   "id": "8ed3cc4a",
   "metadata": {},
   "outputs": [
    {
     "data": {
      "image/png": "[encoded data removed]",
      "text/plain": [
       "<Figure size 1080x720 with 1 Axes>"
      ]
     },
     "metadata": {
      "needs_background": "light"
     },
     "output_type": "display_data"
    }
   ],
   "source": [
    "plot_all = actual_period.boxplot('all_sales', by='platform',figsize=(15,10)).set_ylim(0,3)"
   ]
  },
  {
   "cell_type": "code",
   "execution_count": 40,
   "id": "998796ce",
   "metadata": {},
   "outputs": [
    {
     "data": {
      "image/png": "[encoded data removed]",
      "text/plain": [
       "<Figure size 1080x720 with 1 Axes>"
      ]
     },
     "metadata": {
      "needs_background": "light"
     },
     "output_type": "display_data"
    }
   ],
   "source": [
    "plot_all_scale = actual_period.boxplot('all_sales', by='platform',figsize=(15,10)).set_ylim(0,1)"
   ]
  },
  {
   "cell_type": "markdown",
   "id": "487ee9fa",
   "metadata": {},
   "source": [
    "Выбросы есть у каждой платформы - скорее всего это крупные или удачные проекты которые смогли показать очень высокую прибль.Но далеко не каждая игра может расчитывать на такую прибль, а иногда даже игры могут не окупить разработку.Из осташихся платформ мы можем подтвердить предидущий вывод, что актуальными для разработки остаются платформы: PS4, XOne, PC. Так же графике PC показывает слишком малую выручку с продаж в сравнении с общими продажами - эта платформа слишком раскованная для издания игр."
   ]
  },
  {
   "cell_type": "markdown",
   "id": "d757b286",
   "metadata": {},
   "source": [
    "**Проверим зависимость между продажами и оценками для популярных платформ**"
   ]
  },
  {
   "cell_type": "markdown",
   "id": "76ca033d",
   "metadata": {},
   "source": [
    "Рассмотрим зависимости продаж и оценов для PS4"
   ]
  },
  {
   "cell_type": "code",
   "execution_count": 41,
   "id": "ccaa9dd7",
   "metadata": {},
   "outputs": [
    {
     "data": {
      "image/png": "[encoded data removed]",
      "text/plain": [
       "<Figure size 432x288 with 1 Axes>"
      ]
     },
     "metadata": {
      "needs_background": "light"
     },
     "output_type": "display_data"
    }
   ],
   "source": [
    "#Построим диаграмму рассеяния для пары: Все продажи- оценки пользователей\n",
    "actual_period[actual_period['platform']=='PS4'].plot(x='user_score', y='all_sales', kind='scatter')\n",
    "plt.title('Зависимость продаж и оценок пользователей для PS4');"
   ]
  },
  {
   "cell_type": "code",
   "execution_count": 42,
   "id": "4d904c18",
   "metadata": {},
   "outputs": [
    {
     "data": {
      "image/png": "[encoded data removed]",
      "text/plain": [
       "<Figure size 432x288 with 1 Axes>"
      ]
     },
     "metadata": {
      "needs_background": "light"
     },
     "output_type": "display_data"
    }
   ],
   "source": [
    "#Построим диаграмму рассеяния для пары: Все продажи- оценки критиков\n",
    "actual_period[actual_period['platform']=='PS4'].plot(x='critic_score', y='all_sales', kind='scatter')\n",
    "plt.title('Зависимость продаж и оценок критиков для PS4');"
   ]
  },
  {
   "cell_type": "markdown",
   "id": "26b8c909",
   "metadata": {},
   "source": [
    "Рассмотрим зависимости продаж и оценов для XONE"
   ]
  },
  {
   "cell_type": "code",
   "execution_count": 43,
   "id": "722b0cb8",
   "metadata": {},
   "outputs": [
    {
     "data": {
      "image/png": "[encoded data removed]",
      "text/plain": [
       "<Figure size 432x288 with 1 Axes>"
      ]
     },
     "metadata": {
      "needs_background": "light"
     },
     "output_type": "display_data"
    }
   ],
   "source": [
    "#Построим диаграмму рассеяния для пары: Все продажи- оценки пользователей\n",
    "actual_period[actual_period['platform']=='XOne'].plot(x='user_score', y='all_sales', kind='scatter')\n",
    "plt.title('Зависимость продаж и оценок пользователей для XOne');"
   ]
  },
  {
   "cell_type": "code",
   "execution_count": 44,
   "id": "4150abc2",
   "metadata": {},
   "outputs": [
    {
     "data": {
      "image/png": "[encoded data removed]",
      "text/plain": [
       "<Figure size 432x288 with 1 Axes>"
      ]
     },
     "metadata": {
      "needs_background": "light"
     },
     "output_type": "display_data"
    }
   ],
   "source": [
    "#Построим диаграмму рассеяния для пары: Все продажи- оценки критиков\n",
    "actual_period[actual_period['platform']=='XOne'].plot(x='critic_score', y='all_sales', kind='scatter')\n",
    "plt.title('Зависимость продаж и оценок критиков для XOne');"
   ]
  },
  {
   "cell_type": "markdown",
   "id": "49794f04",
   "metadata": {},
   "source": [
    "Рассмотрим зависимости продаж и оценов для PS3"
   ]
  },
  {
   "cell_type": "code",
   "execution_count": 45,
   "id": "b2237d61",
   "metadata": {},
   "outputs": [
    {
     "data": {
      "image/png": "[encoded data removed]",
      "text/plain": [
       "<Figure size 432x288 with 1 Axes>"
      ]
     },
     "metadata": {
      "needs_background": "light"
     },
     "output_type": "display_data"
    }
   ],
   "source": [
    "#Построим диаграмму рассеяния для пары: Все продажи- оценки пользователей\n",
    "actual_period[actual_period['platform']=='PS3'].plot(x='user_score', y='all_sales', kind='scatter')\n",
    "plt.title('Зависимость продаж и оценок пользователей для PS3');"
   ]
  },
  {
   "cell_type": "code",
   "execution_count": 46,
   "id": "2a23a315",
   "metadata": {},
   "outputs": [
    {
     "data": {
      "image/png": "[encoded data removed]",
      "text/plain": [
       "<Figure size 432x288 with 1 Axes>"
      ]
     },
     "metadata": {
      "needs_background": "light"
     },
     "output_type": "display_data"
    }
   ],
   "source": [
    "#Построим диаграмму рассеяния для пары: Все продажи- оценки критиков\n",
    "actual_period[actual_period['platform']=='PS3'].plot(x='critic_score', y='all_sales', kind='scatter')\n",
    "plt.title('Зависимость продаж и оценок критиков для PS3');"
   ]
  },
  {
   "cell_type": "markdown",
   "id": "0260a13f",
   "metadata": {},
   "source": [
    "Рассмотрим зависимости продаж и оценов для X360"
   ]
  },
  {
   "cell_type": "code",
   "execution_count": 47,
   "id": "28f740a7",
   "metadata": {},
   "outputs": [
    {
     "data": {
      "image/png": "[encoded data removed]",
      "text/plain": [
       "<Figure size 432x288 with 1 Axes>"
      ]
     },
     "metadata": {
      "needs_background": "light"
     },
     "output_type": "display_data"
    }
   ],
   "source": [
    "#Построим диаграмму рассеяния для пары: Все продажи- оценки пользователей\n",
    "actual_period[actual_period['platform']=='X360'].plot(x='user_score', y='all_sales', kind='scatter')\n",
    "plt.title('Зависимость продаж и оценок пользователей для X360');"
   ]
  },
  {
   "cell_type": "code",
   "execution_count": 48,
   "id": "227237b6",
   "metadata": {},
   "outputs": [
    {
     "data": {
      "image/png": "[encoded data removed]",
      "text/plain": [
       "<Figure size 432x288 with 1 Axes>"
      ]
     },
     "metadata": {
      "needs_background": "light"
     },
     "output_type": "display_data"
    }
   ],
   "source": [
    "#Построим диаграмму рассеяния для пары: Все продажи- оценки критиков\n",
    "actual_period[actual_period['platform']=='X360'].plot(x='critic_score', y='all_sales', kind='scatter')\n",
    "plt.title('Зависимость продаж и оценок критиков для X360');"
   ]
  },
  {
   "cell_type": "markdown",
   "id": "df46542f",
   "metadata": {},
   "source": [
    "Рассмотрим зависимости продаж и оценов для PC"
   ]
  },
  {
   "cell_type": "code",
   "execution_count": 49,
   "id": "31ec237a",
   "metadata": {},
   "outputs": [
    {
     "data": {
      "image/png": "[encoded data removed]",
      "text/plain": [
       "<Figure size 432x288 with 1 Axes>"
      ]
     },
     "metadata": {
      "needs_background": "light"
     },
     "output_type": "display_data"
    }
   ],
   "source": [
    "#Построим диаграмму рассеяния для пары: Все продажи- оценки пользователей\n",
    "actual_period[actual_period['platform']=='PC'].plot(x='user_score', y='all_sales', kind='scatter')\n",
    "plt.title('Зависимость продаж и оценок пользователей для PC');"
   ]
  },
  {
   "cell_type": "code",
   "execution_count": 50,
   "id": "04f20ddd",
   "metadata": {},
   "outputs": [
    {
     "data": {
      "image/png": "[encoded data removed]",
      "text/plain": [
       "<Figure size 432x288 with 1 Axes>"
      ]
     },
     "metadata": {
      "needs_background": "light"
     },
     "output_type": "display_data"
    }
   ],
   "source": [
    "#Построим диаграмму рассеяния для пары: Все продажи- оценки критиков\n",
    "actual_period[actual_period['platform']=='PC'].plot(x='critic_score', y='all_sales', kind='scatter')\n",
    "plt.title('Зависимость продаж и оценок критиков для PC');"
   ]
  },
  {
   "cell_type": "code",
   "execution_count": 51,
   "id": "64ed8fc2",
   "metadata": {},
   "outputs": [
    {
     "data": {
      "text/html": [
       "<style  type=\"text/css\" >\n",
       "#T_d6886_row0_col0,#T_d6886_row1_col1,#T_d6886_row2_col2{\n",
       "            background-color:  #023858;\n",
       "            color:  #f1f1f1;\n",
       "        }#T_d6886_row0_col1,#T_d6886_row0_col2,#T_d6886_row1_col0{\n",
       "            background-color:  #fff7fb;\n",
       "            color:  #000000;\n",
       "        }#T_d6886_row1_col2{\n",
       "            background-color:  #bfc9e1;\n",
       "            color:  #000000;\n",
       "        }#T_d6886_row2_col0{\n",
       "            background-color:  #bdc8e1;\n",
       "            color:  #000000;\n",
       "        }#T_d6886_row2_col1{\n",
       "            background-color:  #6da6cd;\n",
       "            color:  #000000;\n",
       "        }</style><table id=\"T_d6886_\" ><thead>    <tr>        <th class=\"blank level0\" ></th>        <th class=\"col_heading level0 col0\" >all_sales</th>        <th class=\"col_heading level0 col1\" >user_score</th>        <th class=\"col_heading level0 col2\" >critic_score</th>    </tr></thead><tbody>\n",
       "                <tr>\n",
       "                        <th id=\"T_d6886_level0_row0\" class=\"row_heading level0 row0\" >all_sales</th>\n",
       "                        <td id=\"T_d6886_row0_col0\" class=\"data row0 col0\" >1.000000</td>\n",
       "                        <td id=\"T_d6886_row0_col1\" class=\"data row0 col1\" >0.004429</td>\n",
       "                        <td id=\"T_d6886_row0_col2\" class=\"data row0 col2\" >0.308197</td>\n",
       "            </tr>\n",
       "            <tr>\n",
       "                        <th id=\"T_d6886_level0_row1\" class=\"row_heading level0 row1\" >user_score</th>\n",
       "                        <td id=\"T_d6886_row1_col0\" class=\"data row1 col0\" >0.004429</td>\n",
       "                        <td id=\"T_d6886_row1_col1\" class=\"data row1 col1\" >1.000000</td>\n",
       "                        <td id=\"T_d6886_row1_col2\" class=\"data row1 col2\" >0.517727</td>\n",
       "            </tr>\n",
       "            <tr>\n",
       "                        <th id=\"T_d6886_level0_row2\" class=\"row_heading level0 row2\" >critic_score</th>\n",
       "                        <td id=\"T_d6886_row2_col0\" class=\"data row2 col0\" >0.308197</td>\n",
       "                        <td id=\"T_d6886_row2_col1\" class=\"data row2 col1\" >0.517727</td>\n",
       "                        <td id=\"T_d6886_row2_col2\" class=\"data row2 col2\" >1.000000</td>\n",
       "            </tr>\n",
       "    </tbody></table>"
      ],
      "text/plain": [
       "<pandas.io.formats.style.Styler at 0x7f7fe38b7100>"
      ]
     },
     "execution_count": 51,
     "metadata": {},
     "output_type": "execute_result"
    }
   ],
   "source": [
    "#Посчитаем корреляцию между отзывами и продажами\n",
    "corr_by_price = actual_period[['all_sales',\\\n",
    "           'user_score',\\\n",
    "           'critic_score',\\\n",
    "           ]].corr()\n",
    "corr_by_price.style.background_gradient()"
   ]
  },
  {
   "cell_type": "markdown",
   "id": "0841854e",
   "metadata": {},
   "source": [
    "Оценки критиков сильнее влияют на продажи, чем оценки пользователей. Диаграммы рассеяния наводят на мысль что критики могли оказаться продажными и ставить высокие оценки на заказ, когда пользователи могли занижать иногда оценки от собственной неприязни или еще по какой-либо не объективной причины. Так же есть сильная зависимость у оценок пользователей и критиков."
   ]
  },
  {
   "cell_type": "markdown",
   "id": "a0606e23",
   "metadata": {},
   "source": [
    "**Рассмотрим самые популярные жанры**"
   ]
  },
  {
   "cell_type": "code",
   "execution_count": 52,
   "id": "a851b330",
   "metadata": {},
   "outputs": [
    {
     "data": {
      "text/html": [
       "<div>\n",
       "<style scoped>\n",
       "    .dataframe tbody tr th:only-of-type {\n",
       "        vertical-align: middle;\n",
       "    }\n",
       "\n",
       "    .dataframe tbody tr th {\n",
       "        vertical-align: top;\n",
       "    }\n",
       "\n",
       "    .dataframe thead th {\n",
       "        text-align: right;\n",
       "    }\n",
       "</style>\n",
       "<table border=\"1\" class=\"dataframe\">\n",
       "  <thead>\n",
       "    <tr style=\"text-align: right;\">\n",
       "      <th></th>\n",
       "      <th>name</th>\n",
       "    </tr>\n",
       "    <tr>\n",
       "      <th>genre</th>\n",
       "      <th></th>\n",
       "    </tr>\n",
       "  </thead>\n",
       "  <tbody>\n",
       "    <tr>\n",
       "      <th>Action</th>\n",
       "      <td>1031</td>\n",
       "    </tr>\n",
       "    <tr>\n",
       "      <th>Role-Playing</th>\n",
       "      <td>370</td>\n",
       "    </tr>\n",
       "    <tr>\n",
       "      <th>Adventure</th>\n",
       "      <td>302</td>\n",
       "    </tr>\n",
       "    <tr>\n",
       "      <th>Sports</th>\n",
       "      <td>268</td>\n",
       "    </tr>\n",
       "    <tr>\n",
       "      <th>Shooter</th>\n",
       "      <td>235</td>\n",
       "    </tr>\n",
       "    <tr>\n",
       "      <th>Misc</th>\n",
       "      <td>192</td>\n",
       "    </tr>\n",
       "    <tr>\n",
       "      <th>Racing</th>\n",
       "      <td>115</td>\n",
       "    </tr>\n",
       "    <tr>\n",
       "      <th>Fighting</th>\n",
       "      <td>109</td>\n",
       "    </tr>\n",
       "    <tr>\n",
       "      <th>Platform</th>\n",
       "      <td>85</td>\n",
       "    </tr>\n",
       "    <tr>\n",
       "      <th>Simulation</th>\n",
       "      <td>80</td>\n",
       "    </tr>\n",
       "    <tr>\n",
       "      <th>Strategy</th>\n",
       "      <td>71</td>\n",
       "    </tr>\n",
       "    <tr>\n",
       "      <th>Puzzle</th>\n",
       "      <td>28</td>\n",
       "    </tr>\n",
       "  </tbody>\n",
       "</table>\n",
       "</div>"
      ],
      "text/plain": [
       "              name\n",
       "genre             \n",
       "Action        1031\n",
       "Role-Playing   370\n",
       "Adventure      302\n",
       "Sports         268\n",
       "Shooter        235\n",
       "Misc           192\n",
       "Racing         115\n",
       "Fighting       109\n",
       "Platform        85\n",
       "Simulation      80\n",
       "Strategy        71\n",
       "Puzzle          28"
      ]
     },
     "execution_count": 52,
     "metadata": {},
     "output_type": "execute_result"
    }
   ],
   "source": [
    "#Определим количество всех игр по жанрам\n",
    "most_popular_genre = actual_period.groupby('genre').agg({'name':'count'})\n",
    "most_popular_genre.sort_values(by='name', ascending=False)"
   ]
  },
  {
   "cell_type": "code",
   "execution_count": 53,
   "id": "adf1f42b",
   "metadata": {},
   "outputs": [
    {
     "data": {
      "text/html": [
       "<div>\n",
       "<style scoped>\n",
       "    .dataframe tbody tr th:only-of-type {\n",
       "        vertical-align: middle;\n",
       "    }\n",
       "\n",
       "    .dataframe tbody tr th {\n",
       "        vertical-align: top;\n",
       "    }\n",
       "\n",
       "    .dataframe thead th {\n",
       "        text-align: right;\n",
       "    }\n",
       "</style>\n",
       "<table border=\"1\" class=\"dataframe\">\n",
       "  <thead>\n",
       "    <tr style=\"text-align: right;\">\n",
       "      <th></th>\n",
       "      <th>all_sales</th>\n",
       "    </tr>\n",
       "    <tr>\n",
       "      <th>genre</th>\n",
       "      <th></th>\n",
       "    </tr>\n",
       "  </thead>\n",
       "  <tbody>\n",
       "    <tr>\n",
       "      <th>Action</th>\n",
       "      <td>441.12</td>\n",
       "    </tr>\n",
       "    <tr>\n",
       "      <th>Shooter</th>\n",
       "      <td>304.73</td>\n",
       "    </tr>\n",
       "    <tr>\n",
       "      <th>Role-Playing</th>\n",
       "      <td>192.80</td>\n",
       "    </tr>\n",
       "    <tr>\n",
       "      <th>Sports</th>\n",
       "      <td>181.07</td>\n",
       "    </tr>\n",
       "    <tr>\n",
       "      <th>Misc</th>\n",
       "      <td>85.04</td>\n",
       "    </tr>\n",
       "    <tr>\n",
       "      <th>Platform</th>\n",
       "      <td>61.00</td>\n",
       "    </tr>\n",
       "    <tr>\n",
       "      <th>Racing</th>\n",
       "      <td>53.50</td>\n",
       "    </tr>\n",
       "    <tr>\n",
       "      <th>Fighting</th>\n",
       "      <td>44.49</td>\n",
       "    </tr>\n",
       "    <tr>\n",
       "      <th>Simulation</th>\n",
       "      <td>35.12</td>\n",
       "    </tr>\n",
       "    <tr>\n",
       "      <th>Adventure</th>\n",
       "      <td>29.43</td>\n",
       "    </tr>\n",
       "    <tr>\n",
       "      <th>Strategy</th>\n",
       "      <td>13.34</td>\n",
       "    </tr>\n",
       "    <tr>\n",
       "      <th>Puzzle</th>\n",
       "      <td>4.89</td>\n",
       "    </tr>\n",
       "  </tbody>\n",
       "</table>\n",
       "</div>"
      ],
      "text/plain": [
       "              all_sales\n",
       "genre                  \n",
       "Action           441.12\n",
       "Shooter          304.73\n",
       "Role-Playing     192.80\n",
       "Sports           181.07\n",
       "Misc              85.04\n",
       "Platform          61.00\n",
       "Racing            53.50\n",
       "Fighting          44.49\n",
       "Simulation        35.12\n",
       "Adventure         29.43\n",
       "Strategy          13.34\n",
       "Puzzle             4.89"
      ]
     },
     "execution_count": 53,
     "metadata": {},
     "output_type": "execute_result"
    }
   ],
   "source": [
    "#Определим общие продажи для каждого жанра\n",
    "most_popular_sales = actual_period.groupby('genre').agg({'all_sales':'sum'})\n",
    "most_popular_sales.sort_values(by='all_sales', ascending=False)"
   ]
  },
  {
   "cell_type": "code",
   "execution_count": 54,
   "id": "8755470f",
   "metadata": {},
   "outputs": [
    {
     "data": {
      "text/html": [
       "<div>\n",
       "<style scoped>\n",
       "    .dataframe tbody tr th:only-of-type {\n",
       "        vertical-align: middle;\n",
       "    }\n",
       "\n",
       "    .dataframe tbody tr th {\n",
       "        vertical-align: top;\n",
       "    }\n",
       "\n",
       "    .dataframe thead th {\n",
       "        text-align: right;\n",
       "    }\n",
       "</style>\n",
       "<table border=\"1\" class=\"dataframe\">\n",
       "  <thead>\n",
       "    <tr style=\"text-align: right;\">\n",
       "      <th></th>\n",
       "      <th>all_sales</th>\n",
       "    </tr>\n",
       "    <tr>\n",
       "      <th>genre</th>\n",
       "      <th></th>\n",
       "    </tr>\n",
       "  </thead>\n",
       "  <tbody>\n",
       "    <tr>\n",
       "      <th>Shooter</th>\n",
       "      <td>0.440</td>\n",
       "    </tr>\n",
       "    <tr>\n",
       "      <th>Sports</th>\n",
       "      <td>0.240</td>\n",
       "    </tr>\n",
       "    <tr>\n",
       "      <th>Platform</th>\n",
       "      <td>0.210</td>\n",
       "    </tr>\n",
       "    <tr>\n",
       "      <th>Role-Playing</th>\n",
       "      <td>0.140</td>\n",
       "    </tr>\n",
       "    <tr>\n",
       "      <th>Racing</th>\n",
       "      <td>0.140</td>\n",
       "    </tr>\n",
       "    <tr>\n",
       "      <th>Fighting</th>\n",
       "      <td>0.130</td>\n",
       "    </tr>\n",
       "    <tr>\n",
       "      <th>Action</th>\n",
       "      <td>0.120</td>\n",
       "    </tr>\n",
       "    <tr>\n",
       "      <th>Misc</th>\n",
       "      <td>0.120</td>\n",
       "    </tr>\n",
       "    <tr>\n",
       "      <th>Simulation</th>\n",
       "      <td>0.120</td>\n",
       "    </tr>\n",
       "    <tr>\n",
       "      <th>Strategy</th>\n",
       "      <td>0.080</td>\n",
       "    </tr>\n",
       "    <tr>\n",
       "      <th>Puzzle</th>\n",
       "      <td>0.045</td>\n",
       "    </tr>\n",
       "    <tr>\n",
       "      <th>Adventure</th>\n",
       "      <td>0.030</td>\n",
       "    </tr>\n",
       "  </tbody>\n",
       "</table>\n",
       "</div>"
      ],
      "text/plain": [
       "              all_sales\n",
       "genre                  \n",
       "Shooter           0.440\n",
       "Sports            0.240\n",
       "Platform          0.210\n",
       "Role-Playing      0.140\n",
       "Racing            0.140\n",
       "Fighting          0.130\n",
       "Action            0.120\n",
       "Misc              0.120\n",
       "Simulation        0.120\n",
       "Strategy          0.080\n",
       "Puzzle            0.045\n",
       "Adventure         0.030"
      ]
     },
     "execution_count": 54,
     "metadata": {},
     "output_type": "execute_result"
    }
   ],
   "source": [
    "#Определим медианные значения продажи для каждого жанра\n",
    "most_popular_median = actual_period.groupby('genre').agg({'all_sales':'median'})\n",
    "most_popular_median.sort_values(by='all_sales', ascending=False)"
   ]
  },
  {
   "cell_type": "code",
   "execution_count": 55,
   "id": "4334aeb8",
   "metadata": {},
   "outputs": [
    {
     "data": {
      "image/png": "[encoded data removed]",
      "text/plain": [
       "<Figure size 1080x720 with 1 Axes>"
      ]
     },
     "metadata": {
      "needs_background": "light"
     },
     "output_type": "display_data"
    }
   ],
   "source": [
    "plot_by_ganre = actual_period.boxplot('all_sales', by='genre',figsize=(15,10)).set_ylim(0,2)"
   ]
  },
  {
   "cell_type": "markdown",
   "id": "8c056716",
   "metadata": {},
   "source": [
    "Шутеры самый беспроигрышный вариант для разработки и продаж, далее следуют Спорт и Платформеры. Экшен игры имеют хорошие продажи за счет их количества, но не так надежны и стабильны для бизнеса ( у них слишком много выбросов и эти значения сильно искажают данные)"
   ]
  },
  {
   "cell_type": "markdown",
   "id": "cd492b1c",
   "metadata": {},
   "source": [
    "### Составим портрет пользователя для каждого региона"
   ]
  },
  {
   "cell_type": "code",
   "execution_count": 56,
   "id": "f35cdff8",
   "metadata": {},
   "outputs": [
    {
     "data": {
      "image/png": "[encoded data removed]",
      "text/plain": [
       "<Figure size 432x288 with 1 Axes>"
      ]
     },
     "metadata": {
      "needs_background": "light"
     },
     "output_type": "display_data"
    },
    {
     "data": {
      "image/png": "[encoded data removed]",
      "text/plain": [
       "<Figure size 432x288 with 1 Axes>"
      ]
     },
     "metadata": {
      "needs_background": "light"
     },
     "output_type": "display_data"
    },
    {
     "data": {
      "image/png": "[encoded data removed]",
      "text/plain": [
       "<Figure size 432x288 with 1 Axes>"
      ]
     },
     "metadata": {
      "needs_background": "light"
     },
     "output_type": "display_data"
    }
   ],
   "source": [
    "#Определим топ-5 предпочтительных платформ\n",
    "actual_period.groupby(by='platform').agg({'na_sales':'sum'}).sort_values(by='na_sales', ascending=False).head(5).plot(kind='bar');\n",
    "actual_period.groupby(by='platform').agg({'eu_sales':'sum'}).sort_values(by='eu_sales', ascending=False).head(5).plot(kind='bar');\n",
    "actual_period.groupby(by='platform').agg({'jp_sales':'sum'}).sort_values(by='jp_sales', ascending=False).head(5).plot(kind='bar');"
   ]
  },
  {
   "cell_type": "markdown",
   "id": "08ab85ef",
   "metadata": {},
   "source": [
    "В Америке лидируют продажи игр для приставки которая производиться в Америке - это логично). В Японии ситуация аналогичная - лидируют консоли которые производились в японии. В Европе предпочитают все сразу, но лидируют PS4 и PS3, на третьем и четвертом месте расположились заокеанские конкуренты Xbox."
   ]
  },
  {
   "cell_type": "code",
   "execution_count": 57,
   "id": "2b49efa5",
   "metadata": {},
   "outputs": [
    {
     "data": {
      "image/png": "[encoded data removed]",
      "text/plain": [
       "<Figure size 432x288 with 1 Axes>"
      ]
     },
     "metadata": {
      "needs_background": "light"
     },
     "output_type": "display_data"
    },
    {
     "data": {
      "image/png": "[encoded data removed]",
      "text/plain": [
       "<Figure size 432x288 with 1 Axes>"
      ]
     },
     "metadata": {
      "needs_background": "light"
     },
     "output_type": "display_data"
    },
    {
     "data": {
      "image/png": "[encoded data removed]",
      "text/plain": [
       "<Figure size 432x288 with 1 Axes>"
      ]
     },
     "metadata": {
      "needs_background": "light"
     },
     "output_type": "display_data"
    }
   ],
   "source": [
    "#Определим топ-5 жанры для каждого региона\n",
    "actual_period.groupby(by='genre').agg({'na_sales':'sum'}).sort_values(by='na_sales', ascending=False).head(5).plot(kind='bar');\n",
    "actual_period.groupby(by='genre').agg({'eu_sales':'sum'}).sort_values(by='eu_sales', ascending=False).head(5).plot(kind='bar');\n",
    "actual_period.groupby(by='genre').agg({'jp_sales':'sum'}).sort_values(by='jp_sales', ascending=False).head(5).plot(kind='bar');"
   ]
  },
  {
   "cell_type": "markdown",
   "id": "ad5aced8",
   "metadata": {},
   "source": [
    "Европейцы и американцы очень схожи в жанровых предпочтениях, почти одинаковые продажи для жанров Шутер,Экшен и Спорт. Японцы как и ожидалось чаще всего играют в role-play( по любому запросу role-play игр в гугле будет очевидно понятно по визуальному составляющему игр они ориентируются в основном на азиатскую аудиторию), на втором месте Экшен, но а остальыне жанру в Японии явно проигрывают по сравнению с первыми двумя."
   ]
  },
  {
   "cell_type": "code",
   "execution_count": 58,
   "id": "79022b85",
   "metadata": {},
   "outputs": [
    {
     "data": {
      "image/png": "[encoded data removed]",
      "text/plain": [
       "<Figure size 432x288 with 1 Axes>"
      ]
     },
     "metadata": {
      "needs_background": "light"
     },
     "output_type": "display_data"
    },
    {
     "data": {
      "image/png": "[encoded data removed]",
      "text/plain": [
       "<Figure size 432x288 with 1 Axes>"
      ]
     },
     "metadata": {
      "needs_background": "light"
     },
     "output_type": "display_data"
    },
    {
     "data": {
      "image/png": "[encoded data removed]",
      "text/plain": [
       "<Figure size 432x288 with 1 Axes>"
      ]
     },
     "metadata": {
      "needs_background": "light"
     },
     "output_type": "display_data"
    }
   ],
   "source": [
    "#Посмотрим как влияет райтинг на продажи в каждом регионе\n",
    "actual_period.groupby(by='rating').agg({'na_sales':'sum'}).sort_values(by='na_sales', ascending=False).head(5).plot(kind='bar');\n",
    "actual_period.groupby(by='rating').agg({'eu_sales':'sum'}).sort_values(by='eu_sales', ascending=False).head(5).plot(kind='bar');\n",
    "actual_period.groupby(by='rating').agg({'jp_sales':'sum'}).sort_values(by='jp_sales', ascending=False).head(5).plot(kind='bar');"
   ]
  },
  {
   "cell_type": "markdown",
   "id": "4fe5231f",
   "metadata": {},
   "source": [
    "Продажи по рейтингам практически идентичны для Америки и Европы.\n",
    "\n",
    "Игры с рейтингом 'M' для взрослых — дают максимальнуб прибыль в NA и EU регионах. Эта самая широкая аудитория и скорее всего покупатели любят более жесткий контент в играх.\n",
    "\n",
    "В NA Регионе: Второе место по продажам занимают игры с рейтингом 'Е'. На третьем месте игры рейтинг которых не определен, эти игры были произведены за территорией Канады\\США и не могут получить оценку их рейтинга.\n",
    "\n",
    "В EU Регионе:Второе место по продажам занимают игры с рейтингом 'Е'. На третьем месте игры рейтинг которых не определен, эти игры были произведены за территорией Канады\\США и не могут получить оценку их рейтинга.\n",
    "\n",
    "В JP: Совсем отличная от других регионов ситуация и группа игр, рейтинг которых не определен, занимает первое место, значительно превосходя по продажам все остальные группы. Это логично скорее всего игры были произведены в азиатском регионе и не могли получить рейтинг ESRB\n",
    "\n",
    "Вывод: Продажи по рейтингам для Америки и Европы очень похожи, для оценки Японии по рейтинга возникает трудность, т.к рейтинг ESRB учитывется только для игр произведенных для США и Канады. Игры которые популярны в Азии чаще всего производились скорее всего на территории Азии и данный рейтинг не получали."
   ]
  },
  {
   "cell_type": "markdown",
   "id": "ec735ee1",
   "metadata": {},
   "source": [
    "### Проверка гипотез"
   ]
  },
  {
   "cell_type": "markdown",
   "id": "61630fe9",
   "metadata": {},
   "source": [
    "Будем использовать t-критерий Стьюдента т.к нужно сравнить средние, когда распределение данных близко к нормальному."
   ]
  },
  {
   "cell_type": "markdown",
   "id": "7acf1a04",
   "metadata": {},
   "source": [
    "**Гипотезы:**\n",
    "\n",
    "-Средние пользовательские рейтинги платформ Xbox One и PC одинаковые\n",
    "\n",
    "-Средние пользовательские рейтинги жанров Action (англ. «действие», экшен-игры) и Sports (англ. «спортивные соревнования») разные."
   ]
  },
  {
   "cell_type": "markdown",
   "id": "fcd82bcf",
   "metadata": {},
   "source": [
    "**Уточним нулевую гипотезу и альтернативную для первой гипотезы:**\n",
    "\n",
    "H0: средний пользовательский рейтинг платформ Xbox One и PC одинаковый\n",
    "\n",
    "H1: средний пользовательский рейтинг платформ Xbox One и PC различается"
   ]
  },
  {
   "cell_type": "code",
   "execution_count": 59,
   "id": "f572524b",
   "metadata": {},
   "outputs": [
    {
     "name": "stderr",
     "output_type": "stream",
     "text": [
      "/tmp/ipykernel_1240/1401543901.py:3: UserWarning: Boolean Series key will be reindexed to match DataFrame index.\n",
      "  xboxone_test = actual_period[(actual_period['platform'] == 'XOne') & (df['user_score'] > 0)]['user_score']\n",
      "/tmp/ipykernel_1240/1401543901.py:4: UserWarning: Boolean Series key will be reindexed to match DataFrame index.\n",
      "  pc_test = actual_period[(actual_period['platform'] == 'PC') & (df['user_score'] > 0)]['user_score']\n"
     ]
    }
   ],
   "source": [
    "#Используем t-тест Стьюдента, потому как сравниваемые выборки независимы между собой.\n",
    "alpha = 0.05\n",
    "xboxone_test = actual_period[(actual_period['platform'] == 'XOne') & (df['user_score'] > 0)]['user_score']\n",
    "pc_test = actual_period[(actual_period['platform'] == 'PC') & (df['user_score'] > 0)]['user_score']\n",
    "\n",
    "results_1 = st.ttest_ind(xboxone_test, pc_test)"
   ]
  },
  {
   "cell_type": "code",
   "execution_count": 60,
   "id": "35736367",
   "metadata": {},
   "outputs": [
    {
     "name": "stdout",
     "output_type": "stream",
     "text": [
      "Средний пользовательский рейтинг платформы XOne 6.52\n",
      "Средний пользовательский рейтинг платформы PC 6.43\n",
      "\n",
      "p-значение: 0.5535080500643661\n",
      "Не получилось отвергнуть нулевую гипотезу\n"
     ]
    }
   ],
   "source": [
    "print('Средний пользовательский рейтинг платформы XOne', round(actual_period.query('platform== \"XOne\"')['user_score'].mean(),2))\n",
    "print('Средний пользовательский рейтинг платформы PC', round(actual_period.query('platform== \"PC\"')['user_score'].mean(),2))\n",
    "print()\n",
    "print('p-значение:', results_1.pvalue)\n",
    "\n",
    "if (results_1.pvalue < alpha):\n",
    "    print(\"Отвергаем нулевую гипотезу\")\n",
    "else:\n",
    "    print(\"Не получилось отвергнуть нулевую гипотезу\")"
   ]
  },
  {
   "cell_type": "markdown",
   "id": "cde32632",
   "metadata": {},
   "source": [
    "Cредний пользовательский рейтинг платформ Xbox One и PC одинаковый"
   ]
  },
  {
   "cell_type": "markdown",
   "id": "8c2dccb1",
   "metadata": {},
   "source": [
    "**Уточним нулевую гипотезу и альтернативную для второй гипотезы:**\n",
    "\n",
    "H0: средний пользовательский рейтинг жанров Action и Sports одинаковый\n",
    "\n",
    "H1: средний пользовательский рейтинг жанров Action и Sports различается"
   ]
  },
  {
   "cell_type": "code",
   "execution_count": 61,
   "id": "6588156b",
   "metadata": {},
   "outputs": [
    {
     "name": "stderr",
     "output_type": "stream",
     "text": [
      "/tmp/ipykernel_1240/1134216639.py:1: UserWarning: Boolean Series key will be reindexed to match DataFrame index.\n",
      "  action_test = actual_period[(actual_period['genre'] == 'Action') & (df['user_score'] > 0)]['user_score']\n",
      "/tmp/ipykernel_1240/1134216639.py:2: UserWarning: Boolean Series key will be reindexed to match DataFrame index.\n",
      "  sports_test = actual_period[(actual_period['genre'] == 'Sports') & (df['user_score'] > 0)]['user_score']\n"
     ]
    }
   ],
   "source": [
    "action_test = actual_period[(actual_period['genre'] == 'Action') & (df['user_score'] > 0)]['user_score']\n",
    "sports_test = actual_period[(actual_period['genre'] == 'Sports') & (df['user_score'] > 0)]['user_score']\n",
    "results_2 = st.ttest_ind(action_test, sports_test,nan_policy='omit')"
   ]
  },
  {
   "cell_type": "code",
   "execution_count": 62,
   "id": "9c2fb087",
   "metadata": {},
   "outputs": [
    {
     "name": "stdout",
     "output_type": "stream",
     "text": [
      "Средний пользовательский рейтинг жанра Action 6.83\n",
      "Средний пользовательский рейтинг жанра Sports 5.46\n",
      "\n",
      "p-значение: 3.7163089460934874e-26\n",
      "Отвергаем нулевую гипотезу\n"
     ]
    }
   ],
   "source": [
    "print('Средний пользовательский рейтинг жанра Action', round(actual_period.query('genre== \"Action\"')['user_score'].mean(),2))\n",
    "print('Средний пользовательский рейтинг жанра Sports', round(actual_period.query('genre== \"Sports\"')['user_score'].mean(),2))\n",
    "print()\n",
    "print('p-значение:', results_2.pvalue)\n",
    "\n",
    "if (results_2.pvalue < alpha):\n",
    "    print(\"Отвергаем нулевую гипотезу\")\n",
    "else:\n",
    "    print(\"Не получилось отвергнуть нулевую гипотезу\")\n"
   ]
  },
  {
   "cell_type": "markdown",
   "id": "ca9fd845",
   "metadata": {},
   "source": [
    "Средний пользовательский рейтинг жанров Action и Sports различается"
   ]
  },
  {
   "cell_type": "markdown",
   "id": "85d74e17",
   "metadata": {},
   "source": [
    "### Общий вывод"
   ]
  },
  {
   "cell_type": "markdown",
   "id": "9d786192",
   "metadata": {},
   "source": [
    "Игровой рынок начал испытавать проблемы с 2008 года, количество выпускаемых игр снизилось. Технологии и качество выпускаемых игр улучшилось, соответственно увеличилась стоимость производства игр. Теперь производителям приходится выпускать игры с большей осторожностью и присматриваться к популярным игровым платформам и жанрам в разных регионах.\n",
    "\n",
    "Оценки пользователей и критиков влияют на продажи и разработчикам особенно важно прислушиваться к своей аудитории и проводить исследования которые помогу определить чего жду покупатели от их продуктов. Зависимость продаж от оценок критиков выше, но тут стоит помнить о том, что \"заказные оценки\" от критиков могут сильно занизить оценки недовольных покупателей которые совершили покупку основываясь на мнении эксперта.\n",
    "\n",
    "Слишком большое количество пропусков в (оценках покупателей, оценках критиков и рейтинге) затрудняет проведение полноценного исследования для Японии.\n",
    "\n",
    "Игровые платформы уходят с рынка в среднем примерно за 4-6 лет после достижения максимальных продаж. Платформы PS4 и XBOX ONE на конец 2016 года находятся на этапе развития и вероятнее всего еще несколько лет будут показывать хорошие продажи. Производителям нужно в первую очередь рассмартивать их для производства игр. \n",
    "\n",
    "Платформа PC после значительной потери в продажах после 2011 года (скорее всего это связано с активным развитием альтернативных платформ) начала возвращаться к предидущим показателям и эту платформу так же можно рассматривать для производства игр, но с большей осторожностью, т.к средния значения продаж для этой платформы значительно ниже консолей PS4 и XBOX ONE. Но так же для платформы PC значительно больше выбросов для которых характерны большие продажи - вероятнее всего это ААА проект больших студий, значит при грамотной стратегии разработчика можно попасть в эти значения и получить большую прибыль.\n",
    "\n",
    "**Рекомендации:**\n",
    "\n",
    "1. Отладить инстументы выгрузки и получения данных и провести повтороное исследование\n",
    "2. Разработчикам без инвесторов и большого опыта в индустрии лучше рассматривать в первую очередь активно развивающиеся платформы (PS4 и XBOX ONE)\n",
    "3. До выпуска продукта выстроить работу с потенциальными покупателями и прислушиваться к их потребностям.\n",
    "4. Для максимальной прибыли рассматривать для разработки популярные жанры и рейтинги для каждого региона.\n",
    "5. Для максимальной прибыли ориентироваться на самые широкие аудитории при получении рейтинга игры.\n",
    "\n",
    "**Вывод для предстоящей рекламной компании на 2017год:**\n",
    "1. Вероятнее всего самые лучшие продажи мы получим для консолей PS4 и XOne основываясь на нашем исследовании, эти платформы развиваются и в следующем году покажут хорошие продажи\n",
    "2. Жанр Экшен имеет хорошие общие продажи для регионов Европы и Америки ,но далеко не каждая игра хорошо продается. Лучше рассматривать жанры: Шутеры и Спорт - они имеют хорошие медианные значения и стабильную выручку с продаж без большого количества выбросов ( для бизнеса это более надежный выбор)\n",
    "3. Платформа PC с 2015 года начала снова расти в продажах, но показывает низкие медианные значения в продажах - может быть рискованно для вложений в рекламную компанию.\n",
    "4. Аудитория за актуальный период более заинтересована в покупки игры с рейтингом - 'Для взрослых'. Покупают игры с контентом для взрослых. Это хорошо для бизнеса, т.к взрослая аудитория более платежеспособна.\n",
    "\n",
    "**В итоге:**\n",
    "При планировании рекламной компании рекомендуется делать акцент на платформы PS4 и XOne в жанрах Shooter и Sport с учетом что игры с рейтингом 17+ более популярны."
   ]
  }
 ],
 "metadata": {
  "ExecuteTimeLog": [
   {
    "duration": 1489,
    "start_time": "2022-12-20T12:40:07.602Z"
   },
   {
    "duration": 375,
    "start_time": "2022-12-20T12:40:09.093Z"
   },
   {
    "duration": 0,
    "start_time": "2022-12-20T12:40:09.471Z"
   },
   {
    "duration": 0,
    "start_time": "2022-12-20T12:40:09.472Z"
   },
   {
    "duration": 0,
    "start_time": "2022-12-20T12:40:09.473Z"
   },
   {
    "duration": 0,
    "start_time": "2022-12-20T12:40:09.474Z"
   },
   {
    "duration": 0,
    "start_time": "2022-12-20T12:40:09.475Z"
   },
   {
    "duration": 0,
    "start_time": "2022-12-20T12:40:09.476Z"
   },
   {
    "duration": 0,
    "start_time": "2022-12-20T12:40:09.477Z"
   },
   {
    "duration": 0,
    "start_time": "2022-12-20T12:40:09.478Z"
   },
   {
    "duration": 0,
    "start_time": "2022-12-20T12:40:09.479Z"
   },
   {
    "duration": 0,
    "start_time": "2022-12-20T12:40:09.480Z"
   },
   {
    "duration": 0,
    "start_time": "2022-12-20T12:40:09.481Z"
   },
   {
    "duration": 0,
    "start_time": "2022-12-20T12:40:09.482Z"
   },
   {
    "duration": 0,
    "start_time": "2022-12-20T12:40:09.483Z"
   },
   {
    "duration": 0,
    "start_time": "2022-12-20T12:40:09.484Z"
   },
   {
    "duration": 0,
    "start_time": "2022-12-20T12:40:09.485Z"
   },
   {
    "duration": 0,
    "start_time": "2022-12-20T12:40:09.505Z"
   },
   {
    "duration": 0,
    "start_time": "2022-12-20T12:40:09.506Z"
   },
   {
    "duration": 0,
    "start_time": "2022-12-20T12:40:09.506Z"
   },
   {
    "duration": 0,
    "start_time": "2022-12-20T12:40:09.507Z"
   },
   {
    "duration": 0,
    "start_time": "2022-12-20T12:40:09.508Z"
   },
   {
    "duration": 0,
    "start_time": "2022-12-20T12:40:09.509Z"
   },
   {
    "duration": 0,
    "start_time": "2022-12-20T12:40:09.510Z"
   },
   {
    "duration": 0,
    "start_time": "2022-12-20T12:40:09.511Z"
   },
   {
    "duration": 0,
    "start_time": "2022-12-20T12:40:09.512Z"
   },
   {
    "duration": 0,
    "start_time": "2022-12-20T12:40:09.513Z"
   },
   {
    "duration": 0,
    "start_time": "2022-12-20T12:40:09.513Z"
   },
   {
    "duration": 0,
    "start_time": "2022-12-20T12:40:09.514Z"
   },
   {
    "duration": 0,
    "start_time": "2022-12-20T12:40:09.515Z"
   },
   {
    "duration": 0,
    "start_time": "2022-12-20T12:40:09.517Z"
   },
   {
    "duration": 0,
    "start_time": "2022-12-20T12:40:09.517Z"
   },
   {
    "duration": 0,
    "start_time": "2022-12-20T12:40:09.519Z"
   },
   {
    "duration": 0,
    "start_time": "2022-12-20T12:40:09.519Z"
   },
   {
    "duration": 0,
    "start_time": "2022-12-20T12:40:09.520Z"
   },
   {
    "duration": 0,
    "start_time": "2022-12-20T12:40:09.521Z"
   },
   {
    "duration": 0,
    "start_time": "2022-12-20T12:40:09.522Z"
   },
   {
    "duration": 0,
    "start_time": "2022-12-20T12:40:09.523Z"
   },
   {
    "duration": 0,
    "start_time": "2022-12-20T12:40:09.525Z"
   },
   {
    "duration": 0,
    "start_time": "2022-12-20T12:40:09.526Z"
   },
   {
    "duration": 0,
    "start_time": "2022-12-20T12:40:09.527Z"
   },
   {
    "duration": 0,
    "start_time": "2022-12-20T12:40:09.528Z"
   },
   {
    "duration": 0,
    "start_time": "2022-12-20T12:40:09.530Z"
   },
   {
    "duration": 0,
    "start_time": "2022-12-20T12:40:09.531Z"
   },
   {
    "duration": 1,
    "start_time": "2022-12-20T12:40:09.532Z"
   },
   {
    "duration": 55,
    "start_time": "2022-12-20T14:27:30.900Z"
   },
   {
    "duration": 5,
    "start_time": "2022-12-20T14:38:14.196Z"
   },
   {
    "duration": 48,
    "start_time": "2022-12-20T14:39:10.006Z"
   },
   {
    "duration": 7,
    "start_time": "2022-12-20T14:40:51.401Z"
   },
   {
    "duration": 54,
    "start_time": "2022-12-20T14:51:16.422Z"
   },
   {
    "duration": 4,
    "start_time": "2022-12-20T14:51:21.862Z"
   },
   {
    "duration": 45,
    "start_time": "2022-12-21T03:50:22.797Z"
   },
   {
    "duration": 1234,
    "start_time": "2022-12-21T03:50:42.188Z"
   },
   {
    "duration": 212,
    "start_time": "2022-12-21T03:50:43.424Z"
   },
   {
    "duration": 9,
    "start_time": "2022-12-21T03:50:43.638Z"
   },
   {
    "duration": 6,
    "start_time": "2022-12-21T03:50:43.649Z"
   },
   {
    "duration": 10,
    "start_time": "2022-12-21T03:50:43.657Z"
   },
   {
    "duration": 10,
    "start_time": "2022-12-21T03:50:43.669Z"
   },
   {
    "duration": 4,
    "start_time": "2022-12-21T03:50:43.680Z"
   },
   {
    "duration": 43,
    "start_time": "2022-12-21T03:50:43.686Z"
   },
   {
    "duration": 7,
    "start_time": "2022-12-21T03:50:43.731Z"
   },
   {
    "duration": 18,
    "start_time": "2022-12-21T03:50:43.741Z"
   },
   {
    "duration": 7,
    "start_time": "2022-12-21T03:50:43.761Z"
   },
   {
    "duration": 18,
    "start_time": "2022-12-21T03:50:43.770Z"
   },
   {
    "duration": 17,
    "start_time": "2022-12-21T03:50:43.821Z"
   },
   {
    "duration": 7,
    "start_time": "2022-12-21T03:50:43.840Z"
   },
   {
    "duration": 212,
    "start_time": "2022-12-21T03:50:43.849Z"
   },
   {
    "duration": 15,
    "start_time": "2022-12-21T03:50:44.063Z"
   },
   {
    "duration": 309,
    "start_time": "2022-12-21T03:50:44.080Z"
   },
   {
    "duration": 20,
    "start_time": "2022-12-21T03:50:44.391Z"
   },
   {
    "duration": 165,
    "start_time": "2022-12-21T03:50:44.421Z"
   },
   {
    "duration": 169,
    "start_time": "2022-12-21T03:50:44.587Z"
   },
   {
    "duration": 166,
    "start_time": "2022-12-21T03:50:44.757Z"
   },
   {
    "duration": 182,
    "start_time": "2022-12-21T03:50:44.925Z"
   },
   {
    "duration": 191,
    "start_time": "2022-12-21T03:50:45.108Z"
   },
   {
    "duration": 256,
    "start_time": "2022-12-21T03:50:45.301Z"
   },
   {
    "duration": 186,
    "start_time": "2022-12-21T03:50:45.559Z"
   },
   {
    "duration": 204,
    "start_time": "2022-12-21T03:50:45.746Z"
   },
   {
    "duration": 168,
    "start_time": "2022-12-21T03:50:45.951Z"
   },
   {
    "duration": 178,
    "start_time": "2022-12-21T03:50:46.123Z"
   },
   {
    "duration": 128,
    "start_time": "2022-12-21T03:50:46.302Z"
   },
   {
    "duration": 115,
    "start_time": "2022-12-21T03:50:46.432Z"
   },
   {
    "duration": 113,
    "start_time": "2022-12-21T03:50:46.548Z"
   },
   {
    "duration": 134,
    "start_time": "2022-12-21T03:50:46.663Z"
   },
   {
    "duration": 149,
    "start_time": "2022-12-21T03:50:46.799Z"
   },
   {
    "duration": 142,
    "start_time": "2022-12-21T03:50:46.949Z"
   },
   {
    "duration": 50,
    "start_time": "2022-12-21T03:50:47.093Z"
   },
   {
    "duration": 142,
    "start_time": "2022-12-21T03:50:47.145Z"
   },
   {
    "duration": 10,
    "start_time": "2022-12-21T03:50:47.288Z"
   },
   {
    "duration": 26,
    "start_time": "2022-12-21T03:50:47.300Z"
   },
   {
    "duration": 374,
    "start_time": "2022-12-21T03:50:47.327Z"
   },
   {
    "duration": 376,
    "start_time": "2022-12-21T03:50:47.703Z"
   },
   {
    "duration": 375,
    "start_time": "2022-12-21T03:50:48.080Z"
   },
   {
    "duration": 10,
    "start_time": "2022-12-21T03:50:48.456Z"
   },
   {
    "duration": 5,
    "start_time": "2022-12-21T03:50:48.467Z"
   },
   {
    "duration": 11,
    "start_time": "2022-12-21T03:50:48.473Z"
   },
   {
    "duration": 7,
    "start_time": "2022-12-21T03:50:48.485Z"
   },
   {
    "duration": 1135,
    "start_time": "2022-12-21T04:22:09.679Z"
   },
   {
    "duration": 67,
    "start_time": "2022-12-21T04:22:10.816Z"
   },
   {
    "duration": 7,
    "start_time": "2022-12-21T04:22:10.884Z"
   },
   {
    "duration": 11,
    "start_time": "2022-12-21T04:22:10.893Z"
   },
   {
    "duration": 12,
    "start_time": "2022-12-21T04:22:10.905Z"
   },
   {
    "duration": 9,
    "start_time": "2022-12-21T04:22:10.918Z"
   },
   {
    "duration": 7,
    "start_time": "2022-12-21T04:22:10.928Z"
   },
   {
    "duration": 11,
    "start_time": "2022-12-21T04:22:10.936Z"
   },
   {
    "duration": 8,
    "start_time": "2022-12-21T04:22:10.949Z"
   },
   {
    "duration": 23,
    "start_time": "2022-12-21T04:22:10.959Z"
   },
   {
    "duration": 10,
    "start_time": "2022-12-21T04:22:10.984Z"
   },
   {
    "duration": 39,
    "start_time": "2022-12-21T04:22:10.995Z"
   },
   {
    "duration": 17,
    "start_time": "2022-12-21T04:22:11.036Z"
   },
   {
    "duration": 6,
    "start_time": "2022-12-21T04:22:11.056Z"
   },
   {
    "duration": 239,
    "start_time": "2022-12-21T04:22:11.063Z"
   },
   {
    "duration": 25,
    "start_time": "2022-12-21T04:22:11.304Z"
   },
   {
    "duration": 288,
    "start_time": "2022-12-21T04:22:11.331Z"
   },
   {
    "duration": 24,
    "start_time": "2022-12-21T04:22:11.621Z"
   },
   {
    "duration": 186,
    "start_time": "2022-12-21T04:22:11.647Z"
   },
   {
    "duration": 207,
    "start_time": "2022-12-21T04:22:11.835Z"
   },
   {
    "duration": 178,
    "start_time": "2022-12-21T04:22:12.044Z"
   },
   {
    "duration": 188,
    "start_time": "2022-12-21T04:22:12.224Z"
   },
   {
    "duration": 192,
    "start_time": "2022-12-21T04:22:12.414Z"
   },
   {
    "duration": 264,
    "start_time": "2022-12-21T04:22:12.608Z"
   },
   {
    "duration": 194,
    "start_time": "2022-12-21T04:22:12.874Z"
   },
   {
    "duration": 176,
    "start_time": "2022-12-21T04:22:13.070Z"
   },
   {
    "duration": 169,
    "start_time": "2022-12-21T04:22:13.248Z"
   },
   {
    "duration": 178,
    "start_time": "2022-12-21T04:22:13.423Z"
   },
   {
    "duration": 128,
    "start_time": "2022-12-21T04:22:13.603Z"
   },
   {
    "duration": 122,
    "start_time": "2022-12-21T04:22:13.732Z"
   },
   {
    "duration": 120,
    "start_time": "2022-12-21T04:22:13.856Z"
   },
   {
    "duration": 148,
    "start_time": "2022-12-21T04:22:13.977Z"
   },
   {
    "duration": 165,
    "start_time": "2022-12-21T04:22:14.127Z"
   },
   {
    "duration": 140,
    "start_time": "2022-12-21T04:22:14.293Z"
   },
   {
    "duration": 46,
    "start_time": "2022-12-21T04:22:14.435Z"
   },
   {
    "duration": 154,
    "start_time": "2022-12-21T04:22:14.483Z"
   },
   {
    "duration": 11,
    "start_time": "2022-12-21T04:22:14.639Z"
   },
   {
    "duration": 12,
    "start_time": "2022-12-21T04:22:14.651Z"
   },
   {
    "duration": 390,
    "start_time": "2022-12-21T04:22:14.665Z"
   },
   {
    "duration": 366,
    "start_time": "2022-12-21T04:22:15.057Z"
   },
   {
    "duration": 400,
    "start_time": "2022-12-21T04:22:15.425Z"
   },
   {
    "duration": 10,
    "start_time": "2022-12-21T04:22:15.827Z"
   },
   {
    "duration": 10,
    "start_time": "2022-12-21T04:22:15.839Z"
   },
   {
    "duration": 14,
    "start_time": "2022-12-21T04:22:15.851Z"
   },
   {
    "duration": 9,
    "start_time": "2022-12-21T04:22:15.867Z"
   },
   {
    "duration": 9,
    "start_time": "2022-12-21T04:22:27.944Z"
   },
   {
    "duration": 3,
    "start_time": "2022-12-21T04:22:29.910Z"
   },
   {
    "duration": 10,
    "start_time": "2022-12-21T04:24:07.090Z"
   },
   {
    "duration": 4,
    "start_time": "2022-12-21T04:24:10.129Z"
   },
   {
    "duration": 1125,
    "start_time": "2022-12-21T04:24:19.094Z"
   },
   {
    "duration": 70,
    "start_time": "2022-12-21T04:24:20.221Z"
   },
   {
    "duration": 7,
    "start_time": "2022-12-21T04:24:20.293Z"
   },
   {
    "duration": 11,
    "start_time": "2022-12-21T04:24:20.302Z"
   },
   {
    "duration": 11,
    "start_time": "2022-12-21T04:24:20.315Z"
   },
   {
    "duration": 9,
    "start_time": "2022-12-21T04:24:20.328Z"
   },
   {
    "duration": 5,
    "start_time": "2022-12-21T04:24:20.338Z"
   },
   {
    "duration": 9,
    "start_time": "2022-12-21T04:24:20.345Z"
   },
   {
    "duration": 5,
    "start_time": "2022-12-21T04:24:20.356Z"
   },
   {
    "duration": 19,
    "start_time": "2022-12-21T04:24:20.364Z"
   },
   {
    "duration": 7,
    "start_time": "2022-12-21T04:24:20.385Z"
   },
   {
    "duration": 18,
    "start_time": "2022-12-21T04:24:20.425Z"
   },
   {
    "duration": 15,
    "start_time": "2022-12-21T04:24:20.445Z"
   },
   {
    "duration": 6,
    "start_time": "2022-12-21T04:24:20.462Z"
   },
   {
    "duration": 211,
    "start_time": "2022-12-21T04:24:20.469Z"
   },
   {
    "duration": 12,
    "start_time": "2022-12-21T04:24:20.682Z"
   },
   {
    "duration": 261,
    "start_time": "2022-12-21T04:24:20.696Z"
   },
   {
    "duration": 23,
    "start_time": "2022-12-21T04:24:20.958Z"
   },
   {
    "duration": 185,
    "start_time": "2022-12-21T04:24:20.983Z"
   },
   {
    "duration": 178,
    "start_time": "2022-12-21T04:24:21.169Z"
   },
   {
    "duration": 169,
    "start_time": "2022-12-21T04:24:21.349Z"
   },
   {
    "duration": 188,
    "start_time": "2022-12-21T04:24:21.521Z"
   },
   {
    "duration": 197,
    "start_time": "2022-12-21T04:24:21.710Z"
   },
   {
    "duration": 269,
    "start_time": "2022-12-21T04:24:21.908Z"
   },
   {
    "duration": 180,
    "start_time": "2022-12-21T04:24:22.179Z"
   },
   {
    "duration": 185,
    "start_time": "2022-12-21T04:24:22.360Z"
   },
   {
    "duration": 176,
    "start_time": "2022-12-21T04:24:22.546Z"
   },
   {
    "duration": 170,
    "start_time": "2022-12-21T04:24:22.725Z"
   },
   {
    "duration": 125,
    "start_time": "2022-12-21T04:24:22.897Z"
   },
   {
    "duration": 112,
    "start_time": "2022-12-21T04:24:23.024Z"
   },
   {
    "duration": 114,
    "start_time": "2022-12-21T04:24:23.138Z"
   },
   {
    "duration": 123,
    "start_time": "2022-12-21T04:24:23.253Z"
   },
   {
    "duration": 131,
    "start_time": "2022-12-21T04:24:23.378Z"
   },
   {
    "duration": 134,
    "start_time": "2022-12-21T04:24:23.511Z"
   },
   {
    "duration": 45,
    "start_time": "2022-12-21T04:24:23.647Z"
   },
   {
    "duration": 163,
    "start_time": "2022-12-21T04:24:23.694Z"
   },
   {
    "duration": 12,
    "start_time": "2022-12-21T04:24:23.858Z"
   },
   {
    "duration": 13,
    "start_time": "2022-12-21T04:24:23.871Z"
   },
   {
    "duration": 450,
    "start_time": "2022-12-21T04:24:23.886Z"
   },
   {
    "duration": 363,
    "start_time": "2022-12-21T04:24:24.338Z"
   },
   {
    "duration": 360,
    "start_time": "2022-12-21T04:24:24.703Z"
   },
   {
    "duration": 8,
    "start_time": "2022-12-21T04:24:25.065Z"
   },
   {
    "duration": 6,
    "start_time": "2022-12-21T04:24:25.075Z"
   },
   {
    "duration": 10,
    "start_time": "2022-12-21T04:24:25.082Z"
   },
   {
    "duration": 10,
    "start_time": "2022-12-21T04:24:25.094Z"
   },
   {
    "duration": 8,
    "start_time": "2022-12-21T04:28:51.390Z"
   },
   {
    "duration": 128,
    "start_time": "2022-12-21T05:04:24.720Z"
   },
   {
    "duration": 21,
    "start_time": "2022-12-21T05:04:38.490Z"
   },
   {
    "duration": 15,
    "start_time": "2022-12-21T05:04:53.660Z"
   },
   {
    "duration": 74,
    "start_time": "2022-12-21T05:05:38.340Z"
   },
   {
    "duration": 10,
    "start_time": "2022-12-21T05:05:51.615Z"
   },
   {
    "duration": 11,
    "start_time": "2022-12-21T05:06:05.465Z"
   },
   {
    "duration": 9,
    "start_time": "2022-12-21T05:06:12.175Z"
   },
   {
    "duration": 14,
    "start_time": "2022-12-21T05:07:06.915Z"
   },
   {
    "duration": 13,
    "start_time": "2022-12-21T05:07:11.185Z"
   },
   {
    "duration": 5,
    "start_time": "2022-12-21T05:07:14.975Z"
   },
   {
    "duration": 14,
    "start_time": "2022-12-21T05:07:32.204Z"
   },
   {
    "duration": 6,
    "start_time": "2022-12-21T05:07:34.181Z"
   },
   {
    "duration": 80,
    "start_time": "2022-12-21T05:07:45.755Z"
   },
   {
    "duration": 13,
    "start_time": "2022-12-21T05:07:48.070Z"
   },
   {
    "duration": 1237,
    "start_time": "2022-12-21T05:10:32.495Z"
   },
   {
    "duration": 70,
    "start_time": "2022-12-21T05:10:33.735Z"
   },
   {
    "duration": 8,
    "start_time": "2022-12-21T05:10:33.807Z"
   },
   {
    "duration": 10,
    "start_time": "2022-12-21T05:10:33.817Z"
   },
   {
    "duration": 20,
    "start_time": "2022-12-21T05:10:33.828Z"
   },
   {
    "duration": 13,
    "start_time": "2022-12-21T05:10:33.850Z"
   },
   {
    "duration": 6,
    "start_time": "2022-12-21T05:10:33.865Z"
   },
   {
    "duration": 14,
    "start_time": "2022-12-21T05:10:33.872Z"
   },
   {
    "duration": 10,
    "start_time": "2022-12-21T05:10:33.887Z"
   },
   {
    "duration": 38,
    "start_time": "2022-12-21T05:10:33.900Z"
   },
   {
    "duration": 9,
    "start_time": "2022-12-21T05:10:33.939Z"
   },
   {
    "duration": 24,
    "start_time": "2022-12-21T05:10:33.950Z"
   },
   {
    "duration": 17,
    "start_time": "2022-12-21T05:10:33.976Z"
   },
   {
    "duration": 34,
    "start_time": "2022-12-21T05:10:33.994Z"
   },
   {
    "duration": 274,
    "start_time": "2022-12-21T05:10:34.030Z"
   },
   {
    "duration": 23,
    "start_time": "2022-12-21T05:10:34.306Z"
   },
   {
    "duration": 303,
    "start_time": "2022-12-21T05:10:34.331Z"
   },
   {
    "duration": 22,
    "start_time": "2022-12-21T05:10:34.636Z"
   },
   {
    "duration": 200,
    "start_time": "2022-12-21T05:10:34.660Z"
   },
   {
    "duration": 194,
    "start_time": "2022-12-21T05:10:34.861Z"
   },
   {
    "duration": 217,
    "start_time": "2022-12-21T05:10:35.056Z"
   },
   {
    "duration": 196,
    "start_time": "2022-12-21T05:10:35.275Z"
   },
   {
    "duration": 194,
    "start_time": "2022-12-21T05:10:35.473Z"
   },
   {
    "duration": 317,
    "start_time": "2022-12-21T05:10:35.669Z"
   },
   {
    "duration": 198,
    "start_time": "2022-12-21T05:10:35.987Z"
   },
   {
    "duration": 222,
    "start_time": "2022-12-21T05:10:36.187Z"
   },
   {
    "duration": 189,
    "start_time": "2022-12-21T05:10:36.411Z"
   },
   {
    "duration": 203,
    "start_time": "2022-12-21T05:10:36.605Z"
   },
   {
    "duration": 134,
    "start_time": "2022-12-21T05:10:36.809Z"
   },
   {
    "duration": 160,
    "start_time": "2022-12-21T05:10:36.944Z"
   },
   {
    "duration": 128,
    "start_time": "2022-12-21T05:10:37.105Z"
   },
   {
    "duration": 150,
    "start_time": "2022-12-21T05:10:37.235Z"
   },
   {
    "duration": 162,
    "start_time": "2022-12-21T05:10:37.387Z"
   },
   {
    "duration": 146,
    "start_time": "2022-12-21T05:10:37.550Z"
   },
   {
    "duration": 51,
    "start_time": "2022-12-21T05:10:37.697Z"
   },
   {
    "duration": 160,
    "start_time": "2022-12-21T05:10:37.750Z"
   },
   {
    "duration": 18,
    "start_time": "2022-12-21T05:10:37.911Z"
   },
   {
    "duration": 21,
    "start_time": "2022-12-21T05:10:37.930Z"
   },
   {
    "duration": 394,
    "start_time": "2022-12-21T05:10:37.953Z"
   },
   {
    "duration": 411,
    "start_time": "2022-12-21T05:10:38.348Z"
   },
   {
    "duration": 429,
    "start_time": "2022-12-21T05:10:38.761Z"
   },
   {
    "duration": 10,
    "start_time": "2022-12-21T05:10:39.192Z"
   },
   {
    "duration": 20,
    "start_time": "2022-12-21T05:10:39.204Z"
   },
   {
    "duration": 18,
    "start_time": "2022-12-21T05:10:39.226Z"
   },
   {
    "duration": 14,
    "start_time": "2022-12-21T05:10:39.246Z"
   },
   {
    "duration": 5,
    "start_time": "2022-12-21T05:10:39.262Z"
   },
   {
    "duration": 1116,
    "start_time": "2022-12-22T01:13:07.792Z"
   },
   {
    "duration": 68,
    "start_time": "2022-12-22T01:13:08.909Z"
   },
   {
    "duration": 8,
    "start_time": "2022-12-22T01:13:08.979Z"
   },
   {
    "duration": 17,
    "start_time": "2022-12-22T01:13:08.988Z"
   },
   {
    "duration": 12,
    "start_time": "2022-12-22T01:13:09.006Z"
   },
   {
    "duration": 9,
    "start_time": "2022-12-22T01:13:09.020Z"
   },
   {
    "duration": 15,
    "start_time": "2022-12-22T01:13:09.030Z"
   },
   {
    "duration": 17,
    "start_time": "2022-12-22T01:13:09.047Z"
   },
   {
    "duration": 32,
    "start_time": "2022-12-22T01:13:09.065Z"
   },
   {
    "duration": 29,
    "start_time": "2022-12-22T01:13:09.099Z"
   },
   {
    "duration": 25,
    "start_time": "2022-12-22T01:13:09.130Z"
   },
   {
    "duration": 26,
    "start_time": "2022-12-22T01:13:09.156Z"
   },
   {
    "duration": 14,
    "start_time": "2022-12-22T01:13:09.183Z"
   },
   {
    "duration": 5,
    "start_time": "2022-12-22T01:13:09.198Z"
   },
   {
    "duration": 170,
    "start_time": "2022-12-22T01:13:09.204Z"
   },
   {
    "duration": 10,
    "start_time": "2022-12-22T01:13:09.376Z"
   },
   {
    "duration": 242,
    "start_time": "2022-12-22T01:13:09.387Z"
   },
   {
    "duration": 20,
    "start_time": "2022-12-22T01:13:09.631Z"
   },
   {
    "duration": 173,
    "start_time": "2022-12-22T01:13:09.652Z"
   },
   {
    "duration": 171,
    "start_time": "2022-12-22T01:13:09.826Z"
   },
   {
    "duration": 172,
    "start_time": "2022-12-22T01:13:09.998Z"
   },
   {
    "duration": 168,
    "start_time": "2022-12-22T01:13:10.172Z"
   },
   {
    "duration": 180,
    "start_time": "2022-12-22T01:13:10.341Z"
   },
   {
    "duration": 255,
    "start_time": "2022-12-22T01:13:10.522Z"
   },
   {
    "duration": 173,
    "start_time": "2022-12-22T01:13:10.778Z"
   },
   {
    "duration": 184,
    "start_time": "2022-12-22T01:13:10.952Z"
   },
   {
    "duration": 166,
    "start_time": "2022-12-22T01:13:11.137Z"
   },
   {
    "duration": 174,
    "start_time": "2022-12-22T01:13:11.306Z"
   },
   {
    "duration": 139,
    "start_time": "2022-12-22T01:13:11.483Z"
   },
   {
    "duration": 113,
    "start_time": "2022-12-22T01:13:11.624Z"
   },
   {
    "duration": 116,
    "start_time": "2022-12-22T01:13:11.738Z"
   },
   {
    "duration": 117,
    "start_time": "2022-12-22T01:13:11.856Z"
   },
   {
    "duration": 140,
    "start_time": "2022-12-22T01:13:11.974Z"
   },
   {
    "duration": 144,
    "start_time": "2022-12-22T01:13:12.116Z"
   },
   {
    "duration": 45,
    "start_time": "2022-12-22T01:13:12.262Z"
   },
   {
    "duration": 136,
    "start_time": "2022-12-22T01:13:12.322Z"
   },
   {
    "duration": 12,
    "start_time": "2022-12-22T01:13:12.459Z"
   },
   {
    "duration": 11,
    "start_time": "2022-12-22T01:13:12.473Z"
   },
   {
    "duration": 390,
    "start_time": "2022-12-22T01:13:12.486Z"
   },
   {
    "duration": 357,
    "start_time": "2022-12-22T01:13:12.878Z"
   },
   {
    "duration": 363,
    "start_time": "2022-12-22T01:13:13.237Z"
   },
   {
    "duration": 9,
    "start_time": "2022-12-22T01:13:13.601Z"
   },
   {
    "duration": 11,
    "start_time": "2022-12-22T01:13:13.611Z"
   },
   {
    "duration": 10,
    "start_time": "2022-12-22T01:13:13.624Z"
   },
   {
    "duration": 20,
    "start_time": "2022-12-22T01:13:13.635Z"
   },
   {
    "duration": 4,
    "start_time": "2022-12-22T01:13:13.656Z"
   },
   {
    "duration": 1103,
    "start_time": "2022-12-22T01:23:24.488Z"
   },
   {
    "duration": 68,
    "start_time": "2022-12-22T01:23:25.592Z"
   },
   {
    "duration": 7,
    "start_time": "2022-12-22T01:23:25.661Z"
   },
   {
    "duration": 7,
    "start_time": "2022-12-22T01:23:25.670Z"
   },
   {
    "duration": 11,
    "start_time": "2022-12-22T01:23:25.678Z"
   },
   {
    "duration": 9,
    "start_time": "2022-12-22T01:23:25.690Z"
   },
   {
    "duration": 22,
    "start_time": "2022-12-22T01:23:25.700Z"
   },
   {
    "duration": 10,
    "start_time": "2022-12-22T01:23:25.724Z"
   },
   {
    "duration": 6,
    "start_time": "2022-12-22T01:23:25.736Z"
   },
   {
    "duration": 18,
    "start_time": "2022-12-22T01:23:25.744Z"
   },
   {
    "duration": 7,
    "start_time": "2022-12-22T01:23:25.763Z"
   },
   {
    "duration": 17,
    "start_time": "2022-12-22T01:23:25.771Z"
   },
   {
    "duration": 16,
    "start_time": "2022-12-22T01:23:25.821Z"
   },
   {
    "duration": 6,
    "start_time": "2022-12-22T01:23:25.841Z"
   },
   {
    "duration": 196,
    "start_time": "2022-12-22T01:23:25.849Z"
   },
   {
    "duration": 13,
    "start_time": "2022-12-22T01:23:26.046Z"
   },
   {
    "duration": 244,
    "start_time": "2022-12-22T01:23:26.060Z"
   },
   {
    "duration": 28,
    "start_time": "2022-12-22T01:23:26.306Z"
   },
   {
    "duration": 170,
    "start_time": "2022-12-22T01:23:26.335Z"
   },
   {
    "duration": 172,
    "start_time": "2022-12-22T01:23:26.507Z"
   },
   {
    "duration": 169,
    "start_time": "2022-12-22T01:23:26.681Z"
   },
   {
    "duration": 173,
    "start_time": "2022-12-22T01:23:26.851Z"
   },
   {
    "duration": 171,
    "start_time": "2022-12-22T01:23:27.026Z"
   },
   {
    "duration": 242,
    "start_time": "2022-12-22T01:23:27.198Z"
   },
   {
    "duration": 172,
    "start_time": "2022-12-22T01:23:27.441Z"
   },
   {
    "duration": 169,
    "start_time": "2022-12-22T01:23:27.614Z"
   },
   {
    "duration": 165,
    "start_time": "2022-12-22T01:23:27.785Z"
   },
   {
    "duration": 177,
    "start_time": "2022-12-22T01:23:27.952Z"
   },
   {
    "duration": 118,
    "start_time": "2022-12-22T01:23:28.131Z"
   },
   {
    "duration": 120,
    "start_time": "2022-12-22T01:23:28.250Z"
   },
   {
    "duration": 112,
    "start_time": "2022-12-22T01:23:28.371Z"
   },
   {
    "duration": 116,
    "start_time": "2022-12-22T01:23:28.485Z"
   },
   {
    "duration": 129,
    "start_time": "2022-12-22T01:23:28.603Z"
   },
   {
    "duration": 130,
    "start_time": "2022-12-22T01:23:28.733Z"
   },
   {
    "duration": 42,
    "start_time": "2022-12-22T01:23:28.864Z"
   },
   {
    "duration": 136,
    "start_time": "2022-12-22T01:23:28.907Z"
   },
   {
    "duration": 11,
    "start_time": "2022-12-22T01:23:29.044Z"
   },
   {
    "duration": 20,
    "start_time": "2022-12-22T01:23:29.056Z"
   },
   {
    "duration": 344,
    "start_time": "2022-12-22T01:23:29.077Z"
   },
   {
    "duration": 345,
    "start_time": "2022-12-22T01:23:29.423Z"
   },
   {
    "duration": 378,
    "start_time": "2022-12-22T01:23:29.772Z"
   },
   {
    "duration": 9,
    "start_time": "2022-12-22T01:23:30.151Z"
   },
   {
    "duration": 8,
    "start_time": "2022-12-22T01:23:30.162Z"
   },
   {
    "duration": 11,
    "start_time": "2022-12-22T01:23:30.171Z"
   },
   {
    "duration": 9,
    "start_time": "2022-12-22T01:23:30.184Z"
   },
   {
    "duration": 5,
    "start_time": "2022-12-22T01:23:30.194Z"
   },
   {
    "duration": 15,
    "start_time": "2022-12-22T01:25:03.908Z"
   },
   {
    "duration": 73,
    "start_time": "2022-12-22T01:28:34.670Z"
   },
   {
    "duration": 54,
    "start_time": "2022-12-22T06:12:32.934Z"
   },
   {
    "duration": 46,
    "start_time": "2022-12-22T06:12:41.264Z"
   },
   {
    "duration": 46,
    "start_time": "2022-12-22T06:12:45.275Z"
   },
   {
    "duration": 1357,
    "start_time": "2022-12-22T06:13:02.695Z"
   },
   {
    "duration": 109,
    "start_time": "2022-12-22T06:13:04.054Z"
   },
   {
    "duration": 14,
    "start_time": "2022-12-22T06:13:04.165Z"
   },
   {
    "duration": 7,
    "start_time": "2022-12-22T06:13:04.181Z"
   },
   {
    "duration": 4,
    "start_time": "2022-12-22T06:13:04.190Z"
   },
   {
    "duration": 10,
    "start_time": "2022-12-22T06:13:04.196Z"
   },
   {
    "duration": 23,
    "start_time": "2022-12-22T06:13:04.207Z"
   },
   {
    "duration": 10,
    "start_time": "2022-12-22T06:13:04.233Z"
   },
   {
    "duration": 105,
    "start_time": "2022-12-22T06:13:04.244Z"
   },
   {
    "duration": 0,
    "start_time": "2022-12-22T06:13:04.352Z"
   },
   {
    "duration": 0,
    "start_time": "2022-12-22T06:13:04.353Z"
   },
   {
    "duration": 0,
    "start_time": "2022-12-22T06:13:04.354Z"
   },
   {
    "duration": 0,
    "start_time": "2022-12-22T06:13:04.355Z"
   },
   {
    "duration": 0,
    "start_time": "2022-12-22T06:13:04.356Z"
   },
   {
    "duration": 0,
    "start_time": "2022-12-22T06:13:04.357Z"
   },
   {
    "duration": 0,
    "start_time": "2022-12-22T06:13:04.359Z"
   },
   {
    "duration": 0,
    "start_time": "2022-12-22T06:13:04.360Z"
   },
   {
    "duration": 0,
    "start_time": "2022-12-22T06:13:04.361Z"
   },
   {
    "duration": 0,
    "start_time": "2022-12-22T06:13:04.362Z"
   },
   {
    "duration": 0,
    "start_time": "2022-12-22T06:13:04.363Z"
   },
   {
    "duration": 0,
    "start_time": "2022-12-22T06:13:04.365Z"
   },
   {
    "duration": 0,
    "start_time": "2022-12-22T06:13:04.366Z"
   },
   {
    "duration": 0,
    "start_time": "2022-12-22T06:13:04.367Z"
   },
   {
    "duration": 0,
    "start_time": "2022-12-22T06:13:04.368Z"
   },
   {
    "duration": 0,
    "start_time": "2022-12-22T06:13:04.370Z"
   },
   {
    "duration": 0,
    "start_time": "2022-12-22T06:13:04.370Z"
   },
   {
    "duration": 0,
    "start_time": "2022-12-22T06:13:04.371Z"
   },
   {
    "duration": 1,
    "start_time": "2022-12-22T06:13:04.372Z"
   },
   {
    "duration": 0,
    "start_time": "2022-12-22T06:13:04.374Z"
   },
   {
    "duration": 0,
    "start_time": "2022-12-22T06:13:04.375Z"
   },
   {
    "duration": 0,
    "start_time": "2022-12-22T06:13:04.376Z"
   },
   {
    "duration": 0,
    "start_time": "2022-12-22T06:13:04.378Z"
   },
   {
    "duration": 0,
    "start_time": "2022-12-22T06:13:04.379Z"
   },
   {
    "duration": 0,
    "start_time": "2022-12-22T06:13:04.421Z"
   },
   {
    "duration": 0,
    "start_time": "2022-12-22T06:13:04.423Z"
   },
   {
    "duration": 0,
    "start_time": "2022-12-22T06:13:04.425Z"
   },
   {
    "duration": 0,
    "start_time": "2022-12-22T06:13:04.427Z"
   },
   {
    "duration": 0,
    "start_time": "2022-12-22T06:13:04.428Z"
   },
   {
    "duration": 0,
    "start_time": "2022-12-22T06:13:04.429Z"
   },
   {
    "duration": 0,
    "start_time": "2022-12-22T06:13:04.431Z"
   },
   {
    "duration": 0,
    "start_time": "2022-12-22T06:13:04.433Z"
   },
   {
    "duration": 0,
    "start_time": "2022-12-22T06:13:04.434Z"
   },
   {
    "duration": 0,
    "start_time": "2022-12-22T06:13:04.435Z"
   },
   {
    "duration": 0,
    "start_time": "2022-12-22T06:13:04.436Z"
   },
   {
    "duration": 0,
    "start_time": "2022-12-22T06:13:04.438Z"
   },
   {
    "duration": 0,
    "start_time": "2022-12-22T06:13:04.439Z"
   },
   {
    "duration": 0,
    "start_time": "2022-12-22T06:13:04.440Z"
   },
   {
    "duration": 0,
    "start_time": "2022-12-22T06:13:04.442Z"
   },
   {
    "duration": 9,
    "start_time": "2022-12-22T06:13:18.380Z"
   },
   {
    "duration": 8,
    "start_time": "2022-12-22T06:13:53.255Z"
   },
   {
    "duration": 3,
    "start_time": "2022-12-22T06:14:24.720Z"
   },
   {
    "duration": 5,
    "start_time": "2022-12-22T06:14:28.540Z"
   },
   {
    "duration": 9,
    "start_time": "2022-12-22T06:14:47.120Z"
   },
   {
    "duration": 6,
    "start_time": "2022-12-22T06:15:08.396Z"
   },
   {
    "duration": 9,
    "start_time": "2022-12-22T06:16:15.959Z"
   },
   {
    "duration": 10,
    "start_time": "2022-12-22T06:16:19.025Z"
   },
   {
    "duration": 9,
    "start_time": "2022-12-22T06:16:26.394Z"
   },
   {
    "duration": 9,
    "start_time": "2022-12-22T06:16:31.664Z"
   },
   {
    "duration": 27,
    "start_time": "2022-12-22T06:21:59.486Z"
   },
   {
    "duration": 20,
    "start_time": "2022-12-22T06:22:49.975Z"
   },
   {
    "duration": 21,
    "start_time": "2022-12-22T06:23:13.900Z"
   },
   {
    "duration": 34,
    "start_time": "2022-12-22T06:32:37.277Z"
   },
   {
    "duration": 31,
    "start_time": "2022-12-22T06:36:55.337Z"
   },
   {
    "duration": 19,
    "start_time": "2022-12-22T06:38:26.047Z"
   },
   {
    "duration": 13,
    "start_time": "2022-12-22T06:38:37.707Z"
   },
   {
    "duration": 1097,
    "start_time": "2022-12-22T06:38:49.776Z"
   },
   {
    "duration": 66,
    "start_time": "2022-12-22T06:38:50.874Z"
   },
   {
    "duration": 15,
    "start_time": "2022-12-22T06:38:50.942Z"
   },
   {
    "duration": 11,
    "start_time": "2022-12-22T06:38:50.959Z"
   },
   {
    "duration": 10,
    "start_time": "2022-12-22T06:38:50.971Z"
   },
   {
    "duration": 13,
    "start_time": "2022-12-22T06:38:50.983Z"
   },
   {
    "duration": 24,
    "start_time": "2022-12-22T06:38:50.998Z"
   },
   {
    "duration": 5,
    "start_time": "2022-12-22T06:38:51.023Z"
   },
   {
    "duration": 31,
    "start_time": "2022-12-22T06:38:51.029Z"
   },
   {
    "duration": 33,
    "start_time": "2022-12-22T06:38:51.063Z"
   },
   {
    "duration": 10,
    "start_time": "2022-12-22T06:38:51.098Z"
   },
   {
    "duration": 7,
    "start_time": "2022-12-22T06:38:51.121Z"
   },
   {
    "duration": 27,
    "start_time": "2022-12-22T06:38:51.130Z"
   },
   {
    "duration": 8,
    "start_time": "2022-12-22T06:38:51.158Z"
   },
   {
    "duration": 52,
    "start_time": "2022-12-22T06:38:51.167Z"
   },
   {
    "duration": 22,
    "start_time": "2022-12-22T06:38:51.221Z"
   },
   {
    "duration": 91,
    "start_time": "2022-12-22T06:38:51.245Z"
   },
   {
    "duration": 9,
    "start_time": "2022-12-22T06:38:51.337Z"
   },
   {
    "duration": 12,
    "start_time": "2022-12-22T06:38:51.347Z"
   },
   {
    "duration": 214,
    "start_time": "2022-12-22T06:38:51.361Z"
   },
   {
    "duration": 11,
    "start_time": "2022-12-22T06:38:51.577Z"
   },
   {
    "duration": 257,
    "start_time": "2022-12-22T06:38:51.589Z"
   },
   {
    "duration": 22,
    "start_time": "2022-12-22T06:38:51.847Z"
   },
   {
    "duration": 184,
    "start_time": "2022-12-22T06:38:51.870Z"
   },
   {
    "duration": 174,
    "start_time": "2022-12-22T06:38:52.055Z"
   },
   {
    "duration": 170,
    "start_time": "2022-12-22T06:38:52.231Z"
   },
   {
    "duration": 193,
    "start_time": "2022-12-22T06:38:52.402Z"
   },
   {
    "duration": 267,
    "start_time": "2022-12-22T06:38:52.598Z"
   },
   {
    "duration": 216,
    "start_time": "2022-12-22T06:38:52.867Z"
   },
   {
    "duration": 191,
    "start_time": "2022-12-22T06:38:53.085Z"
   },
   {
    "duration": 188,
    "start_time": "2022-12-22T06:38:53.278Z"
   },
   {
    "duration": 176,
    "start_time": "2022-12-22T06:38:53.468Z"
   },
   {
    "duration": 178,
    "start_time": "2022-12-22T06:38:53.646Z"
   },
   {
    "duration": 130,
    "start_time": "2022-12-22T06:38:53.825Z"
   },
   {
    "duration": 127,
    "start_time": "2022-12-22T06:38:53.956Z"
   },
   {
    "duration": 116,
    "start_time": "2022-12-22T06:38:54.084Z"
   },
   {
    "duration": 133,
    "start_time": "2022-12-22T06:38:54.202Z"
   },
   {
    "duration": 131,
    "start_time": "2022-12-22T06:38:54.336Z"
   },
   {
    "duration": 233,
    "start_time": "2022-12-22T06:38:54.469Z"
   },
   {
    "duration": 55,
    "start_time": "2022-12-22T06:38:54.703Z"
   },
   {
    "duration": 47,
    "start_time": "2022-12-22T06:38:54.759Z"
   },
   {
    "duration": 12,
    "start_time": "2022-12-22T06:38:54.822Z"
   },
   {
    "duration": 11,
    "start_time": "2022-12-22T06:38:54.835Z"
   },
   {
    "duration": 415,
    "start_time": "2022-12-22T06:38:54.847Z"
   },
   {
    "duration": 406,
    "start_time": "2022-12-22T06:38:55.264Z"
   },
   {
    "duration": 418,
    "start_time": "2022-12-22T06:38:55.671Z"
   },
   {
    "duration": 9,
    "start_time": "2022-12-22T06:38:56.091Z"
   },
   {
    "duration": 5,
    "start_time": "2022-12-22T06:38:56.102Z"
   },
   {
    "duration": 9,
    "start_time": "2022-12-22T06:38:56.121Z"
   },
   {
    "duration": 6,
    "start_time": "2022-12-22T06:38:56.132Z"
   },
   {
    "duration": 9,
    "start_time": "2022-12-22T06:40:31.336Z"
   },
   {
    "duration": 8,
    "start_time": "2022-12-22T06:45:09.167Z"
   },
   {
    "duration": 10,
    "start_time": "2022-12-22T06:47:35.086Z"
   },
   {
    "duration": 16,
    "start_time": "2022-12-22T06:48:31.562Z"
   },
   {
    "duration": 32,
    "start_time": "2022-12-22T06:48:42.572Z"
   },
   {
    "duration": 1095,
    "start_time": "2022-12-22T06:48:51.922Z"
   },
   {
    "duration": 66,
    "start_time": "2022-12-22T06:48:53.019Z"
   },
   {
    "duration": 14,
    "start_time": "2022-12-22T06:48:53.086Z"
   },
   {
    "duration": 18,
    "start_time": "2022-12-22T06:48:53.102Z"
   },
   {
    "duration": 11,
    "start_time": "2022-12-22T06:48:53.122Z"
   },
   {
    "duration": 24,
    "start_time": "2022-12-22T06:48:53.134Z"
   },
   {
    "duration": 22,
    "start_time": "2022-12-22T06:48:53.160Z"
   },
   {
    "duration": 18,
    "start_time": "2022-12-22T06:48:53.183Z"
   },
   {
    "duration": 39,
    "start_time": "2022-12-22T06:48:53.203Z"
   },
   {
    "duration": 45,
    "start_time": "2022-12-22T06:48:53.245Z"
   },
   {
    "duration": 41,
    "start_time": "2022-12-22T06:48:53.291Z"
   },
   {
    "duration": 25,
    "start_time": "2022-12-22T06:48:53.334Z"
   },
   {
    "duration": 37,
    "start_time": "2022-12-22T06:48:53.361Z"
   },
   {
    "duration": 16,
    "start_time": "2022-12-22T06:48:53.400Z"
   },
   {
    "duration": 18,
    "start_time": "2022-12-22T06:48:53.418Z"
   },
   {
    "duration": 16,
    "start_time": "2022-12-22T06:48:53.437Z"
   },
   {
    "duration": 92,
    "start_time": "2022-12-22T06:48:53.454Z"
   },
   {
    "duration": 7,
    "start_time": "2022-12-22T06:48:53.548Z"
   },
   {
    "duration": 220,
    "start_time": "2022-12-22T06:48:53.557Z"
   },
   {
    "duration": 14,
    "start_time": "2022-12-22T06:48:53.779Z"
   },
   {
    "duration": 256,
    "start_time": "2022-12-22T06:48:53.794Z"
   },
   {
    "duration": 21,
    "start_time": "2022-12-22T06:48:54.052Z"
   },
   {
    "duration": 177,
    "start_time": "2022-12-22T06:48:54.075Z"
   },
   {
    "duration": 170,
    "start_time": "2022-12-22T06:48:54.253Z"
   },
   {
    "duration": 172,
    "start_time": "2022-12-22T06:48:54.425Z"
   },
   {
    "duration": 183,
    "start_time": "2022-12-22T06:48:54.599Z"
   },
   {
    "duration": 241,
    "start_time": "2022-12-22T06:48:54.784Z"
   },
   {
    "duration": 207,
    "start_time": "2022-12-22T06:48:55.029Z"
   },
   {
    "duration": 220,
    "start_time": "2022-12-22T06:48:55.238Z"
   },
   {
    "duration": 179,
    "start_time": "2022-12-22T06:48:55.460Z"
   },
   {
    "duration": 180,
    "start_time": "2022-12-22T06:48:55.640Z"
   },
   {
    "duration": 177,
    "start_time": "2022-12-22T06:48:55.822Z"
   },
   {
    "duration": 123,
    "start_time": "2022-12-22T06:48:56.001Z"
   },
   {
    "duration": 119,
    "start_time": "2022-12-22T06:48:56.125Z"
   },
   {
    "duration": 118,
    "start_time": "2022-12-22T06:48:56.246Z"
   },
   {
    "duration": 118,
    "start_time": "2022-12-22T06:48:56.366Z"
   },
   {
    "duration": 162,
    "start_time": "2022-12-22T06:48:56.486Z"
   },
   {
    "duration": 225,
    "start_time": "2022-12-22T06:48:56.649Z"
   },
   {
    "duration": 52,
    "start_time": "2022-12-22T06:48:56.876Z"
   },
   {
    "duration": 45,
    "start_time": "2022-12-22T06:48:56.929Z"
   },
   {
    "duration": 10,
    "start_time": "2022-12-22T06:48:56.976Z"
   },
   {
    "duration": 19,
    "start_time": "2022-12-22T06:48:56.988Z"
   },
   {
    "duration": 376,
    "start_time": "2022-12-22T06:48:57.021Z"
   },
   {
    "duration": 364,
    "start_time": "2022-12-22T06:48:57.399Z"
   },
   {
    "duration": 385,
    "start_time": "2022-12-22T06:48:57.765Z"
   },
   {
    "duration": 9,
    "start_time": "2022-12-22T06:48:58.152Z"
   },
   {
    "duration": 4,
    "start_time": "2022-12-22T06:48:58.163Z"
   },
   {
    "duration": 12,
    "start_time": "2022-12-22T06:48:58.169Z"
   },
   {
    "duration": 4,
    "start_time": "2022-12-22T06:48:58.183Z"
   },
   {
    "duration": 26,
    "start_time": "2022-12-22T06:49:43.642Z"
   },
   {
    "duration": 9,
    "start_time": "2022-12-22T06:51:11.272Z"
   },
   {
    "duration": 1099,
    "start_time": "2022-12-22T06:51:32.192Z"
   },
   {
    "duration": 64,
    "start_time": "2022-12-22T06:51:33.293Z"
   },
   {
    "duration": 15,
    "start_time": "2022-12-22T06:51:33.359Z"
   },
   {
    "duration": 8,
    "start_time": "2022-12-22T06:51:33.376Z"
   },
   {
    "duration": 5,
    "start_time": "2022-12-22T06:51:33.385Z"
   },
   {
    "duration": 12,
    "start_time": "2022-12-22T06:51:33.392Z"
   },
   {
    "duration": 9,
    "start_time": "2022-12-22T06:51:33.421Z"
   },
   {
    "duration": 8,
    "start_time": "2022-12-22T06:51:33.432Z"
   },
   {
    "duration": 23,
    "start_time": "2022-12-22T06:51:33.441Z"
   },
   {
    "duration": 21,
    "start_time": "2022-12-22T06:51:33.466Z"
   },
   {
    "duration": 34,
    "start_time": "2022-12-22T06:51:33.488Z"
   },
   {
    "duration": 8,
    "start_time": "2022-12-22T06:51:33.523Z"
   },
   {
    "duration": 10,
    "start_time": "2022-12-22T06:51:33.533Z"
   },
   {
    "duration": 31,
    "start_time": "2022-12-22T06:51:33.544Z"
   },
   {
    "duration": 6,
    "start_time": "2022-12-22T06:51:33.576Z"
   },
   {
    "duration": 38,
    "start_time": "2022-12-22T06:51:33.584Z"
   },
   {
    "duration": 17,
    "start_time": "2022-12-22T06:51:33.624Z"
   },
   {
    "duration": 95,
    "start_time": "2022-12-22T06:51:33.643Z"
   },
   {
    "duration": 6,
    "start_time": "2022-12-22T06:51:33.740Z"
   },
   {
    "duration": 189,
    "start_time": "2022-12-22T06:51:33.748Z"
   },
   {
    "duration": 12,
    "start_time": "2022-12-22T06:51:33.939Z"
   },
   {
    "duration": 264,
    "start_time": "2022-12-22T06:51:33.952Z"
   },
   {
    "duration": 23,
    "start_time": "2022-12-22T06:51:34.218Z"
   },
   {
    "duration": 179,
    "start_time": "2022-12-22T06:51:34.242Z"
   },
   {
    "duration": 176,
    "start_time": "2022-12-22T06:51:34.423Z"
   },
   {
    "duration": 162,
    "start_time": "2022-12-22T06:51:34.601Z"
   },
   {
    "duration": 176,
    "start_time": "2022-12-22T06:51:34.765Z"
   },
   {
    "duration": 268,
    "start_time": "2022-12-22T06:51:34.944Z"
   },
   {
    "duration": 234,
    "start_time": "2022-12-22T06:51:35.214Z"
   },
   {
    "duration": 177,
    "start_time": "2022-12-22T06:51:35.450Z"
   },
   {
    "duration": 177,
    "start_time": "2022-12-22T06:51:35.629Z"
   },
   {
    "duration": 171,
    "start_time": "2022-12-22T06:51:35.807Z"
   },
   {
    "duration": 175,
    "start_time": "2022-12-22T06:51:35.979Z"
   },
   {
    "duration": 126,
    "start_time": "2022-12-22T06:51:36.155Z"
   },
   {
    "duration": 117,
    "start_time": "2022-12-22T06:51:36.283Z"
   },
   {
    "duration": 116,
    "start_time": "2022-12-22T06:51:36.401Z"
   },
   {
    "duration": 131,
    "start_time": "2022-12-22T06:51:36.519Z"
   },
   {
    "duration": 128,
    "start_time": "2022-12-22T06:51:36.652Z"
   },
   {
    "duration": 214,
    "start_time": "2022-12-22T06:51:36.782Z"
   },
   {
    "duration": 47,
    "start_time": "2022-12-22T06:51:36.998Z"
   },
   {
    "duration": 47,
    "start_time": "2022-12-22T06:51:37.046Z"
   },
   {
    "duration": 11,
    "start_time": "2022-12-22T06:51:37.094Z"
   },
   {
    "duration": 10,
    "start_time": "2022-12-22T06:51:37.121Z"
   },
   {
    "duration": 368,
    "start_time": "2022-12-22T06:51:37.132Z"
   },
   {
    "duration": 379,
    "start_time": "2022-12-22T06:51:37.502Z"
   },
   {
    "duration": 377,
    "start_time": "2022-12-22T06:51:37.883Z"
   },
   {
    "duration": 9,
    "start_time": "2022-12-22T06:51:38.262Z"
   },
   {
    "duration": 6,
    "start_time": "2022-12-22T06:51:38.273Z"
   },
   {
    "duration": 11,
    "start_time": "2022-12-22T06:51:38.280Z"
   },
   {
    "duration": 3,
    "start_time": "2022-12-22T06:51:38.292Z"
   },
   {
    "duration": 75,
    "start_time": "2022-12-22T06:52:44.022Z"
   },
   {
    "duration": 7,
    "start_time": "2022-12-22T06:54:19.268Z"
   },
   {
    "duration": 99,
    "start_time": "2022-12-22T06:55:20.942Z"
   },
   {
    "duration": 9,
    "start_time": "2022-12-22T06:56:02.648Z"
   },
   {
    "duration": 280,
    "start_time": "2022-12-22T06:58:40.589Z"
   },
   {
    "duration": 189,
    "start_time": "2022-12-22T06:59:03.539Z"
   },
   {
    "duration": 187,
    "start_time": "2022-12-22T06:59:07.298Z"
   },
   {
    "duration": 301,
    "start_time": "2022-12-22T06:59:40.848Z"
   },
   {
    "duration": 49,
    "start_time": "2022-12-22T07:00:56.354Z"
   },
   {
    "duration": 193,
    "start_time": "2022-12-22T07:01:40.104Z"
   },
   {
    "duration": 189,
    "start_time": "2022-12-22T07:01:47.054Z"
   },
   {
    "duration": 194,
    "start_time": "2022-12-22T07:01:54.234Z"
   },
   {
    "duration": 195,
    "start_time": "2022-12-22T07:02:04.699Z"
   },
   {
    "duration": 192,
    "start_time": "2022-12-22T07:02:29.624Z"
   },
   {
    "duration": 112,
    "start_time": "2022-12-22T08:12:40.402Z"
   },
   {
    "duration": 118,
    "start_time": "2022-12-22T08:12:46.667Z"
   },
   {
    "duration": 1003,
    "start_time": "2022-12-22T08:24:40.953Z"
   },
   {
    "duration": 1105,
    "start_time": "2022-12-22T08:24:50.317Z"
   },
   {
    "duration": 734,
    "start_time": "2022-12-22T08:25:10.063Z"
   },
   {
    "duration": 687,
    "start_time": "2022-12-22T08:25:30.838Z"
   },
   {
    "duration": 24,
    "start_time": "2022-12-22T08:25:50.539Z"
   },
   {
    "duration": 7,
    "start_time": "2022-12-22T08:26:18.578Z"
   },
   {
    "duration": 189,
    "start_time": "2022-12-22T08:26:26.223Z"
   },
   {
    "duration": 187,
    "start_time": "2022-12-22T08:28:29.172Z"
   },
   {
    "duration": 182,
    "start_time": "2022-12-22T08:31:59.423Z"
   },
   {
    "duration": 1053,
    "start_time": "2022-12-22T08:32:11.362Z"
   },
   {
    "duration": 68,
    "start_time": "2022-12-22T08:32:12.417Z"
   },
   {
    "duration": 15,
    "start_time": "2022-12-22T08:32:12.487Z"
   },
   {
    "duration": 7,
    "start_time": "2022-12-22T08:32:12.504Z"
   },
   {
    "duration": 6,
    "start_time": "2022-12-22T08:32:12.513Z"
   },
   {
    "duration": 10,
    "start_time": "2022-12-22T08:32:12.520Z"
   },
   {
    "duration": 10,
    "start_time": "2022-12-22T08:32:12.531Z"
   },
   {
    "duration": 6,
    "start_time": "2022-12-22T08:32:12.542Z"
   },
   {
    "duration": 23,
    "start_time": "2022-12-22T08:32:12.550Z"
   },
   {
    "duration": 12,
    "start_time": "2022-12-22T08:32:12.575Z"
   },
   {
    "duration": 35,
    "start_time": "2022-12-22T08:32:12.589Z"
   },
   {
    "duration": 9,
    "start_time": "2022-12-22T08:32:12.625Z"
   },
   {
    "duration": 9,
    "start_time": "2022-12-22T08:32:12.635Z"
   },
   {
    "duration": 19,
    "start_time": "2022-12-22T08:32:12.646Z"
   },
   {
    "duration": 10,
    "start_time": "2022-12-22T08:32:12.666Z"
   },
   {
    "duration": 15,
    "start_time": "2022-12-22T08:32:12.678Z"
   },
   {
    "duration": 35,
    "start_time": "2022-12-22T08:32:12.694Z"
   },
   {
    "duration": 76,
    "start_time": "2022-12-22T08:32:12.731Z"
   },
   {
    "duration": 5,
    "start_time": "2022-12-22T08:32:12.821Z"
   },
   {
    "duration": 233,
    "start_time": "2022-12-22T08:32:12.828Z"
   },
   {
    "duration": 12,
    "start_time": "2022-12-22T08:32:13.062Z"
   },
   {
    "duration": 257,
    "start_time": "2022-12-22T08:32:13.075Z"
   },
   {
    "duration": 22,
    "start_time": "2022-12-22T08:32:13.333Z"
   },
   {
    "duration": 195,
    "start_time": "2022-12-22T08:32:13.357Z"
   },
   {
    "duration": 181,
    "start_time": "2022-12-22T08:32:13.554Z"
   },
   {
    "duration": 179,
    "start_time": "2022-12-22T08:32:13.736Z"
   },
   {
    "duration": 170,
    "start_time": "2022-12-22T08:32:13.916Z"
   },
   {
    "duration": 252,
    "start_time": "2022-12-22T08:32:14.091Z"
   },
   {
    "duration": 188,
    "start_time": "2022-12-22T08:32:14.345Z"
   },
   {
    "duration": 206,
    "start_time": "2022-12-22T08:32:14.535Z"
   },
   {
    "duration": 180,
    "start_time": "2022-12-22T08:32:14.743Z"
   },
   {
    "duration": 179,
    "start_time": "2022-12-22T08:32:14.925Z"
   },
   {
    "duration": 189,
    "start_time": "2022-12-22T08:32:15.106Z"
   },
   {
    "duration": 208,
    "start_time": "2022-12-22T08:32:15.296Z"
   },
   {
    "duration": 125,
    "start_time": "2022-12-22T08:32:15.506Z"
   },
   {
    "duration": 122,
    "start_time": "2022-12-22T08:32:15.632Z"
   },
   {
    "duration": 118,
    "start_time": "2022-12-22T08:32:15.755Z"
   },
   {
    "duration": 123,
    "start_time": "2022-12-22T08:32:15.874Z"
   },
   {
    "duration": 205,
    "start_time": "2022-12-22T08:32:15.999Z"
   },
   {
    "duration": 133,
    "start_time": "2022-12-22T08:32:16.205Z"
   },
   {
    "duration": 40,
    "start_time": "2022-12-22T08:32:16.340Z"
   },
   {
    "duration": 65,
    "start_time": "2022-12-22T08:32:16.382Z"
   },
   {
    "duration": 10,
    "start_time": "2022-12-22T08:32:16.448Z"
   },
   {
    "duration": 16,
    "start_time": "2022-12-22T08:32:16.459Z"
   },
   {
    "duration": 361,
    "start_time": "2022-12-22T08:32:16.476Z"
   },
   {
    "duration": 365,
    "start_time": "2022-12-22T08:32:16.838Z"
   },
   {
    "duration": 367,
    "start_time": "2022-12-22T08:32:17.204Z"
   },
   {
    "duration": 8,
    "start_time": "2022-12-22T08:32:17.573Z"
   },
   {
    "duration": 10,
    "start_time": "2022-12-22T08:32:17.583Z"
   },
   {
    "duration": 11,
    "start_time": "2022-12-22T08:32:17.595Z"
   },
   {
    "duration": 6,
    "start_time": "2022-12-22T08:32:17.607Z"
   },
   {
    "duration": 169,
    "start_time": "2022-12-22T08:32:57.823Z"
   },
   {
    "duration": 1078,
    "start_time": "2022-12-22T08:33:04.368Z"
   },
   {
    "duration": 66,
    "start_time": "2022-12-22T08:33:05.448Z"
   },
   {
    "duration": 14,
    "start_time": "2022-12-22T08:33:05.516Z"
   },
   {
    "duration": 17,
    "start_time": "2022-12-22T08:33:05.532Z"
   },
   {
    "duration": 6,
    "start_time": "2022-12-22T08:33:05.550Z"
   },
   {
    "duration": 24,
    "start_time": "2022-12-22T08:33:05.558Z"
   },
   {
    "duration": 37,
    "start_time": "2022-12-22T08:33:05.584Z"
   },
   {
    "duration": 59,
    "start_time": "2022-12-22T08:33:05.623Z"
   },
   {
    "duration": 22,
    "start_time": "2022-12-22T08:33:05.684Z"
   },
   {
    "duration": 12,
    "start_time": "2022-12-22T08:33:05.710Z"
   },
   {
    "duration": 14,
    "start_time": "2022-12-22T08:33:05.724Z"
   },
   {
    "duration": 31,
    "start_time": "2022-12-22T08:33:05.740Z"
   },
   {
    "duration": 14,
    "start_time": "2022-12-22T08:33:05.773Z"
   },
   {
    "duration": 36,
    "start_time": "2022-12-22T08:33:05.789Z"
   },
   {
    "duration": 11,
    "start_time": "2022-12-22T08:33:05.826Z"
   },
   {
    "duration": 20,
    "start_time": "2022-12-22T08:33:05.839Z"
   },
   {
    "duration": 14,
    "start_time": "2022-12-22T08:33:05.860Z"
   },
   {
    "duration": 86,
    "start_time": "2022-12-22T08:33:05.876Z"
   },
   {
    "duration": 7,
    "start_time": "2022-12-22T08:33:05.964Z"
   },
   {
    "duration": 248,
    "start_time": "2022-12-22T08:33:05.973Z"
   },
   {
    "duration": 11,
    "start_time": "2022-12-22T08:33:06.222Z"
   },
   {
    "duration": 256,
    "start_time": "2022-12-22T08:33:06.235Z"
   },
   {
    "duration": 28,
    "start_time": "2022-12-22T08:33:06.493Z"
   },
   {
    "duration": 173,
    "start_time": "2022-12-22T08:33:06.523Z"
   },
   {
    "duration": 177,
    "start_time": "2022-12-22T08:33:06.698Z"
   },
   {
    "duration": 184,
    "start_time": "2022-12-22T08:33:06.876Z"
   },
   {
    "duration": 167,
    "start_time": "2022-12-22T08:33:07.062Z"
   },
   {
    "duration": 249,
    "start_time": "2022-12-22T08:33:07.232Z"
   },
   {
    "duration": 183,
    "start_time": "2022-12-22T08:33:07.483Z"
   },
   {
    "duration": 197,
    "start_time": "2022-12-22T08:33:07.668Z"
   },
   {
    "duration": 180,
    "start_time": "2022-12-22T08:33:07.866Z"
   },
   {
    "duration": 184,
    "start_time": "2022-12-22T08:33:08.048Z"
   },
   {
    "duration": 167,
    "start_time": "2022-12-22T08:33:08.234Z"
   },
   {
    "duration": 184,
    "start_time": "2022-12-22T08:33:08.403Z"
   },
   {
    "duration": 128,
    "start_time": "2022-12-22T08:33:08.588Z"
   },
   {
    "duration": 115,
    "start_time": "2022-12-22T08:33:08.721Z"
   },
   {
    "duration": 119,
    "start_time": "2022-12-22T08:33:08.838Z"
   },
   {
    "duration": 128,
    "start_time": "2022-12-22T08:33:08.959Z"
   },
   {
    "duration": 221,
    "start_time": "2022-12-22T08:33:09.090Z"
   },
   {
    "duration": 143,
    "start_time": "2022-12-22T08:33:09.313Z"
   },
   {
    "duration": 42,
    "start_time": "2022-12-22T08:33:09.458Z"
   },
   {
    "duration": 60,
    "start_time": "2022-12-22T08:33:09.501Z"
   },
   {
    "duration": 11,
    "start_time": "2022-12-22T08:33:09.563Z"
   },
   {
    "duration": 16,
    "start_time": "2022-12-22T08:33:09.575Z"
   },
   {
    "duration": 361,
    "start_time": "2022-12-22T08:33:09.593Z"
   },
   {
    "duration": 778,
    "start_time": "2022-12-22T08:33:09.956Z"
   },
   {
    "duration": 788,
    "start_time": "2022-12-22T08:33:10.735Z"
   },
   {
    "duration": 12,
    "start_time": "2022-12-22T08:33:11.524Z"
   },
   {
    "duration": 10,
    "start_time": "2022-12-22T08:33:11.538Z"
   },
   {
    "duration": 15,
    "start_time": "2022-12-22T08:33:11.550Z"
   },
   {
    "duration": 4,
    "start_time": "2022-12-22T08:33:11.567Z"
   },
   {
    "duration": 166,
    "start_time": "2022-12-22T08:33:39.813Z"
   },
   {
    "duration": 169,
    "start_time": "2022-12-22T08:33:48.608Z"
   },
   {
    "duration": 1055,
    "start_time": "2022-12-22T08:33:56.253Z"
   },
   {
    "duration": 65,
    "start_time": "2022-12-22T08:33:57.310Z"
   },
   {
    "duration": 15,
    "start_time": "2022-12-22T08:33:57.377Z"
   },
   {
    "duration": 7,
    "start_time": "2022-12-22T08:33:57.393Z"
   },
   {
    "duration": 7,
    "start_time": "2022-12-22T08:33:57.401Z"
   },
   {
    "duration": 13,
    "start_time": "2022-12-22T08:33:57.409Z"
   },
   {
    "duration": 11,
    "start_time": "2022-12-22T08:33:57.423Z"
   },
   {
    "duration": 10,
    "start_time": "2022-12-22T08:33:57.435Z"
   },
   {
    "duration": 31,
    "start_time": "2022-12-22T08:33:57.446Z"
   },
   {
    "duration": 10,
    "start_time": "2022-12-22T08:33:57.479Z"
   },
   {
    "duration": 7,
    "start_time": "2022-12-22T08:33:57.490Z"
   },
   {
    "duration": 13,
    "start_time": "2022-12-22T08:33:57.498Z"
   },
   {
    "duration": 6,
    "start_time": "2022-12-22T08:33:57.521Z"
   },
   {
    "duration": 20,
    "start_time": "2022-12-22T08:33:57.528Z"
   },
   {
    "duration": 6,
    "start_time": "2022-12-22T08:33:57.549Z"
   },
   {
    "duration": 22,
    "start_time": "2022-12-22T08:33:57.556Z"
   },
   {
    "duration": 13,
    "start_time": "2022-12-22T08:33:57.580Z"
   },
   {
    "duration": 91,
    "start_time": "2022-12-22T08:33:57.595Z"
   },
   {
    "duration": 7,
    "start_time": "2022-12-22T08:33:57.688Z"
   },
   {
    "duration": 226,
    "start_time": "2022-12-22T08:33:57.696Z"
   },
   {
    "duration": 10,
    "start_time": "2022-12-22T08:33:57.924Z"
   },
   {
    "duration": 253,
    "start_time": "2022-12-22T08:33:57.935Z"
   },
   {
    "duration": 32,
    "start_time": "2022-12-22T08:33:58.189Z"
   },
   {
    "duration": 166,
    "start_time": "2022-12-22T08:33:58.222Z"
   },
   {
    "duration": 188,
    "start_time": "2022-12-22T08:33:58.390Z"
   },
   {
    "duration": 183,
    "start_time": "2022-12-22T08:33:58.580Z"
   },
   {
    "duration": 168,
    "start_time": "2022-12-22T08:33:58.765Z"
   },
   {
    "duration": 253,
    "start_time": "2022-12-22T08:33:58.936Z"
   },
   {
    "duration": 176,
    "start_time": "2022-12-22T08:33:59.191Z"
   },
   {
    "duration": 185,
    "start_time": "2022-12-22T08:33:59.368Z"
   },
   {
    "duration": 177,
    "start_time": "2022-12-22T08:33:59.555Z"
   },
   {
    "duration": 174,
    "start_time": "2022-12-22T08:33:59.733Z"
   },
   {
    "duration": 167,
    "start_time": "2022-12-22T08:33:59.908Z"
   },
   {
    "duration": 173,
    "start_time": "2022-12-22T08:34:00.077Z"
   },
   {
    "duration": 132,
    "start_time": "2022-12-22T08:34:00.251Z"
   },
   {
    "duration": 114,
    "start_time": "2022-12-22T08:34:00.384Z"
   },
   {
    "duration": 136,
    "start_time": "2022-12-22T08:34:00.500Z"
   },
   {
    "duration": 117,
    "start_time": "2022-12-22T08:34:00.637Z"
   },
   {
    "duration": 220,
    "start_time": "2022-12-22T08:34:00.756Z"
   },
   {
    "duration": 133,
    "start_time": "2022-12-22T08:34:00.977Z"
   },
   {
    "duration": 57,
    "start_time": "2022-12-22T08:34:01.111Z"
   },
   {
    "duration": 60,
    "start_time": "2022-12-22T08:34:01.170Z"
   },
   {
    "duration": 10,
    "start_time": "2022-12-22T08:34:01.231Z"
   },
   {
    "duration": 52,
    "start_time": "2022-12-22T08:34:01.242Z"
   },
   {
    "duration": 394,
    "start_time": "2022-12-22T08:34:01.296Z"
   },
   {
    "duration": 370,
    "start_time": "2022-12-22T08:34:01.692Z"
   },
   {
    "duration": 371,
    "start_time": "2022-12-22T08:34:02.064Z"
   },
   {
    "duration": 9,
    "start_time": "2022-12-22T08:34:02.436Z"
   },
   {
    "duration": 8,
    "start_time": "2022-12-22T08:34:02.447Z"
   },
   {
    "duration": 38,
    "start_time": "2022-12-22T08:34:02.456Z"
   },
   {
    "duration": 5,
    "start_time": "2022-12-22T08:34:02.496Z"
   },
   {
    "duration": 168,
    "start_time": "2022-12-22T09:35:21.916Z"
   },
   {
    "duration": 1020,
    "start_time": "2022-12-22T09:35:28.866Z"
   },
   {
    "duration": 69,
    "start_time": "2022-12-22T09:35:29.888Z"
   },
   {
    "duration": 16,
    "start_time": "2022-12-22T09:35:29.958Z"
   },
   {
    "duration": 28,
    "start_time": "2022-12-22T09:35:29.976Z"
   },
   {
    "duration": 30,
    "start_time": "2022-12-22T09:35:30.006Z"
   },
   {
    "duration": 26,
    "start_time": "2022-12-22T09:35:30.038Z"
   },
   {
    "duration": 22,
    "start_time": "2022-12-22T09:35:30.065Z"
   },
   {
    "duration": 14,
    "start_time": "2022-12-22T09:35:30.088Z"
   },
   {
    "duration": 27,
    "start_time": "2022-12-22T09:35:30.103Z"
   },
   {
    "duration": 20,
    "start_time": "2022-12-22T09:35:30.132Z"
   },
   {
    "duration": 9,
    "start_time": "2022-12-22T09:35:30.154Z"
   },
   {
    "duration": 14,
    "start_time": "2022-12-22T09:35:30.164Z"
   },
   {
    "duration": 13,
    "start_time": "2022-12-22T09:35:30.180Z"
   },
   {
    "duration": 31,
    "start_time": "2022-12-22T09:35:30.194Z"
   },
   {
    "duration": 14,
    "start_time": "2022-12-22T09:35:30.227Z"
   },
   {
    "duration": 40,
    "start_time": "2022-12-22T09:35:30.242Z"
   },
   {
    "duration": 29,
    "start_time": "2022-12-22T09:35:30.284Z"
   },
   {
    "duration": 82,
    "start_time": "2022-12-22T09:35:30.315Z"
   },
   {
    "duration": 5,
    "start_time": "2022-12-22T09:35:30.399Z"
   },
   {
    "duration": 251,
    "start_time": "2022-12-22T09:35:30.406Z"
   },
   {
    "duration": 11,
    "start_time": "2022-12-22T09:35:30.659Z"
   },
   {
    "duration": 260,
    "start_time": "2022-12-22T09:35:30.672Z"
   },
   {
    "duration": 21,
    "start_time": "2022-12-22T09:35:30.934Z"
   },
   {
    "duration": 188,
    "start_time": "2022-12-22T09:35:30.956Z"
   },
   {
    "duration": 175,
    "start_time": "2022-12-22T09:35:31.146Z"
   },
   {
    "duration": 178,
    "start_time": "2022-12-22T09:35:31.323Z"
   },
   {
    "duration": 170,
    "start_time": "2022-12-22T09:35:31.503Z"
   },
   {
    "duration": 236,
    "start_time": "2022-12-22T09:35:31.676Z"
   },
   {
    "duration": 169,
    "start_time": "2022-12-22T09:35:31.920Z"
   },
   {
    "duration": 186,
    "start_time": "2022-12-22T09:35:32.090Z"
   },
   {
    "duration": 179,
    "start_time": "2022-12-22T09:35:32.278Z"
   },
   {
    "duration": 180,
    "start_time": "2022-12-22T09:35:32.459Z"
   },
   {
    "duration": 164,
    "start_time": "2022-12-22T09:35:32.640Z"
   },
   {
    "duration": 177,
    "start_time": "2022-12-22T09:35:32.806Z"
   },
   {
    "duration": 127,
    "start_time": "2022-12-22T09:35:32.985Z"
   },
   {
    "duration": 116,
    "start_time": "2022-12-22T09:35:33.114Z"
   },
   {
    "duration": 114,
    "start_time": "2022-12-22T09:35:33.232Z"
   },
   {
    "duration": 122,
    "start_time": "2022-12-22T09:35:33.348Z"
   },
   {
    "duration": 213,
    "start_time": "2022-12-22T09:35:33.473Z"
   },
   {
    "duration": 133,
    "start_time": "2022-12-22T09:35:33.688Z"
   },
   {
    "duration": 43,
    "start_time": "2022-12-22T09:35:33.823Z"
   },
   {
    "duration": 59,
    "start_time": "2022-12-22T09:35:33.868Z"
   },
   {
    "duration": 11,
    "start_time": "2022-12-22T09:35:33.929Z"
   },
   {
    "duration": 11,
    "start_time": "2022-12-22T09:35:33.942Z"
   },
   {
    "duration": 371,
    "start_time": "2022-12-22T09:35:33.954Z"
   },
   {
    "duration": 357,
    "start_time": "2022-12-22T09:35:34.327Z"
   },
   {
    "duration": 375,
    "start_time": "2022-12-22T09:35:34.686Z"
   },
   {
    "duration": 11,
    "start_time": "2022-12-22T09:35:35.063Z"
   },
   {
    "duration": 8,
    "start_time": "2022-12-22T09:35:35.075Z"
   },
   {
    "duration": 13,
    "start_time": "2022-12-22T09:35:35.085Z"
   },
   {
    "duration": 4,
    "start_time": "2022-12-22T09:35:35.100Z"
   },
   {
    "duration": 172,
    "start_time": "2022-12-22T09:36:45.827Z"
   },
   {
    "duration": 166,
    "start_time": "2022-12-22T09:36:58.831Z"
   },
   {
    "duration": 262,
    "start_time": "2022-12-22T09:37:03.512Z"
   },
   {
    "duration": 145,
    "start_time": "2022-12-22T09:37:08.393Z"
   },
   {
    "duration": 162,
    "start_time": "2022-12-22T09:37:11.471Z"
   },
   {
    "duration": 1098,
    "start_time": "2022-12-22T09:42:48.622Z"
   },
   {
    "duration": 64,
    "start_time": "2022-12-22T09:42:49.722Z"
   },
   {
    "duration": 14,
    "start_time": "2022-12-22T09:42:49.788Z"
   },
   {
    "duration": 6,
    "start_time": "2022-12-22T09:42:49.804Z"
   },
   {
    "duration": 13,
    "start_time": "2022-12-22T09:42:49.812Z"
   },
   {
    "duration": 23,
    "start_time": "2022-12-22T09:42:49.826Z"
   },
   {
    "duration": 8,
    "start_time": "2022-12-22T09:42:49.851Z"
   },
   {
    "duration": 10,
    "start_time": "2022-12-22T09:42:49.861Z"
   },
   {
    "duration": 26,
    "start_time": "2022-12-22T09:42:49.873Z"
   },
   {
    "duration": 16,
    "start_time": "2022-12-22T09:42:49.900Z"
   },
   {
    "duration": 9,
    "start_time": "2022-12-22T09:42:49.918Z"
   },
   {
    "duration": 13,
    "start_time": "2022-12-22T09:42:49.929Z"
   },
   {
    "duration": 17,
    "start_time": "2022-12-22T09:42:49.944Z"
   },
   {
    "duration": 31,
    "start_time": "2022-12-22T09:42:49.963Z"
   },
   {
    "duration": 9,
    "start_time": "2022-12-22T09:42:49.995Z"
   },
   {
    "duration": 15,
    "start_time": "2022-12-22T09:42:50.005Z"
   },
   {
    "duration": 13,
    "start_time": "2022-12-22T09:42:50.022Z"
   },
   {
    "duration": 86,
    "start_time": "2022-12-22T09:42:50.036Z"
   },
   {
    "duration": 6,
    "start_time": "2022-12-22T09:42:50.123Z"
   },
   {
    "duration": 224,
    "start_time": "2022-12-22T09:42:50.130Z"
   },
   {
    "duration": 12,
    "start_time": "2022-12-22T09:42:50.355Z"
   },
   {
    "duration": 270,
    "start_time": "2022-12-22T09:42:50.369Z"
   },
   {
    "duration": 21,
    "start_time": "2022-12-22T09:42:50.641Z"
   },
   {
    "duration": 178,
    "start_time": "2022-12-22T09:42:50.664Z"
   },
   {
    "duration": 172,
    "start_time": "2022-12-22T09:42:50.844Z"
   },
   {
    "duration": 156,
    "start_time": "2022-12-22T09:42:51.018Z"
   },
   {
    "duration": 164,
    "start_time": "2022-12-22T09:42:51.176Z"
   },
   {
    "duration": 257,
    "start_time": "2022-12-22T09:42:51.341Z"
   },
   {
    "duration": 180,
    "start_time": "2022-12-22T09:42:51.599Z"
   },
   {
    "duration": 180,
    "start_time": "2022-12-22T09:42:51.781Z"
   },
   {
    "duration": 182,
    "start_time": "2022-12-22T09:42:51.963Z"
   },
   {
    "duration": 202,
    "start_time": "2022-12-22T09:42:52.147Z"
   },
   {
    "duration": 165,
    "start_time": "2022-12-22T09:42:52.350Z"
   },
   {
    "duration": 172,
    "start_time": "2022-12-22T09:42:52.520Z"
   },
   {
    "duration": 133,
    "start_time": "2022-12-22T09:42:52.693Z"
   },
   {
    "duration": 136,
    "start_time": "2022-12-22T09:42:52.828Z"
   },
   {
    "duration": 121,
    "start_time": "2022-12-22T09:42:52.965Z"
   },
   {
    "duration": 118,
    "start_time": "2022-12-22T09:42:53.088Z"
   },
   {
    "duration": 214,
    "start_time": "2022-12-22T09:42:53.207Z"
   },
   {
    "duration": 132,
    "start_time": "2022-12-22T09:42:53.423Z"
   },
   {
    "duration": 45,
    "start_time": "2022-12-22T09:42:53.559Z"
   },
   {
    "duration": 61,
    "start_time": "2022-12-22T09:42:53.606Z"
   },
   {
    "duration": 11,
    "start_time": "2022-12-22T09:42:53.668Z"
   },
   {
    "duration": 118,
    "start_time": "2022-12-22T09:42:53.680Z"
   },
   {
    "duration": 0,
    "start_time": "2022-12-22T09:42:53.799Z"
   },
   {
    "duration": 0,
    "start_time": "2022-12-22T09:42:53.800Z"
   },
   {
    "duration": 0,
    "start_time": "2022-12-22T09:42:53.801Z"
   },
   {
    "duration": 0,
    "start_time": "2022-12-22T09:42:53.802Z"
   },
   {
    "duration": 0,
    "start_time": "2022-12-22T09:42:53.803Z"
   },
   {
    "duration": 0,
    "start_time": "2022-12-22T09:42:53.804Z"
   },
   {
    "duration": 0,
    "start_time": "2022-12-22T09:42:53.805Z"
   },
   {
    "duration": 9,
    "start_time": "2022-12-22T09:43:03.456Z"
   },
   {
    "duration": 380,
    "start_time": "2022-12-22T09:43:19.476Z"
   },
   {
    "duration": 143,
    "start_time": "2022-12-22T09:46:18.651Z"
   },
   {
    "duration": 144,
    "start_time": "2022-12-22T09:46:28.725Z"
   },
   {
    "duration": 204,
    "start_time": "2022-12-22T09:46:35.160Z"
   },
   {
    "duration": 203,
    "start_time": "2022-12-22T09:46:45.509Z"
   },
   {
    "duration": 11,
    "start_time": "2022-12-22T09:52:59.710Z"
   },
   {
    "duration": 10,
    "start_time": "2022-12-22T10:17:43.296Z"
   },
   {
    "duration": 6,
    "start_time": "2022-12-22T10:17:59.396Z"
   },
   {
    "duration": 24,
    "start_time": "2022-12-22T10:18:07.104Z"
   },
   {
    "duration": 1137,
    "start_time": "2022-12-22T10:18:22.717Z"
   },
   {
    "duration": 65,
    "start_time": "2022-12-22T10:18:23.856Z"
   },
   {
    "duration": 15,
    "start_time": "2022-12-22T10:18:23.923Z"
   },
   {
    "duration": 6,
    "start_time": "2022-12-22T10:18:23.941Z"
   },
   {
    "duration": 7,
    "start_time": "2022-12-22T10:18:23.948Z"
   },
   {
    "duration": 15,
    "start_time": "2022-12-22T10:18:23.957Z"
   },
   {
    "duration": 9,
    "start_time": "2022-12-22T10:18:23.974Z"
   },
   {
    "duration": 10,
    "start_time": "2022-12-22T10:18:23.984Z"
   },
   {
    "duration": 48,
    "start_time": "2022-12-22T10:18:23.995Z"
   },
   {
    "duration": 11,
    "start_time": "2022-12-22T10:18:24.047Z"
   },
   {
    "duration": 8,
    "start_time": "2022-12-22T10:18:24.059Z"
   },
   {
    "duration": 9,
    "start_time": "2022-12-22T10:18:24.069Z"
   },
   {
    "duration": 7,
    "start_time": "2022-12-22T10:18:24.079Z"
   },
   {
    "duration": 46,
    "start_time": "2022-12-22T10:18:24.088Z"
   },
   {
    "duration": 16,
    "start_time": "2022-12-22T10:18:24.136Z"
   },
   {
    "duration": 19,
    "start_time": "2022-12-22T10:18:24.153Z"
   },
   {
    "duration": 14,
    "start_time": "2022-12-22T10:18:24.173Z"
   },
   {
    "duration": 97,
    "start_time": "2022-12-22T10:18:24.189Z"
   },
   {
    "duration": 8,
    "start_time": "2022-12-22T10:18:24.287Z"
   },
   {
    "duration": 243,
    "start_time": "2022-12-22T10:18:24.297Z"
   },
   {
    "duration": 16,
    "start_time": "2022-12-22T10:18:24.542Z"
   },
   {
    "duration": 294,
    "start_time": "2022-12-22T10:18:24.560Z"
   },
   {
    "duration": 21,
    "start_time": "2022-12-22T10:18:24.856Z"
   },
   {
    "duration": 175,
    "start_time": "2022-12-22T10:18:24.879Z"
   },
   {
    "duration": 205,
    "start_time": "2022-12-22T10:18:25.056Z"
   },
   {
    "duration": 204,
    "start_time": "2022-12-22T10:18:25.263Z"
   },
   {
    "duration": 205,
    "start_time": "2022-12-22T10:18:25.469Z"
   },
   {
    "duration": 261,
    "start_time": "2022-12-22T10:18:25.677Z"
   },
   {
    "duration": 189,
    "start_time": "2022-12-22T10:18:25.940Z"
   },
   {
    "duration": 202,
    "start_time": "2022-12-22T10:18:26.131Z"
   },
   {
    "duration": 186,
    "start_time": "2022-12-22T10:18:26.335Z"
   },
   {
    "duration": 190,
    "start_time": "2022-12-22T10:18:26.523Z"
   },
   {
    "duration": 174,
    "start_time": "2022-12-22T10:18:26.715Z"
   },
   {
    "duration": 174,
    "start_time": "2022-12-22T10:18:26.890Z"
   },
   {
    "duration": 23,
    "start_time": "2022-12-22T10:18:27.065Z"
   },
   {
    "duration": 139,
    "start_time": "2022-12-22T10:18:27.090Z"
   },
   {
    "duration": 110,
    "start_time": "2022-12-22T10:18:27.231Z"
   },
   {
    "duration": 0,
    "start_time": "2022-12-22T10:18:27.343Z"
   },
   {
    "duration": 0,
    "start_time": "2022-12-22T10:18:27.344Z"
   },
   {
    "duration": 0,
    "start_time": "2022-12-22T10:18:27.345Z"
   },
   {
    "duration": 0,
    "start_time": "2022-12-22T10:18:27.346Z"
   },
   {
    "duration": 0,
    "start_time": "2022-12-22T10:18:27.347Z"
   },
   {
    "duration": 0,
    "start_time": "2022-12-22T10:18:27.348Z"
   },
   {
    "duration": 0,
    "start_time": "2022-12-22T10:18:27.349Z"
   },
   {
    "duration": 0,
    "start_time": "2022-12-22T10:18:27.350Z"
   },
   {
    "duration": 0,
    "start_time": "2022-12-22T10:18:27.351Z"
   },
   {
    "duration": 0,
    "start_time": "2022-12-22T10:18:27.353Z"
   },
   {
    "duration": 0,
    "start_time": "2022-12-22T10:18:27.353Z"
   },
   {
    "duration": 0,
    "start_time": "2022-12-22T10:18:27.355Z"
   },
   {
    "duration": 0,
    "start_time": "2022-12-22T10:18:27.356Z"
   },
   {
    "duration": 0,
    "start_time": "2022-12-22T10:18:27.358Z"
   },
   {
    "duration": 0,
    "start_time": "2022-12-22T10:18:27.359Z"
   },
   {
    "duration": 52,
    "start_time": "2022-12-22T10:19:39.972Z"
   },
   {
    "duration": 31,
    "start_time": "2022-12-22T10:19:50.310Z"
   },
   {
    "duration": 23,
    "start_time": "2022-12-22T10:22:38.228Z"
   },
   {
    "duration": 25,
    "start_time": "2022-12-22T10:23:00.534Z"
   },
   {
    "duration": 296,
    "start_time": "2022-12-22T10:26:38.403Z"
   },
   {
    "duration": 369,
    "start_time": "2022-12-22T10:28:15.592Z"
   },
   {
    "duration": 43,
    "start_time": "2022-12-22T10:29:37.237Z"
   },
   {
    "duration": 10,
    "start_time": "2022-12-22T10:29:50.208Z"
   },
   {
    "duration": 25,
    "start_time": "2022-12-22T10:38:57.726Z"
   },
   {
    "duration": 73,
    "start_time": "2022-12-22T10:38:57.752Z"
   },
   {
    "duration": 13,
    "start_time": "2022-12-22T10:38:57.827Z"
   },
   {
    "duration": 12,
    "start_time": "2022-12-22T10:38:57.841Z"
   },
   {
    "duration": 10,
    "start_time": "2022-12-22T10:38:57.854Z"
   },
   {
    "duration": 15,
    "start_time": "2022-12-22T10:38:57.866Z"
   },
   {
    "duration": 11,
    "start_time": "2022-12-22T10:38:57.882Z"
   },
   {
    "duration": 10,
    "start_time": "2022-12-22T10:38:57.894Z"
   },
   {
    "duration": 26,
    "start_time": "2022-12-22T10:38:57.905Z"
   },
   {
    "duration": 10,
    "start_time": "2022-12-22T10:38:57.932Z"
   },
   {
    "duration": 12,
    "start_time": "2022-12-22T10:38:57.944Z"
   },
   {
    "duration": 21,
    "start_time": "2022-12-22T10:38:57.958Z"
   },
   {
    "duration": 23,
    "start_time": "2022-12-22T10:38:57.980Z"
   },
   {
    "duration": 31,
    "start_time": "2022-12-22T10:38:58.004Z"
   },
   {
    "duration": 18,
    "start_time": "2022-12-22T10:38:58.037Z"
   },
   {
    "duration": 16,
    "start_time": "2022-12-22T10:38:58.056Z"
   },
   {
    "duration": 13,
    "start_time": "2022-12-22T10:38:58.073Z"
   },
   {
    "duration": 82,
    "start_time": "2022-12-22T10:38:58.088Z"
   },
   {
    "duration": 6,
    "start_time": "2022-12-22T10:38:58.172Z"
   },
   {
    "duration": 219,
    "start_time": "2022-12-22T10:38:58.179Z"
   },
   {
    "duration": 11,
    "start_time": "2022-12-22T10:38:58.400Z"
   },
   {
    "duration": 355,
    "start_time": "2022-12-22T10:38:58.420Z"
   },
   {
    "duration": 21,
    "start_time": "2022-12-22T10:38:58.777Z"
   },
   {
    "duration": 175,
    "start_time": "2022-12-22T10:38:58.800Z"
   },
   {
    "duration": 168,
    "start_time": "2022-12-22T10:38:58.977Z"
   },
   {
    "duration": 151,
    "start_time": "2022-12-22T10:38:59.147Z"
   },
   {
    "duration": 167,
    "start_time": "2022-12-22T10:38:59.299Z"
   },
   {
    "duration": 177,
    "start_time": "2022-12-22T10:38:59.468Z"
   },
   {
    "duration": 187,
    "start_time": "2022-12-22T10:38:59.647Z"
   },
   {
    "duration": 188,
    "start_time": "2022-12-22T10:38:59.835Z"
   },
   {
    "duration": 193,
    "start_time": "2022-12-22T10:39:00.029Z"
   },
   {
    "duration": 182,
    "start_time": "2022-12-22T10:39:00.224Z"
   },
   {
    "duration": 298,
    "start_time": "2022-12-22T10:39:00.408Z"
   },
   {
    "duration": 188,
    "start_time": "2022-12-22T10:39:00.707Z"
   },
   {
    "duration": 30,
    "start_time": "2022-12-22T10:39:00.897Z"
   },
   {
    "duration": 271,
    "start_time": "2022-12-22T10:39:00.929Z"
   },
   {
    "duration": 125,
    "start_time": "2022-12-22T10:39:01.202Z"
   },
   {
    "duration": 121,
    "start_time": "2022-12-22T10:39:01.330Z"
   },
   {
    "duration": 148,
    "start_time": "2022-12-22T10:39:01.453Z"
   },
   {
    "duration": 140,
    "start_time": "2022-12-22T10:39:01.603Z"
   },
   {
    "duration": 43,
    "start_time": "2022-12-22T10:39:01.745Z"
   },
   {
    "duration": 32,
    "start_time": "2022-12-22T10:39:01.790Z"
   },
   {
    "duration": 13,
    "start_time": "2022-12-22T10:39:01.824Z"
   },
   {
    "duration": 28,
    "start_time": "2022-12-22T10:39:01.839Z"
   },
   {
    "duration": 368,
    "start_time": "2022-12-22T10:39:01.869Z"
   },
   {
    "duration": 367,
    "start_time": "2022-12-22T10:39:02.239Z"
   },
   {
    "duration": 515,
    "start_time": "2022-12-22T10:39:02.608Z"
   },
   {
    "duration": 10,
    "start_time": "2022-12-22T10:39:03.124Z"
   },
   {
    "duration": 25,
    "start_time": "2022-12-22T10:39:03.135Z"
   },
   {
    "duration": 16,
    "start_time": "2022-12-22T10:39:03.162Z"
   },
   {
    "duration": 5,
    "start_time": "2022-12-22T10:39:03.180Z"
   },
   {
    "duration": 240,
    "start_time": "2022-12-22T10:41:03.423Z"
   },
   {
    "duration": 231,
    "start_time": "2022-12-22T10:41:34.942Z"
   },
   {
    "duration": 53,
    "start_time": "2022-12-22T15:30:12.839Z"
   },
   {
    "duration": 1408,
    "start_time": "2022-12-22T15:30:30.384Z"
   },
   {
    "duration": 207,
    "start_time": "2022-12-22T15:30:31.795Z"
   },
   {
    "duration": 18,
    "start_time": "2022-12-22T15:30:32.004Z"
   },
   {
    "duration": 16,
    "start_time": "2022-12-22T15:30:32.025Z"
   },
   {
    "duration": 10,
    "start_time": "2022-12-22T15:30:32.044Z"
   },
   {
    "duration": 26,
    "start_time": "2022-12-22T15:30:32.056Z"
   },
   {
    "duration": 38,
    "start_time": "2022-12-22T15:30:32.084Z"
   },
   {
    "duration": 30,
    "start_time": "2022-12-22T15:30:32.124Z"
   },
   {
    "duration": 47,
    "start_time": "2022-12-22T15:30:32.156Z"
   },
   {
    "duration": 19,
    "start_time": "2022-12-22T15:30:32.206Z"
   },
   {
    "duration": 8,
    "start_time": "2022-12-22T15:30:32.227Z"
   },
   {
    "duration": 14,
    "start_time": "2022-12-22T15:30:32.237Z"
   },
   {
    "duration": 18,
    "start_time": "2022-12-22T15:30:32.253Z"
   },
   {
    "duration": 27,
    "start_time": "2022-12-22T15:30:32.273Z"
   },
   {
    "duration": 17,
    "start_time": "2022-12-22T15:30:32.302Z"
   },
   {
    "duration": 25,
    "start_time": "2022-12-22T15:30:32.321Z"
   },
   {
    "duration": 15,
    "start_time": "2022-12-22T15:30:32.348Z"
   },
   {
    "duration": 98,
    "start_time": "2022-12-22T15:30:32.365Z"
   },
   {
    "duration": 12,
    "start_time": "2022-12-22T15:30:32.465Z"
   },
   {
    "duration": 301,
    "start_time": "2022-12-22T15:30:32.479Z"
   },
   {
    "duration": 13,
    "start_time": "2022-12-22T15:30:32.782Z"
   },
   {
    "duration": 287,
    "start_time": "2022-12-22T15:30:32.797Z"
   },
   {
    "duration": 25,
    "start_time": "2022-12-22T15:30:33.085Z"
   },
   {
    "duration": 199,
    "start_time": "2022-12-22T15:30:33.111Z"
   },
   {
    "duration": 192,
    "start_time": "2022-12-22T15:30:33.311Z"
   },
   {
    "duration": 173,
    "start_time": "2022-12-22T15:30:33.505Z"
   },
   {
    "duration": 188,
    "start_time": "2022-12-22T15:30:33.680Z"
   },
   {
    "duration": 290,
    "start_time": "2022-12-22T15:30:33.872Z"
   },
   {
    "duration": 218,
    "start_time": "2022-12-22T15:30:34.163Z"
   },
   {
    "duration": 223,
    "start_time": "2022-12-22T15:30:34.383Z"
   },
   {
    "duration": 214,
    "start_time": "2022-12-22T15:30:34.608Z"
   },
   {
    "duration": 216,
    "start_time": "2022-12-22T15:30:34.824Z"
   },
   {
    "duration": 201,
    "start_time": "2022-12-22T15:30:35.042Z"
   },
   {
    "duration": 202,
    "start_time": "2022-12-22T15:30:35.246Z"
   },
   {
    "duration": 27,
    "start_time": "2022-12-22T15:30:35.451Z"
   },
   {
    "duration": 332,
    "start_time": "2022-12-22T15:30:35.480Z"
   },
   {
    "duration": 272,
    "start_time": "2022-12-22T15:30:35.814Z"
   },
   {
    "duration": 254,
    "start_time": "2022-12-22T15:30:36.088Z"
   },
   {
    "duration": 184,
    "start_time": "2022-12-22T15:30:36.344Z"
   },
   {
    "duration": 63,
    "start_time": "2022-12-22T15:30:36.530Z"
   },
   {
    "duration": 85,
    "start_time": "2022-12-22T15:30:36.596Z"
   },
   {
    "duration": 14,
    "start_time": "2022-12-22T15:30:36.683Z"
   },
   {
    "duration": 19,
    "start_time": "2022-12-22T15:30:36.700Z"
   },
   {
    "duration": 449,
    "start_time": "2022-12-22T15:30:36.721Z"
   },
   {
    "duration": 411,
    "start_time": "2022-12-22T15:30:37.172Z"
   },
   {
    "duration": 444,
    "start_time": "2022-12-22T15:30:37.585Z"
   },
   {
    "duration": 22,
    "start_time": "2022-12-22T15:30:38.031Z"
   },
   {
    "duration": 4,
    "start_time": "2022-12-22T15:30:38.055Z"
   },
   {
    "duration": 11,
    "start_time": "2022-12-22T15:30:38.061Z"
   },
   {
    "duration": 4,
    "start_time": "2022-12-22T15:30:38.074Z"
   },
   {
    "duration": 308,
    "start_time": "2022-12-22T15:31:04.413Z"
   },
   {
    "duration": 390,
    "start_time": "2022-12-22T15:31:11.029Z"
   },
   {
    "duration": 300,
    "start_time": "2022-12-22T15:31:57.718Z"
   },
   {
    "duration": 296,
    "start_time": "2022-12-22T15:32:07.068Z"
   },
   {
    "duration": 127,
    "start_time": "2022-12-22T16:00:33.992Z"
   },
   {
    "duration": 1304,
    "start_time": "2022-12-22T16:00:59.067Z"
   },
   {
    "duration": 77,
    "start_time": "2022-12-22T16:01:00.373Z"
   },
   {
    "duration": 18,
    "start_time": "2022-12-22T16:01:00.451Z"
   },
   {
    "duration": 31,
    "start_time": "2022-12-22T16:01:00.471Z"
   },
   {
    "duration": 35,
    "start_time": "2022-12-22T16:01:00.504Z"
   },
   {
    "duration": 32,
    "start_time": "2022-12-22T16:01:00.541Z"
   },
   {
    "duration": 26,
    "start_time": "2022-12-22T16:01:00.576Z"
   },
   {
    "duration": 18,
    "start_time": "2022-12-22T16:01:00.605Z"
   },
   {
    "duration": 42,
    "start_time": "2022-12-22T16:01:00.625Z"
   },
   {
    "duration": 16,
    "start_time": "2022-12-22T16:01:00.670Z"
   },
   {
    "duration": 19,
    "start_time": "2022-12-22T16:01:00.688Z"
   },
   {
    "duration": 22,
    "start_time": "2022-12-22T16:01:00.710Z"
   },
   {
    "duration": 23,
    "start_time": "2022-12-22T16:01:00.734Z"
   },
   {
    "duration": 41,
    "start_time": "2022-12-22T16:01:00.759Z"
   },
   {
    "duration": 14,
    "start_time": "2022-12-22T16:01:00.802Z"
   },
   {
    "duration": 48,
    "start_time": "2022-12-22T16:01:00.818Z"
   },
   {
    "duration": 23,
    "start_time": "2022-12-22T16:01:00.868Z"
   },
   {
    "duration": 124,
    "start_time": "2022-12-22T16:01:00.893Z"
   },
   {
    "duration": 10,
    "start_time": "2022-12-22T16:01:01.019Z"
   },
   {
    "duration": 271,
    "start_time": "2022-12-22T16:01:01.051Z"
   },
   {
    "duration": 27,
    "start_time": "2022-12-22T16:01:01.324Z"
   },
   {
    "duration": 288,
    "start_time": "2022-12-22T16:01:01.353Z"
   },
   {
    "duration": 44,
    "start_time": "2022-12-22T16:01:01.644Z"
   },
   {
    "duration": 233,
    "start_time": "2022-12-22T16:01:01.690Z"
   },
   {
    "duration": 198,
    "start_time": "2022-12-22T16:01:01.925Z"
   },
   {
    "duration": 196,
    "start_time": "2022-12-22T16:01:02.125Z"
   },
   {
    "duration": 214,
    "start_time": "2022-12-22T16:01:02.323Z"
   },
   {
    "duration": 292,
    "start_time": "2022-12-22T16:01:02.545Z"
   },
   {
    "duration": 211,
    "start_time": "2022-12-22T16:01:02.839Z"
   },
   {
    "duration": 222,
    "start_time": "2022-12-22T16:01:03.053Z"
   },
   {
    "duration": 217,
    "start_time": "2022-12-22T16:01:03.277Z"
   },
   {
    "duration": 212,
    "start_time": "2022-12-22T16:01:03.496Z"
   },
   {
    "duration": 242,
    "start_time": "2022-12-22T16:01:03.711Z"
   },
   {
    "duration": 70,
    "start_time": "2022-12-22T16:01:03.954Z"
   },
   {
    "duration": 0,
    "start_time": "2022-12-22T16:01:04.027Z"
   },
   {
    "duration": 0,
    "start_time": "2022-12-22T16:01:04.029Z"
   },
   {
    "duration": 0,
    "start_time": "2022-12-22T16:01:04.031Z"
   },
   {
    "duration": 0,
    "start_time": "2022-12-22T16:01:04.032Z"
   },
   {
    "duration": 0,
    "start_time": "2022-12-22T16:01:04.034Z"
   },
   {
    "duration": 0,
    "start_time": "2022-12-22T16:01:04.036Z"
   },
   {
    "duration": 0,
    "start_time": "2022-12-22T16:01:04.037Z"
   },
   {
    "duration": 1,
    "start_time": "2022-12-22T16:01:04.039Z"
   },
   {
    "duration": 0,
    "start_time": "2022-12-22T16:01:04.041Z"
   },
   {
    "duration": 0,
    "start_time": "2022-12-22T16:01:04.043Z"
   },
   {
    "duration": 0,
    "start_time": "2022-12-22T16:01:04.044Z"
   },
   {
    "duration": 0,
    "start_time": "2022-12-22T16:01:04.046Z"
   },
   {
    "duration": 0,
    "start_time": "2022-12-22T16:01:04.047Z"
   },
   {
    "duration": 0,
    "start_time": "2022-12-22T16:01:04.049Z"
   },
   {
    "duration": 0,
    "start_time": "2022-12-22T16:01:04.050Z"
   },
   {
    "duration": 0,
    "start_time": "2022-12-22T16:01:04.052Z"
   },
   {
    "duration": 0,
    "start_time": "2022-12-22T16:01:04.054Z"
   },
   {
    "duration": 256,
    "start_time": "2022-12-22T16:01:19.653Z"
   },
   {
    "duration": 207,
    "start_time": "2022-12-22T16:01:23.758Z"
   },
   {
    "duration": 113,
    "start_time": "2022-12-22T16:01:45.257Z"
   },
   {
    "duration": 9,
    "start_time": "2022-12-22T16:01:48.268Z"
   },
   {
    "duration": 2103,
    "start_time": "2022-12-22T16:02:20.829Z"
   },
   {
    "duration": 86,
    "start_time": "2022-12-22T16:02:22.935Z"
   },
   {
    "duration": 18,
    "start_time": "2022-12-22T16:02:23.023Z"
   },
   {
    "duration": 8,
    "start_time": "2022-12-22T16:02:23.042Z"
   },
   {
    "duration": 41,
    "start_time": "2022-12-22T16:02:23.053Z"
   },
   {
    "duration": 15,
    "start_time": "2022-12-22T16:02:23.096Z"
   },
   {
    "duration": 10,
    "start_time": "2022-12-22T16:02:23.113Z"
   },
   {
    "duration": 10,
    "start_time": "2022-12-22T16:02:23.125Z"
   },
   {
    "duration": 29,
    "start_time": "2022-12-22T16:02:23.137Z"
   },
   {
    "duration": 15,
    "start_time": "2022-12-22T16:02:23.168Z"
   },
   {
    "duration": 10,
    "start_time": "2022-12-22T16:02:23.185Z"
   },
   {
    "duration": 12,
    "start_time": "2022-12-22T16:02:23.197Z"
   },
   {
    "duration": 46,
    "start_time": "2022-12-22T16:02:23.211Z"
   },
   {
    "duration": 39,
    "start_time": "2022-12-22T16:02:23.262Z"
   },
   {
    "duration": 13,
    "start_time": "2022-12-22T16:02:23.304Z"
   },
   {
    "duration": 42,
    "start_time": "2022-12-22T16:02:23.320Z"
   },
   {
    "duration": 25,
    "start_time": "2022-12-22T16:02:23.366Z"
   },
   {
    "duration": 131,
    "start_time": "2022-12-22T16:02:23.394Z"
   },
   {
    "duration": 9,
    "start_time": "2022-12-22T16:02:23.527Z"
   },
   {
    "duration": 290,
    "start_time": "2022-12-22T16:02:23.551Z"
   },
   {
    "duration": 21,
    "start_time": "2022-12-22T16:02:23.843Z"
   },
   {
    "duration": 359,
    "start_time": "2022-12-22T16:02:23.866Z"
   },
   {
    "duration": 40,
    "start_time": "2022-12-22T16:02:24.227Z"
   },
   {
    "duration": 230,
    "start_time": "2022-12-22T16:02:24.269Z"
   },
   {
    "duration": 212,
    "start_time": "2022-12-22T16:02:24.500Z"
   },
   {
    "duration": 176,
    "start_time": "2022-12-22T16:02:24.714Z"
   },
   {
    "duration": 233,
    "start_time": "2022-12-22T16:02:24.893Z"
   },
   {
    "duration": 386,
    "start_time": "2022-12-22T16:02:25.128Z"
   },
   {
    "duration": 284,
    "start_time": "2022-12-22T16:02:25.516Z"
   },
   {
    "duration": 297,
    "start_time": "2022-12-22T16:02:25.802Z"
   },
   {
    "duration": 272,
    "start_time": "2022-12-22T16:02:26.101Z"
   },
   {
    "duration": 237,
    "start_time": "2022-12-22T16:02:26.376Z"
   },
   {
    "duration": 245,
    "start_time": "2022-12-22T16:02:26.615Z"
   },
   {
    "duration": 229,
    "start_time": "2022-12-22T16:02:26.862Z"
   },
   {
    "duration": 224,
    "start_time": "2022-12-22T16:02:27.093Z"
   },
   {
    "duration": 34,
    "start_time": "2022-12-22T16:02:27.319Z"
   },
   {
    "duration": 365,
    "start_time": "2022-12-22T16:02:27.355Z"
   },
   {
    "duration": 429,
    "start_time": "2022-12-22T16:02:27.723Z"
   },
   {
    "duration": 194,
    "start_time": "2022-12-22T16:02:28.154Z"
   },
   {
    "duration": 166,
    "start_time": "2022-12-22T16:02:28.349Z"
   },
   {
    "duration": 54,
    "start_time": "2022-12-22T16:02:28.519Z"
   },
   {
    "duration": 61,
    "start_time": "2022-12-22T16:02:28.576Z"
   },
   {
    "duration": 21,
    "start_time": "2022-12-22T16:02:28.639Z"
   },
   {
    "duration": 61,
    "start_time": "2022-12-22T16:02:28.662Z"
   },
   {
    "duration": 456,
    "start_time": "2022-12-22T16:02:28.725Z"
   },
   {
    "duration": 441,
    "start_time": "2022-12-22T16:02:29.184Z"
   },
   {
    "duration": 567,
    "start_time": "2022-12-22T16:02:29.627Z"
   },
   {
    "duration": 12,
    "start_time": "2022-12-22T16:02:30.199Z"
   },
   {
    "duration": 52,
    "start_time": "2022-12-22T16:02:30.213Z"
   },
   {
    "duration": 34,
    "start_time": "2022-12-22T16:02:30.268Z"
   },
   {
    "duration": 30,
    "start_time": "2022-12-22T16:02:30.304Z"
   },
   {
    "duration": 32,
    "start_time": "2022-12-22T16:04:41.164Z"
   },
   {
    "duration": 250,
    "start_time": "2022-12-22T16:05:25.534Z"
   },
   {
    "duration": 368,
    "start_time": "2022-12-22T16:08:18.729Z"
   },
   {
    "duration": 154,
    "start_time": "2022-12-22T16:09:27.555Z"
   },
   {
    "duration": 155,
    "start_time": "2022-12-22T16:09:41.249Z"
   },
   {
    "duration": 163,
    "start_time": "2022-12-22T16:10:25.605Z"
   },
   {
    "duration": 15,
    "start_time": "2022-12-22T16:10:52.463Z"
   },
   {
    "duration": 82,
    "start_time": "2022-12-22T16:14:18.430Z"
   },
   {
    "duration": 161,
    "start_time": "2022-12-22T16:16:18.647Z"
   },
   {
    "duration": 175,
    "start_time": "2022-12-22T16:16:58.076Z"
   },
   {
    "duration": 125,
    "start_time": "2022-12-22T16:17:57.890Z"
   },
   {
    "duration": 130,
    "start_time": "2022-12-22T16:18:32.815Z"
   },
   {
    "duration": 143,
    "start_time": "2022-12-22T16:19:52.525Z"
   },
   {
    "duration": 187,
    "start_time": "2022-12-22T16:20:19.120Z"
   },
   {
    "duration": 150,
    "start_time": "2022-12-22T16:21:11.944Z"
   },
   {
    "duration": 152,
    "start_time": "2022-12-22T16:21:30.525Z"
   },
   {
    "duration": 11,
    "start_time": "2022-12-22T16:24:15.352Z"
   },
   {
    "duration": 15,
    "start_time": "2022-12-22T16:24:36.601Z"
   },
   {
    "duration": 444,
    "start_time": "2022-12-22T16:25:48.776Z"
   },
   {
    "duration": 95,
    "start_time": "2022-12-22T16:27:30.231Z"
   },
   {
    "duration": 119,
    "start_time": "2022-12-22T16:28:19.210Z"
   },
   {
    "duration": 1243,
    "start_time": "2022-12-22T16:29:05.040Z"
   },
   {
    "duration": 76,
    "start_time": "2022-12-22T16:29:06.286Z"
   },
   {
    "duration": 19,
    "start_time": "2022-12-22T16:29:06.363Z"
   },
   {
    "duration": 7,
    "start_time": "2022-12-22T16:29:06.384Z"
   },
   {
    "duration": 11,
    "start_time": "2022-12-22T16:29:06.393Z"
   },
   {
    "duration": 14,
    "start_time": "2022-12-22T16:29:06.407Z"
   },
   {
    "duration": 16,
    "start_time": "2022-12-22T16:29:06.451Z"
   },
   {
    "duration": 7,
    "start_time": "2022-12-22T16:29:06.469Z"
   },
   {
    "duration": 28,
    "start_time": "2022-12-22T16:29:06.477Z"
   },
   {
    "duration": 13,
    "start_time": "2022-12-22T16:29:06.508Z"
   },
   {
    "duration": 8,
    "start_time": "2022-12-22T16:29:06.553Z"
   },
   {
    "duration": 13,
    "start_time": "2022-12-22T16:29:06.563Z"
   },
   {
    "duration": 9,
    "start_time": "2022-12-22T16:29:06.579Z"
   },
   {
    "duration": 22,
    "start_time": "2022-12-22T16:29:06.590Z"
   },
   {
    "duration": 40,
    "start_time": "2022-12-22T16:29:06.614Z"
   },
   {
    "duration": 21,
    "start_time": "2022-12-22T16:29:06.656Z"
   },
   {
    "duration": 21,
    "start_time": "2022-12-22T16:29:06.679Z"
   },
   {
    "duration": 105,
    "start_time": "2022-12-22T16:29:06.702Z"
   },
   {
    "duration": 10,
    "start_time": "2022-12-22T16:29:06.808Z"
   },
   {
    "duration": 295,
    "start_time": "2022-12-22T16:29:06.820Z"
   },
   {
    "duration": 14,
    "start_time": "2022-12-22T16:29:07.117Z"
   },
   {
    "duration": 444,
    "start_time": "2022-12-22T16:29:07.133Z"
   },
   {
    "duration": 85,
    "start_time": "2022-12-22T16:29:07.579Z"
   },
   {
    "duration": 392,
    "start_time": "2022-12-22T16:29:07.666Z"
   },
   {
    "duration": 412,
    "start_time": "2022-12-22T16:29:08.060Z"
   },
   {
    "duration": 378,
    "start_time": "2022-12-22T16:29:08.474Z"
   },
   {
    "duration": 346,
    "start_time": "2022-12-22T16:29:08.854Z"
   },
   {
    "duration": 299,
    "start_time": "2022-12-22T16:29:09.205Z"
   },
   {
    "duration": 276,
    "start_time": "2022-12-22T16:29:09.506Z"
   },
   {
    "duration": 276,
    "start_time": "2022-12-22T16:29:09.784Z"
   },
   {
    "duration": 220,
    "start_time": "2022-12-22T16:29:10.061Z"
   },
   {
    "duration": 210,
    "start_time": "2022-12-22T16:29:10.282Z"
   },
   {
    "duration": 217,
    "start_time": "2022-12-22T16:29:10.494Z"
   },
   {
    "duration": 215,
    "start_time": "2022-12-22T16:29:10.712Z"
   },
   {
    "duration": 208,
    "start_time": "2022-12-22T16:29:10.929Z"
   },
   {
    "duration": 229,
    "start_time": "2022-12-22T16:29:11.139Z"
   },
   {
    "duration": 216,
    "start_time": "2022-12-22T16:29:11.370Z"
   },
   {
    "duration": 30,
    "start_time": "2022-12-22T16:29:11.588Z"
   },
   {
    "duration": 458,
    "start_time": "2022-12-22T16:29:11.620Z"
   },
   {
    "duration": 316,
    "start_time": "2022-12-22T16:29:12.079Z"
   },
   {
    "duration": 182,
    "start_time": "2022-12-22T16:29:12.397Z"
   },
   {
    "duration": 173,
    "start_time": "2022-12-22T16:29:12.581Z"
   },
   {
    "duration": 171,
    "start_time": "2022-12-22T16:29:12.756Z"
   },
   {
    "duration": 174,
    "start_time": "2022-12-22T16:29:12.929Z"
   },
   {
    "duration": 149,
    "start_time": "2022-12-22T16:29:13.105Z"
   },
   {
    "duration": 147,
    "start_time": "2022-12-22T16:29:13.255Z"
   },
   {
    "duration": 161,
    "start_time": "2022-12-22T16:29:13.404Z"
   },
   {
    "duration": 175,
    "start_time": "2022-12-22T16:29:13.567Z"
   },
   {
    "duration": 70,
    "start_time": "2022-12-22T16:29:13.751Z"
   },
   {
    "duration": 0,
    "start_time": "2022-12-22T16:29:13.823Z"
   },
   {
    "duration": 0,
    "start_time": "2022-12-22T16:29:13.824Z"
   },
   {
    "duration": 0,
    "start_time": "2022-12-22T16:29:13.825Z"
   },
   {
    "duration": 0,
    "start_time": "2022-12-22T16:29:13.826Z"
   },
   {
    "duration": 0,
    "start_time": "2022-12-22T16:29:13.828Z"
   },
   {
    "duration": 0,
    "start_time": "2022-12-22T16:29:13.829Z"
   },
   {
    "duration": 0,
    "start_time": "2022-12-22T16:29:13.830Z"
   },
   {
    "duration": 0,
    "start_time": "2022-12-22T16:29:13.831Z"
   },
   {
    "duration": 0,
    "start_time": "2022-12-22T16:29:13.833Z"
   },
   {
    "duration": 0,
    "start_time": "2022-12-22T16:29:13.834Z"
   },
   {
    "duration": 0,
    "start_time": "2022-12-22T16:29:13.835Z"
   },
   {
    "duration": 0,
    "start_time": "2022-12-22T16:29:13.836Z"
   },
   {
    "duration": 11,
    "start_time": "2022-12-22T16:29:35.926Z"
   },
   {
    "duration": 11,
    "start_time": "2022-12-22T16:30:26.565Z"
   },
   {
    "duration": 77,
    "start_time": "2022-12-22T16:34:39.053Z"
   },
   {
    "duration": 12,
    "start_time": "2022-12-22T16:34:52.876Z"
   },
   {
    "duration": 11,
    "start_time": "2022-12-22T16:35:38.597Z"
   },
   {
    "duration": 128,
    "start_time": "2022-12-22T16:39:04.597Z"
   },
   {
    "duration": 123,
    "start_time": "2022-12-22T16:39:31.874Z"
   },
   {
    "duration": 17,
    "start_time": "2022-12-22T16:40:15.464Z"
   },
   {
    "duration": 284,
    "start_time": "2022-12-22T16:40:28.084Z"
   },
   {
    "duration": 450,
    "start_time": "2022-12-22T16:41:43.848Z"
   },
   {
    "duration": 382,
    "start_time": "2022-12-22T16:41:59.618Z"
   },
   {
    "duration": 321,
    "start_time": "2022-12-22T16:44:17.288Z"
   },
   {
    "duration": 369,
    "start_time": "2022-12-22T16:44:40.468Z"
   },
   {
    "duration": 1295,
    "start_time": "2022-12-22T16:57:58.811Z"
   },
   {
    "duration": 79,
    "start_time": "2022-12-22T16:58:00.108Z"
   },
   {
    "duration": 22,
    "start_time": "2022-12-22T16:58:00.189Z"
   },
   {
    "duration": 19,
    "start_time": "2022-12-22T16:58:00.213Z"
   },
   {
    "duration": 18,
    "start_time": "2022-12-22T16:58:00.234Z"
   },
   {
    "duration": 32,
    "start_time": "2022-12-22T16:58:00.253Z"
   },
   {
    "duration": 22,
    "start_time": "2022-12-22T16:58:00.287Z"
   },
   {
    "duration": 12,
    "start_time": "2022-12-22T16:58:00.311Z"
   },
   {
    "duration": 32,
    "start_time": "2022-12-22T16:58:00.325Z"
   },
   {
    "duration": 13,
    "start_time": "2022-12-22T16:58:00.359Z"
   },
   {
    "duration": 14,
    "start_time": "2022-12-22T16:58:00.373Z"
   },
   {
    "duration": 15,
    "start_time": "2022-12-22T16:58:00.388Z"
   },
   {
    "duration": 18,
    "start_time": "2022-12-22T16:58:00.404Z"
   },
   {
    "duration": 36,
    "start_time": "2022-12-22T16:58:00.424Z"
   },
   {
    "duration": 6,
    "start_time": "2022-12-22T16:58:00.462Z"
   },
   {
    "duration": 25,
    "start_time": "2022-12-22T16:58:00.470Z"
   },
   {
    "duration": 17,
    "start_time": "2022-12-22T16:58:00.497Z"
   },
   {
    "duration": 107,
    "start_time": "2022-12-22T16:58:00.515Z"
   },
   {
    "duration": 7,
    "start_time": "2022-12-22T16:58:00.624Z"
   },
   {
    "duration": 279,
    "start_time": "2022-12-22T16:58:00.633Z"
   },
   {
    "duration": 14,
    "start_time": "2022-12-22T16:58:00.914Z"
   },
   {
    "duration": 296,
    "start_time": "2022-12-22T16:58:00.929Z"
   },
   {
    "duration": 43,
    "start_time": "2022-12-22T16:58:01.227Z"
   },
   {
    "duration": 218,
    "start_time": "2022-12-22T16:58:01.272Z"
   },
   {
    "duration": 200,
    "start_time": "2022-12-22T16:58:01.492Z"
   },
   {
    "duration": 180,
    "start_time": "2022-12-22T16:58:01.694Z"
   },
   {
    "duration": 196,
    "start_time": "2022-12-22T16:58:01.876Z"
   },
   {
    "duration": 285,
    "start_time": "2022-12-22T16:58:02.077Z"
   },
   {
    "duration": 216,
    "start_time": "2022-12-22T16:58:02.364Z"
   },
   {
    "duration": 213,
    "start_time": "2022-12-22T16:58:02.582Z"
   },
   {
    "duration": 209,
    "start_time": "2022-12-22T16:58:02.797Z"
   },
   {
    "duration": 202,
    "start_time": "2022-12-22T16:58:03.008Z"
   },
   {
    "duration": 203,
    "start_time": "2022-12-22T16:58:03.212Z"
   },
   {
    "duration": 207,
    "start_time": "2022-12-22T16:58:03.417Z"
   },
   {
    "duration": 200,
    "start_time": "2022-12-22T16:58:03.625Z"
   },
   {
    "duration": 222,
    "start_time": "2022-12-22T16:58:03.828Z"
   },
   {
    "duration": 212,
    "start_time": "2022-12-22T16:58:04.053Z"
   },
   {
    "duration": 28,
    "start_time": "2022-12-22T16:58:04.267Z"
   },
   {
    "duration": 416,
    "start_time": "2022-12-22T16:58:04.298Z"
   },
   {
    "duration": 295,
    "start_time": "2022-12-22T16:58:04.716Z"
   },
   {
    "duration": 172,
    "start_time": "2022-12-22T16:58:05.013Z"
   },
   {
    "duration": 178,
    "start_time": "2022-12-22T16:58:05.187Z"
   },
   {
    "duration": 170,
    "start_time": "2022-12-22T16:58:05.368Z"
   },
   {
    "duration": 172,
    "start_time": "2022-12-22T16:58:05.540Z"
   },
   {
    "duration": 144,
    "start_time": "2022-12-22T16:58:05.714Z"
   },
   {
    "duration": 151,
    "start_time": "2022-12-22T16:58:05.860Z"
   },
   {
    "duration": 167,
    "start_time": "2022-12-22T16:58:06.013Z"
   },
   {
    "duration": 186,
    "start_time": "2022-12-22T16:58:06.182Z"
   },
   {
    "duration": 68,
    "start_time": "2022-12-22T16:58:06.370Z"
   },
   {
    "duration": 0,
    "start_time": "2022-12-22T16:58:06.440Z"
   },
   {
    "duration": 0,
    "start_time": "2022-12-22T16:58:06.441Z"
   },
   {
    "duration": 0,
    "start_time": "2022-12-22T16:58:06.442Z"
   },
   {
    "duration": 0,
    "start_time": "2022-12-22T16:58:06.443Z"
   },
   {
    "duration": 1,
    "start_time": "2022-12-22T16:58:06.444Z"
   },
   {
    "duration": 0,
    "start_time": "2022-12-22T16:58:06.446Z"
   },
   {
    "duration": 0,
    "start_time": "2022-12-22T16:58:06.447Z"
   },
   {
    "duration": 0,
    "start_time": "2022-12-22T16:58:06.448Z"
   },
   {
    "duration": 0,
    "start_time": "2022-12-22T16:58:06.449Z"
   },
   {
    "duration": 0,
    "start_time": "2022-12-22T16:58:06.450Z"
   },
   {
    "duration": 0,
    "start_time": "2022-12-22T16:58:06.451Z"
   },
   {
    "duration": 0,
    "start_time": "2022-12-22T16:58:06.452Z"
   },
   {
    "duration": 0,
    "start_time": "2022-12-22T16:58:06.453Z"
   },
   {
    "duration": 0,
    "start_time": "2022-12-22T16:58:06.454Z"
   },
   {
    "duration": 151,
    "start_time": "2022-12-22T16:59:16.390Z"
   },
   {
    "duration": 46,
    "start_time": "2022-12-23T04:48:11.183Z"
   },
   {
    "duration": 1335,
    "start_time": "2022-12-23T04:48:20.298Z"
   },
   {
    "duration": 109,
    "start_time": "2022-12-23T04:48:21.635Z"
   },
   {
    "duration": 16,
    "start_time": "2022-12-23T04:48:21.746Z"
   },
   {
    "duration": 7,
    "start_time": "2022-12-23T04:48:21.764Z"
   },
   {
    "duration": 5,
    "start_time": "2022-12-23T04:48:21.772Z"
   },
   {
    "duration": 11,
    "start_time": "2022-12-23T04:48:21.779Z"
   },
   {
    "duration": 24,
    "start_time": "2022-12-23T04:48:21.792Z"
   },
   {
    "duration": 5,
    "start_time": "2022-12-23T04:48:21.817Z"
   },
   {
    "duration": 26,
    "start_time": "2022-12-23T04:48:21.823Z"
   },
   {
    "duration": 11,
    "start_time": "2022-12-23T04:48:21.851Z"
   },
   {
    "duration": 7,
    "start_time": "2022-12-23T04:48:21.864Z"
   },
   {
    "duration": 9,
    "start_time": "2022-12-23T04:48:21.872Z"
   },
   {
    "duration": 8,
    "start_time": "2022-12-23T04:48:21.912Z"
   },
   {
    "duration": 29,
    "start_time": "2022-12-23T04:48:21.921Z"
   },
   {
    "duration": 6,
    "start_time": "2022-12-23T04:48:21.952Z"
   },
   {
    "duration": 18,
    "start_time": "2022-12-23T04:48:21.960Z"
   },
   {
    "duration": 36,
    "start_time": "2022-12-23T04:48:21.980Z"
   },
   {
    "duration": 73,
    "start_time": "2022-12-23T04:48:22.018Z"
   },
   {
    "duration": 20,
    "start_time": "2022-12-23T04:48:22.093Z"
   },
   {
    "duration": 259,
    "start_time": "2022-12-23T04:48:22.115Z"
   },
   {
    "duration": 13,
    "start_time": "2022-12-23T04:48:22.376Z"
   },
   {
    "duration": 299,
    "start_time": "2022-12-23T04:48:22.390Z"
   },
   {
    "duration": 34,
    "start_time": "2022-12-23T04:48:22.691Z"
   },
   {
    "duration": 186,
    "start_time": "2022-12-23T04:48:22.727Z"
   },
   {
    "duration": 181,
    "start_time": "2022-12-23T04:48:22.915Z"
   },
   {
    "duration": 174,
    "start_time": "2022-12-23T04:48:23.098Z"
   },
   {
    "duration": 185,
    "start_time": "2022-12-23T04:48:23.274Z"
   },
   {
    "duration": 276,
    "start_time": "2022-12-23T04:48:23.463Z"
   },
   {
    "duration": 225,
    "start_time": "2022-12-23T04:48:23.741Z"
   },
   {
    "duration": 216,
    "start_time": "2022-12-23T04:48:23.968Z"
   },
   {
    "duration": 211,
    "start_time": "2022-12-23T04:48:24.192Z"
   },
   {
    "duration": 200,
    "start_time": "2022-12-23T04:48:24.404Z"
   },
   {
    "duration": 190,
    "start_time": "2022-12-23T04:48:24.606Z"
   },
   {
    "duration": 216,
    "start_time": "2022-12-23T04:48:24.798Z"
   },
   {
    "duration": 200,
    "start_time": "2022-12-23T04:48:25.016Z"
   },
   {
    "duration": 217,
    "start_time": "2022-12-23T04:48:25.218Z"
   },
   {
    "duration": 199,
    "start_time": "2022-12-23T04:48:25.438Z"
   },
   {
    "duration": 26,
    "start_time": "2022-12-23T04:48:25.638Z"
   },
   {
    "duration": 386,
    "start_time": "2022-12-23T04:48:25.666Z"
   },
   {
    "duration": 312,
    "start_time": "2022-12-23T04:48:26.053Z"
   },
   {
    "duration": 210,
    "start_time": "2022-12-23T04:48:26.367Z"
   },
   {
    "duration": 166,
    "start_time": "2022-12-23T04:48:26.578Z"
   },
   {
    "duration": 163,
    "start_time": "2022-12-23T04:48:26.746Z"
   },
   {
    "duration": 167,
    "start_time": "2022-12-23T04:48:26.912Z"
   },
   {
    "duration": 142,
    "start_time": "2022-12-23T04:48:27.081Z"
   },
   {
    "duration": 138,
    "start_time": "2022-12-23T04:48:27.225Z"
   },
   {
    "duration": 152,
    "start_time": "2022-12-23T04:48:27.366Z"
   },
   {
    "duration": 172,
    "start_time": "2022-12-23T04:48:27.520Z"
   },
   {
    "duration": 45,
    "start_time": "2022-12-23T04:48:27.694Z"
   },
   {
    "duration": 0,
    "start_time": "2022-12-23T04:48:27.741Z"
   },
   {
    "duration": 0,
    "start_time": "2022-12-23T04:48:27.743Z"
   },
   {
    "duration": 0,
    "start_time": "2022-12-23T04:48:27.744Z"
   },
   {
    "duration": 0,
    "start_time": "2022-12-23T04:48:27.746Z"
   },
   {
    "duration": 0,
    "start_time": "2022-12-23T04:48:27.748Z"
   },
   {
    "duration": 0,
    "start_time": "2022-12-23T04:48:27.749Z"
   },
   {
    "duration": 0,
    "start_time": "2022-12-23T04:48:27.751Z"
   },
   {
    "duration": 0,
    "start_time": "2022-12-23T04:48:27.752Z"
   },
   {
    "duration": 0,
    "start_time": "2022-12-23T04:48:27.755Z"
   },
   {
    "duration": 0,
    "start_time": "2022-12-23T04:48:27.756Z"
   },
   {
    "duration": 0,
    "start_time": "2022-12-23T04:48:27.758Z"
   },
   {
    "duration": 0,
    "start_time": "2022-12-23T04:48:27.760Z"
   },
   {
    "duration": 1,
    "start_time": "2022-12-23T04:48:27.761Z"
   },
   {
    "duration": 0,
    "start_time": "2022-12-23T04:48:27.763Z"
   },
   {
    "duration": 143,
    "start_time": "2022-12-23T04:49:28.244Z"
   },
   {
    "duration": 144,
    "start_time": "2022-12-23T04:49:32.638Z"
   },
   {
    "duration": 68,
    "start_time": "2022-12-23T04:49:36.408Z"
   },
   {
    "duration": 16,
    "start_time": "2022-12-23T04:50:29.768Z"
   },
   {
    "duration": 11,
    "start_time": "2022-12-23T04:50:33.403Z"
   },
   {
    "duration": 11,
    "start_time": "2022-12-23T04:50:37.633Z"
   },
   {
    "duration": 409,
    "start_time": "2022-12-23T04:50:40.433Z"
   },
   {
    "duration": 371,
    "start_time": "2022-12-23T04:53:23.908Z"
   },
   {
    "duration": 426,
    "start_time": "2022-12-23T04:55:40.447Z"
   },
   {
    "duration": 366,
    "start_time": "2022-12-23T04:56:01.848Z"
   },
   {
    "duration": 30,
    "start_time": "2022-12-23T05:41:31.449Z"
   },
   {
    "duration": 1122,
    "start_time": "2022-12-23T05:42:04.608Z"
   },
   {
    "duration": 70,
    "start_time": "2022-12-23T05:42:05.732Z"
   },
   {
    "duration": 17,
    "start_time": "2022-12-23T05:42:05.804Z"
   },
   {
    "duration": 6,
    "start_time": "2022-12-23T05:42:05.824Z"
   },
   {
    "duration": 7,
    "start_time": "2022-12-23T05:42:05.832Z"
   },
   {
    "duration": 14,
    "start_time": "2022-12-23T05:42:05.841Z"
   },
   {
    "duration": 9,
    "start_time": "2022-12-23T05:42:05.857Z"
   },
   {
    "duration": 8,
    "start_time": "2022-12-23T05:42:05.867Z"
   },
   {
    "duration": 51,
    "start_time": "2022-12-23T05:42:05.876Z"
   },
   {
    "duration": 11,
    "start_time": "2022-12-23T05:42:05.930Z"
   },
   {
    "duration": 8,
    "start_time": "2022-12-23T05:42:05.942Z"
   },
   {
    "duration": 9,
    "start_time": "2022-12-23T05:42:05.952Z"
   },
   {
    "duration": 8,
    "start_time": "2022-12-23T05:42:05.963Z"
   },
   {
    "duration": 56,
    "start_time": "2022-12-23T05:42:05.973Z"
   },
   {
    "duration": 8,
    "start_time": "2022-12-23T05:42:06.031Z"
   },
   {
    "duration": 16,
    "start_time": "2022-12-23T05:42:06.041Z"
   },
   {
    "duration": 15,
    "start_time": "2022-12-23T05:42:06.059Z"
   },
   {
    "duration": 100,
    "start_time": "2022-12-23T05:42:06.076Z"
   },
   {
    "duration": 18,
    "start_time": "2022-12-23T05:42:06.178Z"
   },
   {
    "duration": 275,
    "start_time": "2022-12-23T05:42:06.197Z"
   },
   {
    "duration": 16,
    "start_time": "2022-12-23T05:42:06.474Z"
   },
   {
    "duration": 270,
    "start_time": "2022-12-23T05:42:06.493Z"
   },
   {
    "duration": 26,
    "start_time": "2022-12-23T05:42:06.765Z"
   },
   {
    "duration": 182,
    "start_time": "2022-12-23T05:42:06.793Z"
   },
   {
    "duration": 179,
    "start_time": "2022-12-23T05:42:06.976Z"
   },
   {
    "duration": 163,
    "start_time": "2022-12-23T05:42:07.157Z"
   },
   {
    "duration": 171,
    "start_time": "2022-12-23T05:42:07.321Z"
   },
   {
    "duration": 269,
    "start_time": "2022-12-23T05:42:07.495Z"
   },
   {
    "duration": 193,
    "start_time": "2022-12-23T05:42:07.766Z"
   },
   {
    "duration": 208,
    "start_time": "2022-12-23T05:42:07.960Z"
   },
   {
    "duration": 210,
    "start_time": "2022-12-23T05:42:08.169Z"
   },
   {
    "duration": 193,
    "start_time": "2022-12-23T05:42:08.381Z"
   },
   {
    "duration": 187,
    "start_time": "2022-12-23T05:42:08.576Z"
   },
   {
    "duration": 189,
    "start_time": "2022-12-23T05:42:08.765Z"
   },
   {
    "duration": 189,
    "start_time": "2022-12-23T05:42:08.956Z"
   },
   {
    "duration": 218,
    "start_time": "2022-12-23T05:42:09.146Z"
   },
   {
    "duration": 177,
    "start_time": "2022-12-23T05:42:09.365Z"
   },
   {
    "duration": 24,
    "start_time": "2022-12-23T05:42:09.543Z"
   },
   {
    "duration": 363,
    "start_time": "2022-12-23T05:42:09.568Z"
   },
   {
    "duration": 277,
    "start_time": "2022-12-23T05:42:09.932Z"
   },
   {
    "duration": 142,
    "start_time": "2022-12-23T05:42:10.212Z"
   },
   {
    "duration": 146,
    "start_time": "2022-12-23T05:42:10.356Z"
   },
   {
    "duration": 137,
    "start_time": "2022-12-23T05:42:10.511Z"
   },
   {
    "duration": 144,
    "start_time": "2022-12-23T05:42:10.650Z"
   },
   {
    "duration": 133,
    "start_time": "2022-12-23T05:42:10.796Z"
   },
   {
    "duration": 133,
    "start_time": "2022-12-23T05:42:10.931Z"
   },
   {
    "duration": 156,
    "start_time": "2022-12-23T05:42:11.065Z"
   },
   {
    "duration": 159,
    "start_time": "2022-12-23T05:42:11.222Z"
   },
   {
    "duration": 143,
    "start_time": "2022-12-23T05:42:11.383Z"
   },
   {
    "duration": 144,
    "start_time": "2022-12-23T05:42:11.528Z"
   },
   {
    "duration": 52,
    "start_time": "2022-12-23T05:42:11.674Z"
   },
   {
    "duration": 10,
    "start_time": "2022-12-23T05:42:11.727Z"
   },
   {
    "duration": 9,
    "start_time": "2022-12-23T05:42:11.739Z"
   },
   {
    "duration": 12,
    "start_time": "2022-12-23T05:42:11.750Z"
   },
   {
    "duration": 472,
    "start_time": "2022-12-23T05:42:11.764Z"
   },
   {
    "duration": 367,
    "start_time": "2022-12-23T05:42:12.238Z"
   },
   {
    "duration": 385,
    "start_time": "2022-12-23T05:42:12.607Z"
   },
   {
    "duration": 381,
    "start_time": "2022-12-23T05:42:12.994Z"
   },
   {
    "duration": 49,
    "start_time": "2022-12-23T05:42:13.377Z"
   },
   {
    "duration": 4,
    "start_time": "2022-12-23T05:42:13.428Z"
   },
   {
    "duration": 19,
    "start_time": "2022-12-23T05:42:13.433Z"
   },
   {
    "duration": 4,
    "start_time": "2022-12-23T05:42:13.454Z"
   },
   {
    "duration": 29,
    "start_time": "2022-12-23T05:42:34.790Z"
   },
   {
    "duration": 4,
    "start_time": "2022-12-23T05:42:40.004Z"
   },
   {
    "duration": 9,
    "start_time": "2022-12-23T05:43:16.629Z"
   },
   {
    "duration": 27,
    "start_time": "2022-12-23T05:43:33.704Z"
   },
   {
    "duration": 5,
    "start_time": "2022-12-23T05:43:36.879Z"
   },
   {
    "duration": 27,
    "start_time": "2022-12-23T05:44:59.764Z"
   },
   {
    "duration": 4,
    "start_time": "2022-12-23T05:45:02.264Z"
   },
   {
    "duration": 104,
    "start_time": "2022-12-23T05:53:21.746Z"
   },
   {
    "duration": 18,
    "start_time": "2022-12-23T05:54:09.585Z"
   },
   {
    "duration": 13,
    "start_time": "2022-12-23T05:54:19.145Z"
   },
   {
    "duration": 11,
    "start_time": "2022-12-23T05:57:24.570Z"
   },
   {
    "duration": 72,
    "start_time": "2022-12-23T06:16:18.250Z"
   },
   {
    "duration": 1223,
    "start_time": "2022-12-23T08:25:51.021Z"
   },
   {
    "duration": 73,
    "start_time": "2022-12-23T08:25:52.246Z"
   },
   {
    "duration": 17,
    "start_time": "2022-12-23T08:25:52.321Z"
   },
   {
    "duration": 8,
    "start_time": "2022-12-23T08:25:52.341Z"
   },
   {
    "duration": 7,
    "start_time": "2022-12-23T08:25:52.351Z"
   },
   {
    "duration": 15,
    "start_time": "2022-12-23T08:25:52.360Z"
   },
   {
    "duration": 39,
    "start_time": "2022-12-23T08:25:52.378Z"
   },
   {
    "duration": 8,
    "start_time": "2022-12-23T08:25:52.419Z"
   },
   {
    "duration": 27,
    "start_time": "2022-12-23T08:25:52.429Z"
   },
   {
    "duration": 13,
    "start_time": "2022-12-23T08:25:52.460Z"
   },
   {
    "duration": 9,
    "start_time": "2022-12-23T08:25:52.475Z"
   },
   {
    "duration": 33,
    "start_time": "2022-12-23T08:25:52.486Z"
   },
   {
    "duration": 9,
    "start_time": "2022-12-23T08:25:52.521Z"
   },
   {
    "duration": 24,
    "start_time": "2022-12-23T08:25:52.531Z"
   },
   {
    "duration": 8,
    "start_time": "2022-12-23T08:25:52.557Z"
   },
   {
    "duration": 17,
    "start_time": "2022-12-23T08:25:52.567Z"
   },
   {
    "duration": 16,
    "start_time": "2022-12-23T08:25:52.612Z"
   },
   {
    "duration": 96,
    "start_time": "2022-12-23T08:25:52.630Z"
   },
   {
    "duration": 6,
    "start_time": "2022-12-23T08:25:52.728Z"
   },
   {
    "duration": 250,
    "start_time": "2022-12-23T08:25:52.735Z"
   },
   {
    "duration": 13,
    "start_time": "2022-12-23T08:25:52.987Z"
   },
   {
    "duration": 290,
    "start_time": "2022-12-23T08:25:53.011Z"
   },
   {
    "duration": 36,
    "start_time": "2022-12-23T08:25:53.303Z"
   },
   {
    "duration": 207,
    "start_time": "2022-12-23T08:25:53.341Z"
   },
   {
    "duration": 189,
    "start_time": "2022-12-23T08:25:53.549Z"
   },
   {
    "duration": 165,
    "start_time": "2022-12-23T08:25:53.740Z"
   },
   {
    "duration": 179,
    "start_time": "2022-12-23T08:25:53.907Z"
   },
   {
    "duration": 278,
    "start_time": "2022-12-23T08:25:54.089Z"
   },
   {
    "duration": 197,
    "start_time": "2022-12-23T08:25:54.369Z"
   },
   {
    "duration": 219,
    "start_time": "2022-12-23T08:25:54.568Z"
   },
   {
    "duration": 223,
    "start_time": "2022-12-23T08:25:54.789Z"
   },
   {
    "duration": 216,
    "start_time": "2022-12-23T08:25:55.014Z"
   },
   {
    "duration": 205,
    "start_time": "2022-12-23T08:25:55.232Z"
   },
   {
    "duration": 205,
    "start_time": "2022-12-23T08:25:55.439Z"
   },
   {
    "duration": 201,
    "start_time": "2022-12-23T08:25:55.645Z"
   },
   {
    "duration": 222,
    "start_time": "2022-12-23T08:25:55.847Z"
   },
   {
    "duration": 203,
    "start_time": "2022-12-23T08:25:56.071Z"
   },
   {
    "duration": 44,
    "start_time": "2022-12-23T08:25:56.276Z"
   },
   {
    "duration": 429,
    "start_time": "2022-12-23T08:25:56.322Z"
   },
   {
    "duration": 284,
    "start_time": "2022-12-23T08:25:56.753Z"
   },
   {
    "duration": 167,
    "start_time": "2022-12-23T08:25:57.038Z"
   },
   {
    "duration": 161,
    "start_time": "2022-12-23T08:25:57.207Z"
   },
   {
    "duration": 153,
    "start_time": "2022-12-23T08:25:57.370Z"
   },
   {
    "duration": 156,
    "start_time": "2022-12-23T08:25:57.525Z"
   },
   {
    "duration": 136,
    "start_time": "2022-12-23T08:25:57.683Z"
   },
   {
    "duration": 140,
    "start_time": "2022-12-23T08:25:57.821Z"
   },
   {
    "duration": 169,
    "start_time": "2022-12-23T08:25:57.962Z"
   },
   {
    "duration": 191,
    "start_time": "2022-12-23T08:25:58.134Z"
   },
   {
    "duration": 157,
    "start_time": "2022-12-23T08:25:58.326Z"
   },
   {
    "duration": 157,
    "start_time": "2022-12-23T08:25:58.484Z"
   },
   {
    "duration": 53,
    "start_time": "2022-12-23T08:25:58.643Z"
   },
   {
    "duration": 24,
    "start_time": "2022-12-23T08:25:58.697Z"
   },
   {
    "duration": 13,
    "start_time": "2022-12-23T08:25:58.724Z"
   },
   {
    "duration": 14,
    "start_time": "2022-12-23T08:25:58.739Z"
   },
   {
    "duration": 478,
    "start_time": "2022-12-23T08:25:58.756Z"
   },
   {
    "duration": 427,
    "start_time": "2022-12-23T08:25:59.236Z"
   },
   {
    "duration": 428,
    "start_time": "2022-12-23T08:25:59.665Z"
   },
   {
    "duration": 405,
    "start_time": "2022-12-23T08:26:00.095Z"
   },
   {
    "duration": 37,
    "start_time": "2022-12-23T08:26:00.502Z"
   },
   {
    "duration": 11,
    "start_time": "2022-12-23T08:26:00.541Z"
   },
   {
    "duration": 62,
    "start_time": "2022-12-23T08:26:00.554Z"
   },
   {
    "duration": 25,
    "start_time": "2022-12-23T08:26:00.618Z"
   },
   {
    "duration": 1472,
    "start_time": "2022-12-24T00:31:58.330Z"
   },
   {
    "duration": 68,
    "start_time": "2022-12-24T00:31:59.804Z"
   },
   {
    "duration": 20,
    "start_time": "2022-12-24T00:31:59.874Z"
   },
   {
    "duration": 21,
    "start_time": "2022-12-24T00:31:59.897Z"
   },
   {
    "duration": 30,
    "start_time": "2022-12-24T00:31:59.921Z"
   },
   {
    "duration": 55,
    "start_time": "2022-12-24T00:31:59.953Z"
   },
   {
    "duration": 31,
    "start_time": "2022-12-24T00:32:00.011Z"
   },
   {
    "duration": 28,
    "start_time": "2022-12-24T00:32:00.045Z"
   },
   {
    "duration": 62,
    "start_time": "2022-12-24T00:32:00.075Z"
   },
   {
    "duration": 18,
    "start_time": "2022-12-24T00:32:00.140Z"
   },
   {
    "duration": 52,
    "start_time": "2022-12-24T00:32:00.160Z"
   },
   {
    "duration": 32,
    "start_time": "2022-12-24T00:32:00.214Z"
   },
   {
    "duration": 46,
    "start_time": "2022-12-24T00:32:00.248Z"
   },
   {
    "duration": 48,
    "start_time": "2022-12-24T00:32:00.295Z"
   },
   {
    "duration": 22,
    "start_time": "2022-12-24T00:32:00.345Z"
   },
   {
    "duration": 37,
    "start_time": "2022-12-24T00:32:00.369Z"
   },
   {
    "duration": 31,
    "start_time": "2022-12-24T00:32:00.408Z"
   },
   {
    "duration": 122,
    "start_time": "2022-12-24T00:32:00.442Z"
   },
   {
    "duration": 9,
    "start_time": "2022-12-24T00:32:00.566Z"
   },
   {
    "duration": 369,
    "start_time": "2022-12-24T00:32:00.577Z"
   },
   {
    "duration": 19,
    "start_time": "2022-12-24T00:32:00.948Z"
   },
   {
    "duration": 428,
    "start_time": "2022-12-24T00:32:00.969Z"
   },
   {
    "duration": 46,
    "start_time": "2022-12-24T00:32:01.399Z"
   },
   {
    "duration": 276,
    "start_time": "2022-12-24T00:32:01.447Z"
   },
   {
    "duration": 267,
    "start_time": "2022-12-24T00:32:01.726Z"
   },
   {
    "duration": 248,
    "start_time": "2022-12-24T00:32:01.996Z"
   },
   {
    "duration": 258,
    "start_time": "2022-12-24T00:32:02.246Z"
   },
   {
    "duration": 380,
    "start_time": "2022-12-24T00:32:02.512Z"
   },
   {
    "duration": 311,
    "start_time": "2022-12-24T00:32:02.894Z"
   },
   {
    "duration": 311,
    "start_time": "2022-12-24T00:32:03.213Z"
   },
   {
    "duration": 289,
    "start_time": "2022-12-24T00:32:03.526Z"
   },
   {
    "duration": 299,
    "start_time": "2022-12-24T00:32:03.817Z"
   },
   {
    "duration": 279,
    "start_time": "2022-12-24T00:32:04.118Z"
   },
   {
    "duration": 326,
    "start_time": "2022-12-24T00:32:04.399Z"
   },
   {
    "duration": 254,
    "start_time": "2022-12-24T00:32:04.728Z"
   },
   {
    "duration": 354,
    "start_time": "2022-12-24T00:32:04.984Z"
   },
   {
    "duration": 272,
    "start_time": "2022-12-24T00:32:05.340Z"
   },
   {
    "duration": 34,
    "start_time": "2022-12-24T00:32:05.614Z"
   },
   {
    "duration": 562,
    "start_time": "2022-12-24T00:32:05.651Z"
   },
   {
    "duration": 475,
    "start_time": "2022-12-24T00:32:06.215Z"
   },
   {
    "duration": 253,
    "start_time": "2022-12-24T00:32:06.692Z"
   },
   {
    "duration": 238,
    "start_time": "2022-12-24T00:32:06.947Z"
   },
   {
    "duration": 213,
    "start_time": "2022-12-24T00:32:07.187Z"
   },
   {
    "duration": 227,
    "start_time": "2022-12-24T00:32:07.402Z"
   },
   {
    "duration": 190,
    "start_time": "2022-12-24T00:32:07.632Z"
   },
   {
    "duration": 190,
    "start_time": "2022-12-24T00:32:07.824Z"
   },
   {
    "duration": 198,
    "start_time": "2022-12-24T00:32:08.016Z"
   },
   {
    "duration": 229,
    "start_time": "2022-12-24T00:32:08.217Z"
   },
   {
    "duration": 205,
    "start_time": "2022-12-24T00:32:08.448Z"
   },
   {
    "duration": 197,
    "start_time": "2022-12-24T00:32:08.655Z"
   },
   {
    "duration": 77,
    "start_time": "2022-12-24T00:32:08.854Z"
   },
   {
    "duration": 13,
    "start_time": "2022-12-24T00:32:08.934Z"
   },
   {
    "duration": 23,
    "start_time": "2022-12-24T00:32:08.950Z"
   },
   {
    "duration": 19,
    "start_time": "2022-12-24T00:32:08.975Z"
   },
   {
    "duration": 607,
    "start_time": "2022-12-24T00:32:08.996Z"
   },
   {
    "duration": 574,
    "start_time": "2022-12-24T00:32:09.605Z"
   },
   {
    "duration": 584,
    "start_time": "2022-12-24T00:32:10.181Z"
   },
   {
    "duration": 583,
    "start_time": "2022-12-24T00:32:10.768Z"
   },
   {
    "duration": 62,
    "start_time": "2022-12-24T00:32:11.353Z"
   },
   {
    "duration": 21,
    "start_time": "2022-12-24T00:32:11.418Z"
   },
   {
    "duration": 67,
    "start_time": "2022-12-24T00:32:11.442Z"
   },
   {
    "duration": 15,
    "start_time": "2022-12-24T00:32:11.511Z"
   },
   {
    "duration": 4050,
    "start_time": "2022-12-24T00:37:45.147Z"
   }
  ],
  "kernelspec": {
   "display_name": "Python 3 (ipykernel)",
   "language": "python",
   "name": "python3"
  },
  "language_info": {
   "codemirror_mode": {
    "name": "ipython",
    "version": 3
   },
   "file_extension": ".py",
   "mimetype": "text/x-python",
   "name": "python",
   "nbconvert_exporter": "python",
   "pygments_lexer": "ipython3",
   "version": "3.9.5"
  },
  "toc": {
   "base_numbering": 1,
   "nav_menu": {},
   "number_sections": true,
   "sideBar": true,
   "skip_h1_title": true,
   "title_cell": "Table of Contents",
   "title_sidebar": "Contents",
   "toc_cell": true,
   "toc_position": {
    "height": "calc(100% - 180px)",
    "left": "10px",
    "top": "150px",
    "width": "279.4px"
   },
   "toc_section_display": true,
   "toc_window_display": true
  }
 },
 "nbformat": 4,
 "nbformat_minor": 5
}
