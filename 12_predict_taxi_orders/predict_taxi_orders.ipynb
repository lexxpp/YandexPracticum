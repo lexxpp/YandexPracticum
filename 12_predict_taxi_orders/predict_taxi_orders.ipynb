{
 "cells": [
  {
   "cell_type": "markdown",
   "metadata": {
    "toc": true
   },
   "source": [
    "<h1>Содержание<span class=\"tocSkip\"></span></h1>\n",
    "<div class=\"toc\"><ul class=\"toc-item\"><li><span><a href=\"#Подготовка\" data-toc-modified-id=\"Подготовка-1\"><span class=\"toc-item-num\">1&nbsp;&nbsp;</span>Подготовка</a></span></li><li><span><a href=\"#Анализ\" data-toc-modified-id=\"Анализ-2\"><span class=\"toc-item-num\">2&nbsp;&nbsp;</span>Анализ</a></span></li><li><span><a href=\"#Обучение\" data-toc-modified-id=\"Обучение-3\"><span class=\"toc-item-num\">3&nbsp;&nbsp;</span>Обучение</a></span></li><li><span><a href=\"#Тестирование\" data-toc-modified-id=\"Тестирование-4\"><span class=\"toc-item-num\">4&nbsp;&nbsp;</span>Тестирование</a></span></li></ul></div>"
   ]
  },
  {
   "cell_type": "markdown",
   "metadata": {},
   "source": [
    "#  Прогнозирование заказов такси"
   ]
  },
  {
   "cell_type": "markdown",
   "metadata": {},
   "source": [
    "Компания «Чётенькое такси» собрала исторические данные о заказах такси в аэропортах. Чтобы привлекать больше водителей в период пиковой нагрузки, нужно спрогнозировать количество заказов такси на следующий час. Постройте модель для такого предсказания.\n",
    "\n",
    "Значение метрики *RMSE* на тестовой выборке должно быть не больше 48.\n",
    "\n",
    "**Задачи:**\n",
    "\n",
    "1. Загрузить данные и выполнить их ресемплирование по одному часу.\n",
    "2. Проанализировать данные.\n",
    "3. Обучить разные модели с различными гиперпараметрами. Сделать тестовую выборку размером 10% от исходных данных.\n",
    "4. Проверить данные на тестовой выборке и сделать выводы.\n",
    "\n",
    "\n",
    "Данные лежат в файле `taxi.csv`. Количество заказов находится в столбце `num_orders` (от англ. *number of orders*, «число заказов»)."
   ]
  },
  {
   "cell_type": "code",
   "execution_count": 1,
   "metadata": {},
   "outputs": [],
   "source": [
    "import pandas as pd\n",
    "import matplotlib.pyplot as plt\n",
    "import numpy as np\n",
    "import seaborn as sns\n",
    "\n",
    "import time\n",
    "\n",
    "from sklearn.linear_model import LinearRegression\n",
    "from catboost import CatBoostRegressor\n",
    "from lightgbm import LGBMRegressor\n",
    "\n",
    "from sklearn.metrics import mean_squared_error as mse\n",
    "from sklearn.model_selection import TimeSeriesSplit, GridSearchCV, train_test_split\n",
    "\n",
    "from statsmodels.tsa.seasonal import seasonal_decompose\n",
    "import warnings\n",
    "warnings.filterwarnings(\"ignore\")"
   ]
  },
  {
   "cell_type": "markdown",
   "metadata": {},
   "source": [
    "## Подготовка"
   ]
  },
  {
   "cell_type": "code",
   "execution_count": 2,
   "metadata": {},
   "outputs": [],
   "source": [
    "df = pd.read_csv('https://code.s3.yandex.net/datasets/taxi.csv',index_col=[0], parse_dates=[0])"
   ]
  },
  {
   "cell_type": "code",
   "execution_count": 3,
   "metadata": {},
   "outputs": [],
   "source": [
    "#Напишем функцию для получения информации о датасете\n",
    "\n",
    "def status_data(data):\n",
    "\n",
    "    print(data.head())\n",
    "    print()\n",
    "    print('Информация о датасете: ')\n",
    "    print(data.info())\n",
    "    print('------------------------')\n",
    "    print('Количество пропусков в данных')\n",
    "    print(data.isna().sum())\n",
    "    print('------------------------')\n",
    "    print('Количество дупликатов в данных:', data.duplicated().sum())\n",
    "    print('------------------------')\n",
    "    print(data.describe())"
   ]
  },
  {
   "cell_type": "code",
   "execution_count": 4,
   "metadata": {},
   "outputs": [
    {
     "name": "stdout",
     "output_type": "stream",
     "text": [
      "                     num_orders\n",
      "datetime                       \n",
      "2018-03-01 00:00:00           9\n",
      "2018-03-01 00:10:00          14\n",
      "2018-03-01 00:20:00          28\n",
      "2018-03-01 00:30:00          20\n",
      "2018-03-01 00:40:00          32\n",
      "\n",
      "Информация о датасете: \n",
      "<class 'pandas.core.frame.DataFrame'>\n",
      "DatetimeIndex: 26496 entries, 2018-03-01 00:00:00 to 2018-08-31 23:50:00\n",
      "Data columns (total 1 columns):\n",
      " #   Column      Non-Null Count  Dtype\n",
      "---  ------      --------------  -----\n",
      " 0   num_orders  26496 non-null  int64\n",
      "dtypes: int64(1)\n",
      "memory usage: 414.0 KB\n",
      "None\n",
      "------------------------\n",
      "Количество пропусков в данных\n",
      "num_orders    0\n",
      "dtype: int64\n",
      "------------------------\n",
      "Количество дупликатов в данных: 26415\n",
      "------------------------\n",
      "         num_orders\n",
      "count  26496.000000\n",
      "mean      14.070463\n",
      "std        9.211330\n",
      "min        0.000000\n",
      "25%        8.000000\n",
      "50%       13.000000\n",
      "75%       19.000000\n",
      "max      119.000000\n"
     ]
    }
   ],
   "source": [
    "status_data(df)"
   ]
  },
  {
   "cell_type": "code",
   "execution_count": 5,
   "metadata": {},
   "outputs": [
    {
     "data": {
      "text/html": [
       "<div>\n",
       "<style scoped>\n",
       "    .dataframe tbody tr th:only-of-type {\n",
       "        vertical-align: middle;\n",
       "    }\n",
       "\n",
       "    .dataframe tbody tr th {\n",
       "        vertical-align: top;\n",
       "    }\n",
       "\n",
       "    .dataframe thead th {\n",
       "        text-align: right;\n",
       "    }\n",
       "</style>\n",
       "<table border=\"1\" class=\"dataframe\">\n",
       "  <thead>\n",
       "    <tr style=\"text-align: right;\">\n",
       "      <th></th>\n",
       "      <th>num_orders</th>\n",
       "    </tr>\n",
       "    <tr>\n",
       "      <th>datetime</th>\n",
       "      <th></th>\n",
       "    </tr>\n",
       "  </thead>\n",
       "  <tbody>\n",
       "    <tr>\n",
       "      <th>2018-03-01 00:00:00</th>\n",
       "      <td>9</td>\n",
       "    </tr>\n",
       "    <tr>\n",
       "      <th>2018-03-01 00:10:00</th>\n",
       "      <td>14</td>\n",
       "    </tr>\n",
       "    <tr>\n",
       "      <th>2018-03-01 00:20:00</th>\n",
       "      <td>28</td>\n",
       "    </tr>\n",
       "    <tr>\n",
       "      <th>2018-03-01 00:30:00</th>\n",
       "      <td>20</td>\n",
       "    </tr>\n",
       "    <tr>\n",
       "      <th>2018-03-01 00:40:00</th>\n",
       "      <td>32</td>\n",
       "    </tr>\n",
       "  </tbody>\n",
       "</table>\n",
       "</div>"
      ],
      "text/plain": [
       "                     num_orders\n",
       "datetime                       \n",
       "2018-03-01 00:00:00           9\n",
       "2018-03-01 00:10:00          14\n",
       "2018-03-01 00:20:00          28\n",
       "2018-03-01 00:30:00          20\n",
       "2018-03-01 00:40:00          32"
      ]
     },
     "execution_count": 5,
     "metadata": {},
     "output_type": "execute_result"
    }
   ],
   "source": [
    "df.head()"
   ]
  },
  {
   "cell_type": "markdown",
   "metadata": {},
   "source": [
    "В данных нет дубликатов и пропущенных значений. Можно переходить к анализу"
   ]
  },
  {
   "cell_type": "code",
   "execution_count": 6,
   "metadata": {},
   "outputs": [],
   "source": [
    "#Ресемплируем данные по часу\n",
    "df = df.resample('1H').sum()"
   ]
  },
  {
   "cell_type": "markdown",
   "metadata": {},
   "source": [
    "## Анализ"
   ]
  },
  {
   "cell_type": "code",
   "execution_count": 7,
   "metadata": {},
   "outputs": [],
   "source": [
    "#Напишем функцию для построения графиков анализа данных\n",
    "def lineplot(data, headline):\n",
    "    data.plot()\n",
    "    plt.title(headline)\n",
    "    plt.show()"
   ]
  },
  {
   "cell_type": "markdown",
   "metadata": {},
   "source": [
    "Чтобы лучше понимать временной ряд, разделим графики на тренды и сезонность функцией seasonal_decompose"
   ]
  },
  {
   "cell_type": "code",
   "execution_count": 8,
   "metadata": {},
   "outputs": [],
   "source": [
    "decomposed = seasonal_decompose(df)"
   ]
  },
  {
   "cell_type": "code",
   "execution_count": 9,
   "metadata": {},
   "outputs": [],
   "source": [
    "sns.set(rc={'figure.figsize':(15,6)})"
   ]
  },
  {
   "cell_type": "code",
   "execution_count": 10,
   "metadata": {},
   "outputs": [
    {
     "data": {
      "image/png": "[encoded data removed]",
      "text/plain": [
       "<Figure size 1080x432 with 1 Axes>"
      ]
     },
     "metadata": {},
     "output_type": "display_data"
    }
   ],
   "source": [
    "lineplot(decomposed.trend, 'Тренд')"
   ]
  },
  {
   "cell_type": "markdown",
   "metadata": {},
   "source": [
    "Немноно выровняем тренд с испоьзованеим скользящего среднего для сглаживания временного ряда"
   ]
  },
  {
   "cell_type": "code",
   "execution_count": 11,
   "metadata": {},
   "outputs": [
    {
     "data": {
      "image/png": "[encoded data removed]",
      "text/plain": [
       "<Figure size 1080x432 with 1 Axes>"
      ]
     },
     "metadata": {},
     "output_type": "display_data"
    }
   ],
   "source": [
    "lineplot(decomposed.trend.rolling(100).mean(), 'Тренд со скользящим средним')"
   ]
  },
  {
   "cell_type": "code",
   "execution_count": 12,
   "metadata": {},
   "outputs": [
    {
     "data": {
      "image/png": "[encoded data removed]",
      "text/plain": [
       "<Figure size 1080x432 with 1 Axes>"
      ]
     },
     "metadata": {},
     "output_type": "display_data"
    }
   ],
   "source": [
    "lineplot(decomposed.seasonal.tail(100), 'Сезонность')"
   ]
  },
  {
   "cell_type": "code",
   "execution_count": 13,
   "metadata": {},
   "outputs": [
    {
     "data": {
      "image/png": "[encoded data removed]",
      "text/plain": [
       "<Figure size 1080x432 with 1 Axes>"
      ]
     },
     "metadata": {},
     "output_type": "display_data"
    }
   ],
   "source": [
    "lineplot(decomposed.resid, 'Остаток декомпозиции')"
   ]
  },
  {
   "cell_type": "markdown",
   "metadata": {},
   "source": [
    "Рассмотрим также признаки для:\n",
    "\n",
    "- Часа дня\n",
    "- Дня недели"
   ]
  },
  {
   "cell_type": "code",
   "execution_count": 14,
   "metadata": {},
   "outputs": [],
   "source": [
    "df_more = df.copy()"
   ]
  },
  {
   "cell_type": "code",
   "execution_count": 15,
   "metadata": {},
   "outputs": [],
   "source": [
    "df_more['hour'] = df_more.index.hour\n",
    "df_more['dayofweek'] = df_more.index.dayofweek"
   ]
  },
  {
   "cell_type": "code",
   "execution_count": 16,
   "metadata": {},
   "outputs": [
    {
     "data": {
      "image/png": "[encoded data removed]",
      "text/plain": [
       "<Figure size 864x1080 with 2 Axes>"
      ]
     },
     "metadata": {},
     "output_type": "display_data"
    }
   ],
   "source": [
    "#Построим графики количества заказов\n",
    "plt.figure(figsize=(12,15))\n",
    "plt.subplot(2,1,1)\n",
    "df_more.groupby('dayofweek')['num_orders'].sum().plot();\n",
    "plt.subplot(2,1,2)\n",
    "df_more.groupby('hour')['num_orders'].sum().plot();"
   ]
  },
  {
   "cell_type": "markdown",
   "metadata": {},
   "source": [
    "**Промежуточный вывод анализа данных:**\n",
    "- График \"Тренд\" отображает постепенный рост заказов к осени\n",
    "- Временной ряд - стационарный\n",
    "- Утром количество заказов резко падает, рост и пик заказов приходится на вечернее время и полночь\n",
    "- Больше всего заказов приходится на пятницу"
   ]
  },
  {
   "cell_type": "markdown",
   "metadata": {},
   "source": [
    "## Обучение"
   ]
  },
  {
   "cell_type": "code",
   "execution_count": 17,
   "metadata": {},
   "outputs": [],
   "source": [
    "# Напишем функцию для создания признаков\n",
    "def make_features(data, max_lag, rolling_mean_size):\n",
    "    data['dayofweek'] = data.index.dayofweek\n",
    "    data['hour'] = data.index.hour\n",
    "    \n",
    "    for lag in range(1, max_lag + 1):\n",
    "        data['lag_{}'.format(lag)] = data['num_orders'].shift(lag)\n",
    "\n",
    "    data['rolling_mean'] = data['num_orders'].shift().rolling(rolling_mean_size).mean()\n",
    "\n",
    "make_features(df, 15, 9)"
   ]
  },
  {
   "cell_type": "code",
   "execution_count": 18,
   "metadata": {},
   "outputs": [
    {
     "data": {
      "text/html": [
       "<div>\n",
       "<style scoped>\n",
       "    .dataframe tbody tr th:only-of-type {\n",
       "        vertical-align: middle;\n",
       "    }\n",
       "\n",
       "    .dataframe tbody tr th {\n",
       "        vertical-align: top;\n",
       "    }\n",
       "\n",
       "    .dataframe thead th {\n",
       "        text-align: right;\n",
       "    }\n",
       "</style>\n",
       "<table border=\"1\" class=\"dataframe\">\n",
       "  <thead>\n",
       "    <tr style=\"text-align: right;\">\n",
       "      <th></th>\n",
       "      <th>num_orders</th>\n",
       "      <th>dayofweek</th>\n",
       "      <th>hour</th>\n",
       "      <th>lag_1</th>\n",
       "      <th>lag_2</th>\n",
       "      <th>lag_3</th>\n",
       "      <th>lag_4</th>\n",
       "      <th>lag_5</th>\n",
       "      <th>lag_6</th>\n",
       "      <th>lag_7</th>\n",
       "      <th>lag_8</th>\n",
       "      <th>lag_9</th>\n",
       "      <th>lag_10</th>\n",
       "      <th>lag_11</th>\n",
       "      <th>lag_12</th>\n",
       "      <th>lag_13</th>\n",
       "      <th>lag_14</th>\n",
       "      <th>lag_15</th>\n",
       "      <th>rolling_mean</th>\n",
       "    </tr>\n",
       "  </thead>\n",
       "  <tbody>\n",
       "    <tr>\n",
       "      <th>count</th>\n",
       "      <td>4416.000000</td>\n",
       "      <td>4416.000000</td>\n",
       "      <td>4416.00000</td>\n",
       "      <td>4415.000000</td>\n",
       "      <td>4414.000000</td>\n",
       "      <td>4413.000000</td>\n",
       "      <td>4412.000000</td>\n",
       "      <td>4411.000000</td>\n",
       "      <td>4410.000000</td>\n",
       "      <td>4409.000000</td>\n",
       "      <td>4408.000000</td>\n",
       "      <td>4407.000000</td>\n",
       "      <td>4406.000000</td>\n",
       "      <td>4405.000000</td>\n",
       "      <td>4404.000000</td>\n",
       "      <td>4403.000000</td>\n",
       "      <td>4402.00000</td>\n",
       "      <td>4401.000000</td>\n",
       "      <td>4407.000000</td>\n",
       "    </tr>\n",
       "    <tr>\n",
       "      <th>mean</th>\n",
       "      <td>84.422781</td>\n",
       "      <td>3.005435</td>\n",
       "      <td>11.50000</td>\n",
       "      <td>84.395470</td>\n",
       "      <td>84.364069</td>\n",
       "      <td>84.347156</td>\n",
       "      <td>84.331369</td>\n",
       "      <td>84.319655</td>\n",
       "      <td>84.291837</td>\n",
       "      <td>84.261737</td>\n",
       "      <td>84.236162</td>\n",
       "      <td>84.228954</td>\n",
       "      <td>84.217885</td>\n",
       "      <td>84.199319</td>\n",
       "      <td>84.187557</td>\n",
       "      <td>84.168749</td>\n",
       "      <td>84.14448</td>\n",
       "      <td>84.117473</td>\n",
       "      <td>84.320198</td>\n",
       "    </tr>\n",
       "    <tr>\n",
       "      <th>std</th>\n",
       "      <td>45.023853</td>\n",
       "      <td>1.990684</td>\n",
       "      <td>6.92297</td>\n",
       "      <td>44.992356</td>\n",
       "      <td>44.949043</td>\n",
       "      <td>44.940088</td>\n",
       "      <td>44.932942</td>\n",
       "      <td>44.931299</td>\n",
       "      <td>44.898387</td>\n",
       "      <td>44.858959</td>\n",
       "      <td>44.831888</td>\n",
       "      <td>44.834421</td>\n",
       "      <td>44.833486</td>\n",
       "      <td>44.821634</td>\n",
       "      <td>44.819924</td>\n",
       "      <td>44.807630</td>\n",
       "      <td>44.78377</td>\n",
       "      <td>44.752994</td>\n",
       "      <td>30.263125</td>\n",
       "    </tr>\n",
       "    <tr>\n",
       "      <th>min</th>\n",
       "      <td>0.000000</td>\n",
       "      <td>0.000000</td>\n",
       "      <td>0.00000</td>\n",
       "      <td>0.000000</td>\n",
       "      <td>0.000000</td>\n",
       "      <td>0.000000</td>\n",
       "      <td>0.000000</td>\n",
       "      <td>0.000000</td>\n",
       "      <td>0.000000</td>\n",
       "      <td>0.000000</td>\n",
       "      <td>0.000000</td>\n",
       "      <td>0.000000</td>\n",
       "      <td>0.000000</td>\n",
       "      <td>0.000000</td>\n",
       "      <td>0.000000</td>\n",
       "      <td>0.000000</td>\n",
       "      <td>0.00000</td>\n",
       "      <td>0.000000</td>\n",
       "      <td>25.888889</td>\n",
       "    </tr>\n",
       "    <tr>\n",
       "      <th>25%</th>\n",
       "      <td>54.000000</td>\n",
       "      <td>1.000000</td>\n",
       "      <td>5.75000</td>\n",
       "      <td>54.000000</td>\n",
       "      <td>54.000000</td>\n",
       "      <td>54.000000</td>\n",
       "      <td>54.000000</td>\n",
       "      <td>54.000000</td>\n",
       "      <td>54.000000</td>\n",
       "      <td>54.000000</td>\n",
       "      <td>54.000000</td>\n",
       "      <td>54.000000</td>\n",
       "      <td>54.000000</td>\n",
       "      <td>54.000000</td>\n",
       "      <td>54.000000</td>\n",
       "      <td>54.000000</td>\n",
       "      <td>54.00000</td>\n",
       "      <td>54.000000</td>\n",
       "      <td>62.555556</td>\n",
       "    </tr>\n",
       "    <tr>\n",
       "      <th>50%</th>\n",
       "      <td>78.000000</td>\n",
       "      <td>3.000000</td>\n",
       "      <td>11.50000</td>\n",
       "      <td>78.000000</td>\n",
       "      <td>78.000000</td>\n",
       "      <td>78.000000</td>\n",
       "      <td>78.000000</td>\n",
       "      <td>78.000000</td>\n",
       "      <td>78.000000</td>\n",
       "      <td>78.000000</td>\n",
       "      <td>78.000000</td>\n",
       "      <td>78.000000</td>\n",
       "      <td>78.000000</td>\n",
       "      <td>78.000000</td>\n",
       "      <td>78.000000</td>\n",
       "      <td>78.000000</td>\n",
       "      <td>78.00000</td>\n",
       "      <td>78.000000</td>\n",
       "      <td>79.888889</td>\n",
       "    </tr>\n",
       "    <tr>\n",
       "      <th>75%</th>\n",
       "      <td>107.000000</td>\n",
       "      <td>5.000000</td>\n",
       "      <td>17.25000</td>\n",
       "      <td>107.000000</td>\n",
       "      <td>107.000000</td>\n",
       "      <td>107.000000</td>\n",
       "      <td>107.000000</td>\n",
       "      <td>107.000000</td>\n",
       "      <td>107.000000</td>\n",
       "      <td>107.000000</td>\n",
       "      <td>107.000000</td>\n",
       "      <td>107.000000</td>\n",
       "      <td>107.000000</td>\n",
       "      <td>107.000000</td>\n",
       "      <td>107.000000</td>\n",
       "      <td>107.000000</td>\n",
       "      <td>107.00000</td>\n",
       "      <td>107.000000</td>\n",
       "      <td>101.111111</td>\n",
       "    </tr>\n",
       "    <tr>\n",
       "      <th>max</th>\n",
       "      <td>462.000000</td>\n",
       "      <td>6.000000</td>\n",
       "      <td>23.00000</td>\n",
       "      <td>462.000000</td>\n",
       "      <td>462.000000</td>\n",
       "      <td>462.000000</td>\n",
       "      <td>462.000000</td>\n",
       "      <td>462.000000</td>\n",
       "      <td>462.000000</td>\n",
       "      <td>462.000000</td>\n",
       "      <td>462.000000</td>\n",
       "      <td>462.000000</td>\n",
       "      <td>462.000000</td>\n",
       "      <td>462.000000</td>\n",
       "      <td>462.000000</td>\n",
       "      <td>462.000000</td>\n",
       "      <td>462.00000</td>\n",
       "      <td>462.000000</td>\n",
       "      <td>223.111111</td>\n",
       "    </tr>\n",
       "  </tbody>\n",
       "</table>\n",
       "</div>"
      ],
      "text/plain": [
       "        num_orders    dayofweek        hour        lag_1        lag_2  \\\n",
       "count  4416.000000  4416.000000  4416.00000  4415.000000  4414.000000   \n",
       "mean     84.422781     3.005435    11.50000    84.395470    84.364069   \n",
       "std      45.023853     1.990684     6.92297    44.992356    44.949043   \n",
       "min       0.000000     0.000000     0.00000     0.000000     0.000000   \n",
       "25%      54.000000     1.000000     5.75000    54.000000    54.000000   \n",
       "50%      78.000000     3.000000    11.50000    78.000000    78.000000   \n",
       "75%     107.000000     5.000000    17.25000   107.000000   107.000000   \n",
       "max     462.000000     6.000000    23.00000   462.000000   462.000000   \n",
       "\n",
       "             lag_3        lag_4        lag_5        lag_6        lag_7  \\\n",
       "count  4413.000000  4412.000000  4411.000000  4410.000000  4409.000000   \n",
       "mean     84.347156    84.331369    84.319655    84.291837    84.261737   \n",
       "std      44.940088    44.932942    44.931299    44.898387    44.858959   \n",
       "min       0.000000     0.000000     0.000000     0.000000     0.000000   \n",
       "25%      54.000000    54.000000    54.000000    54.000000    54.000000   \n",
       "50%      78.000000    78.000000    78.000000    78.000000    78.000000   \n",
       "75%     107.000000   107.000000   107.000000   107.000000   107.000000   \n",
       "max     462.000000   462.000000   462.000000   462.000000   462.000000   \n",
       "\n",
       "             lag_8        lag_9       lag_10       lag_11       lag_12  \\\n",
       "count  4408.000000  4407.000000  4406.000000  4405.000000  4404.000000   \n",
       "mean     84.236162    84.228954    84.217885    84.199319    84.187557   \n",
       "std      44.831888    44.834421    44.833486    44.821634    44.819924   \n",
       "min       0.000000     0.000000     0.000000     0.000000     0.000000   \n",
       "25%      54.000000    54.000000    54.000000    54.000000    54.000000   \n",
       "50%      78.000000    78.000000    78.000000    78.000000    78.000000   \n",
       "75%     107.000000   107.000000   107.000000   107.000000   107.000000   \n",
       "max     462.000000   462.000000   462.000000   462.000000   462.000000   \n",
       "\n",
       "            lag_13      lag_14       lag_15  rolling_mean  \n",
       "count  4403.000000  4402.00000  4401.000000   4407.000000  \n",
       "mean     84.168749    84.14448    84.117473     84.320198  \n",
       "std      44.807630    44.78377    44.752994     30.263125  \n",
       "min       0.000000     0.00000     0.000000     25.888889  \n",
       "25%      54.000000    54.00000    54.000000     62.555556  \n",
       "50%      78.000000    78.00000    78.000000     79.888889  \n",
       "75%     107.000000   107.00000   107.000000    101.111111  \n",
       "max     462.000000   462.00000   462.000000    223.111111  "
      ]
     },
     "execution_count": 18,
     "metadata": {},
     "output_type": "execute_result"
    }
   ],
   "source": [
    "df.describe()"
   ]
  },
  {
   "cell_type": "code",
   "execution_count": 19,
   "metadata": {},
   "outputs": [
    {
     "data": {
      "text/html": [
       "<div>\n",
       "<style scoped>\n",
       "    .dataframe tbody tr th:only-of-type {\n",
       "        vertical-align: middle;\n",
       "    }\n",
       "\n",
       "    .dataframe tbody tr th {\n",
       "        vertical-align: top;\n",
       "    }\n",
       "\n",
       "    .dataframe thead th {\n",
       "        text-align: right;\n",
       "    }\n",
       "</style>\n",
       "<table border=\"1\" class=\"dataframe\">\n",
       "  <thead>\n",
       "    <tr style=\"text-align: right;\">\n",
       "      <th></th>\n",
       "      <th>num_orders</th>\n",
       "      <th>dayofweek</th>\n",
       "      <th>hour</th>\n",
       "      <th>lag_1</th>\n",
       "      <th>lag_2</th>\n",
       "      <th>lag_3</th>\n",
       "      <th>lag_4</th>\n",
       "      <th>lag_5</th>\n",
       "      <th>lag_6</th>\n",
       "      <th>lag_7</th>\n",
       "      <th>lag_8</th>\n",
       "      <th>lag_9</th>\n",
       "      <th>lag_10</th>\n",
       "      <th>lag_11</th>\n",
       "      <th>lag_12</th>\n",
       "      <th>lag_13</th>\n",
       "      <th>lag_14</th>\n",
       "      <th>lag_15</th>\n",
       "      <th>rolling_mean</th>\n",
       "    </tr>\n",
       "    <tr>\n",
       "      <th>datetime</th>\n",
       "      <th></th>\n",
       "      <th></th>\n",
       "      <th></th>\n",
       "      <th></th>\n",
       "      <th></th>\n",
       "      <th></th>\n",
       "      <th></th>\n",
       "      <th></th>\n",
       "      <th></th>\n",
       "      <th></th>\n",
       "      <th></th>\n",
       "      <th></th>\n",
       "      <th></th>\n",
       "      <th></th>\n",
       "      <th></th>\n",
       "      <th></th>\n",
       "      <th></th>\n",
       "      <th></th>\n",
       "      <th></th>\n",
       "    </tr>\n",
       "  </thead>\n",
       "  <tbody>\n",
       "    <tr>\n",
       "      <th>2018-03-01 00:00:00</th>\n",
       "      <td>124</td>\n",
       "      <td>3</td>\n",
       "      <td>0</td>\n",
       "      <td>NaN</td>\n",
       "      <td>NaN</td>\n",
       "      <td>NaN</td>\n",
       "      <td>NaN</td>\n",
       "      <td>NaN</td>\n",
       "      <td>NaN</td>\n",
       "      <td>NaN</td>\n",
       "      <td>NaN</td>\n",
       "      <td>NaN</td>\n",
       "      <td>NaN</td>\n",
       "      <td>NaN</td>\n",
       "      <td>NaN</td>\n",
       "      <td>NaN</td>\n",
       "      <td>NaN</td>\n",
       "      <td>NaN</td>\n",
       "      <td>NaN</td>\n",
       "    </tr>\n",
       "    <tr>\n",
       "      <th>2018-03-01 01:00:00</th>\n",
       "      <td>85</td>\n",
       "      <td>3</td>\n",
       "      <td>1</td>\n",
       "      <td>124.0</td>\n",
       "      <td>NaN</td>\n",
       "      <td>NaN</td>\n",
       "      <td>NaN</td>\n",
       "      <td>NaN</td>\n",
       "      <td>NaN</td>\n",
       "      <td>NaN</td>\n",
       "      <td>NaN</td>\n",
       "      <td>NaN</td>\n",
       "      <td>NaN</td>\n",
       "      <td>NaN</td>\n",
       "      <td>NaN</td>\n",
       "      <td>NaN</td>\n",
       "      <td>NaN</td>\n",
       "      <td>NaN</td>\n",
       "      <td>NaN</td>\n",
       "    </tr>\n",
       "    <tr>\n",
       "      <th>2018-03-01 02:00:00</th>\n",
       "      <td>71</td>\n",
       "      <td>3</td>\n",
       "      <td>2</td>\n",
       "      <td>85.0</td>\n",
       "      <td>124.0</td>\n",
       "      <td>NaN</td>\n",
       "      <td>NaN</td>\n",
       "      <td>NaN</td>\n",
       "      <td>NaN</td>\n",
       "      <td>NaN</td>\n",
       "      <td>NaN</td>\n",
       "      <td>NaN</td>\n",
       "      <td>NaN</td>\n",
       "      <td>NaN</td>\n",
       "      <td>NaN</td>\n",
       "      <td>NaN</td>\n",
       "      <td>NaN</td>\n",
       "      <td>NaN</td>\n",
       "      <td>NaN</td>\n",
       "    </tr>\n",
       "    <tr>\n",
       "      <th>2018-03-01 03:00:00</th>\n",
       "      <td>66</td>\n",
       "      <td>3</td>\n",
       "      <td>3</td>\n",
       "      <td>71.0</td>\n",
       "      <td>85.0</td>\n",
       "      <td>124.0</td>\n",
       "      <td>NaN</td>\n",
       "      <td>NaN</td>\n",
       "      <td>NaN</td>\n",
       "      <td>NaN</td>\n",
       "      <td>NaN</td>\n",
       "      <td>NaN</td>\n",
       "      <td>NaN</td>\n",
       "      <td>NaN</td>\n",
       "      <td>NaN</td>\n",
       "      <td>NaN</td>\n",
       "      <td>NaN</td>\n",
       "      <td>NaN</td>\n",
       "      <td>NaN</td>\n",
       "    </tr>\n",
       "    <tr>\n",
       "      <th>2018-03-01 04:00:00</th>\n",
       "      <td>43</td>\n",
       "      <td>3</td>\n",
       "      <td>4</td>\n",
       "      <td>66.0</td>\n",
       "      <td>71.0</td>\n",
       "      <td>85.0</td>\n",
       "      <td>124.0</td>\n",
       "      <td>NaN</td>\n",
       "      <td>NaN</td>\n",
       "      <td>NaN</td>\n",
       "      <td>NaN</td>\n",
       "      <td>NaN</td>\n",
       "      <td>NaN</td>\n",
       "      <td>NaN</td>\n",
       "      <td>NaN</td>\n",
       "      <td>NaN</td>\n",
       "      <td>NaN</td>\n",
       "      <td>NaN</td>\n",
       "      <td>NaN</td>\n",
       "    </tr>\n",
       "  </tbody>\n",
       "</table>\n",
       "</div>"
      ],
      "text/plain": [
       "                     num_orders  dayofweek  hour  lag_1  lag_2  lag_3  lag_4  \\\n",
       "datetime                                                                       \n",
       "2018-03-01 00:00:00         124          3     0    NaN    NaN    NaN    NaN   \n",
       "2018-03-01 01:00:00          85          3     1  124.0    NaN    NaN    NaN   \n",
       "2018-03-01 02:00:00          71          3     2   85.0  124.0    NaN    NaN   \n",
       "2018-03-01 03:00:00          66          3     3   71.0   85.0  124.0    NaN   \n",
       "2018-03-01 04:00:00          43          3     4   66.0   71.0   85.0  124.0   \n",
       "\n",
       "                     lag_5  lag_6  lag_7  lag_8  lag_9  lag_10  lag_11  \\\n",
       "datetime                                                                 \n",
       "2018-03-01 00:00:00    NaN    NaN    NaN    NaN    NaN     NaN     NaN   \n",
       "2018-03-01 01:00:00    NaN    NaN    NaN    NaN    NaN     NaN     NaN   \n",
       "2018-03-01 02:00:00    NaN    NaN    NaN    NaN    NaN     NaN     NaN   \n",
       "2018-03-01 03:00:00    NaN    NaN    NaN    NaN    NaN     NaN     NaN   \n",
       "2018-03-01 04:00:00    NaN    NaN    NaN    NaN    NaN     NaN     NaN   \n",
       "\n",
       "                     lag_12  lag_13  lag_14  lag_15  rolling_mean  \n",
       "datetime                                                           \n",
       "2018-03-01 00:00:00     NaN     NaN     NaN     NaN           NaN  \n",
       "2018-03-01 01:00:00     NaN     NaN     NaN     NaN           NaN  \n",
       "2018-03-01 02:00:00     NaN     NaN     NaN     NaN           NaN  \n",
       "2018-03-01 03:00:00     NaN     NaN     NaN     NaN           NaN  \n",
       "2018-03-01 04:00:00     NaN     NaN     NaN     NaN           NaN  "
      ]
     },
     "execution_count": 19,
     "metadata": {},
     "output_type": "execute_result"
    }
   ],
   "source": [
    "df.head()"
   ]
  },
  {
   "cell_type": "code",
   "execution_count": 20,
   "metadata": {},
   "outputs": [],
   "source": [
    "# Разделение на тренировочную и тестовую выборки\n",
    "train, test = train_test_split(df, test_size=0.1, shuffle=False)\n",
    "\n",
    "# Разделение на вариационную и тестовую выборки\n",
    "train, val = train_test_split(train, test_size=0.2, shuffle=False)\n",
    "\n",
    "train = train.dropna()"
   ]
  },
  {
   "cell_type": "code",
   "execution_count": 21,
   "metadata": {},
   "outputs": [],
   "source": [
    "#Определим признаки и целевой признак у обучающей и тестовой выборк\n",
    "features_train = train.drop(['num_orders'], axis=1)\n",
    "target_train = train['num_orders']\n",
    "\n",
    "features_test = test.drop(['num_orders'],axis=1)\n",
    "target_test = test['num_orders']\n",
    "\n",
    "features_valid = val.drop(['num_orders'],axis=1)\n",
    "target_valid = val['num_orders']"
   ]
  },
  {
   "cell_type": "code",
   "execution_count": 22,
   "metadata": {},
   "outputs": [
    {
     "name": "stdout",
     "output_type": "stream",
     "text": [
      "Обучающая выборка: 2018-07-11 11:00:00 2018-08-13 13:00:00\n",
      "Тестовая выборка: 2018-08-13 14:00:00 2018-08-31 23:00:00\n"
     ]
    }
   ],
   "source": [
    "#Проверка выборок. Нужно чтобы данные из тестовой выборки не попали в обучающую\n",
    "print('Обучающая выборка:',val.index.min(), val.index.max())\n",
    "print('Тестовая выборка:',test.index.min(), test.index.max())"
   ]
  },
  {
   "cell_type": "code",
   "execution_count": 23,
   "metadata": {},
   "outputs": [
    {
     "name": "stdout",
     "output_type": "stream",
     "text": [
      "Размер обучающей выборки: 3164 объектов, 18 признаков\n",
      "Размер валидационной выборки: 795 объектов, 18 признаков\n",
      "Размер тестовой выборки: 442 объектов, 18 признаков\n"
     ]
    }
   ],
   "source": [
    "#Проверим размеры обучающей и тестовой выборки\n",
    "print('Размер обучающей выборки: {} объектов, {} признаков'.format(features_train.shape[0], features_train.shape[1]))\n",
    "print('Размер валидационной выборки: {} объектов, {} признаков'.format(features_valid.shape[0], features_valid.shape[1]))\n",
    "print('Размер тестовой выборки: {} объектов, {} признаков'.format(features_test.shape[0], features_test.shape[1]))"
   ]
  },
  {
   "cell_type": "markdown",
   "metadata": {},
   "source": [
    "Обучим модель **Линейная регрессия**"
   ]
  },
  {
   "cell_type": "code",
   "execution_count": 24,
   "metadata": {},
   "outputs": [],
   "source": [
    "#Создадим список для добавления показателей и названия моделей тестирования\n",
    "train_models = []"
   ]
  },
  {
   "cell_type": "code",
   "execution_count": 25,
   "metadata": {},
   "outputs": [],
   "source": [
    "model_lr = LinearRegression()"
   ]
  },
  {
   "cell_type": "code",
   "execution_count": 26,
   "metadata": {},
   "outputs": [
    {
     "name": "stdout",
     "output_type": "stream",
     "text": [
      "RMSE: 40.07626232392417\n"
     ]
    }
   ],
   "source": [
    "model_lr.fit(features_train,target_train)\n",
    "lr_predictions = model_lr.predict(features_valid)\n",
    "rmse_lr = mse(target_valid, lr_predictions, squared=False)\n",
    "print('RMSE:', rmse_lr)"
   ]
  },
  {
   "cell_type": "code",
   "execution_count": 27,
   "metadata": {},
   "outputs": [],
   "source": [
    "train_models.append(['LinearRegression', rmse_lr])"
   ]
  },
  {
   "cell_type": "markdown",
   "metadata": {},
   "source": [
    "Обучим модель **CatBoost**"
   ]
  },
  {
   "cell_type": "code",
   "execution_count": 28,
   "metadata": {},
   "outputs": [],
   "source": [
    "model_cat = CatBoostRegressor(verbose=False)"
   ]
  },
  {
   "cell_type": "code",
   "execution_count": 29,
   "metadata": {},
   "outputs": [
    {
     "name": "stdout",
     "output_type": "stream",
     "text": [
      "RMSE: 30.94126243025935\n",
      "CPU times: user 3.56 s, sys: 176 ms, total: 3.74 s\n",
      "Wall time: 4.61 s\n"
     ]
    }
   ],
   "source": [
    "%%time\n",
    "model_cat.fit(features_train, target_train, verbose=False)\n",
    "cat_predictions = model_cat.predict(features_valid)\n",
    "rmse_cat = mse(target_valid, cat_predictions, squared=False)\n",
    "print('RMSE:', rmse_cat)"
   ]
  },
  {
   "cell_type": "code",
   "execution_count": 30,
   "metadata": {},
   "outputs": [
    {
     "data": {
      "text/plain": [
       "{'depth': 6, 'iterations': 1000, 'l2_leaf_reg': 1, 'learning_rate': 0.03}"
      ]
     },
     "execution_count": 30,
     "metadata": {},
     "output_type": "execute_result"
    }
   ],
   "source": [
    "parameters_cb = {'iterations': [1000],\n",
    "        'learning_rate': [0.03, 0.1],\n",
    "        'depth': [6, 8],\n",
    "        'l2_leaf_reg': [1, 3]\n",
    "              }\n",
    "\n",
    "tscv = TimeSeriesSplit(n_splits = 4)\n",
    "\n",
    "model_CBR = CatBoostRegressor(logging_level='Silent')\n",
    "cb_model = GridSearchCV(estimator = model_CBR, param_grid = parameters_cb,cv = tscv, scoring = 'neg_mean_squared_error', verbose = False)\n",
    "cb_model.fit(features_train, target_train)\n",
    "cb_model.best_params_"
   ]
  },
  {
   "cell_type": "code",
   "execution_count": 31,
   "metadata": {},
   "outputs": [],
   "source": [
    "cb_tuned = CatBoostRegressor(**cb_model.best_params_, logging_level='Silent').fit(features_train, target_train)"
   ]
  },
  {
   "cell_type": "code",
   "execution_count": 32,
   "metadata": {},
   "outputs": [],
   "source": [
    "y_pred_cat = cb_tuned.predict(features_valid)"
   ]
  },
  {
   "cell_type": "code",
   "execution_count": 33,
   "metadata": {},
   "outputs": [
    {
     "name": "stdout",
     "output_type": "stream",
     "text": [
      "RMSE: 30.90\n"
     ]
    }
   ],
   "source": [
    "cbr_rmse = np.sqrt(mse(target_valid, y_pred_cat))\n",
    "print(\"RMSE: %.2f\" % cbr_rmse)"
   ]
  },
  {
   "cell_type": "code",
   "execution_count": 34,
   "metadata": {},
   "outputs": [],
   "source": [
    "train_models.append(['CatBoostRegressor', cbr_rmse])"
   ]
  },
  {
   "cell_type": "markdown",
   "metadata": {},
   "source": [
    "Обучим модель **LightGBM**"
   ]
  },
  {
   "cell_type": "code",
   "execution_count": 35,
   "metadata": {},
   "outputs": [],
   "source": [
    "model_lgb = LGBMRegressor()"
   ]
  },
  {
   "cell_type": "code",
   "execution_count": 36,
   "metadata": {},
   "outputs": [
    {
     "name": "stdout",
     "output_type": "stream",
     "text": [
      "RMSE: 31.151738819499577\n",
      "CPU times: user 4min 44s, sys: 3.76 s, total: 4min 48s\n",
      "Wall time: 4min 50s\n"
     ]
    }
   ],
   "source": [
    "%%time\n",
    "model_lgb.fit(features_train, target_train, verbose=False)\n",
    "lgb_predictions = model_lgb.predict(features_valid)\n",
    "rmse_lgb = mse(target_valid, lgb_predictions, squared=False)\n",
    "print('RMSE:', rmse_lgb)"
   ]
  },
  {
   "cell_type": "code",
   "execution_count": 37,
   "metadata": {},
   "outputs": [
    {
     "name": "stdout",
     "output_type": "stream",
     "text": [
      "Fitting 4 folds for each of 6 candidates, totalling 24 fits\n",
      "CPU times: user 57min 39s, sys: 44 s, total: 58min 23s\n",
      "Wall time: 58min 42s\n"
     ]
    },
    {
     "data": {
      "text/plain": [
       "{'max_depth': 4, 'n_estimators': 100}"
      ]
     },
     "execution_count": 37,
     "metadata": {},
     "output_type": "execute_result"
    }
   ],
   "source": [
    "%%time\n",
    "lgbm_params = {\"n_estimators\": [100, 200],\n",
    "               \"max_depth\": [2, 4, 6]\n",
    "              }\n",
    "\n",
    "tscv = TimeSeriesSplit(n_splits = 4)\n",
    "\n",
    "lgbm_cv_model = GridSearchCV(model_lgb,\n",
    "                             lgbm_params,\n",
    "                             cv=tscv,\n",
    "                             scoring = 'neg_mean_squared_error',\n",
    "                             verbose=True).fit(features_train, target_train)\n",
    "\n",
    "lgbm_cv_model.best_params_"
   ]
  },
  {
   "cell_type": "code",
   "execution_count": 38,
   "metadata": {},
   "outputs": [
    {
     "name": "stdout",
     "output_type": "stream",
     "text": [
      "CPU times: user 1min 38s, sys: 1.14 s, total: 1min 39s\n",
      "Wall time: 1min 40s\n"
     ]
    }
   ],
   "source": [
    "%%time\n",
    "lgbm_tuned = LGBMRegressor(**lgbm_cv_model.best_params_).fit(features_train, target_train)"
   ]
  },
  {
   "cell_type": "code",
   "execution_count": 39,
   "metadata": {},
   "outputs": [
    {
     "name": "stdout",
     "output_type": "stream",
     "text": [
      "CPU times: user 40.7 ms, sys: 0 ns, total: 40.7 ms\n",
      "Wall time: 10.1 ms\n"
     ]
    }
   ],
   "source": [
    "%%time\n",
    "y_pred = lgbm_tuned.predict(features_valid)"
   ]
  },
  {
   "cell_type": "code",
   "execution_count": 40,
   "metadata": {},
   "outputs": [
    {
     "name": "stdout",
     "output_type": "stream",
     "text": [
      "RMSE: 31.21\n"
     ]
    }
   ],
   "source": [
    "rmse_lgb = np.sqrt(mse(target_valid, y_pred))\n",
    "print(\"RMSE: %.2f\" % rmse_lgb)"
   ]
  },
  {
   "cell_type": "code",
   "execution_count": 41,
   "metadata": {},
   "outputs": [],
   "source": [
    "train_models.append(['LGBMRegressor', rmse_lgb])"
   ]
  },
  {
   "cell_type": "markdown",
   "metadata": {},
   "source": [
    "**Промежуточный вывод по обучению моделей:**"
   ]
  },
  {
   "cell_type": "code",
   "execution_count": 42,
   "metadata": {},
   "outputs": [
    {
     "data": {
      "text/html": [
       "<div>\n",
       "<style scoped>\n",
       "    .dataframe tbody tr th:only-of-type {\n",
       "        vertical-align: middle;\n",
       "    }\n",
       "\n",
       "    .dataframe tbody tr th {\n",
       "        vertical-align: top;\n",
       "    }\n",
       "\n",
       "    .dataframe thead th {\n",
       "        text-align: right;\n",
       "    }\n",
       "</style>\n",
       "<table border=\"1\" class=\"dataframe\">\n",
       "  <thead>\n",
       "    <tr style=\"text-align: right;\">\n",
       "      <th></th>\n",
       "      <th>model</th>\n",
       "      <th>rmse_train</th>\n",
       "    </tr>\n",
       "  </thead>\n",
       "  <tbody>\n",
       "    <tr>\n",
       "      <th>1</th>\n",
       "      <td>CatBoostRegressor</td>\n",
       "      <td>30.902941</td>\n",
       "    </tr>\n",
       "    <tr>\n",
       "      <th>2</th>\n",
       "      <td>LGBMRegressor</td>\n",
       "      <td>31.213988</td>\n",
       "    </tr>\n",
       "    <tr>\n",
       "      <th>0</th>\n",
       "      <td>LinearRegression</td>\n",
       "      <td>40.076262</td>\n",
       "    </tr>\n",
       "  </tbody>\n",
       "</table>\n",
       "</div>"
      ],
      "text/plain": [
       "               model  rmse_train\n",
       "1  CatBoostRegressor   30.902941\n",
       "2      LGBMRegressor   31.213988\n",
       "0   LinearRegression   40.076262"
      ]
     },
     "metadata": {},
     "output_type": "display_data"
    }
   ],
   "source": [
    "result_edu = pd.DataFrame(train_models, columns=['model', 'rmse_train'])\n",
    "display(result_edu.sort_values(by='rmse_train'))"
   ]
  },
  {
   "cell_type": "markdown",
   "metadata": {},
   "source": [
    "- Модели LightGBM и CatBoost на базовых параметрах демонстрируют лучшие значения для метрики RMSE.\n",
    "- Наименьшее RMSE у улучшеной модели CatBoostRegressor - значит тестировать будем эту модель."
   ]
  },
  {
   "cell_type": "markdown",
   "metadata": {},
   "source": [
    "## Тестирование"
   ]
  },
  {
   "cell_type": "markdown",
   "metadata": {},
   "source": [
    "Обучим CatBoostRegressor, а затем измерим качество на объединении треина и валидации"
   ]
  },
  {
   "cell_type": "code",
   "execution_count": 47,
   "metadata": {},
   "outputs": [],
   "source": [
    "features_train = features_train.append(features_valid, ignore_index=True)\n",
    "target_train = target_train.append(target_valid, ignore_index=True)"
   ]
  },
  {
   "cell_type": "code",
   "execution_count": 48,
   "metadata": {},
   "outputs": [],
   "source": [
    "model_cat_final = CatBoostRegressor(n_estimators = 100,max_depth = 4,random_state = 12214)"
   ]
  },
  {
   "cell_type": "code",
   "execution_count": 49,
   "metadata": {},
   "outputs": [
    {
     "name": "stdout",
     "output_type": "stream",
     "text": [
      "Learning rate set to 0.34053\n",
      "0:\tlearn: 35.9131210\ttotal: 3.07ms\tremaining: 304ms\n",
      "1:\tlearn: 33.1708259\ttotal: 5.89ms\tremaining: 289ms\n",
      "2:\tlearn: 30.3504801\ttotal: 8.72ms\tremaining: 282ms\n",
      "3:\tlearn: 29.1517085\ttotal: 11.6ms\tremaining: 278ms\n",
      "4:\tlearn: 27.9216461\ttotal: 14.2ms\tremaining: 271ms\n",
      "5:\tlearn: 27.1399293\ttotal: 17.3ms\tremaining: 271ms\n",
      "6:\tlearn: 26.6494548\ttotal: 20.3ms\tremaining: 270ms\n",
      "7:\tlearn: 26.2020908\ttotal: 23.3ms\tremaining: 268ms\n",
      "8:\tlearn: 25.9065187\ttotal: 26.1ms\tremaining: 264ms\n",
      "9:\tlearn: 25.5959573\ttotal: 28.8ms\tremaining: 260ms\n",
      "10:\tlearn: 25.4747541\ttotal: 31.9ms\tremaining: 258ms\n",
      "11:\tlearn: 25.3364381\ttotal: 34.7ms\tremaining: 255ms\n",
      "12:\tlearn: 24.7321189\ttotal: 37.1ms\tremaining: 248ms\n",
      "13:\tlearn: 24.4970998\ttotal: 39.7ms\tremaining: 244ms\n",
      "14:\tlearn: 24.3109837\ttotal: 42.3ms\tremaining: 240ms\n",
      "15:\tlearn: 24.1563689\ttotal: 44.9ms\tremaining: 236ms\n",
      "16:\tlearn: 23.8652468\ttotal: 46.7ms\tremaining: 228ms\n",
      "17:\tlearn: 23.7092182\ttotal: 48.7ms\tremaining: 222ms\n",
      "18:\tlearn: 23.4929786\ttotal: 51.8ms\tremaining: 221ms\n",
      "19:\tlearn: 23.3982517\ttotal: 54.4ms\tremaining: 218ms\n",
      "20:\tlearn: 23.2773402\ttotal: 57.4ms\tremaining: 216ms\n",
      "21:\tlearn: 23.1834556\ttotal: 60.4ms\tremaining: 214ms\n",
      "22:\tlearn: 23.0189662\ttotal: 63.2ms\tremaining: 212ms\n",
      "23:\tlearn: 22.8618351\ttotal: 66.2ms\tremaining: 210ms\n",
      "24:\tlearn: 22.7242180\ttotal: 68.7ms\tremaining: 206ms\n",
      "25:\tlearn: 22.6354910\ttotal: 71.2ms\tremaining: 203ms\n",
      "26:\tlearn: 22.5553216\ttotal: 73.8ms\tremaining: 200ms\n",
      "27:\tlearn: 22.4302114\ttotal: 76.6ms\tremaining: 197ms\n",
      "28:\tlearn: 22.3336141\ttotal: 79.3ms\tremaining: 194ms\n",
      "29:\tlearn: 22.2369468\ttotal: 81.8ms\tremaining: 191ms\n",
      "30:\tlearn: 22.0662934\ttotal: 84.7ms\tremaining: 188ms\n",
      "31:\tlearn: 21.9774702\ttotal: 86.6ms\tremaining: 184ms\n",
      "32:\tlearn: 21.8333190\ttotal: 88.8ms\tremaining: 180ms\n",
      "33:\tlearn: 21.7721679\ttotal: 91.3ms\tremaining: 177ms\n",
      "34:\tlearn: 21.6377623\ttotal: 94.2ms\tremaining: 175ms\n",
      "35:\tlearn: 21.6131339\ttotal: 97ms\tremaining: 172ms\n",
      "36:\tlearn: 21.5320670\ttotal: 99.9ms\tremaining: 170ms\n",
      "37:\tlearn: 21.4251030\ttotal: 103ms\tremaining: 168ms\n",
      "38:\tlearn: 21.3407847\ttotal: 106ms\tremaining: 166ms\n",
      "39:\tlearn: 21.1957270\ttotal: 109ms\tremaining: 163ms\n",
      "40:\tlearn: 21.0464302\ttotal: 112ms\tremaining: 161ms\n",
      "41:\tlearn: 20.9313551\ttotal: 115ms\tremaining: 159ms\n",
      "42:\tlearn: 20.8723901\ttotal: 118ms\tremaining: 156ms\n",
      "43:\tlearn: 20.7580722\ttotal: 120ms\tremaining: 153ms\n",
      "44:\tlearn: 20.6526284\ttotal: 123ms\tremaining: 151ms\n",
      "45:\tlearn: 20.5720199\ttotal: 126ms\tremaining: 148ms\n",
      "46:\tlearn: 20.4949522\ttotal: 129ms\tremaining: 145ms\n",
      "47:\tlearn: 20.4067883\ttotal: 131ms\tremaining: 142ms\n",
      "48:\tlearn: 20.3503494\ttotal: 134ms\tremaining: 139ms\n",
      "49:\tlearn: 20.2923686\ttotal: 136ms\tremaining: 136ms\n",
      "50:\tlearn: 20.2163038\ttotal: 140ms\tremaining: 134ms\n",
      "51:\tlearn: 20.1439957\ttotal: 143ms\tremaining: 132ms\n",
      "52:\tlearn: 20.0467805\ttotal: 146ms\tremaining: 129ms\n",
      "53:\tlearn: 20.0156729\ttotal: 149ms\tremaining: 127ms\n",
      "54:\tlearn: 19.9875156\ttotal: 151ms\tremaining: 124ms\n",
      "55:\tlearn: 19.9295292\ttotal: 154ms\tremaining: 121ms\n",
      "56:\tlearn: 19.8661392\ttotal: 157ms\tremaining: 118ms\n",
      "57:\tlearn: 19.7808520\ttotal: 160ms\tremaining: 116ms\n",
      "58:\tlearn: 19.7268944\ttotal: 163ms\tremaining: 113ms\n",
      "59:\tlearn: 19.6645657\ttotal: 166ms\tremaining: 110ms\n",
      "60:\tlearn: 19.5743420\ttotal: 168ms\tremaining: 108ms\n",
      "61:\tlearn: 19.5063096\ttotal: 171ms\tremaining: 105ms\n",
      "62:\tlearn: 19.4304897\ttotal: 174ms\tremaining: 102ms\n",
      "63:\tlearn: 19.3561663\ttotal: 176ms\tremaining: 99ms\n",
      "64:\tlearn: 19.3077129\ttotal: 179ms\tremaining: 96.2ms\n",
      "65:\tlearn: 19.2608634\ttotal: 182ms\tremaining: 93.6ms\n",
      "66:\tlearn: 19.2081794\ttotal: 185ms\tremaining: 91.1ms\n",
      "67:\tlearn: 19.1248394\ttotal: 187ms\tremaining: 87.9ms\n",
      "68:\tlearn: 19.0799914\ttotal: 190ms\tremaining: 85.1ms\n",
      "69:\tlearn: 19.0339960\ttotal: 191ms\tremaining: 82ms\n",
      "70:\tlearn: 18.9716756\ttotal: 194ms\tremaining: 79.2ms\n",
      "71:\tlearn: 18.9288414\ttotal: 196ms\tremaining: 76.3ms\n",
      "72:\tlearn: 18.8860968\ttotal: 198ms\tremaining: 73.4ms\n",
      "73:\tlearn: 18.8368960\ttotal: 201ms\tremaining: 70.6ms\n",
      "74:\tlearn: 18.7676480\ttotal: 204ms\tremaining: 67.9ms\n",
      "75:\tlearn: 18.7022004\ttotal: 206ms\tremaining: 65.2ms\n",
      "76:\tlearn: 18.6631663\ttotal: 209ms\tremaining: 62.5ms\n",
      "77:\tlearn: 18.6314256\ttotal: 212ms\tremaining: 59.7ms\n",
      "78:\tlearn: 18.5734772\ttotal: 213ms\tremaining: 56.8ms\n",
      "79:\tlearn: 18.4944568\ttotal: 215ms\tremaining: 53.9ms\n",
      "80:\tlearn: 18.4365285\ttotal: 218ms\tremaining: 51ms\n",
      "81:\tlearn: 18.3685312\ttotal: 220ms\tremaining: 48.3ms\n",
      "82:\tlearn: 18.3088438\ttotal: 223ms\tremaining: 45.6ms\n",
      "83:\tlearn: 18.2678980\ttotal: 225ms\tremaining: 42.8ms\n",
      "84:\tlearn: 18.2241525\ttotal: 227ms\tremaining: 40.1ms\n",
      "85:\tlearn: 18.1771710\ttotal: 230ms\tremaining: 37.5ms\n",
      "86:\tlearn: 18.1008399\ttotal: 233ms\tremaining: 34.8ms\n",
      "87:\tlearn: 18.0564892\ttotal: 235ms\tremaining: 32.1ms\n",
      "88:\tlearn: 18.0177034\ttotal: 238ms\tremaining: 29.4ms\n",
      "89:\tlearn: 17.9684232\ttotal: 240ms\tremaining: 26.7ms\n",
      "90:\tlearn: 17.8915086\ttotal: 243ms\tremaining: 24.1ms\n",
      "91:\tlearn: 17.7997611\ttotal: 246ms\tremaining: 21.4ms\n",
      "92:\tlearn: 17.7931512\ttotal: 249ms\tremaining: 18.7ms\n",
      "93:\tlearn: 17.7561489\ttotal: 251ms\tremaining: 16ms\n",
      "94:\tlearn: 17.7047762\ttotal: 254ms\tremaining: 13.4ms\n",
      "95:\tlearn: 17.6488014\ttotal: 257ms\tremaining: 10.7ms\n",
      "96:\tlearn: 17.6142945\ttotal: 259ms\tremaining: 8.02ms\n",
      "97:\tlearn: 17.5935487\ttotal: 261ms\tremaining: 5.34ms\n",
      "98:\tlearn: 17.5528606\ttotal: 264ms\tremaining: 2.66ms\n",
      "99:\tlearn: 17.5442251\ttotal: 265ms\tremaining: 0us\n",
      "CPU times: user 310 ms, sys: 7.95 ms, total: 318 ms\n",
      "Wall time: 1.14 s\n"
     ]
    },
    {
     "data": {
      "text/plain": [
       "<catboost.core.CatBoostRegressor at 0x7fe355700730>"
      ]
     },
     "execution_count": 49,
     "metadata": {},
     "output_type": "execute_result"
    }
   ],
   "source": [
    "%%time\n",
    "model_cat_final.fit(features_train, target_train, verbose=True)"
   ]
  },
  {
   "cell_type": "code",
   "execution_count": 50,
   "metadata": {},
   "outputs": [
    {
     "name": "stdout",
     "output_type": "stream",
     "text": [
      "RMSE: 42.12431101547383\n"
     ]
    }
   ],
   "source": [
    "final_pred = model_cat_final.predict(features_test)\n",
    "rmse_cat_final = mse(target_test, final_pred, squared=False)\n",
    "print('RMSE:', rmse_cat_final)"
   ]
  },
  {
   "cell_type": "markdown",
   "metadata": {},
   "source": [
    "**Вывод:**\n",
    "\n",
    "- Итоговая метрика RMSE для модели CatBoostRegressor - 42.12431101547383\n",
    "\n",
    "Это соостветвует качеству финальной метрики"
   ]
  }
 ],
 "metadata": {
  "ExecuteTimeLog": [
   {
    "duration": 1526,
    "start_time": "2023-04-02T06:58:28.218Z"
   },
   {
    "duration": 82,
    "start_time": "2023-04-02T06:58:29.746Z"
   },
   {
    "duration": 86,
    "start_time": "2023-04-02T06:58:32.409Z"
   },
   {
    "duration": 3,
    "start_time": "2023-04-02T07:01:21.429Z"
   },
   {
    "duration": 30,
    "start_time": "2023-04-02T07:01:39.249Z"
   },
   {
    "duration": 68,
    "start_time": "2023-04-02T07:05:53.380Z"
   },
   {
    "duration": 3,
    "start_time": "2023-04-02T07:05:53.695Z"
   },
   {
    "duration": 28,
    "start_time": "2023-04-02T07:05:54.092Z"
   },
   {
    "duration": 8,
    "start_time": "2023-04-02T07:06:05.554Z"
   },
   {
    "duration": 111,
    "start_time": "2023-04-02T07:06:36.800Z"
   },
   {
    "duration": 78,
    "start_time": "2023-04-02T07:07:49.373Z"
   },
   {
    "duration": 3,
    "start_time": "2023-04-02T07:07:50.177Z"
   },
   {
    "duration": 21,
    "start_time": "2023-04-02T07:07:50.768Z"
   },
   {
    "duration": 6,
    "start_time": "2023-04-02T07:08:04.348Z"
   },
   {
    "duration": 6,
    "start_time": "2023-04-02T07:08:06.293Z"
   },
   {
    "duration": 4,
    "start_time": "2023-04-02T07:11:13.978Z"
   },
   {
    "duration": 3,
    "start_time": "2023-04-02T07:14:11.228Z"
   },
   {
    "duration": 6,
    "start_time": "2023-04-02T07:14:11.994Z"
   },
   {
    "duration": 185,
    "start_time": "2023-04-02T07:14:28.787Z"
   },
   {
    "duration": 3,
    "start_time": "2023-04-02T07:14:42.697Z"
   },
   {
    "duration": 8,
    "start_time": "2023-04-02T07:14:43.753Z"
   },
   {
    "duration": 10,
    "start_time": "2023-04-02T07:14:44.201Z"
   },
   {
    "duration": 24,
    "start_time": "2023-04-02T07:14:50.228Z"
   },
   {
    "duration": 3,
    "start_time": "2023-04-02T07:14:55.748Z"
   },
   {
    "duration": 7,
    "start_time": "2023-04-02T07:14:56.604Z"
   },
   {
    "duration": 3,
    "start_time": "2023-04-02T07:14:57.105Z"
   },
   {
    "duration": 337,
    "start_time": "2023-04-02T07:14:58.063Z"
   },
   {
    "duration": 3,
    "start_time": "2023-04-02T07:15:11.689Z"
   },
   {
    "duration": 304,
    "start_time": "2023-04-02T07:15:13.875Z"
   },
   {
    "duration": 270,
    "start_time": "2023-04-02T07:16:19.379Z"
   },
   {
    "duration": 275,
    "start_time": "2023-04-02T07:16:29.328Z"
   },
   {
    "duration": 288,
    "start_time": "2023-04-02T07:16:35.087Z"
   },
   {
    "duration": 362,
    "start_time": "2023-04-02T07:16:44.257Z"
   },
   {
    "duration": 279,
    "start_time": "2023-04-02T07:16:48.867Z"
   },
   {
    "duration": 256,
    "start_time": "2023-04-02T07:17:29.530Z"
   },
   {
    "duration": 171,
    "start_time": "2023-04-02T07:17:51.375Z"
   },
   {
    "duration": 134,
    "start_time": "2023-04-02T07:17:59.720Z"
   },
   {
    "duration": 149,
    "start_time": "2023-04-02T07:18:04.122Z"
   },
   {
    "duration": 170,
    "start_time": "2023-04-02T07:18:07.511Z"
   },
   {
    "duration": 3,
    "start_time": "2023-04-02T07:19:18.067Z"
   },
   {
    "duration": 7,
    "start_time": "2023-04-02T07:19:19.305Z"
   },
   {
    "duration": 3,
    "start_time": "2023-04-02T07:19:19.711Z"
   },
   {
    "duration": 269,
    "start_time": "2023-04-02T07:19:20.203Z"
   },
   {
    "duration": 179,
    "start_time": "2023-04-02T07:19:49.489Z"
   },
   {
    "duration": 350,
    "start_time": "2023-04-02T07:20:02.304Z"
   },
   {
    "duration": 189,
    "start_time": "2023-04-02T07:20:09.540Z"
   },
   {
    "duration": 290,
    "start_time": "2023-04-02T07:20:16.210Z"
   },
   {
    "duration": 303,
    "start_time": "2023-04-02T07:20:45.252Z"
   },
   {
    "duration": 323,
    "start_time": "2023-04-02T07:21:42.606Z"
   },
   {
    "duration": 12,
    "start_time": "2023-04-02T07:30:04.128Z"
   },
   {
    "duration": 8,
    "start_time": "2023-04-02T07:30:09.275Z"
   },
   {
    "duration": 110,
    "start_time": "2023-04-02T07:31:06.845Z"
   },
   {
    "duration": 361,
    "start_time": "2023-04-02T07:31:47.429Z"
   },
   {
    "duration": 5,
    "start_time": "2023-04-02T07:32:25.492Z"
   },
   {
    "duration": 345,
    "start_time": "2023-04-02T07:32:52.453Z"
   },
   {
    "duration": 398,
    "start_time": "2023-04-02T07:33:03.292Z"
   },
   {
    "duration": 137,
    "start_time": "2023-04-02T07:34:40.924Z"
   },
   {
    "duration": 325,
    "start_time": "2023-04-02T07:35:16.523Z"
   },
   {
    "duration": 247,
    "start_time": "2023-04-02T07:35:30.765Z"
   },
   {
    "duration": 228,
    "start_time": "2023-04-02T07:35:38.388Z"
   },
   {
    "duration": 246,
    "start_time": "2023-04-02T07:35:49.804Z"
   },
   {
    "duration": 144,
    "start_time": "2023-04-02T07:35:58.217Z"
   },
   {
    "duration": 137,
    "start_time": "2023-04-02T07:36:03.792Z"
   },
   {
    "duration": 248,
    "start_time": "2023-04-02T07:36:10.199Z"
   },
   {
    "duration": 253,
    "start_time": "2023-04-02T07:38:57.411Z"
   },
   {
    "duration": 306,
    "start_time": "2023-04-02T07:39:17.889Z"
   },
   {
    "duration": 373,
    "start_time": "2023-04-02T07:39:26.615Z"
   },
   {
    "duration": 3,
    "start_time": "2023-04-02T07:46:03.560Z"
   },
   {
    "duration": 30,
    "start_time": "2023-04-02T07:46:04.431Z"
   },
   {
    "duration": 54,
    "start_time": "2023-04-02T10:09:38.050Z"
   },
   {
    "duration": 6,
    "start_time": "2023-04-02T10:09:42.105Z"
   },
   {
    "duration": 1735,
    "start_time": "2023-04-02T10:09:47.510Z"
   },
   {
    "duration": 112,
    "start_time": "2023-04-02T10:09:49.247Z"
   },
   {
    "duration": 4,
    "start_time": "2023-04-02T10:09:49.361Z"
   },
   {
    "duration": 23,
    "start_time": "2023-04-02T10:09:50.083Z"
   },
   {
    "duration": 11,
    "start_time": "2023-04-02T10:09:50.766Z"
   },
   {
    "duration": 8,
    "start_time": "2023-04-02T10:09:52.924Z"
   },
   {
    "duration": 16,
    "start_time": "2023-04-02T10:09:54.418Z"
   },
   {
    "duration": 3,
    "start_time": "2023-04-02T10:09:56.727Z"
   },
   {
    "duration": 86,
    "start_time": "2023-04-02T10:09:59.249Z"
   },
   {
    "duration": 3,
    "start_time": "2023-04-02T10:13:13.420Z"
   },
   {
    "duration": 6,
    "start_time": "2023-04-02T10:13:17.510Z"
   },
   {
    "duration": 12,
    "start_time": "2023-04-02T10:13:18.604Z"
   },
   {
    "duration": 2,
    "start_time": "2023-04-02T10:13:24.408Z"
   },
   {
    "duration": 11,
    "start_time": "2023-04-02T10:13:26.796Z"
   },
   {
    "duration": 18,
    "start_time": "2023-04-02T10:14:01.794Z"
   },
   {
    "duration": 17,
    "start_time": "2023-04-02T10:14:11.712Z"
   },
   {
    "duration": 10,
    "start_time": "2023-04-02T10:14:15.712Z"
   },
   {
    "duration": 3,
    "start_time": "2023-04-02T10:14:16.966Z"
   },
   {
    "duration": 10,
    "start_time": "2023-04-02T10:14:18.029Z"
   },
   {
    "duration": 8,
    "start_time": "2023-04-02T10:14:36.372Z"
   },
   {
    "duration": 3,
    "start_time": "2023-04-02T10:14:37.548Z"
   },
   {
    "duration": 37,
    "start_time": "2023-04-02T10:14:38.587Z"
   },
   {
    "duration": 1512,
    "start_time": "2023-04-02T10:14:50.159Z"
   },
   {
    "duration": 259,
    "start_time": "2023-04-02T10:14:51.673Z"
   },
   {
    "duration": 5,
    "start_time": "2023-04-02T10:14:51.934Z"
   },
   {
    "duration": 58,
    "start_time": "2023-04-02T10:14:51.942Z"
   },
   {
    "duration": 10,
    "start_time": "2023-04-02T10:14:52.002Z"
   },
   {
    "duration": 35,
    "start_time": "2023-04-02T10:14:52.014Z"
   },
   {
    "duration": 29,
    "start_time": "2023-04-02T10:14:52.051Z"
   },
   {
    "duration": 58,
    "start_time": "2023-04-02T10:14:52.082Z"
   },
   {
    "duration": 10,
    "start_time": "2023-04-02T10:14:52.142Z"
   },
   {
    "duration": 409,
    "start_time": "2023-04-02T10:14:52.154Z"
   },
   {
    "duration": 408,
    "start_time": "2023-04-02T10:14:52.565Z"
   },
   {
    "duration": 193,
    "start_time": "2023-04-02T10:14:52.974Z"
   },
   {
    "duration": 347,
    "start_time": "2023-04-02T10:14:53.168Z"
   },
   {
    "duration": 3,
    "start_time": "2023-04-02T10:14:53.517Z"
   },
   {
    "duration": 29,
    "start_time": "2023-04-02T10:14:53.522Z"
   },
   {
    "duration": 340,
    "start_time": "2023-04-02T10:14:53.552Z"
   },
   {
    "duration": 3,
    "start_time": "2023-04-02T10:15:29.098Z"
   },
   {
    "duration": 4,
    "start_time": "2023-04-02T10:15:29.792Z"
   },
   {
    "duration": 358,
    "start_time": "2023-04-02T10:15:46.440Z"
   },
   {
    "duration": 5,
    "start_time": "2023-04-02T10:15:52.628Z"
   },
   {
    "duration": 344,
    "start_time": "2023-04-02T10:15:53.266Z"
   },
   {
    "duration": 11,
    "start_time": "2023-04-02T10:18:04.195Z"
   },
   {
    "duration": 8,
    "start_time": "2023-04-02T10:18:19.439Z"
   },
   {
    "duration": 44,
    "start_time": "2023-04-02T10:18:26.568Z"
   },
   {
    "duration": 18,
    "start_time": "2023-04-02T10:18:49.710Z"
   },
   {
    "duration": 7,
    "start_time": "2023-04-02T10:19:34.294Z"
   },
   {
    "duration": 7,
    "start_time": "2023-04-02T10:19:35.871Z"
   },
   {
    "duration": 8,
    "start_time": "2023-04-02T10:20:24.773Z"
   },
   {
    "duration": 5,
    "start_time": "2023-04-02T10:20:25.148Z"
   },
   {
    "duration": 8,
    "start_time": "2023-04-02T10:21:50.394Z"
   },
   {
    "duration": 5,
    "start_time": "2023-04-02T10:21:51.011Z"
   },
   {
    "duration": 4,
    "start_time": "2023-04-02T10:23:44.655Z"
   },
   {
    "duration": 3,
    "start_time": "2023-04-02T10:25:06.304Z"
   },
   {
    "duration": 119,
    "start_time": "2023-04-02T10:31:38.198Z"
   },
   {
    "duration": 4,
    "start_time": "2023-04-02T10:31:40.365Z"
   },
   {
    "duration": 5,
    "start_time": "2023-04-02T10:31:40.795Z"
   },
   {
    "duration": 2,
    "start_time": "2023-04-02T10:31:41.512Z"
   },
   {
    "duration": 16,
    "start_time": "2023-04-02T10:31:42.163Z"
   },
   {
    "duration": 20,
    "start_time": "2023-04-02T10:33:00.461Z"
   },
   {
    "duration": 10,
    "start_time": "2023-04-02T10:33:13.164Z"
   },
   {
    "duration": 3,
    "start_time": "2023-04-02T10:36:08.398Z"
   },
   {
    "duration": 11,
    "start_time": "2023-04-02T10:36:43.794Z"
   },
   {
    "duration": 10,
    "start_time": "2023-04-02T10:37:00.549Z"
   },
   {
    "duration": 2,
    "start_time": "2023-04-02T10:37:24.430Z"
   },
   {
    "duration": 2,
    "start_time": "2023-04-02T10:37:24.935Z"
   },
   {
    "duration": 10,
    "start_time": "2023-04-02T10:37:25.237Z"
   },
   {
    "duration": 3,
    "start_time": "2023-04-02T10:37:25.731Z"
   },
   {
    "duration": 4,
    "start_time": "2023-04-02T10:37:34.379Z"
   },
   {
    "duration": 3,
    "start_time": "2023-04-02T10:39:09.764Z"
   },
   {
    "duration": 3,
    "start_time": "2023-04-02T10:39:42.222Z"
   },
   {
    "duration": 3,
    "start_time": "2023-04-02T10:40:21.560Z"
   },
   {
    "duration": 9,
    "start_time": "2023-04-02T10:44:31.659Z"
   },
   {
    "duration": 46,
    "start_time": "2023-04-02T10:44:32.236Z"
   },
   {
    "duration": 14,
    "start_time": "2023-04-02T10:44:32.835Z"
   },
   {
    "duration": 6,
    "start_time": "2023-04-02T10:44:33.584Z"
   },
   {
    "duration": 7,
    "start_time": "2023-04-02T10:44:34.913Z"
   },
   {
    "duration": 5,
    "start_time": "2023-04-02T10:44:35.447Z"
   },
   {
    "duration": 4,
    "start_time": "2023-04-02T10:44:36.231Z"
   },
   {
    "duration": 2,
    "start_time": "2023-04-02T10:44:37.612Z"
   },
   {
    "duration": 3,
    "start_time": "2023-04-02T10:44:38.568Z"
   },
   {
    "duration": 11,
    "start_time": "2023-04-02T10:44:38.897Z"
   },
   {
    "duration": 3,
    "start_time": "2023-04-02T10:44:39.804Z"
   },
   {
    "duration": 76,
    "start_time": "2023-04-02T13:04:23.229Z"
   },
   {
    "duration": 7,
    "start_time": "2023-04-02T13:04:34.665Z"
   },
   {
    "duration": 1710,
    "start_time": "2023-04-02T13:04:40.161Z"
   },
   {
    "duration": 75,
    "start_time": "2023-04-02T13:04:41.873Z"
   },
   {
    "duration": 7,
    "start_time": "2023-04-02T13:04:41.950Z"
   },
   {
    "duration": 26,
    "start_time": "2023-04-02T13:04:41.965Z"
   },
   {
    "duration": 13,
    "start_time": "2023-04-02T13:04:41.993Z"
   },
   {
    "duration": 38,
    "start_time": "2023-04-02T13:04:42.008Z"
   },
   {
    "duration": 4,
    "start_time": "2023-04-02T13:04:42.319Z"
   },
   {
    "duration": 7,
    "start_time": "2023-04-02T13:04:42.510Z"
   },
   {
    "duration": 3,
    "start_time": "2023-04-02T13:04:43.294Z"
   },
   {
    "duration": 447,
    "start_time": "2023-04-02T13:04:44.643Z"
   },
   {
    "duration": 427,
    "start_time": "2023-04-02T13:04:45.590Z"
   },
   {
    "duration": 203,
    "start_time": "2023-04-02T13:04:47.000Z"
   },
   {
    "duration": 430,
    "start_time": "2023-04-02T13:04:47.636Z"
   },
   {
    "duration": 3,
    "start_time": "2023-04-02T13:04:48.070Z"
   },
   {
    "duration": 6,
    "start_time": "2023-04-02T13:04:48.203Z"
   },
   {
    "duration": 462,
    "start_time": "2023-04-02T13:04:48.797Z"
   },
   {
    "duration": 24,
    "start_time": "2023-04-02T13:04:50.230Z"
   },
   {
    "duration": 46,
    "start_time": "2023-04-02T13:04:50.393Z"
   },
   {
    "duration": 18,
    "start_time": "2023-04-02T13:04:51.008Z"
   },
   {
    "duration": 8,
    "start_time": "2023-04-02T13:04:51.931Z"
   },
   {
    "duration": 7,
    "start_time": "2023-04-02T13:04:53.426Z"
   },
   {
    "duration": 10,
    "start_time": "2023-04-02T13:10:10.464Z"
   },
   {
    "duration": 7,
    "start_time": "2023-04-02T13:10:11.216Z"
   },
   {
    "duration": 6,
    "start_time": "2023-04-02T13:10:11.667Z"
   },
   {
    "duration": 122,
    "start_time": "2023-04-02T13:10:12.098Z"
   },
   {
    "duration": 4,
    "start_time": "2023-04-02T13:12:02.908Z"
   },
   {
    "duration": 8,
    "start_time": "2023-04-02T13:20:03.878Z"
   },
   {
    "duration": 5,
    "start_time": "2023-04-02T13:20:04.930Z"
   },
   {
    "duration": 4,
    "start_time": "2023-04-02T13:20:07.375Z"
   },
   {
    "duration": 4,
    "start_time": "2023-04-02T13:20:09.476Z"
   },
   {
    "duration": 10,
    "start_time": "2023-04-02T13:20:22.903Z"
   },
   {
    "duration": 3,
    "start_time": "2023-04-02T13:20:30.768Z"
   },
   {
    "duration": 109,
    "start_time": "2023-04-02T13:20:32.063Z"
   },
   {
    "duration": 3,
    "start_time": "2023-04-02T13:20:42.382Z"
   },
   {
    "duration": 3,
    "start_time": "2023-04-02T13:20:44.045Z"
   },
   {
    "duration": 70,
    "start_time": "2023-04-02T13:20:45.504Z"
   },
   {
    "duration": 10,
    "start_time": "2023-04-02T13:21:11.267Z"
   },
   {
    "duration": 14,
    "start_time": "2023-04-02T13:22:52.843Z"
   },
   {
    "duration": 11,
    "start_time": "2023-04-02T13:23:00.863Z"
   },
   {
    "duration": 3,
    "start_time": "2023-04-02T13:23:17.166Z"
   },
   {
    "duration": 3,
    "start_time": "2023-04-02T13:23:18.126Z"
   },
   {
    "duration": 97,
    "start_time": "2023-04-02T13:23:19.769Z"
   },
   {
    "duration": 1615,
    "start_time": "2023-04-02T13:23:33.066Z"
   },
   {
    "duration": 128,
    "start_time": "2023-04-02T13:23:34.683Z"
   },
   {
    "duration": 5,
    "start_time": "2023-04-02T13:23:34.813Z"
   },
   {
    "duration": 33,
    "start_time": "2023-04-02T13:23:34.819Z"
   },
   {
    "duration": 13,
    "start_time": "2023-04-02T13:23:34.859Z"
   },
   {
    "duration": 11,
    "start_time": "2023-04-02T13:23:34.874Z"
   },
   {
    "duration": 4,
    "start_time": "2023-04-02T13:23:34.887Z"
   },
   {
    "duration": 10,
    "start_time": "2023-04-02T13:23:34.892Z"
   },
   {
    "duration": 3,
    "start_time": "2023-04-02T13:23:34.904Z"
   },
   {
    "duration": 467,
    "start_time": "2023-04-02T13:23:34.910Z"
   },
   {
    "duration": 500,
    "start_time": "2023-04-02T13:23:35.379Z"
   },
   {
    "duration": 223,
    "start_time": "2023-04-02T13:23:35.881Z"
   },
   {
    "duration": 406,
    "start_time": "2023-04-02T13:23:36.106Z"
   },
   {
    "duration": 3,
    "start_time": "2023-04-02T13:23:36.514Z"
   },
   {
    "duration": 11,
    "start_time": "2023-04-02T13:23:36.519Z"
   },
   {
    "duration": 385,
    "start_time": "2023-04-02T13:23:36.532Z"
   },
   {
    "duration": 31,
    "start_time": "2023-04-02T13:23:36.919Z"
   },
   {
    "duration": 49,
    "start_time": "2023-04-02T13:23:36.955Z"
   },
   {
    "duration": 14,
    "start_time": "2023-04-02T13:23:37.006Z"
   },
   {
    "duration": 8,
    "start_time": "2023-04-02T13:23:37.022Z"
   },
   {
    "duration": 21,
    "start_time": "2023-04-02T13:23:37.043Z"
   },
   {
    "duration": 13,
    "start_time": "2023-04-02T13:23:37.069Z"
   },
   {
    "duration": 11,
    "start_time": "2023-04-02T13:23:37.084Z"
   },
   {
    "duration": 133,
    "start_time": "2023-04-02T13:23:37.097Z"
   },
   {
    "duration": 0,
    "start_time": "2023-04-02T13:23:37.231Z"
   },
   {
    "duration": 0,
    "start_time": "2023-04-02T13:23:37.240Z"
   },
   {
    "duration": 0,
    "start_time": "2023-04-02T13:23:37.241Z"
   },
   {
    "duration": 0,
    "start_time": "2023-04-02T13:23:37.242Z"
   },
   {
    "duration": 0,
    "start_time": "2023-04-02T13:23:37.243Z"
   },
   {
    "duration": 3,
    "start_time": "2023-04-02T13:24:12.932Z"
   },
   {
    "duration": 2,
    "start_time": "2023-04-02T13:24:14.330Z"
   },
   {
    "duration": 3,
    "start_time": "2023-04-02T13:24:15.134Z"
   },
   {
    "duration": 12,
    "start_time": "2023-04-02T13:24:17.822Z"
   },
   {
    "duration": 23,
    "start_time": "2023-04-02T13:24:43.327Z"
   },
   {
    "duration": 12,
    "start_time": "2023-04-02T13:24:57.494Z"
   },
   {
    "duration": 1461,
    "start_time": "2023-04-02T13:26:17.486Z"
   },
   {
    "duration": 104,
    "start_time": "2023-04-02T13:26:18.949Z"
   },
   {
    "duration": 4,
    "start_time": "2023-04-02T13:26:19.055Z"
   },
   {
    "duration": 36,
    "start_time": "2023-04-02T13:26:19.061Z"
   },
   {
    "duration": 11,
    "start_time": "2023-04-02T13:26:19.099Z"
   },
   {
    "duration": 27,
    "start_time": "2023-04-02T13:26:19.112Z"
   },
   {
    "duration": 36,
    "start_time": "2023-04-02T13:26:19.144Z"
   },
   {
    "duration": 24,
    "start_time": "2023-04-02T13:26:19.186Z"
   },
   {
    "duration": 32,
    "start_time": "2023-04-02T13:26:19.212Z"
   },
   {
    "duration": 470,
    "start_time": "2023-04-02T13:26:19.247Z"
   },
   {
    "duration": 416,
    "start_time": "2023-04-02T13:26:19.719Z"
   },
   {
    "duration": 236,
    "start_time": "2023-04-02T13:26:20.140Z"
   },
   {
    "duration": 370,
    "start_time": "2023-04-02T13:26:20.382Z"
   },
   {
    "duration": 4,
    "start_time": "2023-04-02T13:26:20.759Z"
   },
   {
    "duration": 20,
    "start_time": "2023-04-02T13:26:20.765Z"
   },
   {
    "duration": 367,
    "start_time": "2023-04-02T13:26:20.787Z"
   },
   {
    "duration": 19,
    "start_time": "2023-04-02T13:26:21.155Z"
   },
   {
    "duration": 50,
    "start_time": "2023-04-02T13:26:21.176Z"
   },
   {
    "duration": 35,
    "start_time": "2023-04-02T13:26:21.229Z"
   },
   {
    "duration": 14,
    "start_time": "2023-04-02T13:26:21.268Z"
   },
   {
    "duration": 3,
    "start_time": "2023-04-02T13:26:21.284Z"
   },
   {
    "duration": 11,
    "start_time": "2023-04-02T13:26:21.289Z"
   },
   {
    "duration": 5,
    "start_time": "2023-04-02T13:26:21.302Z"
   },
   {
    "duration": 11,
    "start_time": "2023-04-02T13:26:21.309Z"
   },
   {
    "duration": 10,
    "start_time": "2023-04-02T13:26:21.322Z"
   },
   {
    "duration": 9,
    "start_time": "2023-04-02T13:26:21.334Z"
   },
   {
    "duration": 211,
    "start_time": "2023-04-02T13:26:21.349Z"
   },
   {
    "duration": 5,
    "start_time": "2023-04-02T13:26:21.566Z"
   },
   {
    "duration": 19,
    "start_time": "2023-04-02T13:26:21.572Z"
   },
   {
    "duration": 5,
    "start_time": "2023-04-02T13:26:30.480Z"
   },
   {
    "duration": 4,
    "start_time": "2023-04-02T13:26:31.478Z"
   },
   {
    "duration": 3,
    "start_time": "2023-04-02T13:26:32.374Z"
   },
   {
    "duration": 3,
    "start_time": "2023-04-02T13:26:34.004Z"
   },
   {
    "duration": 2,
    "start_time": "2023-04-02T13:26:34.698Z"
   },
   {
    "duration": 18,
    "start_time": "2023-04-02T13:26:36.317Z"
   },
   {
    "duration": 3,
    "start_time": "2023-04-02T13:26:38.616Z"
   },
   {
    "duration": 3,
    "start_time": "2023-04-02T13:32:15.882Z"
   },
   {
    "duration": 70,
    "start_time": "2023-04-02T13:32:43.331Z"
   },
   {
    "duration": 65,
    "start_time": "2023-04-02T13:32:44.124Z"
   },
   {
    "duration": 4,
    "start_time": "2023-04-02T13:32:47.069Z"
   },
   {
    "duration": 33,
    "start_time": "2023-04-02T13:32:51.659Z"
   },
   {
    "duration": 136,
    "start_time": "2023-04-02T13:32:55.992Z"
   },
   {
    "duration": 56,
    "start_time": "2023-04-02T13:33:32.504Z"
   },
   {
    "duration": 10,
    "start_time": "2023-04-02T13:33:35.694Z"
   },
   {
    "duration": 97,
    "start_time": "2023-04-02T13:33:36.643Z"
   },
   {
    "duration": 1584,
    "start_time": "2023-04-02T13:34:04.437Z"
   },
   {
    "duration": 101,
    "start_time": "2023-04-02T13:34:06.023Z"
   },
   {
    "duration": 4,
    "start_time": "2023-04-02T13:34:06.126Z"
   },
   {
    "duration": 43,
    "start_time": "2023-04-02T13:34:06.133Z"
   },
   {
    "duration": 10,
    "start_time": "2023-04-02T13:34:06.178Z"
   },
   {
    "duration": 13,
    "start_time": "2023-04-02T13:34:06.189Z"
   },
   {
    "duration": 45,
    "start_time": "2023-04-02T13:34:06.204Z"
   },
   {
    "duration": 16,
    "start_time": "2023-04-02T13:34:06.255Z"
   },
   {
    "duration": 4,
    "start_time": "2023-04-02T13:34:06.273Z"
   },
   {
    "duration": 379,
    "start_time": "2023-04-02T13:34:06.279Z"
   },
   {
    "duration": 420,
    "start_time": "2023-04-02T13:34:06.662Z"
   },
   {
    "duration": 206,
    "start_time": "2023-04-02T13:34:07.084Z"
   },
   {
    "duration": 382,
    "start_time": "2023-04-02T13:34:07.292Z"
   },
   {
    "duration": 3,
    "start_time": "2023-04-02T13:34:07.676Z"
   },
   {
    "duration": 7,
    "start_time": "2023-04-02T13:34:07.680Z"
   },
   {
    "duration": 349,
    "start_time": "2023-04-02T13:34:07.689Z"
   },
   {
    "duration": 22,
    "start_time": "2023-04-02T13:34:08.040Z"
   },
   {
    "duration": 53,
    "start_time": "2023-04-02T13:34:08.066Z"
   },
   {
    "duration": 25,
    "start_time": "2023-04-02T13:34:08.121Z"
   },
   {
    "duration": 11,
    "start_time": "2023-04-02T13:34:08.148Z"
   },
   {
    "duration": 10,
    "start_time": "2023-04-02T13:34:08.160Z"
   },
   {
    "duration": 5,
    "start_time": "2023-04-02T13:34:08.172Z"
   },
   {
    "duration": 6,
    "start_time": "2023-04-02T13:34:08.179Z"
   },
   {
    "duration": 5,
    "start_time": "2023-04-02T13:34:08.186Z"
   },
   {
    "duration": 4,
    "start_time": "2023-04-02T13:34:08.192Z"
   },
   {
    "duration": 10,
    "start_time": "2023-04-02T13:34:08.197Z"
   },
   {
    "duration": 46,
    "start_time": "2023-04-02T13:34:08.208Z"
   },
   {
    "duration": 105,
    "start_time": "2023-04-02T13:34:08.257Z"
   },
   {
    "duration": 5,
    "start_time": "2023-04-02T13:34:08.370Z"
   },
   {
    "duration": 68,
    "start_time": "2023-04-02T13:34:08.381Z"
   },
   {
    "duration": 10,
    "start_time": "2023-04-02T13:34:23.690Z"
   },
   {
    "duration": 21,
    "start_time": "2023-04-02T13:34:28.928Z"
   },
   {
    "duration": 13,
    "start_time": "2023-04-02T13:35:14.227Z"
   },
   {
    "duration": 21,
    "start_time": "2023-04-02T13:35:15.390Z"
   },
   {
    "duration": 24,
    "start_time": "2023-04-02T13:39:49.065Z"
   },
   {
    "duration": 14,
    "start_time": "2023-04-02T13:39:51.736Z"
   },
   {
    "duration": 9,
    "start_time": "2023-04-02T13:40:20.633Z"
   },
   {
    "duration": 9,
    "start_time": "2023-04-02T13:40:23.769Z"
   },
   {
    "duration": 5,
    "start_time": "2023-04-02T13:40:25.999Z"
   },
   {
    "duration": 11,
    "start_time": "2023-04-02T13:40:57.764Z"
   },
   {
    "duration": 8,
    "start_time": "2023-04-02T13:41:15.576Z"
   },
   {
    "duration": 3,
    "start_time": "2023-04-02T13:41:17.879Z"
   },
   {
    "duration": 6,
    "start_time": "2023-04-02T13:41:18.423Z"
   },
   {
    "duration": 5,
    "start_time": "2023-04-02T13:41:18.722Z"
   },
   {
    "duration": 285,
    "start_time": "2023-04-02T13:41:32.828Z"
   },
   {
    "duration": 1683,
    "start_time": "2023-04-02T13:41:51.476Z"
   },
   {
    "duration": 87,
    "start_time": "2023-04-02T13:41:53.167Z"
   },
   {
    "duration": 7,
    "start_time": "2023-04-02T13:41:53.259Z"
   },
   {
    "duration": 31,
    "start_time": "2023-04-02T13:41:53.271Z"
   },
   {
    "duration": 10,
    "start_time": "2023-04-02T13:41:53.304Z"
   },
   {
    "duration": 14,
    "start_time": "2023-04-02T13:41:53.316Z"
   },
   {
    "duration": 12,
    "start_time": "2023-04-02T13:41:53.332Z"
   },
   {
    "duration": 18,
    "start_time": "2023-04-02T13:41:53.346Z"
   },
   {
    "duration": 13,
    "start_time": "2023-04-02T13:41:53.368Z"
   },
   {
    "duration": 442,
    "start_time": "2023-04-02T13:41:53.383Z"
   },
   {
    "duration": 449,
    "start_time": "2023-04-02T13:41:53.828Z"
   },
   {
    "duration": 203,
    "start_time": "2023-04-02T13:41:54.280Z"
   },
   {
    "duration": 392,
    "start_time": "2023-04-02T13:41:54.484Z"
   },
   {
    "duration": 3,
    "start_time": "2023-04-02T13:41:54.884Z"
   },
   {
    "duration": 9,
    "start_time": "2023-04-02T13:41:54.888Z"
   },
   {
    "duration": 405,
    "start_time": "2023-04-02T13:41:54.899Z"
   },
   {
    "duration": 16,
    "start_time": "2023-04-02T13:41:55.307Z"
   },
   {
    "duration": 74,
    "start_time": "2023-04-02T13:41:55.325Z"
   },
   {
    "duration": 16,
    "start_time": "2023-04-02T13:41:55.401Z"
   },
   {
    "duration": 6,
    "start_time": "2023-04-02T13:41:55.419Z"
   },
   {
    "duration": 33,
    "start_time": "2023-04-02T13:41:55.426Z"
   },
   {
    "duration": 4,
    "start_time": "2023-04-02T13:41:55.461Z"
   },
   {
    "duration": 10,
    "start_time": "2023-04-02T13:41:55.467Z"
   },
   {
    "duration": 8,
    "start_time": "2023-04-02T13:41:55.480Z"
   },
   {
    "duration": 5,
    "start_time": "2023-04-02T13:41:55.489Z"
   },
   {
    "duration": 7,
    "start_time": "2023-04-02T13:41:55.496Z"
   },
   {
    "duration": 4,
    "start_time": "2023-04-02T13:41:55.504Z"
   },
   {
    "duration": 52,
    "start_time": "2023-04-02T13:41:55.510Z"
   },
   {
    "duration": 307,
    "start_time": "2023-04-02T13:41:55.563Z"
   },
   {
    "duration": 0,
    "start_time": "2023-04-02T13:41:55.872Z"
   },
   {
    "duration": 0,
    "start_time": "2023-04-02T13:41:55.873Z"
   },
   {
    "duration": 18,
    "start_time": "2023-04-02T13:42:11.295Z"
   },
   {
    "duration": 5,
    "start_time": "2023-04-02T13:43:14.365Z"
   },
   {
    "duration": 5,
    "start_time": "2023-04-02T13:43:37.082Z"
   },
   {
    "duration": 4,
    "start_time": "2023-04-02T13:44:26.183Z"
   },
   {
    "duration": 5,
    "start_time": "2023-04-02T13:45:16.672Z"
   },
   {
    "duration": 5,
    "start_time": "2023-04-02T13:45:27.273Z"
   },
   {
    "duration": 2,
    "start_time": "2023-04-02T13:45:32.085Z"
   },
   {
    "duration": 3,
    "start_time": "2023-04-02T13:45:44.872Z"
   },
   {
    "duration": 9,
    "start_time": "2023-04-02T13:45:48.539Z"
   },
   {
    "duration": 26,
    "start_time": "2023-04-02T13:45:50.589Z"
   },
   {
    "duration": 109,
    "start_time": "2023-04-02T13:46:12.140Z"
   },
   {
    "duration": 50,
    "start_time": "2023-04-02T13:46:39.865Z"
   },
   {
    "duration": 17,
    "start_time": "2023-04-02T13:50:45.626Z"
   },
   {
    "duration": 5,
    "start_time": "2023-04-02T13:50:55.004Z"
   },
   {
    "duration": 4,
    "start_time": "2023-04-02T13:50:57.328Z"
   },
   {
    "duration": 10,
    "start_time": "2023-04-02T13:50:58.440Z"
   },
   {
    "duration": 3,
    "start_time": "2023-04-02T13:51:06.802Z"
   },
   {
    "duration": 3,
    "start_time": "2023-04-02T13:51:09.095Z"
   },
   {
    "duration": 10,
    "start_time": "2023-04-02T13:51:09.857Z"
   },
   {
    "duration": 18,
    "start_time": "2023-04-02T13:51:10.773Z"
   },
   {
    "duration": 1526,
    "start_time": "2023-04-02T13:51:37.410Z"
   },
   {
    "duration": 200,
    "start_time": "2023-04-02T13:51:38.948Z"
   },
   {
    "duration": 9,
    "start_time": "2023-04-02T13:51:39.154Z"
   },
   {
    "duration": 36,
    "start_time": "2023-04-02T13:51:39.167Z"
   },
   {
    "duration": 11,
    "start_time": "2023-04-02T13:51:39.205Z"
   },
   {
    "duration": 11,
    "start_time": "2023-04-02T13:51:39.218Z"
   },
   {
    "duration": 12,
    "start_time": "2023-04-02T13:51:39.231Z"
   },
   {
    "duration": 34,
    "start_time": "2023-04-02T13:51:39.245Z"
   },
   {
    "duration": 3,
    "start_time": "2023-04-02T13:51:39.281Z"
   },
   {
    "duration": 406,
    "start_time": "2023-04-02T13:51:39.287Z"
   },
   {
    "duration": 407,
    "start_time": "2023-04-02T13:51:39.696Z"
   },
   {
    "duration": 206,
    "start_time": "2023-04-02T13:51:40.105Z"
   },
   {
    "duration": 369,
    "start_time": "2023-04-02T13:51:40.312Z"
   },
   {
    "duration": 3,
    "start_time": "2023-04-02T13:51:40.683Z"
   },
   {
    "duration": 9,
    "start_time": "2023-04-02T13:51:40.688Z"
   },
   {
    "duration": 379,
    "start_time": "2023-04-02T13:51:40.699Z"
   },
   {
    "duration": 12,
    "start_time": "2023-04-02T13:51:41.080Z"
   },
   {
    "duration": 65,
    "start_time": "2023-04-02T13:51:41.094Z"
   },
   {
    "duration": 20,
    "start_time": "2023-04-02T13:51:41.161Z"
   },
   {
    "duration": 12,
    "start_time": "2023-04-02T13:51:41.183Z"
   },
   {
    "duration": 2,
    "start_time": "2023-04-02T13:51:41.197Z"
   },
   {
    "duration": 4,
    "start_time": "2023-04-02T13:51:41.201Z"
   },
   {
    "duration": 14,
    "start_time": "2023-04-02T13:51:41.206Z"
   },
   {
    "duration": 156,
    "start_time": "2023-04-02T13:51:41.221Z"
   },
   {
    "duration": 0,
    "start_time": "2023-04-02T13:51:41.379Z"
   },
   {
    "duration": 0,
    "start_time": "2023-04-02T13:51:41.380Z"
   },
   {
    "duration": 0,
    "start_time": "2023-04-02T13:51:41.381Z"
   },
   {
    "duration": 0,
    "start_time": "2023-04-02T13:51:41.382Z"
   },
   {
    "duration": 0,
    "start_time": "2023-04-02T13:51:41.383Z"
   },
   {
    "duration": 0,
    "start_time": "2023-04-02T13:51:41.385Z"
   },
   {
    "duration": 0,
    "start_time": "2023-04-02T13:51:41.386Z"
   },
   {
    "duration": 2,
    "start_time": "2023-04-02T13:52:05.819Z"
   },
   {
    "duration": 4,
    "start_time": "2023-04-02T13:52:06.770Z"
   },
   {
    "duration": 2,
    "start_time": "2023-04-02T13:52:08.781Z"
   },
   {
    "duration": 3,
    "start_time": "2023-04-02T13:52:09.484Z"
   },
   {
    "duration": 22,
    "start_time": "2023-04-02T13:52:10.273Z"
   },
   {
    "duration": 15,
    "start_time": "2023-04-02T13:56:13.782Z"
   },
   {
    "duration": 9,
    "start_time": "2023-04-02T13:56:34.493Z"
   },
   {
    "duration": 1574,
    "start_time": "2023-04-02T13:56:41.392Z"
   },
   {
    "duration": 169,
    "start_time": "2023-04-02T13:56:42.973Z"
   },
   {
    "duration": 4,
    "start_time": "2023-04-02T13:56:43.151Z"
   },
   {
    "duration": 27,
    "start_time": "2023-04-02T13:56:43.161Z"
   },
   {
    "duration": 11,
    "start_time": "2023-04-02T13:56:43.189Z"
   },
   {
    "duration": 21,
    "start_time": "2023-04-02T13:56:43.202Z"
   },
   {
    "duration": 3,
    "start_time": "2023-04-02T13:56:43.225Z"
   },
   {
    "duration": 15,
    "start_time": "2023-04-02T13:56:43.230Z"
   },
   {
    "duration": 6,
    "start_time": "2023-04-02T13:56:43.250Z"
   },
   {
    "duration": 411,
    "start_time": "2023-04-02T13:56:43.263Z"
   },
   {
    "duration": 408,
    "start_time": "2023-04-02T13:56:43.675Z"
   },
   {
    "duration": 205,
    "start_time": "2023-04-02T13:56:44.085Z"
   },
   {
    "duration": 370,
    "start_time": "2023-04-02T13:56:44.291Z"
   },
   {
    "duration": 5,
    "start_time": "2023-04-02T13:56:44.666Z"
   },
   {
    "duration": 7,
    "start_time": "2023-04-02T13:56:44.673Z"
   },
   {
    "duration": 354,
    "start_time": "2023-04-02T13:56:44.681Z"
   },
   {
    "duration": 35,
    "start_time": "2023-04-02T13:56:45.040Z"
   },
   {
    "duration": 52,
    "start_time": "2023-04-02T13:56:45.077Z"
   },
   {
    "duration": 22,
    "start_time": "2023-04-02T13:56:45.130Z"
   },
   {
    "duration": 24,
    "start_time": "2023-04-02T13:56:45.153Z"
   },
   {
    "duration": 5,
    "start_time": "2023-04-02T13:56:45.180Z"
   },
   {
    "duration": 9,
    "start_time": "2023-04-02T13:56:45.186Z"
   },
   {
    "duration": 6,
    "start_time": "2023-04-02T13:56:45.197Z"
   },
   {
    "duration": 5,
    "start_time": "2023-04-02T13:56:45.205Z"
   },
   {
    "duration": 12,
    "start_time": "2023-04-02T13:56:45.212Z"
   },
   {
    "duration": 9,
    "start_time": "2023-04-02T13:56:45.225Z"
   },
   {
    "duration": 4,
    "start_time": "2023-04-02T13:56:45.235Z"
   },
   {
    "duration": 264,
    "start_time": "2023-04-02T13:56:45.242Z"
   },
   {
    "duration": 0,
    "start_time": "2023-04-02T13:56:45.507Z"
   },
   {
    "duration": 0,
    "start_time": "2023-04-02T13:56:45.509Z"
   },
   {
    "duration": 0,
    "start_time": "2023-04-02T13:56:45.510Z"
   },
   {
    "duration": 7,
    "start_time": "2023-04-02T13:57:07.893Z"
   },
   {
    "duration": 3,
    "start_time": "2023-04-02T13:57:17.518Z"
   },
   {
    "duration": 10,
    "start_time": "2023-04-02T13:57:41.307Z"
   },
   {
    "duration": 3,
    "start_time": "2023-04-02T13:57:49.082Z"
   },
   {
    "duration": 12,
    "start_time": "2023-04-02T13:57:49.087Z"
   },
   {
    "duration": 5,
    "start_time": "2023-04-02T13:57:49.277Z"
   },
   {
    "duration": 2,
    "start_time": "2023-04-02T13:57:53.369Z"
   },
   {
    "duration": 3,
    "start_time": "2023-04-02T13:57:57.076Z"
   },
   {
    "duration": 35,
    "start_time": "2023-04-02T13:58:10.353Z"
   },
   {
    "duration": 21,
    "start_time": "2023-04-02T13:58:25.223Z"
   },
   {
    "duration": 19,
    "start_time": "2023-04-02T13:58:32.087Z"
   },
   {
    "duration": 1599,
    "start_time": "2023-04-02T14:03:35.767Z"
   },
   {
    "duration": 85,
    "start_time": "2023-04-02T14:03:37.368Z"
   },
   {
    "duration": 11,
    "start_time": "2023-04-02T14:03:37.457Z"
   },
   {
    "duration": 30,
    "start_time": "2023-04-02T14:03:37.472Z"
   },
   {
    "duration": 9,
    "start_time": "2023-04-02T14:03:37.505Z"
   },
   {
    "duration": 10,
    "start_time": "2023-04-02T14:03:37.516Z"
   },
   {
    "duration": 15,
    "start_time": "2023-04-02T14:03:37.528Z"
   },
   {
    "duration": 24,
    "start_time": "2023-04-02T14:03:37.548Z"
   },
   {
    "duration": 14,
    "start_time": "2023-04-02T14:03:37.574Z"
   },
   {
    "duration": 453,
    "start_time": "2023-04-02T14:03:37.590Z"
   },
   {
    "duration": 458,
    "start_time": "2023-04-02T14:03:38.045Z"
   },
   {
    "duration": 217,
    "start_time": "2023-04-02T14:03:38.504Z"
   },
   {
    "duration": 460,
    "start_time": "2023-04-02T14:03:38.723Z"
   },
   {
    "duration": 4,
    "start_time": "2023-04-02T14:03:39.187Z"
   },
   {
    "duration": 13,
    "start_time": "2023-04-02T14:03:39.193Z"
   },
   {
    "duration": 425,
    "start_time": "2023-04-02T14:03:39.209Z"
   },
   {
    "duration": 25,
    "start_time": "2023-04-02T14:03:39.643Z"
   },
   {
    "duration": 51,
    "start_time": "2023-04-02T14:03:39.673Z"
   },
   {
    "duration": 23,
    "start_time": "2023-04-02T14:03:39.726Z"
   },
   {
    "duration": 10,
    "start_time": "2023-04-02T14:03:39.752Z"
   },
   {
    "duration": 12,
    "start_time": "2023-04-02T14:03:39.764Z"
   },
   {
    "duration": 4,
    "start_time": "2023-04-02T14:03:39.778Z"
   },
   {
    "duration": 8,
    "start_time": "2023-04-02T14:03:39.784Z"
   },
   {
    "duration": 10,
    "start_time": "2023-04-02T14:03:39.793Z"
   },
   {
    "duration": 5,
    "start_time": "2023-04-02T14:03:39.805Z"
   },
   {
    "duration": 3,
    "start_time": "2023-04-02T14:03:39.812Z"
   },
   {
    "duration": 11,
    "start_time": "2023-04-02T14:03:39.841Z"
   },
   {
    "duration": 92,
    "start_time": "2023-04-02T14:03:39.858Z"
   },
   {
    "duration": 416,
    "start_time": "2023-04-02T14:03:39.952Z"
   },
   {
    "duration": 0,
    "start_time": "2023-04-02T14:03:40.373Z"
   },
   {
    "duration": 0,
    "start_time": "2023-04-02T14:03:40.375Z"
   },
   {
    "duration": 14,
    "start_time": "2023-04-02T14:04:06.614Z"
   },
   {
    "duration": 61,
    "start_time": "2023-04-02T14:06:11.671Z"
   },
   {
    "duration": 3,
    "start_time": "2023-04-02T14:06:15.566Z"
   },
   {
    "duration": 3686,
    "start_time": "2023-04-02T14:06:17.297Z"
   },
   {
    "duration": 3,
    "start_time": "2023-04-02T14:09:16.817Z"
   },
   {
    "duration": 24574,
    "start_time": "2023-04-02T14:09:48.416Z"
   },
   {
    "duration": 65,
    "start_time": "2023-04-02T14:13:54.308Z"
   },
   {
    "duration": 8,
    "start_time": "2023-04-02T14:13:59.074Z"
   },
   {
    "duration": 24083,
    "start_time": "2023-04-02T14:14:02.917Z"
   },
   {
    "duration": 7,
    "start_time": "2023-04-02T14:15:43.551Z"
   },
   {
    "duration": 5,
    "start_time": "2023-04-02T14:16:53.864Z"
   },
   {
    "duration": 3,
    "start_time": "2023-04-02T14:18:10.435Z"
   },
   {
    "duration": 1820,
    "start_time": "2023-04-02T14:22:19.768Z"
   },
   {
    "duration": 120,
    "start_time": "2023-04-02T14:22:21.591Z"
   },
   {
    "duration": 5,
    "start_time": "2023-04-02T14:22:21.713Z"
   },
   {
    "duration": 56,
    "start_time": "2023-04-02T14:22:21.720Z"
   },
   {
    "duration": 12,
    "start_time": "2023-04-02T14:22:21.779Z"
   },
   {
    "duration": 20,
    "start_time": "2023-04-02T14:22:21.794Z"
   },
   {
    "duration": 4,
    "start_time": "2023-04-02T14:22:21.816Z"
   },
   {
    "duration": 10,
    "start_time": "2023-04-02T14:22:21.822Z"
   },
   {
    "duration": 24,
    "start_time": "2023-04-02T14:22:21.834Z"
   },
   {
    "duration": 524,
    "start_time": "2023-04-02T14:22:21.865Z"
   },
   {
    "duration": 600,
    "start_time": "2023-04-02T14:22:22.392Z"
   },
   {
    "duration": 284,
    "start_time": "2023-04-02T14:22:22.993Z"
   },
   {
    "duration": 493,
    "start_time": "2023-04-02T14:22:23.285Z"
   },
   {
    "duration": 6,
    "start_time": "2023-04-02T14:22:23.782Z"
   },
   {
    "duration": 8,
    "start_time": "2023-04-02T14:22:23.789Z"
   },
   {
    "duration": 533,
    "start_time": "2023-04-02T14:22:23.799Z"
   },
   {
    "duration": 20,
    "start_time": "2023-04-02T14:22:24.334Z"
   },
   {
    "duration": 66,
    "start_time": "2023-04-02T14:22:24.355Z"
   },
   {
    "duration": 44,
    "start_time": "2023-04-02T14:22:24.423Z"
   },
   {
    "duration": 16,
    "start_time": "2023-04-02T14:22:24.471Z"
   },
   {
    "duration": 10,
    "start_time": "2023-04-02T14:22:24.490Z"
   },
   {
    "duration": 9,
    "start_time": "2023-04-02T14:22:24.502Z"
   },
   {
    "duration": 12,
    "start_time": "2023-04-02T14:22:24.513Z"
   },
   {
    "duration": 6,
    "start_time": "2023-04-02T14:22:24.528Z"
   },
   {
    "duration": 5,
    "start_time": "2023-04-02T14:22:24.537Z"
   },
   {
    "duration": 26,
    "start_time": "2023-04-02T14:22:24.548Z"
   },
   {
    "duration": 4,
    "start_time": "2023-04-02T14:22:24.576Z"
   },
   {
    "duration": 159,
    "start_time": "2023-04-02T14:22:24.582Z"
   },
   {
    "duration": 3,
    "start_time": "2023-04-02T14:22:24.743Z"
   },
   {
    "duration": 19,
    "start_time": "2023-04-02T14:22:24.748Z"
   },
   {
    "duration": 4714,
    "start_time": "2023-04-02T14:22:24.769Z"
   },
   {
    "duration": 5,
    "start_time": "2023-04-02T14:22:29.499Z"
   },
   {
    "duration": 29516,
    "start_time": "2023-04-02T14:22:29.508Z"
   },
   {
    "duration": 4,
    "start_time": "2023-04-02T14:22:59.026Z"
   },
   {
    "duration": 26,
    "start_time": "2023-04-02T14:22:59.032Z"
   },
   {
    "duration": 299638,
    "start_time": "2023-04-02T14:22:59.064Z"
   },
   {
    "duration": 316707,
    "start_time": "2023-04-02T14:28:34.159Z"
   },
   {
    "duration": 3,
    "start_time": "2023-04-02T14:36:01.326Z"
   },
   {
    "duration": 4,
    "start_time": "2023-04-02T14:36:59.009Z"
   },
   {
    "duration": 233761,
    "start_time": "2023-04-02T14:37:00.280Z"
   },
   {
    "duration": 25,
    "start_time": "2023-04-02T14:42:26.824Z"
   },
   {
    "duration": 4,
    "start_time": "2023-04-02T14:43:38.902Z"
   },
   {
    "duration": 6,
    "start_time": "2023-04-02T14:44:54.251Z"
   },
   {
    "duration": 15,
    "start_time": "2023-04-02T14:45:21.443Z"
   },
   {
    "duration": 9,
    "start_time": "2023-04-02T14:45:29.434Z"
   },
   {
    "duration": 3,
    "start_time": "2023-04-02T14:46:35.049Z"
   },
   {
    "duration": 12,
    "start_time": "2023-04-02T14:46:39.300Z"
   },
   {
    "duration": 4,
    "start_time": "2023-04-02T14:46:50.300Z"
   },
   {
    "duration": 12,
    "start_time": "2023-04-02T14:46:53.001Z"
   },
   {
    "duration": 11,
    "start_time": "2023-04-02T14:55:43.526Z"
   },
   {
    "duration": 12,
    "start_time": "2023-04-02T14:55:58.925Z"
   },
   {
    "duration": 10,
    "start_time": "2023-04-02T14:56:17.005Z"
   },
   {
    "duration": 5,
    "start_time": "2023-04-02T14:57:11.001Z"
   },
   {
    "duration": 19,
    "start_time": "2023-04-02T14:58:03.839Z"
   },
   {
    "duration": 5,
    "start_time": "2023-04-02T14:58:06.782Z"
   },
   {
    "duration": 6,
    "start_time": "2023-04-02T15:01:42.865Z"
   },
   {
    "duration": 11,
    "start_time": "2023-04-02T15:01:51.075Z"
   },
   {
    "duration": 29,
    "start_time": "2023-04-02T15:02:24.013Z"
   },
   {
    "duration": 22,
    "start_time": "2023-04-02T15:02:47.726Z"
   },
   {
    "duration": 16,
    "start_time": "2023-04-02T15:02:51.790Z"
   },
   {
    "duration": 55,
    "start_time": "2023-04-03T04:22:31.840Z"
   },
   {
    "duration": 1702,
    "start_time": "2023-04-03T04:22:40.049Z"
   },
   {
    "duration": 319,
    "start_time": "2023-04-03T04:22:41.753Z"
   },
   {
    "duration": 6,
    "start_time": "2023-04-03T04:22:42.074Z"
   },
   {
    "duration": 55,
    "start_time": "2023-04-03T04:22:42.085Z"
   },
   {
    "duration": 9,
    "start_time": "2023-04-03T04:22:42.143Z"
   },
   {
    "duration": 14,
    "start_time": "2023-04-03T04:22:42.154Z"
   },
   {
    "duration": 3,
    "start_time": "2023-04-03T04:22:42.604Z"
   },
   {
    "duration": 7,
    "start_time": "2023-04-03T04:22:43.632Z"
   },
   {
    "duration": 3,
    "start_time": "2023-04-03T04:22:43.854Z"
   },
   {
    "duration": 398,
    "start_time": "2023-04-03T04:22:44.062Z"
   },
   {
    "duration": 400,
    "start_time": "2023-04-03T04:22:44.911Z"
   },
   {
    "duration": 202,
    "start_time": "2023-04-03T04:22:45.905Z"
   },
   {
    "duration": 337,
    "start_time": "2023-04-03T04:22:46.389Z"
   },
   {
    "duration": 3,
    "start_time": "2023-04-03T04:22:47.446Z"
   },
   {
    "duration": 6,
    "start_time": "2023-04-03T04:22:48.007Z"
   },
   {
    "duration": 348,
    "start_time": "2023-04-03T04:22:49.052Z"
   },
   {
    "duration": 18,
    "start_time": "2023-04-03T04:22:51.572Z"
   },
   {
    "duration": 60,
    "start_time": "2023-04-03T04:22:56.506Z"
   },
   {
    "duration": 8,
    "start_time": "2023-04-03T04:23:07.299Z"
   },
   {
    "duration": 65,
    "start_time": "2023-04-03T04:23:08.125Z"
   },
   {
    "duration": 11,
    "start_time": "2023-04-03T04:23:12.517Z"
   },
   {
    "duration": 60,
    "start_time": "2023-04-03T04:23:13.197Z"
   },
   {
    "duration": 24,
    "start_time": "2023-04-03T04:23:41.182Z"
   },
   {
    "duration": 3,
    "start_time": "2023-04-03T04:38:13.248Z"
   },
   {
    "duration": 5,
    "start_time": "2023-04-03T04:38:14.280Z"
   },
   {
    "duration": 236,
    "start_time": "2023-04-03T04:38:15.273Z"
   },
   {
    "duration": 5,
    "start_time": "2023-04-03T04:38:37.106Z"
   },
   {
    "duration": 75,
    "start_time": "2023-04-03T04:38:37.627Z"
   },
   {
    "duration": 4,
    "start_time": "2023-04-03T04:38:37.797Z"
   },
   {
    "duration": 19,
    "start_time": "2023-04-03T04:38:37.956Z"
   },
   {
    "duration": 8,
    "start_time": "2023-04-03T04:38:38.191Z"
   },
   {
    "duration": 6,
    "start_time": "2023-04-03T04:38:38.601Z"
   },
   {
    "duration": 3,
    "start_time": "2023-04-03T04:38:39.297Z"
   },
   {
    "duration": 10,
    "start_time": "2023-04-03T04:38:39.797Z"
   },
   {
    "duration": 3,
    "start_time": "2023-04-03T04:38:40.125Z"
   },
   {
    "duration": 359,
    "start_time": "2023-04-03T04:38:40.427Z"
   },
   {
    "duration": 349,
    "start_time": "2023-04-03T04:38:40.812Z"
   },
   {
    "duration": 212,
    "start_time": "2023-04-03T04:38:41.163Z"
   },
   {
    "duration": 452,
    "start_time": "2023-04-03T04:38:41.377Z"
   },
   {
    "duration": 3,
    "start_time": "2023-04-03T04:38:41.831Z"
   },
   {
    "duration": 16,
    "start_time": "2023-04-03T04:38:41.836Z"
   },
   {
    "duration": 323,
    "start_time": "2023-04-03T04:38:41.854Z"
   },
   {
    "duration": 24,
    "start_time": "2023-04-03T04:38:43.072Z"
   },
   {
    "duration": 58,
    "start_time": "2023-04-03T04:38:43.874Z"
   },
   {
    "duration": 18,
    "start_time": "2023-04-03T04:38:45.519Z"
   },
   {
    "duration": 9,
    "start_time": "2023-04-03T04:38:46.500Z"
   },
   {
    "duration": 6,
    "start_time": "2023-04-03T04:38:48.139Z"
   },
   {
    "duration": 4,
    "start_time": "2023-04-03T04:38:48.809Z"
   },
   {
    "duration": 4,
    "start_time": "2023-04-03T04:38:49.455Z"
   },
   {
    "duration": 3,
    "start_time": "2023-04-03T04:38:51.169Z"
   },
   {
    "duration": 2,
    "start_time": "2023-04-03T04:38:52.000Z"
   },
   {
    "duration": 134,
    "start_time": "2023-04-03T04:38:54.460Z"
   },
   {
    "duration": 4,
    "start_time": "2023-04-03T04:38:55.493Z"
   },
   {
    "duration": 3,
    "start_time": "2023-04-03T04:38:57.447Z"
   },
   {
    "duration": 8,
    "start_time": "2023-04-03T04:39:09.282Z"
   },
   {
    "duration": 5468,
    "start_time": "2023-04-03T04:39:27.882Z"
   },
   {
    "duration": 11,
    "start_time": "2023-04-03T04:39:44.605Z"
   },
   {
    "duration": 238903,
    "start_time": "2023-04-03T04:40:00.625Z"
   },
   {
    "duration": 4453,
    "start_time": "2023-04-03T04:44:08.750Z"
   },
   {
    "duration": 5,
    "start_time": "2023-04-03T04:44:16.845Z"
   },
   {
    "duration": 7,
    "start_time": "2023-04-03T04:44:19.382Z"
   },
   {
    "duration": 3,
    "start_time": "2023-04-03T04:45:16.431Z"
   },
   {
    "duration": 4,
    "start_time": "2023-04-03T04:49:19.792Z"
   },
   {
    "duration": 320826,
    "start_time": "2023-04-03T04:49:24.662Z"
   },
   {
    "duration": 126,
    "start_time": "2023-04-03T04:54:59.740Z"
   },
   {
    "duration": 1588,
    "start_time": "2023-04-03T05:04:46.774Z"
   },
   {
    "duration": 87,
    "start_time": "2023-04-03T05:04:48.363Z"
   },
   {
    "duration": 5,
    "start_time": "2023-04-03T05:04:48.452Z"
   },
   {
    "duration": 46,
    "start_time": "2023-04-03T05:04:48.460Z"
   },
   {
    "duration": 14,
    "start_time": "2023-04-03T05:04:48.508Z"
   },
   {
    "duration": 22,
    "start_time": "2023-04-03T05:04:48.526Z"
   },
   {
    "duration": 9,
    "start_time": "2023-04-03T05:04:48.550Z"
   },
   {
    "duration": 11,
    "start_time": "2023-04-03T05:04:48.560Z"
   },
   {
    "duration": 26,
    "start_time": "2023-04-03T05:04:48.572Z"
   },
   {
    "duration": 396,
    "start_time": "2023-04-03T05:04:48.602Z"
   },
   {
    "duration": 418,
    "start_time": "2023-04-03T05:04:49.000Z"
   },
   {
    "duration": 207,
    "start_time": "2023-04-03T05:04:49.421Z"
   },
   {
    "duration": 380,
    "start_time": "2023-04-03T05:04:49.630Z"
   },
   {
    "duration": 3,
    "start_time": "2023-04-03T05:04:50.012Z"
   },
   {
    "duration": 35,
    "start_time": "2023-04-03T05:04:50.016Z"
   },
   {
    "duration": 383,
    "start_time": "2023-04-03T05:04:50.053Z"
   },
   {
    "duration": 18,
    "start_time": "2023-04-03T05:04:50.438Z"
   },
   {
    "duration": 87,
    "start_time": "2023-04-03T05:04:50.458Z"
   },
   {
    "duration": 18,
    "start_time": "2023-04-03T05:04:50.547Z"
   },
   {
    "duration": 54,
    "start_time": "2023-04-03T05:04:50.566Z"
   },
   {
    "duration": 27,
    "start_time": "2023-04-03T05:04:50.622Z"
   },
   {
    "duration": 61,
    "start_time": "2023-04-03T05:04:50.651Z"
   },
   {
    "duration": 63,
    "start_time": "2023-04-03T05:04:50.713Z"
   },
   {
    "duration": 45,
    "start_time": "2023-04-03T05:04:50.778Z"
   },
   {
    "duration": 57,
    "start_time": "2023-04-03T05:04:50.825Z"
   },
   {
    "duration": 205,
    "start_time": "2023-04-03T05:04:50.884Z"
   },
   {
    "duration": 10,
    "start_time": "2023-04-03T05:04:51.094Z"
   },
   {
    "duration": 21,
    "start_time": "2023-04-03T05:04:51.108Z"
   },
   {
    "duration": 5067,
    "start_time": "2023-04-03T05:04:51.131Z"
   },
   {
    "duration": 232773,
    "start_time": "2023-04-03T05:04:56.201Z"
   },
   {
    "duration": 5300,
    "start_time": "2023-04-03T05:08:48.976Z"
   },
   {
    "duration": 13,
    "start_time": "2023-04-03T05:08:54.279Z"
   },
   {
    "duration": 31,
    "start_time": "2023-04-03T05:08:54.294Z"
   },
   {
    "duration": 17,
    "start_time": "2023-04-03T05:08:54.327Z"
   },
   {
    "duration": 23,
    "start_time": "2023-04-03T05:08:54.346Z"
   },
   {
    "duration": 299628,
    "start_time": "2023-04-03T05:08:54.370Z"
   },
   {
    "duration": 2338844,
    "start_time": "2023-04-03T05:13:54.001Z"
   },
   {
    "duration": 114,
    "start_time": "2023-04-03T05:52:52.846Z"
   },
   {
    "duration": 102,
    "start_time": "2023-04-03T05:52:52.962Z"
   },
   {
    "duration": 13,
    "start_time": "2023-04-03T05:52:53.066Z"
   },
   {
    "duration": 0,
    "start_time": "2023-04-03T05:52:53.081Z"
   },
   {
    "duration": 0,
    "start_time": "2023-04-03T05:52:53.082Z"
   },
   {
    "duration": 0,
    "start_time": "2023-04-03T05:52:53.084Z"
   },
   {
    "duration": 0,
    "start_time": "2023-04-03T05:52:53.086Z"
   },
   {
    "duration": 4,
    "start_time": "2023-04-03T05:53:01.952Z"
   },
   {
    "duration": 406,
    "start_time": "2023-04-03T05:53:02.443Z"
   },
   {
    "duration": 5,
    "start_time": "2023-04-03T05:53:02.851Z"
   },
   {
    "duration": 50,
    "start_time": "2023-04-03T05:53:02.858Z"
   },
   {
    "duration": 7,
    "start_time": "2023-04-03T05:53:02.953Z"
   },
   {
    "duration": 12,
    "start_time": "2023-04-03T05:53:03.292Z"
   },
   {
    "duration": 4,
    "start_time": "2023-04-03T05:53:03.944Z"
   },
   {
    "duration": 9,
    "start_time": "2023-04-03T05:53:04.539Z"
   },
   {
    "duration": 8,
    "start_time": "2023-04-03T05:53:04.733Z"
   },
   {
    "duration": 384,
    "start_time": "2023-04-03T05:53:05.128Z"
   },
   {
    "duration": 409,
    "start_time": "2023-04-03T05:53:05.531Z"
   },
   {
    "duration": 236,
    "start_time": "2023-04-03T05:53:05.942Z"
   },
   {
    "duration": 469,
    "start_time": "2023-04-03T05:53:06.183Z"
   },
   {
    "duration": 4,
    "start_time": "2023-04-03T05:53:06.654Z"
   },
   {
    "duration": 27,
    "start_time": "2023-04-03T05:53:06.660Z"
   },
   {
    "duration": 388,
    "start_time": "2023-04-03T05:53:06.874Z"
   },
   {
    "duration": 23,
    "start_time": "2023-04-03T05:53:08.146Z"
   },
   {
    "duration": 71,
    "start_time": "2023-04-03T05:53:08.932Z"
   },
   {
    "duration": 28,
    "start_time": "2023-04-03T05:53:09.348Z"
   },
   {
    "duration": 11,
    "start_time": "2023-04-03T05:53:09.701Z"
   },
   {
    "duration": 9,
    "start_time": "2023-04-03T05:53:10.449Z"
   },
   {
    "duration": 5,
    "start_time": "2023-04-03T05:53:11.064Z"
   },
   {
    "duration": 4,
    "start_time": "2023-04-03T05:53:11.636Z"
   },
   {
    "duration": 3,
    "start_time": "2023-04-03T05:53:13.056Z"
   },
   {
    "duration": 3,
    "start_time": "2023-04-03T05:53:13.473Z"
   },
   {
    "duration": 220,
    "start_time": "2023-04-03T05:53:13.880Z"
   },
   {
    "duration": 3,
    "start_time": "2023-04-03T05:53:15.039Z"
   },
   {
    "duration": 4,
    "start_time": "2023-04-03T05:53:16.448Z"
   },
   {
    "duration": 5276,
    "start_time": "2023-04-03T05:53:18.261Z"
   },
   {
    "duration": 256342,
    "start_time": "2023-04-03T05:53:27.669Z"
   },
   {
    "duration": 5707,
    "start_time": "2023-04-03T06:05:48.256Z"
   },
   {
    "duration": 6,
    "start_time": "2023-04-03T06:06:22.426Z"
   },
   {
    "duration": 10,
    "start_time": "2023-04-03T06:06:23.193Z"
   },
   {
    "duration": 3,
    "start_time": "2023-04-03T06:06:25.201Z"
   },
   {
    "duration": 1875,
    "start_time": "2023-04-03T06:07:13.566Z"
   },
   {
    "duration": 121,
    "start_time": "2023-04-03T06:07:15.445Z"
   },
   {
    "duration": 5,
    "start_time": "2023-04-03T06:07:15.568Z"
   },
   {
    "duration": 54,
    "start_time": "2023-04-03T06:07:15.575Z"
   },
   {
    "duration": 9,
    "start_time": "2023-04-03T06:07:15.631Z"
   },
   {
    "duration": 20,
    "start_time": "2023-04-03T06:07:15.642Z"
   },
   {
    "duration": 4,
    "start_time": "2023-04-03T06:07:15.664Z"
   },
   {
    "duration": 11,
    "start_time": "2023-04-03T06:07:15.670Z"
   },
   {
    "duration": 5,
    "start_time": "2023-04-03T06:07:15.682Z"
   },
   {
    "duration": 418,
    "start_time": "2023-04-03T06:07:15.690Z"
   },
   {
    "duration": 437,
    "start_time": "2023-04-03T06:07:16.111Z"
   },
   {
    "duration": 223,
    "start_time": "2023-04-03T06:07:16.551Z"
   },
   {
    "duration": 375,
    "start_time": "2023-04-03T06:07:16.776Z"
   },
   {
    "duration": 3,
    "start_time": "2023-04-03T06:07:17.153Z"
   },
   {
    "duration": 18,
    "start_time": "2023-04-03T06:07:17.158Z"
   },
   {
    "duration": 407,
    "start_time": "2023-04-03T06:07:17.182Z"
   },
   {
    "duration": 19,
    "start_time": "2023-04-03T06:07:17.595Z"
   },
   {
    "duration": 93,
    "start_time": "2023-04-03T06:07:17.615Z"
   },
   {
    "duration": 28,
    "start_time": "2023-04-03T06:07:17.710Z"
   },
   {
    "duration": 17,
    "start_time": "2023-04-03T06:07:17.740Z"
   },
   {
    "duration": 25,
    "start_time": "2023-04-03T06:07:17.759Z"
   },
   {
    "duration": 32,
    "start_time": "2023-04-03T06:07:17.786Z"
   },
   {
    "duration": 22,
    "start_time": "2023-04-03T06:07:17.820Z"
   },
   {
    "duration": 25,
    "start_time": "2023-04-03T06:07:17.844Z"
   },
   {
    "duration": 19,
    "start_time": "2023-04-03T06:07:17.871Z"
   },
   {
    "duration": 102,
    "start_time": "2023-04-03T06:07:17.892Z"
   },
   {
    "duration": 105,
    "start_time": "2023-04-03T06:07:17.999Z"
   },
   {
    "duration": 16,
    "start_time": "2023-04-03T06:07:18.109Z"
   },
   {
    "duration": 5285,
    "start_time": "2023-04-03T06:07:18.127Z"
   },
   {
    "duration": 265590,
    "start_time": "2023-04-03T06:07:23.414Z"
   },
   {
    "duration": 6152,
    "start_time": "2023-04-03T06:11:49.009Z"
   },
   {
    "duration": 6,
    "start_time": "2023-04-03T06:11:55.164Z"
   },
   {
    "duration": 40,
    "start_time": "2023-04-03T06:11:55.172Z"
   },
   {
    "duration": 37,
    "start_time": "2023-04-03T06:11:55.214Z"
   },
   {
    "duration": 14,
    "start_time": "2023-04-03T06:11:55.253Z"
   },
   {
    "duration": 287255,
    "start_time": "2023-04-03T06:11:55.269Z"
   },
   {
    "duration": 3490368,
    "start_time": "2023-04-03T06:16:42.526Z"
   },
   {
    "duration": 87589,
    "start_time": "2023-04-03T07:14:52.896Z"
   },
   {
    "duration": 20,
    "start_time": "2023-04-03T07:16:20.487Z"
   },
   {
    "duration": 100,
    "start_time": "2023-04-03T07:16:20.508Z"
   },
   {
    "duration": 88,
    "start_time": "2023-04-03T07:16:20.611Z"
   },
   {
    "duration": 76,
    "start_time": "2023-04-03T07:16:20.702Z"
   },
   {
    "duration": 31,
    "start_time": "2023-04-03T07:16:20.780Z"
   },
   {
    "duration": 154,
    "start_time": "2023-04-03T07:16:20.812Z"
   },
   {
    "duration": 4,
    "start_time": "2023-04-03T08:07:55.088Z"
   },
   {
    "duration": 4,
    "start_time": "2023-04-03T08:10:45.960Z"
   },
   {
    "duration": 1088,
    "start_time": "2023-04-03T08:11:02.209Z"
   },
   {
    "duration": 5,
    "start_time": "2023-04-03T08:11:12.808Z"
   },
   {
    "duration": 20,
    "start_time": "2023-04-03T08:11:42.141Z"
   },
   {
    "duration": 7,
    "start_time": "2023-04-03T08:12:05.168Z"
   },
   {
    "duration": 5,
    "start_time": "2023-04-03T08:12:34.320Z"
   },
   {
    "duration": 5,
    "start_time": "2023-04-03T08:12:36.153Z"
   },
   {
    "duration": 10,
    "start_time": "2023-04-03T08:14:51.664Z"
   },
   {
    "duration": 16,
    "start_time": "2023-04-03T08:15:40.317Z"
   },
   {
    "duration": 4,
    "start_time": "2023-04-03T08:20:59.530Z"
   },
   {
    "duration": 5,
    "start_time": "2023-04-03T08:21:12.720Z"
   },
   {
    "duration": 15,
    "start_time": "2023-04-03T08:21:13.840Z"
   },
   {
    "duration": 5,
    "start_time": "2023-04-03T08:21:23.476Z"
   },
   {
    "duration": 7,
    "start_time": "2023-04-03T08:22:00.731Z"
   },
   {
    "duration": 3,
    "start_time": "2023-04-03T08:22:02.245Z"
   },
   {
    "duration": 988,
    "start_time": "2023-04-03T08:22:06.151Z"
   },
   {
    "duration": 6,
    "start_time": "2023-04-03T08:22:38.067Z"
   },
   {
    "duration": 6,
    "start_time": "2023-04-03T08:22:41.612Z"
   },
   {
    "duration": 7,
    "start_time": "2023-04-03T08:22:58.035Z"
   },
   {
    "duration": 7,
    "start_time": "2023-04-03T08:23:07.264Z"
   },
   {
    "duration": 5,
    "start_time": "2023-04-03T08:23:50.310Z"
   },
   {
    "duration": 4,
    "start_time": "2023-04-03T08:23:50.913Z"
   },
   {
    "duration": 995,
    "start_time": "2023-04-03T08:23:54.810Z"
   },
   {
    "duration": 6,
    "start_time": "2023-04-03T08:23:59.048Z"
   },
   {
    "duration": 4,
    "start_time": "2023-04-03T08:24:07.065Z"
   },
   {
    "duration": 3,
    "start_time": "2023-04-03T08:24:08.980Z"
   },
   {
    "duration": 1126,
    "start_time": "2023-04-03T08:24:10.841Z"
   },
   {
    "duration": 10,
    "start_time": "2023-04-03T08:24:15.876Z"
   },
   {
    "duration": 5,
    "start_time": "2023-04-03T08:24:18.761Z"
   },
   {
    "duration": 4,
    "start_time": "2023-04-03T08:24:23.513Z"
   },
   {
    "duration": 3,
    "start_time": "2023-04-03T08:24:25.751Z"
   },
   {
    "duration": 1637,
    "start_time": "2023-04-03T08:24:27.179Z"
   },
   {
    "duration": 7,
    "start_time": "2023-04-03T08:24:28.818Z"
   },
   {
    "duration": 3,
    "start_time": "2023-04-03T08:24:55.918Z"
   },
   {
    "duration": 957,
    "start_time": "2023-04-03T08:24:56.558Z"
   },
   {
    "duration": 5,
    "start_time": "2023-04-03T08:25:01.655Z"
   },
   {
    "duration": 3,
    "start_time": "2023-04-03T08:25:07.413Z"
   },
   {
    "duration": 1000,
    "start_time": "2023-04-03T08:25:08.412Z"
   },
   {
    "duration": 11,
    "start_time": "2023-04-03T08:25:13.503Z"
   },
   {
    "duration": 3,
    "start_time": "2023-04-03T08:25:19.232Z"
   },
   {
    "duration": 1127,
    "start_time": "2023-04-03T08:25:19.810Z"
   },
   {
    "duration": 6,
    "start_time": "2023-04-03T08:25:20.940Z"
   },
   {
    "duration": 5,
    "start_time": "2023-04-03T08:25:29.106Z"
   },
   {
    "duration": 1347,
    "start_time": "2023-04-03T08:25:29.891Z"
   },
   {
    "duration": 6,
    "start_time": "2023-04-03T08:25:31.240Z"
   },
   {
    "duration": 6,
    "start_time": "2023-04-03T08:25:37.802Z"
   },
   {
    "duration": 1027,
    "start_time": "2023-04-03T08:25:38.312Z"
   },
   {
    "duration": 6,
    "start_time": "2023-04-03T08:25:39.340Z"
   },
   {
    "duration": 5,
    "start_time": "2023-04-03T08:26:29.920Z"
   },
   {
    "duration": 3,
    "start_time": "2023-04-03T08:26:30.632Z"
   },
   {
    "duration": 1141,
    "start_time": "2023-04-03T08:26:31.296Z"
   },
   {
    "duration": 8,
    "start_time": "2023-04-03T08:26:32.440Z"
   },
   {
    "duration": 47,
    "start_time": "2023-04-04T05:57:40.988Z"
   },
   {
    "duration": 5,
    "start_time": "2023-04-04T05:58:56.687Z"
   },
   {
    "duration": 1777,
    "start_time": "2023-04-04T05:59:03.388Z"
   },
   {
    "duration": 65,
    "start_time": "2023-04-04T05:59:05.166Z"
   },
   {
    "duration": 4,
    "start_time": "2023-04-04T05:59:05.233Z"
   },
   {
    "duration": 25,
    "start_time": "2023-04-04T05:59:05.240Z"
   },
   {
    "duration": 16,
    "start_time": "2023-04-04T05:59:05.267Z"
   },
   {
    "duration": 36,
    "start_time": "2023-04-04T05:59:05.284Z"
   },
   {
    "duration": 10,
    "start_time": "2023-04-04T05:59:05.322Z"
   },
   {
    "duration": 22,
    "start_time": "2023-04-04T05:59:05.333Z"
   },
   {
    "duration": 11,
    "start_time": "2023-04-04T05:59:05.357Z"
   },
   {
    "duration": 358,
    "start_time": "2023-04-04T05:59:05.370Z"
   },
   {
    "duration": 373,
    "start_time": "2023-04-04T05:59:05.730Z"
   },
   {
    "duration": 183,
    "start_time": "2023-04-04T05:59:06.104Z"
   },
   {
    "duration": 332,
    "start_time": "2023-04-04T05:59:06.289Z"
   },
   {
    "duration": 2,
    "start_time": "2023-04-04T05:59:06.623Z"
   },
   {
    "duration": 10,
    "start_time": "2023-04-04T05:59:06.627Z"
   },
   {
    "duration": 322,
    "start_time": "2023-04-04T05:59:06.639Z"
   },
   {
    "duration": 23,
    "start_time": "2023-04-04T05:59:06.963Z"
   },
   {
    "duration": 59,
    "start_time": "2023-04-04T05:59:06.988Z"
   },
   {
    "duration": 34,
    "start_time": "2023-04-04T05:59:07.049Z"
   },
   {
    "duration": 14,
    "start_time": "2023-04-04T05:59:07.086Z"
   },
   {
    "duration": 19,
    "start_time": "2023-04-04T05:59:07.102Z"
   },
   {
    "duration": 20,
    "start_time": "2023-04-04T05:59:07.123Z"
   },
   {
    "duration": 44,
    "start_time": "2023-04-04T05:59:07.144Z"
   },
   {
    "duration": 24,
    "start_time": "2023-04-04T05:59:07.191Z"
   },
   {
    "duration": 27,
    "start_time": "2023-04-04T05:59:07.217Z"
   },
   {
    "duration": 146,
    "start_time": "2023-04-04T05:59:07.246Z"
   },
   {
    "duration": 90,
    "start_time": "2023-04-04T05:59:07.395Z"
   },
   {
    "duration": 44,
    "start_time": "2023-04-04T05:59:07.490Z"
   },
   {
    "duration": 4654,
    "start_time": "2023-04-04T05:59:07.536Z"
   },
   {
    "duration": 214385,
    "start_time": "2023-04-04T05:59:12.192Z"
   },
   {
    "duration": 4009,
    "start_time": "2023-04-04T06:02:46.579Z"
   },
   {
    "duration": 5,
    "start_time": "2023-04-04T06:02:50.589Z"
   },
   {
    "duration": 11,
    "start_time": "2023-04-04T06:02:50.596Z"
   },
   {
    "duration": 5,
    "start_time": "2023-04-04T06:02:50.609Z"
   },
   {
    "duration": 7,
    "start_time": "2023-04-04T06:02:50.616Z"
   },
   {
    "duration": 290465,
    "start_time": "2023-04-04T06:02:50.625Z"
   },
   {
    "duration": 3522491,
    "start_time": "2023-04-04T06:07:41.102Z"
   },
   {
    "duration": 100291,
    "start_time": "2023-04-04T07:06:23.595Z"
   },
   {
    "duration": 15,
    "start_time": "2023-04-04T07:08:03.888Z"
   },
   {
    "duration": 76,
    "start_time": "2023-04-04T07:08:03.911Z"
   },
   {
    "duration": 14,
    "start_time": "2023-04-04T07:08:03.988Z"
   },
   {
    "duration": 14,
    "start_time": "2023-04-04T07:08:04.004Z"
   },
   {
    "duration": 9,
    "start_time": "2023-04-04T07:08:04.019Z"
   },
   {
    "duration": 13,
    "start_time": "2023-04-04T07:08:04.029Z"
   },
   {
    "duration": 929,
    "start_time": "2023-04-04T07:08:04.044Z"
   },
   {
    "duration": 7,
    "start_time": "2023-04-04T07:08:04.975Z"
   },
   {
    "duration": 5,
    "start_time": "2023-04-04T07:16:01.140Z"
   },
   {
    "duration": 3,
    "start_time": "2023-04-04T07:16:07.635Z"
   },
   {
    "duration": 1145,
    "start_time": "2023-04-04T07:16:14.212Z"
   },
   {
    "duration": 6,
    "start_time": "2023-04-04T07:16:37.393Z"
   }
  ],
  "kernelspec": {
   "display_name": "Python 3 (ipykernel)",
   "language": "python",
   "name": "python3"
  },
  "language_info": {
   "codemirror_mode": {
    "name": "ipython",
    "version": 3
   },
   "file_extension": ".py",
   "mimetype": "text/x-python",
   "name": "python",
   "nbconvert_exporter": "python",
   "pygments_lexer": "ipython3",
   "version": "3.9.5"
  },
  "toc": {
   "base_numbering": 1,
   "nav_menu": {},
   "number_sections": true,
   "sideBar": true,
   "skip_h1_title": true,
   "title_cell": "Содержание",
   "title_sidebar": "Contents",
   "toc_cell": true,
   "toc_position": {},
   "toc_section_display": true,
   "toc_window_display": false
  }
 },
 "nbformat": 4,
 "nbformat_minor": 2
}
