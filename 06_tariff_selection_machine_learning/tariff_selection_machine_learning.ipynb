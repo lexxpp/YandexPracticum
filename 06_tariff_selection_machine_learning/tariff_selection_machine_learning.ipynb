{
 "cells": [
  {
   "cell_type": "markdown",
   "id": "d17d8fa1",
   "metadata": {
    "toc": true
   },
   "source": [
    "<h1>Table of Contents<span class=\"tocSkip\"></span></h1>\n",
    "<div class=\"toc\"><ul class=\"toc-item\"><li><span><a href=\"#Откроем-и-изучим-файл.\" data-toc-modified-id=\"Откроем-и-изучим-файл.-1\"><span class=\"toc-item-num\">1&nbsp;&nbsp;</span>Откроем и изучим файл.</a></span></li><li><span><a href=\"#Разбивка-данных-на-выборки.\" data-toc-modified-id=\"Разбивка-данных-на-выборки.-2\"><span class=\"toc-item-num\">2&nbsp;&nbsp;</span>Разбивка данных на выборки.</a></span></li><li><span><a href=\"#Исследование-качества-разных-моделей.\" data-toc-modified-id=\"Исследование-качества-разных-моделей.-3\"><span class=\"toc-item-num\">3&nbsp;&nbsp;</span>Исследование качества разных моделей.</a></span></li><li><span><a href=\"#Проверка-моделей-на-вменяемость.\" data-toc-modified-id=\"Проверка-моделей-на-вменяемость.-4\"><span class=\"toc-item-num\">4&nbsp;&nbsp;</span>Проверка моделей на вменяемость.</a></span></li><li><span><a href=\"#Вывод-исследования\" data-toc-modified-id=\"Вывод-исследования-5\"><span class=\"toc-item-num\">5&nbsp;&nbsp;</span>Вывод исследования</a></span></li></ul></div>"
   ]
  },
  {
   "cell_type": "markdown",
   "id": "eb286735",
   "metadata": {},
   "source": [
    "# Рекомендация тарифов"
   ]
  },
  {
   "cell_type": "markdown",
   "id": "2f5f5179",
   "metadata": {},
   "source": [
    "# Описание Проекта"
   ]
  },
  {
   "cell_type": "markdown",
   "id": "7685b989",
   "metadata": {},
   "source": [
    "Оператор мобильной связи определил, что многие их клиенты не переходят на новые тарифы и продолжают пользоваться старыми тарифами. Нам необходимо создать модель которая будет способна правильно рекомендовать клиентами более подходящий для них тариф.\n",
    "\n",
    "В нашем распоряжении есть информация о поведении клиентов, которые уже перешли на новые тарифы: \"Смарт\" и \"Ультра\".\n",
    "\n",
    "Проведем исследование моделей и выберем наиболее точную. Точность модели должна быть более 75%\n",
    "Так же проверим модели на вменяемость.\n",
    "\n",
    "**Задача:**\n",
    "\n",
    "Построить модель с максимально большим значением accuracy. **Минимальный порог точности модели 75%**"
   ]
  },
  {
   "cell_type": "markdown",
   "id": "b678cb8d",
   "metadata": {},
   "source": [
    "# Описание данных"
   ]
  },
  {
   "cell_type": "markdown",
   "id": "f27b3c49",
   "metadata": {},
   "source": [
    "- сalls — количество звонков\n",
    "- minutes — суммарная длительность звонков в минутах\n",
    "- messages — количество sms-сообщений\n",
    "- mb_used — израсходованный интернет-трафик в Мб\n",
    "- is_ultra — каким тарифом пользовался в течение месяца («Ультра» — 1, «Смарт» — 0)"
   ]
  },
  {
   "cell_type": "markdown",
   "id": "e140a1bc",
   "metadata": {},
   "source": [
    "## Откроем и изучим файл."
   ]
  },
  {
   "cell_type": "code",
   "execution_count": 1,
   "id": "f2946048",
   "metadata": {},
   "outputs": [],
   "source": [
    "import pandas as pd\n",
    "\n",
    "from sklearn.tree import DecisionTreeClassifier\n",
    "from sklearn.ensemble import RandomForestClassifier\n",
    "from sklearn.linear_model import LogisticRegression \n",
    "\n",
    "from sklearn.model_selection import train_test_split\n",
    "\n",
    "from sklearn.metrics import mean_squared_error\n",
    "from sklearn.metrics import accuracy_score\n",
    "\n",
    "from sklearn.dummy import DummyClassifier"
   ]
  },
  {
   "cell_type": "code",
   "execution_count": 2,
   "id": "e3865330",
   "metadata": {},
   "outputs": [
    {
     "name": "stdout",
     "output_type": "stream",
     "text": [
      "<class 'pandas.core.frame.DataFrame'>\n",
      "RangeIndex: 3214 entries, 0 to 3213\n",
      "Data columns (total 5 columns):\n",
      " #   Column    Non-Null Count  Dtype  \n",
      "---  ------    --------------  -----  \n",
      " 0   calls     3214 non-null   float64\n",
      " 1   minutes   3214 non-null   float64\n",
      " 2   messages  3214 non-null   float64\n",
      " 3   mb_used   3214 non-null   float64\n",
      " 4   is_ultra  3214 non-null   int64  \n",
      "dtypes: float64(4), int64(1)\n",
      "memory usage: 125.7 KB\n",
      "   calls  minutes  messages   mb_used  is_ultra\n",
      "0   40.0   311.90      83.0  19915.42         0\n",
      "1   85.0   516.75      56.0  22696.96         0\n",
      "2   77.0   467.66      86.0  21060.45         0\n",
      "3  106.0   745.53      81.0   8437.39         1\n",
      "4   66.0   418.74       1.0  14502.75         0\n"
     ]
    }
   ],
   "source": [
    "df = pd.read_csv('/datasets/users_behavior.csv')\n",
    "df.info()\n",
    "print(df.head(5))"
   ]
  },
  {
   "cell_type": "code",
   "execution_count": 3,
   "id": "05678bf8",
   "metadata": {},
   "outputs": [
    {
     "data": {
      "text/html": [
       "<div>\n",
       "<style scoped>\n",
       "    .dataframe tbody tr th:only-of-type {\n",
       "        vertical-align: middle;\n",
       "    }\n",
       "\n",
       "    .dataframe tbody tr th {\n",
       "        vertical-align: top;\n",
       "    }\n",
       "\n",
       "    .dataframe thead th {\n",
       "        text-align: right;\n",
       "    }\n",
       "</style>\n",
       "<table border=\"1\" class=\"dataframe\">\n",
       "  <thead>\n",
       "    <tr style=\"text-align: right;\">\n",
       "      <th></th>\n",
       "      <th>calls</th>\n",
       "      <th>minutes</th>\n",
       "      <th>messages</th>\n",
       "      <th>mb_used</th>\n",
       "      <th>is_ultra</th>\n",
       "    </tr>\n",
       "  </thead>\n",
       "  <tbody>\n",
       "    <tr>\n",
       "      <th>count</th>\n",
       "      <td>3214.000000</td>\n",
       "      <td>3214.000000</td>\n",
       "      <td>3214.000000</td>\n",
       "      <td>3214.000000</td>\n",
       "      <td>3214.000000</td>\n",
       "    </tr>\n",
       "    <tr>\n",
       "      <th>mean</th>\n",
       "      <td>63.038892</td>\n",
       "      <td>438.208787</td>\n",
       "      <td>38.281269</td>\n",
       "      <td>17207.673836</td>\n",
       "      <td>0.306472</td>\n",
       "    </tr>\n",
       "    <tr>\n",
       "      <th>std</th>\n",
       "      <td>33.236368</td>\n",
       "      <td>234.569872</td>\n",
       "      <td>36.148326</td>\n",
       "      <td>7570.968246</td>\n",
       "      <td>0.461100</td>\n",
       "    </tr>\n",
       "    <tr>\n",
       "      <th>min</th>\n",
       "      <td>0.000000</td>\n",
       "      <td>0.000000</td>\n",
       "      <td>0.000000</td>\n",
       "      <td>0.000000</td>\n",
       "      <td>0.000000</td>\n",
       "    </tr>\n",
       "    <tr>\n",
       "      <th>25%</th>\n",
       "      <td>40.000000</td>\n",
       "      <td>274.575000</td>\n",
       "      <td>9.000000</td>\n",
       "      <td>12491.902500</td>\n",
       "      <td>0.000000</td>\n",
       "    </tr>\n",
       "    <tr>\n",
       "      <th>50%</th>\n",
       "      <td>62.000000</td>\n",
       "      <td>430.600000</td>\n",
       "      <td>30.000000</td>\n",
       "      <td>16943.235000</td>\n",
       "      <td>0.000000</td>\n",
       "    </tr>\n",
       "    <tr>\n",
       "      <th>75%</th>\n",
       "      <td>82.000000</td>\n",
       "      <td>571.927500</td>\n",
       "      <td>57.000000</td>\n",
       "      <td>21424.700000</td>\n",
       "      <td>1.000000</td>\n",
       "    </tr>\n",
       "    <tr>\n",
       "      <th>max</th>\n",
       "      <td>244.000000</td>\n",
       "      <td>1632.060000</td>\n",
       "      <td>224.000000</td>\n",
       "      <td>49745.730000</td>\n",
       "      <td>1.000000</td>\n",
       "    </tr>\n",
       "  </tbody>\n",
       "</table>\n",
       "</div>"
      ],
      "text/plain": [
       "             calls      minutes     messages       mb_used     is_ultra\n",
       "count  3214.000000  3214.000000  3214.000000   3214.000000  3214.000000\n",
       "mean     63.038892   438.208787    38.281269  17207.673836     0.306472\n",
       "std      33.236368   234.569872    36.148326   7570.968246     0.461100\n",
       "min       0.000000     0.000000     0.000000      0.000000     0.000000\n",
       "25%      40.000000   274.575000     9.000000  12491.902500     0.000000\n",
       "50%      62.000000   430.600000    30.000000  16943.235000     0.000000\n",
       "75%      82.000000   571.927500    57.000000  21424.700000     1.000000\n",
       "max     244.000000  1632.060000   224.000000  49745.730000     1.000000"
      ]
     },
     "execution_count": 3,
     "metadata": {},
     "output_type": "execute_result"
    }
   ],
   "source": [
    "df.describe()"
   ]
  },
  {
   "cell_type": "markdown",
   "id": "dc854800",
   "metadata": {},
   "source": [
    "**Описание данных**"
   ]
  },
  {
   "cell_type": "markdown",
   "id": "0264619b",
   "metadata": {},
   "source": [
    "сalls — количество звонков\n",
    "\n",
    "minutes — суммарная длительность звонков в минутах\n",
    "\n",
    "messages — количество sms-сообщений\n",
    "\n",
    "mb_used — израсходованный интернет-трафик в Мб\n",
    "\n",
    "is_ultra — каким тарифом пользовался в течение месяца («Ультра» — 1, «Смарт» — 0)"
   ]
  },
  {
   "cell_type": "code",
   "execution_count": 4,
   "id": "00884f30",
   "metadata": {},
   "outputs": [
    {
     "data": {
      "text/plain": [
       "calls       0\n",
       "minutes     0\n",
       "messages    0\n",
       "mb_used     0\n",
       "is_ultra    0\n",
       "dtype: int64"
      ]
     },
     "execution_count": 4,
     "metadata": {},
     "output_type": "execute_result"
    }
   ],
   "source": [
    "df.isnull().sum()"
   ]
  },
  {
   "cell_type": "code",
   "execution_count": 5,
   "id": "6a91990e",
   "metadata": {},
   "outputs": [
    {
     "data": {
      "text/plain": [
       "0"
      ]
     },
     "execution_count": 5,
     "metadata": {},
     "output_type": "execute_result"
    }
   ],
   "source": [
    "df.duplicated().sum()"
   ]
  },
  {
   "cell_type": "markdown",
   "id": "953eff85",
   "metadata": {},
   "source": [
    "В данных пропусков и дубликатов нет. Можно приступать к разбивки на выборки"
   ]
  },
  {
   "cell_type": "markdown",
   "id": "fc5db0c5",
   "metadata": {},
   "source": [
    "## Разбивка данных на выборки."
   ]
  },
  {
   "cell_type": "code",
   "execution_count": 6,
   "id": "8a5603cb",
   "metadata": {},
   "outputs": [],
   "source": [
    "#Разделим данные на три выборки\n",
    "train_valid, test = train_test_split(df, test_size=0.2,random_state=12345)\n",
    "train, valid = train_test_split(train_valid, test_size=0.25,random_state=12345)"
   ]
  },
  {
   "cell_type": "code",
   "execution_count": 7,
   "id": "eac494fb",
   "metadata": {},
   "outputs": [],
   "source": [
    "#Обозначим признаки и целевые признаки для выборок\n",
    "\n",
    "#Признаки для тестовой обучающей выборки\n",
    "features_train = train.drop(['is_ultra'], axis=1)\n",
    "target_train = train['is_ultra']\n",
    "\n",
    "#Признаки для валидационной выборки\n",
    "features_valid = valid.drop(['is_ultra'], axis=1)\n",
    "target_valid = valid['is_ultra']\n",
    "\n",
    "#Признаки для тестовой выборки\n",
    "features_test = test.drop(['is_ultra'], axis=1)\n",
    "target_test = test['is_ultra']"
   ]
  },
  {
   "cell_type": "code",
   "execution_count": 8,
   "id": "8efbe5af",
   "metadata": {},
   "outputs": [
    {
     "data": {
      "text/plain": [
       "(1928, 4)"
      ]
     },
     "metadata": {},
     "output_type": "display_data"
    },
    {
     "data": {
      "text/plain": [
       "(643, 4)"
      ]
     },
     "metadata": {},
     "output_type": "display_data"
    },
    {
     "data": {
      "text/plain": [
       "(643, 4)"
      ]
     },
     "metadata": {},
     "output_type": "display_data"
    }
   ],
   "source": [
    "display(features_train.shape)\n",
    "display(features_valid.shape)\n",
    "display(features_test.shape)"
   ]
  },
  {
   "cell_type": "markdown",
   "id": "a01d6322",
   "metadata": {},
   "source": [
    "## Исследование качества разных моделей."
   ]
  },
  {
   "cell_type": "markdown",
   "id": "5d8f5b49",
   "metadata": {},
   "source": [
    "**Рассмотрим модели предсказаний и найдем наиболее точную**"
   ]
  },
  {
   "cell_type": "markdown",
   "id": "56fd8728",
   "metadata": {},
   "source": [
    "- Обучим модель «Решающее дерево»"
   ]
  },
  {
   "cell_type": "code",
   "execution_count": 9,
   "id": "faffaf16",
   "metadata": {},
   "outputs": [
    {
     "data": {
      "text/plain": [
       "DecisionTreeClassifier(random_state=12345)"
      ]
     },
     "execution_count": 9,
     "metadata": {},
     "output_type": "execute_result"
    }
   ],
   "source": [
    "model_tree = DecisionTreeClassifier(random_state=12345)\n",
    "model_tree.fit(features_train, target_train)"
   ]
  },
  {
   "cell_type": "code",
   "execution_count": 10,
   "id": "55806168",
   "metadata": {},
   "outputs": [
    {
     "name": "stdout",
     "output_type": "stream",
     "text": [
      "Accuracy\n",
      "Обучающая выборка:1.0\n",
      "Валидационная выборка:0.7122861586314152\n"
     ]
    }
   ],
   "source": [
    "train_prediction_tree = model_tree.score(features_train, target_train)\n",
    "valid_prediction_tree = model_tree.score(features_valid, target_valid)\n",
    "\n",
    "print(\"Accuracy\")\n",
    "print(f\"Обучающая выборка:{train_prediction_tree}\")\n",
    "print(f\"Валидационная выборка:{valid_prediction_tree}\")"
   ]
  },
  {
   "cell_type": "markdown",
   "id": "4327e1bf",
   "metadata": {},
   "source": [
    "Модель переобучилась на тестовой выборке и не может дать высокой точности на валидационной выборке. Попробуем улучшить предсказания изменив гиперпараметры глубины максимум до 10 и узнаем улучшатся ли предсказания модели на валидационной выборке"
   ]
  },
  {
   "cell_type": "code",
   "execution_count": 11,
   "id": "c981f995",
   "metadata": {},
   "outputs": [
    {
     "name": "stdout",
     "output_type": "stream",
     "text": [
      "Accuracy лучшей модели: 0.7744945567651633\n"
     ]
    }
   ],
   "source": [
    "best_model = None\n",
    "best_result = 0\n",
    "for depth in range(1, 11):\n",
    "    model_tree = DecisionTreeClassifier(random_state=12345, max_depth=depth) \n",
    "    model_tree.fit(features_train, target_train) \n",
    "    predictions_tree = model_tree.predict(features_valid) \n",
    "    result = accuracy_score(target_valid,predictions_tree)\n",
    "    if result > best_result:\n",
    "        best_model = model_tree\n",
    "        best_result = result\n",
    "print(\"Accuracy лучшей модели:\", best_result)"
   ]
  },
  {
   "cell_type": "markdown",
   "id": "98aa86f8",
   "metadata": {},
   "source": [
    "Точность стала выше. Уточним какая глубина дала самую высокую точность"
   ]
  },
  {
   "cell_type": "code",
   "execution_count": 12,
   "id": "e45e678f",
   "metadata": {},
   "outputs": [
    {
     "name": "stdout",
     "output_type": "stream",
     "text": [
      "max_depth = 1 : 0.7387247278382582\n",
      "max_depth = 2 : 0.7573872472783826\n",
      "max_depth = 3 : 0.7651632970451011\n",
      "max_depth = 4 : 0.7636080870917574\n",
      "max_depth = 5 : 0.7589424572317263\n",
      "max_depth = 6 : 0.7573872472783826\n",
      "max_depth = 7 : 0.7744945567651633\n",
      "max_depth = 8 : 0.7667185069984448\n",
      "max_depth = 9 : 0.7620528771384136\n",
      "max_depth = 10 : 0.7713841368584758\n"
     ]
    }
   ],
   "source": [
    "for depth in range(1, 11):\n",
    "    model_tree = DecisionTreeClassifier(random_state=12345, max_depth=depth)\n",
    "    model_tree.fit(features_train, target_train)\n",
    "    predictions_tree = model_tree.predict(features_valid) \n",
    "\n",
    "    print(\"max_depth =\", depth, \": \", end='')\n",
    "    print(accuracy_score(target_valid,predictions_tree)) "
   ]
  },
  {
   "cell_type": "markdown",
   "id": "4d5d7df7",
   "metadata": {},
   "source": [
    "Проверим лучшую модель на валидационной выборке с лучшими гиперпараметрами и убедимся в результате"
   ]
  },
  {
   "cell_type": "code",
   "execution_count": 13,
   "id": "a49e5bc7",
   "metadata": {},
   "outputs": [
    {
     "name": "stdout",
     "output_type": "stream",
     "text": [
      "Accuracy обучающей выборки:0.8506224066390041\n",
      "Accuracy валидационной выборки:0.7744945567651633\n"
     ]
    }
   ],
   "source": [
    "model_tree = DecisionTreeClassifier(random_state=12345, max_depth=7)\n",
    "model_tree.fit(features_train,target_train)\n",
    "\n",
    "train_prediction_tree = model_tree.score(features_train, target_train)\n",
    "valid_prediction_tree = model_tree.score(features_valid, target_valid)\n",
    "\n",
    "print(f\"Accuracy обучающей выборки:{train_prediction_tree}\")\n",
    "print(f\"Accuracy валидационной выборки:{valid_prediction_tree}\")"
   ]
  },
  {
   "cell_type": "markdown",
   "id": "041c7204",
   "metadata": {},
   "source": [
    "- Обучим модель «Случайный лес» и проверим точность на валидационной выборке"
   ]
  },
  {
   "cell_type": "code",
   "execution_count": 14,
   "id": "ff8b7512",
   "metadata": {},
   "outputs": [
    {
     "name": "stdout",
     "output_type": "stream",
     "text": [
      "Accuracy наилучшей модели на валидационной выборке: 0.7978227060653188 Количество деревьев: 50 Максимальная глубина: 10\n"
     ]
    }
   ],
   "source": [
    "#Обучим модель и найдем лучшую точность среди моделей случайного леса с числом деревьев от 1 до 50 c шагом 10\n",
    "#С максимальной глубиной от 1 до 10\n",
    "\n",
    "\n",
    "best_model_forest = None\n",
    "best_result_forest = 0\n",
    "best_est = 0\n",
    "best_depth = 0\n",
    "for est in range(10,51, 10):\n",
    "    for depth in range (1, 11):\n",
    "        model_rndforest = RandomForestClassifier(random_state=12345, n_estimators=est,max_depth=depth)\n",
    "        model_rndforest.fit(features_train,target_train)\n",
    "        predictions_rndforest = model_rndforest.predict(features_valid) \n",
    "        result_forest = accuracy_score(target_valid,predictions_rndforest) \n",
    "        if result_forest > best_result_forest:\n",
    "            best_model_forest = model_rndforest\n",
    "            best_result_forest = result_forest\n",
    "            best_est = est\n",
    "            best_depth = depth\n",
    "print(\"Accuracy наилучшей модели на валидационной выборке:\", best_result_forest\n",
    "      ,\"Количество деревьев:\", best_est, \"Максимальная глубина:\", depth)"
   ]
  },
  {
   "cell_type": "markdown",
   "id": "102a4de8",
   "metadata": {},
   "source": [
    "Проверим модель на валидационной выборке с лучшими гиперпараметрами и убедимся в результате"
   ]
  },
  {
   "cell_type": "code",
   "execution_count": 15,
   "id": "ac8fed9f",
   "metadata": {},
   "outputs": [
    {
     "name": "stdout",
     "output_type": "stream",
     "text": [
      "Accuracy обучающей выборки:0.8947095435684648\n",
      "Accuracy валидационной выборки:0.7978227060653188\n"
     ]
    }
   ],
   "source": [
    "model_rndforest = RandomForestClassifier(random_state=12345, n_estimators=50,max_depth=10)\n",
    "model_rndforest.fit(features_train,target_train)\n",
    "\n",
    "train_prediction_rndforest = model_rndforest.score(features_train, target_train)\n",
    "valid_prediction_rndforest = model_rndforest.score(features_valid, target_valid)\n",
    "\n",
    "print(f\"Accuracy обучающей выборки:{train_prediction_rndforest}\")\n",
    "print(f\"Accuracy валидационной выборки:{valid_prediction_rndforest}\")"
   ]
  },
  {
   "cell_type": "markdown",
   "id": "f852bd10",
   "metadata": {},
   "source": [
    "- Обучим модель «Логистическая регрессия» и проверим точность"
   ]
  },
  {
   "cell_type": "code",
   "execution_count": 16,
   "id": "d47fdf0b",
   "metadata": {},
   "outputs": [
    {
     "name": "stdout",
     "output_type": "stream",
     "text": [
      "Accuracy на валидационной выборке:0.7262830482115086\n"
     ]
    }
   ],
   "source": [
    "model_lregression = LogisticRegression(random_state=12345, solver='lbfgs', max_iter=1000)\n",
    "\n",
    "model_lregression.fit(features_train,target_train)\n",
    "predictions_lregression = model_lregression.predict(features_valid)\n",
    "result_lregression = accuracy_score(target_valid,predictions_lregression)\n",
    "print(f\"Accuracy на валидационной выборке:{result_lregression}\")"
   ]
  },
  {
   "cell_type": "markdown",
   "id": "5352fca4",
   "metadata": {},
   "source": [
    "Посмотрим на разницу точности между обучающей и валидационной выборкой для этой модели"
   ]
  },
  {
   "cell_type": "code",
   "execution_count": 17,
   "id": "615e0ff0",
   "metadata": {},
   "outputs": [
    {
     "name": "stdout",
     "output_type": "stream",
     "text": [
      "Accuracy обучающей выборки:0.7510373443983402\n",
      "Accuracy тестовой выборки:0.7262830482115086\n"
     ]
    }
   ],
   "source": [
    "train_prediction_lregression = model_lregression.score(features_train, target_train)\n",
    "valid_prediction_lregression = model_lregression.score(features_valid, target_valid)\n",
    "\n",
    "print(f\"Accuracy обучающей выборки:{train_prediction_lregression}\")\n",
    "print(f\"Accuracy тестовой выборки:{valid_prediction_lregression}\")"
   ]
  },
  {
   "cell_type": "markdown",
   "id": "6b18438d",
   "metadata": {},
   "source": [
    "Соберем все значения проверок на валидационной выборке в одну таблицу"
   ]
  },
  {
   "cell_type": "code",
   "execution_count": 18,
   "id": "bbd34bb4",
   "metadata": {},
   "outputs": [
    {
     "data": {
      "text/plain": [
       "'Accuracy тестовых выборок для всех моделей'"
      ]
     },
     "metadata": {},
     "output_type": "display_data"
    },
    {
     "data": {
      "text/plain": [
       "{'DecisionTreeClassifier': 0.7744945567651633,\n",
       " 'RandomForestClassifier': 0.7978227060653188,\n",
       " 'LogisticRegression': 0.7262830482115086}"
      ]
     },
     "execution_count": 18,
     "metadata": {},
     "output_type": "execute_result"
    }
   ],
   "source": [
    "models_acc_score = {'DecisionTreeClassifier': valid_prediction_tree,\n",
    "               'RandomForestClassifier': valid_prediction_rndforest, \n",
    "               'LogisticRegression': valid_prediction_lregression}\n",
    "display('Accuracy тестовых выборок для всех моделей')\n",
    "models_acc_score"
   ]
  },
  {
   "cell_type": "markdown",
   "id": "25e7c90f",
   "metadata": {},
   "source": [
    "Проведем проверку модели «Случайный лес» на тестовой выборке для модели, которая показала лучшие значения точности при проверке на валидационной выборке."
   ]
  },
  {
   "cell_type": "code",
   "execution_count": 19,
   "id": "bbc0ac64",
   "metadata": {},
   "outputs": [
    {
     "name": "stdout",
     "output_type": "stream",
     "text": [
      "Accuracy тестовой выборки:0.7993779160186625\n"
     ]
    }
   ],
   "source": [
    "model_rndforest = RandomForestClassifier(random_state=12345, n_estimators=50,max_depth=10)\n",
    "model_rndforest.fit(features_train,target_train)\n",
    "\n",
    "test_prediction_rndforest = model_rndforest.score(features_test, target_test)\n",
    "\n",
    "print(f\"Accuracy тестовой выборки:{test_prediction_rndforest}\")"
   ]
  },
  {
   "cell_type": "markdown",
   "id": "a83494ab",
   "metadata": {},
   "source": [
    "Точность на тестовой выборке стала еще чуть выше, чем при проверке на валидационной. Это модель стала лучшей по итогу нашего исследования и будет выбрана рекомендуемой для помощи рекомендаций тарифов клиентам."
   ]
  },
  {
   "cell_type": "markdown",
   "id": "81e5b205",
   "metadata": {},
   "source": [
    "Стоит отметить что самый важный критерий для бизнеса - точность.Скорость работы модели так же важна и если модель делает предсказания слишком долго, то можно столкнуться с недовольством клинетов или специлистов которые пользуются этой моделью.\n",
    "\n",
    "Отдельно для каждой модели:\n",
    "\n",
    "- «Решающее дерево»          : Среднее качество и Высокая скорость\n",
    "- «Случайный лес»            : Высокое качество и Средняя скорость\n",
    "- «Логистическая регрессия»  : Низкое качество и Высокая скорость\n",
    "\n",
    "\n",
    "При постановки задачи ничего не было сказано о скорости, поэтому этот критерий мы учитывать не будем."
   ]
  },
  {
   "cell_type": "markdown",
   "id": "d9858aee",
   "metadata": {},
   "source": [
    "##  Проверка моделей на вменяемость."
   ]
  },
  {
   "cell_type": "markdown",
   "id": "e53d6309",
   "metadata": {},
   "source": [
    "Для проверки моделей на вменяесть можно использовать клиссификатор DummyClassifier. Исходя из описания в документации этот класифиатор делает прогнозы, которые игнорируют входные признаки (features). Этот классификатор служит простой базой для сравнения с другими более сложными классификаторами.\n",
    "\n",
    "Будем использовать гиперпараметры 'uniform' и 'most_frequent'\n",
    "\n",
    "'uniform' - генерирует предсказания случайным образом.\n",
    "\n",
    "'most_frequent' - всегда предсказывает наиболее часто встречающуюся метку в обучающем наборе."
   ]
  },
  {
   "cell_type": "code",
   "execution_count": 20,
   "id": "32950e86",
   "metadata": {},
   "outputs": [
    {
     "name": "stdout",
     "output_type": "stream",
     "text": [
      "Результат случайной стратегии модели на валдационной выборке: 0.5023328149300156\n",
      "Результат случайной стратегии модели на тестовой выборке: 0.48989113530326595\n"
     ]
    }
   ],
   "source": [
    "dummy_model = DummyClassifier(random_state=12345, strategy='uniform')\n",
    "dummy_model.fit(features_train, target_train)\n",
    "\n",
    "dummy_valid = dummy_model.score(features_valid, target_valid)\n",
    "dummy_test = dummy_model.score(features_test, target_test)\n",
    "\n",
    "print(f'Результат случайной стратегии модели на валдационной выборке: {dummy_valid}')\n",
    "print(f'Результат случайной стратегии модели на тестовой выборке: {dummy_test}')"
   ]
  },
  {
   "cell_type": "code",
   "execution_count": 22,
   "id": "d59eec6e",
   "metadata": {},
   "outputs": [
    {
     "name": "stdout",
     "output_type": "stream",
     "text": [
      "Результат случайной модели на валидационной выборке: 0.6889580093312597\n",
      "Результат случайной модели на тестовой выборке: 0.6951788491446346\n"
     ]
    }
   ],
   "source": [
    "dummy_model = DummyClassifier(random_state=12345, strategy='most_frequent')\n",
    "dummy_model.fit(features_train, target_train)\n",
    "\n",
    "dummy_valid = dummy_model.score(features_valid, target_valid)\n",
    "dummy_test = dummy_model.score(features_test, target_test)\n",
    "\n",
    "print(f'Результат случайной модели на валидационной выборке: {dummy_valid}')\n",
    "print(f'Результат случайной модели на тестовой выборке: {dummy_test}')"
   ]
  },
  {
   "cell_type": "markdown",
   "id": "14434633",
   "metadata": {},
   "source": [
    "Результат этих предсказаний дают ~50% для случайной стратегии гиперпараметров и не более ~70% для стретегии с предсказаниями наиболее часто встречающуюся метку в обучающем наборе. Это дает нам основание сделать вывовод, что мы доказали вменяемость моделей которые мы рассмотрели ранее."
   ]
  },
  {
   "cell_type": "markdown",
   "id": "a248bc0a",
   "metadata": {},
   "source": [
    "## Вывод исследования"
   ]
  },
  {
   "cell_type": "markdown",
   "id": "40de99bb",
   "metadata": {},
   "source": [
    "Изучив 3 модели и и проведя исследования на разных выборках были получены следующие значения точности для валидационных выборок:\n",
    "\n",
    "- Модель «Решающее дерево»: 0.7744945567651633\n",
    "- Модель «Случайного леса»: 0.7978227060653188\n",
    "- Модель «Логистическая регрессия»: 0.7262830482115086\n",
    "\n",
    "на основании этого модель «Случайного леса» была выбрана для проверки на тестовой выборке и показала значения точности:\n",
    "\n",
    "- 0.7993779160186625\n",
    "\n",
    "Модели «Решающее дерево» и «Случайного леса» показали более высокие значения точности прогнозов в сравнении с «Логистическая регрессия».\n",
    "\n",
    "Если скорость обучения модели не является значительным праметром для определения лучшей модели, то модель «Случайного леса» мы определим как самую успешную по результатам исследования"
   ]
  }
 ],
 "metadata": {
  "ExecuteTimeLog": [
   {
    "duration": 1729,
    "start_time": "2023-01-06T08:31:21.522Z"
   },
   {
    "duration": 42,
    "start_time": "2023-01-06T08:31:23.253Z"
   },
   {
    "duration": 31,
    "start_time": "2023-01-06T08:31:23.297Z"
   },
   {
    "duration": 7,
    "start_time": "2023-01-06T08:31:23.330Z"
   },
   {
    "duration": 39,
    "start_time": "2023-01-06T08:31:23.340Z"
   },
   {
    "duration": 8,
    "start_time": "2023-01-06T08:31:23.381Z"
   },
   {
    "duration": 14,
    "start_time": "2023-01-06T08:31:23.390Z"
   },
   {
    "duration": 26,
    "start_time": "2023-01-06T08:31:23.406Z"
   },
   {
    "duration": 10,
    "start_time": "2023-01-06T08:31:23.434Z"
   },
   {
    "duration": 98,
    "start_time": "2023-01-06T08:31:23.448Z"
   },
   {
    "duration": 89,
    "start_time": "2023-01-06T08:31:23.548Z"
   },
   {
    "duration": 14,
    "start_time": "2023-01-06T08:31:23.639Z"
   },
   {
    "duration": 4035,
    "start_time": "2023-01-06T08:31:23.655Z"
   },
   {
    "duration": 386,
    "start_time": "2023-01-06T08:31:27.692Z"
   },
   {
    "duration": 41,
    "start_time": "2023-01-06T08:31:28.080Z"
   },
   {
    "duration": 64,
    "start_time": "2023-01-06T08:31:28.122Z"
   },
   {
    "duration": 10,
    "start_time": "2023-01-06T08:31:28.188Z"
   },
   {
    "duration": 9,
    "start_time": "2023-01-06T08:31:28.199Z"
   },
   {
    "duration": 13,
    "start_time": "2023-01-06T08:31:28.210Z"
   },
   {
    "duration": 2329,
    "start_time": "2023-01-08T06:20:41.520Z"
   },
   {
    "duration": 122,
    "start_time": "2023-01-08T06:20:43.851Z"
   },
   {
    "duration": 61,
    "start_time": "2023-01-08T06:20:43.975Z"
   },
   {
    "duration": 6,
    "start_time": "2023-01-08T06:20:44.039Z"
   },
   {
    "duration": 7,
    "start_time": "2023-01-08T06:20:44.047Z"
   },
   {
    "duration": 70,
    "start_time": "2023-01-08T06:20:44.055Z"
   },
   {
    "duration": 16,
    "start_time": "2023-01-08T06:20:44.127Z"
   },
   {
    "duration": 12,
    "start_time": "2023-01-08T06:20:44.145Z"
   },
   {
    "duration": 71,
    "start_time": "2023-01-08T06:20:44.159Z"
   },
   {
    "duration": 11,
    "start_time": "2023-01-08T06:20:44.234Z"
   },
   {
    "duration": 185,
    "start_time": "2023-01-08T06:20:44.247Z"
   },
   {
    "duration": 190,
    "start_time": "2023-01-08T06:20:44.434Z"
   },
   {
    "duration": 20,
    "start_time": "2023-01-08T06:20:44.626Z"
   },
   {
    "duration": 8074,
    "start_time": "2023-01-08T06:20:44.647Z"
   },
   {
    "duration": 400,
    "start_time": "2023-01-08T06:20:52.723Z"
   },
   {
    "duration": 100,
    "start_time": "2023-01-08T06:20:53.124Z"
   },
   {
    "duration": 9,
    "start_time": "2023-01-08T06:20:53.225Z"
   },
   {
    "duration": 16,
    "start_time": "2023-01-08T06:20:53.235Z"
   },
   {
    "duration": 375,
    "start_time": "2023-01-08T06:20:53.253Z"
   },
   {
    "duration": 7,
    "start_time": "2023-01-08T06:20:53.629Z"
   },
   {
    "duration": 20,
    "start_time": "2023-01-08T06:20:53.638Z"
   },
   {
    "duration": 6,
    "start_time": "2023-01-08T06:29:33.135Z"
   }
  ],
  "kernelspec": {
   "display_name": "Python 3 (ipykernel)",
   "language": "python",
   "name": "python3"
  },
  "language_info": {
   "codemirror_mode": {
    "name": "ipython",
    "version": 3
   },
   "file_extension": ".py",
   "mimetype": "text/x-python",
   "name": "python",
   "nbconvert_exporter": "python",
   "pygments_lexer": "ipython3",
   "version": "3.9.5"
  },
  "toc": {
   "base_numbering": 1,
   "nav_menu": {},
   "number_sections": true,
   "sideBar": true,
   "skip_h1_title": true,
   "title_cell": "Table of Contents",
   "title_sidebar": "Contents",
   "toc_cell": true,
   "toc_position": {
    "height": "calc(100% - 180px)",
    "left": "10px",
    "top": "150px",
    "width": "165px"
   },
   "toc_section_display": true,
   "toc_window_display": true
  }
 },
 "nbformat": 4,
 "nbformat_minor": 5
}
