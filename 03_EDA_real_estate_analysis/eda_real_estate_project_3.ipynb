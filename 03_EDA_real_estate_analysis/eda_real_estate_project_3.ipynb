{
 "cells": [
  {
   "cell_type": "markdown",
   "metadata": {},
   "source": [
    "# Исследование объявлений о продаже квартир\n",
    "\n",
    "В вашем распоряжении данные сервиса Яндекс.Недвижимость — архив объявлений о продаже квартир в Санкт-Петербурге и соседних населённых пунктов за несколько лет. Нужно научиться определять рыночную стоимость объектов недвижимости. Ваша задача — установить параметры. Это позволит построить автоматизированную систему: она отследит аномалии и мошенническую деятельность. \n",
    "\n",
    "По каждой квартире на продажу доступны два вида данных. Первые вписаны пользователем, вторые — получены автоматически на основе картографических данных. Например, расстояние до центра, аэропорта, ближайшего парка и водоёма. \n",
    "\n",
    "**Описание данных:**\n",
    "\n",
    "- airports_nearest — расстояние до ближайшего аэропорта в метрах (м)\n",
    "- balcony — число балконов\n",
    "- ceiling_height — высота потолков (м)\n",
    "- cityCenters_nearest — расстояние до центра города (м)\n",
    "- days_exposition — сколько дней было размещено объявление (от публикации до снятия)\n",
    "- first_day_exposition — дата публикации\n",
    "- floor — этаж\n",
    "- floors_total — всего этажей в доме\n",
    "- is_apartment — апартаменты (булев тип)\n",
    "- kitchen_area — площадь кухни в квадратных метрах (м²)\n",
    "- last_price — цена на момент снятия с публикации\n",
    "- living_area — жилая площадь в квадратных метрах (м²)\n",
    "- locality_name — название населённого пункта\n",
    "- open_plan — свободная планировка (булев тип)\n",
    "- parks_around3000 — число парков в радиусе 3 км\n",
    "- parks_nearest — расстояние до ближайшего парка (м)\n",
    "- ponds_around3000 — число водоёмов в радиусе 3 км\n",
    "- ponds_nearest — расстояние до ближайшего водоёма (м)\n",
    "- rooms — число комнат\n",
    "- studio — квартира-студия (булев тип)\n",
    "- total_area — общая площадь квартиры в квадратных метрах (м²)\n",
    "- total_images — число фотографий квартиры в объявлении\n",
    "\n"
   ]
  },
  {
   "cell_type": "markdown",
   "metadata": {},
   "source": [
    "### Откроем файл с данными и изучите общую информацию. "
   ]
  },
  {
   "cell_type": "markdown",
   "metadata": {},
   "source": [
    "**Импортируем необходимые библиотеки и ознакомимся с датасетом.**"
   ]
  },
  {
   "cell_type": "code",
   "execution_count": 1,
   "metadata": {},
   "outputs": [
    {
     "name": "stdout",
     "output_type": "stream",
     "text": [
      "<class 'pandas.core.frame.DataFrame'>\n",
      "RangeIndex: 23699 entries, 0 to 23698\n",
      "Data columns (total 22 columns):\n",
      " #   Column                Non-Null Count  Dtype  \n",
      "---  ------                --------------  -----  \n",
      " 0   total_images          23699 non-null  int64  \n",
      " 1   last_price            23699 non-null  float64\n",
      " 2   total_area            23699 non-null  float64\n",
      " 3   first_day_exposition  23699 non-null  object \n",
      " 4   rooms                 23699 non-null  int64  \n",
      " 5   ceiling_height        14504 non-null  float64\n",
      " 6   floors_total          23613 non-null  float64\n",
      " 7   living_area           21796 non-null  float64\n",
      " 8   floor                 23699 non-null  int64  \n",
      " 9   is_apartment          2775 non-null   object \n",
      " 10  studio                23699 non-null  bool   \n",
      " 11  open_plan             23699 non-null  bool   \n",
      " 12  kitchen_area          21421 non-null  float64\n",
      " 13  balcony               12180 non-null  float64\n",
      " 14  locality_name         23650 non-null  object \n",
      " 15  airports_nearest      18157 non-null  float64\n",
      " 16  cityCenters_nearest   18180 non-null  float64\n",
      " 17  parks_around3000      18181 non-null  float64\n",
      " 18  parks_nearest         8079 non-null   float64\n",
      " 19  ponds_around3000      18181 non-null  float64\n",
      " 20  ponds_nearest         9110 non-null   float64\n",
      " 21  days_exposition       20518 non-null  float64\n",
      "dtypes: bool(2), float64(14), int64(3), object(3)\n",
      "memory usage: 3.7+ MB\n",
      "   total_images  last_price  total_area first_day_exposition  rooms  \\\n",
      "0            20  13000000.0      108.00  2019-03-07T00:00:00      3   \n",
      "1             7   3350000.0       40.40  2018-12-04T00:00:00      1   \n",
      "2            10   5196000.0       56.00  2015-08-20T00:00:00      2   \n",
      "3             0  64900000.0      159.00  2015-07-24T00:00:00      3   \n",
      "4             2  10000000.0      100.00  2018-06-19T00:00:00      2   \n",
      "5            10   2890000.0       30.40  2018-09-10T00:00:00      1   \n",
      "6             6   3700000.0       37.30  2017-11-02T00:00:00      1   \n",
      "7             5   7915000.0       71.60  2019-04-18T00:00:00      2   \n",
      "8            20   2900000.0       33.16  2018-05-23T00:00:00      1   \n",
      "9            18   5400000.0       61.00  2017-02-26T00:00:00      3   \n",
      "\n",
      "   ceiling_height  floors_total  living_area  floor is_apartment  ...  \\\n",
      "0            2.70          16.0        51.00      8          NaN  ...   \n",
      "1             NaN          11.0        18.60      1          NaN  ...   \n",
      "2             NaN           5.0        34.30      4          NaN  ...   \n",
      "3             NaN          14.0          NaN      9          NaN  ...   \n",
      "4            3.03          14.0        32.00     13          NaN  ...   \n",
      "5             NaN          12.0        14.40      5          NaN  ...   \n",
      "6             NaN          26.0        10.60      6          NaN  ...   \n",
      "7             NaN          24.0          NaN     22          NaN  ...   \n",
      "8             NaN          27.0        15.43     26          NaN  ...   \n",
      "9            2.50           9.0        43.60      7          NaN  ...   \n",
      "\n",
      "   kitchen_area  balcony              locality_name  airports_nearest  \\\n",
      "0         25.00      NaN            Санкт-Петербург           18863.0   \n",
      "1         11.00      2.0             посёлок Шушары           12817.0   \n",
      "2          8.30      0.0            Санкт-Петербург           21741.0   \n",
      "3           NaN      0.0            Санкт-Петербург           28098.0   \n",
      "4         41.00      NaN            Санкт-Петербург           31856.0   \n",
      "5          9.10      NaN  городской посёлок Янино-1               NaN   \n",
      "6         14.40      1.0          посёлок Парголово           52996.0   \n",
      "7         18.90      2.0            Санкт-Петербург           23982.0   \n",
      "8          8.81      NaN             посёлок Мурино               NaN   \n",
      "9          6.50      2.0            Санкт-Петербург           50898.0   \n",
      "\n",
      "  cityCenters_nearest  parks_around3000  parks_nearest  ponds_around3000  \\\n",
      "0             16028.0               1.0          482.0               2.0   \n",
      "1             18603.0               0.0            NaN               0.0   \n",
      "2             13933.0               1.0           90.0               2.0   \n",
      "3              6800.0               2.0           84.0               3.0   \n",
      "4              8098.0               2.0          112.0               1.0   \n",
      "5                 NaN               NaN            NaN               NaN   \n",
      "6             19143.0               0.0            NaN               0.0   \n",
      "7             11634.0               0.0            NaN               0.0   \n",
      "8                 NaN               NaN            NaN               NaN   \n",
      "9             15008.0               0.0            NaN               0.0   \n",
      "\n",
      "   ponds_nearest  days_exposition  \n",
      "0          755.0              NaN  \n",
      "1            NaN             81.0  \n",
      "2          574.0            558.0  \n",
      "3          234.0            424.0  \n",
      "4           48.0            121.0  \n",
      "5            NaN             55.0  \n",
      "6            NaN            155.0  \n",
      "7            NaN              NaN  \n",
      "8            NaN            189.0  \n",
      "9            NaN            289.0  \n",
      "\n",
      "[10 rows x 22 columns]\n"
     ]
    }
   ],
   "source": [
    "import pandas as pd\n",
    "import numpy as np\n",
    "import matplotlib.pyplot as plt\n",
    "import warnings\n",
    "warnings.simplefilter(action='ignore', category=FutureWarning)\n",
    "df = pd.read_csv('/datasets/real_estate_data.csv',sep='\\t')\n",
    "df.info()\n",
    "print(df.head(10))"
   ]
  },
  {
   "cell_type": "markdown",
   "metadata": {},
   "source": [
    "Некоторые столбцы содержат неверный формат - необходимо будет изменить его. \n",
    "Также присутствуют пропуски в значениях - необходимо найти логическую замену этим пропускам или оставить их пустыми, если такой замены найти нвозможно. Столбец 'cityCenters_nearest' содержит заглавные буквы - переименуем его."
   ]
  },
  {
   "cell_type": "code",
   "execution_count": 2,
   "metadata": {},
   "outputs": [
    {
     "data": {
      "text/plain": [
       "['total_images',\n",
       " 'last_price',\n",
       " 'total_area',\n",
       " 'first_day_exposition',\n",
       " 'rooms',\n",
       " 'ceiling_height',\n",
       " 'floors_total',\n",
       " 'living_area',\n",
       " 'floor',\n",
       " 'is_apartment',\n",
       " 'studio',\n",
       " 'open_plan',\n",
       " 'kitchen_area',\n",
       " 'balcony',\n",
       " 'locality_name',\n",
       " 'airports_nearest',\n",
       " 'city_centers_nearest',\n",
       " 'parks_around3000',\n",
       " 'parks_nearest',\n",
       " 'ponds_around3000',\n",
       " 'ponds_nearest',\n",
       " 'days_exposition']"
      ]
     },
     "execution_count": 2,
     "metadata": {},
     "output_type": "execute_result"
    }
   ],
   "source": [
    "df = df.rename(columns={'cityCenters_nearest': 'city_centers_nearest'})\n",
    "\n",
    "#Проверим результат\n",
    "df.columns.tolist()"
   ]
  },
  {
   "cell_type": "code",
   "execution_count": 51,
   "metadata": {},
   "outputs": [
    {
     "data": {
      "image/png": "[encoded data removed]",
      "text/plain": [
       "<Figure size 1080x1440 with 25 Axes>"
      ]
     },
     "metadata": {
      "needs_background": "light"
     },
     "output_type": "display_data"
    }
   ],
   "source": [
    "df.hist(figsize=(15, 20));"
   ]
  },
  {
   "cell_type": "markdown",
   "metadata": {},
   "source": [
    "Некоторые столбцы содержат неверный формат - необходимо будет изменить его. \n",
    "Также присутствуют пропуски в значениях - необходимо найти логическую замену этим пропускам или оставить их пустыми, если такой замены найти нвозможно. Столбец 'cityCenters_nearest' содержит заглавные буквы - переименуем его."
   ]
  },
  {
   "cell_type": "markdown",
   "metadata": {},
   "source": [
    "### Предобработка данных"
   ]
  },
  {
   "cell_type": "markdown",
   "metadata": {},
   "source": [
    "**Опеределяем количество пропущеных значений в датасете:**"
   ]
  },
  {
   "cell_type": "code",
   "execution_count": 4,
   "metadata": {},
   "outputs": [
    {
     "data": {
      "text/plain": [
       "total_images                0\n",
       "last_price                  0\n",
       "total_area                  0\n",
       "first_day_exposition        0\n",
       "rooms                       0\n",
       "ceiling_height           9195\n",
       "floors_total               86\n",
       "living_area              1903\n",
       "floor                       0\n",
       "is_apartment            20924\n",
       "studio                      0\n",
       "open_plan                   0\n",
       "kitchen_area             2278\n",
       "balcony                 11519\n",
       "locality_name              49\n",
       "airports_nearest         5542\n",
       "city_centers_nearest     5519\n",
       "parks_around3000         5518\n",
       "parks_nearest           15620\n",
       "ponds_around3000         5518\n",
       "ponds_nearest           14589\n",
       "days_exposition          3181\n",
       "dtype: int64"
      ]
     },
     "execution_count": 4,
     "metadata": {},
     "output_type": "execute_result"
    }
   ],
   "source": [
    "df.isna().sum()"
   ]
  },
  {
   "cell_type": "markdown",
   "metadata": {},
   "source": [
    "Столбцы 'ceiling_height','living_area' и 'kitchen_area' заполним медианными значениями.\n",
    "В столбце 'balcony' пропуски вероятнее всего появились из за того что его просто нет на этом объекте. Эти данные нужно исправить на значения - '0'.\n",
    "Пропуски в столбце 'is_apartment' появились по той же причине что и в 'balcony' - вероятнее всего пропуск появился по причине того что этот объект не является апартаментами и продавец не стал указывать этот параметр. Строки с пропусками\n",
    "'locality_name' придется удалить, т.к эти данные бесполезны ( Объявления без привязки к локации покупателями просматриваться скорее всего не будут)\n",
    "\n",
    "Пропуски в 'parks_around3000' и 'ponds_around3000' вероятнее всего не указаны, т.к рядом нет этих объектов и нужно заменить пропуски на значения - '0'\n",
    "\n",
    "Данные из столбцов 'parks_nearest','airports_nearest','city_сenters_nearest','ponds_nearest' придется оставить без изменения, т.к использовать медианные значения для заполнения пропусков нельзя - это исказит данные. Так же данных для определения локации объекта у нас нет.\n",
    "\n",
    "Пропуски в столбце 'days_exposition' вероятнее всего указывают на то что объявление было опубликовано в этот же день - заменим пропуски нулями."
   ]
  },
  {
   "cell_type": "code",
   "execution_count": 5,
   "metadata": {
    "scrolled": true
   },
   "outputs": [],
   "source": [
    "#Изменяем типы данных на корректные и заполняем нулями пропуски\n",
    "\n",
    "#Изменяем тип данных и заполняем отсутствующие значения\n",
    "\n",
    "df['last_price']= df['last_price'].astype('Int64')\n",
    "df['first_day_exposition']= pd.to_datetime(df['first_day_exposition'],format='%Y-%m-%d')\n",
    "df['is_apartment']= df['is_apartment'].fillna(False)\n",
    "df['balcony']= df['balcony'].astype('Int64').fillna(0)\n",
    "df['floors_total']= df['floors_total'].astype('Int64')\n",
    "df['last_price']= df['last_price'].astype('Int64')\n",
    "df['ponds_around3000']= df['ponds_around3000'].astype('Int64').fillna(0)\n",
    "df['parks_around3000']= df['parks_around3000'].astype('Int64').fillna(0)\n",
    "df['days_exposition']= df['days_exposition'].round().astype('Int64')\n",
    "\n",
    "\n",
    "#Заполняем медианными значениями отсутствующие данные в параметрах площади квартиры где это возможно\n",
    "\n",
    "df['ceiling_height'] = df['ceiling_height'].fillna(df['ceiling_height'].median())\n",
    "df['living_area'] = df['living_area'].fillna(df.groupby(['total_area'])['living_area'].transform('median'))\n",
    "df['kitchen_area'] = df['kitchen_area'].fillna(df.groupby(['total_area'])['kitchen_area'].transform('median'))"
   ]
  },
  {
   "cell_type": "markdown",
   "metadata": {},
   "source": [
    "Столбец 'floors_total' имеет 86 пропусков - давайте выясним могут ли быть в этом столбце пропуски связаны с тем, что этот объект является одноэтажным строением и пропуски были указаны намерено"
   ]
  },
  {
   "cell_type": "code",
   "execution_count": 6,
   "metadata": {},
   "outputs": [
    {
     "data": {
      "text/html": [
       "<div>\n",
       "<style scoped>\n",
       "    .dataframe tbody tr th:only-of-type {\n",
       "        vertical-align: middle;\n",
       "    }\n",
       "\n",
       "    .dataframe tbody tr th {\n",
       "        vertical-align: top;\n",
       "    }\n",
       "\n",
       "    .dataframe thead th {\n",
       "        text-align: right;\n",
       "    }\n",
       "</style>\n",
       "<table border=\"1\" class=\"dataframe\">\n",
       "  <thead>\n",
       "    <tr style=\"text-align: right;\">\n",
       "      <th></th>\n",
       "      <th>total_images</th>\n",
       "      <th>last_price</th>\n",
       "      <th>total_area</th>\n",
       "      <th>first_day_exposition</th>\n",
       "      <th>rooms</th>\n",
       "      <th>ceiling_height</th>\n",
       "      <th>floors_total</th>\n",
       "      <th>living_area</th>\n",
       "      <th>floor</th>\n",
       "      <th>is_apartment</th>\n",
       "      <th>...</th>\n",
       "      <th>kitchen_area</th>\n",
       "      <th>balcony</th>\n",
       "      <th>locality_name</th>\n",
       "      <th>airports_nearest</th>\n",
       "      <th>city_centers_nearest</th>\n",
       "      <th>parks_around3000</th>\n",
       "      <th>parks_nearest</th>\n",
       "      <th>ponds_around3000</th>\n",
       "      <th>ponds_nearest</th>\n",
       "      <th>days_exposition</th>\n",
       "    </tr>\n",
       "  </thead>\n",
       "  <tbody>\n",
       "    <tr>\n",
       "      <th>186</th>\n",
       "      <td>12</td>\n",
       "      <td>11640000</td>\n",
       "      <td>65.2</td>\n",
       "      <td>2018-10-02</td>\n",
       "      <td>2</td>\n",
       "      <td>2.65</td>\n",
       "      <td>&lt;NA&gt;</td>\n",
       "      <td>30.80</td>\n",
       "      <td>4</td>\n",
       "      <td>False</td>\n",
       "      <td>...</td>\n",
       "      <td>12.00</td>\n",
       "      <td>0</td>\n",
       "      <td>Санкт-Петербург</td>\n",
       "      <td>39197.0</td>\n",
       "      <td>12373.0</td>\n",
       "      <td>1</td>\n",
       "      <td>123.0</td>\n",
       "      <td>0</td>\n",
       "      <td>NaN</td>\n",
       "      <td>49</td>\n",
       "    </tr>\n",
       "    <tr>\n",
       "      <th>237</th>\n",
       "      <td>4</td>\n",
       "      <td>2438033</td>\n",
       "      <td>28.1</td>\n",
       "      <td>2016-11-23</td>\n",
       "      <td>1</td>\n",
       "      <td>2.65</td>\n",
       "      <td>&lt;NA&gt;</td>\n",
       "      <td>20.75</td>\n",
       "      <td>1</td>\n",
       "      <td>False</td>\n",
       "      <td>...</td>\n",
       "      <td>6.80</td>\n",
       "      <td>0</td>\n",
       "      <td>Санкт-Петербург</td>\n",
       "      <td>22041.0</td>\n",
       "      <td>17369.0</td>\n",
       "      <td>0</td>\n",
       "      <td>NaN</td>\n",
       "      <td>1</td>\n",
       "      <td>374.0</td>\n",
       "      <td>251</td>\n",
       "    </tr>\n",
       "    <tr>\n",
       "      <th>457</th>\n",
       "      <td>4</td>\n",
       "      <td>9788348</td>\n",
       "      <td>70.8</td>\n",
       "      <td>2015-08-01</td>\n",
       "      <td>2</td>\n",
       "      <td>2.65</td>\n",
       "      <td>&lt;NA&gt;</td>\n",
       "      <td>38.40</td>\n",
       "      <td>12</td>\n",
       "      <td>False</td>\n",
       "      <td>...</td>\n",
       "      <td>10.63</td>\n",
       "      <td>0</td>\n",
       "      <td>Санкт-Петербург</td>\n",
       "      <td>37364.0</td>\n",
       "      <td>8322.0</td>\n",
       "      <td>2</td>\n",
       "      <td>309.0</td>\n",
       "      <td>2</td>\n",
       "      <td>706.0</td>\n",
       "      <td>727</td>\n",
       "    </tr>\n",
       "    <tr>\n",
       "      <th>671</th>\n",
       "      <td>4</td>\n",
       "      <td>6051191</td>\n",
       "      <td>93.6</td>\n",
       "      <td>2017-04-06</td>\n",
       "      <td>3</td>\n",
       "      <td>2.65</td>\n",
       "      <td>&lt;NA&gt;</td>\n",
       "      <td>47.10</td>\n",
       "      <td>8</td>\n",
       "      <td>False</td>\n",
       "      <td>...</td>\n",
       "      <td>16.80</td>\n",
       "      <td>0</td>\n",
       "      <td>Санкт-Петербург</td>\n",
       "      <td>22041.0</td>\n",
       "      <td>17369.0</td>\n",
       "      <td>0</td>\n",
       "      <td>NaN</td>\n",
       "      <td>1</td>\n",
       "      <td>374.0</td>\n",
       "      <td>123</td>\n",
       "    </tr>\n",
       "    <tr>\n",
       "      <th>1757</th>\n",
       "      <td>5</td>\n",
       "      <td>3600000</td>\n",
       "      <td>39.0</td>\n",
       "      <td>2017-04-22</td>\n",
       "      <td>1</td>\n",
       "      <td>2.65</td>\n",
       "      <td>&lt;NA&gt;</td>\n",
       "      <td>18.00</td>\n",
       "      <td>9</td>\n",
       "      <td>False</td>\n",
       "      <td>...</td>\n",
       "      <td>10.00</td>\n",
       "      <td>0</td>\n",
       "      <td>Санкт-Петербург</td>\n",
       "      <td>22735.0</td>\n",
       "      <td>11618.0</td>\n",
       "      <td>1</td>\n",
       "      <td>835.0</td>\n",
       "      <td>1</td>\n",
       "      <td>652.0</td>\n",
       "      <td>77</td>\n",
       "    </tr>\n",
       "    <tr>\n",
       "      <th>...</th>\n",
       "      <td>...</td>\n",
       "      <td>...</td>\n",
       "      <td>...</td>\n",
       "      <td>...</td>\n",
       "      <td>...</td>\n",
       "      <td>...</td>\n",
       "      <td>...</td>\n",
       "      <td>...</td>\n",
       "      <td>...</td>\n",
       "      <td>...</td>\n",
       "      <td>...</td>\n",
       "      <td>...</td>\n",
       "      <td>...</td>\n",
       "      <td>...</td>\n",
       "      <td>...</td>\n",
       "      <td>...</td>\n",
       "      <td>...</td>\n",
       "      <td>...</td>\n",
       "      <td>...</td>\n",
       "      <td>...</td>\n",
       "      <td>...</td>\n",
       "    </tr>\n",
       "    <tr>\n",
       "      <th>22542</th>\n",
       "      <td>5</td>\n",
       "      <td>8500000</td>\n",
       "      <td>63.5</td>\n",
       "      <td>2017-05-24</td>\n",
       "      <td>2</td>\n",
       "      <td>2.80</td>\n",
       "      <td>&lt;NA&gt;</td>\n",
       "      <td>37.00</td>\n",
       "      <td>3</td>\n",
       "      <td>False</td>\n",
       "      <td>...</td>\n",
       "      <td>10.70</td>\n",
       "      <td>0</td>\n",
       "      <td>Санкт-Петербург</td>\n",
       "      <td>51340.0</td>\n",
       "      <td>15363.0</td>\n",
       "      <td>0</td>\n",
       "      <td>NaN</td>\n",
       "      <td>1</td>\n",
       "      <td>853.0</td>\n",
       "      <td>512</td>\n",
       "    </tr>\n",
       "    <tr>\n",
       "      <th>22656</th>\n",
       "      <td>4</td>\n",
       "      <td>4574160</td>\n",
       "      <td>64.5</td>\n",
       "      <td>2017-04-02</td>\n",
       "      <td>2</td>\n",
       "      <td>2.65</td>\n",
       "      <td>&lt;NA&gt;</td>\n",
       "      <td>31.70</td>\n",
       "      <td>20</td>\n",
       "      <td>False</td>\n",
       "      <td>...</td>\n",
       "      <td>14.40</td>\n",
       "      <td>0</td>\n",
       "      <td>Санкт-Петербург</td>\n",
       "      <td>22041.0</td>\n",
       "      <td>17369.0</td>\n",
       "      <td>0</td>\n",
       "      <td>NaN</td>\n",
       "      <td>1</td>\n",
       "      <td>374.0</td>\n",
       "      <td>127</td>\n",
       "    </tr>\n",
       "    <tr>\n",
       "      <th>22808</th>\n",
       "      <td>0</td>\n",
       "      <td>14569263</td>\n",
       "      <td>110.4</td>\n",
       "      <td>2016-11-20</td>\n",
       "      <td>3</td>\n",
       "      <td>2.65</td>\n",
       "      <td>&lt;NA&gt;</td>\n",
       "      <td>45.38</td>\n",
       "      <td>6</td>\n",
       "      <td>False</td>\n",
       "      <td>...</td>\n",
       "      <td>23.42</td>\n",
       "      <td>0</td>\n",
       "      <td>Санкт-Петербург</td>\n",
       "      <td>19095.0</td>\n",
       "      <td>4529.0</td>\n",
       "      <td>0</td>\n",
       "      <td>NaN</td>\n",
       "      <td>0</td>\n",
       "      <td>NaN</td>\n",
       "      <td>260</td>\n",
       "    </tr>\n",
       "    <tr>\n",
       "      <th>23590</th>\n",
       "      <td>0</td>\n",
       "      <td>21187872</td>\n",
       "      <td>123.3</td>\n",
       "      <td>2017-04-25</td>\n",
       "      <td>3</td>\n",
       "      <td>2.65</td>\n",
       "      <td>&lt;NA&gt;</td>\n",
       "      <td>50.40</td>\n",
       "      <td>18</td>\n",
       "      <td>False</td>\n",
       "      <td>...</td>\n",
       "      <td>23.60</td>\n",
       "      <td>0</td>\n",
       "      <td>Санкт-Петербург</td>\n",
       "      <td>19095.0</td>\n",
       "      <td>4529.0</td>\n",
       "      <td>0</td>\n",
       "      <td>NaN</td>\n",
       "      <td>0</td>\n",
       "      <td>NaN</td>\n",
       "      <td>104</td>\n",
       "    </tr>\n",
       "    <tr>\n",
       "      <th>23658</th>\n",
       "      <td>6</td>\n",
       "      <td>3063600</td>\n",
       "      <td>43.8</td>\n",
       "      <td>2016-11-28</td>\n",
       "      <td>1</td>\n",
       "      <td>2.70</td>\n",
       "      <td>&lt;NA&gt;</td>\n",
       "      <td>14.00</td>\n",
       "      <td>8</td>\n",
       "      <td>False</td>\n",
       "      <td>...</td>\n",
       "      <td>15.50</td>\n",
       "      <td>2</td>\n",
       "      <td>Санкт-Петербург</td>\n",
       "      <td>8426.0</td>\n",
       "      <td>12082.0</td>\n",
       "      <td>2</td>\n",
       "      <td>24.0</td>\n",
       "      <td>1</td>\n",
       "      <td>271.0</td>\n",
       "      <td>246</td>\n",
       "    </tr>\n",
       "  </tbody>\n",
       "</table>\n",
       "<p>86 rows × 22 columns</p>\n",
       "</div>"
      ],
      "text/plain": [
       "       total_images  last_price  total_area first_day_exposition  rooms  \\\n",
       "186              12    11640000        65.2           2018-10-02      2   \n",
       "237               4     2438033        28.1           2016-11-23      1   \n",
       "457               4     9788348        70.8           2015-08-01      2   \n",
       "671               4     6051191        93.6           2017-04-06      3   \n",
       "1757              5     3600000        39.0           2017-04-22      1   \n",
       "...             ...         ...         ...                  ...    ...   \n",
       "22542             5     8500000        63.5           2017-05-24      2   \n",
       "22656             4     4574160        64.5           2017-04-02      2   \n",
       "22808             0    14569263       110.4           2016-11-20      3   \n",
       "23590             0    21187872       123.3           2017-04-25      3   \n",
       "23658             6     3063600        43.8           2016-11-28      1   \n",
       "\n",
       "       ceiling_height  floors_total  living_area  floor  is_apartment  ...  \\\n",
       "186              2.65          <NA>        30.80      4         False  ...   \n",
       "237              2.65          <NA>        20.75      1         False  ...   \n",
       "457              2.65          <NA>        38.40     12         False  ...   \n",
       "671              2.65          <NA>        47.10      8         False  ...   \n",
       "1757             2.65          <NA>        18.00      9         False  ...   \n",
       "...               ...           ...          ...    ...           ...  ...   \n",
       "22542            2.80          <NA>        37.00      3         False  ...   \n",
       "22656            2.65          <NA>        31.70     20         False  ...   \n",
       "22808            2.65          <NA>        45.38      6         False  ...   \n",
       "23590            2.65          <NA>        50.40     18         False  ...   \n",
       "23658            2.70          <NA>        14.00      8         False  ...   \n",
       "\n",
       "       kitchen_area  balcony    locality_name  airports_nearest  \\\n",
       "186           12.00        0  Санкт-Петербург           39197.0   \n",
       "237            6.80        0  Санкт-Петербург           22041.0   \n",
       "457           10.63        0  Санкт-Петербург           37364.0   \n",
       "671           16.80        0  Санкт-Петербург           22041.0   \n",
       "1757          10.00        0  Санкт-Петербург           22735.0   \n",
       "...             ...      ...              ...               ...   \n",
       "22542         10.70        0  Санкт-Петербург           51340.0   \n",
       "22656         14.40        0  Санкт-Петербург           22041.0   \n",
       "22808         23.42        0  Санкт-Петербург           19095.0   \n",
       "23590         23.60        0  Санкт-Петербург           19095.0   \n",
       "23658         15.50        2  Санкт-Петербург            8426.0   \n",
       "\n",
       "      city_centers_nearest  parks_around3000  parks_nearest  ponds_around3000  \\\n",
       "186                12373.0                 1          123.0                 0   \n",
       "237                17369.0                 0            NaN                 1   \n",
       "457                 8322.0                 2          309.0                 2   \n",
       "671                17369.0                 0            NaN                 1   \n",
       "1757               11618.0                 1          835.0                 1   \n",
       "...                    ...               ...            ...               ...   \n",
       "22542              15363.0                 0            NaN                 1   \n",
       "22656              17369.0                 0            NaN                 1   \n",
       "22808               4529.0                 0            NaN                 0   \n",
       "23590               4529.0                 0            NaN                 0   \n",
       "23658              12082.0                 2           24.0                 1   \n",
       "\n",
       "       ponds_nearest  days_exposition  \n",
       "186              NaN               49  \n",
       "237            374.0              251  \n",
       "457            706.0              727  \n",
       "671            374.0              123  \n",
       "1757           652.0               77  \n",
       "...              ...              ...  \n",
       "22542          853.0              512  \n",
       "22656          374.0              127  \n",
       "22808            NaN              260  \n",
       "23590            NaN              104  \n",
       "23658          271.0              246  \n",
       "\n",
       "[86 rows x 22 columns]"
      ]
     },
     "execution_count": 6,
     "metadata": {},
     "output_type": "execute_result"
    }
   ],
   "source": [
    "df[df['floors_total'].isna()]"
   ]
  },
  {
   "cell_type": "markdown",
   "metadata": {},
   "source": [
    "В столбце 'floor' указаны разные этажи - это говрит о том, что объекты не одноэтажные строения и скорее всего пропуск был допущен по ошибке. Заменить это значение медианным так же невозможно, т.к они могут оказаться больше фактического этажа объекта с пропуском - оставим как есть."
   ]
  },
  {
   "cell_type": "code",
   "execution_count": 7,
   "metadata": {},
   "outputs": [
    {
     "data": {
      "text/plain": [
       "total_images                0\n",
       "last_price                  0\n",
       "total_area                  0\n",
       "first_day_exposition        0\n",
       "rooms                       0\n",
       "ceiling_height              0\n",
       "floors_total               86\n",
       "living_area               143\n",
       "floor                       0\n",
       "is_apartment                0\n",
       "studio                      0\n",
       "open_plan                   0\n",
       "kitchen_area              205\n",
       "balcony                     0\n",
       "locality_name              49\n",
       "airports_nearest         5542\n",
       "city_centers_nearest     5519\n",
       "parks_around3000            0\n",
       "parks_nearest           15620\n",
       "ponds_around3000            0\n",
       "ponds_nearest           14589\n",
       "days_exposition          3181\n",
       "dtype: int64"
      ]
     },
     "execution_count": 7,
     "metadata": {},
     "output_type": "execute_result"
    }
   ],
   "source": [
    "#Еще раз првоерим насколько сократилось количество пропусков\n",
    "df.isna().sum()"
   ]
  },
  {
   "cell_type": "markdown",
   "metadata": {},
   "source": [
    "Неявные дубликаты могут содеражаться в столбце 'locality_name'. Проверим уникальные значения этого столбца и их количество"
   ]
  },
  {
   "cell_type": "code",
   "execution_count": 8,
   "metadata": {},
   "outputs": [
    {
     "name": "stdout",
     "output_type": "stream",
     "text": [
      "['Санкт-Петербург' 'посёлок Шушары' 'городской посёлок Янино-1'\n",
      " 'посёлок Парголово' 'посёлок Мурино' 'Ломоносов' 'Сертолово' 'Петергоф'\n",
      " 'Пушкин' 'деревня Кудрово' 'Коммунар' 'Колпино'\n",
      " 'поселок городского типа Красный Бор' 'Гатчина' 'поселок Мурино'\n",
      " 'деревня Фёдоровское' 'Выборг' 'Кронштадт' 'Кировск'\n",
      " 'деревня Новое Девяткино' 'посёлок Металлострой'\n",
      " 'посёлок городского типа Лебяжье' 'посёлок городского типа Сиверский'\n",
      " 'поселок Молодцово' 'поселок городского типа Кузьмоловский'\n",
      " 'садовое товарищество Новая Ропша' 'Павловск' 'деревня Пикколово'\n",
      " 'Всеволожск' 'Волхов' 'Кингисепп' 'Приозерск' 'Сестрорецк'\n",
      " 'деревня Куттузи' 'посёлок Аннино' 'поселок городского типа Ефимовский'\n",
      " 'посёлок Плодовое' 'деревня Заклинье' 'поселок Торковичи'\n",
      " 'поселок Первомайское' 'Красное Село' 'посёлок Понтонный' 'Сясьстрой'\n",
      " 'деревня Старая' 'деревня Лесколово' 'посёлок Новый Свет' 'Сланцы'\n",
      " 'село Путилово' 'Ивангород' 'Мурино' 'Шлиссельбург' 'Никольское'\n",
      " 'Зеленогорск' 'Сосновый Бор' 'поселок Новый Свет' 'деревня Оржицы'\n",
      " 'деревня Кальтино' 'Кудрово' 'поселок Романовка' 'посёлок Бугры'\n",
      " 'поселок Бугры' 'поселок городского типа Рощино' 'Кириши' 'Луга'\n",
      " 'Волосово' 'Отрадное' 'село Павлово' 'поселок Оредеж' 'село Копорье'\n",
      " 'посёлок городского типа Красный Бор' 'посёлок Молодёжное' 'Тихвин'\n",
      " 'посёлок Победа' 'деревня Нурма' 'поселок городского типа Синявино'\n",
      " 'Тосно' 'посёлок городского типа Кузьмоловский' 'посёлок Стрельна'\n",
      " 'Бокситогорск' 'посёлок Александровская' 'деревня Лопухинка' 'Пикалёво'\n",
      " 'поселок Терволово' 'поселок городского типа Советский' 'Подпорожье'\n",
      " 'посёлок Петровское' 'посёлок городского типа Токсово' 'поселок Сельцо'\n",
      " 'посёлок городского типа Вырица' 'деревня Кипень' 'деревня Келози'\n",
      " 'деревня Вартемяги' 'посёлок Тельмана' 'поселок Севастьяново'\n",
      " 'городской поселок Большая Ижора' nan 'городской посёлок Павлово'\n",
      " 'деревня Агалатово' 'посёлок Новогорелово'\n",
      " 'городской посёлок Лесогорский' 'деревня Лаголово' 'поселок Цвелодубово'\n",
      " 'поселок городского типа Рахья' 'поселок городского типа Вырица'\n",
      " 'деревня Белогорка' 'поселок Заводской' 'городской посёлок Новоселье'\n",
      " 'деревня Большие Колпаны' 'деревня Горбунки' 'деревня Батово'\n",
      " 'деревня Заневка' 'деревня Иссад' 'Приморск'\n",
      " 'городской посёлок Фёдоровское' 'деревня Мистолово' 'Новая Ладога'\n",
      " 'поселок Зимитицы' 'поселок Барышево' 'деревня Разметелево'\n",
      " 'поселок городского типа имени Свердлова' 'деревня Пеники'\n",
      " 'поселок Рябово' 'деревня Пудомяги' 'поселок станции Корнево'\n",
      " 'деревня Низино' 'деревня Бегуницы' 'посёлок Поляны'\n",
      " 'городской посёлок Мга' 'поселок Елизаветино'\n",
      " 'посёлок городского типа Кузнечное' 'деревня Колтуши'\n",
      " 'поселок Запорожское' 'посёлок городского типа Рощино'\n",
      " 'деревня Гостилицы' 'деревня Малое Карлино' 'посёлок Мичуринское'\n",
      " 'посёлок городского типа имени Морозова' 'посёлок Песочный'\n",
      " 'посёлок Сосново' 'деревня Аро' 'поселок Ильичёво'\n",
      " 'посёлок городского типа Тайцы' 'деревня Малое Верево' 'деревня Извара'\n",
      " 'поселок станции Вещево' 'село Паша' 'деревня Калитино'\n",
      " 'посёлок городского типа Ульяновка' 'деревня Чудской Бор'\n",
      " 'поселок городского типа Дубровка' 'деревня Мины' 'поселок Войсковицы'\n",
      " 'посёлок городского типа имени Свердлова' 'деревня Коркино'\n",
      " 'посёлок Ропша' 'поселок городского типа Приладожский' 'посёлок Щеглово'\n",
      " 'посёлок Гаврилово' 'Лодейное Поле' 'деревня Рабитицы'\n",
      " 'поселок городского типа Никольский' 'деревня Кузьмолово'\n",
      " 'деревня Малые Колпаны' 'поселок Тельмана' 'посёлок Петро-Славянка'\n",
      " 'городской посёлок Назия' 'посёлок Репино' 'посёлок Ильичёво'\n",
      " 'поселок Углово' 'поселок Старая Малукса' 'садовое товарищество Рахья'\n",
      " 'поселок Аннино' 'поселок Победа' 'деревня Меньково'\n",
      " 'деревня Старые Бегуницы' 'посёлок Сапёрный' 'поселок Семрино'\n",
      " 'поселок Гаврилово' 'поселок Глажево' 'поселок Кобринское'\n",
      " 'деревня Гарболово' 'деревня Юкки' 'поселок станции Приветнинское'\n",
      " 'деревня Мануйлово' 'деревня Пчева' 'поселок Поляны' 'поселок Цвылёво'\n",
      " 'поселок Мельниково' 'посёлок Пудость' 'посёлок Усть-Луга' 'Светогорск'\n",
      " 'Любань' 'поселок Селезнёво' 'поселок городского типа Рябово'\n",
      " 'Каменногорск' 'деревня Кривко' 'поселок Глебычево' 'деревня Парицы'\n",
      " 'поселок Жилпосёлок' 'посёлок городского типа Мга'\n",
      " 'городской поселок Янино-1' 'посёлок Войскорово' 'село Никольское'\n",
      " 'посёлок Терволово' 'поселок Стеклянный' 'посёлок городского типа Важины'\n",
      " 'посёлок Мыза-Ивановка' 'село Русско-Высоцкое'\n",
      " 'поселок городского типа Лебяжье' 'поселок городского типа Форносово'\n",
      " 'село Старая Ладога' 'поселок Житково' 'городской посёлок Виллози'\n",
      " 'деревня Лампово' 'деревня Шпаньково' 'деревня Лаврики' 'посёлок Сумино'\n",
      " 'посёлок Возрождение' 'деревня Старосиверская' 'посёлок Кикерино'\n",
      " 'поселок Возрождение' 'деревня Старое Хинколово' 'посёлок Пригородный'\n",
      " 'посёлок Торфяное' 'городской посёлок Будогощь' 'поселок Суходолье'\n",
      " 'поселок Красная Долина' 'деревня Хапо-Ое'\n",
      " 'поселок городского типа Дружная Горка' 'поселок Лисий Нос'\n",
      " 'деревня Яльгелево' 'посёлок Стеклянный' 'село Рождествено'\n",
      " 'деревня Старополье' 'посёлок Левашово' 'деревня Сяськелево'\n",
      " 'деревня Камышовка'\n",
      " 'садоводческое некоммерческое товарищество Лесная Поляна'\n",
      " 'деревня Хязельки' 'поселок Жилгородок' 'посёлок городского типа Павлово'\n",
      " 'деревня Ялгино' 'поселок Новый Учхоз' 'городской посёлок Рощино'\n",
      " 'поселок Гончарово' 'поселок Почап' 'посёлок Сапёрное'\n",
      " 'посёлок Платформа 69-й километр' 'поселок Каложицы' 'деревня Фалилеево'\n",
      " 'деревня Пельгора' 'поселок городского типа Лесогорский'\n",
      " 'деревня Торошковичи' 'посёлок Белоостров' 'посёлок Алексеевка'\n",
      " 'поселок Серебрянский' 'поселок Лукаши' 'поселок Петровское'\n",
      " 'деревня Щеглово' 'поселок Мичуринское' 'деревня Тарасово'\n",
      " 'поселок Кингисеппский' 'посёлок при железнодорожной станции Вещево'\n",
      " 'поселок Ушаки' 'деревня Котлы' 'деревня Сижно' 'деревня Торосово'\n",
      " 'посёлок Форт Красная Горка' 'поселок городского типа Токсово'\n",
      " 'деревня Новолисино' 'посёлок станции Громово' 'деревня Глинка'\n",
      " 'посёлок Мельниково' 'поселок городского типа Назия'\n",
      " 'деревня Старая Пустошь' 'поселок Коммунары' 'поселок Починок'\n",
      " 'посёлок городского типа Вознесенье' 'деревня Разбегаево'\n",
      " 'посёлок городского типа Рябово' 'поселок Гладкое'\n",
      " 'посёлок при железнодорожной станции Приветнинское' 'поселок Тёсово-4'\n",
      " 'посёлок Жилгородок' 'деревня Бор' 'посёлок Коробицыно'\n",
      " 'деревня Большая Вруда' 'деревня Курковицы' 'посёлок Лисий Нос'\n",
      " 'городской посёлок Советский' 'посёлок Кобралово' 'деревня Суоранда'\n",
      " 'поселок Кобралово' 'поселок городского типа Кондратьево'\n",
      " 'коттеджный поселок Счастье' 'поселок Любань' 'деревня Реброво'\n",
      " 'деревня Зимитицы' 'деревня Тойворово' 'поселок Семиозерье'\n",
      " 'поселок Лесное' 'поселок Совхозный' 'поселок Усть-Луга'\n",
      " 'посёлок Ленинское' 'посёлок Суйда' 'посёлок городского типа Форносово'\n",
      " 'деревня Нижние Осельки' 'посёлок станции Свирь' 'поселок Перово'\n",
      " 'Высоцк' 'поселок Гарболово' 'село Шум' 'поселок Котельский'\n",
      " 'поселок станции Лужайка' 'деревня Большая Пустомержа'\n",
      " 'поселок Красносельское' 'деревня Вахнова Кара' 'деревня Пижма'\n",
      " 'коттеджный поселок Кивеннапа Север' 'поселок Коробицыно'\n",
      " 'поселок Ромашки' 'посёлок Перово' 'деревня Каськово' 'деревня Куровицы'\n",
      " 'посёлок Плоское' 'поселок Сумино'\n",
      " 'поселок городского типа Большая Ижора' 'поселок Кирпичное'\n",
      " 'деревня Ям-Тесово' 'деревня Раздолье' 'деревня Терпилицы'\n",
      " 'посёлок Шугозеро' 'деревня Ваганово' 'поселок Пушное'\n",
      " 'садовое товарищество Садко' 'посёлок Усть-Ижора' 'деревня Выскатка'\n",
      " 'городской посёлок Свирьстрой' 'поселок Громово' 'деревня Кисельня'\n",
      " 'посёлок Старая Малукса' 'деревня Трубников Бор' 'поселок Калитино'\n",
      " 'посёлок Высокоключевой' 'садовое товарищество Приладожский'\n",
      " 'посёлок Пансионат Зелёный Бор' 'деревня Ненимяки'\n",
      " 'поселок Пансионат Зелёный Бор' 'деревня Снегирёвка' 'деревня Рапполово'\n",
      " 'деревня Пустынка' 'поселок Рабитицы' 'деревня Большой Сабск'\n",
      " 'деревня Русско' 'деревня Лупполово' 'деревня Большое Рейзино'\n",
      " 'деревня Малая Романовка' 'поселок Дружноселье' 'поселок Пчевжа'\n",
      " 'поселок Володарское' 'деревня Нижняя' 'коттеджный посёлок Лесное'\n",
      " 'деревня Тихковицы' 'деревня Борисова Грива' 'посёлок Дзержинского']\n"
     ]
    },
    {
     "data": {
      "text/plain": [
       "365"
      ]
     },
     "execution_count": 8,
     "metadata": {},
     "output_type": "execute_result"
    }
   ],
   "source": [
    "print(df['locality_name'].unique())\n",
    "len(df['locality_name'].unique())"
   ]
  },
  {
   "cell_type": "markdown",
   "metadata": {},
   "source": [
    "Уберем неявные дубликаты:"
   ]
  },
  {
   "cell_type": "code",
   "execution_count": 9,
   "metadata": {},
   "outputs": [
    {
     "data": {
      "text/plain": [
       "330"
      ]
     },
     "execution_count": 9,
     "metadata": {},
     "output_type": "execute_result"
    }
   ],
   "source": [
    "#Удалим пропуски в столбце которые мы определили ранее как ненужные для исследования\n",
    "\n",
    "df = df.dropna(subset=['locality_name'])\n",
    "\n",
    "#Приведем все названию к строчному регистру \n",
    "\n",
    "df['locality_name']= df['locality_name'].str.lower()\n",
    "df['locality_name'] = df['locality_name'].str.replace('ё', 'е', regex=True)\n",
    "len(df['locality_name'].unique())"
   ]
  },
  {
   "cell_type": "markdown",
   "metadata": {},
   "source": [
    "Убрали 35 дубля. Отлично.\n",
    "Но по прежнему в списке присутствуют неявные дубликаты которые могут дублироваться с использованием дополнительного описания (Дервевня, Поселок, ПГТ и т.д) Уберем эти дубликаты"
   ]
  },
  {
   "cell_type": "code",
   "execution_count": 10,
   "metadata": {},
   "outputs": [
    {
     "data": {
      "text/plain": [
       "306"
      ]
     },
     "execution_count": 10,
     "metadata": {},
     "output_type": "execute_result"
    }
   ],
   "source": [
    "df['locality_name'] = df['locality_name'].replace('городского типа|деревня|село|поселок|\\\n",
    "    #|пок|садовое товарищество|городской|при железнодорожной станции|станции','', regex=True)\n",
    "df['locality_name'] = df['locality_name'].str.strip()\n",
    "len(df['locality_name'].unique())"
   ]
  },
  {
   "cell_type": "markdown",
   "metadata": {},
   "source": [
    "Минус еще 24 дубликата. Теперь рассмотрим весь датасет на наличие аномальных значений"
   ]
  },
  {
   "cell_type": "code",
   "execution_count": 11,
   "metadata": {},
   "outputs": [
    {
     "data": {
      "text/html": [
       "<div>\n",
       "<style scoped>\n",
       "    .dataframe tbody tr th:only-of-type {\n",
       "        vertical-align: middle;\n",
       "    }\n",
       "\n",
       "    .dataframe tbody tr th {\n",
       "        vertical-align: top;\n",
       "    }\n",
       "\n",
       "    .dataframe thead th {\n",
       "        text-align: right;\n",
       "    }\n",
       "</style>\n",
       "<table border=\"1\" class=\"dataframe\">\n",
       "  <thead>\n",
       "    <tr style=\"text-align: right;\">\n",
       "      <th></th>\n",
       "      <th>total_images</th>\n",
       "      <th>last_price</th>\n",
       "      <th>total_area</th>\n",
       "      <th>first_day_exposition</th>\n",
       "      <th>rooms</th>\n",
       "      <th>ceiling_height</th>\n",
       "      <th>floors_total</th>\n",
       "      <th>living_area</th>\n",
       "      <th>floor</th>\n",
       "      <th>is_apartment</th>\n",
       "      <th>...</th>\n",
       "      <th>kitchen_area</th>\n",
       "      <th>balcony</th>\n",
       "      <th>locality_name</th>\n",
       "      <th>airports_nearest</th>\n",
       "      <th>city_centers_nearest</th>\n",
       "      <th>parks_around3000</th>\n",
       "      <th>parks_nearest</th>\n",
       "      <th>ponds_around3000</th>\n",
       "      <th>ponds_nearest</th>\n",
       "      <th>days_exposition</th>\n",
       "    </tr>\n",
       "  </thead>\n",
       "  <tbody>\n",
       "    <tr>\n",
       "      <th>count</th>\n",
       "      <td>23650.000000</td>\n",
       "      <td>2.365000e+04</td>\n",
       "      <td>23650.000000</td>\n",
       "      <td>23650</td>\n",
       "      <td>23650.000000</td>\n",
       "      <td>23650.000000</td>\n",
       "      <td>23565.000000</td>\n",
       "      <td>23507.000000</td>\n",
       "      <td>23650.000000</td>\n",
       "      <td>23650</td>\n",
       "      <td>...</td>\n",
       "      <td>23445.000000</td>\n",
       "      <td>23650.000000</td>\n",
       "      <td>23650</td>\n",
       "      <td>18116.000000</td>\n",
       "      <td>18139.000000</td>\n",
       "      <td>23650.000000</td>\n",
       "      <td>8064.000000</td>\n",
       "      <td>23650.000000</td>\n",
       "      <td>9085.000000</td>\n",
       "      <td>20470.000000</td>\n",
       "    </tr>\n",
       "    <tr>\n",
       "      <th>unique</th>\n",
       "      <td>NaN</td>\n",
       "      <td>NaN</td>\n",
       "      <td>NaN</td>\n",
       "      <td>1491</td>\n",
       "      <td>NaN</td>\n",
       "      <td>NaN</td>\n",
       "      <td>NaN</td>\n",
       "      <td>NaN</td>\n",
       "      <td>NaN</td>\n",
       "      <td>2</td>\n",
       "      <td>...</td>\n",
       "      <td>NaN</td>\n",
       "      <td>NaN</td>\n",
       "      <td>306</td>\n",
       "      <td>NaN</td>\n",
       "      <td>NaN</td>\n",
       "      <td>NaN</td>\n",
       "      <td>NaN</td>\n",
       "      <td>NaN</td>\n",
       "      <td>NaN</td>\n",
       "      <td>NaN</td>\n",
       "    </tr>\n",
       "    <tr>\n",
       "      <th>top</th>\n",
       "      <td>NaN</td>\n",
       "      <td>NaN</td>\n",
       "      <td>NaN</td>\n",
       "      <td>2018-02-01 00:00:00</td>\n",
       "      <td>NaN</td>\n",
       "      <td>NaN</td>\n",
       "      <td>NaN</td>\n",
       "      <td>NaN</td>\n",
       "      <td>NaN</td>\n",
       "      <td>False</td>\n",
       "      <td>...</td>\n",
       "      <td>NaN</td>\n",
       "      <td>NaN</td>\n",
       "      <td>санкт-петербург</td>\n",
       "      <td>NaN</td>\n",
       "      <td>NaN</td>\n",
       "      <td>NaN</td>\n",
       "      <td>NaN</td>\n",
       "      <td>NaN</td>\n",
       "      <td>NaN</td>\n",
       "      <td>NaN</td>\n",
       "    </tr>\n",
       "    <tr>\n",
       "      <th>freq</th>\n",
       "      <td>NaN</td>\n",
       "      <td>NaN</td>\n",
       "      <td>NaN</td>\n",
       "      <td>368</td>\n",
       "      <td>NaN</td>\n",
       "      <td>NaN</td>\n",
       "      <td>NaN</td>\n",
       "      <td>NaN</td>\n",
       "      <td>NaN</td>\n",
       "      <td>23600</td>\n",
       "      <td>...</td>\n",
       "      <td>NaN</td>\n",
       "      <td>NaN</td>\n",
       "      <td>15721</td>\n",
       "      <td>NaN</td>\n",
       "      <td>NaN</td>\n",
       "      <td>NaN</td>\n",
       "      <td>NaN</td>\n",
       "      <td>NaN</td>\n",
       "      <td>NaN</td>\n",
       "      <td>NaN</td>\n",
       "    </tr>\n",
       "    <tr>\n",
       "      <th>first</th>\n",
       "      <td>NaN</td>\n",
       "      <td>NaN</td>\n",
       "      <td>NaN</td>\n",
       "      <td>2014-11-27 00:00:00</td>\n",
       "      <td>NaN</td>\n",
       "      <td>NaN</td>\n",
       "      <td>NaN</td>\n",
       "      <td>NaN</td>\n",
       "      <td>NaN</td>\n",
       "      <td>NaN</td>\n",
       "      <td>...</td>\n",
       "      <td>NaN</td>\n",
       "      <td>NaN</td>\n",
       "      <td>NaN</td>\n",
       "      <td>NaN</td>\n",
       "      <td>NaN</td>\n",
       "      <td>NaN</td>\n",
       "      <td>NaN</td>\n",
       "      <td>NaN</td>\n",
       "      <td>NaN</td>\n",
       "      <td>NaN</td>\n",
       "    </tr>\n",
       "    <tr>\n",
       "      <th>last</th>\n",
       "      <td>NaN</td>\n",
       "      <td>NaN</td>\n",
       "      <td>NaN</td>\n",
       "      <td>2019-05-03 00:00:00</td>\n",
       "      <td>NaN</td>\n",
       "      <td>NaN</td>\n",
       "      <td>NaN</td>\n",
       "      <td>NaN</td>\n",
       "      <td>NaN</td>\n",
       "      <td>NaN</td>\n",
       "      <td>...</td>\n",
       "      <td>NaN</td>\n",
       "      <td>NaN</td>\n",
       "      <td>NaN</td>\n",
       "      <td>NaN</td>\n",
       "      <td>NaN</td>\n",
       "      <td>NaN</td>\n",
       "      <td>NaN</td>\n",
       "      <td>NaN</td>\n",
       "      <td>NaN</td>\n",
       "      <td>NaN</td>\n",
       "    </tr>\n",
       "    <tr>\n",
       "      <th>mean</th>\n",
       "      <td>9.862326</td>\n",
       "      <td>6.541127e+06</td>\n",
       "      <td>60.329069</td>\n",
       "      <td>NaN</td>\n",
       "      <td>2.070106</td>\n",
       "      <td>2.724311</td>\n",
       "      <td>10.675875</td>\n",
       "      <td>34.454650</td>\n",
       "      <td>5.893277</td>\n",
       "      <td>NaN</td>\n",
       "      <td>...</td>\n",
       "      <td>10.454417</td>\n",
       "      <td>0.591712</td>\n",
       "      <td>NaN</td>\n",
       "      <td>28803.225878</td>\n",
       "      <td>14197.860742</td>\n",
       "      <td>0.469091</td>\n",
       "      <td>490.830729</td>\n",
       "      <td>0.590359</td>\n",
       "      <td>518.059879</td>\n",
       "      <td>180.753200</td>\n",
       "    </tr>\n",
       "    <tr>\n",
       "      <th>std</th>\n",
       "      <td>5.682278</td>\n",
       "      <td>1.089640e+07</td>\n",
       "      <td>35.661808</td>\n",
       "      <td>NaN</td>\n",
       "      <td>1.078620</td>\n",
       "      <td>0.989255</td>\n",
       "      <td>6.594823</td>\n",
       "      <td>21.841488</td>\n",
       "      <td>4.883317</td>\n",
       "      <td>NaN</td>\n",
       "      <td>...</td>\n",
       "      <td>5.779654</td>\n",
       "      <td>0.959662</td>\n",
       "      <td>NaN</td>\n",
       "      <td>12637.314144</td>\n",
       "      <td>8606.830295</td>\n",
       "      <td>0.748458</td>\n",
       "      <td>342.554386</td>\n",
       "      <td>0.883539</td>\n",
       "      <td>277.841733</td>\n",
       "      <td>219.777916</td>\n",
       "    </tr>\n",
       "    <tr>\n",
       "      <th>min</th>\n",
       "      <td>0.000000</td>\n",
       "      <td>1.219000e+04</td>\n",
       "      <td>12.000000</td>\n",
       "      <td>NaN</td>\n",
       "      <td>0.000000</td>\n",
       "      <td>1.000000</td>\n",
       "      <td>1.000000</td>\n",
       "      <td>2.000000</td>\n",
       "      <td>1.000000</td>\n",
       "      <td>NaN</td>\n",
       "      <td>...</td>\n",
       "      <td>1.300000</td>\n",
       "      <td>0.000000</td>\n",
       "      <td>NaN</td>\n",
       "      <td>0.000000</td>\n",
       "      <td>181.000000</td>\n",
       "      <td>0.000000</td>\n",
       "      <td>1.000000</td>\n",
       "      <td>0.000000</td>\n",
       "      <td>13.000000</td>\n",
       "      <td>1.000000</td>\n",
       "    </tr>\n",
       "    <tr>\n",
       "      <th>25%</th>\n",
       "      <td>6.000000</td>\n",
       "      <td>3.400000e+06</td>\n",
       "      <td>40.000000</td>\n",
       "      <td>NaN</td>\n",
       "      <td>1.000000</td>\n",
       "      <td>2.600000</td>\n",
       "      <td>5.000000</td>\n",
       "      <td>18.600000</td>\n",
       "      <td>2.000000</td>\n",
       "      <td>NaN</td>\n",
       "      <td>...</td>\n",
       "      <td>7.000000</td>\n",
       "      <td>0.000000</td>\n",
       "      <td>NaN</td>\n",
       "      <td>18575.750000</td>\n",
       "      <td>9241.000000</td>\n",
       "      <td>0.000000</td>\n",
       "      <td>288.000000</td>\n",
       "      <td>0.000000</td>\n",
       "      <td>293.000000</td>\n",
       "      <td>45.000000</td>\n",
       "    </tr>\n",
       "    <tr>\n",
       "      <th>50%</th>\n",
       "      <td>9.000000</td>\n",
       "      <td>4.650000e+06</td>\n",
       "      <td>52.000000</td>\n",
       "      <td>NaN</td>\n",
       "      <td>2.000000</td>\n",
       "      <td>2.650000</td>\n",
       "      <td>9.000000</td>\n",
       "      <td>30.000000</td>\n",
       "      <td>4.000000</td>\n",
       "      <td>NaN</td>\n",
       "      <td>...</td>\n",
       "      <td>9.000000</td>\n",
       "      <td>0.000000</td>\n",
       "      <td>NaN</td>\n",
       "      <td>26756.500000</td>\n",
       "      <td>13105.000000</td>\n",
       "      <td>0.000000</td>\n",
       "      <td>454.500000</td>\n",
       "      <td>0.000000</td>\n",
       "      <td>502.000000</td>\n",
       "      <td>95.000000</td>\n",
       "    </tr>\n",
       "    <tr>\n",
       "      <th>75%</th>\n",
       "      <td>14.000000</td>\n",
       "      <td>6.799000e+06</td>\n",
       "      <td>69.700000</td>\n",
       "      <td>NaN</td>\n",
       "      <td>3.000000</td>\n",
       "      <td>2.700000</td>\n",
       "      <td>16.000000</td>\n",
       "      <td>42.255000</td>\n",
       "      <td>8.000000</td>\n",
       "      <td>NaN</td>\n",
       "      <td>...</td>\n",
       "      <td>11.800000</td>\n",
       "      <td>1.000000</td>\n",
       "      <td>NaN</td>\n",
       "      <td>37294.000000</td>\n",
       "      <td>16293.000000</td>\n",
       "      <td>1.000000</td>\n",
       "      <td>612.000000</td>\n",
       "      <td>1.000000</td>\n",
       "      <td>730.000000</td>\n",
       "      <td>231.000000</td>\n",
       "    </tr>\n",
       "    <tr>\n",
       "      <th>max</th>\n",
       "      <td>50.000000</td>\n",
       "      <td>7.630000e+08</td>\n",
       "      <td>900.000000</td>\n",
       "      <td>NaN</td>\n",
       "      <td>19.000000</td>\n",
       "      <td>100.000000</td>\n",
       "      <td>60.000000</td>\n",
       "      <td>409.700000</td>\n",
       "      <td>33.000000</td>\n",
       "      <td>NaN</td>\n",
       "      <td>...</td>\n",
       "      <td>112.000000</td>\n",
       "      <td>5.000000</td>\n",
       "      <td>NaN</td>\n",
       "      <td>84869.000000</td>\n",
       "      <td>65968.000000</td>\n",
       "      <td>3.000000</td>\n",
       "      <td>3190.000000</td>\n",
       "      <td>3.000000</td>\n",
       "      <td>1344.000000</td>\n",
       "      <td>1580.000000</td>\n",
       "    </tr>\n",
       "  </tbody>\n",
       "</table>\n",
       "<p>13 rows × 22 columns</p>\n",
       "</div>"
      ],
      "text/plain": [
       "        total_images    last_price    total_area first_day_exposition  \\\n",
       "count   23650.000000  2.365000e+04  23650.000000                23650   \n",
       "unique           NaN           NaN           NaN                 1491   \n",
       "top              NaN           NaN           NaN  2018-02-01 00:00:00   \n",
       "freq             NaN           NaN           NaN                  368   \n",
       "first            NaN           NaN           NaN  2014-11-27 00:00:00   \n",
       "last             NaN           NaN           NaN  2019-05-03 00:00:00   \n",
       "mean        9.862326  6.541127e+06     60.329069                  NaN   \n",
       "std         5.682278  1.089640e+07     35.661808                  NaN   \n",
       "min         0.000000  1.219000e+04     12.000000                  NaN   \n",
       "25%         6.000000  3.400000e+06     40.000000                  NaN   \n",
       "50%         9.000000  4.650000e+06     52.000000                  NaN   \n",
       "75%        14.000000  6.799000e+06     69.700000                  NaN   \n",
       "max        50.000000  7.630000e+08    900.000000                  NaN   \n",
       "\n",
       "               rooms  ceiling_height  floors_total   living_area  \\\n",
       "count   23650.000000    23650.000000  23565.000000  23507.000000   \n",
       "unique           NaN             NaN           NaN           NaN   \n",
       "top              NaN             NaN           NaN           NaN   \n",
       "freq             NaN             NaN           NaN           NaN   \n",
       "first            NaN             NaN           NaN           NaN   \n",
       "last             NaN             NaN           NaN           NaN   \n",
       "mean        2.070106        2.724311     10.675875     34.454650   \n",
       "std         1.078620        0.989255      6.594823     21.841488   \n",
       "min         0.000000        1.000000      1.000000      2.000000   \n",
       "25%         1.000000        2.600000      5.000000     18.600000   \n",
       "50%         2.000000        2.650000      9.000000     30.000000   \n",
       "75%         3.000000        2.700000     16.000000     42.255000   \n",
       "max        19.000000      100.000000     60.000000    409.700000   \n",
       "\n",
       "               floor is_apartment  ...  kitchen_area       balcony  \\\n",
       "count   23650.000000        23650  ...  23445.000000  23650.000000   \n",
       "unique           NaN            2  ...           NaN           NaN   \n",
       "top              NaN        False  ...           NaN           NaN   \n",
       "freq             NaN        23600  ...           NaN           NaN   \n",
       "first            NaN          NaN  ...           NaN           NaN   \n",
       "last             NaN          NaN  ...           NaN           NaN   \n",
       "mean        5.893277          NaN  ...     10.454417      0.591712   \n",
       "std         4.883317          NaN  ...      5.779654      0.959662   \n",
       "min         1.000000          NaN  ...      1.300000      0.000000   \n",
       "25%         2.000000          NaN  ...      7.000000      0.000000   \n",
       "50%         4.000000          NaN  ...      9.000000      0.000000   \n",
       "75%         8.000000          NaN  ...     11.800000      1.000000   \n",
       "max        33.000000          NaN  ...    112.000000      5.000000   \n",
       "\n",
       "          locality_name  airports_nearest city_centers_nearest  \\\n",
       "count             23650      18116.000000         18139.000000   \n",
       "unique              306               NaN                  NaN   \n",
       "top     санкт-петербург               NaN                  NaN   \n",
       "freq              15721               NaN                  NaN   \n",
       "first               NaN               NaN                  NaN   \n",
       "last                NaN               NaN                  NaN   \n",
       "mean                NaN      28803.225878         14197.860742   \n",
       "std                 NaN      12637.314144          8606.830295   \n",
       "min                 NaN          0.000000           181.000000   \n",
       "25%                 NaN      18575.750000          9241.000000   \n",
       "50%                 NaN      26756.500000         13105.000000   \n",
       "75%                 NaN      37294.000000         16293.000000   \n",
       "max                 NaN      84869.000000         65968.000000   \n",
       "\n",
       "        parks_around3000  parks_nearest  ponds_around3000  ponds_nearest  \\\n",
       "count       23650.000000    8064.000000      23650.000000    9085.000000   \n",
       "unique               NaN            NaN               NaN            NaN   \n",
       "top                  NaN            NaN               NaN            NaN   \n",
       "freq                 NaN            NaN               NaN            NaN   \n",
       "first                NaN            NaN               NaN            NaN   \n",
       "last                 NaN            NaN               NaN            NaN   \n",
       "mean            0.469091     490.830729          0.590359     518.059879   \n",
       "std             0.748458     342.554386          0.883539     277.841733   \n",
       "min             0.000000       1.000000          0.000000      13.000000   \n",
       "25%             0.000000     288.000000          0.000000     293.000000   \n",
       "50%             0.000000     454.500000          0.000000     502.000000   \n",
       "75%             1.000000     612.000000          1.000000     730.000000   \n",
       "max             3.000000    3190.000000          3.000000    1344.000000   \n",
       "\n",
       "        days_exposition  \n",
       "count      20470.000000  \n",
       "unique              NaN  \n",
       "top                 NaN  \n",
       "freq                NaN  \n",
       "first               NaN  \n",
       "last                NaN  \n",
       "mean         180.753200  \n",
       "std          219.777916  \n",
       "min            1.000000  \n",
       "25%           45.000000  \n",
       "50%           95.000000  \n",
       "75%          231.000000  \n",
       "max         1580.000000  \n",
       "\n",
       "[13 rows x 22 columns]"
      ]
     },
     "execution_count": 11,
     "metadata": {},
     "output_type": "execute_result"
    }
   ],
   "source": [
    "df.describe(include= 'all')"
   ]
  },
  {
   "cell_type": "markdown",
   "metadata": {},
   "source": [
    "В значениях 'ceiling_height' ,'floors_total, 'total_area', 'kitchen_area', 'rooms' и 'living_area' есть редкие и выбивающиеся значения. Большие значения в 4 последних столбцах из этого списка связаны с редкими, но реальными объявлениями. Исправим значения в столбце 'ceiling_height'"
   ]
  },
  {
   "cell_type": "code",
   "execution_count": 12,
   "metadata": {},
   "outputs": [
    {
     "data": {
      "text/html": [
       "<div>\n",
       "<style scoped>\n",
       "    .dataframe tbody tr th:only-of-type {\n",
       "        vertical-align: middle;\n",
       "    }\n",
       "\n",
       "    .dataframe tbody tr th {\n",
       "        vertical-align: top;\n",
       "    }\n",
       "\n",
       "    .dataframe thead th {\n",
       "        text-align: right;\n",
       "    }\n",
       "</style>\n",
       "<table border=\"1\" class=\"dataframe\">\n",
       "  <thead>\n",
       "    <tr style=\"text-align: right;\">\n",
       "      <th></th>\n",
       "      <th>total_images</th>\n",
       "      <th>last_price</th>\n",
       "      <th>total_area</th>\n",
       "      <th>first_day_exposition</th>\n",
       "      <th>rooms</th>\n",
       "      <th>ceiling_height</th>\n",
       "      <th>floors_total</th>\n",
       "      <th>living_area</th>\n",
       "      <th>floor</th>\n",
       "      <th>is_apartment</th>\n",
       "      <th>...</th>\n",
       "      <th>kitchen_area</th>\n",
       "      <th>balcony</th>\n",
       "      <th>locality_name</th>\n",
       "      <th>airports_nearest</th>\n",
       "      <th>city_centers_nearest</th>\n",
       "      <th>parks_around3000</th>\n",
       "      <th>parks_nearest</th>\n",
       "      <th>ponds_around3000</th>\n",
       "      <th>ponds_nearest</th>\n",
       "      <th>days_exposition</th>\n",
       "    </tr>\n",
       "  </thead>\n",
       "  <tbody>\n",
       "    <tr>\n",
       "      <th>count</th>\n",
       "      <td>23475.000000</td>\n",
       "      <td>2.347500e+04</td>\n",
       "      <td>23475.000000</td>\n",
       "      <td>23475</td>\n",
       "      <td>23475.000000</td>\n",
       "      <td>23475.000000</td>\n",
       "      <td>23475.000000</td>\n",
       "      <td>23349.000000</td>\n",
       "      <td>23475.000000</td>\n",
       "      <td>23475</td>\n",
       "      <td>...</td>\n",
       "      <td>23293.000000</td>\n",
       "      <td>23475.000000</td>\n",
       "      <td>23475</td>\n",
       "      <td>17974.000000</td>\n",
       "      <td>17995.000000</td>\n",
       "      <td>23475.000000</td>\n",
       "      <td>7988.000000</td>\n",
       "      <td>23475.000000</td>\n",
       "      <td>8993.000000</td>\n",
       "      <td>20325.000000</td>\n",
       "    </tr>\n",
       "    <tr>\n",
       "      <th>unique</th>\n",
       "      <td>NaN</td>\n",
       "      <td>NaN</td>\n",
       "      <td>NaN</td>\n",
       "      <td>1488</td>\n",
       "      <td>NaN</td>\n",
       "      <td>NaN</td>\n",
       "      <td>NaN</td>\n",
       "      <td>NaN</td>\n",
       "      <td>NaN</td>\n",
       "      <td>2</td>\n",
       "      <td>...</td>\n",
       "      <td>NaN</td>\n",
       "      <td>NaN</td>\n",
       "      <td>305</td>\n",
       "      <td>NaN</td>\n",
       "      <td>NaN</td>\n",
       "      <td>NaN</td>\n",
       "      <td>NaN</td>\n",
       "      <td>NaN</td>\n",
       "      <td>NaN</td>\n",
       "      <td>NaN</td>\n",
       "    </tr>\n",
       "    <tr>\n",
       "      <th>top</th>\n",
       "      <td>NaN</td>\n",
       "      <td>NaN</td>\n",
       "      <td>NaN</td>\n",
       "      <td>2018-02-01 00:00:00</td>\n",
       "      <td>NaN</td>\n",
       "      <td>NaN</td>\n",
       "      <td>NaN</td>\n",
       "      <td>NaN</td>\n",
       "      <td>NaN</td>\n",
       "      <td>False</td>\n",
       "      <td>...</td>\n",
       "      <td>NaN</td>\n",
       "      <td>NaN</td>\n",
       "      <td>санкт-петербург</td>\n",
       "      <td>NaN</td>\n",
       "      <td>NaN</td>\n",
       "      <td>NaN</td>\n",
       "      <td>NaN</td>\n",
       "      <td>NaN</td>\n",
       "      <td>NaN</td>\n",
       "      <td>NaN</td>\n",
       "    </tr>\n",
       "    <tr>\n",
       "      <th>freq</th>\n",
       "      <td>NaN</td>\n",
       "      <td>NaN</td>\n",
       "      <td>NaN</td>\n",
       "      <td>364</td>\n",
       "      <td>NaN</td>\n",
       "      <td>NaN</td>\n",
       "      <td>NaN</td>\n",
       "      <td>NaN</td>\n",
       "      <td>NaN</td>\n",
       "      <td>23429</td>\n",
       "      <td>...</td>\n",
       "      <td>NaN</td>\n",
       "      <td>NaN</td>\n",
       "      <td>15585</td>\n",
       "      <td>NaN</td>\n",
       "      <td>NaN</td>\n",
       "      <td>NaN</td>\n",
       "      <td>NaN</td>\n",
       "      <td>NaN</td>\n",
       "      <td>NaN</td>\n",
       "      <td>NaN</td>\n",
       "    </tr>\n",
       "    <tr>\n",
       "      <th>first</th>\n",
       "      <td>NaN</td>\n",
       "      <td>NaN</td>\n",
       "      <td>NaN</td>\n",
       "      <td>2014-11-27 00:00:00</td>\n",
       "      <td>NaN</td>\n",
       "      <td>NaN</td>\n",
       "      <td>NaN</td>\n",
       "      <td>NaN</td>\n",
       "      <td>NaN</td>\n",
       "      <td>NaN</td>\n",
       "      <td>...</td>\n",
       "      <td>NaN</td>\n",
       "      <td>NaN</td>\n",
       "      <td>NaN</td>\n",
       "      <td>NaN</td>\n",
       "      <td>NaN</td>\n",
       "      <td>NaN</td>\n",
       "      <td>NaN</td>\n",
       "      <td>NaN</td>\n",
       "      <td>NaN</td>\n",
       "      <td>NaN</td>\n",
       "    </tr>\n",
       "    <tr>\n",
       "      <th>last</th>\n",
       "      <td>NaN</td>\n",
       "      <td>NaN</td>\n",
       "      <td>NaN</td>\n",
       "      <td>2019-05-03 00:00:00</td>\n",
       "      <td>NaN</td>\n",
       "      <td>NaN</td>\n",
       "      <td>NaN</td>\n",
       "      <td>NaN</td>\n",
       "      <td>NaN</td>\n",
       "      <td>NaN</td>\n",
       "      <td>...</td>\n",
       "      <td>NaN</td>\n",
       "      <td>NaN</td>\n",
       "      <td>NaN</td>\n",
       "      <td>NaN</td>\n",
       "      <td>NaN</td>\n",
       "      <td>NaN</td>\n",
       "      <td>NaN</td>\n",
       "      <td>NaN</td>\n",
       "      <td>NaN</td>\n",
       "      <td>NaN</td>\n",
       "    </tr>\n",
       "    <tr>\n",
       "      <th>mean</th>\n",
       "      <td>9.877103</td>\n",
       "      <td>6.363798e+06</td>\n",
       "      <td>59.737531</td>\n",
       "      <td>NaN</td>\n",
       "      <td>2.061853</td>\n",
       "      <td>2.695667</td>\n",
       "      <td>10.677444</td>\n",
       "      <td>34.194499</td>\n",
       "      <td>5.876038</td>\n",
       "      <td>NaN</td>\n",
       "      <td>...</td>\n",
       "      <td>10.410689</td>\n",
       "      <td>0.592929</td>\n",
       "      <td>NaN</td>\n",
       "      <td>28802.515689</td>\n",
       "      <td>14208.997166</td>\n",
       "      <td>0.467732</td>\n",
       "      <td>490.780170</td>\n",
       "      <td>0.588498</td>\n",
       "      <td>519.133771</td>\n",
       "      <td>180.693333</td>\n",
       "    </tr>\n",
       "    <tr>\n",
       "      <th>std</th>\n",
       "      <td>5.676717</td>\n",
       "      <td>8.115812e+06</td>\n",
       "      <td>31.990496</td>\n",
       "      <td>NaN</td>\n",
       "      <td>1.043205</td>\n",
       "      <td>0.213384</td>\n",
       "      <td>6.575667</td>\n",
       "      <td>20.349552</td>\n",
       "      <td>4.867335</td>\n",
       "      <td>NaN</td>\n",
       "      <td>...</td>\n",
       "      <td>5.614583</td>\n",
       "      <td>0.959298</td>\n",
       "      <td>NaN</td>\n",
       "      <td>12639.052537</td>\n",
       "      <td>8607.166049</td>\n",
       "      <td>0.747217</td>\n",
       "      <td>342.096665</td>\n",
       "      <td>0.882529</td>\n",
       "      <td>277.962227</td>\n",
       "      <td>219.607280</td>\n",
       "    </tr>\n",
       "    <tr>\n",
       "      <th>min</th>\n",
       "      <td>0.000000</td>\n",
       "      <td>1.219000e+04</td>\n",
       "      <td>12.000000</td>\n",
       "      <td>NaN</td>\n",
       "      <td>0.000000</td>\n",
       "      <td>2.200000</td>\n",
       "      <td>1.000000</td>\n",
       "      <td>2.000000</td>\n",
       "      <td>1.000000</td>\n",
       "      <td>NaN</td>\n",
       "      <td>...</td>\n",
       "      <td>1.300000</td>\n",
       "      <td>0.000000</td>\n",
       "      <td>NaN</td>\n",
       "      <td>0.000000</td>\n",
       "      <td>181.000000</td>\n",
       "      <td>0.000000</td>\n",
       "      <td>1.000000</td>\n",
       "      <td>0.000000</td>\n",
       "      <td>13.000000</td>\n",
       "      <td>1.000000</td>\n",
       "    </tr>\n",
       "    <tr>\n",
       "      <th>25%</th>\n",
       "      <td>6.000000</td>\n",
       "      <td>3.400000e+06</td>\n",
       "      <td>40.000000</td>\n",
       "      <td>NaN</td>\n",
       "      <td>1.000000</td>\n",
       "      <td>2.600000</td>\n",
       "      <td>5.000000</td>\n",
       "      <td>18.600000</td>\n",
       "      <td>2.000000</td>\n",
       "      <td>NaN</td>\n",
       "      <td>...</td>\n",
       "      <td>7.000000</td>\n",
       "      <td>0.000000</td>\n",
       "      <td>NaN</td>\n",
       "      <td>18551.000000</td>\n",
       "      <td>9269.000000</td>\n",
       "      <td>0.000000</td>\n",
       "      <td>288.000000</td>\n",
       "      <td>0.000000</td>\n",
       "      <td>294.000000</td>\n",
       "      <td>45.000000</td>\n",
       "    </tr>\n",
       "    <tr>\n",
       "      <th>50%</th>\n",
       "      <td>9.000000</td>\n",
       "      <td>4.630000e+06</td>\n",
       "      <td>52.000000</td>\n",
       "      <td>NaN</td>\n",
       "      <td>2.000000</td>\n",
       "      <td>2.650000</td>\n",
       "      <td>9.000000</td>\n",
       "      <td>30.000000</td>\n",
       "      <td>4.000000</td>\n",
       "      <td>NaN</td>\n",
       "      <td>...</td>\n",
       "      <td>9.000000</td>\n",
       "      <td>0.000000</td>\n",
       "      <td>NaN</td>\n",
       "      <td>26765.000000</td>\n",
       "      <td>13109.000000</td>\n",
       "      <td>0.000000</td>\n",
       "      <td>455.000000</td>\n",
       "      <td>0.000000</td>\n",
       "      <td>503.000000</td>\n",
       "      <td>95.000000</td>\n",
       "    </tr>\n",
       "    <tr>\n",
       "      <th>75%</th>\n",
       "      <td>14.000000</td>\n",
       "      <td>6.750000e+06</td>\n",
       "      <td>69.500000</td>\n",
       "      <td>NaN</td>\n",
       "      <td>3.000000</td>\n",
       "      <td>2.700000</td>\n",
       "      <td>16.000000</td>\n",
       "      <td>42.200000</td>\n",
       "      <td>8.000000</td>\n",
       "      <td>NaN</td>\n",
       "      <td>...</td>\n",
       "      <td>11.800000</td>\n",
       "      <td>1.000000</td>\n",
       "      <td>NaN</td>\n",
       "      <td>37288.000000</td>\n",
       "      <td>16293.000000</td>\n",
       "      <td>1.000000</td>\n",
       "      <td>612.000000</td>\n",
       "      <td>1.000000</td>\n",
       "      <td>732.000000</td>\n",
       "      <td>231.000000</td>\n",
       "    </tr>\n",
       "    <tr>\n",
       "      <th>max</th>\n",
       "      <td>50.000000</td>\n",
       "      <td>3.300000e+08</td>\n",
       "      <td>398.000000</td>\n",
       "      <td>NaN</td>\n",
       "      <td>9.000000</td>\n",
       "      <td>4.900000</td>\n",
       "      <td>35.000000</td>\n",
       "      <td>260.000000</td>\n",
       "      <td>33.000000</td>\n",
       "      <td>NaN</td>\n",
       "      <td>...</td>\n",
       "      <td>107.000000</td>\n",
       "      <td>5.000000</td>\n",
       "      <td>NaN</td>\n",
       "      <td>84869.000000</td>\n",
       "      <td>65968.000000</td>\n",
       "      <td>3.000000</td>\n",
       "      <td>3190.000000</td>\n",
       "      <td>3.000000</td>\n",
       "      <td>1344.000000</td>\n",
       "      <td>1580.000000</td>\n",
       "    </tr>\n",
       "  </tbody>\n",
       "</table>\n",
       "<p>13 rows × 22 columns</p>\n",
       "</div>"
      ],
      "text/plain": [
       "        total_images    last_price    total_area first_day_exposition  \\\n",
       "count   23475.000000  2.347500e+04  23475.000000                23475   \n",
       "unique           NaN           NaN           NaN                 1488   \n",
       "top              NaN           NaN           NaN  2018-02-01 00:00:00   \n",
       "freq             NaN           NaN           NaN                  364   \n",
       "first            NaN           NaN           NaN  2014-11-27 00:00:00   \n",
       "last             NaN           NaN           NaN  2019-05-03 00:00:00   \n",
       "mean        9.877103  6.363798e+06     59.737531                  NaN   \n",
       "std         5.676717  8.115812e+06     31.990496                  NaN   \n",
       "min         0.000000  1.219000e+04     12.000000                  NaN   \n",
       "25%         6.000000  3.400000e+06     40.000000                  NaN   \n",
       "50%         9.000000  4.630000e+06     52.000000                  NaN   \n",
       "75%        14.000000  6.750000e+06     69.500000                  NaN   \n",
       "max        50.000000  3.300000e+08    398.000000                  NaN   \n",
       "\n",
       "               rooms  ceiling_height  floors_total   living_area  \\\n",
       "count   23475.000000    23475.000000  23475.000000  23349.000000   \n",
       "unique           NaN             NaN           NaN           NaN   \n",
       "top              NaN             NaN           NaN           NaN   \n",
       "freq             NaN             NaN           NaN           NaN   \n",
       "first            NaN             NaN           NaN           NaN   \n",
       "last             NaN             NaN           NaN           NaN   \n",
       "mean        2.061853        2.695667     10.677444     34.194499   \n",
       "std         1.043205        0.213384      6.575667     20.349552   \n",
       "min         0.000000        2.200000      1.000000      2.000000   \n",
       "25%         1.000000        2.600000      5.000000     18.600000   \n",
       "50%         2.000000        2.650000      9.000000     30.000000   \n",
       "75%         3.000000        2.700000     16.000000     42.200000   \n",
       "max         9.000000        4.900000     35.000000    260.000000   \n",
       "\n",
       "               floor is_apartment  ...  kitchen_area       balcony  \\\n",
       "count   23475.000000        23475  ...  23293.000000  23475.000000   \n",
       "unique           NaN            2  ...           NaN           NaN   \n",
       "top              NaN        False  ...           NaN           NaN   \n",
       "freq             NaN        23429  ...           NaN           NaN   \n",
       "first            NaN          NaN  ...           NaN           NaN   \n",
       "last             NaN          NaN  ...           NaN           NaN   \n",
       "mean        5.876038          NaN  ...     10.410689      0.592929   \n",
       "std         4.867335          NaN  ...      5.614583      0.959298   \n",
       "min         1.000000          NaN  ...      1.300000      0.000000   \n",
       "25%         2.000000          NaN  ...      7.000000      0.000000   \n",
       "50%         4.000000          NaN  ...      9.000000      0.000000   \n",
       "75%         8.000000          NaN  ...     11.800000      1.000000   \n",
       "max        33.000000          NaN  ...    107.000000      5.000000   \n",
       "\n",
       "          locality_name  airports_nearest city_centers_nearest  \\\n",
       "count             23475      17974.000000         17995.000000   \n",
       "unique              305               NaN                  NaN   \n",
       "top     санкт-петербург               NaN                  NaN   \n",
       "freq              15585               NaN                  NaN   \n",
       "first               NaN               NaN                  NaN   \n",
       "last                NaN               NaN                  NaN   \n",
       "mean                NaN      28802.515689         14208.997166   \n",
       "std                 NaN      12639.052537          8607.166049   \n",
       "min                 NaN          0.000000           181.000000   \n",
       "25%                 NaN      18551.000000          9269.000000   \n",
       "50%                 NaN      26765.000000         13109.000000   \n",
       "75%                 NaN      37288.000000         16293.000000   \n",
       "max                 NaN      84869.000000         65968.000000   \n",
       "\n",
       "        parks_around3000  parks_nearest  ponds_around3000  ponds_nearest  \\\n",
       "count       23475.000000    7988.000000      23475.000000    8993.000000   \n",
       "unique               NaN            NaN               NaN            NaN   \n",
       "top                  NaN            NaN               NaN            NaN   \n",
       "freq                 NaN            NaN               NaN            NaN   \n",
       "first                NaN            NaN               NaN            NaN   \n",
       "last                 NaN            NaN               NaN            NaN   \n",
       "mean            0.467732     490.780170          0.588498     519.133771   \n",
       "std             0.747217     342.096665          0.882529     277.962227   \n",
       "min             0.000000       1.000000          0.000000      13.000000   \n",
       "25%             0.000000     288.000000          0.000000     294.000000   \n",
       "50%             0.000000     455.000000          0.000000     503.000000   \n",
       "75%             1.000000     612.000000          1.000000     732.000000   \n",
       "max             3.000000    3190.000000          3.000000    1344.000000   \n",
       "\n",
       "        days_exposition  \n",
       "count      20325.000000  \n",
       "unique              NaN  \n",
       "top                 NaN  \n",
       "freq                NaN  \n",
       "first               NaN  \n",
       "last                NaN  \n",
       "mean         180.693333  \n",
       "std          219.607280  \n",
       "min            1.000000  \n",
       "25%           45.000000  \n",
       "50%           95.000000  \n",
       "75%          231.000000  \n",
       "max         1580.000000  \n",
       "\n",
       "[13 rows x 22 columns]"
      ]
     },
     "execution_count": 12,
     "metadata": {},
     "output_type": "execute_result"
    }
   ],
   "source": [
    "df= df[(df['ceiling_height']<5)&(df['ceiling_height']>2)]\n",
    "df= df[df['floors_total'] < 36]\n",
    "df= df[df['total_area'] < 400]\n",
    "df= df[df['rooms'] < 10]\n",
    "df.describe(include= 'all')"
   ]
  },
  {
   "cell_type": "markdown",
   "metadata": {},
   "source": [
    "Аномальные значения исправлены. Теперь проверим данные на наличие дубликатов:"
   ]
  },
  {
   "cell_type": "code",
   "execution_count": 13,
   "metadata": {},
   "outputs": [
    {
     "data": {
      "text/plain": [
       "0"
      ]
     },
     "execution_count": 13,
     "metadata": {},
     "output_type": "execute_result"
    }
   ],
   "source": [
    "df.duplicated().sum()"
   ]
  },
  {
   "cell_type": "markdown",
   "metadata": {},
   "source": [
    "Отлично, дубликатов нет. После очистики датасета от пропусков, неявных дубликатов и аномальных значений - можно приступить к добавлению новых столбцов необходимых  для исследования"
   ]
  },
  {
   "cell_type": "markdown",
   "metadata": {},
   "source": [
    "### Посчитайте и добавьте в таблицу новые столбцы"
   ]
  },
  {
   "cell_type": "code",
   "execution_count": 14,
   "metadata": {},
   "outputs": [],
   "source": [
    "#Добавим столбец со значениями  - цена одного квадратного метра\n",
    "df['price_per_area'] = df['last_price'] / df['total_area']\n",
    "\n",
    "#Добавим столбецы со значениями - день недели , месяц и год публикации объявления\n",
    "df['day_of_week_exposition'] = df['first_day_exposition'].dt.day_name()\n",
    "df['month_exposition'] = df['first_day_exposition'].dt.month_name()\n",
    "df['year_exposition'] = df['first_day_exposition'].dt.year\n",
    "\n"
   ]
  },
  {
   "cell_type": "code",
   "execution_count": 15,
   "metadata": {},
   "outputs": [
    {
     "data": {
      "text/html": [
       "<div>\n",
       "<style scoped>\n",
       "    .dataframe tbody tr th:only-of-type {\n",
       "        vertical-align: middle;\n",
       "    }\n",
       "\n",
       "    .dataframe tbody tr th {\n",
       "        vertical-align: top;\n",
       "    }\n",
       "\n",
       "    .dataframe thead th {\n",
       "        text-align: right;\n",
       "    }\n",
       "</style>\n",
       "<table border=\"1\" class=\"dataframe\">\n",
       "  <thead>\n",
       "    <tr style=\"text-align: right;\">\n",
       "      <th></th>\n",
       "      <th>total_images</th>\n",
       "      <th>last_price</th>\n",
       "      <th>total_area</th>\n",
       "      <th>first_day_exposition</th>\n",
       "      <th>rooms</th>\n",
       "      <th>ceiling_height</th>\n",
       "      <th>floors_total</th>\n",
       "      <th>living_area</th>\n",
       "      <th>floor</th>\n",
       "      <th>is_apartment</th>\n",
       "      <th>...</th>\n",
       "      <th>city_centers_nearest</th>\n",
       "      <th>parks_around3000</th>\n",
       "      <th>parks_nearest</th>\n",
       "      <th>ponds_around3000</th>\n",
       "      <th>ponds_nearest</th>\n",
       "      <th>days_exposition</th>\n",
       "      <th>price_per_area</th>\n",
       "      <th>day_of_week_exposition</th>\n",
       "      <th>month_exposition</th>\n",
       "      <th>year_exposition</th>\n",
       "    </tr>\n",
       "  </thead>\n",
       "  <tbody>\n",
       "    <tr>\n",
       "      <th>0</th>\n",
       "      <td>20</td>\n",
       "      <td>13000000</td>\n",
       "      <td>108.0</td>\n",
       "      <td>2019-03-07</td>\n",
       "      <td>3</td>\n",
       "      <td>2.70</td>\n",
       "      <td>16</td>\n",
       "      <td>51.0</td>\n",
       "      <td>8</td>\n",
       "      <td>False</td>\n",
       "      <td>...</td>\n",
       "      <td>16028.0</td>\n",
       "      <td>1</td>\n",
       "      <td>482.0</td>\n",
       "      <td>2</td>\n",
       "      <td>755.0</td>\n",
       "      <td>&lt;NA&gt;</td>\n",
       "      <td>120370.37037</td>\n",
       "      <td>Thursday</td>\n",
       "      <td>March</td>\n",
       "      <td>2019</td>\n",
       "    </tr>\n",
       "    <tr>\n",
       "      <th>1</th>\n",
       "      <td>7</td>\n",
       "      <td>3350000</td>\n",
       "      <td>40.4</td>\n",
       "      <td>2018-12-04</td>\n",
       "      <td>1</td>\n",
       "      <td>2.65</td>\n",
       "      <td>11</td>\n",
       "      <td>18.6</td>\n",
       "      <td>1</td>\n",
       "      <td>False</td>\n",
       "      <td>...</td>\n",
       "      <td>18603.0</td>\n",
       "      <td>0</td>\n",
       "      <td>NaN</td>\n",
       "      <td>0</td>\n",
       "      <td>NaN</td>\n",
       "      <td>81</td>\n",
       "      <td>82920.792079</td>\n",
       "      <td>Tuesday</td>\n",
       "      <td>December</td>\n",
       "      <td>2018</td>\n",
       "    </tr>\n",
       "    <tr>\n",
       "      <th>2</th>\n",
       "      <td>10</td>\n",
       "      <td>5196000</td>\n",
       "      <td>56.0</td>\n",
       "      <td>2015-08-20</td>\n",
       "      <td>2</td>\n",
       "      <td>2.65</td>\n",
       "      <td>5</td>\n",
       "      <td>34.3</td>\n",
       "      <td>4</td>\n",
       "      <td>False</td>\n",
       "      <td>...</td>\n",
       "      <td>13933.0</td>\n",
       "      <td>1</td>\n",
       "      <td>90.0</td>\n",
       "      <td>2</td>\n",
       "      <td>574.0</td>\n",
       "      <td>558</td>\n",
       "      <td>92785.714286</td>\n",
       "      <td>Thursday</td>\n",
       "      <td>August</td>\n",
       "      <td>2015</td>\n",
       "    </tr>\n",
       "    <tr>\n",
       "      <th>3</th>\n",
       "      <td>0</td>\n",
       "      <td>64900000</td>\n",
       "      <td>159.0</td>\n",
       "      <td>2015-07-24</td>\n",
       "      <td>3</td>\n",
       "      <td>2.65</td>\n",
       "      <td>14</td>\n",
       "      <td>95.0</td>\n",
       "      <td>9</td>\n",
       "      <td>False</td>\n",
       "      <td>...</td>\n",
       "      <td>6800.0</td>\n",
       "      <td>2</td>\n",
       "      <td>84.0</td>\n",
       "      <td>3</td>\n",
       "      <td>234.0</td>\n",
       "      <td>424</td>\n",
       "      <td>408176.100629</td>\n",
       "      <td>Friday</td>\n",
       "      <td>July</td>\n",
       "      <td>2015</td>\n",
       "    </tr>\n",
       "    <tr>\n",
       "      <th>4</th>\n",
       "      <td>2</td>\n",
       "      <td>10000000</td>\n",
       "      <td>100.0</td>\n",
       "      <td>2018-06-19</td>\n",
       "      <td>2</td>\n",
       "      <td>3.03</td>\n",
       "      <td>14</td>\n",
       "      <td>32.0</td>\n",
       "      <td>13</td>\n",
       "      <td>False</td>\n",
       "      <td>...</td>\n",
       "      <td>8098.0</td>\n",
       "      <td>2</td>\n",
       "      <td>112.0</td>\n",
       "      <td>1</td>\n",
       "      <td>48.0</td>\n",
       "      <td>121</td>\n",
       "      <td>100000.0</td>\n",
       "      <td>Tuesday</td>\n",
       "      <td>June</td>\n",
       "      <td>2018</td>\n",
       "    </tr>\n",
       "  </tbody>\n",
       "</table>\n",
       "<p>5 rows × 26 columns</p>\n",
       "</div>"
      ],
      "text/plain": [
       "   total_images  last_price  total_area first_day_exposition  rooms  \\\n",
       "0            20    13000000       108.0           2019-03-07      3   \n",
       "1             7     3350000        40.4           2018-12-04      1   \n",
       "2            10     5196000        56.0           2015-08-20      2   \n",
       "3             0    64900000       159.0           2015-07-24      3   \n",
       "4             2    10000000       100.0           2018-06-19      2   \n",
       "\n",
       "   ceiling_height  floors_total  living_area  floor  is_apartment  ...  \\\n",
       "0            2.70            16         51.0      8         False  ...   \n",
       "1            2.65            11         18.6      1         False  ...   \n",
       "2            2.65             5         34.3      4         False  ...   \n",
       "3            2.65            14         95.0      9         False  ...   \n",
       "4            3.03            14         32.0     13         False  ...   \n",
       "\n",
       "   city_centers_nearest  parks_around3000  parks_nearest  ponds_around3000  \\\n",
       "0               16028.0                 1          482.0                 2   \n",
       "1               18603.0                 0            NaN                 0   \n",
       "2               13933.0                 1           90.0                 2   \n",
       "3                6800.0                 2           84.0                 3   \n",
       "4                8098.0                 2          112.0                 1   \n",
       "\n",
       "  ponds_nearest  days_exposition  price_per_area  day_of_week_exposition  \\\n",
       "0         755.0             <NA>    120370.37037                Thursday   \n",
       "1           NaN               81    82920.792079                 Tuesday   \n",
       "2         574.0              558    92785.714286                Thursday   \n",
       "3         234.0              424   408176.100629                  Friday   \n",
       "4          48.0              121        100000.0                 Tuesday   \n",
       "\n",
       "   month_exposition  year_exposition  \n",
       "0             March             2019  \n",
       "1          December             2018  \n",
       "2            August             2015  \n",
       "3              July             2015  \n",
       "4              June             2018  \n",
       "\n",
       "[5 rows x 26 columns]"
      ]
     },
     "execution_count": 15,
     "metadata": {},
     "output_type": "execute_result"
    }
   ],
   "source": [
    "df.head(5)"
   ]
  },
  {
   "cell_type": "markdown",
   "metadata": {},
   "source": [
    "Все в порядке. Теперь добавим тип этажа квартиры"
   ]
  },
  {
   "cell_type": "code",
   "execution_count": 16,
   "metadata": {},
   "outputs": [],
   "source": [
    "def floor_type_calc(row):\n",
    "    if row['floor'] == 1:\n",
    "        return 'первый'\n",
    "    elif row['floor'] == row['floors_total']:\n",
    "        return 'последний'\n",
    "    else:\n",
    "        return 'другой'"
   ]
  },
  {
   "cell_type": "code",
   "execution_count": 17,
   "metadata": {},
   "outputs": [
    {
     "data": {
      "text/html": [
       "<div>\n",
       "<style scoped>\n",
       "    .dataframe tbody tr th:only-of-type {\n",
       "        vertical-align: middle;\n",
       "    }\n",
       "\n",
       "    .dataframe tbody tr th {\n",
       "        vertical-align: top;\n",
       "    }\n",
       "\n",
       "    .dataframe thead th {\n",
       "        text-align: right;\n",
       "    }\n",
       "</style>\n",
       "<table border=\"1\" class=\"dataframe\">\n",
       "  <thead>\n",
       "    <tr style=\"text-align: right;\">\n",
       "      <th></th>\n",
       "      <th>total_images</th>\n",
       "      <th>last_price</th>\n",
       "      <th>total_area</th>\n",
       "      <th>first_day_exposition</th>\n",
       "      <th>rooms</th>\n",
       "      <th>ceiling_height</th>\n",
       "      <th>floors_total</th>\n",
       "      <th>living_area</th>\n",
       "      <th>floor</th>\n",
       "      <th>is_apartment</th>\n",
       "      <th>...</th>\n",
       "      <th>parks_around3000</th>\n",
       "      <th>parks_nearest</th>\n",
       "      <th>ponds_around3000</th>\n",
       "      <th>ponds_nearest</th>\n",
       "      <th>days_exposition</th>\n",
       "      <th>price_per_area</th>\n",
       "      <th>day_of_week_exposition</th>\n",
       "      <th>month_exposition</th>\n",
       "      <th>year_exposition</th>\n",
       "      <th>floor_type</th>\n",
       "    </tr>\n",
       "  </thead>\n",
       "  <tbody>\n",
       "    <tr>\n",
       "      <th>0</th>\n",
       "      <td>20</td>\n",
       "      <td>13000000</td>\n",
       "      <td>108.0</td>\n",
       "      <td>2019-03-07</td>\n",
       "      <td>3</td>\n",
       "      <td>2.70</td>\n",
       "      <td>16</td>\n",
       "      <td>51.0</td>\n",
       "      <td>8</td>\n",
       "      <td>False</td>\n",
       "      <td>...</td>\n",
       "      <td>1</td>\n",
       "      <td>482.0</td>\n",
       "      <td>2</td>\n",
       "      <td>755.0</td>\n",
       "      <td>&lt;NA&gt;</td>\n",
       "      <td>120370.37037</td>\n",
       "      <td>Thursday</td>\n",
       "      <td>March</td>\n",
       "      <td>2019</td>\n",
       "      <td>другой</td>\n",
       "    </tr>\n",
       "    <tr>\n",
       "      <th>1</th>\n",
       "      <td>7</td>\n",
       "      <td>3350000</td>\n",
       "      <td>40.4</td>\n",
       "      <td>2018-12-04</td>\n",
       "      <td>1</td>\n",
       "      <td>2.65</td>\n",
       "      <td>11</td>\n",
       "      <td>18.6</td>\n",
       "      <td>1</td>\n",
       "      <td>False</td>\n",
       "      <td>...</td>\n",
       "      <td>0</td>\n",
       "      <td>NaN</td>\n",
       "      <td>0</td>\n",
       "      <td>NaN</td>\n",
       "      <td>81</td>\n",
       "      <td>82920.792079</td>\n",
       "      <td>Tuesday</td>\n",
       "      <td>December</td>\n",
       "      <td>2018</td>\n",
       "      <td>первый</td>\n",
       "    </tr>\n",
       "    <tr>\n",
       "      <th>2</th>\n",
       "      <td>10</td>\n",
       "      <td>5196000</td>\n",
       "      <td>56.0</td>\n",
       "      <td>2015-08-20</td>\n",
       "      <td>2</td>\n",
       "      <td>2.65</td>\n",
       "      <td>5</td>\n",
       "      <td>34.3</td>\n",
       "      <td>4</td>\n",
       "      <td>False</td>\n",
       "      <td>...</td>\n",
       "      <td>1</td>\n",
       "      <td>90.0</td>\n",
       "      <td>2</td>\n",
       "      <td>574.0</td>\n",
       "      <td>558</td>\n",
       "      <td>92785.714286</td>\n",
       "      <td>Thursday</td>\n",
       "      <td>August</td>\n",
       "      <td>2015</td>\n",
       "      <td>другой</td>\n",
       "    </tr>\n",
       "    <tr>\n",
       "      <th>3</th>\n",
       "      <td>0</td>\n",
       "      <td>64900000</td>\n",
       "      <td>159.0</td>\n",
       "      <td>2015-07-24</td>\n",
       "      <td>3</td>\n",
       "      <td>2.65</td>\n",
       "      <td>14</td>\n",
       "      <td>95.0</td>\n",
       "      <td>9</td>\n",
       "      <td>False</td>\n",
       "      <td>...</td>\n",
       "      <td>2</td>\n",
       "      <td>84.0</td>\n",
       "      <td>3</td>\n",
       "      <td>234.0</td>\n",
       "      <td>424</td>\n",
       "      <td>408176.100629</td>\n",
       "      <td>Friday</td>\n",
       "      <td>July</td>\n",
       "      <td>2015</td>\n",
       "      <td>другой</td>\n",
       "    </tr>\n",
       "    <tr>\n",
       "      <th>4</th>\n",
       "      <td>2</td>\n",
       "      <td>10000000</td>\n",
       "      <td>100.0</td>\n",
       "      <td>2018-06-19</td>\n",
       "      <td>2</td>\n",
       "      <td>3.03</td>\n",
       "      <td>14</td>\n",
       "      <td>32.0</td>\n",
       "      <td>13</td>\n",
       "      <td>False</td>\n",
       "      <td>...</td>\n",
       "      <td>2</td>\n",
       "      <td>112.0</td>\n",
       "      <td>1</td>\n",
       "      <td>48.0</td>\n",
       "      <td>121</td>\n",
       "      <td>100000.0</td>\n",
       "      <td>Tuesday</td>\n",
       "      <td>June</td>\n",
       "      <td>2018</td>\n",
       "      <td>другой</td>\n",
       "    </tr>\n",
       "  </tbody>\n",
       "</table>\n",
       "<p>5 rows × 27 columns</p>\n",
       "</div>"
      ],
      "text/plain": [
       "   total_images  last_price  total_area first_day_exposition  rooms  \\\n",
       "0            20    13000000       108.0           2019-03-07      3   \n",
       "1             7     3350000        40.4           2018-12-04      1   \n",
       "2            10     5196000        56.0           2015-08-20      2   \n",
       "3             0    64900000       159.0           2015-07-24      3   \n",
       "4             2    10000000       100.0           2018-06-19      2   \n",
       "\n",
       "   ceiling_height  floors_total  living_area  floor  is_apartment  ...  \\\n",
       "0            2.70            16         51.0      8         False  ...   \n",
       "1            2.65            11         18.6      1         False  ...   \n",
       "2            2.65             5         34.3      4         False  ...   \n",
       "3            2.65            14         95.0      9         False  ...   \n",
       "4            3.03            14         32.0     13         False  ...   \n",
       "\n",
       "   parks_around3000  parks_nearest  ponds_around3000  ponds_nearest  \\\n",
       "0                 1          482.0                 2          755.0   \n",
       "1                 0            NaN                 0            NaN   \n",
       "2                 1           90.0                 2          574.0   \n",
       "3                 2           84.0                 3          234.0   \n",
       "4                 2          112.0                 1           48.0   \n",
       "\n",
       "  days_exposition  price_per_area  day_of_week_exposition  month_exposition  \\\n",
       "0            <NA>    120370.37037                Thursday             March   \n",
       "1              81    82920.792079                 Tuesday          December   \n",
       "2             558    92785.714286                Thursday            August   \n",
       "3             424   408176.100629                  Friday              July   \n",
       "4             121        100000.0                 Tuesday              June   \n",
       "\n",
       "   year_exposition  floor_type  \n",
       "0             2019      другой  \n",
       "1             2018      первый  \n",
       "2             2015      другой  \n",
       "3             2015      другой  \n",
       "4             2018      другой  \n",
       "\n",
       "[5 rows x 27 columns]"
      ]
     },
     "execution_count": 17,
     "metadata": {},
     "output_type": "execute_result"
    }
   ],
   "source": [
    "df['floor_type'] = df.apply(floor_type_calc, axis=1)\n",
    "df.head(5)"
   ]
  },
  {
   "cell_type": "markdown",
   "metadata": {},
   "source": [
    "Добавим столец  - расстояние в км до центра города"
   ]
  },
  {
   "cell_type": "code",
   "execution_count": 18,
   "metadata": {},
   "outputs": [
    {
     "data": {
      "text/html": [
       "<div>\n",
       "<style scoped>\n",
       "    .dataframe tbody tr th:only-of-type {\n",
       "        vertical-align: middle;\n",
       "    }\n",
       "\n",
       "    .dataframe tbody tr th {\n",
       "        vertical-align: top;\n",
       "    }\n",
       "\n",
       "    .dataframe thead th {\n",
       "        text-align: right;\n",
       "    }\n",
       "</style>\n",
       "<table border=\"1\" class=\"dataframe\">\n",
       "  <thead>\n",
       "    <tr style=\"text-align: right;\">\n",
       "      <th></th>\n",
       "      <th>total_images</th>\n",
       "      <th>last_price</th>\n",
       "      <th>total_area</th>\n",
       "      <th>rooms</th>\n",
       "      <th>ceiling_height</th>\n",
       "      <th>floors_total</th>\n",
       "      <th>living_area</th>\n",
       "      <th>floor</th>\n",
       "      <th>kitchen_area</th>\n",
       "      <th>balcony</th>\n",
       "      <th>airports_nearest</th>\n",
       "      <th>city_centers_nearest</th>\n",
       "      <th>parks_around3000</th>\n",
       "      <th>parks_nearest</th>\n",
       "      <th>ponds_around3000</th>\n",
       "      <th>ponds_nearest</th>\n",
       "      <th>days_exposition</th>\n",
       "      <th>price_per_area</th>\n",
       "      <th>year_exposition</th>\n",
       "      <th>city_center_distace_km</th>\n",
       "    </tr>\n",
       "  </thead>\n",
       "  <tbody>\n",
       "    <tr>\n",
       "      <th>count</th>\n",
       "      <td>23475.000000</td>\n",
       "      <td>2.347500e+04</td>\n",
       "      <td>23475.000000</td>\n",
       "      <td>23475.000000</td>\n",
       "      <td>23475.000000</td>\n",
       "      <td>23475.000000</td>\n",
       "      <td>23349.000000</td>\n",
       "      <td>23475.000000</td>\n",
       "      <td>23293.000000</td>\n",
       "      <td>23475.000000</td>\n",
       "      <td>17974.000000</td>\n",
       "      <td>17995.000000</td>\n",
       "      <td>23475.000000</td>\n",
       "      <td>7988.000000</td>\n",
       "      <td>23475.000000</td>\n",
       "      <td>8993.000000</td>\n",
       "      <td>20325.000000</td>\n",
       "      <td>2.347500e+04</td>\n",
       "      <td>23475.000000</td>\n",
       "      <td>17995.000000</td>\n",
       "    </tr>\n",
       "    <tr>\n",
       "      <th>mean</th>\n",
       "      <td>9.877103</td>\n",
       "      <td>6.363798e+06</td>\n",
       "      <td>59.737531</td>\n",
       "      <td>2.061853</td>\n",
       "      <td>2.695667</td>\n",
       "      <td>10.677444</td>\n",
       "      <td>34.194499</td>\n",
       "      <td>5.876038</td>\n",
       "      <td>10.410689</td>\n",
       "      <td>0.592929</td>\n",
       "      <td>28802.515689</td>\n",
       "      <td>14208.997166</td>\n",
       "      <td>0.467732</td>\n",
       "      <td>490.780170</td>\n",
       "      <td>0.588498</td>\n",
       "      <td>519.133771</td>\n",
       "      <td>180.693333</td>\n",
       "      <td>9.913782e+04</td>\n",
       "      <td>2017.370564</td>\n",
       "      <td>14.202834</td>\n",
       "    </tr>\n",
       "    <tr>\n",
       "      <th>std</th>\n",
       "      <td>5.676717</td>\n",
       "      <td>8.115812e+06</td>\n",
       "      <td>31.990496</td>\n",
       "      <td>1.043205</td>\n",
       "      <td>0.213384</td>\n",
       "      <td>6.575667</td>\n",
       "      <td>20.349552</td>\n",
       "      <td>4.867335</td>\n",
       "      <td>5.614583</td>\n",
       "      <td>0.959298</td>\n",
       "      <td>12639.052537</td>\n",
       "      <td>8607.166049</td>\n",
       "      <td>0.747217</td>\n",
       "      <td>342.096665</td>\n",
       "      <td>0.882529</td>\n",
       "      <td>277.962227</td>\n",
       "      <td>219.607280</td>\n",
       "      <td>4.801244e+04</td>\n",
       "      <td>1.037252</td>\n",
       "      <td>8.615126</td>\n",
       "    </tr>\n",
       "    <tr>\n",
       "      <th>min</th>\n",
       "      <td>0.000000</td>\n",
       "      <td>1.219000e+04</td>\n",
       "      <td>12.000000</td>\n",
       "      <td>0.000000</td>\n",
       "      <td>2.200000</td>\n",
       "      <td>1.000000</td>\n",
       "      <td>2.000000</td>\n",
       "      <td>1.000000</td>\n",
       "      <td>1.300000</td>\n",
       "      <td>0.000000</td>\n",
       "      <td>0.000000</td>\n",
       "      <td>181.000000</td>\n",
       "      <td>0.000000</td>\n",
       "      <td>1.000000</td>\n",
       "      <td>0.000000</td>\n",
       "      <td>13.000000</td>\n",
       "      <td>1.000000</td>\n",
       "      <td>1.118349e+02</td>\n",
       "      <td>2014.000000</td>\n",
       "      <td>0.000000</td>\n",
       "    </tr>\n",
       "    <tr>\n",
       "      <th>25%</th>\n",
       "      <td>6.000000</td>\n",
       "      <td>3.400000e+06</td>\n",
       "      <td>40.000000</td>\n",
       "      <td>1.000000</td>\n",
       "      <td>2.600000</td>\n",
       "      <td>5.000000</td>\n",
       "      <td>18.600000</td>\n",
       "      <td>2.000000</td>\n",
       "      <td>7.000000</td>\n",
       "      <td>0.000000</td>\n",
       "      <td>18551.000000</td>\n",
       "      <td>9269.000000</td>\n",
       "      <td>0.000000</td>\n",
       "      <td>288.000000</td>\n",
       "      <td>0.000000</td>\n",
       "      <td>294.000000</td>\n",
       "      <td>45.000000</td>\n",
       "      <td>7.659967e+04</td>\n",
       "      <td>2017.000000</td>\n",
       "      <td>9.000000</td>\n",
       "    </tr>\n",
       "    <tr>\n",
       "      <th>50%</th>\n",
       "      <td>9.000000</td>\n",
       "      <td>4.630000e+06</td>\n",
       "      <td>52.000000</td>\n",
       "      <td>2.000000</td>\n",
       "      <td>2.650000</td>\n",
       "      <td>9.000000</td>\n",
       "      <td>30.000000</td>\n",
       "      <td>4.000000</td>\n",
       "      <td>9.000000</td>\n",
       "      <td>0.000000</td>\n",
       "      <td>26765.000000</td>\n",
       "      <td>13109.000000</td>\n",
       "      <td>0.000000</td>\n",
       "      <td>455.000000</td>\n",
       "      <td>0.000000</td>\n",
       "      <td>503.000000</td>\n",
       "      <td>95.000000</td>\n",
       "      <td>9.500000e+04</td>\n",
       "      <td>2017.000000</td>\n",
       "      <td>13.000000</td>\n",
       "    </tr>\n",
       "    <tr>\n",
       "      <th>75%</th>\n",
       "      <td>14.000000</td>\n",
       "      <td>6.750000e+06</td>\n",
       "      <td>69.500000</td>\n",
       "      <td>3.000000</td>\n",
       "      <td>2.700000</td>\n",
       "      <td>16.000000</td>\n",
       "      <td>42.200000</td>\n",
       "      <td>8.000000</td>\n",
       "      <td>11.800000</td>\n",
       "      <td>1.000000</td>\n",
       "      <td>37288.000000</td>\n",
       "      <td>16293.000000</td>\n",
       "      <td>1.000000</td>\n",
       "      <td>612.000000</td>\n",
       "      <td>1.000000</td>\n",
       "      <td>732.000000</td>\n",
       "      <td>231.000000</td>\n",
       "      <td>1.141606e+05</td>\n",
       "      <td>2018.000000</td>\n",
       "      <td>16.000000</td>\n",
       "    </tr>\n",
       "    <tr>\n",
       "      <th>max</th>\n",
       "      <td>50.000000</td>\n",
       "      <td>3.300000e+08</td>\n",
       "      <td>398.000000</td>\n",
       "      <td>9.000000</td>\n",
       "      <td>4.900000</td>\n",
       "      <td>35.000000</td>\n",
       "      <td>260.000000</td>\n",
       "      <td>33.000000</td>\n",
       "      <td>107.000000</td>\n",
       "      <td>5.000000</td>\n",
       "      <td>84869.000000</td>\n",
       "      <td>65968.000000</td>\n",
       "      <td>3.000000</td>\n",
       "      <td>3190.000000</td>\n",
       "      <td>3.000000</td>\n",
       "      <td>1344.000000</td>\n",
       "      <td>1580.000000</td>\n",
       "      <td>1.736842e+06</td>\n",
       "      <td>2019.000000</td>\n",
       "      <td>66.000000</td>\n",
       "    </tr>\n",
       "  </tbody>\n",
       "</table>\n",
       "</div>"
      ],
      "text/plain": [
       "       total_images    last_price    total_area         rooms  ceiling_height  \\\n",
       "count  23475.000000  2.347500e+04  23475.000000  23475.000000    23475.000000   \n",
       "mean       9.877103  6.363798e+06     59.737531      2.061853        2.695667   \n",
       "std        5.676717  8.115812e+06     31.990496      1.043205        0.213384   \n",
       "min        0.000000  1.219000e+04     12.000000      0.000000        2.200000   \n",
       "25%        6.000000  3.400000e+06     40.000000      1.000000        2.600000   \n",
       "50%        9.000000  4.630000e+06     52.000000      2.000000        2.650000   \n",
       "75%       14.000000  6.750000e+06     69.500000      3.000000        2.700000   \n",
       "max       50.000000  3.300000e+08    398.000000      9.000000        4.900000   \n",
       "\n",
       "       floors_total   living_area         floor  kitchen_area       balcony  \\\n",
       "count  23475.000000  23349.000000  23475.000000  23293.000000  23475.000000   \n",
       "mean      10.677444     34.194499      5.876038     10.410689      0.592929   \n",
       "std        6.575667     20.349552      4.867335      5.614583      0.959298   \n",
       "min        1.000000      2.000000      1.000000      1.300000      0.000000   \n",
       "25%        5.000000     18.600000      2.000000      7.000000      0.000000   \n",
       "50%        9.000000     30.000000      4.000000      9.000000      0.000000   \n",
       "75%       16.000000     42.200000      8.000000     11.800000      1.000000   \n",
       "max       35.000000    260.000000     33.000000    107.000000      5.000000   \n",
       "\n",
       "       airports_nearest  city_centers_nearest  parks_around3000  \\\n",
       "count      17974.000000          17995.000000      23475.000000   \n",
       "mean       28802.515689          14208.997166          0.467732   \n",
       "std        12639.052537           8607.166049          0.747217   \n",
       "min            0.000000            181.000000          0.000000   \n",
       "25%        18551.000000           9269.000000          0.000000   \n",
       "50%        26765.000000          13109.000000          0.000000   \n",
       "75%        37288.000000          16293.000000          1.000000   \n",
       "max        84869.000000          65968.000000          3.000000   \n",
       "\n",
       "       parks_nearest  ponds_around3000  ponds_nearest  days_exposition  \\\n",
       "count    7988.000000      23475.000000    8993.000000     20325.000000   \n",
       "mean      490.780170          0.588498     519.133771       180.693333   \n",
       "std       342.096665          0.882529     277.962227       219.607280   \n",
       "min         1.000000          0.000000      13.000000         1.000000   \n",
       "25%       288.000000          0.000000     294.000000        45.000000   \n",
       "50%       455.000000          0.000000     503.000000        95.000000   \n",
       "75%       612.000000          1.000000     732.000000       231.000000   \n",
       "max      3190.000000          3.000000    1344.000000      1580.000000   \n",
       "\n",
       "       price_per_area  year_exposition  city_center_distace_km  \n",
       "count    2.347500e+04     23475.000000            17995.000000  \n",
       "mean     9.913782e+04      2017.370564               14.202834  \n",
       "std      4.801244e+04         1.037252                8.615126  \n",
       "min      1.118349e+02      2014.000000                0.000000  \n",
       "25%      7.659967e+04      2017.000000                9.000000  \n",
       "50%      9.500000e+04      2017.000000               13.000000  \n",
       "75%      1.141606e+05      2018.000000               16.000000  \n",
       "max      1.736842e+06      2019.000000               66.000000  "
      ]
     },
     "execution_count": 18,
     "metadata": {},
     "output_type": "execute_result"
    }
   ],
   "source": [
    "#Добавляем новый столбец с росстояние до центра и окргуляем это значение до целых чисел\n",
    "df['city_center_distace_km'] = df['city_centers_nearest']/1000\n",
    "df['city_center_distace_km'] = df['city_center_distace_km'].round()\n",
    "df.describe()"
   ]
  },
  {
   "cell_type": "markdown",
   "metadata": {},
   "source": [
    "### Проведите исследовательский анализ данных"
   ]
  },
  {
   "cell_type": "markdown",
   "metadata": {},
   "source": [
    "Изучим параметры объектов отдельно"
   ]
  },
  {
   "cell_type": "code",
   "execution_count": 19,
   "metadata": {},
   "outputs": [
    {
     "data": {
      "text/plain": [
       "<AxesSubplot:>"
      ]
     },
     "execution_count": 19,
     "metadata": {},
     "output_type": "execute_result"
    },
    {
     "data": {
      "image/png": "[encoded data removed]",
      "text/plain": [
       "<Figure size 432x288 with 1 Axes>"
      ]
     },
     "metadata": {
      "needs_background": "light"
     },
     "output_type": "display_data"
    }
   ],
   "source": [
    "# Построим гистограмму по столбцу \"общая площадь\"\n",
    "\n",
    "df['total_area'].hist(bins=50,range=(0,600))"
   ]
  },
  {
   "cell_type": "markdown",
   "metadata": {},
   "source": [
    "Основные значения распределились в области между 30-70 метров кв. На графике нет каких-либо аномальных значений, все в пределах нормальных значений: Много объектов стандартных размеров большенства жилых квартир, так же на рынке присутсвуют объекты большой площади более 100 метров, но в гораздо меньших количествах"
   ]
  },
  {
   "cell_type": "code",
   "execution_count": 20,
   "metadata": {},
   "outputs": [
    {
     "data": {
      "text/plain": [
       "<AxesSubplot:>"
      ]
     },
     "execution_count": 20,
     "metadata": {},
     "output_type": "execute_result"
    },
    {
     "data": {
      "image/png": "[encoded data removed]",
      "text/plain": [
       "<Figure size 432x288 with 1 Axes>"
      ]
     },
     "metadata": {
      "needs_background": "light"
     },
     "output_type": "display_data"
    }
   ],
   "source": [
    "# Построим гистограмму по столбцу \"жилая площадь\"\n",
    "df['living_area'].hist(bins=50,range=(0,150))"
   ]
  },
  {
   "cell_type": "markdown",
   "metadata": {},
   "source": [
    "График показывает 2 значительных пика для значений менее 20 метров и 30 метров. Аномальных значений нет. Объекты с жилой площадью более 40 метров присутствуют, но в меньших количествах "
   ]
  },
  {
   "cell_type": "code",
   "execution_count": 21,
   "metadata": {},
   "outputs": [
    {
     "data": {
      "text/plain": [
       "<AxesSubplot:>"
      ]
     },
     "execution_count": 21,
     "metadata": {},
     "output_type": "execute_result"
    },
    {
     "data": {
      "image/png": "[encoded data removed]",
      "text/plain": [
       "<Figure size 432x288 with 1 Axes>"
      ]
     },
     "metadata": {
      "needs_background": "light"
     },
     "output_type": "display_data"
    }
   ],
   "source": [
    "# Построим гистограмму по столбцу \"площадь кухни\"\n",
    "df['kitchen_area'].hist(bins=50,range=(0,100))"
   ]
  },
  {
   "cell_type": "markdown",
   "metadata": {},
   "source": [
    "Никаких аномальных значений на графике не обноружено. Асолютно ожидаемые значения для большенства квартир: от 5м до 15м для большенства объектов"
   ]
  },
  {
   "cell_type": "code",
   "execution_count": 22,
   "metadata": {},
   "outputs": [
    {
     "data": {
      "text/plain": [
       "<AxesSubplot:>"
      ]
     },
     "execution_count": 22,
     "metadata": {},
     "output_type": "execute_result"
    },
    {
     "data": {
      "image/png": "[encoded data removed]",
      "text/plain": [
       "<Figure size 432x288 with 1 Axes>"
      ]
     },
     "metadata": {
      "needs_background": "light"
     },
     "output_type": "display_data"
    }
   ],
   "source": [
    "# Построим гистограмму по столбцу \"цена объекта\"\n",
    "df['last_price'].hist(bins=30,range=(0,25000000))"
   ]
  },
  {
   "cell_type": "markdown",
   "metadata": {},
   "source": [
    "Нормальное распередление на графике. Большенство объектов распределены в значениях от 2.5 до 5 млн. Аномальных значений нет."
   ]
  },
  {
   "cell_type": "code",
   "execution_count": 23,
   "metadata": {},
   "outputs": [
    {
     "data": {
      "text/plain": [
       "<AxesSubplot:>"
      ]
     },
     "execution_count": 23,
     "metadata": {},
     "output_type": "execute_result"
    },
    {
     "data": {
      "image/png": "[encoded data removed]",
      "text/plain": [
       "<Figure size 432x288 with 1 Axes>"
      ]
     },
     "metadata": {
      "needs_background": "light"
     },
     "output_type": "display_data"
    }
   ],
   "source": [
    "# Построим гистограмму по столбцу \"количество комнат\"\n",
    "df['rooms'].hist(bins=15,range =(0,15))"
   ]
  },
  {
   "cell_type": "markdown",
   "metadata": {},
   "source": [
    "На этом графике не заметно никаких аномальных значений. Все сосвершенно страндартно большенство кваритра 1-2 комнатные."
   ]
  },
  {
   "cell_type": "code",
   "execution_count": 24,
   "metadata": {},
   "outputs": [
    {
     "data": {
      "text/plain": [
       "<AxesSubplot:>"
      ]
     },
     "execution_count": 24,
     "metadata": {},
     "output_type": "execute_result"
    },
    {
     "data": {
      "image/png": "[encoded data removed]",
      "text/plain": [
       "<Figure size 432x288 with 1 Axes>"
      ]
     },
     "metadata": {
      "needs_background": "light"
     },
     "output_type": "display_data"
    }
   ],
   "source": [
    "# Построим гистограмму по столбцу \"высота потолков\"\n",
    "df['ceiling_height'].hist(bins=30,range =(0,10))"
   ]
  },
  {
   "cell_type": "markdown",
   "metadata": {},
   "source": [
    "Все как ожидалось, большенство квартир имеют стандартную высоту потолков. Т.к мы убрали ошибочные значения - аномальных значений на графике тоже нет."
   ]
  },
  {
   "cell_type": "code",
   "execution_count": 25,
   "metadata": {},
   "outputs": [
    {
     "data": {
      "text/plain": [
       "<AxesSubplot:>"
      ]
     },
     "execution_count": 25,
     "metadata": {},
     "output_type": "execute_result"
    },
    {
     "data": {
      "image/png": "[encoded data removed]",
      "text/plain": [
       "<Figure size 432x288 with 1 Axes>"
      ]
     },
     "metadata": {
      "needs_background": "light"
     },
     "output_type": "display_data"
    }
   ],
   "source": [
    "#Построим гистограмму по столбцу \"этаж квартиры\"\n",
    "df['floor'].hist(bins=40,range =(0,40))"
   ]
  },
  {
   "cell_type": "markdown",
   "metadata": {},
   "source": [
    "Гистограмма отображает ожидаемое распределение. Средняя этажность в Санк-Петербурге на сегодня 15 этажей. Скорее всего объявления в данном датасете приимущественно старого фонда - эту теорию мы сможем подтвердить при анализе столбца - 'floors_total'"
   ]
  },
  {
   "cell_type": "code",
   "execution_count": 26,
   "metadata": {},
   "outputs": [
    {
     "data": {
      "text/plain": [
       "<AxesSubplot:>"
      ]
     },
     "execution_count": 26,
     "metadata": {},
     "output_type": "execute_result"
    },
    {
     "data": {
      "image/png": "[encoded data removed]",
      "text/plain": [
       "<Figure size 432x288 with 1 Axes>"
      ]
     },
     "metadata": {
      "needs_background": "light"
     },
     "output_type": "display_data"
    }
   ],
   "source": [
    "#Построим гистограмму по столбцу \"общее количество этажей в доме\"\n",
    "df['floor_type'].hist(bins=5,range =(0,5))"
   ]
  },
  {
   "cell_type": "markdown",
   "metadata": {},
   "source": [
    "Эта гистограмма очевидно дает нам понять что объявлений в которых указан первый и последний этаж в 7 раз меньше от основной массы. Тут сложно сделать какие либо выводы - все очевидно."
   ]
  },
  {
   "cell_type": "code",
   "execution_count": 27,
   "metadata": {},
   "outputs": [
    {
     "data": {
      "text/plain": [
       "<AxesSubplot:>"
      ]
     },
     "execution_count": 27,
     "metadata": {},
     "output_type": "execute_result"
    },
    {
     "data": {
      "image/png": "[encoded data removed]",
      "text/plain": [
       "<Figure size 432x288 with 1 Axes>"
      ]
     },
     "metadata": {
      "needs_background": "light"
     },
     "output_type": "display_data"
    }
   ],
   "source": [
    "#Построим гистограмму по столбцу \"тип этажа квартиры\"\n",
    "df['floors_total'].hist(bins=10,range =(0,35))"
   ]
  },
  {
   "cell_type": "markdown",
   "metadata": {},
   "source": [
    "Гипотеза вероятно подтвердилась: возможно в выгрузке большинство домов - \"хрущевки\". Но так же застройка спальных районов современными жк, в которых более 15 этажей, повлияла на распределения в гистограмме: таких домов тут почти 7 тысяч."
   ]
  },
  {
   "cell_type": "code",
   "execution_count": 28,
   "metadata": {},
   "outputs": [
    {
     "data": {
      "text/plain": [
       "<AxesSubplot:>"
      ]
     },
     "execution_count": 28,
     "metadata": {},
     "output_type": "execute_result"
    },
    {
     "data": {
      "image/png": "[encoded data removed]",
      "text/plain": [
       "<Figure size 432x288 with 1 Axes>"
      ]
     },
     "metadata": {
      "needs_background": "light"
     },
     "output_type": "display_data"
    }
   ],
   "source": [
    "#Построим гистограмму по столбцу \"расстояние до центра города в метрах\"\n",
    "df['city_centers_nearest'].hist(bins=30,range =(0,45000))"
   ]
  },
  {
   "cell_type": "markdown",
   "metadata": {},
   "source": [
    "Распределение значений на гистограмме говорит о том, что большая часть квартир находится на расстоянии более 13.000м от центра города (но это еще не область). Значения превышающие более 17.000м - вероятнее всего относятся в объектам в области и крупным отдаленным районам Санк-Петербурга (Мурино,Парнас) Так же нужно помнить что в данных по этому параметру у нас было более 5.000 пропусков. Объективность оценки может быть ошибочной."
   ]
  },
  {
   "cell_type": "code",
   "execution_count": 29,
   "metadata": {},
   "outputs": [
    {
     "data": {
      "text/plain": [
       "<AxesSubplot:>"
      ]
     },
     "execution_count": 29,
     "metadata": {},
     "output_type": "execute_result"
    },
    {
     "data": {
      "image/png": "[encoded data removed]",
      "text/plain": [
       "<Figure size 432x288 with 1 Axes>"
      ]
     },
     "metadata": {
      "needs_background": "light"
     },
     "output_type": "display_data"
    }
   ],
   "source": [
    "#Построим гистограмму по столбцу \"расстояние до ближайшего аэропорта\"\n",
    "df['airports_nearest'].hist(bins=30,range =(0,100000))"
   ]
  },
  {
   "cell_type": "markdown",
   "metadata": {},
   "source": [
    "Распределение значений на гистограмме относительно равномерное. Сделать каких-либо однозначных выводов нельзя. Так же нужно помнить что в данных по этому параметру у нас было более 5.000 пропусков"
   ]
  },
  {
   "cell_type": "code",
   "execution_count": 30,
   "metadata": {},
   "outputs": [
    {
     "data": {
      "text/plain": [
       "<AxesSubplot:>"
      ]
     },
     "execution_count": 30,
     "metadata": {},
     "output_type": "execute_result"
    },
    {
     "data": {
      "image/png": "[encoded data removed]",
      "text/plain": [
       "<Figure size 432x288 with 1 Axes>"
      ]
     },
     "metadata": {
      "needs_background": "light"
     },
     "output_type": "display_data"
    }
   ],
   "source": [
    "#Построим гистограмму по столбцу \"расстояние до ближайшего парка\"\n",
    "df['parks_nearest'].hist(bins=30,range =(0,4000))"
   ]
  },
  {
   "cell_type": "markdown",
   "metadata": {},
   "source": [
    "Большая часть домов по данным этой гистограммы находить на расстоянии от 300 до 600 метров. Но мы не можем доверять этому параметру, т.к в нашем датасете более 15.000 пропусков для этого параметра."
   ]
  },
  {
   "cell_type": "code",
   "execution_count": 31,
   "metadata": {},
   "outputs": [
    {
     "data": {
      "text/plain": [
       "<AxesSubplot:>"
      ]
     },
     "execution_count": 31,
     "metadata": {},
     "output_type": "execute_result"
    },
    {
     "data": {
      "image/png": "[encoded data removed]",
      "text/plain": [
       "<Figure size 936x432 with 1 Axes>"
      ]
     },
     "metadata": {
      "needs_background": "light"
     },
     "output_type": "display_data"
    }
   ],
   "source": [
    "#Построим гистограммы по столбцам \"день и месяц публикации объявления\"\n",
    "df['day_of_week_exposition'].hist(bins=9,range =(0,8),figsize=(13, 6))"
   ]
  },
  {
   "cell_type": "code",
   "execution_count": 32,
   "metadata": {},
   "outputs": [
    {
     "data": {
      "text/plain": [
       "<AxesSubplot:>"
      ]
     },
     "execution_count": 32,
     "metadata": {},
     "output_type": "execute_result"
    },
    {
     "data": {
      "image/png": "[encoded data removed]",
      "text/plain": [
       "<Figure size 936x432 with 1 Axes>"
      ]
     },
     "metadata": {
      "needs_background": "light"
     },
     "output_type": "display_data"
    }
   ],
   "source": [
    "df['month_exposition'].hist(bins=11,range =(0,12),figsize=(13, 6))"
   ]
  },
  {
   "cell_type": "markdown",
   "metadata": {},
   "source": [
    "Публикация объявлений распределена равномерно в течении всей рабочей недели. В выходные агенты недвижимости вероятно занимаются своими личными делами. Гистограмма с зависимостью от месяца публикации говорит о том что пик приходится на Март (Интересно с чем это связано? ) "
   ]
  },
  {
   "cell_type": "markdown",
   "metadata": {},
   "source": [
    "***Решаем следующие задачи:***\n",
    "1. Как быстро продавались квартиры?\n",
    "2. Какие факторы больше всего влияют на общую (полную) стоимость объекта?\n",
    "3. Посчитайте среднюю цену одного квадратного метра в 10 населённых пунктах с наибольшим числом объявлений. Выделите населённые пункты с самой высокой и низкой стоимостью квадратного метра.\n",
    "4. Выделите квартиры в Санкт-Петербурге с помощью столбца locality_name и вычислите среднюю цену каждого километра. Опишите, как стоимость объектов зависит от расстояния до центра города."
   ]
  },
  {
   "cell_type": "markdown",
   "metadata": {},
   "source": [
    "**1)Как быстро продавались квартиры?**"
   ]
  },
  {
   "cell_type": "code",
   "execution_count": 33,
   "metadata": {},
   "outputs": [
    {
     "name": "stdout",
     "output_type": "stream",
     "text": [
      "count    20325.000000\n",
      "mean       180.693333\n",
      "std        219.607280\n",
      "min          1.000000\n",
      "25%         45.000000\n",
      "50%         95.000000\n",
      "75%        231.000000\n",
      "max       1580.000000\n",
      "Name: days_exposition, dtype: float64\n",
      "        days_exposition\n",
      "mean         180.693333\n",
      "median        95.000000\n"
     ]
    },
    {
     "data": {
      "text/plain": [
       "<AxesSubplot:>"
      ]
     },
     "execution_count": 33,
     "metadata": {},
     "output_type": "execute_result"
    },
    {
     "data": {
      "image/png": "[encoded data removed]",
      "text/plain": [
       "<Figure size 936x432 with 1 Axes>"
      ]
     },
     "metadata": {
      "needs_background": "light"
     },
     "output_type": "display_data"
    }
   ],
   "source": [
    "#Построим гистограмму по столбцу \" сколько дней было размещено объявление\" и найдем среднее знаение и медиану по данному параметру\n",
    "print(df['days_exposition'].describe())\n",
    "print(df.agg({'days_exposition': ['mean', 'median']}))\n",
    "df['days_exposition'].hist(bins=50,range =(0,1500),figsize=(13, 6))"
   ]
  },
  {
   "cell_type": "code",
   "execution_count": 34,
   "metadata": {},
   "outputs": [
    {
     "data": {
      "image/png": "[encoded data removed]",
      "text/plain": [
       "<Figure size 720x720 with 1 Axes>"
      ]
     },
     "metadata": {
      "needs_background": "light"
     },
     "output_type": "display_data"
    }
   ],
   "source": [
    "plot_by_exposition = df.boxplot('days_exposition',figsize=(10,10)).set_ylim(0,1500)"
   ]
  },
  {
   "cell_type": "markdown",
   "metadata": {},
   "source": [
    "Среднее и медиана расходятся более чем в 2 раза. Графики показывают что данные равномерно распределены и мы имеем достаточно много быстрых продаж, так и продажи более 200 дней имеют большее количество\n",
    "\n",
    "Основываясь на имеющихся данных можно сказать что среднее время продажи состовляет 95 дней, быстрые продажи - продажи которые происходят в пириод до 50 дней. Необычно долгими продажами можно считать продажи, которые разделены границей четвертого квартиля - от 400 дней и более"
   ]
  },
  {
   "cell_type": "markdown",
   "metadata": {},
   "source": [
    "**2)Какие факторы больше всего влияют на общую (полную) стоимость объекта?**"
   ]
  },
  {
   "cell_type": "code",
   "execution_count": 35,
   "metadata": {},
   "outputs": [
    {
     "data": {
      "text/html": [
       "<div>\n",
       "<style scoped>\n",
       "    .dataframe tbody tr th:only-of-type {\n",
       "        vertical-align: middle;\n",
       "    }\n",
       "\n",
       "    .dataframe tbody tr th {\n",
       "        vertical-align: top;\n",
       "    }\n",
       "\n",
       "    .dataframe thead th {\n",
       "        text-align: right;\n",
       "    }\n",
       "</style>\n",
       "<table border=\"1\" class=\"dataframe\">\n",
       "  <thead>\n",
       "    <tr style=\"text-align: right;\">\n",
       "      <th></th>\n",
       "      <th>total_images</th>\n",
       "      <th>last_price</th>\n",
       "      <th>total_area</th>\n",
       "      <th>first_day_exposition</th>\n",
       "      <th>rooms</th>\n",
       "      <th>ceiling_height</th>\n",
       "      <th>floors_total</th>\n",
       "      <th>living_area</th>\n",
       "      <th>floor</th>\n",
       "      <th>is_apartment</th>\n",
       "      <th>...</th>\n",
       "      <th>parks_nearest</th>\n",
       "      <th>ponds_around3000</th>\n",
       "      <th>ponds_nearest</th>\n",
       "      <th>days_exposition</th>\n",
       "      <th>price_per_area</th>\n",
       "      <th>day_of_week_exposition</th>\n",
       "      <th>month_exposition</th>\n",
       "      <th>year_exposition</th>\n",
       "      <th>floor_type</th>\n",
       "      <th>city_center_distace_km</th>\n",
       "    </tr>\n",
       "  </thead>\n",
       "  <tbody>\n",
       "    <tr>\n",
       "      <th>0</th>\n",
       "      <td>20</td>\n",
       "      <td>13000000</td>\n",
       "      <td>108.0</td>\n",
       "      <td>2019-03-07</td>\n",
       "      <td>3</td>\n",
       "      <td>2.70</td>\n",
       "      <td>16</td>\n",
       "      <td>51.0</td>\n",
       "      <td>8</td>\n",
       "      <td>False</td>\n",
       "      <td>...</td>\n",
       "      <td>482.0</td>\n",
       "      <td>2</td>\n",
       "      <td>755.0</td>\n",
       "      <td>&lt;NA&gt;</td>\n",
       "      <td>120370.37037</td>\n",
       "      <td>Thursday</td>\n",
       "      <td>March</td>\n",
       "      <td>2019</td>\n",
       "      <td>другой</td>\n",
       "      <td>16.0</td>\n",
       "    </tr>\n",
       "    <tr>\n",
       "      <th>1</th>\n",
       "      <td>7</td>\n",
       "      <td>3350000</td>\n",
       "      <td>40.4</td>\n",
       "      <td>2018-12-04</td>\n",
       "      <td>1</td>\n",
       "      <td>2.65</td>\n",
       "      <td>11</td>\n",
       "      <td>18.6</td>\n",
       "      <td>1</td>\n",
       "      <td>False</td>\n",
       "      <td>...</td>\n",
       "      <td>NaN</td>\n",
       "      <td>0</td>\n",
       "      <td>NaN</td>\n",
       "      <td>81</td>\n",
       "      <td>82920.792079</td>\n",
       "      <td>Tuesday</td>\n",
       "      <td>December</td>\n",
       "      <td>2018</td>\n",
       "      <td>первый</td>\n",
       "      <td>19.0</td>\n",
       "    </tr>\n",
       "    <tr>\n",
       "      <th>2</th>\n",
       "      <td>10</td>\n",
       "      <td>5196000</td>\n",
       "      <td>56.0</td>\n",
       "      <td>2015-08-20</td>\n",
       "      <td>2</td>\n",
       "      <td>2.65</td>\n",
       "      <td>5</td>\n",
       "      <td>34.3</td>\n",
       "      <td>4</td>\n",
       "      <td>False</td>\n",
       "      <td>...</td>\n",
       "      <td>90.0</td>\n",
       "      <td>2</td>\n",
       "      <td>574.0</td>\n",
       "      <td>558</td>\n",
       "      <td>92785.714286</td>\n",
       "      <td>Thursday</td>\n",
       "      <td>August</td>\n",
       "      <td>2015</td>\n",
       "      <td>другой</td>\n",
       "      <td>14.0</td>\n",
       "    </tr>\n",
       "    <tr>\n",
       "      <th>3</th>\n",
       "      <td>0</td>\n",
       "      <td>64900000</td>\n",
       "      <td>159.0</td>\n",
       "      <td>2015-07-24</td>\n",
       "      <td>3</td>\n",
       "      <td>2.65</td>\n",
       "      <td>14</td>\n",
       "      <td>95.0</td>\n",
       "      <td>9</td>\n",
       "      <td>False</td>\n",
       "      <td>...</td>\n",
       "      <td>84.0</td>\n",
       "      <td>3</td>\n",
       "      <td>234.0</td>\n",
       "      <td>424</td>\n",
       "      <td>408176.100629</td>\n",
       "      <td>Friday</td>\n",
       "      <td>July</td>\n",
       "      <td>2015</td>\n",
       "      <td>другой</td>\n",
       "      <td>7.0</td>\n",
       "    </tr>\n",
       "    <tr>\n",
       "      <th>4</th>\n",
       "      <td>2</td>\n",
       "      <td>10000000</td>\n",
       "      <td>100.0</td>\n",
       "      <td>2018-06-19</td>\n",
       "      <td>2</td>\n",
       "      <td>3.03</td>\n",
       "      <td>14</td>\n",
       "      <td>32.0</td>\n",
       "      <td>13</td>\n",
       "      <td>False</td>\n",
       "      <td>...</td>\n",
       "      <td>112.0</td>\n",
       "      <td>1</td>\n",
       "      <td>48.0</td>\n",
       "      <td>121</td>\n",
       "      <td>100000.0</td>\n",
       "      <td>Tuesday</td>\n",
       "      <td>June</td>\n",
       "      <td>2018</td>\n",
       "      <td>другой</td>\n",
       "      <td>8.0</td>\n",
       "    </tr>\n",
       "  </tbody>\n",
       "</table>\n",
       "<p>5 rows × 28 columns</p>\n",
       "</div>"
      ],
      "text/plain": [
       "   total_images  last_price  total_area first_day_exposition  rooms  \\\n",
       "0            20    13000000       108.0           2019-03-07      3   \n",
       "1             7     3350000        40.4           2018-12-04      1   \n",
       "2            10     5196000        56.0           2015-08-20      2   \n",
       "3             0    64900000       159.0           2015-07-24      3   \n",
       "4             2    10000000       100.0           2018-06-19      2   \n",
       "\n",
       "   ceiling_height  floors_total  living_area  floor  is_apartment  ...  \\\n",
       "0            2.70            16         51.0      8         False  ...   \n",
       "1            2.65            11         18.6      1         False  ...   \n",
       "2            2.65             5         34.3      4         False  ...   \n",
       "3            2.65            14         95.0      9         False  ...   \n",
       "4            3.03            14         32.0     13         False  ...   \n",
       "\n",
       "   parks_nearest  ponds_around3000  ponds_nearest  days_exposition  \\\n",
       "0          482.0                 2          755.0             <NA>   \n",
       "1            NaN                 0            NaN               81   \n",
       "2           90.0                 2          574.0              558   \n",
       "3           84.0                 3          234.0              424   \n",
       "4          112.0                 1           48.0              121   \n",
       "\n",
       "  price_per_area  day_of_week_exposition  month_exposition  year_exposition  \\\n",
       "0   120370.37037                Thursday             March             2019   \n",
       "1   82920.792079                 Tuesday          December             2018   \n",
       "2   92785.714286                Thursday            August             2015   \n",
       "3  408176.100629                  Friday              July             2015   \n",
       "4       100000.0                 Tuesday              June             2018   \n",
       "\n",
       "   floor_type  city_center_distace_km  \n",
       "0      другой                    16.0  \n",
       "1      первый                    19.0  \n",
       "2      другой                    14.0  \n",
       "3      другой                     7.0  \n",
       "4      другой                     8.0  \n",
       "\n",
       "[5 rows x 28 columns]"
      ]
     },
     "execution_count": 35,
     "metadata": {},
     "output_type": "execute_result"
    }
   ],
   "source": [
    "#Выведем датасет для удобства\n",
    "df.head(5)"
   ]
  },
  {
   "cell_type": "code",
   "execution_count": 36,
   "metadata": {},
   "outputs": [
    {
     "data": {
      "text/html": [
       "<style  type=\"text/css\" >\n",
       "#T_07cf6_row0_col0,#T_07cf6_row1_col1,#T_07cf6_row2_col2,#T_07cf6_row3_col3,#T_07cf6_row4_col4{\n",
       "            background-color:  #023858;\n",
       "            color:  #f1f1f1;\n",
       "        }#T_07cf6_row0_col1{\n",
       "            background-color:  #7dacd1;\n",
       "            color:  #000000;\n",
       "        }#T_07cf6_row0_col2{\n",
       "            background-color:  #045585;\n",
       "            color:  #f1f1f1;\n",
       "        }#T_07cf6_row0_col3{\n",
       "            background-color:  #83afd3;\n",
       "            color:  #000000;\n",
       "        }#T_07cf6_row0_col4{\n",
       "            background-color:  #197db7;\n",
       "            color:  #000000;\n",
       "        }#T_07cf6_row1_col0,#T_07cf6_row2_col3{\n",
       "            background-color:  #dbdaeb;\n",
       "            color:  #000000;\n",
       "        }#T_07cf6_row1_col2{\n",
       "            background-color:  #b5c4df;\n",
       "            color:  #000000;\n",
       "        }#T_07cf6_row1_col3{\n",
       "            background-color:  #acc0dd;\n",
       "            color:  #000000;\n",
       "        }#T_07cf6_row1_col4{\n",
       "            background-color:  #e0deed;\n",
       "            color:  #000000;\n",
       "        }#T_07cf6_row2_col0{\n",
       "            background-color:  #046096;\n",
       "            color:  #f1f1f1;\n",
       "        }#T_07cf6_row2_col1{\n",
       "            background-color:  #b0c2de;\n",
       "            color:  #000000;\n",
       "        }#T_07cf6_row2_col4{\n",
       "            background-color:  #0568a3;\n",
       "            color:  #f1f1f1;\n",
       "        }#T_07cf6_row3_col0,#T_07cf6_row3_col2,#T_07cf6_row3_col4,#T_07cf6_row4_col1,#T_07cf6_row4_col3{\n",
       "            background-color:  #fff7fb;\n",
       "            color:  #000000;\n",
       "        }#T_07cf6_row3_col1{\n",
       "            background-color:  #d7d6e9;\n",
       "            color:  #000000;\n",
       "        }#T_07cf6_row4_col0{\n",
       "            background-color:  #8eb3d5;\n",
       "            color:  #000000;\n",
       "        }#T_07cf6_row4_col2{\n",
       "            background-color:  #0771b1;\n",
       "            color:  #f1f1f1;\n",
       "        }</style><table id=\"T_07cf6_\" ><thead>    <tr>        <th class=\"blank level0\" ></th>        <th class=\"col_heading level0 col0\" >total_area</th>        <th class=\"col_heading level0 col1\" >last_price</th>        <th class=\"col_heading level0 col2\" >living_area</th>        <th class=\"col_heading level0 col3\" >kitchen_area</th>        <th class=\"col_heading level0 col4\" >rooms</th>    </tr></thead><tbody>\n",
       "                <tr>\n",
       "                        <th id=\"T_07cf6_level0_row0\" class=\"row_heading level0 row0\" >total_area</th>\n",
       "                        <td id=\"T_07cf6_row0_col0\" class=\"data row0 col0\" >1.000000</td>\n",
       "                        <td id=\"T_07cf6_row0_col1\" class=\"data row0 col1\" >0.687010</td>\n",
       "                        <td id=\"T_07cf6_row0_col2\" class=\"data row0 col2\" >0.937266</td>\n",
       "                        <td id=\"T_07cf6_row0_col3\" class=\"data row0 col3\" >0.607299</td>\n",
       "                        <td id=\"T_07cf6_row0_col4\" class=\"data row0 col4\" >0.778287</td>\n",
       "            </tr>\n",
       "            <tr>\n",
       "                        <th id=\"T_07cf6_level0_row1\" class=\"row_heading level0 row1\" >last_price</th>\n",
       "                        <td id=\"T_07cf6_row1_col0\" class=\"data row1 col0\" >0.687010</td>\n",
       "                        <td id=\"T_07cf6_row1_col1\" class=\"data row1 col1\" >1.000000</td>\n",
       "                        <td id=\"T_07cf6_row1_col2\" class=\"data row1 col2\" >0.608260</td>\n",
       "                        <td id=\"T_07cf6_row1_col3\" class=\"data row1 col3\" >0.531718</td>\n",
       "                        <td id=\"T_07cf6_row1_col4\" class=\"data row1 col4\" >0.400033</td>\n",
       "            </tr>\n",
       "            <tr>\n",
       "                        <th id=\"T_07cf6_level0_row2\" class=\"row_heading level0 row2\" >living_area</th>\n",
       "                        <td id=\"T_07cf6_row2_col0\" class=\"data row2 col0\" >0.937266</td>\n",
       "                        <td id=\"T_07cf6_row2_col1\" class=\"data row2 col1\" >0.608260</td>\n",
       "                        <td id=\"T_07cf6_row2_col2\" class=\"data row2 col2\" >1.000000</td>\n",
       "                        <td id=\"T_07cf6_row2_col3\" class=\"data row2 col3\" >0.415855</td>\n",
       "                        <td id=\"T_07cf6_row2_col4\" class=\"data row2 col4\" >0.849629</td>\n",
       "            </tr>\n",
       "            <tr>\n",
       "                        <th id=\"T_07cf6_level0_row3\" class=\"row_heading level0 row3\" >kitchen_area</th>\n",
       "                        <td id=\"T_07cf6_row3_col0\" class=\"data row3 col0\" >0.607299</td>\n",
       "                        <td id=\"T_07cf6_row3_col1\" class=\"data row3 col1\" >0.531718</td>\n",
       "                        <td id=\"T_07cf6_row3_col2\" class=\"data row3 col2\" >0.415855</td>\n",
       "                        <td id=\"T_07cf6_row3_col3\" class=\"data row3 col3\" >1.000000</td>\n",
       "                        <td id=\"T_07cf6_row3_col4\" class=\"data row3 col4\" >0.269166</td>\n",
       "            </tr>\n",
       "            <tr>\n",
       "                        <th id=\"T_07cf6_level0_row4\" class=\"row_heading level0 row4\" >rooms</th>\n",
       "                        <td id=\"T_07cf6_row4_col0\" class=\"data row4 col0\" >0.778287</td>\n",
       "                        <td id=\"T_07cf6_row4_col1\" class=\"data row4 col1\" >0.400033</td>\n",
       "                        <td id=\"T_07cf6_row4_col2\" class=\"data row4 col2\" >0.849629</td>\n",
       "                        <td id=\"T_07cf6_row4_col3\" class=\"data row4 col3\" >0.269166</td>\n",
       "                        <td id=\"T_07cf6_row4_col4\" class=\"data row4 col4\" >1.000000</td>\n",
       "            </tr>\n",
       "    </tbody></table>"
      ],
      "text/plain": [
       "<pandas.io.formats.style.Styler at 0x7f1c01a90610>"
      ]
     },
     "execution_count": 36,
     "metadata": {},
     "output_type": "execute_result"
    }
   ],
   "source": [
    "corr_by_price = df[['total_area',\\\n",
    "           'last_price',\\\n",
    "           'living_area',\\\n",
    "           'kitchen_area',\\\n",
    "           'rooms']].corr()\n",
    "corr_by_price.style.background_gradient()"
   ]
  },
  {
   "cell_type": "code",
   "execution_count": 37,
   "metadata": {},
   "outputs": [
    {
     "data": {
      "text/plain": [
       "<AxesSubplot:xlabel='floor_type'>"
      ]
     },
     "execution_count": 37,
     "metadata": {},
     "output_type": "execute_result"
    },
    {
     "data": {
      "image/png": "[encoded data removed]",
      "text/plain": [
       "<Figure size 432x288 with 1 Axes>"
      ]
     },
     "metadata": {
      "needs_background": "light"
     },
     "output_type": "display_data"
    }
   ],
   "source": [
    "mean_floor = df.groupby('floor_type').agg({'price_per_area':'mean'})\n",
    "mean_floor.plot.bar()"
   ]
  },
  {
   "cell_type": "code",
   "execution_count": 38,
   "metadata": {},
   "outputs": [
    {
     "data": {
      "text/plain": [
       "<AxesSubplot:xlabel='day_of_week_exposition'>"
      ]
     },
     "execution_count": 38,
     "metadata": {},
     "output_type": "execute_result"
    },
    {
     "data": {
      "image/png": "[encoded data removed]",
      "text/plain": [
       "<Figure size 432x288 with 1 Axes>"
      ]
     },
     "metadata": {
      "needs_background": "light"
     },
     "output_type": "display_data"
    }
   ],
   "source": [
    "mean_day = df.groupby('day_of_week_exposition').agg({'price_per_area':'mean'})\n",
    "mean_day.plot.bar()"
   ]
  },
  {
   "cell_type": "code",
   "execution_count": 39,
   "metadata": {},
   "outputs": [
    {
     "data": {
      "text/plain": [
       "<AxesSubplot:xlabel='month_exposition'>"
      ]
     },
     "execution_count": 39,
     "metadata": {},
     "output_type": "execute_result"
    },
    {
     "data": {
      "image/png": "[encoded data removed]",
      "text/plain": [
       "<Figure size 432x288 with 1 Axes>"
      ]
     },
     "metadata": {
      "needs_background": "light"
     },
     "output_type": "display_data"
    }
   ],
   "source": [
    "mean_month = df.groupby('month_exposition').agg({'price_per_area':'mean'})\n",
    "mean_month.plot.bar()"
   ]
  },
  {
   "cell_type": "code",
   "execution_count": 40,
   "metadata": {},
   "outputs": [
    {
     "data": {
      "text/plain": [
       "<AxesSubplot:xlabel='year_exposition'>"
      ]
     },
     "execution_count": 40,
     "metadata": {},
     "output_type": "execute_result"
    },
    {
     "data": {
      "image/png": "[encoded data removed]",
      "text/plain": [
       "<Figure size 432x288 with 1 Axes>"
      ]
     },
     "metadata": {
      "needs_background": "light"
     },
     "output_type": "display_data"
    }
   ],
   "source": [
    "mean_year = df.groupby('year_exposition').agg({'price_per_area':'mean'})\n",
    "mean_year.plot.bar()"
   ]
  },
  {
   "cell_type": "code",
   "execution_count": 41,
   "metadata": {},
   "outputs": [
    {
     "data": {
      "text/plain": [
       "<AxesSubplot:xlabel='kitchen_area', ylabel='last_price'>"
      ]
     },
     "execution_count": 41,
     "metadata": {},
     "output_type": "execute_result"
    },
    {
     "data": {
      "image/png": "[encoded data removed]",
      "text/plain": [
       "<Figure size 432x288 with 1 Axes>"
      ]
     },
     "metadata": {
      "needs_background": "light"
     },
     "output_type": "display_data"
    },
    {
     "data": {
      "image/png": "[encoded data removed]",
      "text/plain": [
       "<Figure size 432x288 with 1 Axes>"
      ]
     },
     "metadata": {
      "needs_background": "light"
     },
     "output_type": "display_data"
    },
    {
     "data": {
      "image/png": "[encoded data removed]",
      "text/plain": [
       "<Figure size 432x288 with 1 Axes>"
      ]
     },
     "metadata": {
      "needs_background": "light"
     },
     "output_type": "display_data"
    }
   ],
   "source": [
    "df.plot(x='total_area', y='last_price', kind='scatter')\n",
    "df.plot(x='living_area', y='last_price', kind='scatter') \n",
    "df.plot(x='kitchen_area', y='last_price', kind='scatter') "
   ]
  },
  {
   "cell_type": "markdown",
   "metadata": {},
   "source": [
    "**Вывод:** Цена не зависит от дня и месяца публикации, но сильно зависит от этажа квартиры и от года. Логично предположить что квартиры на первом этаже мене востребованы, квартиры на последнем этаже стоят так же дороже чем на первом.График зависимости средней цены от года показывает что цены в 2014 году были выше - вероятнее всего это последствия экономического кризиса в 2014 году.\n",
    "\n",
    "Зависимость цены от общей, жилой, кухонной площади так же прослеживаются: В большей степени от общей и жилой площади, чуть в меньшей от площади кухни."
   ]
  },
  {
   "cell_type": "markdown",
   "metadata": {},
   "source": [
    "**3)Посчитайте среднюю цену одного квадратного метра в 10 населённых пунктах с наибольшим числом объявлений. Выделите населённые пункты с самой высокой и низкой стоимостью квадратного метра.**"
   ]
  },
  {
   "cell_type": "code",
   "execution_count": 42,
   "metadata": {},
   "outputs": [
    {
     "data": {
      "text/html": [
       "<div>\n",
       "<style scoped>\n",
       "    .dataframe tbody tr th:only-of-type {\n",
       "        vertical-align: middle;\n",
       "    }\n",
       "\n",
       "    .dataframe tbody tr th {\n",
       "        vertical-align: top;\n",
       "    }\n",
       "\n",
       "    .dataframe thead th {\n",
       "        text-align: right;\n",
       "    }\n",
       "</style>\n",
       "<table border=\"1\" class=\"dataframe\">\n",
       "  <thead>\n",
       "    <tr style=\"text-align: right;\">\n",
       "      <th></th>\n",
       "      <th>price_per_area</th>\n",
       "    </tr>\n",
       "    <tr>\n",
       "      <th>locality_name</th>\n",
       "      <th></th>\n",
       "    </tr>\n",
       "  </thead>\n",
       "  <tbody>\n",
       "    <tr>\n",
       "      <th>зеленогорск</th>\n",
       "      <td>115122.799198</td>\n",
       "    </tr>\n",
       "    <tr>\n",
       "      <th>санкт-петербург</th>\n",
       "      <td>114467.514275</td>\n",
       "    </tr>\n",
       "    <tr>\n",
       "      <th>репино</th>\n",
       "      <td>104238.614786</td>\n",
       "    </tr>\n",
       "    <tr>\n",
       "      <th>пушкин</th>\n",
       "      <td>103125.819291</td>\n",
       "    </tr>\n",
       "    <tr>\n",
       "      <th>сестрорецк</th>\n",
       "      <td>101757.616875</td>\n",
       "    </tr>\n",
       "    <tr>\n",
       "      <th>лисий нос</th>\n",
       "      <td>100660.814239</td>\n",
       "    </tr>\n",
       "    <tr>\n",
       "      <th>мистолово</th>\n",
       "      <td>98549.976709</td>\n",
       "    </tr>\n",
       "    <tr>\n",
       "      <th>левашово</th>\n",
       "      <td>96997.690531</td>\n",
       "    </tr>\n",
       "    <tr>\n",
       "      <th>кудрово</th>\n",
       "      <td>95261.96345</td>\n",
       "    </tr>\n",
       "    <tr>\n",
       "      <th>парголово</th>\n",
       "      <td>90175.913458</td>\n",
       "    </tr>\n",
       "  </tbody>\n",
       "</table>\n",
       "</div>"
      ],
      "text/plain": [
       "                 price_per_area\n",
       "locality_name                  \n",
       "зеленогорск       115122.799198\n",
       "санкт-петербург   114467.514275\n",
       "репино            104238.614786\n",
       "пушкин            103125.819291\n",
       "сестрорецк        101757.616875\n",
       "лисий нос         100660.814239\n",
       "мистолово          98549.976709\n",
       "левашово           96997.690531\n",
       "кудрово             95261.96345\n",
       "парголово          90175.913458"
      ]
     },
     "execution_count": 42,
     "metadata": {},
     "output_type": "execute_result"
    }
   ],
   "source": [
    "#Найдем среднюю цену кв.метра для каждого города и отсортируем в порядке убывания\n",
    "df.groupby('locality_name').agg({'price_per_area':'mean'}).sort_values(by='price_per_area', ascending=False).head(10)"
   ]
  },
  {
   "cell_type": "code",
   "execution_count": 43,
   "metadata": {},
   "outputs": [],
   "source": [
    "#Добавим новый столбец в котором разделим объекты на город и область\n",
    "\n",
    "def locality_type(row):\n",
    "    if row['locality_name'] == 'санкт-петербург':\n",
    "        return 'Санкт-петербург'\n",
    "    else:\n",
    "        return 'Область'\n",
    "\n",
    "df['town_type'] = df.apply(locality_type, axis=1)\n"
   ]
  },
  {
   "cell_type": "code",
   "execution_count": 44,
   "metadata": {},
   "outputs": [
    {
     "data": {
      "text/html": [
       "<div>\n",
       "<style scoped>\n",
       "    .dataframe tbody tr th:only-of-type {\n",
       "        vertical-align: middle;\n",
       "    }\n",
       "\n",
       "    .dataframe tbody tr th {\n",
       "        vertical-align: top;\n",
       "    }\n",
       "\n",
       "    .dataframe thead th {\n",
       "        text-align: right;\n",
       "    }\n",
       "</style>\n",
       "<table border=\"1\" class=\"dataframe\">\n",
       "  <thead>\n",
       "    <tr style=\"text-align: right;\">\n",
       "      <th></th>\n",
       "      <th>town_type</th>\n",
       "      <th>price_per_area</th>\n",
       "    </tr>\n",
       "    <tr>\n",
       "      <th>locality_name</th>\n",
       "      <th></th>\n",
       "      <th></th>\n",
       "    </tr>\n",
       "  </thead>\n",
       "  <tbody>\n",
       "    <tr>\n",
       "      <th>санкт-петербург</th>\n",
       "      <td>15585</td>\n",
       "      <td>114467.514275</td>\n",
       "    </tr>\n",
       "    <tr>\n",
       "      <th>пушкин</th>\n",
       "      <td>369</td>\n",
       "      <td>103125.819291</td>\n",
       "    </tr>\n",
       "    <tr>\n",
       "      <th>кудрово</th>\n",
       "      <td>469</td>\n",
       "      <td>95261.96345</td>\n",
       "    </tr>\n",
       "    <tr>\n",
       "      <th>парголово</th>\n",
       "      <td>327</td>\n",
       "      <td>90175.913458</td>\n",
       "    </tr>\n",
       "    <tr>\n",
       "      <th>мурино</th>\n",
       "      <td>584</td>\n",
       "      <td>86018.110911</td>\n",
       "    </tr>\n",
       "    <tr>\n",
       "      <th>петергоф</th>\n",
       "      <td>201</td>\n",
       "      <td>84757.55969</td>\n",
       "    </tr>\n",
       "    <tr>\n",
       "      <th>шушары</th>\n",
       "      <td>439</td>\n",
       "      <td>78551.344545</td>\n",
       "    </tr>\n",
       "    <tr>\n",
       "      <th>колпино</th>\n",
       "      <td>338</td>\n",
       "      <td>75424.579098</td>\n",
       "    </tr>\n",
       "    <tr>\n",
       "      <th>гатчина</th>\n",
       "      <td>306</td>\n",
       "      <td>68757.678644</td>\n",
       "    </tr>\n",
       "    <tr>\n",
       "      <th>всеволожск</th>\n",
       "      <td>397</td>\n",
       "      <td>68719.3204</td>\n",
       "    </tr>\n",
       "    <tr>\n",
       "      <th>выборг</th>\n",
       "      <td>235</td>\n",
       "      <td>58238.143141</td>\n",
       "    </tr>\n",
       "  </tbody>\n",
       "</table>\n",
       "</div>"
      ],
      "text/plain": [
       "                 town_type  price_per_area\n",
       "locality_name                             \n",
       "санкт-петербург      15585   114467.514275\n",
       "пушкин                 369   103125.819291\n",
       "кудрово                469     95261.96345\n",
       "парголово              327    90175.913458\n",
       "мурино                 584    86018.110911\n",
       "петергоф               201     84757.55969\n",
       "шушары                 439    78551.344545\n",
       "колпино                338    75424.579098\n",
       "гатчина                306    68757.678644\n",
       "всеволожск             397      68719.3204\n",
       "выборг                 235    58238.143141"
      ]
     },
     "execution_count": 44,
     "metadata": {},
     "output_type": "execute_result"
    }
   ],
   "source": [
    "#Найдем для каждого города количество объявлений и отсортируем их в порядке убывания по средней цене\n",
    "top_expensive_by_sqrm = df.groupby('locality_name').agg({'town_type':'count','price_per_area':'mean'})\n",
    "top_expensive_by_sqrm = top_expensive_by_sqrm.sort_values('town_type', ascending=False).head(11)\n",
    "top_expensive_by_sqrm.sort_values('price_per_area', ascending=False)"
   ]
  },
  {
   "cell_type": "code",
   "execution_count": 45,
   "metadata": {},
   "outputs": [],
   "source": [
    "#Построим линейный и столбчатые графики зависимости цены от города"
   ]
  },
  {
   "cell_type": "code",
   "execution_count": 46,
   "metadata": {},
   "outputs": [
    {
     "data": {
      "text/plain": [
       "<AxesSubplot:xlabel='locality_name'>"
      ]
     },
     "execution_count": 46,
     "metadata": {},
     "output_type": "execute_result"
    },
    {
     "data": {
      "image/png": "[encoded data removed]",
      "text/plain": [
       "<Figure size 936x432 with 1 Axes>"
      ]
     },
     "metadata": {
      "needs_background": "light"
     },
     "output_type": "display_data"
    }
   ],
   "source": [
    "top_expensive_by_sqrm.sort_values('price_per_area', ascending=True)\\\n",
    "    .drop('town_type', axis=1).plot(figsize=(13, 6))"
   ]
  },
  {
   "cell_type": "code",
   "execution_count": 47,
   "metadata": {},
   "outputs": [
    {
     "data": {
      "text/plain": [
       "<AxesSubplot:xlabel='locality_name'>"
      ]
     },
     "execution_count": 47,
     "metadata": {},
     "output_type": "execute_result"
    },
    {
     "data": {
      "image/png": "[encoded data removed]",
      "text/plain": [
       "<Figure size 936x432 with 1 Axes>"
      ]
     },
     "metadata": {
      "needs_background": "light"
     },
     "output_type": "display_data"
    }
   ],
   "source": [
    "top_expensive_by_sqrm.sort_values('price_per_area', ascending=True)\\\n",
    "    .drop('town_type', axis=1).plot(kind='bar',figsize=(13, 6))"
   ]
  },
  {
   "cell_type": "markdown",
   "metadata": {},
   "source": [
    "**Вывод:**Самая высокая цена одного квадратного метра в 10 населённых пунктах с наибольшим числом объявлений - в Санк-Петербурге(114.467р). Самая низкая - в Выборге(58.238р). "
   ]
  },
  {
   "cell_type": "markdown",
   "metadata": {},
   "source": [
    "**4)Выделите квартиры в Санкт-Петербурге с помощью столбца locality_name и вычислите среднюю цену каждого километра. Опишите, как стоимость объектов зависит от расстояния до центра города.**"
   ]
  },
  {
   "cell_type": "code",
   "execution_count": 48,
   "metadata": {},
   "outputs": [
    {
     "data": {
      "text/html": [
       "<div>\n",
       "<style scoped>\n",
       "    .dataframe tbody tr th:only-of-type {\n",
       "        vertical-align: middle;\n",
       "    }\n",
       "\n",
       "    .dataframe tbody tr th {\n",
       "        vertical-align: top;\n",
       "    }\n",
       "\n",
       "    .dataframe thead th {\n",
       "        text-align: right;\n",
       "    }\n",
       "</style>\n",
       "<table border=\"1\" class=\"dataframe\">\n",
       "  <thead>\n",
       "    <tr style=\"text-align: right;\">\n",
       "      <th></th>\n",
       "      <th>total_images</th>\n",
       "      <th>last_price</th>\n",
       "      <th>total_area</th>\n",
       "      <th>first_day_exposition</th>\n",
       "      <th>rooms</th>\n",
       "      <th>ceiling_height</th>\n",
       "      <th>floors_total</th>\n",
       "      <th>living_area</th>\n",
       "      <th>floor</th>\n",
       "      <th>is_apartment</th>\n",
       "      <th>...</th>\n",
       "      <th>ponds_nearest</th>\n",
       "      <th>days_exposition</th>\n",
       "      <th>price_per_area</th>\n",
       "      <th>day_of_week_exposition</th>\n",
       "      <th>month_exposition</th>\n",
       "      <th>year_exposition</th>\n",
       "      <th>floor_type</th>\n",
       "      <th>city_center_distace_km</th>\n",
       "      <th>town_type</th>\n",
       "      <th>center_distance_type</th>\n",
       "    </tr>\n",
       "  </thead>\n",
       "  <tbody>\n",
       "    <tr>\n",
       "      <th>0</th>\n",
       "      <td>20</td>\n",
       "      <td>13000000</td>\n",
       "      <td>108.00</td>\n",
       "      <td>2019-03-07</td>\n",
       "      <td>3</td>\n",
       "      <td>2.70</td>\n",
       "      <td>16</td>\n",
       "      <td>51.00</td>\n",
       "      <td>8</td>\n",
       "      <td>False</td>\n",
       "      <td>...</td>\n",
       "      <td>755.0</td>\n",
       "      <td>&lt;NA&gt;</td>\n",
       "      <td>120370.37037</td>\n",
       "      <td>Thursday</td>\n",
       "      <td>March</td>\n",
       "      <td>2019</td>\n",
       "      <td>другой</td>\n",
       "      <td>16.0</td>\n",
       "      <td>Санкт-петербург</td>\n",
       "      <td>Более 15 км от центра</td>\n",
       "    </tr>\n",
       "    <tr>\n",
       "      <th>1</th>\n",
       "      <td>7</td>\n",
       "      <td>3350000</td>\n",
       "      <td>40.40</td>\n",
       "      <td>2018-12-04</td>\n",
       "      <td>1</td>\n",
       "      <td>2.65</td>\n",
       "      <td>11</td>\n",
       "      <td>18.60</td>\n",
       "      <td>1</td>\n",
       "      <td>False</td>\n",
       "      <td>...</td>\n",
       "      <td>NaN</td>\n",
       "      <td>81</td>\n",
       "      <td>82920.792079</td>\n",
       "      <td>Tuesday</td>\n",
       "      <td>December</td>\n",
       "      <td>2018</td>\n",
       "      <td>первый</td>\n",
       "      <td>19.0</td>\n",
       "      <td>Область</td>\n",
       "      <td>Более 15 км от центра</td>\n",
       "    </tr>\n",
       "    <tr>\n",
       "      <th>2</th>\n",
       "      <td>10</td>\n",
       "      <td>5196000</td>\n",
       "      <td>56.00</td>\n",
       "      <td>2015-08-20</td>\n",
       "      <td>2</td>\n",
       "      <td>2.65</td>\n",
       "      <td>5</td>\n",
       "      <td>34.30</td>\n",
       "      <td>4</td>\n",
       "      <td>False</td>\n",
       "      <td>...</td>\n",
       "      <td>574.0</td>\n",
       "      <td>558</td>\n",
       "      <td>92785.714286</td>\n",
       "      <td>Thursday</td>\n",
       "      <td>August</td>\n",
       "      <td>2015</td>\n",
       "      <td>другой</td>\n",
       "      <td>14.0</td>\n",
       "      <td>Санкт-петербург</td>\n",
       "      <td>14 км до центра</td>\n",
       "    </tr>\n",
       "    <tr>\n",
       "      <th>3</th>\n",
       "      <td>0</td>\n",
       "      <td>64900000</td>\n",
       "      <td>159.00</td>\n",
       "      <td>2015-07-24</td>\n",
       "      <td>3</td>\n",
       "      <td>2.65</td>\n",
       "      <td>14</td>\n",
       "      <td>95.00</td>\n",
       "      <td>9</td>\n",
       "      <td>False</td>\n",
       "      <td>...</td>\n",
       "      <td>234.0</td>\n",
       "      <td>424</td>\n",
       "      <td>408176.100629</td>\n",
       "      <td>Friday</td>\n",
       "      <td>July</td>\n",
       "      <td>2015</td>\n",
       "      <td>другой</td>\n",
       "      <td>7.0</td>\n",
       "      <td>Санкт-петербург</td>\n",
       "      <td>7 км до центра</td>\n",
       "    </tr>\n",
       "    <tr>\n",
       "      <th>4</th>\n",
       "      <td>2</td>\n",
       "      <td>10000000</td>\n",
       "      <td>100.00</td>\n",
       "      <td>2018-06-19</td>\n",
       "      <td>2</td>\n",
       "      <td>3.03</td>\n",
       "      <td>14</td>\n",
       "      <td>32.00</td>\n",
       "      <td>13</td>\n",
       "      <td>False</td>\n",
       "      <td>...</td>\n",
       "      <td>48.0</td>\n",
       "      <td>121</td>\n",
       "      <td>100000.0</td>\n",
       "      <td>Tuesday</td>\n",
       "      <td>June</td>\n",
       "      <td>2018</td>\n",
       "      <td>другой</td>\n",
       "      <td>8.0</td>\n",
       "      <td>Санкт-петербург</td>\n",
       "      <td>8 км до центра</td>\n",
       "    </tr>\n",
       "    <tr>\n",
       "      <th>5</th>\n",
       "      <td>10</td>\n",
       "      <td>2890000</td>\n",
       "      <td>30.40</td>\n",
       "      <td>2018-09-10</td>\n",
       "      <td>1</td>\n",
       "      <td>2.65</td>\n",
       "      <td>12</td>\n",
       "      <td>14.40</td>\n",
       "      <td>5</td>\n",
       "      <td>False</td>\n",
       "      <td>...</td>\n",
       "      <td>NaN</td>\n",
       "      <td>55</td>\n",
       "      <td>95065.789474</td>\n",
       "      <td>Monday</td>\n",
       "      <td>September</td>\n",
       "      <td>2018</td>\n",
       "      <td>другой</td>\n",
       "      <td>NaN</td>\n",
       "      <td>Область</td>\n",
       "      <td>Более 15 км от центра</td>\n",
       "    </tr>\n",
       "    <tr>\n",
       "      <th>6</th>\n",
       "      <td>6</td>\n",
       "      <td>3700000</td>\n",
       "      <td>37.30</td>\n",
       "      <td>2017-11-02</td>\n",
       "      <td>1</td>\n",
       "      <td>2.65</td>\n",
       "      <td>26</td>\n",
       "      <td>10.60</td>\n",
       "      <td>6</td>\n",
       "      <td>False</td>\n",
       "      <td>...</td>\n",
       "      <td>NaN</td>\n",
       "      <td>155</td>\n",
       "      <td>99195.710456</td>\n",
       "      <td>Thursday</td>\n",
       "      <td>November</td>\n",
       "      <td>2017</td>\n",
       "      <td>другой</td>\n",
       "      <td>19.0</td>\n",
       "      <td>Область</td>\n",
       "      <td>Более 15 км от центра</td>\n",
       "    </tr>\n",
       "    <tr>\n",
       "      <th>7</th>\n",
       "      <td>5</td>\n",
       "      <td>7915000</td>\n",
       "      <td>71.60</td>\n",
       "      <td>2019-04-18</td>\n",
       "      <td>2</td>\n",
       "      <td>2.65</td>\n",
       "      <td>24</td>\n",
       "      <td>44.30</td>\n",
       "      <td>22</td>\n",
       "      <td>False</td>\n",
       "      <td>...</td>\n",
       "      <td>NaN</td>\n",
       "      <td>&lt;NA&gt;</td>\n",
       "      <td>110544.692737</td>\n",
       "      <td>Thursday</td>\n",
       "      <td>April</td>\n",
       "      <td>2019</td>\n",
       "      <td>другой</td>\n",
       "      <td>12.0</td>\n",
       "      <td>Санкт-петербург</td>\n",
       "      <td>12 км до центра</td>\n",
       "    </tr>\n",
       "    <tr>\n",
       "      <th>8</th>\n",
       "      <td>20</td>\n",
       "      <td>2900000</td>\n",
       "      <td>33.16</td>\n",
       "      <td>2018-05-23</td>\n",
       "      <td>1</td>\n",
       "      <td>2.65</td>\n",
       "      <td>27</td>\n",
       "      <td>15.43</td>\n",
       "      <td>26</td>\n",
       "      <td>False</td>\n",
       "      <td>...</td>\n",
       "      <td>NaN</td>\n",
       "      <td>189</td>\n",
       "      <td>87454.764777</td>\n",
       "      <td>Wednesday</td>\n",
       "      <td>May</td>\n",
       "      <td>2018</td>\n",
       "      <td>другой</td>\n",
       "      <td>NaN</td>\n",
       "      <td>Область</td>\n",
       "      <td>Более 15 км от центра</td>\n",
       "    </tr>\n",
       "    <tr>\n",
       "      <th>9</th>\n",
       "      <td>18</td>\n",
       "      <td>5400000</td>\n",
       "      <td>61.00</td>\n",
       "      <td>2017-02-26</td>\n",
       "      <td>3</td>\n",
       "      <td>2.50</td>\n",
       "      <td>9</td>\n",
       "      <td>43.60</td>\n",
       "      <td>7</td>\n",
       "      <td>False</td>\n",
       "      <td>...</td>\n",
       "      <td>NaN</td>\n",
       "      <td>289</td>\n",
       "      <td>88524.590164</td>\n",
       "      <td>Sunday</td>\n",
       "      <td>February</td>\n",
       "      <td>2017</td>\n",
       "      <td>другой</td>\n",
       "      <td>15.0</td>\n",
       "      <td>Санкт-петербург</td>\n",
       "      <td>15 км до центра</td>\n",
       "    </tr>\n",
       "  </tbody>\n",
       "</table>\n",
       "<p>10 rows × 30 columns</p>\n",
       "</div>"
      ],
      "text/plain": [
       "   total_images  last_price  total_area first_day_exposition  rooms  \\\n",
       "0            20    13000000      108.00           2019-03-07      3   \n",
       "1             7     3350000       40.40           2018-12-04      1   \n",
       "2            10     5196000       56.00           2015-08-20      2   \n",
       "3             0    64900000      159.00           2015-07-24      3   \n",
       "4             2    10000000      100.00           2018-06-19      2   \n",
       "5            10     2890000       30.40           2018-09-10      1   \n",
       "6             6     3700000       37.30           2017-11-02      1   \n",
       "7             5     7915000       71.60           2019-04-18      2   \n",
       "8            20     2900000       33.16           2018-05-23      1   \n",
       "9            18     5400000       61.00           2017-02-26      3   \n",
       "\n",
       "   ceiling_height  floors_total  living_area  floor  is_apartment  ...  \\\n",
       "0            2.70            16        51.00      8         False  ...   \n",
       "1            2.65            11        18.60      1         False  ...   \n",
       "2            2.65             5        34.30      4         False  ...   \n",
       "3            2.65            14        95.00      9         False  ...   \n",
       "4            3.03            14        32.00     13         False  ...   \n",
       "5            2.65            12        14.40      5         False  ...   \n",
       "6            2.65            26        10.60      6         False  ...   \n",
       "7            2.65            24        44.30     22         False  ...   \n",
       "8            2.65            27        15.43     26         False  ...   \n",
       "9            2.50             9        43.60      7         False  ...   \n",
       "\n",
       "   ponds_nearest  days_exposition  price_per_area  day_of_week_exposition  \\\n",
       "0          755.0             <NA>    120370.37037                Thursday   \n",
       "1            NaN               81    82920.792079                 Tuesday   \n",
       "2          574.0              558    92785.714286                Thursday   \n",
       "3          234.0              424   408176.100629                  Friday   \n",
       "4           48.0              121        100000.0                 Tuesday   \n",
       "5            NaN               55    95065.789474                  Monday   \n",
       "6            NaN              155    99195.710456                Thursday   \n",
       "7            NaN             <NA>   110544.692737                Thursday   \n",
       "8            NaN              189    87454.764777               Wednesday   \n",
       "9            NaN              289    88524.590164                  Sunday   \n",
       "\n",
       "  month_exposition  year_exposition  floor_type  city_center_distace_km  \\\n",
       "0            March             2019      другой                    16.0   \n",
       "1         December             2018      первый                    19.0   \n",
       "2           August             2015      другой                    14.0   \n",
       "3             July             2015      другой                     7.0   \n",
       "4             June             2018      другой                     8.0   \n",
       "5        September             2018      другой                     NaN   \n",
       "6         November             2017      другой                    19.0   \n",
       "7            April             2019      другой                    12.0   \n",
       "8              May             2018      другой                     NaN   \n",
       "9         February             2017      другой                    15.0   \n",
       "\n",
       "         town_type   center_distance_type  \n",
       "0  Санкт-петербург  Более 15 км от центра  \n",
       "1          Область  Более 15 км от центра  \n",
       "2  Санкт-петербург        14 км до центра  \n",
       "3  Санкт-петербург         7 км до центра  \n",
       "4  Санкт-петербург         8 км до центра  \n",
       "5          Область  Более 15 км от центра  \n",
       "6          Область  Более 15 км от центра  \n",
       "7  Санкт-петербург        12 км до центра  \n",
       "8          Область  Более 15 км от центра  \n",
       "9  Санкт-петербург        15 км до центра  \n",
       "\n",
       "[10 rows x 30 columns]"
      ]
     },
     "execution_count": 48,
     "metadata": {},
     "output_type": "execute_result"
    }
   ],
   "source": [
    "#Назначим для каждого киллометра удаленности от центра свою категорию\n",
    "\n",
    "def center_distance_rangetype(row):\n",
    "    if row['city_center_distace_km'] <1:\n",
    "        return 'менее 1 км до центра'\n",
    "    elif 1 <=row['city_center_distace_km'] < 2:\n",
    "        return '1 км до центра'\n",
    "    elif 2 <=row['city_center_distace_km'] < 3:\n",
    "        return '2 км до центра'\n",
    "    elif 3 <=row['city_center_distace_km'] < 4:\n",
    "        return '3 км до центра'\n",
    "    elif 4 <=row['city_center_distace_km'] < 5:\n",
    "        return '4 км до центра'\n",
    "    elif 5 <=row['city_center_distace_km'] < 6:\n",
    "        return '5 км до центра'\n",
    "    elif 6 <=row['city_center_distace_km'] < 7:\n",
    "        return '6 км до центра'\n",
    "    elif 7 <=row['city_center_distace_km'] < 8:\n",
    "        return '7 км до центра'\n",
    "    elif 8 <=row['city_center_distace_km'] < 9:\n",
    "        return '8 км до центра'\n",
    "    elif 9 <=row['city_center_distace_km'] < 10:\n",
    "        return '9 км до центра'\n",
    "    elif 10 <=row['city_center_distace_km'] < 11:\n",
    "        return '10 км до центра'\n",
    "    elif 11 <=row['city_center_distace_km'] < 12:\n",
    "        return '11 км до центра'\n",
    "    elif 12 <=row['city_center_distace_km'] < 13:\n",
    "        return '12 км до центра'\n",
    "    elif 13 <=row['city_center_distace_km'] < 14:\n",
    "        return '13 км до центра'\n",
    "    elif 14 <=row['city_center_distace_km'] < 15:\n",
    "        return '14 км до центра'\n",
    "    elif 15 <=row['city_center_distace_km'] < 16:\n",
    "        return '15 км до центра'\n",
    "    else:\n",
    "        return 'Более 15 км от центра'\n",
    "\n",
    "df['center_distance_type'] = df.apply(center_distance_rangetype,axis = 1)\n",
    "\n",
    "df.head(10)"
   ]
  },
  {
   "cell_type": "code",
   "execution_count": 49,
   "metadata": {},
   "outputs": [
    {
     "data": {
      "text/html": [
       "<div>\n",
       "<style scoped>\n",
       "    .dataframe tbody tr th:only-of-type {\n",
       "        vertical-align: middle;\n",
       "    }\n",
       "\n",
       "    .dataframe tbody tr th {\n",
       "        vertical-align: top;\n",
       "    }\n",
       "\n",
       "    .dataframe thead th {\n",
       "        text-align: right;\n",
       "    }\n",
       "</style>\n",
       "<table border=\"1\" class=\"dataframe\">\n",
       "  <thead>\n",
       "    <tr style=\"text-align: right;\">\n",
       "      <th></th>\n",
       "      <th>price_per_area</th>\n",
       "    </tr>\n",
       "    <tr>\n",
       "      <th>center_distance_type</th>\n",
       "      <th></th>\n",
       "    </tr>\n",
       "  </thead>\n",
       "  <tbody>\n",
       "    <tr>\n",
       "      <th>менее 1 км до центра</th>\n",
       "      <td>245833.530289</td>\n",
       "    </tr>\n",
       "    <tr>\n",
       "      <th>1 км до центра</th>\n",
       "      <td>177758.233087</td>\n",
       "    </tr>\n",
       "    <tr>\n",
       "      <th>7 км до центра</th>\n",
       "      <td>156161.903272</td>\n",
       "    </tr>\n",
       "    <tr>\n",
       "      <th>2 км до центра</th>\n",
       "      <td>155436.311083</td>\n",
       "    </tr>\n",
       "    <tr>\n",
       "      <th>6 км до центра</th>\n",
       "      <td>149655.972676</td>\n",
       "    </tr>\n",
       "    <tr>\n",
       "      <th>5 км до центра</th>\n",
       "      <td>138837.25124</td>\n",
       "    </tr>\n",
       "    <tr>\n",
       "      <th>4 км до центра</th>\n",
       "      <td>130944.910671</td>\n",
       "    </tr>\n",
       "    <tr>\n",
       "      <th>8 км до центра</th>\n",
       "      <td>124400.795178</td>\n",
       "    </tr>\n",
       "    <tr>\n",
       "      <th>3 км до центра</th>\n",
       "      <td>121135.314774</td>\n",
       "    </tr>\n",
       "    <tr>\n",
       "      <th>9 км до центра</th>\n",
       "      <td>113159.373316</td>\n",
       "    </tr>\n",
       "    <tr>\n",
       "      <th>10 км до центра</th>\n",
       "      <td>112601.820026</td>\n",
       "    </tr>\n",
       "    <tr>\n",
       "      <th>11 км до центра</th>\n",
       "      <td>108405.747972</td>\n",
       "    </tr>\n",
       "    <tr>\n",
       "      <th>13 км до центра</th>\n",
       "      <td>108119.902604</td>\n",
       "    </tr>\n",
       "    <tr>\n",
       "      <th>12 км до центра</th>\n",
       "      <td>107495.551277</td>\n",
       "    </tr>\n",
       "    <tr>\n",
       "      <th>15 км до центра</th>\n",
       "      <td>104310.691882</td>\n",
       "    </tr>\n",
       "    <tr>\n",
       "      <th>14 км до центра</th>\n",
       "      <td>104209.20893</td>\n",
       "    </tr>\n",
       "    <tr>\n",
       "      <th>Более 15 км от центра</th>\n",
       "      <td>77400.205929</td>\n",
       "    </tr>\n",
       "  </tbody>\n",
       "</table>\n",
       "</div>"
      ],
      "text/plain": [
       "                       price_per_area\n",
       "center_distance_type                 \n",
       "менее 1 км до центра    245833.530289\n",
       "1 км до центра          177758.233087\n",
       "7 км до центра          156161.903272\n",
       "2 км до центра          155436.311083\n",
       "6 км до центра          149655.972676\n",
       "5 км до центра           138837.25124\n",
       "4 км до центра          130944.910671\n",
       "8 км до центра          124400.795178\n",
       "3 км до центра          121135.314774\n",
       "9 км до центра          113159.373316\n",
       "10 км до центра         112601.820026\n",
       "11 км до центра         108405.747972\n",
       "13 км до центра         108119.902604\n",
       "12 км до центра         107495.551277\n",
       "15 км до центра         104310.691882\n",
       "14 км до центра          104209.20893\n",
       "Более 15 км от центра    77400.205929"
      ]
     },
     "execution_count": 49,
     "metadata": {},
     "output_type": "execute_result"
    }
   ],
   "source": [
    "#сгруппируем данные по средней цене кв.м и расстоянию от центра\n",
    "\n",
    "df.groupby('center_distance_type').agg({'price_per_area':'mean'}).sort_values(by='price_per_area', ascending=False).head(20)"
   ]
  },
  {
   "cell_type": "markdown",
   "metadata": {},
   "source": [
    "**Вывод:**Логично предположить что цена кв. метра полностью зависима от удаленности от центра. Удаленные района более 8 километров от центра оказались дешевле по стоимости кв.метра и расположились в внизу списка при сортировке. Но в начале списка расположились значения 6км и 5км. Скорее всего это обусловлено районом расположения данных объектов и логика \"чем дальше -тем дороже\" тут не работает. Данные квартиры могут быть в раойне Крестовского острова или в Петроградском районе (является одним из самых дорогих районов в городе) и могут завышать среднуюю цену кв. метра для этой зоны удаленности от центра. Цена кв. метра в этих районах соответсвует и находятся как раз на этом расстоянии от центра."
   ]
  },
  {
   "cell_type": "markdown",
   "metadata": {},
   "source": [
    "### Общий вывод"
   ]
  },
  {
   "cell_type": "markdown",
   "metadata": {},
   "source": [
    "• Квартиры в центре города обычно дороже, чем недвижимость на окраинах. Но есть районы\\кварталы\\жк которые удалены от центра более 5км и имеют высокую стоимость. Так же присутсвуют объекты с высокой стоимостью в области - скорее всего это дома и коттеджи.\n",
    "\n",
    "• Большая часть объявлений о продаже были опубликованы в марте, это может стать ценной информацией для маркетологов которые работают с этим проектом. Спад активности публикации объявлений приходится на конец недели.\n",
    "\n",
    "• Самая большая связь зависимости цены от размеров общей площади, жилой площади и типа этажа. Зависимости от дня недели и месяца не наблюдается. Связь зависимости между годом и ценой может отображать более глобальные события ( как повышение цены в 2014 связанное с экономическим кризисом)\n",
    "\n",
    "• Множество пропусков в параметрах геолокации создает трудности для исследования с этими параметрами. Пропуски в столбцах, 'airports_nearest', 'city_centers_nearest','parks_nearest','ponds_nearest' понижают точность исследование и объективность его выводов\n",
    "\n",
    "• Самая высокая цена одного квадратного метра в 10 населённых пунктах с наибольшим числом объявлений - в Санк-Петербурге(114.467р). Самая низкая - в Выборге(58.238р).\n"
   ]
  },
  {
   "cell_type": "markdown",
   "metadata": {},
   "source": [
    "**Для разработчика:**\n",
    "    \n",
    "   1)Провести работу над устранением появления пропусков в данных при выгрузке.\n",
    "   \n",
    "   2)Возможно ли устранить появление пропусков в значениях 'airports_nearest', 'city_centers_nearest','parks_nearest','ponds_nearest' даже если пропуски сделаны намерено. Можно ли сделать автоматическое заполнение этих значений основываясь на адресе объекта? \n",
    "   \n",
    "   3)Исправить форматы параметров: цены, количества балконов, даты публикации, количества прудов и парков, количества этажей и дней размещения объявления на корректные.\n",
    "    \n",
    "   4)Сделать выбор города, населенного пункта строгой и обязательной категорией с возможностью заполнения только из списка имеющихся значений."
   ]
  }
 ],
 "metadata": {
  "ExecuteTimeLog": [
   {
    "duration": 427,
    "start_time": "2022-11-23T15:05:19.962Z"
   },
   {
    "duration": 144,
    "start_time": "2022-11-23T15:09:44.973Z"
   },
   {
    "duration": 96,
    "start_time": "2022-11-23T15:10:16.268Z"
   },
   {
    "duration": 104,
    "start_time": "2022-11-23T15:10:47.663Z"
   },
   {
    "duration": 115,
    "start_time": "2022-11-23T15:11:30.468Z"
   },
   {
    "duration": 85,
    "start_time": "2022-11-23T15:11:40.800Z"
   },
   {
    "duration": 118,
    "start_time": "2022-11-23T15:11:47.664Z"
   },
   {
    "duration": 109,
    "start_time": "2022-11-23T15:12:00.083Z"
   },
   {
    "duration": 106,
    "start_time": "2022-11-23T15:13:00.679Z"
   },
   {
    "duration": 79,
    "start_time": "2022-11-23T15:26:40.123Z"
   },
   {
    "duration": 109,
    "start_time": "2022-11-23T15:27:15.520Z"
   },
   {
    "duration": 84,
    "start_time": "2022-11-23T15:27:30.855Z"
   },
   {
    "duration": 98,
    "start_time": "2022-11-23T15:27:37.255Z"
   },
   {
    "duration": 104,
    "start_time": "2022-11-23T15:35:01.145Z"
   },
   {
    "duration": 52,
    "start_time": "2022-11-24T12:19:10.981Z"
   },
   {
    "duration": 6,
    "start_time": "2022-11-24T12:19:23.723Z"
   },
   {
    "duration": 530,
    "start_time": "2022-11-24T12:19:30.015Z"
   },
   {
    "duration": 8,
    "start_time": "2022-11-24T12:19:30.546Z"
   },
   {
    "duration": 9,
    "start_time": "2022-11-24T12:19:47.481Z"
   },
   {
    "duration": 76,
    "start_time": "2022-11-24T16:24:47.345Z"
   },
   {
    "duration": 621,
    "start_time": "2022-11-24T16:24:56.107Z"
   },
   {
    "duration": 7,
    "start_time": "2022-11-24T16:24:56.730Z"
   },
   {
    "duration": 10,
    "start_time": "2022-11-24T16:24:56.739Z"
   },
   {
    "duration": 52,
    "start_time": "2022-11-24T16:25:26.951Z"
   },
   {
    "duration": 1472,
    "start_time": "2022-11-24T16:38:25.443Z"
   },
   {
    "duration": 1261,
    "start_time": "2022-11-24T16:38:31.250Z"
   },
   {
    "duration": 22,
    "start_time": "2022-11-24T16:38:51.532Z"
   },
   {
    "duration": 9,
    "start_time": "2022-11-24T16:40:09.941Z"
   },
   {
    "duration": 10,
    "start_time": "2022-11-24T16:40:21.717Z"
   },
   {
    "duration": 9,
    "start_time": "2022-11-24T16:40:26.005Z"
   },
   {
    "duration": 7,
    "start_time": "2022-11-24T16:40:29.609Z"
   },
   {
    "duration": 24,
    "start_time": "2022-11-24T16:42:54.734Z"
   },
   {
    "duration": 9,
    "start_time": "2022-11-24T16:43:07.549Z"
   },
   {
    "duration": 14,
    "start_time": "2022-11-24T16:43:12.876Z"
   },
   {
    "duration": 4,
    "start_time": "2022-11-24T16:43:39.651Z"
   },
   {
    "duration": 4,
    "start_time": "2022-11-24T16:43:49.869Z"
   },
   {
    "duration": 22,
    "start_time": "2022-11-24T16:44:16.067Z"
   },
   {
    "duration": 12,
    "start_time": "2022-11-24T16:44:27.780Z"
   },
   {
    "duration": 6,
    "start_time": "2022-11-24T16:44:31.556Z"
   },
   {
    "duration": 23,
    "start_time": "2022-11-24T16:44:36.305Z"
   },
   {
    "duration": 21,
    "start_time": "2022-11-24T16:44:59.618Z"
   },
   {
    "duration": 4,
    "start_time": "2022-11-24T16:47:10.222Z"
   },
   {
    "duration": 19,
    "start_time": "2022-11-24T16:47:21.893Z"
   },
   {
    "duration": 22,
    "start_time": "2022-11-24T16:49:30.736Z"
   },
   {
    "duration": 3,
    "start_time": "2022-11-24T16:50:55.899Z"
   },
   {
    "duration": 467,
    "start_time": "2022-11-24T16:51:00.676Z"
   },
   {
    "duration": 538,
    "start_time": "2022-11-24T16:51:57.198Z"
   },
   {
    "duration": 7,
    "start_time": "2022-11-24T16:51:57.738Z"
   },
   {
    "duration": 424,
    "start_time": "2022-11-24T16:51:57.746Z"
   },
   {
    "duration": 348,
    "start_time": "2022-11-24T16:52:01.262Z"
   },
   {
    "duration": 772,
    "start_time": "2022-11-24T16:52:43.099Z"
   },
   {
    "duration": 504,
    "start_time": "2022-11-24T16:52:57.797Z"
   },
   {
    "duration": 10,
    "start_time": "2022-11-24T16:52:58.304Z"
   },
   {
    "duration": 760,
    "start_time": "2022-11-24T16:52:58.315Z"
   },
   {
    "duration": 690,
    "start_time": "2022-11-24T16:53:01.142Z"
   },
   {
    "duration": 23,
    "start_time": "2022-11-24T16:55:00.303Z"
   },
   {
    "duration": 28,
    "start_time": "2022-11-24T16:59:29.209Z"
   },
   {
    "duration": 9,
    "start_time": "2022-11-24T17:00:12.135Z"
   },
   {
    "duration": 36,
    "start_time": "2022-11-24T17:00:20.663Z"
   },
   {
    "duration": 15,
    "start_time": "2022-11-24T17:00:37.561Z"
   },
   {
    "duration": 7,
    "start_time": "2022-11-24T17:00:48.347Z"
   },
   {
    "duration": 30,
    "start_time": "2022-11-24T17:09:56.122Z"
   },
   {
    "duration": 23,
    "start_time": "2022-11-24T17:10:10.451Z"
   },
   {
    "duration": 8,
    "start_time": "2022-11-24T17:10:38.132Z"
   },
   {
    "duration": 12,
    "start_time": "2022-11-24T17:10:55.670Z"
   },
   {
    "duration": 7,
    "start_time": "2022-11-24T17:11:01.427Z"
   },
   {
    "duration": 22,
    "start_time": "2022-11-24T17:13:48.918Z"
   },
   {
    "duration": 24,
    "start_time": "2022-11-24T17:26:23.578Z"
   },
   {
    "duration": 22,
    "start_time": "2022-11-24T17:27:21.475Z"
   },
   {
    "duration": 19,
    "start_time": "2022-11-24T17:31:08.113Z"
   },
   {
    "duration": 18,
    "start_time": "2022-11-24T17:31:19.884Z"
   },
   {
    "duration": 5,
    "start_time": "2022-11-24T17:31:30.764Z"
   },
   {
    "duration": 20,
    "start_time": "2022-11-24T17:33:20.535Z"
   },
   {
    "duration": 4,
    "start_time": "2022-11-24T17:58:11.057Z"
   },
   {
    "duration": 3,
    "start_time": "2022-11-24T17:58:17.926Z"
   },
   {
    "duration": 5,
    "start_time": "2022-11-24T17:58:25.465Z"
   },
   {
    "duration": 5,
    "start_time": "2022-11-24T17:59:08.952Z"
   },
   {
    "duration": 4,
    "start_time": "2022-11-24T17:59:13.572Z"
   },
   {
    "duration": 3,
    "start_time": "2022-11-24T18:00:42.913Z"
   },
   {
    "duration": 4,
    "start_time": "2022-11-24T18:00:47.988Z"
   },
   {
    "duration": 15,
    "start_time": "2022-11-24T18:48:28.274Z"
   },
   {
    "duration": 14,
    "start_time": "2022-11-24T18:48:49.752Z"
   },
   {
    "duration": 537,
    "start_time": "2022-11-24T18:49:01.872Z"
   },
   {
    "duration": 7,
    "start_time": "2022-11-24T18:49:02.412Z"
   },
   {
    "duration": 85,
    "start_time": "2022-11-24T18:49:02.421Z"
   },
   {
    "duration": 0,
    "start_time": "2022-11-24T18:49:02.508Z"
   },
   {
    "duration": 0,
    "start_time": "2022-11-24T18:49:02.509Z"
   },
   {
    "duration": 14,
    "start_time": "2022-11-24T18:49:05.559Z"
   },
   {
    "duration": 17,
    "start_time": "2022-11-24T18:52:41.828Z"
   },
   {
    "duration": 12,
    "start_time": "2022-11-24T18:52:50.066Z"
   },
   {
    "duration": 902,
    "start_time": "2022-11-24T18:52:57.547Z"
   },
   {
    "duration": 14,
    "start_time": "2022-11-24T18:54:39.396Z"
   },
   {
    "duration": 12,
    "start_time": "2022-11-24T18:58:45.204Z"
   },
   {
    "duration": 502,
    "start_time": "2022-11-24T18:58:55.198Z"
   },
   {
    "duration": 8,
    "start_time": "2022-11-24T18:58:55.702Z"
   },
   {
    "duration": 83,
    "start_time": "2022-11-24T18:58:55.711Z"
   },
   {
    "duration": 0,
    "start_time": "2022-11-24T18:58:55.795Z"
   },
   {
    "duration": 0,
    "start_time": "2022-11-24T18:58:55.796Z"
   },
   {
    "duration": 13,
    "start_time": "2022-11-24T18:58:59.784Z"
   },
   {
    "duration": 3,
    "start_time": "2022-11-24T18:59:16.861Z"
   },
   {
    "duration": 12,
    "start_time": "2022-11-24T18:59:28.971Z"
   },
   {
    "duration": 7,
    "start_time": "2022-11-24T19:00:26.951Z"
   },
   {
    "duration": 3,
    "start_time": "2022-11-24T19:00:29.930Z"
   },
   {
    "duration": 16,
    "start_time": "2022-11-24T19:00:36.403Z"
   },
   {
    "duration": 47,
    "start_time": "2022-11-24T19:00:57.054Z"
   },
   {
    "duration": 42,
    "start_time": "2022-11-24T19:01:25.470Z"
   },
   {
    "duration": 8,
    "start_time": "2022-11-24T19:01:48.515Z"
   },
   {
    "duration": 18,
    "start_time": "2022-11-24T19:01:58.045Z"
   },
   {
    "duration": 8,
    "start_time": "2022-11-24T19:02:16.526Z"
   },
   {
    "duration": 477,
    "start_time": "2022-11-24T19:02:29.522Z"
   },
   {
    "duration": 13,
    "start_time": "2022-11-24T19:02:30.001Z"
   },
   {
    "duration": 70,
    "start_time": "2022-11-24T19:02:30.016Z"
   },
   {
    "duration": 10,
    "start_time": "2022-11-24T19:02:30.088Z"
   },
   {
    "duration": 25,
    "start_time": "2022-11-24T19:02:30.099Z"
   },
   {
    "duration": 9,
    "start_time": "2022-11-24T19:02:33.456Z"
   },
   {
    "duration": 20,
    "start_time": "2022-11-24T19:03:05.971Z"
   },
   {
    "duration": 25,
    "start_time": "2022-11-24T19:03:30.664Z"
   },
   {
    "duration": 531,
    "start_time": "2022-11-24T19:04:04.895Z"
   },
   {
    "duration": 8,
    "start_time": "2022-11-24T19:04:05.428Z"
   },
   {
    "duration": 79,
    "start_time": "2022-11-24T19:04:05.437Z"
   },
   {
    "duration": 23,
    "start_time": "2022-11-24T19:04:05.518Z"
   },
   {
    "duration": 2,
    "start_time": "2022-11-24T19:04:05.543Z"
   },
   {
    "duration": 12,
    "start_time": "2022-11-24T19:05:08.123Z"
   },
   {
    "duration": 521,
    "start_time": "2022-11-24T19:06:03.043Z"
   },
   {
    "duration": 19,
    "start_time": "2022-11-24T19:06:03.565Z"
   },
   {
    "duration": 39,
    "start_time": "2022-11-24T19:06:03.586Z"
   },
   {
    "duration": 18,
    "start_time": "2022-11-24T19:06:03.627Z"
   },
   {
    "duration": 31,
    "start_time": "2022-11-24T19:06:03.647Z"
   },
   {
    "duration": 70,
    "start_time": "2022-11-24T19:07:01.660Z"
   },
   {
    "duration": 19,
    "start_time": "2022-11-24T19:07:10.700Z"
   },
   {
    "duration": 9,
    "start_time": "2022-11-24T19:11:20.896Z"
   },
   {
    "duration": 19,
    "start_time": "2022-11-24T19:13:46.659Z"
   },
   {
    "duration": 63,
    "start_time": "2022-11-24T19:14:49.191Z"
   },
   {
    "duration": 20,
    "start_time": "2022-11-24T19:15:50.084Z"
   },
   {
    "duration": 20,
    "start_time": "2022-11-24T19:17:46.218Z"
   },
   {
    "duration": 21,
    "start_time": "2022-11-24T19:18:16.844Z"
   },
   {
    "duration": 24,
    "start_time": "2022-11-24T19:18:25.681Z"
   },
   {
    "duration": 19,
    "start_time": "2022-11-24T19:21:45.499Z"
   },
   {
    "duration": 18,
    "start_time": "2022-11-24T19:22:10.773Z"
   },
   {
    "duration": 471,
    "start_time": "2022-11-24T19:22:44.429Z"
   },
   {
    "duration": 13,
    "start_time": "2022-11-24T19:22:44.902Z"
   },
   {
    "duration": 27,
    "start_time": "2022-11-24T19:22:44.916Z"
   },
   {
    "duration": 41,
    "start_time": "2022-11-24T19:22:44.944Z"
   },
   {
    "duration": 2,
    "start_time": "2022-11-24T19:22:44.986Z"
   },
   {
    "duration": 104,
    "start_time": "2022-11-24T19:22:50.410Z"
   },
   {
    "duration": 17,
    "start_time": "2022-11-24T19:22:59.802Z"
   },
   {
    "duration": 24,
    "start_time": "2022-11-24T19:23:07.308Z"
   },
   {
    "duration": 17,
    "start_time": "2022-11-24T19:23:47.903Z"
   },
   {
    "duration": 17,
    "start_time": "2022-11-24T19:24:06.906Z"
   },
   {
    "duration": 523,
    "start_time": "2022-11-24T19:24:12.243Z"
   },
   {
    "duration": 16,
    "start_time": "2022-11-24T19:24:12.768Z"
   },
   {
    "duration": 31,
    "start_time": "2022-11-24T19:24:12.786Z"
   },
   {
    "duration": 26,
    "start_time": "2022-11-24T19:24:12.819Z"
   },
   {
    "duration": 32,
    "start_time": "2022-11-24T19:24:12.847Z"
   },
   {
    "duration": 112,
    "start_time": "2022-11-24T19:24:17.463Z"
   },
   {
    "duration": 18,
    "start_time": "2022-11-24T19:25:27.085Z"
   },
   {
    "duration": 17,
    "start_time": "2022-11-24T19:25:53.878Z"
   },
   {
    "duration": 18,
    "start_time": "2022-11-24T19:25:57.785Z"
   },
   {
    "duration": 17,
    "start_time": "2022-11-24T19:26:01.243Z"
   },
   {
    "duration": 23,
    "start_time": "2022-11-24T19:26:07.733Z"
   },
   {
    "duration": 25,
    "start_time": "2022-11-24T19:26:14.808Z"
   },
   {
    "duration": 14,
    "start_time": "2022-11-24T19:26:26.057Z"
   },
   {
    "duration": 17,
    "start_time": "2022-11-24T19:28:22.162Z"
   },
   {
    "duration": 21,
    "start_time": "2022-11-24T19:28:34.892Z"
   },
   {
    "duration": 115,
    "start_time": "2022-11-24T19:29:57.746Z"
   },
   {
    "duration": 19,
    "start_time": "2022-11-24T19:30:01.822Z"
   },
   {
    "duration": 60,
    "start_time": "2022-11-24T19:30:22.965Z"
   },
   {
    "duration": 21,
    "start_time": "2022-11-24T19:32:08.852Z"
   },
   {
    "duration": 19,
    "start_time": "2022-11-24T19:32:32.556Z"
   },
   {
    "duration": 17,
    "start_time": "2022-11-24T19:33:01.536Z"
   },
   {
    "duration": 18,
    "start_time": "2022-11-24T19:33:06.130Z"
   },
   {
    "duration": 18,
    "start_time": "2022-11-24T19:36:53.817Z"
   },
   {
    "duration": 17,
    "start_time": "2022-11-24T19:36:59.063Z"
   },
   {
    "duration": 17,
    "start_time": "2022-11-24T19:37:08.419Z"
   },
   {
    "duration": 14,
    "start_time": "2022-11-24T19:37:21.794Z"
   },
   {
    "duration": 55,
    "start_time": "2022-11-24T19:37:30.261Z"
   },
   {
    "duration": 585,
    "start_time": "2022-11-24T19:37:35.778Z"
   },
   {
    "duration": 15,
    "start_time": "2022-11-24T19:37:36.365Z"
   },
   {
    "duration": 115,
    "start_time": "2022-11-24T19:37:36.382Z"
   },
   {
    "duration": 0,
    "start_time": "2022-11-24T19:37:36.499Z"
   },
   {
    "duration": 0,
    "start_time": "2022-11-24T19:37:36.500Z"
   },
   {
    "duration": 62,
    "start_time": "2022-11-24T19:37:54.898Z"
   },
   {
    "duration": 25,
    "start_time": "2022-11-24T19:42:19.465Z"
   },
   {
    "duration": 20,
    "start_time": "2022-11-24T19:43:00.673Z"
   },
   {
    "duration": 16,
    "start_time": "2022-11-24T19:43:45.867Z"
   },
   {
    "duration": 16,
    "start_time": "2022-11-24T19:43:59.665Z"
   },
   {
    "duration": 22,
    "start_time": "2022-11-24T19:44:09.521Z"
   },
   {
    "duration": 18,
    "start_time": "2022-11-24T19:44:14.153Z"
   },
   {
    "duration": 18,
    "start_time": "2022-11-24T19:44:18.262Z"
   },
   {
    "duration": 17,
    "start_time": "2022-11-24T19:44:22.194Z"
   },
   {
    "duration": 17,
    "start_time": "2022-11-24T19:44:26.053Z"
   },
   {
    "duration": 74,
    "start_time": "2022-11-24T19:44:38.958Z"
   },
   {
    "duration": 16,
    "start_time": "2022-11-24T19:44:41.706Z"
   },
   {
    "duration": 25,
    "start_time": "2022-11-24T19:44:58.345Z"
   },
   {
    "duration": 25,
    "start_time": "2022-11-24T19:45:35.817Z"
   },
   {
    "duration": 27,
    "start_time": "2022-11-24T19:46:17.914Z"
   },
   {
    "duration": 25,
    "start_time": "2022-11-24T19:47:30.079Z"
   },
   {
    "duration": 18,
    "start_time": "2022-11-24T19:47:39.273Z"
   },
   {
    "duration": 35,
    "start_time": "2022-11-24T19:47:49.809Z"
   },
   {
    "duration": 25,
    "start_time": "2022-11-24T19:47:53.062Z"
   },
   {
    "duration": 62,
    "start_time": "2022-11-24T19:48:43.410Z"
   },
   {
    "duration": 27,
    "start_time": "2022-11-24T19:49:41.160Z"
   },
   {
    "duration": 28,
    "start_time": "2022-11-24T19:50:11.954Z"
   },
   {
    "duration": 32,
    "start_time": "2022-11-24T19:50:16.818Z"
   },
   {
    "duration": 28,
    "start_time": "2022-11-24T19:50:35.277Z"
   },
   {
    "duration": 29,
    "start_time": "2022-11-24T19:51:55.312Z"
   },
   {
    "duration": 26,
    "start_time": "2022-11-24T19:51:58.813Z"
   },
   {
    "duration": 27,
    "start_time": "2022-11-24T19:52:48.868Z"
   },
   {
    "duration": 495,
    "start_time": "2022-11-24T19:52:52.906Z"
   },
   {
    "duration": 14,
    "start_time": "2022-11-24T19:52:53.403Z"
   },
   {
    "duration": 93,
    "start_time": "2022-11-24T19:52:53.418Z"
   },
   {
    "duration": 0,
    "start_time": "2022-11-24T19:52:53.513Z"
   },
   {
    "duration": 0,
    "start_time": "2022-11-24T19:52:53.514Z"
   },
   {
    "duration": 61,
    "start_time": "2022-11-24T19:53:02.636Z"
   },
   {
    "duration": 61,
    "start_time": "2022-11-25T07:43:22.514Z"
   },
   {
    "duration": 698,
    "start_time": "2022-11-25T07:43:40.490Z"
   },
   {
    "duration": 13,
    "start_time": "2022-11-25T07:43:41.190Z"
   },
   {
    "duration": 99,
    "start_time": "2022-11-25T07:43:41.205Z"
   },
   {
    "duration": 0,
    "start_time": "2022-11-25T07:43:41.306Z"
   },
   {
    "duration": 0,
    "start_time": "2022-11-25T07:43:41.307Z"
   },
   {
    "duration": 60,
    "start_time": "2022-11-25T07:43:55.332Z"
   },
   {
    "duration": 27,
    "start_time": "2022-11-25T07:45:36.913Z"
   },
   {
    "duration": 28,
    "start_time": "2022-11-25T07:48:35.663Z"
   },
   {
    "duration": 21,
    "start_time": "2022-11-25T07:48:45.136Z"
   },
   {
    "duration": 474,
    "start_time": "2022-11-25T07:48:50.472Z"
   },
   {
    "duration": 13,
    "start_time": "2022-11-25T07:48:50.948Z"
   },
   {
    "duration": 52,
    "start_time": "2022-11-25T07:48:50.963Z"
   },
   {
    "duration": 22,
    "start_time": "2022-11-25T07:48:51.017Z"
   },
   {
    "duration": 16,
    "start_time": "2022-11-25T07:48:51.041Z"
   },
   {
    "duration": 57,
    "start_time": "2022-11-25T07:48:54.833Z"
   },
   {
    "duration": 24,
    "start_time": "2022-11-25T07:49:42.961Z"
   },
   {
    "duration": 25,
    "start_time": "2022-11-25T07:50:02.826Z"
   },
   {
    "duration": 71,
    "start_time": "2022-11-25T07:50:17.139Z"
   },
   {
    "duration": 19,
    "start_time": "2022-11-25T07:50:24.588Z"
   },
   {
    "duration": 23,
    "start_time": "2022-11-25T07:50:35.751Z"
   },
   {
    "duration": 26,
    "start_time": "2022-11-25T07:50:52.478Z"
   },
   {
    "duration": 20,
    "start_time": "2022-11-25T07:51:08.173Z"
   },
   {
    "duration": 24,
    "start_time": "2022-11-25T07:51:51.298Z"
   },
   {
    "duration": 24,
    "start_time": "2022-11-25T07:52:12.002Z"
   },
   {
    "duration": 20,
    "start_time": "2022-11-25T07:52:40.728Z"
   },
   {
    "duration": 26,
    "start_time": "2022-11-25T07:53:39.248Z"
   },
   {
    "duration": 30,
    "start_time": "2022-11-25T07:54:50.719Z"
   },
   {
    "duration": 60,
    "start_time": "2022-11-25T07:54:59.954Z"
   },
   {
    "duration": 23,
    "start_time": "2022-11-25T07:55:11.059Z"
   },
   {
    "duration": 26,
    "start_time": "2022-11-25T07:55:39.396Z"
   },
   {
    "duration": 20,
    "start_time": "2022-11-25T07:55:43.453Z"
   },
   {
    "duration": 38,
    "start_time": "2022-11-25T07:55:55.807Z"
   },
   {
    "duration": 26,
    "start_time": "2022-11-25T07:55:58.231Z"
   },
   {
    "duration": 538,
    "start_time": "2022-11-25T07:56:03.025Z"
   },
   {
    "duration": 18,
    "start_time": "2022-11-25T07:56:03.566Z"
   },
   {
    "duration": 108,
    "start_time": "2022-11-25T07:56:03.585Z"
   },
   {
    "duration": 0,
    "start_time": "2022-11-25T07:56:03.695Z"
   },
   {
    "duration": 0,
    "start_time": "2022-11-25T07:56:03.696Z"
   },
   {
    "duration": 64,
    "start_time": "2022-11-25T07:56:21.593Z"
   },
   {
    "duration": 10,
    "start_time": "2022-11-25T07:56:50.247Z"
   },
   {
    "duration": 8,
    "start_time": "2022-11-25T07:56:56.212Z"
   },
   {
    "duration": 16,
    "start_time": "2022-11-25T07:57:01.935Z"
   },
   {
    "duration": 3,
    "start_time": "2022-11-25T07:57:16.285Z"
   },
   {
    "duration": 24,
    "start_time": "2022-11-25T07:58:26.483Z"
   },
   {
    "duration": 23,
    "start_time": "2022-11-25T07:59:09.688Z"
   },
   {
    "duration": 23,
    "start_time": "2022-11-25T07:59:15.477Z"
   },
   {
    "duration": 534,
    "start_time": "2022-11-25T07:59:20.204Z"
   },
   {
    "duration": 13,
    "start_time": "2022-11-25T07:59:20.740Z"
   },
   {
    "duration": 30,
    "start_time": "2022-11-25T07:59:20.754Z"
   },
   {
    "duration": 21,
    "start_time": "2022-11-25T07:59:20.786Z"
   },
   {
    "duration": 2,
    "start_time": "2022-11-25T07:59:20.836Z"
   },
   {
    "duration": 60,
    "start_time": "2022-11-25T07:59:42.146Z"
   },
   {
    "duration": 76,
    "start_time": "2022-11-25T07:59:58.261Z"
   },
   {
    "duration": 19,
    "start_time": "2022-11-25T08:00:01.621Z"
   },
   {
    "duration": 22,
    "start_time": "2022-11-25T08:00:16.086Z"
   },
   {
    "duration": 20,
    "start_time": "2022-11-25T08:01:13.369Z"
   },
   {
    "duration": 530,
    "start_time": "2022-11-25T08:01:18.738Z"
   },
   {
    "duration": 16,
    "start_time": "2022-11-25T08:01:19.270Z"
   },
   {
    "duration": 48,
    "start_time": "2022-11-25T08:01:19.287Z"
   },
   {
    "duration": 20,
    "start_time": "2022-11-25T08:01:19.337Z"
   },
   {
    "duration": 3,
    "start_time": "2022-11-25T08:01:19.359Z"
   },
   {
    "duration": 54,
    "start_time": "2022-11-25T08:01:34.793Z"
   },
   {
    "duration": 28,
    "start_time": "2022-11-25T08:01:41.182Z"
   },
   {
    "duration": 522,
    "start_time": "2022-11-25T08:01:46.554Z"
   },
   {
    "duration": 14,
    "start_time": "2022-11-25T08:01:47.077Z"
   },
   {
    "duration": 51,
    "start_time": "2022-11-25T08:01:47.093Z"
   },
   {
    "duration": 22,
    "start_time": "2022-11-25T08:01:47.145Z"
   },
   {
    "duration": 2,
    "start_time": "2022-11-25T08:01:47.169Z"
   },
   {
    "duration": 100,
    "start_time": "2022-11-25T08:03:04.586Z"
   },
   {
    "duration": 20,
    "start_time": "2022-11-25T08:03:50.598Z"
   },
   {
    "duration": 527,
    "start_time": "2022-11-25T08:03:59.305Z"
   },
   {
    "duration": 13,
    "start_time": "2022-11-25T08:03:59.834Z"
   },
   {
    "duration": 35,
    "start_time": "2022-11-25T08:03:59.848Z"
   },
   {
    "duration": 55,
    "start_time": "2022-11-25T08:03:59.885Z"
   },
   {
    "duration": 2,
    "start_time": "2022-11-25T08:03:59.941Z"
   },
   {
    "duration": 109,
    "start_time": "2022-11-25T08:04:06.582Z"
   },
   {
    "duration": 32,
    "start_time": "2022-11-25T08:04:16.028Z"
   },
   {
    "duration": 25,
    "start_time": "2022-11-25T08:04:29.608Z"
   },
   {
    "duration": 503,
    "start_time": "2022-11-25T08:04:37.296Z"
   },
   {
    "duration": 14,
    "start_time": "2022-11-25T08:04:37.801Z"
   },
   {
    "duration": 108,
    "start_time": "2022-11-25T08:04:37.816Z"
   },
   {
    "duration": 0,
    "start_time": "2022-11-25T08:04:37.926Z"
   },
   {
    "duration": 0,
    "start_time": "2022-11-25T08:04:37.935Z"
   },
   {
    "duration": 66,
    "start_time": "2022-11-25T08:04:50.775Z"
   },
   {
    "duration": 25,
    "start_time": "2022-11-25T08:05:11.357Z"
   },
   {
    "duration": 27,
    "start_time": "2022-11-25T08:05:19.063Z"
   },
   {
    "duration": 26,
    "start_time": "2022-11-25T08:05:30.462Z"
   },
   {
    "duration": 30,
    "start_time": "2022-11-25T08:05:41.499Z"
   },
   {
    "duration": 34,
    "start_time": "2022-11-25T08:07:52.115Z"
   },
   {
    "duration": 35,
    "start_time": "2022-11-25T08:09:51.788Z"
   },
   {
    "duration": 43,
    "start_time": "2022-11-25T08:11:04.110Z"
   },
   {
    "duration": 28,
    "start_time": "2022-11-25T08:12:09.093Z"
   },
   {
    "duration": 36,
    "start_time": "2022-11-25T08:12:24.392Z"
   },
   {
    "duration": 52,
    "start_time": "2022-11-25T08:12:40.672Z"
   },
   {
    "duration": 61,
    "start_time": "2022-11-25T08:12:44.480Z"
   },
   {
    "duration": 37,
    "start_time": "2022-11-25T08:12:48.672Z"
   },
   {
    "duration": 110,
    "start_time": "2022-11-25T08:13:51.876Z"
   },
   {
    "duration": 42,
    "start_time": "2022-11-25T08:14:44.943Z"
   },
   {
    "duration": 36,
    "start_time": "2022-11-25T08:15:44.509Z"
   },
   {
    "duration": 22,
    "start_time": "2022-11-25T08:15:54.212Z"
   },
   {
    "duration": 24,
    "start_time": "2022-11-25T08:15:57.530Z"
   },
   {
    "duration": 530,
    "start_time": "2022-11-25T08:16:04.405Z"
   },
   {
    "duration": 16,
    "start_time": "2022-11-25T08:16:04.936Z"
   },
   {
    "duration": 45,
    "start_time": "2022-11-25T08:16:04.954Z"
   },
   {
    "duration": 47,
    "start_time": "2022-11-25T08:16:05.001Z"
   },
   {
    "duration": 3,
    "start_time": "2022-11-25T08:16:05.050Z"
   },
   {
    "duration": 117,
    "start_time": "2022-11-25T08:16:10.321Z"
   },
   {
    "duration": 22,
    "start_time": "2022-11-25T08:16:37.445Z"
   },
   {
    "duration": 23,
    "start_time": "2022-11-25T08:16:42.274Z"
   },
   {
    "duration": 22,
    "start_time": "2022-11-25T08:16:47.064Z"
   },
   {
    "duration": 529,
    "start_time": "2022-11-25T08:16:51.028Z"
   },
   {
    "duration": 14,
    "start_time": "2022-11-25T08:16:51.559Z"
   },
   {
    "duration": 67,
    "start_time": "2022-11-25T08:16:51.574Z"
   },
   {
    "duration": 73,
    "start_time": "2022-11-25T08:16:51.643Z"
   },
   {
    "duration": 2,
    "start_time": "2022-11-25T08:16:51.719Z"
   },
   {
    "duration": 67,
    "start_time": "2022-11-25T08:16:55.432Z"
   },
   {
    "duration": 29,
    "start_time": "2022-11-25T08:17:07.634Z"
   },
   {
    "duration": 31,
    "start_time": "2022-11-25T08:17:30.079Z"
   },
   {
    "duration": 525,
    "start_time": "2022-11-25T08:17:34.631Z"
   },
   {
    "duration": 14,
    "start_time": "2022-11-25T08:17:35.158Z"
   },
   {
    "duration": 67,
    "start_time": "2022-11-25T08:17:35.173Z"
   },
   {
    "duration": 20,
    "start_time": "2022-11-25T08:17:35.242Z"
   },
   {
    "duration": 18,
    "start_time": "2022-11-25T08:17:35.264Z"
   },
   {
    "duration": 62,
    "start_time": "2022-11-25T08:17:38.317Z"
   },
   {
    "duration": 32,
    "start_time": "2022-11-25T08:17:43.489Z"
   },
   {
    "duration": 525,
    "start_time": "2022-11-25T08:17:47.428Z"
   },
   {
    "duration": 15,
    "start_time": "2022-11-25T08:17:47.956Z"
   },
   {
    "duration": 42,
    "start_time": "2022-11-25T08:17:47.973Z"
   },
   {
    "duration": 22,
    "start_time": "2022-11-25T08:17:48.036Z"
   },
   {
    "duration": 3,
    "start_time": "2022-11-25T08:17:48.059Z"
   },
   {
    "duration": 112,
    "start_time": "2022-11-25T08:17:50.709Z"
   },
   {
    "duration": 21,
    "start_time": "2022-11-25T08:17:59.299Z"
   },
   {
    "duration": 519,
    "start_time": "2022-11-25T08:18:03.818Z"
   },
   {
    "duration": 12,
    "start_time": "2022-11-25T08:18:04.339Z"
   },
   {
    "duration": 45,
    "start_time": "2022-11-25T08:18:04.353Z"
   },
   {
    "duration": 41,
    "start_time": "2022-11-25T08:18:04.399Z"
   },
   {
    "duration": 2,
    "start_time": "2022-11-25T08:18:04.442Z"
   },
   {
    "duration": 70,
    "start_time": "2022-11-25T08:18:06.905Z"
   },
   {
    "duration": 40,
    "start_time": "2022-11-25T08:18:18.582Z"
   },
   {
    "duration": 454,
    "start_time": "2022-11-25T08:18:23.273Z"
   },
   {
    "duration": 11,
    "start_time": "2022-11-25T08:18:23.729Z"
   },
   {
    "duration": 33,
    "start_time": "2022-11-25T08:18:23.741Z"
   },
   {
    "duration": 20,
    "start_time": "2022-11-25T08:18:23.776Z"
   },
   {
    "duration": 2,
    "start_time": "2022-11-25T08:18:23.797Z"
   },
   {
    "duration": 119,
    "start_time": "2022-11-25T08:18:26.956Z"
   },
   {
    "duration": 20,
    "start_time": "2022-11-25T08:18:43.229Z"
   },
   {
    "duration": 504,
    "start_time": "2022-11-25T08:18:47.137Z"
   },
   {
    "duration": 12,
    "start_time": "2022-11-25T08:18:47.643Z"
   },
   {
    "duration": 35,
    "start_time": "2022-11-25T08:18:47.657Z"
   },
   {
    "duration": 47,
    "start_time": "2022-11-25T08:18:47.695Z"
   },
   {
    "duration": 2,
    "start_time": "2022-11-25T08:18:47.744Z"
   },
   {
    "duration": 69,
    "start_time": "2022-11-25T08:18:49.970Z"
   },
   {
    "duration": 35,
    "start_time": "2022-11-25T08:19:36.379Z"
   },
   {
    "duration": 473,
    "start_time": "2022-11-25T08:19:40.280Z"
   },
   {
    "duration": 14,
    "start_time": "2022-11-25T08:19:40.755Z"
   },
   {
    "duration": 41,
    "start_time": "2022-11-25T08:19:40.771Z"
   },
   {
    "duration": 42,
    "start_time": "2022-11-25T08:19:40.814Z"
   },
   {
    "duration": 2,
    "start_time": "2022-11-25T08:19:40.859Z"
   },
   {
    "duration": 107,
    "start_time": "2022-11-25T08:19:43.881Z"
   },
   {
    "duration": 30,
    "start_time": "2022-11-25T08:20:25.895Z"
   },
   {
    "duration": 33,
    "start_time": "2022-11-25T08:20:32.277Z"
   },
   {
    "duration": 497,
    "start_time": "2022-11-25T08:20:36.173Z"
   },
   {
    "duration": 15,
    "start_time": "2022-11-25T08:20:36.672Z"
   },
   {
    "duration": 126,
    "start_time": "2022-11-25T08:20:36.688Z"
   },
   {
    "duration": 0,
    "start_time": "2022-11-25T08:20:36.816Z"
   },
   {
    "duration": 0,
    "start_time": "2022-11-25T08:20:36.817Z"
   },
   {
    "duration": 59,
    "start_time": "2022-11-25T08:20:39.520Z"
   },
   {
    "duration": 28,
    "start_time": "2022-11-25T08:20:44.326Z"
   },
   {
    "duration": 492,
    "start_time": "2022-11-25T08:20:48.578Z"
   },
   {
    "duration": 25,
    "start_time": "2022-11-25T08:20:49.072Z"
   },
   {
    "duration": 137,
    "start_time": "2022-11-25T08:20:49.099Z"
   },
   {
    "duration": 0,
    "start_time": "2022-11-25T08:20:49.239Z"
   },
   {
    "duration": 0,
    "start_time": "2022-11-25T08:20:49.240Z"
   },
   {
    "duration": 66,
    "start_time": "2022-11-25T08:20:52.600Z"
   },
   {
    "duration": 25,
    "start_time": "2022-11-25T08:21:33.719Z"
   },
   {
    "duration": 30,
    "start_time": "2022-11-25T08:21:50.974Z"
   },
   {
    "duration": 32,
    "start_time": "2022-11-25T08:21:59.772Z"
   },
   {
    "duration": 489,
    "start_time": "2022-11-25T08:22:04.869Z"
   },
   {
    "duration": 14,
    "start_time": "2022-11-25T08:22:05.359Z"
   },
   {
    "duration": 107,
    "start_time": "2022-11-25T08:22:05.375Z"
   },
   {
    "duration": 0,
    "start_time": "2022-11-25T08:22:05.484Z"
   },
   {
    "duration": 0,
    "start_time": "2022-11-25T08:22:05.486Z"
   },
   {
    "duration": 71,
    "start_time": "2022-11-25T08:22:07.958Z"
   },
   {
    "duration": 30,
    "start_time": "2022-11-25T08:22:17.239Z"
   },
   {
    "duration": 33,
    "start_time": "2022-11-25T08:22:27.482Z"
   },
   {
    "duration": 553,
    "start_time": "2022-11-25T08:22:32.606Z"
   },
   {
    "duration": 17,
    "start_time": "2022-11-25T08:22:33.162Z"
   },
   {
    "duration": 62,
    "start_time": "2022-11-25T08:22:33.181Z"
   },
   {
    "duration": 23,
    "start_time": "2022-11-25T08:22:33.245Z"
   },
   {
    "duration": 2,
    "start_time": "2022-11-25T08:22:33.269Z"
   },
   {
    "duration": 113,
    "start_time": "2022-11-25T08:22:37.240Z"
   },
   {
    "duration": 21,
    "start_time": "2022-11-25T08:23:44.606Z"
   },
   {
    "duration": 537,
    "start_time": "2022-11-25T08:23:49.626Z"
   },
   {
    "duration": 13,
    "start_time": "2022-11-25T08:23:50.166Z"
   },
   {
    "duration": 57,
    "start_time": "2022-11-25T08:23:50.181Z"
   },
   {
    "duration": 22,
    "start_time": "2022-11-25T08:23:50.240Z"
   },
   {
    "duration": 2,
    "start_time": "2022-11-25T08:23:50.264Z"
   },
   {
    "duration": 113,
    "start_time": "2022-11-25T08:23:53.869Z"
   },
   {
    "duration": 31,
    "start_time": "2022-11-25T08:25:34.120Z"
   },
   {
    "duration": 520,
    "start_time": "2022-11-25T08:25:43.830Z"
   },
   {
    "duration": 15,
    "start_time": "2022-11-25T08:25:44.353Z"
   },
   {
    "duration": 109,
    "start_time": "2022-11-25T08:25:44.370Z"
   },
   {
    "duration": 0,
    "start_time": "2022-11-25T08:25:44.481Z"
   },
   {
    "duration": 0,
    "start_time": "2022-11-25T08:25:44.482Z"
   },
   {
    "duration": 71,
    "start_time": "2022-11-25T08:25:47.234Z"
   },
   {
    "duration": 34,
    "start_time": "2022-11-25T08:36:51.961Z"
   },
   {
    "duration": 51,
    "start_time": "2022-11-25T08:37:06.038Z"
   },
   {
    "duration": 33,
    "start_time": "2022-11-25T08:37:17.454Z"
   },
   {
    "duration": 565,
    "start_time": "2022-11-25T08:37:25.832Z"
   },
   {
    "duration": 14,
    "start_time": "2022-11-25T08:37:26.400Z"
   },
   {
    "duration": 43,
    "start_time": "2022-11-25T08:37:26.436Z"
   },
   {
    "duration": 31,
    "start_time": "2022-11-25T08:37:26.482Z"
   },
   {
    "duration": 22,
    "start_time": "2022-11-25T08:37:26.515Z"
   },
   {
    "duration": 141,
    "start_time": "2022-11-25T08:37:31.131Z"
   },
   {
    "duration": 31,
    "start_time": "2022-11-25T08:38:53.026Z"
   },
   {
    "duration": 541,
    "start_time": "2022-11-25T08:38:57.334Z"
   },
   {
    "duration": 14,
    "start_time": "2022-11-25T08:38:57.877Z"
   },
   {
    "duration": 56,
    "start_time": "2022-11-25T08:38:57.892Z"
   },
   {
    "duration": 23,
    "start_time": "2022-11-25T08:38:57.950Z"
   },
   {
    "duration": 3,
    "start_time": "2022-11-25T08:38:57.975Z"
   },
   {
    "duration": 64,
    "start_time": "2022-11-25T08:39:01.359Z"
   },
   {
    "duration": 31,
    "start_time": "2022-11-25T08:39:20.299Z"
   },
   {
    "duration": 518,
    "start_time": "2022-11-25T08:39:25.475Z"
   },
   {
    "duration": 20,
    "start_time": "2022-11-25T08:39:25.995Z"
   },
   {
    "duration": 49,
    "start_time": "2022-11-25T08:39:26.017Z"
   },
   {
    "duration": 30,
    "start_time": "2022-11-25T08:39:26.069Z"
   },
   {
    "duration": 2,
    "start_time": "2022-11-25T08:39:26.101Z"
   },
   {
    "duration": 121,
    "start_time": "2022-11-25T08:39:29.248Z"
   },
   {
    "duration": 476,
    "start_time": "2022-11-25T08:40:00.387Z"
   },
   {
    "duration": 13,
    "start_time": "2022-11-25T08:40:00.865Z"
   },
   {
    "duration": 74,
    "start_time": "2022-11-25T08:40:00.879Z"
   },
   {
    "duration": 61,
    "start_time": "2022-11-25T08:40:00.955Z"
   },
   {
    "duration": 12,
    "start_time": "2022-11-25T08:40:01.017Z"
   },
   {
    "duration": 107,
    "start_time": "2022-11-25T08:40:03.960Z"
   },
   {
    "duration": 21,
    "start_time": "2022-11-25T08:41:03.290Z"
   },
   {
    "duration": 490,
    "start_time": "2022-11-25T08:41:08.567Z"
   },
   {
    "duration": 14,
    "start_time": "2022-11-25T08:41:09.059Z"
   },
   {
    "duration": 38,
    "start_time": "2022-11-25T08:41:09.074Z"
   },
   {
    "duration": 39,
    "start_time": "2022-11-25T08:41:09.114Z"
   },
   {
    "duration": 3,
    "start_time": "2022-11-25T08:41:09.154Z"
   },
   {
    "duration": 67,
    "start_time": "2022-11-25T08:48:59.311Z"
   },
   {
    "duration": 560,
    "start_time": "2022-11-25T08:49:04.338Z"
   },
   {
    "duration": 13,
    "start_time": "2022-11-25T08:49:04.900Z"
   },
   {
    "duration": 53,
    "start_time": "2022-11-25T08:49:04.915Z"
   },
   {
    "duration": 21,
    "start_time": "2022-11-25T08:49:04.969Z"
   },
   {
    "duration": 2,
    "start_time": "2022-11-25T08:49:04.992Z"
   },
   {
    "duration": 105,
    "start_time": "2022-11-25T08:49:09.515Z"
   },
   {
    "duration": 22,
    "start_time": "2022-11-25T08:50:34.708Z"
   },
   {
    "duration": 21,
    "start_time": "2022-11-25T09:16:54.552Z"
   },
   {
    "duration": 21,
    "start_time": "2022-11-25T09:17:05.467Z"
   },
   {
    "duration": 19,
    "start_time": "2022-11-25T09:22:29.303Z"
   },
   {
    "duration": 20,
    "start_time": "2022-11-25T09:22:36.135Z"
   },
   {
    "duration": 526,
    "start_time": "2022-11-25T09:22:41.160Z"
   },
   {
    "duration": 14,
    "start_time": "2022-11-25T09:22:41.687Z"
   },
   {
    "duration": 105,
    "start_time": "2022-11-25T09:22:41.703Z"
   },
   {
    "duration": 0,
    "start_time": "2022-11-25T09:22:41.810Z"
   },
   {
    "duration": 0,
    "start_time": "2022-11-25T09:22:41.811Z"
   },
   {
    "duration": 60,
    "start_time": "2022-11-25T09:22:44.699Z"
   },
   {
    "duration": 32,
    "start_time": "2022-11-25T09:22:50.836Z"
   },
   {
    "duration": 21,
    "start_time": "2022-11-25T09:24:08.267Z"
   },
   {
    "duration": 22,
    "start_time": "2022-11-25T09:24:13.118Z"
   },
   {
    "duration": 35,
    "start_time": "2022-11-25T09:24:24.416Z"
   },
   {
    "duration": 21,
    "start_time": "2022-11-25T09:24:47.609Z"
   },
   {
    "duration": 536,
    "start_time": "2022-11-25T09:24:58.305Z"
   },
   {
    "duration": 14,
    "start_time": "2022-11-25T09:24:58.844Z"
   },
   {
    "duration": 42,
    "start_time": "2022-11-25T09:24:58.860Z"
   },
   {
    "duration": 59,
    "start_time": "2022-11-25T09:24:58.905Z"
   },
   {
    "duration": 2,
    "start_time": "2022-11-25T09:24:58.966Z"
   },
   {
    "duration": 36,
    "start_time": "2022-11-25T09:25:07.069Z"
   },
   {
    "duration": 25,
    "start_time": "2022-11-25T09:28:46.224Z"
   },
   {
    "duration": 116,
    "start_time": "2022-11-25T09:31:36.444Z"
   },
   {
    "duration": 513,
    "start_time": "2022-11-25T09:31:42.284Z"
   },
   {
    "duration": 12,
    "start_time": "2022-11-25T09:31:42.799Z"
   },
   {
    "duration": 45,
    "start_time": "2022-11-25T09:31:42.813Z"
   },
   {
    "duration": 21,
    "start_time": "2022-11-25T09:31:42.860Z"
   },
   {
    "duration": 3,
    "start_time": "2022-11-25T09:31:42.882Z"
   },
   {
    "duration": 15,
    "start_time": "2022-11-25T09:32:02.470Z"
   },
   {
    "duration": 9,
    "start_time": "2022-11-25T09:32:17.772Z"
   },
   {
    "duration": 63,
    "start_time": "2022-11-25T09:34:35.465Z"
   },
   {
    "duration": 8,
    "start_time": "2022-11-25T09:34:40.998Z"
   },
   {
    "duration": 8,
    "start_time": "2022-11-25T09:34:48.954Z"
   },
   {
    "duration": 6,
    "start_time": "2022-11-25T09:35:04.424Z"
   },
   {
    "duration": 6,
    "start_time": "2022-11-25T09:38:47.164Z"
   },
   {
    "duration": 6,
    "start_time": "2022-11-25T09:43:29.082Z"
   },
   {
    "duration": 10,
    "start_time": "2022-11-25T09:43:34.552Z"
   },
   {
    "duration": 17,
    "start_time": "2022-11-25T09:43:54.796Z"
   },
   {
    "duration": 160,
    "start_time": "2022-11-25T09:45:40.530Z"
   },
   {
    "duration": 19,
    "start_time": "2022-11-25T09:46:15.532Z"
   },
   {
    "duration": 38,
    "start_time": "2022-11-25T09:46:23.003Z"
   },
   {
    "duration": 7,
    "start_time": "2022-11-25T09:48:24.290Z"
   },
   {
    "duration": 16,
    "start_time": "2022-11-25T09:48:39.548Z"
   },
   {
    "duration": 13,
    "start_time": "2022-11-25T09:49:03.264Z"
   },
   {
    "duration": 33,
    "start_time": "2022-11-25T10:01:01.307Z"
   },
   {
    "duration": 9,
    "start_time": "2022-11-25T10:01:21.077Z"
   },
   {
    "duration": 31,
    "start_time": "2022-11-25T10:06:09.743Z"
   },
   {
    "duration": 28,
    "start_time": "2022-11-25T10:06:49.468Z"
   },
   {
    "duration": 47,
    "start_time": "2022-11-25T10:06:56.217Z"
   },
   {
    "duration": 30,
    "start_time": "2022-11-25T10:09:10.530Z"
   },
   {
    "duration": 51,
    "start_time": "2022-11-25T10:14:12.069Z"
   },
   {
    "duration": 45,
    "start_time": "2022-11-25T10:14:52.618Z"
   },
   {
    "duration": 33,
    "start_time": "2022-11-25T10:14:56.293Z"
   },
   {
    "duration": 32,
    "start_time": "2022-11-25T10:15:16.417Z"
   },
   {
    "duration": 46,
    "start_time": "2022-11-25T10:15:42.829Z"
   },
   {
    "duration": 32,
    "start_time": "2022-11-25T10:16:23.879Z"
   },
   {
    "duration": 31,
    "start_time": "2022-11-25T10:16:28.111Z"
   },
   {
    "duration": 34,
    "start_time": "2022-11-25T10:16:35.147Z"
   },
   {
    "duration": 31,
    "start_time": "2022-11-25T10:17:00.075Z"
   },
   {
    "duration": 45,
    "start_time": "2022-11-25T10:17:57.001Z"
   },
   {
    "duration": 34,
    "start_time": "2022-11-25T10:18:15.028Z"
   },
   {
    "duration": 37,
    "start_time": "2022-11-25T10:18:58.766Z"
   },
   {
    "duration": 45,
    "start_time": "2022-11-25T10:26:03.919Z"
   },
   {
    "duration": 33,
    "start_time": "2022-11-25T10:26:10.728Z"
   },
   {
    "duration": 46,
    "start_time": "2022-11-25T10:35:23.998Z"
   },
   {
    "duration": 49,
    "start_time": "2022-11-25T10:35:39.597Z"
   },
   {
    "duration": 33,
    "start_time": "2022-11-25T10:38:07.123Z"
   },
   {
    "duration": 30,
    "start_time": "2022-11-25T10:38:14.286Z"
   },
   {
    "duration": 54,
    "start_time": "2022-11-25T10:38:32.392Z"
   },
   {
    "duration": 32,
    "start_time": "2022-11-25T10:38:41.227Z"
   },
   {
    "duration": 48,
    "start_time": "2022-11-25T10:43:01.976Z"
   },
   {
    "duration": 54,
    "start_time": "2022-11-25T10:45:03.768Z"
   },
   {
    "duration": 47,
    "start_time": "2022-11-25T10:47:45.157Z"
   },
   {
    "duration": 48,
    "start_time": "2022-11-25T10:51:12.496Z"
   },
   {
    "duration": 31,
    "start_time": "2022-11-25T10:51:26.554Z"
   },
   {
    "duration": 39,
    "start_time": "2022-11-25T10:51:34.574Z"
   },
   {
    "duration": 35,
    "start_time": "2022-11-25T10:54:53.045Z"
   },
   {
    "duration": 40,
    "start_time": "2022-11-25T10:56:11.842Z"
   },
   {
    "duration": 34,
    "start_time": "2022-11-25T10:57:44.184Z"
   },
   {
    "duration": 794,
    "start_time": "2022-11-25T10:58:58.003Z"
   },
   {
    "duration": 834,
    "start_time": "2022-11-25T10:59:21.004Z"
   },
   {
    "duration": 788,
    "start_time": "2022-11-25T10:59:27.933Z"
   },
   {
    "duration": 562,
    "start_time": "2022-11-25T10:59:33.012Z"
   },
   {
    "duration": 17,
    "start_time": "2022-11-25T10:59:33.577Z"
   },
   {
    "duration": 59,
    "start_time": "2022-11-25T10:59:33.598Z"
   },
   {
    "duration": 21,
    "start_time": "2022-11-25T10:59:33.659Z"
   },
   {
    "duration": 8,
    "start_time": "2022-11-25T10:59:33.682Z"
   },
   {
    "duration": 8,
    "start_time": "2022-11-25T10:59:33.692Z"
   },
   {
    "duration": 871,
    "start_time": "2022-11-25T10:59:33.702Z"
   },
   {
    "duration": 776,
    "start_time": "2022-11-25T10:59:39.190Z"
   },
   {
    "duration": 903,
    "start_time": "2022-11-25T11:00:08.520Z"
   },
   {
    "duration": 36,
    "start_time": "2022-11-25T11:08:30.992Z"
   },
   {
    "duration": 44,
    "start_time": "2022-11-25T11:08:58.766Z"
   },
   {
    "duration": 35,
    "start_time": "2022-11-25T11:09:34.161Z"
   },
   {
    "duration": 34,
    "start_time": "2022-11-25T11:09:45.557Z"
   },
   {
    "duration": 69,
    "start_time": "2022-11-25T12:13:08.072Z"
   },
   {
    "duration": 45,
    "start_time": "2022-11-25T12:13:21.072Z"
   },
   {
    "duration": 9,
    "start_time": "2022-11-25T13:18:32.024Z"
   },
   {
    "duration": 120,
    "start_time": "2022-11-25T13:18:46.450Z"
   },
   {
    "duration": 18,
    "start_time": "2022-11-25T13:22:22.824Z"
   },
   {
    "duration": 12,
    "start_time": "2022-11-25T13:22:43.278Z"
   },
   {
    "duration": 10,
    "start_time": "2022-11-25T13:23:03.141Z"
   },
   {
    "duration": 10,
    "start_time": "2022-11-25T13:23:58.890Z"
   },
   {
    "duration": 16,
    "start_time": "2022-11-25T13:26:41.857Z"
   },
   {
    "duration": 125,
    "start_time": "2022-11-25T13:27:26.064Z"
   },
   {
    "duration": 23,
    "start_time": "2022-11-25T13:28:36.411Z"
   },
   {
    "duration": 8,
    "start_time": "2022-11-25T13:29:06.487Z"
   },
   {
    "duration": 13,
    "start_time": "2022-11-25T13:29:17.332Z"
   },
   {
    "duration": 139,
    "start_time": "2022-11-25T13:29:22.976Z"
   },
   {
    "duration": 141,
    "start_time": "2022-11-25T13:31:36.506Z"
   },
   {
    "duration": 146,
    "start_time": "2022-11-25T13:31:44.926Z"
   },
   {
    "duration": 173,
    "start_time": "2022-11-25T13:33:10.050Z"
   },
   {
    "duration": 160,
    "start_time": "2022-11-25T13:33:16.136Z"
   },
   {
    "duration": 134,
    "start_time": "2022-11-25T13:33:30.062Z"
   },
   {
    "duration": 143,
    "start_time": "2022-11-25T13:34:10.915Z"
   },
   {
    "duration": 139,
    "start_time": "2022-11-25T13:34:26.296Z"
   },
   {
    "duration": 160,
    "start_time": "2022-11-25T13:34:39.559Z"
   },
   {
    "duration": 182,
    "start_time": "2022-11-25T13:35:00.743Z"
   },
   {
    "duration": 135,
    "start_time": "2022-11-25T13:36:04.686Z"
   },
   {
    "duration": 137,
    "start_time": "2022-11-25T13:36:27.363Z"
   },
   {
    "duration": 129,
    "start_time": "2022-11-25T13:37:45.287Z"
   },
   {
    "duration": 141,
    "start_time": "2022-11-25T13:37:56.564Z"
   },
   {
    "duration": 153,
    "start_time": "2022-11-25T13:40:00.978Z"
   },
   {
    "duration": 157,
    "start_time": "2022-11-25T13:44:18.961Z"
   },
   {
    "duration": 144,
    "start_time": "2022-11-25T13:44:40.752Z"
   },
   {
    "duration": 149,
    "start_time": "2022-11-25T13:44:48.842Z"
   },
   {
    "duration": 143,
    "start_time": "2022-11-25T13:44:59.815Z"
   },
   {
    "duration": 184,
    "start_time": "2022-11-25T13:45:09.665Z"
   },
   {
    "duration": 165,
    "start_time": "2022-11-25T13:45:21.262Z"
   },
   {
    "duration": 146,
    "start_time": "2022-11-25T13:45:31.397Z"
   },
   {
    "duration": 143,
    "start_time": "2022-11-25T13:45:59.990Z"
   },
   {
    "duration": 135,
    "start_time": "2022-11-25T13:48:21.572Z"
   },
   {
    "duration": 148,
    "start_time": "2022-11-25T13:54:27.181Z"
   },
   {
    "duration": 153,
    "start_time": "2022-11-25T13:55:12.904Z"
   },
   {
    "duration": 170,
    "start_time": "2022-11-25T13:55:41.923Z"
   },
   {
    "duration": 140,
    "start_time": "2022-11-25T13:56:28.222Z"
   },
   {
    "duration": 146,
    "start_time": "2022-11-25T14:59:07.550Z"
   },
   {
    "duration": 146,
    "start_time": "2022-11-25T14:59:15.343Z"
   },
   {
    "duration": 805,
    "start_time": "2022-11-25T15:01:30.649Z"
   },
   {
    "duration": 1465,
    "start_time": "2022-11-25T15:02:02.215Z"
   },
   {
    "duration": 358,
    "start_time": "2022-11-25T15:02:10.767Z"
   },
   {
    "duration": 321,
    "start_time": "2022-11-25T15:02:32.623Z"
   },
   {
    "duration": 316,
    "start_time": "2022-11-25T15:03:20.705Z"
   },
   {
    "duration": 344,
    "start_time": "2022-11-25T15:03:34.350Z"
   },
   {
    "duration": 420,
    "start_time": "2022-11-25T15:03:46.692Z"
   },
   {
    "duration": 424,
    "start_time": "2022-11-25T15:03:53.896Z"
   },
   {
    "duration": 499,
    "start_time": "2022-11-25T15:04:22.663Z"
   },
   {
    "duration": 319,
    "start_time": "2022-11-25T15:04:33.501Z"
   },
   {
    "duration": 308,
    "start_time": "2022-11-25T15:04:44.571Z"
   },
   {
    "duration": 378,
    "start_time": "2022-11-25T15:04:49.483Z"
   },
   {
    "duration": 301,
    "start_time": "2022-11-25T15:04:55.015Z"
   },
   {
    "duration": 514,
    "start_time": "2022-11-25T15:04:59.115Z"
   },
   {
    "duration": 345,
    "start_time": "2022-11-25T15:05:02.698Z"
   },
   {
    "duration": 381,
    "start_time": "2022-11-25T15:05:07.304Z"
   },
   {
    "duration": 417,
    "start_time": "2022-11-25T15:05:29.309Z"
   },
   {
    "duration": 425,
    "start_time": "2022-11-25T15:05:42.606Z"
   },
   {
    "duration": 293,
    "start_time": "2022-11-25T15:05:53.168Z"
   },
   {
    "duration": 146,
    "start_time": "2022-11-25T15:08:24.120Z"
   },
   {
    "duration": 166,
    "start_time": "2022-11-25T15:15:04.393Z"
   },
   {
    "duration": 17,
    "start_time": "2022-11-25T15:16:57.953Z"
   },
   {
    "duration": 6,
    "start_time": "2022-11-25T15:17:07.970Z"
   },
   {
    "duration": 50,
    "start_time": "2022-11-25T15:17:19.670Z"
   },
   {
    "duration": 57,
    "start_time": "2022-11-25T15:17:23.679Z"
   },
   {
    "duration": 4,
    "start_time": "2022-11-25T15:18:35.792Z"
   },
   {
    "duration": 64,
    "start_time": "2022-11-25T15:18:48.729Z"
   },
   {
    "duration": 9,
    "start_time": "2022-11-25T15:22:05.303Z"
   },
   {
    "duration": 73,
    "start_time": "2022-11-25T15:22:12.883Z"
   },
   {
    "duration": 524,
    "start_time": "2022-11-25T15:22:39.256Z"
   },
   {
    "duration": 13,
    "start_time": "2022-11-25T15:22:39.782Z"
   },
   {
    "duration": 48,
    "start_time": "2022-11-25T15:22:39.797Z"
   },
   {
    "duration": 43,
    "start_time": "2022-11-25T15:22:39.847Z"
   },
   {
    "duration": 8,
    "start_time": "2022-11-25T15:22:39.891Z"
   },
   {
    "duration": 15,
    "start_time": "2022-11-25T15:22:39.900Z"
   },
   {
    "duration": 80,
    "start_time": "2022-11-25T15:22:39.917Z"
   },
   {
    "duration": 153,
    "start_time": "2022-11-25T15:22:39.998Z"
   },
   {
    "duration": 155,
    "start_time": "2022-11-25T15:22:40.154Z"
   },
   {
    "duration": 149,
    "start_time": "2022-11-25T15:22:44.007Z"
   },
   {
    "duration": 20,
    "start_time": "2022-11-25T15:23:44.899Z"
   },
   {
    "duration": 12,
    "start_time": "2022-11-25T15:24:34.292Z"
   },
   {
    "duration": 37,
    "start_time": "2022-11-25T15:24:47.184Z"
   },
   {
    "duration": 67,
    "start_time": "2022-11-25T15:24:54.803Z"
   },
   {
    "duration": 138,
    "start_time": "2022-11-25T15:25:17.412Z"
   },
   {
    "duration": 145,
    "start_time": "2022-11-25T15:26:26.908Z"
   },
   {
    "duration": 127,
    "start_time": "2022-11-25T15:31:07.534Z"
   },
   {
    "duration": 25,
    "start_time": "2022-11-25T15:33:26.823Z"
   },
   {
    "duration": 4,
    "start_time": "2022-11-25T15:37:31.655Z"
   },
   {
    "duration": 43,
    "start_time": "2022-11-28T08:37:31.898Z"
   },
   {
    "duration": 6,
    "start_time": "2022-11-28T08:37:48.918Z"
   },
   {
    "duration": 7,
    "start_time": "2022-11-28T08:37:54.970Z"
   },
   {
    "duration": 567,
    "start_time": "2022-11-28T08:37:59.788Z"
   },
   {
    "duration": 13,
    "start_time": "2022-11-28T08:38:00.358Z"
   },
   {
    "duration": 40,
    "start_time": "2022-11-28T08:38:00.373Z"
   },
   {
    "duration": 44,
    "start_time": "2022-11-28T08:38:00.415Z"
   },
   {
    "duration": 8,
    "start_time": "2022-11-28T08:38:00.461Z"
   },
   {
    "duration": 16,
    "start_time": "2022-11-28T08:38:00.470Z"
   },
   {
    "duration": 57,
    "start_time": "2022-11-28T08:38:00.487Z"
   },
   {
    "duration": 171,
    "start_time": "2022-11-28T08:38:00.546Z"
   },
   {
    "duration": 127,
    "start_time": "2022-11-28T08:38:00.719Z"
   },
   {
    "duration": 31,
    "start_time": "2022-11-28T08:38:00.848Z"
   },
   {
    "duration": 5,
    "start_time": "2022-11-28T08:38:00.880Z"
   },
   {
    "duration": 132,
    "start_time": "2022-11-28T08:39:02.000Z"
   },
   {
    "duration": 280,
    "start_time": "2022-11-28T08:39:23.907Z"
   },
   {
    "duration": 256,
    "start_time": "2022-11-28T08:39:43.277Z"
   },
   {
    "duration": 153,
    "start_time": "2022-11-28T08:40:00.120Z"
   },
   {
    "duration": 252,
    "start_time": "2022-11-28T08:40:21.917Z"
   },
   {
    "duration": 317,
    "start_time": "2022-11-28T08:40:33.469Z"
   },
   {
    "duration": 285,
    "start_time": "2022-11-28T08:40:45.628Z"
   },
   {
    "duration": 246,
    "start_time": "2022-11-28T08:40:54.709Z"
   },
   {
    "duration": 264,
    "start_time": "2022-11-28T08:41:05.785Z"
   },
   {
    "duration": 265,
    "start_time": "2022-11-28T08:41:14.538Z"
   },
   {
    "duration": 322,
    "start_time": "2022-11-28T08:41:50.159Z"
   },
   {
    "duration": 157,
    "start_time": "2022-11-28T08:42:05.795Z"
   },
   {
    "duration": 150,
    "start_time": "2022-11-28T08:42:15.665Z"
   },
   {
    "duration": 153,
    "start_time": "2022-11-28T08:42:21.288Z"
   },
   {
    "duration": 151,
    "start_time": "2022-11-28T08:42:26.817Z"
   },
   {
    "duration": 25,
    "start_time": "2022-11-28T08:43:07.890Z"
   },
   {
    "duration": 23,
    "start_time": "2022-11-28T08:43:16.707Z"
   },
   {
    "duration": 25,
    "start_time": "2022-11-28T08:43:29.193Z"
   },
   {
    "duration": 25,
    "start_time": "2022-11-28T08:43:38.068Z"
   },
   {
    "duration": 18,
    "start_time": "2022-11-28T08:43:53.604Z"
   },
   {
    "duration": 149,
    "start_time": "2022-11-28T08:43:57.951Z"
   },
   {
    "duration": 150,
    "start_time": "2022-11-28T08:44:06.204Z"
   },
   {
    "duration": 70,
    "start_time": "2022-11-28T09:56:23.449Z"
   },
   {
    "duration": 162,
    "start_time": "2022-11-28T09:56:31.062Z"
   },
   {
    "duration": 4,
    "start_time": "2022-11-28T09:56:55.587Z"
   },
   {
    "duration": 151,
    "start_time": "2022-11-28T09:57:02.458Z"
   },
   {
    "duration": 146,
    "start_time": "2022-11-28T09:57:11.993Z"
   },
   {
    "duration": 167,
    "start_time": "2022-11-28T09:57:30.941Z"
   },
   {
    "duration": 148,
    "start_time": "2022-11-28T09:57:39.088Z"
   },
   {
    "duration": 146,
    "start_time": "2022-11-28T09:57:47.268Z"
   },
   {
    "duration": 166,
    "start_time": "2022-11-28T09:58:01.569Z"
   },
   {
    "duration": 179,
    "start_time": "2022-11-28T09:58:37.201Z"
   },
   {
    "duration": 148,
    "start_time": "2022-11-28T10:01:46.347Z"
   },
   {
    "duration": 3,
    "start_time": "2022-11-28T10:02:47.588Z"
   },
   {
    "duration": 3,
    "start_time": "2022-11-28T10:02:54.691Z"
   },
   {
    "duration": 140,
    "start_time": "2022-11-28T10:02:57.509Z"
   },
   {
    "duration": 134,
    "start_time": "2022-11-28T10:03:03.563Z"
   },
   {
    "duration": 69,
    "start_time": "2022-11-28T10:03:11.739Z"
   },
   {
    "duration": 4,
    "start_time": "2022-11-28T10:03:22.190Z"
   },
   {
    "duration": 134,
    "start_time": "2022-11-28T10:03:35.992Z"
   },
   {
    "duration": 65,
    "start_time": "2022-11-28T10:03:55.325Z"
   },
   {
    "duration": 68,
    "start_time": "2022-11-28T10:04:01.712Z"
   },
   {
    "duration": 106,
    "start_time": "2022-11-28T10:04:05.197Z"
   },
   {
    "duration": 141,
    "start_time": "2022-11-28T10:04:08.889Z"
   },
   {
    "duration": 158,
    "start_time": "2022-11-28T10:04:50.581Z"
   },
   {
    "duration": 8,
    "start_time": "2022-11-28T10:34:43.572Z"
   },
   {
    "duration": 912,
    "start_time": "2022-11-28T10:35:00.661Z"
   },
   {
    "duration": 7,
    "start_time": "2022-11-28T10:35:01.575Z"
   },
   {
    "duration": 86,
    "start_time": "2022-11-28T10:35:01.584Z"
   },
   {
    "duration": 0,
    "start_time": "2022-11-28T10:35:01.672Z"
   },
   {
    "duration": 0,
    "start_time": "2022-11-28T10:35:01.673Z"
   },
   {
    "duration": 0,
    "start_time": "2022-11-28T10:35:01.674Z"
   },
   {
    "duration": 0,
    "start_time": "2022-11-28T10:35:01.674Z"
   },
   {
    "duration": 0,
    "start_time": "2022-11-28T10:35:01.676Z"
   },
   {
    "duration": 0,
    "start_time": "2022-11-28T10:35:01.677Z"
   },
   {
    "duration": 0,
    "start_time": "2022-11-28T10:35:01.677Z"
   },
   {
    "duration": 0,
    "start_time": "2022-11-28T10:35:01.678Z"
   },
   {
    "duration": 0,
    "start_time": "2022-11-28T10:35:01.680Z"
   },
   {
    "duration": 14,
    "start_time": "2022-11-28T10:37:13.775Z"
   },
   {
    "duration": 13,
    "start_time": "2022-11-28T10:37:36.041Z"
   },
   {
    "duration": 12,
    "start_time": "2022-11-28T10:37:46.570Z"
   },
   {
    "duration": 8,
    "start_time": "2022-11-28T10:38:48.447Z"
   },
   {
    "duration": 6,
    "start_time": "2022-11-28T10:42:36.165Z"
   },
   {
    "duration": 11,
    "start_time": "2022-11-28T10:42:40.184Z"
   },
   {
    "duration": 9,
    "start_time": "2022-11-28T10:43:25.837Z"
   },
   {
    "duration": 13,
    "start_time": "2022-11-28T10:43:31.190Z"
   },
   {
    "duration": 13,
    "start_time": "2022-11-28T10:43:49.094Z"
   },
   {
    "duration": 28,
    "start_time": "2022-11-28T10:44:01.698Z"
   },
   {
    "duration": 8,
    "start_time": "2022-11-28T10:44:04.274Z"
   },
   {
    "duration": 37,
    "start_time": "2022-11-28T10:44:55.078Z"
   },
   {
    "duration": 46,
    "start_time": "2022-11-28T10:45:25.600Z"
   },
   {
    "duration": 52,
    "start_time": "2022-11-28T10:46:27.453Z"
   },
   {
    "duration": 1191,
    "start_time": "2022-11-28T11:13:58.041Z"
   },
   {
    "duration": 7,
    "start_time": "2022-11-28T11:14:07.937Z"
   },
   {
    "duration": 7,
    "start_time": "2022-11-28T11:14:18.784Z"
   },
   {
    "duration": 8,
    "start_time": "2022-11-28T11:14:23.666Z"
   },
   {
    "duration": 8,
    "start_time": "2022-11-28T11:14:56.586Z"
   },
   {
    "duration": 724,
    "start_time": "2022-11-28T11:15:12.309Z"
   },
   {
    "duration": 8,
    "start_time": "2022-11-28T11:15:13.035Z"
   },
   {
    "duration": 46,
    "start_time": "2022-11-28T11:15:13.045Z"
   },
   {
    "duration": 30,
    "start_time": "2022-11-28T11:15:13.093Z"
   },
   {
    "duration": 35,
    "start_time": "2022-11-28T11:15:13.125Z"
   },
   {
    "duration": 17,
    "start_time": "2022-11-28T11:15:13.161Z"
   },
   {
    "duration": 10,
    "start_time": "2022-11-28T11:15:13.180Z"
   },
   {
    "duration": 33,
    "start_time": "2022-11-28T11:15:13.191Z"
   },
   {
    "duration": 64,
    "start_time": "2022-11-28T11:15:13.225Z"
   },
   {
    "duration": 0,
    "start_time": "2022-11-28T11:15:13.290Z"
   },
   {
    "duration": 0,
    "start_time": "2022-11-28T11:15:13.291Z"
   },
   {
    "duration": 0,
    "start_time": "2022-11-28T11:15:13.292Z"
   },
   {
    "duration": 8,
    "start_time": "2022-11-28T11:15:26.477Z"
   },
   {
    "duration": 20,
    "start_time": "2022-11-28T11:15:52.491Z"
   },
   {
    "duration": 1495,
    "start_time": "2022-11-28T11:16:23.034Z"
   },
   {
    "duration": 27,
    "start_time": "2022-11-28T11:16:37.660Z"
   },
   {
    "duration": 76,
    "start_time": "2022-11-28T11:18:27.353Z"
   },
   {
    "duration": 46,
    "start_time": "2022-11-28T11:19:36.724Z"
   },
   {
    "duration": 148,
    "start_time": "2022-11-28T11:20:32.635Z"
   },
   {
    "duration": 41,
    "start_time": "2022-11-28T11:23:44.028Z"
   },
   {
    "duration": 704,
    "start_time": "2022-11-28T11:24:18.526Z"
   },
   {
    "duration": 8,
    "start_time": "2022-11-28T11:24:19.231Z"
   },
   {
    "duration": 9,
    "start_time": "2022-11-28T11:24:19.241Z"
   },
   {
    "duration": 43,
    "start_time": "2022-11-28T11:24:19.252Z"
   },
   {
    "duration": 35,
    "start_time": "2022-11-28T11:24:19.296Z"
   },
   {
    "duration": 7,
    "start_time": "2022-11-28T11:24:19.332Z"
   },
   {
    "duration": 7,
    "start_time": "2022-11-28T11:24:19.341Z"
   },
   {
    "duration": 58,
    "start_time": "2022-11-28T11:24:19.349Z"
   },
   {
    "duration": 44,
    "start_time": "2022-11-28T11:24:19.408Z"
   },
   {
    "duration": 142,
    "start_time": "2022-11-28T11:24:19.454Z"
   },
   {
    "duration": 68,
    "start_time": "2022-11-28T11:24:19.598Z"
   },
   {
    "duration": 0,
    "start_time": "2022-11-28T11:24:19.678Z"
   },
   {
    "duration": 0,
    "start_time": "2022-11-28T11:24:19.679Z"
   },
   {
    "duration": 32,
    "start_time": "2022-11-28T11:24:43.190Z"
   },
   {
    "duration": 59,
    "start_time": "2022-11-28T11:25:08.049Z"
   },
   {
    "duration": 53,
    "start_time": "2022-11-28T11:25:44.097Z"
   },
   {
    "duration": 679,
    "start_time": "2022-11-28T11:25:51.839Z"
   },
   {
    "duration": 7,
    "start_time": "2022-11-28T11:25:52.520Z"
   },
   {
    "duration": 11,
    "start_time": "2022-11-28T11:25:52.529Z"
   },
   {
    "duration": 42,
    "start_time": "2022-11-28T11:25:52.541Z"
   },
   {
    "duration": 37,
    "start_time": "2022-11-28T11:25:52.584Z"
   },
   {
    "duration": 7,
    "start_time": "2022-11-28T11:25:52.622Z"
   },
   {
    "duration": 8,
    "start_time": "2022-11-28T11:25:52.630Z"
   },
   {
    "duration": 58,
    "start_time": "2022-11-28T11:25:52.640Z"
   },
   {
    "duration": 41,
    "start_time": "2022-11-28T11:25:52.699Z"
   },
   {
    "duration": 166,
    "start_time": "2022-11-28T11:25:52.742Z"
   },
   {
    "duration": 70,
    "start_time": "2022-11-28T11:25:52.909Z"
   },
   {
    "duration": 0,
    "start_time": "2022-11-28T11:25:52.980Z"
   },
   {
    "duration": 0,
    "start_time": "2022-11-28T11:25:52.981Z"
   },
   {
    "duration": 33,
    "start_time": "2022-11-28T11:26:23.336Z"
   },
   {
    "duration": 40,
    "start_time": "2022-11-28T11:26:26.776Z"
   },
   {
    "duration": 43,
    "start_time": "2022-11-28T11:27:02.738Z"
   },
   {
    "duration": 113,
    "start_time": "2022-11-28T11:27:18.762Z"
   },
   {
    "duration": 2,
    "start_time": "2022-11-28T11:27:25.134Z"
   },
   {
    "duration": 30,
    "start_time": "2022-11-28T11:27:27.322Z"
   },
   {
    "duration": 733,
    "start_time": "2022-11-28T11:27:34.007Z"
   },
   {
    "duration": 8,
    "start_time": "2022-11-28T11:27:34.741Z"
   },
   {
    "duration": 9,
    "start_time": "2022-11-28T11:27:34.751Z"
   },
   {
    "duration": 38,
    "start_time": "2022-11-28T11:27:34.762Z"
   },
   {
    "duration": 34,
    "start_time": "2022-11-28T11:27:34.802Z"
   },
   {
    "duration": 8,
    "start_time": "2022-11-28T11:27:34.837Z"
   },
   {
    "duration": 7,
    "start_time": "2022-11-28T11:27:34.847Z"
   },
   {
    "duration": 53,
    "start_time": "2022-11-28T11:27:34.855Z"
   },
   {
    "duration": 2,
    "start_time": "2022-11-28T11:27:34.909Z"
   },
   {
    "duration": 149,
    "start_time": "2022-11-28T11:27:34.913Z"
   },
   {
    "duration": 85,
    "start_time": "2022-11-28T11:27:35.063Z"
   },
   {
    "duration": 0,
    "start_time": "2022-11-28T11:27:35.150Z"
   },
   {
    "duration": 0,
    "start_time": "2022-11-28T11:27:35.151Z"
   },
   {
    "duration": 32,
    "start_time": "2022-11-28T11:27:58.239Z"
   },
   {
    "duration": 45,
    "start_time": "2022-11-28T11:28:09.394Z"
   },
   {
    "duration": 7,
    "start_time": "2022-11-28T11:34:17.548Z"
   },
   {
    "duration": 6,
    "start_time": "2022-11-28T11:34:48.865Z"
   },
   {
    "duration": 24,
    "start_time": "2022-11-28T11:34:55.714Z"
   },
   {
    "duration": 11,
    "start_time": "2022-11-28T11:36:07.546Z"
   },
   {
    "duration": 26,
    "start_time": "2022-11-28T11:36:39.267Z"
   },
   {
    "duration": 16,
    "start_time": "2022-11-28T11:37:06.545Z"
   },
   {
    "duration": 10,
    "start_time": "2022-11-28T11:37:36.364Z"
   },
   {
    "duration": 787,
    "start_time": "2022-11-28T11:38:03.353Z"
   },
   {
    "duration": 10,
    "start_time": "2022-11-28T11:38:04.142Z"
   },
   {
    "duration": 17,
    "start_time": "2022-11-28T11:38:04.153Z"
   },
   {
    "duration": 32,
    "start_time": "2022-11-28T11:38:04.171Z"
   },
   {
    "duration": 35,
    "start_time": "2022-11-28T11:38:04.206Z"
   },
   {
    "duration": 8,
    "start_time": "2022-11-28T11:38:04.243Z"
   },
   {
    "duration": 28,
    "start_time": "2022-11-28T11:38:04.253Z"
   },
   {
    "duration": 34,
    "start_time": "2022-11-28T11:38:04.283Z"
   },
   {
    "duration": 60,
    "start_time": "2022-11-28T11:38:04.318Z"
   },
   {
    "duration": 134,
    "start_time": "2022-11-28T11:38:04.380Z"
   },
   {
    "duration": 74,
    "start_time": "2022-11-28T11:38:04.515Z"
   },
   {
    "duration": 0,
    "start_time": "2022-11-28T11:38:04.591Z"
   },
   {
    "duration": 0,
    "start_time": "2022-11-28T11:38:04.592Z"
   },
   {
    "duration": 146,
    "start_time": "2022-11-28T11:38:19.440Z"
   },
   {
    "duration": 10,
    "start_time": "2022-11-28T11:38:26.834Z"
   },
   {
    "duration": 749,
    "start_time": "2022-11-28T11:38:51.148Z"
   },
   {
    "duration": 7,
    "start_time": "2022-11-28T11:38:51.899Z"
   },
   {
    "duration": 28,
    "start_time": "2022-11-28T11:38:51.907Z"
   },
   {
    "duration": 37,
    "start_time": "2022-11-28T11:38:51.936Z"
   },
   {
    "duration": 35,
    "start_time": "2022-11-28T11:38:51.975Z"
   },
   {
    "duration": 7,
    "start_time": "2022-11-28T11:38:52.011Z"
   },
   {
    "duration": 13,
    "start_time": "2022-11-28T11:38:52.019Z"
   },
   {
    "duration": 52,
    "start_time": "2022-11-28T11:38:52.033Z"
   },
   {
    "duration": 43,
    "start_time": "2022-11-28T11:38:52.087Z"
   },
   {
    "duration": 147,
    "start_time": "2022-11-28T11:38:52.131Z"
   },
   {
    "duration": 143,
    "start_time": "2022-11-28T11:38:52.279Z"
   },
   {
    "duration": 72,
    "start_time": "2022-11-28T11:38:52.424Z"
   },
   {
    "duration": 0,
    "start_time": "2022-11-28T11:38:52.497Z"
   },
   {
    "duration": 0,
    "start_time": "2022-11-28T11:38:52.499Z"
   },
   {
    "duration": 12,
    "start_time": "2022-11-28T11:38:56.170Z"
   },
   {
    "duration": 26,
    "start_time": "2022-11-28T11:39:13.639Z"
   },
   {
    "duration": 10,
    "start_time": "2022-11-28T11:39:26.037Z"
   },
   {
    "duration": 4,
    "start_time": "2022-11-28T11:39:29.256Z"
   },
   {
    "duration": 24,
    "start_time": "2022-11-28T11:39:31.599Z"
   },
   {
    "duration": 22,
    "start_time": "2022-11-28T11:42:10.042Z"
   },
   {
    "duration": 33,
    "start_time": "2022-11-28T11:42:28.670Z"
   },
   {
    "duration": 7,
    "start_time": "2022-11-28T11:46:14.723Z"
   },
   {
    "duration": 9,
    "start_time": "2022-11-28T11:46:19.258Z"
   },
   {
    "duration": 3,
    "start_time": "2022-11-28T11:46:30.801Z"
   },
   {
    "duration": 745,
    "start_time": "2022-11-28T11:46:37.951Z"
   },
   {
    "duration": 7,
    "start_time": "2022-11-28T11:46:38.699Z"
   },
   {
    "duration": 9,
    "start_time": "2022-11-28T11:46:38.708Z"
   },
   {
    "duration": 29,
    "start_time": "2022-11-28T11:46:38.719Z"
   },
   {
    "duration": 58,
    "start_time": "2022-11-28T11:46:38.750Z"
   },
   {
    "duration": 8,
    "start_time": "2022-11-28T11:46:38.810Z"
   },
   {
    "duration": 7,
    "start_time": "2022-11-28T11:46:38.820Z"
   },
   {
    "duration": 51,
    "start_time": "2022-11-28T11:46:38.829Z"
   },
   {
    "duration": 47,
    "start_time": "2022-11-28T11:46:38.882Z"
   },
   {
    "duration": 172,
    "start_time": "2022-11-28T11:46:38.931Z"
   },
   {
    "duration": 143,
    "start_time": "2022-11-28T11:46:39.105Z"
   },
   {
    "duration": 77,
    "start_time": "2022-11-28T11:46:39.250Z"
   },
   {
    "duration": 0,
    "start_time": "2022-11-28T11:46:39.330Z"
   },
   {
    "duration": 0,
    "start_time": "2022-11-28T11:46:39.331Z"
   },
   {
    "duration": 0,
    "start_time": "2022-11-28T11:46:39.332Z"
   },
   {
    "duration": 0,
    "start_time": "2022-11-28T11:46:39.333Z"
   },
   {
    "duration": 3,
    "start_time": "2022-11-28T11:46:42.388Z"
   },
   {
    "duration": 347,
    "start_time": "2022-11-28T11:46:43.857Z"
   },
   {
    "duration": 350,
    "start_time": "2022-11-28T11:49:46.177Z"
   },
   {
    "duration": 5,
    "start_time": "2022-11-28T11:52:21.726Z"
   },
   {
    "duration": 26,
    "start_time": "2022-11-28T11:52:28.799Z"
   },
   {
    "duration": 25,
    "start_time": "2022-11-28T11:55:06.200Z"
   },
   {
    "duration": 0,
    "start_time": "2022-11-28T12:05:49.059Z"
   },
   {
    "duration": 790,
    "start_time": "2022-11-28T12:06:25.967Z"
   },
   {
    "duration": 8,
    "start_time": "2022-11-28T12:06:26.759Z"
   },
   {
    "duration": 16,
    "start_time": "2022-11-28T12:06:26.768Z"
   },
   {
    "duration": 30,
    "start_time": "2022-11-28T12:06:26.786Z"
   },
   {
    "duration": 39,
    "start_time": "2022-11-28T12:06:26.818Z"
   },
   {
    "duration": 25,
    "start_time": "2022-11-28T12:06:26.859Z"
   },
   {
    "duration": 16,
    "start_time": "2022-11-28T12:06:26.885Z"
   },
   {
    "duration": 50,
    "start_time": "2022-11-28T12:06:26.902Z"
   },
   {
    "duration": 43,
    "start_time": "2022-11-28T12:06:26.954Z"
   },
   {
    "duration": 165,
    "start_time": "2022-11-28T12:06:26.999Z"
   },
   {
    "duration": 149,
    "start_time": "2022-11-28T12:06:27.166Z"
   },
   {
    "duration": 20,
    "start_time": "2022-11-28T12:06:27.316Z"
   },
   {
    "duration": 42,
    "start_time": "2022-11-28T12:06:27.338Z"
   },
   {
    "duration": 27,
    "start_time": "2022-11-28T12:06:27.382Z"
   },
   {
    "duration": 3,
    "start_time": "2022-11-28T12:06:27.410Z"
   },
   {
    "duration": 332,
    "start_time": "2022-11-28T12:06:27.414Z"
   },
   {
    "duration": 4,
    "start_time": "2022-11-28T12:06:27.747Z"
   },
   {
    "duration": 0,
    "start_time": "2022-11-28T12:06:49.799Z"
   },
   {
    "duration": 0,
    "start_time": "2022-11-28T12:06:49.803Z"
   },
   {
    "duration": 305,
    "start_time": "2022-11-28T12:07:24.596Z"
   },
   {
    "duration": 21517,
    "start_time": "2022-11-28T12:07:28.711Z"
   },
   {
    "duration": 21764,
    "start_time": "2022-11-28T12:07:51.937Z"
   },
   {
    "duration": 21740,
    "start_time": "2022-11-28T12:14:03.478Z"
   },
   {
    "duration": 11,
    "start_time": "2022-11-28T12:18:59.305Z"
   },
   {
    "duration": 259,
    "start_time": "2022-11-28T12:19:02.779Z"
   },
   {
    "duration": 222,
    "start_time": "2022-11-28T12:19:11.967Z"
   },
   {
    "duration": 194,
    "start_time": "2022-11-28T12:19:25.576Z"
   },
   {
    "duration": 66,
    "start_time": "2022-11-28T12:19:29.369Z"
   },
   {
    "duration": 99,
    "start_time": "2022-11-28T12:19:31.922Z"
   },
   {
    "duration": 786,
    "start_time": "2022-11-28T12:19:38.792Z"
   },
   {
    "duration": 155,
    "start_time": "2022-11-28T12:19:48.304Z"
   },
   {
    "duration": 182,
    "start_time": "2022-11-28T12:25:44.754Z"
   },
   {
    "duration": 163,
    "start_time": "2022-11-28T12:25:57.447Z"
   },
   {
    "duration": 165,
    "start_time": "2022-11-28T12:26:03.027Z"
   },
   {
    "duration": 174,
    "start_time": "2022-11-28T12:26:08.925Z"
   },
   {
    "duration": 177,
    "start_time": "2022-11-28T12:26:13.106Z"
   },
   {
    "duration": 213,
    "start_time": "2022-11-28T12:26:23.690Z"
   },
   {
    "duration": 133,
    "start_time": "2022-11-28T12:26:29.927Z"
   },
   {
    "duration": 139,
    "start_time": "2022-11-28T12:26:38.934Z"
   },
   {
    "duration": 233,
    "start_time": "2022-11-28T12:26:44.340Z"
   },
   {
    "duration": 149,
    "start_time": "2022-11-28T12:26:56.068Z"
   },
   {
    "duration": 183,
    "start_time": "2022-11-28T12:27:12.890Z"
   },
   {
    "duration": 176,
    "start_time": "2022-11-28T12:32:13.320Z"
   },
   {
    "duration": 220,
    "start_time": "2022-11-28T12:32:19.338Z"
   },
   {
    "duration": 2269,
    "start_time": "2022-11-28T12:32:25.041Z"
   },
   {
    "duration": 361,
    "start_time": "2022-11-28T12:32:30.403Z"
   },
   {
    "duration": 288,
    "start_time": "2022-11-28T12:32:34.568Z"
   },
   {
    "duration": 164,
    "start_time": "2022-11-28T12:32:42.189Z"
   },
   {
    "duration": 161,
    "start_time": "2022-11-28T12:33:08.300Z"
   },
   {
    "duration": 153,
    "start_time": "2022-11-28T12:33:18.211Z"
   },
   {
    "duration": 185,
    "start_time": "2022-11-28T12:33:21.716Z"
   },
   {
    "duration": 203,
    "start_time": "2022-11-28T12:33:28.089Z"
   },
   {
    "duration": 221,
    "start_time": "2022-11-28T12:33:34.889Z"
   },
   {
    "duration": 218,
    "start_time": "2022-11-28T12:33:38.593Z"
   },
   {
    "duration": 1922,
    "start_time": "2022-11-28T12:33:43.668Z"
   },
   {
    "duration": 144,
    "start_time": "2022-11-28T12:34:06.508Z"
   },
   {
    "duration": 168,
    "start_time": "2022-11-28T12:34:10.396Z"
   },
   {
    "duration": 169,
    "start_time": "2022-11-28T12:36:48.595Z"
   },
   {
    "duration": 176,
    "start_time": "2022-11-28T12:37:24.425Z"
   },
   {
    "duration": 171,
    "start_time": "2022-11-28T12:37:41.928Z"
   },
   {
    "duration": 168,
    "start_time": "2022-11-28T12:37:48.490Z"
   },
   {
    "duration": 171,
    "start_time": "2022-11-28T12:43:16.358Z"
   },
   {
    "duration": 160,
    "start_time": "2022-11-28T12:44:18.230Z"
   },
   {
    "duration": 172,
    "start_time": "2022-11-28T12:44:22.353Z"
   },
   {
    "duration": 672,
    "start_time": "2022-11-28T12:46:01.750Z"
   },
   {
    "duration": 163,
    "start_time": "2022-11-28T12:46:07.509Z"
   },
   {
    "duration": 181,
    "start_time": "2022-11-28T12:47:14.029Z"
   },
   {
    "duration": 150,
    "start_time": "2022-11-28T12:47:19.290Z"
   },
   {
    "duration": 155,
    "start_time": "2022-11-28T12:49:52.031Z"
   },
   {
    "duration": 169,
    "start_time": "2022-11-28T12:50:02.094Z"
   },
   {
    "duration": 454,
    "start_time": "2022-11-28T12:50:09.526Z"
   },
   {
    "duration": 302,
    "start_time": "2022-11-28T12:50:23.877Z"
   },
   {
    "duration": 343,
    "start_time": "2022-11-28T12:50:31.437Z"
   },
   {
    "duration": 188,
    "start_time": "2022-11-28T12:50:52.138Z"
   },
   {
    "duration": 204,
    "start_time": "2022-11-28T12:50:58.996Z"
   },
   {
    "duration": 222,
    "start_time": "2022-11-28T12:51:02.378Z"
   },
   {
    "duration": 170,
    "start_time": "2022-11-28T12:51:04.922Z"
   },
   {
    "duration": 185,
    "start_time": "2022-11-28T12:51:10.128Z"
   },
   {
    "duration": 171,
    "start_time": "2022-11-28T12:51:13.319Z"
   },
   {
    "duration": 171,
    "start_time": "2022-11-28T12:51:16.031Z"
   },
   {
    "duration": 19,
    "start_time": "2022-11-28T12:54:12.584Z"
   },
   {
    "duration": 739,
    "start_time": "2022-11-28T12:54:21.246Z"
   },
   {
    "duration": 8,
    "start_time": "2022-11-28T12:54:21.988Z"
   },
   {
    "duration": 10,
    "start_time": "2022-11-28T12:54:21.997Z"
   },
   {
    "duration": 94,
    "start_time": "2022-11-28T12:54:22.010Z"
   },
   {
    "duration": 0,
    "start_time": "2022-11-28T12:54:22.106Z"
   },
   {
    "duration": 0,
    "start_time": "2022-11-28T12:54:22.108Z"
   },
   {
    "duration": 0,
    "start_time": "2022-11-28T12:54:22.109Z"
   },
   {
    "duration": 0,
    "start_time": "2022-11-28T12:54:22.111Z"
   },
   {
    "duration": 0,
    "start_time": "2022-11-28T12:54:22.112Z"
   },
   {
    "duration": 0,
    "start_time": "2022-11-28T12:54:22.114Z"
   },
   {
    "duration": 0,
    "start_time": "2022-11-28T12:54:22.115Z"
   },
   {
    "duration": 0,
    "start_time": "2022-11-28T12:54:22.116Z"
   },
   {
    "duration": 0,
    "start_time": "2022-11-28T12:54:22.118Z"
   },
   {
    "duration": 0,
    "start_time": "2022-11-28T12:54:22.119Z"
   },
   {
    "duration": 0,
    "start_time": "2022-11-28T12:54:22.121Z"
   },
   {
    "duration": 0,
    "start_time": "2022-11-28T12:54:22.122Z"
   },
   {
    "duration": 0,
    "start_time": "2022-11-28T12:54:22.123Z"
   },
   {
    "duration": 0,
    "start_time": "2022-11-28T12:54:22.124Z"
   },
   {
    "duration": 1,
    "start_time": "2022-11-28T12:54:22.125Z"
   },
   {
    "duration": 0,
    "start_time": "2022-11-28T12:54:22.127Z"
   },
   {
    "duration": 0,
    "start_time": "2022-11-28T12:54:22.128Z"
   },
   {
    "duration": 26,
    "start_time": "2022-11-28T12:55:14.167Z"
   },
   {
    "duration": 189,
    "start_time": "2022-11-28T12:55:23.258Z"
   },
   {
    "duration": 23,
    "start_time": "2022-11-28T12:55:31.178Z"
   },
   {
    "duration": 14,
    "start_time": "2022-11-28T12:55:42.681Z"
   },
   {
    "duration": 743,
    "start_time": "2022-11-28T12:56:00.796Z"
   },
   {
    "duration": 7,
    "start_time": "2022-11-28T12:56:01.541Z"
   },
   {
    "duration": 9,
    "start_time": "2022-11-28T12:56:01.549Z"
   },
   {
    "duration": 96,
    "start_time": "2022-11-28T12:56:01.560Z"
   },
   {
    "duration": 0,
    "start_time": "2022-11-28T12:56:01.658Z"
   },
   {
    "duration": 0,
    "start_time": "2022-11-28T12:56:01.660Z"
   },
   {
    "duration": 0,
    "start_time": "2022-11-28T12:56:01.661Z"
   },
   {
    "duration": 0,
    "start_time": "2022-11-28T12:56:01.663Z"
   },
   {
    "duration": 0,
    "start_time": "2022-11-28T12:56:01.664Z"
   },
   {
    "duration": 0,
    "start_time": "2022-11-28T12:56:01.665Z"
   },
   {
    "duration": 0,
    "start_time": "2022-11-28T12:56:01.666Z"
   },
   {
    "duration": 0,
    "start_time": "2022-11-28T12:56:01.666Z"
   },
   {
    "duration": 0,
    "start_time": "2022-11-28T12:56:01.667Z"
   },
   {
    "duration": 0,
    "start_time": "2022-11-28T12:56:01.668Z"
   },
   {
    "duration": 0,
    "start_time": "2022-11-28T12:56:01.678Z"
   },
   {
    "duration": 0,
    "start_time": "2022-11-28T12:56:01.679Z"
   },
   {
    "duration": 0,
    "start_time": "2022-11-28T12:56:01.681Z"
   },
   {
    "duration": 0,
    "start_time": "2022-11-28T12:56:01.682Z"
   },
   {
    "duration": 0,
    "start_time": "2022-11-28T12:56:01.683Z"
   },
   {
    "duration": 0,
    "start_time": "2022-11-28T12:56:01.684Z"
   },
   {
    "duration": 0,
    "start_time": "2022-11-28T12:56:01.685Z"
   },
   {
    "duration": 21,
    "start_time": "2022-11-28T12:56:20.140Z"
   },
   {
    "duration": 27,
    "start_time": "2022-11-28T12:56:32.038Z"
   },
   {
    "duration": 20,
    "start_time": "2022-11-28T12:56:41.802Z"
   },
   {
    "duration": 720,
    "start_time": "2022-11-28T12:56:46.296Z"
   },
   {
    "duration": 8,
    "start_time": "2022-11-28T12:56:47.018Z"
   },
   {
    "duration": 12,
    "start_time": "2022-11-28T12:56:47.027Z"
   },
   {
    "duration": 44,
    "start_time": "2022-11-28T12:56:47.042Z"
   },
   {
    "duration": 37,
    "start_time": "2022-11-28T12:56:47.087Z"
   },
   {
    "duration": 8,
    "start_time": "2022-11-28T12:56:47.125Z"
   },
   {
    "duration": 9,
    "start_time": "2022-11-28T12:56:47.135Z"
   },
   {
    "duration": 56,
    "start_time": "2022-11-28T12:56:47.145Z"
   },
   {
    "duration": 46,
    "start_time": "2022-11-28T12:56:47.202Z"
   },
   {
    "duration": 150,
    "start_time": "2022-11-28T12:56:47.251Z"
   },
   {
    "duration": 155,
    "start_time": "2022-11-28T12:56:47.403Z"
   },
   {
    "duration": 29,
    "start_time": "2022-11-28T12:56:47.560Z"
   },
   {
    "duration": 22,
    "start_time": "2022-11-28T12:56:47.590Z"
   },
   {
    "duration": 24,
    "start_time": "2022-11-28T12:56:47.613Z"
   },
   {
    "duration": 3,
    "start_time": "2022-11-28T12:56:47.638Z"
   },
   {
    "duration": 334,
    "start_time": "2022-11-28T12:56:47.643Z"
   },
   {
    "duration": 3,
    "start_time": "2022-11-28T12:56:47.979Z"
   },
   {
    "duration": 172,
    "start_time": "2022-11-28T12:56:47.983Z"
   },
   {
    "duration": 235,
    "start_time": "2022-11-28T12:56:48.157Z"
   },
   {
    "duration": 176,
    "start_time": "2022-11-28T12:56:48.393Z"
   },
   {
    "duration": 190,
    "start_time": "2022-11-28T12:56:48.571Z"
   },
   {
    "duration": 24,
    "start_time": "2022-11-28T12:57:03.242Z"
   },
   {
    "duration": 170,
    "start_time": "2022-11-28T12:57:23.657Z"
   },
   {
    "duration": 687,
    "start_time": "2022-11-28T12:57:35.531Z"
   },
   {
    "duration": 9,
    "start_time": "2022-11-28T12:57:36.220Z"
   },
   {
    "duration": 11,
    "start_time": "2022-11-28T12:57:36.231Z"
   },
   {
    "duration": 42,
    "start_time": "2022-11-28T12:57:36.243Z"
   },
   {
    "duration": 36,
    "start_time": "2022-11-28T12:57:36.287Z"
   },
   {
    "duration": 7,
    "start_time": "2022-11-28T12:57:36.325Z"
   },
   {
    "duration": 9,
    "start_time": "2022-11-28T12:57:36.333Z"
   },
   {
    "duration": 57,
    "start_time": "2022-11-28T12:57:36.343Z"
   },
   {
    "duration": 45,
    "start_time": "2022-11-28T12:57:36.402Z"
   },
   {
    "duration": 151,
    "start_time": "2022-11-28T12:57:36.449Z"
   },
   {
    "duration": 150,
    "start_time": "2022-11-28T12:57:36.601Z"
   },
   {
    "duration": 26,
    "start_time": "2022-11-28T12:57:36.753Z"
   },
   {
    "duration": 23,
    "start_time": "2022-11-28T12:57:36.780Z"
   },
   {
    "duration": 25,
    "start_time": "2022-11-28T12:57:36.805Z"
   },
   {
    "duration": 3,
    "start_time": "2022-11-28T12:57:36.832Z"
   },
   {
    "duration": 362,
    "start_time": "2022-11-28T12:57:36.836Z"
   },
   {
    "duration": 4,
    "start_time": "2022-11-28T12:57:37.200Z"
   },
   {
    "duration": 202,
    "start_time": "2022-11-28T12:57:37.205Z"
   },
   {
    "duration": 225,
    "start_time": "2022-11-28T12:57:37.408Z"
   },
   {
    "duration": 181,
    "start_time": "2022-11-28T12:57:37.634Z"
   },
   {
    "duration": 185,
    "start_time": "2022-11-28T12:57:37.817Z"
   },
   {
    "duration": 192,
    "start_time": "2022-11-28T12:57:52.806Z"
   },
   {
    "duration": 152,
    "start_time": "2022-11-28T12:57:57.911Z"
   },
   {
    "duration": 235,
    "start_time": "2022-11-28T12:58:11.122Z"
   },
   {
    "duration": 130,
    "start_time": "2022-11-28T12:58:25.536Z"
   },
   {
    "duration": 147,
    "start_time": "2022-11-28T12:58:31.910Z"
   },
   {
    "duration": 70,
    "start_time": "2022-11-28T12:59:18.681Z"
   },
   {
    "duration": 224,
    "start_time": "2022-11-28T12:59:21.335Z"
   },
   {
    "duration": 166,
    "start_time": "2022-11-28T12:59:25.555Z"
   },
   {
    "duration": 128,
    "start_time": "2022-11-28T13:03:25.263Z"
   },
   {
    "duration": 151,
    "start_time": "2022-11-28T13:03:31.091Z"
   },
   {
    "duration": 157,
    "start_time": "2022-11-28T13:03:35.168Z"
   },
   {
    "duration": 153,
    "start_time": "2022-11-28T13:03:39.606Z"
   },
   {
    "duration": 140,
    "start_time": "2022-11-28T13:03:45.159Z"
   },
   {
    "duration": 132,
    "start_time": "2022-11-28T13:03:55.110Z"
   },
   {
    "duration": 169,
    "start_time": "2022-11-28T13:04:09.990Z"
   },
   {
    "duration": 176,
    "start_time": "2022-11-28T13:04:14.026Z"
   },
   {
    "duration": 134,
    "start_time": "2022-11-28T13:04:17.651Z"
   },
   {
    "duration": 235,
    "start_time": "2022-11-28T13:04:20.173Z"
   },
   {
    "duration": 150,
    "start_time": "2022-11-28T13:04:23.646Z"
   },
   {
    "duration": 135,
    "start_time": "2022-11-28T13:04:27.185Z"
   },
   {
    "duration": 140,
    "start_time": "2022-11-28T13:04:31.945Z"
   },
   {
    "duration": 140,
    "start_time": "2022-11-28T13:04:40.402Z"
   },
   {
    "duration": 158,
    "start_time": "2022-11-28T13:04:44.022Z"
   },
   {
    "duration": 130,
    "start_time": "2022-11-28T13:04:46.661Z"
   },
   {
    "duration": 122,
    "start_time": "2022-11-28T13:04:54.840Z"
   },
   {
    "duration": 121,
    "start_time": "2022-11-28T13:04:57.361Z"
   },
   {
    "duration": 120,
    "start_time": "2022-11-28T13:05:02.150Z"
   },
   {
    "duration": 138,
    "start_time": "2022-11-28T13:05:06.968Z"
   },
   {
    "duration": 119,
    "start_time": "2022-11-28T13:05:12.201Z"
   },
   {
    "duration": 143,
    "start_time": "2022-11-28T13:05:20.091Z"
   },
   {
    "duration": 130,
    "start_time": "2022-11-28T13:05:25.325Z"
   },
   {
    "duration": 232,
    "start_time": "2022-11-28T13:05:28.055Z"
   },
   {
    "duration": 154,
    "start_time": "2022-11-28T13:05:30.398Z"
   },
   {
    "duration": 155,
    "start_time": "2022-11-28T13:05:32.767Z"
   },
   {
    "duration": 129,
    "start_time": "2022-11-28T13:05:35.249Z"
   },
   {
    "duration": 135,
    "start_time": "2022-11-28T13:05:41.156Z"
   },
   {
    "duration": 145,
    "start_time": "2022-11-28T13:05:45.426Z"
   },
   {
    "duration": 157,
    "start_time": "2022-11-28T13:05:49.772Z"
   },
   {
    "duration": 156,
    "start_time": "2022-11-28T13:05:55.154Z"
   },
   {
    "duration": 153,
    "start_time": "2022-11-28T13:06:04.978Z"
   },
   {
    "duration": 115,
    "start_time": "2022-11-28T13:06:10.388Z"
   },
   {
    "duration": 163,
    "start_time": "2022-11-28T13:06:31.654Z"
   },
   {
    "duration": 171,
    "start_time": "2022-11-28T13:06:40.052Z"
   },
   {
    "duration": 155,
    "start_time": "2022-11-28T13:06:44.237Z"
   },
   {
    "duration": 137,
    "start_time": "2022-11-28T13:25:52.290Z"
   },
   {
    "duration": 112,
    "start_time": "2022-11-28T13:25:58.680Z"
   },
   {
    "duration": 109,
    "start_time": "2022-11-28T13:26:01.946Z"
   },
   {
    "duration": 258,
    "start_time": "2022-11-28T13:26:04.380Z"
   },
   {
    "duration": 109,
    "start_time": "2022-11-28T13:26:07.326Z"
   },
   {
    "duration": 137,
    "start_time": "2022-11-28T13:26:17.769Z"
   },
   {
    "duration": 133,
    "start_time": "2022-11-28T13:26:23.294Z"
   },
   {
    "duration": 94,
    "start_time": "2022-11-28T13:26:27.665Z"
   },
   {
    "duration": 127,
    "start_time": "2022-11-28T13:26:30.826Z"
   },
   {
    "duration": 140,
    "start_time": "2022-11-28T13:26:53.244Z"
   },
   {
    "duration": 140,
    "start_time": "2022-11-28T13:26:59.981Z"
   },
   {
    "duration": 176,
    "start_time": "2022-11-28T13:27:09.574Z"
   },
   {
    "duration": 165,
    "start_time": "2022-11-28T13:27:19.057Z"
   },
   {
    "duration": 145,
    "start_time": "2022-11-28T13:27:24.478Z"
   },
   {
    "duration": 132,
    "start_time": "2022-11-28T13:28:17.614Z"
   },
   {
    "duration": 126,
    "start_time": "2022-11-28T13:30:46.222Z"
   },
   {
    "duration": 148,
    "start_time": "2022-11-28T13:30:56.759Z"
   },
   {
    "duration": 123,
    "start_time": "2022-11-28T13:31:04.303Z"
   },
   {
    "duration": 139,
    "start_time": "2022-11-28T13:31:07.749Z"
   },
   {
    "duration": 132,
    "start_time": "2022-11-28T13:31:10.626Z"
   },
   {
    "duration": 131,
    "start_time": "2022-11-28T13:31:14.153Z"
   },
   {
    "duration": 179,
    "start_time": "2022-11-28T13:31:19.940Z"
   },
   {
    "duration": 141,
    "start_time": "2022-11-28T13:31:24.237Z"
   },
   {
    "duration": 52,
    "start_time": "2022-11-28T16:24:19.978Z"
   },
   {
    "duration": 7,
    "start_time": "2022-11-28T16:24:30.185Z"
   },
   {
    "duration": 7,
    "start_time": "2022-11-28T16:24:50.601Z"
   },
   {
    "duration": 1105,
    "start_time": "2022-11-28T16:24:58.904Z"
   },
   {
    "duration": 9,
    "start_time": "2022-11-28T16:25:00.011Z"
   },
   {
    "duration": 34,
    "start_time": "2022-11-28T16:25:00.021Z"
   },
   {
    "duration": 40,
    "start_time": "2022-11-28T16:25:00.059Z"
   },
   {
    "duration": 41,
    "start_time": "2022-11-28T16:25:00.101Z"
   },
   {
    "duration": 8,
    "start_time": "2022-11-28T16:25:00.144Z"
   },
   {
    "duration": 8,
    "start_time": "2022-11-28T16:25:00.176Z"
   },
   {
    "duration": 42,
    "start_time": "2022-11-28T16:25:00.186Z"
   },
   {
    "duration": 71,
    "start_time": "2022-11-28T16:25:00.230Z"
   },
   {
    "duration": 165,
    "start_time": "2022-11-28T16:25:00.304Z"
   },
   {
    "duration": 171,
    "start_time": "2022-11-28T16:25:00.471Z"
   },
   {
    "duration": 20,
    "start_time": "2022-11-28T16:25:00.643Z"
   },
   {
    "duration": 32,
    "start_time": "2022-11-28T16:25:00.677Z"
   },
   {
    "duration": 26,
    "start_time": "2022-11-28T16:25:00.711Z"
   },
   {
    "duration": 23,
    "start_time": "2022-11-28T16:25:00.739Z"
   },
   {
    "duration": 351,
    "start_time": "2022-11-28T16:25:00.764Z"
   },
   {
    "duration": 5,
    "start_time": "2022-11-28T16:25:01.116Z"
   },
   {
    "duration": 233,
    "start_time": "2022-11-28T16:25:01.123Z"
   },
   {
    "duration": 260,
    "start_time": "2022-11-28T16:25:01.357Z"
   },
   {
    "duration": 191,
    "start_time": "2022-11-28T16:25:01.619Z"
   },
   {
    "duration": 157,
    "start_time": "2022-11-28T16:25:01.812Z"
   },
   {
    "duration": 180,
    "start_time": "2022-11-28T16:25:01.971Z"
   },
   {
    "duration": 171,
    "start_time": "2022-11-28T16:25:02.153Z"
   },
   {
    "duration": 188,
    "start_time": "2022-11-28T16:25:07.047Z"
   },
   {
    "duration": 204,
    "start_time": "2022-11-28T16:27:24.830Z"
   },
   {
    "duration": 166,
    "start_time": "2022-11-28T16:27:44.475Z"
   },
   {
    "duration": 150,
    "start_time": "2022-11-28T16:28:11.710Z"
   },
   {
    "duration": 196,
    "start_time": "2022-11-28T16:28:37.248Z"
   },
   {
    "duration": 196,
    "start_time": "2022-11-28T16:28:44.072Z"
   },
   {
    "duration": 222,
    "start_time": "2022-11-28T16:37:12.640Z"
   },
   {
    "duration": 156,
    "start_time": "2022-11-28T16:37:17.512Z"
   },
   {
    "duration": 182,
    "start_time": "2022-11-28T16:37:23.153Z"
   },
   {
    "duration": 128,
    "start_time": "2022-11-28T16:37:30.562Z"
   },
   {
    "duration": 121,
    "start_time": "2022-11-28T16:37:35.132Z"
   },
   {
    "duration": 140,
    "start_time": "2022-11-28T16:40:58.870Z"
   },
   {
    "duration": 179,
    "start_time": "2022-11-28T16:41:07.588Z"
   },
   {
    "duration": 173,
    "start_time": "2022-11-28T16:41:16.165Z"
   },
   {
    "duration": 176,
    "start_time": "2022-11-28T16:42:49.109Z"
   },
   {
    "duration": 159,
    "start_time": "2022-11-28T16:42:53.693Z"
   },
   {
    "duration": 140,
    "start_time": "2022-11-28T16:49:05.746Z"
   },
   {
    "duration": 270,
    "start_time": "2022-11-28T16:49:15.214Z"
   },
   {
    "duration": 136,
    "start_time": "2022-11-28T16:49:21.312Z"
   },
   {
    "duration": 59,
    "start_time": "2022-11-28T17:01:01.250Z"
   },
   {
    "duration": 183,
    "start_time": "2022-11-28T17:02:14.912Z"
   },
   {
    "duration": 153,
    "start_time": "2022-11-28T17:02:31.202Z"
   },
   {
    "duration": 257,
    "start_time": "2022-11-28T17:02:34.890Z"
   },
   {
    "duration": 157,
    "start_time": "2022-11-28T17:02:39.069Z"
   },
   {
    "duration": 212,
    "start_time": "2022-11-28T17:02:42.726Z"
   },
   {
    "duration": 233,
    "start_time": "2022-11-28T17:02:46.235Z"
   },
   {
    "duration": 129,
    "start_time": "2022-11-28T17:02:50.441Z"
   },
   {
    "duration": 182,
    "start_time": "2022-11-28T17:02:54.906Z"
   },
   {
    "duration": 260,
    "start_time": "2022-11-28T17:04:37.756Z"
   },
   {
    "duration": 138,
    "start_time": "2022-11-28T17:04:50.293Z"
   },
   {
    "duration": 133,
    "start_time": "2022-11-28T17:05:26.245Z"
   },
   {
    "duration": 179,
    "start_time": "2022-11-28T17:05:35.374Z"
   },
   {
    "duration": 167,
    "start_time": "2022-11-28T17:05:41.491Z"
   },
   {
    "duration": 162,
    "start_time": "2022-11-28T17:05:46.199Z"
   },
   {
    "duration": 40,
    "start_time": "2022-11-28T17:06:44.137Z"
   },
   {
    "duration": 166,
    "start_time": "2022-11-28T17:07:30.556Z"
   },
   {
    "duration": 58,
    "start_time": "2022-11-28T17:08:13.829Z"
   },
   {
    "duration": 167,
    "start_time": "2022-11-28T17:08:33.786Z"
   },
   {
    "duration": 240,
    "start_time": "2022-11-28T17:12:51.972Z"
   },
   {
    "duration": 264,
    "start_time": "2022-11-28T17:13:04.328Z"
   },
   {
    "duration": 160,
    "start_time": "2022-11-28T17:13:26.609Z"
   },
   {
    "duration": 349,
    "start_time": "2022-11-28T17:13:33.302Z"
   },
   {
    "duration": 233,
    "start_time": "2022-11-28T17:13:41.556Z"
   },
   {
    "duration": 261,
    "start_time": "2022-11-28T17:13:44.790Z"
   },
   {
    "duration": 220,
    "start_time": "2022-11-28T17:13:48.043Z"
   },
   {
    "duration": 137,
    "start_time": "2022-11-28T17:13:54.604Z"
   },
   {
    "duration": 167,
    "start_time": "2022-11-28T17:16:10.893Z"
   },
   {
    "duration": 216,
    "start_time": "2022-11-28T17:16:24.763Z"
   },
   {
    "duration": 216,
    "start_time": "2022-11-28T17:16:29.375Z"
   },
   {
    "duration": 178,
    "start_time": "2022-11-28T17:17:53.534Z"
   },
   {
    "duration": 206,
    "start_time": "2022-11-28T17:18:08.113Z"
   },
   {
    "duration": 191,
    "start_time": "2022-11-28T17:18:12.440Z"
   },
   {
    "duration": 190,
    "start_time": "2022-11-28T17:18:16.025Z"
   },
   {
    "duration": 242,
    "start_time": "2022-11-28T17:18:35.038Z"
   },
   {
    "duration": 174,
    "start_time": "2022-11-28T17:19:11.197Z"
   },
   {
    "duration": 174,
    "start_time": "2022-11-28T17:19:13.467Z"
   },
   {
    "duration": 319,
    "start_time": "2022-11-28T17:19:24.372Z"
   },
   {
    "duration": 167,
    "start_time": "2022-11-28T17:19:27.746Z"
   },
   {
    "duration": 180,
    "start_time": "2022-11-28T17:20:02.644Z"
   },
   {
    "duration": 170,
    "start_time": "2022-11-28T17:20:06.761Z"
   },
   {
    "duration": 144,
    "start_time": "2022-11-28T17:20:16.696Z"
   },
   {
    "duration": 140,
    "start_time": "2022-11-28T17:20:19.166Z"
   },
   {
    "duration": 157,
    "start_time": "2022-11-28T17:20:26.274Z"
   },
   {
    "duration": 158,
    "start_time": "2022-11-28T17:20:38.603Z"
   },
   {
    "duration": 180,
    "start_time": "2022-11-28T17:20:43.277Z"
   },
   {
    "duration": 187,
    "start_time": "2022-11-28T17:20:49.108Z"
   },
   {
    "duration": 206,
    "start_time": "2022-11-28T17:20:54.819Z"
   },
   {
    "duration": 687,
    "start_time": "2022-11-28T17:21:01.528Z"
   },
   {
    "duration": 7,
    "start_time": "2022-11-28T17:21:02.216Z"
   },
   {
    "duration": 32,
    "start_time": "2022-11-28T17:21:02.225Z"
   },
   {
    "duration": 34,
    "start_time": "2022-11-28T17:21:02.260Z"
   },
   {
    "duration": 37,
    "start_time": "2022-11-28T17:21:02.295Z"
   },
   {
    "duration": 8,
    "start_time": "2022-11-28T17:21:02.334Z"
   },
   {
    "duration": 29,
    "start_time": "2022-11-28T17:21:02.344Z"
   },
   {
    "duration": 45,
    "start_time": "2022-11-28T17:21:02.376Z"
   },
   {
    "duration": 58,
    "start_time": "2022-11-28T17:21:02.423Z"
   },
   {
    "duration": 166,
    "start_time": "2022-11-28T17:21:02.484Z"
   },
   {
    "duration": 165,
    "start_time": "2022-11-28T17:21:02.652Z"
   },
   {
    "duration": 23,
    "start_time": "2022-11-28T17:21:02.819Z"
   },
   {
    "duration": 46,
    "start_time": "2022-11-28T17:21:02.844Z"
   },
   {
    "duration": 27,
    "start_time": "2022-11-28T17:21:02.892Z"
   },
   {
    "duration": 3,
    "start_time": "2022-11-28T17:21:02.921Z"
   },
   {
    "duration": 366,
    "start_time": "2022-11-28T17:21:02.926Z"
   },
   {
    "duration": 4,
    "start_time": "2022-11-28T17:21:03.294Z"
   },
   {
    "duration": 204,
    "start_time": "2022-11-28T17:21:03.300Z"
   },
   {
    "duration": 273,
    "start_time": "2022-11-28T17:21:03.505Z"
   },
   {
    "duration": 192,
    "start_time": "2022-11-28T17:21:03.779Z"
   },
   {
    "duration": 158,
    "start_time": "2022-11-28T17:21:03.976Z"
   },
   {
    "duration": 166,
    "start_time": "2022-11-28T17:21:04.136Z"
   },
   {
    "duration": 183,
    "start_time": "2022-11-28T17:21:04.304Z"
   },
   {
    "duration": 190,
    "start_time": "2022-11-28T17:21:04.488Z"
   },
   {
    "duration": 154,
    "start_time": "2022-11-28T17:21:04.681Z"
   },
   {
    "duration": 198,
    "start_time": "2022-11-28T17:21:04.837Z"
   },
   {
    "duration": 150,
    "start_time": "2022-11-28T17:21:05.037Z"
   },
   {
    "duration": 205,
    "start_time": "2022-11-28T17:21:05.190Z"
   },
   {
    "duration": 191,
    "start_time": "2022-11-28T17:21:05.397Z"
   },
   {
    "duration": 265,
    "start_time": "2022-11-28T17:21:05.590Z"
   },
   {
    "duration": 175,
    "start_time": "2022-11-28T17:21:05.857Z"
   },
   {
    "duration": 324,
    "start_time": "2022-11-28T17:21:21.177Z"
   },
   {
    "duration": 170,
    "start_time": "2022-11-28T17:21:26.777Z"
   },
   {
    "duration": 173,
    "start_time": "2022-11-28T17:21:33.543Z"
   },
   {
    "duration": 822,
    "start_time": "2022-11-28T17:35:22.834Z"
   },
   {
    "duration": 177,
    "start_time": "2022-11-28T17:35:35.361Z"
   },
   {
    "duration": 161,
    "start_time": "2022-11-28T17:35:46.715Z"
   },
   {
    "duration": 50,
    "start_time": "2022-11-28T17:35:57.831Z"
   },
   {
    "duration": 202,
    "start_time": "2022-11-28T17:36:04.950Z"
   },
   {
    "duration": 269,
    "start_time": "2022-11-28T17:36:12.186Z"
   },
   {
    "duration": 299,
    "start_time": "2022-11-28T17:36:16.481Z"
   },
   {
    "duration": 14,
    "start_time": "2022-11-28T17:40:51.726Z"
   },
   {
    "duration": 15,
    "start_time": "2022-11-28T17:41:11.354Z"
   },
   {
    "duration": 10,
    "start_time": "2022-11-28T17:41:33.616Z"
   },
   {
    "duration": 9,
    "start_time": "2022-11-28T17:41:55.642Z"
   },
   {
    "duration": 221,
    "start_time": "2022-11-28T17:42:09.982Z"
   },
   {
    "duration": 214,
    "start_time": "2022-11-28T17:42:52.634Z"
   },
   {
    "duration": 258,
    "start_time": "2022-11-28T17:42:57.588Z"
   },
   {
    "duration": 263,
    "start_time": "2022-11-28T17:43:56.740Z"
   },
   {
    "duration": 294,
    "start_time": "2022-11-28T17:44:05.196Z"
   },
   {
    "duration": 219,
    "start_time": "2022-11-28T17:47:41.070Z"
   },
   {
    "duration": 277,
    "start_time": "2022-11-28T17:52:09.332Z"
   },
   {
    "duration": 269,
    "start_time": "2022-11-28T17:52:29.638Z"
   },
   {
    "duration": 259,
    "start_time": "2022-11-28T17:52:37.084Z"
   },
   {
    "duration": 278,
    "start_time": "2022-11-28T17:52:42.737Z"
   },
   {
    "duration": 272,
    "start_time": "2022-11-28T17:52:55.681Z"
   },
   {
    "duration": 155,
    "start_time": "2022-11-28T17:56:54.326Z"
   },
   {
    "duration": 733,
    "start_time": "2022-11-28T17:57:06.609Z"
   },
   {
    "duration": 7,
    "start_time": "2022-11-28T17:57:07.344Z"
   },
   {
    "duration": 18,
    "start_time": "2022-11-28T17:57:07.353Z"
   },
   {
    "duration": 30,
    "start_time": "2022-11-28T17:57:07.376Z"
   },
   {
    "duration": 37,
    "start_time": "2022-11-28T17:57:07.409Z"
   },
   {
    "duration": 34,
    "start_time": "2022-11-28T17:57:07.447Z"
   },
   {
    "duration": 9,
    "start_time": "2022-11-28T17:57:07.483Z"
   },
   {
    "duration": 36,
    "start_time": "2022-11-28T17:57:07.494Z"
   },
   {
    "duration": 66,
    "start_time": "2022-11-28T17:57:07.532Z"
   },
   {
    "duration": 149,
    "start_time": "2022-11-28T17:57:07.599Z"
   },
   {
    "duration": 162,
    "start_time": "2022-11-28T17:57:07.749Z"
   },
   {
    "duration": 21,
    "start_time": "2022-11-28T17:57:07.913Z"
   },
   {
    "duration": 44,
    "start_time": "2022-11-28T17:57:07.935Z"
   },
   {
    "duration": 25,
    "start_time": "2022-11-28T17:57:07.981Z"
   },
   {
    "duration": 10,
    "start_time": "2022-11-28T17:57:08.008Z"
   },
   {
    "duration": 345,
    "start_time": "2022-11-28T17:57:08.020Z"
   },
   {
    "duration": 9,
    "start_time": "2022-11-28T17:57:08.367Z"
   },
   {
    "duration": 202,
    "start_time": "2022-11-28T17:57:08.377Z"
   },
   {
    "duration": 266,
    "start_time": "2022-11-28T17:57:08.580Z"
   },
   {
    "duration": 194,
    "start_time": "2022-11-28T17:57:08.848Z"
   },
   {
    "duration": 167,
    "start_time": "2022-11-28T17:57:09.044Z"
   },
   {
    "duration": 179,
    "start_time": "2022-11-28T17:57:09.213Z"
   },
   {
    "duration": 166,
    "start_time": "2022-11-28T17:57:09.394Z"
   },
   {
    "duration": 172,
    "start_time": "2022-11-28T17:57:09.562Z"
   },
   {
    "duration": 111,
    "start_time": "2022-11-28T17:57:09.736Z"
   },
   {
    "duration": 145,
    "start_time": "2022-11-28T17:57:09.848Z"
   },
   {
    "duration": 151,
    "start_time": "2022-11-28T17:57:09.995Z"
   },
   {
    "duration": 161,
    "start_time": "2022-11-28T17:57:10.148Z"
   },
   {
    "duration": 194,
    "start_time": "2022-11-28T17:57:10.311Z"
   },
   {
    "duration": 241,
    "start_time": "2022-11-28T17:57:10.507Z"
   },
   {
    "duration": 162,
    "start_time": "2022-11-28T17:57:10.750Z"
   },
   {
    "duration": 266,
    "start_time": "2022-11-28T17:57:10.913Z"
   },
   {
    "duration": 216,
    "start_time": "2022-11-28T17:57:45.470Z"
   },
   {
    "duration": 85,
    "start_time": "2022-11-28T18:05:38.778Z"
   },
   {
    "duration": 797,
    "start_time": "2022-11-28T18:05:44.634Z"
   },
   {
    "duration": 8,
    "start_time": "2022-11-28T18:05:45.433Z"
   },
   {
    "duration": 25,
    "start_time": "2022-11-28T18:05:45.442Z"
   },
   {
    "duration": 60,
    "start_time": "2022-11-28T18:05:45.469Z"
   },
   {
    "duration": 59,
    "start_time": "2022-11-28T18:05:45.531Z"
   },
   {
    "duration": 8,
    "start_time": "2022-11-28T18:05:45.591Z"
   },
   {
    "duration": 41,
    "start_time": "2022-11-28T18:05:45.600Z"
   },
   {
    "duration": 46,
    "start_time": "2022-11-28T18:05:45.643Z"
   },
   {
    "duration": 56,
    "start_time": "2022-11-28T18:05:45.691Z"
   },
   {
    "duration": 149,
    "start_time": "2022-11-28T18:05:45.750Z"
   },
   {
    "duration": 156,
    "start_time": "2022-11-28T18:05:45.900Z"
   },
   {
    "duration": 32,
    "start_time": "2022-11-28T18:05:46.058Z"
   },
   {
    "duration": 32,
    "start_time": "2022-11-28T18:05:46.092Z"
   },
   {
    "duration": 23,
    "start_time": "2022-11-28T18:05:46.125Z"
   },
   {
    "duration": 16,
    "start_time": "2022-11-28T18:05:46.150Z"
   },
   {
    "duration": 342,
    "start_time": "2022-11-28T18:05:46.168Z"
   },
   {
    "duration": 4,
    "start_time": "2022-11-28T18:05:46.511Z"
   },
   {
    "duration": 248,
    "start_time": "2022-11-28T18:05:46.516Z"
   },
   {
    "duration": 248,
    "start_time": "2022-11-28T18:05:46.766Z"
   },
   {
    "duration": 195,
    "start_time": "2022-11-28T18:05:47.016Z"
   },
   {
    "duration": 163,
    "start_time": "2022-11-28T18:05:47.213Z"
   },
   {
    "duration": 170,
    "start_time": "2022-11-28T18:05:47.378Z"
   },
   {
    "duration": 172,
    "start_time": "2022-11-28T18:05:47.550Z"
   },
   {
    "duration": 176,
    "start_time": "2022-11-28T18:05:47.724Z"
   },
   {
    "duration": 121,
    "start_time": "2022-11-28T18:05:47.902Z"
   },
   {
    "duration": 154,
    "start_time": "2022-11-28T18:05:48.024Z"
   },
   {
    "duration": 163,
    "start_time": "2022-11-28T18:05:48.179Z"
   },
   {
    "duration": 173,
    "start_time": "2022-11-28T18:05:48.345Z"
   },
   {
    "duration": 192,
    "start_time": "2022-11-28T18:05:48.520Z"
   },
   {
    "duration": 252,
    "start_time": "2022-11-28T18:05:48.714Z"
   },
   {
    "duration": 190,
    "start_time": "2022-11-28T18:05:48.968Z"
   },
   {
    "duration": 257,
    "start_time": "2022-11-28T18:05:49.160Z"
   },
   {
    "duration": 8,
    "start_time": "2022-11-28T18:11:46.843Z"
   },
   {
    "duration": 209,
    "start_time": "2022-11-28T18:14:28.788Z"
   },
   {
    "duration": 721,
    "start_time": "2022-11-28T18:14:39.671Z"
   },
   {
    "duration": 8,
    "start_time": "2022-11-28T18:14:40.394Z"
   },
   {
    "duration": 9,
    "start_time": "2022-11-28T18:14:40.403Z"
   },
   {
    "duration": 31,
    "start_time": "2022-11-28T18:14:40.414Z"
   },
   {
    "duration": 71,
    "start_time": "2022-11-28T18:14:40.447Z"
   },
   {
    "duration": 8,
    "start_time": "2022-11-28T18:14:40.519Z"
   },
   {
    "duration": 7,
    "start_time": "2022-11-28T18:14:40.529Z"
   },
   {
    "duration": 66,
    "start_time": "2022-11-28T18:14:40.537Z"
   },
   {
    "duration": 44,
    "start_time": "2022-11-28T18:14:40.604Z"
   },
   {
    "duration": 144,
    "start_time": "2022-11-28T18:14:40.651Z"
   },
   {
    "duration": 156,
    "start_time": "2022-11-28T18:14:40.796Z"
   },
   {
    "duration": 28,
    "start_time": "2022-11-28T18:14:40.954Z"
   },
   {
    "duration": 22,
    "start_time": "2022-11-28T18:14:40.984Z"
   },
   {
    "duration": 25,
    "start_time": "2022-11-28T18:14:41.007Z"
   },
   {
    "duration": 3,
    "start_time": "2022-11-28T18:14:41.034Z"
   },
   {
    "duration": 348,
    "start_time": "2022-11-28T18:14:41.038Z"
   },
   {
    "duration": 4,
    "start_time": "2022-11-28T18:14:41.387Z"
   },
   {
    "duration": 188,
    "start_time": "2022-11-28T18:14:41.392Z"
   },
   {
    "duration": 223,
    "start_time": "2022-11-28T18:14:41.582Z"
   },
   {
    "duration": 165,
    "start_time": "2022-11-28T18:14:41.807Z"
   },
   {
    "duration": 151,
    "start_time": "2022-11-28T18:14:41.975Z"
   },
   {
    "duration": 158,
    "start_time": "2022-11-28T18:14:42.127Z"
   },
   {
    "duration": 172,
    "start_time": "2022-11-28T18:14:42.287Z"
   },
   {
    "duration": 195,
    "start_time": "2022-11-28T18:14:42.461Z"
   },
   {
    "duration": 121,
    "start_time": "2022-11-28T18:14:42.658Z"
   },
   {
    "duration": 170,
    "start_time": "2022-11-28T18:14:42.780Z"
   },
   {
    "duration": 141,
    "start_time": "2022-11-28T18:14:42.951Z"
   },
   {
    "duration": 158,
    "start_time": "2022-11-28T18:14:43.094Z"
   },
   {
    "duration": 168,
    "start_time": "2022-11-28T18:14:43.253Z"
   },
   {
    "duration": 274,
    "start_time": "2022-11-28T18:14:43.423Z"
   },
   {
    "duration": 185,
    "start_time": "2022-11-28T18:14:43.698Z"
   },
   {
    "duration": 219,
    "start_time": "2022-11-28T18:14:43.884Z"
   },
   {
    "duration": 225,
    "start_time": "2022-11-28T18:14:44.435Z"
   },
   {
    "duration": 8,
    "start_time": "2022-11-28T18:15:51.337Z"
   },
   {
    "duration": 8,
    "start_time": "2022-11-28T18:16:00.984Z"
   },
   {
    "duration": 47,
    "start_time": "2022-11-28T18:16:23.979Z"
   },
   {
    "duration": 70,
    "start_time": "2022-11-28T18:16:29.930Z"
   },
   {
    "duration": 8,
    "start_time": "2022-11-28T18:17:02.670Z"
   },
   {
    "duration": 6,
    "start_time": "2022-11-28T18:17:10.830Z"
   },
   {
    "duration": 8,
    "start_time": "2022-11-28T18:17:15.449Z"
   },
   {
    "duration": 8,
    "start_time": "2022-11-28T18:18:06.810Z"
   },
   {
    "duration": 7,
    "start_time": "2022-11-28T18:18:11.581Z"
   },
   {
    "duration": 12,
    "start_time": "2022-11-28T18:18:18.805Z"
   },
   {
    "duration": 7,
    "start_time": "2022-11-28T18:18:22.770Z"
   },
   {
    "duration": 10,
    "start_time": "2022-11-28T18:18:33.703Z"
   },
   {
    "duration": 223,
    "start_time": "2022-11-28T18:28:26.585Z"
   },
   {
    "duration": 24,
    "start_time": "2022-11-28T18:28:45.555Z"
   },
   {
    "duration": 716,
    "start_time": "2022-11-28T18:28:49.372Z"
   },
   {
    "duration": 8,
    "start_time": "2022-11-28T18:28:50.090Z"
   },
   {
    "duration": 19,
    "start_time": "2022-11-28T18:28:50.100Z"
   },
   {
    "duration": 32,
    "start_time": "2022-11-28T18:28:50.122Z"
   },
   {
    "duration": 41,
    "start_time": "2022-11-28T18:28:50.175Z"
   },
   {
    "duration": 8,
    "start_time": "2022-11-28T18:28:50.218Z"
   },
   {
    "duration": 16,
    "start_time": "2022-11-28T18:28:50.227Z"
   },
   {
    "duration": 62,
    "start_time": "2022-11-28T18:28:50.244Z"
   },
   {
    "duration": 49,
    "start_time": "2022-11-28T18:28:50.308Z"
   },
   {
    "duration": 172,
    "start_time": "2022-11-28T18:28:50.359Z"
   },
   {
    "duration": 173,
    "start_time": "2022-11-28T18:28:50.533Z"
   },
   {
    "duration": 22,
    "start_time": "2022-11-28T18:28:50.708Z"
   },
   {
    "duration": 49,
    "start_time": "2022-11-28T18:28:50.732Z"
   },
   {
    "duration": 25,
    "start_time": "2022-11-28T18:28:50.783Z"
   },
   {
    "duration": 3,
    "start_time": "2022-11-28T18:28:50.810Z"
   },
   {
    "duration": 349,
    "start_time": "2022-11-28T18:28:50.815Z"
   },
   {
    "duration": 4,
    "start_time": "2022-11-28T18:28:51.165Z"
   },
   {
    "duration": 183,
    "start_time": "2022-11-28T18:28:51.171Z"
   },
   {
    "duration": 235,
    "start_time": "2022-11-28T18:28:51.356Z"
   },
   {
    "duration": 175,
    "start_time": "2022-11-28T18:28:51.593Z"
   },
   {
    "duration": 144,
    "start_time": "2022-11-28T18:28:51.770Z"
   },
   {
    "duration": 144,
    "start_time": "2022-11-28T18:28:51.916Z"
   },
   {
    "duration": 154,
    "start_time": "2022-11-28T18:28:52.061Z"
   },
   {
    "duration": 188,
    "start_time": "2022-11-28T18:28:52.216Z"
   },
   {
    "duration": 123,
    "start_time": "2022-11-28T18:28:52.406Z"
   },
   {
    "duration": 146,
    "start_time": "2022-11-28T18:28:52.530Z"
   },
   {
    "duration": 136,
    "start_time": "2022-11-28T18:28:52.678Z"
   },
   {
    "duration": 158,
    "start_time": "2022-11-28T18:28:52.818Z"
   },
   {
    "duration": 160,
    "start_time": "2022-11-28T18:28:52.977Z"
   },
   {
    "duration": 231,
    "start_time": "2022-11-28T18:28:53.139Z"
   },
   {
    "duration": 214,
    "start_time": "2022-11-28T18:28:53.372Z"
   },
   {
    "duration": 233,
    "start_time": "2022-11-28T18:28:53.588Z"
   },
   {
    "duration": 128,
    "start_time": "2022-11-28T18:33:52.235Z"
   },
   {
    "duration": 27,
    "start_time": "2022-11-28T18:37:32.655Z"
   },
   {
    "duration": 11,
    "start_time": "2022-11-28T18:40:02.832Z"
   },
   {
    "duration": 89,
    "start_time": "2022-11-28T18:40:14.678Z"
   },
   {
    "duration": 51,
    "start_time": "2022-11-28T18:41:10.756Z"
   },
   {
    "duration": 22,
    "start_time": "2022-11-28T18:46:25.067Z"
   },
   {
    "duration": 28,
    "start_time": "2022-11-28T18:51:43.294Z"
   },
   {
    "duration": 30,
    "start_time": "2022-11-28T18:52:04.571Z"
   },
   {
    "duration": 24,
    "start_time": "2022-11-28T18:52:58.017Z"
   },
   {
    "duration": 15,
    "start_time": "2022-11-28T18:57:42.816Z"
   },
   {
    "duration": 15,
    "start_time": "2022-11-28T19:01:09.360Z"
   },
   {
    "duration": 11,
    "start_time": "2022-11-28T19:04:20.409Z"
   },
   {
    "duration": 8,
    "start_time": "2022-11-28T19:04:56.997Z"
   },
   {
    "duration": 15,
    "start_time": "2022-11-28T19:05:22.918Z"
   },
   {
    "duration": 18,
    "start_time": "2022-11-28T19:06:30.901Z"
   },
   {
    "duration": 18,
    "start_time": "2022-11-28T19:06:42.192Z"
   },
   {
    "duration": 14,
    "start_time": "2022-11-28T19:07:57.774Z"
   },
   {
    "duration": 17,
    "start_time": "2022-11-28T19:09:19.718Z"
   },
   {
    "duration": 25,
    "start_time": "2022-11-28T19:09:23.954Z"
   },
   {
    "duration": 14,
    "start_time": "2022-11-28T19:09:44.718Z"
   },
   {
    "duration": 17,
    "start_time": "2022-11-28T19:12:07.135Z"
   },
   {
    "duration": 18,
    "start_time": "2022-11-28T19:12:50.182Z"
   },
   {
    "duration": 17,
    "start_time": "2022-11-28T19:13:24.639Z"
   },
   {
    "duration": 17,
    "start_time": "2022-11-28T19:13:40.111Z"
   },
   {
    "duration": 18,
    "start_time": "2022-11-28T19:16:43.373Z"
   },
   {
    "duration": 17,
    "start_time": "2022-11-28T19:17:01.859Z"
   },
   {
    "duration": 30,
    "start_time": "2022-11-28T19:17:20.583Z"
   },
   {
    "duration": 25,
    "start_time": "2022-11-28T19:18:13.150Z"
   },
   {
    "duration": 16,
    "start_time": "2022-11-28T19:18:33.195Z"
   },
   {
    "duration": 26,
    "start_time": "2022-11-28T19:19:11.041Z"
   },
   {
    "duration": 12,
    "start_time": "2022-11-28T19:21:25.863Z"
   },
   {
    "duration": 14,
    "start_time": "2022-11-28T19:21:27.917Z"
   },
   {
    "duration": 5,
    "start_time": "2022-11-28T19:31:45.121Z"
   },
   {
    "duration": 12,
    "start_time": "2022-11-28T19:33:03.204Z"
   },
   {
    "duration": 4,
    "start_time": "2022-11-28T19:35:46.331Z"
   },
   {
    "duration": 4,
    "start_time": "2022-11-28T19:36:30.536Z"
   },
   {
    "duration": 5,
    "start_time": "2022-11-28T19:37:03.416Z"
   },
   {
    "duration": 19,
    "start_time": "2022-11-28T19:37:09.277Z"
   },
   {
    "duration": 17,
    "start_time": "2022-11-28T19:37:25.811Z"
   },
   {
    "duration": 21,
    "start_time": "2022-11-28T19:37:44.971Z"
   },
   {
    "duration": 9,
    "start_time": "2022-11-28T19:43:18.260Z"
   },
   {
    "duration": 8,
    "start_time": "2022-11-28T19:43:21.096Z"
   },
   {
    "duration": 17,
    "start_time": "2022-11-28T19:43:37.723Z"
   },
   {
    "duration": 105,
    "start_time": "2022-11-28T19:44:45.211Z"
   },
   {
    "duration": 16,
    "start_time": "2022-11-28T19:45:58.802Z"
   },
   {
    "duration": 54,
    "start_time": "2022-11-28T19:46:20.928Z"
   },
   {
    "duration": 15,
    "start_time": "2022-11-28T19:46:46.666Z"
   },
   {
    "duration": 10,
    "start_time": "2022-11-28T19:47:32.860Z"
   },
   {
    "duration": 16,
    "start_time": "2022-11-28T19:47:48.545Z"
   },
   {
    "duration": 16,
    "start_time": "2022-11-28T19:48:04.047Z"
   },
   {
    "duration": 11,
    "start_time": "2022-11-28T19:48:44.805Z"
   },
   {
    "duration": 16,
    "start_time": "2022-11-28T19:51:56.347Z"
   },
   {
    "duration": 13,
    "start_time": "2022-11-28T19:52:11.817Z"
   },
   {
    "duration": 17,
    "start_time": "2022-11-28T19:52:49.883Z"
   },
   {
    "duration": 17,
    "start_time": "2022-11-28T19:53:07.738Z"
   },
   {
    "duration": 14,
    "start_time": "2022-11-28T19:53:23.876Z"
   },
   {
    "duration": 18,
    "start_time": "2022-11-28T19:53:36.593Z"
   },
   {
    "duration": 16,
    "start_time": "2022-11-28T19:53:52.573Z"
   },
   {
    "duration": 14,
    "start_time": "2022-11-28T19:55:27.522Z"
   },
   {
    "duration": 13,
    "start_time": "2022-11-28T19:55:53.584Z"
   },
   {
    "duration": 12,
    "start_time": "2022-11-28T19:56:08.814Z"
   },
   {
    "duration": 15,
    "start_time": "2022-11-28T19:56:22.381Z"
   },
   {
    "duration": 17,
    "start_time": "2022-11-28T19:56:34.774Z"
   },
   {
    "duration": 9,
    "start_time": "2022-11-28T19:58:12.553Z"
   },
   {
    "duration": 7,
    "start_time": "2022-11-28T19:58:18.501Z"
   },
   {
    "duration": 13,
    "start_time": "2022-11-28T19:58:27.257Z"
   },
   {
    "duration": 15,
    "start_time": "2022-11-28T19:58:55.342Z"
   },
   {
    "duration": 16,
    "start_time": "2022-11-28T19:59:02.561Z"
   },
   {
    "duration": 15,
    "start_time": "2022-11-28T19:59:13.741Z"
   },
   {
    "duration": 16,
    "start_time": "2022-11-28T19:59:23.784Z"
   },
   {
    "duration": 13,
    "start_time": "2022-11-28T19:59:41.248Z"
   },
   {
    "duration": 15,
    "start_time": "2022-11-28T19:59:47.313Z"
   },
   {
    "duration": 8,
    "start_time": "2022-11-28T20:01:41.981Z"
   },
   {
    "duration": 9,
    "start_time": "2022-11-28T20:02:36.411Z"
   },
   {
    "duration": 155,
    "start_time": "2022-11-28T20:03:00.117Z"
   },
   {
    "duration": 17,
    "start_time": "2022-11-28T20:03:28.848Z"
   },
   {
    "duration": 17,
    "start_time": "2022-11-28T20:03:40.919Z"
   },
   {
    "duration": 15,
    "start_time": "2022-11-28T20:10:08.938Z"
   },
   {
    "duration": 104,
    "start_time": "2022-11-28T20:10:24.062Z"
   },
   {
    "duration": 13,
    "start_time": "2022-11-28T20:18:46.649Z"
   },
   {
    "duration": 246,
    "start_time": "2022-11-28T20:29:27.815Z"
   },
   {
    "duration": 328,
    "start_time": "2022-11-28T20:29:54.554Z"
   },
   {
    "duration": 256,
    "start_time": "2022-11-28T20:30:19.053Z"
   },
   {
    "duration": 237,
    "start_time": "2022-11-28T20:31:23.572Z"
   },
   {
    "duration": 229,
    "start_time": "2022-11-28T20:32:53.539Z"
   },
   {
    "duration": 36,
    "start_time": "2022-11-28T20:33:53.297Z"
   },
   {
    "duration": 200,
    "start_time": "2022-11-28T20:35:08.603Z"
   },
   {
    "duration": 276,
    "start_time": "2022-11-28T20:35:52.781Z"
   },
   {
    "duration": 3,
    "start_time": "2022-11-28T20:35:59.560Z"
   },
   {
    "duration": 756,
    "start_time": "2022-11-28T20:36:05.707Z"
   },
   {
    "duration": 19,
    "start_time": "2022-11-28T20:36:06.465Z"
   },
   {
    "duration": 16,
    "start_time": "2022-11-28T20:36:06.486Z"
   },
   {
    "duration": 36,
    "start_time": "2022-11-28T20:36:06.505Z"
   },
   {
    "duration": 73,
    "start_time": "2022-11-28T20:36:06.543Z"
   },
   {
    "duration": 9,
    "start_time": "2022-11-28T20:36:06.618Z"
   },
   {
    "duration": 11,
    "start_time": "2022-11-28T20:36:06.628Z"
   },
   {
    "duration": 56,
    "start_time": "2022-11-28T20:36:06.641Z"
   },
   {
    "duration": 50,
    "start_time": "2022-11-28T20:36:06.699Z"
   },
   {
    "duration": 172,
    "start_time": "2022-11-28T20:36:06.753Z"
   },
   {
    "duration": 169,
    "start_time": "2022-11-28T20:36:06.928Z"
   },
   {
    "duration": 21,
    "start_time": "2022-11-28T20:36:07.099Z"
   },
   {
    "duration": 23,
    "start_time": "2022-11-28T20:36:07.121Z"
   },
   {
    "duration": 53,
    "start_time": "2022-11-28T20:36:07.146Z"
   },
   {
    "duration": 3,
    "start_time": "2022-11-28T20:36:07.201Z"
   },
   {
    "duration": 343,
    "start_time": "2022-11-28T20:36:07.206Z"
   },
   {
    "duration": 4,
    "start_time": "2022-11-28T20:36:07.550Z"
   },
   {
    "duration": 214,
    "start_time": "2022-11-28T20:36:07.556Z"
   },
   {
    "duration": 244,
    "start_time": "2022-11-28T20:36:07.772Z"
   },
   {
    "duration": 181,
    "start_time": "2022-11-28T20:36:08.018Z"
   },
   {
    "duration": 161,
    "start_time": "2022-11-28T20:36:08.201Z"
   },
   {
    "duration": 199,
    "start_time": "2022-11-28T20:36:08.363Z"
   },
   {
    "duration": 225,
    "start_time": "2022-11-28T20:36:08.564Z"
   },
   {
    "duration": 240,
    "start_time": "2022-11-28T20:36:08.791Z"
   },
   {
    "duration": 127,
    "start_time": "2022-11-28T20:36:09.033Z"
   },
   {
    "duration": 183,
    "start_time": "2022-11-28T20:36:09.162Z"
   },
   {
    "duration": 140,
    "start_time": "2022-11-28T20:36:09.347Z"
   },
   {
    "duration": 164,
    "start_time": "2022-11-28T20:36:09.490Z"
   },
   {
    "duration": 184,
    "start_time": "2022-11-28T20:36:09.656Z"
   },
   {
    "duration": 236,
    "start_time": "2022-11-28T20:36:09.842Z"
   },
   {
    "duration": 175,
    "start_time": "2022-11-28T20:36:10.079Z"
   },
   {
    "duration": 221,
    "start_time": "2022-11-28T20:36:10.256Z"
   },
   {
    "duration": 144,
    "start_time": "2022-11-28T20:36:10.479Z"
   },
   {
    "duration": 28,
    "start_time": "2022-11-28T20:36:10.624Z"
   },
   {
    "duration": 74,
    "start_time": "2022-11-28T20:36:10.653Z"
   },
   {
    "duration": 11,
    "start_time": "2022-11-28T20:36:10.729Z"
   },
   {
    "duration": 0,
    "start_time": "2022-11-28T20:36:10.831Z"
   },
   {
    "duration": 0,
    "start_time": "2022-11-28T20:36:10.832Z"
   },
   {
    "duration": 9,
    "start_time": "2022-11-28T20:36:15.673Z"
   },
   {
    "duration": 230,
    "start_time": "2022-11-28T20:36:33.939Z"
   },
   {
    "duration": 291,
    "start_time": "2022-11-28T20:36:50.531Z"
   },
   {
    "duration": 10,
    "start_time": "2022-11-28T20:39:02.454Z"
   },
   {
    "duration": 9,
    "start_time": "2022-11-28T20:39:14.556Z"
   },
   {
    "duration": 15,
    "start_time": "2022-11-28T20:39:22.221Z"
   },
   {
    "duration": 13,
    "start_time": "2022-11-28T20:39:27.796Z"
   },
   {
    "duration": 16,
    "start_time": "2022-11-28T20:39:43.149Z"
   },
   {
    "duration": 672,
    "start_time": "2022-11-28T20:39:49.417Z"
   },
   {
    "duration": 8,
    "start_time": "2022-11-28T20:39:50.091Z"
   },
   {
    "duration": 53,
    "start_time": "2022-11-28T20:39:50.100Z"
   },
   {
    "duration": 29,
    "start_time": "2022-11-28T20:39:50.156Z"
   },
   {
    "duration": 37,
    "start_time": "2022-11-28T20:39:50.187Z"
   },
   {
    "duration": 9,
    "start_time": "2022-11-28T20:39:50.226Z"
   },
   {
    "duration": 19,
    "start_time": "2022-11-28T20:39:50.236Z"
   },
   {
    "duration": 51,
    "start_time": "2022-11-28T20:39:50.257Z"
   },
   {
    "duration": 49,
    "start_time": "2022-11-28T20:39:50.310Z"
   },
   {
    "duration": 158,
    "start_time": "2022-11-28T20:39:50.376Z"
   },
   {
    "duration": 187,
    "start_time": "2022-11-28T20:39:50.536Z"
   },
   {
    "duration": 22,
    "start_time": "2022-11-28T20:39:50.725Z"
   },
   {
    "duration": 41,
    "start_time": "2022-11-28T20:39:50.749Z"
   },
   {
    "duration": 27,
    "start_time": "2022-11-28T20:39:50.792Z"
   },
   {
    "duration": 4,
    "start_time": "2022-11-28T20:39:50.820Z"
   },
   {
    "duration": 327,
    "start_time": "2022-11-28T20:39:50.825Z"
   },
   {
    "duration": 3,
    "start_time": "2022-11-28T20:39:51.154Z"
   },
   {
    "duration": 177,
    "start_time": "2022-11-28T20:39:51.159Z"
   },
   {
    "duration": 235,
    "start_time": "2022-11-28T20:39:51.337Z"
   },
   {
    "duration": 171,
    "start_time": "2022-11-28T20:39:51.573Z"
   },
   {
    "duration": 141,
    "start_time": "2022-11-28T20:39:51.745Z"
   },
   {
    "duration": 132,
    "start_time": "2022-11-28T20:39:51.888Z"
   },
   {
    "duration": 155,
    "start_time": "2022-11-28T20:39:52.021Z"
   },
   {
    "duration": 170,
    "start_time": "2022-11-28T20:39:52.177Z"
   },
   {
    "duration": 112,
    "start_time": "2022-11-28T20:39:52.348Z"
   },
   {
    "duration": 153,
    "start_time": "2022-11-28T20:39:52.462Z"
   },
   {
    "duration": 142,
    "start_time": "2022-11-28T20:39:52.617Z"
   },
   {
    "duration": 152,
    "start_time": "2022-11-28T20:39:52.762Z"
   },
   {
    "duration": 154,
    "start_time": "2022-11-28T20:39:52.915Z"
   },
   {
    "duration": 219,
    "start_time": "2022-11-28T20:39:53.071Z"
   },
   {
    "duration": 175,
    "start_time": "2022-11-28T20:39:53.293Z"
   },
   {
    "duration": 232,
    "start_time": "2022-11-28T20:39:53.470Z"
   },
   {
    "duration": 149,
    "start_time": "2022-11-28T20:39:53.704Z"
   },
   {
    "duration": 32,
    "start_time": "2022-11-28T20:39:53.855Z"
   },
   {
    "duration": 57,
    "start_time": "2022-11-28T20:39:53.889Z"
   },
   {
    "duration": 11,
    "start_time": "2022-11-28T20:39:53.947Z"
   },
   {
    "duration": 215,
    "start_time": "2022-11-28T20:39:53.976Z"
   },
   {
    "duration": 0,
    "start_time": "2022-11-28T20:39:54.279Z"
   },
   {
    "duration": 0,
    "start_time": "2022-11-28T20:39:54.280Z"
   },
   {
    "duration": 16,
    "start_time": "2022-11-28T20:40:01.712Z"
   },
   {
    "duration": 18,
    "start_time": "2022-11-28T20:40:17.393Z"
   },
   {
    "duration": 15,
    "start_time": "2022-11-28T20:40:36.546Z"
   },
   {
    "duration": 309,
    "start_time": "2022-11-28T20:41:48.697Z"
   },
   {
    "duration": 20,
    "start_time": "2022-11-28T20:41:50.968Z"
   },
   {
    "duration": 15,
    "start_time": "2022-11-28T20:42:01.688Z"
   },
   {
    "duration": 224,
    "start_time": "2022-11-28T20:45:08.171Z"
   },
   {
    "duration": 14,
    "start_time": "2022-11-28T20:45:10.419Z"
   },
   {
    "duration": 172,
    "start_time": "2022-11-28T20:48:00.140Z"
   },
   {
    "duration": 16,
    "start_time": "2022-11-28T20:49:05.803Z"
   },
   {
    "duration": 116,
    "start_time": "2022-11-28T20:49:46.750Z"
   },
   {
    "duration": 140,
    "start_time": "2022-11-28T20:50:17.246Z"
   },
   {
    "duration": 164,
    "start_time": "2022-11-28T20:52:18.493Z"
   },
   {
    "duration": 208,
    "start_time": "2022-11-28T20:52:34.689Z"
   },
   {
    "duration": 826,
    "start_time": "2022-11-28T21:17:38.199Z"
   },
   {
    "duration": 559,
    "start_time": "2022-11-28T21:18:48.944Z"
   },
   {
    "duration": 472,
    "start_time": "2022-11-28T21:18:58.107Z"
   },
   {
    "duration": 11,
    "start_time": "2022-11-28T21:23:52.710Z"
   },
   {
    "duration": 10,
    "start_time": "2022-11-28T21:25:27.358Z"
   },
   {
    "duration": 538,
    "start_time": "2022-11-28T21:26:34.500Z"
   },
   {
    "duration": 11,
    "start_time": "2022-11-28T21:26:38.268Z"
   },
   {
    "duration": 11,
    "start_time": "2022-11-28T21:26:48.431Z"
   },
   {
    "duration": 11,
    "start_time": "2022-11-28T21:26:59.621Z"
   },
   {
    "duration": 550,
    "start_time": "2022-11-28T21:27:01.607Z"
   },
   {
    "duration": 12,
    "start_time": "2022-11-28T21:27:04.137Z"
   },
   {
    "duration": 451,
    "start_time": "2022-11-28T21:29:10.483Z"
   },
   {
    "duration": 11,
    "start_time": "2022-11-28T21:29:14.212Z"
   },
   {
    "duration": 452,
    "start_time": "2022-11-28T21:29:43.348Z"
   },
   {
    "duration": 11,
    "start_time": "2022-11-28T21:29:46.343Z"
   },
   {
    "duration": 555,
    "start_time": "2022-11-28T21:31:01.097Z"
   },
   {
    "duration": 11,
    "start_time": "2022-11-28T21:31:04.206Z"
   },
   {
    "duration": 52,
    "start_time": "2022-11-29T08:33:34.292Z"
   },
   {
    "duration": 1529,
    "start_time": "2022-11-29T08:33:48.752Z"
   },
   {
    "duration": 8,
    "start_time": "2022-11-29T08:33:50.284Z"
   },
   {
    "duration": 16,
    "start_time": "2022-11-29T08:33:50.294Z"
   },
   {
    "duration": 34,
    "start_time": "2022-11-29T08:33:50.314Z"
   },
   {
    "duration": 62,
    "start_time": "2022-11-29T08:33:50.351Z"
   },
   {
    "duration": 10,
    "start_time": "2022-11-29T08:33:50.416Z"
   },
   {
    "duration": 8,
    "start_time": "2022-11-29T08:33:50.428Z"
   },
   {
    "duration": 44,
    "start_time": "2022-11-29T08:33:50.439Z"
   },
   {
    "duration": 80,
    "start_time": "2022-11-29T08:33:50.485Z"
   },
   {
    "duration": 175,
    "start_time": "2022-11-29T08:33:50.569Z"
   },
   {
    "duration": 174,
    "start_time": "2022-11-29T08:33:50.746Z"
   },
   {
    "duration": 23,
    "start_time": "2022-11-29T08:33:50.922Z"
   },
   {
    "duration": 25,
    "start_time": "2022-11-29T08:33:50.947Z"
   },
   {
    "duration": 57,
    "start_time": "2022-11-29T08:33:50.974Z"
   },
   {
    "duration": 4,
    "start_time": "2022-11-29T08:33:51.033Z"
   },
   {
    "duration": 391,
    "start_time": "2022-11-29T08:33:51.039Z"
   },
   {
    "duration": 4,
    "start_time": "2022-11-29T08:33:51.432Z"
   },
   {
    "duration": 222,
    "start_time": "2022-11-29T08:33:51.438Z"
   },
   {
    "duration": 275,
    "start_time": "2022-11-29T08:33:51.662Z"
   },
   {
    "duration": 197,
    "start_time": "2022-11-29T08:33:51.939Z"
   },
   {
    "duration": 174,
    "start_time": "2022-11-29T08:33:52.138Z"
   },
   {
    "duration": 175,
    "start_time": "2022-11-29T08:33:52.314Z"
   },
   {
    "duration": 192,
    "start_time": "2022-11-29T08:33:52.491Z"
   },
   {
    "duration": 206,
    "start_time": "2022-11-29T08:33:52.685Z"
   },
   {
    "duration": 138,
    "start_time": "2022-11-29T08:33:52.893Z"
   },
   {
    "duration": 173,
    "start_time": "2022-11-29T08:33:53.032Z"
   },
   {
    "duration": 173,
    "start_time": "2022-11-29T08:33:53.207Z"
   },
   {
    "duration": 183,
    "start_time": "2022-11-29T08:33:53.384Z"
   },
   {
    "duration": 194,
    "start_time": "2022-11-29T08:33:53.569Z"
   },
   {
    "duration": 260,
    "start_time": "2022-11-29T08:33:53.765Z"
   },
   {
    "duration": 218,
    "start_time": "2022-11-29T08:33:54.028Z"
   },
   {
    "duration": 265,
    "start_time": "2022-11-29T08:33:54.249Z"
   },
   {
    "duration": 162,
    "start_time": "2022-11-29T08:33:54.516Z"
   },
   {
    "duration": 39,
    "start_time": "2022-11-29T08:33:54.679Z"
   },
   {
    "duration": 66,
    "start_time": "2022-11-29T08:33:54.720Z"
   },
   {
    "duration": 29,
    "start_time": "2022-11-29T08:33:54.787Z"
   },
   {
    "duration": 247,
    "start_time": "2022-11-29T08:33:54.818Z"
   },
   {
    "duration": 10,
    "start_time": "2022-11-29T08:33:55.067Z"
   },
   {
    "duration": 42,
    "start_time": "2022-11-29T08:33:55.079Z"
   },
   {
    "duration": 112,
    "start_time": "2022-11-29T08:33:55.122Z"
   },
   {
    "duration": 0,
    "start_time": "2022-11-29T08:33:55.236Z"
   },
   {
    "duration": 0,
    "start_time": "2022-11-29T08:33:55.237Z"
   },
   {
    "duration": 0,
    "start_time": "2022-11-29T08:33:55.239Z"
   },
   {
    "duration": 11,
    "start_time": "2022-11-29T08:33:58.878Z"
   },
   {
    "duration": 17,
    "start_time": "2022-11-29T08:34:18.485Z"
   },
   {
    "duration": 18,
    "start_time": "2022-11-29T08:34:28.520Z"
   },
   {
    "duration": 16,
    "start_time": "2022-11-29T08:34:51.882Z"
   },
   {
    "duration": 19,
    "start_time": "2022-11-29T08:34:56.330Z"
   },
   {
    "duration": 11,
    "start_time": "2022-11-29T08:35:40.506Z"
   },
   {
    "duration": 17,
    "start_time": "2022-11-29T08:35:51.834Z"
   },
   {
    "duration": 21,
    "start_time": "2022-11-29T08:36:27.885Z"
   },
   {
    "duration": 17,
    "start_time": "2022-11-29T08:36:55.549Z"
   },
   {
    "duration": 19,
    "start_time": "2022-11-29T08:38:20.286Z"
   },
   {
    "duration": 17,
    "start_time": "2022-11-29T08:38:34.991Z"
   },
   {
    "duration": 19,
    "start_time": "2022-11-29T08:40:27.546Z"
   },
   {
    "duration": 17,
    "start_time": "2022-11-29T08:42:11.468Z"
   },
   {
    "duration": 17,
    "start_time": "2022-11-29T08:42:51.213Z"
   },
   {
    "duration": 18,
    "start_time": "2022-11-29T08:43:01.170Z"
   },
   {
    "duration": 19,
    "start_time": "2022-11-29T08:48:56.290Z"
   },
   {
    "duration": 175,
    "start_time": "2022-11-29T08:49:08.632Z"
   },
   {
    "duration": 217,
    "start_time": "2022-11-29T08:53:38.079Z"
   },
   {
    "duration": 311,
    "start_time": "2022-11-29T09:01:38.887Z"
   },
   {
    "duration": 13,
    "start_time": "2022-11-29T09:03:59.171Z"
   },
   {
    "duration": 611,
    "start_time": "2022-11-29T09:04:11.707Z"
   },
   {
    "duration": 14,
    "start_time": "2022-11-29T09:07:47.893Z"
   },
   {
    "duration": 593,
    "start_time": "2022-11-29T09:09:05.016Z"
   },
   {
    "duration": 12,
    "start_time": "2022-11-29T09:09:08.038Z"
   },
   {
    "duration": 1029,
    "start_time": "2022-11-29T09:12:41.864Z"
   },
   {
    "duration": 13,
    "start_time": "2022-11-29T09:12:45.491Z"
   },
   {
    "duration": 14,
    "start_time": "2022-11-29T09:13:19.384Z"
   },
   {
    "duration": 13,
    "start_time": "2022-11-29T09:13:29.213Z"
   },
   {
    "duration": 12,
    "start_time": "2022-11-29T09:13:34.549Z"
   },
   {
    "duration": 12,
    "start_time": "2022-11-29T09:14:05.914Z"
   },
   {
    "duration": 14,
    "start_time": "2022-11-29T09:14:32.046Z"
   },
   {
    "duration": 187,
    "start_time": "2022-11-29T09:45:37.935Z"
   },
   {
    "duration": 803,
    "start_time": "2022-11-29T10:15:51.389Z"
   },
   {
    "duration": 9,
    "start_time": "2022-11-29T10:15:52.194Z"
   },
   {
    "duration": 19,
    "start_time": "2022-11-29T10:15:52.204Z"
   },
   {
    "duration": 34,
    "start_time": "2022-11-29T10:15:52.225Z"
   },
   {
    "duration": 62,
    "start_time": "2022-11-29T10:15:52.261Z"
   },
   {
    "duration": 9,
    "start_time": "2022-11-29T10:15:52.325Z"
   },
   {
    "duration": 8,
    "start_time": "2022-11-29T10:15:52.336Z"
   },
   {
    "duration": 36,
    "start_time": "2022-11-29T10:15:52.346Z"
   },
   {
    "duration": 77,
    "start_time": "2022-11-29T10:15:52.384Z"
   },
   {
    "duration": 163,
    "start_time": "2022-11-29T10:15:52.464Z"
   },
   {
    "duration": 185,
    "start_time": "2022-11-29T10:15:52.629Z"
   },
   {
    "duration": 21,
    "start_time": "2022-11-29T10:15:52.816Z"
   },
   {
    "duration": 25,
    "start_time": "2022-11-29T10:15:52.839Z"
   },
   {
    "duration": 49,
    "start_time": "2022-11-29T10:15:52.866Z"
   },
   {
    "duration": 3,
    "start_time": "2022-11-29T10:15:52.917Z"
   },
   {
    "duration": 385,
    "start_time": "2022-11-29T10:15:52.922Z"
   },
   {
    "duration": 6,
    "start_time": "2022-11-29T10:15:53.309Z"
   },
   {
    "duration": 220,
    "start_time": "2022-11-29T10:15:53.317Z"
   },
   {
    "duration": 278,
    "start_time": "2022-11-29T10:15:53.539Z"
   },
   {
    "duration": 207,
    "start_time": "2022-11-29T10:15:53.820Z"
   },
   {
    "duration": 178,
    "start_time": "2022-11-29T10:15:54.029Z"
   },
   {
    "duration": 174,
    "start_time": "2022-11-29T10:15:54.212Z"
   },
   {
    "duration": 200,
    "start_time": "2022-11-29T10:15:54.388Z"
   },
   {
    "duration": 222,
    "start_time": "2022-11-29T10:15:54.590Z"
   },
   {
    "duration": 163,
    "start_time": "2022-11-29T10:15:54.814Z"
   },
   {
    "duration": 183,
    "start_time": "2022-11-29T10:15:54.979Z"
   },
   {
    "duration": 165,
    "start_time": "2022-11-29T10:15:55.164Z"
   },
   {
    "duration": 192,
    "start_time": "2022-11-29T10:15:55.333Z"
   },
   {
    "duration": 198,
    "start_time": "2022-11-29T10:15:55.527Z"
   },
   {
    "duration": 257,
    "start_time": "2022-11-29T10:15:55.727Z"
   },
   {
    "duration": 215,
    "start_time": "2022-11-29T10:15:55.986Z"
   },
   {
    "duration": 263,
    "start_time": "2022-11-29T10:15:56.203Z"
   },
   {
    "duration": 200,
    "start_time": "2022-11-29T10:15:56.467Z"
   },
   {
    "duration": 52,
    "start_time": "2022-11-29T10:15:56.669Z"
   },
   {
    "duration": 67,
    "start_time": "2022-11-29T10:15:56.722Z"
   },
   {
    "duration": 28,
    "start_time": "2022-11-29T10:15:56.790Z"
   },
   {
    "duration": 241,
    "start_time": "2022-11-29T10:15:56.820Z"
   },
   {
    "duration": 16,
    "start_time": "2022-11-29T10:15:57.063Z"
   },
   {
    "duration": 2,
    "start_time": "2022-11-29T10:15:57.081Z"
   },
   {
    "duration": 189,
    "start_time": "2022-11-29T10:15:57.086Z"
   },
   {
    "duration": 225,
    "start_time": "2022-11-29T10:15:57.276Z"
   },
   {
    "duration": 1116,
    "start_time": "2022-11-29T10:15:57.502Z"
   },
   {
    "duration": 15,
    "start_time": "2022-11-29T10:15:58.620Z"
   },
   {
    "duration": 751,
    "start_time": "2022-11-29T10:24:37.126Z"
   },
   {
    "duration": 8,
    "start_time": "2022-11-29T10:24:37.879Z"
   },
   {
    "duration": 17,
    "start_time": "2022-11-29T10:24:37.889Z"
   },
   {
    "duration": 40,
    "start_time": "2022-11-29T10:24:37.909Z"
   },
   {
    "duration": 51,
    "start_time": "2022-11-29T10:24:37.950Z"
   },
   {
    "duration": 7,
    "start_time": "2022-11-29T10:24:38.003Z"
   },
   {
    "duration": 18,
    "start_time": "2022-11-29T10:24:38.012Z"
   },
   {
    "duration": 49,
    "start_time": "2022-11-29T10:24:38.031Z"
   },
   {
    "duration": 52,
    "start_time": "2022-11-29T10:24:38.082Z"
   },
   {
    "duration": 172,
    "start_time": "2022-11-29T10:24:38.137Z"
   },
   {
    "duration": 192,
    "start_time": "2022-11-29T10:24:38.310Z"
   },
   {
    "duration": 23,
    "start_time": "2022-11-29T10:24:38.505Z"
   },
   {
    "duration": 24,
    "start_time": "2022-11-29T10:24:38.530Z"
   },
   {
    "duration": 45,
    "start_time": "2022-11-29T10:24:38.556Z"
   },
   {
    "duration": 4,
    "start_time": "2022-11-29T10:24:38.603Z"
   },
   {
    "duration": 353,
    "start_time": "2022-11-29T10:24:38.608Z"
   },
   {
    "duration": 4,
    "start_time": "2022-11-29T10:24:38.962Z"
   },
   {
    "duration": 195,
    "start_time": "2022-11-29T10:24:38.976Z"
   },
   {
    "duration": 239,
    "start_time": "2022-11-29T10:24:39.173Z"
   },
   {
    "duration": 192,
    "start_time": "2022-11-29T10:24:39.414Z"
   },
   {
    "duration": 163,
    "start_time": "2022-11-29T10:24:39.607Z"
   },
   {
    "duration": 167,
    "start_time": "2022-11-29T10:24:39.771Z"
   },
   {
    "duration": 171,
    "start_time": "2022-11-29T10:24:39.940Z"
   },
   {
    "duration": 194,
    "start_time": "2022-11-29T10:24:40.113Z"
   },
   {
    "duration": 131,
    "start_time": "2022-11-29T10:24:40.308Z"
   },
   {
    "duration": 168,
    "start_time": "2022-11-29T10:24:40.440Z"
   },
   {
    "duration": 151,
    "start_time": "2022-11-29T10:24:40.609Z"
   },
   {
    "duration": 166,
    "start_time": "2022-11-29T10:24:40.763Z"
   },
   {
    "duration": 188,
    "start_time": "2022-11-29T10:24:40.930Z"
   },
   {
    "duration": 251,
    "start_time": "2022-11-29T10:24:41.120Z"
   },
   {
    "duration": 215,
    "start_time": "2022-11-29T10:24:41.376Z"
   },
   {
    "duration": 240,
    "start_time": "2022-11-29T10:24:41.593Z"
   },
   {
    "duration": 161,
    "start_time": "2022-11-29T10:24:41.835Z"
   },
   {
    "duration": 28,
    "start_time": "2022-11-29T10:24:41.998Z"
   },
   {
    "duration": 82,
    "start_time": "2022-11-29T10:24:42.027Z"
   },
   {
    "duration": 14,
    "start_time": "2022-11-29T10:24:42.111Z"
   },
   {
    "duration": 242,
    "start_time": "2022-11-29T10:24:42.127Z"
   },
   {
    "duration": 16,
    "start_time": "2022-11-29T10:24:42.371Z"
   },
   {
    "duration": 3,
    "start_time": "2022-11-29T10:24:42.388Z"
   },
   {
    "duration": 186,
    "start_time": "2022-11-29T10:24:42.392Z"
   },
   {
    "duration": 226,
    "start_time": "2022-11-29T10:24:42.580Z"
   },
   {
    "duration": 1120,
    "start_time": "2022-11-29T10:24:42.808Z"
   },
   {
    "duration": 11,
    "start_time": "2022-11-29T10:24:43.930Z"
   },
   {
    "duration": 845,
    "start_time": "2022-11-29T10:46:18.608Z"
   },
   {
    "duration": 8,
    "start_time": "2022-11-29T10:46:19.455Z"
   },
   {
    "duration": 10,
    "start_time": "2022-11-29T10:46:19.475Z"
   },
   {
    "duration": 39,
    "start_time": "2022-11-29T10:46:19.488Z"
   },
   {
    "duration": 57,
    "start_time": "2022-11-29T10:46:19.529Z"
   },
   {
    "duration": 10,
    "start_time": "2022-11-29T10:46:19.587Z"
   },
   {
    "duration": 8,
    "start_time": "2022-11-29T10:46:19.598Z"
   },
   {
    "duration": 42,
    "start_time": "2022-11-29T10:46:19.607Z"
   },
   {
    "duration": 73,
    "start_time": "2022-11-29T10:46:19.651Z"
   },
   {
    "duration": 165,
    "start_time": "2022-11-29T10:46:19.726Z"
   },
   {
    "duration": 208,
    "start_time": "2022-11-29T10:46:19.893Z"
   },
   {
    "duration": 23,
    "start_time": "2022-11-29T10:46:20.103Z"
   },
   {
    "duration": 24,
    "start_time": "2022-11-29T10:46:20.128Z"
   },
   {
    "duration": 50,
    "start_time": "2022-11-29T10:46:20.154Z"
   },
   {
    "duration": 4,
    "start_time": "2022-11-29T10:46:20.205Z"
   },
   {
    "duration": 354,
    "start_time": "2022-11-29T10:46:20.211Z"
   },
   {
    "duration": 13,
    "start_time": "2022-11-29T10:46:20.567Z"
   },
   {
    "duration": 315,
    "start_time": "2022-11-29T10:46:20.581Z"
   },
   {
    "duration": 479,
    "start_time": "2022-11-29T10:46:20.898Z"
   },
   {
    "duration": 428,
    "start_time": "2022-11-29T10:46:21.380Z"
   },
   {
    "duration": 277,
    "start_time": "2022-11-29T10:46:21.811Z"
   },
   {
    "duration": 288,
    "start_time": "2022-11-29T10:46:22.090Z"
   },
   {
    "duration": 512,
    "start_time": "2022-11-29T10:46:22.380Z"
   },
   {
    "duration": 339,
    "start_time": "2022-11-29T10:46:22.893Z"
   },
   {
    "duration": 138,
    "start_time": "2022-11-29T10:46:23.233Z"
   },
   {
    "duration": 332,
    "start_time": "2022-11-29T10:46:23.376Z"
   },
   {
    "duration": 314,
    "start_time": "2022-11-29T10:46:23.710Z"
   },
   {
    "duration": 387,
    "start_time": "2022-11-29T10:46:24.027Z"
   },
   {
    "duration": 396,
    "start_time": "2022-11-29T10:46:24.416Z"
   },
   {
    "duration": 665,
    "start_time": "2022-11-29T10:46:24.814Z"
   },
   {
    "duration": 412,
    "start_time": "2022-11-29T10:46:25.480Z"
   },
   {
    "duration": 488,
    "start_time": "2022-11-29T10:46:25.893Z"
   },
   {
    "duration": 396,
    "start_time": "2022-11-29T10:46:26.384Z"
   },
   {
    "duration": 95,
    "start_time": "2022-11-29T10:46:26.782Z"
   },
   {
    "duration": 112,
    "start_time": "2022-11-29T10:46:26.879Z"
   },
   {
    "duration": 14,
    "start_time": "2022-11-29T10:46:26.993Z"
   },
   {
    "duration": 477,
    "start_time": "2022-11-29T10:46:27.009Z"
   },
   {
    "duration": 17,
    "start_time": "2022-11-29T10:46:27.488Z"
   },
   {
    "duration": 9,
    "start_time": "2022-11-29T10:46:27.506Z"
   },
   {
    "duration": 461,
    "start_time": "2022-11-29T10:46:27.518Z"
   },
   {
    "duration": 597,
    "start_time": "2022-11-29T10:46:27.982Z"
   },
   {
    "duration": 2300,
    "start_time": "2022-11-29T10:46:28.581Z"
   },
   {
    "duration": 14,
    "start_time": "2022-11-29T10:46:30.884Z"
   },
   {
    "duration": 8,
    "start_time": "2022-11-29T11:02:02.855Z"
   },
   {
    "duration": 20,
    "start_time": "2022-11-29T11:02:26.369Z"
   },
   {
    "duration": 153,
    "start_time": "2022-11-29T11:02:30.508Z"
   },
   {
    "duration": 760,
    "start_time": "2022-11-29T11:02:37.219Z"
   },
   {
    "duration": 10,
    "start_time": "2022-11-29T11:02:37.981Z"
   },
   {
    "duration": 13,
    "start_time": "2022-11-29T11:02:37.992Z"
   },
   {
    "duration": 38,
    "start_time": "2022-11-29T11:02:38.006Z"
   },
   {
    "duration": 62,
    "start_time": "2022-11-29T11:02:38.046Z"
   },
   {
    "duration": 10,
    "start_time": "2022-11-29T11:02:38.109Z"
   },
   {
    "duration": 11,
    "start_time": "2022-11-29T11:02:38.120Z"
   },
   {
    "duration": 59,
    "start_time": "2022-11-29T11:02:38.133Z"
   },
   {
    "duration": 52,
    "start_time": "2022-11-29T11:02:38.193Z"
   },
   {
    "duration": 172,
    "start_time": "2022-11-29T11:02:38.250Z"
   },
   {
    "duration": 173,
    "start_time": "2022-11-29T11:02:38.424Z"
   },
   {
    "duration": 22,
    "start_time": "2022-11-29T11:02:38.599Z"
   },
   {
    "duration": 149,
    "start_time": "2022-11-29T11:02:38.623Z"
   },
   {
    "duration": 25,
    "start_time": "2022-11-29T11:02:38.775Z"
   },
   {
    "duration": 26,
    "start_time": "2022-11-29T11:02:38.802Z"
   },
   {
    "duration": 3,
    "start_time": "2022-11-29T11:02:38.829Z"
   },
   {
    "duration": 381,
    "start_time": "2022-11-29T11:02:38.834Z"
   },
   {
    "duration": 4,
    "start_time": "2022-11-29T11:02:39.216Z"
   },
   {
    "duration": 204,
    "start_time": "2022-11-29T11:02:39.221Z"
   },
   {
    "duration": 283,
    "start_time": "2022-11-29T11:02:39.427Z"
   },
   {
    "duration": 198,
    "start_time": "2022-11-29T11:02:39.712Z"
   },
   {
    "duration": 168,
    "start_time": "2022-11-29T11:02:39.912Z"
   },
   {
    "duration": 178,
    "start_time": "2022-11-29T11:02:40.083Z"
   },
   {
    "duration": 183,
    "start_time": "2022-11-29T11:02:40.263Z"
   },
   {
    "duration": 200,
    "start_time": "2022-11-29T11:02:40.448Z"
   },
   {
    "duration": 146,
    "start_time": "2022-11-29T11:02:40.650Z"
   },
   {
    "duration": 170,
    "start_time": "2022-11-29T11:02:40.798Z"
   },
   {
    "duration": 169,
    "start_time": "2022-11-29T11:02:40.977Z"
   },
   {
    "duration": 199,
    "start_time": "2022-11-29T11:02:41.148Z"
   },
   {
    "duration": 221,
    "start_time": "2022-11-29T11:02:41.349Z"
   },
   {
    "duration": 238,
    "start_time": "2022-11-29T11:02:41.572Z"
   },
   {
    "duration": 203,
    "start_time": "2022-11-29T11:02:41.812Z"
   },
   {
    "duration": 241,
    "start_time": "2022-11-29T11:02:42.017Z"
   },
   {
    "duration": 145,
    "start_time": "2022-11-29T11:02:42.259Z"
   },
   {
    "duration": 26,
    "start_time": "2022-11-29T11:02:42.406Z"
   },
   {
    "duration": 81,
    "start_time": "2022-11-29T11:02:42.433Z"
   },
   {
    "duration": 13,
    "start_time": "2022-11-29T11:02:42.516Z"
   },
   {
    "duration": 240,
    "start_time": "2022-11-29T11:02:42.531Z"
   },
   {
    "duration": 16,
    "start_time": "2022-11-29T11:02:42.773Z"
   },
   {
    "duration": 3,
    "start_time": "2022-11-29T11:02:42.790Z"
   },
   {
    "duration": 186,
    "start_time": "2022-11-29T11:02:42.794Z"
   },
   {
    "duration": 223,
    "start_time": "2022-11-29T11:02:42.982Z"
   },
   {
    "duration": 1085,
    "start_time": "2022-11-29T11:02:43.209Z"
   },
   {
    "duration": 11,
    "start_time": "2022-11-29T11:02:44.296Z"
   },
   {
    "duration": 20,
    "start_time": "2022-11-29T11:02:48.743Z"
   },
   {
    "duration": 7,
    "start_time": "2022-11-29T11:03:13.756Z"
   },
   {
    "duration": 5,
    "start_time": "2022-11-29T11:03:21.305Z"
   },
   {
    "duration": 79,
    "start_time": "2022-11-29T12:42:26.182Z"
   },
   {
    "duration": 2863,
    "start_time": "2022-11-29T12:42:30.605Z"
   },
   {
    "duration": 149,
    "start_time": "2022-11-29T12:46:02.335Z"
   },
   {
    "duration": 47,
    "start_time": "2022-11-29T12:53:00.919Z"
   },
   {
    "duration": 145,
    "start_time": "2022-11-29T12:53:07.192Z"
   },
   {
    "duration": 1130,
    "start_time": "2022-11-29T12:55:53.163Z"
   },
   {
    "duration": 1102,
    "start_time": "2022-11-29T12:56:06.590Z"
   },
   {
    "duration": 921,
    "start_time": "2022-11-29T12:56:50.508Z"
   },
   {
    "duration": 1149,
    "start_time": "2022-11-29T12:56:59.673Z"
   },
   {
    "duration": 8,
    "start_time": "2022-11-29T12:57:00.825Z"
   },
   {
    "duration": 2225,
    "start_time": "2022-11-29T12:57:00.835Z"
   },
   {
    "duration": 11,
    "start_time": "2022-11-29T12:57:03.062Z"
   },
   {
    "duration": 41,
    "start_time": "2022-11-29T12:57:03.075Z"
   },
   {
    "duration": 53,
    "start_time": "2022-11-29T12:57:03.118Z"
   },
   {
    "duration": 11,
    "start_time": "2022-11-29T12:57:03.172Z"
   },
   {
    "duration": 16,
    "start_time": "2022-11-29T12:57:03.185Z"
   },
   {
    "duration": 61,
    "start_time": "2022-11-29T12:57:03.212Z"
   },
   {
    "duration": 52,
    "start_time": "2022-11-29T12:57:03.276Z"
   },
   {
    "duration": 161,
    "start_time": "2022-11-29T12:57:03.330Z"
   },
   {
    "duration": 176,
    "start_time": "2022-11-29T12:57:03.492Z"
   },
   {
    "duration": 22,
    "start_time": "2022-11-29T12:57:03.670Z"
   },
   {
    "duration": 39,
    "start_time": "2022-11-29T12:57:03.694Z"
   },
   {
    "duration": 30,
    "start_time": "2022-11-29T12:57:03.735Z"
   },
   {
    "duration": 3,
    "start_time": "2022-11-29T12:57:03.766Z"
   },
   {
    "duration": 392,
    "start_time": "2022-11-29T12:57:03.771Z"
   },
   {
    "duration": 5,
    "start_time": "2022-11-29T12:57:04.165Z"
   },
   {
    "duration": 240,
    "start_time": "2022-11-29T12:57:04.171Z"
   },
   {
    "duration": 218,
    "start_time": "2022-11-29T12:57:04.413Z"
   },
   {
    "duration": 298,
    "start_time": "2022-11-29T12:57:04.632Z"
   },
   {
    "duration": 175,
    "start_time": "2022-11-29T12:57:04.933Z"
   },
   {
    "duration": 176,
    "start_time": "2022-11-29T12:57:05.112Z"
   },
   {
    "duration": 189,
    "start_time": "2022-11-29T12:57:05.290Z"
   },
   {
    "duration": 211,
    "start_time": "2022-11-29T12:57:05.481Z"
   },
   {
    "duration": 134,
    "start_time": "2022-11-29T12:57:05.694Z"
   },
   {
    "duration": 179,
    "start_time": "2022-11-29T12:57:05.830Z"
   },
   {
    "duration": 167,
    "start_time": "2022-11-29T12:57:06.014Z"
   },
   {
    "duration": 212,
    "start_time": "2022-11-29T12:57:06.183Z"
   },
   {
    "duration": 251,
    "start_time": "2022-11-29T12:57:06.397Z"
   },
   {
    "duration": 193,
    "start_time": "2022-11-29T12:57:06.650Z"
   },
   {
    "duration": 321,
    "start_time": "2022-11-29T12:57:06.845Z"
   },
   {
    "duration": 256,
    "start_time": "2022-11-29T12:57:07.168Z"
   },
   {
    "duration": 161,
    "start_time": "2022-11-29T12:57:07.426Z"
   },
   {
    "duration": 40,
    "start_time": "2022-11-29T12:57:07.590Z"
   },
   {
    "duration": 67,
    "start_time": "2022-11-29T12:57:07.631Z"
   },
   {
    "duration": 14,
    "start_time": "2022-11-29T12:57:07.713Z"
   },
   {
    "duration": 255,
    "start_time": "2022-11-29T12:57:07.729Z"
   },
   {
    "duration": 27,
    "start_time": "2022-11-29T12:57:07.986Z"
   },
   {
    "duration": 4,
    "start_time": "2022-11-29T12:57:08.015Z"
   },
   {
    "duration": 184,
    "start_time": "2022-11-29T12:57:08.021Z"
   },
   {
    "duration": 244,
    "start_time": "2022-11-29T12:57:08.207Z"
   },
   {
    "duration": 1191,
    "start_time": "2022-11-29T12:57:08.453Z"
   },
   {
    "duration": 15,
    "start_time": "2022-11-29T12:57:09.646Z"
   },
   {
    "duration": 4,
    "start_time": "2022-11-29T12:57:12.358Z"
   },
   {
    "duration": 5,
    "start_time": "2022-11-29T12:57:14.846Z"
   },
   {
    "duration": 4,
    "start_time": "2022-11-29T12:58:11.464Z"
   },
   {
    "duration": 5,
    "start_time": "2022-11-29T12:58:38.891Z"
   },
   {
    "duration": 77,
    "start_time": "2022-11-29T12:58:53.244Z"
   },
   {
    "duration": 10,
    "start_time": "2022-11-29T12:58:57.859Z"
   },
   {
    "duration": 153,
    "start_time": "2022-11-29T12:59:01.377Z"
   },
   {
    "duration": 827,
    "start_time": "2022-11-29T12:59:22.828Z"
   },
   {
    "duration": 9,
    "start_time": "2022-11-29T12:59:23.658Z"
   },
   {
    "duration": 2280,
    "start_time": "2022-11-29T12:59:23.668Z"
   },
   {
    "duration": 11,
    "start_time": "2022-11-29T12:59:25.950Z"
   },
   {
    "duration": 36,
    "start_time": "2022-11-29T12:59:25.963Z"
   },
   {
    "duration": 45,
    "start_time": "2022-11-29T12:59:26.001Z"
   },
   {
    "duration": 10,
    "start_time": "2022-11-29T12:59:26.047Z"
   },
   {
    "duration": 9,
    "start_time": "2022-11-29T12:59:26.059Z"
   },
   {
    "duration": 62,
    "start_time": "2022-11-29T12:59:26.070Z"
   },
   {
    "duration": 53,
    "start_time": "2022-11-29T12:59:26.135Z"
   },
   {
    "duration": 210,
    "start_time": "2022-11-29T12:59:26.190Z"
   },
   {
    "duration": 218,
    "start_time": "2022-11-29T12:59:26.403Z"
   },
   {
    "duration": 24,
    "start_time": "2022-11-29T12:59:26.623Z"
   },
   {
    "duration": 27,
    "start_time": "2022-11-29T12:59:26.649Z"
   },
   {
    "duration": 51,
    "start_time": "2022-11-29T12:59:26.678Z"
   },
   {
    "duration": 4,
    "start_time": "2022-11-29T12:59:26.731Z"
   },
   {
    "duration": 404,
    "start_time": "2022-11-29T12:59:26.736Z"
   },
   {
    "duration": 170,
    "start_time": "2022-11-29T12:59:27.142Z"
   },
   {
    "duration": 214,
    "start_time": "2022-11-29T12:59:27.314Z"
   },
   {
    "duration": 220,
    "start_time": "2022-11-29T12:59:27.530Z"
   },
   {
    "duration": 302,
    "start_time": "2022-11-29T12:59:27.751Z"
   },
   {
    "duration": 185,
    "start_time": "2022-11-29T12:59:28.055Z"
   },
   {
    "duration": 188,
    "start_time": "2022-11-29T12:59:28.241Z"
   },
   {
    "duration": 188,
    "start_time": "2022-11-29T12:59:28.431Z"
   },
   {
    "duration": 218,
    "start_time": "2022-11-29T12:59:28.621Z"
   },
   {
    "duration": 139,
    "start_time": "2022-11-29T12:59:28.842Z"
   },
   {
    "duration": 189,
    "start_time": "2022-11-29T12:59:28.983Z"
   },
   {
    "duration": 209,
    "start_time": "2022-11-29T12:59:29.179Z"
   },
   {
    "duration": 194,
    "start_time": "2022-11-29T12:59:29.390Z"
   },
   {
    "duration": 198,
    "start_time": "2022-11-29T12:59:29.585Z"
   },
   {
    "duration": 193,
    "start_time": "2022-11-29T12:59:29.784Z"
   },
   {
    "duration": 364,
    "start_time": "2022-11-29T12:59:29.979Z"
   },
   {
    "duration": 264,
    "start_time": "2022-11-29T12:59:30.345Z"
   },
   {
    "duration": 168,
    "start_time": "2022-11-29T12:59:30.611Z"
   },
   {
    "duration": 41,
    "start_time": "2022-11-29T12:59:30.780Z"
   },
   {
    "duration": 66,
    "start_time": "2022-11-29T12:59:30.823Z"
   },
   {
    "duration": 29,
    "start_time": "2022-11-29T12:59:30.891Z"
   },
   {
    "duration": 247,
    "start_time": "2022-11-29T12:59:30.922Z"
   },
   {
    "duration": 17,
    "start_time": "2022-11-29T12:59:31.172Z"
   },
   {
    "duration": 3,
    "start_time": "2022-11-29T12:59:31.191Z"
   },
   {
    "duration": 198,
    "start_time": "2022-11-29T12:59:31.196Z"
   },
   {
    "duration": 233,
    "start_time": "2022-11-29T12:59:31.396Z"
   },
   {
    "duration": 1181,
    "start_time": "2022-11-29T12:59:31.631Z"
   },
   {
    "duration": 14,
    "start_time": "2022-11-29T12:59:32.814Z"
   },
   {
    "duration": 176,
    "start_time": "2022-11-29T13:00:13.148Z"
   },
   {
    "duration": 820,
    "start_time": "2022-11-29T13:00:21.762Z"
   },
   {
    "duration": 11,
    "start_time": "2022-11-29T13:00:22.585Z"
   },
   {
    "duration": 2270,
    "start_time": "2022-11-29T13:00:22.598Z"
   },
   {
    "duration": 14,
    "start_time": "2022-11-29T13:00:24.871Z"
   },
   {
    "duration": 48,
    "start_time": "2022-11-29T13:00:24.887Z"
   },
   {
    "duration": 51,
    "start_time": "2022-11-29T13:00:24.938Z"
   },
   {
    "duration": 28,
    "start_time": "2022-11-29T13:00:24.991Z"
   },
   {
    "duration": 14,
    "start_time": "2022-11-29T13:00:25.021Z"
   },
   {
    "duration": 50,
    "start_time": "2022-11-29T13:00:25.037Z"
   },
   {
    "duration": 73,
    "start_time": "2022-11-29T13:00:25.090Z"
   },
   {
    "duration": 185,
    "start_time": "2022-11-29T13:00:25.165Z"
   },
   {
    "duration": 189,
    "start_time": "2022-11-29T13:00:25.353Z"
   },
   {
    "duration": 23,
    "start_time": "2022-11-29T13:00:25.544Z"
   },
   {
    "duration": 47,
    "start_time": "2022-11-29T13:00:25.570Z"
   },
   {
    "duration": 33,
    "start_time": "2022-11-29T13:00:25.619Z"
   },
   {
    "duration": 4,
    "start_time": "2022-11-29T13:00:25.654Z"
   },
   {
    "duration": 417,
    "start_time": "2022-11-29T13:00:25.661Z"
   },
   {
    "duration": 174,
    "start_time": "2022-11-29T13:00:26.080Z"
   },
   {
    "duration": 214,
    "start_time": "2022-11-29T13:00:26.256Z"
   },
   {
    "duration": 293,
    "start_time": "2022-11-29T13:00:26.472Z"
   },
   {
    "duration": 329,
    "start_time": "2022-11-29T13:00:26.769Z"
   },
   {
    "duration": 180,
    "start_time": "2022-11-29T13:00:27.100Z"
   },
   {
    "duration": 188,
    "start_time": "2022-11-29T13:00:27.282Z"
   },
   {
    "duration": 219,
    "start_time": "2022-11-29T13:00:27.472Z"
   },
   {
    "duration": 225,
    "start_time": "2022-11-29T13:00:27.693Z"
   },
   {
    "duration": 145,
    "start_time": "2022-11-29T13:00:27.920Z"
   },
   {
    "duration": 213,
    "start_time": "2022-11-29T13:00:28.067Z"
   },
   {
    "duration": 191,
    "start_time": "2022-11-29T13:00:28.284Z"
   },
   {
    "duration": 194,
    "start_time": "2022-11-29T13:00:28.477Z"
   },
   {
    "duration": 210,
    "start_time": "2022-11-29T13:00:28.673Z"
   },
   {
    "duration": 211,
    "start_time": "2022-11-29T13:00:28.885Z"
   },
   {
    "duration": 383,
    "start_time": "2022-11-29T13:00:29.098Z"
   },
   {
    "duration": 284,
    "start_time": "2022-11-29T13:00:29.483Z"
   },
   {
    "duration": 169,
    "start_time": "2022-11-29T13:00:29.769Z"
   },
   {
    "duration": 32,
    "start_time": "2022-11-29T13:00:29.940Z"
   },
   {
    "duration": 100,
    "start_time": "2022-11-29T13:00:29.974Z"
   },
   {
    "duration": 16,
    "start_time": "2022-11-29T13:00:30.076Z"
   },
   {
    "duration": 325,
    "start_time": "2022-11-29T13:00:30.094Z"
   },
   {
    "duration": 19,
    "start_time": "2022-11-29T13:00:30.421Z"
   },
   {
    "duration": 64,
    "start_time": "2022-11-29T13:00:30.442Z"
   },
   {
    "duration": 203,
    "start_time": "2022-11-29T13:00:30.508Z"
   },
   {
    "duration": 242,
    "start_time": "2022-11-29T13:00:30.713Z"
   },
   {
    "duration": 681,
    "start_time": "2022-11-29T13:00:30.957Z"
   },
   {
    "duration": 0,
    "start_time": "2022-11-29T13:00:31.641Z"
   },
   {
    "duration": 179,
    "start_time": "2022-11-29T13:02:18.072Z"
   },
   {
    "duration": 266,
    "start_time": "2022-11-29T13:02:37.199Z"
   },
   {
    "duration": 310,
    "start_time": "2022-11-29T13:03:03.678Z"
   },
   {
    "duration": 41,
    "start_time": "2022-11-29T13:09:56.912Z"
   },
   {
    "duration": 315,
    "start_time": "2022-11-29T13:16:53.786Z"
   },
   {
    "duration": 13,
    "start_time": "2022-11-29T13:17:39.763Z"
   },
   {
    "duration": 884,
    "start_time": "2022-11-29T13:17:51.394Z"
   },
   {
    "duration": 9,
    "start_time": "2022-11-29T13:17:52.281Z"
   },
   {
    "duration": 2272,
    "start_time": "2022-11-29T13:17:52.292Z"
   },
   {
    "duration": 11,
    "start_time": "2022-11-29T13:17:54.568Z"
   },
   {
    "duration": 46,
    "start_time": "2022-11-29T13:17:54.581Z"
   },
   {
    "duration": 53,
    "start_time": "2022-11-29T13:17:54.629Z"
   },
   {
    "duration": 32,
    "start_time": "2022-11-29T13:17:54.685Z"
   },
   {
    "duration": 10,
    "start_time": "2022-11-29T13:17:54.720Z"
   },
   {
    "duration": 47,
    "start_time": "2022-11-29T13:17:54.732Z"
   },
   {
    "duration": 58,
    "start_time": "2022-11-29T13:17:54.814Z"
   },
   {
    "duration": 202,
    "start_time": "2022-11-29T13:17:54.874Z"
   },
   {
    "duration": 188,
    "start_time": "2022-11-29T13:17:55.078Z"
   },
   {
    "duration": 24,
    "start_time": "2022-11-29T13:17:55.268Z"
   },
   {
    "duration": 54,
    "start_time": "2022-11-29T13:17:55.293Z"
   },
   {
    "duration": 31,
    "start_time": "2022-11-29T13:17:55.349Z"
   },
   {
    "duration": 5,
    "start_time": "2022-11-29T13:17:55.383Z"
   },
   {
    "duration": 396,
    "start_time": "2022-11-29T13:17:55.414Z"
   },
   {
    "duration": 175,
    "start_time": "2022-11-29T13:17:55.812Z"
   },
   {
    "duration": 257,
    "start_time": "2022-11-29T13:17:55.989Z"
   },
   {
    "duration": 231,
    "start_time": "2022-11-29T13:17:56.248Z"
   },
   {
    "duration": 325,
    "start_time": "2022-11-29T13:17:56.480Z"
   },
   {
    "duration": 202,
    "start_time": "2022-11-29T13:17:56.811Z"
   },
   {
    "duration": 223,
    "start_time": "2022-11-29T13:17:57.015Z"
   },
   {
    "duration": 282,
    "start_time": "2022-11-29T13:17:57.240Z"
   },
   {
    "duration": 247,
    "start_time": "2022-11-29T13:17:57.525Z"
   },
   {
    "duration": 146,
    "start_time": "2022-11-29T13:17:57.774Z"
   },
   {
    "duration": 190,
    "start_time": "2022-11-29T13:17:57.922Z"
   },
   {
    "duration": 216,
    "start_time": "2022-11-29T13:17:58.116Z"
   },
   {
    "duration": 205,
    "start_time": "2022-11-29T13:17:58.334Z"
   },
   {
    "duration": 213,
    "start_time": "2022-11-29T13:17:58.541Z"
   },
   {
    "duration": 224,
    "start_time": "2022-11-29T13:17:58.756Z"
   },
   {
    "duration": 330,
    "start_time": "2022-11-29T13:17:58.982Z"
   },
   {
    "duration": 305,
    "start_time": "2022-11-29T13:17:59.314Z"
   },
   {
    "duration": 205,
    "start_time": "2022-11-29T13:17:59.621Z"
   },
   {
    "duration": 31,
    "start_time": "2022-11-29T13:17:59.829Z"
   },
   {
    "duration": 84,
    "start_time": "2022-11-29T13:17:59.862Z"
   },
   {
    "duration": 87,
    "start_time": "2022-11-29T13:17:59.949Z"
   },
   {
    "duration": 0,
    "start_time": "2022-11-29T13:18:00.038Z"
   },
   {
    "duration": 0,
    "start_time": "2022-11-29T13:18:00.041Z"
   },
   {
    "duration": 0,
    "start_time": "2022-11-29T13:18:00.042Z"
   },
   {
    "duration": 0,
    "start_time": "2022-11-29T13:18:00.044Z"
   },
   {
    "duration": 0,
    "start_time": "2022-11-29T13:18:00.046Z"
   },
   {
    "duration": 0,
    "start_time": "2022-11-29T13:18:00.047Z"
   },
   {
    "duration": 0,
    "start_time": "2022-11-29T13:18:00.049Z"
   },
   {
    "duration": 0,
    "start_time": "2022-11-29T13:18:00.052Z"
   },
   {
    "duration": 16,
    "start_time": "2022-11-29T13:18:03.686Z"
   },
   {
    "duration": 15,
    "start_time": "2022-11-29T13:18:35.881Z"
   },
   {
    "duration": 1024,
    "start_time": "2022-11-29T13:25:34.548Z"
   },
   {
    "duration": 16,
    "start_time": "2022-11-29T13:30:52.964Z"
   },
   {
    "duration": 24,
    "start_time": "2022-11-29T13:31:21.868Z"
   },
   {
    "duration": 127,
    "start_time": "2022-11-29T13:32:03.902Z"
   },
   {
    "duration": 790,
    "start_time": "2022-11-29T13:32:10.730Z"
   },
   {
    "duration": 8,
    "start_time": "2022-11-29T13:32:11.522Z"
   },
   {
    "duration": 2288,
    "start_time": "2022-11-29T13:32:11.532Z"
   },
   {
    "duration": 10,
    "start_time": "2022-11-29T13:32:13.823Z"
   },
   {
    "duration": 34,
    "start_time": "2022-11-29T13:32:13.835Z"
   },
   {
    "duration": 67,
    "start_time": "2022-11-29T13:32:13.871Z"
   },
   {
    "duration": 14,
    "start_time": "2022-11-29T13:32:13.940Z"
   },
   {
    "duration": 15,
    "start_time": "2022-11-29T13:32:13.956Z"
   },
   {
    "duration": 82,
    "start_time": "2022-11-29T13:32:13.973Z"
   },
   {
    "duration": 67,
    "start_time": "2022-11-29T13:32:14.059Z"
   },
   {
    "duration": 176,
    "start_time": "2022-11-29T13:32:14.128Z"
   },
   {
    "duration": 185,
    "start_time": "2022-11-29T13:32:14.306Z"
   },
   {
    "duration": 46,
    "start_time": "2022-11-29T13:32:14.494Z"
   },
   {
    "duration": 27,
    "start_time": "2022-11-29T13:32:14.542Z"
   },
   {
    "duration": 49,
    "start_time": "2022-11-29T13:32:14.571Z"
   },
   {
    "duration": 5,
    "start_time": "2022-11-29T13:32:14.622Z"
   },
   {
    "duration": 425,
    "start_time": "2022-11-29T13:32:14.629Z"
   },
   {
    "duration": 206,
    "start_time": "2022-11-29T13:32:15.056Z"
   },
   {
    "duration": 251,
    "start_time": "2022-11-29T13:32:15.264Z"
   },
   {
    "duration": 232,
    "start_time": "2022-11-29T13:32:15.517Z"
   },
   {
    "duration": 307,
    "start_time": "2022-11-29T13:32:15.752Z"
   },
   {
    "duration": 210,
    "start_time": "2022-11-29T13:32:16.061Z"
   },
   {
    "duration": 188,
    "start_time": "2022-11-29T13:32:16.274Z"
   },
   {
    "duration": 197,
    "start_time": "2022-11-29T13:32:16.464Z"
   },
   {
    "duration": 241,
    "start_time": "2022-11-29T13:32:16.663Z"
   },
   {
    "duration": 191,
    "start_time": "2022-11-29T13:32:16.912Z"
   },
   {
    "duration": 228,
    "start_time": "2022-11-29T13:32:17.105Z"
   },
   {
    "duration": 180,
    "start_time": "2022-11-29T13:32:17.336Z"
   },
   {
    "duration": 206,
    "start_time": "2022-11-29T13:32:17.518Z"
   },
   {
    "duration": 211,
    "start_time": "2022-11-29T13:32:17.726Z"
   },
   {
    "duration": 196,
    "start_time": "2022-11-29T13:32:17.939Z"
   },
   {
    "duration": 338,
    "start_time": "2022-11-29T13:32:18.137Z"
   },
   {
    "duration": 270,
    "start_time": "2022-11-29T13:32:18.477Z"
   },
   {
    "duration": 192,
    "start_time": "2022-11-29T13:32:18.749Z"
   },
   {
    "duration": 36,
    "start_time": "2022-11-29T13:32:18.944Z"
   },
   {
    "duration": 84,
    "start_time": "2022-11-29T13:32:18.982Z"
   },
   {
    "duration": 111,
    "start_time": "2022-11-29T13:32:19.068Z"
   },
   {
    "duration": 0,
    "start_time": "2022-11-29T13:32:19.182Z"
   },
   {
    "duration": 0,
    "start_time": "2022-11-29T13:32:19.184Z"
   },
   {
    "duration": 0,
    "start_time": "2022-11-29T13:32:19.186Z"
   },
   {
    "duration": 0,
    "start_time": "2022-11-29T13:32:19.188Z"
   },
   {
    "duration": 0,
    "start_time": "2022-11-29T13:32:19.189Z"
   },
   {
    "duration": 0,
    "start_time": "2022-11-29T13:32:19.191Z"
   },
   {
    "duration": 0,
    "start_time": "2022-11-29T13:32:19.213Z"
   },
   {
    "duration": 0,
    "start_time": "2022-11-29T13:32:19.215Z"
   },
   {
    "duration": 22,
    "start_time": "2022-11-29T13:32:26.062Z"
   },
   {
    "duration": 185,
    "start_time": "2022-11-29T13:33:53.443Z"
   },
   {
    "duration": 51,
    "start_time": "2022-11-29T13:44:51.263Z"
   },
   {
    "duration": 239,
    "start_time": "2022-11-29T13:45:19.251Z"
   },
   {
    "duration": 903,
    "start_time": "2022-11-29T13:46:06.073Z"
   },
   {
    "duration": 9,
    "start_time": "2022-11-29T13:46:06.978Z"
   },
   {
    "duration": 2278,
    "start_time": "2022-11-29T13:46:06.990Z"
   },
   {
    "duration": 13,
    "start_time": "2022-11-29T13:46:09.272Z"
   },
   {
    "duration": 39,
    "start_time": "2022-11-29T13:46:09.287Z"
   },
   {
    "duration": 51,
    "start_time": "2022-11-29T13:46:09.328Z"
   },
   {
    "duration": 11,
    "start_time": "2022-11-29T13:46:09.381Z"
   },
   {
    "duration": 9,
    "start_time": "2022-11-29T13:46:09.413Z"
   },
   {
    "duration": 50,
    "start_time": "2022-11-29T13:46:09.424Z"
   },
   {
    "duration": 106,
    "start_time": "2022-11-29T13:46:09.477Z"
   },
   {
    "duration": 176,
    "start_time": "2022-11-29T13:46:09.584Z"
   },
   {
    "duration": 192,
    "start_time": "2022-11-29T13:46:09.761Z"
   },
   {
    "duration": 24,
    "start_time": "2022-11-29T13:46:09.955Z"
   },
   {
    "duration": 44,
    "start_time": "2022-11-29T13:46:09.980Z"
   },
   {
    "duration": 28,
    "start_time": "2022-11-29T13:46:10.026Z"
   },
   {
    "duration": 4,
    "start_time": "2022-11-29T13:46:10.056Z"
   },
   {
    "duration": 420,
    "start_time": "2022-11-29T13:46:10.062Z"
   },
   {
    "duration": 174,
    "start_time": "2022-11-29T13:46:10.483Z"
   },
   {
    "duration": 237,
    "start_time": "2022-11-29T13:46:10.659Z"
   },
   {
    "duration": 233,
    "start_time": "2022-11-29T13:46:10.899Z"
   },
   {
    "duration": 324,
    "start_time": "2022-11-29T13:46:11.135Z"
   },
   {
    "duration": 203,
    "start_time": "2022-11-29T13:46:11.461Z"
   },
   {
    "duration": 200,
    "start_time": "2022-11-29T13:46:11.667Z"
   },
   {
    "duration": 229,
    "start_time": "2022-11-29T13:46:11.870Z"
   },
   {
    "duration": 231,
    "start_time": "2022-11-29T13:46:12.102Z"
   },
   {
    "duration": 147,
    "start_time": "2022-11-29T13:46:12.336Z"
   },
   {
    "duration": 184,
    "start_time": "2022-11-29T13:46:12.484Z"
   },
   {
    "duration": 173,
    "start_time": "2022-11-29T13:46:12.673Z"
   },
   {
    "duration": 206,
    "start_time": "2022-11-29T13:46:12.848Z"
   },
   {
    "duration": 219,
    "start_time": "2022-11-29T13:46:13.056Z"
   },
   {
    "duration": 226,
    "start_time": "2022-11-29T13:46:13.278Z"
   },
   {
    "duration": 339,
    "start_time": "2022-11-29T13:46:13.507Z"
   },
   {
    "duration": 274,
    "start_time": "2022-11-29T13:46:13.848Z"
   },
   {
    "duration": 186,
    "start_time": "2022-11-29T13:46:14.125Z"
   },
   {
    "duration": 42,
    "start_time": "2022-11-29T13:46:14.328Z"
   },
   {
    "duration": 82,
    "start_time": "2022-11-29T13:46:14.373Z"
   },
   {
    "duration": 239,
    "start_time": "2022-11-29T13:46:14.458Z"
   },
   {
    "duration": 34,
    "start_time": "2022-11-29T13:46:14.700Z"
   },
   {
    "duration": 320,
    "start_time": "2022-11-29T13:46:14.737Z"
   },
   {
    "duration": 27,
    "start_time": "2022-11-29T13:46:15.060Z"
   },
   {
    "duration": 9,
    "start_time": "2022-11-29T13:46:15.090Z"
   },
   {
    "duration": 236,
    "start_time": "2022-11-29T13:46:15.101Z"
   },
   {
    "duration": 247,
    "start_time": "2022-11-29T13:46:15.340Z"
   },
   {
    "duration": 522,
    "start_time": "2022-11-29T13:46:15.590Z"
   },
   {
    "duration": 0,
    "start_time": "2022-11-29T13:46:16.115Z"
   },
   {
    "duration": 62,
    "start_time": "2022-11-29T13:46:32.634Z"
   },
   {
    "duration": 205,
    "start_time": "2022-11-29T13:46:39.128Z"
   },
   {
    "duration": 207,
    "start_time": "2022-11-29T13:47:12.218Z"
   },
   {
    "duration": 29,
    "start_time": "2022-11-29T13:47:21.331Z"
   },
   {
    "duration": 26,
    "start_time": "2022-11-29T13:48:53.057Z"
   },
   {
    "duration": 11,
    "start_time": "2022-11-29T13:48:57.159Z"
   },
   {
    "duration": 201,
    "start_time": "2022-11-29T13:49:02.957Z"
   },
   {
    "duration": 277,
    "start_time": "2022-11-29T13:50:58.868Z"
   },
   {
    "duration": 225,
    "start_time": "2022-11-29T13:52:44.744Z"
   },
   {
    "duration": 198,
    "start_time": "2022-11-29T13:53:08.111Z"
   },
   {
    "duration": 234,
    "start_time": "2022-11-29T13:56:34.386Z"
   },
   {
    "duration": 1230,
    "start_time": "2022-11-29T13:57:10.357Z"
   },
   {
    "duration": 626,
    "start_time": "2022-11-29T13:57:19.609Z"
   },
   {
    "duration": 175,
    "start_time": "2022-11-29T14:08:45.046Z"
   },
   {
    "duration": 21,
    "start_time": "2022-11-29T14:08:52.120Z"
   },
   {
    "duration": 29,
    "start_time": "2022-11-29T14:09:12.752Z"
   },
   {
    "duration": 191,
    "start_time": "2022-11-29T14:10:53.290Z"
   },
   {
    "duration": 196,
    "start_time": "2022-11-29T14:12:10.779Z"
   },
   {
    "duration": 252,
    "start_time": "2022-11-29T14:12:49.160Z"
   },
   {
    "duration": 140,
    "start_time": "2022-11-29T14:13:09.085Z"
   },
   {
    "duration": 939,
    "start_time": "2022-11-29T14:13:17.253Z"
   },
   {
    "duration": 12,
    "start_time": "2022-11-29T14:13:24.878Z"
   },
   {
    "duration": 9,
    "start_time": "2022-11-29T14:13:35.740Z"
   },
   {
    "duration": 606,
    "start_time": "2022-11-29T14:14:13.039Z"
   },
   {
    "duration": 10,
    "start_time": "2022-11-29T14:15:17.410Z"
   },
   {
    "duration": 9,
    "start_time": "2022-11-29T14:15:21.884Z"
   },
   {
    "duration": 21,
    "start_time": "2022-11-29T14:20:22.253Z"
   },
   {
    "duration": 15,
    "start_time": "2022-11-29T14:20:34.427Z"
   },
   {
    "duration": 183,
    "start_time": "2022-11-29T14:20:43.415Z"
   },
   {
    "duration": 21,
    "start_time": "2022-11-29T14:38:29.738Z"
   },
   {
    "duration": 8,
    "start_time": "2022-11-29T14:38:56.909Z"
   },
   {
    "duration": 245,
    "start_time": "2022-11-29T14:39:06.545Z"
   },
   {
    "duration": 177,
    "start_time": "2022-11-29T14:39:35.611Z"
   },
   {
    "duration": 209,
    "start_time": "2022-11-29T14:39:43.112Z"
   },
   {
    "duration": 356,
    "start_time": "2022-11-29T14:39:57.047Z"
   },
   {
    "duration": 194,
    "start_time": "2022-11-29T14:40:39.412Z"
   },
   {
    "duration": 157,
    "start_time": "2022-11-29T14:41:01.372Z"
   },
   {
    "duration": 251,
    "start_time": "2022-11-29T14:42:06.309Z"
   },
   {
    "duration": 154,
    "start_time": "2022-11-29T14:42:08.954Z"
   },
   {
    "duration": 133,
    "start_time": "2022-11-29T14:42:40.884Z"
   },
   {
    "duration": 380,
    "start_time": "2022-11-29T14:53:13.785Z"
   },
   {
    "duration": 17,
    "start_time": "2022-11-29T14:53:35.727Z"
   },
   {
    "duration": 163,
    "start_time": "2022-11-29T14:55:14.928Z"
   },
   {
    "duration": 782,
    "start_time": "2022-11-29T14:55:23.241Z"
   },
   {
    "duration": 12,
    "start_time": "2022-11-29T14:55:24.026Z"
   },
   {
    "duration": 2219,
    "start_time": "2022-11-29T14:55:24.041Z"
   },
   {
    "duration": 10,
    "start_time": "2022-11-29T14:55:26.262Z"
   },
   {
    "duration": 33,
    "start_time": "2022-11-29T14:55:26.274Z"
   },
   {
    "duration": 46,
    "start_time": "2022-11-29T14:55:26.309Z"
   },
   {
    "duration": 9,
    "start_time": "2022-11-29T14:55:26.356Z"
   },
   {
    "duration": 8,
    "start_time": "2022-11-29T14:55:26.367Z"
   },
   {
    "duration": 74,
    "start_time": "2022-11-29T14:55:26.377Z"
   },
   {
    "duration": 61,
    "start_time": "2022-11-29T14:55:26.454Z"
   },
   {
    "duration": 188,
    "start_time": "2022-11-29T14:55:26.517Z"
   },
   {
    "duration": 228,
    "start_time": "2022-11-29T14:55:26.712Z"
   },
   {
    "duration": 24,
    "start_time": "2022-11-29T14:55:26.943Z"
   },
   {
    "duration": 44,
    "start_time": "2022-11-29T14:55:26.969Z"
   },
   {
    "duration": 30,
    "start_time": "2022-11-29T14:55:27.014Z"
   },
   {
    "duration": 3,
    "start_time": "2022-11-29T14:55:27.047Z"
   },
   {
    "duration": 395,
    "start_time": "2022-11-29T14:55:27.052Z"
   },
   {
    "duration": 162,
    "start_time": "2022-11-29T14:55:27.450Z"
   },
   {
    "duration": 213,
    "start_time": "2022-11-29T14:55:27.614Z"
   },
   {
    "duration": 216,
    "start_time": "2022-11-29T14:55:27.829Z"
   },
   {
    "duration": 297,
    "start_time": "2022-11-29T14:55:28.046Z"
   },
   {
    "duration": 205,
    "start_time": "2022-11-29T14:55:28.345Z"
   },
   {
    "duration": 195,
    "start_time": "2022-11-29T14:55:28.552Z"
   },
   {
    "duration": 215,
    "start_time": "2022-11-29T14:55:28.749Z"
   },
   {
    "duration": 218,
    "start_time": "2022-11-29T14:55:28.966Z"
   },
   {
    "duration": 160,
    "start_time": "2022-11-29T14:55:29.186Z"
   },
   {
    "duration": 197,
    "start_time": "2022-11-29T14:55:29.348Z"
   },
   {
    "duration": 172,
    "start_time": "2022-11-29T14:55:29.551Z"
   },
   {
    "duration": 190,
    "start_time": "2022-11-29T14:55:29.725Z"
   },
   {
    "duration": 201,
    "start_time": "2022-11-29T14:55:29.917Z"
   },
   {
    "duration": 201,
    "start_time": "2022-11-29T14:55:30.119Z"
   },
   {
    "duration": 345,
    "start_time": "2022-11-29T14:55:30.322Z"
   },
   {
    "duration": 266,
    "start_time": "2022-11-29T14:55:30.669Z"
   },
   {
    "duration": 162,
    "start_time": "2022-11-29T14:55:30.937Z"
   },
   {
    "duration": 38,
    "start_time": "2022-11-29T14:55:31.101Z"
   },
   {
    "duration": 84,
    "start_time": "2022-11-29T14:55:31.141Z"
   },
   {
    "duration": 154,
    "start_time": "2022-11-29T14:55:31.227Z"
   },
   {
    "duration": 181,
    "start_time": "2022-11-29T14:55:31.383Z"
   },
   {
    "duration": 211,
    "start_time": "2022-11-29T14:55:31.566Z"
   },
   {
    "duration": 172,
    "start_time": "2022-11-29T14:55:31.779Z"
   },
   {
    "duration": 619,
    "start_time": "2022-11-29T14:55:31.953Z"
   },
   {
    "duration": 15,
    "start_time": "2022-11-29T14:55:32.574Z"
   },
   {
    "duration": 373,
    "start_time": "2022-11-29T14:55:32.591Z"
   },
   {
    "duration": 17,
    "start_time": "2022-11-29T14:55:32.966Z"
   },
   {
    "duration": 3,
    "start_time": "2022-11-29T14:55:32.985Z"
   },
   {
    "duration": 187,
    "start_time": "2022-11-29T14:55:32.990Z"
   },
   {
    "duration": 225,
    "start_time": "2022-11-29T14:55:33.179Z"
   },
   {
    "duration": 1088,
    "start_time": "2022-11-29T14:55:33.406Z"
   },
   {
    "duration": 17,
    "start_time": "2022-11-29T14:55:34.496Z"
   },
   {
    "duration": 143,
    "start_time": "2022-11-29T14:58:25.076Z"
   },
   {
    "duration": 156,
    "start_time": "2022-11-29T14:58:29.331Z"
   },
   {
    "duration": 251,
    "start_time": "2022-11-29T15:00:36.908Z"
   },
   {
    "duration": 292,
    "start_time": "2022-11-29T15:02:14.176Z"
   },
   {
    "duration": 232,
    "start_time": "2022-11-29T15:03:12.504Z"
   },
   {
    "duration": 239,
    "start_time": "2022-11-29T15:03:23.127Z"
   },
   {
    "duration": 297,
    "start_time": "2022-11-29T15:03:45.902Z"
   },
   {
    "duration": 51,
    "start_time": "2022-11-29T15:09:05.696Z"
   },
   {
    "duration": 31,
    "start_time": "2022-11-29T15:09:11.100Z"
   },
   {
    "duration": 95,
    "start_time": "2022-11-29T15:13:55.680Z"
   },
   {
    "duration": 743,
    "start_time": "2022-11-29T17:41:33.044Z"
   },
   {
    "duration": 7,
    "start_time": "2022-11-29T17:41:33.788Z"
   },
   {
    "duration": 1914,
    "start_time": "2022-11-29T17:41:33.796Z"
   },
   {
    "duration": 9,
    "start_time": "2022-11-29T17:41:35.712Z"
   },
   {
    "duration": 30,
    "start_time": "2022-11-29T17:41:35.722Z"
   },
   {
    "duration": 50,
    "start_time": "2022-11-29T17:41:35.754Z"
   },
   {
    "duration": 8,
    "start_time": "2022-11-29T17:41:35.805Z"
   },
   {
    "duration": 7,
    "start_time": "2022-11-29T17:41:35.815Z"
   },
   {
    "duration": 55,
    "start_time": "2022-11-29T17:41:35.823Z"
   },
   {
    "duration": 45,
    "start_time": "2022-11-29T17:41:35.881Z"
   },
   {
    "duration": 154,
    "start_time": "2022-11-29T17:41:35.927Z"
   },
   {
    "duration": 147,
    "start_time": "2022-11-29T17:41:36.083Z"
   },
   {
    "duration": 19,
    "start_time": "2022-11-29T17:41:36.231Z"
   },
   {
    "duration": 35,
    "start_time": "2022-11-29T17:41:36.251Z"
   },
   {
    "duration": 25,
    "start_time": "2022-11-29T17:41:36.287Z"
   },
   {
    "duration": 3,
    "start_time": "2022-11-29T17:41:36.313Z"
   },
   {
    "duration": 332,
    "start_time": "2022-11-29T17:41:36.318Z"
   },
   {
    "duration": 142,
    "start_time": "2022-11-29T17:41:36.651Z"
   },
   {
    "duration": 180,
    "start_time": "2022-11-29T17:41:36.794Z"
   },
   {
    "duration": 190,
    "start_time": "2022-11-29T17:41:36.977Z"
   },
   {
    "duration": 248,
    "start_time": "2022-11-29T17:41:37.170Z"
   },
   {
    "duration": 168,
    "start_time": "2022-11-29T17:41:37.420Z"
   },
   {
    "duration": 150,
    "start_time": "2022-11-29T17:41:37.589Z"
   },
   {
    "duration": 164,
    "start_time": "2022-11-29T17:41:37.741Z"
   },
   {
    "duration": 175,
    "start_time": "2022-11-29T17:41:37.907Z"
   },
   {
    "duration": 115,
    "start_time": "2022-11-29T17:41:38.084Z"
   },
   {
    "duration": 150,
    "start_time": "2022-11-29T17:41:38.201Z"
   },
   {
    "duration": 137,
    "start_time": "2022-11-29T17:41:38.355Z"
   },
   {
    "duration": 160,
    "start_time": "2022-11-29T17:41:38.494Z"
   },
   {
    "duration": 172,
    "start_time": "2022-11-29T17:41:38.656Z"
   },
   {
    "duration": 155,
    "start_time": "2022-11-29T17:41:38.830Z"
   },
   {
    "duration": 286,
    "start_time": "2022-11-29T17:41:38.987Z"
   },
   {
    "duration": 232,
    "start_time": "2022-11-29T17:41:39.278Z"
   },
   {
    "duration": 139,
    "start_time": "2022-11-29T17:41:39.512Z"
   },
   {
    "duration": 36,
    "start_time": "2022-11-29T17:41:39.652Z"
   },
   {
    "duration": 55,
    "start_time": "2022-11-29T17:41:39.689Z"
   },
   {
    "duration": 136,
    "start_time": "2022-11-29T17:41:39.745Z"
   },
   {
    "duration": 150,
    "start_time": "2022-11-29T17:41:39.882Z"
   },
   {
    "duration": 179,
    "start_time": "2022-11-29T17:41:40.034Z"
   },
   {
    "duration": 139,
    "start_time": "2022-11-29T17:41:40.214Z"
   },
   {
    "duration": 548,
    "start_time": "2022-11-29T17:41:40.355Z"
   },
   {
    "duration": 13,
    "start_time": "2022-11-29T17:41:40.905Z"
   },
   {
    "duration": 324,
    "start_time": "2022-11-29T17:41:40.919Z"
   },
   {
    "duration": 15,
    "start_time": "2022-11-29T17:41:41.245Z"
   },
   {
    "duration": 36,
    "start_time": "2022-11-29T17:41:41.262Z"
   },
   {
    "duration": 147,
    "start_time": "2022-11-29T17:41:41.300Z"
   },
   {
    "duration": 186,
    "start_time": "2022-11-29T17:41:41.449Z"
   },
   {
    "duration": 904,
    "start_time": "2022-11-29T17:41:41.637Z"
   },
   {
    "duration": 11,
    "start_time": "2022-11-29T17:41:42.542Z"
   },
   {
    "duration": 45,
    "start_time": "2022-11-29T17:54:56.683Z"
   },
   {
    "duration": 5,
    "start_time": "2022-11-29T17:55:01.282Z"
   },
   {
    "duration": 957,
    "start_time": "2022-11-29T17:55:06.988Z"
   },
   {
    "duration": 9,
    "start_time": "2022-11-29T17:55:07.948Z"
   },
   {
    "duration": 1944,
    "start_time": "2022-11-29T17:55:07.958Z"
   },
   {
    "duration": 10,
    "start_time": "2022-11-29T17:55:09.904Z"
   },
   {
    "duration": 29,
    "start_time": "2022-11-29T17:55:09.916Z"
   },
   {
    "duration": 39,
    "start_time": "2022-11-29T17:55:09.947Z"
   },
   {
    "duration": 8,
    "start_time": "2022-11-29T17:55:09.988Z"
   },
   {
    "duration": 8,
    "start_time": "2022-11-29T17:55:09.998Z"
   },
   {
    "duration": 62,
    "start_time": "2022-11-29T17:55:10.008Z"
   },
   {
    "duration": 48,
    "start_time": "2022-11-29T17:55:10.073Z"
   },
   {
    "duration": 150,
    "start_time": "2022-11-29T17:55:10.122Z"
   },
   {
    "duration": 149,
    "start_time": "2022-11-29T17:55:10.274Z"
   },
   {
    "duration": 29,
    "start_time": "2022-11-29T17:55:10.425Z"
   },
   {
    "duration": 22,
    "start_time": "2022-11-29T17:55:10.456Z"
   },
   {
    "duration": 28,
    "start_time": "2022-11-29T17:55:10.480Z"
   },
   {
    "duration": 3,
    "start_time": "2022-11-29T17:55:10.509Z"
   },
   {
    "duration": 341,
    "start_time": "2022-11-29T17:55:10.513Z"
   },
   {
    "duration": 148,
    "start_time": "2022-11-29T17:55:10.856Z"
   },
   {
    "duration": 177,
    "start_time": "2022-11-29T17:55:11.005Z"
   },
   {
    "duration": 177,
    "start_time": "2022-11-29T17:55:11.183Z"
   },
   {
    "duration": 248,
    "start_time": "2022-11-29T17:55:11.362Z"
   },
   {
    "duration": 172,
    "start_time": "2022-11-29T17:55:11.612Z"
   },
   {
    "duration": 162,
    "start_time": "2022-11-29T17:55:11.785Z"
   },
   {
    "duration": 181,
    "start_time": "2022-11-29T17:55:11.948Z"
   },
   {
    "duration": 189,
    "start_time": "2022-11-29T17:55:12.131Z"
   },
   {
    "duration": 120,
    "start_time": "2022-11-29T17:55:12.322Z"
   },
   {
    "duration": 161,
    "start_time": "2022-11-29T17:55:12.444Z"
   },
   {
    "duration": 149,
    "start_time": "2022-11-29T17:55:12.608Z"
   },
   {
    "duration": 162,
    "start_time": "2022-11-29T17:55:12.758Z"
   },
   {
    "duration": 166,
    "start_time": "2022-11-29T17:55:12.921Z"
   },
   {
    "duration": 160,
    "start_time": "2022-11-29T17:55:13.089Z"
   },
   {
    "duration": 273,
    "start_time": "2022-11-29T17:55:13.251Z"
   },
   {
    "duration": 242,
    "start_time": "2022-11-29T17:55:13.526Z"
   },
   {
    "duration": 153,
    "start_time": "2022-11-29T17:55:13.770Z"
   },
   {
    "duration": 34,
    "start_time": "2022-11-29T17:55:13.924Z"
   },
   {
    "duration": 52,
    "start_time": "2022-11-29T17:55:13.960Z"
   },
   {
    "duration": 140,
    "start_time": "2022-11-29T17:55:14.013Z"
   },
   {
    "duration": 159,
    "start_time": "2022-11-29T17:55:14.155Z"
   },
   {
    "duration": 167,
    "start_time": "2022-11-29T17:55:14.315Z"
   },
   {
    "duration": 144,
    "start_time": "2022-11-29T17:55:14.483Z"
   },
   {
    "duration": 535,
    "start_time": "2022-11-29T17:55:14.629Z"
   },
   {
    "duration": 13,
    "start_time": "2022-11-29T17:55:15.166Z"
   },
   {
    "duration": 317,
    "start_time": "2022-11-29T17:55:15.180Z"
   },
   {
    "duration": 15,
    "start_time": "2022-11-29T17:55:15.499Z"
   },
   {
    "duration": 3,
    "start_time": "2022-11-29T17:55:15.516Z"
   },
   {
    "duration": 164,
    "start_time": "2022-11-29T17:55:15.520Z"
   },
   {
    "duration": 209,
    "start_time": "2022-11-29T17:55:15.686Z"
   },
   {
    "duration": 959,
    "start_time": "2022-11-29T17:55:15.897Z"
   },
   {
    "duration": 12,
    "start_time": "2022-11-29T17:55:16.858Z"
   },
   {
    "duration": 2436,
    "start_time": "2022-11-29T17:55:50.440Z"
   },
   {
    "duration": 2426,
    "start_time": "2022-11-29T17:55:55.003Z"
   }
  ],
  "kernelspec": {
   "display_name": "Python 3 (ipykernel)",
   "language": "python",
   "name": "python3"
  },
  "language_info": {
   "codemirror_mode": {
    "name": "ipython",
    "version": 3
   },
   "file_extension": ".py",
   "mimetype": "text/x-python",
   "name": "python",
   "nbconvert_exporter": "python",
   "pygments_lexer": "ipython3",
   "version": "3.9.5"
  },
  "toc": {
   "base_numbering": 1,
   "nav_menu": {},
   "number_sections": true,
   "sideBar": true,
   "skip_h1_title": true,
   "title_cell": "Table of Contents",
   "title_sidebar": "Contents",
   "toc_cell": false,
   "toc_position": {},
   "toc_section_display": true,
   "toc_window_display": false
  }
 },
 "nbformat": 4,
 "nbformat_minor": 2
}
